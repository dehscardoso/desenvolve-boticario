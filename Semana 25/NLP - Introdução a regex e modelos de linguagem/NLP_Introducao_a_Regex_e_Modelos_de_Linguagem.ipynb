{
 "cells": [
  {
   "cell_type": "markdown",
   "metadata": {},
   "source": [
    "<img src = \"https://images2.imgbox.com/32/ac/wucGkuem_o.png\" width=\"300\">"
   ]
  },
  {
   "cell_type": "code",
   "execution_count": 1,
   "metadata": {},
   "outputs": [],
   "source": [
    "import pandas as pd"
   ]
  },
  {
   "cell_type": "code",
   "execution_count": 2,
   "metadata": {
    "colab": {},
    "colab_type": "code",
    "id": "6dxLisCjomQe",
    "outputId": "7296304d-30b8-4c95-8e03-b02d20859285"
   },
   "outputs": [],
   "source": [
    "dados_portugues = pd.read_csv(\"data/stackoverflow_portugues.csv\")\n",
    "dados_ingles = pd.read_csv(\"data/stackoverflow_ingles.csv\")\n",
    "dados_espanhol = pd.read_csv(\"data/stackoverflow_espanhol.csv\")"
   ]
  },
  {
   "cell_type": "markdown",
   "metadata": {},
   "source": [
    "### Visualizando dataframes"
   ]
  },
  {
   "cell_type": "code",
   "execution_count": 3,
   "metadata": {},
   "outputs": [
    {
     "data": {
      "text/html": [
       "<div>\n",
       "<style scoped>\n",
       "    .dataframe tbody tr th:only-of-type {\n",
       "        vertical-align: middle;\n",
       "    }\n",
       "\n",
       "    .dataframe tbody tr th {\n",
       "        vertical-align: top;\n",
       "    }\n",
       "\n",
       "    .dataframe thead th {\n",
       "        text-align: right;\n",
       "    }\n",
       "</style>\n",
       "<table border=\"1\" class=\"dataframe\">\n",
       "  <thead>\n",
       "    <tr style=\"text-align: right;\">\n",
       "      <th></th>\n",
       "      <th>Id</th>\n",
       "      <th>Título</th>\n",
       "      <th>Questão</th>\n",
       "      <th>Tags</th>\n",
       "      <th>Pontuação</th>\n",
       "      <th>Visualizações</th>\n",
       "    </tr>\n",
       "  </thead>\n",
       "  <tbody>\n",
       "    <tr>\n",
       "      <th>0</th>\n",
       "      <td>2402</td>\n",
       "      <td>Como fazer hash de senhas de forma segura?</td>\n",
       "      <td>&lt;p&gt;Se eu fizer o &lt;em&gt;&lt;a href=\"http://pt.wikipe...</td>\n",
       "      <td>&lt;hash&gt;&lt;segurança&gt;&lt;senhas&gt;&lt;criptografia&gt;</td>\n",
       "      <td>350</td>\n",
       "      <td>22367</td>\n",
       "    </tr>\n",
       "    <tr>\n",
       "      <th>1</th>\n",
       "      <td>6441</td>\n",
       "      <td>Qual é a diferença entre INNER JOIN e OUTER JOIN?</td>\n",
       "      <td>&lt;p&gt;Qual é a diferença entre &lt;code&gt;INNER JOIN&lt;/...</td>\n",
       "      <td>&lt;sql&gt;&lt;join&gt;</td>\n",
       "      <td>276</td>\n",
       "      <td>176953</td>\n",
       "    </tr>\n",
       "    <tr>\n",
       "      <th>2</th>\n",
       "      <td>579</td>\n",
       "      <td>Por que não devemos usar funções do tipo mysql_*?</td>\n",
       "      <td>&lt;p&gt;Uma dúvida muito comum é por que devemos pa...</td>\n",
       "      <td>&lt;php&gt;&lt;mysql&gt;</td>\n",
       "      <td>226</td>\n",
       "      <td>9761</td>\n",
       "    </tr>\n",
       "    <tr>\n",
       "      <th>3</th>\n",
       "      <td>2539</td>\n",
       "      <td>As mensagens de erro devem se desculpar?</td>\n",
       "      <td>&lt;p&gt;É comum encontrar uma mensagem de erro que ...</td>\n",
       "      <td>&lt;aplicação-web&gt;&lt;gui&gt;&lt;console&gt;&lt;ux&gt;</td>\n",
       "      <td>214</td>\n",
       "      <td>5075</td>\n",
       "    </tr>\n",
       "    <tr>\n",
       "      <th>4</th>\n",
       "      <td>17501</td>\n",
       "      <td>Qual é a diferença de API, biblioteca e Framew...</td>\n",
       "      <td>&lt;p&gt;Me parecem termos muito próximos e eventual...</td>\n",
       "      <td>&lt;api&gt;&lt;framework&gt;&lt;terminologia&gt;&lt;biblioteca&gt;</td>\n",
       "      <td>193</td>\n",
       "      <td>54191</td>\n",
       "    </tr>\n",
       "  </tbody>\n",
       "</table>\n",
       "</div>"
      ],
      "text/plain": [
       "      Id                                             Título  \\\n",
       "0   2402         Como fazer hash de senhas de forma segura?   \n",
       "1   6441  Qual é a diferença entre INNER JOIN e OUTER JOIN?   \n",
       "2    579  Por que não devemos usar funções do tipo mysql_*?   \n",
       "3   2539           As mensagens de erro devem se desculpar?   \n",
       "4  17501  Qual é a diferença de API, biblioteca e Framew...   \n",
       "\n",
       "                                             Questão  \\\n",
       "0  <p>Se eu fizer o <em><a href=\"http://pt.wikipe...   \n",
       "1  <p>Qual é a diferença entre <code>INNER JOIN</...   \n",
       "2  <p>Uma dúvida muito comum é por que devemos pa...   \n",
       "3  <p>É comum encontrar uma mensagem de erro que ...   \n",
       "4  <p>Me parecem termos muito próximos e eventual...   \n",
       "\n",
       "                                         Tags  Pontuação  Visualizações  \n",
       "0     <hash><segurança><senhas><criptografia>        350          22367  \n",
       "1                                 <sql><join>        276         176953  \n",
       "2                                <php><mysql>        226           9761  \n",
       "3           <aplicação-web><gui><console><ux>        214           5075  \n",
       "4  <api><framework><terminologia><biblioteca>        193          54191  "
      ]
     },
     "execution_count": 3,
     "metadata": {},
     "output_type": "execute_result"
    }
   ],
   "source": [
    "dados_portugues.head()"
   ]
  },
  {
   "cell_type": "code",
   "execution_count": 4,
   "metadata": {},
   "outputs": [
    {
     "data": {
      "text/html": [
       "<div>\n",
       "<style scoped>\n",
       "    .dataframe tbody tr th:only-of-type {\n",
       "        vertical-align: middle;\n",
       "    }\n",
       "\n",
       "    .dataframe tbody tr th {\n",
       "        vertical-align: top;\n",
       "    }\n",
       "\n",
       "    .dataframe thead th {\n",
       "        text-align: right;\n",
       "    }\n",
       "</style>\n",
       "<table border=\"1\" class=\"dataframe\">\n",
       "  <thead>\n",
       "    <tr style=\"text-align: right;\">\n",
       "      <th></th>\n",
       "      <th>Id</th>\n",
       "      <th>Título</th>\n",
       "      <th>Questão</th>\n",
       "      <th>Tags</th>\n",
       "      <th>Pontuação</th>\n",
       "      <th>Visualizações</th>\n",
       "    </tr>\n",
       "  </thead>\n",
       "  <tbody>\n",
       "    <tr>\n",
       "      <th>0</th>\n",
       "      <td>11227809</td>\n",
       "      <td>Why is it faster to process a sorted array tha...</td>\n",
       "      <td>&lt;p&gt;Here is a piece of C++ code that seems very...</td>\n",
       "      <td>&lt;java&gt;&lt;c++&gt;&lt;performance&gt;&lt;optimization&gt;&lt;branch-...</td>\n",
       "      <td>23057</td>\n",
       "      <td>1358574</td>\n",
       "    </tr>\n",
       "    <tr>\n",
       "      <th>1</th>\n",
       "      <td>927358</td>\n",
       "      <td>How do I undo the most recent local commits in...</td>\n",
       "      <td>&lt;p&gt;I accidentally committed the wrong files to...</td>\n",
       "      <td>&lt;git&gt;&lt;version-control&gt;&lt;git-commit&gt;&lt;undo&gt;</td>\n",
       "      <td>19640</td>\n",
       "      <td>7906137</td>\n",
       "    </tr>\n",
       "    <tr>\n",
       "      <th>2</th>\n",
       "      <td>2003505</td>\n",
       "      <td>How do I delete a Git branch locally and remot...</td>\n",
       "      <td>&lt;p&gt;I want to delete a branch both locally and ...</td>\n",
       "      <td>&lt;git&gt;&lt;git-branch&gt;&lt;git-remote&gt;</td>\n",
       "      <td>15249</td>\n",
       "      <td>6940906</td>\n",
       "    </tr>\n",
       "    <tr>\n",
       "      <th>3</th>\n",
       "      <td>292357</td>\n",
       "      <td>What is the difference between 'git pull' and ...</td>\n",
       "      <td>&lt;blockquote&gt;\\n  &lt;p&gt;&lt;strong&gt;Moderator Note:&lt;/st...</td>\n",
       "      <td>&lt;git&gt;&lt;git-pull&gt;&lt;git-fetch&gt;</td>\n",
       "      <td>11008</td>\n",
       "      <td>2543052</td>\n",
       "    </tr>\n",
       "    <tr>\n",
       "      <th>4</th>\n",
       "      <td>477816</td>\n",
       "      <td>What is the correct JSON content type?</td>\n",
       "      <td>&lt;p&gt;I've been messing around with &lt;a href=\"http...</td>\n",
       "      <td>&lt;json&gt;&lt;http-headers&gt;&lt;content-type&gt;</td>\n",
       "      <td>9701</td>\n",
       "      <td>2478940</td>\n",
       "    </tr>\n",
       "  </tbody>\n",
       "</table>\n",
       "</div>"
      ],
      "text/plain": [
       "         Id                                             Título  \\\n",
       "0  11227809  Why is it faster to process a sorted array tha...   \n",
       "1    927358  How do I undo the most recent local commits in...   \n",
       "2   2003505  How do I delete a Git branch locally and remot...   \n",
       "3    292357  What is the difference between 'git pull' and ...   \n",
       "4    477816             What is the correct JSON content type?   \n",
       "\n",
       "                                             Questão  \\\n",
       "0  <p>Here is a piece of C++ code that seems very...   \n",
       "1  <p>I accidentally committed the wrong files to...   \n",
       "2  <p>I want to delete a branch both locally and ...   \n",
       "3  <blockquote>\\n  <p><strong>Moderator Note:</st...   \n",
       "4  <p>I've been messing around with <a href=\"http...   \n",
       "\n",
       "                                                Tags  Pontuação  Visualizações  \n",
       "0  <java><c++><performance><optimization><branch-...      23057        1358574  \n",
       "1           <git><version-control><git-commit><undo>      19640        7906137  \n",
       "2                      <git><git-branch><git-remote>      15249        6940906  \n",
       "3                         <git><git-pull><git-fetch>      11008        2543052  \n",
       "4                 <json><http-headers><content-type>       9701        2478940  "
      ]
     },
     "execution_count": 4,
     "metadata": {},
     "output_type": "execute_result"
    }
   ],
   "source": [
    "dados_ingles.head()"
   ]
  },
  {
   "cell_type": "code",
   "execution_count": 5,
   "metadata": {},
   "outputs": [
    {
     "data": {
      "text/html": [
       "<div>\n",
       "<style scoped>\n",
       "    .dataframe tbody tr th:only-of-type {\n",
       "        vertical-align: middle;\n",
       "    }\n",
       "\n",
       "    .dataframe tbody tr th {\n",
       "        vertical-align: top;\n",
       "    }\n",
       "\n",
       "    .dataframe thead th {\n",
       "        text-align: right;\n",
       "    }\n",
       "</style>\n",
       "<table border=\"1\" class=\"dataframe\">\n",
       "  <thead>\n",
       "    <tr style=\"text-align: right;\">\n",
       "      <th></th>\n",
       "      <th>Id</th>\n",
       "      <th>Título</th>\n",
       "      <th>Questão</th>\n",
       "      <th>Tags</th>\n",
       "      <th>Pontuação</th>\n",
       "      <th>Visualizações</th>\n",
       "    </tr>\n",
       "  </thead>\n",
       "  <tbody>\n",
       "    <tr>\n",
       "      <th>0</th>\n",
       "      <td>18232</td>\n",
       "      <td>¿Cómo evitar la inyección SQL en PHP?</td>\n",
       "      <td>&lt;p&gt;Las sentencias dinámicas son sentencias SQL...</td>\n",
       "      <td>&lt;php&gt;&lt;mysql&gt;&lt;sql&gt;&lt;seguridad&gt;&lt;inyección-sql&gt;</td>\n",
       "      <td>169</td>\n",
       "      <td>38614</td>\n",
       "    </tr>\n",
       "    <tr>\n",
       "      <th>1</th>\n",
       "      <td>197</td>\n",
       "      <td>¿Por qué mis programas no pueden hacer cálculo...</td>\n",
       "      <td>&lt;p&gt;Unas veces los cálculos funcionan correctam...</td>\n",
       "      <td>&lt;matemáticas&gt;&lt;coma-flotante&gt;&lt;lenguaje-agnóstico&gt;</td>\n",
       "      <td>141</td>\n",
       "      <td>3860</td>\n",
       "    </tr>\n",
       "    <tr>\n",
       "      <th>2</th>\n",
       "      <td>36</td>\n",
       "      <td>¿Cuál es la diferencia entre un inner y un out...</td>\n",
       "      <td>&lt;p&gt;¿Cuál es la diferencia entre un &lt;code&gt;inner...</td>\n",
       "      <td>&lt;mysql&gt;&lt;sql&gt;&lt;join&gt;</td>\n",
       "      <td>97</td>\n",
       "      <td>53627</td>\n",
       "    </tr>\n",
       "    <tr>\n",
       "      <th>3</th>\n",
       "      <td>29177</td>\n",
       "      <td>¿Por qué es considerado una mala práctica util...</td>\n",
       "      <td>&lt;p&gt;La mayoría de nosotros decimos, (muchas vec...</td>\n",
       "      <td>&lt;variables&gt;&lt;variables-globales&gt;&lt;patrones-de-di...</td>\n",
       "      <td>89</td>\n",
       "      <td>9987</td>\n",
       "    </tr>\n",
       "    <tr>\n",
       "      <th>4</th>\n",
       "      <td>142</td>\n",
       "      <td>Validar un email en JavaScript que acepte todo...</td>\n",
       "      <td>&lt;h3&gt;Pregunta&lt;/h3&gt;\\n\\n&lt;p&gt;¿Cómo validar un e-mai...</td>\n",
       "      <td>&lt;javascript&gt;&lt;validación&gt;&lt;email&gt;&lt;regex&gt;</td>\n",
       "      <td>87</td>\n",
       "      <td>73129</td>\n",
       "    </tr>\n",
       "  </tbody>\n",
       "</table>\n",
       "</div>"
      ],
      "text/plain": [
       "      Id                                             Título  \\\n",
       "0  18232              ¿Cómo evitar la inyección SQL en PHP?   \n",
       "1    197  ¿Por qué mis programas no pueden hacer cálculo...   \n",
       "2     36  ¿Cuál es la diferencia entre un inner y un out...   \n",
       "3  29177  ¿Por qué es considerado una mala práctica util...   \n",
       "4    142  Validar un email en JavaScript que acepte todo...   \n",
       "\n",
       "                                             Questão  \\\n",
       "0  <p>Las sentencias dinámicas son sentencias SQL...   \n",
       "1  <p>Unas veces los cálculos funcionan correctam...   \n",
       "2  <p>¿Cuál es la diferencia entre un <code>inner...   \n",
       "3  <p>La mayoría de nosotros decimos, (muchas vec...   \n",
       "4  <h3>Pregunta</h3>\\n\\n<p>¿Cómo validar un e-mai...   \n",
       "\n",
       "                                                Tags  Pontuação  Visualizações  \n",
       "0        <php><mysql><sql><seguridad><inyección-sql>        169          38614  \n",
       "1   <matemáticas><coma-flotante><lenguaje-agnóstico>        141           3860  \n",
       "2                                 <mysql><sql><join>         97          53627  \n",
       "3  <variables><variables-globales><patrones-de-di...         89           9987  \n",
       "4             <javascript><validación><email><regex>         87          73129  "
      ]
     },
     "execution_count": 5,
     "metadata": {},
     "output_type": "execute_result"
    }
   ],
   "source": [
    "dados_espanhol.head()"
   ]
  },
  {
   "cell_type": "markdown",
   "metadata": {},
   "source": [
    "### Visualizando questões\n",
    "\n",
    "Às vezes, quando lidamos com aplicações e processamento de linguagem natural temos bancos de dados gigantescos e precisamos lidar com eles de forma mais rápida e precisa. No entanto, não temos só texto nas questões, mas tags e trechos de código. Uma forma interessante de realizar esse tratamento é através das expressões regulares, ou Regex. "
   ]
  },
  {
   "cell_type": "code",
   "execution_count": 6,
   "metadata": {
    "colab": {},
    "colab_type": "code",
    "id": "bgdV-O56omQ2",
    "outputId": "74fffbe3-7d7d-4531-c266-74cbdf069212"
   },
   "outputs": [],
   "source": [
    "questao_portugues = dados_portugues.Questão[5]"
   ]
  },
  {
   "cell_type": "code",
   "execution_count": 7,
   "metadata": {},
   "outputs": [
    {
     "name": "stdout",
     "output_type": "stream",
     "text": [
      "<p>Desenvolvi uma página em PHP para uso interno da empresa que trabalho e apenas pouquíssimas pessoas a utilizam. Através dessa página é possível fazer algumas consultas, inserções, alterações e remoções de dados de uma tabela em um banco de dados MySQL, porém eu acredito que meu código em PHP não está protegido contra injeção de código SQL, por exemplo:</p>\n",
      "\n",
      "<pre><code>//----CONSULTA SQL----//\n",
      "$busca = mysql_query ('insert into Produtos (coluna) values(' . $valor . ')');\n",
      "</code></pre>\n",
      "\n",
      "<p>Logo, digamos que o usuário usar a sentença: <code>1); DROP TABLE Produtos;</code> para ao campo <code>valor</code> o comando ficaria: </p>\n",
      "\n",
      "<pre><code>insert into Produtos (coluna) values(1); DROP TABLE Produtos;\n",
      "</code></pre>\n",
      "\n",
      "<p>Ele vai inserir um novo registro cujo o campo <code>coluna</code> será <code>1</code> e logo em seguida ele vai deletar a tabela Produtos.</p>\n",
      "\n",
      "<p>Como posso melhorar meu código para prevenir essa situação?</p>\n",
      "\n"
     ]
    }
   ],
   "source": [
    "print(questao_portugues)"
   ]
  },
  {
   "cell_type": "code",
   "execution_count": 8,
   "metadata": {
    "colab": {},
    "colab_type": "code",
    "id": "p8EVorc_omRW",
    "outputId": "f88a67d0-3c5e-4518-f18b-a0c6a7094e1f"
   },
   "outputs": [],
   "source": [
    "questao_ingles = dados_ingles.Questão[0]"
   ]
  },
  {
   "cell_type": "code",
   "execution_count": 9,
   "metadata": {},
   "outputs": [
    {
     "name": "stdout",
     "output_type": "stream",
     "text": [
      "<p>Here is a piece of C++ code that seems very peculiar. For some strange reason, sorting the data miraculously makes the code almost six times faster.</p>\n",
      "\n",
      "<pre class=\"lang-cpp prettyprint-override\"><code>#include &lt;algorithm&gt;\n",
      "#include &lt;ctime&gt;\n",
      "#include &lt;iostream&gt;\n",
      "\n",
      "int main()\n",
      "{\n",
      "    // Generate data\n",
      "    const unsigned arraySize = 32768;\n",
      "    int data[arraySize];\n",
      "\n",
      "    for (unsigned c = 0; c &lt; arraySize; ++c)\n",
      "        data[c] = std::rand() % 256;\n",
      "\n",
      "    // !!! With this, the next loop runs faster\n",
      "    std::sort(data, data + arraySize);\n",
      "\n",
      "    // Test\n",
      "    clock_t start = clock();\n",
      "    long long sum = 0;\n",
      "\n",
      "    for (unsigned i = 0; i &lt; 100000; ++i)\n",
      "    {\n",
      "        // Primary loop\n",
      "        for (unsigned c = 0; c &lt; arraySize; ++c)\n",
      "        {\n",
      "            if (data[c] &gt;= 128)\n",
      "                sum += data[c];\n",
      "        }\n",
      "    }\n",
      "\n",
      "    double elapsedTime = static_cast&lt;double&gt;(clock() - start) / CLOCKS_PER_SEC;\n",
      "\n",
      "    std::cout &lt;&lt; elapsedTime &lt;&lt; std::endl;\n",
      "    std::cout &lt;&lt; \"sum = \" &lt;&lt; sum &lt;&lt; std::endl;\n",
      "}\n",
      "</code></pre>\n",
      "\n",
      "<ul>\n",
      "<li>Without <code>std::sort(data, data + arraySize);</code>, the code runs in 11.54 seconds.</li>\n",
      "<li>With the sorted data, the code runs in 1.93 seconds.</li>\n",
      "</ul>\n",
      "\n",
      "<p>Initially, I thought this might be just a language or compiler anomaly. So I tried it in Java.</p>\n",
      "\n",
      "<pre class=\"lang-java prettyprint-override\"><code>import java.util.Arrays;\n",
      "import java.util.Random;\n",
      "\n",
      "public class Main\n",
      "{\n",
      "    public static void main(String[] args)\n",
      "    {\n",
      "        // Generate data\n",
      "        int arraySize = 32768;\n",
      "        int data[] = new int[arraySize];\n",
      "\n",
      "        Random rnd = new Random(0);\n",
      "        for (int c = 0; c &lt; arraySize; ++c)\n",
      "            data[c] = rnd.nextInt() % 256;\n",
      "\n",
      "        // !!! With this, the next loop runs faster\n",
      "        Arrays.sort(data);\n",
      "\n",
      "        // Test\n",
      "        long start = System.nanoTime();\n",
      "        long sum = 0;\n",
      "\n",
      "        for (int i = 0; i &lt; 100000; ++i)\n",
      "        {\n",
      "            // Primary loop\n",
      "            for (int c = 0; c &lt; arraySize; ++c)\n",
      "            {\n",
      "                if (data[c] &gt;= 128)\n",
      "                    sum += data[c];\n",
      "            }\n",
      "        }\n",
      "\n",
      "        System.out.println((System.nanoTime() - start) / 1000000000.0);\n",
      "        System.out.println(\"sum = \" + sum);\n",
      "    }\n",
      "}\n",
      "</code></pre>\n",
      "\n",
      "<p>With a somewhat similar but less extreme result.</p>\n",
      "\n",
      "<hr>\n",
      "\n",
      "<p>My first thought was that sorting brings the data into the cache, but then I thought how silly that is because the array was just generated.</p>\n",
      "\n",
      "<ul>\n",
      "<li>What is going on?</li>\n",
      "<li>Why is it faster to process a sorted array than an unsorted array?</li>\n",
      "<li>The code is summing up some independent terms, and the order should not matter.</li>\n",
      "</ul>\n",
      "\n"
     ]
    }
   ],
   "source": [
    "print(questao_ingles)"
   ]
  },
  {
   "cell_type": "code",
   "execution_count": 10,
   "metadata": {
    "colab": {},
    "colab_type": "code",
    "id": "91ObOGS5omRz",
    "outputId": "a11b40c0-b424-45e7-f82e-eea2ab07397f",
    "scrolled": false
   },
   "outputs": [],
   "source": [
    "questao_espanhol = dados_espanhol.Questão[0]"
   ]
  },
  {
   "cell_type": "code",
   "execution_count": 11,
   "metadata": {},
   "outputs": [
    {
     "name": "stdout",
     "output_type": "stream",
     "text": [
      "<p>Las sentencias dinámicas son sentencias SQL que se crean como cadenas de texto (strings) y en las que se insertan/concatenan valores obtenidos de alguna fuente (normalmente proveniente del usuario), lo que puede hacer que sean vulnerables a inyección SQL si no se sanean las entradas, como por ejemplo:</p>\n",
      "\n",
      "<pre><code>$id_usuario = $_POST[\"id\"];\n",
      "\n",
      "mysql_query(\"SELECT * FROM usuarios WHERE id = $id_usuario\");\n",
      "</code></pre>\n",
      "\n",
      "<p>Eso es un ejemplo de una vulnerabilidad grave en la seguridad de una aplicación (web o no) porque si el usuario introdujese un valor como <code>1; DROP TABLE usuarios;--</code> nos encontraríamos con que la sentencia ejecutada sería:</p>\n",
      "\n",
      "<pre><code>SELECT * FROM usuarios WHERE id = 1; DROP TABLE usuarios;--\n",
      "</code></pre>\n",
      "\n",
      "<p>Y se eliminaría la tabla Usuarios con todos los datos contenidos en ella. </p>\n",
      "\n",
      "<p><strong>¿Cómo puedo evitar que la inyección SQL ocurra en PHP?</strong></p>\n",
      "\n"
     ]
    }
   ],
   "source": [
    "print(questao_espanhol)"
   ]
  },
  {
   "cell_type": "markdown",
   "metadata": {},
   "source": [
    "### Regex em Python"
   ]
  },
  {
   "cell_type": "code",
   "execution_count": 12,
   "metadata": {
    "colab": {},
    "colab_type": "code",
    "id": "M6umvpVpomR-",
    "outputId": "a0770ec0-9121-496b-8253-0494cbb89304"
   },
   "outputs": [
    {
     "data": {
      "text/plain": [
       "['<p>',\n",
       " '</p>',\n",
       " '<pre>',\n",
       " '<code>',\n",
       " '</code>',\n",
       " '</pre>',\n",
       " '<p>',\n",
       " '<code>',\n",
       " '</code>',\n",
       " '<code>',\n",
       " '</code>',\n",
       " '</p>',\n",
       " '<pre>',\n",
       " '<code>',\n",
       " '</code>',\n",
       " '</pre>',\n",
       " '<p>',\n",
       " '<code>',\n",
       " '</code>',\n",
       " '<code>',\n",
       " '</code>',\n",
       " '</p>',\n",
       " '<p>',\n",
       " '</p>']"
      ]
     },
     "execution_count": 12,
     "metadata": {},
     "output_type": "execute_result"
    }
   ],
   "source": [
    "import re\n",
    "re.findall(r\"<.*?>\", questao_portugues)"
   ]
  },
  {
   "cell_type": "code",
   "execution_count": 13,
   "metadata": {
    "colab": {},
    "colab_type": "code",
    "id": "8EFPzySBomSH",
    "outputId": "e7b8e31f-1ad1-452f-bd40-3b8a2e101589"
   },
   "outputs": [
    {
     "name": "stdout",
     "output_type": "stream",
     "text": [
      "<p>Desenvolvi uma página em PHP para uso interno da empresa que trabalho e apenas pouquíssimas pessoas a utilizam. Através dessa página é possível fazer algumas consultas, inserções, alterações e remoções de dados de uma tabela em um banco de dados MySQL, porém eu acredito que meu código em PHP não está protegido contra injeção de código SQL, por exemplo:</p>\n",
      "\n",
      "<pre><code>//----CONSULTA SQL----//\n",
      "$busca = mysql_query ('insert into Produtos (coluna) values(' . $valor . ')');\n",
      "</code></pre>\n",
      "\n",
      "<p>Logo, digamos que o usuário usar a sentença: <code>1); DROP TABLE Produtos;</code> para ao campo <code>valor</code> o comando ficaria: </p>\n",
      "\n",
      "<pre><code>insert into Produtos (coluna) values(1); DROP TABLE Produtos;\n",
      "</code></pre>\n",
      "\n",
      "<p>Ele vai inserir um novo registro cujo o campo <code>coluna</code> será <code>1</code> e logo em seguida ele vai deletar a tabela Produtos.</p>\n",
      "\n",
      "<p>Como posso melhorar meu código para prevenir essa situação?</p>\n",
      "\n"
     ]
    }
   ],
   "source": [
    "print(questao_portugues)"
   ]
  },
  {
   "cell_type": "code",
   "execution_count": 14,
   "metadata": {
    "colab": {},
    "colab_type": "code",
    "id": "m4uKuMTfomST",
    "outputId": "26970aa4-04bd-4456-bc94-34e41b9851f7"
   },
   "outputs": [
    {
     "name": "stdout",
     "output_type": "stream",
     "text": [
      "  T----E----S----T----E  Desenvolvi uma página em PHP para uso interno da empresa que trabalho e apenas pouquíssimas pessoas a utilizam. Através dessa página é possível fazer algumas consultas, inserções, alterações e remoções de dados de uma tabela em um banco de dados MySQL, porém eu acredito que meu código em PHP não está protegido contra injeção de código SQL, por exemplo:  T----E----S----T----E  \n",
      "\n",
      "  T----E----S----T----E    T----E----S----T----E  //----CONSULTA SQL----//\n",
      "$busca = mysql_query ('insert into Produtos (coluna) values(' . $valor . ')');\n",
      "  T----E----S----T----E    T----E----S----T----E  \n",
      "\n",
      "  T----E----S----T----E  Logo, digamos que o usuário usar a sentença:   T----E----S----T----E  1); DROP TABLE Produtos;  T----E----S----T----E   para ao campo   T----E----S----T----E  valor  T----E----S----T----E   o comando ficaria:   T----E----S----T----E  \n",
      "\n",
      "  T----E----S----T----E    T----E----S----T----E  insert into Produtos (coluna) values(1); DROP TABLE Produtos;\n",
      "  T----E----S----T----E    T----E----S----T----E  \n",
      "\n",
      "  T----E----S----T----E  Ele vai inserir um novo registro cujo o campo   T----E----S----T----E  coluna  T----E----S----T----E   será   T----E----S----T----E  1  T----E----S----T----E   e logo em seguida ele vai deletar a tabela Produtos.  T----E----S----T----E  \n",
      "\n",
      "  T----E----S----T----E  Como posso melhorar meu código para prevenir essa situação?  T----E----S----T----E  \n",
      "\n"
     ]
    }
   ],
   "source": [
    "texto_teste = re.sub(r\"<.*?>\",\"  T----E----S----T----E  \",questao_portugues)\n",
    "print(texto_teste)"
   ]
  },
  {
   "cell_type": "code",
   "execution_count": 15,
   "metadata": {
    "colab": {},
    "colab_type": "code",
    "id": "SXIJmTONomSd",
    "outputId": "2f8148b8-e8f1-458c-ac73-352d8271adf9"
   },
   "outputs": [
    {
     "data": {
      "text/plain": [
       "<re.Match object; span=(36, 38), match='70'>"
      ]
     },
     "execution_count": 15,
     "metadata": {},
     "output_type": "execute_result"
    }
   ],
   "source": [
    "re.search(r\"70\",\"18728736187263817628631872638716283670\")"
   ]
  },
  {
   "cell_type": "code",
   "execution_count": 16,
   "metadata": {
    "colab": {},
    "colab_type": "code",
    "id": "ck6-XKotomSt"
   },
   "outputs": [],
   "source": [
    "regex = re.compile(r\"70\")"
   ]
  },
  {
   "cell_type": "code",
   "execution_count": 17,
   "metadata": {
    "colab": {},
    "colab_type": "code",
    "id": "EnTAIqjzomS7",
    "outputId": "56e95acd-b132-45c9-cc7f-dab05c4dd5f0"
   },
   "outputs": [
    {
     "data": {
      "text/plain": [
       "<re.Match object; span=(36, 38), match='70'>"
      ]
     },
     "execution_count": 17,
     "metadata": {},
     "output_type": "execute_result"
    }
   ],
   "source": [
    "regex.search(\"18728736187263817628631872638716283670\")"
   ]
  },
  {
   "cell_type": "code",
   "execution_count": 18,
   "metadata": {
    "colab": {},
    "colab_type": "code",
    "id": "GDANb70WomTJ"
   },
   "outputs": [],
   "source": [
    "from timeit import timeit"
   ]
  },
  {
   "cell_type": "code",
   "execution_count": 19,
   "metadata": {
    "colab": {},
    "colab_type": "code",
    "id": "guBginBRomTR",
    "outputId": "625b333a-d482-456e-ce02-65964a8ca1bf"
   },
   "outputs": [
    {
     "data": {
      "text/plain": [
       "0.5542191000000001"
      ]
     },
     "execution_count": 19,
     "metadata": {},
     "output_type": "execute_result"
    }
   ],
   "source": [
    "setup = \"\"\"import re\"\"\"\n",
    "timeit(\"\"\"re.search(r\"70\",\"18728736187263817628631872638716283670\")\"\"\",\n",
    "      setup)"
   ]
  },
  {
   "cell_type": "code",
   "execution_count": 20,
   "metadata": {
    "colab": {},
    "colab_type": "code",
    "id": "JnOtt9vYomTb",
    "outputId": "f17422f2-9d14-444b-dfe2-e56f9a441bbc"
   },
   "outputs": [
    {
     "data": {
      "text/plain": [
       "0.18975929999999996"
      ]
     },
     "execution_count": 20,
     "metadata": {},
     "output_type": "execute_result"
    }
   ],
   "source": [
    "setup = \"\"\"import re\n",
    "regex = re.compile(r\"70\")\"\"\"\n",
    "\n",
    "timeit(\"\"\"regex.search(\"18728736187263817628631872638716283670\")\"\"\",\n",
    "      setup)"
   ]
  },
  {
   "cell_type": "markdown",
   "metadata": {
    "colab_type": "text",
    "id": "LPQm_-cNxcl9"
   },
   "source": [
    "### Removendo tags"
   ]
  },
  {
   "cell_type": "code",
   "execution_count": 21,
   "metadata": {
    "colab": {},
    "colab_type": "code",
    "id": "RoFPfZiWomTl"
   },
   "outputs": [],
   "source": [
    "def remover(textos, regex):\n",
    "    if type(textos) == str:\n",
    "        return regex.sub(\"\", textos)\n",
    "    else:\n",
    "        return [regex.sub(\"\", texto) for texto in textos]"
   ]
  },
  {
   "cell_type": "code",
   "execution_count": 22,
   "metadata": {
    "colab": {},
    "colab_type": "code",
    "id": "f7vUPlIXomTt",
    "outputId": "75f50318-04ea-45bf-809b-a364d42231e8"
   },
   "outputs": [
    {
     "name": "stdout",
     "output_type": "stream",
     "text": [
      "Here is a piece of C++ code that seems very peculiar. For some strange reason, sorting the data miraculously makes the code almost six times faster.\n",
      "\n",
      "#include &lt;algorithm&gt;\n",
      "#include &lt;ctime&gt;\n",
      "#include &lt;iostream&gt;\n",
      "\n",
      "int main()\n",
      "{\n",
      "    // Generate data\n",
      "    const unsigned arraySize = 32768;\n",
      "    int data[arraySize];\n",
      "\n",
      "    for (unsigned c = 0; c &lt; arraySize; ++c)\n",
      "        data[c] = std::rand() % 256;\n",
      "\n",
      "    // !!! With this, the next loop runs faster\n",
      "    std::sort(data, data + arraySize);\n",
      "\n",
      "    // Test\n",
      "    clock_t start = clock();\n",
      "    long long sum = 0;\n",
      "\n",
      "    for (unsigned i = 0; i &lt; 100000; ++i)\n",
      "    {\n",
      "        // Primary loop\n",
      "        for (unsigned c = 0; c &lt; arraySize; ++c)\n",
      "        {\n",
      "            if (data[c] &gt;= 128)\n",
      "                sum += data[c];\n",
      "        }\n",
      "    }\n",
      "\n",
      "    double elapsedTime = static_cast&lt;double&gt;(clock() - start) / CLOCKS_PER_SEC;\n",
      "\n",
      "    std::cout &lt;&lt; elapsedTime &lt;&lt; std::endl;\n",
      "    std::cout &lt;&lt; \"sum = \" &lt;&lt; sum &lt;&lt; std::endl;\n",
      "}\n",
      "\n",
      "\n",
      "\n",
      "Without std::sort(data, data + arraySize);, the code runs in 11.54 seconds.\n",
      "With the sorted data, the code runs in 1.93 seconds.\n",
      "\n",
      "\n",
      "Initially, I thought this might be just a language or compiler anomaly. So I tried it in Java.\n",
      "\n",
      "import java.util.Arrays;\n",
      "import java.util.Random;\n",
      "\n",
      "public class Main\n",
      "{\n",
      "    public static void main(String[] args)\n",
      "    {\n",
      "        // Generate data\n",
      "        int arraySize = 32768;\n",
      "        int data[] = new int[arraySize];\n",
      "\n",
      "        Random rnd = new Random(0);\n",
      "        for (int c = 0; c &lt; arraySize; ++c)\n",
      "            data[c] = rnd.nextInt() % 256;\n",
      "\n",
      "        // !!! With this, the next loop runs faster\n",
      "        Arrays.sort(data);\n",
      "\n",
      "        // Test\n",
      "        long start = System.nanoTime();\n",
      "        long sum = 0;\n",
      "\n",
      "        for (int i = 0; i &lt; 100000; ++i)\n",
      "        {\n",
      "            // Primary loop\n",
      "            for (int c = 0; c &lt; arraySize; ++c)\n",
      "            {\n",
      "                if (data[c] &gt;= 128)\n",
      "                    sum += data[c];\n",
      "            }\n",
      "        }\n",
      "\n",
      "        System.out.println((System.nanoTime() - start) / 1000000000.0);\n",
      "        System.out.println(\"sum = \" + sum);\n",
      "    }\n",
      "}\n",
      "\n",
      "\n",
      "With a somewhat similar but less extreme result.\n",
      "\n",
      "\n",
      "\n",
      "My first thought was that sorting brings the data into the cache, but then I thought how silly that is because the array was just generated.\n",
      "\n",
      "\n",
      "What is going on?\n",
      "Why is it faster to process a sorted array than an unsorted array?\n",
      "The code is summing up some independent terms, and the order should not matter.\n",
      "\n",
      "\n"
     ]
    }
   ],
   "source": [
    "regex_html = re.compile(r\"<.*?>\")\n",
    "questao_sem_tag = remover(questao_ingles, regex_html)\n",
    "\n",
    "print(questao_sem_tag)"
   ]
  },
  {
   "cell_type": "code",
   "execution_count": 23,
   "metadata": {
    "colab": {},
    "colab_type": "code",
    "id": "aF3Peh78omT-",
    "outputId": "f806c801-2736-48f0-efaa-1355627cb7d1"
   },
   "outputs": [
    {
     "name": "stdout",
     "output_type": "stream",
     "text": [
      "<p>Here is a piece of C++ code that seems very peculiar. For some strange reason, sorting the data miraculously makes the code almost six times faster.</p>\n",
      "\n",
      "<pre class=\"lang-cpp prettyprint-override\"><code>#include &lt;algorithm&gt;\n",
      "#include &lt;ctime&gt;\n",
      "#include &lt;iostream&gt;\n",
      "\n",
      "int main()\n",
      "{\n",
      "    // Generate data\n",
      "    const unsigned arraySize = 32768;\n",
      "    int data[arraySize];\n",
      "\n",
      "    for (unsigned c = 0; c &lt; arraySize; ++c)\n",
      "        data[c] = std::rand() % 256;\n",
      "\n",
      "    // !!! With this, the next loop runs faster\n",
      "    std::sort(data, data + arraySize);\n",
      "\n",
      "    // Test\n",
      "    clock_t start = clock();\n",
      "    long long sum = 0;\n",
      "\n",
      "    for (unsigned i = 0; i &lt; 100000; ++i)\n",
      "    {\n",
      "        // Primary loop\n",
      "        for (unsigned c = 0; c &lt; arraySize; ++c)\n",
      "        {\n",
      "            if (data[c] &gt;= 128)\n",
      "                sum += data[c];\n",
      "        }\n",
      "    }\n",
      "\n",
      "    double elapsedTime = static_cast&lt;double&gt;(clock() - start) / CLOCKS_PER_SEC;\n",
      "\n",
      "    std::cout &lt;&lt; elapsedTime &lt;&lt; std::endl;\n",
      "    std::cout &lt;&lt; \"sum = \" &lt;&lt; sum &lt;&lt; std::endl;\n",
      "}\n",
      "</code></pre>\n",
      "\n",
      "<ul>\n",
      "<li>Without <code>std::sort(data, data + arraySize);</code>, the code runs in 11.54 seconds.</li>\n",
      "<li>With the sorted data, the code runs in 1.93 seconds.</li>\n",
      "</ul>\n",
      "\n",
      "<p>Initially, I thought this might be just a language or compiler anomaly. So I tried it in Java.</p>\n",
      "\n",
      "<pre class=\"lang-java prettyprint-override\"><code>import java.util.Arrays;\n",
      "import java.util.Random;\n",
      "\n",
      "public class Main\n",
      "{\n",
      "    public static void main(String[] args)\n",
      "    {\n",
      "        // Generate data\n",
      "        int arraySize = 32768;\n",
      "        int data[] = new int[arraySize];\n",
      "\n",
      "        Random rnd = new Random(0);\n",
      "        for (int c = 0; c &lt; arraySize; ++c)\n",
      "            data[c] = rnd.nextInt() % 256;\n",
      "\n",
      "        // !!! With this, the next loop runs faster\n",
      "        Arrays.sort(data);\n",
      "\n",
      "        // Test\n",
      "        long start = System.nanoTime();\n",
      "        long sum = 0;\n",
      "\n",
      "        for (int i = 0; i &lt; 100000; ++i)\n",
      "        {\n",
      "            // Primary loop\n",
      "            for (int c = 0; c &lt; arraySize; ++c)\n",
      "            {\n",
      "                if (data[c] &gt;= 128)\n",
      "                    sum += data[c];\n",
      "            }\n",
      "        }\n",
      "\n",
      "        System.out.println((System.nanoTime() - start) / 1000000000.0);\n",
      "        System.out.println(\"sum = \" + sum);\n",
      "    }\n",
      "}\n",
      "</code></pre>\n",
      "\n",
      "<p>With a somewhat similar but less extreme result.</p>\n",
      "\n",
      "<hr>\n",
      "\n",
      "<p>My first thought was that sorting brings the data into the cache, but then I thought how silly that is because the array was just generated.</p>\n",
      "\n",
      "<ul>\n",
      "<li>What is going on?</li>\n",
      "<li>Why is it faster to process a sorted array than an unsorted array?</li>\n",
      "<li>The code is summing up some independent terms, and the order should not matter.</li>\n",
      "</ul>\n",
      "\n"
     ]
    }
   ],
   "source": [
    "print(questao_ingles)"
   ]
  },
  {
   "cell_type": "code",
   "execution_count": 85,
   "metadata": {
    "colab": {},
    "colab_type": "code",
    "id": "8pMa1Gc-omUN"
   },
   "outputs": [],
   "source": [
    "def substituir_codigo(textos, regex):\n",
    "    if type(textos) == str:\n",
    "        return regex.sub(\"CODE\", textos)\n",
    "    else:\n",
    "        return [regex.sub(\"CODE\", texto) for texto in textos]"
   ]
  },
  {
   "cell_type": "code",
   "execution_count": 86,
   "metadata": {
    "colab": {},
    "colab_type": "code",
    "id": "W-WMEeHVomUa",
    "outputId": "7c2652ed-d6a0-47db-a4e4-3cee427f74ed"
   },
   "outputs": [
    {
     "data": {
      "text/plain": [
       "'<p>Here is a piece of C++ code that seems very peculiar. For some strange reason, sorting the data miraculously makes the code almost six times faster.</p>\\n\\n<pre class=\"lang-cpp prettyprint-override\"><code>#include &lt;algorithm&gt;\\n#include &lt;ctime&gt;\\n#include &lt;iostream&gt;\\n\\nint main()\\n{\\n    // Generate data\\n    const unsigned arraySize = 32768;\\n    int data[arraySize];\\n\\n    for (unsigned c = 0; c &lt; arraySize; ++c)\\n        data[c] = std::rand() % 256;\\n\\n    // !!! With this, the next loop runs faster\\n    std::sort(data, data + arraySize);\\n\\n    // Test\\n    clock_t start = clock();\\n    long long sum = 0;\\n\\n    for (unsigned i = 0; i &lt; 100000; ++i)\\n    {\\n        // Primary loop\\n        for (unsigned c = 0; c &lt; arraySize; ++c)\\n        {\\n            if (data[c] &gt;= 128)\\n                sum += data[c];\\n        }\\n    }\\n\\n    double elapsedTime = static_cast&lt;double&gt;(clock() - start) / CLOCKS_PER_SEC;\\n\\n    std::cout &lt;&lt; elapsedTime &lt;&lt; std::endl;\\n    std::cout &lt;&lt; \"sum = \" &lt;&lt; sum &lt;&lt; std::endl;\\n}\\n</code></pre>\\n\\n<ul>\\n<li>Without <code>std::sort(data, data + arraySize);</code>, the code runs in 11.54 seconds.</li>\\n<li>With the sorted data, the code runs in 1.93 seconds.</li>\\n</ul>\\n\\n<p>Initially, I thought this might be just a language or compiler anomaly. So I tried it in Java.</p>\\n\\n<pre class=\"lang-java prettyprint-override\"><code>import java.util.Arrays;\\nimport java.util.Random;\\n\\npublic class Main\\n{\\n    public static void main(String[] args)\\n    {\\n        // Generate data\\n        int arraySize = 32768;\\n        int data[] = new int[arraySize];\\n\\n        Random rnd = new Random(0);\\n        for (int c = 0; c &lt; arraySize; ++c)\\n            data[c] = rnd.nextInt() % 256;\\n\\n        // !!! With this, the next loop runs faster\\n        Arrays.sort(data);\\n\\n        // Test\\n        long start = System.nanoTime();\\n        long sum = 0;\\n\\n        for (int i = 0; i &lt; 100000; ++i)\\n        {\\n            // Primary loop\\n            for (int c = 0; c &lt; arraySize; ++c)\\n            {\\n                if (data[c] &gt;= 128)\\n                    sum += data[c];\\n            }\\n        }\\n\\n        System.out.println((System.nanoTime() - start) / 1000000000.0);\\n        System.out.println(\"sum = \" + sum);\\n    }\\n}\\n</code></pre>\\n\\n<p>With a somewhat similar but less extreme result.</p>\\n\\n<hr>\\n\\n<p>My first thought was that sorting brings the data into the cache, but then I thought how silly that is because the array was just generated.</p>\\n\\n<ul>\\n<li>What is going on?</li>\\n<li>Why is it faster to process a sorted array than an unsorted array?</li>\\n<li>The code is summing up some independent terms, and the order should not matter.</li>\\n</ul>\\n'"
      ]
     },
     "execution_count": 86,
     "metadata": {},
     "output_type": "execute_result"
    }
   ],
   "source": [
    "questao_ingles"
   ]
  },
  {
   "cell_type": "code",
   "execution_count": 87,
   "metadata": {
    "colab": {},
    "colab_type": "code",
    "id": "ozNa8YgComUj"
   },
   "outputs": [],
   "source": [
    "regex_codigo = re.compile(r\"<code>(.|(\\n))*?</code>\")"
   ]
  },
  {
   "cell_type": "code",
   "execution_count": 88,
   "metadata": {
    "colab": {},
    "colab_type": "code",
    "id": "Aon7hOmfomUs",
    "outputId": "38afa285-3e1c-4639-fef3-06a40501f0a3"
   },
   "outputs": [
    {
     "name": "stdout",
     "output_type": "stream",
     "text": [
      "<p>Las sentencias dinámicas son sentencias SQL que se crean como cadenas de texto (strings) y en las que se insertan/concatenan valores obtenidos de alguna fuente (normalmente proveniente del usuario), lo que puede hacer que sean vulnerables a inyección SQL si no se sanean las entradas, como por ejemplo:</p>\n",
      "\n",
      "<pre>CODE</pre>\n",
      "\n",
      "<p>Eso es un ejemplo de una vulnerabilidad grave en la seguridad de una aplicación (web o no) porque si el usuario introdujese un valor como CODE nos encontraríamos con que la sentencia ejecutada sería:</p>\n",
      "\n",
      "<pre>CODE</pre>\n",
      "\n",
      "<p>Y se eliminaría la tabla Usuarios con todos los datos contenidos en ella. </p>\n",
      "\n",
      "<p><strong>¿Cómo puedo evitar que la inyección SQL ocurra en PHP?</strong></p>\n",
      "\n"
     ]
    }
   ],
   "source": [
    "questao_sem_code = substituir_codigo(questao_espanhol, regex_codigo)\n",
    "print(questao_sem_code)"
   ]
  },
  {
   "cell_type": "markdown",
   "metadata": {},
   "source": [
    "### Removendo códigos das questões"
   ]
  },
  {
   "cell_type": "code",
   "execution_count": 28,
   "metadata": {
    "colab": {},
    "colab_type": "code",
    "id": "aIC1wfNlomU4",
    "outputId": "867eaf15-0b52-4388-a51e-6c34238fed53"
   },
   "outputs": [
    {
     "data": {
      "text/html": [
       "<div>\n",
       "<style scoped>\n",
       "    .dataframe tbody tr th:only-of-type {\n",
       "        vertical-align: middle;\n",
       "    }\n",
       "\n",
       "    .dataframe tbody tr th {\n",
       "        vertical-align: top;\n",
       "    }\n",
       "\n",
       "    .dataframe thead th {\n",
       "        text-align: right;\n",
       "    }\n",
       "</style>\n",
       "<table border=\"1\" class=\"dataframe\">\n",
       "  <thead>\n",
       "    <tr style=\"text-align: right;\">\n",
       "      <th></th>\n",
       "      <th>Id</th>\n",
       "      <th>Título</th>\n",
       "      <th>Questão</th>\n",
       "      <th>Tags</th>\n",
       "      <th>Pontuação</th>\n",
       "      <th>Visualizações</th>\n",
       "    </tr>\n",
       "  </thead>\n",
       "  <tbody>\n",
       "    <tr>\n",
       "      <th>0</th>\n",
       "      <td>2402</td>\n",
       "      <td>Como fazer hash de senhas de forma segura?</td>\n",
       "      <td>&lt;p&gt;Se eu fizer o &lt;em&gt;&lt;a href=\"http://pt.wikipe...</td>\n",
       "      <td>&lt;hash&gt;&lt;segurança&gt;&lt;senhas&gt;&lt;criptografia&gt;</td>\n",
       "      <td>350</td>\n",
       "      <td>22367</td>\n",
       "    </tr>\n",
       "    <tr>\n",
       "      <th>1</th>\n",
       "      <td>6441</td>\n",
       "      <td>Qual é a diferença entre INNER JOIN e OUTER JOIN?</td>\n",
       "      <td>&lt;p&gt;Qual é a diferença entre &lt;code&gt;INNER JOIN&lt;/...</td>\n",
       "      <td>&lt;sql&gt;&lt;join&gt;</td>\n",
       "      <td>276</td>\n",
       "      <td>176953</td>\n",
       "    </tr>\n",
       "    <tr>\n",
       "      <th>2</th>\n",
       "      <td>579</td>\n",
       "      <td>Por que não devemos usar funções do tipo mysql_*?</td>\n",
       "      <td>&lt;p&gt;Uma dúvida muito comum é por que devemos pa...</td>\n",
       "      <td>&lt;php&gt;&lt;mysql&gt;</td>\n",
       "      <td>226</td>\n",
       "      <td>9761</td>\n",
       "    </tr>\n",
       "    <tr>\n",
       "      <th>3</th>\n",
       "      <td>2539</td>\n",
       "      <td>As mensagens de erro devem se desculpar?</td>\n",
       "      <td>&lt;p&gt;É comum encontrar uma mensagem de erro que ...</td>\n",
       "      <td>&lt;aplicação-web&gt;&lt;gui&gt;&lt;console&gt;&lt;ux&gt;</td>\n",
       "      <td>214</td>\n",
       "      <td>5075</td>\n",
       "    </tr>\n",
       "    <tr>\n",
       "      <th>4</th>\n",
       "      <td>17501</td>\n",
       "      <td>Qual é a diferença de API, biblioteca e Framew...</td>\n",
       "      <td>&lt;p&gt;Me parecem termos muito próximos e eventual...</td>\n",
       "      <td>&lt;api&gt;&lt;framework&gt;&lt;terminologia&gt;&lt;biblioteca&gt;</td>\n",
       "      <td>193</td>\n",
       "      <td>54191</td>\n",
       "    </tr>\n",
       "  </tbody>\n",
       "</table>\n",
       "</div>"
      ],
      "text/plain": [
       "      Id                                             Título  \\\n",
       "0   2402         Como fazer hash de senhas de forma segura?   \n",
       "1   6441  Qual é a diferença entre INNER JOIN e OUTER JOIN?   \n",
       "2    579  Por que não devemos usar funções do tipo mysql_*?   \n",
       "3   2539           As mensagens de erro devem se desculpar?   \n",
       "4  17501  Qual é a diferença de API, biblioteca e Framew...   \n",
       "\n",
       "                                             Questão  \\\n",
       "0  <p>Se eu fizer o <em><a href=\"http://pt.wikipe...   \n",
       "1  <p>Qual é a diferença entre <code>INNER JOIN</...   \n",
       "2  <p>Uma dúvida muito comum é por que devemos pa...   \n",
       "3  <p>É comum encontrar uma mensagem de erro que ...   \n",
       "4  <p>Me parecem termos muito próximos e eventual...   \n",
       "\n",
       "                                         Tags  Pontuação  Visualizações  \n",
       "0     <hash><segurança><senhas><criptografia>        350          22367  \n",
       "1                                 <sql><join>        276         176953  \n",
       "2                                <php><mysql>        226           9761  \n",
       "3           <aplicação-web><gui><console><ux>        214           5075  \n",
       "4  <api><framework><terminologia><biblioteca>        193          54191  "
      ]
     },
     "execution_count": 28,
     "metadata": {},
     "output_type": "execute_result"
    }
   ],
   "source": [
    "dados_portugues.head()"
   ]
  },
  {
   "cell_type": "code",
   "execution_count": 29,
   "metadata": {
    "colab": {},
    "colab_type": "code",
    "id": "PY63Q7W_omVE"
   },
   "outputs": [],
   "source": [
    "questoes_port_sem_code = substituir_codigo(dados_portugues.Questão,regex_codigo)\n",
    "questoes_port_sem_code_tag = remover(questoes_port_sem_code, regex_html)\n",
    "\n",
    "dados_portugues[\"sem_code_tag\"] = questoes_port_sem_code_tag"
   ]
  },
  {
   "cell_type": "code",
   "execution_count": 30,
   "metadata": {
    "colab": {},
    "colab_type": "code",
    "id": "f9Fd4dw0omVN",
    "outputId": "953c7503-6ecf-4dd6-f8dc-900c2f5155f6"
   },
   "outputs": [
    {
     "data": {
      "text/html": [
       "<div>\n",
       "<style scoped>\n",
       "    .dataframe tbody tr th:only-of-type {\n",
       "        vertical-align: middle;\n",
       "    }\n",
       "\n",
       "    .dataframe tbody tr th {\n",
       "        vertical-align: top;\n",
       "    }\n",
       "\n",
       "    .dataframe thead th {\n",
       "        text-align: right;\n",
       "    }\n",
       "</style>\n",
       "<table border=\"1\" class=\"dataframe\">\n",
       "  <thead>\n",
       "    <tr style=\"text-align: right;\">\n",
       "      <th></th>\n",
       "      <th>Id</th>\n",
       "      <th>Título</th>\n",
       "      <th>Questão</th>\n",
       "      <th>Tags</th>\n",
       "      <th>Pontuação</th>\n",
       "      <th>Visualizações</th>\n",
       "      <th>sem_code_tag</th>\n",
       "    </tr>\n",
       "  </thead>\n",
       "  <tbody>\n",
       "    <tr>\n",
       "      <th>0</th>\n",
       "      <td>2402</td>\n",
       "      <td>Como fazer hash de senhas de forma segura?</td>\n",
       "      <td>&lt;p&gt;Se eu fizer o &lt;em&gt;&lt;a href=\"http://pt.wikipe...</td>\n",
       "      <td>&lt;hash&gt;&lt;segurança&gt;&lt;senhas&gt;&lt;criptografia&gt;</td>\n",
       "      <td>350</td>\n",
       "      <td>22367</td>\n",
       "      <td>Se eu fizer o hash de senhas antes de armazená...</td>\n",
       "    </tr>\n",
       "    <tr>\n",
       "      <th>1</th>\n",
       "      <td>6441</td>\n",
       "      <td>Qual é a diferença entre INNER JOIN e OUTER JOIN?</td>\n",
       "      <td>&lt;p&gt;Qual é a diferença entre &lt;code&gt;INNER JOIN&lt;/...</td>\n",
       "      <td>&lt;sql&gt;&lt;join&gt;</td>\n",
       "      <td>276</td>\n",
       "      <td>176953</td>\n",
       "      <td>Qual é a diferença entre CODE e CODE? Podem me...</td>\n",
       "    </tr>\n",
       "    <tr>\n",
       "      <th>2</th>\n",
       "      <td>579</td>\n",
       "      <td>Por que não devemos usar funções do tipo mysql_*?</td>\n",
       "      <td>&lt;p&gt;Uma dúvida muito comum é por que devemos pa...</td>\n",
       "      <td>&lt;php&gt;&lt;mysql&gt;</td>\n",
       "      <td>226</td>\n",
       "      <td>9761</td>\n",
       "      <td>Uma dúvida muito comum é por que devemos parar...</td>\n",
       "    </tr>\n",
       "    <tr>\n",
       "      <th>3</th>\n",
       "      <td>2539</td>\n",
       "      <td>As mensagens de erro devem se desculpar?</td>\n",
       "      <td>&lt;p&gt;É comum encontrar uma mensagem de erro que ...</td>\n",
       "      <td>&lt;aplicação-web&gt;&lt;gui&gt;&lt;console&gt;&lt;ux&gt;</td>\n",
       "      <td>214</td>\n",
       "      <td>5075</td>\n",
       "      <td>É comum encontrar uma mensagem de erro que diz...</td>\n",
       "    </tr>\n",
       "    <tr>\n",
       "      <th>4</th>\n",
       "      <td>17501</td>\n",
       "      <td>Qual é a diferença de API, biblioteca e Framew...</td>\n",
       "      <td>&lt;p&gt;Me parecem termos muito próximos e eventual...</td>\n",
       "      <td>&lt;api&gt;&lt;framework&gt;&lt;terminologia&gt;&lt;biblioteca&gt;</td>\n",
       "      <td>193</td>\n",
       "      <td>54191</td>\n",
       "      <td>Me parecem termos muito próximos e eventualmen...</td>\n",
       "    </tr>\n",
       "  </tbody>\n",
       "</table>\n",
       "</div>"
      ],
      "text/plain": [
       "      Id                                             Título  \\\n",
       "0   2402         Como fazer hash de senhas de forma segura?   \n",
       "1   6441  Qual é a diferença entre INNER JOIN e OUTER JOIN?   \n",
       "2    579  Por que não devemos usar funções do tipo mysql_*?   \n",
       "3   2539           As mensagens de erro devem se desculpar?   \n",
       "4  17501  Qual é a diferença de API, biblioteca e Framew...   \n",
       "\n",
       "                                             Questão  \\\n",
       "0  <p>Se eu fizer o <em><a href=\"http://pt.wikipe...   \n",
       "1  <p>Qual é a diferença entre <code>INNER JOIN</...   \n",
       "2  <p>Uma dúvida muito comum é por que devemos pa...   \n",
       "3  <p>É comum encontrar uma mensagem de erro que ...   \n",
       "4  <p>Me parecem termos muito próximos e eventual...   \n",
       "\n",
       "                                         Tags  Pontuação  Visualizações  \\\n",
       "0     <hash><segurança><senhas><criptografia>        350          22367   \n",
       "1                                 <sql><join>        276         176953   \n",
       "2                                <php><mysql>        226           9761   \n",
       "3           <aplicação-web><gui><console><ux>        214           5075   \n",
       "4  <api><framework><terminologia><biblioteca>        193          54191   \n",
       "\n",
       "                                        sem_code_tag  \n",
       "0  Se eu fizer o hash de senhas antes de armazená...  \n",
       "1  Qual é a diferença entre CODE e CODE? Podem me...  \n",
       "2  Uma dúvida muito comum é por que devemos parar...  \n",
       "3  É comum encontrar uma mensagem de erro que diz...  \n",
       "4  Me parecem termos muito próximos e eventualmen...  "
      ]
     },
     "execution_count": 30,
     "metadata": {},
     "output_type": "execute_result"
    }
   ],
   "source": [
    "dados_portugues.head()"
   ]
  },
  {
   "cell_type": "code",
   "execution_count": 31,
   "metadata": {
    "colab": {},
    "colab_type": "code",
    "id": "eDqY5bgOomVU",
    "outputId": "07173867-20fe-4732-9c99-b83b7660b8f5"
   },
   "outputs": [
    {
     "data": {
      "text/html": [
       "<div>\n",
       "<style scoped>\n",
       "    .dataframe tbody tr th:only-of-type {\n",
       "        vertical-align: middle;\n",
       "    }\n",
       "\n",
       "    .dataframe tbody tr th {\n",
       "        vertical-align: top;\n",
       "    }\n",
       "\n",
       "    .dataframe thead th {\n",
       "        text-align: right;\n",
       "    }\n",
       "</style>\n",
       "<table border=\"1\" class=\"dataframe\">\n",
       "  <thead>\n",
       "    <tr style=\"text-align: right;\">\n",
       "      <th></th>\n",
       "      <th>Id</th>\n",
       "      <th>Título</th>\n",
       "      <th>Questão</th>\n",
       "      <th>Tags</th>\n",
       "      <th>Pontuação</th>\n",
       "      <th>Visualizações</th>\n",
       "      <th>sem_code_tag</th>\n",
       "    </tr>\n",
       "  </thead>\n",
       "  <tbody>\n",
       "    <tr>\n",
       "      <th>0</th>\n",
       "      <td>11227809</td>\n",
       "      <td>Why is it faster to process a sorted array tha...</td>\n",
       "      <td>&lt;p&gt;Here is a piece of C++ code that seems very...</td>\n",
       "      <td>&lt;java&gt;&lt;c++&gt;&lt;performance&gt;&lt;optimization&gt;&lt;branch-...</td>\n",
       "      <td>23057</td>\n",
       "      <td>1358574</td>\n",
       "      <td>Here is a piece of C++ code that seems very pe...</td>\n",
       "    </tr>\n",
       "    <tr>\n",
       "      <th>1</th>\n",
       "      <td>927358</td>\n",
       "      <td>How do I undo the most recent local commits in...</td>\n",
       "      <td>&lt;p&gt;I accidentally committed the wrong files to...</td>\n",
       "      <td>&lt;git&gt;&lt;version-control&gt;&lt;git-commit&gt;&lt;undo&gt;</td>\n",
       "      <td>19640</td>\n",
       "      <td>7906137</td>\n",
       "      <td>I accidentally committed the wrong files to Gi...</td>\n",
       "    </tr>\n",
       "    <tr>\n",
       "      <th>2</th>\n",
       "      <td>2003505</td>\n",
       "      <td>How do I delete a Git branch locally and remot...</td>\n",
       "      <td>&lt;p&gt;I want to delete a branch both locally and ...</td>\n",
       "      <td>&lt;git&gt;&lt;git-branch&gt;&lt;git-remote&gt;</td>\n",
       "      <td>15249</td>\n",
       "      <td>6940906</td>\n",
       "      <td>I want to delete a branch both locally and rem...</td>\n",
       "    </tr>\n",
       "    <tr>\n",
       "      <th>3</th>\n",
       "      <td>292357</td>\n",
       "      <td>What is the difference between 'git pull' and ...</td>\n",
       "      <td>&lt;blockquote&gt;\\n  &lt;p&gt;&lt;strong&gt;Moderator Note:&lt;/st...</td>\n",
       "      <td>&lt;git&gt;&lt;git-pull&gt;&lt;git-fetch&gt;</td>\n",
       "      <td>11008</td>\n",
       "      <td>2543052</td>\n",
       "      <td>\\n  Moderator Note: Given that this question h...</td>\n",
       "    </tr>\n",
       "    <tr>\n",
       "      <th>4</th>\n",
       "      <td>477816</td>\n",
       "      <td>What is the correct JSON content type?</td>\n",
       "      <td>&lt;p&gt;I've been messing around with &lt;a href=\"http...</td>\n",
       "      <td>&lt;json&gt;&lt;http-headers&gt;&lt;content-type&gt;</td>\n",
       "      <td>9701</td>\n",
       "      <td>2478940</td>\n",
       "      <td>I've been messing around with JSON for some ti...</td>\n",
       "    </tr>\n",
       "  </tbody>\n",
       "</table>\n",
       "</div>"
      ],
      "text/plain": [
       "         Id                                             Título  \\\n",
       "0  11227809  Why is it faster to process a sorted array tha...   \n",
       "1    927358  How do I undo the most recent local commits in...   \n",
       "2   2003505  How do I delete a Git branch locally and remot...   \n",
       "3    292357  What is the difference between 'git pull' and ...   \n",
       "4    477816             What is the correct JSON content type?   \n",
       "\n",
       "                                             Questão  \\\n",
       "0  <p>Here is a piece of C++ code that seems very...   \n",
       "1  <p>I accidentally committed the wrong files to...   \n",
       "2  <p>I want to delete a branch both locally and ...   \n",
       "3  <blockquote>\\n  <p><strong>Moderator Note:</st...   \n",
       "4  <p>I've been messing around with <a href=\"http...   \n",
       "\n",
       "                                                Tags  Pontuação  \\\n",
       "0  <java><c++><performance><optimization><branch-...      23057   \n",
       "1           <git><version-control><git-commit><undo>      19640   \n",
       "2                      <git><git-branch><git-remote>      15249   \n",
       "3                         <git><git-pull><git-fetch>      11008   \n",
       "4                 <json><http-headers><content-type>       9701   \n",
       "\n",
       "   Visualizações                                       sem_code_tag  \n",
       "0        1358574  Here is a piece of C++ code that seems very pe...  \n",
       "1        7906137  I accidentally committed the wrong files to Gi...  \n",
       "2        6940906  I want to delete a branch both locally and rem...  \n",
       "3        2543052  \\n  Moderator Note: Given that this question h...  \n",
       "4        2478940  I've been messing around with JSON for some ti...  "
      ]
     },
     "execution_count": 31,
     "metadata": {},
     "output_type": "execute_result"
    }
   ],
   "source": [
    "questoes_ing_sem_code = substituir_codigo(dados_ingles.Questão, regex_codigo)\n",
    "questoes_ing_sem_code_tag = remover(questoes_ing_sem_code, regex_html)\n",
    "\n",
    "dados_ingles[\"sem_code_tag\"] = questoes_ing_sem_code_tag\n",
    "dados_ingles.head()"
   ]
  },
  {
   "cell_type": "code",
   "execution_count": 32,
   "metadata": {
    "colab": {},
    "colab_type": "code",
    "id": "YLNIsRoiomVf",
    "outputId": "773fe7a6-9a01-4f59-c917-e03f606d1712"
   },
   "outputs": [
    {
     "data": {
      "text/html": [
       "<div>\n",
       "<style scoped>\n",
       "    .dataframe tbody tr th:only-of-type {\n",
       "        vertical-align: middle;\n",
       "    }\n",
       "\n",
       "    .dataframe tbody tr th {\n",
       "        vertical-align: top;\n",
       "    }\n",
       "\n",
       "    .dataframe thead th {\n",
       "        text-align: right;\n",
       "    }\n",
       "</style>\n",
       "<table border=\"1\" class=\"dataframe\">\n",
       "  <thead>\n",
       "    <tr style=\"text-align: right;\">\n",
       "      <th></th>\n",
       "      <th>Id</th>\n",
       "      <th>Título</th>\n",
       "      <th>Questão</th>\n",
       "      <th>Tags</th>\n",
       "      <th>Pontuação</th>\n",
       "      <th>Visualizações</th>\n",
       "      <th>sem_code_tag</th>\n",
       "    </tr>\n",
       "  </thead>\n",
       "  <tbody>\n",
       "    <tr>\n",
       "      <th>0</th>\n",
       "      <td>18232</td>\n",
       "      <td>¿Cómo evitar la inyección SQL en PHP?</td>\n",
       "      <td>&lt;p&gt;Las sentencias dinámicas son sentencias SQL...</td>\n",
       "      <td>&lt;php&gt;&lt;mysql&gt;&lt;sql&gt;&lt;seguridad&gt;&lt;inyección-sql&gt;</td>\n",
       "      <td>169</td>\n",
       "      <td>38614</td>\n",
       "      <td>Las sentencias dinámicas son sentencias SQL qu...</td>\n",
       "    </tr>\n",
       "    <tr>\n",
       "      <th>1</th>\n",
       "      <td>197</td>\n",
       "      <td>¿Por qué mis programas no pueden hacer cálculo...</td>\n",
       "      <td>&lt;p&gt;Unas veces los cálculos funcionan correctam...</td>\n",
       "      <td>&lt;matemáticas&gt;&lt;coma-flotante&gt;&lt;lenguaje-agnóstico&gt;</td>\n",
       "      <td>141</td>\n",
       "      <td>3860</td>\n",
       "      <td>Unas veces los cálculos funcionan correctament...</td>\n",
       "    </tr>\n",
       "    <tr>\n",
       "      <th>2</th>\n",
       "      <td>36</td>\n",
       "      <td>¿Cuál es la diferencia entre un inner y un out...</td>\n",
       "      <td>&lt;p&gt;¿Cuál es la diferencia entre un &lt;code&gt;inner...</td>\n",
       "      <td>&lt;mysql&gt;&lt;sql&gt;&lt;join&gt;</td>\n",
       "      <td>97</td>\n",
       "      <td>53627</td>\n",
       "      <td>¿Cuál es la diferencia entre un CODE y un CODE...</td>\n",
       "    </tr>\n",
       "    <tr>\n",
       "      <th>3</th>\n",
       "      <td>29177</td>\n",
       "      <td>¿Por qué es considerado una mala práctica util...</td>\n",
       "      <td>&lt;p&gt;La mayoría de nosotros decimos, (muchas vec...</td>\n",
       "      <td>&lt;variables&gt;&lt;variables-globales&gt;&lt;patrones-de-di...</td>\n",
       "      <td>89</td>\n",
       "      <td>9987</td>\n",
       "      <td>La mayoría de nosotros decimos, (muchas veces ...</td>\n",
       "    </tr>\n",
       "    <tr>\n",
       "      <th>4</th>\n",
       "      <td>142</td>\n",
       "      <td>Validar un email en JavaScript que acepte todo...</td>\n",
       "      <td>&lt;h3&gt;Pregunta&lt;/h3&gt;\\n\\n&lt;p&gt;¿Cómo validar un e-mai...</td>\n",
       "      <td>&lt;javascript&gt;&lt;validación&gt;&lt;email&gt;&lt;regex&gt;</td>\n",
       "      <td>87</td>\n",
       "      <td>73129</td>\n",
       "      <td>Pregunta\\n\\n¿Cómo validar un e-mail que acepte...</td>\n",
       "    </tr>\n",
       "  </tbody>\n",
       "</table>\n",
       "</div>"
      ],
      "text/plain": [
       "      Id                                             Título  \\\n",
       "0  18232              ¿Cómo evitar la inyección SQL en PHP?   \n",
       "1    197  ¿Por qué mis programas no pueden hacer cálculo...   \n",
       "2     36  ¿Cuál es la diferencia entre un inner y un out...   \n",
       "3  29177  ¿Por qué es considerado una mala práctica util...   \n",
       "4    142  Validar un email en JavaScript que acepte todo...   \n",
       "\n",
       "                                             Questão  \\\n",
       "0  <p>Las sentencias dinámicas son sentencias SQL...   \n",
       "1  <p>Unas veces los cálculos funcionan correctam...   \n",
       "2  <p>¿Cuál es la diferencia entre un <code>inner...   \n",
       "3  <p>La mayoría de nosotros decimos, (muchas vec...   \n",
       "4  <h3>Pregunta</h3>\\n\\n<p>¿Cómo validar un e-mai...   \n",
       "\n",
       "                                                Tags  Pontuação  \\\n",
       "0        <php><mysql><sql><seguridad><inyección-sql>        169   \n",
       "1   <matemáticas><coma-flotante><lenguaje-agnóstico>        141   \n",
       "2                                 <mysql><sql><join>         97   \n",
       "3  <variables><variables-globales><patrones-de-di...         89   \n",
       "4             <javascript><validación><email><regex>         87   \n",
       "\n",
       "   Visualizações                                       sem_code_tag  \n",
       "0          38614  Las sentencias dinámicas son sentencias SQL qu...  \n",
       "1           3860  Unas veces los cálculos funcionan correctament...  \n",
       "2          53627  ¿Cuál es la diferencia entre un CODE y un CODE...  \n",
       "3           9987  La mayoría de nosotros decimos, (muchas veces ...  \n",
       "4          73129  Pregunta\\n\\n¿Cómo validar un e-mail que acepte...  "
      ]
     },
     "execution_count": 32,
     "metadata": {},
     "output_type": "execute_result"
    }
   ],
   "source": [
    "questoes_esp_sem_code = substituir_codigo(dados_espanhol.Questão, regex_codigo)\n",
    "questoes_esp_sem_code_tag = remover(questoes_esp_sem_code, regex_html)\n",
    "\n",
    "dados_espanhol[\"sem_code_tag\"] = questoes_esp_sem_code_tag\n",
    "dados_espanhol.head()"
   ]
  },
  {
   "cell_type": "code",
   "execution_count": 33,
   "metadata": {
    "colab": {},
    "colab_type": "code",
    "id": "3hiAooQwomVn",
    "outputId": "8440eaea-e07e-4b53-8e27-72b47778dd43",
    "scrolled": true
   },
   "outputs": [
    {
     "name": "stdout",
     "output_type": "stream",
     "text": [
      "Las sentencias dinámicas son sentencias SQL que se crean como cadenas de texto (strings) y en las que se insertan/concatenan valores obtenidos de alguna fuente (normalmente proveniente del usuario), lo que puede hacer que sean vulnerables a inyección SQL si no se sanean las entradas, como por ejemplo:\n",
      "\n",
      "CODE\n",
      "\n",
      "Eso es un ejemplo de una vulnerabilidad grave en la seguridad de una aplicación (web o no) porque si el usuario introdujese un valor como CODE nos encontraríamos con que la sentencia ejecutada sería:\n",
      "\n",
      "CODE\n",
      "\n",
      "Y se eliminaría la tabla Usuarios con todos los datos contenidos en ella. \n",
      "\n",
      "¿Cómo puedo evitar que la inyección SQL ocurra en PHP?\n",
      "\n"
     ]
    }
   ],
   "source": [
    "print(dados_espanhol.sem_code_tag[0])"
   ]
  },
  {
   "cell_type": "markdown",
   "metadata": {
    "colab_type": "text",
    "id": "Obmk_5vkzEnS"
   },
   "source": [
    "### Removendo pontuação"
   ]
  },
  {
   "cell_type": "code",
   "execution_count": 34,
   "metadata": {
    "colab": {},
    "colab_type": "code",
    "id": "sRAouLjAomVs",
    "outputId": "e4fa5943-0743-45c3-da2a-2b7a82b2a58b"
   },
   "outputs": [
    {
     "name": "stdout",
     "output_type": "stream",
     "text": [
      "Las sentencias dinámicas son sentencias SQL que se crean como cadenas de texto strings y en las que se insertanconcatenan valores obtenidos de alguna fuente normalmente proveniente del usuario lo que puede hacer que sean vulnerables a inyección SQL si no se sanean las entradas como por ejemplo\n",
      "\n",
      "CODE\n",
      "\n",
      "Eso es un ejemplo de una vulnerabilidad grave en la seguridad de una aplicación web o no porque si el usuario introdujese un valor como CODE nos encontraríamos con que la sentencia ejecutada sería\n",
      "\n",
      "CODE\n",
      "\n",
      "Y se eliminaría la tabla Usuarios con todos los datos contenidos en ella \n",
      "\n",
      "Cómo puedo evitar que la inyección SQL ocurra en PHP\n",
      "\n"
     ]
    }
   ],
   "source": [
    "regex_pontuacao = re.compile(r\"[^\\w\\s]\")\n",
    "print(remover(questoes_esp_sem_code_tag[0], regex_pontuacao))"
   ]
  },
  {
   "cell_type": "markdown",
   "metadata": {},
   "source": [
    "### Convertendo todos os caracteres para minúsculo"
   ]
  },
  {
   "cell_type": "code",
   "execution_count": 35,
   "metadata": {
    "colab": {},
    "colab_type": "code",
    "id": "3ThZWGNAomV4",
    "outputId": "82580e26-c7e9-4b31-995b-a6c7d6417686"
   },
   "outputs": [
    {
     "name": "stdout",
     "output_type": "stream",
     "text": [
      "las sentencias dinámicas son sentencias sql que se crean como cadenas de texto (strings) y en las que se insertan/concatenan valores obtenidos de alguna fuente (normalmente proveniente del usuario), lo que puede hacer que sean vulnerables a inyección sql si no se sanean las entradas, como por ejemplo:\n",
      "\n",
      "code\n",
      "\n",
      "eso es un ejemplo de una vulnerabilidad grave en la seguridad de una aplicación (web o no) porque si el usuario introdujese un valor como code nos encontraríamos con que la sentencia ejecutada sería:\n",
      "\n",
      "code\n",
      "\n",
      "y se eliminaría la tabla usuarios con todos los datos contenidos en ella. \n",
      "\n",
      "¿cómo puedo evitar que la inyección sql ocurra en php?\n",
      "\n"
     ]
    }
   ],
   "source": [
    "def minusculo(textos):\n",
    "    if type(textos) == str:\n",
    "        return textos.lower()\n",
    "    else:\n",
    "        return [texto.lower() for texto in textos]\n",
    "    \n",
    "print(minusculo(questoes_esp_sem_code_tag[0]))"
   ]
  },
  {
   "cell_type": "markdown",
   "metadata": {},
   "source": [
    "### Removendo dígitos"
   ]
  },
  {
   "cell_type": "code",
   "execution_count": 36,
   "metadata": {
    "colab": {},
    "colab_type": "code",
    "id": "z_z3MGHeomV_",
    "outputId": "de37cacb-a2c2-44ef-e731-2ec0a58bbb23"
   },
   "outputs": [
    {
     "name": "stdout",
     "output_type": "stream",
     "text": [
      "Alura \n",
      "  Caelum \n"
     ]
    }
   ],
   "source": [
    "regex_digitos = re.compile(r\"\\d+\")\n",
    "print(remover(\"Alura \\n 1234 Caelum 1234\", regex_digitos))"
   ]
  },
  {
   "cell_type": "markdown",
   "metadata": {},
   "source": [
    "### Removendo espaços"
   ]
  },
  {
   "cell_type": "code",
   "execution_count": 37,
   "metadata": {
    "colab": {},
    "colab_type": "code",
    "id": "qzvT7b0zomWF",
    "outputId": "bf6a39f1-718d-4f07-a521-bec6e59be955"
   },
   "outputs": [
    {
     "name": "stdout",
     "output_type": "stream",
     "text": [
      "Alura         Caleum\n"
     ]
    }
   ],
   "source": [
    "regex_espaco = re.compile(r\" +\")\n",
    "regex_quebra_linha = re.compile(r\"(\\n)\")\n",
    "\n",
    "def substituir_por_espaco(textos, regex):\n",
    "    if type(textos) == str:\n",
    "        return regex.sub(\" \", textos)\n",
    "    else:\n",
    "        return [regex.sub(\" \", texto) for texto in textos]\n",
    "    \n",
    "print(substituir_por_espaco(\"Alura \\n \\n     Caleum\", regex_quebra_linha))"
   ]
  },
  {
   "cell_type": "markdown",
   "metadata": {},
   "source": [
    "### Aplicando tratamento de dados e criando nova coluna com dados tratados"
   ]
  },
  {
   "cell_type": "code",
   "execution_count": 38,
   "metadata": {
    "colab": {},
    "colab_type": "code",
    "id": "sIc25wcXomWN"
   },
   "outputs": [],
   "source": [
    "questoes_port_sem_pont = remover(dados_portugues.sem_code_tag, regex_pontuacao)\n",
    "questoes_port_sem_pont_minus = minusculo(questoes_port_sem_pont)\n",
    "questoes_port_sem_pont_minus_dig = remover(questoes_port_sem_pont_minus, regex_digitos)\n",
    "questoes_port_sem_quebra_linha = substituir_por_espaco(questoes_port_sem_pont_minus_dig, regex_quebra_linha)\n",
    "questoes_port_sem_espaco_duplicado = substituir_por_espaco(questoes_port_sem_quebra_linha, regex_espaco)\n",
    "\n",
    "dados_portugues[\"questoes_tratadas\"] = questoes_port_sem_espaco_duplicado"
   ]
  },
  {
   "cell_type": "code",
   "execution_count": 39,
   "metadata": {
    "colab": {},
    "colab_type": "code",
    "id": "jcAddCcHomWS",
    "outputId": "9268c9b8-9386-4dbb-b916-c6873ff7f476"
   },
   "outputs": [
    {
     "data": {
      "text/html": [
       "<div>\n",
       "<style scoped>\n",
       "    .dataframe tbody tr th:only-of-type {\n",
       "        vertical-align: middle;\n",
       "    }\n",
       "\n",
       "    .dataframe tbody tr th {\n",
       "        vertical-align: top;\n",
       "    }\n",
       "\n",
       "    .dataframe thead th {\n",
       "        text-align: right;\n",
       "    }\n",
       "</style>\n",
       "<table border=\"1\" class=\"dataframe\">\n",
       "  <thead>\n",
       "    <tr style=\"text-align: right;\">\n",
       "      <th></th>\n",
       "      <th>Id</th>\n",
       "      <th>Título</th>\n",
       "      <th>Questão</th>\n",
       "      <th>Tags</th>\n",
       "      <th>Pontuação</th>\n",
       "      <th>Visualizações</th>\n",
       "      <th>sem_code_tag</th>\n",
       "      <th>questoes_tratadas</th>\n",
       "    </tr>\n",
       "  </thead>\n",
       "  <tbody>\n",
       "    <tr>\n",
       "      <th>0</th>\n",
       "      <td>2402</td>\n",
       "      <td>Como fazer hash de senhas de forma segura?</td>\n",
       "      <td>&lt;p&gt;Se eu fizer o &lt;em&gt;&lt;a href=\"http://pt.wikipe...</td>\n",
       "      <td>&lt;hash&gt;&lt;segurança&gt;&lt;senhas&gt;&lt;criptografia&gt;</td>\n",
       "      <td>350</td>\n",
       "      <td>22367</td>\n",
       "      <td>Se eu fizer o hash de senhas antes de armazená...</td>\n",
       "      <td>se eu fizer o hash de senhas antes de armazená...</td>\n",
       "    </tr>\n",
       "    <tr>\n",
       "      <th>1</th>\n",
       "      <td>6441</td>\n",
       "      <td>Qual é a diferença entre INNER JOIN e OUTER JOIN?</td>\n",
       "      <td>&lt;p&gt;Qual é a diferença entre &lt;code&gt;INNER JOIN&lt;/...</td>\n",
       "      <td>&lt;sql&gt;&lt;join&gt;</td>\n",
       "      <td>276</td>\n",
       "      <td>176953</td>\n",
       "      <td>Qual é a diferença entre CODE e CODE? Podem me...</td>\n",
       "      <td>qual é a diferença entre code e code podem me ...</td>\n",
       "    </tr>\n",
       "    <tr>\n",
       "      <th>2</th>\n",
       "      <td>579</td>\n",
       "      <td>Por que não devemos usar funções do tipo mysql_*?</td>\n",
       "      <td>&lt;p&gt;Uma dúvida muito comum é por que devemos pa...</td>\n",
       "      <td>&lt;php&gt;&lt;mysql&gt;</td>\n",
       "      <td>226</td>\n",
       "      <td>9761</td>\n",
       "      <td>Uma dúvida muito comum é por que devemos parar...</td>\n",
       "      <td>uma dúvida muito comum é por que devemos parar...</td>\n",
       "    </tr>\n",
       "    <tr>\n",
       "      <th>3</th>\n",
       "      <td>2539</td>\n",
       "      <td>As mensagens de erro devem se desculpar?</td>\n",
       "      <td>&lt;p&gt;É comum encontrar uma mensagem de erro que ...</td>\n",
       "      <td>&lt;aplicação-web&gt;&lt;gui&gt;&lt;console&gt;&lt;ux&gt;</td>\n",
       "      <td>214</td>\n",
       "      <td>5075</td>\n",
       "      <td>É comum encontrar uma mensagem de erro que diz...</td>\n",
       "      <td>é comum encontrar uma mensagem de erro que diz...</td>\n",
       "    </tr>\n",
       "    <tr>\n",
       "      <th>4</th>\n",
       "      <td>17501</td>\n",
       "      <td>Qual é a diferença de API, biblioteca e Framew...</td>\n",
       "      <td>&lt;p&gt;Me parecem termos muito próximos e eventual...</td>\n",
       "      <td>&lt;api&gt;&lt;framework&gt;&lt;terminologia&gt;&lt;biblioteca&gt;</td>\n",
       "      <td>193</td>\n",
       "      <td>54191</td>\n",
       "      <td>Me parecem termos muito próximos e eventualmen...</td>\n",
       "      <td>me parecem termos muito próximos e eventualmen...</td>\n",
       "    </tr>\n",
       "  </tbody>\n",
       "</table>\n",
       "</div>"
      ],
      "text/plain": [
       "      Id                                             Título  \\\n",
       "0   2402         Como fazer hash de senhas de forma segura?   \n",
       "1   6441  Qual é a diferença entre INNER JOIN e OUTER JOIN?   \n",
       "2    579  Por que não devemos usar funções do tipo mysql_*?   \n",
       "3   2539           As mensagens de erro devem se desculpar?   \n",
       "4  17501  Qual é a diferença de API, biblioteca e Framew...   \n",
       "\n",
       "                                             Questão  \\\n",
       "0  <p>Se eu fizer o <em><a href=\"http://pt.wikipe...   \n",
       "1  <p>Qual é a diferença entre <code>INNER JOIN</...   \n",
       "2  <p>Uma dúvida muito comum é por que devemos pa...   \n",
       "3  <p>É comum encontrar uma mensagem de erro que ...   \n",
       "4  <p>Me parecem termos muito próximos e eventual...   \n",
       "\n",
       "                                         Tags  Pontuação  Visualizações  \\\n",
       "0     <hash><segurança><senhas><criptografia>        350          22367   \n",
       "1                                 <sql><join>        276         176953   \n",
       "2                                <php><mysql>        226           9761   \n",
       "3           <aplicação-web><gui><console><ux>        214           5075   \n",
       "4  <api><framework><terminologia><biblioteca>        193          54191   \n",
       "\n",
       "                                        sem_code_tag  \\\n",
       "0  Se eu fizer o hash de senhas antes de armazená...   \n",
       "1  Qual é a diferença entre CODE e CODE? Podem me...   \n",
       "2  Uma dúvida muito comum é por que devemos parar...   \n",
       "3  É comum encontrar uma mensagem de erro que diz...   \n",
       "4  Me parecem termos muito próximos e eventualmen...   \n",
       "\n",
       "                                   questoes_tratadas  \n",
       "0  se eu fizer o hash de senhas antes de armazená...  \n",
       "1  qual é a diferença entre code e code podem me ...  \n",
       "2  uma dúvida muito comum é por que devemos parar...  \n",
       "3  é comum encontrar uma mensagem de erro que diz...  \n",
       "4  me parecem termos muito próximos e eventualmen...  "
      ]
     },
     "execution_count": 39,
     "metadata": {},
     "output_type": "execute_result"
    }
   ],
   "source": [
    "dados_portugues.head()"
   ]
  },
  {
   "cell_type": "code",
   "execution_count": 40,
   "metadata": {
    "colab": {},
    "colab_type": "code",
    "id": "lTQgJGiAomWZ",
    "outputId": "1be53868-c56a-4112-c50c-cd73939db3b8"
   },
   "outputs": [
    {
     "data": {
      "text/plain": [
       "'se eu fizer o hash de senhas antes de armazenálas em meu banco de dados é suficiente para evitar que elas sejam recuperadas por alguém estou falando apenas da recuperação diretamente do banco de dados e não qualquer outro tipo de ataque como força bruta na página de login da aplicação keylogger no cliente e criptoanálise rubberhose qualquer forma de hash não vai impedir esses ataques tenho preocupação em dificultar ou até impossibilitar a obtenção das senhas originais caso o banco de dados seja comprometido como dar maior garantia de segurança neste aspecto quais preocupações adicionais evitariam o acesso às senhas existem formas melhores de fazer esse hash '"
      ]
     },
     "execution_count": 40,
     "metadata": {},
     "output_type": "execute_result"
    }
   ],
   "source": [
    "dados_portugues.questoes_tratadas[0]"
   ]
  },
  {
   "cell_type": "code",
   "execution_count": 41,
   "metadata": {
    "colab": {},
    "colab_type": "code",
    "id": "pIQFT54MomWf"
   },
   "outputs": [],
   "source": [
    "questoes_ing_sem_pont = remover(dados_ingles.sem_code_tag, regex_pontuacao)\n",
    "questoes_ing_sem_pont_minus = minusculo(questoes_ing_sem_pont)\n",
    "questoes_ing_sem_pont_minus_dig = remover(questoes_ing_sem_pont_minus, regex_digitos)\n",
    "questoes_ing_sem_quebra_linha = substituir_por_espaco(questoes_ing_sem_pont_minus_dig, regex_quebra_linha)\n",
    "questoes_ing_sem_espaco_duplicado = substituir_por_espaco(questoes_ing_sem_quebra_linha, regex_espaco)\n",
    "\n",
    "dados_ingles[\"questoes_tratadas\"] = questoes_ing_sem_espaco_duplicado"
   ]
  },
  {
   "cell_type": "code",
   "execution_count": 42,
   "metadata": {
    "colab": {},
    "colab_type": "code",
    "id": "ieugADgNomWj",
    "outputId": "daf1ad69-3511-448e-fe05-cd6e454c23c2"
   },
   "outputs": [
    {
     "data": {
      "text/html": [
       "<div>\n",
       "<style scoped>\n",
       "    .dataframe tbody tr th:only-of-type {\n",
       "        vertical-align: middle;\n",
       "    }\n",
       "\n",
       "    .dataframe tbody tr th {\n",
       "        vertical-align: top;\n",
       "    }\n",
       "\n",
       "    .dataframe thead th {\n",
       "        text-align: right;\n",
       "    }\n",
       "</style>\n",
       "<table border=\"1\" class=\"dataframe\">\n",
       "  <thead>\n",
       "    <tr style=\"text-align: right;\">\n",
       "      <th></th>\n",
       "      <th>Id</th>\n",
       "      <th>Título</th>\n",
       "      <th>Questão</th>\n",
       "      <th>Tags</th>\n",
       "      <th>Pontuação</th>\n",
       "      <th>Visualizações</th>\n",
       "      <th>sem_code_tag</th>\n",
       "      <th>questoes_tratadas</th>\n",
       "    </tr>\n",
       "  </thead>\n",
       "  <tbody>\n",
       "    <tr>\n",
       "      <th>0</th>\n",
       "      <td>11227809</td>\n",
       "      <td>Why is it faster to process a sorted array tha...</td>\n",
       "      <td>&lt;p&gt;Here is a piece of C++ code that seems very...</td>\n",
       "      <td>&lt;java&gt;&lt;c++&gt;&lt;performance&gt;&lt;optimization&gt;&lt;branch-...</td>\n",
       "      <td>23057</td>\n",
       "      <td>1358574</td>\n",
       "      <td>Here is a piece of C++ code that seems very pe...</td>\n",
       "      <td>here is a piece of c code that seems very pecu...</td>\n",
       "    </tr>\n",
       "    <tr>\n",
       "      <th>1</th>\n",
       "      <td>927358</td>\n",
       "      <td>How do I undo the most recent local commits in...</td>\n",
       "      <td>&lt;p&gt;I accidentally committed the wrong files to...</td>\n",
       "      <td>&lt;git&gt;&lt;version-control&gt;&lt;git-commit&gt;&lt;undo&gt;</td>\n",
       "      <td>19640</td>\n",
       "      <td>7906137</td>\n",
       "      <td>I accidentally committed the wrong files to Gi...</td>\n",
       "      <td>i accidentally committed the wrong files to gi...</td>\n",
       "    </tr>\n",
       "    <tr>\n",
       "      <th>2</th>\n",
       "      <td>2003505</td>\n",
       "      <td>How do I delete a Git branch locally and remot...</td>\n",
       "      <td>&lt;p&gt;I want to delete a branch both locally and ...</td>\n",
       "      <td>&lt;git&gt;&lt;git-branch&gt;&lt;git-remote&gt;</td>\n",
       "      <td>15249</td>\n",
       "      <td>6940906</td>\n",
       "      <td>I want to delete a branch both locally and rem...</td>\n",
       "      <td>i want to delete a branch both locally and rem...</td>\n",
       "    </tr>\n",
       "    <tr>\n",
       "      <th>3</th>\n",
       "      <td>292357</td>\n",
       "      <td>What is the difference between 'git pull' and ...</td>\n",
       "      <td>&lt;blockquote&gt;\\n  &lt;p&gt;&lt;strong&gt;Moderator Note:&lt;/st...</td>\n",
       "      <td>&lt;git&gt;&lt;git-pull&gt;&lt;git-fetch&gt;</td>\n",
       "      <td>11008</td>\n",
       "      <td>2543052</td>\n",
       "      <td>\\n  Moderator Note: Given that this question h...</td>\n",
       "      <td>moderator note given that this question has a...</td>\n",
       "    </tr>\n",
       "    <tr>\n",
       "      <th>4</th>\n",
       "      <td>477816</td>\n",
       "      <td>What is the correct JSON content type?</td>\n",
       "      <td>&lt;p&gt;I've been messing around with &lt;a href=\"http...</td>\n",
       "      <td>&lt;json&gt;&lt;http-headers&gt;&lt;content-type&gt;</td>\n",
       "      <td>9701</td>\n",
       "      <td>2478940</td>\n",
       "      <td>I've been messing around with JSON for some ti...</td>\n",
       "      <td>ive been messing around with json for some tim...</td>\n",
       "    </tr>\n",
       "  </tbody>\n",
       "</table>\n",
       "</div>"
      ],
      "text/plain": [
       "         Id                                             Título  \\\n",
       "0  11227809  Why is it faster to process a sorted array tha...   \n",
       "1    927358  How do I undo the most recent local commits in...   \n",
       "2   2003505  How do I delete a Git branch locally and remot...   \n",
       "3    292357  What is the difference between 'git pull' and ...   \n",
       "4    477816             What is the correct JSON content type?   \n",
       "\n",
       "                                             Questão  \\\n",
       "0  <p>Here is a piece of C++ code that seems very...   \n",
       "1  <p>I accidentally committed the wrong files to...   \n",
       "2  <p>I want to delete a branch both locally and ...   \n",
       "3  <blockquote>\\n  <p><strong>Moderator Note:</st...   \n",
       "4  <p>I've been messing around with <a href=\"http...   \n",
       "\n",
       "                                                Tags  Pontuação  \\\n",
       "0  <java><c++><performance><optimization><branch-...      23057   \n",
       "1           <git><version-control><git-commit><undo>      19640   \n",
       "2                      <git><git-branch><git-remote>      15249   \n",
       "3                         <git><git-pull><git-fetch>      11008   \n",
       "4                 <json><http-headers><content-type>       9701   \n",
       "\n",
       "   Visualizações                                       sem_code_tag  \\\n",
       "0        1358574  Here is a piece of C++ code that seems very pe...   \n",
       "1        7906137  I accidentally committed the wrong files to Gi...   \n",
       "2        6940906  I want to delete a branch both locally and rem...   \n",
       "3        2543052  \\n  Moderator Note: Given that this question h...   \n",
       "4        2478940  I've been messing around with JSON for some ti...   \n",
       "\n",
       "                                   questoes_tratadas  \n",
       "0  here is a piece of c code that seems very pecu...  \n",
       "1  i accidentally committed the wrong files to gi...  \n",
       "2  i want to delete a branch both locally and rem...  \n",
       "3   moderator note given that this question has a...  \n",
       "4  ive been messing around with json for some tim...  "
      ]
     },
     "execution_count": 42,
     "metadata": {},
     "output_type": "execute_result"
    }
   ],
   "source": [
    "dados_ingles.head()"
   ]
  },
  {
   "cell_type": "code",
   "execution_count": 43,
   "metadata": {
    "colab": {},
    "colab_type": "code",
    "id": "tdPStEU2omWo",
    "outputId": "5af171e9-4e68-453f-9048-580e14e84406"
   },
   "outputs": [
    {
     "name": "stdout",
     "output_type": "stream",
     "text": [
      "here is a piece of c code that seems very peculiar for some strange reason sorting the data miraculously makes the code almost six times faster code without code the code runs in seconds with the sorted data the code runs in seconds initially i thought this might be just a language or compiler anomaly so i tried it in java code with a somewhat similar but less extreme result my first thought was that sorting brings the data into the cache but then i thought how silly that is because the array was just generated what is going on why is it faster to process a sorted array than an unsorted array the code is summing up some independent terms and the order should not matter \n"
     ]
    }
   ],
   "source": [
    "print(dados_ingles.questoes_tratadas[0])"
   ]
  },
  {
   "cell_type": "code",
   "execution_count": 44,
   "metadata": {
    "colab": {},
    "colab_type": "code",
    "id": "lF__VpoZomWu"
   },
   "outputs": [],
   "source": [
    "questoes_esp_sem_pont = remover(dados_espanhol.sem_code_tag, regex_pontuacao)\n",
    "questoes_esp_sem_pont_minus = minusculo(questoes_esp_sem_pont)\n",
    "questoes_esp_sem_pont_minus_dig = remover(questoes_esp_sem_pont_minus, regex_digitos)\n",
    "questoes_esp_sem_quebra_linha = substituir_por_espaco(questoes_esp_sem_pont_minus_dig, regex_quebra_linha)\n",
    "questoes_esp_sem_espaco_duplicado = substituir_por_espaco(questoes_esp_sem_quebra_linha, regex_espaco)\n",
    "\n",
    "dados_espanhol[\"questoes_tratadas\"] = questoes_esp_sem_espaco_duplicado"
   ]
  },
  {
   "cell_type": "code",
   "execution_count": 45,
   "metadata": {
    "colab": {},
    "colab_type": "code",
    "id": "-9RCM3F3omW0",
    "outputId": "c5f6c8a8-b231-495d-9430-243636ed9573"
   },
   "outputs": [
    {
     "data": {
      "text/html": [
       "<div>\n",
       "<style scoped>\n",
       "    .dataframe tbody tr th:only-of-type {\n",
       "        vertical-align: middle;\n",
       "    }\n",
       "\n",
       "    .dataframe tbody tr th {\n",
       "        vertical-align: top;\n",
       "    }\n",
       "\n",
       "    .dataframe thead th {\n",
       "        text-align: right;\n",
       "    }\n",
       "</style>\n",
       "<table border=\"1\" class=\"dataframe\">\n",
       "  <thead>\n",
       "    <tr style=\"text-align: right;\">\n",
       "      <th></th>\n",
       "      <th>Id</th>\n",
       "      <th>Título</th>\n",
       "      <th>Questão</th>\n",
       "      <th>Tags</th>\n",
       "      <th>Pontuação</th>\n",
       "      <th>Visualizações</th>\n",
       "      <th>sem_code_tag</th>\n",
       "      <th>questoes_tratadas</th>\n",
       "    </tr>\n",
       "  </thead>\n",
       "  <tbody>\n",
       "    <tr>\n",
       "      <th>0</th>\n",
       "      <td>18232</td>\n",
       "      <td>¿Cómo evitar la inyección SQL en PHP?</td>\n",
       "      <td>&lt;p&gt;Las sentencias dinámicas son sentencias SQL...</td>\n",
       "      <td>&lt;php&gt;&lt;mysql&gt;&lt;sql&gt;&lt;seguridad&gt;&lt;inyección-sql&gt;</td>\n",
       "      <td>169</td>\n",
       "      <td>38614</td>\n",
       "      <td>Las sentencias dinámicas son sentencias SQL qu...</td>\n",
       "      <td>las sentencias dinámicas son sentencias sql qu...</td>\n",
       "    </tr>\n",
       "    <tr>\n",
       "      <th>1</th>\n",
       "      <td>197</td>\n",
       "      <td>¿Por qué mis programas no pueden hacer cálculo...</td>\n",
       "      <td>&lt;p&gt;Unas veces los cálculos funcionan correctam...</td>\n",
       "      <td>&lt;matemáticas&gt;&lt;coma-flotante&gt;&lt;lenguaje-agnóstico&gt;</td>\n",
       "      <td>141</td>\n",
       "      <td>3860</td>\n",
       "      <td>Unas veces los cálculos funcionan correctament...</td>\n",
       "      <td>unas veces los cálculos funcionan correctament...</td>\n",
       "    </tr>\n",
       "    <tr>\n",
       "      <th>2</th>\n",
       "      <td>36</td>\n",
       "      <td>¿Cuál es la diferencia entre un inner y un out...</td>\n",
       "      <td>&lt;p&gt;¿Cuál es la diferencia entre un &lt;code&gt;inner...</td>\n",
       "      <td>&lt;mysql&gt;&lt;sql&gt;&lt;join&gt;</td>\n",
       "      <td>97</td>\n",
       "      <td>53627</td>\n",
       "      <td>¿Cuál es la diferencia entre un CODE y un CODE...</td>\n",
       "      <td>cuál es la diferencia entre un code y un code ...</td>\n",
       "    </tr>\n",
       "    <tr>\n",
       "      <th>3</th>\n",
       "      <td>29177</td>\n",
       "      <td>¿Por qué es considerado una mala práctica util...</td>\n",
       "      <td>&lt;p&gt;La mayoría de nosotros decimos, (muchas vec...</td>\n",
       "      <td>&lt;variables&gt;&lt;variables-globales&gt;&lt;patrones-de-di...</td>\n",
       "      <td>89</td>\n",
       "      <td>9987</td>\n",
       "      <td>La mayoría de nosotros decimos, (muchas veces ...</td>\n",
       "      <td>la mayoría de nosotros decimos muchas veces si...</td>\n",
       "    </tr>\n",
       "    <tr>\n",
       "      <th>4</th>\n",
       "      <td>142</td>\n",
       "      <td>Validar un email en JavaScript que acepte todo...</td>\n",
       "      <td>&lt;h3&gt;Pregunta&lt;/h3&gt;\\n\\n&lt;p&gt;¿Cómo validar un e-mai...</td>\n",
       "      <td>&lt;javascript&gt;&lt;validación&gt;&lt;email&gt;&lt;regex&gt;</td>\n",
       "      <td>87</td>\n",
       "      <td>73129</td>\n",
       "      <td>Pregunta\\n\\n¿Cómo validar un e-mail que acepte...</td>\n",
       "      <td>pregunta cómo validar un email que acepte todo...</td>\n",
       "    </tr>\n",
       "  </tbody>\n",
       "</table>\n",
       "</div>"
      ],
      "text/plain": [
       "      Id                                             Título  \\\n",
       "0  18232              ¿Cómo evitar la inyección SQL en PHP?   \n",
       "1    197  ¿Por qué mis programas no pueden hacer cálculo...   \n",
       "2     36  ¿Cuál es la diferencia entre un inner y un out...   \n",
       "3  29177  ¿Por qué es considerado una mala práctica util...   \n",
       "4    142  Validar un email en JavaScript que acepte todo...   \n",
       "\n",
       "                                             Questão  \\\n",
       "0  <p>Las sentencias dinámicas son sentencias SQL...   \n",
       "1  <p>Unas veces los cálculos funcionan correctam...   \n",
       "2  <p>¿Cuál es la diferencia entre un <code>inner...   \n",
       "3  <p>La mayoría de nosotros decimos, (muchas vec...   \n",
       "4  <h3>Pregunta</h3>\\n\\n<p>¿Cómo validar un e-mai...   \n",
       "\n",
       "                                                Tags  Pontuação  \\\n",
       "0        <php><mysql><sql><seguridad><inyección-sql>        169   \n",
       "1   <matemáticas><coma-flotante><lenguaje-agnóstico>        141   \n",
       "2                                 <mysql><sql><join>         97   \n",
       "3  <variables><variables-globales><patrones-de-di...         89   \n",
       "4             <javascript><validación><email><regex>         87   \n",
       "\n",
       "   Visualizações                                       sem_code_tag  \\\n",
       "0          38614  Las sentencias dinámicas son sentencias SQL qu...   \n",
       "1           3860  Unas veces los cálculos funcionan correctament...   \n",
       "2          53627  ¿Cuál es la diferencia entre un CODE y un CODE...   \n",
       "3           9987  La mayoría de nosotros decimos, (muchas veces ...   \n",
       "4          73129  Pregunta\\n\\n¿Cómo validar un e-mail que acepte...   \n",
       "\n",
       "                                   questoes_tratadas  \n",
       "0  las sentencias dinámicas son sentencias sql qu...  \n",
       "1  unas veces los cálculos funcionan correctament...  \n",
       "2  cuál es la diferencia entre un code y un code ...  \n",
       "3  la mayoría de nosotros decimos muchas veces si...  \n",
       "4  pregunta cómo validar un email que acepte todo...  "
      ]
     },
     "execution_count": 45,
     "metadata": {},
     "output_type": "execute_result"
    }
   ],
   "source": [
    "dados_espanhol.head()"
   ]
  },
  {
   "cell_type": "code",
   "execution_count": 46,
   "metadata": {
    "colab": {},
    "colab_type": "code",
    "id": "nk53hsltomW6",
    "outputId": "60e3da46-d4e9-4320-f481-7c266a000362"
   },
   "outputs": [
    {
     "name": "stdout",
     "output_type": "stream",
     "text": [
      "las sentencias dinámicas son sentencias sql que se crean como cadenas de texto strings y en las que se insertanconcatenan valores obtenidos de alguna fuente normalmente proveniente del usuario lo que puede hacer que sean vulnerables a inyección sql si no se sanean las entradas como por ejemplo code eso es un ejemplo de una vulnerabilidad grave en la seguridad de una aplicación web o no porque si el usuario introdujese un valor como code nos encontraríamos con que la sentencia ejecutada sería code y se eliminaría la tabla usuarios con todos los datos contenidos en ella cómo puedo evitar que la inyección sql ocurra en php \n"
     ]
    }
   ],
   "source": [
    "print(dados_espanhol.questoes_tratadas[0])"
   ]
  },
  {
   "cell_type": "markdown",
   "metadata": {
    "colab_type": "text",
    "id": "YzQc9VHm1fqI"
   },
   "source": [
    "### NLTK e Bigrams"
   ]
  },
  {
   "cell_type": "code",
   "execution_count": 47,
   "metadata": {
    "colab": {},
    "colab_type": "code",
    "id": "NUOuq7IYomXF",
    "outputId": "5ac985fe-9d47-4fbc-ff5d-2a2ba41c7c76"
   },
   "outputs": [
    {
     "name": "stdout",
     "output_type": "stream",
     "text": [
      "[('a', 'l'), ('l', 'u'), ('u', 'r'), ('r', 'a')]\n"
     ]
    }
   ],
   "source": [
    "from nltk.util import bigrams\n",
    "texto_teste = \"alura\"\n",
    "print(list(bigrams(texto_teste)))"
   ]
  },
  {
   "cell_type": "code",
   "execution_count": 48,
   "metadata": {
    "colab": {},
    "colab_type": "code",
    "id": "0_YETzdlomXQ",
    "outputId": "b1efc51f-5bd4-462d-d11b-9b8ca697fd69"
   },
   "outputs": [
    {
     "name": "stdout",
     "output_type": "stream",
     "text": [
      "[('<s>', 'a'), ('a', 'l'), ('l', 'u'), ('u', 'r'), ('r', 'a'), ('a', '</s>')]\n"
     ]
    }
   ],
   "source": [
    "from nltk.lm.preprocessing import pad_both_ends\n",
    "\n",
    "print(list(bigrams(pad_both_ends(texto_teste, n = 2))))"
   ]
  },
  {
   "cell_type": "code",
   "execution_count": 49,
   "metadata": {
    "colab": {},
    "colab_type": "code",
    "id": "zA-VKARromXc",
    "outputId": "dfd3be92-ca67-4e73-ca84-b25e3f63510f"
   },
   "outputs": [
    {
     "data": {
      "text/html": [
       "<div>\n",
       "<style scoped>\n",
       "    .dataframe tbody tr th:only-of-type {\n",
       "        vertical-align: middle;\n",
       "    }\n",
       "\n",
       "    .dataframe tbody tr th {\n",
       "        vertical-align: top;\n",
       "    }\n",
       "\n",
       "    .dataframe thead th {\n",
       "        text-align: right;\n",
       "    }\n",
       "</style>\n",
       "<table border=\"1\" class=\"dataframe\">\n",
       "  <thead>\n",
       "    <tr style=\"text-align: right;\">\n",
       "      <th></th>\n",
       "      <th>Id</th>\n",
       "      <th>Título</th>\n",
       "      <th>Questão</th>\n",
       "      <th>Tags</th>\n",
       "      <th>Pontuação</th>\n",
       "      <th>Visualizações</th>\n",
       "      <th>sem_code_tag</th>\n",
       "      <th>questoes_tratadas</th>\n",
       "      <th>idioma</th>\n",
       "    </tr>\n",
       "  </thead>\n",
       "  <tbody>\n",
       "    <tr>\n",
       "      <th>0</th>\n",
       "      <td>2402</td>\n",
       "      <td>Como fazer hash de senhas de forma segura?</td>\n",
       "      <td>&lt;p&gt;Se eu fizer o &lt;em&gt;&lt;a href=\"http://pt.wikipe...</td>\n",
       "      <td>&lt;hash&gt;&lt;segurança&gt;&lt;senhas&gt;&lt;criptografia&gt;</td>\n",
       "      <td>350</td>\n",
       "      <td>22367</td>\n",
       "      <td>Se eu fizer o hash de senhas antes de armazená...</td>\n",
       "      <td>se eu fizer o hash de senhas antes de armazená...</td>\n",
       "      <td>port</td>\n",
       "    </tr>\n",
       "    <tr>\n",
       "      <th>1</th>\n",
       "      <td>6441</td>\n",
       "      <td>Qual é a diferença entre INNER JOIN e OUTER JOIN?</td>\n",
       "      <td>&lt;p&gt;Qual é a diferença entre &lt;code&gt;INNER JOIN&lt;/...</td>\n",
       "      <td>&lt;sql&gt;&lt;join&gt;</td>\n",
       "      <td>276</td>\n",
       "      <td>176953</td>\n",
       "      <td>Qual é a diferença entre CODE e CODE? Podem me...</td>\n",
       "      <td>qual é a diferença entre code e code podem me ...</td>\n",
       "      <td>port</td>\n",
       "    </tr>\n",
       "    <tr>\n",
       "      <th>2</th>\n",
       "      <td>579</td>\n",
       "      <td>Por que não devemos usar funções do tipo mysql_*?</td>\n",
       "      <td>&lt;p&gt;Uma dúvida muito comum é por que devemos pa...</td>\n",
       "      <td>&lt;php&gt;&lt;mysql&gt;</td>\n",
       "      <td>226</td>\n",
       "      <td>9761</td>\n",
       "      <td>Uma dúvida muito comum é por que devemos parar...</td>\n",
       "      <td>uma dúvida muito comum é por que devemos parar...</td>\n",
       "      <td>port</td>\n",
       "    </tr>\n",
       "    <tr>\n",
       "      <th>3</th>\n",
       "      <td>2539</td>\n",
       "      <td>As mensagens de erro devem se desculpar?</td>\n",
       "      <td>&lt;p&gt;É comum encontrar uma mensagem de erro que ...</td>\n",
       "      <td>&lt;aplicação-web&gt;&lt;gui&gt;&lt;console&gt;&lt;ux&gt;</td>\n",
       "      <td>214</td>\n",
       "      <td>5075</td>\n",
       "      <td>É comum encontrar uma mensagem de erro que diz...</td>\n",
       "      <td>é comum encontrar uma mensagem de erro que diz...</td>\n",
       "      <td>port</td>\n",
       "    </tr>\n",
       "    <tr>\n",
       "      <th>4</th>\n",
       "      <td>17501</td>\n",
       "      <td>Qual é a diferença de API, biblioteca e Framew...</td>\n",
       "      <td>&lt;p&gt;Me parecem termos muito próximos e eventual...</td>\n",
       "      <td>&lt;api&gt;&lt;framework&gt;&lt;terminologia&gt;&lt;biblioteca&gt;</td>\n",
       "      <td>193</td>\n",
       "      <td>54191</td>\n",
       "      <td>Me parecem termos muito próximos e eventualmen...</td>\n",
       "      <td>me parecem termos muito próximos e eventualmen...</td>\n",
       "      <td>port</td>\n",
       "    </tr>\n",
       "  </tbody>\n",
       "</table>\n",
       "</div>"
      ],
      "text/plain": [
       "      Id                                             Título  \\\n",
       "0   2402         Como fazer hash de senhas de forma segura?   \n",
       "1   6441  Qual é a diferença entre INNER JOIN e OUTER JOIN?   \n",
       "2    579  Por que não devemos usar funções do tipo mysql_*?   \n",
       "3   2539           As mensagens de erro devem se desculpar?   \n",
       "4  17501  Qual é a diferença de API, biblioteca e Framew...   \n",
       "\n",
       "                                             Questão  \\\n",
       "0  <p>Se eu fizer o <em><a href=\"http://pt.wikipe...   \n",
       "1  <p>Qual é a diferença entre <code>INNER JOIN</...   \n",
       "2  <p>Uma dúvida muito comum é por que devemos pa...   \n",
       "3  <p>É comum encontrar uma mensagem de erro que ...   \n",
       "4  <p>Me parecem termos muito próximos e eventual...   \n",
       "\n",
       "                                         Tags  Pontuação  Visualizações  \\\n",
       "0     <hash><segurança><senhas><criptografia>        350          22367   \n",
       "1                                 <sql><join>        276         176953   \n",
       "2                                <php><mysql>        226           9761   \n",
       "3           <aplicação-web><gui><console><ux>        214           5075   \n",
       "4  <api><framework><terminologia><biblioteca>        193          54191   \n",
       "\n",
       "                                        sem_code_tag  \\\n",
       "0  Se eu fizer o hash de senhas antes de armazená...   \n",
       "1  Qual é a diferença entre CODE e CODE? Podem me...   \n",
       "2  Uma dúvida muito comum é por que devemos parar...   \n",
       "3  É comum encontrar uma mensagem de erro que diz...   \n",
       "4  Me parecem termos muito próximos e eventualmen...   \n",
       "\n",
       "                                   questoes_tratadas idioma  \n",
       "0  se eu fizer o hash de senhas antes de armazená...   port  \n",
       "1  qual é a diferença entre code e code podem me ...   port  \n",
       "2  uma dúvida muito comum é por que devemos parar...   port  \n",
       "3  é comum encontrar uma mensagem de erro que diz...   port  \n",
       "4  me parecem termos muito próximos e eventualmen...   port  "
      ]
     },
     "execution_count": 49,
     "metadata": {},
     "output_type": "execute_result"
    }
   ],
   "source": [
    "dados_portugues[\"idioma\"] = \"port\"\n",
    "dados_espanhol[\"idioma\"] = \"esp\"\n",
    "dados_ingles[\"idioma\"] = \"ing\"\n",
    "\n",
    "dados_portugues.head()"
   ]
  },
  {
   "cell_type": "code",
   "execution_count": 50,
   "metadata": {
    "colab": {},
    "colab_type": "code",
    "id": "gW2YOqHjomXi",
    "outputId": "d459c280-cefa-4d76-e59d-ad33253c2d8c"
   },
   "outputs": [
    {
     "data": {
      "text/plain": [
       "500"
      ]
     },
     "execution_count": 50,
     "metadata": {},
     "output_type": "execute_result"
    }
   ],
   "source": [
    "len(dados_espanhol)"
   ]
  },
  {
   "cell_type": "markdown",
   "metadata": {},
   "source": [
    "### Separando dados de treino e teste"
   ]
  },
  {
   "cell_type": "code",
   "execution_count": null,
   "metadata": {},
   "outputs": [],
   "source": [
    "from sklearn.model_selection import train_test_split\n",
    "\n",
    "port_treino, port_teste = train_test_split(dados_portugues.questoes_tratadas,\n",
    "                                          test_size = 0.2,\n",
    "                                          random_state = 123)"
   ]
  },
  {
   "cell_type": "code",
   "execution_count": 52,
   "metadata": {
    "colab": {},
    "colab_type": "code",
    "id": "XGXJcWFUomXu"
   },
   "outputs": [],
   "source": [
    "from sklearn.model_selection import train_test_split\n",
    "\n",
    "esp_treino, esp_teste = train_test_split(dados_espanhol.questoes_tratadas,\n",
    "                                          test_size = 0.2,\n",
    "                                          random_state = 123)"
   ]
  },
  {
   "cell_type": "code",
   "execution_count": 53,
   "metadata": {
    "colab": {},
    "colab_type": "code",
    "id": "J5qTJ-IOomX1"
   },
   "outputs": [],
   "source": [
    "from sklearn.model_selection import train_test_split\n",
    "\n",
    "ing_treino, ing_teste = train_test_split(dados_ingles.questoes_tratadas,\n",
    "                                          test_size = 0.2,\n",
    "                                          random_state = 123)"
   ]
  },
  {
   "cell_type": "code",
   "execution_count": 54,
   "metadata": {
    "colab": {},
    "colab_type": "code",
    "id": "I0_erO76omX6"
   },
   "outputs": [],
   "source": [
    "todas_questoes_port = ' '.join(port_treino)\n"
   ]
  },
  {
   "cell_type": "code",
   "execution_count": 55,
   "metadata": {
    "colab": {},
    "colab_type": "code",
    "id": "TXsDVtZOomYB",
    "outputId": "56e16190-6ddb-4978-e00d-45cb3013f57f",
    "scrolled": true
   },
   "outputs": [
    {
     "name": "stdout",
     "output_type": "stream",
     "text": [
      "['sou', 'iniciante', 'em', 'php', 'e', 'gostaria', 'de', 'saber', 'se', 'pdophp', 'data', 'objects', 'é', 'a', 'maneira', 'mais', 'segura', 'de', 'se', 'conectar', 'a', 'um', 'banco', 'de', 'dados', 'preciso', 'também', 'de', 'um', 'exemplo', 'de', 'como', 'fazer', 'esta', 'conexão', 'e', 'inserirselecionar', 'dados', 'por', 'exemplo', 'code', 'estou', 'fazendo', 'um', 'efeito', 'aqui', 'mas', 'não', 'estou', 'entendendo', 'esse', 'sinal', 'de', 'code', 'que', 'tem', 'no', 'framework', 'resultado', 'final', 'code', 'code', 'code', 'qual', 'diferença', 'de', 'linguagem', 'compilada', 'para', 'linguagem', 'interpretada', 'e', 'quais', 'as', 'vantagens', 'de', 'uma', 'para', 'outra', 'qual', 'a', 'diferença', 'entre', 'code', 'e', 'code', 'ambas', 'são', 'muito', 'parecidas', 'mas', 'em', 'qual', 'caso', 'é', 'melhor', 'usar', 'uma', 'ou', 'a', 'outra', 'gostaria', 'de', 'código', 'de', 'exemplos', 'um', 'compilador', 'é', 'programado', 'em', 'qual', 'linguagem', 'todos', 'os', 'compiladores', 'de', 'uma', 'linguagem', 'são', 'iguais', 'ou', 'pode', 'existir', 'um', 'melhor', 'que', 'outro', 'essa', 'pergunta', 'parece', 'ter', 'uma', 'resposta', 'óbvia', 'mas', 'eu', 'confesso', 'que', 'ainda', 'não', 'peguei', 'a', 'ideia', 'sozinho', 'estou', 'trabalhando', 'com', 'orientação', 'a', 'objetos', 'desde', 'principalmente', 'voltado', 'para', 'desenvolvimento', 'web', 'logo', 'que', 'comecei', 'já', 'ouvi', 'falar', 'sobre', 'mvc', 'quando', 'peguei', 'um', 'livro', 'de', 'mvc', 'pra', 'ler', 'ele', 'citava', 'muitos', 'outros', 'padrões', 'de', 'arquitetura', 'entre', 'eles', 'o', 'mvvm', 'e', 'o', 'mvp', 'mas', 'qual', 'o', 'real', 'papel', 'desses', 'padrões', 'de', 'arquitetura', 'sempre', 'que', 'vamos', 'fazer', 'um', 'projeto', 'orientado', 'a', 'objetos', 'escolhemos', 'algum', 'padrão', 'pra', 'basear', 'ele', 'claro', 'que', 'é', 'possível', 'criar', 'um', 'novo', 'projeto', 'e', 'sair', 'programando', 'sem', 'padrão', 'nenhum', 'mas', 'na', 'prática', 'sempre', 'escolhese', 'um', 'padrão', 'pra', 'basear', 'o', 'projeto', 'além', 'disso', 'me', 'parece', 'que', 'a', 'decisão', 'dos', 'padrões', 'se', 'baseia', 'em', 'última', 'instância', 'não', 'no', 'modelo', 'de', 'domínio', 'mas', 'na', 'interface', 'com', 'o', 'usuário', 'digo', 'isso', 'porque', 'vi', 'o', 'seguinte', 'a', 'motivação', 'para', 'o', 'mvc', 'na', 'web', 'é', 'o', 'fato', 'do', 'http', 'não', 'manter', 'estado', 'o', 'fato', 'da', 'interface', 'com', 'o', 'usuário', 'ser', 'na', 'web', 'o', 'mvvm', 'aparece', 'em', 'cenários', 'onde', 'há', 'estado', 'ou', 'seja', 'o', 'fato', 'da', 'interface', 'com', 'o', 'usuário', 'permitir', 'isso', 'e', 'por', 'ai', 'vai', 'como', 'é', 'feita', 'essa', 'escolha', 'de', 'padrão', 'em', 'um', 'tabuleiro', 'de', 'xadrez', 'em', 'qualquer', 'casa', 'possuo', 'um', 'cavalo', 'representado', 'em', 'vermelho', 'e', 'terei', 'somente', 'uma', 'outra', 'peça', 'representada', 'em', 'verde', 'que', 'o', 'cavalo', 'deve', 'ir', 'até', 'ela', 'devo', 'utilizar', 'o', 'caminho', 'mais', 'simples', 'e', 'levar', 'em', 'consideração', 'o', 'movimento', 'do', 'cavalo', 'em', 'l', 'e', 'contabilizar', 'os', 'movimentos', 'até', 'chegar', 'no', 'ponto', 'determinado', 'como', 'no', 'exemplo', 'abaixo', 'como', 'posso', 'fazer', 'isso', 'usando', 'python', 'tenho', 'em', 'mente', 'que', 'tenho', 'que', 'usar', 'matriz', 'e', 'uma', 'lista', 'como', 'entrada', 'de', 'posição', 'mas', 'não', 'sei', 'como', 'continuar', 'existe', 'diferença', 'entre', 'code', 'além', 'de', 'um', 'ser', 'javascript', 'e', 'o', 'outro', 'ser', 'jquery', 'vejo', 'que', 'ambos', 'os', 'eventos', 'são', 'disparados', 'assim', 'que', 'o', 'dom', 'modelo', 'de', 'objetos', 'do', 'documento', 'é', 'carregado', 'na', 'prática', 'como', 'são', 'escritos', 'code', 'quando', 'se', 'lê', 'sobre', 'arquitetura', 'de', 'software', 'na', 'web', 'às', 'vezes', 'é', 'usado', 'o', 'termo', 'código', 'spaghetti', 'se', 'referindo', 'a', 'algo', 'que', 'deve', 'ser', 'evitado', 'porém', 'nunca', 'consegui', 'entender', 'com', 'clareza', 'o', 'que', 'código', 'spaghetti', 'significa', 'sei', 'que', 'é', 'possível', 'executar', 'um', 'code', 'com', 'dados', 'de', 'outra', 'tabela', 'code', 'mas', 'gostaria', 'de', 'fazer', 'o', 'mesmo', 'com', 'um', 'code', 'algo', 'equivalente', 'à', 'isso', 'code', 'é', 'possível', 'como', 'é', 'apenas', 'conveniência', 'digo', 'é', 'desnecessário', 'instanciar', 'um', 'objeto', 'para', 'utilizar', 'uma', 'função', 'que', 'não', 'utiliza', 'os', 'dados', 'do', 'mesmo', 'há', 'diferença', 'na', 'execução', 'memória', 'processamento', 'recursos', 'em', 'geral', 'eu', 'sei', 'tem', 'a', 'pergunta', 'qual', 'a', 'diferena', 'de', 'arquitetura', 'e', 'engenharia', 'de', 'software', 'ali', 'já', 'responde', 'em', 'parte', 'ainda', 'que', 'eu', 'não', 'tenha', 'ficado', 'satisfeito', 'com', 'as', 'respostas', 'que', 'até', 'são', 'boas', 'se', 'puder', 'fazer', 'algo', 'melhor', 'ajudará', 'caso', 'contrário', 'deixa', 'o', 'que', 'já', 'tem', 'lá', 'especificamente', 'a', 'arquitetura', 'define', 'o', 'que', 'mas', 'acho', 'que', 'o', 'que', 'separa', 'cada', 'função', 'destas', 'disciplinas', 'do', 'título', 'não', 'fica', 'claro', 'por', 'exemplo', 'do', 'que', 'trata', 'a', 'ciência', 'da', 'computação', 'que', 'não', 'trata', 'na', 'engenharia', 'de', 'software', 'ou', 'viceversa', 'programação', 'e', 'codificação', 'parecem', 'a', 'mesma', 'coisa', 'mas', 'é', 'mesmo', 'o', 'mesmo', 'pode', 'ser', 'dito', 'de', 'análise', 'e', 'design', 'pra', 'mim', 'parecem', 'coisas', 'diferentes', 'análise', 'talvez', 'seja', 'um', 'estranho', 'nisso', 'ficaadicapraresponder', 'eu', 'vejo', 'estas', 'coisas', 'como', 'uma', 'hierarquia', 'ou', 'fases', 'do', 'processo', 'de', 'desenvolvimento', 'de', 'software', 'como', 'um', 'todo', 'por', 'isso', 'acho', 'que', 'todas', 'estão', 'relacionadas', 'diretamente', 'por', 'isso', 'fiz', 'em', 'uma', 'pergunta', 'só', 'então', 'quero', 'entender', 'a', 'linha', 'que', 'determina', 'onde', 'começa', 'uma', 'e', 'outra', 'o', 'que', 'cada', 'uma', 'define', 'não', 'quero', 'detalhes', 'só', 'linhas', 'gerais', 'se', 'for', 'necessário', 'detalhes', 'de', 'cada', 'função', 'farei', 'perguntas', 'específicas', 'note', 'que', 'quero', 'saber', 'sobre', 'as', 'funções', 'efetivamente', 'exercidas', 'não', 'sobre', 'cargos', 'eu', 'sei', 'que', 'uma', 'mesma', 'pessoa', 'pode', 'ter', 'mais', 'de', 'uma', 'função', 'e', 'que', 'o', 'cargo', 'que', 'ela', 'ocupa', 'não', 'indica', 'nada', 'que', 'ela', 'pode', 'ou', 'não', 'fazer', 'já', 'conheço', 'a', 'wikipedia', 'pode', 'colocar', 'links', 'para', 'complementar', 'mas', 'uma', 'resposta', 'boa', 'vai', 'além', 'do', 'que', 'está', 'lá', 'inclusive', 'não', 'sei', 'se', 'é', 'uma', 'fonte', 'tão', 'confiável', 'assim', 'nesse', 'assunto', 'não', 'quero', 'opiniões', 'precisa', 'de', 'algum', 'fundamento', 'caso', 'contrário', 'considerarei', 'a', 'resposta', 'errada', 'já', 'ouvi', 'falar', 'sobre', 'uma', 'técnica', 'assim', 'chamada', 'e', 'qualquer', 'coisa', 'sobre', 'explorar', 'colisões', 'de', 'hashes', 'mas', 'como', 'funciona', 'essa', 'técnica', 'e', 'onde', 'ela', 'pode', 'ser', 'aplicada', 'alguém', 'pode', 'dar', 'uma', 'explicação', 'prática', 'sobre', 'motivos', 'para', 'se', 'usar', 'interfaces', 'e', 'por', 'que', 'elas', 'são', 'úteis', 'para', 'nós', 'desenvolvedores', 'se', 'eu', 'fizer', 'o', 'hash', 'de', 'senhas', 'antes', 'de', 'armazenálas', 'em', 'meu', 'banco', 'de', 'dados', 'é', 'suficiente', 'para', 'evitar', 'que', 'elas', 'sejam', 'recuperadas', 'por', 'alguém', 'estou', 'falando', 'apenas', 'da', 'recuperação', 'diretamente', 'do', 'banco', 'de', 'dados', 'e', 'não', 'qualquer', 'outro', 'tipo', 'de', 'ataque', 'como', 'força', 'bruta', 'na', 'página', 'de', 'login', 'da', 'aplicação', 'keylogger', 'no', 'cliente', 'e', 'criptoanálise', 'rubberhose', 'qualquer', 'forma', 'de', 'hash', 'não', 'vai', 'impedir', 'esses', 'ataques', 'tenho', 'preocupação', 'em', 'dificultar', 'ou', 'até', 'impossibilitar', 'a', 'obtenção', 'das', 'senhas', 'originais', 'caso', 'o', 'banco', 'de', 'dados', 'seja', 'comprometido', 'como', 'dar', 'maior', 'garantia', 'de', 'segurança', 'neste', 'aspecto', 'quais', 'preocupações', 'adicionais', 'evitariam', 'o', 'acesso', 'às', 'senhas', 'existem', 'formas', 'melhores', 'de', 'fazer', 'esse', 'hash', 'estou', 'trabalhando', 'com', 'code', 'mas', 'imagino', 'que', 'isso', 'possa', 'ser', 'feito', 'só', 'com', 'code', 'quando', 'faço', 'um', 'upload', 'o', 'navegador', 'mostra', 'na', 'barra', 'de', 'status', 'a', 'porcentagem', 'eu', 'gostaria', 'de', 'pegar', 'esse', 'valor', 'e', 'criar', 'a', 'partir', 'dele', 'uma', 'barra', 'de', 'progresso', 'personalizada', 'a', 'barra', 'eu', 'sei', 'fazer', 'só', 'não', 'sei', 'como', 'pegar', 'o', 'valor', 'atual', 'da', 'porcentagem', 'como', 'obtêlo', 'esta', 'é', 'uma', 'pergunta', 'conceitual', 'que', 'sempre', 'gera', 'confusão', 'na', 'hora', 'de', 'decidir', 'se', 'uma', 'coluna', 'deve', 'ou', 'não', 'aceitar', 'null', 'há', 'uma', 'corrente', 'que', 'considera', 'o', 'uso', 'do', 'null', 'um', 'erro', 'e', 'que', 'sempre', 'deveria', 'ser', 'feito', 'uma', 'organização', 'no', 'banco', 'de', 'dados', 'normalmente', 'aplicando', 'normalização', 'evitando', 'assim', 'qualquer', 'uso', 'de', 'valores', 'null', 'tenho', 'uma', 'dúvida', 'especial', 'com', 'colunas', 'do', 'tipo', 'code', 'em', 'qualquer', 'de', 'suas', 'variantes', 'onde', 'existe', 'uma', 'forma', 'de', 'representar', 'que', 'não', 'há', 'qualquer', 'informação', 'mantendo', 'a', 'coluna', 'em', 'estado', 'vazio', 'mas', 'esse', 'valor', 'pode', 'não', 'ser', 'suficiente', 'para', 'indicar', 'o', 'que', 'se', 'quer', 'com', 'a', 'coluna', 'já', 'obtive', 'alguma', 'resposta', 'no', 'stack', 'exchange', 'do', 'ponto', 'de', 'vista', 'do', 'dba', 'mas', 'além', 'das', 'respostas', 'não', 'terem', 'me', 'satisfeito', 'completamente', 'tinham', 'um', 'viés', 'do', 'administrador', 'e', 'não', 'do', 'desenvolvedor', 'e', 'eu', 'também', 'acabei', 'me', 'restringindo', 'a', 'um', 'tipo', 'de', 'campo', 'e', 'ficou', 'a', 'dúvida', 'se', 'o', 'mesmo', 'comportamento', 'valeria', 'para', 'outros', 'tipos', 'de', 'colunas', 'que', 'possam', 'ou', 'não', 'ter', 'um', 'valor', 'natural', 'que', 'possa', 'representar', 'a', 'ausência', 'de', 'valor', 'você', 'pode', 'usar', 'o', 'valor', 'ou', 'negativo', 'em', 'alguns', 'campos', 'definindo', 'o', 'uso', 'do', 'valor', 'como', 'ausência', 'de', 'valor', 'relevante', 'cada', 'sistema', 'de', 'banco', 'de', 'dados', 'trata', 'null', 'de', 'um', 'jeito', 'diferente', 'e', 'é', 'muito', 'difícil', 'transferir', 'um', 'modelo', 'criado', 'em', 'um', 'banco', 'para', 'outro', 'com', 'semântica', 'diferente', 'quando', 'você', 'cria', 'sua', 'própria', 'semântica', 'isso', 'fica', 'mais', 'fácil', 'então', 'existem', 'cenários', 'em', 'que', 'o', 'null', 'é', 'realmente', 'benéfico', 'e', 'seu', 'uso', 'traz', 'vantagens', 'que', 'compensem', 'os', 'problemas', 'que', 'o', 'seu', 'uso', 'pode', 'carregar', 'em', 'quais', 'situações', 'devem', 'ser', 'usados', 'qual', 'a', 'diferença', 'entre', 'eles', 'o', 'que', 'é', 'code', 'como', 'se', 'usa', 'e', 'porque', 'usar', 'code', 'em', 'vez', 'de', 'code', 'bom', 'comecei', 'a', 'desenvolver', 'web', 'a', 'pouco', 'tempo', 'digamos', 'ano', 'e', 'aqui', 'na', 'empresa', 'utilizamos', 'muito', 'code', 'e', 'code', 'sei', 'que', 'na', 'visão', 'de', 'html', 'os', 'frames', 'estão', 'obsoletos', 'mas', 'ainda', 'vejo', 'muita', 'gente', 'defendendo', 'o', 'uso', 'deles', 'gostaria', 'muito', 'de', 'saber', 'o', 'por', 'que', 'deles', 'serem', 'motivo', 'de', 'tanto', 'debate', 'quais', 'seus', 'benefícios', 'e', 'malefícios', 'na', 'hora', 'de', 'se', 'desenvolver', 'se', 'o', 'code', 'está', 'obsoleto', 'qual', 'é', 'o', 'seu', 'substituto', 'na', 'visão', 'de', 'html', 'se', 'para', 'o', 'html', 'os', 'frames', 'estão', 'obsoletos', 'deve', 'ter', 'uma', 'resposta', 'plausível', 'do', 'porque', 'visualizando', 'um', 'código', 'aqui', 'no', 'sopt', 'notei', 'a', 'utilização', 'do', 'simbolo', 'e', 'fiquei', 'com', 'dúvida', 'sobre', 'sua', 'utilização', 'o', 'que', 'é', 'o', 'simbolo', 'antes', 'de', 'uma', 'string', 'para', 'que', 'ele', 'serve', 'por', 'que', 'utilizálo', 'exemplo', 'code', 'desde', 'que', 'lançou', 'o', 'html', 'tenho', 'notado', 'que', 'diversas', 'tags', 'diferentes', 'começaram', 'a', 'surgir', 'em', 'todo', 'lugar', 'que', 'tentei', 'estudar', 'sobre', 'o', 'assunto', 'sempre', 'via', 'a', 'tal', 'da', 'expressão', 'semântica', 'entendi', 'que', 'essas', 'tags', 'na', 'verdade', 'não', 'têm', 'uma', 'habilidade', 'especial', 'mas', 'é', 'apenas', 'como', 'um', 'contexto', 'de', 'organização', 'me', 'surgiram', 'algumas', 'dúvidas', 'e', 'preocupação', 'quanto', 'a', 'essas', 'tags', 'pois', 'como', 'eu', 'não', 'tive', 'paciência', 'de', 'aprender', 'o', 'que', 'cada', 'tag', 'significava', 'eu', 'continuei', 'a', 'usar', 'a', 'boa', 'e', 'velha', 'code', 'essas', 'tags', 'semânticas', 'ajudam', 'a', 'melhorar', 'o', 'seo', 'de', 'um', 'site', 'usar', 'somente', 'divs', 'como', 'eu', 'costumo', 'fazer', 'sempre', 'é', 'prejudicial', 'ao', 'seo', 'do', 'site', 'há', 'ainda', 'uma', 'outra', 'dúvida', 'que', 'gostaria', 'de', 'esclarecer', 'é', 'em', 'relação', 'à', 'algumas', 'tags', 'que', 'não', 'são', 'tão', 'óbvias', 'para', 'mim', 'por', 'exemplo', 'olhando', 'a', 'tag', 'code', 'ou', 'code', 'parece', 'que', 'é', 'obvio', 'que', 'se', 'trata', 'do', 'cabecalho', 'e', 'rodapé', 'do', 'site', 'porém', 'algumas', 'vezes', 'já', 'vi', 'um', 'code', 'e', 'um', 'code', 'em', 'cada', 'code', 'code', 'por', 'sua', 'vez', 'não', 'entendi', 'para', 'que', 'serve', 'pois', 'cada', 'tutorial', 'que', 'vi', 'explica', 'uma', 'coisa', 'de', 'um', 'jeito', 'diferente', 'talvez', 'para', 'mim', 'a', 'única', 'tag', 'que', 'ficou', 'óbvia', 'o', 'seu', 'uso', 'é', 'a', 'code', 'então', 'vou', 'fazer', 'mais', 'alguma', 'perguntas', 'qual', 'é', 'a', 'finalidade', 'semântica', 'das', 'tags', 'code', 'code', 'code', 'code', 'e', 'code', 'posso', 'usar', 'um', 'code', 'e', 'um', 'code', 'por', 'página', 'ou', 'posso', 'usálos', 'dentro', 'de', 'cada', 'code', 'e', 'se', 'sim', 'por', 'quê', 'estou', 'querendo', 'desenvolver', 'um', 'site', 'que', 'rode', 'todo', 'no', 'mesmo', 'arquivo', 'mas', 'não', 'sei', 'bem', 'como', 'procurar', 'material', 'de', 'estudo', 'para', 'isso', 'assim', 'site', 'normalestou', 'na', 'página', 'indexphp', 'quando', 'clico', 'no', 'menu', 'portfólio', 'por', 'exemplo', 'ele', 'vai', 'e', 'carrega', 'o', 'arquivo', 'porfoliophp', 'site', 'que', 'eu', 'quero', 'fazerestou', 'na', 'página', 'indexphp', 'quando', 'eu', 'clico', 'no', 'menu', 'portfólio', 'o', 'site', 'faz', 'uma', 'animação', 'fade', 'sidescroll', 'etc', 'e', 'mostra', 'o', 'conteúdo', 'do', 'portfólio', 'sem', 'a', 'necessidade', 'de', 'carregar', 'outro', 'arquivo', 'alguém', 'pode', 'me', 'dar', 'uma', 'luz', 'já', 'trabalhei', 'com', 'sites', 'feitos', 'em', 'uma', 'página', 'só', 'mas', 'são', 'no', 'modelo', 'one', 'page', 'scroll', 'website', 'acredito', 'que', 'eu', 'precise', 'trabalhar', 'com', 'o', 'ajax', 'mas', 'não', 'tenho', 'certeza', 'ainda', 'achei', 'engraçado', 'o', 'exemplo', 'mas', 'é', 'válida', 'a', 'pergunta', 'no', 'sentido', 'de', 'entender', 'o', 'porquê', 'de', 'o', 'php', 'se', 'comportar', 'dessa', 'forma', 'quando', 'fazemos', 'a', 'soma', 'exemplificada', 'abaixo', 'uma', 'inteiro', 'somado', 'a', 'uma', 'string', 'code', 'o', 'resultado', 'é', 'code', 'porém', 'nesse', 'caso', 'ele', 'retorna', 'apenas', 'code', 'code', 'por', 'que', 'o', 'interpretador', 'do', 'php', 'se', 'comporta', 'dessa', 'forma', 'o', 'timestamp', 'é', 'a', 'representação', 'numérica', 'de', 'uma', 'data', 'e', 'é', 'bastante', 'utilizado', 'nas', 'linguagens', 'de', 'programação', 'e', 'em', 'banco', 'de', 'dados', 'quero', 'saber', 'como', 'é', 'feito', 'esse', 'cálculo', 'existe', 'alguma', 'padronização', 'para', 'esse', 'cálculo', 'uma', 'iso', 'ou', 'algo', 'parecido', 'já', 'ouvi', 'falar', 'em', 'code', 'existem', 'outros', 'sabores', 'de', 'timestamp', 'existe', 'alguma', 'diferença', 'entre', 'code', 'e', 'code', 'eu', 'sei', 'que', 'os', 'dois', 'retornam', 'o', 'mesmo', 'resultado', 'tem', 'algum', 'tipo', 'de', 'convenção', 'adotada', 'para', 'usar', 'sempre', 'o', 'code', 'para', 'medir', 'a', 'performance', 'e', 'comparar', 'dois', 'códigos', 'em', 'code', 'eu', 'faço', 'da', 'seguinte', 'maneira', 'no', 'console', 'do', 'navegador', 'code', 'explicação', 'rápida', 'basta', 'iniciar', 'um', 'contador', 'em', 'milissegundos', 'rodar', 'o', 'código', 'que', 'eu', 'quero', 'testar', 'várias', 'vezes', 'etc', 'dentro', 'de', 'um', 'loop', 'e', 'anotar', 'o', 'tempo', 'depois', 'é', 'só', 'fazer', 'o', 'mesmo', 'procedimento', 'para', 'o', 'outro', 'código', 'a', 'ser', 'testado', 'e', 'comparar', 'os', 'tempos', 'para', 'ver', 'quem', 'tem', 'o', 'melhor', 'desempenho', 'para', 'o', 'navegador', 'em', 'questão', 'mas', 'e', 'em', 'php', 'será', 'que', 'o', 'método', 'a', 'seguir', 'é', 'o', 'mais', 'recomendado', 'code', 'baseado', 'em', 'httpphpdzonecomarticlesthingsyoushouldchecknow', 'vejo', 'algumas', 'perguntas', 'no', 'site', 'com', 'a', 'tag', 'ux', 'sobre', 'posicionamento', 'de', 'controles', 'cores', 'etc', 'isso', 'normalmente', 'me', 'parece', 'fazer', 'parte', 'das', 'escolhas', 'do', 'designer', 'ou', 'até', 'mesmo', 'do', 'usuário', 'o', 'que', 'é', 'ux', 'e', 'como', 'isso', 'pode', 'me', 'ajudar', 'a', 'desenvolver', 'aplicações', 'melhores', 'ou', 'mais', 'agradáveis', 'para', 'os', 'usuários', 'achar', 'informações', 'de', 'como', 'calcular', 'os', 'dígitos', 'verificadores', 'do', 'cpf', 'não', 'é', 'nada', 'difícil', 'qualquer', 'busca', 'no', 'google', 'dá', 'inúmeros', 'resultados', 'a', 'maioria', 'é', 'confiável', 'e', 'tem', 'até', 'uma', 'fonte', 'bastante', 'respeitada', 'que', 'é', 'a', 'entrada', 'sobre', 'cpf', 'na', 'wikipedia', 'onde', 'infelizmente', 'alguns', 'códigos', 'previamente', 'existentes', 'foram', 'removidos', 'alguns', 'dos', 'algoritmos', 'apresentados', 'ali', 'estão', 'em', 'melhor', 'forma', 'que', 'outros', 'lá', 'tem', 'até', 'como', 'fazer', 'isso', 'em', 'plsql', 'mas', 'a', 'dúvida', 'seria', 'como', 'fazer', 'o', 'cálculo', 'dos', 'dígitos', 'e', 'obter', 'se', 'este', 'cálculo', 'é', 'válido', 'ou', 'inválido', 'usando', 'apenas', 'o', 'comando', 'code', 'do', 'sql', 'preferencialmente', 'com', 'sintaxe', 'ansi', 'ou', 'tão', 'próxima', 'quanto', 'possível', 'mas', 'o', 'mais', 'importante', 'é', 'o', 'algoritmo', 'mesmo', 'mais', 'do', 'que', 'um', 'aspecto', 'técnico', 'específico', 'o', 'algoritmo', 'nesta', 'forma', 'é', 'útil', 'quando', 'não', 'se', 'tem', 'acesso', 'a', 'um', 'sistema', 'de', 'banco', 'de', 'dados', 'com', 'stored', 'procedures', 'ou', 'privilégios', 'para', 'criar', 'uma', 'sp', 'em', 'uma', 'base', 'de', 'dados', 'se', 'ajudar', 'inicialmente', 'o', 'formato', 'do', 'dado', 'não', 'contém', 'sinais', 'separadores', 'este', 'é', 'um', 'cenário', 'onde', 'não', 'se', 'sabe', 'se', 'os', 'dados', 'contidos', 'na', 'base', 'de', 'dados', 'são', 'confiáveis', 'ou', 'não', 'montar', 'um', 'code', 'em', 'um', 'algoritmo', 'que', 'geralmente', 'é', 'feito', 'utilizando', 'códigos', 'mais', 'complexos', 'como', 'demonstrado', 'na', 'wikipedia', 'não', 'é', 'algo', 'tão', 'trivial', 'alternativas', 'que', 'ajudem', 'resolver', 'o', 'problema', 'da', 'forma', 'correta', 'serão', 'apreciadas', 'obviamente', 'não', 'pode', 'haver', 'falsos', 'positivos', 'ou', 'negativos', 'o', 'que', 'destruiria', 'o', 'propósito', 'desconheço', 'local', 'onde', 'há', 'documentação', 'oficial', 'sobre', 'o', 'assunto', 'já', 'procurei', 'bastante', 'e', 'não', 'achei', 'pelo', 'menos', 'nos', 'lugares', 'óbvios', 'é', 'incrível', 'como', 'falta', 'fonte', 'oficial', 'em', 'todos', 'os', 'locais', 'onde', 'se', 'ensina', 'fazer', 'o', 'cálculo', 'mas', 'ele', 'é', 'algo', 'bem', 'conhecido', 'no', 'brasil', 'não', 'importa', 'a', 'verificação', 'da', 'situação', 'cadastral', 'na', 'receita', 'federal', 'somente', 'se', 'os', 'dígitos', 'estão', 'corretos', 'minha', 'dúvida', 'é', 'bem', 'objetiva', 'tratandose', 'de', 'seletores', 'css', 'tenho', 'o', 'seguinte', 'código', 'code', 'e', 'code', 'code', 'code', 'sei', 'que', 'já', 'há', 'uma', 'pergunta', 'relacionada', 'mas', 'nesse', 'caso', 'estou', 'tratando', 'com', 'uma', 'série', 'de', 'seletores', 'e', 'não', 'somente', 'code', 'e', 'code', 'porque', 'é', 'aplicado', 'o', 'estilo', 'do', 'seletor', 'code', 'porque', 'o', 'code', 'tem', 'prioridade', 'em', 'cima', 'dos', 'outros', 'tantos', 'seletores', 'já', 'que', 'os', 'demais', 'vem', 'depois', 'dele', 'na', 'última', 'linha', 'de', 'estilo', 'eu', 'tenho', 'um', 'caminho', 'com', 'seletores', 'e', 'mesmo', 'assim', 'o', 'code', 'tem', 'prioridade', 'porquê', 'clipper', 'foi', 'uma', 'linguagem', 'muita', 'usada', 'nos', 'anos', 'e', 'até', 'boa', 'parte', 'dos', 'anos', 'especialmente', 'em', 'alguns', 'países', 'como', 'o', 'brasil', 'de', 'fato', 'muitos', 'sistemas', 'administrativos', 'ainda', 'usados', 'hoje', 'foram', 'feitos', 'nele', 'mas', 'ainda', 'é', 'possível', 'desenvolver', 'softwares', 'modernos', 'usando', 'ele', 'eu', 'estava', 'estudando', 'essa', 'documentação', 'sobre', 'aspnet', 'identity', 'e', 'nos', 'exemplos', 'em', 'c', 'tem', 'uma', 'palavrachave', 'que', 'eu', 'desconheço', 'que', 'é', 'a', 'code', 'exemplo', 'code', 'para', 'que', 'serve', 'essa', 'palavrachave', 'em', 'c', 'temos', 'propriedades', 'com', 'getters', 'e', 'setters', 'o', 'que', 'facilita', 'a', 'inserção', 'e', 'leitura', 'de', 'dados', 'em', 'um', 'objeto', 'quando', 'alguma', 'lógica', 'deve', 'ser', 'realizada', 'em', 'outras', 'linguagens', 'como', 'o', 'java', 'essas', 'tarefas', 'são', 'feitas', 'com', 'métodos', 'quando', 'precisamos', 'de', 'lógica', 'para', 'ler', 'um', 'campo', 'ou', 'para', 'escrever', 'nele', 'usamos', 'métodos', 'code', 'e', 'code', 'coisas', 'do', 'tipo', 'essa', 'abordagem', 'com', 'métodos', 'também', 'pode', 'ser', 'feita', 'no', 'c', 'e', 'é', 'ai', 'que', 'ta', 'minha', 'dúvida', 'quais', 'são', 'as', 'vantagens', 'e', 'desvantagens', 'no', 'c', 'dessas', 'duas', 'abordagens', 'minha', 'preocupação', 'com', 'essa', 'questão', 'é', 'a', 'seguinte', 'estive', 'resolvendo', 'exercícios', 'de', 'orientação', 'a', 'objetos', 'e', 'notei', 'que', 'a', 'grande', 'maioria', 'dos', 'métodos', 'que', 'os', 'exercícios', 'pedem', 'pra', 'codificar', 'podem', 'se', 'tornar', 'propriedades', 'no', 'c', 'o', 'problema', 'é', 'que', 'isso', 'faz', 'a', 'classe', 'parecer', 'anêmica', 'ou', 'seja', 'tendo', 'só', 'propriedades', 'e', 'sem', 'lógica', 'dessa', 'forma', 'existem', 'diferenças', 'entre', 'as', 'duas', 'abordagens', 'existe', 'algum', 'tipo', 'de', 'recomendação', 'sobre', 'qual', 'técnica', 'usar', 'edição', 'a', 'resposta', 'do', 'maniero', 'é', 'muito', 'boa', 'e', 'esclarece', 'algumas', 'coisas', 'com', 'relação', 'a', 'esse', 'tipo', 'de', 'decisão', 'mas', 'vou', 'adicionar', 'alguns', 'exemplos', 'para', 'ilustar', 'o', 'que', 'estou', 'falando', 'só', 'pra', 'completar', 'um', 'ponto', 'os', 'exemplos', 'são', 'de', 'exercícios', 'em', 'java', 'um', 'dos', 'exercícios', 'que', 'resolvi', 'pedia', 'uma', 'classe', 'code', 'com', 'métodos', 'code', 'code', 'code', 'e', 'code', 'para', 'decidir', 'se', 'o', 'ano', 'é', 'bissexto', 'os', 'métodos', 'code', 'claramente', 'em', 'c', 'poderiam', 'ser', 'implementados', 'como', 'getters', 'acontece', 'que', 'o', 'code', 'também', 'poderia', 'afinal', 'ele', 'devolve', 'uma', 'característica', 'do', 'objeto', 'invés', 'de', 'executar', 'um', 'comportamento', 'claro', 'que', 'existe', 'uma', 'lógica', 'pra', 'verificar', 'isso', 'mas', 'me', 'pergunto', 'se', 'isso', 'não', 'seria', 'uma', 'propriedade', 'outro', 'exercício', 'pede', 'uma', 'classe', 'code', 'que', 'deve', 'ter', 'métodos', 'code', 'para', 'inserir', 'a', 'alternativa', 'da', 'próxima', 'questão', 'code', 'para', 'retornar', 'o', 'número', 'de', 'acertos', 'code', 'para', 'retornar', 'a', 'nota', 'e', 'code', 'para', 'comparar', 'com', 'outra', 'prova', 'novamente', 'os', 'métodos', 'code', 'e', 'code', 'me', 'parecem', 'naturalmente', 'propriedades', 'eles', 'são', 'características', 'da', 'prova', 'existe', 'novamente', 'uma', 'lógica', 'pra', 'verificar', 'isso', 'basicamente', 'é', 'preciso', 'comparar', 'cada', 'questão', 'com', 'os', 'dados', 'provenientes', 'de', 'um', 'gabarito', 'informado', 'no', 'construtor', 'mas', 'por', 'conta', 'de', 'parecerem', 'características', 'achei', 'que', 'deveriam', 'ser', 'propriedades', 'acontece', 'que', 'tirando', 'esses', 'métodos', 'e', 'transformando', 'em', 'propriedades', 'essas', 'classes', 'ficam', 'quase', 'sem', 'funcionalidades', 'e', 'não', 'só', 'elas', 'mas', 'muitas', 'outras', 'que', 'já', 'vi', 'por', 'ai', 'isso', 'indicaria', 'o', 'problema', 'que', 'ouvi', 'dizer', 'se', 'chama', 'modelo', 'anêmico', 'dessa', 'forma', 'a', 'decisão', 'de', 'algo', 'como', 'propriedade', 'não', 'depende', 'somente', 'de', 'ser', 'uma', 'característica', 'do', 'objeto', 'depende', 'também', 'de', 'haver', 'ou', 'não', 'uma', 'lógica', 'a', 'ser', 'utilizada', 'para', 'ler', 'ou', 'escrever', 'aquele', 'dado', 'em', 'casos', 'então', 'como', 'esses', 'que', 'citei', 'é', 'mais', 'interessante', 'então', 'realmente', 'utilizar', 'métodos', 'quando', 'eu', 'estava', 'usando', 'o', 'sublime', 'text', 'para', 'editar', 'um', 'arquivo', 'code', 'percebi', 'que', 'ele', 'me', 'sugeriu', 'uma', 'tag', 'com', 'o', 'nome', 'de', 'code', 'eu', 'nunca', 'tinha', 'visto', 'sobre', 'essa', 'tag', 'antes', 'mas', 'parece', 'que', 'realmente', 'existe', 'como', 'não', 'vi', 'nenhum', 'explicação', 'em', 'português', 'sobre', 'o', 'assunto', 'resolvi', 'fazer', 'essa', 'pergunta', 'aqui', 'para', 'que', 'serve', 'a', 'tag', 'code', 'essa', 'tag', 'é', 'nova', 'de', 'alguma', 'forma', 'ela', 'pode', 'substituir', 'a', 'funcionalidade', 'de', 'autocomplemento', 'que', 'existem', 'atualmente', 'em', 'várias', 'bibliotecasframeworks', 'em', 'code', 'o', 'que', 'faz', 'uma', 'linguagem', 'ser', 'considerada', 'de', 'alto', 'nível', 'e', 'outras', 'de', 'baixo', 'nível', 'eu', 'estava', 'dando', 'uma', 'olhada', 'no', 'códigofonte', 'de', 'uma', 'library', 'conhecida', 'do', 'php', 'chamada', 'code', 'tratase', 'de', 'um', 'template', 'engine', 'com', 'sintaxe', 'própria', 'e', 'me', 'deparei', 'com', 'classes', 'interfaces', 'e', 'métodos', 'como', 'code', 'code', 'e', 'code', 'dei', 'uma', 'pesquisada', 'e', 'percebi', 'que', 'se', 'tratava', 'do', 'termo', 'análise', 'léxica', 'apesar', 'de', 'ter', 'entendido', 'algumas', 'coisas', 'fiquei', 'confuso', 'em', 'outras', 'por', 'exemplo', 'estou', 'acostumado', 'a', 'ver', 'o', 'termo', 'code', 'ou', 'code', 'quando', 'se', 'trata', 'em', 'transformação', 'de', 'um', 'determinado', 'dado', 'em', 'outro', 'dado', 'o', 'que', 'seria', 'a', 'análise', 'léxica', 'análise', 'léxica', 'e', 'parsingparser', 'se', 'trata', 'das', 'mesmas', 'coisas', 'ou', 'na', 'verdade', 'são', 'coisas', 'diferentes', 'desculpem', 'se', 'estou', 'confuso', 'na', 'pergunta', 'mas', 'creio', 'que', 'a', 'comunidade', 'me', 'ajudará', 'com', 'uma', 'boa', 'e', 'esclarecedora', 'resposta', 'para', 'facilitar', 'a', 'busca', 'de', 'informações', 'comumente', 'grafadas', 'erradas', 'usamos', 'algoritmos', 'fonéticos', 'um', 'recurso', 'que', 'é', 'extremamente', 'útil', 'mas', 'que', 'costuma', 'ser', 'negligenciado', 'especialmente', 'fora', 'da', 'língua', 'inglesa', 'onde', 'existem', 'alguns', 'algoritmos', 'conhecidos', 'como', 'os', 'citados', 'na', 'wikipediaen', 'particularmente', 'o', 'soundex', 'disponível', 'em', 'diversos', 'dbs', 'e', 'linguagens', 'temos', 'particularidades', 'na', 'nossa', 'língua', 'que', 'inviabilizam', 'o', 'uso', 'de', 'algoritmos', 'de', 'outras', 'línguas', 'na', 'verdade', 'é', 'até', 'mais', 'regionalizado', 'um', 'algoritmo', 'que', 'funciona', 'para', 'o', 'brasil', 'não', 'funciona', 'para', 'portugal', 'e', 'talvez', 'para', 'outros', 'países', 'lusófonos', 'tenho', 'até', 'dúvidas', 'se', 'precisaria', 'de', 'especializações', 'para', 'o', 'cearense', 'gaúcho', 'ou', 'mesmo', 'para', 'o', 'piracicabano', 'e', 'adjacências', 'de', 'centenas', 'de', 'quilômetros', 'só', 'para', 'citar', 'alguns', 'existe', 'alguma', 'fonte', 'oficial', 'um', 'estudo', 'conclusivo', 'de', 'como', 'deveria', 'ser', 'o', 'nosso', 'algoritmo', 'fonético', 'baseado', 'nesses', 'estudos', 'ou', 'por', 'experiência', 'como', 'seria', 'esse', 'algoritmo', 'podemos', 'aproveitar', 'alguma', 'variante', 'do', 'soundex', 'metaphone', 'ou', 'outro', 'algoritmo', 'consagrado', 'da', 'língua', 'inglesa', 'só', 'trocando', 'os', 'fonemas', 'podemos', 'ou', 'devemos', 'usar', 'opcionalmente', 'fonemas', 'estrangeiros', 'comuns', 'também', 'já', 'que', 'usamos', 'nomes', 'estrangeiros', 'estou', 'interessado', 'no', 'algoritmo', 'em', 'si', 'portanto', 'como', 'desenvolvêlo', 'em', 'detalhes', 'não', 'basta', 'linhas', 'gerais', 'que', 'já', 'tem', 'informação', 'suficiente', 'um', 'pseudocódigo', 'ou', 'código', 'real', 'em', 'alguma', 'linguagem', 'seria', 'útil', 'mas', 'não', 'funadamental', 'já', 'que', 'posso', 'portar', 'código', 'de', 'quase', 'qualquer', 'linguagem', 'mainstream', 'e', 'de', 'fato', 'eu', 'vou', 'e', 'outros', 'poderão', 'usar', 'em', 'algumas', 'linguagens', 'diferentes', 'não', 'me', 'importa', 'se', 'está', 'em', 'c', 'c', 'c', 'java', 'javascript', 'php', 'perl', 'python', 'ruby', 'lua', 'delphi', 'go', 'd', 'scala', 'f', 'ou', 'variantes', 'de', 'basic', 'xbase', 'clipper', 'harbour', 'foxpro', 'sql', 'etc', 'ou', 'até', 'cobol', 'use', 'o', 'que', 'já', 'possui', 'ou', 'sintase', 'mais', 'confortável', 'note', 'que', 'o', 'melhor', 'algoritmo', 'é', 'o', 'que', 'vale', 'não', 'a', 'implementação', 'por', 'isso', 'não', 'me', 'importa', 'a', 'linguagem', 'o', 'mesmo', 'algoritmo', 'em', 'linguagem', 'diferente', 'será', 'considerado', 'duplicado', 'algumas', 'referências', 'que', 'eu', 'conheço', 'algumas', 'são', 'bem', 'ruins', 'busca', 'fonética', 'em', 'português', 'do', 'brasil', 'recuperação', 'de', 'informações', 'por', 'similaridade', 'de', 'fonemas', 'adaptada', 'à', 'língua', 'portuguesa', 'exemplo', 'em', 'delphi', 'exemplo', 'em', 'c', 'outro', 'exemplo', 'em', 'c', 'exemplo', 'vbnet', 'exemplo', 'em', 'php', 'exemplo', 'em', 'java', 'outro', 'exemplo', 'em', 'c', 'mais', 'um', 'em', 'c', 'apesar', 'de', 'ter', 'aceito', 'uma', 'resposta', 'acho', 'que', 'ainda', 'pode', 'surgir', 'algo', 'melhor', 'e', 'estou', 'disposto', 'a', 'mudar', 'a', 'aceitação', 'caso', 'isto', 'ocorra', 'ainda', 'quero', 'ver', 'sua', 'resposta', 'e', 'quais', 'minificadores', 'posso', 'usar', 'para', 'aceder', 'a', 'uma', 'área', 'em', 'particular', 'do', 'site', 'tenho', 'que', 'indicar', 'de', 'um', 'a', 'três', 'parâmetros', 'no', 'url', 'url', 'normal', 'code', 'através', 'do', 'htaccess', 'estou', 'a', 'tentar', 'permitir', 'acesso', 'aos', 'módulos', 'submódulos', 'e', 'conteúdos', 'específicos', 'da', 'seguinte', 'forma', 'code', 'até', 'ao', 'momento', 'tenho', 'o', 'seguinte', 'o', 'código', 'em', 'baixo', 'permiteme', 'aceder', 'ao', 'módulo', 'mas', 'tenho', 'que', 'o', 'repetir', 'por', 'cada', 'módulo', 'existente', 'faltando', 'ainda', 'lidar', 'com', 'submódulos', 'e', 'conteúdos', 'específicos', 'code', 'pergunta', 'como', 'é', 'que', 'consigo', 'através', 'do', 'code', 'ler', 'os', 'endereços', 'para', 'que', 'possam', 'ser', 'utilizados', 'de', 'ambas', 'as', 'maneiras', 'em', 'cima', 'apresentadas', 'tendo', 'em', 'conta', 'os', 'três', 'possíveis', 'parâmetros', 'tenho', 'uma', 'listagem', 'de', 'status', 'que', 'é', 'exibida', 'e', 'cada', 'status', 'tem', 'uma', 'cor', 'atribuída', 'essas', 'cores', 'estão', 'salvas', 'no', 'meu', 'banco', 'de', 'dados', 'em', 'formato', 'hexadecimal', 'exemplo', 'code', 'eu', 'estou', 'com', 'um', 'pequeno', 'problema', 'se', 'a', 'cor', 'for', 'escura', 'demais', 'pelo', 'fato', 'da', 'mesma', 'ser', 'usada', 'para', 'code', 'a', 'cor', 'do', 'texto', 'tornase', 'ilegível', 'então', 'eu', 'queria', 'saber', 'se', 'tem', 'alguma', 'forma', 'de', 'descobrir', 'se', 'a', 'cor', 'é', 'escura', 'para', 'quando', 'for', 'escura', 'eu', 'determinar', 'que', 'a', 'cor', 'do', 'texto', 'será', 'branco', 'e', 'se', 'for', 'clara', 'preto', 'tem', 'como', 'fazer', 'isso', 'nota', 'a', 'solução', 'pode', 'ser', 'tanto', 'em', 'javascript', 'como', 'em', 'php', 'eu', 'estou', 'trabalhando', 'em', 'uma', 'solução', 'que', 'envolve', 'determinar', 'a', 'rota', 'de', 'menor', 'esforço', 'entre', 'dois', 'pontos', 'de', 'um', 'prédio', 'imagine', 'estudantes', 'em', 'seu', 'primeiro', 'dia', 'de', 'universidade', 'e', 'que', 'precisam', 'saber', 'onde', 'fica', 'e', 'como', 'chegar', 'a', 'uma', 'dada', 'sala', 'de', 'aula', 'em', 'um', 'prédio', 'ou', 'como', 'ir', 'da', 'sala', 'atual', 'para', 'a', 'próxima', 'aula', 'basicamente', 'eu', 'tenho', 'uma', 'estrutura', 'cartesiana', 'onde', 'cada', 'andar', 'está', 'mapeado', 'eu', 'também', 'tenho', 'indicadores', 'de', 'pontos', 'de', 'acesso', 'portas', 'rampas', 'para', 'deficientes', 'escadarias', 'e', 'os', 'pontos', 'onde', 'estes', 'pontos', 'se', 'conectam', 'escadaria', 'do', 'térreo', 'se', 'conecta', 'com', 'escadaria', 'do', 'º', 'andar', 'em', 'x', 'y', 'por', 'exemplo', 'mais', 'ou', 'menos', 'como', 'a', 'imagem', 'abaixo', 'onde', 'ciano', 'indica', 'uma', 'escadaria', 'e', 'azulestranho', 'elevadores', 'entre', 'outros', 'marcadores', 'não', 'exibidos', 'para', 'os', 'daltônicos', 'minhas', 'sinceras', 'desculpas', 'e', 'algumas', 'informações', 'adicionais', 'as', 'escadarias', 'estão', 'localizadas', 'na', 'parte', 'superior', 'direita', 'dos', 'mapas', 'os', 'elevadores', 'próximos', 'ao', 'centro', 'eu', 'comecei', 'meu', 'código', 'baseado', 'em', 'uma', 'variante', 'do', 'algoritmo', 'de', 'dijkstra', 'chamado', 'aestrela', 'a', 'que', 'é', 'basicamente', 'o', 'problema', 'do', 'caminho', 'mais', 'curto', 'com', 'algumas', 'otimizações', 'curiosidade', 'vários', 'jogos', 'implementam', 'variantes', 'do', 'a', 'para', 'determinar', 'a', 'rota', 'de', 'personagens', 'em', 'um', 'mapa', 'a', 'é', 'perfeito', 'para', 'determinar', 'rotas', 'em', 'um', 'mesmo', 'andar', 'porém', 'eu', 'tenho', 'que', 'levar', 'em', 'consideração', 'os', 'vários', 'andares', 'cada', 'um', 'com', 'um', 'layout', 'diferente', 'pergunta', 'existe', 'alguma', 'maneira', 'mais', 'apropriada', 'para', 'solucionar', 'este', 'problema', 'ou', 'de', 'forma', 'mais', 'clara', 'obrigado', 'bfavaretto', 'dado', 'o', 'fator', 'adicional', 'de', 'n', 'andares', 'existe', 'algum', 'algoritmo', 'que', 'seja', 'mais', 'indicado', 'do', 'que', 'o', 'a', 'disclaimer', 'imagem', 'isométrica', 'original', 'de', 'dougillustrationscom', 'já', 'vi', 'gente', 'recomendando', 'nunca', 'usar', 'code', 'underscore', 'em', 'html', 'e', 'css', 'ao', 'invés', 'disso', 'deveríamos', 'dar', 'preferência', 'para', 'code', 'exemplo', 'code', 'por', 'que', 'existe', 'essa', 'recomendação', 'em', 'javascript', 'podemos', 'declarar', 'uma', 'matriz', 'de', 'duas', 'maneiras', 'code', 'e', 'code', 'qual', 'é', 'a', 'diferença', 'entre', 'as', 'duas', 'e', 'que', 'consequências', 'dai', 'advêm', 'esta', 'pergunta', 'está', 'a', 'ser', 'colocada', 'com', 'o', 'propósito', 'de', 'documentar', 'em', 'português', 'a', 'sua', 'versão', 'original', 'que', 'pode', 'ser', 'vista', 'no', 'soen', 'whats', 'the', 'difference', 'between', 'array', 'and', 'while', 'declaring', 'a', 'javascript', 'array', 'em', 'muitos', 'códigos', 'são', 'adicionados', 'os', 'prefixos', 'de', 'compatibilidade', 'dos', 'navegadores', 'em', 'atributos', 'do', 'css', 'exemplo', 'code', 'mas', 'se', 'deixar', 'somente', 'o', 'atributo', 'sem', 'prefixo', 'funciona', 'normalmente', 'exemplo', 'code', 'esse', 'prefixos', 'code', 'code', 'code', 'são', 'importantes', 'devo', 'ainda', 'colocálos', 'nunca', 'tinha', 'visto', 'antes', 'a', 'utilização', 'desta', 'diretiva', 'mas', 'os', 'plugins', 'jquery', 'mais', 'maduros', 'quase', 'todos', 'usam', 'gostaria', 'de', 'saber', 'quando', 'usar', 'o', 'mesmo', 'qual', 'a', 'finalidade', 'dele', 'e', 'como', 'estou', 'iniciando', 'meus', 'estudos', 'na', 'área', 'de', 'engenharia', 'de', 'software', 'ouvi', 'muito', 'a', 'respeito', 'do', 'termo', 'design', 'patterns', 'e', 'sua', 'aplicabilidade', 'e', 'importância', 'em', 'projetos', 'de', 'software', 'segue', 'abaixo', 'uma', 'definição', 'em', 'engenharia', 'de', 'software', 'um', 'padrão', 'de', 'projeto', 'ou', 'padrão', 'de', 'desenho', 'do', 'inglês', 'design', 'pattern', 'é', 'uma', 'solução', 'geral', 'reutilizável', 'para', 'um', 'problema', 'que', 'ocorre', 'com', 'frequência', 'dentro', 'de', 'um', 'determinado', 'contexto', 'no', 'projeto', 'de', 'software', 'fonte', 'wikipédia', 'eu', 'não', 'consegui', 'visualizar', 'o', 'que', 'seriam', 'code', 'mas', 'afinal', 'o', 'que', 'ele', 'é', 'alguém', 'poderia', 'elucidar', 'o', 'que', 'devemos', 'levar', 'em', 'consideração', 'para', 'buscarmos', 'aplicar', 'estes', 'conceitos', 'em', 'um', 'projeto', 'de', 'software', 'talvez', 'isso', 'melhore', 'no', 'meu', 'entendimento', 'entre', 'os', 'estudos', 'de', 'javascript', 'encontrei', 'em', 'alguns', 'lugares', 'muita', 'gente', 'sugerindo', 'o', 'uso', 'de', 'coffeescript', 'ou', 'typescript', 'para', 'acelerar', 'o', 'processo', 'desenvolvimento', 'se', 'entendi', 'bem', 'ambos', 'são', 'como', 'uma', 'metalinguagem', 'uma', 'maquiagem', 'que', 'melhora', 'a', 'sintaxe', 'convoluta', 'do', 'javascript', 'e', 'depois', 'reescreve', 'o', 'seu', 'código', 'em', 'js', 'este', 'entendimento', 'está', 'certo', 'como', 'funcionam', 'o', 'coffeescript', 'e', 'typescript', 'o', 'que', 'eles', 'são', 'de', 'fato', 'qual', 'sua', 'relação', 'com', 'o', 'javascript', 'e', 'como', 'eles', 'podem', 'ser', 'usados', 'no', 'desenvolvimento', 'web', 'em', 'lugar', 'do', 'javascript', 'se', 'tenho', 'uma', 'imagem', 'horizontal', 'x', 'code', 'e', 'coloco', 'a', 'regra', 'css', 'code', 'a', 'redução', 'não', 'fica', 'proporcional', 'e', 'se', 'coloco', 'code', 'dá', 'errado', 'com', 'imagens', 'horizontais', 'e', 'verticais', 'como', 'acertar', 'isso', 'code', 'code', 'por', 'que', 'é', 'obrigatório', 'implementar', 'esse', 'método', 'em', 'uma', 'aplicação', 'java', 'como', 'posso', 'declarar', 'uma', 'constante', 'em', 'javascript', 'procuro', 'o', 'equivalente', 'ao', 'menos', 'semanticamente', 'de', 'code', 'em', 'c', 'como', 'uma', 'música', 'é', 'interpretada', 'pelo', 'computador', 'entendo', 'que', 'uma', 'imagem', 'é', 'uma', 'matriz', 'de', 'pixels', 'em', 'que', 'cada', 'elemento', 'é', 'uma', 'cor', 'quando', 'abro', 'uma', 'música', 'no', 'code', 'ele', 'a', 'apresenta', 'como', 'duas', 'sequências', 'left', 'e', 'right', 'de', 'frequências', 'conforme', 'a', 'imagem', 'será', 'que', 'é', 'correto', 'afirmar', 'que', 'uma', 'música', 'é', 'uma', 'matriz', 'com', 'duas', 'colunas', 'e', 'o', 'número', 'de', 'linhas', 'sendo', 'alguma', 'unidade', 'de', 'tempo', 'desde', 'que', 'foi', 'introduzida', 'a', 'palavra', 'code', 'no', 'ecmascript', 'eu', 'só', 'tenho', 'ouvido', 'falar', 'a', 'respeito', 'até', 'então', 'não', 'vi', 'nenhum', 'exemplo', 'prático', 'e', 'para', 'ser', 'sincero', 'não', 'sei', 'muito', 'bem', 'o', 'que', 'é', 'uma', 'variável', 'code', 'e', 'como', 'ela', 'se', 'comporta', 'a', 'única', 'coisa', 'que', 'entendi', 'e', 'bem', 'superficialmente', 'é', 'que', 'ela', 'serve', 'para', 'declarar', 'uma', 'variável', 'local', 'algo', 'relacionado', 'a', 'escopo', 'o', 'que', 'são', 'variáveis', 'code', 'para', 'que', 'elas', 'servem', 'quando', 'utilizálas', 'ao', 'invés', 'de', 'code', 'andei', 'lendo', 'sobre', 'nosql', 'nos', 'últimos', 'tempos', 'pois', 'a', 'primeira', 'impressão', 'que', 'tive', 'sobre', 'a', 'tecnologia', 'foi', 'boa', 'fiz', 'testes', 'com', 'mongodb', 'especificamente', 'e', 'achei', 'muito', 'prático', 'e', 'bem', 'mais', 'fácil', 'do', 'que', 'bancos', 'de', 'dados', 'relacionais', 'também', 'tive', 'a', 'impressão', 'de', 'que', 'esse', 'tipo', 'de', 'banco', 'de', 'dados', 'é', 'mais', 'compatível', 'com', 'a', 'orientação', 'à', 'objetos', 'e', 'por', 'isso', 'fiquei', 'bastante', 'interessado', 'no', 'assunto', 'acontece', 'que', 'lendo', 'comecei', 'a', 'ver', 'muitas', 'opiniões', 'negativas', 'a', 'respeito', 'dessa', 'tecnologia', 'ouvi', 'falar', 'sobre', 'o', 'teorema', 'cap', 'que', 'implicaria', 'que', 'um', 'banco', 'de', 'dados', 'nosql', 'ou', 'não', 'terá', 'disponibilidade', 'ou', 'não', 'terá', 'consistência', 'isso', 'é', 'uma', 'coisa', 'muito', 'preocupamente', 'porque', 'até', 'hoje', 'não', 'encontrei', 'casos', 'em', 'que', 'é', 'possível', 'abrir', 'mão', 'de', 'uma', 'dessas', 'coisas', 'na', 'realidade', 'construir', 'um', 'sistema', 'que', 'pode', 'vir', 'a', 'não', 'ter', 'os', 'dados', 'disponíveis', 'ou', 'não', 'ter', 'garantia', 'de', 'que', 'os', 'dados', 'exibidos', 'estão', 'corretos', 'me', 'parece', 'uma', 'coisa', 'extremamente', 'problemática', 'vi', 'até', 'um', 'programador', 'falando', 'já', 'que', 'esse', 'tipo', 'de', 'tecnologia', 'provavelmente', 'não', 'vai', 'ser', 'muito', 'usada', 'sendo', 'que', 'os', 'bancos', 'relacionais', 'continuam', 'sendo', 'mais', 'indicados', 'se', 'por', 'um', 'lado', 'tem', 'tudo', 'isso', 'por', 'outro', 'lado', 'senti', 'muito', 'mais', 'facilidade', 'e', 'naturalidade', 'ao', 'usar', 'o', 'nosql', 'dessa', 'forma', 'gostaria', 'de', 'saber', 'o', 'nosql', 'é', 'tão', 'problemático', 'assim', 'como', 'parece', 'não', 'há', 'nenhuma', 'forma', 'de', 'contornar', 'esses', 'problemas', 'ou', 'o', 'nosql', 'realmente', 'só', 'tem', 'alguns', 'poucos', 'usos', 'nos', 'quais', 'os', 'dados', 'podem', 'nem', 'sempre', 'ser', 'corretos', 'ou', 'nem', 'sempre', 'disponíveis', 'falam', 'muito', 'mal', 'do', 'code', 'mas', 'as', 'vezes', 'me', 'pergunto', 'se', 'ele', 'realmente', 'é', 'o', 'problema', 'ou', 'é', 'a', 'pessoa', 'que', 'está', 'sentada', 'na', 'frente', 'do', 'computador', 'o', 'suporto', 'programador', 'minha', 'vida', 'inteira', 'na', 'programação', 'tenho', 'ouvido', 'críticas', 'piadinhas', 'zoeiras', 'em', 'cima', 'dessa', 'função', 'code', 'mas', 'o', 'curioso', 'é', 'que', 'mesmo', 'aqueles', 'que', 'zoam', 'acabam', 'por', 'usar', 'bibliotecas', 'que', 'a', 'utilizam', 'internamente', 'sem', 'saber', 'um', 'exemplo', 'disso', 'é', 'code', 'que', 'no', 'sistema', 'de', 'views', 'utiliza', 'code', 'exemplo', 'removi', 'os', 'comentários', 'do', 'código', 'original', 'code', 'github', 'viewphp', 'linha', 'é', 'verdade', 'o', 'mesmo', 'já', 'está', 'descontinuado', 'mas', 'não', 'está', 'numa', 'era', 'tão', 'distante', 'assim', 'a', 'versão', 'dele', 'é', 'para', 'php', 'porém', 'não', 'seria', 'surpresa', 'se', 'um', 'dos', 'críticos', 'de', 'code', 'tivesse', 'utilizando', 'esse', 'framework', 'sem', 'saber', 'dessa', 'informação', 'e', 'ainda', 'eu', 'dou', 'outro', 'exemplo', 'que', 'muitos', 'programadores', 'também', 'usam', 'mas', 'sem', 'saber', 'o', 'superclosure', 'que', 'é', 'utilizado', 'no', 'laravel', 'e', 'laravel', 'essa', 'biblioteca', 'tem', 'como', 'finalidade', 'prover', 'uma', 'possibilidade', 'de', 'serializar', 'closures', 'no', 'php', 'já', 'que', 'nativamente', 'as', 'closures', 'no', 'php', 'não', 'têm', 'suporte', 'a', 'serialização', 'essa', 'biblioteca', 'se', 'torna', 'útil', 'para', 'quem', 'precisa', 'utilizar', 'sistemas', 'de', 'filas', 'como', 'o', 'beanstalkd', 'onde', 'as', 'informações', 'passadas', 'geralmente', 'são', 'uma', 'string', 'e', 'portanto', 'os', 'dados', 'em', 'php', 'precisam', 'ser', 'serializados', 'exemplo', 'code', 'github', 'serializableclosurephp', 'linha', 'pensando', 'na', 'utilidade', 'das', 'classes', 'das', 'bibliotecas', 'apresentadas', 'acima', 'lembrando', 'que', 'são', 'só', 'dois', 'exemplos', 'mas', 'deve', 'haver', 'outros', 'casos', 'fiquei', 'me', 'questionando', 'se', 'eu', 'deveria', 'ainda', 'continuar', 'falando', 'mau', 'do', 'code', 'ou', 'simplesmente', 'fazer', 'uma', 'análise', 'e', 'avaliar', 'quando', 'é', 'bom', 'ou', 'ruim', 'usálo', 'por', 'outro', 'lado', 'se', 'eu', 'pensar', 'que', 'todo', 'eval', 'independente', 'de', 'como', 'é', 'implementado', 'é', 'um', 'risco', 'provavelmente', 'vou', 'ter', 'que', 'parar', 'de', 'usar', 'as', 'bibliotecas', 'que', 'citei', 'acima', 'e', 'fazer', 'um', 'trabalho', 'todo', 'manual', 'quais', 'são', 'os', 'riscos', 'de', 'usar', 'code', 'num', 'projeto', 'devo', 'sempre', 'evitálo', 'se', 'a', 'resposta', 'for', 'sim', 'para', 'devo', 'evitálo', 'então', 'eu', 'também', 'deveria', 'deixar', 'de', 'usar', 'bibliotecas', 'que', 'o', 'implementam', 'afinal', 'de', 'contas', 'isso', 'não', 'pode', 'pôr', 'meu', 'código', 'em', 'risco', 'o', 'code', 'deve', 'ser', 'utilizado', 'em', 'alguns', 'casos', 'bem', 'específicos', 'como', 'por', 'exemplo', 'somente', 'em', 'geração', 'de', 'código', 'ou', 'posso', 'utilizálo', 'livremente', 'desde', 'que', 'eu', 'tenha', 'consciência', 'do', 'que', 'estou', 'fazendo', 'nota', 'favor', 'não', 'editar', 'e', 'colocar', 'tags', 'como', 'php', 'ou', 'laravel', 'pois', 'os', 'exemplos', 'foram', 'apenas', 'para', 'mostrar', 'casos', 'onde', 'code', 'foi', 'bem', 'recebido', 'se', 'houver', 'exemplos', 'de', 'outras', 'linguagens', 'que', 'o', 'usem', 'será', 'bemvindo', 'eu', 'sempre', 'usei', 'endpoint', 'e', 'api', 'como', 'sinônimos', 'hoje', 'descobri', 'que', 'eles', 'não', 'querem', 'dizer', 'a', 'mesma', 'coisa', 'embora', 'estejam', 'relacionados', 'afinal', 'qual', 'a', 'diferença', 'entre', 'esses', 'dois', 'muitas', 'pessoas', 'falam', 'sobre', 'o', 'que', 'é', 'null', 'mas', 'afinal', 'qual', 'é', 'o', 'seu', 'verdadeiro', 'significado', 'dizem', 'que', 'a', 'computação', 'quântica', 'irá', 'revolucionar', 'a', 'computação', 'caso', 'seja', 'implementada', 'de', 'maneira', 'bem', 'sucedida', 'por', 'que', 'isso', 'quais', 'as', 'principais', 'diferenças', 'entre', 'um', 'computador', 'quântico', 'e', 'um', 'computador', 'convencional', 'que', 'tornariam', 'o', 'primeiro', 'muito', 'mais', 'rápido', 'sei', 'que', 'code', 'e', 'code', 'são', 'bibliotecas', 'a', 'primeira', 'é', 'dinâmica', 'e', 'a', 'segunda', 'é', 'estática', 'mas', 'o', 'que', 'isso', 'realmente', 'quer', 'dizer', 'como', 'cada', 'uma', 'funciona', 'se', 'eu', 'tiver', 'que', 'gerar', 'uma', 'biblioteca', 'a', 'partir', 'de', 'um', 'código', 'o', 'que', 'eu', 'devo', 'ter', 'em', 'mente', 'para', 'decidir', 'se', 'eu', 'faço', 'uma', 'code', 'ou', 'uma', 'code', 'em', 'orientação', 'a', 'objetos', 'é', 'comum', 'que', 'objetos', 'de', 'uma', 'certa', 'classe', 'possuam', 'referências', 'a', 'um', 'ou', 'mais', 'objetos', 'de', 'outras', 'classes', 'um', 'exemplo', 'muito', 'simples', 'é', 'um', 'objeto', 'de', 'uma', 'classe', 'code', 'que', 'possui', 'referência', 'a', 'uma', 'lista', 'de', 'code', 'de', 'forma', 'que', 'cada', 'objeto', 'desse', 'tipo', 'possua', 'referência', 'a', 'vários', 'objetos', 'de', 'outro', 'tipo', 'acontece', 'que', 'em', 'alguns', 'casos', 'chamam', 'isso', 'de', 'composição', 'e', 'em', 'outros', 'casos', 'chamam', 'isso', 'de', 'agregação', 'pesquisando', 'li', 'que', 'composição', 'é', 'quando', 'um', 'dos', 'objetos', 'não', 'existe', 'independente', 'do', 'outro', 'e', 'agregação', 'é', 'quando', 'os', 'dois', 'podem', 'existir', 'independentemente', 'é', 'só', 'isso', 'mesmo', 'mesmo', 'se', 'for', 'só', 'isso', 'eu', 'ainda', 'não', 'consigo', 'identificar', 'quais', 'as', 'implicações', 'disso', 'na', 'prática', 'basicamente', 'nos', 'dois', 'casos', 'basta', 'ter', 'uma', 'propriedade', 'no', 'objeto', 'cujo', 'tipo', 'é', 'a', 'classe', 'do', 'outro', 'tipo', 'não', 'tem', 'em', 'código', 'uma', 'diferença', 'entre', 'agregação', 'e', 'composição', 'então', 'quais', 'as', 'utilidades', 'de', 'diferenciar', 'esses', 'dois', 'casos', 'e', 'qual', 'a', 'diferença', 'dessas', 'duas', 'abordagens', 'na', 'prática', 'pelo', 'que', 'entendi', 'o', 'android', 'ndk', 'é', 'voltado', 'ao', 'desenvolvimento', 'com', 'c', 'ou', 'c', 'apesar', 'de', 'suportar', 'java', 'através', 'do', 'jni', 'java', 'native', 'interface', 'todavia', 'gostaria', 'de', 'entender', 'algumas', 'coisas', 'quando', 'compilamos', 'ele', 'se', 'torna', 'um', 'executável', 'realmente', 'ou', 'ele', 'é', 'convertido', 'para', 'para', 'maquina', 'java', 'eu', 'não', 'sei', 'se', 'esta', 'é', 'a', 'maneira', 'correta', 'de', 'se', 'referir', 'se', 'ele', 'é', 'uma', 'aplicação', 'independente', 'da', 'maquina', 'java', 'então', 'isto', 'significa', 'que', 'as', 'funcionalidades', 'nativas', 'dos', 'aplicativos', 'são', 'independente', 'do', 'java', 'agora', 'a', 'partir', 'de', 'que', 'api', 'posso', 'usar', 'o', 'ndk', 'como', 'isto', 'irá', 'tratar', 'a', 'diferença', 'entre', 'processadores', 'arm', 'e', 'intel', 'x', 'o', 'aplicativos', 'serão', 'compilados', 'no', 'momento', 'da', 'instalação', 'no', 'dispositivo', 'tenho', 'percebido', 'o', 'uso', 'frequente', 'do', 'termo', 'em', 'alguns', 'fóruns', 'e', 'fiquei', 'me', 'perguntando', 'qual', 'o', 'seu', 'significado', 'e', 'de', 'onde', 'surgiu', 'tal', 'expressão', 'se', 'você', 'seguir', 'o', 'passo', 'a', 'passo', 'de', 'instalação', 'do', 'visual', 'studio', 'ele', 'instala', 'a', 'linguagem', 'do', 'sistema', 'operacional', 'como', 'alterar', 'a', 'linguagem', 'para', 'inglês', 'um', 'problema', 'pode', 'ser', 'resolvido', 'e', 'obter', 'o', 'mesmo', 'resultado', 'utilizado', 'um', 'loop', 'ou', 'através', 'de', 'chamadas', 'recursivas', 'a', 'uma', 'função', 'considerando', 'que', 'a', 'linguagem', 'de', 'programação', 'sendo', 'usada', 'possua', 'os', 'dois', 'recursos', 'como', 'saber', 'quando', 'um', 'é', 'melhor', 'que', 'o', 'outro', 'eu', 'estou', 'estudando', 'c', 'e', 'me', 'deparei', 'com', 'code', 'como', 'funciona', 'e', 'quando', 'é', 'aplicado', 'caso', 'possível', 'algum', 'exemplo', 'básico', 'queria', 'saber', 'quais', 'as', 'diferenças', 'mais', 'relevantes', 'que', 'eu', 'deva', 'saber', 'que', 'existem', 'entre', 'essas', 'duas', 'linguagens', 'por', 'que', 'estou', 'perguntando', 'isso', 'aqui', 'porque', 'normalmente', 'no', 'meu', 'diaadia', 'quando', 'faço', 'essa', 'pergunta', 'meus', 'colegas', 'sempre', 'demonstram', 'um', 'favoritismo', 'em', 'relação', 'a', 'uma', 'dessas', 'linguagens', 'apesar', 'de', 'não', 'ter', 'sido', 'essa', 'minha', 'pergunta', 'a', 'eles', 'o', 'que', 'é', 'do', 'meu', 'conhecimento', 'é', 'que', 'são', 'linguagens', 'semelhantes', 'o', 'c', 'me', 'atrai', 'por', 'causa', 'de', 'sua', 'ide', 'o', 'visual', 'studio', 'e', 'o', 'java', 'por', 'sua', 'vez', 'me', 'atrai', 'por', 'causa', 'da', 'proximidade', 'com', 'o', 'android', 'e', 'por', 'estar', 'a', 'mais', 'tempo', 'no', 'mercado', 'obs', 'de', 'preferência', 'respostas', 'de', 'pessoas', 'que', 'trabalharam', 'com', 'as', 'duas', 'linguagens', 'começarei', 'um', 'projeto', 'em', 'c', 'que', 'terá', 'como', 'code', 'uma', 'placa', 'colibri', 't', 'com', 'processador', 'nvidia', 'tegra', 'arm', 'rodando', 'uma', 'versão', 'leve', 'de', 'linux', 'gostaria', 'de', 'saber', 'se', 'além', 'de', 'ter', 'que', 'utilizar', 'um', 'compilador', 'cruzado', 'compatível', 'com', 'o', 'processador', 'eu', 'preciso', 'me', 'preocupar', 'com', 'algum', 'outro', 'detalhe', 'específico', 'da', 'arquitetura', 'arm', 'pelo', 'que', 'li', 'parece', 'que', 'a', 'arquitetura', 'do', 'processador', 'só', 'importa', 'se', 'eu', 'estiver', 'programando', 'em', 'assembly', 'estou', 'errado', 'não', 'sei', 'se', 'é', 'relevante', 'mas', 'meu', 'code', 'é', 'ubuntu', 'linux', 'o', 'que', 'são', 'esses', 'tais', 'de', 'stack', 'e', 'heap', 'que', 'tanto', 'se', 'fala', 'em', 'gerenciamento', 'de', 'memória', 'isso', 'realmente', 'são', 'porções', 'da', 'memória', 'como', 'algumas', 'pessoas', 'falam', 'ou', 'é', 'apenas', 'um', 'conceito', 'abstrato', 'para', 'facilitar', 'o', 'entendimento', 'da', 'forma', 'como', 'se', 'gerencia', 'a', 'memória', 'algum', 'deles', 'é', 'mais', 'rápido', 'que', 'o', 'outro', 'se', 'um', 'é', 'claramente', 'mais', 'rápido', 'por', 'que', 'existe', 'o', 'outro', 'faz', 'diferença', 'se', 'estou', 'usando', 'por', 'exemplo', 'assembly', 'c', 'java', 'ou', 'javascript', 'windows', 'ou', 'linux', 'isso', 'é', 'controlado', 'pela', 'linguagem', 'ou', 'pelo', 'sistema', 'operacional', 'enfim', 'queria', 'entender', 'melhor', 'esse', 'conceito', 'que', 'parece', 'ser', 'mal', 'compreendido', 'pelos', 'programadores', 'seria', 'muito', 'útil', 'uma', 'explicação', 'para', 'quem', 'está', 'começando', 'ou', 'aprendeu', 'isso', 'de', 'forma', 'errada', 'suponha', 'que', 'eu', 'tenha', 'uma', 'lista', 'de', 'palavras', 'em', 'javascript', 'se', 'necessário', 'já', 'ordenada', 'segundo', 'as', 'regras', 'de', 'collation', 'code', 'repare', 'que', 'não', 'usei', 'o', 'cedilha', 'code', 'nem', 'o', 'til', 'code', 'de', 'forma', 'consistente', 'como', 'posso', 'buscar', 'nessa', 'lista', 'por', 'programação', 'mas', 'ignorando', 'a', 'acentuação', 'de', 'modo', 'que', 'várias', 'modalidades', 'de', 'buscas', 'retornem', 'resultados', 'ex', 'code', 'fiz', 'uma', 'pergunta', 'semalhante', 'para', 'a', 'linguagem', 'python', 'e', 'tentei', 'aplicar', 'a', 'solução', 'proposta', 'normalizar', 'e', 'remover', 'combinantes', 'para', 'javascript', 'mas', 'esbarrei', 'no', 'problema', 'da', 'falta', 'de', 'suporte', 'à', 'normalização', 'unicode', 'e', 'ainda', 'que', 'eu', 'consiga', 'normalizálas', 'usando', 'um', 'polyfill', 'por', 'exemplo', 'ainda', 'faltaria', 'identificar', 'e', 'remover', 'os', 'caracteres', 'combinantes', 'há', 'algo', 'já', 'pronto', 'nesse', 'sentido', 'para', 'que', 'eu', 'não', 'precise', 'reinventar', 'a', 'roda', 'caso', 'contrário', 'como', 'fazer', 'atualização', 'muitas', 'boas', 'respostas', 'cada', 'uma', 'com', 'seus', 'prós', 'e', 'contras', 'difícil', 'de', 'escolher', 'uma', 'decidi', 'propor', 'um', 'teste', 'levando', 'em', 'consideração', 'fatores', 'robustez', 'ie', 'capacidade', 'de', 'buscar', 'por', 'palavras', 'cujo', 'acento', 'está', 'representado', 'de', 'mais', 'de', 'uma', 'forma', 'diferente', 'code', 'flexibilidade', 'pode', 'buscar', 'ignorando', 'capitalização', 'pode', 'só', 'casar', 'o', 'acento', 'com', 'outra', 'letra', 'acentuada', 'code', 'performance', 'exige', 'mexer', 'na', 'lista', 'original', 'quanto', 'tempo', 'leva', 'uma', 'operação', 'exemplo', 'no', 'jsfiddle', 'vou', 'adequar', 'cada', 'resposta', 'a', 'esse', 'exemplo', 'da', 'melhor', 'forma', 'que', 'puder', 'e', 'availála', 'com', 'base', 'nisso', 'assim', 'poderemos', 'ter', 'uma', 'resposta', 'canônica', 'já', 'vi', 'alguns', 'respostas', 'aqui', 'com', 'o', 'uso', 'not', 'in', 'e', 'algumas', 'com', 'o', 'uso', 'do', 'not', 'exists', 'para', 'responder', 'uma', 'mesma', 'pergunta', 'eu', 'não', 'sei', 'a', 'diferença', 'entre', 'ambas', 'e', 'gostaria', 'de', 'saber', 'sobre', 'qual', 'dos', 'dois', 'é', 'melhor', 'quando', 'se', 'considera', 'o', 'desempenho', 'em', 'quais', 'ocasiões', 'devo', 'usar', 'um', 'e', 'outro', 'se', 'possível', 'de', 'exemplos', 'com', 'query', 'como', 'realizar', 'o', 'procedimento', 'de', 'captura', 'de', 'imagem', 'da', 'webcam', 'do', 'usuário', 'em', 'um', 'formulário', 'de', 'cadastro', 'para', 'enviar', 'via', 'code', 'busco', 'por', 'uma', 'solução', 'que', 'seja', 'compatível', 'com', 'a', 'maioria', 'dos', 'navegadores', 'e', 'que', 'seja', 'de', 'simples', 'implementação', 'sei', 'que', 'são', 'funções', 'que', 'não', 'tem', 'o', 'nome', 'especificado', 'mas', 'qual', 'a', 'finalidade', 'é', 'possível', 'recursividade', 'com', 'funções', 'anônimas', 'ex', 'sequência', 'de', 'fibonacci', 'code', 'na', 'especificação', 'do', 'protocolo', 'http', 'mais', 'precisamente', 'na', 'rfc', 'é', 'previsto', 'a', 'possibilidade', 'de', 'existir', 'entidades', 'intermediárias', 'entre', 'o', 'user', 'agent', 'ua', 'entidade', 'que', 'efetua', 'a', 'requisição', 'http', 'e', 'o', 'origin', 'server', 'o', 'entidade', 'que', 'responderá', 'à', 'requisição', 'as', 'setas', 'para', 'a', 'direita', 'indicam', 'o', 'trajeto', 'da', 'requisição', 'http', 'e', 'as', 'setas', 'para', 'a', 'esquerda', 'indicam', 'o', 'trajeto', 'da', 'resposta', 'http', 'as', 'entidades', 'a', 'b', 'e', 'c', 'são', 'as', 'entidades', 'intermediárias', 'que', 'se', 'comunicam', 'entre', 'si', 'com', 'o', 'user', 'agent', 'ou', 'origin', 'server', 'através', 'de', 'quatro', 'conexões', 'http', 'as', 'três', 'entidades', 'intermediárias', 'descritas', 'são', 'proxy', 'gateway', 'tunnel', 'sendo', 'que', 'cada', 'entidade', 'intermediária', 'pode', 'operar', 'como', 'um', 'origin', 'server', 'proxy', 'gateway', 'ou', 'tunnel', 'dependendo', 'da', 'natureza', 'da', 'requisição', 'http', 'que', 'será', 'por', 'ela', 'tratada', 'o', 'que', 'eu', 'gostaria', 'de', 'saber', 'é', 'qual', 'a', 'diferença', 'entre', 'os', 'três', 'tipos', 'de', 'entidades', 'intermediárias', 'e', 'quando', 'cada', 'um', 'é', 'utilizado', 'na', 'prática', 'também', 'se', 'é', 'possível', 'a', 'existência', 'de', 'apenas', 'uma', 'entidade', 'intermediária', 'ou', 'se', 'são', 'relacionadas', 'a', 'ponto', 'de', 'só', 'existirem', 'mutuamente', 'em', 'sistemas', 'de', 'negócios', 'especialmente', 'erps', 'internacionais', 'ou', 'mesmo', 'em', 'cadastros', 'em', 'sites', 'vemos', 'que', 'o', 'cadastro', 'pede', 'o', 'sobrenome', 'last', 'name', 'e', 'o', 'nome', 'first', 'name', 'em', 'alguns', 'casos', 'há', 'até', 'o', 'nome', 'do', 'meio', 'middle', 'name', 'no', 'brasil', 'eu', 'não', 'me', 'lembro', 'de', 'ter', 'visto', 'isto', 'em', 'algum', 'lugar', 'sempre', 'é', 'usado', 'uma', 'coluna', 'de', 'nome', 'único', 'sem', 'separação', 'das', 'partes', 'quais', 'as', 'vantagens', 'e', 'desvantagens', 'de', 'cada', 'um', 'do', 'ponto', 'de', 'vista', 'de', 'modelagem', 'e', 'experiência', 'do', 'usuário', 'bonus', 'point', 'não', 'é', 'o', 'foco', 'principal', 'da', 'pergunta', 'e', 'não', 'sei', 'se', 'pode', 'ser', 'respondido', 'de', 'forma', 'autoritativa', 'por', 'que', 'isto', 'ocorre', 'por', 'aqui', 'seria', 'uma', 'questão', 'cultural', 'histórica', 'note', 'que', 'é', 'uma', 'questão', 'de', 'modelagem', 'de', 'dados', 'e', 'também', 'de', 'experiência', 'do', 'usuário', 'nem', 'sempre', 'eles', 'se', 'compatibilizam', 'diretamente', 'ultimamente', 'ouvi', 'muito', 'a', 'respeito', 'de', 'web', 'service', 'web', 'service', 'é', 'uma', 'solução', 'utilizada', 'na', 'integração', 'de', 'sistemas', 'e', 'na', 'comunicação', 'entre', 'aplicações', 'diferentes', 'permitem', 'às', 'aplicações', 'enviar', 'e', 'receber', 'dados', 'em', 'formato', 'xml', 'web', 'service', 'é', 'uma', 'solução', 'utilizada', 'na', 'integração', 'de', 'sistemas', 'e', 'na', 'comunicação', 'entre', 'aplicações', 'diferentes', 'com', 'esta', 'tecnologia', 'é', 'possível', 'que', 'novas', 'aplicações', 'possam', 'interagir', 'com', 'aquelas', 'que', 'já', 'existem', 'e', 'que', 'sistemas', 'desenvolvidos', 'em', 'plataformas', 'diferentes', 'sejam', 'compatíveis', 'os', 'web', 'services', 'são', 'componentes', 'que', 'permitem', 'às', 'aplicações', 'enviar', 'e', 'receber', 'dados', 'em', 'formato', 'xml', 'cada', 'aplicação', 'pode', 'ter', 'a', 'sua', 'própria', 'linguagem', 'que', 'é', 'traduzida', 'para', 'uma', 'linguagem', 'universal', 'o', 'formato', 'xml', 'fonte', 'httpswwwoficinadanetcombrartigoo_que_e_web_service', 'eu', 'não', 'consegui', 'visualizar', 'o', 'que', 'seria', 'um', 'web', 'service', 'mas', 'afinal', 'o', 'que', 'ele', 'é', 'alguém', 'poderia', 'elucidar', 'com', 'alguma', 'aplicação', 'que', 'ele', 'possa', 'ser', 'utilizado', 'talvez', 'isso', 'melhore', 'no', 'meu', 'entendimento', 'venho', 'navegando', 'em', 'vários', 'sites', 'que', 'em', 'seus', 'cabeçalhos', 'mostram', 'mensagens', 'como', 'este', 'site', 'utiliza', 'cookies', 'para', 'melhorar', 'a', 'sua', 'navegação', 'ao', 'navegar', 'no', 'site', 'estará', 'a', 'consentir', 'a', 'sua', 'utilização', 'tudo', 'bem', 'que', 'os', 'cookies', 'são', 'armazenados', 'na', 'máquina', 'do', 'usuário', 'mas', 'é', 'realmente', 'necessário', 'esses', 'avisos', 'existe', 'outro', 'motivo', 'por', 'trás', 'não', 'achei', 'quase', 'nada', 'relacionado', 'na', 'internet', 'qual', 'a', 'é', 'diferença', 'entre', 'as', 'classes', 'code', 'code', 'e', 'code', 'e', 'em', 'quais', 'situções', 'é', 'recomendado', 'o', 'uso', 'de', 'uma', 'ou', 'outra', 'quero', 'entender', 'o', 'que', 'significa', 'cada', 'item', 'de', 'code', 'no', 'java', 'e', 'quando', 'devem', 'ser', 'usadas', 'o', 'código', 'de', 'endereçamento', 'postal', 'cep', 'ou', 'zip', 'code', 'dos', 'endereços', 'de', 'uma', 'cidade', 'garantem', 'maior', 'confiabilidade', 'aos', 'dados', 'de', 'endereço', 'e', 'à', 'resolução', 'de', 'geolocalização', 'por', 'endereço', 'lembrando', 'que', 'endereço', 'não', 'se', 'presta', 'somente', 'ao', 'envio', 'de', 'carta', 'pelo', 'correio', 'é', 'um', 'complemento', 'essencial', 'ao', 'cadastro', 'de', 'uma', 'pessoa', 'física', 'localização', 'mesmo', 'que', 'aproximada', 'de', 'onde', 'reside', 'ou', 'jurídica', 'endereço', 'da', 'sede', 'da', 'empresa', 'presente', 'em', 'bases', 'de', 'dados', 'de', 'crms', 'erps', 'etc', 'e', 'padrões', 'tais', 'como', 'vcard', 'schema', 'e', 'centenas', 'de', 'outros', 'a', 'pergunta', 'é', 'onde', 'estão', 'os', 'dados', 'da', 'minha', 'cidade', 'e', 'pode', 'ter', 'uma', 'resposta', 'específica', 'para', 'cada', 'país', 'da', 'língua', 'portuguesa', 'assim', 'como', 'eventualmente', 'para', 'cada', 'cidade', 'pois', 'as', 'cidades', 'tem', 'certa', 'autonomia', 'sobre', 'o', 'tema', 'como', 'tomei', 'como', 'exemplo', 'a', 'cidade', 'de', 'campinas', 'fica', 'a', 'sugestão', 'de', 'restringirmos', 'discussões', 'a', 'campinas', 'no', 'caso', 'do', 'brasil', 'os', 'dados', 'não', 'estão', 'nem', 'sob', 'a', 'responsabilidade', 'do', 'ibge', 'nem', 'sob', 'a', 'responsabilidade', 'da', 'prefeitura', 'apesar', 'da', 'prefeitura', 'ser', 'a', 'responsável', 'pelas', 'leis', 'de', 'batismo', 'de', 'cada', 'nome', 'de', 'rua', 'da', 'cidade', 'exemplo', 'de', 'rua', 'de', 'campinas', 'notas', 'o', 'geonames', 'tem', 'se', 'empenhado', 'em', 'construir', 'um', 'esboço', 'dessa', 'base', 'de', 'dados', 'mas', 'não', 'resolve', 'o', 'openstreetmap', 'parece', 'ter', 'uma', 'parte', 'dos', 'dados', 'de', 'fato', 'o', 'ideal', 'para', 'o', 'cep', 'é', 'telo', 'espacializado', 'dada', 'uma', 'coordenada', 'geográfica', 'da', 'cidade', 'retornar', 'o', 'cep', 'da', 'coordenada', 'o', 'diretório', 'nacional', 'de', 'endereços', 'dne', 'é', 'a', 'base', 'de', 'dados', 'mantida', 'pela', 'empresa', 'brasileira', 'de', 'correios', 'e', 'telegrafos', 'ect', 'mais', 'conhecida', 'como', 'correios', 'do', 'brasil', 'para', 'validar', 'endereços', 'postais', 'e', 'determinar', 'ceps', 'ela', 'não', 'pode', 'estar', 'numa', 'base', 'apoiada', 'pelo', 'ckan', 'ou', 'qualquer', 'outra', 'iniciativa', 'de', 'dados', 'abertos', 'enquanto', 'desenvolvia', 'vi', 'que', 'em', 'grande', 'parte', 'das', 'minhas', 'classes', 'continham', 'uma', 'certa', 'quantidade', 'de', 'code', 'que', 'não', 'estavam', 'sendo', 'utilizados', 'e', 'me', 'veio', 'a', 'dúvida', 'do', 'título', 'using', 'não', 'utilizado', 'afeta', 'o', 'desempenho', 'da', 'aplicação', 'de', 'alguma', 'forma', 'é', 'preciso', 'sempre', 'remover', 'os', 'não', 'utilizados', 'ou', 'isso', 'não', 'fará', 'diferença', 'estou', 'a', 'desenvolver', 'uma', 'aplicação', 'em', 'php', 'e', 'gostaria', 'de', 'saber', 'quando', 'e', 'porque', 'utilizar', 'code', 'ou', 'code', 'ou', 'code', 'ou', 'code', 'reparei', 'também', 'que', 'dá', 'para', 'fazer', 'destas', 'formas', 'e', 'funciona', 'code', 'qualquer', 'uma', 'das', 'formas', 'está', 'correta', 'estão', 'todas', 'num', 'handler', 'de', 'evento', 'do', 'jquery', 'podese', 'usar', 'code', 'code', 'e', 'code', 'ou', 'combinações', 'desses', 'para', 'cancelar', 'a', 'ação', 'do', 'evento', 'sei', 'que', 'tem', 'diferença', 'no', 'comportamento', 'deles', 'mas', 'sinceramente', 'sempre', 'que', 'preciso', 'fazer', 'algo', 'do', 'tipo', 'começo', 'com', 'code', 'e', 'vou', 'na', 'tentativa', 'e', 'erro', 'porque', 'ainda', 'não', 'compreendo', 'muito', 'bem', 'a', 'diferença', 'já', 'li', 'em', 'algum', 'lugar', 'que', 'code', 'é', 'a', 'mesma', 'coisa', 'que', 'acionar', 'code', 'e', 'code', 'ambos', 'e', 'já', 'li', 'gente', 'dizendo', 'que', 'não', 'é', 'bem', 'assim', 'alguém', 'pode', 'explicar', 'melhor', 'como', 'devo', 'fazer', 'pra', 'decidir', 'qual', 'desses', 'caras', 'eu', 'preciso', 'com', 'exemplos', 'para', 'um', 'único', 'script', 'a', 'ordem', 'de', 'cargaexecução', 'na', 'presença', 'ou', 'não', 'dos', 'atributos', 'code', 'e', 'code', 'é', 'clara', 'sem', 'nada', 'carrega', 'e', 'executa', 'imediatamente', 'com', 'code', 'carrega', 'em', 'paralelo', 'e', 'executa', 'ao', 'final', 'da', 'carga', 'com', 'code', 'carrega', 'em', 'paralelo', 'e', 'executa', 'ao', 'final', 'da', 'renderização', 'minha', 'dúvida', 'é', 'o', 'que', 'acontece', 'quando', 'há', 'mais', 'de', 'um', 'script', 'na', 'página', 'em', 'especial', 'se', 'o', 'uso', 'ou', 'não', 'dos', 'atributos', 'acima', 'for', 'combinado', 'code', 'pelo', 'meu', 'entendimento', 'podese', 'fazer', 'algumas', 'afirmações', 'com', 'certa', 'segurança', 'corrijamme', 'se', 'eu', 'estiver', 'enganado', 'e', 'executará', 'antes', 'de', 'f', 'a', 'e', 'b', 'executarão', 'depois', 'de', 'e', 'e', 'f', 'c', 'e', 'd', 'podem', 'executar', 'antes', 'ou', 'depois', 'de', 'e', 'e', 'f', 'inclusive', 'entre', 'um', 'e', 'outro', 'd', 'pode', 'executar', 'antes', 'de', 'c', 'se', 'sua', 'carga', 'for', 'mais', 'rápida', 'mas', 'para', 'outras', 'eu', 'não', 'sei', 'a', 'resposta', 'b', 'pode', 'executar', 'antes', 'de', 'a', 'se', 'sua', 'carga', 'for', 'mais', 'rápida', 'ou', 'o', 'code', 'impõe', 'uma', 'ordem', 'aos', 'demais', 'scripts', 'também', 'com', 'code', 'se', 'd', 'for', 'carregado', 'enquanto', 'e', 'está', 'carregando', 'mas', 'não', 'executando', 'ele', 'executará', 'antes', 'de', 'e', 'ou', 'não', 'ie', 'quando', 'a', 'carga', 'de', 'um', 'script', 'síncrono', 'começou', 'é', 'preciso', 'esperar', 'sua', 'execução', 'terminar', 'para', 'executar', 'um', 'script', 'assíncrono', 'c', 'e', 'd', 'podem', 'executar', 'depois', 'de', 'a', 'e', 'b', 'em', 'outras', 'palavras', 'se', 'a', 'carga', 'de', 'c', 'por', 'exemplo', 'demorar', 'demais', 'e', 'tanto', 'a', 'renderização', 'da', 'página', 'quanto', 'a', 'carga', 'de', 'a', 'e', 'b', 'concluírem', 'primeiro', 'estes', 'podem', 'executar', 'imediatamente', 'ou', 'é', 'necessário', 'que', 'todos', 'os', 'scripts', 'code', 'executem', 'antes', 'que', 'qualquer', 'script', 'code', 'execute', 'gostaria', 'de', 'saber', 'se', 'possível', 'o', 'que', 'está', 'especificado', 'em', 'relação', 'à', 'ordem', 'de', 'execução', 'dos', 'scripts', 'e', 'o', 'que', 'pode', 'variar', 'com', 'a', 'implementação', 'sem', 'necessidade', 'de', 'fazer', 'testes', 'embora', 'estes', 'sejam', 'bemvindos', 'como', 'complemento', 'existe', 'uma', 'forma', 'clara', 'de', 'determinar', 'quando', 'um', 'projeto', 'de', 'desenvolvimento', 'de', 'software', 'deve', 'ser', 'conduzido', 'usando', 'uma', 'metodologia', 'waterfall', 'ou', 'usar', 'scrum', 'quais', 'os', 'critérios', 'devem', 'ser', 'observados', 'para', 'escolher', 'um', 'ou', 'outro', 'recentemente', 'fiz', 'a', 'pergunta', 'porque', 'devemos', 'usar', 'anonymous', 'functions', 'com', 'jquery', 'ao', 'invés', 'da', 'função', 'diretamente', 'e', 'junto', 'com', 'a', 'resposta', 'aceita', 'veio', 'uma', 'segunda', 'pergunta', 'como', 'passar', 'argumentos', 'pra', 'uma', 'função', 'js', 'que', 'estamos', 'invocando', 'por', 'referência', 'como', 'seria', 'a', 'chamada', 'à', 'code', 'se', 'esta', 'função', 'recebesse', 'parâmetros', 'simples', 'como', 'um', 'número', 'ou', 'mais', 'complexos', 'como', 'um', 'objeto', 'propriamente', 'dito', 'é', 'comum', 'dizer', 'que', 'devese', 'evitar', 'retornar', 'códigos', 'de', 'erro', 'em', 'uma', 'função', 'quando', 'alguma', 'operação', 'falha', 'não', 'é', 'difícil', 'perceber', 'que', 'códigos', 'de', 'erros', 'são', 'confusos', 'é', 'um', 'valor', 'válido', 'ou', 'um', 'erro', 'e', 'não', 'fornecem', 'informação', 'relevante', 'a', 'recomendação', 'é', 'utilizar', 'o', 'lançamento', 'de', 'exceções', 'ao', 'invés', 'de', 'códigos', 'de', 'erro', 'por', 'que', 'as', 'exceções', 'são', 'melhores', 'que', 'o', 'retorno', 'de', 'códigos', 'de', 'erro', 'há', 'casos', 'onde', 'esta', 'solução', 'é', 'pior', 'o', 'título', 'obviamente', 'não', 'implica', 'que', 'uma', 'afirmação', 'ou', 'outra', 'esteja', 'correta', 'a', 'dúvida', 'é', 'esta', 'como', 'posso', 'calcular', 'a', 'idade', 'de', 'uma', 'pessoa', 'em', 'javascript', 'a', 'partir', 'da', 'data', 'de', 'nascimento', 'tentei', 'algo', 'do', 'tipo', 'code', 'quero', 'colocar', 'no', 'meu', 'site', 'um', 'sistema', 'igual', 'o', 'do', 'gag', 'onde', 'as', 'pessoas', 'podem', 'pausar', 'e', 'dar', 'play', 'em', 'um', 'code', 'eu', 'sei', 'que', 'tenho', 'que', 'usar', 'duas', 'imagens', 'um', 'code', 'e', 'um', 'code', 'mas', 'tentei', 'algumas', 'funções', 'e', 'não', 'consegui', 'achei', 'essa', 'função', 'code', 'mas', 'eu', 'não', 'sei', 'o', 'que', 'passar', 'por', 'parâmetro', 'e', 'nem', 'como', 'usálas', 'no', 'html', 'encontrei', 'no', 'so', 'en', 'essa', 'pergunta', 'creating', 'meta', 'language', 'with', 'java', 'no', 'qual', 'o', 'usuário', 'tem', 'interesse', 'em', 'criar', 'uma', 'meta', 'linguagem', 'usando', 'java', 'fiz', 'uma', 'breve', 'pesquisa', 'e', 'encontrei', 'no', 'site', 'da', 'microsoft', 'um', 'tópico', 'falando', 'sobre', 'gramáticas', 'linguagens', 'e', 'compiladores', 'um', 'retorno', 'às', 'bases', 'onde', 'fala', 'que', 'em', 'computação', 'uma', 'metalinguagem', 'muito', 'conhecida', 'é', 'a', 'bnf', 'ou', 'backusnaur', 'form', 'o', 'que', 'é', 'uma', 'meta', 'linguagem', 'estou', 'pensando', 'em', 'fazer', 'uma', 'aplicação', 'para', 'vender', 'gostaria', 'de', 'saber', 'como', 'proteger', 'meu', 'código', 'fonte', 'para', 'manter', 'meu', 'software', 'seguro', 'eu', 'vi', 'que', 'os', 'bytecodes', 'do', 'java', 'armazenados', 'no', 'arquivo', 'code', 'são', 'facilmente', 'convertidos', 'de', 'volta', 'para', 'code', 'usando', 'a', 'ferramenta', 'java', 'decompiler', 'os', 'code', 'podem', 'ser', 'facilmente', 'encontrados', 'dentro', 'de', 'um', 'code', 'para', 'o', 'caso', 'dos', 'desktops', 'ou', 'até', 'mesmo', 'em', 'um', 'code', 'conforme', 'mostrado', 'nesse', 'post', 'como', 'fazem', 'os', 'milhões', 'de', 'aplicativos', 'no', 'google', 'play', 'para', 'protegerem', 'seus', 'códigos', 'fontes', 'pois', 'deixálos', 'expostos', 'me', 'parece', 'meio', 'inseguro', 'ou', 'não', 'é', 'se', 'sim', 'se', 'é', 'inseguro', 'tem', 'como', 'eu', 'desenvolver', 'aplicações', 'que', 'mantenham', 'escondido', 'o', 'código', 'fonte', 'em', 'java', 'para', 'desktop', 'e', 'android', 'edição', 'a', 'resposta', 'do', 'mgibsonbr', 'me', 'convenceu', 'de', 'não', 'ser', 'paranoico', 'e', 'querer', 'proteger', 'todo', 'o', 'código', 'fonte', 'entretanto', 'existem', 'alguns', 'pontos', 'da', 'aplicação', 'que', 'não', 'podem', 'ser', 'revelados', 'por', 'motivo', 'de', 'segurança', 'dos', 'dados', 'por', 'exemplo', 'code', 'imaginem', 'o', 'estrago', 'se', 'alguém', 'tiver', 'o', 'endereço', 'o', 'usuário', 'e', 'a', 'senha', 'do', 'seu', 'banco', 'de', 'dados', 'nos', 'comentários', 'o', 'mgibsonbr', 'tentou', 'responder', 'essa', 'minha', 'dúvida', 'mas', 'eu', 'não', 'entendi', 'ou', 'talvez', 'eu', 'não', 'tenha', 'deixado', 'a', 'dúvida', 'clara', 'enfim', 'sobre', 'o', 'ofuscador', 'através', 'de', 'testes', 'pude', 'ver', 'que', 'ele', 'funciona', 'entretanto', 'tenho', 'dúvidas', 'se', 'ele', 'é', 'mesmo', 'a', 'solução', 'que', 'eu', 'procuro', 'ou', 'se', 'a', 'solução', 'na', 'verdade', 'é', 'remodelar', 'o', 'meu', 'software', 'de', 'uma', 'maneira', 'que', 'não', 'guarde', 'no', 'código', 'fonte', 'nenhum', 'tipo', 'de', 'informações', 'que', 'exijam', 'segredo', 'como', 'por', 'exemplo', 'usuário', 'senhas', 'e', 'endereços', 'de', 'bd', 'se', 'a', 'solução', 'for', 'remodelar', 'o', 'software', 'por', 'favor', 'me', 'expliquem', 'como', 'manter', 'um', 'arquivo', 'externo', 'ao', 'código', 'fonte', 'de', 'uma', 'maneira', 'que', 'não', 'seja', 'possível', 'o', 'hacker', 'copiar', 'a', 'parte', 'do', 'meu', 'código', 'fonte', 'que', 'faz', 'a', 'leitura', 'desse', 'arquivo', 'externo', 'tendo', 'então', 'o', 'código', 'que', 'consegue', 'ler', 'o', 'arquivo', 'da', 'mesma', 'maneira', 'que', 'meu', 'software', 'faz', 'no', 'contexto', 'do', 'desenvolvimento', 'de', 'software', 'o', 'que', 'é', 'um', 'jitter', 'cada', 'vez', 'se', 'fala', 'mais', 'nisso', 'e', 'várias', 'linguagens', 'estão', 'usando', 'a', 'tão', 'falada', 'compilação', 'jit', 'no', 'que', 'ele', 'difere', 'de', 'um', 'compilador', 'caso', 'alguém', 'não', 'saiba', 'hoje', 'code', 'teremos', 'um', 'segundo', 'a', 'mais', 'ou', 'seja', 'hoje', 'depois', 'das', 'code', 'teremos', 'code', 'isso', 'para', 'fazer', 'a', 'correção', 'do', 'tempo', 'atômico', 'internacional', 'sei', 'que', 'existem', 'vários', 'serviços', 'que', 'são', 'sincronizados', 'com', 'relógios', 'atômicos', 'como', 'o', 'que', 'fica', 'no', 'observatório', 'nacional', 'que', 'podem', 'ter', 'problemas', 'com', 'esse', 'segundo', 'a', 'mais', 'que', 'tipos', 'de', 'problemas', 'podemos', 'esperar', 'em', 'nossos', 'sistemasservidores', 'e', 'aplicações', 'quando', 'ocorre', 'um', 'evento', 'como', 'esse', 'caso', 'você', 'não', 'esteja', 'sabendo', 'de', 'nada', 'veja', 'algumas', 'matérias', 'falando', 'disso', 'radioagência', 'nacional', 'relógios', 'terão', 'um', 'segundo', 'extra', 'por', 'alterações', 'gravitacionais', 'tecmundo', 'dia', 'de', 'junho', 'terá', 'segundo', 'a', 'mais', 'mas', 'o', 'que', 'isso', 'pode', 'causar', 'estou', 'fazendo', 'um', 'pequeno', 'sistema', 'e', 'para', 'acessálo', 'o', 'usuário', 'digita', 'o', 'login', 'e', 'senha', 'qual', 'a', 'melhor', 'forma', 'segura', 'e', 'simples', 'de', 'fazer', 'o', 'sistema', 'de', 'login', 'e', 'senha', 'é', 'comum', 'que', 'se', 'ensine', 'que', 'o', 'certo', 'é', 'deixar', 'os', 'atributos', 'da', 'classe', 'privados', 'e', 'criar', 'code', 'e', 'code', 'para', 'eles', 'tudo', 'por', 'causa', 'do', 'encapsulamento', 'isso', 'não', 'é', 'a', 'mesma', 'coisa', 'que', 'deixar', 'tudo', 'público', 'já', 'que', 'você', 'pode', 'alterar', 'e', 'obter', 'o', 'valor', 'livremente', 'isso', 'não', 'cria', 'apenas', 'uma', 'ilusão', 'de', 'encapsulamento', 'é', 'recomendado', 'ou', 'não', 'o', 'seu', 'uso', 'por', 'quê', 'estou', 'desenvolvendo', 'uma', 'aplicação', 'onde', 'a', 'partir', 'de', 'uma', 'senha', 'fornecida', 'pelo', 'usuário', 'um', 'par', 'de', 'chaves', 'autenticação', 'e', 'criptografia', 'é', 'derivado', 'a', 'senha', 'em', 'si', 'nunca', 'é', 'enviada', 'ao', 'servidor', 'somente', 'a', 'chave', 'de', 'autenticação', 'gostaria', 'de', 'oferecer', 'ao', 'usuário', 'a', 'opção', 'do', 'navegador', 'lembrar', 'sua', 'senha', 'é', 'possível', 'fazer', 'isso', 'via', 'javascript', 'e', 'de', 'forma', 'segura', 'li', 'diversas', 'referências', 'por', 'exemplo', 'essa', 'pergunta', 'no', 'soen', 'e', 'pelo', 'jeito', 'não', 'há', 'um', 'meio', 'consistente', 'entre', 'os', 'diversos', 'browsers', 'ex', 'o', 'chrome', 'só', 'oferece', 'para', 'salvar', 'a', 'senha', 'no', 'retorno', 'da', 'submissão', 'do', 'formulário', 'e', 'só', 'se', 'a', 'própria', 'senha', 'tiver', 'sido', 'submetida', 'o', 'que', 'não', 'é', 'o', 'caso', 'aqui', 'pois', 'a', 'senha', 'não', 'deve', 'nunca', 'sair', 'do', 'browser', 'estou', 'procurando', 'por', 'alternativas', 'é', 'possível', 'forçar', 'o', 'browser', 'a', 'salvar', 'um', 'campo', 'code', 'arbitrário', 'com', 'o', 'mesmo', 'nível', 'de', 'segurança', 'que', 'ele', 'salvaria', 'uma', 'senha', 'submetida', 'ainda', 'que', 'essa', 'segurança', 'não', 'seja', 'assim', 'tão', 'elevada', 'de', 'preferência', 'satisfazendo', 'essa', 'restrição', 'adicional', 'de', 'não', 'enviála', 'ao', 'servidor', 'se', 'não', 'dá', 'para', 'salvar', 'junto', 'com', 'as', 'senhas', 'haveria', 'uma', 'solução', 'igualmente', 'boa', 'considerei', 'por', 'exemplo', 'a', 'opção', 'de', 'usar', 'code', 'apesar', 'dos', 'avisos', 'enfáticos', 'que', 'não', 'se', 'deve', 'armazenar', 'informações', 'confidenciais', 'no', 'code', 'entretanto', 'não', 'vejo', 'como', 'usálo', 'possa', 'ser', 'pior', 'do', 'que', 'salvar', 'a', 'senha', 'no', 'browser', 'uma', 'vez', 'que', 'alguém', 'com', 'acesso', 'local', 'ao', 'computador', 'também', 'poderá', 'ler', 'essas', 'senhas', 'a', 'única', 'desvantagem', 'que', 'vejo', 'é', 'que', 'ele', 'é', 'mais', 'vulnerável', 'a', 'xss', 'o', 'que', 'acredito', 'não', 'ser', 'necessariamente', 'o', 'caso', 'com', 'as', 'senhas', 'salvas', 'do', 'jeito', 'normal', 'sem', 'envolver', 'javascript', 'ou', 'estou', 'enganado', 'nota', 'conheço', 'a', 'webcrypto', 'api', 'sendo', 'desenvolvida', 'no', 'futuro', 'quando', 'a', 'mesma', 'estiver', 'consolidada', 'e', 'amplamente', 'suportada', 'ela', 'pode', 'vir', 'a', 'se', 'tornar', 'a', 'solução', 'ideal', 'entretanto', 'estou', 'analisando', 'alternativas', 'a', 'curto', 'prazo', 'e', 'não', 'a', 'de', 'criptografia', 'toda', 'a', 'criptografia', 'ocorre', 'no', 'lado', 'cliente', 'de', 'modo', 'que', 'nem', 'o', 'servidor', 'tem', 'acesso', 'aos', 'dados', 'do', 'usuário', 'por', 'essa', 'razão', 'a', 'senha', 'original', 'deve', 'ser', 'mantida', 'confidencial', 'inclusive', 'do', 'servidor', 'mais', 'detalhes', 'do', 'meu', 'caso', 'particular', 'aqui', 'assuma', 'como', 'premissa', 'que', 'o', 'usuário', 'optou', 'por', 'armazenar', 'a', 'senha', 'tenho', 'consciência', 'que', 'esse', 'é', 'um', 'tradeoff', 'segurança', 'vs', 'conveniência', 'e', 'gostaria', 'de', 'oferecer', 'ao', 'usuário', 'diferentes', 'opções', 'a', 'respeito', 'em', 'vez', 'de', 'impor', 'isso', 'a', 'ele', 'uma', 'discussão', 'aprofundada', 'sobre', 'segurança', 'seria', 'offtopic', 'aqui', 'mais', 'apropriada', 'para', 'securityse', 'por', 'exemplo', 'essa', 'pergunta', 'referese', 'somente', 'a', 'um', 'problema', 'de', 'programação', 'comandar', 'o', 'browser', 'para', 'salvar', 'uma', 'senha', 'através', 'dos', 'seus', 'mecanismos', 'usuais', 'atualização', 'por', 'exigência', 'popular', 'aqui', 'vai', 'o', 'meu', 'threat', 'model', 'modelo', 'de', 'ameaças', 'e', 'outros', 'requisitos', 'particulares', 'a', 'principal', 'preocupação', 'é', 'confidencialidade', 'na', 'nuvem', 'ou', 'seja', 'ainda', 'que', 'o', 'código', 'da', 'minha', 'aplicação', 'javascript', 'tenha', 'de', 'vir', 'necessariamente', 'de', 'uma', 'fonte', 'confiável', 'caso', 'contrário', 'nada', 'do', 'que', 'eu', 'fizesse', 'iria', 'garantir', 'a', 'segurança', 'o', 'servidor', 'onde', 'os', 'dados', 'são', 'armazenados', 'é', 'menosqueconfiável', 'ie', 'há', 'o', 'interesse', 'de', 'se', 'esconder', 'a', 'infomação', 'confidencial', 'mesmo', 'dele', 'ainda', 'que', 'não', 'se', 'presuma', 'malícia', 'a', 'priori', 'a', 'resistência', 'contra', 'acesso', 'local', 'não', 'autorizado', 'não', 'é', 'uma', 'preocupação', 'assumese', 'que', 'qualquer', 'um', 'com', 'acesso', 'físico', 'à', 'máquina', 'está', 'autorizado', 'a', 'acessar', 'esses', 'dados', 'e', 'se', 'pra', 'um', 'usuário', 'particular', 'isso', 'não', 'for', 'verdadeiro', 'ele', 'será', 'instruído', 'a', 'não', 'salvar', 'sua', 'senha', 'dessa', 'maneira', 'a', 'facilidade', 'de', 'uso', 'é', 'um', 'requisito', 'de', 'extrema', 'importância', 'instalar', 'plugins', 'java', 'webpg', 'etc', 'gerenciadores', 'de', 'senha', 'lastpass', 'keepass', 'etc', 'usar', 'um', 'browser', 'ou', 'so', 'particular', 'muitos', 'tem', 'integração', 'nativa', 'com', 'chaveiros', 'seguros', 'ou', 'mesmo', 'um', 'servidor', 'proxy', 'local', 'poderão', 'ser', 'oferecidos', 'como', 'opção', 'para', 'os', 'indivíduos', 'mais', 'conscientes', 'em', 'segurança', 'mas', 'não', 'devem', 'ser', 'obrigatórios', 'o', 'sistema', 'deve', 'ser', 'usável', 'somente', 'com', 'os', 'recursos', 'nativos', 'do', 'navegador', 'independente', 'de', 'plataforma', 'estou', 'postando', 'isso', 'aqui', 'porque', 'tenho', 'recebido', 'demasiadas', 'sugestões', 'de', 'não', 'fazer', 'isso', 'ou', 'fazer', 'aquilo', 'em', 'vez', 'disso', 'mas', 'minha', 'pergunta', 'original', 'não', 'é', 'sobre', 'segurança', 'e', 'sim', 'programação', 'se', 'é', 'ou', 'não', 'possível', 'usar', 'o', 'mecanismo', 'nativo', 'do', 'browser', 'de', 'lembrar', 'as', 'senhas', 'cada', 'um', 'tem', 'um', 'mas', 'a', 'funcionalidade', 'é', 'equivalente', 'programaticamente', 'estou', 'tentando', 'centralizar', 'verticalmente', 'o', 'conteúdo', 'de', 'um', 'elemento', 'que', 'tem', 'code', 'consegui', 'fazer', 'o', 'conteúdo', 'se', 'posicionar', 'da', 'metade', 'para', 'baixo', 'do', 'container', 'no', 'entanto', 'da', 'metade', 'para', 'cima', 'o', 'espaço', 'fica', 'sobrando', 'como', 'posso', 'resolver', 'isso', 'apenas', 'utilizando', 'css', 'eis', 'o', 'meu', 'código', 'até', 'o', 'momento', 'code', 'code', 'a', 'ideia', 'é', 'que', 'o', 'elemento', 'code', 'sobreponha', 'o', 'elementopai', 'como', 'se', 'fosse', 'um', 'indicador', 'de', 'loading', 'em', 'cima', 'de', 'apenas', 'um', 'elemento', 'na', 'página', 'recentemente', 'houve', 'uma', 'pergunta', 'aqui', 'no', 'stack', 'overflow', 'sobre', 'alterar', 'o', 'comportamento', 'padrão', 'do', 'code', 'para', 'atuar', 'na', 'página', 'como', 'um', 'code', 'isto', 'é', 'ao', 'ser', 'selecionado', 'um', 'item', 'os', 'outros', 'deveriam', 'ser', 'desmarcados', 'mantendo', 'a', 'seleção', 'única', 'as', 'respostas', 'foram', 'dadas', 'utilizando', 'javascript', 'basicamente', 'alterando', 'o', 'comportamento', 'natural', 'do', 'code', 'tratando', 'os', 'eventos', 'nesse', 'elemento', 'eu', 'sempre', 'acreditei', 'que', 'fazêlo', 'não', 'era', 'recomendado', 'e', 'que', 'o', 'ideal', 'mesmo', 'seria', 'utilizar', 'o', 'próprio', 'elemento', 'code', 'por', 'questões', 'de', 'semântica', 'eu', 'cheguei', 'a', 'comentar', 'a', 'possível', 'solução', 'utilizando', 'a', 'propriedade', 'code', 'do', 'css', 'pois', 'mantém', 'a', 'semântica', 'do', 'código', 'alterando', 'apenas', 'a', 'aparência', 'do', 'elemento', 'sem', 'necessitar', 'de', 'javascript', 'code', 'code', 'porém', 'pesquisando', 'vi', 'que', 'tal', 'propriedade', 'foi', 'removida', 'do', 'css', 'então', 'mesmo', 'que', 'os', 'navegadores', 'ainda', 'suportam', 'tal', 'propriedade', 'acredito', 'que', 'seu', 'uso', 'deve', 'ser', 'evitado', 'e', 'que', 'a', 'abordagem', 'utilizando', 'javascript', 'é', 'comumente', 'discutida', 'em', 'fóruns', 'mas', 'são', 'poucos', 'os', 'lugares', 'que', 'discutem', 'se', 'de', 'fato', 'é', 'apropriado', 'fazêlo', 'a', 'conclusão', 'que', 'chego', 'é', 'que', 'não', 'se', 'deve', 'alterar', 'o', 'comportamento', 'de', 'um', 'elemento', 'enquanto', 'semanticamente', 'é', 'apropriado', 'utilizar', 'outro', 'mas', 'não', 'consigo', 'afirmar', 'canonicamente', 'qual', 'é', 'o', 'impacto', 'tanto', 'de', 'desempenho', 'se', 'houver', 'quanto', 'na', 'usabilidade', 'da', 'página', 'então', 'é', 'permitido', 'utilizar', 'javascript', 'para', 'alterar', 'o', 'comportamento', 'natural', 'de', 'um', 'elemento', 'para', 'agir', 'como', 'outro', 'qual', 'é', 'o', 'impacto', 'gerado', 'por', 'esta', 'abordagem', 'existe', 'uma', 'diferença', 'de', 'desempenho', 'na', 'renderização', 'da', 'página', 'e', 'como', 'isso', 'pode', 'afetar', 'a', 'usabilidade', 'se', 'a', 'usabilidade', 'for', 'diretamente', 'afetada', 'é', 'possível', 'corrigir', 'utilizando', 'o', 'atributo', 'code', 'nota', 'o', 'exemplo', 'dado', 'entre', 'code', 'e', 'code', 'foi', 'mais', 'para', 'contextualização', 'do', 'problema', 'e', 'as', 'respostas', 'podem', 'preferencialmente', 'abordar', 'outros', 'exemplos', 'se', 'necessário', 'estou', 'estudando', 'javascript', 'e', 'vi', 'algumas', 'explicações', 'que', 'me', 'deixaram', 'com', 'dúvidas', 'aqui', 'no', 'stackoverflow', 'vi', 'várias', 'perguntas', 'sobre', 'a', 'possibilidade', 'de', 'se', 'criar', 'um', 'classe', 'abstrata', 'em', 'javascript', 'porém', 'minha', 'dúvida', 'é', 'a', 'seguinte', 'é', 'possível', 'criar', 'uma', 'classe', 'em', 'javascript', 'estou', 'perguntando', 'isso', 'porque', 'estou', 'usando', 'como', 'guia', 'o', 'site', 'developermozilla', 'encontrei', 'a', 'seguinte', 'informação', 'a', 'javascript', 'é', 'uma', 'linguagem', 'dinâmica', 'orientada', 'a', 'objetos', 'tem', 'tipos', 'e', 'operadores', 'objetos', 'e', 'métodos', 'sua', 'sintaxe', 'vem', 'das', 'linguagens', 'java', 'e', 'c', 'por', 'isso', 'tantas', 'estruturas', 'dessas', 'linguagens', 'se', 'aplicam', 'a', 'javascript', 'também', 'uma', 'das', 'principais', 'diferenças', 'é', 'que', 'o', 'javascript', 'não', 'tem', 'classes', 'em', 'vez', 'disso', 'a', 'funcionalidade', 'de', 'classe', 'é', 'realizada', 'por', 'protótipos', 'de', 'objetos', 'a', 'outra', 'diferença', 'principal', 'é', 'que', 'as', 'funções', 'são', 'objetos', 'dando', 'as', 'funções', 'a', 'capacidade', 'para', 'armazenar', 'código', 'executável', 'e', 'serem', 'passadas', 'como', 'parâmetro', 'para', 'qualquer', 'outro', 'objeto', 'a', 'afirmação', 'em', 'negrito', 'me', 'deixou', 'com', 'essa', 'dúvida', 'pois', 'se', 'trata', 'de', 'uma', 'fonte', 'confiável', 'para', 'estudos', 'o', 'que', 'entendi', 'é', 'que', 'não', 'existem', 'classes', 'mas', 'existem', 'elementos', 'que', 'podem', 'ser', 'usados', 'como', 'classes', 'não', 'sei', 'se', 'essa', 'é', 'a', 'interpretação', 'correta', 'e', 'mais', 'esse', 'mesmo', 'texto', 'diz', 'que', 'o', 'javascript', 'é', 'orientado', 'a', 'objetos', 'então', 'tentei', 'entender', 'o', 'porque', 'da', 'afirmação', 'da', 'não', 'existência', 'de', 'classes', 'estaria', 'por', 'ali', 'vejo', 'muitos', 'colegas', 'de', 'trabalho', 'e', 'profissionais', 'afora', 'que', 'dizem', 'que', 'instanciaram', 'classes', 'em', 'javascript', 'usaram', 'tal', 'classe', 'para', 'tal', 'propósito', 'em', 'javascript', 'com', 'isso', 'quero', 'entender', 'é', 'correto', 'afirmar', 'que', 'existem', 'classes', 'em', 'javascript', 'ou', 'não', 'tenho', 'receio', 'de', 'estar', 'me', 'preocupando', 'demais', 'com', 'testes', 'já', 'que', 'estou', 'gastando', 'atualmente', 'cerca', 'de', 'do', 'tempo', 'do', 'meu', 'projeto', 'apenas', 'na', 'criação', 'deles', 'eu', 'sei', 'que', 'quanto', 'mais', 'tempo', 'eu', 'gastar', 'com', 'testes', 'menos', 'eu', 'vou', 'gastar', 'para', 'corrigir', 'bugs', 'mas', 'assim', 'como', 'existe', 'a', 'curva', 'abc', 'para', 'definir', 'os', 'itens', 'de', 'maior', 'impacto', 'em', 'pesquisas', 'econômicas', 'e', 'estratégias', 'de', 'negócio', 'talvez', 'exista', 'algum', 'estudo', 'análogo', 'na', 'área', 'de', 'desenvolvimento', 'de', 'softwares', 'que', 'calcule', 'uma', 'quantidade', 'ideal', 'de', 'tempo', 'que', 'deva', 'ser', 'gasta', 'com', 'testes', 'já', 'que', 'assim', 'como', 'apontado', 'pela', 'curva', 'abc', 'a', 'partir', 'de', 'um', 'certo', 'ponto', 'o', 'teste', 'vai', 'custar', 'mais', 'caro', 'do', 'que', 'o', 'próprio', 'código', 'que', 'ele', 'testa', 'pergunta', 'qual', 'é', 'a', 'fração', 'de', 'tempo', 'ideal', 'de', 'um', 'projeto', 'que', 'deveria', 'ser', 'reservada', 'para', 'o', 'desenvolvimento', 'de', 'testes', 'ao', 'criar', 'um', 'componente', 'usamos', 'code', 'para', 'identificálo', 'por', 'exemplo', 'code', 'qual', 'é', 'a', 'diferença', 'de', 'usar', 'code', 'sem', 'o', 'no', 'lugar', 'do', 'code', 'é', 'correto', 'usar', 'um', 'ou', 'outro', 'hoje', 'vi', 'o', 'seguinte', 'vídeo', 'httpswwwyoutubecomwatchvjgpvqcfms', 'mostra', 'um', 'bracelete', 'que', 'projeta', 'a', 'tela', 'de', 'um', 'celular', 'android', 'pareado', 'no', 'braço', 'do', 'usuário', 'este', 'então', 'pode', 'manipular', 'o', 'celular', 'movendo', 'o', 'dedo', 'em', 'seu', 'braço', 'o', 'vídeo', 'me', 'parece', 'claramente', 'uma', 'montagem', 'em', 'vários', 'momentos', 'a', 'projeção', 'da', 'tela', 'não', 'acompanha', 'corretamente', 'o', 'movimento', 'da', 'câmera', 'e', 'o', 'aparelho', 'responde', 'excessivamente', 'rápido', 'às', 'entradas', 'mas', 'a', 'empresa', 'existe', 'e', 'está', 'arrecadando', 'fundos', 'para', 'lançar', 'um', 'protótipo', 'então', 'é', 'possível', 'que', 'meramente', 'tenham', 'feito', 'um', 'vídeo', 'promocional', 'sem', 'ter', 'o', 'protótipo', 'pronto', 'o', 'que', 'me', 'deixou', 'em', 'dúvida', 'é', 'assumindo', 'que', 'seja', 'tudo', 'real', 'como', 'eles', 'fariam', 'um', 'aplicativo', 'que', 'faz', 'streaming', 'da', 'tela', 'do', 'android', 'e', 'permite', 'disparar', 'eventos', 'de', 'gesture', 'no', 'aparelho', 'isso', 'é', 'mesmo', 'possível', 'ou', 'seria', 'uma', 'solução', 'apenas', 'para', 'aparelhos', 'com', 'root', 'e', 'que', 'tenham', 'sido', 'modificados', 'de', 'alguma', 'forma', 'se', 'isso', 'é', 'possível', 'por', 'que', 'empresas', 'como', 'o', 'teamviewer', 'ainda', 'não', 'fizeram', 'um', 'cliente', 'de', 'controle', 'remoto', 'para', 'o', 'android', 'sei', 'que', 'srp', 'significa', 'princípio', 'da', 'responsabilidade', 'única', 'cada', 'classe', 'deve', 'ser', 'responsável', 'por', 'tal', 'coisa', 'o', 'que', 'devo', 'fazer', 'pra', 'detectar', 'que', 'estou', 'violando', 'o', 'srp', 'o', 'que', 'devo', 'levar', 'em', 'consideração', 'para', 'aplicálo', 'corretamente', 'uso', 'com', 'moderação', 'uma', 'dúvida', 'de', 'como', 'exemplo', 'estou', 'desenvolvendo', 'o', 'framework', 'na', 'parte', 'referente', 'à', 'biblioteca', 'da', 'code', 'sempre', 'considero', 'esses', 'fatores', 'carrega', 'um', 'arquivo', 'para', 'view', 'carrega', 'os', 'dados', 'da', 'view', 'possibilidade', 'de', 'estender', 'essa', 'view', 'possibilidade', 'de', 'criar', 'blocos', 'para', 'a', 'view', 'em', 'cada', 'um', 'desses', 'casos', 'devo', 'me', 'preocupar', 'em', 'criar', 'uma', 'classe', 'que', 'faça', 'o', 'que', 'é', 'pretendido', 'code', 'code', 'code', 'code', 'ou', 'jogo', 'tudo', 'na', 'classe', 'code', 'se', 'considerar', 'jogar', 'tudo', 'na', 'classe', 'code', 'estaria', 'violando', 'o', 'srp', 'alguém', 'poderia', 'me', 'ajudar', 'a', 'entender', 'porque', 'o', 'postgresql', 'errou', 'varias', 'estimativas', 'de', 'custos', 'em', 'um', 'experimento', 'que', 'fiz', 'estou', 'fazendo', 'um', 'experimento', 'com', 'queries', 'do', 'benchmark', 'tpch', 'para', 'verificar', 'o', 'desempenho', 'de', 'índices', 'nas', 'consultas', 'de', 'consultas', 'somente', 'consultas', 'foi', 'verificado', 'que', 'o', 'otimizador', 'utilizou', 'índices', 'secundários', 'em', 'um', 'outro', 'experimento', 'foram', 'executados', 'as', 'queries', 'citadas', 'num', 'banco', 'de', 'dados', 'sem', 'a', 'presença', 'de', 'índices', 'visando', 'identificar', 'se', 'o', 'tempo', 'de', 'execução', 'aumentaria', 'devido', 'a', 'ausência', 'de', 'índices', 'mas', 'para', 'minha', 'surpresa', 'o', 'experimento', 'sem', 'a', 'presença', 'de', 'índices', 'na', 'base', 'de', 'dados', 'foi', 'mais', 'rápido', 'do', 'que', 'utilizando', 'os', 'índices', 'para', 'as', 'consultas', 'gostaria', 'de', 'entender', 'porque', 'o', 'parametro', 'custo', 'total', 'errou', 'em', 'todos', 'os', 'casos', 'ou', 'seja', 'todas', 'as', 'consultas', 'que', 'gastaram', 'mais', 'tempo', 'indicou', 'um', 'custo', 'menor', 'em', 'todos', 'os', 'casos', 'que', 'esta', 'incorreto', 'na', 'minha', 'opiniao', 'vejam', 'abaixo', 'que', 'a', 'primeira', 'linha', 'referese', 'a', 'query', 'que', 'utilizou', 'índice', 'o', 'custo', 'foi', 'menor', 'do', 'que', 'o', 'custo', 'da', 'mesma', 'query', 'que', 'não', 'utilizou', 'índice', 'também', 'vejam', 'o', 'tempo', 'gasto', 'a', 'query', 'que', 'utilizou', 'índice', 'gastou', 'minutos', 'enquanto', 'sem', 'o', 'uso', 'de', 'índices', 'demorou', 'segundos', 'esse', 'comportamento', 'se', 'estendeu', 'aos', 'outros', 'casos', 'minha', 'pergunta', 'é', 'porque', 'o', 'custo', 'total', 'execution', 'plan', 'calcula', 'incorretamente', 'o', 'custo', 'para', 'todos', 'os', 'casos', 'em', 'que', 'se', 'tem', 'índices', 'code', 'por', 'questoes', 'de', 'uso', 'de', 'um', 'patch', 'especifico', 'do', 'meu', 'projeto', 'de', 'pesquisa', 'estou', 'utilizando', 'uma', 'versao', 'antiga', 'do', 'ano', 'eu', 'não', 'modifiquei', 'os', 'parâmetros', 'padroes', 'somente', 'o', 'random_page_cost', 'para', 'pois', 'estou', 'utilizando', 'um', 'disco', 'ssd', 'onde', 'o', 'custo', 'de', 'acesso', 'aleatório', 'é', 'menor', 'que', 'em', 'um', 'hdd', 'segue', 'o', 'que', 'esta', 'no', 'meu', 'postgresqlconf', 'code', 'será', 'que', 'algum', 'destes', 'parâmetros', 'interferiram', 'para', 'acontecer', 'esse', 'erro', 'nas', 'estatísticas', 'de', 'custos', 'segue', 'a', 'query', 'e', 'o', 'seu', 'explain', 'analyse', 'com', 'e', 'sem', 'índices', 'code', 'qualquer', 'dica', 'é', 'bem', 'vinda', 'o', 'que', 'são', 'exceções', 'code', 'quais', 'são', 'suas', 'principais', 'causas', 'que', 'métodospráticas', 'podem', 'ser', 'utilizadas', 'para', 'se', 'prevenir', 'existe', 'diferença', 'de', 'performance', 'entre', 'os', 'dois', 'em', 'quais', 'situações', 'se', 'aplicam', 'qual', 'é', 'o', 'mais', 'recomendado', 'ser', 'usado', 'desde', 'os', 'tempos', 'de', 'faculdade', 'não', 'consigo', 'entender', 'a', 'real', 'diferença', 'entre', 'o', 'tipo', 'code', 'e', 'code', 'acabei', 'encontrando', 'o', 'tipo', 'code', 'que', 'também', 'trata', 'valores', 'reais', 'sobre', 'o', 'tipo', 'code', 'encontrei', 'a', 'seguinte', 'afirmação', 'para', 'qualquer', 'cálculo', 'que', 'envolva', 'dinheiro', 'ou', 'finanças', 'o', 'tipo', 'code', 'deve', 'ser', 'sempre', 'utilizado', 'só', 'este', 'tipo', 'tem', 'a', 'precisão', 'adequada', 'para', 'evitar', 'os', 'erros', 'críticos', 'de', 'arredondamento', 'por', 'quê', 'o', 'tipo', 'de', 'dados', 'decimal', 'é', 'simplesmente', 'um', 'tipo', 'de', 'ponto', 'flutuante', 'que', 'é', 'representado', 'internamente', 'como', 'base', 'ao', 'invés', 'de', 'base', 'dois', 'em', 'quais', 'situações', 'esses', 'tipos', 'devem', 'ser', 'usados', 'de', 'forma', 'correta', 'poderiam', 'me', 'explicar', 'o', 'porquê', 'do', 'tipo', 'decimal', 'ser', 'o', 'ideal', 'quando', 'se', 'tem', 'dinheiro', 'envolvido', 'qual', 'a', 'diferença', 'entre', 'ambos', 'na', 'empresa', 'onde', 'trabalho', 'atualmente', 'somos', 'fortemente', 'encorajados', 'a', 'evitar', 'programação', 'orientada', 'a', 'objetos', 'tanto', 'para', 'projetos', 'antigos', 'como', 'para', 'projetos', 'novos', 'para', 'projetos', 'antigos', 'concordo', 'que', 'seja', 'uma', 'má', 'pratica', 'começar', 'a', 'inserir', 'orientação', 'a', 'objetos', 'em', 'um', 'projeto', 'totalmente', 'estrutural', 'porém', 'para', 'projetos', 'novos', 'acredito', 'ser', 'mais', 'produtivo', 'utilizar', 'oop', 'questionando', 'a', 'situação', 'recebi', 'como', 'resposta', 'da', 'empresa', 'orientação', 'a', 'objetos', 'é', 'pesada', 'e', 'lenta', 'portanto', 'recomendamos', 'não', 'utilizar', 'qual', 'o', 'overhead', 'de', 'se', 'utilizar', 'orientação', 'a', 'objetos', 'vs', 'programação', 'procedural', 'considerando', 'que', 'boas', 'práticas', 'de', 'programação', 'são', 'seguidas', 'é', 'mais', 'produtivo', 'utilizar', 'orientação', 'a', 'objetos', 'ou', 'programação', 'procedural', 'sempre', 'fico', 'em', 'dúvida', 'nos', 'projetos', 'se', 'coloco', 'code', 'antes', 'de', 'dar', 'um', 'valor', 'a', 'uma', 'variavel', 'ou', 'não', 'pois', 'ambos', 'funcionam', 'eu', 'acho', 'alguém', 'sabe', 'explicar', 'o', 'motivo', 'de', 'usar', 'ou', 'não', 'qual', 'a', 'convenção', 'ou', 'boa', 'prática', 'a', 'ser', 'seguida', 'é', 'uma', 'pergunta', 'boba', 'eu', 'acho', 'mas', 'como', 'nunca', 'estudei', 'javascript', 'gostaria', 'de', 'saber', 'como', 'saber', 'se', 'o', 'código', 'é', 'de', 'fácil', 'leitura', 'e', 'manutenção', 'costumo', 'abstrair', 'grande', 'parte', 'dos', 'meus', 'códigos', 'tenho', 'costume', 'de', 'usar', 'muito', 'funções', 'lambda', 'no', 'c', 'como', 'essa', 'função', 'para', 'validação', 'de', 'cpf', 'code', 'nesse', 'exemplo', 'comentei', 'para', 'facilitar', 'quem', 'for', 'realizar', 'leitura', 'ou', 'alteração', 'no', 'código', 'a', 'solução', 'seria', 'comentar', 'eou', 'utilizar', 'a', 'quantidade', 'mínima', 'possível', 'de', 'funções', 'prontas', 'que', 'agilizam', 'muito', 'desenvolvimento', 'quais', 'outras', 'técnicas', 'podem', 'ser', 'usadas', 'para', 'melhorar', 'a', 'legibilidade', 'do', 'código', 'onde', 'o', 'código', 'javascript', 'deve', 'ser', 'colocado', 'em', 'um', 'documento', 'html', 'no', 'elemento', 'code', 'ou', 'code', 'no', 'início', 'ou', 'no', 'final', 'de', 'cada', 'um', 'existe', 'alguma', 'diferença', 'de', 'performance', 'ou', 'qualquer', 'outra', 'relacionada', 'a', 'isso', 'eu', 'tenho', 'visto', 'que', 'bibliotecas', 'de', 'software', 'escritas', 'em', 'c', 'no', 'geral', 'costumam', 'usar', 'números', 'hexadecimais', 'e', 'programadores', 'assembly', 'também', 'precisam', 'ser', 'ninjas', 'com', 'este', 'sistema', 'numérico', 'não', 'é', 'em', 'qualquer', 'lugar', 'que', 'se', 'acha', 'um', 'programador', 'que', 'saiba', 'ler', 'hexadecimal', 'decentemente', 'e', 'muito', 'menos', 'fazer', 'uso', 'dos', 'números', 'mas', 'hexadecimais', 'são', 'bastante', 'comuns', 'principalmente', 'em', 'programação', 'de', 'sistemas', 'programação', 'de', 'baixo', 'nível', 'e', 'segurança', 'da', 'informação', 'payloads', 'de', 'exploits', 'precisam', 'dos', 'opcodes', 'em', 'hexadecimal', 'hexdumps', 'o', 'nome', 'já', 'diz', 'tudo', 'eu', 'não', 'sei', 'porquê', 'mas', 'hexadecimais', 'também', 'estão', 'bastante', 'presente', 'em', 'macros', 'de', 'c', 'considerando', 'a', 'importância', 'desse', 'sistema', 'eu', 'pergunto', 'como', 'funcionam', 'os', 'números', 'em', 'hexadecimal', 'tenho', 'um', 'problema', 'de', 'maratona', 'de', 'programação', 'e', 'quero', 'saber', 'se', 'a', 'minha', 'solução', 'está', 'certa', 'assim', 'como', 'sugestões', 'de', 'melhoria', 'problema', 'um', 'grupo', 'de', 'formigas', 'é', 'realmente', 'orgulhoso', 'porque', 'elas', 'construíram', 'uma', 'magnifica', 'e', 'grande', 'colônia', 'no', 'entanto', 'o', 'enorme', 'tamanho', 'tornouse', 'um', 'problema', 'porque', 'muitas', 'formigas', 'não', 'sabem', 'o', 'caminho', 'entre', 'algumas', 'partes', 'da', 'colônia', 'elas', 'precisam', 'desesperadamente', 'da', 'sua', 'ajuda', 'a', 'colônia', 'de', 'formigas', 'foi', 'feita', 'como', 'uma', 'série', 'de', 'code', 'formigueiros', 'ligados', 'por', 'túneis', 'as', 'formigas', 'obsessivas', 'como', 'elas', 'são', 'contaram', 'os', 'formigueiros', 'sequencialmente', 'como', 'elas', 'construíramlos', 'o', 'primeiro', 'formigueiro', 'numerado', 'de', 'code', 'não', 'requer', 'qualquer', 'túnel', 'mas', 'para', 'cada', 'um', 'dos', 'formigueiros', 'subseqüentes', 'de', 'code', 'a', 'code', 'as', 'formigas', 'também', 'construiram', 'um', 'único', 'túnel', 'que', 'ligava', 'o', 'novo', 'formigueiro', 'para', 'um', 'dos', 'formigueiros', 'existentes', 'claro', 'este', 'túnel', 'foi', 'suficiente', 'para', 'permitir', 'que', 'qualquer', 'formiga', 'fosse', 'a', 'qualquer', 'formigueiro', 'previamente', 'construído', 'possivelmente', 'passando', 'por', 'outros', 'formigueiros', 'em', 'seu', 'caminho', 'mas', 'elas', 'não', 'se', 'incomodaram', 'em', 'fazer', 'túneis', 'extras', 'e', 'continuaram', 'construindo', 'mais', 'formigueiros', 'seu', 'trabalho', 'é', 'dada', 'a', 'estrutura', 'da', 'colônia', 'e', 'um', 'conjunto', 'de', 'consultas', 'calcular', 'para', 'cada', 'consulta', 'o', 'caminho', 'mais', 'curto', 'entre', 'pares', 'de', 'formigueiros', 'o', 'comprimento', 'de', 'um', 'caminho', 'é', 'a', 'soma', 'dos', 'comprimentos', 'de', 'todos', 'os', 'túneis', 'que', 'precisam', 'ser', 'explorada', 'entrada', 'cada', 'caso', 'de', 'teste', 'se', 'estende', 'por', 'várias', 'linhas', 'a', 'primeira', 'linha', 'contém', 'um', 'inteiro', 'code', 'representa', 'o', 'número', 'de', 'formigueiros', 'na', 'colónia', 'code', 'cada', 'uma', 'das', 'linhas', 'seguintes', 'code', 'contém', 'dois', 'inteiros', 'que', 'descrevem', 'um', 'túnel', 'linha', 'code', 'para', 'code', 'contém', 'code', 'e', 'code', 'indicando', 'que', 'o', 'formigueiro', 'i', 'estava', 'conectado', 'diretamente', 'ao', 'formigueiro', 'code', 'com', 'um', 'túnel', 'de', 'comprimento', 'code', 'code', 'a', 'próxima', 'linha', 'contém', 'um', 'inteiro', 'code', 'representando', 'o', 'número', 'de', 'consultas', 'que', 'se', 'seguem', 'q', 'cada', 'uma', 'das', 'próximas', 'code', 'linhas', 'descreve', 'uma', 'consulta', 'e', 'contém', 'dois', 'inteiros', 'code', 'e', 'code', 'distintas', 'code', 'que', 'representam', 'respectivamente', 'os', 'formigueiros', 'origem', 'e', 'de', 'destino', 'o', 'último', 'caso', 'de', 'teste', 'é', 'seguido', 'por', 'uma', 'linha', 'contendo', 'um', 'zero', 'saída', 'para', 'cada', 'caso', 'a', 'saída', 'de', 'teste', 'com', 'uma', 'única', 'linha', 'code', 'números', 'inteiros', 'cada', 'um', 'deles', 'sendo', 'o', 'comprimento', 'de', 'um', 'caminho', 'mais', 'curto', 'entre', 'o', 'par', 'de', 'formigueiros', 'de', 'uma', 'consulta', 'escrever', 'os', 'resultados', 'para', 'cada', 'comando', 'na', 'mesma', 'ordem', 'em', 'que', 'foram', 'dadas', 'as', 'consultas', 'no', 'input', 'minha', 'solução', 'atual', 'code', 'existe', 'diferença', 'de', 'performance', 'entre', 'utilizar', 'um', 'if', 'e', 'um', 'operador', 'ternário', 'em', 'c', 'utilizo', 'resharper', 'ferramenta', 'de', 'produtividade', 'para', 'o', 'vs', 'ele', 'insiste', 'que', 'o', 'operador', 'ternário', 'é', 'melhor', 'mas', 'não', 'me', 'explica', 'o', 'porque', 'código', 'antes', 'do', 'refactoring', 'code', 'depois', 'code', 'sendo', 'um', 'programador', 'net', 'mas', 'com', 'uma', 'antiga', 'paixão', 'por', 'c', 'que', 'cresceu', 'desde', 'o', 'c', 'estive', 'com', 'essa', 'curiosidade', 'eu', 'sei', 'que', 'o', 'net', 'pode', 'ser', 'extendido', 'com', 'o', 'ccli', 'mas', 'eu', 'gostaria', 'de', 'saber', 'o', 'que', 'o', 'c', 'puro', 'não', 'consegue', 'fazer', 'enquanto', 'o', 'c', 'consegue', 'nota', 'eu', 'não', 'quero', 'opiniões', 'aqui', 'e', 'também', 'não', 'quero', 'iniciar', 'uma', 'guerra', 'das', 'chamas', 'eu', 'quero', 'fatos', 'eu', 'só', 'quero', 'saber', 'o', 'que', 'o', 'título', 'da', 'pergunta', 'diz', 'não', 'quero', 'saber', 'se', 'você', 'prefere', 'uma', 'linguagem', 'ou', 'outra', 'porque', 'é', 'mais', 'fácil', 'fazer', 'x', 'nela', 'atualização', 'depois', 'de', 'respostas', 'e', 'algumas', 'horas', 'estou', 'julgando', 'a', 'do', 'utluiz', 'como', 'a', 'que', 'melhor', 'respondeu', 'a', 'minha', 'pergunta', 'portanto', 'estou', 'marcando', 'como', 'aceita', 'a', 'do', 'fláviogranato', 'também', 'é', 'boa', 'mas', 'achei', 'a', 'do', 'utluiz', 'mais', 'correta', 'as', 'duas', 'outras', 'respostas', 'falam', 'principalmente', 'sobre', 'o', 'framework', 'e', 'a', 'performance', 'que', 'são', 'óbvios', 'para', 'quem', 'não', 'é', 'novato', 'no', 'assunto', 'não', 'estou', 'dizendo', 'que', 'foram', 'más', 'respostas', 'só', 'não', 'foram', 'respostas', 'boas', 'para', 'essa', 'pergunta', 'fora', 'o', 'fato', 'que', 'o', 'framework', 'é', 'bem', 'estável', 'e', 'performance', 'não', 'é', 'um', 'assunto', 'crítico', 'como', 'regra', 'geral', 'é', 'considerada', 'má', 'pratica', 'de', 'programação', 'usar', 'métodos', 'estáticos', 'mas', 'em', 'que', 'situações', 'ela', 'se', 'justifica', 'ou', 'não', 'se', 'justifica', 'por', 'exemplo', 'se', 'eu', 'fosse', 'criar', 'um', 'método', 'simples', 'para', 'ler', 'um', 'arquivo', 'de', 'texto', 'criando', 'esse', 'método', 'no', 'tipo', 'de', 'instância', 'eu', 'teria', 'que', 'instanciar', 'a', 'classe', 'apenas', 'para', 'poder', 'executálo', 'o', 'que', 'não', 'faz', 'muito', 'sentido', 'código', 'em', 'portugol', 'code', 'já', 'na', 'forma', 'estática', 'eu', 'chamaria', 'o', 'método', 'diretamente', 'code', 'acabei', 'de', 'ler', 'esse', 'artigo', 'e', 'nele', 'há', 'esta', 'expressão', 'code', 'avaliando', 'isso', 'no', 'interpretador', 'code', 'bom', 'por', 'que', 'já', 'li', 'alguns', 'comentários', 'na', 'web', 'a', 'respeito', 'de', 'utilizar', 'ou', 'não', 'o', 'code', 'no', 'final', 'das', 'linhas', 'quando', 'se', 'escreve', 'javascript', 'alguns', 'dizem', 'que', 'sim', 'outros', 'dizem', 'não', 'ter', 'necessidade', 'mas', 'nenhum', 'sabe', 'explicar', 'bem', 'os', 'motivos', 'das', 'divergências', 'exemplo', 'code', 'o', 'interessante', 'é', 'que', 'mesmo', 'esquecendo', 'o', 'code', 'no', 'meu', 'código', 'as', 'vezes', 'ele', 'continua', 'rodando', 'sem', 'problemas', 'e', 'sem', 'disparar', 'erros', 'então', 'o', 'correto', 'é', 'usar', 'ou', 'não', 'o', 'famoso', 'ponto', 'e', 'vírgula', 'li', 'essa', 'semana', 'que', 'agora', 'existe', 'uma', 'edição', 'do', 'vs', 'chamada', 'visual', 'studio', 'community', 'já', 'tem', 'a', 'versão', 'pra', 'baixar', 'e', 'vai', 'ter', 'a', 'também', 'assim', 'que', 'sair', 'pelo', 'que', 'estava', 'lendo', 'a', 'partir', 'do', 'vs', 'não', 'vai', 'existir', 'mais', 'o', 'express', 'e', 'só', 'vai', 'ter', 'essa', 'versão', 'community', 'o', 'que', 'não', 'entendi', 'muito', 'bem', 'foi', 'a', 'limitação', 'imposta', 'nessa', 'versão', 'community', 'ela', 'é', 'muito', 'mais', 'completa', 'do', 'que', 'as', 'versões', 'express', 'antigas', 'li', 'nesse', 'artigo', 'que', 'a', 'nova', 'versão', 'community', 'pode', 'ser', 'usada', 'em', 'quaisquer', 'projetos', 'comerciais', 'e', 'não', 'comerciais', 'desde', 'que', 'não', 'seja', 'por', 'uma', 'empresa', 'e', 'seja', 'uma', 'equipe', 'de', 'no', 'máximo', 'programadores', 'já', 'no', 'site', 'da', 'microsoft', 'diz', 'isso', 'download', 'visual', 'studio', 'community', 'for', 'a', 'free', 'fullfeatured', 'ide', 'with', 'powerful', 'coding', 'productivity', 'features', 'crossplatform', 'mobile', 'development', 'tools', 'for', 'windows', 'ios', 'and', 'android', 'and', 'access', 'to', 'thousands', 'of', 'extensions', 'this', 'edition', 'of', 'visual', 'studio', 'is', 'available', 'at', 'no', 'cost', 'for', 'nonenterprise', 'application', 'development', 'mas', 'fiquei', 'em', 'dúvida', 'se', 'esse', 'nonenterprise', 'application', 'development', 'significa', 'desenvolvimento', 'fora', 'de', 'empresas', 'como', 'diz', 'no', 'artigo', 'ou', 'se', 'significa', 'desenvolvimento', 'de', 'aplicações', 'que', 'não', 'sejam', 'para', 'empresas', 'dessa', 'forma', 'minha', 'pergunta', 'é', 'a', 'seguinte', 'um', 'programador', 'que', 'trabalha', 'sozinho', 'ou', 'com', 'uma', 'equipe', 'de', 'no', 'máximo', 'programadores', 'desde', 'que', 'trabalhe', 'por', 'conta', 'própria', 'fora', 'de', 'uma', 'empresa', 'poderá', 'usar', 'o', 'vs', 'community', 'em', 'qualquer', 'projeto', 'seja', 'ele', 'comercial', 'ou', 'não', 'comercial', 'e', 'seja', 'ele', 'código', 'aberto', 'ou', 'fechado', 'ao', 'fazer', 'um', 'select', 'reparei', 'que', 'os', 'dados', 'com', 'campo', 'code', 'não', 'são', 'recuperados', 'usando', 'o', 'operadorcode', 'por', 'que', 'isso', 'acontece', 'code', 'é', 'igual', 'a', 'um', 'code', 'vejam', 'que', 'na', 'consulta', 'abaixo', 'só', 'a', 'primeira', 'linha', 'é', 'retornada', 'sqlfiddle', 'algumas', 'linguagens', 'como', 'c', 'ainda', 'possuem', 'a', 'instrução', 'code', 'sempre', 'ouvi', 'que', 'utilizála', 'não', 'é', 'uma', 'boa', 'prática', 'eu', 'gostaria', 'de', 'saber', 'quais', 'seriam', 'as', 'razões', 'para', 'evitar', 'o', 'code', 'e', 'quais', 'os', 'problemas', 'causados', 'por', 'sua', 'utilização', 'code', 'ainda', 'existe', 'por', 'compatibilidade', 'ou', 'para', 'casos', 'muito', 'restritos', 'de', 'utilização', 'para', 'que', 'serve', 'a', 'declaração', 'code', 'no', 'css', 'code', 'a', 'microsoft', 'anunciou', 'um', 'novo', 'net', 'core', 'que', 'raios', 'é', 'isto', 'vejo', 'pela', 'internet', 'uma', 'série', 'de', 'artigos', 'com', 'títulos', 'como', 'setinterval', 'is', 'bad', 'que', 'traduzindo', 'seria', 'setinterval', 'é', 'ruím', 'vi', 'recomendações', 'de', 'usar', 'uma', 'função', 'anônima', 'recursiva', 'com', 'um', 'code', 'por', 'ser', 'aparentemente', 'melhor', 'que', 'o', 'uso', 'de', 'code', 'exemplificando', 'com', 'code', 'code', 'exemplificando', 'com', 'função', 'recursiva', 'e', 'code', 'code', 'por', 'que', 'dizem', 'isso', 'exemplo', 'no', 'jsfiddle', 'em', 'discussões', 'acerca', 'de', 'performance', 'de', 'algoritmos', 'é', 'muito', 'comum', 'o', 'uso', 'da', 'notação', 'big', 'o', 'o', 'on', 'on', 'é', 'fácil', 'encontrar', 'a', 'definição', 'científica', 'desta', 'notação', 'e', 'é', 'fácil', 'encontrar', 'algumas', 'definições', 'mais', 'informais', 'em', 'inglês', 'o', 'que', 'eu', 'peço', 'aqui', 'é', 'uma', 'definição', 'informal', 'desta', 'notação', 'que', 'seja', 'imediatamente', 'útil', 'até', 'mesmo', 'para', 'o', 'menos', 'versado', 'em', 'matemática', 'vou', 'tentar', 'formular', 'um', 'exemplo', 'para', 'trazer', 'a', 'definição', 'do', 'big', 'o', 'para', 'o', 'âmbito', 'prático', 'estudando', 'as', 'implementações', 'de', 'lista', 'arraylist', 'e', 'linkedlist', 'java', 'dizse', 'que', 'uma', 'das', 'diferenças', 'entre', 'elas', 'é', 'que', 'o', 'método', 'arraylistgetint', 'index', 'é', 'o', 'enquanto', 'o', 'método', 'linkedlistgetint', 'index', 'é', 'on', 'mas', 'na', 'prática', 'o', 'que', 'a', 'notação', 'big', 'o', 'está', 'indicando', 'neste', 'caso', 'é', 'claro', 'que', 'outros', 'exemplos', 'práticos', 'são', 'bem', 'vindos', 'é', 'possível', 'observar', 'em', 'alguns', 'casos', 'que', 'a', 'separação', 'de', 'tarefas', 'em', 'múltiplas', 'threads', 'não', 'dá', 'ganho', 'e', 'até', 'torna', 'uma', 'aplicação', 'mais', 'lenta', 'que', 'o', 'uso', 'em', 'thread', 'única', 'não', 'deveria', 'sempre', 'ter', 'ganho', 'de', 'performance', 'quando', 'tem', 'vários', 'processadores', 'não', 'necessariamente', 'chips', 'o', 'ganho', 'ocorre', 'em', 'alguma', 'situação', 'quando', 'só', 'existe', 'um', 'processador', 'ou', 'core', 'na', 'máquina', 'é', 'possível', 'paralelizar', 'qualquer', 'tarefa', 'e', 'obter', 'ganho', 'de', 'performance', 'comecei', 'a', 'estudar', 'aspnet', 'mvc', 'e', 'me', 'deparei', 'com', 'o', 'termo', 'scaffold', 'não', 'entendi', 'muito', 'bem', 'por', 'isso', 'as', 'perguntas', 'º', 'o', 'que', 'é', 'º', 'qual', 'sua', 'utilização', 'dentro', 'do', 'aspnet', 'mvc', 'faz', 'um', 'tempo', 'estou', 'tentando', 'aprender', 'a', 'usar', 'promessas', 'e', 'programação', 'assíncrona', 'em', 'javascript', 'mas', 'até', 'agora', 'não', 'tive', 'muito', 'sucesso', 'nisso', 'já', 'entendi', 'que', 'existem', 'funções', 'que', 'retornam', 'as', 'tais', 'promessas', 'e', 'que', 'então', 'é', 'possível', 'encaixar', 'um', 'callback', 'no', 'método', 'code', 'do', 'objeto', 'retornado', 'também', 'sei', 'construir', 'funções', 'que', 'retornam', 'promessas', 'usando', 'a', 'biblioteca', 'code', 'meu', 'problema', 'é', 'que', 'não', 'sei', 'como', 'usar', 'as', 'promessas', 'na', 'prática', 'sempre', 'que', 'tento', 'vira', 'uma', 'confusão', 'e', 'acabo', 'tendo', 'um', 'monte', 'de', 'codes', 'aninhados', 'e', 'na', 'maioria', 'das', 'vezes', 'nada', 'funciona', 'sem', 'falar', 'que', 'é', 'extremamente', 'comum', 'que', 'eu', 'caia', 'em', 'situações', 'do', 'seguinte', 'tipo', 'preciso', 'de', 'certos', 'dados', 'que', 'são', 'carregados', 'do', 'servidor', 'essa', 'chamada', 'retorna', 'uma', 'promessa', 'mas', 'eu', 'preciso', 'dos', 'dados', 'em', 'uma', 'função', 'que', 'é', 'executada', 'logo', 'em', 'seguida', 'na', 'verdade', 'não', 'estou', 'conseguindo', 'pensar', 'do', 'jeito', 'certo', 'com', 'programação', 'assincrona', 'e', 'promessas', 'é', 'muito', 'natural', 'pensar', 'daquela', 'forma', 'primeiro', 'acontece', 'isso', 'e', 'em', 'seguida', 'tem', 'que', 'acontecer', 'aquilo', 'mas', 'parece', 'muito', 'estranho', 'pensar', 'alguma', 'hora', 'vai', 'acontecer', 'isso', 'e', 'nem', 'sabemos', 'quando', 'vai', 'acabar', 'e', 'precisa', 'acontecer', 'uma', 'outra', 'coisa', 'que', 'depende', 'da', 'primeira', 'alguém', 'poderia', 'dar', 'algumas', 'dicasreferências', 'pra', 'pegar', 'o', 'jeito', 'mesmo', 'disso', 'estou', 'com', 'dúvida', 'na', 'utilização', 'do', 'code', 'e', 'code', 'atualmente', 'ao', 'criar', 'uma', 'query', 'no', 'sql', 'server', 'fiquei', 'com', 'dúvida', 'sobre', 'code', 'e', 'code', 'realizei', 'algumas', 'pesquisas', 'e', 'consegui', 'descobrir', 'a', 'diferença', 'de', 'ambos', 'só', 'que', 'me', 'surgiu', 'algumas', 'duvidas', 'que', 'não', 'consegui', 'encontrar', 'realizei', 'a', 'seguinte', 'query', 'dúvidas', 'ao', 'ler', 'em', 'alguns', 'sites', 'vi', 'que', 'o', 'code', 'ou', 'code', 'tem', 'alguma', 'diferença', 'na', 'hora', 'do', 'code', 'em', 'banco', 'só', 'que', 'não', 'consegui', 'descobrir', 'qual', 'deles', 'pois', 'os', 'dois', 'tem', 'o', 'mesmo', 'comportamento', 'ao', 'realizar', 'a', 'seguinte', 'query', 'code', 'só', 'que', 'em', 'alguns', 'sites', 'diziam', 'code', 'ou', 'code', 'quando', 'string', 'ficaria', 'da', 'seguinte', 'forma', 'ex', 'se', 'a', 'coluna', 'tiver', 'o', 'tamanho', 'code', 'code', 'foi', 'isso', 'que', 'pude', 'entender', 'mais', 'nenhum', 'site', 'mostrava', 'exemplos', 'para', 'melhor', 'entendimento', 'queria', 'saber', 'qual', 'a', 'diferença', 'de', 'ambos', 'na', 'questão', 'em', 'banco', 'ficou', 'um', 'pouco', 'difícil', 'descrever', 'minha', 'dúvida', 'estava', 'lendo', 'as', 'respostas', 'da', 'pergunta', 'quando', 'usar', 'waterfall', 'e', 'quando', 'usar', 'scrum', 'e', 'me', 'deparei', 'com', 'algo', 'citado', 'pelo', 'usuário', 'utluiz', 'que', 'me', 'deixou', 'com', 'dúvida', 'que', 'é', 'a', 'sequência', 'de', 'desenvolvimento', 'de', 'software', 'requisito', 'análise', 'design', 'implementação', 'teste', 'integração', 'dúvida', 'eu', 'gostaria', 'de', 'uma', 'explicação', 'a', 'respeito', 'de', 'cada', 'passo', 'desta', 'sequência', 'e', 'qual', 'é', 'a', 'finalidade', 'de', 'cada', 'um', 'dos', 'passos', 'sei', 'que', 'essa', 'pergunta', 'é', 'bastante', 'corriqueira', 'e', 'é', 'fácil', 'encontrar', 'a', 'resposta', 'porém', 'eu', 'gostaria', 'de', 'uma', 'resposta', 'funcional', 'eu', 'já', 'vi', 'bastante', 'coisa', 'sobre', 'mas', 'nada', 'entra', 'na', 'minha', 'cachola', 'gostaria', 'de', 'algo', 'mais', 'prático', 'algo', 'que', 'realmente', 'faça', 'sentido', 'sempre', 'que', 'busco', 'estudar', 'sobre', 'me', 'deparo', 'com', 'um', 'monte', 'de', 'fórmulas', 'doidas', 'e', 'explicações', 'superficiais', 'poderiam', 'por', 'favor', 'me', 'explicar', 'como', 'implementar', 'isto', 'na', 'prática', 'ou', 'pelo', 'menos', 'um', 'link', 'com', 'um', 'exemplo', 'funcional', 'sem', 'aquele', 'monte', 'de', 'fórmulas', 'doidas', 'que', 'sei', 'que', 'é', 'necessário', 'mas', 'que', 'não', 'ajuda', 'muito', 'de', 'início', 'quero', 'uma', 'explicação', 'simples', 'de', 'como', 'funciona', 'na', 'prática', 'e', 'não', 'esse', 'monte', 'de', 'o', 'neurônio', 'x', 'faz', 'isso', 'o', 'evento', 'de', 'ativação', 'de', 'onde', 'vem', 'o', 'neurônio', 'como', 'implementar', 'o', 'que', 'é', 'esse', 'tal', 'evento', 'de', 'ativação', 'onde', 'são', 'guardados', 'os', 'dados', 'obtido', 'tem', 'um', 'banco', 'de', 'dados', 'especial', 'isso', 'que', 'eu', 'não', 'consigo', 'entender', 'parece', 'que', 'já', 'começam', 'explicando', 'do', 'final', 'acredito', 'que', 'a', 'maioria', 'dos', 'softwares', 'padronizam', 'o', 'uso', 'da', 'palavra', 'cancelar', 'para', 'um', 'botão', 'cuja', 'a', 'ação', 'é', 'cancelar', 'a', 'operação', 'que', 'está', 'em', 'curso', 'claro', 'que', 'a', 'operação', 'em', 'curso', 'é', 'a', 'mais', 'próxima', 'que', 'está', 'ocorrendo', 'provavelmente', 'é', 'aquela', 'operação', 'responsável', 'pelo', 'mecanismo', 'de', 'confirmação', 'de', 'uma', 'outra', 'operação', 'que', 'provavelmente', 'faz', 'parte', 'de', 'uma', 'regra', 'de', 'negócio', 'por', 'exemplo', 'se', 'você', 'vai', 'cancelar', 'o', 'pagamento', 'já', 'efetuado', 'de', 'um', 'boleto', 'esta', 'operação', 'usa', 'exatamente', 'o', 'termo', 'cancelar', 'porque', 'os', 'usuários', 'do', 'software', 'estão', 'acostumados', 'com', 'ele', 'faz', 'parte', 'do', 'domínio', 'deles', 'e', 'antes', 'de', 'concluir', 'o', 'cancelamento', 'o', 'software', 'pergunta', 'se', 'é', 'isto', 'mesmo', 'que', 'o', 'usuário', 'quer', 'fazer', 'é', 'muito', 'comum', 'o', 'uso', 'de', 'dois', 'botões', 'nesta', 'confirmação', 'um', 'ok', 'e', 'outro', 'cancelar', 'neste', 'caso', 'é', 'para', 'cancelar', 'o', 'o', 'processo', 'de', 'cancelamento', 'e', 'provavelmente', 'isto', 'é', 'o', 'padrão', 'para', 'todo', 'o', 'software', 'mudar', 'isto', 'seria', 'despadronizar', 'o', 'funcionamento', 'todo', 'mundo', 'está', 'acostumado', 'com', 'o', 'ok', 'e', 'cancela', 'para', 'cancelar', 'operações', 'em', 'processo', 'de', 'confirmação', 'mas', 'é', 'bem', 'claro', 'que', 'isto', 'não', 'é', 'intuitivo', 'é', 'fácil', 'cometer', 'um', 'erro', 'confundindo', 'o', 'que', 'você', 'está', 'efetivamente', 'cancelando', 'este', 'problema', 'é', 'bem', 'mais', 'comum', 'do', 'que', 'parece', 'o', 'que', 'fazer', 'nestes', 'casos', 'a', 'intenção', 'da', 'pergunta', 'é', 'ter', 'um', 'conteúdo', 'em', 'português', 'sobre', 'o', 'assunto', 'já', 'que', 'eu', 'tenho', 'informações', 'em', 'inglês', 'se', 'possível', 'gostaria', 'de', 'novas', 'informações', 'também', 'além', 'das', 'contidas', 'lá', 'nem', 'vou', 'pedir', 'um', 'estudo', 'específico', 'sobre', 'o', 'assunto', 'porque', 'não', 'é', 'fácil', 'ter', 'algo', 'assim', 'mas', 'qualquer', 'informação', 'deve', 'ser', 'minimamente', 'fundamentada', 'pode', 'parecer', 'óbvio', 'o', 'que', 'fazer', 'mas', 'em', 'ux', 'todo', 'cuidado', 'é', 'pouco', 'bonus', 'point', 'muitas', 'vezes', 'isto', 'só', 'ocorre', 'por', 'causa', 'de', 'traduções', 'sem', 'contexto', 'ou', 'seja', 'o', 'problema', 'podia', 'não', 'ocorrer', 'no', 'original', 'além', 'de', 'simplesmente', 'testar', 'tudo', 'antes', 'de', 'liberar', 'que', 'é', 'a', 'solução', 'óbvia', 'tem', 'algo', 'a', 'mais', 'que', 'pode', 'ser', 'feito', 'para', 'garantir', 'que', 'o', 'texto', 'não', 'seja', 'confuso', 'eu', 'estava', 'vendo', 'alguns', 'métodos', 'das', 'classes', 'do', 'pacote', 'code', 'e', 'alguns', 'deles', 'possuem', 'assinatura', 'semelhantes', 'a', 'esta', 'code', 'o', 'que', 'significa', 'esse', 'code', 'tenho', 'um', 'site', 'onde', 'controlamos', 'os', 'usuários', 'pelo', 'numero', 'de', 'cpf', 'acredito', 'ser', 'a', 'melhor', 'forma', 'pois', 'é', 'um', 'dado', 'único', 'que', 'todo', 'mundo', 'sabe', 'e', 'é', 'checavel', 'porem', 'o', 'cliente', 'tem', 'agora', 'usuários', 'estrangeiros', 'que', 'não', 'tem', 'cpf', 'como', 'lidar', 'com', 'isso', 'pelo', 'que', 'sei', 'não', 'é', 'possível', 'controlar', 'número', 'de', 'passaporte', 'não', 'existe', 'nada', 'que', 'seja', 'igual', 'ao', 'cpf', 'mais', 'detalhes', 'como', 'chave', 'primaria', 'é', 'usado', 'um', 'userid', 'o', 'cpf', 'é', 'o', 'login', 'no', 'sistema', 'quem', 'acessa', 'são', 'vendedores', 'de', 'lojas', 'que', 'vendem', 'o', 'produto', 'e', 'o', 'site', 'é', 'uma', 'área', 'do', 'lojista', 'onde', 'é', 'feito', 'promoções', 'internas', 'pedir', 'o', 'cpf', 'é', 'um', 'esforço', 'de', 'prevenir', 'mais', 'de', 'um', 'cadastro', 'por', 'pessoa', 'já', 'que', 'o', 'site', 'cria', 'campanhas', 'onde', 'o', 'usuário', 'pode', 'receber', 'prêmios', 'por', 'responder', 'questionários', 'ex', 'uma', 'das', 'acoes', 'feitas', 'foi', 'ganhe', 'um', 'par', 'de', 'ingressos', 'para', 'assistir', 'a', 'final', 'da', 'copa', 'no', 'maracana', 'ele', 'responde', 'o', 'questionário', 'com', 'perguntas', 'sobre', 'o', 'produto', 'técnica', 'de', 'vendas', 'etc', 'e', 'quem', 'acertar', 'mais', 'ganha', 'o', 'premio', 'cada', 'um', 'pode', 'fazer', 'x', 'temos', 'um', 'banco', 'de', 'questões', 'o', 'questionário', 'pede', 'no', 'banco', 'tem', 'que', 'são', 'randomizadas', 'mas', 'de', 'qualquer', 'modo', 'quanto', 'mais', 'cadastros', 'um', 'usuário', 'tem', 'mais', 'chances', 'ele', 'forjará', 'para', 'si', 'quando', 'devo', 'fazer', 'essa', 'gravação', 'direto', 'no', 'banco', 'quais', 'as', 'situações', 'eu', 'sei', 'que', 'posso', 'gravar', 'no', 'banco', 'o', 'caminho', 'da', 'imagem', 'tenho', 'dúvidas', 'a', 'respeito', 'do', 'uso', 'do', 'code', 'em', 'funções', 'exemplo', 'code', 'eu', 'sei', 'que', 'esta', 'função', 'irá', 'me', 'retornar', 'um', 'inteiro', 'que', 'é', 'a', 'soma', 'dos', 'dois', 'parâmetros', 'na', 'função', 'code', 'e', 'code', 'exemplo', 'code', 'eu', 'vi', 'em', 'um', 'programa', 'que', 'continha', 'uma', 'implementação', 'parecida', 'como', 'a', 'do', 'segundo', 'exemplo', 'acima', 'que', 'usei', 'para', 'ilustrar', 'a', 'situação', 'que', 'testemunhei', 'do', 'uso', 'do', 'code', 'eu', 'testei', 'a', 'função', 'code', 'e', 'ela', 'retorna', 'a', 'soma', 'dos', 'dois', 'parâmetros', 'mesmo', 'tendo', 'o', 'code', 'especificado', 'como', 'retorno', 'ou', 'seja', 'vazio', 'isto', 'me', 'deixou', 'confuso', 'em', 'relação', 'ao', 'uso', 'do', 'code', 'eu', 'pensava', 'que', 'servia', 'somente', 'para', 'dizer', 'que', 'uma', 'função', 'não', 'vai', 'ter', 'retorno', 'nenhum', 'ou', 'não', 'irá', 'receber', 'nenhum', 'parâmetro', 'como', 'este', 'exemplo', 'code', 'afinal', 'de', 'contas', 'qual', 'é', 'a', 'finalidade', 'deste', 'comando', 'em', 'c', 'o', 'uso', 'do', 'code', 'especificado', 'como', 'ponteiro', 'pode', 'retornar', 'valores', 'mesmo', 'sendo', 'code', 'estou', 'com', 'algumas', 'dúvidas', 'quanto', 'ao', 'code', 'li', 'em', 'algum', 'lugar', 'e', 'me', 'lembro', 'vagamente', 'sobre', 'a', 'questão', 'da', 'reescrita', 'mas', 'o', 'que', 'é', 'isso', 'e', 'para', 'que', 'serve', 'como', 'se', 'aplica', 'em', 'um', 'código', 'java', 'existe', 'em', 'alguma', 'outra', 'linguagem', 'estou', 'desenvolvendo', 'um', 'sistema', 'help', 'desk', 'e', 'gostaria', 'de', 'algumas', 'idéias', 'de', 'como', 'criar', 'um', 'sistema', 'de', 'notificação', 'semelhante', 'ao', 'próprio', 'stack', 'overflow', 'sempre', 'que', 'algum', 'novo', 'suporte', 'for', 'cadastrado', 'pretendo', 'utilizar', 'php', 'mysql', 'e', 'jquery', 'apenas', 'devo', 'utilizar', 'o', 'code', 'para', 'verificar', 'no', 'banco', 'de', 'tempos', 'em', 'tempos', 'se', 'um', 'novo', 'chamado', 'for', 'registrado', 'já', 'vi', 'esse', 'termo', 'polyfill', 'sendo', 'utilizado', 'várias', 'vezes', 'quando', 'se', 'trata', 'de', 'uma', 'nova', 'função', 'que', 'não', 'está', 'disponível', 'em', 'versões', 'antigas', 'de', 'determinadas', 'linguagens', 'e', 'afins', 'mas', 'afinal', 'polyfill', 'é', 'simplesmente', 'isso', 'ou', 'é', 'mais', 'abrangente', 'qual', 'é', 'o', 'significado', 'da', 'palavra', 'polyfill', 'e', 'a', 'que', 'se', 'refere', 'dentro', 'do', 'diaadia', 'da', 'programação', 'especificamente', 'nota', 'aparentemente', 'esse', 'termo', 'está', 'relacionado', 'diretamente', 'à', 'linguagem', 'javascript', 'mas', 'já', 'vi', 'sendo', 'utilizado', 'em', 'outras', 'linguagens', 'também', 'no', 'wikipédia', 'possui', 'a', 'seguinte', 'afirmação', 'na', 'teoria', 'de', 'linguagens', 'formais', 'uma', 'linguagem', 'livre', 'de', 'contexto', 'llc', 'é', 'uma', 'linguagem', 'gerada', 'por', 'alguma', 'gramática', 'livre', 'de', 'contexto', 'glc', 'diferentes', 'gramáticas', 'livres', 'de', 'contexto', 'podem', 'gerar', 'a', 'mesma', 'linguagem', 'livre', 'de', 'contexto', 'ou', 'inversamente', 'uma', 'dada', 'linguagem', 'livre', 'de', 'contexto', 'pode', 'ser', 'gerada', 'por', 'diferentes', 'gramáticas', 'livres', 'de', 'contexto', 'oh', 'god', 'no', 'entanto', 'achei', 'a', 'explicação', 'um', 'pouco', 'confusa', 'embaralhada', 'e', 'sendo', 'assim', 'ainda', 'pergunto', 'o', 'que', 'é', 'uma', 'linguagem', 'livre', 'de', 'contexto', 'como', 'é', 'possível', 'se', 'é', 'possível', 'definir', 'se', 'uma', 'linguagem', 'é', 'livre', 'de', 'contexto', 'ou', 'não', 'de', 'que', 'forma', 'números', 'primos', 'são', 'uma', 'parte', 'importante', 'em', 'alguns', 'sistemas', 'de', 'criptografia', 'como', 'funciona', 'esse', 'processo', 'e', 'em', 'que', 'parte', 'entram', 'os', 'números', 'primos', 'muitos', 'sites', 'do', 'governo', 'brasileiro', 'costumam', 'não', 'ter', 'certificados', 'de', 'segurança', 'válidos', 'exemplos', 'httpswwwibamagovbr', 'validade', 'expirada', 'httpswwwibgegovbr', 'autoassinado', 'url', 'inválida', 'httpswwwfunaigovbr', 'autoassinado', 'httpswwwbrasilgovbr', 'ca', 'desconhecido', 'icpbrasil', 'httpswwwsenadogovbr', 'ca', 'desconhecido', 'icpbrasil', 'url', 'inválida', 'na', 'maioria', 'dos', 'casos', 'o', 'browser', 'diz', 'que', 'o', 'certificado', 'raiz', 'da', 'autoridade', 'de', 'certificação', 'não', 'é', 'confiável', 'e', 'outros', 'ainda', 'estão', 'simplesmente', 'com', 'a', 'validade', 'expirada', 'essa', 'situação', 'é', 'incomum', 'em', 'sites', 'comerciais', 'mas', 'de', 'vez', 'em', 'quando', 'também', 'topo', 'com', 'um', 'desses', 'e', 'naturalmente', 'eu', 'próprio', 'tenho', 'certa', 'dificuldade', 'de', 'manter', 'os', 'sites', 'que', 'gerencio', 'sempre', 'com', 'certificados', 'válidos', 'é', 'necessário', 'que', 'um', 'site', 'tenha', 'certificado', 'válido', 'para', 'que', 'a', 'comunicação', 'com', 'ele', 'seja', 'segura', 'por', 'que', 'alguns', 'desses', 'sites', 'do', 'governo', 'têm', 'funções', 'muito', 'importantes', 'ex', 'receita', 'federal', 'ministério', 'do', 'trabalho', 'siape', 'é', 'seguro', 'continuar', 'utilizandoos', 'apesar', 'do', 'alerta', 'de', 'segurança', 'apresentado', 'alguns', 'chegam', 'mesmo', 'a', 'instruir', 'o', 'usuário', 'a', 'ignorar', 'esses', 'alertas', 'já', 'me', 'foi', 'sugerido', 'pelo', 'meu', 'antigo', 'provedor', 'de', 'hospedagem', 'usar', 'certificados', 'do', 'cacertorg', 'em', 'vez', 'de', 'um', 'autoassinado', 'pois', 'eles', 'ainda', 'não', 'são', 'reconhecidos', 'pelos', 'principais', 'browsers', 'mas', 'muitos', 'sistemas', 'já', 'aceitam', 'ou', 'seja', 'ainda', 'é', 'invalido', 'seria', 'essa', 'uma', 'prática', 'aceitável', 'posso', 'simplesmente', 'dizer', 'pros', 'meus', 'usuários', 'ingnorarem', 'o', 'alerta', 'de', 'segurança', 'e', 'pronto', 'tal', 'como', 'esses', 'sites', 'do', 'governo', 'fazem', 'que', 'impactos', 'um', 'certificado', 'inválido', 'tem', 'na', 'segurança', 'de', 'um', 'site', 'ao', 'se', 'criar', 'um', 'site', 'ou', 'aplicação', 'web', 'sempre', 'há', 'o', 'problema', 'do', 'que', 'fazer', 'quando', 'nem', 'todos', 'os', 'browsers', 'implementam', 'todas', 'as', 'funcionalidades', 'desejáveis', 'pelo', 'que', 'tenho', 'lido', 'há', 'duas', 'principais', 'maneiras', 'de', 'se', 'lidar', 'com', 'isso', 'graceful', 'degradation', 'degradação', 'suave', 'desenvolvese', 'pensando', 'num', 'ambiente', 'o', 'mais', 'completo', 'possível', 'mas', 'assegurandose', 'que', 'se', 'a', 'funcionalidade', 'x', 'ou', 'y', 'estiver', 'ausente', 'o', 'site', 'ainda', 'funcione', 'da', 'melhor', 'forma', 'possível', 'sem', 'ela', 'progressive', 'enhancement', 'enriquecimento', 'progressivo', 'desenvolvese', 'pensando', 'num', 'ambiente', 'o', 'mais', 'básico', 'possível', 'e', 'acrescentase', 'características', 'extra', 'caso', 'a', 'presença', 'da', 'funcionalidade', 'x', 'ou', 'y', 'seja', 'detectada', 'quais', 'as', 'vantagens', 'e', 'desvantagens', 'de', 'cada', 'uma', 'delas', 'há', 'situações', 'em', 'que', 'uma', 'é', 'mais', 'adequada', 'que', 'a', 'outra', 'ou', 'é', 'apenas', 'questão', 'de', 'preferência', 'estou', 'interessado', 'principalmente', 'no', 'aspecto', 'da', 'manutenabilidade', 'à', 'medida', 'que', 'características', 'novas', 'vão', 'sendo', 'introduzidas', 'aos', 'browsers', 'e', 'versões', 'antigas', 'dos', 'mesmos', 'caem', 'em', 'desuso', 'quais', 'as', 'implicações', 'disso', 'num', 'siteaplicação', 'desenvolvido', 'segundo', 'essas', 'estratégias', 'me', 'parecem', 'termos', 'muito', 'próximos', 'e', 'eventualmente', 'vejo', 'textos', 'que', 'trocam', 'um', 'pelo', 'outro', 'como', 'se', 'em', 'algumas', 'determinadas', 'situações', 'suas', 'definições', 'se', 'sobreponham', 'quais', 'seriam', 'as', 'definições', 'técnicas', 'que', 'permitem', 'distinguir', 'o', 'que', 'é', 'api', 'biblioteca', 'e', 'framework', 'em', 'quais', 'situações', 'é', 'permitido', 'intercambiar', 'os', 'termos', 'sem', 'ferir', 'sua', 'definição', 'técnica', 'desde', 'que', 'abri', 'um', 'projeto', 'online', 'estou', 'tendo', 'problemas', 'com', 'invasão', 'onde', 'alguém', 'está', 'fazendo', 'inserções', 'diretas', 'no', 'banco', 'de', 'dados', 'foi', 'o', 'que', 'me', 'deu', 'iniciativa', 'para', 'por', 'em', 'todas', 'as', 'variáveis', 'recebidas', 'através', 'do', 'método', 'code', 'e', 'code', 'as', 'funções', 'code', 'utilizei', 'dois', 'programas', 'para', 'fazer', 'scanner', 'para', 'analisar', 'o', 'site', 'acunetix', 'e', 'scrawlr', 'onde', 'na', 'primeira', 'vez', 'retornou', 'variáveis', 'vulneráveis', 'mas', 'agora', 'fiz', 'todo', 'o', 'procedimento', 'nas', 'mesma', 'e', 'agora', 'não', 'da', 'mais', 'sinal', 'de', 'problema', 'porém', 'mesmo', 'assim', 'o', 'atacante', 'ainda', 'consegue', 'invadir', 'o', 'servidor', 'mesmo', 'tendo', 'a', 'certeza', 'depois', 'de', 'ter', 'verificado', 'todas', 'as', 'linhas', 'de', 'código', 'do', 'projeto', 'distinct', 'a', 'instrução', 'select', 'distinct', 'é', 'usada', 'para', 'retornar', 'apenas', 'valores', 'distintos', 'diferentes', 'dentro', 'de', 'uma', 'tabela', 'uma', 'coluna', 'geralmente', 'contém', 'muitos', 'valores', 'duplicados', 'e', 'às', 'vezes', 'você', 'só', 'deseja', 'listar', 'os', 'diferentes', 'valores', 'distintos', 'sintaxe', 'code', 'group', 'by', 'a', 'instrução', 'group', 'by', 'geralmente', 'é', 'usada', 'com', 'funções', 'agregadas', 'count', 'max', 'min', 'sum', 'avg', 'para', 'agrupar', 'o', 'conjunto', 'de', 'resultados', 'por', 'uma', 'ou', 'mais', 'colunas', 'sintaxe', 'code', 'code', 'retorna', 'valores', 'diferentes', 'valores', 'agrupadoscode', 'também', 'ficam', 'distintosdiferentes', 'para', 'demonstrar', 'que', 'os', 'mesmo', 'resultados', 'são', 'retornados', 'usando', 'ambas', 'as', 'declarações', 'eu', 'fiz', 'um', 'teste', 'sql', 'fiddle', 'algumas', 'dúvidas', 'qual', 'a', 'diferença', 'entre', 'ambas', 'as', 'declarações', 'além', 'da', 'sintaxe', 'em', 'relação', 'ao', 'desempenho', 'existem', 'diferenças', 'existe', 'alguma', 'possibilidadeexemplo', 'na', 'prática', 'em', 'que', 'o', 'uso', 'das', 'declarações', 'é', 'necessária', 'poderiam', 'dar', 'exemplos', 'de', 'uso', 'ideal', 'de', 'cada', 'uma', 'das', 'declarações', 'pode', 'parecer', 'bobagem', 'mas', 'esses', 'tipos', 'de', 'declarações', 'confundem', 'as', 'pessoas', 'e', 'apesar', 'de', 'não', 'parecerem', 'o', 'uso', 'de', 'ambos', 'trazem', 'resultados', 'iguais', 'ao', 'modelar', 'endereços', 'em', 'uma', 'aplicação', 'ingenuamente', 'segui', 'a', 'forma', 'normalizada', 'ao', 'representar', 'no', 'bd', 'ie', 'tabelas', 'separadas', 'para', 'país', 'estado', 'cidade', 'bairro', 'etc', 'joins', 'para', 'todo', 'lado', 'e', 'na', 'interface', 'de', 'usuário', 'html', 'coloquei', 'um', 'campo', 'separado', 'para', 'cada', 'parte', 'desse', 'endereço', 'caixa', 'de', 'texto', 'com', 'autocompletar', 'ou', 'combo', 'box', 'no', 'começo', 'achava', 'que', 'estava', 'bom', 'desse', 'jeito', 'e', 'não', 'pensei', 'muito', 'no', 'assunto', 'entretanto', 'após', 'fazer', 'uma', 'pergunta', 'no', 'uxse', 'relativo', 'ao', 'nosso', 'padrão', 'de', 'usar', 'rua', 'x', 'em', 'vez', 'de', 'x', 'street', 'as', 'respostas', 'me', 'levaram', 'a', 'questionar', 'se', 'valia', 'a', 'pena', 'na', 'prática', 'exigir', 'tamanho', 'nível', 'de', 'detalhe', 'na', 'representação', 'além', 'da', 'complexidade', 'adicional', 'na', 'hora', 'de', 'buscaratualizar', 'como', 'exemplificado', 'nessa', 'pirâmide', 'não', 'sei', 'como', 'a', 'performance', 'do', 'sistema', 'será', 'quando', 'ele', 'contiver', 'um', 'número', 'elevado', 'de', 'endereços', 'gostaria', 'de', 'saber', 'de', 'quem', 'já', 'tem', 'experiência', 'lidando', 'com', 'um', 'grande', 'número', 'de', 'endereços', 'quais', 'práticas', 'seriam', 'recomendadas', 'deixar', 'tudo', 'normalizado', 'usar', 'um', 'campo', 'de', 'texto', 'aberto', 'condensar', 'algumas', 'tabelas', 'numa', 'só', 'ex', 'code', 'e', 'deixar', 'outras', 'separadas', 'etc', 'levando', 'em', 'consideração', 'que', 'poucos', 'usuários', 'entrarão', 'com', 'muitos', 'endereços', 'de', 'outras', 'pessoas', 'se', 'fosse', 'cada', 'usuário', 'entrando', 'com', 'o', 'próprio', 'endereço', 'uma', 'vez', 'e', 'pronto', 'não', 'justificaria', 'investir', 'em', 'usabilidade', 'se', 'uma', 'parte', 'do', 'endereço', 'já', 'existe', 'no', 'banco', 'ex', 'uma', 'rua', 'previamente', 'cadastrada', 'o', 'autocompletar', 'pode', 'ser', 'usado', 'para', 'agilizar', 'a', 'entrada', 'de', 'dados', 'isso', 'seria', 'mais', 'difícil', 'se', 'o', 'endereço', 'fosse', 'um', 'campo', 'aberto', 'alguns', 'dados', 'são', 'mais', 'fáceis', 'de', 'encontrar', 'e', 'prépopular', 'ex', 'lista', 'completa', 'de', 'cidades', 'brasileiras', 'outros', 'são', 'mais', 'difíceis', 'ou', 'mais', 'caros', 'podendo', 'ser', 'melhor', 'que', 'o', 'usuário', 'entre', 'com', 'eles', 'sob', 'demanda', 'mas', 'ainda', 'permitindo', 'autocompletar', 'se', 'um', 'campo', 'é', 'aberto', 'fica', 'mais', 'sujeito', 'a', 'duplicação', 'ex', 'av', 'foo', 'av', 'foo', 'avenida', 'foo', 'a', 'foo', 'foo', 'mas', 'duplicação', 'não', 'é', 'necessariamente', 'um', 'problema', 'é', 'mais', 'difícil', 'fazer', 'agregação', 'em', 'um', 'campo', 'desnormalizado', 'ex', 'se', 'quero', 'estatísticas', 'por', 'estado', 'mas', 'agrupei', 'code', 'num', 'campo', 'só', 'terei', 'problemas', 'eu', 'andei', 'pesquisando', 'bastante', 'na', 'web', 'e', 'nas', 'comunidades', 'stackoverflow', 'e', 'estou', 'chegando', 'no', 'ponto', 'de', 'acreditar', 'que', 'spas', 'não', 'tiram', 'quase', 'nenhuma', 'vantagem', 'do', 'algoritmo', 'gc', 'dos', 'navegadores', 'atuais', 'nossa', 'equipe', 'de', 'desenvolvimento', 'se', 'preocupou', 'em', 'destruir', 'objetos', 'inúteis', 'em', 'transições', 'de', 'estado', 'que', 'poderiam', 'estar', 'causando', 'algum', 'memoryleakremover', 'listeners', 'eventos', 'atrelados', 'a', 'doms', 'destruídos', 'e', 'todas', 'as', 'possibilidades', 'que', 'encontramos', 'na', 'internet', 'mas', 'ainda', 'assim', 'tem', 'um', 'tipo', 'de', 'memoryleak', 'na', 'nossa', 'plataforma', 'de', 'spa', 'que', 'pode', 'ser', 'usado', 'por', 'várias', 'horas', 'continuamente', 'o', 'gráfico', 'abaixo', 'representa', 'o', 'uso', 'de', 'memória', 'em', 'horas', 'de', 'navegação', 'spa', 'foi', 'um', 'salto', 'de', 'mb', 'para', 'mb', 'em', 'horas', 'obviamente', 'há', 'realmente', 'alguns', 'recursos', 'como', 'mapas', 'e', 'gráficos', 'que', 'justificam', 'o', 'consumo', 'elevado', 'de', 'memória', 'porém', 'mesmo', 'retornando', 'para', 'tarefas', 'mais', 'simples', 'a', 'memória', 'continua', 'lá', 'por', 'muito', 'tempo', 'até', 'que', 'o', 'gc', 'venha', 'e', 'remova', 'a', 'memória', 'não', 'utilizada', 'existem', 'alguma', 'coisa', 'além', 'das', 'coisas', 'que', 'listei', 'acima', 'que', 'podem', 'melhorar', 'o', 'gc', 'em', 'uma', 'singlepage', 'application', 'sabemos', 'que', 'o', 'gc', 'não', 'pode', 'ser', 'controlado', 'pelo', 'cliente', 'javascript', 'embora', 'existam', 'alguns', 'eventos', 'que', 'acionam', 'esta', 'condição', 'algumas', 'ações', 'do', 'usuário', 'como', 'navegação', 'troca', 'de', 'páginas', 'fechamento', 'de', 'janelas', 'e', 'abas', 'entre', 'outros', 'que', 'em', 'alguns', 'casos', 'não', 'acontecem', 'em', 'um', 'spa', 'como', 'posso', 'obter', 'um', 'resultado', 'satisfatório', 'com', 'o', 'gerenciamento', 'de', 'memória', 'em', 'um', 'spa', 'sendo', 'que', 'não', 'tenho', 'tantos', 'gatilhos', 'para', 'ativação', 'do', 'gc', 'como', 'numa', 'aplicação', 'multipage', 'wikipedia', 'sistema', 'de', 'computadores', 'interligados', 'em', 'rede', 'através', 'da', 'internet', 'que', 'cooperam', 'de', 'modo', 'transparente', 'para', 'fornecer', 'conteúdo', 'cdn', 'são', 'geralmente', 'implantados', 'em', 'vários', 'locais', 'os', 'benefícios', 'incluem', 'a', 'redução', 'dos', 'custos', 'de', 'largura', 'de', 'banda', 'melhorando', 'os', 'tempos', 'de', 'carregamento', 'da', 'página', 'ou', 'aumentando', 'disponibilidade', 'global', 'de', 'conteúdo', 'baboo', 'uma', 'cdn', 'é', 'uma', 'rede', 'de', 'distribuição', 'de', 'informação', 'e', 'dados', 'que', 'permite', 'fornecer', 'conteúdo', 'na', 'web', 'de', 'forma', 'rápida', 'para', 'vários', 'usuários', 'independentemente', 'de', 'onde', 'essa', 'pessoa', 'se', 'encontra', 'o', 'que', 'o', 'sistema', 'faz', 'é', 'distribuir', 'um', 'mesmo', 'conteúdo', 'em', 'diversos', 'servidores', 'para', 'direcionar', 'esses', 'dados', 'de', 'acordo', 'com', 'a', 'proximidade', 'de', 'servidor', 'do', 'usuário', 'o', 'serviço', 'funciona', 'como', 'um', 'cache', 'dos', 'arquivos', 'não', 'dinâmicos', 'do', 'site', 'em', 'diferentes', 'datacenters', 'de', 'localidades', 'dispersas', 'em', 'todo', 'o', 'mundo', 'stackoverflow', 'cdn', 'é', 'simplesmente', 'uma', 'rede', 'de', 'servidores', 'que', 'replicam', 'seus', 'arquivos', 'binários', 'de', 'modo', 'que', 'eles', 'são', 'servidos', 'a', 'partir', 'de', 'locais', 'geograficamente', 'próximos', 'cdn', 'é', 'simplesmente', 'um', 'bando', 'de', 'discos', 'que', 'estão', 'espalhados', 'por', 'todo', 'o', 'mundo', 'em', 'diferentes', 'datacenters', 'você', 'envia', 'o', 'seu', 'arquivo', 'a', 'um', 'desses', 'discos', 'e', 'depois', 'diz', 'de', 'onde', 'seus', 'clientes', 'estão', 'vindo', 'ela', 'irá', 'então', 'copiar', 'o', 'mesmo', 'arquivo', 'para', 'outros', 'discos', 'que', 'estão', 'mais', 'perto', 'de', 'seus', 'clientes', 'distribuição', 'de', 'servidor', 'único', 'vs', 'cdn', 'wikipedia', 'dito', 'isso', 'vamos', 'às', 'questões', 'tem', 'um', 'bom', 'tempo', 'que', 'venho', 'pesquisando', 'sobre', 'cdns', 'para', 'um', 'projeto', 'com', 'grande', 'demanda', 'de', 'conteúdo', 'estático', 'não', 'queria', 'recorrer', 'a', 'nenhum', 'cdn', 'free', 'tão', 'pouco', 'contratar', 'um', 'akamai', 'então', 'pensei', 'em', 'me', 'aprofundar', 'no', 'assunto', 'para', 'pesar', 'o', 'custo', 'benefício', 'de', 'montar', 'algo', 'próprio', 'supondo', 'que', 'eu', 'escolha', 'um', 'dc', 'no', 'brasil', 'e', 'um', 'nos', 'eua', 'para', 'um', 'cdn', 'nas', 'américas', 'a', 'identificação', 'da', 'requisição', 'para', 'buscar', 'o', 'dc', 'mais', 'próximo', 'é', 'feita', 'no', 'server', 'ou', 'no', 'php', 'feito', 'o', 'upload', 'de', 'uma', 'imagem', 'ela', 'é', 'replicada', 'instantaneamente', 'para', 'os', 'dc', 'ou', 'somente', 'quando', 'houver', 'demanda', 'local', 'apache', 'e', 'linux', 'bastam', 'ou', 'há', 'necessidade', 'de', 'instalação', 'de', 'outras', 'ferramentas', 'próprias', 'para', 'um', 'cdn', 'tendo', 'meu', 'domínio', 'principal', 'com', 'links', 'para', 'code', 'neste', 'posso', 'ter', 'o', 'php', 'trabalhando', 'com', 'o', 'geoip', 'para', 'saber', 'a', 'localização', 'da', 'requisição', 'mas', 'como', 'demandar', 'o', 'dc', 'correto', 'me', 'parece', 'que', 'dessa', 'forma', 'o', 'processo', 'é', 'mais', 'dispendioso', 'há', 'ferramentas', 'próprias', 'não', 'espero', 'um', 'tutorial', 'só', 'uma', 'luz', 'sobre', 'alguns', 'pontos', 'eu', 'realmente', 'já', 'procurei', 'bastante', 'mas', 'tudo', 'é', 'muito', 'superficial', 'não', 'encontrei', 'nada', 'que', 'se', 'aprofunde', 'na', 'criação', 'de', 'um', 'cdn', 'a', 'maioria', 'explica', 'como', 'funciona', 'ou', 'explana', 'as', 'diferenças', 'entre', 'cdn', 'e', 'um', 'cloud', 'quais', 'são', 'os', 'métodos', 'de', 'requisição', 'http', 'entre', 'os', 'quais', 'estão', 'code', 'code', 'e', 'code', 'para', 'que', 'se', 'deve', 'usar', 'cada', 'um', 'deles', 'e', 'qual', 'é', 'a', 'diferença', 'entre', 'eles', 'alguém', 'sabe', 'relacionar', 'as', 'diferenças', 'entre', 'mysql', 'e', 'sql', 'server', 'inclusive', 'usando', 'code', 'ou', 'se', 'tiverem', 'algum', 'link', 'que', 'liste', 'as', 'diferenças', 'seria', 'legal', 'exemplo', 'code', 'como', 'seria', 'o', 'equivalente', 'em', 'sql', 'server', 'eu', 'já', 'li', 'o', 'que', 'reactive', 'programming', 'programao', 'reativa', 'a', 'resposta', 'parece', 'boa', 'mas', 'é', 'teórica', 'entendi', 'o', 'que', 'é', 'mas', 'com', 'aquilo', 'não', 'sei', 'o', 'que', 'fazer', 'onde', 'deve', 'ser', 'usada', 'tem', 'um', 'exemplo', 'simples', 'qual', 'é', 'o', 'mecanismo', 'concreto', 'usado', 'para', 'isto', 'funcionar', 'concreto', 'até', 'onde', 'pode', 'ser', 'entendo', 'que', 'em', 'programação', 'tudo', 'é', 'abstração', 'a', 'não', 'ser', 'os', 'elétrons', 'excitados', 'só', 'funciona', 'entre', 'agentes', 'locais', 'ou', 'um', 'deles', 'pode', 'ser', 'remoto', 'é', 'por', 'causa', 'da', 'internet', 'só', 'funciona', 'se', 'for', 'algo', 'inteligente', 'interligada', 'em', 'paralelo', 'não', 'linear', 'se', 'for', 'o', 'que', 'é', 'esse', 'inteligente', 'aparentemente', 'tem', 'que', 'ter', 'robustez', 'para', 'ser', 'classificada', 'assim', 'precisa', 'rodar', 'em', 'vários', 'servidores', 'ou', 'é', 'uma', 'opção', 'é', 'um', 'paradigma', 'é', 'um', 'framework', 'posso', 'usar', 'em', 'net', 'contexto', 'quando', 'faço', 'um', 'sql', 'e', 'desejo', 'por', 'um', 'alias', 'especifico', 'devo', 'por', 'entre', 'aspas', 'duplas', 'code', 'quando', 'quero', 'fazer', 'um', 'code', 'de', 'um', 'campo', 'code', 'os', 'valores', 'devem', 'estar', 'em', 'aspa', 'simples', 'code', 'pergunta', 'qual', 'a', 'diferença', 'entre', 'aspa', 'simples', 'e', 'aspa', 'dupla', 'no', 'sql', 'adendo', 'se', 'eu', 'fizer', 'um', 'code', 'de', 'code', 'code', 'de', 'campos', 'que', 'tem', 'alias', 'em', 'o', 'meu', 'code', 'mais', 'externo', 'também', 'deve', 'ter', 'code', 'sempre', 'quando', 'tenho', 'problema', 'de', 'permissões', 'de', 'pastas', 'no', 'meu', 'sistema', 'operacional', 'ubuntu', 'eu', 'costumo', 'dar', 'a', 'permissão', 'code', 'para', 'a', 'determinada', 'pasta', 'costumo', 'fazer', 'isso', 'no', 'ambiente', 'de', 'desenvolvimento', 'em', 'algumas', 'situações', 'já', 'dei', 'esse', 'tipo', 'de', 'permissão', 'em', 'ambiente', 'de', 'produção', 'em', 'um', 'servidor', 'linux', 'onde', 'rodo', 'minhas', 'aplicações', 'escritas', 'em', 'php', 'por', 'exemplo', 'quando', 'tive', 'um', 'problema', 'específico', 'de', 'escrita', 'de', 'arquivos', 'de', 'upload', 'na', 'pasta', 'code', 'de', 'um', 'determinado', 'sistema', 'eu', 'dei', 'a', 'permissão', 'code', 'nesta', 'pasta', 'porém', 'vejo', 'sempre', 'recomendações', 'de', 'que', 'devemos', 'usar', 'a', 'permissão', 'code', 'ou', 'code', 'porque', 'usar', 'code', 'é', 'perigoso', 'mas', 'em', 'que', 'sentido', 'isso', 'seria', 'perigoso', 'por', 'que', 'os', 'programadores', 'mais', 'experientes', 'sempre', 'recomendam', 'a', 'utilização', 'de', 'outros', 'valores', 'para', 'permissões', 'de', 'pasta', 'em', 'produção', 'ao', 'invés', 'de', 'code', 'por', 'exemplo', 'já', 'ouvi', 'dizer', 'que', 'uma', 'pessoa', 'pode', 'ter', 'problemas', 'com', 'ataques', 'a', 'uma', 'aplicação', 'web', 'caso', 'haja', 'uma', 'permissão', 'de', 'escrita', 'code', 'em', 'determinada', 'pasta', 'isso', 'é', 'verdade', 'seria', 'legal', 'também', 'se', 'a', 'resposta', 'pudesse', 'explicar', 'melhor', 'sobre', 'as', 'diferenças', 'entre', 'code', 'code', 'e', 'code', 'tenho', 'a', 'seguinte', 'string', 'code', 'qual', 'a', 'função', 'do', 'code', 'na', 'frente', 'da', 'string', 'estou', 'começando', 'a', 'ler', 'sobre', 'desenvolvimento', 'java', 'em', 'camadas', 'e', 'li', 'alguma', 'coisa', 'a', 'respeito', 'sobre', 'o', 'bean', 'uma', 'classe', 'encapsulada', 'mas', 'não', 'encontrei', 'nenhum', 'conteúdo', 'que', 'realmente', 'explicasse', 'a', 'finalidade', 'e', 'um', 'exemplo', 'então', 'o', 'que', 'é', 'e', 'para', 'que', 'serve', 'um', 'bean', 'costumo', 'sempre', 'dizer', 'que', 'não', 'me', 'dou', 'muito', 'bem', 'com', 'termos', 'esses', 'dias', 'atrás', 'precisei', 'fazer', 'uma', 'operação', 'num', 'determinado', 'framework', 'em', 'php', 'chamado', 'laravel', 'onde', 'eu', 'precisava', 'encontrar', 'um', 'recurso', 'que', 'me', 'permitiria', 'usar', 'um', 'banco', 'já', 'existente', 'e', 'fazer', 'com', 'que', 'ele', 'gerasse', 'automaticamente', 'os', 'models', 'e', 'migrations', 'da', 'aplicação', 'através', 'das', 'tabelas', 'desse', 'banco', 'geralmente', 'o', 'que', 'ocorre', 'é', 'o', 'contrário', 'você', 'gera', 'models', 'e', 'migrations', 'que', 'por', 'sua', 'vez', 'geram', 'o', 'banco', 'de', 'dados', 'fiz', 'várias', 'pesquisas', 'na', 'internet', 'em', 'inglês', 'para', 'poder', 'encontrar', 'o', 'que', 'eu', 'queria', 'porém', 'não', 'encontrava', 'até', 'que', 'eu', 'usei', 'o', 'termo', 'database', 'reverse', 'engine', 'for', 'laravel', 'e', 'encontrei', 'o', 'que', 'procurava', 'até', 'então', 'eu', 'não', 'estava', 'tão', 'familiarizado', 'com', 'o', 'termo', 'por', 'pensar', 'em', 'se', 'tratar', 'em', 'algo', 'muito', 'distante', 'do', 'meu', 'diaadia', 'de', 'programação', 'mas', 'parece', 'que', 'não', 'era', 'verdade', 'o', 'que', 'eu', 'entendo', 'pela', 'experiência', 'que', 'tive', 'é', 'que', 'engenharia', 'reversa', 'está', 'relacionado', 'a', 'usar', 'o', 'que', 'foi', 'gerado', 'para', 'criar', 'o', 'gerador', 'me', 'corrijam', 'se', 'eu', 'estiver', 'errado', 'é', 'por', 'isso', 'que', 'venho', 'aqui', 'perguntar', 'o', 'que', 'é', 'exatamente', 'a', 'engenharia', 'reversa', 'nota', 'não', 'vou', 'incluir', 'a', 'tag', 'code', 'ou', 'code', 'pois', 'não', 'se', 'trata', 'do', 'assunto', 'foi', 'apenas', 'um', 'exemplo', 'ok', 'já', 'li', 'o', 'que', 'uma', 'arquitetura', 'de', 'microservios', 'e', 'artigos', 'sobre', 'o', 'assunto', 'sei', 'o', 'que', 'é', 'e', 'como', 'funciona', 'mas', 'ainda', 'não', 'sei', 'que', 'problema', 'ele', 'tenta', 'resolver', 'quais', 'as', 'vantagens', 'de', 'usálo', 'do', 'ponto', 'de', 'vista', 'do', 'desenvolvimento', 'e', 'manutenção', 'de', 'software', 'e', 'do', 'funcionamento', 'da', 'solução', 'e', 'as', 'desvantagens', 'me', 'parece', 'que', 'ele', 'gera', 'um', 'overhead', 'dá', 'a', 'impressão', 'que', 'a', 'solução', 'se', 'torna', 'mais', 'complexa', 'estava', 'pesquisando', 'sobre', 'callback', 'em', 'javascript', 'quando', 'achei', 'esta', 'questão', 'como', 'realmente', 'aprender', 'a', 'usar', 'promises', 'promessas', 'em', 'javascript', 'mas', 'afinal', 'o', 'que', 'são', 'promises', 'para', 'que', 'servem', 'recentemente', 'enquanto', 'estudava', 'alguns', 'códigos', 'em', 'javascript', 'me', 'deparei', 'com', 'o', 'seguinte', 'código', 'code', 'sei', 'que', 'code', 'e', 'consequentemente', 'code', 'então', 'fiquei', 'na', 'dúvida', 'qual', 'a', 'lógica', 'de', 'se', 'fazer', 'esse', 'tipo', 'de', 'operação', 'eu', 'preciso', 'do', 'regex', 'para', 'detectar', 'quando', 'a', 'bandeira', 'do', 'cartão', 'de', 'crédito', 'é', 'hipercard', 'aura', 'e', 'elo', 'eu', 'já', 'possuo', 'regexes', 'para', 'amex', 'martercard', 'diners', 'club', 'visa', 'discover', 'and', 'jcb', 'code', 'não', 'é', 'minha', 'intenção', 'trazer', 'a', 'confusão', 'dos', 'outros', 'para', 'o', 'site', 'porém', 'ficou', 'uma', 'dúvida', 'minha', 'interna', 'daquelas', 'coisas', 'que', 'se', 'tem', 'certeza', 'e', 'depois', 'vem', 'alguém', 'e', 'faz', 'uma', 'pergunta', 'que', 'mexe', 'com', 'as', 'certezas', 'antigas', 'vi', 'neste', 'site', 'a', 'classificação', 'do', 'top', 'das', 'linguagens', 'de', 'programação', 'e', 'notei', 'que', 'para', 'algumas', 'pessoas', 'html', 'é', 'uma', 'linguagem', 'de', 'programação', 'e', 'para', 'outras', 'não', 'dúvida', 'html', 'é', 'uma', 'linguagem', 'de', 'programação', 'ou', 'não', 'o', 'que', 'seria', 'esse', 'code', 'como', 'evitálo', 'comecei', 'em', 'a', 'usar', 'padrão', 'mvc', 'o', 'conceito', 'de', 'model', 'e', 'controller', 'entendo', 'perfeitamente', 'mas', 'a', 'questão', 'de', 'view', 'me', 'intriga', 'o', 'que', 'é', 'a', 'view', 'em', 'um', 'modelo', 'mvc', 'sei', 'que', 'é', 'o', 'que', 'o', 'cliente', 'vê', 'representação', 'dos', 'dados', 'mas', 'o', 'que', 'pode', 'ser', 'entendido', 'como', 'parte', 'de', 'uma', 'view', 'e', 'no', 'caso', 'de', 'uma', 'aplicação', 'separada', 'para', 'a', 'interface', 'do', 'cliente', 'posso', 'considerar', 'essa', 'como', 'a', 'camada', 'de', 'view', 'em', 'outras', 'palavras', 'o', 'que', 'faz', 'parte', 'da', 'view', 'no', 'lado', 'do', 'servidor', 'falando', 'em', 'desenvolvimento', 'web', 'estamos', 'em', 'já', 'li', 'em', 'alguns', 'lugares', 'na', 'internet', 'que', 'não', 'é', 'mais', 'necessário', 'utilizar', 'essa', 'declaração', 'code', 'de', 'fato', 'utilizar', 'a', 'tag', 'code', 'sem', 'declarar', 'esse', 'trecho', 'não', 'afeta', 'em', 'nada', 'o', 'funcionamento', 'do', 'javascript', 'mas', 'mesmo', 'assim', 'ainda', 'em', 'ides', 'atualizadas', 'como', 'por', 'exemplo', 'o', 'sublime', 'text', 'o', 'mecanismo', 'de', 'autocompletamento', 'faz', 'com', 'que', 'a', 'tag', 'code', 'seja', 'declarada', 'com', 'code', 'gostaria', 'de', 'saber', 'se', 'é', 'seguro', 'deixar', 'de', 'usar', 'code', 'algumas', 'ides', 'ainda', 'colocam', 'por', 'questão', 'de', 'compatibilidade', 'já', 'vi', 'programas', 'assim', 'code', 'e', 'outros', 'assim', 'code', 'o', 'segundo', 'código', 'vai', 'consumir', 'mais', 'processamento', 'recentemente', 'em', 'meus', 'estudo', 'notei', 'um', 'objeto', 'que', 'manipulava', 'o', 'dom', 'do', 'elemento', 'que', 'tinha', 'o', 'mesmo', 'nome', 'em', 'seu', 'id', 'code', 'code', 'dúvida', 'por', 'que', 'os', 'ids', 'vão', 'para', 'o', 'global', 'space', 'se', 'eu', 'posso', 'acessar', 'o', 'elemento', 'direto', 'por', 'seu', 'id', 'por', 'que', 'usar', 'getelementbyid', 'nota', 'objetos', 'de', 'nome', 'composto', 'são', 'acessíveis', 'no', 'window', 'code', 'code', 'cenário', 'estou', 'montando', 'um', 'layout', 'que', 'será', 'utilizado', 'por', 'terceiros', 'e', 'não', 'sei', 'qual', 'será', 'a', 'linguagem', 'utilizada', 'tenho', 'duas', 'divs', 'um', 'será', 'o', 'menu', 'esquerdo', 'e', 'outro', 'o', 'conteúdo', 'eles', 'são', 'separados', 'por', 'um', 'splitter', 'minhas', 'dúvidas', 'são', 'esse', 'menu', 'esquerdo', 'quero', 'desenvolver', 'um', 'code', 'a', 'parte', 'e', 'chamalo', 'por', 'code', 'qual', 'a', 'melhor', 'forma', 'de', 'fazer', 'se', 'eu', 'fizer', 'chamada', 'via', 'javascript', 'será', 'que', 'terei', 'problemas', 'com', 'javascript', 'contido', 'nessa', 'página', 'que', 'será', 'inserida', 'existe', 'algum', 'padrão', 'desse', 'tipo', 'no', 'html', 'css', 'ou', 'alguma', 'forma', 'simples', 'de', 'implementar', 'em', 'javascript', 'sei', 'que', 'iframe', 'não', 'é', 'uma', 'boa', 'solução', 'através', 'de', 'code', 'funciona', 'mas', 'creio', 'que', 'não', 'seja', 'uma', 'boa', 'solução', 'também', 'como', 'inverter', 'uma', 'string', 'em', 'javascript', 'por', 'exemplo', 'entrada', 'alguma', 'coisa', 'aqui', 'saída', 'iuqa', 'asioc', 'amugla', 'quais', 'são', 'as', 'características', 'de', 'um', 'código', 'com', 'coesão', 'ou', 'acoplamento', 'até', 'que', 'ponto', 'isso', 'pode', 'gerar', 'problemas', 'futuros', 'qual', 'a', 'utilidade', 'da', 'palavrachave', 'reservada', 'code', 'quando', 'e', 'onde', 'é', 'usada', 'nesta', 'pergunta', 'aqui', 'eu', 'cito', 'que', 'java', 'é', 'uma', 'linguagem', 'interpretada', 'pois', 'sempre', 'entendi', 'dessa', 'maneira', 'mas', 'fui', 'corrigido', 'neste', 'comentário', 'de', 'que', 'java', 'não', 'é', 'mais', 'interpretado', 'assim', 'fiquei', 'com', 'algumas', 'dúvidas', 'o', 'que', 'é', 'uma', 'linguagem', 'interpretada', 'então', 'java', 'já', 'foi', 'interpretado', 'mas', 'não', 'é', 'mais', 'é', 'isso', 'mesmo', 'tenho', 'um', 'código', 'em', 'c', 'que', 'por', 'algum', 'motivo', 'inexplicável', 'parece', 'ser', 'executado', 'muito', 'mais', 'rapidamente', 'quando', 'os', 'meus', 'dados', 'estão', 'previamente', 'ordenados', 'consegui', 'reproduzir', 'o', 'comportamento', 'com', 'o', 'seguinte', 'código', 'code', 'tenho', 'o', 'seguinte', 'resultado', 'compilado', 'com', 'o', 'g', 'sem', 'otimizações', 'code', 'um', 'aumento', 'de', 'velocidade', 'de', 'quase', 'vezes', 'inicialmente', 'suspeitei', 'que', 'fosse', 'algum', 'tipo', 'de', 'otimização', 'que', 'o', 'compilador', 'pudesse', 'estar', 'fazendo', 'com', 'o', 'meu', 'código', 'se', 'aproveitando', 'de', 'alguma', 'forma', 'do', 'fato', 'de', 'minha', 'lista', 'estar', 'ordenada', 'então', 'decidi', 'implementar', 'a', 'mesma', 'ideia', 'em', 'uma', 'linguagem', 'completamente', 'diferente', 'e', 'que', 'não', 'fosse', 'otimizavél', 'escolhi', 'o', 'ruby', 'code', 'o', 'resultado', 'rodando', 'com', 'o', 'ruby', 'executando', 'vezes', 'a', 'menos', 'por', 'ser', 'mais', 'lento', 'code', 'aqui', 'o', 'ganho', 'de', 'perfomance', 'é', 'bastante', 'menor', 'pouco', 'mais', 'de', 'x', 'mas', 'claramente', 'significativo', 'o', 'que', 'exatamente', 'está', 'acontecendo', 'aqui', 'de', 'onde', 'vem', 'esse', 'efeito', 'e', 'como', 'eu', 'posso', 'me', 'aproveitar', 'dele', 'baseado', 'em', 'uma', 'pergunta', 'famosa', 'do', 'so', 'eu', 'comecei', 'a', 'ler', 'um', 'artigo', 'sobre', 'ecmascript', 'e', 'me', 'deparei', 'com', 'o', 'termo', 'transpilation', 'que', 'em', 'português', 'seria', 'transpilação', 'além', 'desse', 'percebi', 'que', 'outros', 'artigos', 'usam', 'esse', 'termo', 'é', 'a', 'primeira', 'vez', 'na', 'minha', 'vida', 'de', 'programação', 'que', 'me', 'deparo', 'com', 'esse', 'termo', 'o', 'que', 'isso', 'significa', 'esse', 'trans', 'tem', 'a', 'ver', 'com', 'traduzir', 'código', 'ou', 'algo', 'do', 'tipo', 'estava', 'lendo', 'um', 'livro', 'sobre', 'orientação', 'a', 'objetos', 'e', 'essas', 'duas', 'entidades', 'são', 'tradadas', 'de', 'modo', 'diferente', 'qual', 'a', 'diferença', 'entre', 'ambas', 'como', 'um', 'computador', 'entende', 'o', 'código', 'binário', 'como', 'o', 'código', 'binário', 'foi', 'criado', 'e', 'quem', 'a', 'criou', 'precisei', 'desenvolver', 'uma', 'rotina', 'que', 'pegasse', 'a', 'cotação', 'de', 'venda', 'do', 'dólar', 'e', 'inserisse', 'em', 'uma', 'tabela', 'no', 'banco', 'o', 'banco', 'central', 'disponibiliza', 'um', 'webservice', 'onde', 'é', 'possível', 'fazer', 'as', 'consultas', 'para', 'isso', 'basta', 'informar', 'um', 'código', 'e', 'ele', 'tornar', 'a', 'cotação', 'para', 'você', 'o', 'problema', 'que', 'tenho', 'é', 'em', 'conseguir', 'a', 'documentação', 'que', 'informe', 'o', 'que', 'cada', 'código', 'retorna', 'não', 'encontrei', 'nada', 'no', 'site', 'do', 'banco', 'central', 'quais', 'códigos', 'de', 'moeda', 'esse', 'serviço', 'aceita', 'onde', 'conseguir', 'essa', 'documentação', 'sempre', 'ouço', 'falar', 'de', 'code', 'e', 'code', 'mas', 'não', 'sei', 'diferenciar', 'um', 'do', 'outro', 'nem', 'para', 'que', 'servem', 'me', 'pareceu', 'algo', 'com', 'padrão', 'de', 'arquitetura', 'de', 'aplicação', 'estilo', 'commonjs', 'o', 'que', 'é', 'importante', 'saber', 'antes', 'de', 'licenciar', 'um', 'programa', 'de', 'computador', 'no', 'brasil', 'eu', 'realmente', 'preciso', 'utilizar', 'uma', 'licença', 'o', 'que', 'é', 'e', 'como', 'funciona', 'o', 'sistema', 'de', 'software', 'livre', 'fiz', 'um', 'campo', 'de', 'email', 'para', 'o', 'usuário', 'se', 'cadastrar', 'e', 'agora', 'preciso', 'de', 'um', 'sistema', 'que', 'verifique', 'se', 'esse', 'email', 'existe', 'eu', 'preciso', 'que', 'quando', 'o', 'usuário', 'digite', 'seu', 'email', 'um', 'sistema', 'verifique', 'se', 'ele', 'existe', 'se', 'ele', 'possui', 'mesmo', 'esse', 'email', 'por', 'exemplo', 'o', 'usuário', 'digita', 'code', 'aí', 'aparecerá', 'do', 'lado', 'email', 'válido', 'ou', 'email', 'inválido', 'já', 'pesquisei', 'sistema', 'de', 'validação', 'de', 'emails', 'mas', 'não', 'aparecem', 'resultados', 'concretos', 'será', 'que', 'alguém', 'pode', 'me', 'ajudar', 'eu', 'vejo', 'uma', 'tendência', 'cada', 'vez', 'maior', 'embora', 'isto', 'já', 'existisse', 'antes', 'de', 'criar', 'várias', 'telas', 'vários', 'passos', 'para', 'executar', 'uma', 'única', 'ação', 'claro', 'que', 'o', 'advento', 'de', 'telas', 'menores', 'incentiva', 'isto', 'mas', 'estou', 'falando', 'de', 'desktop', 'normal', 'o', 'mesmo', 'vale', 'para', 'aplicações', 'web', 'normais', 'que', 'não', 'são', 'feitas', 'para', 'rodar', 'em', 'mobile', 'também', 'entendo', 'que', 'telas', 'superpopuladas', 'de', 'informação', 'que', 'permitem', 'fazer', 'várias', 'coisas', 'muitas', 'vezes', 'não', 'relacionadas', 'não', 'fazem', 'sentido', 'mas', 'percebo', 'que', 'antes', 'o', 'que', 'você', 'fazia', 'em', 'um', 'click', 'em', 'interfaces', 'modernizadas', 'acabam', 'exigindo', 'dois', 'três', 'ou', 'mais', 'clicks', 'para', 'se', 'alcançar', 'o', 'mesmo', 'propósito', 'muitas', 'vezes', 'você', 'limpa', 'a', 'tela', 'mas', 'dificulta', 'o', 'acesso', 'à', 'operação', 'desejada', 'este', 'tipo', 'de', 'filosofia', 'me', 'parece', 'prejudica', 'a', 'descoberta', 'da', 'operação', 'realmente', 'atrapalha', 'ter', 'muita', 'informação', 'por', 'que', 'existem', 'estudos', 'ou', 'pelo', 'menos', 'informações', 'consistentes', 'que', 'mostram', 'que', 'um', 'realmente', 'é', 'melhor', 'que', 'outro', 'por', 'que', 'esconder', 'operações', 'é', 'melhor', 'e', 'se', 'não', 'é', 'por', 'que', 'estão', 'adotando', 'isto', 'seria', 'interessante', 'ver', 'um', 'comparação', 'entre', 'as', 'duas', 'situações', 'para', 'entender', 'as', 'vantagens', 'e', 'desvantagens', 'de', 'cada', 'uma', 'e', 'com', 'isto', 'ajudar', 'a', 'entender', 'quando', 'e', 'optar', 'por', 'um', 'mais', 'que', 'o', 'outro', 'existe', 'alguma', 'forma', 'de', 'facilitar', 'a', 'descoberta', 'facilitar', 'o', 'acesso', 'às', 'operações', 'sem', 'sujar', 'a', 'tela', 'há', 'exceções', 'onde', 'não', 'devemos', 'aplicar', 'uma', 'destas', 'filosofias', 'sempre', 'usei', 'o', 'code', 'independente', 'da', 'situação', 'e', 'sempre', 'funcionou', 'raras', 'vezes', 'que', 'tive', 'que', 'usar', 'um', 'dos', 'outros', 'e', 'nessas', 'vezes', 'fiz', 'por', 'orientação', 'de', 'alguém', 'e', 'não', 'por', 'saber', 'exatamente', 'o', 'que', 'eu', 'tinha', 'que', 'fazer', 'então', 'qual', 'a', 'diferença', 'entre', 'os', 'tipo', 'de', 'this', 'quando', 'devo', 'usar', 'um', 'e', 'quando', 'devo', 'usar', 'outro', 'muda', 'de', 'alguma', 'forma', 'a', 'performance', 'do', 'código', 'quando', 'eu', 'estava', 'lendo', 'sobre', 'alguns', 'frameworks', 'javascript', 'como', 'por', 'exemplo', 'o', 'react', 'li', 'algumas', 'vezes', 'a', 'expressão', 'shadow', 'dom', 'em', 'alguns', 'artigos', 'parece', 'inclusive', 'que', 'é', 'possível', 'nas', 'configurações', 'de', 'console', 'do', 'chrome', 'ativar', 'esse', 'tal', 'de', 'shadow', 'dom', 'mas', 'o', 'que', 'é', 'shadow', 'dom', 'e', 'pra', 'que', 'serve', 'tem', 'alguma', 'coisa', 'a', 'ver', 'apenas', 'com', 'o', 'framework', 'citado', 'acima', 'ou', 'não', 'preciso', 'colocar', 'um', 'code', 'com', 'aquele', 'olho', 'do', 'revelar', 'senha', 'porém', 'tem', 'que', 'funcionar', 'da', 'seguinte', 'maneira', 'usuário', 'clica', 'no', 'olho', 'e', 'ao', 'soltar', 'esconde', 'os', 'caracteres', 'novamente', 'segue', 'uma', 'foto', 'de', 'exemplo', 'existe', 'alguma', 'situação', 'em', 'que', 'ter', 'o', 'banco', 'de', 'dados', 'desnormalizado', 'é', 'mais', 'interessante', 'que', 'têlo', 'normalizado', 'por', 'exemplo', 'normalizado', 'code', 'desnormalizado', 'code', 'em', 'algum', 'momento', 'o', 'segundo', 'caso', 'é', 'mais', 'apropriado', 'que', 'o', 'primeiro', 'esses', 'dias', 'me', 'deparei', 'com', 'um', 'trecho', 'de', 'um', 'sql', 'que', 'tinha', 'o', 'comando', 'code', 'eu', 'nunca', 'tinha', 'visto', 'isso', 'antes', 'e', 'pelo', 'pouco', 'que', 'pude', 'ver', 'pareceme', 'que', 'isso', 'seria', 'para', 'travar', 'a', 'tabela', 'durante', 'a', 'inserção', 'ou', 'atualização', 'mas', 'eu', 'queria', 'poder', 'entender', 'melhor', 'o', 'funcionamento', 'como', 'funciona', 'code', 'gostaria', 'de', 'alguns', 'exemplos', 'quando', 'eu', 'devo', 'usar', 'esse', 'comando', 'devo', 'evitar', 'usar', 'esse', 'comando', 'em', 'alguns', 'casos', 'existe', 'algum', 'risco', 'eu', 'tive', 'uma', 'aula', 'na', 'faculdade', 'que', 'me', 'deixou', 'meio', 'intrigado', 'meu', 'professor', 'estava', 'falando', 'das', 'diferenças', 'das', 'linguagens', 'interpretadas', 'e', 'das', 'linguagens', 'compiladas', 'e', 'destacou', 'que', 'as', 'linguagens', 'interpretadas', 'poderiam', 'ter', 'seu', 'código', 'roubado', 'quando', 'nas', 'compiladas', 'isso', 'não', 'acontece', 'aí', 'abriu', 'uma', 'série', 'de', 'dúvidas', 'onde', 'a', 'principal', 'é', 'se', 'meu', 'código', 'é', 'compilado', 'e', 'não', 'dá', 'pra', 'saber', 'como', 'foi', 'escrito', 'como', 'os', 'antivírus', 'sabem', 'que', 'ele', 'pode', 'ser', 'perigoso', 'a', 'foto', 'original', 'do', 'feijão', 'é', 'essa', 'diminui', 'a', 'resolução', 'da', 'foto', 'já', 'apliquei', 'um', 'filtro', 'para', 'ficar', 'em', 'escala', 'de', 'cinza', 'e', 'aumentei', 'o', 'contraste', 'ao', 'máximo', 'para', 'ficar', 'preto', 'e', 'branco', 'depois', 'examinei', 'a', 'cor', 'de', 'cada', 'um', 'dos', 'pixels', 'e', 'montei', 'uma', 'array', 'matriz', 'se', 'eu', 'iterar', 'sobre', 'essa', 'array', 'e', 'escrever', 'um', 'para', 'os', 'pixels', 'brancos', 'e', 'um', 'x', 'para', 'os', 'pretos', 'eu', 'consigo', 'o', 'seguinte', 'a', 'partir', 'daí', 'estou', 'tentando', 'encontrar', 'uma', 'maneira', 'de', 'contar', 'quantas', 'porções', 'de', 'x', 'tem', 'nessa', 'matriz', 'alguém', 'pode', 'me', 'ajudar', 'com', 'isso', 'no', 'fim', 'das', 'contas', 'em', 'c', 'um', 'array', 'code', 'se', 'torna', 'um', 'ponteiro', 'code', 'se', 'não', 'o', 'que', 'são', 'arrays', 'quais', 'as', 'diferenças', 'entre', 'eles', 'como', 'os', 'arrays', 'funcionam', 'internamente', 'alguém', 'que', 'esteja', 'a', 'aprender', 'a', 'linguagem', 'novato', 'ou', 'experiente', 'pode', 'nunca', 'se', 'ter', 'cruzado', 'com', 'enumerações', 'de', 'java', 'já', 'li', 'por', 'várias', 'vezes', 'que', 'são', 'úteis', 'por', 'exemplo', 'para', 'implementar', 'os', 'padrões', 'singleton', 'com', 'mais', 'garantias', 'de', 'visibilidade', 'entre', 'threads', 'qual', 'é', 'a', 'utilidade', 'de', 'se', 'aprender', 'e', 'usar', 'as', 'code', 'na', 'programação', 'do', 'diaadia', 'quando', 'a', 'sessão', 'é', 'iniciada', 'ela', 'cria', 'um', 'cookie', 'com', 'phpsessid', 'tornando', 'o', 'id', 'público', 'sabendose', 'que', 'para', 'prevenir', 'o', 'sequestro', 'de', 'sessão', 'o', 'melhor', 'é', 'esconder', 'o', 'id', 'da', 'sessão', 'de', 'outros', 'usuários', 'então', 'phpsessid', 'se', 'torna', 'um', 'ponto', 'de', 'partida', 'para', 'um', 'ataque', 'podese', 'recorrer', 'à', 'code', 'e', 'code', 'mas', 'mesmo', 'assim', 'um', 'cookie', 'com', 'um', 'id', 'é', 'fácil', 'de', 'ser', 'encontrado', 'por', 'exemplo', 'se', 'eu', 'criar', 'uma', 'code', 'para', 'um', 'usuário', 'chamado', 'fulano', 'teóricamente', 'somente', 'ele', 'terá', 'acesso', 'à', 'session', 'o', 'problema', 'é', 'que', 'se', 'joãozinho', 'alterar', 'o', 'phpsessid', 'com', 'o', 'valor', 'do', 'fulano', 'ele', 'terá', 'acesso', 'às', 'sessions', 'criadas', 'cookie', 'phpsessid', 'são', 'suscetíveis', 'ao', 'mau', 'uso', 'de', 'terceiros', 'ou', 'até', 'uma', 'máquina', 'infectada', 'estou', 'tentando', 'fazer', 'uso', 'de', 'sessions', 'sem', 'a', 'criação', 'de', 'cookies', 'tentei', 'code', 'mas', 'todos', 'acessos', 'geram', 'uma', 'nova', 'id', 'e', 'as', 'sessões', 'que', 'foram', 'salvas', 'são', 'perdidas', 'realmente', 'gostaria', 'de', 'usar', 'as', 'sessions', 'fora', 'do', 'alcance', 'do', 'cliente', 'pensei', 'em', 'definir', 'code', 'para', 'não', 'fazer', 'uso', 'de', 'cookies', 'por', 'sessão', 'e', 'usar', 'code', 'para', 'gerenciar', 'as', 'sessões', 'de', 'usuário', 'para', 'poder', 'implementar', 'mais', 'verificações', 'pergunta', 'minha', 'pergunta', 'principal', 'é', 'há', 'alguma', 'forma', 'no', 'php', 'de', 'trabalhar', 'com', 'sessões', 'sem', 'a', 'necessidade', 'de', 'criação', 'de', 'cookie', 'pergunta', 'levando', 'em', 'conta', 'que', 'o', 'cookie', 'é', 'alocado', 'no', 'cliente', 'seria', 'dele', 'e', 'só', 'dele', 'a', 'responsabilidade', 'em', 'não', 'permitir', 'que', 'seja', 'público', 'ou', 'seja', 'alguém', 'em', 'uma', 'máquina', 'pública', 'deve', 'fazer', 'o', 'logout', 'ou', 'o', 'usuário', 'usando', 'um', 'computador', 'pessoal', 'deve', 'mantêla', 'livre', 'de', 'infecções', 'que', 'possam', 'rastrear', 'suas', 'ids', 'essa', 'questão', 'eu', 'tive', 'como', 'base', 'o', 'facebook', 'onde', 'entrei', 'em', 'uma', 'outra', 'conta', 'alterando', 'os', 'cookies', 'era', 'minha', 'outra', 'conta', 'antiga', 'do', 'facebook', 'não', 'há', 'temores', 'o', 'que', 'são', 'escopo', 'léxico', 'e', 'escopo', 'dinâmico', 'e', 'quais', 'são', 'suas', 'principais', 'diferenças', 'vejo', 'em', 'muitos', 'códigos', 'e', 'até', 'mesmo', 'arquiteturas', 'a', 'palavra', 'callback', 'vejo', 'que', 'é', 'em', 'funções', 'javascript', 'mas', 'o', 'que', 'é', 'como', 'é', 'usada', 'por', 'que', 'gostaria', 'de', 'um', 'exemplo', 'de', 'uso', 'real', 'no', 'meu', 'projeto', 'estou', 'a', 'usar', 'a', 'função', 'code', 'no', 'entanto', 'gostaria', 'que', 'fosse', 'em', 'português', 'a', 'saída', 'da', 'data', 'de', 'momento', 'é', 'code', 'gostaria', 'que', 'ficasse', 'no', 'mesmo', 'modelo', 'mas', 'em', 'português', 'este', 'é', 'o', 'meu', 'código', 'code', 'estou', 'realizando', 'alguns', 'testes', 'e', 'pelo', 'que', 'me', 'parece', 'object', 'e', 'dynamic', 'realizam', 'a', 'mesma', 'tarefa', 'ao', 'contrário', 'de', 'var', 'que', 'depois', 'de', 'atribuído', 'é', 'impossível', 'mudar', 'seu', 'tipo', 'qual', 'a', 'diferença', 'entre', 'eles', 'code', 'tenho', 'um', 'code', 'no', 'formulário', 'que', 'deve', 'aceitar', 'cpf', 'ou', 'cnpj', 'utilizarei', 'no', 'backend', 'em', 'php', 'o', 'valor', 'para', 'guardar', 'ou', 'no', 'campo', 'cpf', 'ou', 'no', 'campo', 'cnpj', 'de', 'uma', 'tabela', 'no', 'banco', 'de', 'dados', 'estou', 'usando', 'angularjs', 'e', 'preciso', 'de', 'uma', 'expressão', 'regular', 'para', 'colocar', 'em', 'code', 'para', 'aceitar', 'apenas', 'dados', 'utilizáveis', 'não', 'me', 'interessa', 'neste', 'momento', 'validar', 'os', 'dígitos', 'de', 'verificação', 'ao', 'final', 'quero', 'ser', 'um', 'pouco', 'flexível', 'permitindo', 'ao', 'usuário', 'que', 'use', 'pontos', 'traço', 'e', 'barra', 'se', 'quiser', 'ou', 'só', 'números', 'existe', 'algum', 'algoritmo', 'para', 'checar', 'a', 'validade', 'de', 'um', 'número', 'de', 'rg', 'no', 'brasil', 'usando', 'dígitos', 'verificadores', 'como', 'acontece', 'com', 'o', 'cpf', 'caso', 'afirmativo', 'como', 'é', 'esse', 'algoritmo', 'quando', 'estou', 'escrevendo', 'programas', 'normalmente', 'eu', 'escrevo', 'os', 'nomes', 'de', 'variáveis', 'em', 'inglês', 'por', 'exemplo', 'code', 'por', 'vários', 'motivos', 'nomes', 'em', 'inglês', 'não', 'têm', 'acentos', 'então', 'não', 'fica', 'um', 'negócio', 'estranho', 'como', 'code', 'os', 'nomes', 'normalmente', 'são', 'menores', 'ref', 'o', 'código', 'poderá', 'um', 'dia', 'ser', 'mantido', 'por', 'alguém', 'que', 'não', 'fala', 'a', 'língua', 'portuguesa', 'as', 'apis', 'quase', 'sempre', 'são', 'todas', 'em', 'inglês', 'porém', 'há', 'outras', 'coisas', 'que', 'eu', 'prefiro', 'manter', 'em', 'português', 'principalmente', 'se', 'for', 'do', 'contexto', 'do', 'sistema', 'comentários', 'nomes', 'de', 'classes', 'ou', 'tabelas', 'por', 'exemplo', 'code', 'por', 'esse', 'motivo', 'algumas', 'vezes', 'os', 'nomes', 'em', 'português', 'se', 'misturam', 'com', 'inglês', 'por', 'exemplo', 'pode', 'haver', 'uma', 'code', 'enquanto', 'é', 'perfeitamente', 'compreensível', 'isso', 'me', 'parece', 'estranho', 'levandose', 'também', 'em', 'consideração', 'que', 'todo', 'programador', 'deve', 'ter', 'noções', 'básicas', 'de', 'inglês', 'qual', 'é', 'o', 'método', 'preferido', 'para', 'a', 'escolha', 'do', 'idioma', 'que', 'eu', 'devo', 'usar', 'ao', 'programar', 'quais', 'as', 'vantagens', 'de', 'escolher', 'um', 'método', 'ou', 'o', 'outro', 'quais', 'são', 'as', 'diferenças', 'entre', 'os', 'modificadores', 'code', 'code', 'code', 'e', 'code', 'quando', 'se', 'trabalha', 'com', 'herança', 'existem', 'regras', 'de', 'como', 'e', 'quando', 'eu', 'devo', 'usar', 'eles', 'quando', 'eu', 'estou', 'trabalhando', 'com', 'herança', 'e', 'polimorfismo', 'uma', 'assinatura', 'do', 'métodofunção', 'comum', 'ou', 'construtor', 'é', 'composta', 'por', 'seu', 'nome', 'quantidade', 'de', 'parâmetros', 'tipo', 'dos', 'parâmetros', 'utilizar', 'validações', 'em', 'javascript', 'é', 'suficiente', 'para', 'uma', 'validação', 'eficiente', 'exemplo', 'validação', 'de', 'datas', 'é', 'necessário', 'verificar', 'também', 'no', 'código', 'quais', 'as', 'desvantagens', 'de', 'só', 'realizar', 'validações', 'via', 'clienteside', 'podem', 'causar', 'gostaria', 'de', 'saber', 'qual', 'a', 'diferença', 'e', 'quando', 'devo', 'utilizar', 'stateful', 'stateless', 'por', 'que', 'a', 'formação', 'de', 'cores', 'no', 'rgb', 'não', 'segue', 'o', 'mesmo', 'padrão', 'da', 'natureza', 'e', 'mesmo', 'assim', 'dá', 'certo', 'por', 'exemplo', 'no', 'rgb', 'amarelo', 'vemelho', 'e', 'verde', 'ff', 'ff', 'ffff', 'mas', 'se', 'pegarmos', 'um', 'lápis', 'de', 'cor', 'amarelo', 'e', 'outro', 'azul', 'ou', 'tintas', 'pincéis', 'etc', 'e', 'pintar', 'uma', 'mesma', 'área', 'ela', 'se', 'torna', 'verde', 'ou', 'pelo', 'menos', 'algo', 'parecido', 'os', 'tons', 'não', 'são', 'os', 'mesmos', 'até', 'porque', 'depende', 'da', 'quantidade', 'de', 'amarelo', 'ou', 'azul', 'para', 'formar', 'o', 'verde', 'isto', 'é', 'o', 'amarelo', 'depende', 'do', 'verde', 'e', 'em', 'outro', 'o', 'verde', 'depende', 'do', 'amarelo', 'nota', 'entendo', 'que', 'as', 'respostas', 'irão', 'pender', 'para', 'o', 'lado', 'da', 'física', 'e', 'biologia', 'mas', 'sempre', 'tive', 'essa', 'dúvida', 'porque', 'além', 'de', 'trabalhar', 'com', 'backend', 'trabalho', 'com', 'frontend', 'e', 'isso', 'me', 'ocorre', 'muito', 'frequentemente', 'isso', 'porque', 'o', 'sistema', 'rgb', 'não', 'fecha', 'muito', 'o', 'que', 'aprendemos', 'com', 'a', 'tia', 'de', 'artes', 'na', 'escola', 'então', 'não', 'fica', 'muito', 'intuitivo', 'na', 'hora', 'de', 'chegar', 'em', 'uma', 'cor', 'ao', 'desenhar', 'uma', 'página', 'estou', 'atrás', 'do', 'porque', 'do', 'sistema', 'rgb', 'ser', 'diferente', 'do', 'outro', 'e', 'ele', 'ser', 'o', 'escolhido', 'para', 'ser', 'aplicado', 'em', 'imagens', 'e', 'desenhos', 'de', 'aplicações', 'se', 'não', 'estou', 'enganado', 'é', 'estudado', 'em', 'processamento', 'de', 'imagens', 'gostaria', 'de', 'saber', 'qual', 'é', 'a', 'real', 'diferença', 'entre', 'o', 'code', 's', 'maiúsculo', 'e', 'o', 'code', 's', 'minúsculo', 'aparentemente', 'os', 'dois', 'têm', 'os', 'mesmos', 'objetivos', 'porém', 'qual', 'é', 'melhor', 'para', 'ser', 'utilizado', 'tenho', 'ouvido', 'falar', 'muito', 'de', 'kotlin', 'o', 'que', 'é', 'isso', 'é', 'uma', 'linguagem', 'de', 'programação', 'se', 'sim', 'quais', 'as', 'principais', 'características', 'posso', 'programar', 'em', 'qualquer', 'sistema', 'operacional', 'e', 'executar', 'como', 'funcionam', 'os', 'tipos', 'nela', 'não', 'quero', 'saber', 'tudo', 'mas', 'uma', 'informação', 'básica', 'sobre', 'o', 'que', 'é', 'isso', 'esses', 'dias', 'vi', 'nosso', 'colega', 'maniero', 'comentando', 'sobre', 'a', 'existência', 'do', 'net', 'native', 'em', 'uma', 'resposta', 'sobre', 'c', 'e', 'c', 'vi', 'que', 'a', 'microsoft', 'anunciou', 'em', 'abril', 'de', 'o', 'preview', 'do', 'net', 'native', 'e', 'pesquisando', 'sobre', 'o', 'assunto', 'encontrei', 'essa', 'página', 'explicando', 'httpmsdnmicrosoftcomptbrvstudiodotnetnativeaspx', 'pelo', 'o', 'que', 'entendi', 'a', 'ideia', 'é', 'permitir', 'que', 'código', 'escritos', 'em', 'c', 'sejam', 'compilados', 'para', 'código', 'nativo', 'da', 'máquina', 'isso', 'deixaria', 'os', 'aplicativos', 'mais', 'rápidos', 'e', 'usando', 'menos', 'memória', 'como', 'o', 'assunto', 'é', 'novo', 'e', 'estou', 'cheio', 'de', 'perguntas', 'eis', 'algumas', 'delas', 'por', 'que', 'a', 'microsoft', 'está', 'fazendo', 'isso', 'não', 'será', 'mais', 'necessário', 'ter', 'o', 'net', 'framework', 'instalado', 'nas', 'máquinas', 'vamos', 'ter', 'que', 'compilar', 'nossos', 'códigos', 'para', 'tipos', 'diferentes', 'de', 'arquiteturas', 'x', 'x', 'programas', 'que', 'usam', 'o', 'net', 'native', 'vão', 'poder', 'rodar', 'em', 'qualquer', 'tipo', 'de', 'dispositivo', 'e', 'sistema', 'operacional', 'vou', 'poder', 'desenvolver', 'um', 'driver', 'ou', 'um', 'sistema', 'operacional', 'com', 'isso', 'isso', 'é', 'só', 'para', 'apps', 'da', 'windows', 'store', 'terá', 'alguma', 'diferença', 'em', 'como', 'desenvolvemos', 'hoje', 'quem', 'puder', 'compartilhar', 'um', 'pouco', 'sobre', 'o', 'assunto', 'é', 'muito', 'bem', 'vindo', 'inclusive', 'se', 'quiserem', 'editar', 'algo', 'na', 'pergunta', 'afim', 'de', 'enriquecer', 'a', 'questão', 'como', 'uma', 'linguagem', 'de', 'programação', 'é', 'criada', 'em', 'termos', 'gerais', 'por', 'onde', 'e', 'como', 'funciona', 'a', 'validação', 'das', 'funcionalidades', 'da', 'nova', 'linguagem', 'por', 'exemplo', 'temos', 'a', 'linguagem', 'c', 'ela', 'é', 'complexa', 'e', 'tem', 'bastante', 'conteúdo', 'e', 'utilização', 'mas', 'como', 'chegou', 'até', 'aqui', 'como', 'se', 'iniciou', 'como', 'foi', 'criada', 'estou', 'usando', 'o', 'c', 'só', 'como', 'um', 'exemplo', 'a', 'pergunta', 'é', 'mais', 'geral', 'não', 'quero', 'saber', 'sobre', 'o', 'que', 'é', 'uma', 'linguagem', 'de', 'programação', 'que', 'já', 'tem', 'pergunta', 'sobre', 'isto', 'não', 'quero', 'saber', 'sobre', 'como', 'funciona', 'um', 'compilador', 'e', 'a', 'diferença', 'dele', 'para', 'a', 'linguagem', 'isto', 'já', 'foi', 'perguntado', 'antes', 'durante', 'a', 'manutenção', 'de', 'um', 'sistema', 'legado', 'reparei', 'na', 'seguinte', 'procedure', 'code', 'a', 'primeira', 'coisa', 'que', 'me', 'chamou', 'atenção', 'foi', 'a', 'condição', 'where', 'por', 'que', 'o', 'programador', 'que', 'escreveu', 'essa', 'procedure', 'usou', 'essa', 'condição', 'já', 'busquei', 'bastante', 'no', 'google', 'mas', 'nunca', 'achei', 'uma', 'boa', 'explicação', 'pra', 'como', 'fazer', 'programas', 'opensource', 'eu', 'curto', 'muito', 'programar', 'em', 'java', 'e', 'python', 'e', 'queria', 'desenvolver', 'algum', 'programa', 'open', 'com', 'essas', 'linguagens', 'mas', 'imagina', 'se', 'eu', 'crio', 'um', 'programa', 'desses', 'vem', 'outra', 'pessoa', 'e', 'copia', 'meu', 'programa', 'e', 'diz', 'que', 'foi', 'ela', 'que', 'fez', 'como', 'eu', 'posso', 'ficar', 'seguro', 'contra', 'isso', 'no', 'geral', 'como', 'fazer', 'programas', 'opensource', 'sei', 'que', 'em', 'no', 'primeiro', 'o', 'objeto', 'passado', 'como', 'argumento', 'para', 'uma', 'função', 'é', 'copiado', 'e', 'no', 'segundo', 'não', 'também', 'sei', 'que', 'é', 'extremamente', 'incomum', 'em', 'linguagens', 'modernas', 'a', 'passagem', 'de', 'objetos', 'complexos', 'por', 'valor', 'enquanto', 'tipos', 'primitivos', 'números', 'caracteres', 'booleanos', 'frequentemente', 'o', 'são', 'mas', 'o', 'que', 'exatamente', 'são', 'esses', 'modos', 'de', 'passagem', 'leio', 'muito', 'que', 'em', 'java', 'as', 'referências', 'são', 'passadas', 'por', 'valor', 'e', 'vejo', 'também', 'que', 'há', 'linguagens', 'modernas', 'como', 'c', 'que', 'dão', 'mais', 'opções', 'de', 'passagem', 'de', 'parâmetros', 'que', 'a', 'maioria', 'das', 'linguagens', 'orientadas', 'por', 'objeto', 'o', 'que', 'gostaria', 'que', 'fosse', 'explicado', 'é', 'na', 'passagem', 'por', 'valor', 'o', 'argumento', 'é', 'copiado', 'ok', 'mas', 'o', 'que', 'exatamente', 'é', 'copiado', 'o', 'objeto', 'inteiro', 'inclusive', 'todas', 'as', 'suas', 'referências', 'o', 'que', 'constitui', 'uma', 'passagem', 'por', 'referência', 'se', 'a', 'linguagem', 'possui', 'ponteiros', 'passar', 'um', 'ponteiro', 'para', 'um', 'objeto', 'como', 'argumento', 'significa', 'que', 'se', 'está', 'passando', 'o', 'objeto', 'por', 'referência', 'o', 'que', 'significa', 'exatamente', 'passar', 'uma', 'referência', 'por', 'valor', 'volta', 'aqui', 'o', 'primeiro', 'item', 'o', 'que', 'da', 'referência', 'está', 'sendo', 'copiado', 'já', 'que', 'a', 'passagem', 'é', 'por', 'valor', 'para', 'não', 'ficar', 'muito', 'amplo', 'se', 'é', 'que', 'já', 'não', 'está', 'peço', 'que', 'as', 'respostas', 'se', 'foquem', 'nas', 'linguagens', 'cc', 'tradicionais', 'que', 'introduziram', 'a', 'muitos', 'de', 'nós', 'os', 'conceitos', 'envolvidos', 'java', 'que', 'pelo', 'menos', 'pra', 'mim', 'marcou', 'a', 'mudança', 'de', 'paradigma', 'entre', 'raciocinar', 'em', 'termos', 'de', 'ponteiros', 'e', 'em', 'termos', 'de', 'referências', 'e', 'talvez', 'c', 'linguagem', 'moderna', 'que', 'se', 'não', 'me', 'engano', 'trouxe', 'mais', 'flexibilidade', 'nas', 'formas', 'de', 'manipular', 'objetos', 'qual', 'a', 'diferença', 'entre', 'uma', 'classe', 'abstrata', 'e', 'uma', 'interface', 'não', 'entendo', 'quando', 'eu', 'deveria', 'utilizar', 'uma', 'ou', 'outra', 'tem', 'um', 'jogo', 'de', 'tanque', 'd', 'usando', 'a', 'unityengine', 'em', 'c', 'em', 'que', 'é', 'jogado', 'na', 'lateral', 'da', 'tela', 'vendo', 'apenas', 'os', 'lados', 'dos', 'tanques', 'em', 'que', 'tem', 'o', 'tanque', 'verde', 'e', 'o', 'vermelho', 'o', 'verde', 'precisa', 'atirar', 'e', 'acertar', 'o', 'alvo', 'vermelho', 'o', 'jogo', 'lhe', 'dá', 'a', 'força', 'e', 'ângulo', 'ambos', 'variam', 'de', 'acordo', 'com', 'sua', 'mira', 'em', 'alguns', 'turnos', 'é', 'definido', 'um', 'tempo', 'aleatório', 'que', 'varia', 'de', 'à', 'mas', 'nesse', 'aplicativo', 'que', 'estou', 'criando', 'é', 'possível', 'manualmente', 'você', 'pode', 'definir', 'o', 'vento', 'e', 'sua', 'direção', 'não', 'querendo', 'dizer', 'que', 'é', 'alterado', 'o', 'vento', 'do', 'jogo', 'mas', 'sim', 'da', 'trajetória', 'que', 'o', 'aplicativo', 'está', 'calculando', 'nota', 'o', 'vento', 'já', 'é', 'gerado', 'de', 'uma', 'forma', 'aleatória', 'de', 'para', 'com', 'esse', 'aplicativo', 'que', 'estou', 'criando', 'você', 'apenas', 'calcula', 'a', 'trajetória', 'para', 'te', 'ajudar', 'no', 'jogo', 'notem', 'que', 'o', 'ângulo', 'é', 'espelhado', 'mas', 'já', 'implementei', 'uma', 'função', 'que', 'nos', 'dá', 'o', 'ângulo', 'exato', 'o', 'jogo', 'é', 'dividido', 'por', 'turnos', 'em', 'todo', 'turno', 'o', 'vento', 'muda', 'junto', 'com', 'sua', 'direção', 'o', 'vento', 'varia', 'de', 'para', 'na', 'direção', 'direita', 'ou', 'esquerda', 'nunca', 'maior', 'ou', 'menor', 'que', 'isso', 'a', 'trajetória', 'pontilhada', 'é', 'o', 'que', 'é', 'projetado', 'nesse', 'aplicativo', 'o', 'processo', 'está', 'pronto', 'a', 'trajetória', 'está', 'sendo', 'exibida', 'o', 'problema', 'é', 'que', 'ela', 'não', 'é', 'influenciada', 'pelo', 'vento', 'qualquer', 'mudança', 'no', 'vento', 'ela', 'irá', 'permanecer', 'sendo', 'influenciada', 'apenas', 'por', 'ângulo', 'e', 'a', 'força', 'não', 'por', 'vento', 'eis', 'o', 'problema', 'grande', 'atualização', 'da', 'pergunta', 'coloquei', 'uma', 'parte', 'importante', 'que', 'estava', 'faltando', 'na', 'pergunta', 'o', 'calculo', 'horizontal', 'code', 'resuminho', 'básico', 'o', 'valor', 'code', 'é', 'calculado', 'em', 'base', 'do', 'tempo', 'de', 'voo', 'para', 'cada', 'x', 'basicamente', 'entre', 'à', 'como', 'mostrado', 'na', 'declaração', 'do', 'lopping', 'acima', 'que', 'são', 'os', 'limites', 'horizontais', 'do', 'jogo', 'o', 'valor', 'code', 'representa', 'o', 'tempo', 'de', 'voo', 'de', 'para', 'a', 'posição', 'i', 'x', 'como', 'a', 'trajetória', 'é', 'afetada', 'com', 'o', 'vento', 'abaixo', 'está', 'a', 'minha', 'trajetória', 'a', 'linha', 'contínua', 'e', 'a', 'trajetória', 'do', 'tiro', 'a', 'linha', 'pontilhada', 'o', 'vento', 'que', 'estava', 'presente', 'no', 'jogo', 'era', 'é', 'percebível', 'que', 'além', 'da', 'altura', 'code', 'o', 'formato', 'e', 'a', 'distância', 'da', 'trajetória', 'também', 'foram', 'alterados', 'com', 'o', 'vento', 'brevemente', 'minha', 'dúvida', 'é', 'como', 'implemento', 'vento', 'nessas', 'formulas', 'vi', 'esse', 'termo', 'sendo', 'empregado', 'diversas', 'vezes', 'muitas', 'pessoas', 'e', 'empresas', 'querem', 'que', 'seus', 'códigos', 'sejam', 'limpos', 'vi', 'também', 'o', 'livro', 'código', 'limpo', 'habilidades', 'práticas', 'do', 'agile', 'software', 'mas', 'eu', 'queria', 'saber', 'o', 'que', 'define', 'um', 'código', 'ser', 'limpo', 'ou', 'não', 'quais', 'os', 'pontos', 'são', 'avaliados', 'uma', 'vez', 'que', 'o', 'conhecimento', 'e', 'o', 'domínio', 'sobre', 'uma', 'determinada', 'linguagem', 'pode', 'influenciar', 'na', 'avaliação', 'de', 'quem', 'está', 'lendo', 'na', 'pergunta', 'como', 'escrever', 'um', 'código', 'legível', 'e', 'de', 'fácil', 'manutenção', 'temos', 'alguns', 'exemplos', 'de', 'um', 'código', 'que', 'aparentemente', 'está', 'bem', 'escrito', 'porém', 'o', 'domínio', 'da', 'linguagem', 'é', 'que', 'faz', 'bastante', 'diferença', 'na', 'hora', 'de', 'interpretálo', 'então', 'focando', 'bem', 'a', 'pergunta', 'quais', 'o', 'pontos', 'que', 'são', 'avaliados', 'qual', 'a', 'importância', 'e', 'o', 'peso', 'de', 'cada', 'um', 'desses', 'pontos', 'dentro', 'da', 'avaliação', 'gostaria', 'principalmente', 'das', 'referências', 'para', 'estudar', 'um', 'pouco', 'mais', 'a', 'fundo', 'e', 'que', 'não', 'fosse', 'limitado', 'a', 'um', 'paradigma', 'ex', 'orientação', 'a', 'objeto', 'e', 'sim', 'num', 'contexto', 'geral', 'estou', 'procurando', 'por', 'maneiras', 'de', 'se', 'copiar', 'um', 'texto', 'pra', 'área', 'de', 'transferência', 'clipboard', 'via', 'javascript', 'que', 'funcione', 'na', 'maioria', 'dos', 'browsers', 'modernos', 'mas', 'há', 'informação', 'demais', 'e', 'me', 'parece', 'desatualizada', 'sei', 'que', 'há', 'a', 'clipboard', 'api', 'e', 'que', 'ela', 'é', 'parcialmente', 'suportada', 'por', 'todos', 'exceto', 'o', 'firefox', 'que', 'a', 'implementa', 'totalmete', 'gostaria', 'de', 'utilizála', 'mas', 'só', 'encontro', 'exemplos', 'que', 'usam', 'o', 'code', 'que', 'é', 'justamente', 'a', 'parte', 'ainda', 'não', 'amplamente', 'suportada', 'montei', 'um', 'jsfiddle', 'de', 'exemplo', 'que', 'não', 'funciona', 'nem', 'no', 'firefox', 'recursão', 'infinita', 'no', 'evento', 'code', 'nem', 'no', 'chrome', 'code', 'não', 'suportado', 'segue', 'o', 'código', 'code', 'gostaria', 'de', 'um', 'exemplo', 'que', 'evitasse', 'essa', 'recursão', 'infinita', 'ela', 'é', 'causada', 'porque', 'o', 'handler', 'que', 'cria', 'o', 'code', 'acaba', 'capturando', 'o', 'evento', 'que', 'ele', 'mesmo', 'criou', 'e', 'que', 'oferecesse', 'um', 'workaround', 'pro', 'caso', 'do', 'browser', 'não', 'dar', 'suporte', 'ao', 'code', 'por', 'que', 'criar', 'parâmetros', 'para', 'cada', 'campo', 'que', 'será', 'atualizado', 'ajuda', 'a', 'evitar', 'sql', 'injection', 'exemplo', 'code', 'como', 'este', 'código', 'pode', 'executar', 'desta', 'forma', 'code', 'saída', 'code', 'intuitivamente', 'deve', 'ser', 'menor', 'que', 'sempre', 'porque', 'acontece', 'este', 'tipo', 'de', 'erro', 'o', 'computador', 'não', 'é', 'uma', 'máquina', 'que', 'não', 'erra', 'como', 'exportar', 'uma', 'página', 'html', 'para', 'um', 'ficheiro', 'pdf', 'tendo', 'um', 'documento', 'padrão', 'onde', 'possa', 'mudar', 'variáveis', 'dentro', 'desse', 'template', 'para', 'depois', 'exportar', 'essa', 'página', 'para', 'um', 'ficheiro', 'pdf', 'em', 'formato', 'a', 'sem', 'estragar', 'o', 'layout', 'exemplo', 'de', 'código', 'code', 'após', 'muito', 'tempo', 'utilizando', 'a', 'implementação', 'serializable', 'nas', 'minhas', 'classes', 'na', 'plataforma', 'javaandroid', 'descobri', 'o', 'parcelable', 'mas', 'fiquei', 'na', 'dúvida', 'em', 'relação', 'as', 'seguintes', 'questões', 'abaixo', 'quando', 'utilizar', 'escolher', 'entre', 'o', 'parcelable', 'vs', 'serializable', 'como', 'implementar', 'o', 'parcelable', 'e', 'serializable', 'quais', 'são', 'as', 'diferenças', 'de', 'performance', 'das', 'duas', 'implementações', 'vejo', 'muita', 'confusão', 'no', 'site', 'sobre', 'os', 'termos', 'no', 'contexto', 'de', 'segurança', 'de', 'dados', 'o', 'que', 'seria', 'encoding', 'encrypting', 'e', 'hashing', 'e', 'em', 'que', 'contextos', 'devem', 'ser', 'usados', 'cada', 'um', 'em', 'especial', 'codificar', 'serve', 'como', 'medida', 'de', 'segurança', 'ou', 'é', 'usada', 'para', 'outra', 'coisa', 'exemplo', 'usar', 'base', 'por', 'favor', 'leia', 'e', 'entenda', 'a', 'pergunta', 'o', 'assunto', 'tem', 'um', 'contexto', 'específico', 'tenho', 'uma', 'tabela', 'que', 'possui', 'registros', 'duplicados', 'eles', 'não', 'deveriam', 'estar', 'duplicados', 'alguns', 'registros', 'duplicaram', 'duas', 'cinco', 'e', 'até', 'trinta', 'vezes', 'por', 'acidente', 'preciso', 'remover', 'esses', 'registros', 'duplicados', 'porém', 'preciso', 'deixar', 'um', 'então', 'por', 'exemplo', 'se', 'eu', 'tenho', 'um', 'valor', 'repetindo', 'vezes', 'preciso', 'deletar', 'meu', 'cenário', 'é', 'mais', 'ou', 'menos', 'esse', 'code', 'o', 'resultado', 'está', 'assim', 'code', 'mas', 'preciso', 'que', 'fique', 'assim', 'code', 'nota', 'só', 'quero', 'deletar', 'os', 'duplicados', 'se', 'o', 'status', 'for', 'porém', 'quero', 'deixar', 'um', 'como', 'fazer', 'uma', 'query', 'que', 'delete', 'os', 'duplicados', 'porém', 'deixando', 'sempre', 'um', 'registro', 'estava', 'pesquisando', 'algumas', 'bibliotecas', 'em', 'python', 'que', 'pudesse', 'detectar', 'a', 'nudez', 'em', 'fotos', 'para', 'que', 'de', 'alguma', 'forma', 'eu', 'pudesse', 'evitar', 'conteúdo', 'impróprio', 'no', 'meu', 'site', 'daí', 'encontrei', 'o', 'nudepy', 'o', 'problema', 'é', 'que', 'para', 'algumas', 'imagens', 'ele', 'erroneamente', 'retornava', 'positivo', 'pois', 'as', 'imagens', 'não', 'continham', 'nudez', 'por', 'exemplo', 'a', 'imagem', 'abaixo', 'que', 'não', 'contém', 'nudez', 'ao', 'fazer', 'o', 'teste', 'retornou', 'code', 'veja', 'code', 'o', 'usuário', 'bacco', 'recomendou', 'que', 'eu', 'fizesse', 'testes', 'com', 'uma', 'foto', 'que', 'tivesse', 'apenas', 'cor', 'de', 'pele', 'já', 'para', 'essa', 'imagem', 'o', 'resultado', 'foi', 'code', 'veja', 'daí', 'fiquei', 'me', 'perguntando', 'qual', 'era', 'o', 'critério', 'utilizado', 'para', 'detecção', 'de', 'nudez', 'mesmo', 'sabendo', 'que', 'isso', 'pode', 'ser', 'falho', 'gostaria', 'de', 'ser', 'esclarecido', 'nos', 'seguintes', 'pontos', 'existe', 'algum', 'algorítimo', 'que', 'detecte', 'nudez', 'com', 'alto', 'grau', 'de', 'eficiência', 'qual', 'é', 'a', 'técnica', 'que', 'costuma', 'ser', 'utilizada', 'para', 'detecção', 'de', 'nudez', 'em', 'uma', 'imagem', 'atualização', 'foramme', 'solicitados', 'testes', 'com', 'imagens', 'também', 'com', 'pretoebranco', 'para', 'avaliarmos', 'a', 'forma', 'que', 'o', 'code', 'analisa', 'as', 'imagens', 'aqui', 'vai', 'o', 'teste', 'existem', 'três', 'imagens', 'numa', 'pasta', 'tirei', 'o', 'printscreen', 'da', 'tela', 'ao', 'rodar', 'code', 'os', 'seguintes', 'resultados', 'são', 'retornados', 'code', 'gostaria', 'de', 'saber', 'o', 'que', 'são', 'e', 'como', 'funcionam', 'os', 'número', 'das', 'versões', 'de', 'softwares', 'como', 'por', 'exemplo', 'code', 'o', 'que', 'significa', 'existe', 'algum', 'padrão', 'ou', 'recomendação', 'para', 'versões', 'de', 'aplicações', 'web', 'estou', 'estudando', 'rest', 'e', 'desenvolvimento', 'de', 'web', 'apis', 'e', 'ouvi', 'falar', 'sobre', 'hateoas', 'hypertext', 'as', 'the', 'engine', 'of', 'application', 'state', 'eu', 'entendi', 'a', 'ideia', 'ao', 'responder', 'uma', 'requisição', 'além', 'do', 'que', 'normalmente', 'retornamos', 'a', 'ideia', 'é', 'também', 'retornar', 'dados', 'sobre', 'o', 'que', 'pode', 'ser', 'feito', 'em', 'seguida', 'um', 'exemplo', 'que', 'vi', 'na', 'internet', 'foi', 'esse', 'code', 'além', 'disso', 'já', 'li', 'várias', 'vezes', 'que', 'fazer', 'isso', 'é', 'muito', 'importante', 'pra', 'várias', 'coisas', 'entre', 'elas', 'pra', 'permitir', 'que', 'a', 'api', 'consiga', 'evoluir', 'facilmente', 'sem', 'quebrar', 'clients', 'antigos', 'acontece', 'que', 'eu', 'não', 'consigo', 'entender', 'quais', 'são', 'os', 'reais', 'benefícios', 'de', 'fazer', 'isso', 'basicamente', 'o', 'client', 'não', 'vai', 'decidir', 'por', 'si', 'só', 'quais', 'chamadas', 'fazer', 'baseado', 'nesses', 'links', 'de', 'qualquer', 'forma', 'temos', 'que', 'colocar', 'hardcoded', 'lá', 'o', 'que', 'pode', 'ser', 'feito', 'em', 'seguida', 'assim', 'qual', 'a', 'real', 'importância', 'de', 'usar', 'hateoas', 'e', 'quais', 'benefícios', 'temos', 'a', 'partir', 'do', 'seu', 'uso', 'estou', 'aprendendo', 'php', 'e', 'pelos', 'exemplo', 'que', 'tenho', 'visto', 'na', 'internet', 'existe', 'uma', 'mistura', 'na', 'codificação', 'dos', 'programas', 'de', 'orientação', 'a', 'objeto', 'e', 'procedimentos', 'estruturados', 'isso', 'é', 'mesmo', 'comum', 'ou', 'estou', 'equivocado', 'se', 'php', 'é', 'uma', 'linguagem', 'orientada', 'a', 'objetos', 'até', 'que', 'ponto', 'é', 'interessante', 'ou', 'não', 'essa', 'mistura', 'gostaria', 'de', 'saber', 'se', 'existe', 'alguma', 'forma', 'simples', 'de', 'realizar', 'um', 'upload', 'de', 'arquivos', 'via', 'ajax', 'json', 'se', 'houver', 'qual', 'seria', 'quando', 'comecei', 'a', 'usar', 'linq', 'vi', 'que', 'poderia', 'usar', 'as', 'famosas', 'lambda', 'expressions', 'até', 'sei', 'que', 'code', 'é', 'uma', 'lambda', 'expression', 'mas', 'não', 'consegui', 'explicar', 'para', 'um', 'colega', 'o', 'que', 'realmente', 'são', 'e', 'qual', 'a', 'vantagem', 'em', 'usálas', 'então', 'vos', 'pergunto', 'o', 'que', 'são', 'lambda', 'expressions', 'e', 'qual', 'a', 'sacada', 'em', 'usálas', 'como', 'definir', 'apropriadamente', 'e', 'eficientemente', 'dados', 'naturalmente', 'organizados', 'em', 'árvore', 'em', 'bancos', 'de', 'dados', 'relacionais', 'considerando', 'as', 'implicações', 'físicas', 'disso', 'ou', 'seja', 'organizar', 'de', 'forma', 'que', 'minimize', 'os', 'acessos', 'feitos', 'em', 'qualquer', 'nó', 'assuma', 'que', 'o', 'rdbms', 'não', 'tem', 'características', 'especiais', 'para', 'lidar', 'com', 'isso', 'exceto', 'a', 'ddl', 'do', 'ansi', 'sql', 'ou', 'recursos', 'disponíveis', 'em', 'todos', 'os', 'principais', 'sistemas', 'de', 'banco', 'de', 'dados', 'relacionais', 'eventualmente', 'uma', 'otimização', 'específica', 'opcional', 'pode', 'ser', 'útil', 'mas', 'não', 'obrigatória', 'se', 'existir', 'uma', 'forma', 'query', 'mais', 'adequada', 'para', 'acessar', 'varreratravessar', 'os', 'dados', 'estruturados', 'desta', 'forma', 'um', 'exemplo', 'ajudaria', 'o', 'que', 'é', 'o', 'php', 'injection', 'qual', 'a', 'diferença', 'dele', 'para', 'o', 'sql', 'injection', 'como', 'evitar', 'o', 'php', 'injection', 'na', 'minha', 'aplicação', 'quais', 'são', 'as', 'principais', 'formas', 'de', 'ataque', 'do', 'tipo', 'php', 'injection', 'atualização', 'observação', 'lembrando', 'que', 'o', 'sql', 'injection', 'não', 'é', 'a', 'mesma', 'coisa', 'que', 'o', 'php', 'injection', 'code', 'injection', 'in', 'php', 'what', 'is', 'sql', 'injection', 'por', 'que', 'consultas', 'sql', 'parametrizadascode', 'previnem', 'sql', 'injection', 'podem', 'citar', 'exemplos', 'em', 'php', 'quando', 'possuo', 'um', 'code', 'com', 'valores', 'duplicados', 'é', 'possível', 'obter', 'apenas', 'valores', 'únicos', 'através', 'da', 'função', 'code', 'exemplo', 'code', 'porém', 'eu', 'precisei', 'fazer', 'algo', 'parecido', 'em', 'javascript', 'mas', 'não', 'encontrei', 'uma', 'função', 'que', 'fizesse', 'isso', 'nativamente', 'qual', 'é', 'o', 'meio', 'mais', 'simples', 'em', 'javascript', 'de', 'se', 'obter', 'os', 'valores', 'únicos', 'de', 'um', 'code', 'vou', 'deixar', 'esse', 'array', 'de', 'exemplo', 'code', 'qual', 'é', 'o', 'termo', 'correto', 'para', 'uma', 'linguagem', 'totalmente', 'baseada', 'em', 'objetos', 'c', 'e', 'uma', 'linguagem', 'que', 'usa', 'objetos', 'mas', 'não', 'é', 'completamente', 'baseada', 'neles', 'exemplo', 'o', 'vb', 'tem', 'tinha', 'diversas', 'funções', 'que', 'não', 'estavam', 'em', 'objetos', 'e', 'um', 'suporte', 'limitado', 'a', 'oop', 'acho', 'que', 'o', 'c', 'é', 'assim', 'também', 'existem', 'termos', 'certos', 'para', 'isso', 'eu', 'me', 'lembro', 'de', 'ver', 'essa', 'diferença', 'de', 'classificação', 'entre', 'linguagens', 'objectenabled', 'vb', 'e', 'linguagens', 'baseadas', 'em', 'objeto', 'c', 'mas', 'não', 'onde', 'nem', 'quais', 'eram', 'os', 'termos', 'específicos', 'o', 'que', 'é', 'memoization', 'em', 'quais', 'circunstâncias', 'pode', 'ser', 'útil', 'e', 'como', 'utilizar', 'se', 'possível', 'ilustrar', 'com', 'um', 'exemplo', 'simples', 'o', 'que', 'nos', 'ensinam', 'sobre', 'herança', 'a', 'esmagadora', 'maioria', 'dos', 'materiais', 'que', 'tratam', 'sobre', 'herança', 'de', 'classes', 'a', 'exemplificam', 'como', 'um', 'mero', 'mecanismo', 'de', 'agrupamento', 'de', 'atributos', 'ou', 'ações', 'comuns', 'no', 'máximo', 'como', 'um', 'meio', 'de', 'representar', 'uma', 'hierarquia', 'análoga', 'a', 'algo', 'que', 'observamos', 'na', 'vida', 'real', 'como', 'amostra', 'veja', 'esta', 'apostila', 'da', 'unicamp', 'e', 'esta', 'outra', 'da', 'caelum', 'o', 'mesmo', 'se', 'aplica', 'às', 'aulas', 'que', 'assisti', 'sobre', 'o', 'assunto', 'ainda', 'lembro', 'quando', 'aprendi', 'que', 'a', 'orientação', 'a', 'objetos', 'possibilita', 'representarmos', 'o', 'que', 'vemos', 'na', 'vida', 'real', 'a', 'herança', 'é', 'comumente', 'definida', 'como', 'um', 'relacionamento', 'do', 'tipo', 'é', 'um', 'exemplos', 'clássicos', 'como', 'code', 'e', 'code', 'estendem', 'code', 'ilustram', 'isso', 'o', 'problema', 'é', 'que', 'quando', 'aprendemos', 'dessa', 'forma', 'a', 'nossa', 'preocupação', 'recai', 'em', 'classificar', 'os', 'objetos', 'da', 'vida', 'real', 'para', 'agrupar', 'em', 'hierarquias', 'e', 'então', 'procurar', 'atributos', 'e', 'ações', 'comuns', 'para', 'colocarmos', 'na', 'superclasse', 'posso', 'dizer', 'que', 'passei', 'muito', 'tempo', 'usando', 'herança', 'como', 'forma', 'de', 'agrupar', 'coisas', 'parecidas', 'e', 'evitar', 'repetição', 'de', 'código', 'não', 'considerando', 'pontos', 'importantes', 'como', 'acoplamento', 'e', 'coesão', 'herança', 'na', 'prática', 'contudo', 'parece', 'que', 'na', 'prática', 'isso', 'simplesmente', 'não', 'funciona', 'tão', 'bem', 'como', 'na', 'teoria', 'como', 'exemplificado', 'na', 'questão', 'prefira', 'composição', 'em', 'vez', 'de', 'herança', 'a', 'excelente', 'resposta', 'aceita', 'diz', 'somente', 'use', 'herança', 'se', 'o', 'subtipo', 'puder', 'perfeitamente', 'substituir', 'o', 'tipo', 'base', 'essa', 'afirmação', 'que', 'considero', 'correta', 'nos', 'leva', 'à', 'consequência', 'lógica', 'que', 'de', 'que', 'o', 'exemplo', 'dos', 'bichos', 'não', 'representa', 'adequadamente', 'o', 'modo', 'como', 'devemos', 'encarar', 'a', 'herança', 'code', 'é', 'um', 'code', 'mas', 'cada', 'code', 'exibe', 'um', 'comportamento', 'muito', 'distinto', 'dos', 'demais', 'code', 'não', 'é', 'exatamente', 'uma', 'especialização', 'de', 'code', 'ou', 'seja', 'um', 'code', 'que', 'tem', 'alguma', 'coisa', 'a', 'mais', 'ele', 'é', 'um', 'tipo', 'único', 'de', 'code', 'que', 'dificilmente', 'pode', 'ser', 'substituído', 'por', 'outro', 'sem', 'impacto', 'como', 'foi', 'explicado', 'na', 'resposta', 'citada', 'usar', 'a', 'herança', 'simplesmente', 'para', 'exibir', 'um', 'comportamento', 'comum', 'ou', 'reaproveitar', 'código', 'não', 'é', 'em', 'geral', 'uma', 'solução', 'adequada', 'para', 'isso', 'existem', 'interfaces', 'e', 'delegação', 'conclusão', 'enfim', 'minha', 'dúvida', 'é', 'existem', 'situações', 'onde', 'seria', 'apropriado', 'usar', 'a', 'herança', 'simplesmente', 'para', 'agrupar', 'objetos', 'com', 'comportamentos', 'e', 'atributos', 'comuns', 'ou', 'ainda', 'para', 'criar', 'hierarquias', 'de', 'objetos', 'que', 'representam', 'a', 'vida', 'real', 'se', 'possível', 'dê', 'um', 'exemplo', 'pergunta', 'bônus', 'será', 'que', 'vale', 'a', 'pena', 'começar', 'a', 'utilizar', 'outros', 'exemplos', 'para', 'herança', 'e', 'não', 'deixar', 'que', 'as', 'pessoas', 'descubram', 'por', 'si', 'mesmas', 'que', 'na', 'prática', 'a', 'coisa', 'não', 'é', 'bem', 'assim', 'atualização', 'considere', 'apropriado', 'ou', 'certo', 'o', 'uso', 'da', 'herança', 'que', 'beneficie', 'o', 'sistema', 'a', 'longo', 'prazo', 'isto', 'é', 'evite', 'problemas', 'de', 'manutenção', 'e', 'evolução', 'do', 'produto', 'por', 'exemplo', 'usar', 'herança', 'para', 'uma', 'hierarquia', 'pode', 'causar', 'um', 'grande', 'problema', 'se', 'os', 'filhos', 'dessa', 'hierarquia', 'passarem', 'a', 'ter', 'características', 'diferentes', 'dos', 'pais', 'e', 'o', 'código', 'polimórfico', 'começar', 'a', 'quebrar', 'ou', 'ficar', 'com', 'vários', 'codes', 'para', 'tratar', 'casos', 'específicos', 'por', 'esmagadora', 'maioria', 'quero', 'dizer', 'quase', 'todos', 'os', 'livros', 'apostilas', 'e', 'aulas', 'que', 'conheço', 'note', 'que', 'não', 'estou', 'dizendo', 'que', 'elas', 'estão', 'totalmente', 'erradas', 'mas', 'que', 'transmitem', 'um', 'aspecto', 'de', 'forma', 'equivocada', 'observação', 'eu', 'entendo', 'que', 'muitos', 'podem', 'considerar', 'esta', 'questão', 'baseada', 'em', 'opiniões', 'se', 'acharem', 'que', 'ela', 'não', 'é', 'adequada', 'ao', 'formato', 'do', 'site', 'comentem', 'que', 'eu', 'ajustarei', 'ou', 'excluirei', 'conforme', 'o', 'caso', 'estive', 'pensando', 'em', 'um', 'algoritmo', 'contra', 'ataques', 'do', 'tipo', 'bruteforce', 'que', 'como', 'vimos', 'no', 'caso', 'do', 'icloud', 'pode', 'gerar', 'grandes', 'dores', 'de', 'cabeça', 'se', 'tratado', 'com', 'indiferença', 'inicialmente', 'eu', 'pensei', 'neste', 'fluxo', 'tentativa', 'de', 'login', 'code', 'darr', 'code', 'darr', 'code', 'darr', 'code', 'code', 'darr', 'code', 'darr', 'code', 'code', 'uma', 'verificação', 'apenas', 'com', 'sessões', 'seria', 'suficiente', 'ou', 'valeria', 'a', 'pena', 'adicionar', 'cookies', 'ou', 'algum', 'outro', 'método', 'de', 'checagem', 'sempre', 'achei', 'que', 'o', 'operador', 'code', 'funcionava', 'apenas', 'como', 'uma', 'forma', 'mais', 'curta', 'para', 'o', 'incremento', 'tradicional', 'por', 'exemplo', 'code', 'ao', 'invés', 'de', 'code', 'mas', 'ao', 'realizar', 'o', 'seguinte', 'experimento', 'code', 'então', 'quando', 'executo', 'code', 'resulta', 'em', 'erro', 'enquanto', 'code', 'compila', 'normalmente', 'diante', 'disso', 'será', 'que', 'é', 'possível', 'afirmar', 'que', 'code', 'na', 'verdade', 'é', 'semelhante', 'a', 'code', 'no', 'java', 'o', 'conceito', 'do', 'trywithresources', 'foi', 'adicionado', 'na', 'linguagem', 'o', 'que', 'é', 'o', 'trywithresources', 'como', 'ele', 'funciona', 'para', 'que', 'ele', 'serve', 'como', 'é', 'que', 'ele', 'é', 'usado', 'que', 'problema', 'ele', 'visa', 'resolver', 'estava', 'estudando', 'alguns', 'exemplos', 'do', 'mysql', 'com', 'php', 'e', 'me', 'deparei', 'como', 'seguinte', 'trecho', 'de', 'código', 'code', 'pelo', 'que', 'pude', 'perceber', 'ao', 'pesquisar', 'os', 'métodos', 'chamase', 'code', 'mas', 'eu', 'não', 'consegui', 'entender', 'porque', 'isto', 'é', 'utilizado', 'gostaria', 'de', 'saber', 'como', 'funciona', 'e', 'alguns', 'exemplos', 'de', 'situações', 'reais', 'em', 'que', 'isto', 'poderia', 'ser', 'útil', 'estou', 'com', 'duvidas', 'sobre', 'uma', 'certa', 'questão', 'em', 'javascript', 'suponha', 'o', 'seguinte', 'cenário', 'abaixo', 'code', 'nesse', 'caso', 'eu', 'percebi', 'que', 'o', 'meu', 'método', 'code', 'foi', 'meio', 'que', 'sobrescrito', 'não', 'sei', 'se', 'é', 'realmente', 'isso', 'que', 'acontece', 'quando', 'chamamos', 'o', 'mesmo', 'só', 'o', 'teste', 'que', 'é', 'exibido', 'agora', 'as', 'duvidas', 'em', 'relação', 'a', 'isso', 'esse', 'é', 'realmente', 'o', 'comportamento', 'esperado', 'quando', 'declaramos', 'métodos', 'com', 'o', 'mesmo', 'nome', 'e', 'parâmetros', 'no', 'js', 'ele', 'irá', 'sempre', 'sobrescrever', 'e', 'vai', 'prevalecer', 'o', 'último', 'declarado', 'existe', 'alguma', 'explicação', 'para', 'esse', 'comportamento', 'se', 'sim', 'qual', 'é', 'essa', 'explicação', 'existe', 'alguma', 'forma', 'de', 'fazer', 'que', 'gere', 'algum', 'erro', 'ou', 'algo', 'do', 'tipo', 'caso', 'alguém', 'cometa', 'esse', 'equivoco', 'e', 'declare', 'métodos', 'com', 'o', 'mesmo', 'nome', 'e', 'parâmetros', 'caso', 'a', 'tenha', 'alguma', 'maneira', 'de', 'fazer', 'o', 'que', 'fazer', 'caso', 'as', 'funções', 'estejam', 'em', 'arquivos', 'js', 'diferentes', 'geralmente', 'ambos', 'possuem', 'comportamentos', 'similares', 'quando', 'renderizados', 'no', 'navegador', 'se', 'eu', 'abrir', 'um', 'html', 'com', 'isto', 'code', 'ambos', 'não', 'permitem', 'que', 'o', 'usuário', 'altere', 'o', 'texto', 'vejo', 'o', 'exemplo', 'abaixo', 'code', 'então', 'qual', 'a', 'diferença', 'de', 'fato', 'entre', 'os', 'dois', 'tipos', 'de', 'estados', 'e', 'quando', 'eu', 'devo', 'usar', 'cada', 'um', 'deles', 'existem', 'diferentes', 'métodos', 'para', 'concatenar', 'strings', 'como', 'concatenando', 'com', 'o', 'operador', 'code', 'formatando', 'code', 'utilizando', 'o', 'stringbuilder', 'code', 'utilizando', 'o', 'método', 'concat', 'de', 'string', 'code', 'em', 'que', 'situação', 'eu', 'devo', 'utilizar', 'cada', 'uma', 'o', 'que', 'pode', 'ser', 'mais', 'eficiente', 'em', 'cada', 'caso', 'dentro', 'do', 'contexto', 'do', 'desenvolvimento', 'de', 'software', 'o', 'que', 'significa', 'algo', 'ser', 'ortogonal', 'por', 'que', 'é', 'importante', 'seguilo', 'vi', 'em', 'algum', 'comentário', 'aqui', 'no', 'site', 'em', 'alguma', 'pergunta', 'falando', 'sobre', 'code', 'para', 'resolver', 'um', 'problema', 'de', 'autenticação', 'já', 'tinha', 'visto', 'o', 'termo', 'vagamente', 'anteriormente', 'e', 'eu', 'pensava', 'que', 'se', 'tratava', 'de', 'alguma', 'coisa', 'do', 'java', 'hehehe', 'porém', 'dando', 'uma', 'olhada', 'em', 'jwtio', 'percebi', 'que', 'se', 'tratava', 'de', 'uma', 'coisa', 'bem', 'diferente', 'então', 'vou', 'perguntar', 'o', 'que', 'é', 'jwt', 'é', 'uma', 'biblioteca', 'uma', 'especificação', 'para', 'que', 'serve', 'em', 'primeiro', 'lugar', 'peço', 'desculpas', 'pelo', 'texto', 'longo', 'e', 'pelos', 'vários', 'pontos', 'perguntados', 'achei', 'melhor', 'lançar', 'todos', 'em', 'uma', 'pergunta', 'só', 'porque', 'são', 'interrelacionados', 'e', 'porque', 'penso', 'que', 'qualquer', 'pessoa', 'com', 'experiência', 'no', 'tipo', 'de', 'aplicativo', 'descrito', 'um', 'cliente', 'android', 'que', 'mantém', 'uma', 'conexão', 'socket', 'contínua', 'recebendo', 'e', 'enviando', 'dados', 'é', 'capaz', 'de', 'dar', 'sua', 'opinião', 'a', 'respeito', 'de', 'todos', 'ou', 'maioria', 'desses', 'pontos', 'basicamente', 'estou', 'precisando', 'tomar', 'decisões', 'de', 'design', 'e', 'tenho', 'dúvidas', 'sobre', 'como', 'seria', 'a', 'maneira', 'recomendada', 'android', 'de', 'fazer', 'estou', 'tentando', 'definir', 'qual', 'seria', 'o', 'esqueleto', 'mínimo', 'necessário', 'para', 'se', 'ter', 'um', 'aplicativo', 'dsse', 'tipo', 'isto', 'é', 'que', 'se', 'conecte', 'a', 'um', 'servidor', 'via', 'socket', 'websocket', 'socketio', 'tcp', 'etc', 'e', 'possa', 'trocar', 'mensagens', 'com', 'ele', 'não', 'tenho', 'um', 'exemplo', 'de', 'uso', 'específico', 'chat', 'não', 'é', 'um', 'desses', 'exemplos', 'porque', 'nesse', 'caso', 'o', 'ideal', 'seria', 'usar', 'push', 'notification', 'essa', 'conexão', 'não', 'deve', 'estar', 'atrelada', 'às', 'code', 'do', 'aplicativo', 'isto', 'é', 'as', 'mensagens', 'podem', 'ser', 'recebidas', 'mesmo', 'depois', 'do', 'usuário', 'ter', 'saído', 'do', 'aplicativo', 'perguntas', 'que', 'estou', 'tentando', 'responder', 'é', 'recomendado', 'delegar', 'o', 'gerenciamento', 'da', 'conexão', 'conectar', 'desconectar', 'e', 'o', 'envio', 'de', 'mensagens', 'para', 'uma', 'classe', 'separada', 'por', 'exemplo', 'um', 'singleton', 'o', 'uso', 'de', 'broadcasts', 'para', 'passar', 'uma', 'mensagem', 'recebida', 'para', 'a', 'code', 'atual', 'parece', 'ser', 'a', 'escolha', 'apropriada', 'no', 'caso', 'de', 'uma', 'arquitetura', 'de', 'aplicativo', 'relativamente', 'simples', 'alguém', 'discorda', 'seria', 'preferível', 'um', 'event', 'bus', 'ou', 'então', 'acoplamento', 'bind', 'a', 'um', 'serviço', 'é', 'esperado', 'que', 'o', 'sistema', 'mate', 'o', 'processo', 'do', 'aplicativo', 'para', 'liberar', 'memória', 'mas', 'a', 'conexão', 'deve', 'ser', 'reestabelecida', 'assim', 'que', 'houver', 'memória', 'disponível', 'para', 'isso', 'qual', 'a', 'melhor', 'forma', 'de', 'fazer', 'isso', 'agendar', 'checagens', 'periódicas', 'da', 'conexão', 'via', 'code', 'não', 'me', 'parece', 'apropriado', 'e', 'nem', 'usar', 'code', 'que', 'além', 'de', 'não', 'garantir', 'que', 'o', 'processo', 'seja', 'morto', 'apenas', 'torna', 'isso', 'menos', 'provável', 'de', 'acontecer', 'ainda', 'exibe', 'ao', 'usuário', 'uma', 'incômoda', 'notificação', 'de', 'que', 'o', 'aplicativo', 'está', 'em', 'execução', 'que', 'ainda', 'por', 'cima', 'se', 'for', 'clicada', 'leva', 'a', 'uma', 'tela', 'oferecendo', 'a', 'opção', 'de', 'encerrar', 'o', 'aplicativo', 'achei', 'que', 'retornar', 'code', 'no', 'método', 'code', 'poderia', 'ajudar', 'nesse', 'sentido', 'mas', 'ele', 'não', 'parece', 'ser', 'feito', 'para', 'isso', 'não', 'estou', 'certo', 'de', 'como', 'deve', 'funcionar', 'o', 'reestabelecimento', 'de', 'conexão', 'a', 'fim', 'de', 'processar', 'a', 'fila', 'de', 'mensagens', 'a', 'enviar', 'suponho', 'que', 'envolve', 'ouvir', 'o', 'broadcast', 'code', 'ou', 'então', 'um', 'evento', 'de', 'conexão', 'reestabelecida', 'qual', 'a', 'melhor', 'forma', 'de', 'fazer', 'isso', 'garantindo', 'que', 'o', 'aplicativo', 'tente', 'enviar', 'as', 'mensagens', 'quando', 'possível', 'após', 'haver', 'consenso', 'a', 'respeito', 'da', 'modelagem', 'do', 'aplicativo', 'creio', 'que', 'será', 'necessário', 'incluir', 'wake', 'locks', 'ao', 'código', 'para', 'evitar', 'que', 'o', 'aparelho', 'entre', 'em', 'sleep', 'mode', 'enquanto', 'processa', 'mensagens', 'recebidas', 'ou', 'colocadas', 'na', 'fila', 'de', 'envio', 'porém', 'não', 'tenho', 'certeza', 'de', 'em', 'qual', 'parte', 'do', 'código', 'incluilas', 'e', 'gostaria', 'de', 'recomendações', 'para', 'isso', 'tenho', 'também', 'as', 'seguintes', 'considerações', 'adicionais', 'a', 'uma', 'vez', 'a', 'conexão', 'estabelecida', 'o', 'aparelho', 'pode', 'entrar', 'em', 'sleep', 'mode', 'tranquilamente', 'que', 'a', 'chegada', 'de', 'dados', 'irá', 'acordálo', 'porém', 'não', 'é', 'garantido', 'que', 'esses', 'dados', 'sejam', 'processados', 'em', 'sua', 'completude', 'sem', 'uma', 'wake', 'lock', 'antes', 'do', 'aparelho', 'voltar', 'a', 'dormir', 'b', 'se', 'o', 'aplicativo', 'estiver', 'adormecido', 'e', 'a', 'conexão', 'se', 'tornar', 'disponível', 'um', 'requisito', 'desejável', 'pode', 'ser', 'que', 'a', 'fila', 'de', 'mensagens', 'a', 'enviar', 'seja', 'processada', 'em', 'sua', 'completude', 'antes', 'do', 'aparelho', 'voltar', 'a', 'dormir', 'não', 'tenho', 'a', 'certeza', 'de', 'onde', 'devo', 'adicionar', 'a', 'wake', 'lock', 'nesse', 'caso', 'c', 'mesmo', 'que', 'a', 'biblioteca', 'que', 'trabalha', 'com', 'o', 'protocolo', 'de', 'comunicação', 'escolhido', 'esteja', 'preparada', 'para', 'funcionar', 'com', 'android', 'isto', 'é', 'gerencie', 'a', 'entradasaída', 'em', 'um', 'ou', 'mais', 'threads', 'secundários', 'e', 'não', 'no', 'thread', 'de', 'ui', 'pode', 'ser', 'que', 'ela', 'esteja', 'programada', 'para', 'executar', 'seus', 'callbacks', 'em', 'particular', 'o', 'callback', 'que', 'recebe', 'mensagens', 'no', 'thread', 'de', 'ui', 'isso', 'pode', 'afetar', 'a', 'maneira', 'como', 'disponho', 'as', 'wake', 'locks', 'no', 'meu', 'código', 'há', 'a', 'necessidade', 'de', 'manter', 'um', 'thread', 'ativo', 'em', 'loop', 'contínuo', 'para', 'manter', 'a', 'conexão', 'aberta', 'como', 'posso', 'evitar', 'isso', 'agradeço', 'a', 'qualquer', 'feedback', 'lancei', 'essa', 'pergunta', 'também', 'no', 'so', 'em', 'inglês', 'estive', 'procurando', 'a', 'respeito', 'desse', 'termo', 'e', 'não', 'compreendi', 'muito', 'bem', 'a', 'função', 'desse', 'profissional', 'de', 'ti', 'o', 'que', 'é', 'um', 'full', 'stack', 'web', 'developer', 'em', 'orientação', 'a', 'objetos', 'qual', 'é', 'o', 'significado', 'de', 'uma', 'classe', 'abstrata', 'qual', 'é', 'a', 'sua', 'finalidade', 'pense', 'em', 'uma', 'classe', 'grande', 'um', 'cadastro', 'completo', 'de', 'cliente', 'por', 'exemplo', 'tem', 'uma', 'quantidade', 'enorme', 'de', 'atributos', 'nele', 'muitos', 'deles', 'precisam', 'ser', 'inicializados', 'na', 'construção', 'do', 'objeto', 'para', 'o', 'objeto', 'ser', 'válido', 'e', 'de', 'antemão', 'não', 'sabe', 'se', 'todos', 'estão', 'válidos', 'ou', 'se', 'o', 'uso', 'conjunto', 'deles', 'torna', 'o', 'objeto', 'válido', 'o', 'objeto', 'pode', 'ser', 'usado', 'em', 'diversos', 'contextos', 'da', 'aplicação', 'poderíamos', 'fazer', 'um', 'construtor', 'com', 'todos', 'os', 'parâmetros', 'necessários', 'e', 'ele', 'valida', 'tudo', 'e', 'decide', 'se', 'conclui', 'a', 'construção', 'ou', 'não', 'um', 'construtor', 'só', 'com', 'o', 'básico', 'para', 'criar', 'o', 'objeto', 'e', 'depois', 'deixar', 'colocar', 'valor', 'em', 'outros', 'atributos', 'validando', 'individualmente', 'como', 'deve', 'proceder', 'com', 'a', 'invalidade', 'temporária', 'ter', 'um', 'método', 'estático', 'que', 'valide', 'tudo', 'antes', 'de', 'chamar', 'o', 'construtor', 'para', 'saber', 'que', 'vai', 'construir', 'corretamente', 'criar', 'um', 'objeto', 'temporário', 'de', 'um', 'tipo', 'definido', 'para', 'este', 'propósito', 'e', 'usálo', 'como', 'base', 'para', 'criar', 'o', 'objeto', 'definitivo', 'provavelmente', 'com', 'um', 'construtor', 'que', 'aceite', 'este', 'objeto', 'e', 'saiba', 'o', 'que', 'fazer', 'este', 'objeto', 'aceitaria', 'os', 'atributos', 'incrementalmente', 'e', 'poderia', 'validar', 'em', 'determinado', 'momento', 'para', 'poder', 'ser', 'usado', 'no', 'objeto', 'real', 'alguma', 'outra', 'forma', 'eu', 'imagino', 'que', 'todas', 'podem', 'ser', 'úteis', 'em', 'alguma', 'situação', 'específica', 'ainda', 'que', 'algumas', 'de', 'forma', 'bem', 'rara', 'e', 'praticamente', 'para', 'contornar', 'alguma', 'outra', 'deficiência', 'quais', 'as', 'vantagens', 'e', 'desvantagens', 'de', 'cada', 'abordagem', 'e', 'em', 'que', 'cenário', 'escolher', 'cada', 'uma', 'referência', 'para', 'que', 'serve', 'um', 'construtor', 'eu', 'vejo', 'cada', 'um', 'usando', 'de', 'um', 'jeito', 'eu', 'mesmo', 'vario', 'a', 'forma', 'em', 'alguns', 'momentos', 'e', 'todos', 'funcionam', 'mas', 'qual', 'é', 'o', 'certo', 'depende', 'de', 'versão', 'do', 'html', 'ou', 'do', 'browser', 'é', 'comum', 'em', 'muitos', 'sistemas', 'ao', 'inserir', 'o', 'usuário', 'e', 'a', 'senha', 'incorreta', 'o', 'sistema', 'nos', 'informar', 'que', 'um', 'deles', 'está', 'errado', 'mas', 'não', 'exatamente', 'qual', 'isso', 'acontece', 'também', 'aqui', 'no', 'stack', 'overflow', 'isto', 'acontece', 'para', 'proteger', 'os', 'dados', 'ou', 'poderíamos', 'dizer', 'que', 'é', 'porque', 'é', 'mais', 'fácil', 'fazer', 'dessa', 'forma', 'hoje', 'em', 'sistemas', 'como', 'o', 'google', 'e', 'a', 'microsoft', 'é', 'diferente', 'do', 'passado', 'agora', 'primeiro', 'pedem', 'o', 'login', 'e', 'só', 'se', 'estiver', 'correto', 'pedem', 'a', 'senha', 'dúvidas', 'como', 'é', 'feita', 'a', 'randomização', 'pelo', 'computador', 'qual', 'algorítimo', 'ou', 'qual', 'base', 'matemática', 'o', 'computador', 'usa', 'para', 'gerar', 'esses', 'números', 'por', 'exemplo', 'no', 'javascript', 'utilizo', 'o', 'code', 'ele', 'me', 'retorna', 'diferentes', 'números', 'todas', 'as', 'vezes', 'como', 'por', 'exemplo', 'code', 'e', 'etc', 'qual', 'a', 'diferença', 'entre', 'code', 'e', 'code', 'que', 'tipo', 'de', 'situação', 'devo', 'utilizar', 'uma', 'code', 'invés', 'de', 'uma', 'code', 'qual', 'é', 'a', 'diferença', 'entre', 'aspas', 'simples', 'e', 'aspas', 'duplas', 'em', 'php', 'ontem', 'estava', 'a', 'trabalhar', 'com', 'uma', 'string', 'de', 'um', 'json', 'do', 'google', 'calendar', 'usei', 'code', 'para', 'separar', 'uma', 'string', 'quando', 'usei', 'o', 'explode', 'em', 'code', 'com', 'code', 'deume', 'code', 'quando', 'usei', 'o', 'explode', 'em', 'code', 'com', 'code', 'deume', 'code', 'o', 'descrito', 'em', 'cima', 'foi', 'só', 'um', 'exemplo', 'prático', 'com', 'que', 'me', 'deparei', 'seria', 'interessante', 'saber', 'quais', 'são', 'as', 'diferenças', 'em', 'php', 'entre', 'code', 'e', 'code', 'pelas', 'pesquisas', 'tive', 'o', 'conhecimento', 'que', 'as', 'views', 'em', 'sql', 'são', 'como', 'tabelas', 'virtuais', 'resultados', 'de', 'pesquisas', 'armazenadas', 'de', 'acesso', 'frequente', 'a', 'ws', 'define', 'essencialmente', 'como', 'tabela', 'virtual', 'há', 'que', 'diga', 'que', 'views', 'são', 'pesquisas', 'armazenadas', 'dúvidas', 'o', 'que', 'são', 'views', 'quais', 'vantagens', 'e', 'desvantagens', 'em', 'utilizar', 'assumindo', 'que', 'são', 'tabelas', 'virtuais', 'eu', 'gostaria', 'de', 'saber', 'se', 'elas', 'são', 'sempre', 'carregadas', 'na', 'altura', 'em', 'que', 'o', 'servidor', 'de', 'base', 'de', 'dados', 'arranca', 'e', 'sempre', 'que', 'alguma', 'das', 'tabelas', 'envolvidasrelacionadas', 'a', 'esta', 'view', 'sofrer', 'uma', 'atualização', 'a', 'view', 'sofre', 'de', 'igual', 'modo', 'se', 'for', 'apenas', 'uma', 'consulta', 'que', 'diferença', 'terá', 'com', 'storedprocedure', 'o', 'que', 'é', 'paradigma', 'existe', 'algum', 'mais', 'importante', 'que', 'outro', 'é', 'a', 'mesma', 'coisa', 'que', 'design', 'pattern', 'padrão', 'de', 'projeto', 'é', 'o', 'mesmo', 'que', 'idioma', 'conforme', 'a', 'especificação', 'do', 'java', 'grande', 'parte', 'da', 'api', 'do', 'swing', 'não', 'é', 'threadsafe', 'e', 'deve', 'rodar', 'na', 'event', 'dispatch', 'thread', 'como', 'após', 'inicializar', 'o', 'gui', 'os', 'eventos', 'são', 'disparados', 'de', 'dentro', 'da', 'própria', 'edt', 'a', 'não', 'ser', 'que', 'você', 'esteja', 'usando', 'threads', 'em', 'background', 'que', 'precisam', 'atualizar', 'a', 'ui', 'isso', 'não', 'costuma', 'ser', 'um', 'problema', 'porém', 'como', 'o', 'método', 'code', 'roda', 'em', 'sua', 'própria', 'thread', 'inicial', 'é', 'comum', 'o', 'uso', 'de', 'code', 'para', 'despachar', 'a', 'exibição', 'da', 'gui', 'para', 'a', 'edt', 'code', 'veja', 'que', 'após', 'exibir', 'a', 'tela', 'o', 'método', 'code', 'não', 'executa', 'mais', 'nada', 'na', 'teoria', 'nenhum', 'código', 'concorrente', 'à', 'edt', 'parece', 'ser', 'executado', 'na', 'thread', 'principal', 'minha', 'dúvida', 'é', 'existe', 'um', 'motivo', 'para', 'termos', 'que', 'despachar', 'a', 'criação', 'da', 'tela', 'para', 'a', 'edt', 'na', 'stack', 'overflow', 'em', 'inglês', 'encontrei', 'uma', 'referência', 'que', 'aponta', 'para', 'a', 'documentação', 'dizendo', 'que', 'a', 'thread', 'inicial', 'não', 'deve', 'criar', 'o', 'gui', 'pois', 'quase', 'todo', 'o', 'código', 'que', 'cria', 'ou', 'interage', 'com', 'componentes', 'swing', 'deve', 'rodar', 'na', 'edt', 'esse', 'dias', 'porém', 'vi', 'o', 'código', 'de', 'uma', 'aplicação', 'que', 'está', 'rodando', 'a', 'quase', 'anos', 'em', 'produção', 'esse', 'código', 'cria', 'e', 'exibe', 'a', 'code', 'principal', 'diretamente', 'do', 'code', 'nunca', 'houve', 'nenhum', 'problema', 'reportado', 'sobre', 'o', 'funcionamento', 'dessa', 'aplicação', 'nesse', 'sentido', 'quais', 'seriam', 'os', 'problemas', 'de', 'concorrência', 'possíveis', 'se', 'não', 'usarmos', 'code', 'o', 'que', 'ficará', 'rodando', 'na', 'thread', 'principal', 'e', 'o', 'que', 'ficará', 'rodando', 'na', 'edt', 'eg', 'a', 'code', 'principal', 'fica', 'na', 'thread', 'principal', 'mas', 'seus', 'eventos', 'vão', 'para', 'a', 'edt', 'frequentemente', 'precisamos', 'aceitar', 'a', 'entrada', 'de', 'senhas', 'por', 'parte', 'dos', 'usuários', 'em', 'geral', 'não', 'podemos', 'aceitar', 'uma', 'senha', 'qualquer', 'que', 'pode', 'ser', 'facilmente', 'atacada', 'provavelmente', 'por', 'brute', 'force', 'força', 'bruta', 'ou', 'técnicas', 'semelhantes', 'é', 'óbvio', 'que', 'a', 'senha', 'deveria', 'ter', 'um', 'tamanho', 'mínimo', 'deveria', 'ter', 'variedade', 'de', 'caracteres', 'não', 'pode', 'ser', 'semelhante', 'ao', 'nome', 'de', 'usuário', 'e', 'quem', 'sabe', 'outros', 'dados', 'eu', 'imagino', 'que', 'a', 'força', 'da', 'senha', 'não', 'é', 'medida', 'por', 'uma', 'simples', 'verificação', 'se', 'existe', 'todos', 'esses', 'critérios', 'todos', 'juntos', 'podem', 'tornar', 'a', 'senha', 'muito', 'segura', 'mas', 'excessivamente', 'difícil', 'de', 'ser', 'determinada', 'por', 'um', 'humano', 'mas', 'como', 'calcular', 'a', 'força', 'existe', 'algum', 'algoritmo', 'padrão', 'conhecido', 'que', 'estabeleça', 'isto', 'se', 'não', 'existe', 'o', 'que', 'deve', 'ser', 'observado', 'o', 'java', 'será', 'lançado', 'em', 'breve', 'março', 'de', 'e', 'a', 'principal', 'feature', 'desta', 'versão', 'são', 'as', 'expressões', 'lambda', 'alguém', 'poderia', 'descrever', 'como', 'diz', 'a', 'pergunta', 'o', 'que', 'este', 'recurso', 'vai', 'agregar', 'na', 'prática', 'para', 'os', 'desenvolvedores', 'e', 'se', 'possível', 'algum', 'exemplo', 'de', 'código', 'comentado', 'ultimamente', 'tenho', 'vários', 'exemplos', 'de', 'repository', 'pattern', 'homemade', 'nas', 'questões', 'sobre', 'entity', 'framework', 'porém', 'o', 'entity', 'framework', 'já', 'implementa', 'um', 'repository', 'pattern', 'que', 'no', 'caso', 'é', 'o', 'unit', 'of', 'work', 'muitos', 'destes', 'repositórios', 'atuam', 'como', 'um', 'falso', 'repositório', 'que', 'encapsula', 'o', 'repositório', 'verdadedbcontent', 'para', 'executar', 'operações', 'básicas', 'como', 'getall', 'atualizar', 'inserir', 'etc', 'desta', 'forma', 'não', 'consigo', 'ver', 'benefícios', 'neste', 'tipo', 'de', 'implementação', 'podendo', 'até', 'trazer', 'uma', 'complexibilidade', 'maior', 'ao', 'projeto', 'em', 'si', 'seria', 'repository', 'pattern', 'um', 'novo', 'hungarian', 'notation', 'onde', 'muitos', 'programadores', 'ainda', 'colocam', 'abreviações', 'do', 'type', 'como', 'prefixo', 'da', 'variável', 'em', 'linguagens', 'com', 'oo', 'quando', 'este', 'tipo', 'de', 'notação', 'deveria', 'mencionar', 'a', 'natureza', 'da', 'variável', 'como', 'prefixo', 'e', 'é', 'desnecessária', 'em', 'linguagens', 'oo', 'talvez', 'eu', 'não', 'esteja', 'conseguindo', 'ver', 'fora', 'da', 'caixa', 'então', 'gostaria', 'de', 'exemplos', 'com', 'repository', 'pattern', 'que', 'agregem', 'valor', 'creio', 'que', 'a', 'maioria', 'aqui', 'conhece', 'a', 'diferença', 'entre', 'code', 'e', 'code', 'select', 'readonly', 'o', 'code', 'não', 'se', 'aplica', 'corretamente', 'para', 'o', 'code', 'code', 'como', 'podem', 'ver', 'eu', 'ainda', 'consigo', 'alterar', 'o', 'valor', 'do', 'code', 'select', 'disabled', 'o', 'que', 'não', 'ocorre', 'com', 'o', 'code', 'que', 'de', 'fato', 'bloqueia', 'o', 'select', 'code', 'aqui', 'eu', 'não', 'consigo', 'editar', 'mas', 'ele', 'também', 'são', 'é', 'enviado', 'pelo', 'formulário', 'objetivo', 'eu', 'necessito', 'enviar', 'o', 'conteúdo', 'do', 'select', 'pelo', 'formulário', 'mas', 'o', 'usuário', 'não', 'pode', 'editálo', 'seu', 'conteúdo', 'é', 'auto', 'selecionado', 'por', 'outros', 'fatores', 'duvida', 'como', 'bloquear', 'o', 'code', 'mas', 'ainda', 'enviar', 'seu', 'valor', 'pelo', 'code', 'seria', 'possível', 'sem', 'uso', 'de', 'js', 'adendo', 'desta', 'forma', 'eu', 'tenho', 'o', 'que', 'quero', 'mas', 'gostaria', 'de', 'um', 'método', 'mais', 'elegante', 'aqui', 'ele', 'ainda', 'consegue', 'ver', 'as', 'opções', 'code', 'no', 'php', 'podemos', 'suprimir', 'erros', 'utilizando', 'o', 'code', 'antes', 'de', 'determinadas', 'expressões', 'isso', 'pode', 'ser', 'visto', 'em', 'qual', 'a', 'funo', 'do', 'no', 'inicio', 'de', 'expresses', 'em', 'php', 'já', 'assisti', 'alguns', 'hangouts', 'sobre', 'php', 'e', 'o', 'pessoal', 'estava', 'criticando', 'a', 'utilização', 'do', 'code', 'no', 'php', 'pela', 'tese', 'de', 'que', 'um', 'erro', 'deve', 'ser', 'tratado', 'e', 'não', 'escondido', 'o', 'problema', 'é', 'que', 'algumas', 'funções', 'do', 'php', 'retornam', 'as', 'vezes', 'mensagens', 'indesejadas', 'como', 'no', 'caso', 'do', 'code', 'que', 'ao', 'não', 'encontrar', 'o', 'arquivo', 'para', 'deletar', 'emite', 'um', 'code', 'nesse', 'caso', 'eu', 'sempre', 'utilizo', 'o', 'code', 'por', 'exemplo', 'code', 'pois', 'com', 'o', 'code', 'o', 'erro', 'será', 'suprimido', 'e', 'apenas', 'retornará', 'code', 'caso', 'haja', 'alguma', 'falha', 'e', 'isso', 'é', 'explicado', 'na', 'resposta', 'do', 'rray', 'eu', 'tenho', 'algumas', 'perguntas', 'a', 'fazer', 'a', 'respeito', 'dessa', 'prática', 'do', 'ponto', 'de', 'vista', 'do', 'desenvolvimento', 'eu', 'deveria', 'utilizar', 'um', 'code', 'arroba', 'para', 'casos', 'como', 'da', 'função', 'code', 'ou', 'configurar', 'a', 'exibição', 'de', 'erros', 'para', 'ocultar', 'code', 'ou', 'fazer', 'um', 'code', 'em', 'relação', 'ao', 'uso', 'de', 'code', 'antes', 'de', 'fazer', 'code', 'o', 'arroba', 'pode', 'ser', 'prejudicial', 'para', 'o', 'desempenho', 'de', 'uma', 'aplicação', 'ou', 'o', 'desencorajamento', 'quanto', 'ao', 'uso', 'do', 'code', 'só', 'existe', 'por', 'questões', 'de', 'boas', 'práticas', 'de', 'programação', 'recebe', 'como', 'parâmetro', 'um', 'valor', 'numérico', 'por', 'exemplo', 'ou', 'e', 'tenho', 'uma', 'função', 'que', 'retorna', 'um', 'valor', 'um', 'booleano', 'code', 'se', 'todos', 'os', 'números', 'forem', 'iguais', 'ou', 'code', 'se', 'forem', 'diferentes', 'como', 'procedo', 'com', 'o', 'algoritmo', 'vejo', 'que', 'alguns', 'sites', 'ao', 'definir', 'o', 'code', 'utilizam', 'a', 'unidade', 'code', 'em', 'uma', 'breve', 'pesquisa', 'eu', 'li', 'que', 'é', 'recomendado', 'usar', 'code', 'em', 'fontes', 'por', 'ser', 'melhor', 'do', 'que', 'a', 'unidade', 'code', 'afinal', 'qual', 'seria', 'a', 'unidade', 'certa', 'ao', 'definir', 'o', 'tamanho', 'da', 'fonte', 'e', 'por', 'que', 'os', 'conceitos', 'de', 'erro', 'sintático', 'e', 'semântico', 'são', 'encontrados', 'em', 'livros', 'e', 'outros', 'materiais', 'sobre', 'programação', 'no', 'entanto', 'sempre', 'geram', 'dúvidas', 'para', 'quem', 'está', 'iniciando', 'de', 'forma', 'prática', 'qual', 'a', 'diferença', 'entre', 'erro', 'sintático', 'e', 'semântico', 'estou', 'trabalhando', 'em', 'um', 'site', 'com', 'característica', 'responsiva', 'e', 'nele', 'tenho', 'uma', 'página', 'de', 'promoções', 'e', 'gostaria', 'que', 'as', 'imagens', 'acompanhassem', 'a', 'mudança', 'de', 'tamanho', 'do', 'navegador', 'o', 'tamanho', 'máximo', 'da', 'largura', 'da', 'imagem', 'é', 'px', 'seguindo', 'algumas', 'dicas', 'de', 'companheiros', 'refiz', 'o', 'css', 'e', 'exemplo', 'exibido', 'isoladamente', 'funciona', 'corretamente', 'mas', 'ao', 'inserilo', 'em', 'minhas', 'tabs', 'o', 'mesmo', 'não', 'funciona', 'ficou', 'assim', 'divpage', 'width', 'auto', 'textalign', 'center', 'padding', 'px', 'px', 'img', 'maxwidth', 'o', 'código', 'para', 'exibição', 'code', 'a', 'página', 'pode', 'ser', 'vista', 'aqui', 'página', 'de', 'promoções', 'o', 'código', 'da', 'minha', 'tab', 'está', 'assim', 'tabs', 'uitabs', 'fontfamily', 'open', 'sans', 'sansserif', 'fontsize', 'px', 'lineheight', 'em', 'px', 'marginbottom', 'px', 'padding', 'border', 'none', 'background', 'none', 'widthpx', 'uitabs', 'uihelperreset', 'lineheight', 'em', 'px', 'uitabs', 'uiwidgetcontent', 'color', 'uitabs', 'uitabshide', 'position', 'absolute', 'left', 'em', 'uitabs', 'uitabsnav', 'padding', 'border', 'none', 'uitabs', 'uiwidgetheader', 'uitabs', 'uistateactive', 'background', 'none', 'uitabs', 'uitabsnav', 'li', 'uitabs', 'uitabsnav', 'liuitabsactive', 'float', 'left', 'margin', 'px', 'px', 'padding', 'position', 'relative', 'zindex', 'border', 'none', 'uitabs', 'uitabsnav', 'li', 'a', 'display', 'block', 'padding', 'px', 'px', 'color', 'backgroundcolor', 'fff', 'border', 'px', 'solid', 'eee', 'borderbottom', 'none', 'uitabs', 'uitabsnav', 'liuistateactive', 'a', 'backgroundcolor', 'fff', 'paddingbottom', 'px', 'makes', 'the', 'unselected', 'tabs', 'appear', 'above', 'the', 'border', 'uitabs', 'uitabsnav', 'liuistatedisabled', 'a', 'color', 'important', 'cursor', 'default', 'uitabs', 'uitabspanel', 'padding', 'px', 'px', 'backgroundcolor', 'fff', 'border', 'px', 'solid', 'eee', 'borderradius', 'overflow', 'hidden', 'vejam', 'no', 'tamanho', 'da', 'tab', 'coloquei', 'esse', 'valor', 'para', 'que', 'ela', 'possa', 'ficar', 'expandida', 'code', 'ainda', 'não', 'consegui', 'deixar', 'a', 'imagem', 'responsiva', 'dentro', 'das', 'tabs', 'mesmo', 'seguindo', 'a', 'dica', 'de', 'deixar', 'a', 'div', 'pai', 'com', 'percentagem', 'já', 'encontrei', 'em', 'vários', 'lugares', 'este', 'termo', 'vanilla', 'js', 'ele', 'parece', 'ser', 'citado', 'como', 'um', 'framework', 'mas', 'nos', 'códigos', 'onde', 'ele', 'é', 'citado', 'e', 'no', 'próprio', 'site', 'o', 'código', 'apresentado', 'é', 'puro', 'javascript', 'estou', 'fazendo', 'uma', 'implementação', 'de', 'um', 'jogo', 'em', 'assembly', 'no', 'proteus', 'eu', 'sorteio', 'dois', 'números', 'aleatórios', 'de', 'até', 'e', 'preciso', 'gerar', 'no', 'lcd', 'uma', 'imagem', 'referente', 'aos', 'números', 'que', 'eu', 'gerei', 'exemplo', 'se', 'eu', 'gerar', 'o', 'número', 'a', 'imagem', 'que', 'vai', 'aparecer', 'no', 'display', 'é', 'se', 'eu', 'gerar', 'o', 'número', 'a', 'imagem', 'que', 'vai', 'aparecer', 'no', 'display', 'é', 'implementação', 'foi', 'feita', 'da', 'seguinte', 'maneira', 'code', 'no', 'código', 'escrevi', 'assim', 'para', 'gerar', 'o', 'número', 'aleatório', 'e', 'guardar', 'nas', 'variáveis', 'auxiliares', 'para', 'comparação', 'no', 'final', 'do', 'jogo', 'code', 'eu', 'tenho', 'number', 'e', 'number', 'os', 'valores', 'dos', 'números', 'aleatórios', 'gerados', 'eu', 'fiz', 'da', 'seguinte', 'maneira', 'para', 'buscar', 'o', 'número', 'gerado', 'e', 'armazenar', 'a', 'posição', 'de', 'memória', 'da', 'imagem', 'referente', 'ao', 'número', 'armazeno', 'em', 'bl', 'antes', 'de', 'chamar', 'code', 'o', 'valor', 'para', 'buscar', 'a', 'imagem', 'do', 'number', 'e', 'para', 'a', 'number', 'em', 'ax', 'contém', 'o', 'valor', 'do', 'number', 'code', 'para', 'cada', 'just', 'equals', 'eu', 'chamo', 'assim', 'code', 'mas', 'não', 'acho', 'que', 'é', 'a', 'melhor', 'solução', 'alguém', 'saberia', 'um', 'método', 'mais', 'prático', 'criar', 'uma', 'nova', 'variável', 'e', 'armazenar', 'como', 'fosse', 'um', 'array', 'de', 'posições', 'de', 'memória', 'se', 'eu', 'querer', 'a', 'imagem', 'eu', 'somente', 'iria', 'fazer', 'code', 'ou', 'imagem', 'code', 'algo', 'assim', 'obs', 'sim', 'atualmente', 'eu', 'gerei', 'variáveis', 'para', 'armazenar', 'cada', 'imagem', 'referente', 'a', 'cada', 'número', 'meu', 'editor', 'está', 'até', 'travando', 'pela', 'quantidade', 'de', 'informações', 'no', 'código', 'escrevi', 'linhas', 'só', 'para', 'comparar', 'qual', 'é', 'o', 'número', 'gerado', 'e', 'tive', 'que', 'escrever', 'linhas', 'referente', 'as', 'imagens', 'de', 'cada', 'número', 'ds', 'significa', 'data', 'segment', 'estou', 'tentando', 'implementar', 'o', 'code', 'da', 'google', 'no', 'meu', 'site', 'e', 'não', 'consigo', 'fazer', 'a', 'integração', 'code', 'utilizo', 'a', 'linguagem', 'code', 'como', 'posso', 'fazer', 'para', 'que', 'o', 'code', 'funcione', 'e', 'realize', 'a', 'validação', 'antes', 'enviar', 'os', 'dados', 'do', 'meu', 'formulário', 'fonte', 'e', 'documentação', 'do', 'google', 'recaptcha', 'nesta', 'outra', 'pergunta', 'eu', 'perguntei', 'a', 'mesma', 'coisa', 'mas', 'em', 'relação', 'a', 'java', 'agora', 'pergunto', 'sobre', 'o', 'javascript', 'pelo', 'que', 'eu', 'saiba', 'historicamente', 'o', 'javascript', 'sempre', 'foi', 'interpretado', 'mas', 'o', 'google', 'mudou', 'isso', 'com', 'o', 'v', 'no', 'chromium', 'estou', 'certo', 'ou', 'errado', 'e', 'em', 'relação', 'aos', 'outros', 'browsers', 'como', 'o', 'firefox', 'e', 'ie', 'ainda', 'é', 'interpretado', 'pelo', 'que', 'eu', 'andei', 'lendo', 'os', 'três', 'conceitos', 'são', 'bastante', 'parecidos', 'mas', 'eu', 'fiquei', 'confuso', 'quanto', 'a', 'definição', 'clara', 'e', 'exata', 'deles', 'pelo', 'que', 'eu', 'sei', 'uma', 'expressão', 'lambda', 'por', 'ser', 'entendida', 'como', 'uma', 'função', 'inline', 'ou', 'um', 'procedimento', 'que', 'se', 'passa', 'para', 'outro', 'procedimento', 'como', 'no', 'pseudocódigo', 'abaixo', 'code', 'entretanto', 'o', 'conceito', 'que', 'eu', 'tenho', 'de', 'closure', 'é', 'exatamente', 'o', 'mesmo', 'de', 'cima', 'com', 'duas', 'diferenças', 'por', 'alguma', 'razão', 'parece', 'importante', 'destacar', 'que', 'um', 'closure', 'referencia', 'uma', 'variável', 'fora', 'de', 'seu', 'escopo', 'closures', 'podem', 'ser', 'atribuídos', 'a', 'variáveis', 'e', 'manipulados', 'como', 'se', 'fossem', 'objetos', 'entretanto', 'recentemente', 'andei', 'aprendendo', 'groovy', 'que', 'me', 'apresentou', 'um', 'conceito', 'de', 'closure', 'ligeiramente', 'diferente', 'a', 'groovy', 'closure', 'is', 'like', 'a', 'code', 'block', 'or', 'a', 'method', 'pointer', 'it', 'is', 'a', 'piece', 'of', 'code', 'that', 'is', 'defined', 'and', 'then', 'executed', 'at', 'a', 'later', 'point', 'it', 'has', 'some', 'special', 'properties', 'like', 'implicit', 'variables', 'support', 'for', 'currying', 'and', 'support', 'for', 'free', 'variables', 'which', 'well', 'see', 'later', 'on', 'well', 'ignore', 'the', 'nitty', 'gritty', 'details', 'for', 'now', 'see', 'the', 'formal', 'definition', 'if', 'you', 'want', 'those', 'and', 'look', 'at', 'some', 'simple', 'examples', 'fonte', 'em', 'palavras', 'mais', 'simples', 'um', 'closure', 'é', 'um', 'objeto', 'groovy', 'aliás', 'é', 'um', 'objeto', 'java', 'que', 'se', 'comporta', 'como', 'um', 'bloco', 'de', 'código', 'e', 'um', 'cidadão', 'de', 'primeira', 'classe', 'que', 'pode', 'ser', 'passado', 'como', 'parâmetro', 'para', 'métodos', 'atribuído', 'a', 'variáveis', 'e', 'ter', 'sua', 'assinatura', 'de', 'método', 'redefinida', 'coincidentemente', 'o', 'c', 'apresenta', 'exatamente', 'o', 'mesmo', 'conceito', 'que', 'ele', 'chama', 'de', 'delegate', 'no', 'entanto', 'a', 'descrição', 'dessa', 'feature', 'destaca', 'que', 'um', 'delegate', 'pode', 'ser', 'atribuído', 'a', 'outro', 'método', 'já', 'existente', 'que', 'se', 'conforme', 'com', 'sua', 'assinatura', 'a', 'delegate', 'is', 'a', 'type', 'that', 'safely', 'encapsulates', 'a', 'method', 'similar', 'to', 'a', 'function', 'pointer', 'in', 'c', 'and', 'c', 'unlike', 'c', 'function', 'pointers', 'delegates', 'are', 'objectoriented', 'type', 'safe', 'and', 'secure', 'the', 'type', 'of', 'a', 'delegate', 'is', 'defined', 'by', 'the', 'name', 'of', 'the', 'delegate', 'the', 'following', 'example', 'declares', 'a', 'delegate', 'named', 'del', 'that', 'can', 'encapsulate', 'a', 'method', 'that', 'takes', 'a', 'string', 'as', 'an', 'argument', 'and', 'returns', 'void', 'fonte', 'quais', 'as', 'diferenças', 'entre', 'uma', 'expressão', 'lambda', 'um', 'closure', 'e', 'um', 'delegate', 'em', 'várias', 'aplicações', 'que', 'foram', 'escritas', 'com', 'linguagens', 'fortemente', 'tipadas', 'uma', 'variável', 'geralmente', 'é', 'declarada', 'com', 'seu', 'valor', 'padrão', 'exemplo', 'code', 'entretanto', 'é', 'possível', 'declarálas', 'sem', 'definir', 'um', 'valor', 'inicial', 'desta', 'forma', 'code', 'no', 'caso', 'eu', 'perguntei', 'ao', 'meu', 'professor', 'e', 'ele', 'respondeu', 'que', 'tempos', 'atrás', 'caso', 'não', 'fosse', 'declarado', 'da', 'primeira', 'maneira', 'um', 'número', 'absurdo', 'seria', 'atribuído', 'a', 'variável', 'code', 'code', 'essa', 'premissa', 'é', 'verdadeira', 'caso', 'seja', 'que', 'número', 'é', 'esse', 'o', 'exemplo', 'que', 'demonstrei', 'foi', 'baseado', 'na', 'linguagem', 'c', 'mas', 'eu', 'acredito', 'que', 'a', 'declaração', 'de', 'variáveis', 'deve', 'ser', 'semelhante', 'em', 'outras', 'linguagens', 'isso', 'também', 'ocorreocorreu', 'em', 'outras', 'linguagens', 'a', 'maioria', 'das', 'linguagens', 'de', 'programação', 'possui', 'um', 'tipo', 'nulo', 'para', 'representar', 'a', 'ausência', 'de', 'um', 'valor', 'ela', 'pode', 'possuir', 'vários', 'nomes', 'code', 'code', 'code', 'etc', 'mas', 'seu', 'propósito', 'é', 'o', 'mesmo', 'com', 'exceção', 'do', 'sql', 'onde', 'code', 'quer', 'dizer', 'desconhecido', 'javascript', 'entretanto', 'possui', 'dois', 'tipos', 'distintos', 'code', 'e', 'code', 'qual', 'a', 'diferença', 'entre', 'esses', 'dois', 'tipos', 'noto', 'que', 'nem', 'sempre', 'são', 'usados', 'consistentemente', 'embora', 'em', 'geral', 'também', 'signifiquem', 'ausência', 'de', 'valor', 'de', 'modo', 'que', 'fica', 'difícil', 'saber', 'quando', 'usar', 'um', 'ou', 'outro', 'sei', 'que', 'uma', 'variável', 'que', 'nunca', 'foi', 'atribuída', 'é', 'code', 'bem', 'como', 'um', 'campo', 'não', 'existente', 'em', 'um', 'objeto', 'mas', 'sei', 'também', 'que', 'é', 'possível', 'atribuir', 'manualmente', 'esse', 'valor', 'através', 'de', 'code', 'ou', 'code', 'há', 'alguma', 'razão', 'na', 'prática', 'para', 'se', 'usar', 'um', 'ou', 'outro', 'ou', 'seria', 'melhor', 'usar', 'somente', 'um', 'deles', 'e', 'esquecer', 'que', 'o', 'outro', 'existe', 'e', 'se', 'sim', 'qual', 'misturar', 'os', 'dois', 'no', 'mesmo', 'programa', 'parece', 'tornar', 'mais', 'difícil', 'tratar', 'casos', 'de', 'valor', 'ausente', 'qual', 'seria', 'a', 'melhor', 'abordagem', 'no', 'caso', 'em', 'que', 'isso', 'está', 'fora', 'do', 'seu', 'controle', 'ie', 'bibliotecasframeworks', 'externas', 'usam', 'um', 'ou', 'outro', 'tipo', 'no', 'mesmo', 'script', 'um', 'usuário', 'digitará', 'uma', 'frase', 'e', 'devo', 'mostrar', 'esta', 'frase', 'invertida', 'e', 'em', 'maiúsculo', 'como', 'posso', 'fazer', 'isto', 'code', 'é', 'possível', 'fazer', 'um', 'tooltip', 'com', 'css', 'puro', 'ou', 'seja', 'sem', 'jquery', 'sem', 'javascript', 'mas', 'somente', 'com', 'css', 'por', 'exemplo', 'quero', 'fazer', 'isso', 'baseando', 'no', 'seguinte', 'elemento', 'code', 'o', 'que', 'são', 'e', 'quais', 'as', 'principais', 'diferenças', 'entre', 'programação', 'funcional', 'e', 'programação', 'orientada', 'a', 'objetos', 'quero', 'jogar', 'a', 'data', 'atual', 'num', 'input', 'mas', 'no', 'formato', 'brasileiro', 'ddmmyyyy', 'meu', 'código', 'code', 'tenho', 'uma', 'tabela', 'por', 'exemplo', 'code', 'e', 'gostaria', 'de', 'deletar', 'todas', 'as', 'pessoas', 'acima', 'de', 'anos', 'com', 'o', 'script', 'abaixo', 'faço', 'isso', 'code', 'o', 'problema', 'que', 'existe', 'mais', 'de', 'milhões', 'de', 'registro', 'na', 'tabela', 'com', 'pessoas', 'acima', 'de', 'anos', 'e', 'como', 'o', 'banco', 'esta', 'em', 'produção', 'ao', 'fazer', 'isso', 'vou', 'travar', 'todos', 'os', 'usuários', 'existe', 'uma', 'forma', 'mais', 'eficiente', 'de', 'resolver', 'este', 'problema', 'contexto', 'fui', 'educado', 'na', 'metodologia', 'do', 'processo', 'unificado', 'sei', 'que', 'agile', 'é', 'muito', 'popular', 'hoje', 'em', 'dia', 'mas', 'tenho', 'pouquíssimo', 'conhecimento', 'do', 'processo', 'entendo', 'a', 'filosofia', 'que', 'mudanças', 'são', 'inevitáveis', 'é', 'melhor', 'se', 'preparar', 'pra', 'lidar', 'bem', 'com', 'elas', 'do', 'que', 'tentar', 'evitálas', 'mas', 'isso', 'não', 'é', 'muito', 'consolo', 'quando', 'sou', 'cobrado', 'a', 'apresentar', 'um', 'orçamento', 'mesmo', 'que', 'inicial', 'para', 'um', 'projeto', 'de', 'desenvolvimento', 'pelo', 'up', 'primeiro', 'se', 'orça', 'a', 'elaboração', 'do', 'projeto', 'conceitual', 'que', 'é', 'uma', 'simples', 'questão', 'de', 'estimar', 'o', 'número', 'de', 'horas', 'necessárias', 'para', 'se', 'levantar', 'e', 'analisar', 'todos', 'os', 'requisitos', 'e', 'com', 'poucas', 'consequências', 'negativas', 'caso', 'se', 'erre', 'no', 'julgamento', 'e', 'com', 'base', 'neste', 'se', 'orça', 'o', 'projeto', 'de', 'implementação', 'na', 'teoria', 'parece', 'tudo', 'muito', 'bom', 'mas', 'me', 'falta', 'experiência', 'prática', 'para', 'corroborar', 'essa', 'afirmação', 'problema', 'sei', 'que', 'a', 'resposta', 'correta', 'para', 'como', 'orçar', 'um', 'projeto', 'de', 'software', 'é', 'depende', 'depende', 'do', 'escopo', 'depende', 'dos', 'requisitos', 'específicos', 'depende', 'do', 'cliente', 'mas', 'o', 'fato', 'é', 'que', 'clientes', 'em', 'potencial', 'demandam', 'no', 'mínimo', 'uma', 'previsão', 'preliminar', 'de', 'prazos', 'e', 'custos', 'e', 'às', 'vezes', 'plataforma', 'antes', 'mesmo', 'dos', 'requisitos', 'serem', 'detalhados', 'minha', 'dificuldade', 'é', 'em', 'estabelecer', 'esses', 'parâmetros', 'iniciais', 'ou', 'mesmo', 'ajustar', 'minhas', 'expectativas', 'sobre', 'o', 'que', 'é', 'ou', 'não', 'realizável', 'na', 'prática', 'pergunta', 'quais', 'parâmetros', 'devo', 'observar', 'para', 'fazer', 'um', 'orçamento', 'inicial', 'ou', 'preliminar', 'para', 'um', 'projeto', 'arbitrário', 'de', 'desenvolvimento', 'mais', 'especificamente', 'devo', 'cobrar', 'pelo', 'levantamento', 'inicial', 'de', 'requisitosdefinição', 'do', 'escopo', 'ou', 'esse', 'é', 'um', 'ônus', 'que', 'terei', 'de', 'assumir', 'e', 'se', 'a', 'resposta', 'for', 'não', 'cobrar', 'devo', 'insistir', 'com', 'o', 'cliente', 'que', 'não', 'é', 'possível', 'orçar', 'nada', 'antes', 'de', 'fazer', 'esse', 'levantamento', 'o', 'cliente', 'não', 'vai', 'gostar', 'uma', 'vez', 'que', 'levantar', 'requisitos', 'exige', 'envolvimento', 'de', 'sua', 'equipe', 'também', 'o', 'que', 'lhe', 'traz', 'custos', 'indiretos', 'antes', 'mesmo', 'de', 'ter', 'a', 'certeza', 'que', 'vai', 'mesmo', 'fechar', 'contrato', 'conosco', 'no', 'caso', 'de', 'um', 'projeto', 'de', 'grande', 'escopo', 'embora', 'ainda', 'bastante', 'indefinido', 'devo', 'separálo', 'em', 'um', 'projeto', 'conceitual', 'e', 'um', 'projeto', 'de', 'implementação', 'ou', 'isso', 'é', 'contraproducente', 'esclarecendo', 'projeto', 'conceitual', 'é', 'aquele', 'em', 'que', 'eu', 'faço', 'levantamento', 'e', 'análise', 'de', 'requisitos', 'sendo', 'que', 'o', 'deliverable', 'é', 'uma', 'especificação', 'mais', 'orçamento', 'para', 'a', 'fase', 'de', 'implementação', 'o', 'projeto', 'de', 'implementação', 'esse', 'já', 'feito', 'com', 'bases', 'mais', 'sólidas', 'pode', 'sim', 'ser', 'flexível', 'em', 'relação', 'a', 'mudanças', 'não', 'precisando', 'seguir', 'a', 'especificação', 'a', 'ferro', 'e', 'fogo', 'mas', 'ainda', 'precisa', 'de', 'uma', 'base', 'para', 'ser', 'orçado', 'e', 'essa', 'base', 'seria', 'conseguida', 'através', 'do', 'projeto', 'conceitual', 'por', 'que', 'seria', 'contraproducente', 'não', 'sei', 'apenas', 'é', 'o', 'que', 'sempre', 'ouço', 'dos', 'proponentes', 'do', 'agile', 'que', 'é', 'besteira', 'fazer', 'projeto', 'de', 'grande', 'escala', 'antes', 'de', 'se', 'começar', 'a', 'implementar', 'ao', 'menos', 'um', 'sprint', 'deveria', 'estar', 'previsto', 'que', 'os', 'requisitos', 'mudam', 'o', 'tempo', 'todo', 'e', 'no', 'final', 'pouco', 'do', 'que', 'foi', 'projetado', 'no', 'início', 'será', 'implementado', 'de', 'fato', 'etc', 'em', 'que', 'termos', 'deve', 'ser', 'feito', 'esse', 'orçamento', 'idealmente', 'mudanças', 'nos', 'requisitos', 'deveriam', 'refletir', 'em', 'mudanças', 'nos', 'prazos', 'e', 'custos', 'nisso', 'a', 'turma', 'do', 'up', 'e', 'a', 'turma', 'do', 'agile', 'concordam', 'mas', 'se', 'contratualmente', 'estou', 'obrigado', 'a', 'entregar', 'x', 'no', 'prazo', 'y', 'mediante', 'pagamento', 'de', 'z', 'não', 'me', 'parece', 'viável', 'haver', 'uma', 'mudança', 'contratual', 'toda', 'vez', 'que', 'se', 'fizer', 'uma', 'renegociação', 'de', 'prazos', 'e', 'custos', 'questões', 'jurídicas', 'à', 'parte', 'já', 'que', 'isso', 'está', 'obviamente', 'fora', 'do', 'escopo', 'do', 'site', 'o', 'que', 'eu', 'pergunto', 'é', 'se', 'é', 'melhor', 'fazer', 'um', 'guesstimate', 'de', 'preferência', 'por', 'cima', 'do', 'custo', 'e', 'ir', 'refinando', 'com', 'o', 'passar', 'do', 'tempo', 'porém', 'comprometido', 'com', 'a', 'conclusão', 'do', 'projeto', 'a', 'todo', 'custo', 'ou', 'se', 'devo', 'estabelecer', 'condições', 'para', 'que', 'na', 'impossibilidade', 'de', 'se', 'continuar', 'o', 'projeto', 'dentro', 'dos', 'prazos', 'e', 'custos', 'estabelecidos', 'o', 'mesmo', 'seja', 'encerrado', 'de', 'comum', 'acordo', 'por', 'ambas', 'as', 'partes', 'como', 'fazer', 'isso', 'é', 'claro', 'é', 'responsabilidade', 'do', 'nosso', 'advogado', 'de', 'preferência', 'gostaria', 'de', 'respostas', 'embasadas', 'em', 'experiência', 'pregressa', 'sei', 'que', 'nem', 'todo', 'desenvolvedor', 'está', 'diretamente', 'envolvido', 'com', 'esse', 'tipo', 'de', 'questão', 'mas', 'ao', 'menos', 'os', 'que', 'ocupam', 'uma', 'posição', 'de', 'liderança', 'já', 'devem', 'ter', 'tido', 'que', 'fazer', 'estimativas', 'sob', 'bases', 'incertas', 'e', 'para', 'não', 'ficar', 'muito', 'amplo', 'o', 'ponto', 'central', 'da', 'pergunta', 'é', 'o', 'quanto', 'eu', 'devo', 'assumir', 'de', 'ônus', 'ao', 'estabelecer', 'um', 'escopopreparar', 'uma', 'proposta', 'de', 'graça', 'e', 'quais', 'são', 'os', 'parâmetros', 'mínimos', 'que', 'eu', 'preciso', 'coletar', 'antes', 'de', 'dizer', 'a', 'partir', 'daqui', 'só', 'me', 'pagando', 'sempre', 'utilizei', 'os', 'termos', 'parâmetro', 'e', 'argumento', 'como', 'se', 'fossem', 'sinônimos', 'aquilo', 'que', 'é', 'passado', 'para', 'uma', 'função', 'eou', 'que', 'a', 'função', 'recebe', 'como', 'entrada', 'da', 'mesma', 'forma', 'tenho', 'lido', 'um', 'e', 'outro', 'termo', 'em', 'inglês', 'e', 'português', 'ora', 'sendo', 'usado', 'um', 'ora', 'outro', 'mas', 'não', 'consegui', 'perceber', 'nenhum', 'critério', 'na', 'escolha', 'entre', 'um', 'e', 'outro', 'há', 'diferença', 'entre', 'eles', 'ou', 'são', 'sinônimos', 'mesmo', 'já', 'cheguei', 'a', 'pensar', 'que', 'parâmetro', 'era', 'o', 'único', 'termo', 'correto', 'pois', 'é', 'usado', 'na', 'matemática', 'e', 'que', 'argumento', 'era', 'algum', 'erro', 'de', 'tradução', 'mas', 'depois', 'percebi', 'que', 'não', 'é', 'o', 'caso', 'em', 'inglês', 'também', 'temos', 'parameter', 'e', 'argument', 'qual', 'a', 'forma', 'correta', 'de', 'se', 'usar', 'esses', 'termos', 'se', 'eu', 'tenho', 'um', 'array', 'ou', 'uma', 'coleção', 'em', 'um', 'code', 'e', 'preciso', 'percorrer', 'seus', 'elementos', 'ocasionalmente', 'preciso', 'fazer', 'uso', 'de', 'laço', 'de', 'repetição', 'ex', 'code', 'ou', 'no', 'caso', 'de', 'um', 'array', 'simples', 'code', 'porém', 'já', 'vi', 'em', 'alguns', 'fóruns', 'dizerem', 'que', 'informar', 'o', 'tamanho', 'fora', 'da', 'condição', 'do', 'laço', 'é', 'melhor', 'pois', 'à', 'cada', 'iteração', 'o', 'laço', 'não', 'precisa', 'ficar', 'verificando', 'o', 'tamanho', 'da', 'lista', 'e', 'consequentemente', 'tornando', 'rápido', 'algo', 'como', 'code', 'existe', 'mesmo', 'essa', 'diferença', 'de', 'performance', 'entre', 'se', 'informar', 'o', 'tamanho', 'da', 'lista', 'fora', 'ou', 'na', 'própria', 'condição', 'do', 'laço', 'não', 'encontrei', 'os', 'links', 'no', 'momento', 'eu', 'sempre', 'faço', 'confusão', 'com', 'aplicação', 'web', 'e', 'aplicação', 'desktop', 'não', 'consigo', 'entender', 'muito', 'bem', 'a', 'diferenças', 'de', 'ambas', 'perguntas', 'quais', 'são', 'as', 'diferenças', 'entre', 'aplicação', 'web', 'e', 'aplicação', 'desktop', 'quais', 'são', 'as', 'principais', 'característica', 'de', 'cada', 'um', 'como', 'faço', 'um', 'javascript', 'que', 'mostreesconda', 'uma', 'div', 'em', 'html', 'tentei', 'tipo', 'code', 'mas', 'isso', 'não', 'funcionou', 'como', 'remover', 'acentos', 'e', 'outros', 'sinais', 'gráficos', 'de', 'uma', 'string', 'em', 'java', 'ex', 'code', 'vejam', 'esses', 'testes', 'que', 'fiz', 'no', 'console', 'do', 'navegador', 'code', 'porque', 'exatamente', 'isso', 'acontece', 'quem', 'já', 'criou', 'grandes', 'programas', 'em', 'java', 'sabe', 'de', 'uma', 'dordecabeça', 'muito', 'comum', 'não', 'saber', 'pra', 'onde', 'jogar', 'o', 'fluxo', 'das', 'exceptions', 'muitos', 'resolvem', 'fazer', 'coisas', 'como', 'tratar', 'tudo', 'como', 'exception', 'a', 'superclasse', 'de', 'qualquer', 'exception', 'e', 'quando', 'uma', 'vir', 'dar', 'uma', 'mensagem', 'qualquer', 'ao', 'usuário', 'e', 'jogar', 'a', 'stacktrace', 'num', 'arquivo', 'de', 'log', 'tratar', 'tudo', 'como', 'exception', 'mas', 'dessa', 'vez', 'já', 'que', 'o', 'programa', 'é', 'realmente', 'muito', 'grande', 'e', 'o', 'cliente', 'provavelmente', 'não', 'está', 'olhando', 'para', 'o', 'console', 'imprimir', 'a', 'stacktrace', 'e', 'continuar', 'normalmente', 'avisar', 'o', 'usuário', 'que', 'um', 'erro', 'aconteceu', 'e', 'dar', 'um', 'tratamento', 'genérico', 'entre', 'outros', 'apesar', 'do', 'que', 'eu', 'disse', 'acima', 'estar', 'muito', 'presente', 'no', 'meio', 'profissional', 'essas', 'abordagens', 'acima', 'soam', 'muito', 'pog', 'se', 'essas', 'exceções', 'foram', 'lançadas', 'é', 'porque', 'algo', 'deu', 'errado', 'mas', 'o', 'problema', 'é', 'que', 'numa', 'simples', 'operação', 'pode', 'acontecer', 'tanta', 'coisa', 'que', 'é', 'realmente', 'tedioso', 'dar', 'conta', 'de', 'tudo', 'além', 'do', 'que', 'boa', 'parte', 'dos', 'possíveis', 'erros', 'são', 'extremamente', 'improváveis', 'além', 'do', 'mais', 'o', 'mecanismo', 'de', 'erros', 'do', 'java', 'não', 'é', 'nada', 'preciso', 'uma', 'ioexception', 'foi', 'lançada', 'sim', 'mas', 'na', 'realidade', 'há', 'tantas', 'subclasses', 'que', 'fica', 'difícil', 'saber', 'o', 'que', 'fazer', 'filenotfoundexception', 'eofexception', 'etc', 'se', 'uma', 'ioexception', 'foi', 'lançada', 'como', 'propriamente', 'tratar', 'o', 'erro', 'sem', 'nenhuma', 'especificação', 'do', 'que', 'precisamente', 'aconteceu', 'dentro', 'de', 'tudo', 'isso', 'eu', 'pergunto', 'qual', 'a', 'maneira', 'mais', 'eficiente', 'e', 'elegante', 'de', 'tratar', 'exceptions', 'em', 'java', 'trabalhando', 'em', 'um', 'projeto', 'aqui', 'na', 'empresa', 'me', 'deparei', 'com', 'alguns', 'comandos', 'que', 'estão', 'agora', 'sendo', 'mais', 'utilizados', 'code', 'code', 'code', 'mas', 'até', 'que', 'entendi', 'porém', 'um', 'que', 'me', 'chamou', 'a', 'atenção', 'por', 'desconhecer', 'o', 'que', 'é', 'alguém', 'já', 'viu', 'o', 'seguinte', 'exemplo', 'code', 'quem', 'já', 'viu', 'e', 'sabe', 'a', 'respeito', 'poderia', 'passar', 'uma', 'breve', 'explicação', 'é', 'apenas', 'curiosidade', 'para', 'entender', 'melhor', 'existem', 'outros', 'similares', 'normalmente', 'utilizo', 'code', 'mas', 'vejo', 'na', 'maioria', 'dos', 'formulários', 'o', 'uso', 'do', 'code', 'existe', 'alguma', 'diferença', 'qual', 'é', 'o', 'ideal', 'a', 'ª', 'imagem', 'utilizo', 'o', 'charsetiso', 'nesta', 'ª', 'imagem', 'utilizo', 'o', 'utf', 'tenho', 'um', 'sistema', 'de', 'notícias', 'em', 'que', 'é', 'possível', 'colar', 'html', 'ou', 'texto', 'de', 'outras', 'páginas', 'na', 'página', 'em', 'que', 'as', 'noticias', 'são', 'apresentadas', 'utilizo', 'o', 'code', 'por', 'causa', 'da', 'acentuação', 'mas', 'ao', 'utilizar', 'este', 'charset', 'os', 'menus', 'e', 'restantes', 'títulos', 'ficam', 'alterados', 'devido', 'à', 'acentuçao', 'precisava', 'da', 'vossa', 'ajuda', 'para', 'saber', 'se', 'é', 'possivel', 'ter', 'dois', 'metas', 'charset', 'na', 'mesma', 'página', 'ou', 'numa', 'parte', 'da', 'página', 'ou', 'outra', 'forma', 'de', 'contornar', 'a', 'situção', 'para', 'além', 'disso', 'tenho', 'dois', 'ficheiros', 'de', 'conexao', 'code', 'mysqlphp', 'code', 'recentemente', 'descobri', 'as', 'famosas', 'ou', 'não', 'tão', 'famosas', 'assim', 'funções', 'recursivas', 'e', 'achei', 'bem', 'interessante', 'o', 'conceito', 'porém', 'ao', 'longo', 'da', 'minha', 'leitura', 'me', 'surgiram', 'algumas', 'dúvidas', 'com', 'relação', 'ao', 'uso', 'de', 'tal', 'ª', 'qual', 'a', 'vantagem', 'de', 'usarmos', 'uma', 'função', 'recursiva', 'pois', 'eu', 'não', 'consigo', 'entender', 'a', 'vantagem', 'disto', 'code', 'sobre', 'isto', 'code', 'ª', 'como', 'fica', 'o', 'consumo', 'de', 'memória', 'pois', 'pelo', 'que', 'eu', 'entendi', 'uma', 'função', 'recursiva', 'é', 'executada', 'dentro', 'de', 'outra', 'função', 'fazendo', 'então', 'um', 'laço', 'de', 'repetição', 'dependendo', 'do', 'tamanho', 'do', 'cálculo', 'o', 'uso', 'de', 'uma', 'função', 'recursiva', 'poderia', 'prejudicar', 'o', 'desempenho', 'da', 'minha', 'aplicação', 'ª', 'eu', 'devo', 'utilizar', 'uma', 'função', 'recursiva', 'ao', 'invés', 'de', 'um', 'loop', 'de', 'repetição', 'comum', 'eg', 'code', 'quais', 'seriam', 'as', 'situações', 'ideais', 'para', 'o', 'uso', 'de', 'funções', 'recursivas', 'na', 'pergunta', 'do', 'meta', 'tags', 'diferentes', 'para', 'quottestesquot', 'eu', 'notei', 'que', 'tenho', 'alguma', 'dificuldade', 'para', 'entender', 'todos', 'estes', 'termos', 'sobre', 'testes', 'certamente', 'testes', 'passaram', 'ser', 'muito', 'importantes', 'ao', 'longo', 'da', 'trajetória', 'do', 'desenvolvimento', 'de', 'software', 'com', 'isto', 'proliferam', 'conceitos', 'e', 'a', 'sopa', 'de', 'letrinhas', 'está', 'cada', 'vez', 'maior', 'o', 'que', 'diferencia', 'os', 'conceitos', 'envolvidos', 'em', 'testes', 'as', 'siglas', 'e', 'as', 'definições', 'formais', 'são', 'fácil', 'de', 'descobrir', 'teste', 'de', 'software', 'testes', 'unitários', 'ou', 'unidade', 'de', 'testes', 'há', 'diferença', 'testes', 'funcionais', 'tdd', 'quality', 'assurance', 'acceptance', 'testing', 'existe', 'algum', 'outro', 'termo', 'relacionado', 'que', 'seja', 'muito', 'importante', 'para', 'ser', 'destacado', 'suponha', 'que', 'eu', 'tenha', 'uma', 'base', 'de', 'dados', 'enorme', 'que', 'não', 'caiba', 'na', 'memória', 'ram', 'quais', 'estratégias', 'para', 'analisar', 'esta', 'base', 'de', 'dados', 'no', 'r', 'uma', 'vez', 'que', 'não', 'posso', 'carregála', 'inteiramente', 'na', 'memória', 'ps', 'a', 'pergunta', 'não', 'trata', 'somente', 'de', 'como', 'fazer', 'o', 'r', 'conversar', 'com', 'uma', 'base', 'de', 'dados', 'relacionalnãorelacional', 'se', 'por', 'exemplo', 'os', 'seus', 'dados', 'estiverem', 'em', 'uma', 'base', 'de', 'dados', 'relacional', 'você', 'ainda', 'assim', 'não', 'pode', 'carregálos', 'todos', 'de', 'uma', 'vez', 'no', 'r', 'para', 'rodar', 'um', 'random', 'forest', 'ou', 'uma', 'regressão', 'por', 'exemplo', 'quais', 'as', 'vantagens', 'limitações', 'e', 'principais', 'diferenças', 'entre', 'esses', 'sistemas', 'de', 'versionamento', 'git', 'svn', 'e', 'cvs', 'com', 'o', 'code', 'entrando', 'no', 'estado', 'deprecated', 'a', 'documentação', 'php', 'recomenda', 'o', 'uso', 'do', 'pdo', 'e', 'mysqli', 'qual', 'vocês', 'recomendam', 'para', 'o', 'uso', 'pdo', 'parece', 'ser', 'mais', 'indicado', 'para', 'trabalhar', 'com', 'orientado', 'a', 'objetos', 'só', 'que', 'ao', 'mesmo', 'tempo', 'vi', 'benchmarks', 'que', 'mostram', 'que', 'a', 'performance', 'usando', 'o', 'mysqli', 'teria', 'uma', 'performance', 'maior', 'a', 'performance', 'poderia', 'impactar', 'muito', 'se', 'comparar', 'ao', 'uso', 'com', 'o', 'pdo', 'preciso', 'mudar', 'a', 'posição', 'do', 'na', 'máscara', 'code', 'com', 'esta', 'solução', 'o', 'resultado', 'é', 'o', 'seguinte', 'para', 'celulares', 'e', 'para', 'fixos', 'porém', 'gostaria', 'de', 'deixar', 'para', 'celulares', 'e', 'pesquisei', 'e', 'li', 'a', 'respeito', 'do', 'padrão', 'dao', 'data', 'access', 'object', 'porém', 'não', 'estou', 'conseguindo', 'entender', 'como', 'é', 'o', 'seu', 'funcionamento', 'e', 'como', 'é', 'a', 'estrutura', 'dele', 'ele', 'também', 'é', 'responsável', 'pelas', 'regras', 'de', 'negócio', 'de', 'uma', 'aplicação', 'ou', 'ele', 'é', 'apenas', 'responsável', 'pelo', 'crud', 'e', 'pelas', 'transações', 'e', 'conexões', 'obs', 'de', 'preferência', 'se', 'puder', 'mostrar', 'sua', 'implementação', 'e', 'seu', 'funcionamento', 'prático', 'em', 'java', 'desenvolvo', 'um', 'sistema', 'de', 'gerenciamento', 'empresarial', 'há', 'algum', 'tempo', 'estou', 'precisando', 'adicionar', 'ao', 'mesmo', 'a', 'funcionalidade', 'de', 'emissão', 'de', 'nota', 'fiscal', 'eletrônica', 'no', 'padrão', 'brasileiro', 'existe', 'alguma', 'biblioteca', 'java', 'bem', 'testada', 'e', 'de', 'preferência', 'livre', 'e', 'de', 'código', 'aberto', 'que', 'me', 'ajude', 'com', 'isso', 'no', 'jep', 'vem', 'se', 'discutindo', 'a', 'definição', 'do', 'g', 'garbage', 'first', 'collector', 'como', 'o', 'garbage', 'collector', 'padrão', 'no', 'java', 'nesse', 'período', 'venho', 'ouvindo', 'muitas', 'citações', 'sobre', 'o', 'g', 'mas', 'muito', 'pouco', 'material', 'tem', 'detalhes', 'mais', 'profundos', 'ou', 'comparações', 'como', 'por', 'exemplo', 'com', 'o', 'cms', 'concurrent', 'mark', 'and', 'sweep', 'o', 'qual', 'seria', 'hoje', 'o', 'gc', 'padrão', 'em', 'aplicações', 'em', 'produção', 'com', 'requerimentos', 'mínimos', 'de', 'performance', 'visto', 'que', 'o', 'gerenciamento', 'de', 'memória', 'automático', 'provido', 'pela', 'jvm', 'é', 'um', 'dos', 'pontos', 'cruciais', 'da', 'plataforma', 'gostaria', 'de', 'uma', 'visão', 'mais', 'profunda', 'do', 'porquê', 'prós', 'e', 'contras', 'da', 'adoção', 'desse', 'novo', 'garbage', 'collector', 'além', 'de', 'um', 'paralelo', 'com', 'as', 'implementações', 'existentes', 'há', 'tempos', 'tomei', 'conhecimento', 'da', 'existência', 'da', 'linguagem', 'kotlin', 'sei', 'que', 'necessita', 'da', 'jvm', 'para', 'correr', 'e', 'que', 'é', 'completamente', 'interoperável', 'com', 'java', 'na', 'altura', 'não', 'lhe', 'dei', 'muita', 'atenção', 'mas', 'agora', 'com', 'a', 'possibilidade', 'do', 'android', 'studio', 'lhe', 'vir', 'a', 'dar', 'suporte', 'nativo', 'o', 'meu', 'interesse', 'por', 'ela', 'cresceu', 'assim', 'quais', 'são', 'as', 'principais', 'diferenças', 'entre', 'elas', 'o', 'que', 'o', 'kotlin', 'pode', 'oferecerresolvermelhorar', 'em', 'relação', 'ao', 'java', 'numa', 'discussão', 'com', 'experientes', 'programadores', 'aqui', 'do', 'site', 'a', 'respeito', 'de', 'controle', 'de', 'concorrência', 'surgiram', 'os', 'termos', 'semáforos', 'mutex', 'memória', 'compartilhada', 'monitor', 'e', 'ainda', 'outros', 'os', 'quais', 'estou', 'começando', 'a', 'entender', 'agora', 'toda', 'essas', 'minhas', 'dúvidas', 'começaram', 'quando', 'perguntei', 'sobre', 'processos', 'assíncronos', 'onde', 'percebi', 'que', 'eu', 'não', 'estava', 'entendendo', 'muito', 'bem', 'sobre', 'o', 'termo', 'assíncrono', 'e', 'acabei', 'aprendendo', 'sobre', 'bifurcação', 'de', 'processos', 'no', 'meio', 'disso', 'tudo', 'comecei', 'a', 'pesquisar', 'muitas', 'coisas', 'a', 'respeito', 'de', 'processos', 'de', 'sistemas', 'operacionais', 'e', 'foi', 'aí', 'que', 'aprendi', 'mais', 'um', 'termo', 'ipc', 'que', 'disseram', 'que', 'significa', 'inter', 'process', 'communication', 'mas', 'o', 'que', 'é', 'ipc', 'mais', 'detalhadamente', 'de', 'que', 'forma', 'ele', 'se', 'relaciona', 'com', 'os', 'termos', 'que', 'eu', 'citei', 'acima', 'sobre', 'os', 'quais', 'disse', 'que', 'eu', 'estava', 'discutindo', 'estou', 'tentando', 'aplicar', 'um', 'estilo', 'ao', 'meu', 'elemento', 'e', 'definir', 'a', 'importância', 'dele', 'desta', 'maneira', 'code', 'porém', 'não', 'funciona', 'qual', 'seria', 'a', 'maneira', 'correta', 'tenho', 'ouvido', 'falar', 'bastante', 'sobre', 'injeção', 'de', 'dependência', 'a', 'pergunta', 'é', 'como', 'quando', 'e', 'para', 'que', 'usar', 'gostaria', 'de', 'entender', 'como', 'funciona', 'o', 'algoritmo', 'de', 'criptografia', 'code', 'advanced', 'encryption', 'standard', 'procuro', 'respostas', 'didáticas', 'que', 'me', 'façam', 'compreender', 'os', 'processos', 'utilizados', 'pelo', 'algoritmo', 'passoapasso', 'dando', 'ênfase', 'a', 'parte', 'lógica', 'e', 'matemática', 'e', 'se', 'possível', 'as', 'operações', 'com', 'bits', 'note', 'que', 'não', 'peço', 'exemplos', 'de', 'código', 'embora', 'sejam', 'válidos', 'para', 'a', 'explicação', 'qual', 'a', 'forma', 'mais', 'prática', 'de', 'encontrar', 'a', 'diferença', 'de', 'tempo', 'entre', 'duas', 'datas', 'no', 'formato', 'padrão', 'usado', 'pelo', 'mysql', 'yyyymmdd', 'ex', 'data', 'data', 'estou', 'interessado', 'em', 'criar', 'sites', 'com', 'animação', 'comandada', 'pelo', 'scroll', 'ex', 'kano', 'onde', 'os', 'conteúdos', 'vão', 'sendo', 'animados', 'e', 'substituídos', 'conforme', 'o', 'rolamento', 'da', 'página', 'quais', 'são', 'as', 'técnicas', 'para', 'facilitar', 'esse', 'tipo', 'de', 'programação', 'é', 'comum', 'encontrar', 'uma', 'mensagem', 'de', 'erro', 'que', 'diz', 'desculpe', 'você', 'não', 'tem', 'permissão', 'para', 'acessar', 'esta', 'função', 'entre', 'em', 'contato', 'com', 'o', 'administrador', 'para', 'obter', 'ajuda', 'é', 'apropriado', 'um', 'pedido', 'de', 'desculpas', 'neste', 'caso', 'é', 'um', 'caso', 'claro', 'que', 'o', 'problema', 'não', 'é', 'culpa', 'do', 'sistemaplataformaprovedor', 'do', 'serviço', 'então', 'por', 'que', 'deveria', 'existir', 'esse', 'pedido', 'de', 'desculpas', 'isso', 'é', 'importante', 'tem', 'alguma', 'fonte', 'de', 'informação', 'autoritativa', 'que', 'justifique', 'o', 'seu', 'uso', 'note', 'que', 'não', 'estou', 'perguntando', 'se', 'você', 'usa', 'de', 'um', 'jeito', 'ou', 'de', 'outro', 'e', 'o', 'que', 'você', 'acha', 'que', 'é', 'certo', 'respostas', 'com', 'opiniões', 'sem', 'base', 'são', 'inválidas', 'e', 'devem', 'ser', 'votadas', 'negativamente', 'informações', 'que', 'indiquem', 'com', 'clareza', 'e', 'justificativa', 'de', 'qual', 'o', 'motivo', 'do', 'uso', 'ou', 'não', 'são', 'construtivas', 'muitos', 'dizem', 'que', 'ela', 'não', 'é', 'uma', 'linguagem', 'orientada', 'a', 'objetos', 'por', 'não', 'ser', 'possível', 'definir', 'classes', 'nela', 'até', 'sua', 'versão', 'ecmascript', 'porém', 'com', 'a', 'utilização', 'de', 'funções', 'construtoras', 'e', 'prototipação', 'é', 'possível', 'implementar', 'muitos', 'dos', 'conceitos', 'de', 'orientação', 'a', 'objetos', 'como', 'herança', 'encapsulamento', 'sobrecarga', 'etc', 'então', 'certamente', 'ela', 'pode', 'ser', 'considerada', 'como', 'uma', 'linguagem', 'orientada', 'a', 'objetos', 'apesar', 'de', 'ser', 'baseada', 'em', 'protótipos', 'li', 'em', 'alguns', 'lugares', 'que', 'não', 'é', 'recomendado', 'o', 'uso', 'exagerado', 'do', 'code', 'pois', 'ele', 'torna', 'seu', 'código', 'difícil', 'de', 'ler', 'e', 'de', 'dar', 'manutenção', 'logo', 'não', 'é', 'uma', 'boa', 'prática', 'o', 'que', 'seria', 'o', 'uso', 'exagerado', 'de', 'code', 'em', 'um', 'código', 'quais', 'são', 'as', 'boas', 'práticas', 'em', 'um', 'código', 'para', 'evitar', 'muitos', 'codes', 'edit', 'a', 'idéia', 'da', 'campanha', 'anti', 'if', 'na', 'verdade', 'não', 'é', 'exterminar', 'o', 'if', 'e', 'sim', 'estimular', 'o', 'uso', 'correto', 'da', 'programação', 'orientada', 'a', 'objetos', 'que', 'deixa', 'o', 'código', 'mais', 'limpo', 'e', 'de', 'fácil', 'manutenção', 'a', 'minha', 'pergunta', 'é', 'na', 'verdade', 'saber', 'como', 'eu', 'devo', 'substituir', 'os', 'zilhões', 'de', 'if', 's', 'por', 'uma', 'boa', 'diagramação', 'de', 'classes', 'que', 'conceitos', 'da', 'programação', 'orientada', 'a', 'objetos', 'são', 'utilizados', 'para', 'atingir', 'tal', 'objetivo', 'entre', 'outras', 'palavras', 'porque', 'trocar', 'o', 'condicional', 'imperativo', 'pelo', 'polimorfismo', 'ou', 'outra', 'forma', 'que', 'facilite', 'o', 'entendimento', 'e', 'organização', 'do', 'código', 'fontes', 'de', 'motivação', 'leitura', 'campanha', 'anti', 'if', 'anti', 'if', 'campaigninglês', 'passei', 'pelas', 'linguagens', 'php', 'c', 'c', 'javascript', 'e', 'agora', 'estou', 'trabalhando', 'com', 'c', 'nesse', 'tempo', 'todo', 'sempre', 'ouvi', 'dizer', 'que', 'é', 'importante', 'ter', 'códigos', 'bem', 'comentados', 'mas', 'eu', 'nunca', 'soube', 'a', 'medida', 'certa', 'de', 'comentários', 'ou', 'comento', 'de', 'mais', 'ou', 'comento', 'de', 'menos', 'além', 'disso', 'no', 'c', 'tem', 'aquele', 'comentário', 'com', 'três', 'barras', 'que', 'basicamente', 'gera', 'algo', 'assim', 'code', 'e', 'ainda', 'tem', 'um', 'comentário', 'que', 'normalmente', 'alguns', 'programadores', 'colocam', 'no', 'topo', 'do', 'código', 'com', 'várias', 'informações', 'como', 'nome', 'do', 'programador', 'data', 'versão', 'etc', 'dessa', 'forma', 'qual', 'a', 'medida', 'certa', 'de', 'comentários', 'para', 'que', 'eles', 'ajudem', 'na', 'compreensão', 'do', 'código', 'invés', 'de', 'simplesmente', 'poluílo', 'no', 'código', 'do', 'linux', 'vi', 'algumas', 'macros', 'com', 'code', 'existe', 'motivo', 'porque', 'aparentemente', 'não', 'tem', 'lógica', 'um', 'laço', 'de', 'repetição', 'em', 'que', 'o', 'código', 'repete', 'apenas', 'uma', 'vez', 'temos', 'alguns', 'paradigmas', 'de', 'programação', 'bem', 'conhecidos', 'porém', 'bati', 'de', 'frente', 'com', 'esse', 'paradigma', 'e', 'me', 'surgiu', 'algumas', 'dúvidas', 'onde', 'é', 'aplicado', 'existe', 'algum', 'exemplo', 'de', 'onde', 'já', 'foi', 'utilizado', 'com', 'sucesso', 'qual', 'a', 'diferença', 'da', 'orientação', 'a', 'objetos', 'x', 'orientação', 'a', 'agentes', 'é', 'recomendável', 'usar', 'em', 'projetos', 'em', 'quais', 'situações', 'reflection', 'pode', 'ser', 'usado', 'qual', 'é', 'a', 'diferença', 'entre', 'code', 'e', 'code', 'podem', 'me', 'dar', 'alguns', 'exemplos', 'iniciar', 'em', 'programação', 'nem', 'sempre', 'é', 'fácil', 'além', 'de', 'termos', 'que', 'aprender', 'a', 'escrever', 'o', 'código', 'existem', 'dezenas', 'de', 'termos', 'tecnologias', 'entre', 'outras', 'coisas', 'que', 'precisam', 'ser', 'estudadas', 'visando', 'ajudar', 'quem', 'está', 'começando', 'minha', 'pergunta', 'é', 'o', 'que', 'é', 'uma', 'linguagem', 'de', 'programação', 'uma', 'ide', 'e', 'um', 'compilador', 'qual', 'a', 'relação', 'entre', 'esses', 'itens', 'o', 'que', 'é', 'escopo', 'o', 'que', 'é', 'tempo', 'de', 'vida', 'eles', 'se', 'confundem', 'visibilidade', 'tem', 'alguma', 'coisa', 'a', 'ver', 'com', 'isto', 'também', 'em', 'c', 'existe', 'uma', 'distinção', 'clara', 'entre', 'tipos', 'valor', 'structs', 'e', 'tipos', 'referência', 'classes', 'sendo', 'essa', 'distinção', 'basicamente', 'a', 'forma', 'com', 'que', 'o', 'clr', 'gerencia', 'instâncias', 'de', 'cada', 'tipo', 'instâncias', 'de', 'tipo', 'valor', 'são', 'colocadas', 'na', 'pilha', 'diretamente', 'e', 'instâncias', 'de', 'tipo', 'referência', 'são', 'colocadas', 'no', 'heap', 'contendo', 'uma', 'referência', 'na', 'pilha', 'basicamente', 'isso', 'é', 'fácil', 'de', 'entender', 'com', 'tipos', 'primitivos', 'e', 'classes', 'simples', 'que', 'contém', 'só', 'campos', 'nesses', 'casos', 'estamos', 'falando', 'de', 'armazenar', 'dados', 'na', 'memória', 'e', 'isso', 'é', 'algo', 'simples', 'de', 'entender', 'o', 'problema', 'é', 'o', 'fato', 'de', 'métodos', 'também', 'serem', 'armazenados', 'na', 'memória', 'classes', 'podem', 'conter', 'métodos', 'e', 'dessa', 'forma', 'esses', 'métodos', 'devem', 'ficar', 'armazenados', 'na', 'memória', 'de', 'alguma', 'forma', 'quando', 'criamos', 'uma', 'instância', 'além', 'disso', 'usando', 'delegates', 'podemos', 'apontar', 'para', 'métodos', 'o', 'que', 'novamente', 'sugere', 'que', 'os', 'métodos', 'são', 'armazenados', 'na', 'memória', 'assim', 'como', 'dados', 'mas', 'isso', 'é', 'estranho', 'o', 'que', 'viria', 'a', 'ser', 'armazenar', 'um', 'método', 'na', 'memória', 'um', 'método', 'não', 'contém', 'um', 'dado', 'que', 'pode', 'ser', 'guardado', 'ele', 'pode', 'conter', 'várias', 'variáveis', 'vários', 'comandos', 'etc', 'não', 'consigo', 'entender', 'como', 'o', 'clr', 'gerencia', 'isso', 'suponha', 'a', 'tabela', 'code', 'e', 'o', 'campo', 'code', 'em', 'uma', 'consulta', 'sql', 'qual', 'a', 'melhor', 'forma', 'de', 'se', 'calcular', 'a', 'idade', 'de', 'uma', 'pessoa', 'em', 'formato', 'inteiro', 'na', 'linguagem', 'tsql', 'do', 'sql', 'server', 'quando', 'estudei', 'mvc', 'pela', 'primeira', 'vez', 'no', 'livro', 'falava', 'muito', 'sobre', 'ddd', 'domaindriven', 'design', 'pelo', 'que', 'eu', 'entendi', 'na', 'época', 'a', 'ideia', 'do', 'ddd', 'era', 'simplesmente', 'programar', 'o', 'software', 'com', 'foco', 'no', 'desenvolvimento', 'da', 'camada', 'de', 'domínio', 'depois', 'disso', 'lendo', 'sobre', 'o', 'processo', 'de', 'análise', 'e', 'projeto', 'em', 'orientação', 'a', 'objetos', 'tive', 'a', 'impressão', 'de', 'que', 'sempre', 'que', 'programamos', 'um', 'software', 'orientado', 'a', 'objetos', 'damos', 'essa', 'ênfase', 'na', 'camada', 'de', 'domínio', 'começando', 'por', 'ela', 'e', 'usando', 'os', 'requisitos', 'pra', 'montar', 'ela', 'corretamente', 'isso', 'faz', 'parecer', 'que', 'o', 'ddd', 'prega', 'basicamente', 'a', 'mesma', 'coisa', 'que', 'o', 'processo', 'de', 'análise', 'e', 'projeto', 'em', 'orientação', 'a', 'objetos', 'dessa', 'forma', 'o', 'que', 'realmente', 'é', 'o', 'ddd', 'e', 'quando', 'ele', 'se', 'aplica', 'de', 'verdade', 'quais', 'as', 'vantagens', 'de', 'se', 'usar', 'ddd', 'em', 'um', 'projeto', 'eu', 'sei', 'que', 'existe', 'um', 'livro', 'chamado', 'domaindriven', 'design', 'tackling', 'complexity', 'in', 'the', 'heart', 'of', 'software', 'mas', 'por', 'ser', 'um', 'livro', 'muito', 'extenso', 'nunca', 'consegui', 'parar', 'pra', 'ler', 'ele', 'existe', 'alguma', 'referência', 'mais', 'resumida', 'sobre', 'o', 'assunto', 'dizem', 'que', 'o', 'elemento', 'code', 'deve', 'ser', 'usado', 'para', 'ênfase', 'e', 'o', 'code', 'para', 'ênfases', 'ainda', 'mais', 'intensas', 'isso', 'parece', 'bastante', 'confuso', 'quando', 'e', 'por', 'que', 'usar', 'cada', 'um', 'deles', 'e', 'code', 'e', 'code', 'ainda', 'devem', 'ser', 'usados', 'em', 'alguma', 'situação', 'eles', 'foram', 'substituídos', 'por', 'code', 'e', 'code', 'qual', 'a', 'definição', 'de', 'inteligência', 'artificial', 'a', 'pergunta', 'à', 'primeira', 'vista', 'parece', 'falta', 'de', 'vontade', 'de', 'pesquisar', 'por', 'aí', 'afora', 'mas', 'uma', 'lida', 'nos', 'primeiros', 'links', 'que', 'encontrei', 'no', 'google', 'me', 'deixaram', 'com', 'mais', 'dúvidas', 'do', 'que', 'eu', 'tinha', 'antes', 'de', 'começar', 'a', 'estudar', 'sobre', 'o', 'assunto', 'a', 'wikipédia', 'me', 'deu', 'algumas', 'definições', 'e', 'o', 'tecmundo', 'que', 'foi', 'o', 'primeiro', 'link', 'que', 'o', 'buscador', 'me', 'retornou', 'não', 'me', 'passou', 'credibilidade', 'por', 'não', 'citar', 'fontes', 'partindo', 'de', 'uma', 'definição', 'como', 'esta', 'sistemas', 'que', 'pensam', 'como', 'um', 'humano', 'seria', 'correto', 'dizer', 'que', 'todo', 'sistema', 'que', 'afirme', 'que', 'é', 'um', 'sistema', 'com', 'inteligência', 'artificial', 'reconheço', 'que', 'é', 'comum', 'que', 'cada', 'linguagem', 'utilize', 'um', 'padrão', 'para', 'compor', 'seus', 'identificadores', 'variáveis', 'constantes', 'objetos', 'controles', 'etc', 'no', 'caso', 'do', 'c', 'quais', 'seriam', 'as', 'boas', 'práticas', 'com', 'relação', 'à', 'maiúsculasminúsculas', 'tamanho', 'e', 'utilização', 'de', 'caracteres', 'especiais', 'tenho', 'o', 'seguinte', 'código', 'utilizando', 'a', 'função', 'code', 'do', 'php', 'code', 'e', 'quando', 'ela', 'é', 'acionada', 'reporta', 'o', 'seguinte', 'erro', 'cannot', 'modify', 'header', 'information', 'headers', 'already', 'sent', 'by', 'por', 'que', 'que', 'isto', 'possivelmente', 'ocorre', 'talvez', 'eu', 'me', 'integre', 'a', 'uma', 'equipe', 'para', 'desenvolver', 'um', 'novo', 'projeto', 'o', 'líder', 'já', 'tomou', 'algumas', 'decisões', 'entre', 'elas', 'que', 'as', 'regras', 'de', 'negócio', 'estarão', 'no', 'banco', 'de', 'dados', 'em', 'procedures', 'e', 'views', 'triggers', 'etc', 'ao', 'tomar', 'conhecimento', 'disto', 'minha', 'primeira', 'reação', 'foi', 'negativa', 'estou', 'acostumado', 'com', 'regras', 'de', 'negócio', 'na', 'camada', 'de', 'aplicação', 'e', 'não', 'me', 'parece', 'uma', 'boa', 'ideia', 'que', 'fiquem', 'no', 'banco', 'de', 'dados', 'porém', 'o', 'fato', 'é', 'que', 'eu', 'realmente', 'não', 'sei', 'tampouco', 'tenho', 'experiência', 'com', 'essa', 'arquitetura', 'por', 'isso', 'pergunto', 'quais', 'as', 'vantagens', 'quais', 'as', 'desvantagens', 'é', 'uma', 'boa', 'prática', 'é', 'uma', 'má', 'ideia', 'com', 'o', 'advento', 'dos', 'layouts', 'responsivosadaptativofluidos', 'está', 'cada', 'vez', 'menos', 'comum', 'o', 'uso', 'do', 'code', 'para', 'definir', 'espaçamentos', 'no', 'layout', 'o', 'uso', 'dele', 'não', 'é', 'recomendado', 'nesses', 'layouts', 'modernos', 'ou', 'é', 'só', 'uma', 'questão', 'de', 'prática', 'de', 'programação', 'de', 'separar', 'a', 'responsabilidade', 'para', 'o', 'css', 'vi', 'algo', 'do', 'tipo', 'nesta', 'pergunta', 'e', 'sei', 'que', 'isso', 'se', 'relaciona', 'de', 'alguma', 'forma', 'com', 'orientação', 'a', 'objetos', 'o', 'que', 'são', 'como', 'afetam', 'meu', 'código', 'e', 'como', 'posso', 'utilizálas', 'para', 'codificar', 'melhor', 'estou', 'desenvolvendo', 'uma', 'ferramenta', 'para', 'reconhecimento', 'biométrico', 'usando', 'o', 'sdk', 'fornecido', 'em', 'formato', 'dll', 'desenvolvido', 'em', 'delphi', 'para', 'o', 'acesso', 'à', 'dll', 'a', 'partir', 'do', 'java', 'estou', 'usando', 'jna', 'o', 'template', 'da', 'digital', 'a', 'parte', 'mais', 'importante', 'é', 'um', 'objeto', 'que', 'se', 'refere', 'a', 'este', 'trecho', 'em', 'delphi', 'code', 'como', 'desenvolver', 'algo', 'equivalente', 'em', 'java', 'basicamente', 'preciso', 'chamar', 'as', 'seguintes', 'funções', 'da', 'dll', 'code', 'olhando', 'o', 'exemplo', 'fornecido', 'desenvolvido', 'em', 'delphi', 'vi', 'que', 'o', 'objeto', 'code', 'que', 'é', 'passado', 'nas', 'funções', 'code', 'e', 'code', 'é', 'do', 'tipo', 'code', 'declarado', 'no', 'trecho', 'de', 'código', 'mais', 'acima', 'no', 'mesmo', 'exemplo', 'antes', 'de', 'chamar', 'o', 'método', 'code', 'o', 'objeto', 'code', 'é', 'instanciado', 'e', 'vai', 'vazio', 'onde', 'então', 'é', 'preenchido', 'através', 'da', 'função', 'o', 'leitor', 'é', 'o', 'techmag', 'bioflex', 'que', 'é', 'baseado', 'nos', 'leitores', 'futronic', 'fs', 'pesquisando', 'vi', 'que', 'o', 'objeto', 'code', 'do', 'trecho', 'de', 'código', 'faz', 'acesso', 'à', 'memória', 'para', 'ler', 'as', 'informações', 'que', 'o', 'leitor', 'grava', 'nela', 'escreve', 'depois', 'de', 'muitas', 'pesquisa', 'acho', 'que', 'devo', 'desenvolver', 'algum', 'objeto', 'equivalente', 'em', 'java', 'estendendo', 'das', 'classes', 'code', 'ou', 'code', 'do', 'jna', 'atualização', 'informações', 'sobre', 'meu', 'código', 'leio', 'e', 'armazeno', 'duas', 'vezes', 'a', 'minha', 'digital', 'utilizando', 'o', 'método', 'code', 'depois', 'comparo', 'as', 'duas', 'utilizando', 'o', 'método', 'code', 'que', 'sempre', 'retorna', 'code', 'comando', 'não', 'executado', 'printei', 'os', 'objetos', 'code', 'e', 'code', 'após', 'ler', 'a', 'digital', 'code', 'retorna', 'code', 'e', 'code', 'retorna', 'code', 'interface', 'com', 'os', 'métodos', 'da', 'dll', 'code', 'classe', 'que', 'estende', 'structure', 'referente', 'ao', 'objeto', 'cis_digital', 'code', 'método', 'responsável', 'por', 'ler', 'duas', 'vezes', 'qualquer', 'digital', 'e', 'comparálas', 'code', 'eu', 'estudei', 'java', 'há', 'bastante', 'tempo', 'e', 'estou', 'bem', 'familiarizado', 'com', 'o', 'funcionamento', 'de', 'tipos', 'genéricos', 'nessa', 'linguagem', 'sei', 'que', 'só', 'existem', 'em', 'tempo', 'de', 'compilação', 'que', 'sofrem', 'type', 'erasure', 'ao', 'final', 'da', 'mesma', 'de', 'modo', 'que', 'no', 'tempo', 'de', 'execução', 'essas', 'informações', 'não', 'estão', 'disponíveis', 'e', 'tenho', 'uma', 'certa', 'noção', 'das', 'dificuldades', 'ao', 'se', 'aplicar', 'polimorfismo', 'em', 'tipos', 'genéricos', 'agora', 'estou', 'aprendendo', 'c', 'e', 'reparei', 'que', 'embora', 'essa', 'linguagem', 'use', 'notação', 'semelhante', 'code', 'a', 'semântica', 'não', 'parece', 'ser', 'a', 'mesma', 'por', 'exemplo', 'ao', 'ver', 'essa', 'pergunta', 'entendi', 'que', 'o', 'runtime', 'do', 'c', 'guarda', 'a', 'informação', 'dos', 'tipos', 'genéricos', 'em', 'vez', 'de', 'descartála', 'diferentemente', 'do', 'java', 'isso', 'está', 'correto', 'além', 'disso', 'nunca', 'vi', 'um', 'exemplo', 'em', 'c', 'que', 'utilizasse', 'coringas', 'wildcards', 'como', 'code', 'isso', 'é', 'possível', 'ou', 'mesmo', 'necessário', 'nessa', 'linguagem', 'por', 'fim', 'c', 'suporta', 'métodos', 'individuais', 'e', 'não', 'somente', 'classes', 'genéricos', 'se', 'sim', 'qual', 'a', 'sintaxe', 'equivalente', 'dessa', 'construção', 'em', 'java', 'code', 'se', 'houver', 'algum', 'detalhe', 'adicional', 'que', 'mereça', 'destaque', 'ou', 'talvez', 'algum', 'material', 'de', 'referência', 'para', 'aprender', 'mais', 'também', 'será', 'bemvindo', 'como', 'posso', 'implementar', 'um', 'sistema', 'de', 'internacionalização', 'utilizando', 'a', 'tecnologia', 'mvc', 'da', 'microsoft', 'existe', 'algo', 'semelhante', 'ao', 'android', 'para', 'que', 'meu', 'website', 'possa', 'suportar', 'diversas', 'línguas', 'existe', 'também', 'algum', 'modo', 'de', 'obter', 'a', 'linguagem', 'do', 'navegador', 'que', 'o', 'usuário', 'está', 'acessando', 'para', 'configurar', 'o', 'idioma', 'padrão', 'deste', 'ponto', 'de', 'partida', 'estou', 'começando', 'a', 'estudar', 'composer', 'e', 'estou', 'desenvolvendo', 'um', 'sistema', 'onde', 'separo', 'arquivos', 'do', 'core', 'de', 'arquivos', 'da', 'aplicação', 'da', 'seguinte', 'forma', 'root', 'src', 'app', 'dbconfig', 'controller', 'model', 'core', 'helper', 'controller', 'model', 'então', 'para', 'setar', 'esta', 'configuração', 'no', 'arquivo', 'composerjson', 'e', 'conseguir', 'ter', 'acesso', 'a', 'todas', 'as', 'classes', 'tanto', 'de', 'app', 'quanto', 'de', 'core', 'seria', 'desta', 'forma', 'autoload', 'psrx', 'app', 'src', 'core', 'src', 'ou', 'há', 'uma', 'forma', 'mais', 'correta', 'tenho', 'lido', 'também', 'sobre', 'psr', 'vs', 'psr', 'e', 'ainda', 'estou', 'um', 'pouco', 'em', 'dúvidas', 'de', 'qual', 'utilizar', 'neste', 'meu', 'caso', 'qual', 'devo', 'implementar', 'psr', 'ou', 'psr', 'estava', 'olhando', 'uns', 'códigos', 'e', 'me', 'deparei', 'com', 'o', 'operador', 'code', 'code', 'code', 'qual', 'a', 'diferença', 'do', 'primeiro', 'código', 'para', 'o', 'segundo', 'segundo', 'esta', 'definição', 'do', 'priberampt', 'um', 'número', 'capicua', 'é', 'número', 'que', 'se', 'lê', 'igualmente', 'da', 'direita', 'para', 'a', 'esquerda', 'ou', 'viceversa', 'e', 'ao', 'qual', 'se', 'atribui', 'boa', 'sorte', 'seguindo', 'esse', 'raciocínio', 'capicua', 'seriam', 'etc', 'como', 'descobrir', 'entre', 'números', 'de', 'dígitos', 'os', 'que', 'são', 'capicua', 'apenas', 'utilizando', 'cálculos', 'matemáticos', 'removendo', 'números', 'que', 'possuam', 'todos', 'os', 'dígitos', 'idênticos', 'como', 'etc', 'ps', 'não', 'importa', 'a', 'linguagem', 'somente', 'a', 'lógica', 'para', 'se', 'desenvolver', 'uma', 'forma', 'de', 'resolver', 'isso', 'eu', 'preciso', 'fazer', 'o', 'upload', 'de', 'uma', 'foto', 'e', 'em', 'seguida', 'colocala', 'em', 'um', 'modal', 'para', 'o', 'usuario', 'fazer', 'um', 'recorte', 'proporcional', 'uma', 'breve', 'pesquisa', 'na', 'web', 'encontrei', 'este', 'plugin', 'jquery', 'jcrop', 'ele', 'parece', 'me', 'fornecer', 'as', 'coordenadas', 'para', 'recortar', 'a', 'imagens', 'mas', 'não', 'faço', 'ideia', 'de', 'como', 'integrálo', 'com', 'php', 'se', 'alguém', 'tiver', 'um', 'exemplo', 'pratico', 'sera', 'muito', 'bem', 'vindo', 'qual', 'a', 'melhor', 'forma', 'por', 'melhor', 'eu', 'quero', 'dizer', 'com', 'maior', 'compatibilidade', 'possível', 'entre', 'browsers', 'e', 'o', 'mais', 'simples', 'possível', 'de', 'posicionar', 'um', 'elemento', 'no', 'centro', 'da', 'página', 'vertical', 'e', 'horizontalmente', 'e', 'independentemente', 'de', 'resolução', 'utilizando', 'somente', 'css', 'cada', 'módulo', 'do', 'projeto', 'possui', 'um', 'code', 'e', 'um', 'code', 'quais', 'são', 'as', 'funções', 'desse', 'artifacts', 'nesse', 'processo', 'de', 'deploy', 'e', 'qual', 'a', 'função', 'do', 'jenkins', 'nesse', 'contexto', 'entendo', 'que', 'deploy', 'é', 'um', 'processo', 'de', 'montar', 'esse', 'war', 'pois', 'toda', 'vez', 'que', 'algo', 'está', 'errado', 'recebo', 'um', 'build', 'failed', 'in', 'jenkins', 'tenho', 'um', 'layout', 'com', 'uma', 'barra', 'de', 'navegação', 'horizontal', 'na', 'parte', 'superior', 'do', 'site', 'ele', 'está', 'com', 'code', 'quando', 'rolar', 'a', 'página', 'o', 'menu', 'deve', 'ser', 'fixado', 'no', 'topo', 'da', 'janela', 'mas', 'com', 'code', 'qual', 'a', 'melhor', 'forma', 'de', 'realizar', 'isso', 'eu', 'tenho', 'a', 'impressão', 'que', 'toda', 'vez', 'que', 'executo', 'o', 'comando', 'code', 'para', 'gerar', 'o', 'autoload', 'das', 'classes', 'via', 'code', 'um', 'arquivo', 'code', 'é', 'criado', 'dentro', 'dele', 'parece', 'haver', 'um', 'emaranhado', 'de', 'classes', 'e', 'namespaces', 'é', 'como', 'se', 'tivessem', 'unidos', 'vários', 'arquivos', 'em', 'um', 'só', 'gerar', 'um', 'código', 'php', 'em', 'que', 'as', 'classes', 'utilizadas', 'estão', 'no', 'mesmo', 'arquivo', 'seria', 'mais', 'rápido', 'do', 'que', 'ter', 'elas', 'espalhadas', 'pelos', 'diretórios', 'como', 'é', 'possivel', 'resolver', 'esse', 'bug', 'code', 'resultado', 'code', 'arquitetura', 'de', 'software', 'engenharia', 'de', 'software', 'aparentemente', 'esses', 'dois', 'conceitos', 'são', 'relacionados', 'mas', 'qual', 'a', 'diferença', 'entre', 'eles', 'eu', 'já', 'ouvi', 'esse', 'termo', 'da', 'boca', 'de', 'algumas', 'pessoas', 'mas', 'não', 'costumo', 'ser', 'bom', 'com', 'esses', 'termos', 'técnicos', 'o', 'que', 'seria', 'um', 'código', 'legado', 'está', 'relacionado', 'a', 'código', 'ultrapassado', 'no', 'code', 'qual', 'é', 'a', 'diferença', 'entre', 'um', 'code', 'e', 'uma', 'code', 'hoje', 'é', 'comum', 'os', 'compiladores', 'das', 'linguagens', 'de', 'programação', 'permitirem', 'que', 'o', 'arquivo', 'de', 'código', 'de', 'seus', 'programas', 'aceitem', 'código', 'com', 'caracteres', 'unicode', 'isto', 'é', 'útil', 'especialmente', 'para', 'quem', 'usa', 'o', 'português', 'e', 'outras', 'línguas', 'que', 'fogem', 'do', 'ascii', 'para', 'criar', 'strings', 'com', 'acentos', 'e', 'melhorar', 'os', 'comentários', 'em', 'nossa', 'língua', 'mas', 'é', 'incomum', 'o', 'uso', 'de', 'identificadores', 'com', 'acentos', 'no', 'código', 'há', 'até', 'mesmo', 'quem', 'recomende', 'que', 'não', 'seja', 'usado', 'eu', 'mesmo', 'não', 'costumo', 'usar', 'mas', 'me', 'parece', 'que', 'dar', 'um', 'sentido', 'melhor', 'nestes', 'casos', 'só', 'um', 'exemplo', 'isolado', 'sem', 'definição', 'de', 'linguagem', 'code', 'existe', 'algum', 'motivo', 'técnico', 'para', 'evitar', 'acentos', 'e', 'outros', 'caracteres', 'unicode', 'em', 'identificadores', 'se', 'não', 'existe', 'problema', 'técnico', 'existe', 'algum', 'motivo', 'prático', 'para', 'evitálos', 'depende', 'da', 'linguagem', 'de', 'programação', 'considerando', 'que', 'ela', 'suporte', 'bem', 'acentuação', 'em', 'plenitude', 'importa', 'se', 'o', 'código', 'é', 'proprietário', 'e', 'desenvolvido', 'por', 'uma', 'equipe', 'pequena', 'e', 'fechada', 'ou', 'se', 'é', 'desenvolvido', 'amplamente', 'possivelmente', 'de', 'forma', 'aberta', 'existe', 'algum', 'cuidado', 'específico', 'que', 'devemos', 'tomar', 'quando', 'usamos', 'acentos', 'em', 'identificadores', 'quando', 'a', 'utilização', 'de', 'caracteres', 'além', 'do', 'ascii', 'é', 'abuso', 'vejo', 'isso', 'em', 'várias', 'classes', 'de', 'terceiros', 'lembrando', 'que', 'o', 'fechamento', 'geralmente', 'é', 'o', 'code', 'mas', 'sem', 'code', 'a', 'maioria', 'dos', 'programas', 'se', 'encaixam', 'bem', 'em', 'espaço', 'de', 'endereço', 'de', 'menor', 'que', 'gb', 'mas', 'em', 'alguns', 'casos', 'o', 'programa', 'pode', 'precisar', 'usar', 'os', 'novos', 'recursosinstruções', 'do', 'processador', 'que', 'só', 'estão', 'disponíveis', 'na', 'arquitetura', 'x', 'infelizmente', 'o', 'procedimento', 'normal', 'seria', 'gerar', 'um', 'executável', 'bits', 'e', 'ganhando', 'o', 'custo', 'dos', 'ponteiros', 'terem', 'o', 'dobro', 'do', 'tamanho', 'há', 'aplicações', 'específicas', 'em', 'que', 'a', 'maioria', 'das', 'estruturas', 'de', 'dados', 'tem', 'grande', 'parte', 'de', 'seus', 'elementos', 'compostos', 'por', 'ponteiros', 'ponteiros', 'grandes', 'produzirão', 'cache', 'missen', 'com', 'mais', 'frequência', 'e', 'se', 'você', 'não', 'vai', 'usar', 'memória', 'além', 'dos', 'gb', 'ponteiros', 'de', 'bits', 'são', 'puro', 'desperdício', 'existem', 'compiladores', 'onde', 'eu', 'possa', 'usar', 'registradores', 'e', 'instruções', 'específicas', 'x', 'mas', 'preservando', 'os', 'ponteiros', 'de', 'bits', 'para', 'economizar', 'a', 'memória', 'em', 'quais', 'plataformas', 'é', 'possível', 'fazer', 'isso', 'de', 'forma', 'transparente', 'em', 'código', 'legado', 'há', 'um', 'switchflag', 'para', 'ligar', 'isso', 'no', 'compilador', 'caso', 'não', 'seja', 'possível', 'trabalhar', 'com', 'código', 'legado', 'o', 'que', 'é', 'necessário', 'mudar', 'no', 'código', 'para', 'obter', 'os', 'recursos', 'de', 'bits', 'enquanto', 'mantêm', 'ponteiros', 'de', 'bits', 'eu', 'sei', 'que', 'isto', 'só', 'é', 'vantajoso', 'se', 'essa', 'economia', 'de', 'memória', 'realmente', 'é', 'importante', 'preciso', 'criar', 'um', 'executável', 'c', 'e', 'ficou', 'a', 'duvida', 'fazer', 'com', 'code', 'ou', 'fazer', 'com', 'code', 'na', 'prática', 'existe', 'alguma', 'diferença', 'entre', 'usar', 'code', 'e', 'o', 'tradicional', 'code', 'é', 'verdade', 'que', 'uma', 'code', 'pode', 'ter', 'várias', 'code', 'basicamente', 'meu', 'executável', 'terá', 'chamadas', 'diferentes', 'que', 'podem', 'ser', 'executadas', 'ao', 'mesmo', 'tempo', 'como', 'tratamse', 'de', 'chamadas', 'individuais', 'eu', 'quero', 'evitar', 'que', 'uma', 'execute', 'somente', 'quando', 'a', 'outra', 'termine', 'e', 'simplesmente', 'executar', 'todas', 'ao', 'mesmo', 'tempo', 'o', 'que', 'é', 'programação', 'orientada', 'a', 'eventos', 'o', 'que', 'difere', 'entre', 'a', 'programação', 'orientada', 'a', 'eventos', 'e', 'programação', 'orientada', 'a', 'objeto', 'que', 'linguagens', 'podemos', 'citar', 'que', 'são', 'orientada', 'a', 'eventos', 'o', 'que', 'é', 'url', 'o', 'que', 'é', 'uri', 'são', 'sinônimos', 'em', 'geral', 'as', 'pessoas', 'usam', 'quase', 'sempre', 'url', 'são', 'a', 'mesma', 'coisa', 'tem', 'mais', 'alguma', 'coisa', 'relacionada', 'recentemente', 'estou', 'criando', 'muita', 'coisa', 'de', 'html', 'dinamicamente', 'exemplo', 'code', 'duvida', 'vendo', 'algumas', 'perguntas', 'sobre', 'js', 'vi', 'que', 'na', 'grande', 'maioria', 'o', 'pessoal', 'monta', 'por', 'string', 'code', 'quais', 'a', 'diferenças', 'entre', 'estes', 'métodos', 'tirando', 'o', 'fato', 'de', 'um', 'ser', 'por', 'objeto', 'e', 'o', 'outro', 'string', 'algum', 'deles', 'é', 'melhor', 'que', 'o', 'outro', 'ou', 'são', 'equivalentes', 'tirando', 'eu', 'prefiro', 'assim', 'pois', 'ao', 'pesquisar', 'um', 'pouco', 'sobre', 'plataformas', 'para', 'o', 'desenvolvimento', 'de', 'apps', 'mobile', 'acabei', 'me', 'deparando', 'com', 'o', 'xamarin', 'e', 'o', 'cordova', 'ambos', 'tem', 'como', 'proposta', 'desenvolver', 'uma', 'única', 'base', 'de', 'código', 'para', 'aplicativos', 'que', 'rodam', 'em', 'android', 'ios', 'e', 'windows', 'phone', 'como', 'não', 'sou', 'expert', 'em', 'desenvolvimento', 'mobile', 'me', 'surgiram', 'as', 'seguintes', 'dúvidas', 'quais', 'as', 'principais', 'diferenças', 'entre', 'essas', 'plataformas', 'é', 'possível', 'utilizar', 'os', 'recursos', 'nativos', 'que', 'são', 'exclusivos', 'de', 'determinado', 'sistema', 'operacional', 'as', 'plataformas', 'são', 'compatíveis', 'entre', 'si', 'no', 'mundo', 'acadêmico', 'o', 'plágio', 'e', 'a', 'referenciação', 'são', 'levados', 'a', 'sério', 'e', 'quando', 'se', 'trata', 'da', 'nossa', 'criação', 'intelectual', 'até', 'que', 'ponto', 'seria', 'plágio', 'copiar', 'e', 'colar', 'trechos', 'de', 'outro', 'código', 'disponível', 'na', 'internet', 'no', 'meu', 'particularmente', 'nunca', 'referenciei', 'os', 'trechos', 'de', 'código', 'que', 'eu', 'copiei', 'isso', 'é', 'plágio', 'a', 'punição', 'legal', 'é', 'a', 'mesma', 'para', 'o', 'plágio', 'do', 'mundo', 'acadêmico', 'estive', 'me', 'questionando', 'porque', 'alguns', 'sistemas', 'exigirem', 'senhas', 'tão', 'fortes', 'exemplo', 'minimo', 'de', 'caracteres', 'maiúsculas', 'e', 'minusculas', 'números', 'caracteres', 'especiais', 'em', 'vários', 'locais', 'dizem', 'que', 'senhas', 'fortes', 'garantem', 'uma', 'maior', 'segurança', 'do', 'sistema', 'e', 'que', 'ajudam', 'a', 'prevenir', 'ataques', 'de', 'algorítimo', 'como', 'o', 'codealgoritmo', 'capaz', 'de', 'detectar', 'senhas', 'curtas', 'em', 'contrapartida', 'descobrir', 'o', 'algoritmo', 'code', 'bancos', 'por', 'exemplo', 'usam', 'senhas', 'com', 'dígitos', 'e', 'essa', 'senha', 'são', 'números', 'penso', 'que', 'senhas', 'fortes', 'e', 'complexas', 'dificultam', 'e', 'muito', 'o', 'usuário', 'no', 'login', 'pela', 'dificuldade', 'em', 'lembrar', 'qual', 'senha', 'criou', 'porque', 'usar', 'senhas', 'tão', 'complexas', 'isso', 'não', 'dificultaria', 'o', 'usuário', 'a', 'lembrar', 'essa', 'senha', 'em', 'uma', 'possível', 'volta', 'ao', 'sistema', 'porque', 'uma', 'senha', 'sem', 'esses', 'critérios', 'mencionados', 'acima', 'são', 'consideradas', 'fracas', 'em', 'programação', 'python', 'é', 'comum', 'ouvir', 'o', 'termo', 'pythônico', 'ou', 'pythonic', 'veja', 'sopt', 'entendendo', 'o', 'modo', 'pythônico', 'de', 'lidar', 'com', 'propriedades', 'sopt', 'passar', 'parâmetros', 'de', 'forma', 'pythônica', 'wikipedia', 'python', 'programming', 'language', 'pythonnet', 'code', 'like', 'a', 'pythonista', 'idiomatic', 'python', 'o', 'que', 'significa', 'o', 'termo', 'pythônico', 'e', 'o', 'que', 'diferencia', 'um', 'código', 'nãopythônico', 'de', 'um', 'código', 'pythônico', 'estou', 'começando', 'a', 'tentar', 'usar', 'o', 'kanban', 'na', 'prática', 'no', 'caso', 'eu', 'trabaho', 'sozinho', 'então', 'estou', 'tentando', 'buscar', 'essa', 'resposta', 'em', 'um', 'contexto', 'no', 'qual', 'não', 'há', 'equipe', 'disponível', 'muito', 'menos', 'processos', 'mais', 'formais', 'encontrados', 'em', 'empresas', 'maiores', 'ao', 'utilizar', 'metodologias', 'ágeis', 'é', 'comum', 'tentar', 'fazer', 'estimativas', 'uma', 'técnica', 'que', 'recentemente', 'conheci', 'é', 'utilizar', 'pomodoros', 'e', 'a', 'sequencia', 'de', 'fibonacci', 'com', 'essa', 'técnica', 'estimamos', 'o', 'tempo', 'em', 'pomodoros', 'um', 'pomodoro', 'se', 'refere', 'a', 'minutos', 'de', 'trabalho', 'e', 'minutos', 'de', 'descanso', 'para', 'estimar', 'uma', 'tarefa', 'usamos', 'os', 'números', 'da', 'sequência', 'de', 'fibonacci', 'uma', 'tarefa', 'pode', 'ser', 'estimada', 'em', 'pomodoros', 'e', 'assim', 'por', 'diante', 'o', 'problema', 'que', 'eu', 'vejo', 'é', 'nesse', 'caso', 'temos', 'uma', 'unidade', 'de', 'tempo', 'específica', 'para', 'usar', 'e', 'temos', 'uma', 'sequência', 'de', 'números', 'permitidos', 'para', 'essa', 'unidade', 'de', 'tempo', 'a', 'nossa', 'disposição', 'de', 'qualquer', 'forma', 'é', 'necessário', 'ainda', 'olhar', 'para', 'cada', 'tarefa', 'e', 'dizer', 'essa', 'tarefa', 'requer', 'x', 'unidades', 'de', 'tempo', 'isso', 'parece', 'ser', 'realmente', 'muito', 'complicado', 'por', 'vários', 'fatores', 'certas', 'vezes', 'pode', 'se', 'tratar', 'de', 'algo', 'que', 'nunca', 'fizemos', 'antes', 'e', 'não', 'temos', 'ideia', 'de', 'quanto', 'tempo', 'aquilo', 'demora', 'as', 'vezes', 'achamos', 'que', 'algo', 'é', 'fácil', 'e', 'rápido', 'e', 'no', 'fim', 'não', 'era', 'tão', 'simples', 'quanto', 'pensávamos', 'podem', 'ocorrer', 'imprevistos', 'e', 'fazer', 'demorar', 'mais', 'isso', 'se', 'não', 'aparecer', 'uma', 'complicação', 'tão', 'grande', 'no', 'meio', 'do', 'caminho', 'que', 'acabe', 'emperrando', 'o', 'desenvolvimento', 'esses', 'são', 'só', 'alguns', 'fatores', 'que', 'eu', 'pensei', 'que', 'complicam', 'isso', 'para', 'mim', 'que', 'estou', 'começando', 'agora', 'com', 'as', 'metodologias', 'ágeis', 'em', 'prática', 'mesmo', 'eu', 'realmente', 'não', 'consigo', 'ter', 'a', 'menor', 'ideia', 'de', 'como', 'atribuir', 'x', 'unidades', 'de', 'tempo', 'para', 'cada', 'tarefa', 'na', 'teoria', 'parece', 'simples', 'na', 'prática', 'não', 'é', 'tão', 'simples', 'assim', 'dessa', 'forma', 'como', 'fazer', 'estimativas', 'de', 'forma', 'correta', 'ao', 'utilizar', 'metodologias', 'ágeis', 'como', 'contornar', 'essas', 'complicações', 'que', 'eu', 'citei', 'qual', 'é', 'a', 'métrica', 'usada', 'para', 'atribuir', 'um', 'certo', 'número', 'de', 'unidades', 'de', 'tempo', 'a', 'uma', 'tarefa', 'segundo', 'esta', 'definição', 'de', 'dado', 'dados', 'são', 'um', 'conjunto', 'de', 'informações', 'quantitativas', 'qualitativas', 'categóricas', 'ou', 'indefinidas', 'podendo', 'ser', 'organizadas', 'ou', 'não', 'wikipédia', 'seguindo', 'esta', 'linha', 'eu', 'posso', 'assumir', 'que', 'dados', 'e', 'informação', 'são', 'as', 'mesmas', 'coisas', 'entretanto', 'na', 'faculdade', 'meu', 'professor', 'disse', 'que', 'dado', 'não', 'é', 'informação', 'quando', 'o', 'mesmo', 'não', 'é', 'tratado', 'ou', 'quando', 'ele', 'não', 'possui', 'algum', 'significado', 'por', 'exemplo', 'este', 'é', 'um', 'dado', 'code', 'e', 'code', 'também', 'é', 'um', 'dado', 'porem', 'eu', 'não', 'sei', 'o', 'que', 'esses', 'dados', 'representam', 'como', 'eles', 'poderiam', 'ser', 'considerados', 'informação', 'e', 'é', 'neste', 'ponto', 'que', 'surgi', 'minha', 'dúvida', 'que', 'vem', 'logo', 'abaixo', 'dúvida', 'eu', 'gostaria', 'de', 'saber', 'qual', 'é', 'a', 'diferença', 'entre', 'dado', 'e', 'informação', 'e', 'o', 'que', 'faz', 'com', 'que', 'dados', 'se', 'torne', 'informação', 'estou', 'iniciando', 'os', 'estudos', 'em', 'c', 'e', 'estou', 'com', 'dúvida', 'se', 'a', 'linguagem', 'é', 'compilada', 'ou', 'interpretada', 'minha', 'dúvida', 'surge', 'porque', 'ouvi', 'em', 'uma', 'palestra', 'dizer', 'que', 'é', 'compilada', 'e', 'outros', 'dizendo', 'que', 'é', 'interpretada', 'quais', 'são', 'os', 'principais', 'motivos', 'na', 'prática', 'que', 'levam', 'desenvolvedores', 'a', 'aplicar', 'a', 'prática', 'de', 'desenvolver', 'voltado', 'para', 'interface', 'e', 'não', 'para', 'implementação', 'se', 'eu', 'tenho', 'o', 'seguinte', 'código', 'code', 'e', 'mando', 'para', 'o', 'banco', 'de', 'dados', 'code', 'deveria', 'ser', 'possível', 'recuperar', 'esse', 'code', 'no', 'banco', 'e', 'mostrar', 'senha', 'de', 'volta', 'num', 'formulário', 'de', 'atualização', 'de', 'informações', 'não', 'isso', 'é', 'possível', 'ou', 'uma', 'string', 'criptografada', 'em', 'code', 'não', 'tem', 'pode', 'ser', 'descriptografada', 'tenho', 'um', 'objeto', 'chamado', 'code', 'e', 'gostaria', 'de', 'criar', 'e', 'armazenar', 'uma', 'cópia', 'desse', 'objeto', 'como', 'objetos', 'vetores', 'funções', 'e', 'expressões', 'regulares', 'são', 'considerados', 'objetos', 'não', 'consigo', 'fazer', 'uma', 'cópia', 'apenas', 'atribuindo', 'esse', 'objeto', 'a', 'uma', 'outra', 'variável', 'ex', 'code', 'pois', 'por', 'serem', 'objetos', 'apenas', 'uma', 'referência', 'é', 'passada', 'para', 'a', 'outra', 'variável', 'gostaria', 'de', 'saber', 'se', 'existe', 'algum', 'jeito', 'de', 'fazer', 'um', 'cópia', 'de', 'um', 'objeto', 'seja', 'lá', 'qual', 'for', 'o', 'seu', 'tipo', 'objetos', 'vetores', 'funções', 'ou', 'expressões', 'regulares', 'vejo', 'grandes', 'conhecedores', 'aqui', 'do', 'sopt', 'dizerem', 'a', 'frase', 'quer', 'desempenho', 'esqueça', 'o', 'php', 'por', 'exemplo', 'perguntas', 'sobre', 'php', 'como', 'posso', 'melhorar', 'o', 'desempenho', 'disso', 'claro', 'que', 'sabemos', 'que', 'desempenho', 'vem', 'muito', 'da', 'estrutura', 'do', 'código', 'mas', 'essa', 'afirmação', 'esqueça', 'desempenho', 'no', 'php', 'não', 'seria', 'pelo', 'php', 'não', 'ter', 'desempenho', 'mas', 'sim', 'porque', 'é', 'um', 'fator', 'a', 'não', 'ser', 'considerado', 'quando', 'o', 'cenário', 'é', 'o', 'php', 'em', 'comparação', 'de', 'sua', 'tecnologia', 'com', 'uma', 'outra', 'correto', 'então', 'gostaria', 'de', 'saber', 'acredito', 'eu', 'que', 'quando', 'dizem', 'que', 'o', 'php', 'não', 'se', 'foca', 'em', 'seu', 'desempenho', 'seria', 'em', 'comparação', 'a', 'outras', 'linguagenstecnologias', 'isso', 'seria', 'sobre', 'o', 'php', 'ser', 'uma', 'linguagem', 'interpretada', 'somente', 'o', 'php', 'ou', 'todas', 'as', 'linguagens', 'interpretadas', 'ou', 'correlacionadas', 'entendendo', 'melhor', 'o', 'tipo', 'de', 'resposta', 'que', 'eu', 'gostaria', 'como', 'no', 'comentário', 'feito', 'é', 'dito', 'isso', 'porque', 'o', 'php', 'não', 'foi', 'feito', 'para', 'ser', 'rápido', 'simples', 'assim', 'php', 'foi', 'criado', 'para', 'ser', 'fácil', 'e', 'ter', 'entrega', 'rápida', 'abrindo', 'mão', 'da', 'performance', 'que', 'em', 'aplicações', 'web', 'não', 'é', 'crítica', 'se', 'precisa', 'de', 'performance', 'não', 'use', 'php', 'assim', 'como', 'se', 'precisar', 'martelar', 'um', 'prego', 'não', 'use', 'um', 'alicate', 'anderson', 'carlos', 'woss', 'antes', 'de', 'comentar', 'ou', 'responder', 'entenda', 'não', 'é', 'comparar', 'qual', 'a', 'melhor', 'linguagem', 'ou', 'opinião', 'mas', 'sim', 'sobre', 'a', 'diferença', 'entre', 'as', 'tecnologias', 'eou', 'seus', 'limites', 'o', 'que', 'significam', 'e', 'quais', 'as', 'melhores', 'práticas', 'para', 'usálos', 'é', 'comum', 'um', 'usuário', 'não', 'poder', 'usar', 'todos', 'os', 'elementos', 'da', 'interface', 'isto', 'pode', 'ocorrer', 'de', 'forma', 'permanente', 'ou', 'semipermanente', 'já', 'que', 'alguma', 'configuração', 'ou', 'mudança', 'de', 'permissão', 'pode', 'mudar', 'isto', 'ou', 'momentânea', 'normalmente', 'existem', 'estratégias', 'que', 'podem', 'ser', 'usadas', 'deixa', 'o', 'usuário', 'usálo', 'e', 'apresenta', 'uma', 'mensagem', 'de', 'erro', 'indicando', 'que', 'ele', 'não', 'pode', 'fazer', 'aquilo', 'proíbe', 'seu', 'uso', 'e', 'marca', 'o', 'objeto', 'com', 'alguma', 'cor', 'que', 'diferencie', 'o', 'estado', 'proibido', 'dele', 'esconde', 'por', 'completo', 'o', 'objeto', 'da', 'ui', 'quando', 'e', 'por', 'que', 'usar', 'cada', 'estratégia', 'faz', 'diferença', 'se', 'a', 'proibição', 'é', 'semipermanente', 'ou', 'se', 'é', 'circunstancial', 'faz', 'diferença', 'se', 'é', 'web', 'mobile', 'ou', 'desktop', 'ou', 'ainda', 'outro', 'dispositivo', 'sei', 'lá', 'um', 'painel', 'industrial', 'por', 'exemplo', 'existe', 'alguma', 'coisa', 'importante', 'que', 'eu', 'não', 'percebi', 'sobre', 'o', 'assunto', 'sintase', 'livre', 'para', 'complementar', 'o', 'que', 'quiser', 'o', 'fato', 'de', 'uma', 'função', 'ser', 'maior', 'ou', 'menor', 'afeta', 'a', 'performance', 'da', 'aplicação', 'especialmente', 'em', 'php', 'se', 'precisar', 'de', 'performance', 'seria', 'melhor', 'funções', 'grandes', 'ou', 'pequenas', 'e', 'o', 'consumo', 'de', 'memória', 'é', 'afetado', 'se', 'uma', 'função', 'grande', 'dá', 'lugar', 'a', 'diversas', 'funções', 'pequenas', 'em', 'c', 'variáveis', 'locais', 'no', 'escopo', 'de', 'um', 'método', 'podem', 'ser', 'declaradas', 'com', 'tipo', 'implícito', 'usando', 'code', 'e', 'o', 'tipo', 'é', 'resolvido', 'em', 'tempo', 'de', 'compilação', 'code', 'exemplo', 'da', 'msdn', 'casos', 'de', 'uso', 'de', 'tipos', 'anônimos', 'chegam', 'a', 'exigir', 'o', 'code', 'como', 'já', 'mencionado', 'numa', 'resposta', 'aqui', 'do', 'site', 'porém', 'nos', 'casos', 'em', 'que', 'ele', 'é', 'opcional', 'a', 'escolha', 'é', 'puramente', 'uma', 'questão', 'de', 'estilo', 'existem', 'recomendações', 'oficiais', 'ou', 'não', 'contanto', 'que', 'justificadas', 'para', 'se', 'utilizar', 'ou', 'evitar', 'o', 'code', 'em', 'determinadas', 'situações', 'quais', 'as', 'principais', 'diferenças', 'entre', 'as', 'engines', 'code', 'e', 'code', 'e', 'qual', 'a', 'situação', 'mais', 'apropriada', 'para', 'o', 'uso', 'de', 'cada', 'sei', 'que', 'code', 'não', 'suporta', 'code', 'mas', 'suporta', 'code', 'enquanto', 'no', 'code', 'é', 'o', 'contrário', 'pelo', 'menos', 'até', 'a', 'versão', 'do', 'mysql', 'por', 'que', 'um', 'sgbdr', 'rdbms', 'tem', 'como', 'padrão', 'uma', 'engine', 'que', 'não', 'oferece', 'meios', 'para', 'relacionar', 'as', 'tabelas', 'qual', 'tipo', 'do', 'campo', 'cpf', 'ou', 'cnpj', 'no', 'banco', 'de', 'dados', 'code', 'ou', 'code', 'já', 'vi', 'alguns', 'posts', 'sugerindo', 'usar', 'code', 'para', 'otimizar', 'a', 'performance', 'no', 'caso', 'de', 'codee', 'filtros', 'se', 'possuir', 'a', 'esquerda', 'é', 'só', 'completar', 'de', 'acordo', 'com', 'o', 'tamanho', 'do', 'campo', 'armazenado', 'cpf', 'ou', 'cnpj', 'para', 'efetuar', 'a', 'validação', 'então', 'qual', 'seria', 'a', 'melhor', 'abordagem', 'tenho', 'ouvido', 'falar', 'muito', 'sobre', 'metodologias', 'ágeis', 'e', 'gostei', 'bastante', 'da', 'ideia', 'claro', 'que', 'pelo', 'que', 'vi', 'o', 'cliente', 'precisa', 'cooperar', 'mas', 'me', 'parece', 'que', 'para', 'projetos', 'próprios', 'ou', 'seja', 'cuja', 'ideia', 'seja', 'minha', 'e', 'não', 'de', 'um', 'cliente', 'essas', 'metodologias', 'podem', 'ajudar', 'bastante', 'minha', 'dúvida', 'na', 'realidade', 'é', 'se', 'essas', 'ideias', 'todas', 'se', 'aplicam', 'a', 'programadores', 'que', 'trabalham', 'sozinhos', 'a', 'ideia', 'de', 'agilidade', 'na', 'primeira', 'vez', 'que', 'a', 'vi', 'parecia', 'ser', 'basicamente', 'a', 'ideia', 'de', 'quebrar', 'o', 'processo', 'de', 'desenvolvimento', 'de', 'um', 'software', 'em', 'várias', 'iterações', 'cada', 'uma', 'composta', 'por', 'análise', 'design', 'e', 'programação', 'pesquisando', 'mais', 'porém', 'tudo', 'que', 'achei', 'se', 'relaciona', 'com', 'equipes', 'achei', 'várias', 'formas', 'de', 'se', 'usar', 'metodologias', 'ágeis', 'como', 'scrum', 'etc', 'mas', 'tudo', 'que', 'eu', 'lia', 'sobre', 'o', 'assunto', 'falava', 'sobre', 'equipes', 'dividir', 'tarefas', 'etc', 'minha', 'pergunta', 'é', 'existe', 'uma', 'forma', 'de', 'se', 'utilizar', 'metodologias', 'ágeis', 'trabalhando', 'sozinho', 'se', 'sim', 'onde', 'posso', 'ver', 'mais', 'sobre', 'isso', 'estou', 'criando', 'meu', 'primeiro', 'aplicativo', 'na', 'plataforma', 'android', 'e', 'até', 'onde', 'eu', 'sei', 'um', 'dos', 'pontos', 'negativos', 'dessa', 'plataforma', 'é', 'que', 'os', 'dispositivos', 'existentes', 'no', 'mercado', 'possuem', 'diferentes', 'tamanhos', 'de', 'telas', 'eu', 'criei', 'um', 'projeto', 'no', 'eclipse', 'e', 'verifiquei', 'que', 'ele', 'cria', 'tipos', 'de', 'pastas', 'para', 'adicionar', 'as', 'imagens', 'e', 'a', 'minha', 'dúvida', 'é', 'a', 'seguinte', 'como', 'saber', 'qual', 'o', 'tamanho', 'das', 'imagens', 'referente', 'a', 'cada', 'tipo', 'de', 'tela', 'eu', 'tenho', 'uma', 'imagem', 'com', 'o', 'tamanho', 'de', 'x', 'e', 'funciona', 'corretamente', 'para', 'a', 'tela', 'do', 's', 'mas', 'em', 'outros', 'celulares', 'com', 'telas', 'menores', 'fica', 'bastante', 'diferente', 'o', 'que', 'tenho', 'que', 'fazer', 'para', 'deixar', 'todos', 'de', 'acordo', 'indiferente', 'do', 'tamanho', 'da', 'tela', 'qual', 'o', 'tamanho', 'das', 'imagens', 'para', 'cada', 'pasta', 'se', 'tenho', 'uma', 'imagem', 'para', 's', 'no', 'tamanho', 'x', 'estou', 'estudando', 'programação', 'de', 'nodejs', 'realtime', 'e', 'me', 'surgiram', 'algumas', 'dúvidas', 'a', 'respeito', 'de', 'sockets', 'de', 'rede', 'não', 'achei', 'nada', 'detalhadamente', 'explicado', 'dai', 'resolvi', 'abrir', 'a', 'questão', 'o', 'que', 'é', 'um', 'socket', 'de', 'rede', 'e', 'um', 'websocket', 'qual', 'a', 'diferença', 'entre', 'os', 'dois', 'uma', 'comunicação', 'http', 'baseada', 'em', 'requisiçãoresposta', 'sem', 'ser', 'em', 'tempo', 'real', 'é', 'dada', 'através', 'de', 'um', 'socket', 'qual', 'é', 'o', 'papel', 'do', 'protocolo', 'tcp', 'nos', 'sockets', 'e', 'websockets', 'para', 'que', 'serve', 'o', 'code', 'no', 'javascript', 'ele', 'funciona', 'apenas', 'para', 'obter', 'os', 'valores', 'do', 'objeto', 'como', 'se', 'fosse', 'uma', 'variável', 'ou', 'também', 'é', 'possível', 'definir', 'ou', 'alterar', 'propriedades', 'através', 'dele', 'exemplo', 'code', 'por', 'vezes', 'vejo', 'em', 'documentações', 'ou', 'especificações', 'que', 'um', 'determinado', 'valor', 'no', 'geral', 'string', 'pode', 'ou', 'deve', 'ser', 'considerado', 'opaco', 'o', 'que', 'isso', 'realmente', 'quer', 'dizer', 'quais', 'são', 'as', 'características', 'que', 'definem', 'uma', 'string', 'como', 'opaca', 'a', 'citar', 'vale', 'referenciar', 'a', 'rfc', 'também', 'discutida', 'nesta', 'pergunta', 'que', 'afirma', 'que', 'um', 'segmento', 'de', 'caminho', 'é', 'considerado', 'opaco', 'pela', 'sintaxe', 'genérica', 'a', 'path', 'segment', 'is', 'considered', 'opaque', 'by', 'the', 'generic', 'syntax', 'assim', 'como', 'é', 'válido', 'referenciar', 'a', 'documentação', 'na', 'mdn', 'sobre', 'o', 'atributo', 'code', 'que', 'diz', 'que', 'o', 'valor', 'do', 'atributo', 'é', 'uma', 'string', 'opaca', 'this', 'attributes', 'value', 'is', 'an', 'opaque', 'string', 'o', 'significado', 'de', 'opaco', 'nas', 'duas', 'situações', 'é', 'o', 'mesmo', 'pois', 'ainda', 'na', 'documentação', 'mdn', 'há', 'logo', 'após', 'o', 'trecho', 'citado', 'a', 'seguinte', 'afirmação', 'this', 'means', 'that', 'web', 'author', 'must', 'not', 'use', 'it', 'to', 'convey', 'any', 'information', 'que', 'traduzindo', 'seria', 'que', 'o', 'autor', 'não', 'deve', 'utilizar', 'o', 'atributo', 'code', 'para', 'transmitir', 'qualquer', 'informação', 'considerando', 'que', 'o', 'path', 'da', 'url', 'é', 'o', 'identificador', 'de', 'recurso', 'requisitado', 'é', 'correto', 'afirmar', 'que', 'este', 'também', 'é', 'opaco', 'por', 'não', 'carregar', 'nenhuma', 'informação', 'em', 'caso', 'afirmativo', 'uma', 'url', 'amigável', 'que', 'carrega', 'valores', 'de', 'atributos', 'no', 'path', 'por', 'exemplo', 'code', 'quebram', 'a', 'definição', 'de', 'valor', 'opaco', 'opcional', 'para', 'respostas', 'citar', 'outros', 'valores', 'que', 'são', 'considerados', 'opacos', 'certa', 'vez', 'eu', 'vi', 'um', 'código', 'em', 'c', 'com', 'a', 'seguinte', 'linha', 'code', 'o', 'que', 'significa', 'em', 'linguagem', 'c', 'há', 'muito', 'tempo', 'atrás', 'vi', 'em', 'laboratório', 'um', 'programa', 'chamado', 'povray', 'e', 'uma', 'dúvida', 'me', 'instigou', 'o', 'professor', 'disse', 'que', 'é', 'uma', 'linguagem', 'de', 'programação', 'e', 'argumentou', 'ora', 'tem', 'código', 'fonte', 'sintaxe', 'semântica', 'e', 'compilador', 'logo', 'é', 'uma', 'linguagem', 'de', 'programação', 'é', 'correto', 'fazer', 'tal', 'afirmação', 'usando', 'esses', 'argumentos', 'como', 'podemos', 'definir', 'uma', 'linguagem', 'de', 'programação', 'quais', 'elementos', 'se', 'faz', 'necessário', 'estar', 'presente', 'para', 'que', 'seja', 'enquadrado', 'uma', 'dúvida', 'muito', 'comum', 'é', 'por', 'que', 'devemos', 'parar', 'de', 'usar', 'funções', 'do', 'tipo', 'mysql_', 'por', 'exemplo', 'code', 'ou', 'code', 'vejo', 'que', 'muitas', 'pessoas', 'as', 'usam', 'ou', 'param', 'de', 'usar', 'mas', 'não', 'sabem', 'o', 'real', 'motivo', 'por', 'que', 'elas', 'deveriam', 'parar', 'de', 'ser', 'usadas', 'uma', 'vez', 'que', 'funcionam', 'na', 'documentação', 'do', 'php', 'sobre', 'o', 'code', 'diz', 'nota', 'note', 'que', 'o', 'switchcase', 'faz', 'comparação', 'frouxa', 'o', 'que', 'é', 'uma', 'comparação', 'frouxa', 'e', 'qual', 'a', 'diferença', 'entre', 'uma', 'comparação', 'frouxa', 'e', 'uma', 'rígida', 'supondo', 'uma', 'condição', 'onde', 'eu', 'tenho', 'um', 'projeto', 'com', 'commits', 'e', 'decido', 'por', 'razões', 'inexplicáveis', 'voltar', 'alguns', 'commits', 'independente', 'se', 'quero', 'voltar', 'ou', 'supondo', 'que', 'a', 'descrição', 'de', 'meus', 'commits', 'são', 'bem', 'claros', 'visualizo', 'meus', 'últimos', 'commits', 'usando', 'o', 'comando', 'code', 'e', 'depois', 'de', 'localizado', 'como', 'faço', 'pra', 'reverter', 'pra', 'um', 'específico', 'commit', 'quais', 'os', 'possíveis', 'problemas', 'que', 'posso', 'encontrar', 'e', 'como', 'sanálos', 'quando', 'estudei', 'java', 'aprendi', 'que', 'exceções', 'somente', 'deveriam', 'ser', 'usadas', 'em', 'situações', 'bem', 'excepcionais', 'ie', 'um', 'erro', 'uma', 'condição', 'não', 'prevista', 'etc', 'jamais', 'para', 'controle', 'de', 'fluxo', 'normal', 'não', 'só', 'por', 'ser', 'menos', 'performático', 'criar', 'uma', 'exceção', 'envolve', 'montar', 'um', 'stack', 'trace', 'dentre', 'outras', 'coisas', 'mas', 'por', 'ser', 'menos', 'elegante', 'e', 'correto', 'o', 'ideal', 'sendo', 'testar', 'as', 'précondições', 'antes', 'de', 'se', 'fazer', 'uma', 'operação', 'ou', 'chamar', 'um', 'método', 'ou', 'para', 'sinalizar', 'um', 'erro', 'ao', 'chamador', 'usar', 'um', 'código', 'de', 'erro', 'ou', 'similar', 'somente', 'nos', 'casos', 'realmente', 'imprevisíveis', 'é', 'que', 'seria', 'adequado', 'se', 'usar', 'um', 'code', 'entretanto', 'ao', 'aprender', 'python', 'me', 'deparei', 'com', 'uma', 'filosofia', 'bastante', 'diferente', 'nessa', 'linguagem', 'há', 'muitos', 'casos', 'em', 'que', 'o', 'modo', 'recomendado', 'e', 'às', 'vezes', 'o', 'único', 'modo', 'de', 'se', 'tratar', 'uma', 'condição', 'indesejada', 'é', 'tentar', 'executála', 'e', 'se', 'algo', 'der', 'errado', 'capturar', 'a', 'exceção', 'não', 'há', 'menção', 'a', 'performance', 'e', 'muitas', 'vezes', 'justificase', 'essa', 'abordagem', 'para', 'se', 'prevenir', 'condições', 'de', 'corrida', 'ex', 'em', 'vez', 'de', 'testar', 'se', 'um', 'arquivo', 'existe', 'antes', 'de', 'abrilo', 'simplesmente', 'abrao', 'de', 'uma', 'vez', 'afinal', 'ele', 'poderia', 'ser', 'apagado', 'entre', 'o', 'teste', 'e', 'o', 'uso', 'e', 'se', 'o', 'programa', 'não', 'está', 'preparado', 'para', 'isso', 'seu', 'comportamento', 'nessa', 'situação', 'pode', 'ficar', 'incorreto', 'entendo', 'que', 'se', 'uma', 'linguagemplataforma', 'segue', 'um', 'determinado', 'paradigma', 'é', 'aconselhável', 'se', 'ater', 'a', 'ele', 'nem', 'que', 'seja', 'por', 'questões', 'de', 'consistência', 'mas', 'assumindose', 'que', 'não', 'só', 'linguagens', 'novas', 'possam', 'ser', 'criadas', 'como', 'as', 'existentes', 'possam', 'ser', 'aprimoradas', 'pergunto', 'existem', 'vantagens', 'claras', 'de', 'um', 'desses', 'paradigmas', 'sobre', 'o', 'outro', 'ou', 'talvez', 'situações', 'específicas', 'em', 'que', 'se', 'justifique', 'usar', 'um', 'ou', 'outro', 'padrão', 'mesmo', 'que', 'contrarie', 'as', 'recomendações', 'oficiais', 'que', 'parâmetros', 'eu', 'devo', 'observar', 'ao', 'decidir', 'entre', 'uma', 'abordagem', 'e', 'outra', 'a', 'título', 'de', 'exemplo', 'há', 'muitas', 'situações', 'em', 'que', 'o', 'argumento', 'da', 'condição', 'de', 'corrida', 'não', 'se', 'aplica', 'quando', 'os', 'dados', 'envolvidos', 'na', 'operação', 'são', 'imutáveis', 'por', 'exemplo', 'por', 'fim', 'há', 'algum', 'meio', 'termo', 'razoável', 'que', 'combine', 'os', 'benefícios', 'de', 'ambos', 'sem', 'que', 'o', 'ônus', 'caia', 'no', 'programador', 'por', 'exemplo', 'poderia', 'testar', 'se', 'o', 'arquivo', 'existe', 'e', 'usar', 'um', 'code', 'em', 'seguida', 'mas', 'isso', 'seria', 'redundante', 'nota', 'peço', 'que', 'esse', 'último', 'ponto', 'caso', 'abordado', 'na', 'resposta', 'venha', 'acompanhado', 'de', 'fontes', 'confiáveis', 'para', 'evitar', 'mera', 'especulação', 'ps', 'algumas', 'referências', 'demonstrando', 'que', 'esse', 'uso', 'corriqueiro', 'de', 'exceções', 'é', 'de', 'fato', 'bastante', 'recomendado', 'na', 'comunidade', 'python', 'em', 'oposição', 'à', 'maioria', 'das', 'outras', 'better', 'to', 'try', 'something', 'and', 'catch', 'the', 'exception', 'or', 'test', 'if', 'its', 'possible', 'first', 'to', 'avoid', 'an', 'exception', 'is', 'it', 'a', 'good', 'practice', 'to', 'use', 'tryexceptelse', 'in', 'python', 'how', 'do', 'i', 'check', 'if', 'a', 'string', 'is', 'a', 'number', 'in', 'python', 'python', 'exception', 'handling', 'techniques', 'look', 'before', 'you', 'leap', 'vs', 'easier', 'to', 'ask', 'for', 'forgiveness', 'than', 'permission', 'exceptions', 'and', 'file', 'handling', 'dive', 'into', 'python', 'o', 'que', 'é', 'a', 'complexidade', 'de', 'um', 'algoritmo', 'e', 'quais', 'as', 'formas', 'de', 'medila', 'big', 'o', 'big', 'theta', 'tenho', 'uma', 'página', 'e', 'nela', 'o', 'conteúdo', 'que', 'quero', 'imprimir', 'criei', 'um', 'comando', 'em', 'javascript', 'porém', 'esse', 'comando', 'faz', 'imprimir', 'a', 'página', 'inteira', 'existe', 'alguma', 'forma', 'de', 'ser', 'impresso', 'apenas', 'o', 'conteúdo', 'de', 'uma', 'code', 'quando', 'devo', 'usar', 'um', 'arquivo', 'javascript', 'ou', 'jquery', 'com', 'arquivo', 'code', 'e', 'codepuro', 'tipo', 'code', 'a', 'partir', 'do', 'php', 'temos', 'o', 'code', 'que', 'são', 'mecanismos', 'que', 'ajudam', 'e', 'muito', 'a', 'reutilização', 'de', 'código', 'e', 'servem', 'perfeitamente', 'para', 'resolver', 'o', 'problema', 'da', 'falta', 'de', 'herança', 'múltipla', 'exemplo', 'de', 'classe', 'abastrata', 'code', 'exemplo', 'com', 'traits', 'e', 'interfaces', 'code', 'para', 'os', 'dois', 'casos', 'eu', 'poderia', 'fazer', 'algo', 'como', 'code', 'aí', 'surgiu', 'algumas', 'confusões', 'na', 'minha', 'mente', 'quando', 'é', 'que', 'devo', 'utilizar', 'uma', 'classe', 'abstrata', 'ou', 'uma', 'simples', 'herança', 'quando', 'é', 'que', 'devo', 'utilizar', 'o', 'trait', 'seguido', 'de', 'uma', 'interface', 'implementada', 'na', 'classe', 'que', 'vai', 'usálo', 'segundo', 'algumas', 'recomendações', 'que', 'li', 'internet', 'a', 'fora', 'por', 'que', 'dizem', 'não', 'ser', 'recomendável', 'utilizar', 'um', 'code', 'sem', 'implementar', 'code', 'devo', 'implementar', 'uma', 'interface', 'numa', 'code', 'visto', 'que', 'a', 'própria', 'classe', 'abstrata', 'já', 'pode', 'forçar', 'a', 'criação', 'de', 'um', 'método', 'para', 'a', 'classe', 'que', 'extenderá', 'a', 'classe', 'abstrata', 'o', 'seguinte', 'código', 'imprime', 'vezes', 'o', 'texto', 'mensagem', 'em', 'um', 'code', 'code', 'veja', 'o', 'exemplo', 'no', 'jsfiddle', 'eu', 'entendo', 'que', 'isso', 'ocorre', 'porque', 'o', 'valor', 'de', 'code', 'é', 'atualizado', 'na', 'função', 'externa', 'e', 'no', 'momento', 'da', 'execução', 'da', 'função', 'interna', 'a', 'referência', 'aponta', 'para', 'o', 'valor', 'atualizado', 'como', 'fazer', 'para', 'imprimir', 'o', 'valor', 'da', 'variável', 'code', 'correspondente', 'ao', 'número', 'da', 'iteração', 'ou', 'seja', 'o', 'valor', 'de', 'code', 'no', 'momento', 'em', 'que', 'a', 'função', 'interna', 'foi', 'criada', 'na', 'chamado', 'do', 'code', 'resultando', 'em', 'textos', 'de', 'mensagem', 'a', 'mensagem', 'pelo', 'que', 'percebo', 'vejo', 'um', 'recuo', 'em', 'relação', 'a', 'outro', 'elemento', 'quando', 'definidas', 'as', 'propriedades', 'code', 'existe', 'diferença', 'entre', 'code', 'e', 'code', 'no', 'css', 'uma', 'resposta', 'com', 'exemplosimagens', 'ou', 'código', 'ajudaria', 'bastante', 'no', 'entendimento', 'da', 'questão', 'atualmente', 'temos', 'percebido', 'que', 'muita', 'gente', 'vem', 'utilizando', 'a', 'tag', 'code', 'para', 'ícones', 'e', 'não', 'para', 'itálico', 'se', 'ainda', 'estivéssemos', 'na', 'era', 'préhtml', 'isso', 'estaria', 'totalmente', 'errado', 'segundo', 'especificação', 'da', 'tag', 'code', 'do', 'html', 'agora', 'ela', 'é', 'utilizada', 'para', 'o', 'texto', 'de', 'uma', 'voz', 'alternativa', 'como', 'palavras', 'estrangeiras', 'transliteradas', 'termos', 'técnicos', 'e', 'tipografias', 'então', 'se', 'utilizarmos', 'icon', 'fonts', 'que', 'são', 'tipografias', 'de', 'imagens', 'o', 'código', 'continuará', 'semanticamente', 'correto', 'certo', 'em', 'linguagens', 'como', 'java', 'os', 'parâmetros', 'de', 'métodos', 'são', 'validados', 'na', 'compilação', 'pelo', 'menos', 'o', 'tipo', 'code', 'em', 'linguagens', 'de', 'tipagem', 'dinâmica', 'como', 'javascript', 'é', 'recomendado', 'validar', 'a', 'entrada', 'para', 'evitar', 'problemas', 'code', 'isso', 'fica', 'mais', 'complexo', 'quando', 'se', 'trabalha', 'com', 'objetos', 'e', 'arrays', 'code', 'entre', 'os', 'problemas', 'de', 'tantas', 'validações', 'está', 'código', 'poluído', 'desempenho', 'da', 'aplicação', 'prejudicado', 'apesar', 'disso', 'isto', 'pode', 'evitar', 'alguns', 'problemas', 'até', 'que', 'ponto', 'ir', 'com', 'esta', 'estória', 'de', 'validação', 'de', 'entrada', 'existe', 'alguma', 'alternativa', 'mais', 'interessante', 'o', 'operador', 'code', 'diz', 'que', 'as', 'strings', 'são', 'diferentes', 'sendo', 'que', 'elas', 'armazenam', 'o', 'mesmo', 'valor', 'literal', 'veja', 'o', 'exemplo', 'code', 'resultado', 'code', 'como', 'fazer', 'para', 'comparar', 'o', 'valor', 'literal', 'das', 'strings', 'sempre', 'tenho', 'visto', 'em', 'alguns', 'frameworks', 'que', 'trabalham', 'com', 'rest', 'ou', 'com', 'envio', 'de', 'dados', 'em', 'formato', 'json', 'numa', 'requisição', 'o', 'uso', 'da', 'expressão', 'payload', 'o', 'que', 'significa', 'esse', 'nome', 'em', 'requisições', 'http', 'o', 'que', 'é', 'especificamente', 'um', 'payload', 'é', 'um', 'corpo', 'de', 'uma', 'requisição', 'em', 'formato', 'json', 'um', 'exemplo', 'do', 'termo', 'sendo', 'usado', 'pelo', 'google', 'chrome', 'exemplo', 'exemplo', 'qual', 'é', 'a', 'melhor', 'forma', 'de', 'iterar', 'os', 'objetos', 'em', 'um', 'code', 'no', 'java', 'de', 'forma', 'a', 'ter', 'acesso', 'à', 'chave', 'e', 'ao', 'valor', 'de', 'cada', 'entrada', 'estou', 'estudando', 'javascript', 'e', 'tenho', 'dúvidas', 'quanto', 'às', 'diferentes', 'formas', 'de', 'se', 'fazer', 'um', 'code', 'code', 'por', 'exemplo', 'isto', 'code', 'como', 'exatamente', 'funciona', 'geralmente', 'quando', 'precisamos', 'recorrer', 'à', 'requisições', 'ajax', 'usando', 'javascript', 'temos', 'à', 'mão', 'apis', 'que', 'nos', 'auxiliam', 'com', 'isso', 'ex', 'jquery', 'porém', 'qual', 'seria', 'a', 'maneira', 'mais', 'segura', 'e', 'crossbrowser', 'de', 'realizar', 'essas', 'requisições', 'post', 'e', 'get', 'usando', 'javascript', 'puro', 'às', 'vezes', 'parece', 'que', 'estamos', 'falamos', 'da', 'mesma', 'coisa', 'claro', 'não', 'é', 'quando', 'estes', 'conceitos', 'estão', 'sendo', 'utilizados', 'qual', 'é', 'a', 'real', 'diferença', 'entre', 'eles', 'quando', 'utilizar', 'um', 'ou', 'outro', 'me', 'parece', 'que', 'o', 'conceito', 'de', 'protótipo', 'é', 'fundamental', 'em', 'javascript', 'e', 'inclusive', 'em', 'vários', 'lugares', 'tenho', 'lido', 'que', 'é', 'um', 'de', 'seus', 'pontos', 'fortes', 'entretanto', 'este', 'não', 'parece', 'um', 'conceito', 'tão', 'simples', 'de', 'entender', 'para', 'quem', 'vem', 'de', 'outras', 'linguagens', 'assim', 'pergunto', 'como', 'funcionam', 'protótipos', 'em', 'javascript', 'durante', 'meus', 'trabalhos', 'eu', 'aprendi', 'uma', 'forma', 'de', 'lidar', 'com', 'code', 'mas', 'não', 'sei', 'se', 'é', 'muito', 'boa', 'aqui', 'vai', 'um', 'exemplo', 'do', 'código', 'code', 'a', 'minha', 'ideia', 'é', 'mapear', 'os', 'erros', 'e', 'jogar', 'a', 'responsabilidade', 'de', 'seu', 'tratamento', 'para', 'o', 'método', 'principal', 'para', 'ser', 'mais', 'objetivo', 'vou', 'direto', 'as', 'perguntas', 'gostaria', 'de', 'saber', 'a', 'opnião', 'de', 'vocês', 'existe', 'uma', 'forma', 'melhor', 'correta', 'de', 'propagar', 'e', 'exibir', 'as', 'exceções', 'de', 'forma', 'simples', 'essa', 'é', 'uma', 'boa', 'forma', 'de', 'lidar', 'com', 'exceptions', 'qual', 'a', 'importância', 'de', 'capturar', 'code', 'mais', 'especificas', 'por', 'exemplo', 'dividebyzeroexception', 'o', 'que', 'é', 'o', 'cgi', 'common', 'gateway', 'interface', 'e', 'o', 'que', 'ele', 'faz', 'é', 'uma', 'tecnologia', 'antiga', 'existem', 'outras', 'alternativas', 'a', 'ele', 'se', 'sim', 'quais', 'encontrei', 'em', 'um', 'arquivo', 'minificado', 'do', 'bootstrap', 'o', 'seguinte', 'code', 'o', 'operador', 'code', 'parece', 'estar', 'sendo', 'aplicado', 'entre', 'duas', 'strings', 'o', 'que', 'significa', 'isso', 'o', 'que', 'é', 'oauth', 'qual', 'sua', 'finalidade', 'o', 'que', 'ele', 'faz', 'existe', 'outras', 'tecnologias', 'alternativas', 'a', 'ele', 'o', 'dry', 'significa', 'dont', 'repeat', 'yourself', 'então', 'toda', 'vez', 'que', 'eu', 'ver', 'uma', 'repetição', 'no', 'código', 'não', 'estou', 'fazendo', 'dry', 'o', 'dry', 'é', 'sobre', 'não', 'ter', 'redundâncias', 'como', 'ele', 'deve', 'ser', 'aplicado', 'no', 'método', 'code', 'da', 'classe', 'code', 'eu', 'tenho', 'configurado', 'um', 'code', 'code', 'isso', 'faz', 'com', 'que', 'os', 'dados', 'recebidos', 'ou', 'enviados', 'por', 'json', 'sejam', 'convertidos', 'de', 'code', 'padrão', 'do', 'client', 'javascript', 'para', 'code', 'padrão', 'que', 'uso', 'nas', 'propriedades', 'no', 'server', 'e', 'viceversa', 'ex', 'de', 'json', 'que', 'a', 'api', 'recebe', 'num', 'método', 'code', 'normal', 'sem', 'usar', 'o', 'code', 'code', 'isso', 'é', 'traduzido', 'para', 'code', 'até', 'aí', 'tudo', 'bem', 'o', 'problema', 'é', 'que', 'eu', 'tenho', 'uma', 'code', 'code', 'em', 'um', 'code', 'que', 'faz', 'uso', 'do', 'code', 'e', 'as', 'requisições', 'que', 'são', 'enviadas', 'para', 'este', 'método', 'acabam', 'não', 'passando', 'por', 'esta', 'tradução', 'eu', 'li', 'em', 'alguns', 'lugares', 'que', 'o', 'odata', 'usa', 'um', 'serializador', 'e', 'um', 'deserializador', 'próprio', 'e', 'este', 'deve', 'ser', 'o', 'problema', 'método', 'code', 'do', 'code', 'code', 'existe', 'alguma', 'forma', 'de', 'tratar', 'o', 'casing', 'dos', 'dados', 'recebidos', 'em', 'code', 'que', 'usam', 'odata', 'eu', 'vou', 'precisar', 'escrever', 'um', 'novo', 'serializador', 'ou', 'já', 'tem', 'algo', 'pronto', 'que', 'possa', 'me', 'ajudar', 'com', 'isso', 'se', 'for', 'necessário', 'escrever', 'um', 'serializador', 'é', 'possível', 'me', 'ajudar', 'com', 'pelo', 'menos', 'a', 'implementação', 'básica', 'do', 'mesmo', 'exemplo', 'do', 'json', 'que', 'recebo', 'no', 'método', 'com', 'code', 'code', 'se', 'eu', 'enviar', 'o', 'json', 'como', 'o', 'abaixo', 'funciona', 'normal', 'code', 'obs', 'estou', 'usando', 'owin', 'mas', 'a', 'aplicação', 'está', 'sendo', 'hospedada', 'no', 'iis', 'usando', 'o', 'pacote', 'code', 'qual', 'a', 'diferença', 'entre', 'ienumerable', 'iqueryable', 'e', 'list', 'no', 'net', 'quando', 'é', 'melhor', 'usar', 'uma', 'ou', 'outra', 'por', 'que', 'o', 'resharper', 'me', 'sugere', 'modificar', 'o', 'retorno', 'dessa', 'função', 'por', 'exemplo', 'de', 'code', 'code', 'para', 'code', 'code', 'ouvi', 'falar', 'muito', 'em', 'comunicação', 'assíncrona', 'e', 'síncrona', 'porém', 'não', 'sei', 'o', 'que', 'realmente', 'são', 'elas', 'alguém', 'poderia', 'me', 'explicar', 'qual', 'a', 'diferença', 'e', 'o', 'funcionamento', 'de', 'cada', 'uma', 'quando', 'e', 'para', 'que', 'devo', 'usálas', 'se', 'possível', 'com', 'exemplos', 'de', 'código', 'estou', 'com', 'o', 'seguinte', 'código', 'em', 'javascript', 'code', 'por', 'que', 'a', 'expressão', 'com', 'o', 'operador', 'code', 'retorna', 'code', 'e', 'com', 'o', 'operador', 'code', 'retorna', 'code', 'qual', 'é', 'a', 'diferença', 'entre', 'os', 'dois', 'operadores', 'otimização', 'prematura', 'é', 'quando', 'há', 'uma', 'preocupação', 'excessiva', 'por', 'parte', 'do', 'programador', 'com', 'o', 'desempenho', 'da', 'aplicação', 'ela', 'é', 'normalmente', 'condenada', 'por', 'alguns', 'programadores', 'por', 'motivos', 'como', 'isso', 'pode', 'deixar', 'o', 'código', 'mais', 'complexo', 'sua', 'produtividade', 'cai', 'você', 'perde', 'tempo', 'há', 'uma', 'grande', 'chance', 'de', 'você', 'se', 'preocupar', 'muito', 'com', 'otimizações', 'que', 'não', 'trarão', 'uma', 'melhora', 'perceptível', 'pelo', 'usuário', 'a', 'recomendação', 'seria', 'que', 'você', 'primeiro', 'fizesse', 'funcionar', 'e', 'só', 'depois', 'identificasse', 'os', 'gargalos', 'de', 'desempenhos', 'e', 'os', 'corrigisse', 'porém', 'há', 'certas', 'otimizações', 'que', 'devem', 'ser', 'levadas', 'em', 'conta', 'desde', 'o', 'início', 'pois', 'depois', 'pode', 'se', 'tornar', 'mais', 'difícil', 'otimizar', 'até', 'que', 'ponto', 'devemos', 'nos', 'preocupar', 'com', 'o', 'desempenho', 'sem', 'que', 'isso', 'cause', 'uma', 'perda', 'considerável', 'na', 'produtividade', 'no', 'desenvolvimento', 'de', 'um', 'portal', 'web', 'utilizando', 'o', 'git', 'fizemos', 'o', 'controle', 'de', 'tudo', 'que', 'foi', 'alterado', 'a', 'nível', 'de', 'código', 'no', 'ambiente', 'homologação', 'e', 'com', 'o', 'jenkins', 'subimos', 'o', 'site', 'para', 'o', 'ambiente', 'de', 'produção', 'para', 'migrar', 'o', 'banco', 'foi', 'feita', 'um', 'dump', 'de', 'toda', 'a', 'base', 'que', 'foi', 'colocada', 'no', 'outro', 'ambiente', 'o', 'problema', 'está', 'nas', 'próximas', 'modificações', 'que', 'interfiram', 'na', 'estrutura', 'ou', 'no', 'conteúdo', 'do', 'banco', 'de', 'dados', 'com', 'o', 'site', 'sendo', 'utilizado', 'novos', 'conteúdos', 'vão', 'sendo', 'adicionados', 'e', 'já', 'não', 'posso', 'realizar', 'uma', 'nova', 'cópia', 'do', 'ambiente', 'de', 'homologação', 'sem', 'riscos', 'de', 'perder', 'informações', 'se', 'todas', 'as', 'alterações', 'no', 'banco', 'fossem', 'feitas', 'manualmente', 'eu', 'poderia', 'gerar', 'um', 'arquivo', 'sql', 'e', 'rodar', 'ele', 'no', 'produção', 'quando', 'fosse', 'subir', 'novas', 'alterações', 'mas', 'a', 'instalação', 'de', 'módulos', 'e', 'componentes', 'no', 'site', 'gera', 'alterações', 'no', 'banco', 'que', 'podem', 'não', 'ser', 'tão', 'simples', 'de', 'controlar', 'manualmente', 'gostaria', 'de', 'saber', 'se', 'há', 'uma', 'forma', 'de', 'versionar', 'o', 'banco', 'de', 'dados', 'assim', 'como', 'usamos', 'o', 'git', 'para', 'versionar', 'o', 'códigofonte', 'update', 'minha', 'principal', 'necessidade', 'é', 'encontrar', 'uma', 'maneiramétodo', 'para', 'replicar', 'as', 'alterações', 'feitas', 'no', 'ambiente', 'de', 'desenvolvimento', 'para', 'o', 'ambiente', 'de', 'homologação', 'e', 'produção', 'quais', 'problemas', 'um', 'programa', 'poderá', 'enfrentar', 'com', 'o', 'uso', 'de', 'estados', 'globais', 'onde', 'ele', 'pode', 'ser', 'aceitável', 'ou', 'seja', 'como', 'saber', 'se', 'estou', 'abusando', 'do', 'recurso', 'que', 'alternativas', 'existem', 'para', 'evitar', 'isto', 'eu', 'já', 'passei', 'perto', 'do', 'assunto', 'na', 'pergunta', 'por', 'que', 'no', 'devemos', 'usar', 'singleton', 'e', 'de', 'certa', 'forma', 'motivou', 'esta', 'nova', 'pergunta', 'um', 'heisenbug', 'é', 'um', 'bug', 'que', 'muda', 'seu', 'comportamento', 'ao', 'ser', 'estudado', 'ele', 'tem', 'seu', 'nome', 'derivado', 'devido', 'ao', 'princípio', 'que', 'heisenberg', 'detectou', 'que', 'a', 'simples', 'observação', 'passiva', 'de', 'processos', 'quânticos', 'alteram', 'o', 'resultado', 'final', 'heisenbugs', 'típicos', 'acontecem', 'com', 'condições', 'de', 'corrida', 'pois', 'qualquer', 'tipo', 'de', 'medição', 'que', 'você', 'faça', 'como', 'trace', 'debugging', 'ou', 'break', 'points', 'acaba', 'por', 'sincronizar', 'os', 'processos', 'concorrentes', 'de', 'uma', 'forma', 'ou', 'de', 'outra', 'o', 'andré', 'lfs', 'bacci', 'indicou', 'que', 'usar', 'ponto', 'flutuante', 'para', 'fins', 'monetários', 'podem', 'causar', 'heisenbugs', 'na', 'física', 'quântica', 'não', 'existem', 'observações', 'puramente', 'passivas', 'mas', 'isso', 'são', 'detalhes', 'então', 'imaginem', 'que', 'estou', 'numa', 'situação', 'complicada', 'tentando', 'resolver', 'um', 'problema', 'no', 'sistema', 'e', 'até', 'consigo', 'reproduzir', 'o', 'bug', 'mas', 'quando', 'eu', 'tento', 'ver', 'mais', 'coisas', 'sobre', 'o', 'bug', 'colocando', 'um', 'break', 'point', 'estratégico', 'esse', 'bug', 'deixa', 'de', 'acontecer', 'nesse', 'momento', 'me', 'deparo', 'com', 'aquela', 'situação', 'omg', 'um', 'heisenbug', 'o', 'phb', 'me', 'pergunta', 'o', 'que', 'está', 'acontecendo', 'o', 'suporte', 'está', 'com', 'o', 'cliente', 'na', 'linha', 'preciso', 'dar', 'uma', 'resposta', 'sobre', 'como', 'está', 'o', 'andamento', 'do', 'estudo', 'desse', 'problema', 'preciso', 'pedir', 'mais', 'tempo', 'para', 'tentar', 'sanar', 'porque', 'não', 'é', 'um', 'bug', 'simples', 'mas', 'um', 'heisenbug', 'como', 'consigo', 'explicar', 'para', 'o', 'chefe', 'e', 'para', 'o', 'suporte', 'sobre', 'o', 'heisenbug', 'eles', 'não', 'são', 'os', 'mais', 'profundos', 'conhecedores', 'da', 'programação', 'acham', 'que', 'só', 'por', 'um', 'code', 'resolve', 'o', 'problema', 'magicamente', 'de', 'preferência', 'explicações', 'que', 'não', 'resultem', 'na', 'minha', 'demissão', 'o', 'que', 'acontece', 'quando', 'se', 'faz', 'um', 'rebase', 'na', 'seguinte', 'situação', 'branch', 'master', 'com', 'commits', 'a', 'b', 'e', 'c', 'após', 'fazer', 'o', 'commit', 'c', 'criei', 'um', 'novo', 'branch', 'com', 'o', 'nome', 'design', 'fiz', 'um', 'commit', 'd', 'no', 'branch', 'design', 'e', 'voltei', 'ao', 'branch', 'master', 'fiz', 'um', 'commit', 'e', 'no', 'branch', 'master', 'atualmente', 'o', 'meu', 'histórico', 'de', 'commits', 'é', 'master', 'a', 'b', 'c', 'e', 'design', 'a', 'b', 'c', 'd', 'após', 'fazer', 'o', 'rebase', 'no', 'branch', 'master', 'o', 'histórico', 'ficará', 'da', 'seguinte', 'forma', 'master', 'a', 'b', 'c', 'd', 'e', 'design', 'a', 'b', 'c', 'd', 'se', 'a', 'resposta', 'é', 'sim', 'qual', 'o', 'objetivo', 'de', 'refazer', 'o', 'histórico', 'quando', 'uma', 'das', 'vantagens', 'do', 'git', 'é', 'poder', 'ver', 'o', 'histórico', 'tal', 'como', 'ele', 'é', 'se', 'posso', 'manipular', 'o', 'histórico', 'então', 'posso', 'não', 'ver', 'o', 'que', 'realmente', 'aconteceu', 'uma', 'code', 'de', 'uma', 'classe', 'não', 'é', 'a', 'mesma', 'coisa', 'que', 'um', 'code', 'qual', 'a', 'real', 'diferença', 'entre', 'eles', 'ou', 'code', 'é', 'um', 'sinônimo', 'para', 'code', 'ou', 'viceversa', 'ou', 'varia', 'conforme', 'a', 'linguagem', 'de', 'programação']\n"
     ]
    }
   ],
   "source": [
    "from nltk.tokenize import WhitespaceTokenizer\n",
    "\n",
    "todas_palavras_port = WhitespaceTokenizer().tokenize(todas_questoes_port)\n",
    "print(todas_palavras_port)"
   ]
  },
  {
   "cell_type": "code",
   "execution_count": 56,
   "metadata": {
    "colab": {},
    "colab_type": "code",
    "id": "_OqDGFsQomYM"
   },
   "outputs": [],
   "source": [
    "from nltk.lm.preprocessing import padded_everygram_pipeline\n",
    "\n",
    "port_treino_bigram, vocab_port = padded_everygram_pipeline(2,\n",
    "                                                           todas_palavras_port)"
   ]
  },
  {
   "cell_type": "code",
   "execution_count": 57,
   "metadata": {
    "colab": {},
    "colab_type": "code",
    "id": "yGukIwgeomYR"
   },
   "outputs": [],
   "source": [
    "from nltk.lm import MLE\n",
    "\n",
    "modelo_port = MLE(2)\n",
    "modelo_port.fit(port_treino_bigram, vocab_port)"
   ]
  },
  {
   "cell_type": "code",
   "execution_count": 58,
   "metadata": {
    "colab": {},
    "colab_type": "code",
    "id": "c0MU6byoomYW",
    "outputId": "dd33c600-e9b3-4740-d55e-f1fd9a506c1d"
   },
   "outputs": [
    {
     "data": {
      "text/plain": [
       "['</s>', 'e', '</s>', 't', 'm', '</s>']"
      ]
     },
     "execution_count": 58,
     "metadata": {},
     "output_type": "execute_result"
    }
   ],
   "source": [
    "modelo_port.generate(num_words=6)"
   ]
  },
  {
   "cell_type": "code",
   "execution_count": 59,
   "metadata": {
    "colab": {},
    "colab_type": "code",
    "id": "mrt9dWGuomYa",
    "outputId": "278f7a2b-314d-4652-fba1-1caf3f39d997"
   },
   "outputs": [
    {
     "data": {
      "text/plain": [
       "dict_items([('</s>', 2741), ('a', 2052), ('b', 144), ('p', 722), ('o', 854), ('e', 1503), ('u', 227), ('v', 16), ('í', 13), ('i', 290), ('ó', 37), ('â', 11), ('l', 23), ('é', 76), ('ú', 5), ('ã', 4), ('á', 32), ('s', 9), ('m', 25), ('g', 4), ('w', 1), ('_', 1), ('y', 10), ('d', 3)])"
      ]
     },
     "execution_count": 59,
     "metadata": {},
     "output_type": "execute_result"
    }
   ],
   "source": [
    "from nltk.lm import NgramCounter\n",
    "\n",
    "modelo_port.counts[['m']].items()"
   ]
  },
  {
   "cell_type": "code",
   "execution_count": 60,
   "metadata": {
    "colab": {},
    "colab_type": "code",
    "id": "bjrtTrVnomYg",
    "outputId": "f5a14cf3-e632-4611-8050-8f03fccb18b3"
   },
   "outputs": [
    {
     "name": "stdout",
     "output_type": "stream",
     "text": [
      "[[('<s>', 'g'), ('g', 'o'), ('o', 'o'), ('o', 'd'), ('d', '</s>')], [('<s>', 'm'), ('m', 'o'), ('o', 'r'), ('r', 'n'), ('n', 'i'), ('i', 'n'), ('n', 'g'), ('g', '</s>')]]\n"
     ]
    }
   ],
   "source": [
    "texto = \"good morning\"\n",
    "palavras = WhitespaceTokenizer().tokenize(texto)\n",
    "palavras_fakechar = [list(pad_both_ends(palavra, n = 2)) for palavra in palavras]\n",
    "palavras_bigramns = [list(bigrams(palavra)) for palavra in palavras_fakechar]\n",
    "print(palavras_bigramns)"
   ]
  },
  {
   "cell_type": "code",
   "execution_count": 61,
   "metadata": {
    "colab": {},
    "colab_type": "code",
    "id": "qyT1_zknomYl",
    "outputId": "7c16df68-cfc7-4eff-d0c5-7197407d0bcf"
   },
   "outputs": [
    {
     "name": "stdout",
     "output_type": "stream",
     "text": [
      "[('<s>', 'g'), ('g', 'o'), ('o', 'o'), ('o', 'd'), ('d', '</s>')]\n"
     ]
    }
   ],
   "source": [
    "print(palavras_bigramns[0])"
   ]
  },
  {
   "cell_type": "code",
   "execution_count": 62,
   "metadata": {
    "colab": {},
    "colab_type": "code",
    "id": "Zx6IJV7YomYp",
    "outputId": "db84da3f-4cc9-4261-d72f-9e37ad3039f5",
    "scrolled": true
   },
   "outputs": [
    {
     "name": "stdout",
     "output_type": "stream",
     "text": [
      "47.67178908687439\n",
      "21.535806001201696\n"
     ]
    }
   ],
   "source": [
    "print(modelo_port.perplexity(palavras_bigramns[0]))\n",
    "print(modelo_port.perplexity(palavras_bigramns[1]))"
   ]
  },
  {
   "cell_type": "markdown",
   "metadata": {
    "colab_type": "text",
    "id": "KgeqfnDL4EzN"
   },
   "source": [
    "### "
   ]
  },
  {
   "cell_type": "code",
   "execution_count": 63,
   "metadata": {
    "colab": {},
    "colab_type": "code",
    "id": "RuX9pM88omY7"
   },
   "outputs": [],
   "source": [
    "def treinar_modelo_mle(lista_textos):\n",
    "    todas_questoes = ' '.join(lista_textos)\n",
    "    todas_palavras = WhitespaceTokenizer().tokenize(todas_questoes)\n",
    "    bigrams, vocabulario = padded_everygram_pipeline(2, todas_palavras)\n",
    "    modelo = MLE(2)\n",
    "    modelo.fit(bigrams, vocabulario)\n",
    "    \n",
    "    return modelo   "
   ]
  },
  {
   "cell_type": "code",
   "execution_count": 64,
   "metadata": {
    "colab": {},
    "colab_type": "code",
    "id": "9krhvgN_omZA"
   },
   "outputs": [],
   "source": [
    "modelo_port_2 = treinar_modelo_mle(port_treino)"
   ]
  },
  {
   "cell_type": "code",
   "execution_count": 65,
   "metadata": {
    "colab": {},
    "colab_type": "code",
    "id": "Ct-dUhy5omZQ",
    "outputId": "a9e4f3d2-3287-4918-9c79-a8a4b776f12d"
   },
   "outputs": [
    {
     "name": "stdout",
     "output_type": "stream",
     "text": [
      "47.67178908687439\n",
      "21.535806001201696\n"
     ]
    }
   ],
   "source": [
    "print(modelo_port_2.perplexity(palavras_bigramns[0]))\n",
    "print(modelo_port_2.perplexity(palavras_bigramns[1]))"
   ]
  },
  {
   "cell_type": "code",
   "execution_count": 66,
   "metadata": {
    "colab": {},
    "colab_type": "code",
    "id": "n7tQYzqGomZV"
   },
   "outputs": [],
   "source": [
    "modelo_ing = treinar_modelo_mle(ing_treino)\n",
    "modelo_esp = treinar_modelo_mle(esp_treino)"
   ]
  },
  {
   "cell_type": "code",
   "execution_count": 67,
   "metadata": {
    "colab": {},
    "colab_type": "code",
    "id": "CmymEicDomZZ",
    "outputId": "b084e2a3-1c10-4cea-87f6-4b5add722f94",
    "scrolled": true
   },
   "outputs": [
    {
     "name": "stdout",
     "output_type": "stream",
     "text": [
      "17.26133308212415\n",
      "12.900755877319751\n"
     ]
    }
   ],
   "source": [
    "print(modelo_ing.perplexity(palavras_bigramns[0]))\n",
    "print(modelo_ing.perplexity(palavras_bigramns[1]))"
   ]
  },
  {
   "cell_type": "code",
   "execution_count": 68,
   "metadata": {
    "colab": {},
    "colab_type": "code",
    "id": "tqIbgtIUomZf",
    "outputId": "ddf6defc-eb13-49a2-86f7-93bf2792aaeb"
   },
   "outputs": [
    {
     "data": {
      "text/plain": [
       "30.200000000000003"
      ]
     },
     "execution_count": 68,
     "metadata": {},
     "output_type": "execute_result"
    }
   ],
   "source": [
    "17.3 + 12.9"
   ]
  },
  {
   "cell_type": "code",
   "execution_count": 69,
   "metadata": {
    "colab": {},
    "colab_type": "code",
    "id": "Mcph1GpuomZk"
   },
   "outputs": [],
   "source": [
    "def calcular_perplexidade(modelo, texto):\n",
    "    \n",
    "    perplexidade = 0\n",
    "    palavras = WhitespaceTokenizer().tokenize(texto)\n",
    "    palavras_fakechar = [list(pad_both_ends(palavra, n = 2)) for palavra in palavras]\n",
    "    palavras_bigramns = [list(bigrams(palavra)) for palavra in palavras_fakechar]\n",
    "    \n",
    "    for palavra in palavras_bigramns:\n",
    "        perplexidade += modelo.perplexity(palavra)\n",
    "    \n",
    "    return perplexidade"
   ]
  },
  {
   "cell_type": "code",
   "execution_count": 70,
   "metadata": {
    "colab": {},
    "colab_type": "code",
    "id": "MD6QjcxcomZo",
    "outputId": "fd93e2e4-457b-407d-f141-eccd333cb7e7"
   },
   "outputs": [
    {
     "name": "stdout",
     "output_type": "stream",
     "text": [
      "30.1620889594439\n"
     ]
    }
   ],
   "source": [
    "print(calcular_perplexidade(modelo_ing, \"good morning\"))"
   ]
  },
  {
   "cell_type": "code",
   "execution_count": 71,
   "metadata": {
    "colab": {},
    "colab_type": "code",
    "id": "ol3B5PbRomZs",
    "outputId": "d1274ea0-4ae7-4d2d-9617-dfbe6d9f8b4d"
   },
   "outputs": [
    {
     "name": "stdout",
     "output_type": "stream",
     "text": [
      "2006.9786364086417\n"
     ]
    }
   ],
   "source": [
    "print(calcular_perplexidade(modelo_port, port_teste.iloc[0]))"
   ]
  },
  {
   "cell_type": "code",
   "execution_count": 72,
   "metadata": {
    "colab": {},
    "colab_type": "code",
    "id": "c89oGudqomZ0",
    "outputId": "affaa1d5-8e8f-4eab-e4bd-f93b750de64f"
   },
   "outputs": [
    {
     "data": {
      "text/plain": [
       "'até a época em que os computadores eram puramente mecânicos e eram programados por cartões perfurados eu entendo como funciona depois quando surgiram os primeiros computadores digitais operados com válvulas e relés fica mais complicado de compreender como eram feitas as programações imagino que deveria haver algo semelhante a um compartimento com uma matriz de relés semelhante aos cartões perfurados pré programada que continha um programa fixo e único a ser executado pela máquina quando fosse preciso trocar o programa os programadores apenas rearranjavam as válvulas e a máquina continuava a trabalhar como surgiu essa noção que temos de programação hoje que o programador digita códigos em um editor de texto e compila eu não consigo imaginar como chegou a esse ponto por exemplo o assembly ele é apenas traduzido de textos para binário pelo assembler mas poxa seria preciso ter outra linguagem de programação para se criar o assembler suponha que só existam os computadores controlados por relés e válvulas como que alguém conseguiria escrever um código em assembly sendo que não existia editor de textos nem nada o resultado de uma montagem é outro arquivo no formato texto com s e s apenas ou são impulsos elétricos enviados para a máquina valvulada '"
      ]
     },
     "execution_count": 72,
     "metadata": {},
     "output_type": "execute_result"
    }
   ],
   "source": [
    "port_teste.iloc[0]"
   ]
  },
  {
   "cell_type": "code",
   "execution_count": 73,
   "metadata": {
    "colab": {},
    "colab_type": "code",
    "id": "sCaV88auomZ6",
    "outputId": "ae281a6d-3503-43f6-d1ff-53a929bd5096"
   },
   "outputs": [
    {
     "name": "stdout",
     "output_type": "stream",
     "text": [
      "inf\n"
     ]
    }
   ],
   "source": [
    "print(calcular_perplexidade(modelo_ing, port_teste.iloc[0]))"
   ]
  },
  {
   "cell_type": "markdown",
   "metadata": {
    "colab_type": "text",
    "id": "_rSOOglZ4_KM"
   },
   "source": [
    "### "
   ]
  },
  {
   "cell_type": "code",
   "execution_count": 74,
   "metadata": {
    "colab": {},
    "colab_type": "code",
    "id": "O5bJK2lNomaB"
   },
   "outputs": [],
   "source": [
    "from nltk.lm import Laplace\n",
    "\n",
    "def treinar_modelo_Laplace(lista_textos):\n",
    "    todas_questoes = ' '.join(lista_textos)\n",
    "    todas_palavras = WhitespaceTokenizer().tokenize(todas_questoes)\n",
    "    bigrams, vocabulario = padded_everygram_pipeline(2, todas_palavras)\n",
    "    modelo = Laplace(2)\n",
    "    modelo.fit(bigrams, vocabulario)\n",
    "    \n",
    "    return modelo"
   ]
  },
  {
   "cell_type": "code",
   "execution_count": 75,
   "metadata": {
    "colab": {},
    "colab_type": "code",
    "id": "PqVOkzzpomaE",
    "outputId": "6be24681-4ef7-4068-dfd5-6b4d715db032"
   },
   "outputs": [
    {
     "name": "stdout",
     "output_type": "stream",
     "text": [
      "5876.837588345698\n"
     ]
    }
   ],
   "source": [
    "modelo_ing_Laplace = treinar_modelo_Laplace(ing_treino)\n",
    "print(calcular_perplexidade(modelo_ing_Laplace, port_teste.iloc[0]))"
   ]
  },
  {
   "cell_type": "code",
   "execution_count": 76,
   "metadata": {
    "colab": {},
    "colab_type": "code",
    "id": "vKG5uU5IomaL",
    "outputId": "a5d3778d-baa9-4178-f252-3616662a6a33"
   },
   "outputs": [
    {
     "name": "stdout",
     "output_type": "stream",
     "text": [
      "2009.1937946178912\n"
     ]
    }
   ],
   "source": [
    "modelo_port_Laplace = treinar_modelo_Laplace(port_treino)\n",
    "print(calcular_perplexidade(modelo_port_Laplace, port_teste.iloc[0]))"
   ]
  },
  {
   "cell_type": "code",
   "execution_count": 77,
   "metadata": {
    "colab": {},
    "colab_type": "code",
    "id": "AWv8vmyjomaP",
    "outputId": "054ffbc5-fe6b-4d5d-b386-54700adab47b"
   },
   "outputs": [
    {
     "name": "stdout",
     "output_type": "stream",
     "text": [
      "3488.5698949157722\n"
     ]
    }
   ],
   "source": [
    "modelo_esp_Laplace = treinar_modelo_Laplace(esp_treino)\n",
    "print(calcular_perplexidade(modelo_esp_Laplace, port_teste.iloc[0]))"
   ]
  },
  {
   "cell_type": "code",
   "execution_count": 78,
   "metadata": {
    "colab": {},
    "colab_type": "code",
    "id": "6DH3hPJpomaS"
   },
   "outputs": [],
   "source": [
    "def atribui_idioma(lista_textos):\n",
    "    \n",
    "    idioma = []\n",
    "    for texto in lista_textos:\n",
    "        portugues = calcular_perplexidade(modelo_port_Laplace, texto)\n",
    "        ingles = calcular_perplexidade(modelo_ing_Laplace, texto)\n",
    "        espanhol = calcular_perplexidade(modelo_esp_Laplace, texto)\n",
    "        if ingles >= portugues <= espanhol:\n",
    "            idioma.append(\"portugues\")\n",
    "        elif portugues > ingles < espanhol:\n",
    "            idioma.append(\"ingles\")\n",
    "        else:\n",
    "            idioma.append(\"espanhol\")\n",
    "    return idioma"
   ]
  },
  {
   "cell_type": "code",
   "execution_count": 79,
   "metadata": {
    "colab": {},
    "colab_type": "code",
    "id": "mgIb-ZeDomaW"
   },
   "outputs": [],
   "source": [
    "resultados_portugues = atribui_idioma(port_teste)"
   ]
  },
  {
   "cell_type": "code",
   "execution_count": 80,
   "metadata": {
    "colab": {},
    "colab_type": "code",
    "id": "WY4xTdGVomaa"
   },
   "outputs": [],
   "source": [
    "taxa_portugues = resultados_portugues.count(\"portugues\")/len(resultados_portugues)"
   ]
  },
  {
   "cell_type": "code",
   "execution_count": 81,
   "metadata": {
    "colab": {},
    "colab_type": "code",
    "id": "c96XYSH3omae",
    "outputId": "9254290f-983d-48cc-98f5-92b621d1d931"
   },
   "outputs": [
    {
     "data": {
      "text/plain": [
       "100"
      ]
     },
     "execution_count": 81,
     "metadata": {},
     "output_type": "execute_result"
    }
   ],
   "source": [
    "len(port_teste)"
   ]
  },
  {
   "cell_type": "code",
   "execution_count": 82,
   "metadata": {
    "colab": {},
    "colab_type": "code",
    "id": "rYti696fomao"
   },
   "outputs": [],
   "source": [
    "resultados_ingles = atribui_idioma(ing_teste)\n",
    "taxa_ingles = resultados_ingles.count(\"ingles\")/len(resultados_ingles)\n",
    "resultados_espanhol = atribui_idioma(esp_teste)\n",
    "taxa_espanhol = resultados_espanhol.count(\"espanhol\")/len(resultados_espanhol)"
   ]
  },
  {
   "cell_type": "code",
   "execution_count": 83,
   "metadata": {
    "colab": {},
    "colab_type": "code",
    "id": "43EpjMSFomas",
    "outputId": "c5e9bcbb-428a-4417-d182-b43c25ba7b9f"
   },
   "outputs": [
    {
     "name": "stdout",
     "output_type": "stream",
     "text": [
      "Port 1.0\n",
      "Ing 1.0\n",
      "Esp 0.97\n"
     ]
    }
   ],
   "source": [
    "print(\"Port\", taxa_portugues)\n",
    "print(\"Ing\", taxa_ingles)\n",
    "print(\"Esp\", taxa_espanhol)"
   ]
  },
  {
   "cell_type": "code",
   "execution_count": 84,
   "metadata": {
    "colab": {},
    "colab_type": "code",
    "id": "aqHyasnromax",
    "outputId": "2b1b8596-3c58-4798-ab7a-1e62b335c32b"
   },
   "outputs": [
    {
     "data": {
      "text/plain": [
       "['espanhol',\n",
       " 'espanhol',\n",
       " 'espanhol',\n",
       " 'espanhol',\n",
       " 'espanhol',\n",
       " 'espanhol',\n",
       " 'espanhol',\n",
       " 'espanhol',\n",
       " 'espanhol',\n",
       " 'espanhol',\n",
       " 'espanhol',\n",
       " 'espanhol',\n",
       " 'espanhol',\n",
       " 'espanhol',\n",
       " 'espanhol',\n",
       " 'espanhol',\n",
       " 'espanhol',\n",
       " 'espanhol',\n",
       " 'espanhol',\n",
       " 'espanhol',\n",
       " 'espanhol',\n",
       " 'espanhol',\n",
       " 'espanhol',\n",
       " 'ingles',\n",
       " 'espanhol',\n",
       " 'espanhol',\n",
       " 'espanhol',\n",
       " 'espanhol',\n",
       " 'espanhol',\n",
       " 'espanhol',\n",
       " 'espanhol',\n",
       " 'espanhol',\n",
       " 'espanhol',\n",
       " 'espanhol',\n",
       " 'espanhol',\n",
       " 'espanhol',\n",
       " 'espanhol',\n",
       " 'espanhol',\n",
       " 'espanhol',\n",
       " 'espanhol',\n",
       " 'espanhol',\n",
       " 'espanhol',\n",
       " 'espanhol',\n",
       " 'espanhol',\n",
       " 'espanhol',\n",
       " 'espanhol',\n",
       " 'espanhol',\n",
       " 'espanhol',\n",
       " 'espanhol',\n",
       " 'espanhol',\n",
       " 'espanhol',\n",
       " 'ingles',\n",
       " 'espanhol',\n",
       " 'espanhol',\n",
       " 'espanhol',\n",
       " 'espanhol',\n",
       " 'espanhol',\n",
       " 'espanhol',\n",
       " 'espanhol',\n",
       " 'espanhol',\n",
       " 'espanhol',\n",
       " 'espanhol',\n",
       " 'espanhol',\n",
       " 'espanhol',\n",
       " 'espanhol',\n",
       " 'espanhol',\n",
       " 'espanhol',\n",
       " 'espanhol',\n",
       " 'espanhol',\n",
       " 'espanhol',\n",
       " 'espanhol',\n",
       " 'espanhol',\n",
       " 'espanhol',\n",
       " 'espanhol',\n",
       " 'espanhol',\n",
       " 'espanhol',\n",
       " 'espanhol',\n",
       " 'espanhol',\n",
       " 'espanhol',\n",
       " 'espanhol',\n",
       " 'espanhol',\n",
       " 'espanhol',\n",
       " 'espanhol',\n",
       " 'espanhol',\n",
       " 'espanhol',\n",
       " 'espanhol',\n",
       " 'espanhol',\n",
       " 'espanhol',\n",
       " 'espanhol',\n",
       " 'espanhol',\n",
       " 'espanhol',\n",
       " 'espanhol',\n",
       " 'espanhol',\n",
       " 'espanhol',\n",
       " 'espanhol',\n",
       " 'espanhol',\n",
       " 'espanhol',\n",
       " 'portugues',\n",
       " 'espanhol',\n",
       " 'espanhol']"
      ]
     },
     "execution_count": 84,
     "metadata": {},
     "output_type": "execute_result"
    }
   ],
   "source": [
    "resultados_espanhol"
   ]
  }
 ],
 "metadata": {
  "colab": {
   "name": "NLP.ipynb",
   "provenance": []
  },
  "kernelspec": {
   "display_name": "Python 3 (ipykernel)",
   "language": "python",
   "name": "python3"
  },
  "language_info": {
   "codemirror_mode": {
    "name": "ipython",
    "version": 3
   },
   "file_extension": ".py",
   "mimetype": "text/x-python",
   "name": "python",
   "nbconvert_exporter": "python",
   "pygments_lexer": "ipython3",
   "version": "3.9.7"
  }
 },
 "nbformat": 4,
 "nbformat_minor": 1
}
