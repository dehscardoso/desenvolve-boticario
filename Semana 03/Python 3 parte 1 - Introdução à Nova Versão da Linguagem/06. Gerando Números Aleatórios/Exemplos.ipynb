{
 "cells": [
  {
   "cell_type": "markdown",
   "id": "134cf21e",
   "metadata": {},
   "source": [
    "<img src = \"https://images2.imgbox.com/32/ac/wucGkuem_o.png\" width=\"300\">"
   ]
  },
  {
   "cell_type": "markdown",
   "id": "5f61355b",
   "metadata": {},
   "source": [
    "## Gerando Números Aleatórios"
   ]
  },
  {
   "cell_type": "code",
   "execution_count": 2,
   "id": "7237bd16",
   "metadata": {},
   "outputs": [],
   "source": [
    "import random"
   ]
  },
  {
   "cell_type": "code",
   "execution_count": 9,
   "id": "bf00849b",
   "metadata": {},
   "outputs": [
    {
     "name": "stdout",
     "output_type": "stream",
     "text": [
      "98\n"
     ]
    }
   ],
   "source": [
    "numero_random = random.randrange(1, 101)\n",
    "\n",
    "print(numero_random)"
   ]
  },
  {
   "cell_type": "code",
   "execution_count": 11,
   "id": "7d5fb1a1",
   "metadata": {},
   "outputs": [
    {
     "name": "stdout",
     "output_type": "stream",
     "text": [
      "*********************************\n",
      "Bem vindo ao jogo de Adivinhação!\n",
      "*********************************\n",
      "Tentativa 1 de 3\n",
      "Digite o seu número: 5\n",
      "Você digitou:  5\n",
      "Você errou! O seu chute foi menor que o número secreto.\n",
      "Tentativa 2 de 3\n",
      "Digite o seu número: 98\n",
      "Você digitou:  98\n",
      "Você acertou!\n",
      "Fim do jogo\n"
     ]
    }
   ],
   "source": [
    "print(\"*********************************\")\n",
    "print(\"Bem vindo ao jogo de Adivinhação!\")\n",
    "print(\"*********************************\")\n",
    "\n",
    "total_de_tentativas = 3\n",
    "\n",
    "for rodada in range(1, total_de_tentativas + 1):\n",
    "    print(\"Tentativa {} de {}\".format(rodada, total_de_tentativas))\n",
    "    chute_str = input(\"Digite o seu número: \")\n",
    "    print(\"Você digitou: \", chute_str)\n",
    "    chute = int(chute_str)\n",
    "    \n",
    "    if (chute < 1 or chute > 100):\n",
    "        print(\"Você deve digitar um número entre 1 e 100!\")\n",
    "        continue\n",
    "        \n",
    "    acertou = numero_random == chute\n",
    "    maior = chute > numero_random\n",
    "    menor = chute < numero_random\n",
    "    \n",
    "    if (acertou):\n",
    "        print(\"Você acertou!\")\n",
    "        break\n",
    "        \n",
    "    else:\n",
    "        if (maior):\n",
    "            print(\"Você errou! O seu chute foi maior que o número secreto.\")\n",
    "        elif (menor):\n",
    "            print(\"Você errou! O seu chute foi menor que o número secreto.\")\n",
    "\n",
    "print(\"Fim do jogo\")"
   ]
  },
  {
   "cell_type": "code",
   "execution_count": 12,
   "id": "bf070c17",
   "metadata": {},
   "outputs": [
    {
     "name": "stdout",
     "output_type": "stream",
     "text": [
      "2\n",
      "Juliana\n"
     ]
    }
   ],
   "source": [
    "sorteado = random.randrange(0,4)\n",
    "\n",
    "print(sorteado)\n",
    "\n",
    "if sorteado == 1:\n",
    "    print( \"Paulo\")\n",
    "elif sorteado == 2:\n",
    "    print(\"Juliana\")\n",
    "else:\n",
    "    print(\"Tamires\")"
   ]
  },
  {
   "cell_type": "code",
   "execution_count": 13,
   "id": "2752e9a2",
   "metadata": {},
   "outputs": [
    {
     "data": {
      "text/plain": [
       "19"
      ]
     },
     "execution_count": 13,
     "metadata": {},
     "output_type": "execute_result"
    }
   ],
   "source": [
    "random.seed(100)\n",
    "random.randrange(1, 101)"
   ]
  },
  {
   "cell_type": "code",
   "execution_count": 14,
   "id": "58ffded8",
   "metadata": {},
   "outputs": [
    {
     "data": {
      "text/plain": [
       "19"
      ]
     },
     "execution_count": 14,
     "metadata": {},
     "output_type": "execute_result"
    }
   ],
   "source": [
    "random.seed(100)\n",
    "random.randrange(1, 101)"
   ]
  }
 ],
 "metadata": {
  "kernelspec": {
   "display_name": "Python 3",
   "language": "python",
   "name": "python3"
  },
  "language_info": {
   "codemirror_mode": {
    "name": "ipython",
    "version": 3
   },
   "file_extension": ".py",
   "mimetype": "text/x-python",
   "name": "python",
   "nbconvert_exporter": "python",
   "pygments_lexer": "ipython3",
   "version": "3.8.8"
  }
 },
 "nbformat": 4,
 "nbformat_minor": 5
}
