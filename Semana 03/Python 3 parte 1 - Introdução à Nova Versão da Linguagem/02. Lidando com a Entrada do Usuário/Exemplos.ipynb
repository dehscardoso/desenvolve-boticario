{
 "cells": [
  {
   "cell_type": "markdown",
   "id": "870e84e8",
   "metadata": {},
   "source": [
    "<img src = \"https://images2.imgbox.com/32/ac/wucGkuem_o.png\" width=\"300\">"
   ]
  },
  {
   "cell_type": "markdown",
   "id": "e55a8364",
   "metadata": {},
   "source": [
    "## Lidando com a Entrada do Usuário"
   ]
  },
  {
   "cell_type": "code",
   "execution_count": 7,
   "id": "03ab602e",
   "metadata": {},
   "outputs": [
    {
     "name": "stdout",
     "output_type": "stream",
     "text": [
      "*********************************\n",
      "Bem vindo ao jogo de Adivinhação!\n",
      "*********************************\n"
     ]
    }
   ],
   "source": [
    "print(\"*********************************\")\n",
    "print(\"Bem vindo ao jogo de Adivinhação!\")\n",
    "print(\"*********************************\")"
   ]
  },
  {
   "cell_type": "code",
   "execution_count": 17,
   "id": "3dad62e1",
   "metadata": {},
   "outputs": [
    {
     "name": "stdout",
     "output_type": "stream",
     "text": [
      "Digite o seu número: 10\n"
     ]
    }
   ],
   "source": [
    "numero_secreto = 42\n",
    "chute_str = input(\"Digite o seu número: \")"
   ]
  },
  {
   "cell_type": "code",
   "execution_count": 18,
   "id": "a83adb19",
   "metadata": {},
   "outputs": [
    {
     "name": "stdout",
     "output_type": "stream",
     "text": [
      "Você digitou:  10\n"
     ]
    }
   ],
   "source": [
    "print(\"Você digitou: \", chute_str)"
   ]
  },
  {
   "cell_type": "code",
   "execution_count": 19,
   "id": "f6d6152e",
   "metadata": {},
   "outputs": [],
   "source": [
    "chute = int(chute_str)"
   ]
  },
  {
   "cell_type": "code",
   "execution_count": 20,
   "id": "f57988dd",
   "metadata": {},
   "outputs": [
    {
     "name": "stdout",
     "output_type": "stream",
     "text": [
      "Você errou!\n"
     ]
    }
   ],
   "source": [
    "if (numero_secreto == chute):\n",
    "    print(\"Você acertou!\")\n",
    "else:\n",
    "    print(\"Você errou!\")"
   ]
  },
  {
   "cell_type": "code",
   "execution_count": 9,
   "id": "3f525358",
   "metadata": {},
   "outputs": [
    {
     "name": "stdout",
     "output_type": "stream",
     "text": [
      "temos idades diferentes\n"
     ]
    }
   ],
   "source": [
    "minha_idade = 26\n",
    "idade_namorado = 25\n",
    "\n",
    "if(minha_idade == idade_namorado):\n",
    "    print('temos idades iguais')\n",
    "else:\n",
    "    print('temos idades diferentes')"
   ]
  },
  {
   "cell_type": "code",
   "execution_count": 10,
   "id": "8c664977",
   "metadata": {},
   "outputs": [
    {
     "name": "stdout",
     "output_type": "stream",
     "text": [
      "São números iguais\n"
     ]
    }
   ],
   "source": [
    "numero1 = 10\n",
    "numero2 = 10\n",
    "\n",
    "if(numero1 == numero2):\n",
    "    print(\"São números iguais\")"
   ]
  },
  {
   "cell_type": "code",
   "execution_count": 11,
   "id": "8619e629",
   "metadata": {},
   "outputs": [
    {
     "ename": "TypeError",
     "evalue": "unsupported operand type(s) for +: 'int' and 'str'",
     "output_type": "error",
     "traceback": [
      "\u001b[1;31m---------------------------------------------------------------------------\u001b[0m",
      "\u001b[1;31mTypeError\u001b[0m                                 Traceback (most recent call last)",
      "\u001b[1;32m<ipython-input-11-37870ad34aac>\u001b[0m in \u001b[0;36m<module>\u001b[1;34m\u001b[0m\n\u001b[0;32m      2\u001b[0m \u001b[0midade2\u001b[0m \u001b[1;33m=\u001b[0m \u001b[1;34m\"20\"\u001b[0m\u001b[1;33m\u001b[0m\u001b[1;33m\u001b[0m\u001b[0m\n\u001b[0;32m      3\u001b[0m \u001b[1;33m\u001b[0m\u001b[0m\n\u001b[1;32m----> 4\u001b[1;33m \u001b[0mprint\u001b[0m\u001b[1;33m(\u001b[0m\u001b[0midade1\u001b[0m \u001b[1;33m+\u001b[0m \u001b[0midade2\u001b[0m\u001b[1;33m)\u001b[0m\u001b[1;33m\u001b[0m\u001b[1;33m\u001b[0m\u001b[0m\n\u001b[0m",
      "\u001b[1;31mTypeError\u001b[0m: unsupported operand type(s) for +: 'int' and 'str'"
     ]
    }
   ],
   "source": [
    "idade1 = 10\n",
    "idade2 = \"20\"\n",
    "\n",
    "print(idade1 + idade2)"
   ]
  },
  {
   "cell_type": "code",
   "execution_count": 15,
   "id": "535c8cc0",
   "metadata": {},
   "outputs": [
    {
     "name": "stdout",
     "output_type": "stream",
     "text": [
      "30\n"
     ]
    }
   ],
   "source": [
    "idade1 = 10\n",
    "idade2 = 20\n",
    "\n",
    "print(idade1 + idade2)"
   ]
  },
  {
   "cell_type": "code",
   "execution_count": 13,
   "id": "3c355a35",
   "metadata": {},
   "outputs": [
    {
     "name": "stdout",
     "output_type": "stream",
     "text": [
      "NicoSteppat\n"
     ]
    }
   ],
   "source": [
    "nome = \"Nico\"\n",
    "sobrenome = \"Steppat\"\n",
    "\n",
    "print(nome + sobrenome)"
   ]
  },
  {
   "cell_type": "code",
   "execution_count": 14,
   "id": "ce55b2ae",
   "metadata": {},
   "outputs": [
    {
     "name": "stdout",
     "output_type": "stream",
     "text": [
      "Nico Steppat\n"
     ]
    }
   ],
   "source": [
    "nome = \"Nico\"\n",
    "sobrenome = \"Steppat\"\n",
    "\n",
    "print(nome, sobrenome)"
   ]
  },
  {
   "cell_type": "code",
   "execution_count": 16,
   "id": "eb6bda36",
   "metadata": {},
   "outputs": [
    {
     "name": "stdout",
     "output_type": "stream",
     "text": [
      "20202020202020202020\n"
     ]
    }
   ],
   "source": [
    "numero1 = 10\n",
    "numero2 = \"20\"\n",
    "produto = numero1 * numero2\n",
    "\n",
    "print(produto)"
   ]
  }
 ],
 "metadata": {
  "kernelspec": {
   "display_name": "Python 3",
   "language": "python",
   "name": "python3"
  },
  "language_info": {
   "codemirror_mode": {
    "name": "ipython",
    "version": 3
   },
   "file_extension": ".py",
   "mimetype": "text/x-python",
   "name": "python",
   "nbconvert_exporter": "python",
   "pygments_lexer": "ipython3",
   "version": "3.8.8"
  }
 },
 "nbformat": 4,
 "nbformat_minor": 5
}
