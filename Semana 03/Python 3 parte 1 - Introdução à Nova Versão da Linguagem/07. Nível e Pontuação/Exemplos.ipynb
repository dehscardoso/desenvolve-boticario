{
 "cells": [
  {
   "cell_type": "markdown",
   "id": "7be3a7e9",
   "metadata": {},
   "source": [
    "<img src = \"https://images2.imgbox.com/32/ac/wucGkuem_o.png\" width=\"300\">"
   ]
  },
  {
   "cell_type": "markdown",
   "id": "4d072a4c",
   "metadata": {},
   "source": [
    "## Nível e Pontuação"
   ]
  },
  {
   "cell_type": "code",
   "execution_count": 1,
   "id": "84c2e887",
   "metadata": {},
   "outputs": [],
   "source": [
    "import random"
   ]
  },
  {
   "cell_type": "code",
   "execution_count": 16,
   "id": "fc31886d",
   "metadata": {},
   "outputs": [
    {
     "name": "stdout",
     "output_type": "stream",
     "text": [
      "*********************************\n",
      "Bem vindo ao jogo de Adivinhação!\n",
      "*********************************\n",
      "1\n",
      "Qual o nível de dificuldade?\n",
      "(1) Fácil (2) Médio (3) Difícil\n",
      "Defina o nível: 3\n",
      "Tentativa 1 de 5\n",
      "Digite o seu número: 10\n",
      "Você digitou:  10\n",
      "Você errou! O seu chute foi maior que o número secreto.\n",
      "Tentativa 2 de 5\n",
      "Digite o seu número: 9\n",
      "Você digitou:  9\n",
      "Você errou! O seu chute foi maior que o número secreto.\n",
      "Tentativa 3 de 5\n",
      "Digite o seu número: 5\n",
      "Você digitou:  5\n",
      "Você errou! O seu chute foi maior que o número secreto.\n",
      "Tentativa 4 de 5\n",
      "Digite o seu número: 4\n",
      "Você digitou:  4\n",
      "Você errou! O seu chute foi maior que o número secreto.\n",
      "Tentativa 5 de 5\n",
      "Digite o seu número: 1\n",
      "Você digitou:  1\n",
      "Você acertou e fez 976 pontos!\n",
      "Fim do jogo\n"
     ]
    }
   ],
   "source": [
    "print(\"*********************************\")\n",
    "print(\"Bem vindo ao jogo de Adivinhação!\")\n",
    "print(\"*********************************\")\n",
    "\n",
    "numero_secreto = random.randrange(1, 101)\n",
    "total_de_tentativas = 3\n",
    "pontos = 1000\n",
    "\n",
    "print(\"Qual o nível de dificuldade?\")\n",
    "print(\"(1) Fácil (2) Médio (3) Difícil\")\n",
    "nivel = int(input(\"Defina o nível: \"))\n",
    "\n",
    "\n",
    "if (nivel == 1):\n",
    "    total_de_tentativas = 20\n",
    "elif (nivel == 2):\n",
    "    total_de_tentativas = 10\n",
    "else:\n",
    "    total_de_tentativas = 5\n",
    "    \n",
    "\n",
    "for rodada in range(1, total_de_tentativas + 1):\n",
    "    print(\"Tentativa {} de {}\".format(rodada, total_de_tentativas))\n",
    "    chute_str = input(\"Digite o seu número: \")\n",
    "    print(\"Você digitou: \", chute_str)\n",
    "    chute = int(chute_str)\n",
    "    \n",
    "    if (chute < 1 or chute > 100):\n",
    "        print(\"Você deve digitar um número entre 1 e 100!\")\n",
    "        continue\n",
    "        \n",
    "    acertou = numero_secreto == chute\n",
    "    maior = chute > numero_secreto\n",
    "    menor = chute < numero_secreto\n",
    "    \n",
    "    if (acertou):\n",
    "        print(\"Você acertou e fez {} pontos!\".format(pontos))\n",
    "        break\n",
    "        \n",
    "    else:\n",
    "        if (maior):\n",
    "            print(\"Você errou! O seu chute foi maior que o número secreto.\")\n",
    "        elif (menor):\n",
    "            print(\"Você errou! O seu chute foi menor que o número secreto.\")\n",
    "        pontos_perdidos = abs(numero_secreto - chute)\n",
    "        pontos = pontos - pontos_perdidos                \n",
    "print(\"Fim do jogo\")"
   ]
  },
  {
   "cell_type": "code",
   "execution_count": 14,
   "id": "9cdc24e5",
   "metadata": {},
   "outputs": [
    {
     "name": "stdout",
     "output_type": "stream",
     "text": [
      "35\n"
     ]
    }
   ],
   "source": [
    "print(numero_secreto)"
   ]
  },
  {
   "cell_type": "code",
   "execution_count": 18,
   "id": "912a6d4b",
   "metadata": {},
   "outputs": [
    {
     "data": {
      "text/plain": [
       "3.6666666666666665"
      ]
     },
     "execution_count": 18,
     "metadata": {},
     "output_type": "execute_result"
    }
   ],
   "source": [
    "pontos_perdidos = 11 / 3  \n",
    "pontos_perdidos"
   ]
  }
 ],
 "metadata": {
  "kernelspec": {
   "display_name": "Python 3",
   "language": "python",
   "name": "python3"
  },
  "language_info": {
   "codemirror_mode": {
    "name": "ipython",
    "version": 3
   },
   "file_extension": ".py",
   "mimetype": "text/x-python",
   "name": "python",
   "nbconvert_exporter": "python",
   "pygments_lexer": "ipython3",
   "version": "3.8.8"
  }
 },
 "nbformat": 4,
 "nbformat_minor": 5
}
