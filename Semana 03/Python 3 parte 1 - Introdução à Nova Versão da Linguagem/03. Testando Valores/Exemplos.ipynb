{
 "cells": [
  {
   "cell_type": "markdown",
   "id": "66e835cb",
   "metadata": {},
   "source": [
    "<img src = \"https://images2.imgbox.com/32/ac/wucGkuem_o.png\" width=\"300\">"
   ]
  },
  {
   "cell_type": "markdown",
   "id": "9070da97",
   "metadata": {},
   "source": [
    "## Lidando com a Entrada do Usuário"
   ]
  },
  {
   "cell_type": "code",
   "execution_count": 1,
   "id": "54c1b62e",
   "metadata": {},
   "outputs": [
    {
     "name": "stdout",
     "output_type": "stream",
     "text": [
      "*********************************\n",
      "Bem vindo ao jogo de Adivinhação!\n",
      "*********************************\n"
     ]
    }
   ],
   "source": [
    "print(\"*********************************\")\n",
    "print(\"Bem vindo ao jogo de Adivinhação!\")\n",
    "print(\"*********************************\")"
   ]
  },
  {
   "cell_type": "code",
   "execution_count": 2,
   "id": "2f9cbe27",
   "metadata": {},
   "outputs": [
    {
     "name": "stdout",
     "output_type": "stream",
     "text": [
      "Digite o seu número: 16\n"
     ]
    }
   ],
   "source": [
    "numero_secreto = 42\n",
    "chute_str = input(\"Digite o seu número: \")"
   ]
  },
  {
   "cell_type": "code",
   "execution_count": 3,
   "id": "ac92f557",
   "metadata": {},
   "outputs": [],
   "source": [
    "chute = int(chute_str)"
   ]
  },
  {
   "cell_type": "code",
   "execution_count": 4,
   "id": "dbcd6443",
   "metadata": {},
   "outputs": [
    {
     "name": "stdout",
     "output_type": "stream",
     "text": [
      "Você digitou:  16\n"
     ]
    }
   ],
   "source": [
    "print(\"Você digitou: \", chute_str)"
   ]
  },
  {
   "cell_type": "code",
   "execution_count": 5,
   "id": "c596b0f6",
   "metadata": {},
   "outputs": [
    {
     "name": "stdout",
     "output_type": "stream",
     "text": [
      "Você errou! O seu chute foi menor que o número secreto.\n",
      "Fim do Jogo!\n"
     ]
    }
   ],
   "source": [
    "acertou = chute == numero_secreto\n",
    "maior = chute > numero_secreto\n",
    "menor = chute < numero_secreto\n",
    "\n",
    "if (acertou):\n",
    "    print(\"Você acertou!\")\n",
    "else:\n",
    "    if (maior):\n",
    "        print(\"Você errou! O seu chute foi maior que o número secreto.\")\n",
    "    elif (menor):\n",
    "        print(\"Você errou! O seu chute foi menor que o número secreto.\")\n",
    "\n",
    "print(\"Fim do Jogo!\")"
   ]
  },
  {
   "cell_type": "code",
   "execution_count": 8,
   "id": "76d8807d",
   "metadata": {},
   "outputs": [
    {
     "name": "stdout",
     "output_type": "stream",
     "text": [
      "Digite sua idade: 12\n"
     ]
    }
   ],
   "source": [
    "idade_str = input(\"Digite sua idade: \")\n",
    "idade = int(idade_str)"
   ]
  },
  {
   "cell_type": "code",
   "execution_count": 10,
   "id": "48f01634",
   "metadata": {},
   "outputs": [],
   "source": [
    "if (idade > 18):\n",
    "    print(\"Você é maior de idade.\")\n",
    "else:\n",
    "    if (idade < 12):\n",
    "        print(\"Você é uma criança.\")\n",
    "    elif (idade > 12):\n",
    "        print(\"Você é um adolescente.\")"
   ]
  },
  {
   "cell_type": "code",
   "execution_count": 13,
   "id": "5c0118b1",
   "metadata": {},
   "outputs": [
    {
     "name": "stdout",
     "output_type": "stream",
     "text": [
      "Informe o usuário do sistema: Joana\n"
     ]
    }
   ],
   "source": [
    "usuario = input(\"Informe o usuário do sistema: \")"
   ]
  },
  {
   "cell_type": "code",
   "execution_count": 14,
   "id": "78843ddd",
   "metadata": {},
   "outputs": [
    {
     "name": "stdout",
     "output_type": "stream",
     "text": [
      "Usuário não identificado!\n"
     ]
    }
   ],
   "source": [
    "if(usuario == \"Flávio\"):\n",
    "    print(\"Seja bem-vindo Flávio!\")\n",
    "elif(usuario == \"Douglas\"):\n",
    "    print(\"Seja bem-vindo Douglas!\")\n",
    "elif(usuario == \"Nico\"):\n",
    "    print(\"Seja bem-vindo Nico\")\n",
    "else:\n",
    "    print(\"Usuário não identificado!\")"
   ]
  }
 ],
 "metadata": {
  "kernelspec": {
   "display_name": "Python 3",
   "language": "python",
   "name": "python3"
  },
  "language_info": {
   "codemirror_mode": {
    "name": "ipython",
    "version": 3
   },
   "file_extension": ".py",
   "mimetype": "text/x-python",
   "name": "python",
   "nbconvert_exporter": "python",
   "pygments_lexer": "ipython3",
   "version": "3.8.8"
  }
 },
 "nbformat": 4,
 "nbformat_minor": 5
}
