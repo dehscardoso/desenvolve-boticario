{
 "cells": [
  {
   "cell_type": "markdown",
   "id": "62b06fbb",
   "metadata": {},
   "source": [
    "<img src = \"https://images2.imgbox.com/32/ac/wucGkuem_o.png\" width=\"300\">"
   ]
  },
  {
   "cell_type": "markdown",
   "id": "bf0177f3",
   "metadata": {},
   "source": [
    "## Introdução e Instalação do Python 3"
   ]
  },
  {
   "cell_type": "code",
   "execution_count": 1,
   "id": "7a1f3429",
   "metadata": {},
   "outputs": [
    {
     "name": "stdout",
     "output_type": "stream",
     "text": [
      "Olá, mundo!\n"
     ]
    }
   ],
   "source": [
    "print(\"Olá, mundo!\")"
   ]
  },
  {
   "cell_type": "code",
   "execution_count": 2,
   "id": "0714f8d7",
   "metadata": {},
   "outputs": [
    {
     "name": "stdout",
     "output_type": "stream",
     "text": [
      "\n",
      "Welcome to Python 3.8's help utility!\n",
      "\n",
      "If this is your first time using Python, you should definitely check out\n",
      "the tutorial on the Internet at https://docs.python.org/3.8/tutorial/.\n",
      "\n",
      "Enter the name of any module, keyword, or topic to get help on writing\n",
      "Python programs and using Python modules.  To quit this help utility and\n",
      "return to the interpreter, just type \"quit\".\n",
      "\n",
      "To get a list of available modules, keywords, symbols, or topics, type\n",
      "\"modules\", \"keywords\", \"symbols\", or \"topics\".  Each module also comes\n",
      "with a one-line summary of what it does; to list the modules whose name\n",
      "or summary contain a given string such as \"spam\", type \"modules spam\".\n",
      "\n",
      "help> print\n",
      "Help on built-in function print in module builtins:\n",
      "\n",
      "print(...)\n",
      "    print(value, ..., sep=' ', end='\\n', file=sys.stdout, flush=False)\n",
      "    \n",
      "    Prints the values to a stream, or to sys.stdout by default.\n",
      "    Optional keyword arguments:\n",
      "    file:  a file-like object (stream); defaults to the current sys.stdout.\n",
      "    sep:   string inserted between values, default a space.\n",
      "    end:   string appended after the last value, default a newline.\n",
      "    flush: whether to forcibly flush the stream.\n",
      "\n",
      "help> q\n",
      "\n",
      "You are now leaving help and returning to the Python interpreter.\n",
      "If you want to ask for help on a particular object directly from the\n",
      "interpreter, you can type \"help(object)\".  Executing \"help('string')\"\n",
      "has the same effect as typing a particular string at the help> prompt.\n"
     ]
    }
   ],
   "source": [
    "help()"
   ]
  },
  {
   "cell_type": "code",
   "execution_count": 3,
   "id": "d44f0bec",
   "metadata": {},
   "outputs": [
    {
     "name": "stdout",
     "output_type": "stream",
     "text": [
      "Brasil-ganhou-5-titulos mundiais\n"
     ]
    }
   ],
   "source": [
    "print(\"Brasil\", \"ganhou\", 5, \"titulos mundiais\", sep=\"-\")"
   ]
  },
  {
   "cell_type": "code",
   "execution_count": 2,
   "id": "e5a4c8db",
   "metadata": {},
   "outputs": [
    {
     "name": "stdout",
     "output_type": "stream",
     "text": [
      "Brasil ganhou 5 titulos mundiais!"
     ]
    }
   ],
   "source": [
    "print(\"Brasil\", \"ganhou\", 5, \"titulos mundiais\", end=\"!\")"
   ]
  },
  {
   "cell_type": "code",
   "execution_count": 5,
   "id": "9b921aa6",
   "metadata": {},
   "outputs": [
    {
     "name": "stdout",
     "output_type": "stream",
     "text": [
      "Italia ganhou 4 titulos mundiais\n"
     ]
    }
   ],
   "source": [
    "pais = \"Italia\"\n",
    "quantidade = 4\n",
    "\n",
    "print(pais, \"ganhou\", quantidade, \"titulos mundiais\")"
   ]
  },
  {
   "cell_type": "code",
   "execution_count": 6,
   "id": "6c9400df",
   "metadata": {},
   "outputs": [
    {
     "data": {
      "text/plain": [
       "str"
      ]
     },
     "execution_count": 6,
     "metadata": {},
     "output_type": "execute_result"
    }
   ],
   "source": [
    "type(pais)"
   ]
  },
  {
   "cell_type": "code",
   "execution_count": 7,
   "id": "c7e18d4a",
   "metadata": {},
   "outputs": [
    {
     "data": {
      "text/plain": [
       "int"
      ]
     },
     "execution_count": 7,
     "metadata": {},
     "output_type": "execute_result"
    }
   ],
   "source": [
    "type(quantidade)"
   ]
  },
  {
   "cell_type": "code",
   "execution_count": 3,
   "id": "d1a30b71",
   "metadata": {},
   "outputs": [
    {
     "name": "stdout",
     "output_type": "stream",
     "text": [
      "Python_é_fantástico!\n"
     ]
    }
   ],
   "source": [
    "subst = \"Python\"\n",
    "verbo = \"é\"\n",
    "adjetivo = \"fantástico\"\n",
    "\n",
    "print(subst, verbo, adjetivo, sep=\"_\", end=\"!\\n\")"
   ]
  },
  {
   "cell_type": "code",
   "execution_count": 4,
   "id": "1b03a11d",
   "metadata": {},
   "outputs": [
    {
     "name": "stdout",
     "output_type": "stream",
     "text": [
      "15/10/2015\n"
     ]
    }
   ],
   "source": [
    "dia = 15\n",
    "mes = 10\n",
    "ano = 2015\n",
    "\n",
    "print(dia, mes, ano, sep=\"/\")"
   ]
  }
 ],
 "metadata": {
  "kernelspec": {
   "display_name": "Python 3",
   "language": "python",
   "name": "python3"
  },
  "language_info": {
   "codemirror_mode": {
    "name": "ipython",
    "version": 3
   },
   "file_extension": ".py",
   "mimetype": "text/x-python",
   "name": "python",
   "nbconvert_exporter": "python",
   "pygments_lexer": "ipython3",
   "version": "3.8.8"
  }
 },
 "nbformat": 4,
 "nbformat_minor": 5
}
