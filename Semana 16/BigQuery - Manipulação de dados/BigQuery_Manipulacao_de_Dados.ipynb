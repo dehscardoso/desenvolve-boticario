{
 "cells": [
  {
   "cell_type": "markdown",
   "id": "ee07120e",
   "metadata": {},
   "source": [
    "<img src = \"https://images2.imgbox.com/32/ac/wucGkuem_o.png\" width=\"300\">"
   ]
  },
  {
   "cell_type": "code",
   "execution_count": 62,
   "id": "b2f7b9c2",
   "metadata": {},
   "outputs": [
    {
     "name": "stdout",
     "output_type": "stream",
     "text": [
      "Note: you may need to restart the kernel to use updated packages.\n"
     ]
    }
   ],
   "source": [
    "%pip install -q google-cloud-bigquery"
   ]
  },
  {
   "cell_type": "code",
   "execution_count": 63,
   "id": "e5bc7043",
   "metadata": {},
   "outputs": [],
   "source": [
    "import os\n",
    "\n",
    "os.environ['GOOGLE_APPLICATION_CREDENTIALS'] = 'modified-ripsaw-343701.json'"
   ]
  },
  {
   "cell_type": "code",
   "execution_count": 64,
   "id": "c2d69b73",
   "metadata": {},
   "outputs": [],
   "source": [
    "from google.cloud import bigquery"
   ]
  },
  {
   "cell_type": "code",
   "execution_count": 65,
   "id": "c7dc19c2",
   "metadata": {},
   "outputs": [],
   "source": [
    "bigquery_client = bigquery.Client(project='modified-ripsaw-343701')"
   ]
  },
  {
   "cell_type": "code",
   "execution_count": 66,
   "id": "dc170799",
   "metadata": {},
   "outputs": [],
   "source": [
    "QUERY = \"\"\"\n",
    "\n",
    "INSERT INTO modified-ripsaw-343701.sucos.dim_produto\n",
    "VALUES (1,1002334527,'Linha Citros - 1 Litro - Lima/Limão','Linha Citros','Linha Citros','1 Litro','Lima/Limão','Águas Minerais','Águas Minerais');\n",
    "\n",
    "\"\"\"\n",
    "\n",
    "query_job = bigquery_client.query(QUERY)"
   ]
  },
  {
   "cell_type": "code",
   "execution_count": 67,
   "id": "3d95293b",
   "metadata": {},
   "outputs": [
    {
     "name": "stdout",
     "output_type": "stream",
     "text": [
      "Row((1, 1002334527, 'Linha Citros - 1 Litro - Lima/Limão', 'Linha Citros', 'Linha Citros', '1 Litro', 'Lima/Limão', 'Águas Minerais', 'Águas Minerais'), {'ID_Produto': 0, 'Cod_Produto': 1, 'Desc_Produto': 2, 'Cod_Marca': 3, 'Atr_Tamanho': 4, 'Atr_Sabor': 5, 'Cod_Categoria': 6, 'Desc_Marca': 7, 'Desc_Categoria': 8})\n"
     ]
    }
   ],
   "source": [
    "QUERY = \"\"\"\n",
    "\n",
    "SELECT * FROM modified-ripsaw-343701.sucos.dim_produto WHERE COD_PRODUTO = 1002334527\n",
    "\n",
    "\"\"\"\n",
    "\n",
    "query_job = bigquery_client.query(QUERY)\n",
    "for row in query_job.result():  \n",
    "    print(row)"
   ]
  },
  {
   "cell_type": "code",
   "execution_count": 38,
   "id": "7c545a7d",
   "metadata": {},
   "outputs": [],
   "source": [
    "QUERY = \"\"\"\n",
    "\n",
    "INSERT INTO modified-ripsaw-343701.sucos.dim_produto\n",
    "(ID_PRODUTO, COD_PRODUTO, DESC_PRODUTO, COD_MARCA, DESC_MARCA, ATR_TAMANHO, \n",
    "ATR_SABOR, COD_CATEGORIA, DESC_CATEGORIA)\n",
    "VALUES \n",
    "(200,104111945,'Linha Citros - 700 ml - Lima/Limão','Linha Citros','Linha Citros','700 ml', 'Lima/Limão', 'Águas Minerais', 'Águas Minerais'),\n",
    "(300,104271245,'Linha Citros - 700 ml - Limão','Linha Citros','Linha Citros','700 ml', 'Limão', 'Águas Minerais', 'Águas Minerais');\n",
    "\n",
    "\"\"\"\n",
    "\n",
    "query_job = bigquery_client.query(QUERY)"
   ]
  },
  {
   "cell_type": "code",
   "execution_count": 41,
   "id": "c00265a0",
   "metadata": {},
   "outputs": [
    {
     "name": "stdout",
     "output_type": "stream",
     "text": [
      "Row((200, 104111945, 'Linha Citros - 700 ml - Lima/Limão', 'Linha Citros', '700 ml', 'Lima/Limão', 'Águas Minerais', 'Linha Citros', 'Águas Minerais'), {'ID_Produto': 0, 'Cod_Produto': 1, 'Desc_Produto': 2, 'Cod_Marca': 3, 'Atr_Tamanho': 4, 'Atr_Sabor': 5, 'Cod_Categoria': 6, 'Desc_Marca': 7, 'Desc_Categoria': 8})\n",
      "Row((300, 104271245, 'Linha Citros - 700 ml - Limão', 'Linha Citros', '700 ml', 'Limão', 'Águas Minerais', 'Linha Citros', 'Águas Minerais'), {'ID_Produto': 0, 'Cod_Produto': 1, 'Desc_Produto': 2, 'Cod_Marca': 3, 'Atr_Tamanho': 4, 'Atr_Sabor': 5, 'Cod_Categoria': 6, 'Desc_Marca': 7, 'Desc_Categoria': 8})\n"
     ]
    }
   ],
   "source": [
    "QUERY = \"\"\"\n",
    "\n",
    "SELECT * FROM modified-ripsaw-343701.sucos.dim_produto WHERE ID_PRODUTO IN (200, 300)  \n",
    "\n",
    "\"\"\"\n",
    "\n",
    "query_job = bigquery_client.query(QUERY)\n",
    "for row in query_job.result():  \n",
    "    print(row)"
   ]
  },
  {
   "cell_type": "code",
   "execution_count": 45,
   "id": "482cccb5",
   "metadata": {},
   "outputs": [],
   "source": [
    "QUERY = \"\"\"\n",
    "\n",
    "UPDATE modified-ripsaw-343701.sucos.dim_produto SET \n",
    "DESC_PRODUTO = 'Linha Citros - 1 Litro - Lima/Limão', ATR_TAMANHO = '1 Litro'\n",
    "WHERE ID_PRODUTO = 300;\n",
    "\n",
    "\"\"\"\n",
    "\n",
    "query_job = bigquery_client.query(QUERY)"
   ]
  },
  {
   "cell_type": "code",
   "execution_count": 46,
   "id": "dc9fd7cf",
   "metadata": {},
   "outputs": [
    {
     "name": "stdout",
     "output_type": "stream",
     "text": [
      "Row((300, 104271245, 'Linha Citros - 1 Litro - Lima/Limão', 'Linha Citros', '1 Litro', 'Limão', 'Águas Minerais', 'Linha Citros', 'Águas Minerais'), {'ID_Produto': 0, 'Cod_Produto': 1, 'Desc_Produto': 2, 'Cod_Marca': 3, 'Atr_Tamanho': 4, 'Atr_Sabor': 5, 'Cod_Categoria': 6, 'Desc_Marca': 7, 'Desc_Categoria': 8})\n"
     ]
    }
   ],
   "source": [
    "QUERY = \"\"\"\n",
    "\n",
    "SELECT * FROM modified-ripsaw-343701.sucos.dim_produto WHERE ID_PRODUTO = 300\n",
    "\n",
    "\"\"\"\n",
    "\n",
    "query_job = bigquery_client.query(QUERY)\n",
    "for row in query_job.result():  \n",
    "    print(row)"
   ]
  },
  {
   "cell_type": "code",
   "execution_count": 48,
   "id": "eadc0674",
   "metadata": {},
   "outputs": [],
   "source": [
    "QUERY = \"\"\"\n",
    "\n",
    "DELETE FROM modified-ripsaw-343701.sucos.dim_produto WHERE ID_PRODUTO = 300;\n",
    "\n",
    "\"\"\"\n",
    "\n",
    "query_job = bigquery_client.query(QUERY)"
   ]
  },
  {
   "cell_type": "code",
   "execution_count": 52,
   "id": "da57c104",
   "metadata": {},
   "outputs": [
    {
     "name": "stdout",
     "output_type": "stream",
     "text": [
      "Row((0,), {'f0_': 0})\n"
     ]
    }
   ],
   "source": [
    "QUERY = \"\"\"\n",
    "\n",
    "SELECT COUNT(*) FROM modified-ripsaw-343701.sucos.dim_produto WHERE ID_PRODUTO = 300\n",
    "\n",
    "\"\"\"\n",
    "\n",
    "query_job = bigquery_client.query(QUERY)\n",
    "for row in query_job.result():  \n",
    "    print(row)"
   ]
  }
 ],
 "metadata": {
  "kernelspec": {
   "display_name": "Python 3 (ipykernel)",
   "language": "python",
   "name": "python3"
  },
  "language_info": {
   "codemirror_mode": {
    "name": "ipython",
    "version": 3
   },
   "file_extension": ".py",
   "mimetype": "text/x-python",
   "name": "python",
   "nbconvert_exporter": "python",
   "pygments_lexer": "ipython3",
   "version": "3.9.7"
  }
 },
 "nbformat": 4,
 "nbformat_minor": 5
}
