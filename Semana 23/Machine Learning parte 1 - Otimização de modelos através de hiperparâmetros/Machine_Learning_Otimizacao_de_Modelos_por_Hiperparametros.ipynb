{
 "cells": [
  {
   "cell_type": "markdown",
   "metadata": {
    "id": "WMA17qp3kH50"
   },
   "source": [
    "<img src = \"https://images2.imgbox.com/32/ac/wucGkuem_o.png\" width=\"300\">"
   ]
  },
  {
   "cell_type": "code",
   "execution_count": 1,
   "metadata": {
    "colab": {
     "base_uri": "https://localhost:8080/"
    },
    "id": "yku6GxC9PujF",
    "outputId": "1666b47d-126a-4920-85a3-797603356701"
   },
   "outputs": [
    {
     "name": "stdout",
     "output_type": "stream",
     "text": [
      "Note: you may need to restart the kernel to use updated packages.\n",
      "Note: you may need to restart the kernel to use updated packages.\n"
     ]
    }
   ],
   "source": [
    "%pip install -q graphviz\n",
    "%pip install -q pydot"
   ]
  },
  {
   "cell_type": "code",
   "execution_count": 2,
   "metadata": {
    "colab": {
     "base_uri": "https://localhost:8080/",
     "height": 206
    },
    "id": "y7ik04NlDZMA",
    "outputId": "c2009074-908f-45b6-f398-779ea4717fbb"
   },
   "outputs": [
    {
     "data": {
      "text/html": [
       "<div>\n",
       "<style scoped>\n",
       "    .dataframe tbody tr th:only-of-type {\n",
       "        vertical-align: middle;\n",
       "    }\n",
       "\n",
       "    .dataframe tbody tr th {\n",
       "        vertical-align: top;\n",
       "    }\n",
       "\n",
       "    .dataframe thead th {\n",
       "        text-align: right;\n",
       "    }\n",
       "</style>\n",
       "<table border=\"1\" class=\"dataframe\">\n",
       "  <thead>\n",
       "    <tr style=\"text-align: right;\">\n",
       "      <th></th>\n",
       "      <th>preco</th>\n",
       "      <th>vendido</th>\n",
       "      <th>idade_do_modelo</th>\n",
       "      <th>km_por_ano</th>\n",
       "    </tr>\n",
       "  </thead>\n",
       "  <tbody>\n",
       "    <tr>\n",
       "      <th>0</th>\n",
       "      <td>30941.02</td>\n",
       "      <td>1</td>\n",
       "      <td>18</td>\n",
       "      <td>35085.22134</td>\n",
       "    </tr>\n",
       "    <tr>\n",
       "      <th>1</th>\n",
       "      <td>40557.96</td>\n",
       "      <td>1</td>\n",
       "      <td>20</td>\n",
       "      <td>12622.05362</td>\n",
       "    </tr>\n",
       "    <tr>\n",
       "      <th>2</th>\n",
       "      <td>89627.50</td>\n",
       "      <td>0</td>\n",
       "      <td>12</td>\n",
       "      <td>11440.79806</td>\n",
       "    </tr>\n",
       "    <tr>\n",
       "      <th>3</th>\n",
       "      <td>95276.14</td>\n",
       "      <td>0</td>\n",
       "      <td>3</td>\n",
       "      <td>43167.32682</td>\n",
       "    </tr>\n",
       "    <tr>\n",
       "      <th>4</th>\n",
       "      <td>117384.68</td>\n",
       "      <td>1</td>\n",
       "      <td>4</td>\n",
       "      <td>12770.11290</td>\n",
       "    </tr>\n",
       "  </tbody>\n",
       "</table>\n",
       "</div>"
      ],
      "text/plain": [
       "       preco  vendido  idade_do_modelo   km_por_ano\n",
       "0   30941.02        1               18  35085.22134\n",
       "1   40557.96        1               20  12622.05362\n",
       "2   89627.50        0               12  11440.79806\n",
       "3   95276.14        0                3  43167.32682\n",
       "4  117384.68        1                4  12770.11290"
      ]
     },
     "execution_count": 2,
     "metadata": {},
     "output_type": "execute_result"
    }
   ],
   "source": [
    "import pandas as pd\n",
    "\n",
    "uri = \"https://gist.githubusercontent.com/guilhermesilveira/e99a526b2e7ccc6c3b70f53db43a87d2/raw/1605fc74aa778066bf2e6695e24d53cf65f2f447/machine-learning-carros-simulacao.csv\"\n",
    "dados = pd.read_csv(uri).drop(columns=[\"Unnamed: 0\"], axis=1)\n",
    "dados.head()"
   ]
  },
  {
   "cell_type": "code",
   "execution_count": 3,
   "metadata": {
    "colab": {
     "base_uri": "https://localhost:8080/",
     "height": 206
    },
    "id": "b52E4e1hjegN",
    "outputId": "aaa4f6bf-b8e3-4678-dcc2-e60b2db67651"
   },
   "outputs": [
    {
     "data": {
      "text/html": [
       "<div>\n",
       "<style scoped>\n",
       "    .dataframe tbody tr th:only-of-type {\n",
       "        vertical-align: middle;\n",
       "    }\n",
       "\n",
       "    .dataframe tbody tr th {\n",
       "        vertical-align: top;\n",
       "    }\n",
       "\n",
       "    .dataframe thead th {\n",
       "        text-align: right;\n",
       "    }\n",
       "</style>\n",
       "<table border=\"1\" class=\"dataframe\">\n",
       "  <thead>\n",
       "    <tr style=\"text-align: right;\">\n",
       "      <th></th>\n",
       "      <th>preco</th>\n",
       "      <th>vendido</th>\n",
       "      <th>idade_do_modelo</th>\n",
       "      <th>km_por_ano</th>\n",
       "    </tr>\n",
       "  </thead>\n",
       "  <tbody>\n",
       "    <tr>\n",
       "      <th>4999</th>\n",
       "      <td>74023.29</td>\n",
       "      <td>0</td>\n",
       "      <td>12</td>\n",
       "      <td>24812.80412</td>\n",
       "    </tr>\n",
       "    <tr>\n",
       "      <th>5322</th>\n",
       "      <td>84843.49</td>\n",
       "      <td>0</td>\n",
       "      <td>13</td>\n",
       "      <td>23095.63834</td>\n",
       "    </tr>\n",
       "    <tr>\n",
       "      <th>5319</th>\n",
       "      <td>83100.27</td>\n",
       "      <td>0</td>\n",
       "      <td>19</td>\n",
       "      <td>36240.72746</td>\n",
       "    </tr>\n",
       "    <tr>\n",
       "      <th>5316</th>\n",
       "      <td>87932.13</td>\n",
       "      <td>0</td>\n",
       "      <td>16</td>\n",
       "      <td>32249.56426</td>\n",
       "    </tr>\n",
       "    <tr>\n",
       "      <th>5315</th>\n",
       "      <td>77937.01</td>\n",
       "      <td>0</td>\n",
       "      <td>15</td>\n",
       "      <td>28414.50704</td>\n",
       "    </tr>\n",
       "  </tbody>\n",
       "</table>\n",
       "</div>"
      ],
      "text/plain": [
       "         preco  vendido  idade_do_modelo   km_por_ano\n",
       "4999  74023.29        0               12  24812.80412\n",
       "5322  84843.49        0               13  23095.63834\n",
       "5319  83100.27        0               19  36240.72746\n",
       "5316  87932.13        0               16  32249.56426\n",
       "5315  77937.01        0               15  28414.50704"
      ]
     },
     "execution_count": 3,
     "metadata": {},
     "output_type": "execute_result"
    }
   ],
   "source": [
    "# situação horrível de \"azar\" onde as classes estão ordenadas por padrão\n",
    "\n",
    "dados_azar = dados.sort_values(\"vendido\", ascending=True)\n",
    "x_azar = dados_azar[[\"preco\", \"idade_do_modelo\",\"km_por_ano\"]]\n",
    "y_azar = dados_azar[\"vendido\"]\n",
    "dados_azar.head()"
   ]
  },
  {
   "cell_type": "code",
   "execution_count": 4,
   "metadata": {
    "colab": {
     "base_uri": "https://localhost:8080/"
    },
    "id": "ZNT26vFEeYmz",
    "outputId": "b115b15d-956e-454e-e408-a94c81411bf2"
   },
   "outputs": [
    {
     "name": "stdout",
     "output_type": "stream",
     "text": [
      "Accuracy com dummy stratified, 10 = [58.00, 58.00]\n"
     ]
    }
   ],
   "source": [
    "from sklearn.model_selection import cross_validate\n",
    "from sklearn.dummy import DummyClassifier\n",
    "import numpy as np\n",
    "\n",
    "SEED = 301\n",
    "np.random.seed(SEED)\n",
    "\n",
    "modelo = DummyClassifier()\n",
    "results = cross_validate(modelo, x_azar, y_azar, cv = 10, return_train_score=False)\n",
    "media = results['test_score'].mean()\n",
    "desvio_padrao = results['test_score'].std()\n",
    "print(\"Accuracy com dummy stratified, 10 = [%.2f, %.2f]\" % ((media - 2 * desvio_padrao)*100, (media + 2 * desvio_padrao) * 100))"
   ]
  },
  {
   "cell_type": "code",
   "execution_count": 5,
   "metadata": {
    "colab": {
     "base_uri": "https://localhost:8080/"
    },
    "id": "73mCcFA_eG_K",
    "outputId": "40a8cbd7-9199-4835-e710-d567922009a9"
   },
   "outputs": [
    {
     "name": "stdout",
     "output_type": "stream",
     "text": [
      "Accuracy com cross validation, 10 = [73.83, 77.73]\n"
     ]
    }
   ],
   "source": [
    "from sklearn.model_selection import cross_validate\n",
    "from sklearn.tree import DecisionTreeClassifier\n",
    "\n",
    "SEED = 301\n",
    "np.random.seed(SEED)\n",
    "\n",
    "modelo = DecisionTreeClassifier(max_depth=2)\n",
    "results = cross_validate(modelo, x_azar, y_azar, cv = 10, return_train_score=False)\n",
    "media = results['test_score'].mean()\n",
    "desvio_padrao = results['test_score'].std()\n",
    "print(\"Accuracy com cross validation, 10 = [%.2f, %.2f]\" % ((media - 2 * desvio_padrao)*100, (media + 2 * desvio_padrao) * 100))"
   ]
  },
  {
   "cell_type": "code",
   "execution_count": 6,
   "metadata": {
    "colab": {
     "base_uri": "https://localhost:8080/",
     "height": 206
    },
    "id": "5C8Y6J-PGpYf",
    "outputId": "6d992aef-6634-482b-e734-e8ab40638f9d"
   },
   "outputs": [
    {
     "data": {
      "text/html": [
       "<div>\n",
       "<style scoped>\n",
       "    .dataframe tbody tr th:only-of-type {\n",
       "        vertical-align: middle;\n",
       "    }\n",
       "\n",
       "    .dataframe tbody tr th {\n",
       "        vertical-align: top;\n",
       "    }\n",
       "\n",
       "    .dataframe thead th {\n",
       "        text-align: right;\n",
       "    }\n",
       "</style>\n",
       "<table border=\"1\" class=\"dataframe\">\n",
       "  <thead>\n",
       "    <tr style=\"text-align: right;\">\n",
       "      <th></th>\n",
       "      <th>preco</th>\n",
       "      <th>vendido</th>\n",
       "      <th>idade_do_modelo</th>\n",
       "      <th>km_por_ano</th>\n",
       "      <th>modelo</th>\n",
       "    </tr>\n",
       "  </thead>\n",
       "  <tbody>\n",
       "    <tr>\n",
       "      <th>0</th>\n",
       "      <td>30941.02</td>\n",
       "      <td>1</td>\n",
       "      <td>18</td>\n",
       "      <td>35085.22134</td>\n",
       "      <td>18</td>\n",
       "    </tr>\n",
       "    <tr>\n",
       "      <th>1</th>\n",
       "      <td>40557.96</td>\n",
       "      <td>1</td>\n",
       "      <td>20</td>\n",
       "      <td>12622.05362</td>\n",
       "      <td>24</td>\n",
       "    </tr>\n",
       "    <tr>\n",
       "      <th>2</th>\n",
       "      <td>89627.50</td>\n",
       "      <td>0</td>\n",
       "      <td>12</td>\n",
       "      <td>11440.79806</td>\n",
       "      <td>14</td>\n",
       "    </tr>\n",
       "    <tr>\n",
       "      <th>3</th>\n",
       "      <td>95276.14</td>\n",
       "      <td>0</td>\n",
       "      <td>3</td>\n",
       "      <td>43167.32682</td>\n",
       "      <td>6</td>\n",
       "    </tr>\n",
       "    <tr>\n",
       "      <th>4</th>\n",
       "      <td>117384.68</td>\n",
       "      <td>1</td>\n",
       "      <td>4</td>\n",
       "      <td>12770.11290</td>\n",
       "      <td>5</td>\n",
       "    </tr>\n",
       "  </tbody>\n",
       "</table>\n",
       "</div>"
      ],
      "text/plain": [
       "       preco  vendido  idade_do_modelo   km_por_ano  modelo\n",
       "0   30941.02        1               18  35085.22134      18\n",
       "1   40557.96        1               20  12622.05362      24\n",
       "2   89627.50        0               12  11440.79806      14\n",
       "3   95276.14        0                3  43167.32682       6\n",
       "4  117384.68        1                4  12770.11290       5"
      ]
     },
     "execution_count": 6,
     "metadata": {},
     "output_type": "execute_result"
    }
   ],
   "source": [
    "# gerando dados elatorios de modelo de carro para simulacao de agrupamento ao usar nosso estimador\n",
    "\n",
    "np.random.seed(SEED)\n",
    "dados['modelo'] = dados.idade_do_modelo + np.random.randint(-2, 3, size=10000)\n",
    "dados.modelo = dados.modelo + abs(dados.modelo.min()) + 1\n",
    "dados.head()"
   ]
  },
  {
   "cell_type": "code",
   "execution_count": 7,
   "metadata": {
    "id": "3hmjt7qPHOZY"
   },
   "outputs": [],
   "source": [
    "def imprime_resultados(results):\n",
    "    media = results['test_score'].mean() * 100\n",
    "    desvio = results['test_score'].std() * 100\n",
    "    print(\"Accuracy médio %.2f\" % media)\n",
    "    print(\"Intervalo [%.2f, %.2f]\" % (media - 2 * desvio, media + 2 * desvio))"
   ]
  },
  {
   "cell_type": "code",
   "execution_count": 8,
   "metadata": {
    "colab": {
     "base_uri": "https://localhost:8080/"
    },
    "id": "goijy0rSS7n-",
    "outputId": "7b2403f8-a297-42a5-b14c-5bed0d678ded"
   },
   "outputs": [
    {
     "name": "stdout",
     "output_type": "stream",
     "text": [
      "Accuracy médio 76.68\n",
      "Intervalo [74.28, 79.08]\n"
     ]
    }
   ],
   "source": [
    "# GroupKFold em um pipeline com StandardScaler e SVC\n",
    "\n",
    "from sklearn.preprocessing import StandardScaler\n",
    "from sklearn.svm import SVC\n",
    "from sklearn.pipeline import Pipeline\n",
    "from sklearn.model_selection import GroupKFold\n",
    "\n",
    "SEED = 301\n",
    "np.random.seed(SEED)\n",
    "\n",
    "scaler = StandardScaler()\n",
    "modelo = SVC()\n",
    "\n",
    "pipeline = Pipeline([('transformacao',scaler), ('estimador',modelo)])\n",
    "\n",
    "cv = GroupKFold(n_splits = 10)\n",
    "results = cross_validate(pipeline, x_azar, y_azar, cv = cv, groups = dados.modelo, return_train_score=False)\n",
    "imprime_resultados(results)"
   ]
  },
  {
   "cell_type": "code",
   "execution_count": 9,
   "metadata": {
    "colab": {
     "base_uri": "https://localhost:8080/"
    },
    "id": "IKD8uaWkNcUL",
    "outputId": "8011fe25-d4b8-4d8b-b9c8-be035360382a"
   },
   "outputs": [
    {
     "name": "stdout",
     "output_type": "stream",
     "text": [
      "Accuracy médio 75.78\n",
      "Intervalo [73.67, 77.90]\n"
     ]
    }
   ],
   "source": [
    "# GroupKFold para analisar como o modelo se comporta com novos grupos\n",
    "\n",
    "from sklearn.model_selection import GroupKFold\n",
    "\n",
    "SEED = 301\n",
    "np.random.seed(SEED)\n",
    "\n",
    "cv = GroupKFold(n_splits = 10)\n",
    "modelo = DecisionTreeClassifier(max_depth=2)\n",
    "results = cross_validate(modelo, x_azar, y_azar, cv = cv, groups = dados.modelo, return_train_score=False)\n",
    "imprime_resultados(results)"
   ]
  },
  {
   "cell_type": "code",
   "execution_count": 10,
   "metadata": {
    "colab": {
     "base_uri": "https://localhost:8080/",
     "height": 439
    },
    "id": "WhJEIZ4bO3J6",
    "outputId": "747622dc-4531-4d6f-9032-4d28ac6eb02e"
   },
   "outputs": [
    {
     "data": {
      "image/svg+xml": [
       "<?xml version=\"1.0\" encoding=\"UTF-8\" standalone=\"no\"?>\r\n",
       "<!DOCTYPE svg PUBLIC \"-//W3C//DTD SVG 1.1//EN\"\r\n",
       " \"http://www.w3.org/Graphics/SVG/1.1/DTD/svg11.dtd\">\r\n",
       "<!-- Generated by graphviz version 2.38.0 (20140413.2041)\r\n",
       " -->\r\n",
       "<!-- Title: Tree Pages: 1 -->\r\n",
       "<svg width=\"619pt\" height=\"314pt\"\r\n",
       " viewBox=\"0.00 0.00 619.00 314.00\" xmlns=\"http://www.w3.org/2000/svg\" xmlns:xlink=\"http://www.w3.org/1999/xlink\">\r\n",
       "<g id=\"graph0\" class=\"graph\" transform=\"scale(1 1) rotate(0) translate(4 310)\">\r\n",
       "<title>Tree</title>\r\n",
       "<polygon fill=\"white\" stroke=\"none\" points=\"-4,4 -4,-310 615,-310 615,4 -4,4\"/>\r\n",
       "<!-- 0 -->\r\n",
       "<g id=\"node1\" class=\"node\"><title>0</title>\r\n",
       "<path fill=\"#c8e4f8\" stroke=\"black\" d=\"M356.5,-306C356.5,-306 233.5,-306 233.5,-306 227.5,-306 221.5,-300 221.5,-294 221.5,-294 221.5,-235 221.5,-235 221.5,-229 227.5,-223 233.5,-223 233.5,-223 356.5,-223 356.5,-223 362.5,-223 368.5,-229 368.5,-235 368.5,-235 368.5,-294 368.5,-294 368.5,-300 362.5,-306 356.5,-306\"/>\r\n",
       "<text text-anchor=\"middle\" x=\"295\" y=\"-290.8\" font-family=\"Helvetica,sans-Serif\" font-size=\"14.00\">preco &lt;= 59982.246</text>\r\n",
       "<text text-anchor=\"middle\" x=\"295\" y=\"-275.8\" font-family=\"Helvetica,sans-Serif\" font-size=\"14.00\">gini = 0.487</text>\r\n",
       "<text text-anchor=\"middle\" x=\"295\" y=\"-260.8\" font-family=\"Helvetica,sans-Serif\" font-size=\"14.00\">samples = 10000</text>\r\n",
       "<text text-anchor=\"middle\" x=\"295\" y=\"-245.8\" font-family=\"Helvetica,sans-Serif\" font-size=\"14.00\">value = [4200, 5800]</text>\r\n",
       "<text text-anchor=\"middle\" x=\"295\" y=\"-230.8\" font-family=\"Helvetica,sans-Serif\" font-size=\"14.00\">class = sim</text>\r\n",
       "</g>\r\n",
       "<!-- 1 -->\r\n",
       "<g id=\"node2\" class=\"node\"><title>1</title>\r\n",
       "<path fill=\"#52a9e8\" stroke=\"black\" d=\"M263.5,-187C263.5,-187 140.5,-187 140.5,-187 134.5,-187 128.5,-181 128.5,-175 128.5,-175 128.5,-116 128.5,-116 128.5,-110 134.5,-104 140.5,-104 140.5,-104 263.5,-104 263.5,-104 269.5,-104 275.5,-110 275.5,-116 275.5,-116 275.5,-175 275.5,-175 275.5,-181 269.5,-187 263.5,-187\"/>\r\n",
       "<text text-anchor=\"middle\" x=\"202\" y=\"-171.8\" font-family=\"Helvetica,sans-Serif\" font-size=\"14.00\">preco &lt;= 40083.385</text>\r\n",
       "<text text-anchor=\"middle\" x=\"202\" y=\"-156.8\" font-family=\"Helvetica,sans-Serif\" font-size=\"14.00\">gini = 0.198</text>\r\n",
       "<text text-anchor=\"middle\" x=\"202\" y=\"-141.8\" font-family=\"Helvetica,sans-Serif\" font-size=\"14.00\">samples = 4347</text>\r\n",
       "<text text-anchor=\"middle\" x=\"202\" y=\"-126.8\" font-family=\"Helvetica,sans-Serif\" font-size=\"14.00\">value = [484, 3863]</text>\r\n",
       "<text text-anchor=\"middle\" x=\"202\" y=\"-111.8\" font-family=\"Helvetica,sans-Serif\" font-size=\"14.00\">class = sim</text>\r\n",
       "</g>\r\n",
       "<!-- 0&#45;&gt;1 -->\r\n",
       "<g id=\"edge1\" class=\"edge\"><title>0&#45;&gt;1</title>\r\n",
       "<path fill=\"none\" stroke=\"black\" d=\"M262.734,-222.907C255.593,-213.923 247.956,-204.315 240.591,-195.05\"/>\r\n",
       "<polygon fill=\"black\" stroke=\"black\" points=\"243.171,-192.671 234.209,-187.021 237.691,-197.027 243.171,-192.671\"/>\r\n",
       "<text text-anchor=\"middle\" x=\"231.37\" y=\"-208.159\" font-family=\"Helvetica,sans-Serif\" font-size=\"14.00\">True</text>\r\n",
       "</g>\r\n",
       "<!-- 4 -->\r\n",
       "<g id=\"node5\" class=\"node\"><title>4</title>\r\n",
       "<path fill=\"#f3c3a0\" stroke=\"black\" d=\"M472,-187C472,-187 306,-187 306,-187 300,-187 294,-181 294,-175 294,-175 294,-116 294,-116 294,-110 300,-104 306,-104 306,-104 472,-104 472,-104 478,-104 484,-110 484,-116 484,-116 484,-175 484,-175 484,-181 478,-187 472,-187\"/>\r\n",
       "<text text-anchor=\"middle\" x=\"389\" y=\"-171.8\" font-family=\"Helvetica,sans-Serif\" font-size=\"14.00\">km_por_ano &lt;= 24124.006</text>\r\n",
       "<text text-anchor=\"middle\" x=\"389\" y=\"-156.8\" font-family=\"Helvetica,sans-Serif\" font-size=\"14.00\">gini = 0.45</text>\r\n",
       "<text text-anchor=\"middle\" x=\"389\" y=\"-141.8\" font-family=\"Helvetica,sans-Serif\" font-size=\"14.00\">samples = 5653</text>\r\n",
       "<text text-anchor=\"middle\" x=\"389\" y=\"-126.8\" font-family=\"Helvetica,sans-Serif\" font-size=\"14.00\">value = [3716, 1937]</text>\r\n",
       "<text text-anchor=\"middle\" x=\"389\" y=\"-111.8\" font-family=\"Helvetica,sans-Serif\" font-size=\"14.00\">class = não</text>\r\n",
       "</g>\r\n",
       "<!-- 0&#45;&gt;4 -->\r\n",
       "<g id=\"edge4\" class=\"edge\"><title>0&#45;&gt;4</title>\r\n",
       "<path fill=\"none\" stroke=\"black\" d=\"M327.613,-222.907C334.831,-213.923 342.55,-204.315 349.994,-195.05\"/>\r\n",
       "<polygon fill=\"black\" stroke=\"black\" points=\"352.91,-197.009 356.445,-187.021 347.453,-192.624 352.91,-197.009\"/>\r\n",
       "<text text-anchor=\"middle\" x=\"359.154\" y=\"-208.174\" font-family=\"Helvetica,sans-Serif\" font-size=\"14.00\">False</text>\r\n",
       "</g>\r\n",
       "<!-- 2 -->\r\n",
       "<g id=\"node3\" class=\"node\"><title>2</title>\r\n",
       "<path fill=\"#399de5\" stroke=\"black\" d=\"M110,-68C110,-68 12,-68 12,-68 6,-68 7.10543e-015,-62 7.10543e-015,-56 7.10543e-015,-56 7.10543e-015,-12 7.10543e-015,-12 7.10543e-015,-6 6,-0 12,-0 12,-0 110,-0 110,-0 116,-0 122,-6 122,-12 122,-12 122,-56 122,-56 122,-62 116,-68 110,-68\"/>\r\n",
       "<text text-anchor=\"middle\" x=\"61\" y=\"-52.8\" font-family=\"Helvetica,sans-Serif\" font-size=\"14.00\">gini = 0.0</text>\r\n",
       "<text text-anchor=\"middle\" x=\"61\" y=\"-37.8\" font-family=\"Helvetica,sans-Serif\" font-size=\"14.00\">samples = 1935</text>\r\n",
       "<text text-anchor=\"middle\" x=\"61\" y=\"-22.8\" font-family=\"Helvetica,sans-Serif\" font-size=\"14.00\">value = [0, 1935]</text>\r\n",
       "<text text-anchor=\"middle\" x=\"61\" y=\"-7.8\" font-family=\"Helvetica,sans-Serif\" font-size=\"14.00\">class = sim</text>\r\n",
       "</g>\r\n",
       "<!-- 1&#45;&gt;2 -->\r\n",
       "<g id=\"edge2\" class=\"edge\"><title>1&#45;&gt;2</title>\r\n",
       "<path fill=\"none\" stroke=\"black\" d=\"M149.497,-103.726C137.165,-94.1494 124.046,-83.9611 111.791,-74.4438\"/>\r\n",
       "<polygon fill=\"black\" stroke=\"black\" points=\"113.924,-71.6689 103.879,-68.2996 109.63,-77.1975 113.924,-71.6689\"/>\r\n",
       "</g>\r\n",
       "<!-- 3 -->\r\n",
       "<g id=\"node4\" class=\"node\"><title>3</title>\r\n",
       "<path fill=\"#6bb6ec\" stroke=\"black\" d=\"M266,-68C266,-68 152,-68 152,-68 146,-68 140,-62 140,-56 140,-56 140,-12 140,-12 140,-6 146,-0 152,-0 152,-0 266,-0 266,-0 272,-0 278,-6 278,-12 278,-12 278,-56 278,-56 278,-62 272,-68 266,-68\"/>\r\n",
       "<text text-anchor=\"middle\" x=\"209\" y=\"-52.8\" font-family=\"Helvetica,sans-Serif\" font-size=\"14.00\">gini = 0.321</text>\r\n",
       "<text text-anchor=\"middle\" x=\"209\" y=\"-37.8\" font-family=\"Helvetica,sans-Serif\" font-size=\"14.00\">samples = 2412</text>\r\n",
       "<text text-anchor=\"middle\" x=\"209\" y=\"-22.8\" font-family=\"Helvetica,sans-Serif\" font-size=\"14.00\">value = [484, 1928]</text>\r\n",
       "<text text-anchor=\"middle\" x=\"209\" y=\"-7.8\" font-family=\"Helvetica,sans-Serif\" font-size=\"14.00\">class = sim</text>\r\n",
       "</g>\r\n",
       "<!-- 1&#45;&gt;3 -->\r\n",
       "<g id=\"edge3\" class=\"edge\"><title>1&#45;&gt;3</title>\r\n",
       "<path fill=\"none\" stroke=\"black\" d=\"M204.607,-103.726C205.137,-95.4263 205.697,-86.6671 206.233,-78.2834\"/>\r\n",
       "<polygon fill=\"black\" stroke=\"black\" points=\"209.726,-78.5025 206.871,-68.2996 202.74,-78.0559 209.726,-78.5025\"/>\r\n",
       "</g>\r\n",
       "<!-- 5 -->\r\n",
       "<g id=\"node6\" class=\"node\"><title>5</title>\r\n",
       "<path fill=\"#fcefe5\" stroke=\"black\" d=\"M443,-68C443,-68 321,-68 321,-68 315,-68 309,-62 309,-56 309,-56 309,-12 309,-12 309,-6 315,-0 321,-0 321,-0 443,-0 443,-0 449,-0 455,-6 455,-12 455,-12 455,-56 455,-56 455,-62 449,-68 443,-68\"/>\r\n",
       "<text text-anchor=\"middle\" x=\"382\" y=\"-52.8\" font-family=\"Helvetica,sans-Serif\" font-size=\"14.00\">gini = 0.498</text>\r\n",
       "<text text-anchor=\"middle\" x=\"382\" y=\"-37.8\" font-family=\"Helvetica,sans-Serif\" font-size=\"14.00\">samples = 3513</text>\r\n",
       "<text text-anchor=\"middle\" x=\"382\" y=\"-22.8\" font-family=\"Helvetica,sans-Serif\" font-size=\"14.00\">value = [1879, 1634]</text>\r\n",
       "<text text-anchor=\"middle\" x=\"382\" y=\"-7.8\" font-family=\"Helvetica,sans-Serif\" font-size=\"14.00\">class = não</text>\r\n",
       "</g>\r\n",
       "<!-- 4&#45;&gt;5 -->\r\n",
       "<g id=\"edge5\" class=\"edge\"><title>4&#45;&gt;5</title>\r\n",
       "<path fill=\"none\" stroke=\"black\" d=\"M386.393,-103.726C385.863,-95.4263 385.303,-86.6671 384.767,-78.2834\"/>\r\n",
       "<polygon fill=\"black\" stroke=\"black\" points=\"388.26,-78.0559 384.129,-68.2996 381.274,-78.5025 388.26,-78.0559\"/>\r\n",
       "</g>\r\n",
       "<!-- 6 -->\r\n",
       "<g id=\"node7\" class=\"node\"><title>6</title>\r\n",
       "<path fill=\"#e9965a\" stroke=\"black\" d=\"M599,-68C599,-68 485,-68 485,-68 479,-68 473,-62 473,-56 473,-56 473,-12 473,-12 473,-6 479,-0 485,-0 485,-0 599,-0 599,-0 605,-0 611,-6 611,-12 611,-12 611,-56 611,-56 611,-62 605,-68 599,-68\"/>\r\n",
       "<text text-anchor=\"middle\" x=\"542\" y=\"-52.8\" font-family=\"Helvetica,sans-Serif\" font-size=\"14.00\">gini = 0.243</text>\r\n",
       "<text text-anchor=\"middle\" x=\"542\" y=\"-37.8\" font-family=\"Helvetica,sans-Serif\" font-size=\"14.00\">samples = 2140</text>\r\n",
       "<text text-anchor=\"middle\" x=\"542\" y=\"-22.8\" font-family=\"Helvetica,sans-Serif\" font-size=\"14.00\">value = [1837, 303]</text>\r\n",
       "<text text-anchor=\"middle\" x=\"542\" y=\"-7.8\" font-family=\"Helvetica,sans-Serif\" font-size=\"14.00\">class = não</text>\r\n",
       "</g>\r\n",
       "<!-- 4&#45;&gt;6 -->\r\n",
       "<g id=\"edge6\" class=\"edge\"><title>4&#45;&gt;6</title>\r\n",
       "<path fill=\"none\" stroke=\"black\" d=\"M445.972,-103.726C459.48,-94.0582 473.86,-83.767 487.266,-74.172\"/>\r\n",
       "<polygon fill=\"black\" stroke=\"black\" points=\"489.377,-76.9657 495.472,-68.2996 485.303,-71.2734 489.377,-76.9657\"/>\r\n",
       "</g>\r\n",
       "</g>\r\n",
       "</svg>\r\n"
      ],
      "text/plain": [
       "<graphviz.files.Source at 0x1d8f45000d0>"
      ]
     },
     "execution_count": 10,
     "metadata": {},
     "output_type": "execute_result"
    }
   ],
   "source": [
    "from sklearn.tree import export_graphviz\n",
    "import graphviz\n",
    "\n",
    "modelo.fit(x_azar, y_azar)\n",
    "features = x_azar.columns\n",
    "dot_data = export_graphviz(modelo, out_file=None, filled=True, rounded=True,\n",
    "                          class_names=[\"não\",\"sim\"],\n",
    "                          feature_names = features)\n",
    "graph = graphviz.Source(dot_data)\n",
    "graph"
   ]
  },
  {
   "cell_type": "code",
   "execution_count": 11,
   "metadata": {
    "colab": {
     "base_uri": "https://localhost:8080/"
    },
    "id": "zdfgLexRPQ54",
    "outputId": "f2dbb7cd-9390-419a-be8c-2a9169a205f5"
   },
   "outputs": [
    {
     "name": "stdout",
     "output_type": "stream",
     "text": [
      "Accuracy médio 78.67\n",
      "Intervalo [76.40, 80.94]\n"
     ]
    }
   ],
   "source": [
    "# GroupKFold para analisar como o modelo se comporta com novos grupos\n",
    "\n",
    "from sklearn.model_selection import GroupKFold\n",
    "\n",
    "SEED = 301\n",
    "np.random.seed(SEED)\n",
    "\n",
    "cv = GroupKFold(n_splits = 10)\n",
    "modelo = DecisionTreeClassifier(max_depth=3)\n",
    "results = cross_validate(modelo, x_azar, y_azar, cv = cv, groups = dados.modelo, return_train_score=False)\n",
    "imprime_resultados(results)"
   ]
  },
  {
   "cell_type": "code",
   "execution_count": 12,
   "metadata": {
    "colab": {
     "base_uri": "https://localhost:8080/",
     "height": 598
    },
    "id": "kSe6rPpdQ4Wy",
    "outputId": "73309a57-ac5f-4c3e-f549-02dd50d90a02"
   },
   "outputs": [
    {
     "data": {
      "image/svg+xml": [
       "<?xml version=\"1.0\" encoding=\"UTF-8\" standalone=\"no\"?>\r\n",
       "<!DOCTYPE svg PUBLIC \"-//W3C//DTD SVG 1.1//EN\"\r\n",
       " \"http://www.w3.org/Graphics/SVG/1.1/DTD/svg11.dtd\">\r\n",
       "<!-- Generated by graphviz version 2.38.0 (20140413.2041)\r\n",
       " -->\r\n",
       "<!-- Title: Tree Pages: 1 -->\r\n",
       "<svg width=\"899pt\" height=\"433pt\"\r\n",
       " viewBox=\"0.00 0.00 899.00 433.00\" xmlns=\"http://www.w3.org/2000/svg\" xmlns:xlink=\"http://www.w3.org/1999/xlink\">\r\n",
       "<g id=\"graph0\" class=\"graph\" transform=\"scale(1 1) rotate(0) translate(4 429)\">\r\n",
       "<title>Tree</title>\r\n",
       "<polygon fill=\"white\" stroke=\"none\" points=\"-4,4 -4,-429 895,-429 895,4 -4,4\"/>\r\n",
       "<!-- 0 -->\r\n",
       "<g id=\"node1\" class=\"node\"><title>0</title>\r\n",
       "<path fill=\"#c8e4f8\" stroke=\"black\" d=\"M395.5,-425C395.5,-425 272.5,-425 272.5,-425 266.5,-425 260.5,-419 260.5,-413 260.5,-413 260.5,-354 260.5,-354 260.5,-348 266.5,-342 272.5,-342 272.5,-342 395.5,-342 395.5,-342 401.5,-342 407.5,-348 407.5,-354 407.5,-354 407.5,-413 407.5,-413 407.5,-419 401.5,-425 395.5,-425\"/>\r\n",
       "<text text-anchor=\"middle\" x=\"334\" y=\"-409.8\" font-family=\"Helvetica,sans-Serif\" font-size=\"14.00\">preco &lt;= 59982.246</text>\r\n",
       "<text text-anchor=\"middle\" x=\"334\" y=\"-394.8\" font-family=\"Helvetica,sans-Serif\" font-size=\"14.00\">gini = 0.487</text>\r\n",
       "<text text-anchor=\"middle\" x=\"334\" y=\"-379.8\" font-family=\"Helvetica,sans-Serif\" font-size=\"14.00\">samples = 10000</text>\r\n",
       "<text text-anchor=\"middle\" x=\"334\" y=\"-364.8\" font-family=\"Helvetica,sans-Serif\" font-size=\"14.00\">value = [4200, 5800]</text>\r\n",
       "<text text-anchor=\"middle\" x=\"334\" y=\"-349.8\" font-family=\"Helvetica,sans-Serif\" font-size=\"14.00\">class = sim</text>\r\n",
       "</g>\r\n",
       "<!-- 1 -->\r\n",
       "<g id=\"node2\" class=\"node\"><title>1</title>\r\n",
       "<path fill=\"#52a9e8\" stroke=\"black\" d=\"M275.5,-306C275.5,-306 152.5,-306 152.5,-306 146.5,-306 140.5,-300 140.5,-294 140.5,-294 140.5,-235 140.5,-235 140.5,-229 146.5,-223 152.5,-223 152.5,-223 275.5,-223 275.5,-223 281.5,-223 287.5,-229 287.5,-235 287.5,-235 287.5,-294 287.5,-294 287.5,-300 281.5,-306 275.5,-306\"/>\r\n",
       "<text text-anchor=\"middle\" x=\"214\" y=\"-290.8\" font-family=\"Helvetica,sans-Serif\" font-size=\"14.00\">preco &lt;= 40083.385</text>\r\n",
       "<text text-anchor=\"middle\" x=\"214\" y=\"-275.8\" font-family=\"Helvetica,sans-Serif\" font-size=\"14.00\">gini = 0.198</text>\r\n",
       "<text text-anchor=\"middle\" x=\"214\" y=\"-260.8\" font-family=\"Helvetica,sans-Serif\" font-size=\"14.00\">samples = 4347</text>\r\n",
       "<text text-anchor=\"middle\" x=\"214\" y=\"-245.8\" font-family=\"Helvetica,sans-Serif\" font-size=\"14.00\">value = [484, 3863]</text>\r\n",
       "<text text-anchor=\"middle\" x=\"214\" y=\"-230.8\" font-family=\"Helvetica,sans-Serif\" font-size=\"14.00\">class = sim</text>\r\n",
       "</g>\r\n",
       "<!-- 0&#45;&gt;1 -->\r\n",
       "<g id=\"edge1\" class=\"edge\"><title>0&#45;&gt;1</title>\r\n",
       "<path fill=\"none\" stroke=\"black\" d=\"M292.367,-341.907C282.873,-332.651 272.7,-322.732 262.932,-313.209\"/>\r\n",
       "<polygon fill=\"black\" stroke=\"black\" points=\"265.163,-310.496 255.56,-306.021 260.276,-315.508 265.163,-310.496\"/>\r\n",
       "<text text-anchor=\"middle\" x=\"255.876\" y=\"-327.319\" font-family=\"Helvetica,sans-Serif\" font-size=\"14.00\">True</text>\r\n",
       "</g>\r\n",
       "<!-- 6 -->\r\n",
       "<g id=\"node7\" class=\"node\"><title>6</title>\r\n",
       "<path fill=\"#f3c3a0\" stroke=\"black\" d=\"M538,-306C538,-306 372,-306 372,-306 366,-306 360,-300 360,-294 360,-294 360,-235 360,-235 360,-229 366,-223 372,-223 372,-223 538,-223 538,-223 544,-223 550,-229 550,-235 550,-235 550,-294 550,-294 550,-300 544,-306 538,-306\"/>\r\n",
       "<text text-anchor=\"middle\" x=\"455\" y=\"-290.8\" font-family=\"Helvetica,sans-Serif\" font-size=\"14.00\">km_por_ano &lt;= 24124.006</text>\r\n",
       "<text text-anchor=\"middle\" x=\"455\" y=\"-275.8\" font-family=\"Helvetica,sans-Serif\" font-size=\"14.00\">gini = 0.45</text>\r\n",
       "<text text-anchor=\"middle\" x=\"455\" y=\"-260.8\" font-family=\"Helvetica,sans-Serif\" font-size=\"14.00\">samples = 5653</text>\r\n",
       "<text text-anchor=\"middle\" x=\"455\" y=\"-245.8\" font-family=\"Helvetica,sans-Serif\" font-size=\"14.00\">value = [3716, 1937]</text>\r\n",
       "<text text-anchor=\"middle\" x=\"455\" y=\"-230.8\" font-family=\"Helvetica,sans-Serif\" font-size=\"14.00\">class = não</text>\r\n",
       "</g>\r\n",
       "<!-- 0&#45;&gt;6 -->\r\n",
       "<g id=\"edge6\" class=\"edge\"><title>0&#45;&gt;6</title>\r\n",
       "<path fill=\"none\" stroke=\"black\" d=\"M375.98,-341.907C385.553,-332.651 395.811,-322.732 405.66,-313.209\"/>\r\n",
       "<polygon fill=\"black\" stroke=\"black\" points=\"408.338,-315.488 413.094,-306.021 403.472,-310.456 408.338,-315.488\"/>\r\n",
       "<text text-anchor=\"middle\" x=\"412.674\" y=\"-327.317\" font-family=\"Helvetica,sans-Serif\" font-size=\"14.00\">False</text>\r\n",
       "</g>\r\n",
       "<!-- 2 -->\r\n",
       "<g id=\"node3\" class=\"node\"><title>2</title>\r\n",
       "<path fill=\"#399de5\" stroke=\"black\" d=\"M110,-179.5C110,-179.5 12,-179.5 12,-179.5 6,-179.5 7.10543e-015,-173.5 7.10543e-015,-167.5 7.10543e-015,-167.5 7.10543e-015,-123.5 7.10543e-015,-123.5 7.10543e-015,-117.5 6,-111.5 12,-111.5 12,-111.5 110,-111.5 110,-111.5 116,-111.5 122,-117.5 122,-123.5 122,-123.5 122,-167.5 122,-167.5 122,-173.5 116,-179.5 110,-179.5\"/>\r\n",
       "<text text-anchor=\"middle\" x=\"61\" y=\"-164.3\" font-family=\"Helvetica,sans-Serif\" font-size=\"14.00\">gini = 0.0</text>\r\n",
       "<text text-anchor=\"middle\" x=\"61\" y=\"-149.3\" font-family=\"Helvetica,sans-Serif\" font-size=\"14.00\">samples = 1935</text>\r\n",
       "<text text-anchor=\"middle\" x=\"61\" y=\"-134.3\" font-family=\"Helvetica,sans-Serif\" font-size=\"14.00\">value = [0, 1935]</text>\r\n",
       "<text text-anchor=\"middle\" x=\"61\" y=\"-119.3\" font-family=\"Helvetica,sans-Serif\" font-size=\"14.00\">class = sim</text>\r\n",
       "</g>\r\n",
       "<!-- 1&#45;&gt;2 -->\r\n",
       "<g id=\"edge2\" class=\"edge\"><title>1&#45;&gt;2</title>\r\n",
       "<path fill=\"none\" stroke=\"black\" d=\"M160.917,-222.907C145.189,-210.88 127.999,-197.735 112.38,-185.791\"/>\r\n",
       "<polygon fill=\"black\" stroke=\"black\" points=\"114.442,-182.961 104.372,-179.667 110.19,-188.522 114.442,-182.961\"/>\r\n",
       "</g>\r\n",
       "<!-- 3 -->\r\n",
       "<g id=\"node4\" class=\"node\"><title>3</title>\r\n",
       "<path fill=\"#6bb6ec\" stroke=\"black\" d=\"M275.5,-187C275.5,-187 152.5,-187 152.5,-187 146.5,-187 140.5,-181 140.5,-175 140.5,-175 140.5,-116 140.5,-116 140.5,-110 146.5,-104 152.5,-104 152.5,-104 275.5,-104 275.5,-104 281.5,-104 287.5,-110 287.5,-116 287.5,-116 287.5,-175 287.5,-175 287.5,-181 281.5,-187 275.5,-187\"/>\r\n",
       "<text text-anchor=\"middle\" x=\"214\" y=\"-171.8\" font-family=\"Helvetica,sans-Serif\" font-size=\"14.00\">preco &lt;= 41083.029</text>\r\n",
       "<text text-anchor=\"middle\" x=\"214\" y=\"-156.8\" font-family=\"Helvetica,sans-Serif\" font-size=\"14.00\">gini = 0.321</text>\r\n",
       "<text text-anchor=\"middle\" x=\"214\" y=\"-141.8\" font-family=\"Helvetica,sans-Serif\" font-size=\"14.00\">samples = 2412</text>\r\n",
       "<text text-anchor=\"middle\" x=\"214\" y=\"-126.8\" font-family=\"Helvetica,sans-Serif\" font-size=\"14.00\">value = [484, 1928]</text>\r\n",
       "<text text-anchor=\"middle\" x=\"214\" y=\"-111.8\" font-family=\"Helvetica,sans-Serif\" font-size=\"14.00\">class = sim</text>\r\n",
       "</g>\r\n",
       "<!-- 1&#45;&gt;3 -->\r\n",
       "<g id=\"edge3\" class=\"edge\"><title>1&#45;&gt;3</title>\r\n",
       "<path fill=\"none\" stroke=\"black\" d=\"M214,-222.907C214,-214.649 214,-205.864 214,-197.302\"/>\r\n",
       "<polygon fill=\"black\" stroke=\"black\" points=\"217.5,-197.021 214,-187.021 210.5,-197.021 217.5,-197.021\"/>\r\n",
       "</g>\r\n",
       "<!-- 4 -->\r\n",
       "<g id=\"node5\" class=\"node\"><title>4</title>\r\n",
       "<path fill=\"#95cbf1\" stroke=\"black\" d=\"M114.5,-68C114.5,-68 25.5,-68 25.5,-68 19.5,-68 13.5,-62 13.5,-56 13.5,-56 13.5,-12 13.5,-12 13.5,-6 19.5,-0 25.5,-0 25.5,-0 114.5,-0 114.5,-0 120.5,-0 126.5,-6 126.5,-12 126.5,-12 126.5,-56 126.5,-56 126.5,-62 120.5,-68 114.5,-68\"/>\r\n",
       "<text text-anchor=\"middle\" x=\"70\" y=\"-52.8\" font-family=\"Helvetica,sans-Serif\" font-size=\"14.00\">gini = 0.434</text>\r\n",
       "<text text-anchor=\"middle\" x=\"70\" y=\"-37.8\" font-family=\"Helvetica,sans-Serif\" font-size=\"14.00\">samples = 110</text>\r\n",
       "<text text-anchor=\"middle\" x=\"70\" y=\"-22.8\" font-family=\"Helvetica,sans-Serif\" font-size=\"14.00\">value = [35, 75]</text>\r\n",
       "<text text-anchor=\"middle\" x=\"70\" y=\"-7.8\" font-family=\"Helvetica,sans-Serif\" font-size=\"14.00\">class = sim</text>\r\n",
       "</g>\r\n",
       "<!-- 3&#45;&gt;4 -->\r\n",
       "<g id=\"edge4\" class=\"edge\"><title>3&#45;&gt;4</title>\r\n",
       "<path fill=\"none\" stroke=\"black\" d=\"M160.38,-103.726C147.785,-94.1494 134.387,-83.9611 121.871,-74.4438\"/>\r\n",
       "<polygon fill=\"black\" stroke=\"black\" points=\"123.87,-71.5666 113.791,-68.2996 119.633,-77.1386 123.87,-71.5666\"/>\r\n",
       "</g>\r\n",
       "<!-- 5 -->\r\n",
       "<g id=\"node6\" class=\"node\"><title>5</title>\r\n",
       "<path fill=\"#69b5eb\" stroke=\"black\" d=\"M271,-68C271,-68 157,-68 157,-68 151,-68 145,-62 145,-56 145,-56 145,-12 145,-12 145,-6 151,-0 157,-0 157,-0 271,-0 271,-0 277,-0 283,-6 283,-12 283,-12 283,-56 283,-56 283,-62 277,-68 271,-68\"/>\r\n",
       "<text text-anchor=\"middle\" x=\"214\" y=\"-52.8\" font-family=\"Helvetica,sans-Serif\" font-size=\"14.00\">gini = 0.314</text>\r\n",
       "<text text-anchor=\"middle\" x=\"214\" y=\"-37.8\" font-family=\"Helvetica,sans-Serif\" font-size=\"14.00\">samples = 2302</text>\r\n",
       "<text text-anchor=\"middle\" x=\"214\" y=\"-22.8\" font-family=\"Helvetica,sans-Serif\" font-size=\"14.00\">value = [449, 1853]</text>\r\n",
       "<text text-anchor=\"middle\" x=\"214\" y=\"-7.8\" font-family=\"Helvetica,sans-Serif\" font-size=\"14.00\">class = sim</text>\r\n",
       "</g>\r\n",
       "<!-- 3&#45;&gt;5 -->\r\n",
       "<g id=\"edge5\" class=\"edge\"><title>3&#45;&gt;5</title>\r\n",
       "<path fill=\"none\" stroke=\"black\" d=\"M214,-103.726C214,-95.5175 214,-86.8595 214,-78.56\"/>\r\n",
       "<polygon fill=\"black\" stroke=\"black\" points=\"217.5,-78.2996 214,-68.2996 210.5,-78.2996 217.5,-78.2996\"/>\r\n",
       "</g>\r\n",
       "<!-- 7 -->\r\n",
       "<g id=\"node8\" class=\"node\"><title>7</title>\r\n",
       "<path fill=\"#fcefe5\" stroke=\"black\" d=\"M516,-187C516,-187 394,-187 394,-187 388,-187 382,-181 382,-175 382,-175 382,-116 382,-116 382,-110 388,-104 394,-104 394,-104 516,-104 516,-104 522,-104 528,-110 528,-116 528,-116 528,-175 528,-175 528,-181 522,-187 516,-187\"/>\r\n",
       "<text text-anchor=\"middle\" x=\"455\" y=\"-171.8\" font-family=\"Helvetica,sans-Serif\" font-size=\"14.00\">preco &lt;= 99974.41</text>\r\n",
       "<text text-anchor=\"middle\" x=\"455\" y=\"-156.8\" font-family=\"Helvetica,sans-Serif\" font-size=\"14.00\">gini = 0.498</text>\r\n",
       "<text text-anchor=\"middle\" x=\"455\" y=\"-141.8\" font-family=\"Helvetica,sans-Serif\" font-size=\"14.00\">samples = 3513</text>\r\n",
       "<text text-anchor=\"middle\" x=\"455\" y=\"-126.8\" font-family=\"Helvetica,sans-Serif\" font-size=\"14.00\">value = [1879, 1634]</text>\r\n",
       "<text text-anchor=\"middle\" x=\"455\" y=\"-111.8\" font-family=\"Helvetica,sans-Serif\" font-size=\"14.00\">class = não</text>\r\n",
       "</g>\r\n",
       "<!-- 6&#45;&gt;7 -->\r\n",
       "<g id=\"edge7\" class=\"edge\"><title>6&#45;&gt;7</title>\r\n",
       "<path fill=\"none\" stroke=\"black\" d=\"M455,-222.907C455,-214.649 455,-205.864 455,-197.302\"/>\r\n",
       "<polygon fill=\"black\" stroke=\"black\" points=\"458.5,-197.021 455,-187.021 451.5,-197.021 458.5,-197.021\"/>\r\n",
       "</g>\r\n",
       "<!-- 10 -->\r\n",
       "<g id=\"node11\" class=\"node\"><title>10</title>\r\n",
       "<path fill=\"#e9965a\" stroke=\"black\" d=\"M743.5,-187C743.5,-187 612.5,-187 612.5,-187 606.5,-187 600.5,-181 600.5,-175 600.5,-175 600.5,-116 600.5,-116 600.5,-110 606.5,-104 612.5,-104 612.5,-104 743.5,-104 743.5,-104 749.5,-104 755.5,-110 755.5,-116 755.5,-116 755.5,-175 755.5,-175 755.5,-181 749.5,-187 743.5,-187\"/>\r\n",
       "<text text-anchor=\"middle\" x=\"678\" y=\"-171.8\" font-family=\"Helvetica,sans-Serif\" font-size=\"14.00\">preco &lt;= 100076.957</text>\r\n",
       "<text text-anchor=\"middle\" x=\"678\" y=\"-156.8\" font-family=\"Helvetica,sans-Serif\" font-size=\"14.00\">gini = 0.243</text>\r\n",
       "<text text-anchor=\"middle\" x=\"678\" y=\"-141.8\" font-family=\"Helvetica,sans-Serif\" font-size=\"14.00\">samples = 2140</text>\r\n",
       "<text text-anchor=\"middle\" x=\"678\" y=\"-126.8\" font-family=\"Helvetica,sans-Serif\" font-size=\"14.00\">value = [1837, 303]</text>\r\n",
       "<text text-anchor=\"middle\" x=\"678\" y=\"-111.8\" font-family=\"Helvetica,sans-Serif\" font-size=\"14.00\">class = não</text>\r\n",
       "</g>\r\n",
       "<!-- 6&#45;&gt;10 -->\r\n",
       "<g id=\"edge10\" class=\"edge\"><title>6&#45;&gt;10</title>\r\n",
       "<path fill=\"none\" stroke=\"black\" d=\"M532.369,-222.907C551.568,-212.834 572.262,-201.977 591.854,-191.698\"/>\r\n",
       "<polygon fill=\"black\" stroke=\"black\" points=\"593.539,-194.766 600.768,-187.021 590.287,-188.568 593.539,-194.766\"/>\r\n",
       "</g>\r\n",
       "<!-- 8 -->\r\n",
       "<g id=\"node9\" class=\"node\"><title>8</title>\r\n",
       "<path fill=\"#f9e0ce\" stroke=\"black\" d=\"M435,-68C435,-68 313,-68 313,-68 307,-68 301,-62 301,-56 301,-56 301,-12 301,-12 301,-6 307,-0 313,-0 313,-0 435,-0 435,-0 441,-0 447,-6 447,-12 447,-12 447,-56 447,-56 447,-62 441,-68 435,-68\"/>\r\n",
       "<text text-anchor=\"middle\" x=\"374\" y=\"-52.8\" font-family=\"Helvetica,sans-Serif\" font-size=\"14.00\">gini = 0.49</text>\r\n",
       "<text text-anchor=\"middle\" x=\"374\" y=\"-37.8\" font-family=\"Helvetica,sans-Serif\" font-size=\"14.00\">samples = 2944</text>\r\n",
       "<text text-anchor=\"middle\" x=\"374\" y=\"-22.8\" font-family=\"Helvetica,sans-Serif\" font-size=\"14.00\">value = [1682, 1262]</text>\r\n",
       "<text text-anchor=\"middle\" x=\"374\" y=\"-7.8\" font-family=\"Helvetica,sans-Serif\" font-size=\"14.00\">class = não</text>\r\n",
       "</g>\r\n",
       "<!-- 7&#45;&gt;8 -->\r\n",
       "<g id=\"edge8\" class=\"edge\"><title>7&#45;&gt;8</title>\r\n",
       "<path fill=\"none\" stroke=\"black\" d=\"M424.839,-103.726C418.227,-94.7878 411.221,-85.3168 404.592,-76.3558\"/>\r\n",
       "<polygon fill=\"black\" stroke=\"black\" points=\"407.393,-74.2576 398.633,-68.2996 401.766,-78.4206 407.393,-74.2576\"/>\r\n",
       "</g>\r\n",
       "<!-- 9 -->\r\n",
       "<g id=\"node10\" class=\"node\"><title>9</title>\r\n",
       "<path fill=\"#a2d1f3\" stroke=\"black\" d=\"M583,-68C583,-68 477,-68 477,-68 471,-68 465,-62 465,-56 465,-56 465,-12 465,-12 465,-6 471,-0 477,-0 477,-0 583,-0 583,-0 589,-0 595,-6 595,-12 595,-12 595,-56 595,-56 595,-62 589,-68 583,-68\"/>\r\n",
       "<text text-anchor=\"middle\" x=\"530\" y=\"-52.8\" font-family=\"Helvetica,sans-Serif\" font-size=\"14.00\">gini = 0.453</text>\r\n",
       "<text text-anchor=\"middle\" x=\"530\" y=\"-37.8\" font-family=\"Helvetica,sans-Serif\" font-size=\"14.00\">samples = 569</text>\r\n",
       "<text text-anchor=\"middle\" x=\"530\" y=\"-22.8\" font-family=\"Helvetica,sans-Serif\" font-size=\"14.00\">value = [197, 372]</text>\r\n",
       "<text text-anchor=\"middle\" x=\"530\" y=\"-7.8\" font-family=\"Helvetica,sans-Serif\" font-size=\"14.00\">class = sim</text>\r\n",
       "</g>\r\n",
       "<!-- 7&#45;&gt;9 -->\r\n",
       "<g id=\"edge9\" class=\"edge\"><title>7&#45;&gt;9</title>\r\n",
       "<path fill=\"none\" stroke=\"black\" d=\"M482.927,-103.726C488.987,-94.879 495.404,-85.51 501.486,-76.6303\"/>\r\n",
       "<polygon fill=\"black\" stroke=\"black\" points=\"504.429,-78.5277 507.192,-68.2996 498.654,-74.5721 504.429,-78.5277\"/>\r\n",
       "</g>\r\n",
       "<!-- 11 -->\r\n",
       "<g id=\"node12\" class=\"node\"><title>11</title>\r\n",
       "<path fill=\"#e68742\" stroke=\"black\" d=\"M731,-68C731,-68 625,-68 625,-68 619,-68 613,-62 613,-56 613,-56 613,-12 613,-12 613,-6 619,-0 625,-0 625,-0 731,-0 731,-0 737,-0 743,-6 743,-12 743,-12 743,-56 743,-56 743,-62 737,-68 731,-68\"/>\r\n",
       "<text text-anchor=\"middle\" x=\"678\" y=\"-52.8\" font-family=\"Helvetica,sans-Serif\" font-size=\"14.00\">gini = 0.082</text>\r\n",
       "<text text-anchor=\"middle\" x=\"678\" y=\"-37.8\" font-family=\"Helvetica,sans-Serif\" font-size=\"14.00\">samples = 1809</text>\r\n",
       "<text text-anchor=\"middle\" x=\"678\" y=\"-22.8\" font-family=\"Helvetica,sans-Serif\" font-size=\"14.00\">value = [1732, 77]</text>\r\n",
       "<text text-anchor=\"middle\" x=\"678\" y=\"-7.8\" font-family=\"Helvetica,sans-Serif\" font-size=\"14.00\">class = não</text>\r\n",
       "</g>\r\n",
       "<!-- 10&#45;&gt;11 -->\r\n",
       "<g id=\"edge11\" class=\"edge\"><title>10&#45;&gt;11</title>\r\n",
       "<path fill=\"none\" stroke=\"black\" d=\"M678,-103.726C678,-95.5175 678,-86.8595 678,-78.56\"/>\r\n",
       "<polygon fill=\"black\" stroke=\"black\" points=\"681.5,-78.2996 678,-68.2996 674.5,-78.2996 681.5,-78.2996\"/>\r\n",
       "</g>\r\n",
       "<!-- 12 -->\r\n",
       "<g id=\"node13\" class=\"node\"><title>12</title>\r\n",
       "<path fill=\"#95cbf1\" stroke=\"black\" d=\"M879,-68C879,-68 773,-68 773,-68 767,-68 761,-62 761,-56 761,-56 761,-12 761,-12 761,-6 767,-0 773,-0 773,-0 879,-0 879,-0 885,-0 891,-6 891,-12 891,-12 891,-56 891,-56 891,-62 885,-68 879,-68\"/>\r\n",
       "<text text-anchor=\"middle\" x=\"826\" y=\"-52.8\" font-family=\"Helvetica,sans-Serif\" font-size=\"14.00\">gini = 0.433</text>\r\n",
       "<text text-anchor=\"middle\" x=\"826\" y=\"-37.8\" font-family=\"Helvetica,sans-Serif\" font-size=\"14.00\">samples = 331</text>\r\n",
       "<text text-anchor=\"middle\" x=\"826\" y=\"-22.8\" font-family=\"Helvetica,sans-Serif\" font-size=\"14.00\">value = [105, 226]</text>\r\n",
       "<text text-anchor=\"middle\" x=\"826\" y=\"-7.8\" font-family=\"Helvetica,sans-Serif\" font-size=\"14.00\">class = sim</text>\r\n",
       "</g>\r\n",
       "<!-- 10&#45;&gt;12 -->\r\n",
       "<g id=\"edge12\" class=\"edge\"><title>10&#45;&gt;12</title>\r\n",
       "<path fill=\"none\" stroke=\"black\" d=\"M733.11,-103.726C746.054,-94.1494 759.824,-83.9611 772.688,-74.4438\"/>\r\n",
       "<polygon fill=\"black\" stroke=\"black\" points=\"775.035,-77.061 780.992,-68.2996 770.872,-71.4337 775.035,-77.061\"/>\r\n",
       "</g>\r\n",
       "</g>\r\n",
       "</svg>\r\n"
      ],
      "text/plain": [
       "<graphviz.files.Source at 0x1d8f8e18a90>"
      ]
     },
     "execution_count": 12,
     "metadata": {},
     "output_type": "execute_result"
    }
   ],
   "source": [
    "from sklearn.tree import export_graphviz\n",
    "import graphviz\n",
    "\n",
    "modelo.fit(x_azar, y_azar)\n",
    "features = x_azar.columns\n",
    "dot_data = export_graphviz(modelo, out_file=None, filled=True, rounded=True,\n",
    "                          class_names=[\"não\",\"sim\"],\n",
    "                          feature_names = features)\n",
    "graph = graphviz.Source(dot_data)\n",
    "graph"
   ]
  },
  {
   "cell_type": "code",
   "execution_count": 13,
   "metadata": {
    "colab": {
     "base_uri": "https://localhost:8080/"
    },
    "id": "2mZNqHhCQ7DO",
    "outputId": "acdf9d7e-996f-42a8-ee48-d59f4f6aa69b"
   },
   "outputs": [
    {
     "name": "stdout",
     "output_type": "stream",
     "text": [
      "Accuracy médio 77.19\n",
      "Intervalo [75.26, 79.13]\n"
     ]
    }
   ],
   "source": [
    "# GroupKFold para analisar como o modelo se comporta com novos grupos\n",
    "\n",
    "from sklearn.model_selection import GroupKFold\n",
    "\n",
    "SEED = 301\n",
    "np.random.seed(SEED)\n",
    "\n",
    "cv = GroupKFold(n_splits = 10)\n",
    "modelo = DecisionTreeClassifier(max_depth=10)\n",
    "results = cross_validate(modelo, x_azar, y_azar, cv = cv, groups = dados.modelo, return_train_score=False)\n",
    "imprime_resultados(results)"
   ]
  },
  {
   "cell_type": "markdown",
   "metadata": {
    "id": "GMXJcGqWTiIp"
   },
   "source": [
    "# Explorando hiperparâmetros em uma dimensão\n",
    "---"
   ]
  },
  {
   "cell_type": "code",
   "execution_count": 14,
   "metadata": {
    "colab": {
     "base_uri": "https://localhost:8080/",
     "height": 783
    },
    "id": "xTV7Tc4aRFTF",
    "outputId": "a829d29c-627a-42d6-bb9e-a51da5610fa0"
   },
   "outputs": [
    {
     "name": "stdout",
     "output_type": "stream",
     "text": [
      "Arvore max_depth = 1, treino = 75.79, teste = 75.78\n",
      "Arvore max_depth = 2, treino = 75.79, teste = 75.78\n",
      "Arvore max_depth = 3, treino = 78.75, teste = 78.67\n",
      "Arvore max_depth = 4, treino = 78.79, teste = 78.63\n",
      "Arvore max_depth = 5, treino = 78.94, teste = 78.56\n",
      "Arvore max_depth = 6, treino = 79.17, teste = 78.12\n",
      "Arvore max_depth = 7, treino = 79.50, teste = 77.96\n",
      "Arvore max_depth = 8, treino = 79.89, teste = 77.86\n",
      "Arvore max_depth = 9, treino = 80.46, teste = 77.38\n",
      "Arvore max_depth = 10, treino = 81.16, teste = 77.19\n",
      "Arvore max_depth = 11, treino = 82.03, teste = 76.97\n",
      "Arvore max_depth = 12, treino = 82.89, teste = 76.49\n",
      "Arvore max_depth = 13, treino = 83.95, teste = 75.81\n",
      "Arvore max_depth = 14, treino = 85.03, teste = 75.66\n",
      "Arvore max_depth = 15, treino = 86.14, teste = 75.16\n",
      "Arvore max_depth = 16, treino = 87.19, teste = 75.11\n",
      "Arvore max_depth = 17, treino = 88.31, teste = 74.74\n",
      "Arvore max_depth = 18, treino = 89.26, teste = 74.33\n",
      "Arvore max_depth = 19, treino = 90.32, teste = 74.34\n",
      "Arvore max_depth = 20, treino = 91.32, teste = 74.22\n",
      "Arvore max_depth = 21, treino = 92.14, teste = 73.80\n",
      "Arvore max_depth = 22, treino = 93.02, teste = 73.81\n",
      "Arvore max_depth = 23, treino = 93.80, teste = 73.38\n",
      "Arvore max_depth = 24, treino = 94.47, teste = 73.43\n",
      "Arvore max_depth = 25, treino = 95.16, teste = 73.14\n",
      "Arvore max_depth = 26, treino = 95.74, teste = 73.04\n",
      "Arvore max_depth = 27, treino = 96.33, teste = 72.91\n",
      "Arvore max_depth = 28, treino = 96.75, teste = 72.66\n",
      "Arvore max_depth = 29, treino = 97.10, teste = 72.73\n",
      "Arvore max_depth = 30, treino = 97.43, teste = 72.81\n",
      "Arvore max_depth = 31, treino = 97.80, teste = 72.86\n",
      "Arvore max_depth = 32, treino = 98.10, teste = 72.52\n"
     ]
    },
    {
     "data": {
      "text/html": [
       "<div>\n",
       "<style scoped>\n",
       "    .dataframe tbody tr th:only-of-type {\n",
       "        vertical-align: middle;\n",
       "    }\n",
       "\n",
       "    .dataframe tbody tr th {\n",
       "        vertical-align: top;\n",
       "    }\n",
       "\n",
       "    .dataframe thead th {\n",
       "        text-align: right;\n",
       "    }\n",
       "</style>\n",
       "<table border=\"1\" class=\"dataframe\">\n",
       "  <thead>\n",
       "    <tr style=\"text-align: right;\">\n",
       "      <th></th>\n",
       "      <th>max_depth</th>\n",
       "      <th>train</th>\n",
       "      <th>test</th>\n",
       "    </tr>\n",
       "  </thead>\n",
       "  <tbody>\n",
       "    <tr>\n",
       "      <th>0</th>\n",
       "      <td>1</td>\n",
       "      <td>75.791169</td>\n",
       "      <td>75.784219</td>\n",
       "    </tr>\n",
       "    <tr>\n",
       "      <th>1</th>\n",
       "      <td>2</td>\n",
       "      <td>75.791169</td>\n",
       "      <td>75.784219</td>\n",
       "    </tr>\n",
       "    <tr>\n",
       "      <th>2</th>\n",
       "      <td>3</td>\n",
       "      <td>78.750993</td>\n",
       "      <td>78.672633</td>\n",
       "    </tr>\n",
       "    <tr>\n",
       "      <th>3</th>\n",
       "      <td>4</td>\n",
       "      <td>78.787628</td>\n",
       "      <td>78.632803</td>\n",
       "    </tr>\n",
       "    <tr>\n",
       "      <th>4</th>\n",
       "      <td>5</td>\n",
       "      <td>78.941007</td>\n",
       "      <td>78.555912</td>\n",
       "    </tr>\n",
       "  </tbody>\n",
       "</table>\n",
       "</div>"
      ],
      "text/plain": [
       "   max_depth      train       test\n",
       "0          1  75.791169  75.784219\n",
       "1          2  75.791169  75.784219\n",
       "2          3  78.750993  78.672633\n",
       "3          4  78.787628  78.632803\n",
       "4          5  78.941007  78.555912"
      ]
     },
     "execution_count": 14,
     "metadata": {},
     "output_type": "execute_result"
    }
   ],
   "source": [
    "def roda_arvore_de_decisao(max_depth):\n",
    "    SEED = 301\n",
    "    np.random.seed(SEED)\n",
    "\n",
    "    cv = GroupKFold(n_splits = 10)\n",
    "    modelo = DecisionTreeClassifier(max_depth=max_depth)\n",
    "    results = cross_validate(modelo, x_azar, y_azar, cv = cv, groups = dados.modelo, return_train_score=True)\n",
    "    train_score = results['train_score'].mean() * 100\n",
    "    test_score = results['test_score'].mean() * 100\n",
    "    print(\"Arvore max_depth = %d, treino = %.2f, teste = %.2f\" % (max_depth, train_score, test_score))\n",
    "    tabela = [max_depth, train_score, test_score]\n",
    "    return tabela\n",
    "  \n",
    "resultados = [roda_arvore_de_decisao(i) for i in range(1,33)]\n",
    "resultados = pd.DataFrame(resultados, columns= [\"max_depth\",\"train\",\"test\"])\n",
    "resultados.head()"
   ]
  },
  {
   "cell_type": "code",
   "execution_count": 15,
   "metadata": {
    "colab": {
     "base_uri": "https://localhost:8080/",
     "height": 280
    },
    "id": "6HBLCc7QTsLt",
    "outputId": "86e7c7c3-e738-4dcb-c535-ab71e99a18d4"
   },
   "outputs": [
    {
     "data": {
      "image/png": "[encoded data removed]",
      "text/plain": [
       "<Figure size 432x288 with 1 Axes>"
      ]
     },
     "metadata": {
      "needs_background": "light"
     },
     "output_type": "display_data"
    }
   ],
   "source": [
    "import seaborn as sns\n",
    "\n",
    "sns.lineplot(x = \"max_depth\", y = \"train\", data = resultados);"
   ]
  },
  {
   "cell_type": "markdown",
   "metadata": {
    "id": "j-o6VtTrXbhu"
   },
   "source": [
    "# OVERFIT: ficou \"perfeito\" para o treino mas ruim para o teste\n",
    "---"
   ]
  },
  {
   "cell_type": "code",
   "execution_count": 16,
   "metadata": {
    "colab": {
     "base_uri": "https://localhost:8080/",
     "height": 280
    },
    "id": "OhwJ_FAnWOlq",
    "outputId": "1042633c-29b7-441e-c430-ec66cdd9802c"
   },
   "outputs": [
    {
     "data": {
      "image/png": "[encoded data removed]",
      "text/plain": [
       "<Figure size 432x288 with 1 Axes>"
      ]
     },
     "metadata": {
      "needs_background": "light"
     },
     "output_type": "display_data"
    }
   ],
   "source": [
    "import matplotlib.pyplot as plt\n",
    "\n",
    "sns.lineplot(x = \"max_depth\", y = \"train\", data = resultados)\n",
    "sns.lineplot(x = \"max_depth\", y = \"test\", data = resultados)\n",
    "plt.legend([\"Treino\", \"Teste\"]);"
   ]
  },
  {
   "cell_type": "code",
   "execution_count": 17,
   "metadata": {
    "colab": {
     "base_uri": "https://localhost:8080/",
     "height": 206
    },
    "id": "wXmQpoGaXXqP",
    "outputId": "462d4cc2-ae78-413a-f564-a6817954c936"
   },
   "outputs": [
    {
     "data": {
      "text/html": [
       "<div>\n",
       "<style scoped>\n",
       "    .dataframe tbody tr th:only-of-type {\n",
       "        vertical-align: middle;\n",
       "    }\n",
       "\n",
       "    .dataframe tbody tr th {\n",
       "        vertical-align: top;\n",
       "    }\n",
       "\n",
       "    .dataframe thead th {\n",
       "        text-align: right;\n",
       "    }\n",
       "</style>\n",
       "<table border=\"1\" class=\"dataframe\">\n",
       "  <thead>\n",
       "    <tr style=\"text-align: right;\">\n",
       "      <th></th>\n",
       "      <th>max_depth</th>\n",
       "      <th>train</th>\n",
       "      <th>test</th>\n",
       "    </tr>\n",
       "  </thead>\n",
       "  <tbody>\n",
       "    <tr>\n",
       "      <th>2</th>\n",
       "      <td>3</td>\n",
       "      <td>78.750993</td>\n",
       "      <td>78.672633</td>\n",
       "    </tr>\n",
       "    <tr>\n",
       "      <th>3</th>\n",
       "      <td>4</td>\n",
       "      <td>78.787628</td>\n",
       "      <td>78.632803</td>\n",
       "    </tr>\n",
       "    <tr>\n",
       "      <th>4</th>\n",
       "      <td>5</td>\n",
       "      <td>78.941007</td>\n",
       "      <td>78.555912</td>\n",
       "    </tr>\n",
       "    <tr>\n",
       "      <th>5</th>\n",
       "      <td>6</td>\n",
       "      <td>79.170115</td>\n",
       "      <td>78.123266</td>\n",
       "    </tr>\n",
       "    <tr>\n",
       "      <th>6</th>\n",
       "      <td>7</td>\n",
       "      <td>79.496806</td>\n",
       "      <td>77.963185</td>\n",
       "    </tr>\n",
       "  </tbody>\n",
       "</table>\n",
       "</div>"
      ],
      "text/plain": [
       "   max_depth      train       test\n",
       "2          3  78.750993  78.672633\n",
       "3          4  78.787628  78.632803\n",
       "4          5  78.941007  78.555912\n",
       "5          6  79.170115  78.123266\n",
       "6          7  79.496806  77.963185"
      ]
     },
     "execution_count": 17,
     "metadata": {},
     "output_type": "execute_result"
    }
   ],
   "source": [
    "resultados.sort_values(\"test\", ascending=False).head()"
   ]
  },
  {
   "cell_type": "markdown",
   "metadata": {
    "id": "SnW9-CTjcpWp"
   },
   "source": [
    "# Explorando hiperparâmetros em 2 dimensões\n",
    "---"
   ]
  },
  {
   "cell_type": "code",
   "execution_count": 18,
   "metadata": {
    "colab": {
     "base_uri": "https://localhost:8080/",
     "height": 1000
    },
    "id": "Odrf-gsWXl9u",
    "outputId": "16b33cf2-430a-49cb-f8cc-ee30df85f8b3"
   },
   "outputs": [
    {
     "name": "stdout",
     "output_type": "stream",
     "text": [
      "Arvore max_depth = 1, min_samples_leaf = 32, treino = 75.79, teste = 75.78\n",
      "Arvore max_depth = 1, min_samples_leaf = 64, treino = 75.79, teste = 75.78\n",
      "Arvore max_depth = 1, min_samples_leaf = 128, treino = 75.79, teste = 75.78\n",
      "Arvore max_depth = 1, min_samples_leaf = 256, treino = 75.79, teste = 75.78\n",
      "Arvore max_depth = 2, min_samples_leaf = 32, treino = 75.79, teste = 75.78\n",
      "Arvore max_depth = 2, min_samples_leaf = 64, treino = 75.79, teste = 75.78\n",
      "Arvore max_depth = 2, min_samples_leaf = 128, treino = 75.79, teste = 75.78\n",
      "Arvore max_depth = 2, min_samples_leaf = 256, treino = 75.79, teste = 75.78\n",
      "Arvore max_depth = 3, min_samples_leaf = 32, treino = 78.75, teste = 78.67\n",
      "Arvore max_depth = 3, min_samples_leaf = 64, treino = 78.75, teste = 78.67\n",
      "Arvore max_depth = 3, min_samples_leaf = 128, treino = 78.75, teste = 78.67\n",
      "Arvore max_depth = 3, min_samples_leaf = 256, treino = 78.75, teste = 78.67\n",
      "Arvore max_depth = 4, min_samples_leaf = 32, treino = 78.75, teste = 78.67\n",
      "Arvore max_depth = 4, min_samples_leaf = 64, treino = 78.75, teste = 78.67\n",
      "Arvore max_depth = 4, min_samples_leaf = 128, treino = 78.75, teste = 78.67\n",
      "Arvore max_depth = 4, min_samples_leaf = 256, treino = 78.75, teste = 78.67\n",
      "Arvore max_depth = 5, min_samples_leaf = 32, treino = 78.82, teste = 78.50\n",
      "Arvore max_depth = 5, min_samples_leaf = 64, treino = 78.79, teste = 78.45\n",
      "Arvore max_depth = 5, min_samples_leaf = 128, treino = 78.77, teste = 78.44\n",
      "Arvore max_depth = 5, min_samples_leaf = 256, treino = 78.77, teste = 78.44\n",
      "Arvore max_depth = 6, min_samples_leaf = 32, treino = 78.96, teste = 78.02\n",
      "Arvore max_depth = 6, min_samples_leaf = 64, treino = 78.92, teste = 78.09\n",
      "Arvore max_depth = 6, min_samples_leaf = 128, treino = 78.85, teste = 78.27\n",
      "Arvore max_depth = 6, min_samples_leaf = 256, treino = 78.79, teste = 78.27\n",
      "Arvore max_depth = 7, min_samples_leaf = 32, treino = 79.24, teste = 77.94\n",
      "Arvore max_depth = 7, min_samples_leaf = 64, treino = 79.18, teste = 78.05\n",
      "Arvore max_depth = 7, min_samples_leaf = 128, treino = 79.01, teste = 78.21\n",
      "Arvore max_depth = 7, min_samples_leaf = 256, treino = 78.85, teste = 78.08\n",
      "Arvore max_depth = 8, min_samples_leaf = 32, treino = 79.47, teste = 77.93\n",
      "Arvore max_depth = 8, min_samples_leaf = 64, treino = 79.30, teste = 77.99\n",
      "Arvore max_depth = 8, min_samples_leaf = 128, treino = 79.05, teste = 78.37\n",
      "Arvore max_depth = 8, min_samples_leaf = 256, treino = 78.89, teste = 77.94\n",
      "Arvore max_depth = 9, min_samples_leaf = 32, treino = 79.80, teste = 77.32\n",
      "Arvore max_depth = 9, min_samples_leaf = 64, treino = 79.46, teste = 77.55\n",
      "Arvore max_depth = 9, min_samples_leaf = 128, treino = 79.12, teste = 78.30\n",
      "Arvore max_depth = 9, min_samples_leaf = 256, treino = 78.90, teste = 77.85\n",
      "Arvore max_depth = 10, min_samples_leaf = 32, treino = 80.05, teste = 77.45\n",
      "Arvore max_depth = 10, min_samples_leaf = 64, treino = 79.55, teste = 77.64\n",
      "Arvore max_depth = 10, min_samples_leaf = 128, treino = 79.16, teste = 78.29\n",
      "Arvore max_depth = 10, min_samples_leaf = 256, treino = 78.90, teste = 77.85\n",
      "Arvore max_depth = 11, min_samples_leaf = 32, treino = 80.21, teste = 77.20\n",
      "Arvore max_depth = 11, min_samples_leaf = 64, treino = 79.60, teste = 77.53\n",
      "Arvore max_depth = 11, min_samples_leaf = 128, treino = 79.19, teste = 78.31\n",
      "Arvore max_depth = 11, min_samples_leaf = 256, treino = 78.90, teste = 77.85\n",
      "Arvore max_depth = 12, min_samples_leaf = 32, treino = 80.34, teste = 77.00\n",
      "Arvore max_depth = 12, min_samples_leaf = 64, treino = 79.72, teste = 77.29\n",
      "Arvore max_depth = 12, min_samples_leaf = 128, treino = 79.21, teste = 78.22\n",
      "Arvore max_depth = 12, min_samples_leaf = 256, treino = 78.90, teste = 77.85\n",
      "Arvore max_depth = 13, min_samples_leaf = 32, treino = 80.51, teste = 76.85\n",
      "Arvore max_depth = 13, min_samples_leaf = 64, treino = 79.74, teste = 77.34\n",
      "Arvore max_depth = 13, min_samples_leaf = 128, treino = 79.21, teste = 78.22\n",
      "Arvore max_depth = 13, min_samples_leaf = 256, treino = 78.90, teste = 77.85\n",
      "Arvore max_depth = 14, min_samples_leaf = 32, treino = 80.60, teste = 76.69\n",
      "Arvore max_depth = 14, min_samples_leaf = 64, treino = 79.77, teste = 77.26\n",
      "Arvore max_depth = 14, min_samples_leaf = 128, treino = 79.21, teste = 78.22\n",
      "Arvore max_depth = 14, min_samples_leaf = 256, treino = 78.90, teste = 77.85\n",
      "Arvore max_depth = 15, min_samples_leaf = 32, treino = 80.70, teste = 76.88\n",
      "Arvore max_depth = 15, min_samples_leaf = 64, treino = 79.79, teste = 77.30\n",
      "Arvore max_depth = 15, min_samples_leaf = 128, treino = 79.21, teste = 78.22\n",
      "Arvore max_depth = 15, min_samples_leaf = 256, treino = 78.90, teste = 77.85\n",
      "Arvore max_depth = 16, min_samples_leaf = 32, treino = 80.76, teste = 76.87\n",
      "Arvore max_depth = 16, min_samples_leaf = 64, treino = 79.79, teste = 77.30\n",
      "Arvore max_depth = 16, min_samples_leaf = 128, treino = 79.21, teste = 78.22\n",
      "Arvore max_depth = 16, min_samples_leaf = 256, treino = 78.90, teste = 77.85\n",
      "Arvore max_depth = 17, min_samples_leaf = 32, treino = 80.82, teste = 76.98\n",
      "Arvore max_depth = 17, min_samples_leaf = 64, treino = 79.79, teste = 77.30\n",
      "Arvore max_depth = 17, min_samples_leaf = 128, treino = 79.21, teste = 78.22\n",
      "Arvore max_depth = 17, min_samples_leaf = 256, treino = 78.90, teste = 77.85\n",
      "Arvore max_depth = 18, min_samples_leaf = 32, treino = 80.85, teste = 76.86\n",
      "Arvore max_depth = 18, min_samples_leaf = 64, treino = 79.79, teste = 77.30\n",
      "Arvore max_depth = 18, min_samples_leaf = 128, treino = 79.21, teste = 78.22\n",
      "Arvore max_depth = 18, min_samples_leaf = 256, treino = 78.90, teste = 77.85\n",
      "Arvore max_depth = 19, min_samples_leaf = 32, treino = 80.86, teste = 76.89\n",
      "Arvore max_depth = 19, min_samples_leaf = 64, treino = 79.79, teste = 77.30\n",
      "Arvore max_depth = 19, min_samples_leaf = 128, treino = 79.21, teste = 78.22\n",
      "Arvore max_depth = 19, min_samples_leaf = 256, treino = 78.90, teste = 77.85\n",
      "Arvore max_depth = 20, min_samples_leaf = 32, treino = 80.88, teste = 76.87\n",
      "Arvore max_depth = 20, min_samples_leaf = 64, treino = 79.79, teste = 77.30\n",
      "Arvore max_depth = 20, min_samples_leaf = 128, treino = 79.21, teste = 78.22\n",
      "Arvore max_depth = 20, min_samples_leaf = 256, treino = 78.90, teste = 77.85\n",
      "Arvore max_depth = 21, min_samples_leaf = 32, treino = 80.88, teste = 76.92\n",
      "Arvore max_depth = 21, min_samples_leaf = 64, treino = 79.79, teste = 77.30\n",
      "Arvore max_depth = 21, min_samples_leaf = 128, treino = 79.21, teste = 78.22\n",
      "Arvore max_depth = 21, min_samples_leaf = 256, treino = 78.90, teste = 77.85\n",
      "Arvore max_depth = 22, min_samples_leaf = 32, treino = 80.88, teste = 76.87\n",
      "Arvore max_depth = 22, min_samples_leaf = 64, treino = 79.79, teste = 77.30\n",
      "Arvore max_depth = 22, min_samples_leaf = 128, treino = 79.21, teste = 78.22\n",
      "Arvore max_depth = 22, min_samples_leaf = 256, treino = 78.90, teste = 77.85\n",
      "Arvore max_depth = 23, min_samples_leaf = 32, treino = 80.88, teste = 76.87\n",
      "Arvore max_depth = 23, min_samples_leaf = 64, treino = 79.79, teste = 77.30\n",
      "Arvore max_depth = 23, min_samples_leaf = 128, treino = 79.21, teste = 78.22\n",
      "Arvore max_depth = 23, min_samples_leaf = 256, treino = 78.90, teste = 77.85\n",
      "Arvore max_depth = 24, min_samples_leaf = 32, treino = 80.89, teste = 76.84\n",
      "Arvore max_depth = 24, min_samples_leaf = 64, treino = 79.79, teste = 77.30\n",
      "Arvore max_depth = 24, min_samples_leaf = 128, treino = 79.21, teste = 78.22\n",
      "Arvore max_depth = 24, min_samples_leaf = 256, treino = 78.90, teste = 77.85\n",
      "Arvore max_depth = 25, min_samples_leaf = 32, treino = 80.89, teste = 76.84\n",
      "Arvore max_depth = 25, min_samples_leaf = 64, treino = 79.79, teste = 77.30\n",
      "Arvore max_depth = 25, min_samples_leaf = 128, treino = 79.21, teste = 78.22\n",
      "Arvore max_depth = 25, min_samples_leaf = 256, treino = 78.90, teste = 77.85\n",
      "Arvore max_depth = 26, min_samples_leaf = 32, treino = 80.89, teste = 76.84\n",
      "Arvore max_depth = 26, min_samples_leaf = 64, treino = 79.79, teste = 77.30\n",
      "Arvore max_depth = 26, min_samples_leaf = 128, treino = 79.21, teste = 78.22\n",
      "Arvore max_depth = 26, min_samples_leaf = 256, treino = 78.90, teste = 77.85\n",
      "Arvore max_depth = 27, min_samples_leaf = 32, treino = 80.89, teste = 76.84\n",
      "Arvore max_depth = 27, min_samples_leaf = 64, treino = 79.79, teste = 77.30\n",
      "Arvore max_depth = 27, min_samples_leaf = 128, treino = 79.21, teste = 78.22\n",
      "Arvore max_depth = 27, min_samples_leaf = 256, treino = 78.90, teste = 77.85\n"
     ]
    },
    {
     "name": "stdout",
     "output_type": "stream",
     "text": [
      "Arvore max_depth = 28, min_samples_leaf = 32, treino = 80.89, teste = 76.84\n",
      "Arvore max_depth = 28, min_samples_leaf = 64, treino = 79.79, teste = 77.30\n",
      "Arvore max_depth = 28, min_samples_leaf = 128, treino = 79.21, teste = 78.22\n",
      "Arvore max_depth = 28, min_samples_leaf = 256, treino = 78.90, teste = 77.85\n",
      "Arvore max_depth = 29, min_samples_leaf = 32, treino = 80.89, teste = 76.84\n",
      "Arvore max_depth = 29, min_samples_leaf = 64, treino = 79.79, teste = 77.30\n",
      "Arvore max_depth = 29, min_samples_leaf = 128, treino = 79.21, teste = 78.22\n",
      "Arvore max_depth = 29, min_samples_leaf = 256, treino = 78.90, teste = 77.85\n",
      "Arvore max_depth = 30, min_samples_leaf = 32, treino = 80.89, teste = 76.84\n",
      "Arvore max_depth = 30, min_samples_leaf = 64, treino = 79.79, teste = 77.30\n",
      "Arvore max_depth = 30, min_samples_leaf = 128, treino = 79.21, teste = 78.22\n",
      "Arvore max_depth = 30, min_samples_leaf = 256, treino = 78.90, teste = 77.85\n",
      "Arvore max_depth = 31, min_samples_leaf = 32, treino = 80.89, teste = 76.84\n",
      "Arvore max_depth = 31, min_samples_leaf = 64, treino = 79.79, teste = 77.30\n",
      "Arvore max_depth = 31, min_samples_leaf = 128, treino = 79.21, teste = 78.22\n",
      "Arvore max_depth = 31, min_samples_leaf = 256, treino = 78.90, teste = 77.85\n",
      "Arvore max_depth = 32, min_samples_leaf = 32, treino = 80.89, teste = 76.84\n",
      "Arvore max_depth = 32, min_samples_leaf = 64, treino = 79.79, teste = 77.30\n",
      "Arvore max_depth = 32, min_samples_leaf = 128, treino = 79.21, teste = 78.22\n",
      "Arvore max_depth = 32, min_samples_leaf = 256, treino = 78.90, teste = 77.85\n"
     ]
    },
    {
     "data": {
      "text/html": [
       "<div>\n",
       "<style scoped>\n",
       "    .dataframe tbody tr th:only-of-type {\n",
       "        vertical-align: middle;\n",
       "    }\n",
       "\n",
       "    .dataframe tbody tr th {\n",
       "        vertical-align: top;\n",
       "    }\n",
       "\n",
       "    .dataframe thead th {\n",
       "        text-align: right;\n",
       "    }\n",
       "</style>\n",
       "<table border=\"1\" class=\"dataframe\">\n",
       "  <thead>\n",
       "    <tr style=\"text-align: right;\">\n",
       "      <th></th>\n",
       "      <th>max_depth</th>\n",
       "      <th>min_samples_leaf</th>\n",
       "      <th>train</th>\n",
       "      <th>test</th>\n",
       "    </tr>\n",
       "  </thead>\n",
       "  <tbody>\n",
       "    <tr>\n",
       "      <th>0</th>\n",
       "      <td>1</td>\n",
       "      <td>32</td>\n",
       "      <td>75.791169</td>\n",
       "      <td>75.784219</td>\n",
       "    </tr>\n",
       "    <tr>\n",
       "      <th>1</th>\n",
       "      <td>1</td>\n",
       "      <td>64</td>\n",
       "      <td>75.791169</td>\n",
       "      <td>75.784219</td>\n",
       "    </tr>\n",
       "    <tr>\n",
       "      <th>2</th>\n",
       "      <td>1</td>\n",
       "      <td>128</td>\n",
       "      <td>75.791169</td>\n",
       "      <td>75.784219</td>\n",
       "    </tr>\n",
       "    <tr>\n",
       "      <th>3</th>\n",
       "      <td>1</td>\n",
       "      <td>256</td>\n",
       "      <td>75.791169</td>\n",
       "      <td>75.784219</td>\n",
       "    </tr>\n",
       "    <tr>\n",
       "      <th>4</th>\n",
       "      <td>2</td>\n",
       "      <td>32</td>\n",
       "      <td>75.791169</td>\n",
       "      <td>75.784219</td>\n",
       "    </tr>\n",
       "  </tbody>\n",
       "</table>\n",
       "</div>"
      ],
      "text/plain": [
       "   max_depth  min_samples_leaf      train       test\n",
       "0          1                32  75.791169  75.784219\n",
       "1          1                64  75.791169  75.784219\n",
       "2          1               128  75.791169  75.784219\n",
       "3          1               256  75.791169  75.784219\n",
       "4          2                32  75.791169  75.784219"
      ]
     },
     "execution_count": 18,
     "metadata": {},
     "output_type": "execute_result"
    }
   ],
   "source": [
    "def roda_arvore_de_decisao(max_depth, min_samples_leaf):\n",
    "    SEED = 301\n",
    "    np.random.seed(SEED)\n",
    "\n",
    "    cv = GroupKFold(n_splits = 10)\n",
    "    modelo = DecisionTreeClassifier(max_depth=max_depth, \n",
    "                                    min_samples_leaf = min_samples_leaf)\n",
    "    \n",
    "    results = cross_validate(modelo, x_azar, y_azar, cv = cv, \n",
    "                             groups = dados.modelo, return_train_score=True)\n",
    "    train_score = results['train_score'].mean() * 100\n",
    "    test_score = results['test_score'].mean() * 100\n",
    "    print(\"Arvore max_depth = %d, min_samples_leaf = %d, treino = %.2f, teste = %.2f\" % (max_depth, min_samples_leaf, train_score, test_score))\n",
    "    tabela = [max_depth, min_samples_leaf, train_score, test_score]\n",
    "    return tabela\n",
    "\n",
    "def busca():\n",
    "    resultados = []\n",
    "    for max_depth in range(1,33):\n",
    "        for min_samples_leaf in [32, 64, 128, 256]:\n",
    "            tabela = roda_arvore_de_decisao(max_depth, min_samples_leaf)\n",
    "            resultados.append(tabela)\n",
    "    resultados = pd.DataFrame(resultados, columns= [\"max_depth\",\"min_samples_leaf\",\"train\",\"test\"])\n",
    "    return resultados\n",
    "\n",
    "resultados = busca()\n",
    "resultados.head()"
   ]
  },
  {
   "cell_type": "code",
   "execution_count": 19,
   "metadata": {
    "colab": {
     "base_uri": "https://localhost:8080/",
     "height": 206
    },
    "id": "FEl16TSwdQgW",
    "outputId": "097705b1-dd7c-492d-f84b-ee43a0468734"
   },
   "outputs": [
    {
     "data": {
      "text/html": [
       "<div>\n",
       "<style scoped>\n",
       "    .dataframe tbody tr th:only-of-type {\n",
       "        vertical-align: middle;\n",
       "    }\n",
       "\n",
       "    .dataframe tbody tr th {\n",
       "        vertical-align: top;\n",
       "    }\n",
       "\n",
       "    .dataframe thead th {\n",
       "        text-align: right;\n",
       "    }\n",
       "</style>\n",
       "<table border=\"1\" class=\"dataframe\">\n",
       "  <thead>\n",
       "    <tr style=\"text-align: right;\">\n",
       "      <th></th>\n",
       "      <th>max_depth</th>\n",
       "      <th>min_samples_leaf</th>\n",
       "      <th>train</th>\n",
       "      <th>test</th>\n",
       "    </tr>\n",
       "  </thead>\n",
       "  <tbody>\n",
       "    <tr>\n",
       "      <th>15</th>\n",
       "      <td>4</td>\n",
       "      <td>256</td>\n",
       "      <td>78.750993</td>\n",
       "      <td>78.672633</td>\n",
       "    </tr>\n",
       "    <tr>\n",
       "      <th>12</th>\n",
       "      <td>4</td>\n",
       "      <td>32</td>\n",
       "      <td>78.750993</td>\n",
       "      <td>78.672633</td>\n",
       "    </tr>\n",
       "    <tr>\n",
       "      <th>14</th>\n",
       "      <td>4</td>\n",
       "      <td>128</td>\n",
       "      <td>78.750993</td>\n",
       "      <td>78.672633</td>\n",
       "    </tr>\n",
       "    <tr>\n",
       "      <th>13</th>\n",
       "      <td>4</td>\n",
       "      <td>64</td>\n",
       "      <td>78.750993</td>\n",
       "      <td>78.672633</td>\n",
       "    </tr>\n",
       "    <tr>\n",
       "      <th>8</th>\n",
       "      <td>3</td>\n",
       "      <td>32</td>\n",
       "      <td>78.750993</td>\n",
       "      <td>78.672633</td>\n",
       "    </tr>\n",
       "  </tbody>\n",
       "</table>\n",
       "</div>"
      ],
      "text/plain": [
       "    max_depth  min_samples_leaf      train       test\n",
       "15          4               256  78.750993  78.672633\n",
       "12          4                32  78.750993  78.672633\n",
       "14          4               128  78.750993  78.672633\n",
       "13          4                64  78.750993  78.672633\n",
       "8           3                32  78.750993  78.672633"
      ]
     },
     "execution_count": 19,
     "metadata": {},
     "output_type": "execute_result"
    }
   ],
   "source": [
    "resultados.sort_values(\"test\", ascending=False).head()"
   ]
  },
  {
   "cell_type": "code",
   "execution_count": 20,
   "metadata": {
    "colab": {
     "base_uri": "https://localhost:8080/",
     "height": 175
    },
    "id": "lZsBCpgRd6Yh",
    "outputId": "43590f33-36fe-4562-fd21-5b35b3fa8800"
   },
   "outputs": [
    {
     "data": {
      "text/html": [
       "<div>\n",
       "<style scoped>\n",
       "    .dataframe tbody tr th:only-of-type {\n",
       "        vertical-align: middle;\n",
       "    }\n",
       "\n",
       "    .dataframe tbody tr th {\n",
       "        vertical-align: top;\n",
       "    }\n",
       "\n",
       "    .dataframe thead th {\n",
       "        text-align: right;\n",
       "    }\n",
       "</style>\n",
       "<table border=\"1\" class=\"dataframe\">\n",
       "  <thead>\n",
       "    <tr style=\"text-align: right;\">\n",
       "      <th></th>\n",
       "      <th>max_depth</th>\n",
       "      <th>min_samples_leaf</th>\n",
       "      <th>train</th>\n",
       "      <th>test</th>\n",
       "    </tr>\n",
       "  </thead>\n",
       "  <tbody>\n",
       "    <tr>\n",
       "      <th>max_depth</th>\n",
       "      <td>1.000000e+00</td>\n",
       "      <td>-2.780775e-16</td>\n",
       "      <td>0.536705</td>\n",
       "      <td>-0.027675</td>\n",
       "    </tr>\n",
       "    <tr>\n",
       "      <th>min_samples_leaf</th>\n",
       "      <td>-2.780775e-16</td>\n",
       "      <td>1.000000e+00</td>\n",
       "      <td>-0.409676</td>\n",
       "      <td>0.349011</td>\n",
       "    </tr>\n",
       "    <tr>\n",
       "      <th>train</th>\n",
       "      <td>5.367048e-01</td>\n",
       "      <td>-4.096762e-01</td>\n",
       "      <td>1.000000</td>\n",
       "      <td>0.116466</td>\n",
       "    </tr>\n",
       "    <tr>\n",
       "      <th>test</th>\n",
       "      <td>-2.767507e-02</td>\n",
       "      <td>3.490111e-01</td>\n",
       "      <td>0.116466</td>\n",
       "      <td>1.000000</td>\n",
       "    </tr>\n",
       "  </tbody>\n",
       "</table>\n",
       "</div>"
      ],
      "text/plain": [
       "                     max_depth  min_samples_leaf     train      test\n",
       "max_depth         1.000000e+00     -2.780775e-16  0.536705 -0.027675\n",
       "min_samples_leaf -2.780775e-16      1.000000e+00 -0.409676  0.349011\n",
       "train             5.367048e-01     -4.096762e-01  1.000000  0.116466\n",
       "test             -2.767507e-02      3.490111e-01  0.116466  1.000000"
      ]
     },
     "execution_count": 20,
     "metadata": {},
     "output_type": "execute_result"
    }
   ],
   "source": [
    "corr = resultados.corr()\n",
    "corr"
   ]
  },
  {
   "cell_type": "code",
   "execution_count": 21,
   "metadata": {
    "colab": {
     "base_uri": "https://localhost:8080/",
     "height": 348
    },
    "id": "AdxtFwmZfmck",
    "outputId": "d59cc66a-c1ea-43e1-d5b0-bc40bdf2f653"
   },
   "outputs": [
    {
     "data": {
      "image/png": "[encoded data removed]",
      "text/plain": [
       "<Figure size 432x288 with 2 Axes>"
      ]
     },
     "metadata": {
      "needs_background": "light"
     },
     "output_type": "display_data"
    }
   ],
   "source": [
    "sns.heatmap(corr);"
   ]
  },
  {
   "cell_type": "code",
   "execution_count": 22,
   "metadata": {
    "colab": {
     "base_uri": "https://localhost:8080/",
     "height": 503
    },
    "id": "UWQaVyE-gKHI",
    "outputId": "ccf0cd06-6692-470b-d91e-221643714ea0"
   },
   "outputs": [
    {
     "data": {
      "image/png": "[encoded data removed]",
      "text/plain": [
       "<Figure size 1008x576 with 16 Axes>"
      ]
     },
     "metadata": {
      "needs_background": "light"
     },
     "output_type": "display_data"
    }
   ],
   "source": [
    "pd.plotting.scatter_matrix(resultados, figsize = (14, 8), alpha = 0.3);"
   ]
  },
  {
   "cell_type": "code",
   "execution_count": 23,
   "metadata": {
    "colab": {
     "base_uri": "https://localhost:8080/",
     "height": 726
    },
    "id": "AcQnhOM3gnJ-",
    "outputId": "922d42c2-ec0e-45d2-c8e4-609b8300655c"
   },
   "outputs": [
    {
     "data": {
      "image/png": "[encoded data removed]",
      "text/plain": [
       "<Figure size 720x720 with 20 Axes>"
      ]
     },
     "metadata": {
      "needs_background": "light"
     },
     "output_type": "display_data"
    }
   ],
   "source": [
    "sns.pairplot(resultados);"
   ]
  },
  {
   "cell_type": "code",
   "execution_count": 24,
   "metadata": {
    "colab": {
     "base_uri": "https://localhost:8080/",
     "height": 541
    },
    "id": "sH5F3Gd8hAFG",
    "outputId": "cdace2d6-36f4-4c6f-8c95-8388477b434a"
   },
   "outputs": [
    {
     "data": {
      "image/png": "[encoded data removed]",
      "text/plain": [
       "<Figure size 792x648 with 2 Axes>"
      ]
     },
     "metadata": {},
     "output_type": "display_data"
    }
   ],
   "source": [
    "sns.set(style=\"white\")\n",
    "\n",
    "# Generate a mask for the upper triangle\n",
    "mask = np.zeros_like(corr, dtype=np.bool_)\n",
    "mask[np.triu_indices_from(mask)] = True\n",
    "\n",
    "# Set up the matplotlib figure\n",
    "f, ax = plt.subplots(figsize=(11, 9))\n",
    "\n",
    "# Generate a custom diverging colormap\n",
    "cmap = sns.diverging_palette(220, 10, as_cmap=True)\n",
    "\n",
    "# Draw the heatmap with the mask and correct aspect ratio\n",
    "sns.heatmap(corr, mask=mask, cmap=cmap, vmax=.3, center=0,\n",
    "            square=True, linewidths=.5, cbar_kws={\"shrink\": .5});"
   ]
  },
  {
   "cell_type": "code",
   "execution_count": 25,
   "metadata": {
    "colab": {
     "base_uri": "https://localhost:8080/",
     "height": 1000
    },
    "id": "fa3AUdNZiBEs",
    "outputId": "819a12eb-27f6-427e-8958-5bd351501f81"
   },
   "outputs": [
    {
     "name": "stdout",
     "output_type": "stream",
     "text": [
      "Arvore max_depth = 1, min_samples_leaf = 128, treino = 75.79, teste = 75.78\n",
      "Arvore max_depth = 1, min_samples_leaf = 192, treino = 75.79, teste = 75.78\n",
      "Arvore max_depth = 1, min_samples_leaf = 256, treino = 75.79, teste = 75.78\n",
      "Arvore max_depth = 1, min_samples_leaf = 512, treino = 75.79, teste = 75.78\n",
      "Arvore max_depth = 2, min_samples_leaf = 128, treino = 75.79, teste = 75.78\n",
      "Arvore max_depth = 2, min_samples_leaf = 192, treino = 75.79, teste = 75.78\n",
      "Arvore max_depth = 2, min_samples_leaf = 256, treino = 75.79, teste = 75.78\n",
      "Arvore max_depth = 2, min_samples_leaf = 512, treino = 75.79, teste = 75.78\n",
      "Arvore max_depth = 3, min_samples_leaf = 128, treino = 78.75, teste = 78.67\n",
      "Arvore max_depth = 3, min_samples_leaf = 192, treino = 78.75, teste = 78.67\n",
      "Arvore max_depth = 3, min_samples_leaf = 256, treino = 78.75, teste = 78.67\n",
      "Arvore max_depth = 3, min_samples_leaf = 512, treino = 77.53, teste = 77.50\n",
      "Arvore max_depth = 4, min_samples_leaf = 128, treino = 78.75, teste = 78.67\n",
      "Arvore max_depth = 4, min_samples_leaf = 192, treino = 78.75, teste = 78.67\n",
      "Arvore max_depth = 4, min_samples_leaf = 256, treino = 78.75, teste = 78.67\n",
      "Arvore max_depth = 4, min_samples_leaf = 512, treino = 77.53, teste = 77.50\n",
      "Arvore max_depth = 5, min_samples_leaf = 128, treino = 78.77, teste = 78.44\n",
      "Arvore max_depth = 5, min_samples_leaf = 192, treino = 78.77, teste = 78.44\n",
      "Arvore max_depth = 5, min_samples_leaf = 256, treino = 78.77, teste = 78.44\n",
      "Arvore max_depth = 5, min_samples_leaf = 512, treino = 77.53, teste = 77.50\n",
      "Arvore max_depth = 6, min_samples_leaf = 128, treino = 78.85, teste = 78.27\n",
      "Arvore max_depth = 6, min_samples_leaf = 192, treino = 78.79, teste = 78.31\n",
      "Arvore max_depth = 6, min_samples_leaf = 256, treino = 78.79, teste = 78.27\n",
      "Arvore max_depth = 6, min_samples_leaf = 512, treino = 77.53, teste = 77.50\n",
      "Arvore max_depth = 7, min_samples_leaf = 128, treino = 79.01, teste = 78.21\n",
      "Arvore max_depth = 7, min_samples_leaf = 192, treino = 78.92, teste = 78.10\n",
      "Arvore max_depth = 7, min_samples_leaf = 256, treino = 78.85, teste = 78.08\n",
      "Arvore max_depth = 7, min_samples_leaf = 512, treino = 77.53, teste = 77.50\n",
      "Arvore max_depth = 8, min_samples_leaf = 128, treino = 79.05, teste = 78.37\n",
      "Arvore max_depth = 8, min_samples_leaf = 192, treino = 78.98, teste = 78.20\n",
      "Arvore max_depth = 8, min_samples_leaf = 256, treino = 78.89, teste = 77.94\n",
      "Arvore max_depth = 8, min_samples_leaf = 512, treino = 77.53, teste = 77.50\n",
      "Arvore max_depth = 9, min_samples_leaf = 128, treino = 79.12, teste = 78.30\n",
      "Arvore max_depth = 9, min_samples_leaf = 192, treino = 78.99, teste = 78.11\n",
      "Arvore max_depth = 9, min_samples_leaf = 256, treino = 78.90, teste = 77.85\n",
      "Arvore max_depth = 9, min_samples_leaf = 512, treino = 77.53, teste = 77.50\n",
      "Arvore max_depth = 10, min_samples_leaf = 128, treino = 79.16, teste = 78.29\n",
      "Arvore max_depth = 10, min_samples_leaf = 192, treino = 79.01, teste = 78.05\n",
      "Arvore max_depth = 10, min_samples_leaf = 256, treino = 78.90, teste = 77.85\n",
      "Arvore max_depth = 10, min_samples_leaf = 512, treino = 77.53, teste = 77.50\n",
      "Arvore max_depth = 11, min_samples_leaf = 128, treino = 79.19, teste = 78.31\n",
      "Arvore max_depth = 11, min_samples_leaf = 192, treino = 79.01, teste = 78.05\n",
      "Arvore max_depth = 11, min_samples_leaf = 256, treino = 78.90, teste = 77.85\n",
      "Arvore max_depth = 11, min_samples_leaf = 512, treino = 77.53, teste = 77.50\n",
      "Arvore max_depth = 12, min_samples_leaf = 128, treino = 79.21, teste = 78.22\n",
      "Arvore max_depth = 12, min_samples_leaf = 192, treino = 79.01, teste = 78.05\n",
      "Arvore max_depth = 12, min_samples_leaf = 256, treino = 78.90, teste = 77.85\n",
      "Arvore max_depth = 12, min_samples_leaf = 512, treino = 77.53, teste = 77.50\n",
      "Arvore max_depth = 13, min_samples_leaf = 128, treino = 79.21, teste = 78.22\n",
      "Arvore max_depth = 13, min_samples_leaf = 192, treino = 79.01, teste = 78.05\n",
      "Arvore max_depth = 13, min_samples_leaf = 256, treino = 78.90, teste = 77.85\n",
      "Arvore max_depth = 13, min_samples_leaf = 512, treino = 77.53, teste = 77.50\n",
      "Arvore max_depth = 14, min_samples_leaf = 128, treino = 79.21, teste = 78.22\n",
      "Arvore max_depth = 14, min_samples_leaf = 192, treino = 79.01, teste = 78.05\n",
      "Arvore max_depth = 14, min_samples_leaf = 256, treino = 78.90, teste = 77.85\n",
      "Arvore max_depth = 14, min_samples_leaf = 512, treino = 77.53, teste = 77.50\n",
      "Arvore max_depth = 15, min_samples_leaf = 128, treino = 79.21, teste = 78.22\n",
      "Arvore max_depth = 15, min_samples_leaf = 192, treino = 79.01, teste = 78.05\n",
      "Arvore max_depth = 15, min_samples_leaf = 256, treino = 78.90, teste = 77.85\n",
      "Arvore max_depth = 15, min_samples_leaf = 512, treino = 77.53, teste = 77.50\n",
      "Arvore max_depth = 16, min_samples_leaf = 128, treino = 79.21, teste = 78.22\n",
      "Arvore max_depth = 16, min_samples_leaf = 192, treino = 79.01, teste = 78.05\n",
      "Arvore max_depth = 16, min_samples_leaf = 256, treino = 78.90, teste = 77.85\n",
      "Arvore max_depth = 16, min_samples_leaf = 512, treino = 77.53, teste = 77.50\n",
      "Arvore max_depth = 17, min_samples_leaf = 128, treino = 79.21, teste = 78.22\n",
      "Arvore max_depth = 17, min_samples_leaf = 192, treino = 79.01, teste = 78.05\n",
      "Arvore max_depth = 17, min_samples_leaf = 256, treino = 78.90, teste = 77.85\n",
      "Arvore max_depth = 17, min_samples_leaf = 512, treino = 77.53, teste = 77.50\n",
      "Arvore max_depth = 18, min_samples_leaf = 128, treino = 79.21, teste = 78.22\n",
      "Arvore max_depth = 18, min_samples_leaf = 192, treino = 79.01, teste = 78.05\n",
      "Arvore max_depth = 18, min_samples_leaf = 256, treino = 78.90, teste = 77.85\n",
      "Arvore max_depth = 18, min_samples_leaf = 512, treino = 77.53, teste = 77.50\n",
      "Arvore max_depth = 19, min_samples_leaf = 128, treino = 79.21, teste = 78.22\n",
      "Arvore max_depth = 19, min_samples_leaf = 192, treino = 79.01, teste = 78.05\n",
      "Arvore max_depth = 19, min_samples_leaf = 256, treino = 78.90, teste = 77.85\n",
      "Arvore max_depth = 19, min_samples_leaf = 512, treino = 77.53, teste = 77.50\n",
      "Arvore max_depth = 20, min_samples_leaf = 128, treino = 79.21, teste = 78.22\n",
      "Arvore max_depth = 20, min_samples_leaf = 192, treino = 79.01, teste = 78.05\n",
      "Arvore max_depth = 20, min_samples_leaf = 256, treino = 78.90, teste = 77.85\n",
      "Arvore max_depth = 20, min_samples_leaf = 512, treino = 77.53, teste = 77.50\n",
      "Arvore max_depth = 21, min_samples_leaf = 128, treino = 79.21, teste = 78.22\n",
      "Arvore max_depth = 21, min_samples_leaf = 192, treino = 79.01, teste = 78.05\n",
      "Arvore max_depth = 21, min_samples_leaf = 256, treino = 78.90, teste = 77.85\n",
      "Arvore max_depth = 21, min_samples_leaf = 512, treino = 77.53, teste = 77.50\n",
      "Arvore max_depth = 22, min_samples_leaf = 128, treino = 79.21, teste = 78.22\n",
      "Arvore max_depth = 22, min_samples_leaf = 192, treino = 79.01, teste = 78.05\n",
      "Arvore max_depth = 22, min_samples_leaf = 256, treino = 78.90, teste = 77.85\n",
      "Arvore max_depth = 22, min_samples_leaf = 512, treino = 77.53, teste = 77.50\n",
      "Arvore max_depth = 23, min_samples_leaf = 128, treino = 79.21, teste = 78.22\n",
      "Arvore max_depth = 23, min_samples_leaf = 192, treino = 79.01, teste = 78.05\n",
      "Arvore max_depth = 23, min_samples_leaf = 256, treino = 78.90, teste = 77.85\n",
      "Arvore max_depth = 23, min_samples_leaf = 512, treino = 77.53, teste = 77.50\n",
      "Arvore max_depth = 24, min_samples_leaf = 128, treino = 79.21, teste = 78.22\n",
      "Arvore max_depth = 24, min_samples_leaf = 192, treino = 79.01, teste = 78.05\n",
      "Arvore max_depth = 24, min_samples_leaf = 256, treino = 78.90, teste = 77.85\n",
      "Arvore max_depth = 24, min_samples_leaf = 512, treino = 77.53, teste = 77.50\n",
      "Arvore max_depth = 25, min_samples_leaf = 128, treino = 79.21, teste = 78.22\n",
      "Arvore max_depth = 25, min_samples_leaf = 192, treino = 79.01, teste = 78.05\n",
      "Arvore max_depth = 25, min_samples_leaf = 256, treino = 78.90, teste = 77.85\n",
      "Arvore max_depth = 25, min_samples_leaf = 512, treino = 77.53, teste = 77.50\n",
      "Arvore max_depth = 26, min_samples_leaf = 128, treino = 79.21, teste = 78.22\n",
      "Arvore max_depth = 26, min_samples_leaf = 192, treino = 79.01, teste = 78.05\n",
      "Arvore max_depth = 26, min_samples_leaf = 256, treino = 78.90, teste = 77.85\n",
      "Arvore max_depth = 26, min_samples_leaf = 512, treino = 77.53, teste = 77.50\n",
      "Arvore max_depth = 27, min_samples_leaf = 128, treino = 79.21, teste = 78.22\n",
      "Arvore max_depth = 27, min_samples_leaf = 192, treino = 79.01, teste = 78.05\n",
      "Arvore max_depth = 27, min_samples_leaf = 256, treino = 78.90, teste = 77.85\n",
      "Arvore max_depth = 27, min_samples_leaf = 512, treino = 77.53, teste = 77.50\n"
     ]
    },
    {
     "name": "stdout",
     "output_type": "stream",
     "text": [
      "Arvore max_depth = 28, min_samples_leaf = 128, treino = 79.21, teste = 78.22\n",
      "Arvore max_depth = 28, min_samples_leaf = 192, treino = 79.01, teste = 78.05\n",
      "Arvore max_depth = 28, min_samples_leaf = 256, treino = 78.90, teste = 77.85\n",
      "Arvore max_depth = 28, min_samples_leaf = 512, treino = 77.53, teste = 77.50\n",
      "Arvore max_depth = 29, min_samples_leaf = 128, treino = 79.21, teste = 78.22\n",
      "Arvore max_depth = 29, min_samples_leaf = 192, treino = 79.01, teste = 78.05\n",
      "Arvore max_depth = 29, min_samples_leaf = 256, treino = 78.90, teste = 77.85\n",
      "Arvore max_depth = 29, min_samples_leaf = 512, treino = 77.53, teste = 77.50\n",
      "Arvore max_depth = 30, min_samples_leaf = 128, treino = 79.21, teste = 78.22\n",
      "Arvore max_depth = 30, min_samples_leaf = 192, treino = 79.01, teste = 78.05\n",
      "Arvore max_depth = 30, min_samples_leaf = 256, treino = 78.90, teste = 77.85\n",
      "Arvore max_depth = 30, min_samples_leaf = 512, treino = 77.53, teste = 77.50\n",
      "Arvore max_depth = 31, min_samples_leaf = 128, treino = 79.21, teste = 78.22\n",
      "Arvore max_depth = 31, min_samples_leaf = 192, treino = 79.01, teste = 78.05\n",
      "Arvore max_depth = 31, min_samples_leaf = 256, treino = 78.90, teste = 77.85\n",
      "Arvore max_depth = 31, min_samples_leaf = 512, treino = 77.53, teste = 77.50\n",
      "Arvore max_depth = 32, min_samples_leaf = 128, treino = 79.21, teste = 78.22\n",
      "Arvore max_depth = 32, min_samples_leaf = 192, treino = 79.01, teste = 78.05\n",
      "Arvore max_depth = 32, min_samples_leaf = 256, treino = 78.90, teste = 77.85\n",
      "Arvore max_depth = 32, min_samples_leaf = 512, treino = 77.53, teste = 77.50\n"
     ]
    },
    {
     "data": {
      "text/html": [
       "<div>\n",
       "<style scoped>\n",
       "    .dataframe tbody tr th:only-of-type {\n",
       "        vertical-align: middle;\n",
       "    }\n",
       "\n",
       "    .dataframe tbody tr th {\n",
       "        vertical-align: top;\n",
       "    }\n",
       "\n",
       "    .dataframe thead th {\n",
       "        text-align: right;\n",
       "    }\n",
       "</style>\n",
       "<table border=\"1\" class=\"dataframe\">\n",
       "  <thead>\n",
       "    <tr style=\"text-align: right;\">\n",
       "      <th></th>\n",
       "      <th>max_depth</th>\n",
       "      <th>min_samples_leaf</th>\n",
       "      <th>train</th>\n",
       "      <th>test</th>\n",
       "    </tr>\n",
       "  </thead>\n",
       "  <tbody>\n",
       "    <tr>\n",
       "      <th>0</th>\n",
       "      <td>1</td>\n",
       "      <td>128</td>\n",
       "      <td>75.791169</td>\n",
       "      <td>75.784219</td>\n",
       "    </tr>\n",
       "    <tr>\n",
       "      <th>1</th>\n",
       "      <td>1</td>\n",
       "      <td>192</td>\n",
       "      <td>75.791169</td>\n",
       "      <td>75.784219</td>\n",
       "    </tr>\n",
       "    <tr>\n",
       "      <th>2</th>\n",
       "      <td>1</td>\n",
       "      <td>256</td>\n",
       "      <td>75.791169</td>\n",
       "      <td>75.784219</td>\n",
       "    </tr>\n",
       "    <tr>\n",
       "      <th>3</th>\n",
       "      <td>1</td>\n",
       "      <td>512</td>\n",
       "      <td>75.791169</td>\n",
       "      <td>75.784219</td>\n",
       "    </tr>\n",
       "    <tr>\n",
       "      <th>4</th>\n",
       "      <td>2</td>\n",
       "      <td>128</td>\n",
       "      <td>75.791169</td>\n",
       "      <td>75.784219</td>\n",
       "    </tr>\n",
       "  </tbody>\n",
       "</table>\n",
       "</div>"
      ],
      "text/plain": [
       "   max_depth  min_samples_leaf      train       test\n",
       "0          1               128  75.791169  75.784219\n",
       "1          1               192  75.791169  75.784219\n",
       "2          1               256  75.791169  75.784219\n",
       "3          1               512  75.791169  75.784219\n",
       "4          2               128  75.791169  75.784219"
      ]
     },
     "execution_count": 25,
     "metadata": {},
     "output_type": "execute_result"
    }
   ],
   "source": [
    "def busca():\n",
    "    resultados = []\n",
    "    for max_depth in range(1,33):\n",
    "        for min_samples_leaf in [128, 192, 256, 512]:\n",
    "            tabela = roda_arvore_de_decisao(max_depth, min_samples_leaf)\n",
    "            resultados.append(tabela)\n",
    "    resultados = pd.DataFrame(resultados, columns= [\"max_depth\",\"min_samples_leaf\",\"train\",\"test\"])\n",
    "    return resultados\n",
    "\n",
    "resultados = busca()\n",
    "resultados.head()"
   ]
  },
  {
   "cell_type": "code",
   "execution_count": 26,
   "metadata": {
    "id": "GLMt71GYii3A"
   },
   "outputs": [],
   "source": [
    "corr = resultados.corr()"
   ]
  },
  {
   "cell_type": "code",
   "execution_count": 27,
   "metadata": {
    "colab": {
     "base_uri": "https://localhost:8080/",
     "height": 541
    },
    "id": "3XjB5-HyinEM",
    "outputId": "91a6dfed-4d51-4a53-e010-3c50e832892b"
   },
   "outputs": [
    {
     "data": {
      "image/png": "[encoded data removed]",
      "text/plain": [
       "<Figure size 792x648 with 2 Axes>"
      ]
     },
     "metadata": {},
     "output_type": "display_data"
    }
   ],
   "source": [
    "sns.set(style=\"white\")\n",
    "\n",
    "# Generate a mask for the upper triangle\n",
    "mask = np.zeros_like(corr, dtype=np.bool_)\n",
    "mask[np.triu_indices_from(mask)] = True\n",
    "\n",
    "# Set up the matplotlib figure\n",
    "f, ax = plt.subplots(figsize=(11, 9))\n",
    "\n",
    "# Generate a custom diverging colormap\n",
    "cmap = sns.diverging_palette(220, 10, as_cmap=True)\n",
    "\n",
    "# Draw the heatmap with the mask and correct aspect ratio\n",
    "sns.heatmap(corr, mask=mask, cmap=cmap, vmax=.3, center=0,\n",
    "            square=True, linewidths=.5, cbar_kws={\"shrink\": .5});"
   ]
  },
  {
   "cell_type": "code",
   "execution_count": 28,
   "metadata": {
    "colab": {
     "base_uri": "https://localhost:8080/",
     "height": 206
    },
    "id": "7_yHHDkEiqCC",
    "outputId": "9447b052-4ed0-4884-ef88-0ae37b26f1d2"
   },
   "outputs": [
    {
     "data": {
      "text/html": [
       "<div>\n",
       "<style scoped>\n",
       "    .dataframe tbody tr th:only-of-type {\n",
       "        vertical-align: middle;\n",
       "    }\n",
       "\n",
       "    .dataframe tbody tr th {\n",
       "        vertical-align: top;\n",
       "    }\n",
       "\n",
       "    .dataframe thead th {\n",
       "        text-align: right;\n",
       "    }\n",
       "</style>\n",
       "<table border=\"1\" class=\"dataframe\">\n",
       "  <thead>\n",
       "    <tr style=\"text-align: right;\">\n",
       "      <th></th>\n",
       "      <th>max_depth</th>\n",
       "      <th>min_samples_leaf</th>\n",
       "      <th>train</th>\n",
       "      <th>test</th>\n",
       "    </tr>\n",
       "  </thead>\n",
       "  <tbody>\n",
       "    <tr>\n",
       "      <th>13</th>\n",
       "      <td>4</td>\n",
       "      <td>192</td>\n",
       "      <td>78.750993</td>\n",
       "      <td>78.672633</td>\n",
       "    </tr>\n",
       "    <tr>\n",
       "      <th>8</th>\n",
       "      <td>3</td>\n",
       "      <td>128</td>\n",
       "      <td>78.750993</td>\n",
       "      <td>78.672633</td>\n",
       "    </tr>\n",
       "    <tr>\n",
       "      <th>9</th>\n",
       "      <td>3</td>\n",
       "      <td>192</td>\n",
       "      <td>78.750993</td>\n",
       "      <td>78.672633</td>\n",
       "    </tr>\n",
       "    <tr>\n",
       "      <th>10</th>\n",
       "      <td>3</td>\n",
       "      <td>256</td>\n",
       "      <td>78.750993</td>\n",
       "      <td>78.672633</td>\n",
       "    </tr>\n",
       "    <tr>\n",
       "      <th>14</th>\n",
       "      <td>4</td>\n",
       "      <td>256</td>\n",
       "      <td>78.750993</td>\n",
       "      <td>78.672633</td>\n",
       "    </tr>\n",
       "  </tbody>\n",
       "</table>\n",
       "</div>"
      ],
      "text/plain": [
       "    max_depth  min_samples_leaf      train       test\n",
       "13          4               192  78.750993  78.672633\n",
       "8           3               128  78.750993  78.672633\n",
       "9           3               192  78.750993  78.672633\n",
       "10          3               256  78.750993  78.672633\n",
       "14          4               256  78.750993  78.672633"
      ]
     },
     "execution_count": 28,
     "metadata": {},
     "output_type": "execute_result"
    }
   ],
   "source": [
    "resultados.sort_values(\"test\", ascending=False).head()"
   ]
  },
  {
   "cell_type": "markdown",
   "metadata": {
    "id": "pwwC1wHakOvC"
   },
   "source": [
    "# Explorando 3 dimensões de hiperparâmetros\n",
    "---"
   ]
  },
  {
   "cell_type": "code",
   "execution_count": 29,
   "metadata": {
    "colab": {
     "base_uri": "https://localhost:8080/",
     "height": 206
    },
    "id": "jlCg0np0kSsa",
    "outputId": "9ec8dfc6-4c5d-40b3-d60c-fcea6fa74514"
   },
   "outputs": [
    {
     "data": {
      "text/html": [
       "<div>\n",
       "<style scoped>\n",
       "    .dataframe tbody tr th:only-of-type {\n",
       "        vertical-align: middle;\n",
       "    }\n",
       "\n",
       "    .dataframe tbody tr th {\n",
       "        vertical-align: top;\n",
       "    }\n",
       "\n",
       "    .dataframe thead th {\n",
       "        text-align: right;\n",
       "    }\n",
       "</style>\n",
       "<table border=\"1\" class=\"dataframe\">\n",
       "  <thead>\n",
       "    <tr style=\"text-align: right;\">\n",
       "      <th></th>\n",
       "      <th>max_depth</th>\n",
       "      <th>min_samples_leaf</th>\n",
       "      <th>min_samples_split</th>\n",
       "      <th>train</th>\n",
       "      <th>test</th>\n",
       "      <th>fit_time</th>\n",
       "      <th>score_time</th>\n",
       "    </tr>\n",
       "  </thead>\n",
       "  <tbody>\n",
       "    <tr>\n",
       "      <th>0</th>\n",
       "      <td>1</td>\n",
       "      <td>32</td>\n",
       "      <td>32</td>\n",
       "      <td>75.791169</td>\n",
       "      <td>75.784219</td>\n",
       "      <td>0.003598</td>\n",
       "      <td>0.001003</td>\n",
       "    </tr>\n",
       "    <tr>\n",
       "      <th>1</th>\n",
       "      <td>1</td>\n",
       "      <td>32</td>\n",
       "      <td>64</td>\n",
       "      <td>75.791169</td>\n",
       "      <td>75.784219</td>\n",
       "      <td>0.003697</td>\n",
       "      <td>0.001002</td>\n",
       "    </tr>\n",
       "    <tr>\n",
       "      <th>2</th>\n",
       "      <td>1</td>\n",
       "      <td>32</td>\n",
       "      <td>128</td>\n",
       "      <td>75.791169</td>\n",
       "      <td>75.784219</td>\n",
       "      <td>0.003597</td>\n",
       "      <td>0.000903</td>\n",
       "    </tr>\n",
       "    <tr>\n",
       "      <th>3</th>\n",
       "      <td>1</td>\n",
       "      <td>32</td>\n",
       "      <td>256</td>\n",
       "      <td>75.791169</td>\n",
       "      <td>75.784219</td>\n",
       "      <td>0.003697</td>\n",
       "      <td>0.000902</td>\n",
       "    </tr>\n",
       "    <tr>\n",
       "      <th>4</th>\n",
       "      <td>1</td>\n",
       "      <td>64</td>\n",
       "      <td>32</td>\n",
       "      <td>75.791169</td>\n",
       "      <td>75.784219</td>\n",
       "      <td>0.003497</td>\n",
       "      <td>0.000902</td>\n",
       "    </tr>\n",
       "  </tbody>\n",
       "</table>\n",
       "</div>"
      ],
      "text/plain": [
       "   max_depth  min_samples_leaf  min_samples_split      train       test  \\\n",
       "0          1                32                 32  75.791169  75.784219   \n",
       "1          1                32                 64  75.791169  75.784219   \n",
       "2          1                32                128  75.791169  75.784219   \n",
       "3          1                32                256  75.791169  75.784219   \n",
       "4          1                64                 32  75.791169  75.784219   \n",
       "\n",
       "   fit_time  score_time  \n",
       "0  0.003598    0.001003  \n",
       "1  0.003697    0.001002  \n",
       "2  0.003597    0.000903  \n",
       "3  0.003697    0.000902  \n",
       "4  0.003497    0.000902  "
      ]
     },
     "execution_count": 29,
     "metadata": {},
     "output_type": "execute_result"
    }
   ],
   "source": [
    "def roda_arvore_de_decisao(max_depth, min_samples_leaf, min_samples_split):\n",
    "    SEED = 301\n",
    "    np.random.seed(SEED)\n",
    "\n",
    "    cv = GroupKFold(n_splits = 10)\n",
    "    modelo = DecisionTreeClassifier(max_depth=max_depth, min_samples_leaf = min_samples_leaf, min_samples_split = min_samples_split)\n",
    "    results = cross_validate(modelo, x_azar, y_azar, cv = cv, groups = dados.modelo, return_train_score=True)\n",
    "    fit_time = results['fit_time'].mean()\n",
    "    score_time = results['score_time'].mean()\n",
    "    train_score = results['train_score'].mean() * 100\n",
    "    test_score = results['test_score'].mean() * 100\n",
    "    tabela = [max_depth, min_samples_leaf, min_samples_split, train_score, test_score, fit_time, score_time]\n",
    "    return tabela\n",
    "\n",
    "def busca():\n",
    "    resultados = []\n",
    "    for max_depth in range(1,33):\n",
    "        for min_samples_leaf in [32, 64, 128, 256]:\n",
    "            for min_samples_split in [32, 64, 128, 256]:\n",
    "                tabela = roda_arvore_de_decisao(max_depth, min_samples_leaf, min_samples_split)\n",
    "                resultados.append(tabela)\n",
    "    resultados = pd.DataFrame(resultados, columns= [\"max_depth\",\"min_samples_leaf\",\"min_samples_split\",\"train\",\"test\", \"fit_time\", \"score_time\"])\n",
    "    return resultados\n",
    "\n",
    "resultados = busca()\n",
    "resultados.head()"
   ]
  },
  {
   "cell_type": "code",
   "execution_count": 30,
   "metadata": {
    "id": "vUmCKerTkqdS"
   },
   "outputs": [],
   "source": [
    "corr = resultados.corr()"
   ]
  },
  {
   "cell_type": "code",
   "execution_count": 31,
   "metadata": {
    "colab": {
     "base_uri": "https://localhost:8080/",
     "height": 631
    },
    "id": "a7d6zbMglbBJ",
    "outputId": "322eebed-b4e5-42b8-a209-1cb2fe86b5ab"
   },
   "outputs": [
    {
     "data": {
      "image/png": "[encoded data removed]",
      "text/plain": [
       "<Figure size 792x648 with 2 Axes>"
      ]
     },
     "metadata": {},
     "output_type": "display_data"
    }
   ],
   "source": [
    "sns.set(style=\"white\")\n",
    "\n",
    "# Generate a mask for the upper triangle\n",
    "mask = np.zeros_like(corr, dtype=np.bool_)\n",
    "mask[np.triu_indices_from(mask)] = True\n",
    "\n",
    "# Set up the matplotlib figure\n",
    "f, ax = plt.subplots(figsize=(11, 9))\n",
    "\n",
    "# Generate a custom diverging colormap\n",
    "cmap = sns.diverging_palette(220, 10, as_cmap=True)\n",
    "\n",
    "# Draw the heatmap with the mask and correct aspect ratio\n",
    "sns.heatmap(corr, mask=mask, cmap=cmap, vmax=.3, center=0,\n",
    "            square=True, linewidths=.5, cbar_kws={\"shrink\": .5});"
   ]
  },
  {
   "cell_type": "code",
   "execution_count": 32,
   "metadata": {
    "colab": {
     "base_uri": "https://localhost:8080/",
     "height": 206
    },
    "id": "YY5vVBEGlctR",
    "outputId": "2eb04823-19a2-47b5-dec7-cb66de9fa3d8"
   },
   "outputs": [
    {
     "data": {
      "text/html": [
       "<div>\n",
       "<style scoped>\n",
       "    .dataframe tbody tr th:only-of-type {\n",
       "        vertical-align: middle;\n",
       "    }\n",
       "\n",
       "    .dataframe tbody tr th {\n",
       "        vertical-align: top;\n",
       "    }\n",
       "\n",
       "    .dataframe thead th {\n",
       "        text-align: right;\n",
       "    }\n",
       "</style>\n",
       "<table border=\"1\" class=\"dataframe\">\n",
       "  <thead>\n",
       "    <tr style=\"text-align: right;\">\n",
       "      <th></th>\n",
       "      <th>max_depth</th>\n",
       "      <th>min_samples_leaf</th>\n",
       "      <th>min_samples_split</th>\n",
       "      <th>train</th>\n",
       "      <th>test</th>\n",
       "      <th>fit_time</th>\n",
       "      <th>score_time</th>\n",
       "    </tr>\n",
       "  </thead>\n",
       "  <tbody>\n",
       "    <tr>\n",
       "      <th>63</th>\n",
       "      <td>4</td>\n",
       "      <td>256</td>\n",
       "      <td>256</td>\n",
       "      <td>78.750993</td>\n",
       "      <td>78.672633</td>\n",
       "      <td>0.008100</td>\n",
       "      <td>0.000999</td>\n",
       "    </tr>\n",
       "    <tr>\n",
       "      <th>48</th>\n",
       "      <td>4</td>\n",
       "      <td>32</td>\n",
       "      <td>32</td>\n",
       "      <td>78.750993</td>\n",
       "      <td>78.672633</td>\n",
       "      <td>0.008401</td>\n",
       "      <td>0.001100</td>\n",
       "    </tr>\n",
       "    <tr>\n",
       "      <th>34</th>\n",
       "      <td>3</td>\n",
       "      <td>32</td>\n",
       "      <td>128</td>\n",
       "      <td>78.750993</td>\n",
       "      <td>78.672633</td>\n",
       "      <td>0.007298</td>\n",
       "      <td>0.001002</td>\n",
       "    </tr>\n",
       "    <tr>\n",
       "      <th>35</th>\n",
       "      <td>3</td>\n",
       "      <td>32</td>\n",
       "      <td>256</td>\n",
       "      <td>78.750993</td>\n",
       "      <td>78.672633</td>\n",
       "      <td>0.006999</td>\n",
       "      <td>0.000900</td>\n",
       "    </tr>\n",
       "    <tr>\n",
       "      <th>36</th>\n",
       "      <td>3</td>\n",
       "      <td>64</td>\n",
       "      <td>32</td>\n",
       "      <td>78.750993</td>\n",
       "      <td>78.672633</td>\n",
       "      <td>0.007100</td>\n",
       "      <td>0.001000</td>\n",
       "    </tr>\n",
       "  </tbody>\n",
       "</table>\n",
       "</div>"
      ],
      "text/plain": [
       "    max_depth  min_samples_leaf  min_samples_split      train       test  \\\n",
       "63          4               256                256  78.750993  78.672633   \n",
       "48          4                32                 32  78.750993  78.672633   \n",
       "34          3                32                128  78.750993  78.672633   \n",
       "35          3                32                256  78.750993  78.672633   \n",
       "36          3                64                 32  78.750993  78.672633   \n",
       "\n",
       "    fit_time  score_time  \n",
       "63  0.008100    0.000999  \n",
       "48  0.008401    0.001100  \n",
       "34  0.007298    0.001002  \n",
       "35  0.006999    0.000900  \n",
       "36  0.007100    0.001000  "
      ]
     },
     "execution_count": 32,
     "metadata": {},
     "output_type": "execute_result"
    }
   ],
   "source": [
    "resultados.sort_values(\"test\", ascending=False).head()"
   ]
  },
  {
   "cell_type": "markdown",
   "metadata": {
    "id": "at5ydyJOqQMv"
   },
   "source": [
    "# Explorando espaço de hiperparâmetros com GridSearchCV\n",
    "---"
   ]
  },
  {
   "cell_type": "code",
   "execution_count": 33,
   "metadata": {
    "colab": {
     "base_uri": "https://localhost:8080/",
     "height": 646
    },
    "id": "Zb69KkJwljln",
    "outputId": "ded59875-b133-4417-d67b-cc44566a2a6a"
   },
   "outputs": [
    {
     "data": {
      "text/html": [
       "<div>\n",
       "<style scoped>\n",
       "    .dataframe tbody tr th:only-of-type {\n",
       "        vertical-align: middle;\n",
       "    }\n",
       "\n",
       "    .dataframe tbody tr th {\n",
       "        vertical-align: top;\n",
       "    }\n",
       "\n",
       "    .dataframe thead th {\n",
       "        text-align: right;\n",
       "    }\n",
       "</style>\n",
       "<table border=\"1\" class=\"dataframe\">\n",
       "  <thead>\n",
       "    <tr style=\"text-align: right;\">\n",
       "      <th></th>\n",
       "      <th>mean_fit_time</th>\n",
       "      <th>std_fit_time</th>\n",
       "      <th>mean_score_time</th>\n",
       "      <th>std_score_time</th>\n",
       "      <th>param_criterion</th>\n",
       "      <th>param_max_depth</th>\n",
       "      <th>param_min_samples_leaf</th>\n",
       "      <th>param_min_samples_split</th>\n",
       "      <th>params</th>\n",
       "      <th>split0_test_score</th>\n",
       "      <th>...</th>\n",
       "      <th>split3_test_score</th>\n",
       "      <th>split4_test_score</th>\n",
       "      <th>split5_test_score</th>\n",
       "      <th>split6_test_score</th>\n",
       "      <th>split7_test_score</th>\n",
       "      <th>split8_test_score</th>\n",
       "      <th>split9_test_score</th>\n",
       "      <th>mean_test_score</th>\n",
       "      <th>std_test_score</th>\n",
       "      <th>rank_test_score</th>\n",
       "    </tr>\n",
       "  </thead>\n",
       "  <tbody>\n",
       "    <tr>\n",
       "      <th>0</th>\n",
       "      <td>0.0077</td>\n",
       "      <td>0.000640</td>\n",
       "      <td>0.0009</td>\n",
       "      <td>0.000300</td>\n",
       "      <td>gini</td>\n",
       "      <td>3</td>\n",
       "      <td>32</td>\n",
       "      <td>32</td>\n",
       "      <td>{'criterion': 'gini', 'max_depth': 3, 'min_sam...</td>\n",
       "      <td>0.804757</td>\n",
       "      <td>...</td>\n",
       "      <td>0.78408</td>\n",
       "      <td>0.783181</td>\n",
       "      <td>0.797809</td>\n",
       "      <td>0.762866</td>\n",
       "      <td>0.781818</td>\n",
       "      <td>0.77551</td>\n",
       "      <td>0.790262</td>\n",
       "      <td>0.786726</td>\n",
       "      <td>0.011361</td>\n",
       "      <td>1</td>\n",
       "    </tr>\n",
       "    <tr>\n",
       "      <th>1</th>\n",
       "      <td>0.0073</td>\n",
       "      <td>0.000458</td>\n",
       "      <td>0.0009</td>\n",
       "      <td>0.000300</td>\n",
       "      <td>gini</td>\n",
       "      <td>3</td>\n",
       "      <td>32</td>\n",
       "      <td>64</td>\n",
       "      <td>{'criterion': 'gini', 'max_depth': 3, 'min_sam...</td>\n",
       "      <td>0.804757</td>\n",
       "      <td>...</td>\n",
       "      <td>0.78408</td>\n",
       "      <td>0.783181</td>\n",
       "      <td>0.797809</td>\n",
       "      <td>0.762866</td>\n",
       "      <td>0.781818</td>\n",
       "      <td>0.77551</td>\n",
       "      <td>0.790262</td>\n",
       "      <td>0.786726</td>\n",
       "      <td>0.011361</td>\n",
       "      <td>1</td>\n",
       "    </tr>\n",
       "    <tr>\n",
       "      <th>2</th>\n",
       "      <td>0.0074</td>\n",
       "      <td>0.000490</td>\n",
       "      <td>0.0011</td>\n",
       "      <td>0.000301</td>\n",
       "      <td>gini</td>\n",
       "      <td>3</td>\n",
       "      <td>32</td>\n",
       "      <td>128</td>\n",
       "      <td>{'criterion': 'gini', 'max_depth': 3, 'min_sam...</td>\n",
       "      <td>0.804757</td>\n",
       "      <td>...</td>\n",
       "      <td>0.78408</td>\n",
       "      <td>0.783181</td>\n",
       "      <td>0.797809</td>\n",
       "      <td>0.762866</td>\n",
       "      <td>0.781818</td>\n",
       "      <td>0.77551</td>\n",
       "      <td>0.790262</td>\n",
       "      <td>0.786726</td>\n",
       "      <td>0.011361</td>\n",
       "      <td>1</td>\n",
       "    </tr>\n",
       "    <tr>\n",
       "      <th>3</th>\n",
       "      <td>0.0072</td>\n",
       "      <td>0.000400</td>\n",
       "      <td>0.0010</td>\n",
       "      <td>0.000001</td>\n",
       "      <td>gini</td>\n",
       "      <td>3</td>\n",
       "      <td>64</td>\n",
       "      <td>32</td>\n",
       "      <td>{'criterion': 'gini', 'max_depth': 3, 'min_sam...</td>\n",
       "      <td>0.804757</td>\n",
       "      <td>...</td>\n",
       "      <td>0.78408</td>\n",
       "      <td>0.783181</td>\n",
       "      <td>0.797809</td>\n",
       "      <td>0.762866</td>\n",
       "      <td>0.781818</td>\n",
       "      <td>0.77551</td>\n",
       "      <td>0.790262</td>\n",
       "      <td>0.786726</td>\n",
       "      <td>0.011361</td>\n",
       "      <td>1</td>\n",
       "    </tr>\n",
       "    <tr>\n",
       "      <th>4</th>\n",
       "      <td>0.0075</td>\n",
       "      <td>0.000500</td>\n",
       "      <td>0.0009</td>\n",
       "      <td>0.000300</td>\n",
       "      <td>gini</td>\n",
       "      <td>3</td>\n",
       "      <td>64</td>\n",
       "      <td>64</td>\n",
       "      <td>{'criterion': 'gini', 'max_depth': 3, 'min_sam...</td>\n",
       "      <td>0.804757</td>\n",
       "      <td>...</td>\n",
       "      <td>0.78408</td>\n",
       "      <td>0.783181</td>\n",
       "      <td>0.797809</td>\n",
       "      <td>0.762866</td>\n",
       "      <td>0.781818</td>\n",
       "      <td>0.77551</td>\n",
       "      <td>0.790262</td>\n",
       "      <td>0.786726</td>\n",
       "      <td>0.011361</td>\n",
       "      <td>1</td>\n",
       "    </tr>\n",
       "  </tbody>\n",
       "</table>\n",
       "<p>5 rows × 22 columns</p>\n",
       "</div>"
      ],
      "text/plain": [
       "   mean_fit_time  std_fit_time  mean_score_time  std_score_time  \\\n",
       "0         0.0077      0.000640           0.0009        0.000300   \n",
       "1         0.0073      0.000458           0.0009        0.000300   \n",
       "2         0.0074      0.000490           0.0011        0.000301   \n",
       "3         0.0072      0.000400           0.0010        0.000001   \n",
       "4         0.0075      0.000500           0.0009        0.000300   \n",
       "\n",
       "  param_criterion param_max_depth param_min_samples_leaf  \\\n",
       "0            gini               3                     32   \n",
       "1            gini               3                     32   \n",
       "2            gini               3                     32   \n",
       "3            gini               3                     64   \n",
       "4            gini               3                     64   \n",
       "\n",
       "  param_min_samples_split                                             params  \\\n",
       "0                      32  {'criterion': 'gini', 'max_depth': 3, 'min_sam...   \n",
       "1                      64  {'criterion': 'gini', 'max_depth': 3, 'min_sam...   \n",
       "2                     128  {'criterion': 'gini', 'max_depth': 3, 'min_sam...   \n",
       "3                      32  {'criterion': 'gini', 'max_depth': 3, 'min_sam...   \n",
       "4                      64  {'criterion': 'gini', 'max_depth': 3, 'min_sam...   \n",
       "\n",
       "   split0_test_score  ...  split3_test_score  split4_test_score  \\\n",
       "0           0.804757  ...            0.78408           0.783181   \n",
       "1           0.804757  ...            0.78408           0.783181   \n",
       "2           0.804757  ...            0.78408           0.783181   \n",
       "3           0.804757  ...            0.78408           0.783181   \n",
       "4           0.804757  ...            0.78408           0.783181   \n",
       "\n",
       "   split5_test_score  split6_test_score  split7_test_score  split8_test_score  \\\n",
       "0           0.797809           0.762866           0.781818            0.77551   \n",
       "1           0.797809           0.762866           0.781818            0.77551   \n",
       "2           0.797809           0.762866           0.781818            0.77551   \n",
       "3           0.797809           0.762866           0.781818            0.77551   \n",
       "4           0.797809           0.762866           0.781818            0.77551   \n",
       "\n",
       "   split9_test_score  mean_test_score  std_test_score  rank_test_score  \n",
       "0           0.790262         0.786726        0.011361                1  \n",
       "1           0.790262         0.786726        0.011361                1  \n",
       "2           0.790262         0.786726        0.011361                1  \n",
       "3           0.790262         0.786726        0.011361                1  \n",
       "4           0.790262         0.786726        0.011361                1  \n",
       "\n",
       "[5 rows x 22 columns]"
      ]
     },
     "execution_count": 33,
     "metadata": {},
     "output_type": "execute_result"
    }
   ],
   "source": [
    "from sklearn.model_selection import GridSearchCV\n",
    "\n",
    "SEED=301\n",
    "np.random.seed(SEED)\n",
    "\n",
    "espaco_de_parametros = {\n",
    "    \"max_depth\" : [3, 5],\n",
    "    \"min_samples_split\" : [32, 64, 128],\n",
    "    \"min_samples_leaf\" : [32, 64, 128],\n",
    "    \"criterion\" : [\"gini\", \"entropy\"]\n",
    "}\n",
    "\n",
    "busca = GridSearchCV(DecisionTreeClassifier(),\n",
    "                    espaco_de_parametros,\n",
    "                    cv = GroupKFold(n_splits = 10))\n",
    "busca.fit(x_azar, y_azar, groups = dados.modelo)\n",
    "resultados = pd.DataFrame(busca.cv_results_)\n",
    "resultados.head()"
   ]
  },
  {
   "cell_type": "code",
   "execution_count": 34,
   "metadata": {
    "colab": {
     "base_uri": "https://localhost:8080/"
    },
    "id": "xGEqRLcUrMuF",
    "outputId": "3fafdf0f-f82f-42ae-e16d-b0ae2635e3c6"
   },
   "outputs": [
    {
     "name": "stdout",
     "output_type": "stream",
     "text": [
      "{'criterion': 'gini', 'max_depth': 3, 'min_samples_leaf': 32, 'min_samples_split': 32}\n",
      "78.67263337284332\n"
     ]
    }
   ],
   "source": [
    "print(busca.best_params_)\n",
    "print(busca.best_score_ * 100)"
   ]
  },
  {
   "cell_type": "code",
   "execution_count": 35,
   "metadata": {
    "colab": {
     "base_uri": "https://localhost:8080/"
    },
    "id": "EcXir723rbI5",
    "outputId": "5d7ee5f0-289d-482f-fb3b-c9601db64ad9"
   },
   "outputs": [
    {
     "data": {
      "text/plain": [
       "DecisionTreeClassifier(max_depth=3, min_samples_leaf=32, min_samples_split=32)"
      ]
     },
     "execution_count": 35,
     "metadata": {},
     "output_type": "execute_result"
    }
   ],
   "source": [
    "melhor = busca.best_estimator_\n",
    "melhor"
   ]
  },
  {
   "cell_type": "code",
   "execution_count": 36,
   "metadata": {
    "colab": {
     "base_uri": "https://localhost:8080/"
    },
    "id": "fBUiCF3krkZo",
    "outputId": "7e6dffca-788a-42a6-ce8e-2d90db1d5208"
   },
   "outputs": [
    {
     "name": "stdout",
     "output_type": "stream",
     "text": [
      "Accuracy para os dados foi 78.75%\n"
     ]
    }
   ],
   "source": [
    "from sklearn.metrics import accuracy_score\n",
    "\n",
    "# evitar essa abordagem pois estará sendo otimista\n",
    "\n",
    "predicoes = melhor.predict(x_azar)\n",
    "accuracy = accuracy_score(predicoes, y_azar) * 100\n",
    "print(\"Accuracy para os dados foi %.2f%%\" % accuracy)"
   ]
  },
  {
   "cell_type": "markdown",
   "metadata": {
    "id": "mM-vg1Mrtj7V"
   },
   "source": [
    "# Como ter uma estimativa sem esse vício nos dados que eu já vi?\n",
    "---\n",
    "\n",
    "No caso de cross validation com busca de hiperparâmetros, fazemos uma nova validação cruzada. Chama-se nested cross validation"
   ]
  },
  {
   "cell_type": "code",
   "execution_count": 37,
   "metadata": {
    "colab": {
     "base_uri": "https://localhost:8080/"
    },
    "id": "cqZznVDKr--h",
    "outputId": "5235f063-715a-4390-c7e9-5652ed8e0bcb"
   },
   "outputs": [
    {
     "name": "stderr",
     "output_type": "stream",
     "text": [
      "C:\\Users\\dsc70\\anaconda\\lib\\site-packages\\sklearn\\model_selection\\_validation.py:615: FitFailedWarning: Estimator fit failed. The score on this train-test partition for these parameters will be set to nan. Details: \n",
      "Traceback (most recent call last):\n",
      "  File \"C:\\Users\\dsc70\\anaconda\\lib\\site-packages\\sklearn\\model_selection\\_validation.py\", line 598, in _fit_and_score\n",
      "    estimator.fit(X_train, y_train, **fit_params)\n",
      "  File \"C:\\Users\\dsc70\\anaconda\\lib\\site-packages\\sklearn\\utils\\validation.py\", line 63, in inner_f\n",
      "    return f(*args, **kwargs)\n",
      "  File \"C:\\Users\\dsc70\\anaconda\\lib\\site-packages\\sklearn\\model_selection\\_search.py\", line 841, in fit\n",
      "    self._run_search(evaluate_candidates)\n",
      "  File \"C:\\Users\\dsc70\\anaconda\\lib\\site-packages\\sklearn\\model_selection\\_search.py\", line 1296, in _run_search\n",
      "    evaluate_candidates(ParameterGrid(self.param_grid))\n",
      "  File \"C:\\Users\\dsc70\\anaconda\\lib\\site-packages\\sklearn\\model_selection\\_search.py\", line 807, in evaluate_candidates\n",
      "    (split_idx, (train, test)) in product(\n",
      "  File \"C:\\Users\\dsc70\\anaconda\\lib\\site-packages\\sklearn\\model_selection\\_split.py\", line 332, in split\n",
      "    for train, test in super().split(X, y, groups):\n",
      "  File \"C:\\Users\\dsc70\\anaconda\\lib\\site-packages\\sklearn\\model_selection\\_split.py\", line 80, in split\n",
      "    for test_index in self._iter_test_masks(X, y, groups):\n",
      "  File \"C:\\Users\\dsc70\\anaconda\\lib\\site-packages\\sklearn\\model_selection\\_split.py\", line 92, in _iter_test_masks\n",
      "    for test_index in self._iter_test_indices(X, y, groups):\n",
      "  File \"C:\\Users\\dsc70\\anaconda\\lib\\site-packages\\sklearn\\model_selection\\_split.py\", line 503, in _iter_test_indices\n",
      "    raise ValueError(\"The 'groups' parameter should not be None.\")\n",
      "ValueError: The 'groups' parameter should not be None.\n",
      "\n",
      "  warnings.warn(\"Estimator fit failed. The score on this train-test\"\n",
      "C:\\Users\\dsc70\\anaconda\\lib\\site-packages\\sklearn\\model_selection\\_validation.py:615: FitFailedWarning: Estimator fit failed. The score on this train-test partition for these parameters will be set to nan. Details: \n",
      "Traceback (most recent call last):\n",
      "  File \"C:\\Users\\dsc70\\anaconda\\lib\\site-packages\\sklearn\\model_selection\\_validation.py\", line 598, in _fit_and_score\n",
      "    estimator.fit(X_train, y_train, **fit_params)\n",
      "  File \"C:\\Users\\dsc70\\anaconda\\lib\\site-packages\\sklearn\\utils\\validation.py\", line 63, in inner_f\n",
      "    return f(*args, **kwargs)\n",
      "  File \"C:\\Users\\dsc70\\anaconda\\lib\\site-packages\\sklearn\\model_selection\\_search.py\", line 841, in fit\n",
      "    self._run_search(evaluate_candidates)\n",
      "  File \"C:\\Users\\dsc70\\anaconda\\lib\\site-packages\\sklearn\\model_selection\\_search.py\", line 1296, in _run_search\n",
      "    evaluate_candidates(ParameterGrid(self.param_grid))\n",
      "  File \"C:\\Users\\dsc70\\anaconda\\lib\\site-packages\\sklearn\\model_selection\\_search.py\", line 807, in evaluate_candidates\n",
      "    (split_idx, (train, test)) in product(\n",
      "  File \"C:\\Users\\dsc70\\anaconda\\lib\\site-packages\\sklearn\\model_selection\\_split.py\", line 332, in split\n",
      "    for train, test in super().split(X, y, groups):\n",
      "  File \"C:\\Users\\dsc70\\anaconda\\lib\\site-packages\\sklearn\\model_selection\\_split.py\", line 80, in split\n",
      "    for test_index in self._iter_test_masks(X, y, groups):\n",
      "  File \"C:\\Users\\dsc70\\anaconda\\lib\\site-packages\\sklearn\\model_selection\\_split.py\", line 92, in _iter_test_masks\n",
      "    for test_index in self._iter_test_indices(X, y, groups):\n",
      "  File \"C:\\Users\\dsc70\\anaconda\\lib\\site-packages\\sklearn\\model_selection\\_split.py\", line 503, in _iter_test_indices\n",
      "    raise ValueError(\"The 'groups' parameter should not be None.\")\n",
      "ValueError: The 'groups' parameter should not be None.\n",
      "\n",
      "  warnings.warn(\"Estimator fit failed. The score on this train-test\"\n",
      "C:\\Users\\dsc70\\anaconda\\lib\\site-packages\\sklearn\\model_selection\\_validation.py:615: FitFailedWarning: Estimator fit failed. The score on this train-test partition for these parameters will be set to nan. Details: \n",
      "Traceback (most recent call last):\n",
      "  File \"C:\\Users\\dsc70\\anaconda\\lib\\site-packages\\sklearn\\model_selection\\_validation.py\", line 598, in _fit_and_score\n",
      "    estimator.fit(X_train, y_train, **fit_params)\n",
      "  File \"C:\\Users\\dsc70\\anaconda\\lib\\site-packages\\sklearn\\utils\\validation.py\", line 63, in inner_f\n",
      "    return f(*args, **kwargs)\n",
      "  File \"C:\\Users\\dsc70\\anaconda\\lib\\site-packages\\sklearn\\model_selection\\_search.py\", line 841, in fit\n",
      "    self._run_search(evaluate_candidates)\n",
      "  File \"C:\\Users\\dsc70\\anaconda\\lib\\site-packages\\sklearn\\model_selection\\_search.py\", line 1296, in _run_search\n",
      "    evaluate_candidates(ParameterGrid(self.param_grid))\n",
      "  File \"C:\\Users\\dsc70\\anaconda\\lib\\site-packages\\sklearn\\model_selection\\_search.py\", line 807, in evaluate_candidates\n",
      "    (split_idx, (train, test)) in product(\n",
      "  File \"C:\\Users\\dsc70\\anaconda\\lib\\site-packages\\sklearn\\model_selection\\_split.py\", line 332, in split\n",
      "    for train, test in super().split(X, y, groups):\n",
      "  File \"C:\\Users\\dsc70\\anaconda\\lib\\site-packages\\sklearn\\model_selection\\_split.py\", line 80, in split\n",
      "    for test_index in self._iter_test_masks(X, y, groups):\n",
      "  File \"C:\\Users\\dsc70\\anaconda\\lib\\site-packages\\sklearn\\model_selection\\_split.py\", line 92, in _iter_test_masks\n",
      "    for test_index in self._iter_test_indices(X, y, groups):\n",
      "  File \"C:\\Users\\dsc70\\anaconda\\lib\\site-packages\\sklearn\\model_selection\\_split.py\", line 503, in _iter_test_indices\n",
      "    raise ValueError(\"The 'groups' parameter should not be None.\")\n",
      "ValueError: The 'groups' parameter should not be None.\n",
      "\n",
      "  warnings.warn(\"Estimator fit failed. The score on this train-test\"\n",
      "C:\\Users\\dsc70\\anaconda\\lib\\site-packages\\sklearn\\model_selection\\_validation.py:615: FitFailedWarning: Estimator fit failed. The score on this train-test partition for these parameters will be set to nan. Details: \n",
      "Traceback (most recent call last):\n",
      "  File \"C:\\Users\\dsc70\\anaconda\\lib\\site-packages\\sklearn\\model_selection\\_validation.py\", line 598, in _fit_and_score\n",
      "    estimator.fit(X_train, y_train, **fit_params)\n",
      "  File \"C:\\Users\\dsc70\\anaconda\\lib\\site-packages\\sklearn\\utils\\validation.py\", line 63, in inner_f\n",
      "    return f(*args, **kwargs)\n",
      "  File \"C:\\Users\\dsc70\\anaconda\\lib\\site-packages\\sklearn\\model_selection\\_search.py\", line 841, in fit\n",
      "    self._run_search(evaluate_candidates)\n",
      "  File \"C:\\Users\\dsc70\\anaconda\\lib\\site-packages\\sklearn\\model_selection\\_search.py\", line 1296, in _run_search\n",
      "    evaluate_candidates(ParameterGrid(self.param_grid))\n",
      "  File \"C:\\Users\\dsc70\\anaconda\\lib\\site-packages\\sklearn\\model_selection\\_search.py\", line 807, in evaluate_candidates\n",
      "    (split_idx, (train, test)) in product(\n",
      "  File \"C:\\Users\\dsc70\\anaconda\\lib\\site-packages\\sklearn\\model_selection\\_split.py\", line 332, in split\n",
      "    for train, test in super().split(X, y, groups):\n",
      "  File \"C:\\Users\\dsc70\\anaconda\\lib\\site-packages\\sklearn\\model_selection\\_split.py\", line 80, in split\n",
      "    for test_index in self._iter_test_masks(X, y, groups):\n",
      "  File \"C:\\Users\\dsc70\\anaconda\\lib\\site-packages\\sklearn\\model_selection\\_split.py\", line 92, in _iter_test_masks\n",
      "    for test_index in self._iter_test_indices(X, y, groups):\n",
      "  File \"C:\\Users\\dsc70\\anaconda\\lib\\site-packages\\sklearn\\model_selection\\_split.py\", line 503, in _iter_test_indices\n",
      "    raise ValueError(\"The 'groups' parameter should not be None.\")\n",
      "ValueError: The 'groups' parameter should not be None.\n",
      "\n",
      "  warnings.warn(\"Estimator fit failed. The score on this train-test\"\n",
      "C:\\Users\\dsc70\\anaconda\\lib\\site-packages\\sklearn\\model_selection\\_validation.py:615: FitFailedWarning: Estimator fit failed. The score on this train-test partition for these parameters will be set to nan. Details: \n",
      "Traceback (most recent call last):\n",
      "  File \"C:\\Users\\dsc70\\anaconda\\lib\\site-packages\\sklearn\\model_selection\\_validation.py\", line 598, in _fit_and_score\n",
      "    estimator.fit(X_train, y_train, **fit_params)\n",
      "  File \"C:\\Users\\dsc70\\anaconda\\lib\\site-packages\\sklearn\\utils\\validation.py\", line 63, in inner_f\n",
      "    return f(*args, **kwargs)\n",
      "  File \"C:\\Users\\dsc70\\anaconda\\lib\\site-packages\\sklearn\\model_selection\\_search.py\", line 841, in fit\n",
      "    self._run_search(evaluate_candidates)\n",
      "  File \"C:\\Users\\dsc70\\anaconda\\lib\\site-packages\\sklearn\\model_selection\\_search.py\", line 1296, in _run_search\n",
      "    evaluate_candidates(ParameterGrid(self.param_grid))\n",
      "  File \"C:\\Users\\dsc70\\anaconda\\lib\\site-packages\\sklearn\\model_selection\\_search.py\", line 807, in evaluate_candidates\n",
      "    (split_idx, (train, test)) in product(\n",
      "  File \"C:\\Users\\dsc70\\anaconda\\lib\\site-packages\\sklearn\\model_selection\\_split.py\", line 332, in split\n",
      "    for train, test in super().split(X, y, groups):\n",
      "  File \"C:\\Users\\dsc70\\anaconda\\lib\\site-packages\\sklearn\\model_selection\\_split.py\", line 80, in split\n",
      "    for test_index in self._iter_test_masks(X, y, groups):\n",
      "  File \"C:\\Users\\dsc70\\anaconda\\lib\\site-packages\\sklearn\\model_selection\\_split.py\", line 92, in _iter_test_masks\n",
      "    for test_index in self._iter_test_indices(X, y, groups):\n",
      "  File \"C:\\Users\\dsc70\\anaconda\\lib\\site-packages\\sklearn\\model_selection\\_split.py\", line 503, in _iter_test_indices\n",
      "    raise ValueError(\"The 'groups' parameter should not be None.\")\n",
      "ValueError: The 'groups' parameter should not be None.\n",
      "\n",
      "  warnings.warn(\"Estimator fit failed. The score on this train-test\"\n",
      "C:\\Users\\dsc70\\anaconda\\lib\\site-packages\\sklearn\\model_selection\\_validation.py:615: FitFailedWarning: Estimator fit failed. The score on this train-test partition for these parameters will be set to nan. Details: \n",
      "Traceback (most recent call last):\n",
      "  File \"C:\\Users\\dsc70\\anaconda\\lib\\site-packages\\sklearn\\model_selection\\_validation.py\", line 598, in _fit_and_score\n",
      "    estimator.fit(X_train, y_train, **fit_params)\n",
      "  File \"C:\\Users\\dsc70\\anaconda\\lib\\site-packages\\sklearn\\utils\\validation.py\", line 63, in inner_f\n",
      "    return f(*args, **kwargs)\n",
      "  File \"C:\\Users\\dsc70\\anaconda\\lib\\site-packages\\sklearn\\model_selection\\_search.py\", line 841, in fit\n",
      "    self._run_search(evaluate_candidates)\n",
      "  File \"C:\\Users\\dsc70\\anaconda\\lib\\site-packages\\sklearn\\model_selection\\_search.py\", line 1296, in _run_search\n",
      "    evaluate_candidates(ParameterGrid(self.param_grid))\n",
      "  File \"C:\\Users\\dsc70\\anaconda\\lib\\site-packages\\sklearn\\model_selection\\_search.py\", line 807, in evaluate_candidates\n",
      "    (split_idx, (train, test)) in product(\n",
      "  File \"C:\\Users\\dsc70\\anaconda\\lib\\site-packages\\sklearn\\model_selection\\_split.py\", line 332, in split\n",
      "    for train, test in super().split(X, y, groups):\n",
      "  File \"C:\\Users\\dsc70\\anaconda\\lib\\site-packages\\sklearn\\model_selection\\_split.py\", line 80, in split\n",
      "    for test_index in self._iter_test_masks(X, y, groups):\n",
      "  File \"C:\\Users\\dsc70\\anaconda\\lib\\site-packages\\sklearn\\model_selection\\_split.py\", line 92, in _iter_test_masks\n",
      "    for test_index in self._iter_test_indices(X, y, groups):\n",
      "  File \"C:\\Users\\dsc70\\anaconda\\lib\\site-packages\\sklearn\\model_selection\\_split.py\", line 503, in _iter_test_indices\n",
      "    raise ValueError(\"The 'groups' parameter should not be None.\")\n",
      "ValueError: The 'groups' parameter should not be None.\n",
      "\n",
      "  warnings.warn(\"Estimator fit failed. The score on this train-test\"\n",
      "C:\\Users\\dsc70\\anaconda\\lib\\site-packages\\sklearn\\model_selection\\_validation.py:615: FitFailedWarning: Estimator fit failed. The score on this train-test partition for these parameters will be set to nan. Details: \n",
      "Traceback (most recent call last):\n",
      "  File \"C:\\Users\\dsc70\\anaconda\\lib\\site-packages\\sklearn\\model_selection\\_validation.py\", line 598, in _fit_and_score\n",
      "    estimator.fit(X_train, y_train, **fit_params)\n",
      "  File \"C:\\Users\\dsc70\\anaconda\\lib\\site-packages\\sklearn\\utils\\validation.py\", line 63, in inner_f\n",
      "    return f(*args, **kwargs)\n",
      "  File \"C:\\Users\\dsc70\\anaconda\\lib\\site-packages\\sklearn\\model_selection\\_search.py\", line 841, in fit\n",
      "    self._run_search(evaluate_candidates)\n",
      "  File \"C:\\Users\\dsc70\\anaconda\\lib\\site-packages\\sklearn\\model_selection\\_search.py\", line 1296, in _run_search\n",
      "    evaluate_candidates(ParameterGrid(self.param_grid))\n",
      "  File \"C:\\Users\\dsc70\\anaconda\\lib\\site-packages\\sklearn\\model_selection\\_search.py\", line 807, in evaluate_candidates\n",
      "    (split_idx, (train, test)) in product(\n",
      "  File \"C:\\Users\\dsc70\\anaconda\\lib\\site-packages\\sklearn\\model_selection\\_split.py\", line 332, in split\n",
      "    for train, test in super().split(X, y, groups):\n",
      "  File \"C:\\Users\\dsc70\\anaconda\\lib\\site-packages\\sklearn\\model_selection\\_split.py\", line 80, in split\n",
      "    for test_index in self._iter_test_masks(X, y, groups):\n",
      "  File \"C:\\Users\\dsc70\\anaconda\\lib\\site-packages\\sklearn\\model_selection\\_split.py\", line 92, in _iter_test_masks\n",
      "    for test_index in self._iter_test_indices(X, y, groups):\n",
      "  File \"C:\\Users\\dsc70\\anaconda\\lib\\site-packages\\sklearn\\model_selection\\_split.py\", line 503, in _iter_test_indices\n",
      "    raise ValueError(\"The 'groups' parameter should not be None.\")\n",
      "ValueError: The 'groups' parameter should not be None.\n",
      "\n",
      "  warnings.warn(\"Estimator fit failed. The score on this train-test\"\n",
      "C:\\Users\\dsc70\\anaconda\\lib\\site-packages\\sklearn\\model_selection\\_validation.py:615: FitFailedWarning: Estimator fit failed. The score on this train-test partition for these parameters will be set to nan. Details: \n",
      "Traceback (most recent call last):\n",
      "  File \"C:\\Users\\dsc70\\anaconda\\lib\\site-packages\\sklearn\\model_selection\\_validation.py\", line 598, in _fit_and_score\n",
      "    estimator.fit(X_train, y_train, **fit_params)\n",
      "  File \"C:\\Users\\dsc70\\anaconda\\lib\\site-packages\\sklearn\\utils\\validation.py\", line 63, in inner_f\n",
      "    return f(*args, **kwargs)\n",
      "  File \"C:\\Users\\dsc70\\anaconda\\lib\\site-packages\\sklearn\\model_selection\\_search.py\", line 841, in fit\n",
      "    self._run_search(evaluate_candidates)\n",
      "  File \"C:\\Users\\dsc70\\anaconda\\lib\\site-packages\\sklearn\\model_selection\\_search.py\", line 1296, in _run_search\n",
      "    evaluate_candidates(ParameterGrid(self.param_grid))\n",
      "  File \"C:\\Users\\dsc70\\anaconda\\lib\\site-packages\\sklearn\\model_selection\\_search.py\", line 807, in evaluate_candidates\n",
      "    (split_idx, (train, test)) in product(\n",
      "  File \"C:\\Users\\dsc70\\anaconda\\lib\\site-packages\\sklearn\\model_selection\\_split.py\", line 332, in split\n",
      "    for train, test in super().split(X, y, groups):\n",
      "  File \"C:\\Users\\dsc70\\anaconda\\lib\\site-packages\\sklearn\\model_selection\\_split.py\", line 80, in split\n",
      "    for test_index in self._iter_test_masks(X, y, groups):\n",
      "  File \"C:\\Users\\dsc70\\anaconda\\lib\\site-packages\\sklearn\\model_selection\\_split.py\", line 92, in _iter_test_masks\n",
      "    for test_index in self._iter_test_indices(X, y, groups):\n",
      "  File \"C:\\Users\\dsc70\\anaconda\\lib\\site-packages\\sklearn\\model_selection\\_split.py\", line 503, in _iter_test_indices\n",
      "    raise ValueError(\"The 'groups' parameter should not be None.\")\n",
      "ValueError: The 'groups' parameter should not be None.\n",
      "\n",
      "  warnings.warn(\"Estimator fit failed. The score on this train-test\"\n",
      "C:\\Users\\dsc70\\anaconda\\lib\\site-packages\\sklearn\\model_selection\\_validation.py:615: FitFailedWarning: Estimator fit failed. The score on this train-test partition for these parameters will be set to nan. Details: \n",
      "Traceback (most recent call last):\n",
      "  File \"C:\\Users\\dsc70\\anaconda\\lib\\site-packages\\sklearn\\model_selection\\_validation.py\", line 598, in _fit_and_score\n",
      "    estimator.fit(X_train, y_train, **fit_params)\n",
      "  File \"C:\\Users\\dsc70\\anaconda\\lib\\site-packages\\sklearn\\utils\\validation.py\", line 63, in inner_f\n",
      "    return f(*args, **kwargs)\n",
      "  File \"C:\\Users\\dsc70\\anaconda\\lib\\site-packages\\sklearn\\model_selection\\_search.py\", line 841, in fit\n",
      "    self._run_search(evaluate_candidates)\n",
      "  File \"C:\\Users\\dsc70\\anaconda\\lib\\site-packages\\sklearn\\model_selection\\_search.py\", line 1296, in _run_search\n",
      "    evaluate_candidates(ParameterGrid(self.param_grid))\n",
      "  File \"C:\\Users\\dsc70\\anaconda\\lib\\site-packages\\sklearn\\model_selection\\_search.py\", line 807, in evaluate_candidates\n",
      "    (split_idx, (train, test)) in product(\n",
      "  File \"C:\\Users\\dsc70\\anaconda\\lib\\site-packages\\sklearn\\model_selection\\_split.py\", line 332, in split\n",
      "    for train, test in super().split(X, y, groups):\n",
      "  File \"C:\\Users\\dsc70\\anaconda\\lib\\site-packages\\sklearn\\model_selection\\_split.py\", line 80, in split\n",
      "    for test_index in self._iter_test_masks(X, y, groups):\n",
      "  File \"C:\\Users\\dsc70\\anaconda\\lib\\site-packages\\sklearn\\model_selection\\_split.py\", line 92, in _iter_test_masks\n",
      "    for test_index in self._iter_test_indices(X, y, groups):\n",
      "  File \"C:\\Users\\dsc70\\anaconda\\lib\\site-packages\\sklearn\\model_selection\\_split.py\", line 503, in _iter_test_indices\n",
      "    raise ValueError(\"The 'groups' parameter should not be None.\")\n",
      "ValueError: The 'groups' parameter should not be None.\n",
      "\n",
      "  warnings.warn(\"Estimator fit failed. The score on this train-test\"\n",
      "C:\\Users\\dsc70\\anaconda\\lib\\site-packages\\sklearn\\model_selection\\_validation.py:615: FitFailedWarning: Estimator fit failed. The score on this train-test partition for these parameters will be set to nan. Details: \n",
      "Traceback (most recent call last):\n",
      "  File \"C:\\Users\\dsc70\\anaconda\\lib\\site-packages\\sklearn\\model_selection\\_validation.py\", line 598, in _fit_and_score\n",
      "    estimator.fit(X_train, y_train, **fit_params)\n",
      "  File \"C:\\Users\\dsc70\\anaconda\\lib\\site-packages\\sklearn\\utils\\validation.py\", line 63, in inner_f\n",
      "    return f(*args, **kwargs)\n",
      "  File \"C:\\Users\\dsc70\\anaconda\\lib\\site-packages\\sklearn\\model_selection\\_search.py\", line 841, in fit\n",
      "    self._run_search(evaluate_candidates)\n",
      "  File \"C:\\Users\\dsc70\\anaconda\\lib\\site-packages\\sklearn\\model_selection\\_search.py\", line 1296, in _run_search\n",
      "    evaluate_candidates(ParameterGrid(self.param_grid))\n",
      "  File \"C:\\Users\\dsc70\\anaconda\\lib\\site-packages\\sklearn\\model_selection\\_search.py\", line 807, in evaluate_candidates\n",
      "    (split_idx, (train, test)) in product(\n",
      "  File \"C:\\Users\\dsc70\\anaconda\\lib\\site-packages\\sklearn\\model_selection\\_split.py\", line 332, in split\n",
      "    for train, test in super().split(X, y, groups):\n",
      "  File \"C:\\Users\\dsc70\\anaconda\\lib\\site-packages\\sklearn\\model_selection\\_split.py\", line 80, in split\n",
      "    for test_index in self._iter_test_masks(X, y, groups):\n",
      "  File \"C:\\Users\\dsc70\\anaconda\\lib\\site-packages\\sklearn\\model_selection\\_split.py\", line 92, in _iter_test_masks\n",
      "    for test_index in self._iter_test_indices(X, y, groups):\n",
      "  File \"C:\\Users\\dsc70\\anaconda\\lib\\site-packages\\sklearn\\model_selection\\_split.py\", line 503, in _iter_test_indices\n",
      "    raise ValueError(\"The 'groups' parameter should not be None.\")\n",
      "ValueError: The 'groups' parameter should not be None.\n",
      "\n",
      "  warnings.warn(\"Estimator fit failed. The score on this train-test\"\n"
     ]
    }
   ],
   "source": [
    "from sklearn.model_selection import cross_val_score\n",
    "\n",
    "scores = cross_val_score(busca, x_azar, y_azar, cv = GroupKFold(n_splits=10), groups = dados.modelo)"
   ]
  },
  {
   "cell_type": "markdown",
   "metadata": {
    "id": "E_MEMPRYuWYT"
   },
   "source": [
    "### Infelizmente como o Pandas não suporta nested validation com group k fold não conseguimos prever o resultado para novos grupos"
   ]
  },
  {
   "cell_type": "code",
   "execution_count": 38,
   "metadata": {
    "colab": {
     "base_uri": "https://localhost:8080/",
     "height": 617
    },
    "id": "9aYIMS1At7ZW",
    "outputId": "05e97184-2489-47c6-f766-54635a6008ca"
   },
   "outputs": [
    {
     "data": {
      "text/html": [
       "<div>\n",
       "<style scoped>\n",
       "    .dataframe tbody tr th:only-of-type {\n",
       "        vertical-align: middle;\n",
       "    }\n",
       "\n",
       "    .dataframe tbody tr th {\n",
       "        vertical-align: top;\n",
       "    }\n",
       "\n",
       "    .dataframe thead th {\n",
       "        text-align: right;\n",
       "    }\n",
       "</style>\n",
       "<table border=\"1\" class=\"dataframe\">\n",
       "  <thead>\n",
       "    <tr style=\"text-align: right;\">\n",
       "      <th></th>\n",
       "      <th>mean_fit_time</th>\n",
       "      <th>std_fit_time</th>\n",
       "      <th>mean_score_time</th>\n",
       "      <th>std_score_time</th>\n",
       "      <th>param_criterion</th>\n",
       "      <th>param_max_depth</th>\n",
       "      <th>param_min_samples_leaf</th>\n",
       "      <th>param_min_samples_split</th>\n",
       "      <th>params</th>\n",
       "      <th>split0_test_score</th>\n",
       "      <th>split1_test_score</th>\n",
       "      <th>split2_test_score</th>\n",
       "      <th>split3_test_score</th>\n",
       "      <th>split4_test_score</th>\n",
       "      <th>mean_test_score</th>\n",
       "      <th>std_test_score</th>\n",
       "      <th>rank_test_score</th>\n",
       "    </tr>\n",
       "  </thead>\n",
       "  <tbody>\n",
       "    <tr>\n",
       "      <th>0</th>\n",
       "      <td>0.0066</td>\n",
       "      <td>0.000490</td>\n",
       "      <td>0.0010</td>\n",
       "      <td>2.611745e-07</td>\n",
       "      <td>gini</td>\n",
       "      <td>3</td>\n",
       "      <td>32</td>\n",
       "      <td>32</td>\n",
       "      <td>{'criterion': 'gini', 'max_depth': 3, 'min_sam...</td>\n",
       "      <td>0.784</td>\n",
       "      <td>0.776</td>\n",
       "      <td>0.8025</td>\n",
       "      <td>0.793</td>\n",
       "      <td>0.7795</td>\n",
       "      <td>0.787</td>\n",
       "      <td>0.009618</td>\n",
       "      <td>1</td>\n",
       "    </tr>\n",
       "    <tr>\n",
       "      <th>1</th>\n",
       "      <td>0.0064</td>\n",
       "      <td>0.000490</td>\n",
       "      <td>0.0010</td>\n",
       "      <td>4.422006e-07</td>\n",
       "      <td>gini</td>\n",
       "      <td>3</td>\n",
       "      <td>32</td>\n",
       "      <td>64</td>\n",
       "      <td>{'criterion': 'gini', 'max_depth': 3, 'min_sam...</td>\n",
       "      <td>0.784</td>\n",
       "      <td>0.776</td>\n",
       "      <td>0.8025</td>\n",
       "      <td>0.793</td>\n",
       "      <td>0.7795</td>\n",
       "      <td>0.787</td>\n",
       "      <td>0.009618</td>\n",
       "      <td>1</td>\n",
       "    </tr>\n",
       "    <tr>\n",
       "      <th>2</th>\n",
       "      <td>0.0066</td>\n",
       "      <td>0.000490</td>\n",
       "      <td>0.0008</td>\n",
       "      <td>4.001384e-04</td>\n",
       "      <td>gini</td>\n",
       "      <td>3</td>\n",
       "      <td>32</td>\n",
       "      <td>128</td>\n",
       "      <td>{'criterion': 'gini', 'max_depth': 3, 'min_sam...</td>\n",
       "      <td>0.784</td>\n",
       "      <td>0.776</td>\n",
       "      <td>0.8025</td>\n",
       "      <td>0.793</td>\n",
       "      <td>0.7795</td>\n",
       "      <td>0.787</td>\n",
       "      <td>0.009618</td>\n",
       "      <td>1</td>\n",
       "    </tr>\n",
       "    <tr>\n",
       "      <th>3</th>\n",
       "      <td>0.0062</td>\n",
       "      <td>0.000400</td>\n",
       "      <td>0.0010</td>\n",
       "      <td>1.784161e-07</td>\n",
       "      <td>gini</td>\n",
       "      <td>3</td>\n",
       "      <td>64</td>\n",
       "      <td>32</td>\n",
       "      <td>{'criterion': 'gini', 'max_depth': 3, 'min_sam...</td>\n",
       "      <td>0.784</td>\n",
       "      <td>0.776</td>\n",
       "      <td>0.8025</td>\n",
       "      <td>0.793</td>\n",
       "      <td>0.7795</td>\n",
       "      <td>0.787</td>\n",
       "      <td>0.009618</td>\n",
       "      <td>1</td>\n",
       "    </tr>\n",
       "    <tr>\n",
       "      <th>4</th>\n",
       "      <td>0.0062</td>\n",
       "      <td>0.000399</td>\n",
       "      <td>0.0010</td>\n",
       "      <td>8.176054e-07</td>\n",
       "      <td>gini</td>\n",
       "      <td>3</td>\n",
       "      <td>64</td>\n",
       "      <td>64</td>\n",
       "      <td>{'criterion': 'gini', 'max_depth': 3, 'min_sam...</td>\n",
       "      <td>0.784</td>\n",
       "      <td>0.776</td>\n",
       "      <td>0.8025</td>\n",
       "      <td>0.793</td>\n",
       "      <td>0.7795</td>\n",
       "      <td>0.787</td>\n",
       "      <td>0.009618</td>\n",
       "      <td>1</td>\n",
       "    </tr>\n",
       "  </tbody>\n",
       "</table>\n",
       "</div>"
      ],
      "text/plain": [
       "   mean_fit_time  std_fit_time  mean_score_time  std_score_time  \\\n",
       "0         0.0066      0.000490           0.0010    2.611745e-07   \n",
       "1         0.0064      0.000490           0.0010    4.422006e-07   \n",
       "2         0.0066      0.000490           0.0008    4.001384e-04   \n",
       "3         0.0062      0.000400           0.0010    1.784161e-07   \n",
       "4         0.0062      0.000399           0.0010    8.176054e-07   \n",
       "\n",
       "  param_criterion param_max_depth param_min_samples_leaf  \\\n",
       "0            gini               3                     32   \n",
       "1            gini               3                     32   \n",
       "2            gini               3                     32   \n",
       "3            gini               3                     64   \n",
       "4            gini               3                     64   \n",
       "\n",
       "  param_min_samples_split                                             params  \\\n",
       "0                      32  {'criterion': 'gini', 'max_depth': 3, 'min_sam...   \n",
       "1                      64  {'criterion': 'gini', 'max_depth': 3, 'min_sam...   \n",
       "2                     128  {'criterion': 'gini', 'max_depth': 3, 'min_sam...   \n",
       "3                      32  {'criterion': 'gini', 'max_depth': 3, 'min_sam...   \n",
       "4                      64  {'criterion': 'gini', 'max_depth': 3, 'min_sam...   \n",
       "\n",
       "   split0_test_score  split1_test_score  split2_test_score  split3_test_score  \\\n",
       "0              0.784              0.776             0.8025              0.793   \n",
       "1              0.784              0.776             0.8025              0.793   \n",
       "2              0.784              0.776             0.8025              0.793   \n",
       "3              0.784              0.776             0.8025              0.793   \n",
       "4              0.784              0.776             0.8025              0.793   \n",
       "\n",
       "   split4_test_score  mean_test_score  std_test_score  rank_test_score  \n",
       "0             0.7795            0.787        0.009618                1  \n",
       "1             0.7795            0.787        0.009618                1  \n",
       "2             0.7795            0.787        0.009618                1  \n",
       "3             0.7795            0.787        0.009618                1  \n",
       "4             0.7795            0.787        0.009618                1  "
      ]
     },
     "execution_count": 38,
     "metadata": {},
     "output_type": "execute_result"
    }
   ],
   "source": [
    "from sklearn.model_selection import GridSearchCV, KFold\n",
    "\n",
    "SEED=301\n",
    "np.random.seed(SEED)\n",
    "\n",
    "espaco_de_parametros = {\n",
    "    \"max_depth\" : [3, 5],\n",
    "    \"min_samples_split\" : [32, 64, 128],\n",
    "    \"min_samples_leaf\" : [32, 64, 128],\n",
    "    \"criterion\" : [\"gini\", \"entropy\"]\n",
    "}\n",
    "\n",
    "busca = GridSearchCV(DecisionTreeClassifier(),\n",
    "                    espaco_de_parametros,\n",
    "                    cv = KFold(n_splits = 5, shuffle=True))\n",
    "busca.fit(x_azar, y_azar)\n",
    "resultados = pd.DataFrame(busca.cv_results_)\n",
    "resultados.head()"
   ]
  },
  {
   "cell_type": "code",
   "execution_count": 39,
   "metadata": {
    "colab": {
     "base_uri": "https://localhost:8080/"
    },
    "id": "IHOi-91kulqx",
    "outputId": "0f5ac756-17cd-48f4-fd6a-0ff0481489be"
   },
   "outputs": [
    {
     "data": {
      "text/plain": [
       "array([0.7895, 0.7825, 0.7905, 0.7715, 0.7995])"
      ]
     },
     "execution_count": 39,
     "metadata": {},
     "output_type": "execute_result"
    }
   ],
   "source": [
    "from sklearn.model_selection import cross_val_score\n",
    "\n",
    "scores = cross_val_score(busca, x_azar, y_azar, cv = KFold(n_splits=5, shuffle=True))\n",
    "scores"
   ]
  },
  {
   "cell_type": "code",
   "execution_count": 40,
   "metadata": {
    "id": "Lc5EU1Uou07O"
   },
   "outputs": [],
   "source": [
    "def imprime_score(scores):\n",
    "    media = scores.mean() * 100\n",
    "    desvio = scores.std() * 100\n",
    "    print(\"Accuracy médio %.2f\" % media)\n",
    "    print(\"Intervalo [%.2f, %.2f]\" % (media - 2 * desvio, media + 2 * desvio))"
   ]
  },
  {
   "cell_type": "code",
   "execution_count": 41,
   "metadata": {
    "colab": {
     "base_uri": "https://localhost:8080/"
    },
    "id": "VDRWxxyevJiz",
    "outputId": "19aef67e-59bf-4450-cc25-3b0bb012cd40"
   },
   "outputs": [
    {
     "name": "stdout",
     "output_type": "stream",
     "text": [
      "Accuracy médio 78.67\n",
      "Intervalo [76.80, 80.54]\n"
     ]
    }
   ],
   "source": [
    "imprime_score(scores)"
   ]
  },
  {
   "cell_type": "code",
   "execution_count": 42,
   "metadata": {
    "colab": {
     "base_uri": "https://localhost:8080/"
    },
    "id": "7fUVmolpvKco",
    "outputId": "5a79a17b-8ae0-4542-e1d6-b410b49f91fb"
   },
   "outputs": [
    {
     "name": "stdout",
     "output_type": "stream",
     "text": [
      "DecisionTreeClassifier(max_depth=3, min_samples_leaf=32, min_samples_split=32)\n"
     ]
    }
   ],
   "source": [
    "melhor = busca.best_estimator_\n",
    "print(melhor)"
   ]
  },
  {
   "cell_type": "code",
   "execution_count": 43,
   "metadata": {
    "colab": {
     "base_uri": "https://localhost:8080/",
     "height": 598
    },
    "id": "eDBL3kBxvPPi",
    "outputId": "69364aef-9d4b-47ea-c8d9-d65b3a8c14f9"
   },
   "outputs": [
    {
     "data": {
      "image/svg+xml": [
       "<?xml version=\"1.0\" encoding=\"UTF-8\" standalone=\"no\"?>\r\n",
       "<!DOCTYPE svg PUBLIC \"-//W3C//DTD SVG 1.1//EN\"\r\n",
       " \"http://www.w3.org/Graphics/SVG/1.1/DTD/svg11.dtd\">\r\n",
       "<!-- Generated by graphviz version 2.38.0 (20140413.2041)\r\n",
       " -->\r\n",
       "<!-- Title: Tree Pages: 1 -->\r\n",
       "<svg width=\"899pt\" height=\"433pt\"\r\n",
       " viewBox=\"0.00 0.00 899.00 433.00\" xmlns=\"http://www.w3.org/2000/svg\" xmlns:xlink=\"http://www.w3.org/1999/xlink\">\r\n",
       "<g id=\"graph0\" class=\"graph\" transform=\"scale(1 1) rotate(0) translate(4 429)\">\r\n",
       "<title>Tree</title>\r\n",
       "<polygon fill=\"white\" stroke=\"none\" points=\"-4,4 -4,-429 895,-429 895,4 -4,4\"/>\r\n",
       "<!-- 0 -->\r\n",
       "<g id=\"node1\" class=\"node\"><title>0</title>\r\n",
       "<path fill=\"#c8e4f8\" stroke=\"black\" d=\"M395.5,-425C395.5,-425 272.5,-425 272.5,-425 266.5,-425 260.5,-419 260.5,-413 260.5,-413 260.5,-354 260.5,-354 260.5,-348 266.5,-342 272.5,-342 272.5,-342 395.5,-342 395.5,-342 401.5,-342 407.5,-348 407.5,-354 407.5,-354 407.5,-413 407.5,-413 407.5,-419 401.5,-425 395.5,-425\"/>\r\n",
       "<text text-anchor=\"middle\" x=\"334\" y=\"-409.8\" font-family=\"Helvetica,sans-Serif\" font-size=\"14.00\">preco &lt;= 59982.246</text>\r\n",
       "<text text-anchor=\"middle\" x=\"334\" y=\"-394.8\" font-family=\"Helvetica,sans-Serif\" font-size=\"14.00\">gini = 0.487</text>\r\n",
       "<text text-anchor=\"middle\" x=\"334\" y=\"-379.8\" font-family=\"Helvetica,sans-Serif\" font-size=\"14.00\">samples = 10000</text>\r\n",
       "<text text-anchor=\"middle\" x=\"334\" y=\"-364.8\" font-family=\"Helvetica,sans-Serif\" font-size=\"14.00\">value = [4200, 5800]</text>\r\n",
       "<text text-anchor=\"middle\" x=\"334\" y=\"-349.8\" font-family=\"Helvetica,sans-Serif\" font-size=\"14.00\">class = sim</text>\r\n",
       "</g>\r\n",
       "<!-- 1 -->\r\n",
       "<g id=\"node2\" class=\"node\"><title>1</title>\r\n",
       "<path fill=\"#52a9e8\" stroke=\"black\" d=\"M275.5,-306C275.5,-306 152.5,-306 152.5,-306 146.5,-306 140.5,-300 140.5,-294 140.5,-294 140.5,-235 140.5,-235 140.5,-229 146.5,-223 152.5,-223 152.5,-223 275.5,-223 275.5,-223 281.5,-223 287.5,-229 287.5,-235 287.5,-235 287.5,-294 287.5,-294 287.5,-300 281.5,-306 275.5,-306\"/>\r\n",
       "<text text-anchor=\"middle\" x=\"214\" y=\"-290.8\" font-family=\"Helvetica,sans-Serif\" font-size=\"14.00\">preco &lt;= 40083.385</text>\r\n",
       "<text text-anchor=\"middle\" x=\"214\" y=\"-275.8\" font-family=\"Helvetica,sans-Serif\" font-size=\"14.00\">gini = 0.198</text>\r\n",
       "<text text-anchor=\"middle\" x=\"214\" y=\"-260.8\" font-family=\"Helvetica,sans-Serif\" font-size=\"14.00\">samples = 4347</text>\r\n",
       "<text text-anchor=\"middle\" x=\"214\" y=\"-245.8\" font-family=\"Helvetica,sans-Serif\" font-size=\"14.00\">value = [484, 3863]</text>\r\n",
       "<text text-anchor=\"middle\" x=\"214\" y=\"-230.8\" font-family=\"Helvetica,sans-Serif\" font-size=\"14.00\">class = sim</text>\r\n",
       "</g>\r\n",
       "<!-- 0&#45;&gt;1 -->\r\n",
       "<g id=\"edge1\" class=\"edge\"><title>0&#45;&gt;1</title>\r\n",
       "<path fill=\"none\" stroke=\"black\" d=\"M292.367,-341.907C282.873,-332.651 272.7,-322.732 262.932,-313.209\"/>\r\n",
       "<polygon fill=\"black\" stroke=\"black\" points=\"265.163,-310.496 255.56,-306.021 260.276,-315.508 265.163,-310.496\"/>\r\n",
       "<text text-anchor=\"middle\" x=\"255.876\" y=\"-327.319\" font-family=\"Helvetica,sans-Serif\" font-size=\"14.00\">True</text>\r\n",
       "</g>\r\n",
       "<!-- 6 -->\r\n",
       "<g id=\"node7\" class=\"node\"><title>6</title>\r\n",
       "<path fill=\"#f3c3a0\" stroke=\"black\" d=\"M538,-306C538,-306 372,-306 372,-306 366,-306 360,-300 360,-294 360,-294 360,-235 360,-235 360,-229 366,-223 372,-223 372,-223 538,-223 538,-223 544,-223 550,-229 550,-235 550,-235 550,-294 550,-294 550,-300 544,-306 538,-306\"/>\r\n",
       "<text text-anchor=\"middle\" x=\"455\" y=\"-290.8\" font-family=\"Helvetica,sans-Serif\" font-size=\"14.00\">km_por_ano &lt;= 24124.006</text>\r\n",
       "<text text-anchor=\"middle\" x=\"455\" y=\"-275.8\" font-family=\"Helvetica,sans-Serif\" font-size=\"14.00\">gini = 0.45</text>\r\n",
       "<text text-anchor=\"middle\" x=\"455\" y=\"-260.8\" font-family=\"Helvetica,sans-Serif\" font-size=\"14.00\">samples = 5653</text>\r\n",
       "<text text-anchor=\"middle\" x=\"455\" y=\"-245.8\" font-family=\"Helvetica,sans-Serif\" font-size=\"14.00\">value = [3716, 1937]</text>\r\n",
       "<text text-anchor=\"middle\" x=\"455\" y=\"-230.8\" font-family=\"Helvetica,sans-Serif\" font-size=\"14.00\">class = não</text>\r\n",
       "</g>\r\n",
       "<!-- 0&#45;&gt;6 -->\r\n",
       "<g id=\"edge6\" class=\"edge\"><title>0&#45;&gt;6</title>\r\n",
       "<path fill=\"none\" stroke=\"black\" d=\"M375.98,-341.907C385.553,-332.651 395.811,-322.732 405.66,-313.209\"/>\r\n",
       "<polygon fill=\"black\" stroke=\"black\" points=\"408.338,-315.488 413.094,-306.021 403.472,-310.456 408.338,-315.488\"/>\r\n",
       "<text text-anchor=\"middle\" x=\"412.674\" y=\"-327.317\" font-family=\"Helvetica,sans-Serif\" font-size=\"14.00\">False</text>\r\n",
       "</g>\r\n",
       "<!-- 2 -->\r\n",
       "<g id=\"node3\" class=\"node\"><title>2</title>\r\n",
       "<path fill=\"#399de5\" stroke=\"black\" d=\"M110,-179.5C110,-179.5 12,-179.5 12,-179.5 6,-179.5 7.10543e-015,-173.5 7.10543e-015,-167.5 7.10543e-015,-167.5 7.10543e-015,-123.5 7.10543e-015,-123.5 7.10543e-015,-117.5 6,-111.5 12,-111.5 12,-111.5 110,-111.5 110,-111.5 116,-111.5 122,-117.5 122,-123.5 122,-123.5 122,-167.5 122,-167.5 122,-173.5 116,-179.5 110,-179.5\"/>\r\n",
       "<text text-anchor=\"middle\" x=\"61\" y=\"-164.3\" font-family=\"Helvetica,sans-Serif\" font-size=\"14.00\">gini = 0.0</text>\r\n",
       "<text text-anchor=\"middle\" x=\"61\" y=\"-149.3\" font-family=\"Helvetica,sans-Serif\" font-size=\"14.00\">samples = 1935</text>\r\n",
       "<text text-anchor=\"middle\" x=\"61\" y=\"-134.3\" font-family=\"Helvetica,sans-Serif\" font-size=\"14.00\">value = [0, 1935]</text>\r\n",
       "<text text-anchor=\"middle\" x=\"61\" y=\"-119.3\" font-family=\"Helvetica,sans-Serif\" font-size=\"14.00\">class = sim</text>\r\n",
       "</g>\r\n",
       "<!-- 1&#45;&gt;2 -->\r\n",
       "<g id=\"edge2\" class=\"edge\"><title>1&#45;&gt;2</title>\r\n",
       "<path fill=\"none\" stroke=\"black\" d=\"M160.917,-222.907C145.189,-210.88 127.999,-197.735 112.38,-185.791\"/>\r\n",
       "<polygon fill=\"black\" stroke=\"black\" points=\"114.442,-182.961 104.372,-179.667 110.19,-188.522 114.442,-182.961\"/>\r\n",
       "</g>\r\n",
       "<!-- 3 -->\r\n",
       "<g id=\"node4\" class=\"node\"><title>3</title>\r\n",
       "<path fill=\"#6bb6ec\" stroke=\"black\" d=\"M275.5,-187C275.5,-187 152.5,-187 152.5,-187 146.5,-187 140.5,-181 140.5,-175 140.5,-175 140.5,-116 140.5,-116 140.5,-110 146.5,-104 152.5,-104 152.5,-104 275.5,-104 275.5,-104 281.5,-104 287.5,-110 287.5,-116 287.5,-116 287.5,-175 287.5,-175 287.5,-181 281.5,-187 275.5,-187\"/>\r\n",
       "<text text-anchor=\"middle\" x=\"214\" y=\"-171.8\" font-family=\"Helvetica,sans-Serif\" font-size=\"14.00\">preco &lt;= 41083.029</text>\r\n",
       "<text text-anchor=\"middle\" x=\"214\" y=\"-156.8\" font-family=\"Helvetica,sans-Serif\" font-size=\"14.00\">gini = 0.321</text>\r\n",
       "<text text-anchor=\"middle\" x=\"214\" y=\"-141.8\" font-family=\"Helvetica,sans-Serif\" font-size=\"14.00\">samples = 2412</text>\r\n",
       "<text text-anchor=\"middle\" x=\"214\" y=\"-126.8\" font-family=\"Helvetica,sans-Serif\" font-size=\"14.00\">value = [484, 1928]</text>\r\n",
       "<text text-anchor=\"middle\" x=\"214\" y=\"-111.8\" font-family=\"Helvetica,sans-Serif\" font-size=\"14.00\">class = sim</text>\r\n",
       "</g>\r\n",
       "<!-- 1&#45;&gt;3 -->\r\n",
       "<g id=\"edge3\" class=\"edge\"><title>1&#45;&gt;3</title>\r\n",
       "<path fill=\"none\" stroke=\"black\" d=\"M214,-222.907C214,-214.649 214,-205.864 214,-197.302\"/>\r\n",
       "<polygon fill=\"black\" stroke=\"black\" points=\"217.5,-197.021 214,-187.021 210.5,-197.021 217.5,-197.021\"/>\r\n",
       "</g>\r\n",
       "<!-- 4 -->\r\n",
       "<g id=\"node5\" class=\"node\"><title>4</title>\r\n",
       "<path fill=\"#95cbf1\" stroke=\"black\" d=\"M114.5,-68C114.5,-68 25.5,-68 25.5,-68 19.5,-68 13.5,-62 13.5,-56 13.5,-56 13.5,-12 13.5,-12 13.5,-6 19.5,-0 25.5,-0 25.5,-0 114.5,-0 114.5,-0 120.5,-0 126.5,-6 126.5,-12 126.5,-12 126.5,-56 126.5,-56 126.5,-62 120.5,-68 114.5,-68\"/>\r\n",
       "<text text-anchor=\"middle\" x=\"70\" y=\"-52.8\" font-family=\"Helvetica,sans-Serif\" font-size=\"14.00\">gini = 0.434</text>\r\n",
       "<text text-anchor=\"middle\" x=\"70\" y=\"-37.8\" font-family=\"Helvetica,sans-Serif\" font-size=\"14.00\">samples = 110</text>\r\n",
       "<text text-anchor=\"middle\" x=\"70\" y=\"-22.8\" font-family=\"Helvetica,sans-Serif\" font-size=\"14.00\">value = [35, 75]</text>\r\n",
       "<text text-anchor=\"middle\" x=\"70\" y=\"-7.8\" font-family=\"Helvetica,sans-Serif\" font-size=\"14.00\">class = sim</text>\r\n",
       "</g>\r\n",
       "<!-- 3&#45;&gt;4 -->\r\n",
       "<g id=\"edge4\" class=\"edge\"><title>3&#45;&gt;4</title>\r\n",
       "<path fill=\"none\" stroke=\"black\" d=\"M160.38,-103.726C147.785,-94.1494 134.387,-83.9611 121.871,-74.4438\"/>\r\n",
       "<polygon fill=\"black\" stroke=\"black\" points=\"123.87,-71.5666 113.791,-68.2996 119.633,-77.1386 123.87,-71.5666\"/>\r\n",
       "</g>\r\n",
       "<!-- 5 -->\r\n",
       "<g id=\"node6\" class=\"node\"><title>5</title>\r\n",
       "<path fill=\"#69b5eb\" stroke=\"black\" d=\"M271,-68C271,-68 157,-68 157,-68 151,-68 145,-62 145,-56 145,-56 145,-12 145,-12 145,-6 151,-0 157,-0 157,-0 271,-0 271,-0 277,-0 283,-6 283,-12 283,-12 283,-56 283,-56 283,-62 277,-68 271,-68\"/>\r\n",
       "<text text-anchor=\"middle\" x=\"214\" y=\"-52.8\" font-family=\"Helvetica,sans-Serif\" font-size=\"14.00\">gini = 0.314</text>\r\n",
       "<text text-anchor=\"middle\" x=\"214\" y=\"-37.8\" font-family=\"Helvetica,sans-Serif\" font-size=\"14.00\">samples = 2302</text>\r\n",
       "<text text-anchor=\"middle\" x=\"214\" y=\"-22.8\" font-family=\"Helvetica,sans-Serif\" font-size=\"14.00\">value = [449, 1853]</text>\r\n",
       "<text text-anchor=\"middle\" x=\"214\" y=\"-7.8\" font-family=\"Helvetica,sans-Serif\" font-size=\"14.00\">class = sim</text>\r\n",
       "</g>\r\n",
       "<!-- 3&#45;&gt;5 -->\r\n",
       "<g id=\"edge5\" class=\"edge\"><title>3&#45;&gt;5</title>\r\n",
       "<path fill=\"none\" stroke=\"black\" d=\"M214,-103.726C214,-95.5175 214,-86.8595 214,-78.56\"/>\r\n",
       "<polygon fill=\"black\" stroke=\"black\" points=\"217.5,-78.2996 214,-68.2996 210.5,-78.2996 217.5,-78.2996\"/>\r\n",
       "</g>\r\n",
       "<!-- 7 -->\r\n",
       "<g id=\"node8\" class=\"node\"><title>7</title>\r\n",
       "<path fill=\"#fcefe5\" stroke=\"black\" d=\"M516,-187C516,-187 394,-187 394,-187 388,-187 382,-181 382,-175 382,-175 382,-116 382,-116 382,-110 388,-104 394,-104 394,-104 516,-104 516,-104 522,-104 528,-110 528,-116 528,-116 528,-175 528,-175 528,-181 522,-187 516,-187\"/>\r\n",
       "<text text-anchor=\"middle\" x=\"455\" y=\"-171.8\" font-family=\"Helvetica,sans-Serif\" font-size=\"14.00\">preco &lt;= 99974.41</text>\r\n",
       "<text text-anchor=\"middle\" x=\"455\" y=\"-156.8\" font-family=\"Helvetica,sans-Serif\" font-size=\"14.00\">gini = 0.498</text>\r\n",
       "<text text-anchor=\"middle\" x=\"455\" y=\"-141.8\" font-family=\"Helvetica,sans-Serif\" font-size=\"14.00\">samples = 3513</text>\r\n",
       "<text text-anchor=\"middle\" x=\"455\" y=\"-126.8\" font-family=\"Helvetica,sans-Serif\" font-size=\"14.00\">value = [1879, 1634]</text>\r\n",
       "<text text-anchor=\"middle\" x=\"455\" y=\"-111.8\" font-family=\"Helvetica,sans-Serif\" font-size=\"14.00\">class = não</text>\r\n",
       "</g>\r\n",
       "<!-- 6&#45;&gt;7 -->\r\n",
       "<g id=\"edge7\" class=\"edge\"><title>6&#45;&gt;7</title>\r\n",
       "<path fill=\"none\" stroke=\"black\" d=\"M455,-222.907C455,-214.649 455,-205.864 455,-197.302\"/>\r\n",
       "<polygon fill=\"black\" stroke=\"black\" points=\"458.5,-197.021 455,-187.021 451.5,-197.021 458.5,-197.021\"/>\r\n",
       "</g>\r\n",
       "<!-- 10 -->\r\n",
       "<g id=\"node11\" class=\"node\"><title>10</title>\r\n",
       "<path fill=\"#e9965a\" stroke=\"black\" d=\"M743.5,-187C743.5,-187 612.5,-187 612.5,-187 606.5,-187 600.5,-181 600.5,-175 600.5,-175 600.5,-116 600.5,-116 600.5,-110 606.5,-104 612.5,-104 612.5,-104 743.5,-104 743.5,-104 749.5,-104 755.5,-110 755.5,-116 755.5,-116 755.5,-175 755.5,-175 755.5,-181 749.5,-187 743.5,-187\"/>\r\n",
       "<text text-anchor=\"middle\" x=\"678\" y=\"-171.8\" font-family=\"Helvetica,sans-Serif\" font-size=\"14.00\">preco &lt;= 100076.957</text>\r\n",
       "<text text-anchor=\"middle\" x=\"678\" y=\"-156.8\" font-family=\"Helvetica,sans-Serif\" font-size=\"14.00\">gini = 0.243</text>\r\n",
       "<text text-anchor=\"middle\" x=\"678\" y=\"-141.8\" font-family=\"Helvetica,sans-Serif\" font-size=\"14.00\">samples = 2140</text>\r\n",
       "<text text-anchor=\"middle\" x=\"678\" y=\"-126.8\" font-family=\"Helvetica,sans-Serif\" font-size=\"14.00\">value = [1837, 303]</text>\r\n",
       "<text text-anchor=\"middle\" x=\"678\" y=\"-111.8\" font-family=\"Helvetica,sans-Serif\" font-size=\"14.00\">class = não</text>\r\n",
       "</g>\r\n",
       "<!-- 6&#45;&gt;10 -->\r\n",
       "<g id=\"edge10\" class=\"edge\"><title>6&#45;&gt;10</title>\r\n",
       "<path fill=\"none\" stroke=\"black\" d=\"M532.369,-222.907C551.568,-212.834 572.262,-201.977 591.854,-191.698\"/>\r\n",
       "<polygon fill=\"black\" stroke=\"black\" points=\"593.539,-194.766 600.768,-187.021 590.287,-188.568 593.539,-194.766\"/>\r\n",
       "</g>\r\n",
       "<!-- 8 -->\r\n",
       "<g id=\"node9\" class=\"node\"><title>8</title>\r\n",
       "<path fill=\"#f9e0ce\" stroke=\"black\" d=\"M435,-68C435,-68 313,-68 313,-68 307,-68 301,-62 301,-56 301,-56 301,-12 301,-12 301,-6 307,-0 313,-0 313,-0 435,-0 435,-0 441,-0 447,-6 447,-12 447,-12 447,-56 447,-56 447,-62 441,-68 435,-68\"/>\r\n",
       "<text text-anchor=\"middle\" x=\"374\" y=\"-52.8\" font-family=\"Helvetica,sans-Serif\" font-size=\"14.00\">gini = 0.49</text>\r\n",
       "<text text-anchor=\"middle\" x=\"374\" y=\"-37.8\" font-family=\"Helvetica,sans-Serif\" font-size=\"14.00\">samples = 2944</text>\r\n",
       "<text text-anchor=\"middle\" x=\"374\" y=\"-22.8\" font-family=\"Helvetica,sans-Serif\" font-size=\"14.00\">value = [1682, 1262]</text>\r\n",
       "<text text-anchor=\"middle\" x=\"374\" y=\"-7.8\" font-family=\"Helvetica,sans-Serif\" font-size=\"14.00\">class = não</text>\r\n",
       "</g>\r\n",
       "<!-- 7&#45;&gt;8 -->\r\n",
       "<g id=\"edge8\" class=\"edge\"><title>7&#45;&gt;8</title>\r\n",
       "<path fill=\"none\" stroke=\"black\" d=\"M424.839,-103.726C418.227,-94.7878 411.221,-85.3168 404.592,-76.3558\"/>\r\n",
       "<polygon fill=\"black\" stroke=\"black\" points=\"407.393,-74.2576 398.633,-68.2996 401.766,-78.4206 407.393,-74.2576\"/>\r\n",
       "</g>\r\n",
       "<!-- 9 -->\r\n",
       "<g id=\"node10\" class=\"node\"><title>9</title>\r\n",
       "<path fill=\"#a2d1f3\" stroke=\"black\" d=\"M583,-68C583,-68 477,-68 477,-68 471,-68 465,-62 465,-56 465,-56 465,-12 465,-12 465,-6 471,-0 477,-0 477,-0 583,-0 583,-0 589,-0 595,-6 595,-12 595,-12 595,-56 595,-56 595,-62 589,-68 583,-68\"/>\r\n",
       "<text text-anchor=\"middle\" x=\"530\" y=\"-52.8\" font-family=\"Helvetica,sans-Serif\" font-size=\"14.00\">gini = 0.453</text>\r\n",
       "<text text-anchor=\"middle\" x=\"530\" y=\"-37.8\" font-family=\"Helvetica,sans-Serif\" font-size=\"14.00\">samples = 569</text>\r\n",
       "<text text-anchor=\"middle\" x=\"530\" y=\"-22.8\" font-family=\"Helvetica,sans-Serif\" font-size=\"14.00\">value = [197, 372]</text>\r\n",
       "<text text-anchor=\"middle\" x=\"530\" y=\"-7.8\" font-family=\"Helvetica,sans-Serif\" font-size=\"14.00\">class = sim</text>\r\n",
       "</g>\r\n",
       "<!-- 7&#45;&gt;9 -->\r\n",
       "<g id=\"edge9\" class=\"edge\"><title>7&#45;&gt;9</title>\r\n",
       "<path fill=\"none\" stroke=\"black\" d=\"M482.927,-103.726C488.987,-94.879 495.404,-85.51 501.486,-76.6303\"/>\r\n",
       "<polygon fill=\"black\" stroke=\"black\" points=\"504.429,-78.5277 507.192,-68.2996 498.654,-74.5721 504.429,-78.5277\"/>\r\n",
       "</g>\r\n",
       "<!-- 11 -->\r\n",
       "<g id=\"node12\" class=\"node\"><title>11</title>\r\n",
       "<path fill=\"#e68742\" stroke=\"black\" d=\"M731,-68C731,-68 625,-68 625,-68 619,-68 613,-62 613,-56 613,-56 613,-12 613,-12 613,-6 619,-0 625,-0 625,-0 731,-0 731,-0 737,-0 743,-6 743,-12 743,-12 743,-56 743,-56 743,-62 737,-68 731,-68\"/>\r\n",
       "<text text-anchor=\"middle\" x=\"678\" y=\"-52.8\" font-family=\"Helvetica,sans-Serif\" font-size=\"14.00\">gini = 0.082</text>\r\n",
       "<text text-anchor=\"middle\" x=\"678\" y=\"-37.8\" font-family=\"Helvetica,sans-Serif\" font-size=\"14.00\">samples = 1809</text>\r\n",
       "<text text-anchor=\"middle\" x=\"678\" y=\"-22.8\" font-family=\"Helvetica,sans-Serif\" font-size=\"14.00\">value = [1732, 77]</text>\r\n",
       "<text text-anchor=\"middle\" x=\"678\" y=\"-7.8\" font-family=\"Helvetica,sans-Serif\" font-size=\"14.00\">class = não</text>\r\n",
       "</g>\r\n",
       "<!-- 10&#45;&gt;11 -->\r\n",
       "<g id=\"edge11\" class=\"edge\"><title>10&#45;&gt;11</title>\r\n",
       "<path fill=\"none\" stroke=\"black\" d=\"M678,-103.726C678,-95.5175 678,-86.8595 678,-78.56\"/>\r\n",
       "<polygon fill=\"black\" stroke=\"black\" points=\"681.5,-78.2996 678,-68.2996 674.5,-78.2996 681.5,-78.2996\"/>\r\n",
       "</g>\r\n",
       "<!-- 12 -->\r\n",
       "<g id=\"node13\" class=\"node\"><title>12</title>\r\n",
       "<path fill=\"#95cbf1\" stroke=\"black\" d=\"M879,-68C879,-68 773,-68 773,-68 767,-68 761,-62 761,-56 761,-56 761,-12 761,-12 761,-6 767,-0 773,-0 773,-0 879,-0 879,-0 885,-0 891,-6 891,-12 891,-12 891,-56 891,-56 891,-62 885,-68 879,-68\"/>\r\n",
       "<text text-anchor=\"middle\" x=\"826\" y=\"-52.8\" font-family=\"Helvetica,sans-Serif\" font-size=\"14.00\">gini = 0.433</text>\r\n",
       "<text text-anchor=\"middle\" x=\"826\" y=\"-37.8\" font-family=\"Helvetica,sans-Serif\" font-size=\"14.00\">samples = 331</text>\r\n",
       "<text text-anchor=\"middle\" x=\"826\" y=\"-22.8\" font-family=\"Helvetica,sans-Serif\" font-size=\"14.00\">value = [105, 226]</text>\r\n",
       "<text text-anchor=\"middle\" x=\"826\" y=\"-7.8\" font-family=\"Helvetica,sans-Serif\" font-size=\"14.00\">class = sim</text>\r\n",
       "</g>\r\n",
       "<!-- 10&#45;&gt;12 -->\r\n",
       "<g id=\"edge12\" class=\"edge\"><title>10&#45;&gt;12</title>\r\n",
       "<path fill=\"none\" stroke=\"black\" d=\"M733.11,-103.726C746.054,-94.1494 759.824,-83.9611 772.688,-74.4438\"/>\r\n",
       "<polygon fill=\"black\" stroke=\"black\" points=\"775.035,-77.061 780.992,-68.2996 770.872,-71.4337 775.035,-77.061\"/>\r\n",
       "</g>\r\n",
       "</g>\r\n",
       "</svg>\r\n"
      ],
      "text/plain": [
       "<graphviz.files.Source at 0x1d885fe6a00>"
      ]
     },
     "execution_count": 43,
     "metadata": {},
     "output_type": "execute_result"
    }
   ],
   "source": [
    "from sklearn.tree import export_graphviz\n",
    "import graphviz\n",
    "\n",
    "features = x_azar.columns\n",
    "dot_data = export_graphviz(melhor, out_file=None, filled=True, rounded=True,\n",
    "                          class_names=[\"não\",\"sim\"],\n",
    "                          feature_names = features)\n",
    "graph = graphviz.Source(dot_data)\n",
    "graph"
   ]
  }
 ],
 "metadata": {
  "colab": {
   "collapsed_sections": [],
   "name": "Machine_Learning_Otimizacao_de_Modelos_por_Hiperparametros.ipynb",
   "provenance": []
  },
  "kernelspec": {
   "display_name": "Python 3 (ipykernel)",
   "language": "python",
   "name": "python3"
  },
  "language_info": {
   "codemirror_mode": {
    "name": "ipython",
    "version": 3
   },
   "file_extension": ".py",
   "mimetype": "text/x-python",
   "name": "python",
   "nbconvert_exporter": "python",
   "pygments_lexer": "ipython3",
   "version": "3.9.7"
  }
 },
 "nbformat": 4,
 "nbformat_minor": 1
}
