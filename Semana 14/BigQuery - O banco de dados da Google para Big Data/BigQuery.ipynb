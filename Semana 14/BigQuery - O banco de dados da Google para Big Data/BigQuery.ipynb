{
 "cells": [
  {
   "cell_type": "markdown",
   "id": "b639fcdb",
   "metadata": {},
   "source": [
    "<img src = \"https://images2.imgbox.com/32/ac/wucGkuem_o.png\" width=\"300\">"
   ]
  },
  {
   "cell_type": "code",
   "execution_count": 68,
   "id": "70bce67a",
   "metadata": {},
   "outputs": [
    {
     "name": "stdout",
     "output_type": "stream",
     "text": [
      "Note: you may need to restart the kernel to use updated packages.\n"
     ]
    }
   ],
   "source": [
    "%pip install -q google-cloud-bigquery"
   ]
  },
  {
   "cell_type": "code",
   "execution_count": 2,
   "id": "efd45f60",
   "metadata": {},
   "outputs": [],
   "source": [
    "import os\n",
    "\n",
    "os.environ['GOOGLE_APPLICATION_CREDENTIALS'] = 'modified-ripsaw-343701.json'"
   ]
  },
  {
   "cell_type": "code",
   "execution_count": 4,
   "id": "e83bb2aa",
   "metadata": {},
   "outputs": [],
   "source": [
    "from google.cloud import bigquery"
   ]
  },
  {
   "cell_type": "code",
   "execution_count": 5,
   "id": "5e4e5f74",
   "metadata": {},
   "outputs": [],
   "source": [
    "bigquery_client = bigquery.Client(project='modified-ripsaw-343701')"
   ]
  },
  {
   "cell_type": "code",
   "execution_count": 9,
   "id": "d6ee58fc",
   "metadata": {},
   "outputs": [
    {
     "name": "stdout",
     "output_type": "stream",
     "text": [
      "Row(('female', 7.283333333333333), {'gender': 0, 'duration_minutes': 1})\n",
      "Row(('female', 5.75), {'gender': 0, 'duration_minutes': 1})\n",
      "Row(('female', 5.733333333333333), {'gender': 0, 'duration_minutes': 1})\n",
      "Row(('female', 3.8333333333333335), {'gender': 0, 'duration_minutes': 1})\n",
      "Row(('female', 8.066666666666666), {'gender': 0, 'duration_minutes': 1})\n"
     ]
    }
   ],
   "source": [
    "QUERY = \"\"\"\n",
    "\n",
    "SELECT citibike_trips.gender, \n",
    "       citibike_trips.tripduration/60 AS duration_minutes\n",
    "FROM   `bigquery-public-data`.new_york_citibike.citibike_trips citibike_trips\n",
    "WHERE  citibike_trips.tripduration < 600 \n",
    "AND    citibike_trips.gender = 'female'\n",
    "LIMIT  5;\n",
    "\n",
    "\"\"\"\n",
    "\n",
    "query_job = bigquery_client.query(QUERY)\n",
    "for row in query_job.result():  \n",
    "    print(row)"
   ]
  },
  {
   "cell_type": "code",
   "execution_count": 10,
   "id": "04378fd8",
   "metadata": {},
   "outputs": [
    {
     "name": "stdout",
     "output_type": "stream",
     "text": [
      "Row(('male', 432), {'gender': 0, 'tripduration': 1})\n",
      "Row(('female', 1186), {'gender': 0, 'tripduration': 1})\n",
      "Row(('male', 799), {'gender': 0, 'tripduration': 1})\n",
      "Row(('female', 238), {'gender': 0, 'tripduration': 1})\n",
      "Row(('male', 668), {'gender': 0, 'tripduration': 1})\n"
     ]
    }
   ],
   "source": [
    "QUERY = \"\"\"\n",
    "\n",
    "SELECT gender, \n",
    "       tripduration\n",
    "FROM  `bigquery-public-data`.new_york_citibike.citibike_trips\n",
    "LIMIT  5;\n",
    "\n",
    "\"\"\"\n",
    "\n",
    "query_job = bigquery_client.query(QUERY)\n",
    "for row in query_job.result():  \n",
    "    print(row)"
   ]
  },
  {
   "cell_type": "code",
   "execution_count": 11,
   "id": "542db2de",
   "metadata": {},
   "outputs": [
    {
     "name": "stdout",
     "output_type": "stream",
     "text": [
      "Row(('male', 7.2), {'gender': 0, 'duration_minutes': 1})\n",
      "Row(('female', 19.766666666666666), {'gender': 0, 'duration_minutes': 1})\n",
      "Row(('male', 13.316666666666666), {'gender': 0, 'duration_minutes': 1})\n",
      "Row(('female', 3.966666666666667), {'gender': 0, 'duration_minutes': 1})\n",
      "Row(('male', 11.133333333333333), {'gender': 0, 'duration_minutes': 1})\n"
     ]
    }
   ],
   "source": [
    "QUERY = \"\"\"\n",
    "\n",
    "SELECT citibike_trips.gender, \n",
    "       citibike_trips.tripduration/60 AS duration_minutes\n",
    "FROM  `bigquery-public-data`.new_york_citibike.citibike_trips citibike_trips\n",
    "LIMIT  5;\n",
    "\n",
    "\"\"\"\n",
    "\n",
    "query_job = bigquery_client.query(QUERY)\n",
    "for row in query_job.result():  \n",
    "    print(row)"
   ]
  },
  {
   "cell_type": "code",
   "execution_count": 12,
   "id": "da47cdec",
   "metadata": {},
   "outputs": [
    {
     "name": "stdout",
     "output_type": "stream",
     "text": [
      "Row(('male', 7.2), {'gender': 0, 'duration_minutes': 1})\n",
      "Row(('female', 3.966666666666667), {'gender': 0, 'duration_minutes': 1})\n",
      "Row(('male', 9.883333333333333), {'gender': 0, 'duration_minutes': 1})\n",
      "Row(('male', 6.9), {'gender': 0, 'duration_minutes': 1})\n",
      "Row(('male', 7.9), {'gender': 0, 'duration_minutes': 1})\n"
     ]
    }
   ],
   "source": [
    "QUERY = \"\"\"\n",
    "\n",
    "SELECT citibike_trips.gender, \n",
    "       citibike_trips.tripduration/60 AS duration_minutes\n",
    "FROM  `bigquery-public-data`.new_york_citibike.citibike_trips citibike_trips\n",
    "WHERE  citibike_trips.tripduration < 600\n",
    "LIMIT  5;\n",
    "\n",
    "\"\"\"\n",
    "\n",
    "query_job = bigquery_client.query(QUERY)\n",
    "for row in query_job.result():  \n",
    "    print(row)"
   ]
  },
  {
   "cell_type": "code",
   "execution_count": 13,
   "id": "d4d9853e",
   "metadata": {},
   "outputs": [
    {
     "name": "stdout",
     "output_type": "stream",
     "text": [
      "Row(('male', 7.2), {'gender': 0, 'duration_minutes': 1})\n",
      "Row(('male', 13.316666666666666), {'gender': 0, 'duration_minutes': 1})\n",
      "Row(('female', 3.966666666666667), {'gender': 0, 'duration_minutes': 1})\n",
      "Row(('male', 11.133333333333333), {'gender': 0, 'duration_minutes': 1})\n",
      "Row(('male', 9.883333333333333), {'gender': 0, 'duration_minutes': 1})\n"
     ]
    }
   ],
   "source": [
    "QUERY = \"\"\"\n",
    "\n",
    "SELECT  citibike_trips.gender, \n",
    "        citibike_trips.tripduration/60 AS duration_minutes\n",
    "FROM   `bigquery-public-data`.new_york_citibike.citibike_trips citibike_trips\n",
    "WHERE   (citibike_trips.tripduration < 600 \n",
    "        AND citibike_trips.gender = 'female') \n",
    "        OR  citibike_trips.gender = 'male'\n",
    "LIMIT   5;\n",
    "\n",
    "\"\"\"\n",
    "\n",
    "query_job = bigquery_client.query(QUERY)\n",
    "for row in query_job.result():  \n",
    "    print(row)"
   ]
  },
  {
   "cell_type": "code",
   "execution_count": 14,
   "id": "8856f0ff",
   "metadata": {},
   "outputs": [
    {
     "name": "stdout",
     "output_type": "stream",
     "text": [
      "Row(('male', 6.183333333333334), {'gender': 0, 'duration_minutes': 1})\n",
      "Row(('male', 22.166666666666668), {'gender': 0, 'duration_minutes': 1})\n",
      "Row(('male', 13.833333333333334), {'gender': 0, 'duration_minutes': 1})\n",
      "Row(('male', 9.25), {'gender': 0, 'duration_minutes': 1})\n",
      "Row(('male', 5.466666666666667), {'gender': 0, 'duration_minutes': 1})\n"
     ]
    }
   ],
   "source": [
    "QUERY = \"\"\"\n",
    "\n",
    "SELECT citibike_trips.gender, \n",
    "       citibike_trips.tripduration/60 AS duration_minutes\n",
    "FROM  `bigquery-public-data`.new_york_citibike.citibike_trips citibike_trips\n",
    "WHERE  (NOT (citibike_trips.tripduration < 600 \n",
    "       AND citibike_trips.gender = 'female') )\n",
    "       OR (citibike_trips.gender = 'male')\n",
    "LIMIT 5;\n",
    "\n",
    "\"\"\"\n",
    "\n",
    "query_job = bigquery_client.query(QUERY)\n",
    "for row in query_job.result():  \n",
    "    print(row)"
   ]
  },
  {
   "cell_type": "code",
   "execution_count": 15,
   "id": "43109c5e",
   "metadata": {},
   "outputs": [
    {
     "name": "stdout",
     "output_type": "stream",
     "text": [
      "Row(('male', 6.183333333333334), {'gender': 0, 'duration_minutes': 1})\n",
      "Row(('male', 9.25), {'gender': 0, 'duration_minutes': 1})\n",
      "Row(('male', 5.466666666666667), {'gender': 0, 'duration_minutes': 1})\n",
      "Row(('male', 3.7666666666666666), {'gender': 0, 'duration_minutes': 1})\n",
      "Row(('male', 1.7666666666666666), {'gender': 0, 'duration_minutes': 1})\n"
     ]
    }
   ],
   "source": [
    "QUERY = \"\"\"\n",
    "\n",
    "SELECT citibike_trips.gender, \n",
    "       citibike_trips.tripduration/60 AS duration_minutes\n",
    "FROM  `bigquery-public-data`.new_york_citibike.citibike_trips citibike_trips\n",
    "WHERE  (citibike_trips.tripduration/60) < 10\n",
    "LIMIT  5;\n",
    "\n",
    "\"\"\"\n",
    "\n",
    "query_job = bigquery_client.query(QUERY)\n",
    "for row in query_job.result():  \n",
    "    print(row)"
   ]
  },
  {
   "cell_type": "code",
   "execution_count": 16,
   "id": "10fee185",
   "metadata": {},
   "outputs": [
    {
     "name": "stdout",
     "output_type": "stream",
     "text": [
      "Row(('male', 6.183333333333334), {'gender': 0, 'duration_minutes': 1})\n",
      "Row(('male', 9.25), {'gender': 0, 'duration_minutes': 1})\n",
      "Row(('male', 5.466666666666667), {'gender': 0, 'duration_minutes': 1})\n",
      "Row(('male', 3.7666666666666666), {'gender': 0, 'duration_minutes': 1})\n",
      "Row(('male', 1.7666666666666666), {'gender': 0, 'duration_minutes': 1})\n"
     ]
    }
   ],
   "source": [
    "QUERY = \"\"\"\n",
    "\n",
    "SELECT * FROM (SELECT citibike_trips.gender, \n",
    "       citibike_trips.tripduration/60 AS duration_minutes\n",
    "FROM  `bigquery-public-data`.new_york_citibike.citibike_trips citibike_trips)\n",
    "WHERE  duration_minutes < 10\n",
    "LIMIT  5;\n",
    "\n",
    "\"\"\"\n",
    "\n",
    "query_job = bigquery_client.query(QUERY)\n",
    "for row in query_job.result():  \n",
    "    print(row)"
   ]
  },
  {
   "cell_type": "code",
   "execution_count": 17,
   "id": "0bac4a89",
   "metadata": {},
   "outputs": [
    {
     "name": "stdout",
     "output_type": "stream",
     "text": [
      "Row(('male', 7.2), {'gender': 0, 'duration_minutes': 1})\n",
      "Row(('female', 3.966666666666667), {'gender': 0, 'duration_minutes': 1})\n",
      "Row(('male', 9.883333333333333), {'gender': 0, 'duration_minutes': 1})\n",
      "Row(('male', 6.9), {'gender': 0, 'duration_minutes': 1})\n",
      "Row(('male', 7.9), {'gender': 0, 'duration_minutes': 1})\n"
     ]
    }
   ],
   "source": [
    "QUERY = \"\"\"\n",
    "\n",
    "WITH all_trips AS\n",
    "(\n",
    "       SELECT citibike_trips.gender,\n",
    "              citibike_trips.tripduration/60 AS duration_minutes\n",
    "       FROM   `bigquery-PUBLIC-data`.new_york_citibike.citibike_trips citibike_trips)\n",
    "SELECT *\n",
    "FROM   all_trips\n",
    "WHERE  duration_minutes < 10 limit 5;\n",
    "\n",
    "\"\"\"\n",
    "\n",
    "query_job = bigquery_client.query(QUERY)\n",
    "for row in query_job.result():  \n",
    "    print(row)"
   ]
  },
  {
   "cell_type": "code",
   "execution_count": 18,
   "id": "3e196b50",
   "metadata": {},
   "outputs": [
    {
     "name": "stdout",
     "output_type": "stream",
     "text": [
      "Row(('female', 250348.9), {'gender': 0, 'duration_minutes': 1})\n",
      "Row(('female', 226437.93333333332), {'gender': 0, 'duration_minutes': 1})\n",
      "Row(('female', 207988.71666666667), {'gender': 0, 'duration_minutes': 1})\n",
      "Row(('female', 159712.05), {'gender': 0, 'duration_minutes': 1})\n",
      "Row(('female', 154239.0), {'gender': 0, 'duration_minutes': 1})\n"
     ]
    }
   ],
   "source": [
    "QUERY = \"\"\"\n",
    "\n",
    "SELECT citibike_trips.gender, \n",
    "       citibike_trips.tripduration/60 AS duration_minutes\n",
    "FROM  `bigquery-public-data`.new_york_citibike.citibike_trips citibike_trips\n",
    "WHERE  citibike_trips.gender = 'female'\n",
    "ORDER  BY duration_minutes DESC\n",
    "LIMIT  5;\n",
    "\n",
    "\"\"\"\n",
    "\n",
    "query_job = bigquery_client.query(QUERY)\n",
    "for row in query_job.result():  \n",
    "    print(row)"
   ]
  },
  {
   "cell_type": "code",
   "execution_count": 19,
   "id": "dec4e2cc",
   "metadata": {},
   "outputs": [
    {
     "name": "stdout",
     "output_type": "stream",
     "text": [
      "Row(('unknown', 31.439523023254203), {'gender': 0, 'duration_minutes': 1})\n",
      "Row(('female', 15.97747214880521), {'gender': 0, 'duration_minutes': 1})\n",
      "Row(('male', 13.41555317204389), {'gender': 0, 'duration_minutes': 1})\n",
      "Row(('', None), {'gender': 0, 'duration_minutes': 1})\n"
     ]
    }
   ],
   "source": [
    "QUERY = \"\"\"\n",
    "\n",
    "SELECT citibike_trips.gender, \n",
    "       AVG(citibike_trips.tripduration/60) AS duration_minutes\n",
    "FROM   `bigquery-public-data`.new_york_citibike.citibike_trips citibike_trips\n",
    "GROUP  BY citibike_trips.gender\n",
    "ORDER  BY duration_minutes DESC;\n",
    "\n",
    "\"\"\"\n",
    "\n",
    "query_job = bigquery_client.query(QUERY)\n",
    "for row in query_job.result():  \n",
    "    print(row)"
   ]
  },
  {
   "cell_type": "code",
   "execution_count": 20,
   "id": "b2ff4aef",
   "metadata": {},
   "outputs": [
    {
     "name": "stdout",
     "output_type": "stream",
     "text": [
      "Row(('male', 325167.48333333334, 1.0, 477751822.0500075), {'gender': 0, 'duration_minutes_MAX': 1, 'duration_minutes_MIN': 2, 'duration_minutes_SUM': 3})\n",
      "Row(('female', 250348.9, 1.0, 181766305.88333482), {'gender': 0, 'duration_minutes_MAX': 1, 'duration_minutes_MIN': 2, 'duration_minutes_SUM': 3})\n",
      "Row(('unknown', 195826.26666666666, 1.0, 192426292.3333333), {'gender': 0, 'duration_minutes_MAX': 1, 'duration_minutes_MIN': 2, 'duration_minutes_SUM': 3})\n",
      "Row(('', None, None, None), {'gender': 0, 'duration_minutes_MAX': 1, 'duration_minutes_MIN': 2, 'duration_minutes_SUM': 3})\n"
     ]
    }
   ],
   "source": [
    "QUERY = \"\"\"\n",
    "\n",
    "SELECT citibike_trips.gender, \n",
    "       MAX(citibike_trips.tripduration/60) AS duration_minutes_MAX,\n",
    "       MIN(citibike_trips.tripduration/60) AS duration_minutes_MIN, \n",
    "       SUM(citibike_trips.tripduration/60) AS duration_minutes_SUM\n",
    "FROM   `bigquery-public-data`.new_york_citibike.citibike_trips citibike_trips\n",
    "GROUP  BY citibike_trips.gender;\n",
    "\n",
    "\"\"\"\n",
    "\n",
    "query_job = bigquery_client.query(QUERY)\n",
    "for row in query_job.result():  \n",
    "    print(row)"
   ]
  },
  {
   "cell_type": "code",
   "execution_count": 21,
   "id": "ce63054d",
   "metadata": {},
   "outputs": [
    {
     "name": "stdout",
     "output_type": "stream",
     "text": [
      "Row(('unknown', 6120522, 31.439523023254203), {'gender': 0, 'Rides': 1, 'duration_minutes': 2})\n",
      "Row(('female', 11376412, 15.977472148805207), {'gender': 0, 'Rides': 1, 'duration_minutes': 2})\n",
      "Row(('male', 35611787, 13.415553172043886), {'gender': 0, 'Rides': 1, 'duration_minutes': 2})\n",
      "Row(('', 5828994, None), {'gender': 0, 'Rides': 1, 'duration_minutes': 2})\n"
     ]
    }
   ],
   "source": [
    "QUERY = \"\"\"\n",
    "\n",
    "SELECT citibike_trips.gender, Count(*) AS Rides, \n",
    "       AVG(citibike_trips.tripduration/60) AS duration_minutes\n",
    "FROM   `bigquery-public-data`.new_york_citibike.citibike_trips citibike_trips\n",
    "GROUP  BY citibike_trips.gender\n",
    "ORDER  BY duration_minutes DESC;\n",
    "\n",
    "\"\"\"\n",
    "\n",
    "query_job = bigquery_client.query(QUERY)\n",
    "for row in query_job.result():  \n",
    "    print(row)"
   ]
  },
  {
   "cell_type": "code",
   "execution_count": 22,
   "id": "269cf42b",
   "metadata": {},
   "outputs": [
    {
     "name": "stdout",
     "output_type": "stream",
     "text": [
      "Row((58937715,), {'f0_': 0})\n"
     ]
    }
   ],
   "source": [
    "QUERY = \"\"\"\n",
    "\n",
    "SELECT COUNT(*) \n",
    "FROM   `bigquery-public-data`.new_york_citibike.citibike_trips citibike_trips;\n",
    "\n",
    "\"\"\"\n",
    "\n",
    "query_job = bigquery_client.query(QUERY)\n",
    "for row in query_job.result():  \n",
    "    print(row)"
   ]
  },
  {
   "cell_type": "code",
   "execution_count": 23,
   "id": "190853cf",
   "metadata": {},
   "outputs": [
    {
     "name": "stdout",
     "output_type": "stream",
     "text": [
      "Row(('male', 13.415553172043886), {'gender': 0, 'duration_minutes_AVG': 1})\n",
      "Row(('female', 15.977472148805207), {'gender': 0, 'duration_minutes_AVG': 1})\n"
     ]
    }
   ],
   "source": [
    "QUERY = \"\"\"\n",
    "\n",
    "SELECT  citibike_trips.gender, \n",
    "        AVG(citibike_trips.tripduration/60) AS duration_minutes_AVG\n",
    "FROM   `bigquery-public-data`.new_york_citibike.citibike_trips citibike_trips\n",
    "GROUP   BY citibike_trips.gender\n",
    "HAVING  AVG(citibike_trips.tripduration/60) <= 18;\n",
    "\n",
    "\"\"\"\n",
    "\n",
    "query_job = bigquery_client.query(QUERY)\n",
    "for row in query_job.result():  \n",
    "    print(row)"
   ]
  },
  {
   "cell_type": "code",
   "execution_count": 24,
   "id": "3c966bc9",
   "metadata": {},
   "outputs": [
    {
     "name": "stdout",
     "output_type": "stream",
     "text": [
      "Row(('female', 15.97747214880521), {'gender': 0, 'duration_minutes_AVG': 1})\n",
      "Row(('male', 13.415553172043884), {'gender': 0, 'duration_minutes_AVG': 1})\n"
     ]
    }
   ],
   "source": [
    "QUERY = \"\"\"\n",
    "\n",
    "SELECT citibike_trips.gender, \n",
    "       AVG(citibike_trips.tripduration/60) AS duration_minutes_AVG\n",
    "FROM   `bigquery-public-data`.new_york_citibike.citibike_trips citibike_trips\n",
    "GROUP  BY citibike_trips.gender\n",
    "HAVING duration_minutes_AVG <= 18;\n",
    "\n",
    "\"\"\"\n",
    "\n",
    "query_job = bigquery_client.query(QUERY)\n",
    "for row in query_job.result():  \n",
    "    print(row)"
   ]
  },
  {
   "cell_type": "code",
   "execution_count": 25,
   "id": "a984adb0",
   "metadata": {},
   "outputs": [
    {
     "name": "stdout",
     "output_type": "stream",
     "text": [
      "Row(('male',), {'gender': 0})\n",
      "Row(('female',), {'gender': 0})\n",
      "Row(('unknown',), {'gender': 0})\n",
      "Row(('',), {'gender': 0})\n"
     ]
    }
   ],
   "source": [
    "QUERY = \"\"\"\n",
    "\n",
    "SELECT DISTINCT citibike_trips.gender \n",
    "FROM   `bigquery-public-data`.new_york_citibike.citibike_trips citibike_trips;\n",
    "\n",
    "\"\"\"\n",
    "\n",
    "query_job = bigquery_client.query(QUERY)\n",
    "for row in query_job.result():  \n",
    "    print(row)"
   ]
  },
  {
   "cell_type": "code",
   "execution_count": 26,
   "id": "cd35009b",
   "metadata": {},
   "outputs": [
    {
     "name": "stdout",
     "output_type": "stream",
     "text": [
      "Row((None, None, ''), {'bikeid': 0, 'tripduration': 1, 'gender': 2})\n",
      "Row((None, None, ''), {'bikeid': 0, 'tripduration': 1, 'gender': 2})\n",
      "Row((None, None, ''), {'bikeid': 0, 'tripduration': 1, 'gender': 2})\n",
      "Row((None, None, ''), {'bikeid': 0, 'tripduration': 1, 'gender': 2})\n",
      "Row((None, None, ''), {'bikeid': 0, 'tripduration': 1, 'gender': 2})\n",
      "Row((None, None, ''), {'bikeid': 0, 'tripduration': 1, 'gender': 2})\n",
      "Row((None, None, ''), {'bikeid': 0, 'tripduration': 1, 'gender': 2})\n",
      "Row((None, None, ''), {'bikeid': 0, 'tripduration': 1, 'gender': 2})\n",
      "Row((None, None, ''), {'bikeid': 0, 'tripduration': 1, 'gender': 2})\n",
      "Row((None, None, ''), {'bikeid': 0, 'tripduration': 1, 'gender': 2})\n",
      "Row((None, None, ''), {'bikeid': 0, 'tripduration': 1, 'gender': 2})\n",
      "Row((None, None, ''), {'bikeid': 0, 'tripduration': 1, 'gender': 2})\n",
      "Row((None, None, ''), {'bikeid': 0, 'tripduration': 1, 'gender': 2})\n",
      "Row((None, None, ''), {'bikeid': 0, 'tripduration': 1, 'gender': 2})\n",
      "Row((None, None, ''), {'bikeid': 0, 'tripduration': 1, 'gender': 2})\n",
      "Row((None, None, ''), {'bikeid': 0, 'tripduration': 1, 'gender': 2})\n",
      "Row((None, None, ''), {'bikeid': 0, 'tripduration': 1, 'gender': 2})\n",
      "Row((None, None, ''), {'bikeid': 0, 'tripduration': 1, 'gender': 2})\n",
      "Row((None, None, ''), {'bikeid': 0, 'tripduration': 1, 'gender': 2})\n",
      "Row((None, None, ''), {'bikeid': 0, 'tripduration': 1, 'gender': 2})\n",
      "Row((None, None, ''), {'bikeid': 0, 'tripduration': 1, 'gender': 2})\n",
      "Row((None, None, ''), {'bikeid': 0, 'tripduration': 1, 'gender': 2})\n",
      "Row((None, None, ''), {'bikeid': 0, 'tripduration': 1, 'gender': 2})\n",
      "Row((None, None, ''), {'bikeid': 0, 'tripduration': 1, 'gender': 2})\n",
      "Row((None, None, ''), {'bikeid': 0, 'tripduration': 1, 'gender': 2})\n",
      "Row((None, None, ''), {'bikeid': 0, 'tripduration': 1, 'gender': 2})\n",
      "Row((None, None, ''), {'bikeid': 0, 'tripduration': 1, 'gender': 2})\n",
      "Row((None, None, ''), {'bikeid': 0, 'tripduration': 1, 'gender': 2})\n",
      "Row((None, None, ''), {'bikeid': 0, 'tripduration': 1, 'gender': 2})\n",
      "Row((None, None, ''), {'bikeid': 0, 'tripduration': 1, 'gender': 2})\n",
      "Row((None, None, ''), {'bikeid': 0, 'tripduration': 1, 'gender': 2})\n",
      "Row((None, None, ''), {'bikeid': 0, 'tripduration': 1, 'gender': 2})\n",
      "Row((None, None, ''), {'bikeid': 0, 'tripduration': 1, 'gender': 2})\n",
      "Row((None, None, ''), {'bikeid': 0, 'tripduration': 1, 'gender': 2})\n",
      "Row((None, None, ''), {'bikeid': 0, 'tripduration': 1, 'gender': 2})\n",
      "Row((None, None, ''), {'bikeid': 0, 'tripduration': 1, 'gender': 2})\n",
      "Row((None, None, ''), {'bikeid': 0, 'tripduration': 1, 'gender': 2})\n",
      "Row((None, None, ''), {'bikeid': 0, 'tripduration': 1, 'gender': 2})\n",
      "Row((None, None, ''), {'bikeid': 0, 'tripduration': 1, 'gender': 2})\n",
      "Row((None, None, ''), {'bikeid': 0, 'tripduration': 1, 'gender': 2})\n",
      "Row((None, None, ''), {'bikeid': 0, 'tripduration': 1, 'gender': 2})\n",
      "Row((None, None, ''), {'bikeid': 0, 'tripduration': 1, 'gender': 2})\n",
      "Row((None, None, ''), {'bikeid': 0, 'tripduration': 1, 'gender': 2})\n",
      "Row((None, None, ''), {'bikeid': 0, 'tripduration': 1, 'gender': 2})\n",
      "Row((None, None, ''), {'bikeid': 0, 'tripduration': 1, 'gender': 2})\n",
      "Row((None, None, ''), {'bikeid': 0, 'tripduration': 1, 'gender': 2})\n",
      "Row((None, None, ''), {'bikeid': 0, 'tripduration': 1, 'gender': 2})\n",
      "Row((None, None, ''), {'bikeid': 0, 'tripduration': 1, 'gender': 2})\n",
      "Row((None, None, ''), {'bikeid': 0, 'tripduration': 1, 'gender': 2})\n",
      "Row((None, None, ''), {'bikeid': 0, 'tripduration': 1, 'gender': 2})\n",
      "Row((None, None, ''), {'bikeid': 0, 'tripduration': 1, 'gender': 2})\n",
      "Row((None, None, ''), {'bikeid': 0, 'tripduration': 1, 'gender': 2})\n",
      "Row((None, None, ''), {'bikeid': 0, 'tripduration': 1, 'gender': 2})\n",
      "Row((None, None, ''), {'bikeid': 0, 'tripduration': 1, 'gender': 2})\n",
      "Row((None, None, ''), {'bikeid': 0, 'tripduration': 1, 'gender': 2})\n",
      "Row((None, None, ''), {'bikeid': 0, 'tripduration': 1, 'gender': 2})\n",
      "Row((None, None, ''), {'bikeid': 0, 'tripduration': 1, 'gender': 2})\n",
      "Row((None, None, ''), {'bikeid': 0, 'tripduration': 1, 'gender': 2})\n",
      "Row((None, None, ''), {'bikeid': 0, 'tripduration': 1, 'gender': 2})\n",
      "Row((None, None, ''), {'bikeid': 0, 'tripduration': 1, 'gender': 2})\n",
      "Row((None, None, ''), {'bikeid': 0, 'tripduration': 1, 'gender': 2})\n",
      "Row((None, None, ''), {'bikeid': 0, 'tripduration': 1, 'gender': 2})\n",
      "Row((None, None, ''), {'bikeid': 0, 'tripduration': 1, 'gender': 2})\n",
      "Row((None, None, ''), {'bikeid': 0, 'tripduration': 1, 'gender': 2})\n",
      "Row((None, None, ''), {'bikeid': 0, 'tripduration': 1, 'gender': 2})\n",
      "Row((None, None, ''), {'bikeid': 0, 'tripduration': 1, 'gender': 2})\n",
      "Row((None, None, ''), {'bikeid': 0, 'tripduration': 1, 'gender': 2})\n",
      "Row((None, None, ''), {'bikeid': 0, 'tripduration': 1, 'gender': 2})\n",
      "Row((None, None, ''), {'bikeid': 0, 'tripduration': 1, 'gender': 2})\n",
      "Row((None, None, ''), {'bikeid': 0, 'tripduration': 1, 'gender': 2})\n",
      "Row((None, None, ''), {'bikeid': 0, 'tripduration': 1, 'gender': 2})\n",
      "Row((None, None, ''), {'bikeid': 0, 'tripduration': 1, 'gender': 2})\n",
      "Row((None, None, ''), {'bikeid': 0, 'tripduration': 1, 'gender': 2})\n",
      "Row((None, None, ''), {'bikeid': 0, 'tripduration': 1, 'gender': 2})\n",
      "Row((None, None, ''), {'bikeid': 0, 'tripduration': 1, 'gender': 2})\n",
      "Row((None, None, ''), {'bikeid': 0, 'tripduration': 1, 'gender': 2})\n",
      "Row((None, None, ''), {'bikeid': 0, 'tripduration': 1, 'gender': 2})\n",
      "Row((None, None, ''), {'bikeid': 0, 'tripduration': 1, 'gender': 2})\n",
      "Row((None, None, ''), {'bikeid': 0, 'tripduration': 1, 'gender': 2})\n",
      "Row((None, None, ''), {'bikeid': 0, 'tripduration': 1, 'gender': 2})\n",
      "Row((None, None, ''), {'bikeid': 0, 'tripduration': 1, 'gender': 2})\n",
      "Row((None, None, ''), {'bikeid': 0, 'tripduration': 1, 'gender': 2})\n",
      "Row((None, None, ''), {'bikeid': 0, 'tripduration': 1, 'gender': 2})\n",
      "Row((None, None, ''), {'bikeid': 0, 'tripduration': 1, 'gender': 2})\n",
      "Row((None, None, ''), {'bikeid': 0, 'tripduration': 1, 'gender': 2})\n",
      "Row((None, None, ''), {'bikeid': 0, 'tripduration': 1, 'gender': 2})\n",
      "Row((None, None, ''), {'bikeid': 0, 'tripduration': 1, 'gender': 2})\n",
      "Row((None, None, ''), {'bikeid': 0, 'tripduration': 1, 'gender': 2})\n",
      "Row((None, None, ''), {'bikeid': 0, 'tripduration': 1, 'gender': 2})\n",
      "Row((None, None, ''), {'bikeid': 0, 'tripduration': 1, 'gender': 2})\n",
      "Row((None, None, ''), {'bikeid': 0, 'tripduration': 1, 'gender': 2})\n",
      "Row((None, None, ''), {'bikeid': 0, 'tripduration': 1, 'gender': 2})\n",
      "Row((None, None, ''), {'bikeid': 0, 'tripduration': 1, 'gender': 2})\n",
      "Row((None, None, ''), {'bikeid': 0, 'tripduration': 1, 'gender': 2})\n",
      "Row((None, None, ''), {'bikeid': 0, 'tripduration': 1, 'gender': 2})\n",
      "Row((None, None, ''), {'bikeid': 0, 'tripduration': 1, 'gender': 2})\n",
      "Row((None, None, ''), {'bikeid': 0, 'tripduration': 1, 'gender': 2})\n",
      "Row((None, None, ''), {'bikeid': 0, 'tripduration': 1, 'gender': 2})\n",
      "Row((None, None, ''), {'bikeid': 0, 'tripduration': 1, 'gender': 2})\n",
      "Row((None, None, ''), {'bikeid': 0, 'tripduration': 1, 'gender': 2})\n"
     ]
    }
   ],
   "source": [
    "QUERY = \"\"\"\n",
    "\n",
    "SELECT citibike_trips.bikeid, \n",
    "       citibike_trips.tripduration, \n",
    "       citibike_trips.gender \n",
    "FROM   `bigquery-public-data`.new_york_citibike.citibike_trips citibike_trips\n",
    "WHERE  gender = \"\"\n",
    "LIMIT  100;\n",
    "\n",
    "\"\"\"\n",
    "\n",
    "query_job = bigquery_client.query(QUERY)\n",
    "for row in query_job.result():  \n",
    "    print(row)"
   ]
  },
  {
   "cell_type": "code",
   "execution_count": 27,
   "id": "89f20fe2",
   "metadata": {},
   "outputs": [
    {
     "name": "stdout",
     "output_type": "stream",
     "text": [
      "Row(('male',), {'gender': 0})\n",
      "Row(('female',), {'gender': 0})\n",
      "Row(('unknown',), {'gender': 0})\n"
     ]
    }
   ],
   "source": [
    "QUERY = \"\"\"\n",
    "\n",
    "SELECT DISTINCT citibike_trips.gender \n",
    "FROM   `bigquery-public-data`.new_york_citibike.citibike_trips citibike_trips\n",
    "WHERE  citibike_trips.bikeid IS NOT NULL;\n",
    "\n",
    "\"\"\"\n",
    "\n",
    "query_job = bigquery_client.query(QUERY)\n",
    "for row in query_job.result():  \n",
    "    print(row)"
   ]
  },
  {
   "cell_type": "code",
   "execution_count": 28,
   "id": "008fc8a9",
   "metadata": {},
   "outputs": [
    {
     "name": "stdout",
     "output_type": "stream",
     "text": [
      "Row(('female', 'Subscriber'), {'gender': 0, 'usertype': 1})\n",
      "Row(('male', 'Subscriber'), {'gender': 0, 'usertype': 1})\n",
      "Row(('unknown', 'Subscriber'), {'gender': 0, 'usertype': 1})\n",
      "Row(('male', 'Customer'), {'gender': 0, 'usertype': 1})\n",
      "Row(('female', 'Customer'), {'gender': 0, 'usertype': 1})\n",
      "Row(('unknown', 'Customer'), {'gender': 0, 'usertype': 1})\n"
     ]
    }
   ],
   "source": [
    "QUERY = \"\"\"\n",
    "\n",
    "SELECT DISTINCT citibike_trips.gender, \n",
    "       citibike_trips.usertype \n",
    "FROM   `bigquery-public-data`.new_york_citibike.citibike_trips citibike_trips\n",
    "WHERE  citibike_trips.bikeid IS NOT NULL;\n",
    "\n",
    "\"\"\"\n",
    "\n",
    "query_job = bigquery_client.query(QUERY)\n",
    "for row in query_job.result():  \n",
    "    print(row)"
   ]
  },
  {
   "cell_type": "code",
   "execution_count": 29,
   "id": "43f8c08f",
   "metadata": {},
   "outputs": [
    {
     "name": "stdout",
     "output_type": "stream",
     "text": [
      "Row(('male', 2017, 9306602), {'gender': 0, 'year': 1, 'numtrips': 2})\n",
      "Row(('female', 2017, 3236735), {'gender': 0, 'year': 1, 'numtrips': 2})\n",
      "Row(('male', 2018, 3955871), {'gender': 0, 'year': 1, 'numtrips': 2})\n",
      "Row(('female', 2018, 1260893), {'gender': 0, 'year': 1, 'numtrips': 2})\n"
     ]
    }
   ],
   "source": [
    "QUERY = \"\"\"\n",
    "\n",
    "SELECT gender, \n",
    "       EXTRACT(YEAR FROM starttime) AS year, \n",
    "       COUNT(1) AS numtrips\n",
    "FROM   `bigquery-public-data`.new_york_citibike.citibike_trips citibike_trips\n",
    "WHERE  gender != 'unknown' AND starttime IS NOT NULL\n",
    "GROUP  BY gender, year\n",
    "HAVING year > 2016;\n",
    "\n",
    "\"\"\"\n",
    "\n",
    "query_job = bigquery_client.query(QUERY)\n",
    "for row in query_job.result():  \n",
    "    print(row)"
   ]
  },
  {
   "cell_type": "code",
   "execution_count": 30,
   "id": "47b1eb3f",
   "metadata": {},
   "outputs": [
    {
     "name": "stdout",
     "output_type": "stream",
     "text": [
      "Row(('female', [3236735, 1260893]), {'gender': 0, 'f0_': 1})\n",
      "Row(('male', [9306602, 3955871]), {'gender': 0, 'f0_': 1})\n"
     ]
    }
   ],
   "source": [
    "QUERY = \"\"\"\n",
    "\n",
    "SELECT gender, \n",
    "       ARRAY_AGG (numtrips ORDER BY year) \n",
    "FROM   (SELECT gender, \n",
    "       EXTRACT(YEAR FROM starttime) AS year, \n",
    "       COUNT(1) AS numtrips\n",
    "FROM  `bigquery-public-data`.new_york_citibike.citibike_trips citibike_trips\n",
    "WHERE  gender != 'unknown' AND starttime IS NOT NULL\n",
    "GROUP  BY gender, year\n",
    "HAVING year > 2016)\n",
    "GROUP  BY gender;\n",
    "\n",
    "\"\"\"\n",
    "\n",
    "query_job = bigquery_client.query(QUERY)\n",
    "for row in query_job.result():  \n",
    "    print(row)"
   ]
  },
  {
   "cell_type": "code",
   "execution_count": 31,
   "id": "1c8c2696",
   "metadata": {},
   "outputs": [
    {
     "name": "stdout",
     "output_type": "stream",
     "text": [
      "Row(([{'gender': 'MALE', 'numtrips': [9306602, 3955871]}, {'gender': 'FEMALE', 'numtrips': [3236735, 1260893]}],), {'bikerides': 0})\n"
     ]
    }
   ],
   "source": [
    "QUERY = \"\"\"\n",
    "\n",
    "SELECT [\n",
    "STRUCT('MALE' AS gender, [9306602, 3955871] AS numtrips),\n",
    "STRUCT('FEMALE' AS gender, [3236735, 1260893] AS numtrips)\n",
    "] AS bikerides;\n",
    "\n",
    "\"\"\"\n",
    "\n",
    "query_job = bigquery_client.query(QUERY)\n",
    "for row in query_job.result():  \n",
    "    print(row)"
   ]
  },
  {
   "cell_type": "code",
   "execution_count": 32,
   "id": "455f1075",
   "metadata": {},
   "outputs": [
    {
     "name": "stdout",
     "output_type": "stream",
     "text": [
      "Row(([{'_field_1': 'MALE', '_field_2': [9306602, 3955871]}, {'_field_1': 'FEMALE', '_field_2': [3236735, 1260893]}],), {'f0_': 0})\n"
     ]
    }
   ],
   "source": [
    "QUERY = \"\"\"\n",
    "\n",
    "SELECT [\n",
    "STRUCT('MALE' , [9306602, 3955871]),\n",
    "STRUCT('FEMALE', [3236735, 1260893] )\n",
    "];\n",
    "\n",
    "\"\"\"\n",
    "\n",
    "query_job = bigquery_client.query(QUERY)\n",
    "for row in query_job.result():  \n",
    "    print(row)"
   ]
  },
  {
   "cell_type": "code",
   "execution_count": 33,
   "id": "6ed0c571",
   "metadata": {},
   "outputs": [
    {
     "name": "stdout",
     "output_type": "stream",
     "text": [
      "Row((2,), {'f0_': 0})\n"
     ]
    }
   ],
   "source": [
    "QUERY = \"\"\"\n",
    "\n",
    "SELECT ARRAY_LENGTH(bikerides) FROM\n",
    "(SELECT [\n",
    "STRUCT('MALE' AS gender, [9306602, 3955871] AS numtrips),\n",
    "STRUCT('FEMALE' AS gender, [3236735, 1260893] AS numtrips)\n",
    "] AS bikerides);\n",
    "\n",
    "\"\"\"\n",
    "\n",
    "query_job = bigquery_client.query(QUERY)\n",
    "for row in query_job.result():  \n",
    "    print(row)"
   ]
  },
  {
   "cell_type": "code",
   "execution_count": 34,
   "id": "c5917abb",
   "metadata": {},
   "outputs": [
    {
     "name": "stdout",
     "output_type": "stream",
     "text": [
      "Row((2, 'MALE'), {'f0_': 0, 'fist_gender': 1})\n"
     ]
    }
   ],
   "source": [
    "QUERY = \"\"\"\n",
    "\n",
    "SELECT ARRAY_LENGTH(bikerides), bikerides[OFFSET(0)].gender AS fist_gender FROM\n",
    "(SELECT [\n",
    "STRUCT('MALE' AS gender, [9306602, 3955871] AS numtrips),\n",
    "STRUCT('FEMALE' AS gender, [3236735, 1260893] AS numtrips)\n",
    "] AS bikerides);\n",
    "\n",
    "\"\"\"\n",
    "\n",
    "query_job = bigquery_client.query(QUERY)\n",
    "for row in query_job.result():  \n",
    "    print(row)"
   ]
  },
  {
   "cell_type": "code",
   "execution_count": 35,
   "id": "e2127e7a",
   "metadata": {},
   "outputs": [
    {
     "name": "stdout",
     "output_type": "stream",
     "text": [
      "Row((2, 'FEMALE'), {'f0_': 0, 'fist_gender': 1})\n"
     ]
    }
   ],
   "source": [
    "QUERY = \"\"\"\n",
    "\n",
    "SELECT ARRAY_LENGTH(bikerides), bikerides[OFFSET(1)].gender AS fist_gender FROM\n",
    "(SELECT [\n",
    "STRUCT('MALE' AS gender, [9306602, 3955871] AS numtrips),\n",
    "STRUCT('FEMALE' AS gender, [3236735, 1260893] AS numtrips)\n",
    "] AS bikerides);\n",
    "\n",
    "\"\"\"\n",
    "\n",
    "query_job = bigquery_client.query(QUERY)\n",
    "for row in query_job.result():  \n",
    "    print(row)"
   ]
  },
  {
   "cell_type": "code",
   "execution_count": 36,
   "id": "1ff4c619",
   "metadata": {},
   "outputs": [
    {
     "name": "stdout",
     "output_type": "stream",
     "text": [
      "Row((2, 3236735), {'f0_': 0, 'fist_gender': 1})\n"
     ]
    }
   ],
   "source": [
    "QUERY = \"\"\"\n",
    "\n",
    "SELECT ARRAY_LENGTH(bikerides), bikerides[OFFSET(1)].numtrips[OFFSET(0)] AS fist_gender FROM\n",
    "(SELECT [\n",
    "STRUCT('MALE' AS gender, [9306602, 3955871] AS numtrips),\n",
    "STRUCT('FEMALE' AS gender, [3236735, 1260893] AS numtrips)\n",
    "] AS bikerides);\n",
    "\n",
    "\"\"\"\n",
    "\n",
    "query_job = bigquery_client.query(QUERY)\n",
    "for row in query_job.result():  \n",
    "    print(row)"
   ]
  },
  {
   "cell_type": "code",
   "execution_count": 37,
   "id": "2bb63c8b",
   "metadata": {},
   "outputs": [
    {
     "name": "stdout",
     "output_type": "stream",
     "text": [
      "Row(('MALE', [9306602, 3955871]), {'gender': 0, 'numtrips': 1})\n",
      "Row(('FEMALE', [3236735, 1260893]), {'gender': 0, 'numtrips': 1})\n"
     ]
    }
   ],
   "source": [
    "QUERY = \"\"\"\n",
    "\n",
    "SELECT * FROM UNNEST ([\n",
    "STRUCT('MALE' AS gender, [9306602, 3955871] AS numtrips),\n",
    "STRUCT('FEMALE' AS gender, [3236735, 1260893] AS numtrips)\n",
    "]);\n",
    "\n",
    "\"\"\"\n",
    "\n",
    "query_job = bigquery_client.query(QUERY)\n",
    "for row in query_job.result():  \n",
    "    print(row)"
   ]
  },
  {
   "cell_type": "code",
   "execution_count": 38,
   "id": "2653879a",
   "metadata": {},
   "outputs": [
    {
     "name": "stdout",
     "output_type": "stream",
     "text": [
      "Row(('MALE',), {'gender': 0})\n",
      "Row(('FEMALE',), {'gender': 0})\n"
     ]
    }
   ],
   "source": [
    "QUERY = \"\"\"\n",
    "\n",
    "SELECT gender FROM UNNEST ([\n",
    "STRUCT('MALE' AS gender, [9306602, 3955871] AS numtrips),\n",
    "STRUCT('FEMALE' AS gender, [3236735, 1260893] AS numtrips)\n",
    "]);\n",
    "\n",
    "\"\"\"\n",
    "\n",
    "query_job = bigquery_client.query(QUERY)\n",
    "for row in query_job.result():  \n",
    "    print(row)"
   ]
  },
  {
   "cell_type": "code",
   "execution_count": 39,
   "id": "539ac428",
   "metadata": {},
   "outputs": [
    {
     "name": "stdout",
     "output_type": "stream",
     "text": [
      "Row(([9306602, 3955871],), {'numtrips': 0})\n",
      "Row(([3236735, 1260893],), {'numtrips': 0})\n"
     ]
    }
   ],
   "source": [
    "QUERY = \"\"\"\n",
    "\n",
    "SELECT numtrips FROM UNNEST ([\n",
    "STRUCT('MALE' AS gender, [9306602, 3955871] AS numtrips),\n",
    "STRUCT('FEMALE' AS gender, [3236735, 1260893] AS numtrips)\n",
    "]);\n",
    "\n",
    "\"\"\"\n",
    "\n",
    "query_job = bigquery_client.query(QUERY)\n",
    "for row in query_job.result():  \n",
    "    print(row)"
   ]
  },
  {
   "cell_type": "code",
   "execution_count": 40,
   "id": "2234d115",
   "metadata": {},
   "outputs": [
    {
     "name": "stdout",
     "output_type": "stream",
     "text": [
      "Row(('MALE', 9306602), {'gender': 0, 'First_Element': 1})\n",
      "Row(('FEMALE', 3236735), {'gender': 0, 'First_Element': 1})\n"
     ]
    }
   ],
   "source": [
    "QUERY = \"\"\"\n",
    "\n",
    "SELECT gender, numtrips[OFFSET(0)] AS First_Element FROM UNNEST ([\n",
    "STRUCT('MALE' AS gender, [9306602, 3955871] AS numtrips),\n",
    "STRUCT('FEMALE' AS gender, [3236735, 1260893] AS numtrips)\n",
    "]);\n",
    "\n",
    "\"\"\"\n",
    "\n",
    "query_job = bigquery_client.query(QUERY)\n",
    "for row in query_job.result():  \n",
    "    print(row)"
   ]
  },
  {
   "cell_type": "code",
   "execution_count": 41,
   "id": "6c1f351c",
   "metadata": {},
   "outputs": [
    {
     "name": "stdout",
     "output_type": "stream",
     "text": [
      "Row(('DALLAS', 'OR', 'USA'), {'CITY': 0, 'STATE': 1, 'COUNTRY': 2})\n",
      "Row(('TOKYO', 'TOKYO', 'JAPAN'), {'CITY': 0, 'STATE': 1, 'COUNTRY': 2})\n",
      "Row(('MUMBAI', 'MAHARASHIRA', 'INDIA'), {'CITY': 0, 'STATE': 1, 'COUNTRY': 2})\n"
     ]
    }
   ],
   "source": [
    "QUERY = \"\"\"\n",
    "\n",
    "WITH from_item_a\n",
    "     AS (SELECT 'DALLAS' AS CITY,\n",
    "                'OR'     AS STATE\n",
    "         UNION ALL\n",
    "         SELECT 'TOKYO' AS CITY,\n",
    "                'TOKYO' AS STATE\n",
    "         UNION ALL\n",
    "         SELECT 'MUMBAI'      AS CITY,\n",
    "                'MAHARASHIRA' AS STATE),\n",
    "     from_item_b\n",
    "     AS (SELECT 'OR'  AS STATE,\n",
    "                'USA' AS COUNTRY\n",
    "         UNION ALL\n",
    "         SELECT 'TOKYO' AS STATE,\n",
    "                'JAPAN' AS COUNTRY\n",
    "         UNION ALL\n",
    "         SELECT 'MAHARASHIRA' AS STATE,\n",
    "                'INDIA'       AS CONTRY)\n",
    "SELECT from_item_a.*,\n",
    "       country\n",
    "FROM   from_item_a\n",
    "       INNER JOIN from_item_b\n",
    "               ON from_item_a.state = from_item_b.state; \n",
    "\n",
    "\"\"\"\n",
    "\n",
    "query_job = bigquery_client.query(QUERY)\n",
    "for row in query_job.result():  \n",
    "    print(row)"
   ]
  },
  {
   "cell_type": "code",
   "execution_count": 42,
   "id": "07123fcb",
   "metadata": {},
   "outputs": [
    {
     "name": "stdout",
     "output_type": "stream",
     "text": [
      "Row(('DALLAS', 'OR', 'JAPAN'), {'CITY': 0, 'STATE': 1, 'COUNTRY': 2})\n",
      "Row(('DALLAS', 'OR', 'INDIA'), {'CITY': 0, 'STATE': 1, 'COUNTRY': 2})\n",
      "Row(('TOKYO', 'TOKYO', 'USA'), {'CITY': 0, 'STATE': 1, 'COUNTRY': 2})\n",
      "Row(('TOKYO', 'TOKYO', 'INDIA'), {'CITY': 0, 'STATE': 1, 'COUNTRY': 2})\n",
      "Row(('MUMBAI', 'MAHARASHIRA', 'USA'), {'CITY': 0, 'STATE': 1, 'COUNTRY': 2})\n",
      "Row(('MUMBAI', 'MAHARASHIRA', 'JAPAN'), {'CITY': 0, 'STATE': 1, 'COUNTRY': 2})\n"
     ]
    }
   ],
   "source": [
    "QUERY = \"\"\"\n",
    "\n",
    "WITH from_item_a\n",
    "     AS (SELECT 'DALLAS' AS CITY,\n",
    "                'OR'     AS STATE\n",
    "         UNION ALL\n",
    "         SELECT 'TOKYO' AS CITY,\n",
    "                'TOKYO' AS STATE\n",
    "         UNION ALL\n",
    "         SELECT 'MUMBAI'      AS CITY,\n",
    "                'MAHARASHIRA' AS STATE),\n",
    "     from_item_b\n",
    "     AS (SELECT 'OR'  AS STATE,\n",
    "                'USA' AS COUNTRY\n",
    "         UNION ALL\n",
    "         SELECT 'TOKYO' AS STATE,\n",
    "                'JAPAN' AS COUNTRY\n",
    "         UNION ALL\n",
    "         SELECT 'MAHARASHIRA' AS STATE,\n",
    "                'INDIA'       AS CONTRY)\n",
    "SELECT from_item_a.*,\n",
    "       country\n",
    "FROM   from_item_a\n",
    "       INNER JOIN from_item_b\n",
    "               ON from_item_a.state != from_item_b.state; \n",
    "\n",
    "\"\"\"\n",
    "\n",
    "query_job = bigquery_client.query(QUERY)\n",
    "for row in query_job.result():  \n",
    "    print(row)"
   ]
  },
  {
   "cell_type": "code",
   "execution_count": 43,
   "id": "63a911ee",
   "metadata": {},
   "outputs": [
    {
     "name": "stdout",
     "output_type": "stream",
     "text": [
      "Row(('DALLAS', 'OR', 'USA'), {'CITY': 0, 'STATE': 1, 'COUNTRY': 2})\n",
      "Row(('DALLAS', 'OR', 'JAPAN'), {'CITY': 0, 'STATE': 1, 'COUNTRY': 2})\n",
      "Row(('DALLAS', 'OR', 'INDIA'), {'CITY': 0, 'STATE': 1, 'COUNTRY': 2})\n",
      "Row(('TOKYO', 'TOKYO', 'USA'), {'CITY': 0, 'STATE': 1, 'COUNTRY': 2})\n",
      "Row(('TOKYO', 'TOKYO', 'JAPAN'), {'CITY': 0, 'STATE': 1, 'COUNTRY': 2})\n",
      "Row(('TOKYO', 'TOKYO', 'INDIA'), {'CITY': 0, 'STATE': 1, 'COUNTRY': 2})\n",
      "Row(('MUMBAI', 'MAHARASHIRA', 'USA'), {'CITY': 0, 'STATE': 1, 'COUNTRY': 2})\n",
      "Row(('MUMBAI', 'MAHARASHIRA', 'JAPAN'), {'CITY': 0, 'STATE': 1, 'COUNTRY': 2})\n",
      "Row(('MUMBAI', 'MAHARASHIRA', 'INDIA'), {'CITY': 0, 'STATE': 1, 'COUNTRY': 2})\n"
     ]
    }
   ],
   "source": [
    "QUERY = \"\"\"\n",
    "\n",
    "WITH from_item_a\n",
    "     AS (SELECT 'DALLAS' AS CITY,\n",
    "                'OR'     AS STATE\n",
    "         UNION ALL\n",
    "         SELECT 'TOKYO' AS CITY,\n",
    "                'TOKYO' AS STATE\n",
    "         UNION ALL\n",
    "         SELECT 'MUMBAI'      AS CITY,\n",
    "                'MAHARASHIRA' AS STATE),\n",
    "     from_item_b\n",
    "     AS (SELECT 'OR'  AS STATE,\n",
    "                'USA' AS COUNTRY\n",
    "         UNION ALL\n",
    "         SELECT 'TOKYO' AS STATE,\n",
    "                'JAPAN' AS COUNTRY\n",
    "         UNION ALL\n",
    "         SELECT 'MAHARASHIRA' AS STATE,\n",
    "                'INDIA'       AS CONTRY)\n",
    "SELECT from_item_a.*,\n",
    "       country\n",
    "FROM   from_item_a\n",
    "       CROSS JOIN from_item_b; \n",
    "\n",
    "\"\"\"\n",
    "\n",
    "query_job = bigquery_client.query(QUERY)\n",
    "for row in query_job.result():  \n",
    "    print(row)"
   ]
  },
  {
   "cell_type": "code",
   "execution_count": 44,
   "id": "4adbfff2",
   "metadata": {},
   "outputs": [
    {
     "name": "stdout",
     "output_type": "stream",
     "text": [
      "Row(('DALLAS', 'OR', 'USA'), {'CITY': 0, 'STATE': 1, 'COUNTRY': 2})\n",
      "Row(('TOKYO', 'TOKYO', 'JAPAN'), {'CITY': 0, 'STATE': 1, 'COUNTRY': 2})\n",
      "Row(('MUMBAI', 'MAHARASHIRA', 'INDIA'), {'CITY': 0, 'STATE': 1, 'COUNTRY': 2})\n",
      "Row(('A CORUNA', 'GALICIA', None), {'CITY': 0, 'STATE': 1, 'COUNTRY': 2})\n",
      "Row(('SÃO PAULO', 'SÃO PAULO', None), {'CITY': 0, 'STATE': 1, 'COUNTRY': 2})\n",
      "Row((None, None, 'BRASIL'), {'CITY': 0, 'STATE': 1, 'COUNTRY': 2})\n",
      "Row((None, None, 'MEXICO'), {'CITY': 0, 'STATE': 1, 'COUNTRY': 2})\n"
     ]
    }
   ],
   "source": [
    "QUERY = \"\"\"\n",
    "\n",
    "WITH from_item_a\n",
    "     AS (SELECT 'DALLAS' AS CITY,\n",
    "                'OR'     AS STATE\n",
    "         UNION ALL\n",
    "         SELECT 'TOKYO' AS CITY,\n",
    "                'TOKYO' AS STATE\n",
    "         UNION ALL\n",
    "         SELECT 'MUMBAI'      AS CITY,\n",
    "                'MAHARASHIRA' AS STATE\n",
    "         UNION ALL\n",
    "         SELECT 'A CORUNA' AS CITY,\n",
    "                'GALICIA'  AS STATE\n",
    "         UNION ALL\n",
    "         SELECT 'SÃO PAULO' AS CITY,\n",
    "                'SÃO PAULO' AS STATE),\n",
    "     from_item_b\n",
    "     AS (SELECT 'OR'  AS STATE,\n",
    "                'USA' AS COUNTRY\n",
    "         UNION ALL\n",
    "         SELECT 'TOKYO' AS STATE,\n",
    "                'JAPAN' AS COUNTRY\n",
    "         UNION ALL\n",
    "         SELECT 'MAHARASHIRA' AS STATE,\n",
    "                'INDIA'       AS CONTRY\n",
    "         UNION ALL\n",
    "         SELECT 'RIO DE JANEIRO' AS STATE,\n",
    "                'BRASIL'         AS CONTRY\n",
    "         UNION ALL\n",
    "         SELECT 'MEXICO CITY' AS STATE,\n",
    "                'MEXICO'      AS CONTRY)\n",
    "SELECT from_item_a.*,\n",
    "       country\n",
    "FROM   from_item_a\n",
    "       FULL OUTER JOIN from_item_b\n",
    "                    ON from_item_a.state = from_item_b.state; \n",
    "\n",
    "\"\"\"\n",
    "\n",
    "query_job = bigquery_client.query(QUERY)\n",
    "for row in query_job.result():  \n",
    "    print(row)"
   ]
  },
  {
   "cell_type": "code",
   "execution_count": 45,
   "id": "25a96793",
   "metadata": {},
   "outputs": [
    {
     "name": "stdout",
     "output_type": "stream",
     "text": [
      "Row(('DALLAS', 'OR', 'USA'), {'CITY': 0, 'STATE': 1, 'COUNTRY': 2})\n",
      "Row(('TOKYO', 'TOKYO', 'JAPAN'), {'CITY': 0, 'STATE': 1, 'COUNTRY': 2})\n",
      "Row(('MUMBAI', 'MAHARASHIRA', 'INDIA'), {'CITY': 0, 'STATE': 1, 'COUNTRY': 2})\n",
      "Row(('A CORUNA', 'GALICIA', None), {'CITY': 0, 'STATE': 1, 'COUNTRY': 2})\n",
      "Row(('SÃO PAULO', 'SÃO PAULO', None), {'CITY': 0, 'STATE': 1, 'COUNTRY': 2})\n"
     ]
    }
   ],
   "source": [
    "QUERY = \"\"\"\n",
    "\n",
    "WITH from_item_a\n",
    "     AS (SELECT 'DALLAS' AS CITY,\n",
    "                'OR'     AS STATE\n",
    "         UNION ALL\n",
    "         SELECT 'TOKYO' AS CITY,\n",
    "                'TOKYO' AS STATE\n",
    "         UNION ALL\n",
    "         SELECT 'MUMBAI'      AS CITY,\n",
    "                'MAHARASHIRA' AS STATE\n",
    "         UNION ALL\n",
    "         SELECT 'A CORUNA' AS CITY,\n",
    "                'GALICIA'  AS STATE\n",
    "         UNION ALL\n",
    "         SELECT 'SÃO PAULO' AS CITY,\n",
    "                'SÃO PAULO' AS STATE),\n",
    "     from_item_b\n",
    "     AS (SELECT 'OR'  AS STATE,\n",
    "                'USA' AS COUNTRY\n",
    "         UNION ALL\n",
    "         SELECT 'TOKYO' AS STATE,\n",
    "                'JAPAN' AS COUNTRY\n",
    "         UNION ALL\n",
    "         SELECT 'MAHARASHIRA' AS STATE,\n",
    "                'INDIA'       AS CONTRY\n",
    "         UNION ALL\n",
    "         SELECT 'RIO DE JANEIRO' AS STATE,\n",
    "                'BRASIL'         AS CONTRY\n",
    "         UNION ALL\n",
    "         SELECT 'MEXICO CITY' AS STATE,\n",
    "                'MEXICO'      AS CONTRY)\n",
    "SELECT from_item_a.*,\n",
    "       country\n",
    "FROM   from_item_a\n",
    "       LEFT JOIN from_item_b\n",
    "              ON from_item_a.state = from_item_b.state; \n",
    "\n",
    "\"\"\"\n",
    "\n",
    "query_job = bigquery_client.query(QUERY)\n",
    "for row in query_job.result():  \n",
    "    print(row)"
   ]
  },
  {
   "cell_type": "code",
   "execution_count": 46,
   "id": "d834cac2",
   "metadata": {},
   "outputs": [
    {
     "name": "stdout",
     "output_type": "stream",
     "text": [
      "Row(('DALLAS', 'OR', 'USA'), {'CITY': 0, 'STATE': 1, 'COUNTRY': 2})\n",
      "Row(('TOKYO', 'TOKYO', 'JAPAN'), {'CITY': 0, 'STATE': 1, 'COUNTRY': 2})\n",
      "Row(('MUMBAI', 'MAHARASHIRA', 'INDIA'), {'CITY': 0, 'STATE': 1, 'COUNTRY': 2})\n",
      "Row((None, None, 'BRASIL'), {'CITY': 0, 'STATE': 1, 'COUNTRY': 2})\n",
      "Row((None, None, 'MEXICO'), {'CITY': 0, 'STATE': 1, 'COUNTRY': 2})\n"
     ]
    }
   ],
   "source": [
    "QUERY = \"\"\"\n",
    "\n",
    "WITH from_item_a\n",
    "     AS (SELECT 'DALLAS' AS CITY,\n",
    "                'OR'     AS STATE\n",
    "         UNION ALL\n",
    "         SELECT 'TOKYO' AS CITY,\n",
    "                'TOKYO' AS STATE\n",
    "         UNION ALL\n",
    "         SELECT 'MUMBAI'      AS CITY,\n",
    "                'MAHARASHIRA' AS STATE\n",
    "         UNION ALL\n",
    "         SELECT 'A CORUNA' AS CITY,\n",
    "                'GALICIA'  AS STATE\n",
    "         UNION ALL\n",
    "         SELECT 'SÃO PAULO' AS CITY,\n",
    "                'SÃO PAULO' AS STATE),\n",
    "     from_item_b\n",
    "     AS (SELECT 'OR'  AS STATE,\n",
    "                'USA' AS COUNTRY\n",
    "         UNION ALL\n",
    "         SELECT 'TOKYO' AS STATE,\n",
    "                'JAPAN' AS COUNTRY\n",
    "         UNION ALL\n",
    "         SELECT 'MAHARASHIRA' AS STATE,\n",
    "                'INDIA'       AS CONTRY\n",
    "         UNION ALL\n",
    "         SELECT 'RIO DE JANEIRO' AS STATE,\n",
    "                'BRASIL'         AS CONTRY\n",
    "         UNION ALL\n",
    "         SELECT 'MEXICO CITY' AS STATE,\n",
    "                'MEXICO'      AS CONTRY)\n",
    "SELECT from_item_a.*,\n",
    "       country\n",
    "FROM   from_item_a\n",
    "       RIGHT JOIN from_item_b\n",
    "               ON from_item_a.state = from_item_b.state \n",
    "\n",
    "\"\"\"\n",
    "\n",
    "query_job = bigquery_client.query(QUERY)\n",
    "for row in query_job.result():  \n",
    "    print(row)"
   ]
  },
  {
   "cell_type": "code",
   "execution_count": 47,
   "id": "6543b704",
   "metadata": {},
   "outputs": [
    {
     "name": "stdout",
     "output_type": "stream",
     "text": [
      "Row((datetime.date(2016, 1, 10), 14275, True), {'trip_date': 0, 'num_trips': 1, 'rainy': 2})\n",
      "Row((datetime.date(2016, 1, 16), 19178, True), {'trip_date': 0, 'num_trips': 1, 'rainy': 2})\n",
      "Row((datetime.date(2016, 2, 3), 16203, True), {'trip_date': 0, 'num_trips': 1, 'rainy': 2})\n",
      "Row((datetime.date(2016, 2, 5), 13670, True), {'trip_date': 0, 'num_trips': 1, 'rainy': 2})\n",
      "Row((datetime.date(2016, 2, 15), 5884, True), {'trip_date': 0, 'num_trips': 1, 'rainy': 2})\n",
      "Row((datetime.date(2016, 2, 16), 14542, True), {'trip_date': 0, 'num_trips': 1, 'rainy': 2})\n",
      "Row((datetime.date(2016, 2, 23), 16133, True), {'trip_date': 0, 'num_trips': 1, 'rainy': 2})\n",
      "Row((datetime.date(2016, 2, 24), 9761, True), {'trip_date': 0, 'num_trips': 1, 'rainy': 2})\n",
      "Row((datetime.date(2016, 3, 14), 10930, True), {'trip_date': 0, 'num_trips': 1, 'rainy': 2})\n",
      "Row((datetime.date(2016, 3, 28), 20345, True), {'trip_date': 0, 'num_trips': 1, 'rainy': 2})\n",
      "Row((datetime.date(2016, 4, 4), 12302, True), {'trip_date': 0, 'num_trips': 1, 'rainy': 2})\n",
      "Row((datetime.date(2016, 4, 12), 23765, True), {'trip_date': 0, 'num_trips': 1, 'rainy': 2})\n",
      "Row((datetime.date(2016, 4, 26), 34643, True), {'trip_date': 0, 'num_trips': 1, 'rainy': 2})\n",
      "Row((datetime.date(2016, 5, 3), 22858, True), {'trip_date': 0, 'num_trips': 1, 'rainy': 2})\n",
      "Row((datetime.date(2016, 5, 6), 18860, True), {'trip_date': 0, 'num_trips': 1, 'rainy': 2})\n",
      "Row((datetime.date(2016, 5, 13), 32391, True), {'trip_date': 0, 'num_trips': 1, 'rainy': 2})\n",
      "Row((datetime.date(2016, 5, 30), 32619, True), {'trip_date': 0, 'num_trips': 1, 'rainy': 2})\n",
      "Row((datetime.date(2016, 6, 4), 40977, True), {'trip_date': 0, 'num_trips': 1, 'rainy': 2})\n",
      "Row((datetime.date(2016, 6, 5), 22397, True), {'trip_date': 0, 'num_trips': 1, 'rainy': 2})\n",
      "Row((datetime.date(2016, 6, 8), 42250, True), {'trip_date': 0, 'num_trips': 1, 'rainy': 2})\n",
      "Row((datetime.date(2016, 6, 16), 46198, True), {'trip_date': 0, 'num_trips': 1, 'rainy': 2})\n",
      "Row((datetime.date(2016, 6, 27), 47023, True), {'trip_date': 0, 'num_trips': 1, 'rainy': 2})\n",
      "Row((datetime.date(2016, 7, 1), 39669, True), {'trip_date': 0, 'num_trips': 1, 'rainy': 2})\n",
      "Row((datetime.date(2016, 7, 4), 34860, True), {'trip_date': 0, 'num_trips': 1, 'rainy': 2})\n",
      "Row((datetime.date(2016, 7, 5), 43744, True), {'trip_date': 0, 'num_trips': 1, 'rainy': 2})\n",
      "Row((datetime.date(2016, 7, 9), 38142, True), {'trip_date': 0, 'num_trips': 1, 'rainy': 2})\n",
      "Row((datetime.date(2016, 7, 14), 50350, True), {'trip_date': 0, 'num_trips': 1, 'rainy': 2})\n",
      "Row((datetime.date(2016, 7, 18), 43687, True), {'trip_date': 0, 'num_trips': 1, 'rainy': 2})\n",
      "Row((datetime.date(2016, 7, 25), 35379, True), {'trip_date': 0, 'num_trips': 1, 'rainy': 2})\n",
      "Row((datetime.date(2016, 7, 29), 37703, True), {'trip_date': 0, 'num_trips': 1, 'rainy': 2})\n",
      "Row((datetime.date(2016, 7, 30), 27780, True), {'trip_date': 0, 'num_trips': 1, 'rainy': 2})\n",
      "Row((datetime.date(2016, 7, 31), 27651, True), {'trip_date': 0, 'num_trips': 1, 'rainy': 2})\n",
      "Row((datetime.date(2016, 8, 12), 44750, True), {'trip_date': 0, 'num_trips': 1, 'rainy': 2})\n",
      "Row((datetime.date(2016, 8, 20), 45817, True), {'trip_date': 0, 'num_trips': 1, 'rainy': 2})\n",
      "Row((datetime.date(2016, 8, 21), 35051, True), {'trip_date': 0, 'num_trips': 1, 'rainy': 2})\n",
      "Row((datetime.date(2016, 9, 1), 38187, True), {'trip_date': 0, 'num_trips': 1, 'rainy': 2})\n",
      "Row((datetime.date(2016, 9, 9), 56813, True), {'trip_date': 0, 'num_trips': 1, 'rainy': 2})\n",
      "Row((datetime.date(2016, 9, 14), 59203, True), {'trip_date': 0, 'num_trips': 1, 'rainy': 2})\n",
      "Row((datetime.date(2016, 9, 19), 34217, True), {'trip_date': 0, 'num_trips': 1, 'rainy': 2})\n",
      "Row((datetime.date(2016, 9, 24), 53259, True), {'trip_date': 0, 'num_trips': 1, 'rainy': 2})\n",
      "Row((datetime.date(2016, 9, 27), 61346, True), {'trip_date': 0, 'num_trips': 1, 'rainy': 2})\n",
      "Row((datetime.date(2016, 9, 30), 21381, True), {'trip_date': 0, 'num_trips': 1, 'rainy': 2})\n"
     ]
    }
   ],
   "source": [
    "QUERY = \"\"\"\n",
    "\n",
    "WITH bicycle_rentals AS\n",
    "(\n",
    "         SELECT   COUNT(starttime)             AS num_trips,\n",
    "                  Extract(date FROM starttime) AS trip_date\n",
    "         FROM     `bigquery-PUBLIC-data`.new_york_citibike.citibike_trips\n",
    "         GROUP BY trip_date), rainy_days AS\n",
    "(\n",
    "         SELECT   date,\n",
    "                  (max(prcp) > 5) AS rainy\n",
    "         FROM     (\n",
    "                         SELECT date,\n",
    "                                IF(element = 'PRCP', value/10, NULL) AS prcp\n",
    "                         FROM   `bigquery-PUBLIC-data.ghcn_d.ghcnd_2016`\n",
    "                         WHERE  id = 'USW00094728')\n",
    "         GROUP BY date)\n",
    "SELECT   trip_date,\n",
    "         num_trips,\n",
    "         rainy_days.rainy\n",
    "FROM     bicycle_rentals inne\n",
    "JOIN     rainy_days\n",
    "ON       trip_date = rainy_days.date\n",
    "WHERE    rainy_days.rainy = true\n",
    "ORDER BY trip_date;\n",
    "\n",
    "\"\"\"\n",
    "\n",
    "query_job = bigquery_client.query(QUERY)\n",
    "for row in query_job.result():  \n",
    "    print(row)"
   ]
  },
  {
   "cell_type": "code",
   "execution_count": 52,
   "id": "54753a26",
   "metadata": {},
   "outputs": [
    {
     "name": "stdout",
     "output_type": "stream",
     "text": [
      "Row((8502682733, 235, datetime.date(2015, 2, 7), 2893, 0.12, 2893, 723457, 10, 4.912), {'CPF': 0, 'MATRICULA': 1, 'DATA_VENDA': 2, 'NUMERO': 3, 'IMPOSTO': 4, 'NUMERO_1': 5, 'CODIGO_DO_PRODUTO': 6, 'QUANTIDADE': 7, 'PRECO': 8})\n",
      "Row((2600586709, 237, datetime.date(2015, 3, 2), 4521, 0.12, 4521, 723457, 10, 4.912), {'CPF': 0, 'MATRICULA': 1, 'DATA_VENDA': 2, 'NUMERO': 3, 'IMPOSTO': 4, 'NUMERO_1': 5, 'CODIGO_DO_PRODUTO': 6, 'QUANTIDADE': 7, 'PRECO': 8})\n",
      "Row((5648641702, 235, datetime.date(2015, 3, 13), 5396, 0.12, 5396, 723457, 10, 4.912), {'CPF': 0, 'MATRICULA': 1, 'DATA_VENDA': 2, 'NUMERO': 3, 'IMPOSTO': 4, 'NUMERO_1': 5, 'CODIGO_DO_PRODUTO': 6, 'QUANTIDADE': 7, 'PRECO': 8})\n",
      "Row((1471156710, 237, datetime.date(2015, 3, 23), 6073, 0.1, 6073, 723457, 10, 4.912), {'CPF': 0, 'MATRICULA': 1, 'DATA_VENDA': 2, 'NUMERO': 3, 'IMPOSTO': 4, 'NUMERO_1': 5, 'CODIGO_DO_PRODUTO': 6, 'QUANTIDADE': 7, 'PRECO': 8})\n",
      "Row((8719655770, 237, datetime.date(2015, 3, 31), 6571, 0.12, 6571, 723457, 10, 4.912), {'CPF': 0, 'MATRICULA': 1, 'DATA_VENDA': 2, 'NUMERO': 3, 'IMPOSTO': 4, 'NUMERO_1': 5, 'CODIGO_DO_PRODUTO': 6, 'QUANTIDADE': 7, 'PRECO': 8})\n",
      "Row((50534475787, 236, datetime.date(2015, 4, 2), 6780, 0.12, 6780, 723457, 10, 4.912), {'CPF': 0, 'MATRICULA': 1, 'DATA_VENDA': 2, 'NUMERO': 3, 'IMPOSTO': 4, 'NUMERO_1': 5, 'CODIGO_DO_PRODUTO': 6, 'QUANTIDADE': 7, 'PRECO': 8})\n",
      "Row((7771579779, 236, datetime.date(2015, 4, 18), 7998, 0.12, 7998, 723457, 10, 4.912), {'CPF': 0, 'MATRICULA': 1, 'DATA_VENDA': 2, 'NUMERO': 3, 'IMPOSTO': 4, 'NUMERO_1': 5, 'CODIGO_DO_PRODUTO': 6, 'QUANTIDADE': 7, 'PRECO': 8})\n",
      "Row((8502682733, 235, datetime.date(2015, 4, 29), 8778, 0.1, 8778, 723457, 10, 4.912), {'CPF': 0, 'MATRICULA': 1, 'DATA_VENDA': 2, 'NUMERO': 3, 'IMPOSTO': 4, 'NUMERO_1': 5, 'CODIGO_DO_PRODUTO': 6, 'QUANTIDADE': 7, 'PRECO': 8})\n",
      "Row((492472718, 237, datetime.date(2015, 5, 2), 8994, 0.12, 8994, 723457, 10, 4.912), {'CPF': 0, 'MATRICULA': 1, 'DATA_VENDA': 2, 'NUMERO': 3, 'IMPOSTO': 4, 'NUMERO_1': 5, 'CODIGO_DO_PRODUTO': 6, 'QUANTIDADE': 7, 'PRECO': 8})\n",
      "Row((5648641702, 237, datetime.date(2015, 5, 9), 9500, 0.12, 9500, 723457, 10, 4.912), {'CPF': 0, 'MATRICULA': 1, 'DATA_VENDA': 2, 'NUMERO': 3, 'IMPOSTO': 4, 'NUMERO_1': 5, 'CODIGO_DO_PRODUTO': 6, 'QUANTIDADE': 7, 'PRECO': 8})\n",
      "Row((1471156710, 237, datetime.date(2015, 5, 10), 9587, 0.1, 9587, 723457, 10, 4.912), {'CPF': 0, 'MATRICULA': 1, 'DATA_VENDA': 2, 'NUMERO': 3, 'IMPOSTO': 4, 'NUMERO_1': 5, 'CODIGO_DO_PRODUTO': 6, 'QUANTIDADE': 7, 'PRECO': 8})\n",
      "Row((8719655770, 236, datetime.date(2015, 6, 17), 12513, 0.12, 12513, 723457, 10, 4.912), {'CPF': 0, 'MATRICULA': 1, 'DATA_VENDA': 2, 'NUMERO': 3, 'IMPOSTO': 4, 'NUMERO_1': 5, 'CODIGO_DO_PRODUTO': 6, 'QUANTIDADE': 7, 'PRECO': 8})\n",
      "Row((492472718, 236, datetime.date(2015, 6, 23), 12943, 0.1, 12943, 723457, 10, 4.912), {'CPF': 0, 'MATRICULA': 1, 'DATA_VENDA': 2, 'NUMERO': 3, 'IMPOSTO': 4, 'NUMERO_1': 5, 'CODIGO_DO_PRODUTO': 6, 'QUANTIDADE': 7, 'PRECO': 8})\n",
      "Row((5648641702, 236, datetime.date(2015, 7, 25), 15379, 0.12, 15379, 723457, 10, 4.912), {'CPF': 0, 'MATRICULA': 1, 'DATA_VENDA': 2, 'NUMERO': 3, 'IMPOSTO': 4, 'NUMERO_1': 5, 'CODIGO_DO_PRODUTO': 6, 'QUANTIDADE': 7, 'PRECO': 8})\n",
      "Row((5648641702, 235, datetime.date(2015, 7, 28), 15590, 0.1, 15590, 723457, 10, 4.912), {'CPF': 0, 'MATRICULA': 1, 'DATA_VENDA': 2, 'NUMERO': 3, 'IMPOSTO': 4, 'NUMERO_1': 5, 'CODIGO_DO_PRODUTO': 6, 'QUANTIDADE': 7, 'PRECO': 8})\n",
      "Row((19290992743, 235, datetime.date(2015, 7, 30), 15708, 0.1, 15708, 723457, 10, 4.912), {'CPF': 0, 'MATRICULA': 1, 'DATA_VENDA': 2, 'NUMERO': 3, 'IMPOSTO': 4, 'NUMERO_1': 5, 'CODIGO_DO_PRODUTO': 6, 'QUANTIDADE': 7, 'PRECO': 8})\n",
      "Row((3623344710, 237, datetime.date(2015, 7, 30), 15745, 0.12, 15745, 723457, 10, 4.912), {'CPF': 0, 'MATRICULA': 1, 'DATA_VENDA': 2, 'NUMERO': 3, 'IMPOSTO': 4, 'NUMERO_1': 5, 'CODIGO_DO_PRODUTO': 6, 'QUANTIDADE': 7, 'PRECO': 8})\n",
      "Row((9283760794, 235, datetime.date(2015, 8, 3), 16048, 0.1, 16048, 723457, 10, 4.912), {'CPF': 0, 'MATRICULA': 1, 'DATA_VENDA': 2, 'NUMERO': 3, 'IMPOSTO': 4, 'NUMERO_1': 5, 'CODIGO_DO_PRODUTO': 6, 'QUANTIDADE': 7, 'PRECO': 8})\n",
      "Row((8502682733, 235, datetime.date(2015, 8, 7), 16364, 0.1, 16364, 723457, 10, 4.912), {'CPF': 0, 'MATRICULA': 1, 'DATA_VENDA': 2, 'NUMERO': 3, 'IMPOSTO': 4, 'NUMERO_1': 5, 'CODIGO_DO_PRODUTO': 6, 'QUANTIDADE': 7, 'PRECO': 8})\n",
      "Row((19290992743, 235, datetime.date(2015, 8, 8), 16412, 0.1, 16412, 723457, 10, 4.912), {'CPF': 0, 'MATRICULA': 1, 'DATA_VENDA': 2, 'NUMERO': 3, 'IMPOSTO': 4, 'NUMERO_1': 5, 'CODIGO_DO_PRODUTO': 6, 'QUANTIDADE': 7, 'PRECO': 8})\n"
     ]
    }
   ],
   "source": [
    "QUERY = \"\"\"\n",
    "\n",
    "SELECT *\n",
    "FROM   `modified-ripsaw-343701.sucos_vendas.notas_fiscais` NF\n",
    "       INNER JOIN `modified-ripsaw-343701.sucos_vendas.itens_notas_fiscais` INF\n",
    "               ON NF.numero = INF.numero\n",
    "LIMIT 20; \n",
    "\n",
    "\"\"\"\n",
    "\n",
    "query_job = bigquery_client.query(QUERY)\n",
    "for row in query_job.result():  \n",
    "    print(row)"
   ]
  },
  {
   "cell_type": "code",
   "execution_count": 53,
   "id": "74e21280",
   "metadata": {},
   "outputs": [
    {
     "name": "stdout",
     "output_type": "stream",
     "text": [
      "Row((8502682733, datetime.date(2015, 2, 7), 10), {'cpf': 0, 'data_venda': 1, 'quantidade': 2})\n",
      "Row((2600586709, datetime.date(2015, 3, 2), 10), {'cpf': 0, 'data_venda': 1, 'quantidade': 2})\n",
      "Row((5648641702, datetime.date(2015, 3, 13), 10), {'cpf': 0, 'data_venda': 1, 'quantidade': 2})\n",
      "Row((1471156710, datetime.date(2015, 3, 23), 10), {'cpf': 0, 'data_venda': 1, 'quantidade': 2})\n",
      "Row((8719655770, datetime.date(2015, 3, 31), 10), {'cpf': 0, 'data_venda': 1, 'quantidade': 2})\n",
      "Row((50534475787, datetime.date(2015, 4, 2), 10), {'cpf': 0, 'data_venda': 1, 'quantidade': 2})\n",
      "Row((7771579779, datetime.date(2015, 4, 18), 10), {'cpf': 0, 'data_venda': 1, 'quantidade': 2})\n",
      "Row((8502682733, datetime.date(2015, 4, 29), 10), {'cpf': 0, 'data_venda': 1, 'quantidade': 2})\n",
      "Row((492472718, datetime.date(2015, 5, 2), 10), {'cpf': 0, 'data_venda': 1, 'quantidade': 2})\n",
      "Row((5648641702, datetime.date(2015, 5, 9), 10), {'cpf': 0, 'data_venda': 1, 'quantidade': 2})\n",
      "Row((1471156710, datetime.date(2015, 5, 10), 10), {'cpf': 0, 'data_venda': 1, 'quantidade': 2})\n",
      "Row((8719655770, datetime.date(2015, 6, 17), 10), {'cpf': 0, 'data_venda': 1, 'quantidade': 2})\n",
      "Row((492472718, datetime.date(2015, 6, 23), 10), {'cpf': 0, 'data_venda': 1, 'quantidade': 2})\n",
      "Row((5648641702, datetime.date(2015, 7, 25), 10), {'cpf': 0, 'data_venda': 1, 'quantidade': 2})\n",
      "Row((5648641702, datetime.date(2015, 7, 28), 10), {'cpf': 0, 'data_venda': 1, 'quantidade': 2})\n",
      "Row((19290992743, datetime.date(2015, 7, 30), 10), {'cpf': 0, 'data_venda': 1, 'quantidade': 2})\n",
      "Row((3623344710, datetime.date(2015, 7, 30), 10), {'cpf': 0, 'data_venda': 1, 'quantidade': 2})\n",
      "Row((9283760794, datetime.date(2015, 8, 3), 10), {'cpf': 0, 'data_venda': 1, 'quantidade': 2})\n",
      "Row((8502682733, datetime.date(2015, 8, 7), 10), {'cpf': 0, 'data_venda': 1, 'quantidade': 2})\n",
      "Row((19290992743, datetime.date(2015, 8, 8), 10), {'cpf': 0, 'data_venda': 1, 'quantidade': 2})\n"
     ]
    }
   ],
   "source": [
    "QUERY = \"\"\"\n",
    "\n",
    "SELECT NF.cpf,\n",
    "       NF.data_venda,\n",
    "       INF.quantidade\n",
    "FROM   `modified-ripsaw-343701.sucos_vendas.notas_fiscais` NF\n",
    "       INNER JOIN `modified-ripsaw-343701.sucos_vendas.itens_notas_fiscais` INF\n",
    "               ON NF.numero = INF.numero\n",
    "LIMIT 20;\n",
    "\n",
    "\"\"\"\n",
    "\n",
    "query_job = bigquery_client.query(QUERY)\n",
    "for row in query_job.result():  \n",
    "    print(row)"
   ]
  },
  {
   "cell_type": "code",
   "execution_count": 54,
   "id": "736fbb16",
   "metadata": {},
   "outputs": [
    {
     "name": "stdout",
     "output_type": "stream",
     "text": [
      "Row((8502682733, 2015, 2, 18927), {'cpf': 0, 'ANO': 1, 'MES': 2, 'QUANTIDADE': 3})\n",
      "Row((2600586709, 2015, 3, 20474), {'cpf': 0, 'ANO': 1, 'MES': 2, 'QUANTIDADE': 3})\n",
      "Row((5648641702, 2015, 3, 24390), {'cpf': 0, 'ANO': 1, 'MES': 2, 'QUANTIDADE': 3})\n",
      "Row((1471156710, 2015, 3, 22057), {'cpf': 0, 'ANO': 1, 'MES': 2, 'QUANTIDADE': 3})\n",
      "Row((8719655770, 2015, 3, 20694), {'cpf': 0, 'ANO': 1, 'MES': 2, 'QUANTIDADE': 3})\n",
      "Row((50534475787, 2015, 4, 22390), {'cpf': 0, 'ANO': 1, 'MES': 2, 'QUANTIDADE': 3})\n",
      "Row((7771579779, 2015, 4, 21444), {'cpf': 0, 'ANO': 1, 'MES': 2, 'QUANTIDADE': 3})\n",
      "Row((8502682733, 2015, 4, 20949), {'cpf': 0, 'ANO': 1, 'MES': 2, 'QUANTIDADE': 3})\n",
      "Row((492472718, 2015, 5, 24918), {'cpf': 0, 'ANO': 1, 'MES': 2, 'QUANTIDADE': 3})\n",
      "Row((5648641702, 2015, 5, 24004), {'cpf': 0, 'ANO': 1, 'MES': 2, 'QUANTIDADE': 3})\n",
      "Row((1471156710, 2015, 5, 26385), {'cpf': 0, 'ANO': 1, 'MES': 2, 'QUANTIDADE': 3})\n",
      "Row((8719655770, 2015, 6, 20038), {'cpf': 0, 'ANO': 1, 'MES': 2, 'QUANTIDADE': 3})\n",
      "Row((492472718, 2015, 6, 23361), {'cpf': 0, 'ANO': 1, 'MES': 2, 'QUANTIDADE': 3})\n",
      "Row((5648641702, 2015, 7, 20996), {'cpf': 0, 'ANO': 1, 'MES': 2, 'QUANTIDADE': 3})\n",
      "Row((19290992743, 2015, 7, 21914), {'cpf': 0, 'ANO': 1, 'MES': 2, 'QUANTIDADE': 3})\n",
      "Row((3623344710, 2015, 7, 21468), {'cpf': 0, 'ANO': 1, 'MES': 2, 'QUANTIDADE': 3})\n",
      "Row((9283760794, 2015, 8, 21840), {'cpf': 0, 'ANO': 1, 'MES': 2, 'QUANTIDADE': 3})\n",
      "Row((8502682733, 2015, 8, 22096), {'cpf': 0, 'ANO': 1, 'MES': 2, 'QUANTIDADE': 3})\n",
      "Row((19290992743, 2015, 8, 22322), {'cpf': 0, 'ANO': 1, 'MES': 2, 'QUANTIDADE': 3})\n",
      "Row((5576228758, 2015, 8, 20057), {'cpf': 0, 'ANO': 1, 'MES': 2, 'QUANTIDADE': 3})\n"
     ]
    }
   ],
   "source": [
    "QUERY = \"\"\"\n",
    "\n",
    "SELECT NF.cpf,\n",
    "       EXTRACT(year FROM NF.data_venda)  AS ANO,\n",
    "       EXTRACT(month FROM NF.data_venda) AS MES,\n",
    "       SUM(INF.quantidade)               AS QUANTIDADE\n",
    "FROM   `modified-ripsaw-343701.sucos_vendas.notas_fiscais` NF\n",
    "       INNER JOIN `modified-ripsaw-343701.sucos_vendas.itens_notas_fiscais` INF\n",
    "               ON NF.numero = INF.numero\n",
    "GROUP  BY NF.cpf,\n",
    "          ano,\n",
    "          mes\n",
    "LIMIT 20;\n",
    "\n",
    "\"\"\"\n",
    "\n",
    "query_job = bigquery_client.query(QUERY)\n",
    "for row in query_job.result():  \n",
    "    print(row)"
   ]
  },
  {
   "cell_type": "code",
   "execution_count": 55,
   "id": "ebe6fd5f",
   "metadata": {},
   "outputs": [
    {
     "name": "stdout",
     "output_type": "stream",
     "text": [
      "Row((1471156710, 'Érica Carvalho', 'R. Iriquitia', None, 'Jardins', 'São Paulo', 'SP', 80012212, datetime.date(1990, 9, 1), 27, 'F', 170000.0, 24500.0, 0), {'CPF': 0, 'NOME': 1, 'ENDERECO_1': 2, 'ENDERECO_2': 3, 'BAIRRO': 4, 'CIDADE': 5, 'ESTADO': 6, 'CEP': 7, 'DATA_DE_NASCIMENTO': 8, 'IDADE': 9, 'SEXO': 10, 'LIMITE_DE_CREDITO': 11, 'VOLUME_DE_COMPRA': 12, 'PRIMEIRA_COMPRA': 13})\n",
      "Row((5576228758, 'Petra Oliveira', 'R. Benício de Abreu', None, 'Lapa', 'São Paulo', 'SP', 88192029, datetime.date(1995, 11, 14), 22, 'F', 70000.0, 16000.0, 1), {'CPF': 0, 'NOME': 1, 'ENDERECO_1': 2, 'ENDERECO_2': 3, 'BAIRRO': 4, 'CIDADE': 5, 'ESTADO': 6, 'CEP': 7, 'DATA_DE_NASCIMENTO': 8, 'IDADE': 9, 'SEXO': 10, 'LIMITE_DE_CREDITO': 11, 'VOLUME_DE_COMPRA': 12, 'PRIMEIRA_COMPRA': 13})\n",
      "Row((5840119709, 'Gabriel Araujo', 'R. Manuel de Oliveira', None, 'Santo Amaro', 'São Paulo', 'SP', 80010221, datetime.date(1985, 3, 16), 32, 'M', 140000.0, 21000.0, 1), {'CPF': 0, 'NOME': 1, 'ENDERECO_1': 2, 'ENDERECO_2': 3, 'BAIRRO': 4, 'CIDADE': 5, 'ESTADO': 6, 'CEP': 7, 'DATA_DE_NASCIMENTO': 8, 'IDADE': 9, 'SEXO': 10, 'LIMITE_DE_CREDITO': 11, 'VOLUME_DE_COMPRA': 12, 'PRIMEIRA_COMPRA': 13})\n",
      "Row((7771579779, 'Marcelo Mattos', 'R. Eduardo Luís Lopes', None, 'Brás', 'São Paulo', 'SP', 88202912, datetime.date(1992, 3, 25), 25, 'M', 120000.0, 20000.0, 1), {'CPF': 0, 'NOME': 1, 'ENDERECO_1': 2, 'ENDERECO_2': 3, 'BAIRRO': 4, 'CIDADE': 5, 'ESTADO': 6, 'CEP': 7, 'DATA_DE_NASCIMENTO': 8, 'IDADE': 9, 'SEXO': 10, 'LIMITE_DE_CREDITO': 11, 'VOLUME_DE_COMPRA': 12, 'PRIMEIRA_COMPRA': 13})\n",
      "Row((8502682733, 'Valdeci da Silva', 'R. Srg. Édison de Oliveira', None, 'Jardins', 'São Paulo', 'SP', 82122020, datetime.date(1995, 10, 7), 22, 'M', 110000.0, 19000.0, 0), {'CPF': 0, 'NOME': 1, 'ENDERECO_1': 2, 'ENDERECO_2': 3, 'BAIRRO': 4, 'CIDADE': 5, 'ESTADO': 6, 'CEP': 7, 'DATA_DE_NASCIMENTO': 8, 'IDADE': 9, 'SEXO': 10, 'LIMITE_DE_CREDITO': 11, 'VOLUME_DE_COMPRA': 12, 'PRIMEIRA_COMPRA': 13})\n",
      "Row((8719655770, 'Carlos Eduardo', 'Av. Gen. Guedes da Fontoura', None, 'Jardins', 'São Paulo', 'SP', 81192002, datetime.date(1983, 12, 20), 34, 'M', 200000.0, 24000.0, 0), {'CPF': 0, 'NOME': 1, 'ENDERECO_1': 2, 'ENDERECO_2': 3, 'BAIRRO': 4, 'CIDADE': 5, 'ESTADO': 6, 'CEP': 7, 'DATA_DE_NASCIMENTO': 8, 'IDADE': 9, 'SEXO': 10, 'LIMITE_DE_CREDITO': 11, 'VOLUME_DE_COMPRA': 12, 'PRIMEIRA_COMPRA': 13})\n",
      "Row((19290992743, 'Fernando Cavalcante', 'R. Dois de Fevereiro', None, 'Água Santa', 'Rio de Janeiro', 'RJ', 22000000, datetime.date(2000, 2, 12), 18, 'M', 100000.0, 20000.0, 1), {'CPF': 0, 'NOME': 1, 'ENDERECO_1': 2, 'ENDERECO_2': 3, 'BAIRRO': 4, 'CIDADE': 5, 'ESTADO': 6, 'CEP': 7, 'DATA_DE_NASCIMENTO': 8, 'IDADE': 9, 'SEXO': 10, 'LIMITE_DE_CREDITO': 11, 'VOLUME_DE_COMPRA': 12, 'PRIMEIRA_COMPRA': 13})\n",
      "Row((2600586709, 'César Teixeira', 'Rua Conde de Bonfim', None, 'Tijuca', 'Rio de Janeiro', 'RJ', 22020001, datetime.date(2000, 3, 12), 18, 'M', 120000.0, 22000.0, 0), {'CPF': 0, 'NOME': 1, 'ENDERECO_1': 2, 'ENDERECO_2': 3, 'BAIRRO': 4, 'CIDADE': 5, 'ESTADO': 6, 'CEP': 7, 'DATA_DE_NASCIMENTO': 8, 'IDADE': 9, 'SEXO': 10, 'LIMITE_DE_CREDITO': 11, 'VOLUME_DE_COMPRA': 12, 'PRIMEIRA_COMPRA': 13})\n",
      "Row((3623344710, 'Marcos Nougeuira', 'Av. Pastor Martin Luther King Junior', None, 'Inhauma', 'Rio de Janeiro', 'RJ', 22002012, datetime.date(1995, 1, 13), 23, 'M', 110000.0, 22000.0, 1), {'CPF': 0, 'NOME': 1, 'ENDERECO_1': 2, 'ENDERECO_2': 3, 'BAIRRO': 4, 'CIDADE': 5, 'ESTADO': 6, 'CEP': 7, 'DATA_DE_NASCIMENTO': 8, 'IDADE': 9, 'SEXO': 10, 'LIMITE_DE_CREDITO': 11, 'VOLUME_DE_COMPRA': 12, 'PRIMEIRA_COMPRA': 13})\n",
      "Row((492472718, 'Eduardo Jorge', 'R. Volta Grande', None, 'Tijuca', 'Rio de Janeiro', 'RJ', 22012002, datetime.date(1994, 7, 19), 23, 'M', 75000.0, 9500.0, 1), {'CPF': 0, 'NOME': 1, 'ENDERECO_1': 2, 'ENDERECO_2': 3, 'BAIRRO': 4, 'CIDADE': 5, 'ESTADO': 6, 'CEP': 7, 'DATA_DE_NASCIMENTO': 8, 'IDADE': 9, 'SEXO': 10, 'LIMITE_DE_CREDITO': 11, 'VOLUME_DE_COMPRA': 12, 'PRIMEIRA_COMPRA': 13})\n",
      "Row((50534475787, 'Abel Silva ', 'Rua Humaitá', None, 'Humaitá', 'Rio de Janeiro', 'RJ', 22000212, datetime.date(1995, 9, 11), 22, 'M', 170000.0, 26000.0, 0), {'CPF': 0, 'NOME': 1, 'ENDERECO_1': 2, 'ENDERECO_2': 3, 'BAIRRO': 4, 'CIDADE': 5, 'ESTADO': 6, 'CEP': 7, 'DATA_DE_NASCIMENTO': 8, 'IDADE': 9, 'SEXO': 10, 'LIMITE_DE_CREDITO': 11, 'VOLUME_DE_COMPRA': 12, 'PRIMEIRA_COMPRA': 13})\n",
      "Row((5648641702, 'Paulo César Mattos', 'Rua Hélio Beltrão', None, 'Tijuca', 'Rio de Janeiro', 'RJ', 21002020, datetime.date(1991, 8, 30), 26, 'M', 120000.0, 22000.0, 0), {'CPF': 0, 'NOME': 1, 'ENDERECO_1': 2, 'ENDERECO_2': 3, 'BAIRRO': 4, 'CIDADE': 5, 'ESTADO': 6, 'CEP': 7, 'DATA_DE_NASCIMENTO': 8, 'IDADE': 9, 'SEXO': 10, 'LIMITE_DE_CREDITO': 11, 'VOLUME_DE_COMPRA': 12, 'PRIMEIRA_COMPRA': 13})\n",
      "Row((9283760794, 'Edson Meilelles', 'R. Pinto de Azevedo', None, 'Cidade Nova', 'Rio de Janeiro', 'RJ', 22002002, datetime.date(1995, 10, 7), 22, 'M', 150000.0, 25000.0, 1), {'CPF': 0, 'NOME': 1, 'ENDERECO_1': 2, 'ENDERECO_2': 3, 'BAIRRO': 4, 'CIDADE': 5, 'ESTADO': 6, 'CEP': 7, 'DATA_DE_NASCIMENTO': 8, 'IDADE': 9, 'SEXO': 10, 'LIMITE_DE_CREDITO': 11, 'VOLUME_DE_COMPRA': 12, 'PRIMEIRA_COMPRA': 13})\n",
      "Row((94387575700, 'Walber Lontra', 'R. Cel. Almeida', None, 'Piedade', 'Rio de Janeiro', 'RJ', 22000201, datetime.date(1989, 6, 20), 28, 'M', 60000.0, 12000.0, 1), {'CPF': 0, 'NOME': 1, 'ENDERECO_1': 2, 'ENDERECO_2': 3, 'BAIRRO': 4, 'CIDADE': 5, 'ESTADO': 6, 'CEP': 7, 'DATA_DE_NASCIMENTO': 8, 'IDADE': 9, 'SEXO': 10, 'LIMITE_DE_CREDITO': 11, 'VOLUME_DE_COMPRA': 12, 'PRIMEIRA_COMPRA': 13})\n",
      "Row((95939180787, 'Fábio Carvalho', 'R. dos Jacarandás da Península', None, 'Barra da Tijuca', 'Rio de Janeiro', 'RJ', 22002020, datetime.date(1992, 1, 5), 16, 'M', 90000.0, 18000.0, 1), {'CPF': 0, 'NOME': 1, 'ENDERECO_1': 2, 'ENDERECO_2': 3, 'BAIRRO': 4, 'CIDADE': 5, 'ESTADO': 6, 'CEP': 7, 'DATA_DE_NASCIMENTO': 8, 'IDADE': 9, 'SEXO': 10, 'LIMITE_DE_CREDITO': 11, 'VOLUME_DE_COMPRA': 12, 'PRIMEIRA_COMPRA': 13})\n"
     ]
    }
   ],
   "source": [
    "QUERY = \"\"\"\n",
    "\n",
    "SELECT *\n",
    "FROM   `modified-ripsaw-343701.sucos_vendas.tabela_de_clientes` TC\n",
    "LIMIT 20;\n",
    "\n",
    "\"\"\"\n",
    "\n",
    "query_job = bigquery_client.query(QUERY)\n",
    "for row in query_job.result():  \n",
    "    print(row)"
   ]
  },
  {
   "cell_type": "code",
   "execution_count": 56,
   "id": "886fcecb",
   "metadata": {},
   "outputs": [
    {
     "name": "stdout",
     "output_type": "stream",
     "text": [
      "Row((1471156710, 24500.0), {'cpf': 0, 'volume_de_compra': 1})\n",
      "Row((5576228758, 16000.0), {'cpf': 0, 'volume_de_compra': 1})\n",
      "Row((5840119709, 21000.0), {'cpf': 0, 'volume_de_compra': 1})\n",
      "Row((7771579779, 20000.0), {'cpf': 0, 'volume_de_compra': 1})\n",
      "Row((8502682733, 19000.0), {'cpf': 0, 'volume_de_compra': 1})\n",
      "Row((8719655770, 24000.0), {'cpf': 0, 'volume_de_compra': 1})\n",
      "Row((19290992743, 20000.0), {'cpf': 0, 'volume_de_compra': 1})\n",
      "Row((2600586709, 22000.0), {'cpf': 0, 'volume_de_compra': 1})\n",
      "Row((3623344710, 22000.0), {'cpf': 0, 'volume_de_compra': 1})\n",
      "Row((492472718, 9500.0), {'cpf': 0, 'volume_de_compra': 1})\n",
      "Row((50534475787, 26000.0), {'cpf': 0, 'volume_de_compra': 1})\n",
      "Row((5648641702, 22000.0), {'cpf': 0, 'volume_de_compra': 1})\n",
      "Row((9283760794, 25000.0), {'cpf': 0, 'volume_de_compra': 1})\n",
      "Row((94387575700, 12000.0), {'cpf': 0, 'volume_de_compra': 1})\n",
      "Row((95939180787, 18000.0), {'cpf': 0, 'volume_de_compra': 1})\n"
     ]
    }
   ],
   "source": [
    "QUERY = \"\"\"\n",
    "\n",
    "SELECT TC.cpf,\n",
    "       TC.volume_de_compra\n",
    "FROM   `modified-ripsaw-343701.sucos_vendas.tabela_de_clientes` TC \n",
    "LIMIT 20;\n",
    "\n",
    "\"\"\"\n",
    "\n",
    "query_job = bigquery_client.query(QUERY)\n",
    "for row in query_job.result():  \n",
    "    print(row)"
   ]
  },
  {
   "cell_type": "code",
   "execution_count": 57,
   "id": "0d04c383",
   "metadata": {},
   "outputs": [
    {
     "name": "stdout",
     "output_type": "stream",
     "text": [
      "Row((8502682733, 2015, 2, 18927, 6555000.0), {'cpf': 0, 'ANO': 1, 'MES': 2, 'QUANTIDADE': 3, 'QUANTIDADE_MAXIMA': 4})\n",
      "Row((2600586709, 2015, 3, 20474, 8272000.0), {'cpf': 0, 'ANO': 1, 'MES': 2, 'QUANTIDADE': 3, 'QUANTIDADE_MAXIMA': 4})\n",
      "Row((5648641702, 2015, 3, 24390, 9680000.0), {'cpf': 0, 'ANO': 1, 'MES': 2, 'QUANTIDADE': 3, 'QUANTIDADE_MAXIMA': 4})\n",
      "Row((1471156710, 2015, 3, 22057, 9530500.0), {'cpf': 0, 'ANO': 1, 'MES': 2, 'QUANTIDADE': 3, 'QUANTIDADE_MAXIMA': 4})\n",
      "Row((8719655770, 2015, 3, 20694, 9168000.0), {'cpf': 0, 'ANO': 1, 'MES': 2, 'QUANTIDADE': 3, 'QUANTIDADE_MAXIMA': 4})\n",
      "Row((50534475787, 2015, 4, 22390, 10400000.0), {'cpf': 0, 'ANO': 1, 'MES': 2, 'QUANTIDADE': 3, 'QUANTIDADE_MAXIMA': 4})\n",
      "Row((7771579779, 2015, 4, 21444, 7720000.0), {'cpf': 0, 'ANO': 1, 'MES': 2, 'QUANTIDADE': 3, 'QUANTIDADE_MAXIMA': 4})\n",
      "Row((8502682733, 2015, 4, 20949, 7410000.0), {'cpf': 0, 'ANO': 1, 'MES': 2, 'QUANTIDADE': 3, 'QUANTIDADE_MAXIMA': 4})\n",
      "Row((492472718, 2015, 5, 24918, 4341500.0), {'cpf': 0, 'ANO': 1, 'MES': 2, 'QUANTIDADE': 3, 'QUANTIDADE_MAXIMA': 4})\n",
      "Row((5648641702, 2015, 5, 24004, 9438000.0), {'cpf': 0, 'ANO': 1, 'MES': 2, 'QUANTIDADE': 3, 'QUANTIDADE_MAXIMA': 4})\n",
      "Row((1471156710, 2015, 5, 26385, 11931500.0), {'cpf': 0, 'ANO': 1, 'MES': 2, 'QUANTIDADE': 3, 'QUANTIDADE_MAXIMA': 4})\n",
      "Row((8719655770, 2015, 6, 20038, 8640000.0), {'cpf': 0, 'ANO': 1, 'MES': 2, 'QUANTIDADE': 3, 'QUANTIDADE_MAXIMA': 4})\n",
      "Row((492472718, 2015, 6, 23361, 4151500.0), {'cpf': 0, 'ANO': 1, 'MES': 2, 'QUANTIDADE': 3, 'QUANTIDADE_MAXIMA': 4})\n",
      "Row((5648641702, 2015, 7, 20996, 8624000.0), {'cpf': 0, 'ANO': 1, 'MES': 2, 'QUANTIDADE': 3, 'QUANTIDADE_MAXIMA': 4})\n",
      "Row((19290992743, 2015, 7, 21914, 8080000.0), {'cpf': 0, 'ANO': 1, 'MES': 2, 'QUANTIDADE': 3, 'QUANTIDADE_MAXIMA': 4})\n",
      "Row((3623344710, 2015, 7, 21468, 8580000.0), {'cpf': 0, 'ANO': 1, 'MES': 2, 'QUANTIDADE': 3, 'QUANTIDADE_MAXIMA': 4})\n",
      "Row((9283760794, 2015, 8, 21840, 9975000.0), {'cpf': 0, 'ANO': 1, 'MES': 2, 'QUANTIDADE': 3, 'QUANTIDADE_MAXIMA': 4})\n",
      "Row((8502682733, 2015, 8, 22096, 8227000.0), {'cpf': 0, 'ANO': 1, 'MES': 2, 'QUANTIDADE': 3, 'QUANTIDADE_MAXIMA': 4})\n",
      "Row((19290992743, 2015, 8, 22322, 8360000.0), {'cpf': 0, 'ANO': 1, 'MES': 2, 'QUANTIDADE': 3, 'QUANTIDADE_MAXIMA': 4})\n",
      "Row((5576228758, 2015, 8, 20057, 5776000.0), {'cpf': 0, 'ANO': 1, 'MES': 2, 'QUANTIDADE': 3, 'QUANTIDADE_MAXIMA': 4})\n"
     ]
    }
   ],
   "source": [
    "QUERY = \"\"\"\n",
    "\n",
    "SELECT NF.cpf,\n",
    "       EXTRACT(year FROM NF.data_venda)  AS ANO,\n",
    "       EXTRACT(month FROM NF.data_venda) AS MES,\n",
    "       SUM(INF.quantidade)               AS QUANTIDADE,\n",
    "       SUM(TC.volume_de_compra)          AS QUANTIDADE_MAXIMA\n",
    "FROM   `modified-ripsaw-343701.sucos_vendas.notas_fiscais` NF\n",
    "       INNER JOIN `modified-ripsaw-343701.sucos_vendas.itens_notas_fiscais` INF\n",
    "               ON NF.numero = INF.numero\n",
    "       INNER JOIN `modified-ripsaw-343701.sucos_vendas.tabela_de_clientes` TC\n",
    "               ON NF.cpf = TC.cpf\n",
    "GROUP  BY NF.cpf,\n",
    "          ano,\n",
    "          mes\n",
    "LIMIT 20;\n",
    "\n",
    "\"\"\"\n",
    "\n",
    "query_job = bigquery_client.query(QUERY)\n",
    "for row in query_job.result():  \n",
    "    print(row)"
   ]
  },
  {
   "cell_type": "code",
   "execution_count": 58,
   "id": "ea6dd0c2",
   "metadata": {},
   "outputs": [
    {
     "name": "stdout",
     "output_type": "stream",
     "text": [
      "Row((8502682733, 2015, 2, 18927, 19000.0), {'cpf': 0, 'ANO': 1, 'MES': 2, 'QUANTIDADE': 3, 'QUANTIDADE_MAXIMA': 4})\n",
      "Row((2600586709, 2015, 3, 20474, 22000.0), {'cpf': 0, 'ANO': 1, 'MES': 2, 'QUANTIDADE': 3, 'QUANTIDADE_MAXIMA': 4})\n",
      "Row((5648641702, 2015, 3, 24390, 22000.0), {'cpf': 0, 'ANO': 1, 'MES': 2, 'QUANTIDADE': 3, 'QUANTIDADE_MAXIMA': 4})\n",
      "Row((1471156710, 2015, 3, 22057, 24500.0), {'cpf': 0, 'ANO': 1, 'MES': 2, 'QUANTIDADE': 3, 'QUANTIDADE_MAXIMA': 4})\n",
      "Row((8719655770, 2015, 3, 20694, 24000.0), {'cpf': 0, 'ANO': 1, 'MES': 2, 'QUANTIDADE': 3, 'QUANTIDADE_MAXIMA': 4})\n",
      "Row((50534475787, 2015, 4, 22390, 26000.0), {'cpf': 0, 'ANO': 1, 'MES': 2, 'QUANTIDADE': 3, 'QUANTIDADE_MAXIMA': 4})\n",
      "Row((7771579779, 2015, 4, 21444, 20000.0), {'cpf': 0, 'ANO': 1, 'MES': 2, 'QUANTIDADE': 3, 'QUANTIDADE_MAXIMA': 4})\n",
      "Row((8502682733, 2015, 4, 20949, 19000.0), {'cpf': 0, 'ANO': 1, 'MES': 2, 'QUANTIDADE': 3, 'QUANTIDADE_MAXIMA': 4})\n",
      "Row((492472718, 2015, 5, 24918, 9500.0), {'cpf': 0, 'ANO': 1, 'MES': 2, 'QUANTIDADE': 3, 'QUANTIDADE_MAXIMA': 4})\n",
      "Row((5648641702, 2015, 5, 24004, 22000.0), {'cpf': 0, 'ANO': 1, 'MES': 2, 'QUANTIDADE': 3, 'QUANTIDADE_MAXIMA': 4})\n",
      "Row((1471156710, 2015, 5, 26385, 24500.0), {'cpf': 0, 'ANO': 1, 'MES': 2, 'QUANTIDADE': 3, 'QUANTIDADE_MAXIMA': 4})\n",
      "Row((8719655770, 2015, 6, 20038, 24000.0), {'cpf': 0, 'ANO': 1, 'MES': 2, 'QUANTIDADE': 3, 'QUANTIDADE_MAXIMA': 4})\n",
      "Row((492472718, 2015, 6, 23361, 9500.0), {'cpf': 0, 'ANO': 1, 'MES': 2, 'QUANTIDADE': 3, 'QUANTIDADE_MAXIMA': 4})\n",
      "Row((5648641702, 2015, 7, 20996, 22000.0), {'cpf': 0, 'ANO': 1, 'MES': 2, 'QUANTIDADE': 3, 'QUANTIDADE_MAXIMA': 4})\n",
      "Row((19290992743, 2015, 7, 21914, 20000.0), {'cpf': 0, 'ANO': 1, 'MES': 2, 'QUANTIDADE': 3, 'QUANTIDADE_MAXIMA': 4})\n",
      "Row((3623344710, 2015, 7, 21468, 22000.0), {'cpf': 0, 'ANO': 1, 'MES': 2, 'QUANTIDADE': 3, 'QUANTIDADE_MAXIMA': 4})\n",
      "Row((9283760794, 2015, 8, 21840, 25000.0), {'cpf': 0, 'ANO': 1, 'MES': 2, 'QUANTIDADE': 3, 'QUANTIDADE_MAXIMA': 4})\n",
      "Row((8502682733, 2015, 8, 22096, 19000.0), {'cpf': 0, 'ANO': 1, 'MES': 2, 'QUANTIDADE': 3, 'QUANTIDADE_MAXIMA': 4})\n",
      "Row((19290992743, 2015, 8, 22322, 20000.0), {'cpf': 0, 'ANO': 1, 'MES': 2, 'QUANTIDADE': 3, 'QUANTIDADE_MAXIMA': 4})\n",
      "Row((5576228758, 2015, 8, 20057, 16000.0), {'cpf': 0, 'ANO': 1, 'MES': 2, 'QUANTIDADE': 3, 'QUANTIDADE_MAXIMA': 4})\n"
     ]
    }
   ],
   "source": [
    "QUERY = \"\"\"\n",
    "\n",
    "SELECT NF.cpf,\n",
    "       EXTRACT(year FROM NF.data_venda)  AS ANO,\n",
    "       EXTRACT(month FROM NF.data_venda) AS MES,\n",
    "       SUM(INF.quantidade)               AS QUANTIDADE,\n",
    "       MAX(TC.volume_de_compra)          AS QUANTIDADE_MAXIMA\n",
    "FROM   `modified-ripsaw-343701.sucos_vendas.notas_fiscais` NF\n",
    "       INNER JOIN `modified-ripsaw-343701.sucos_vendas.itens_notas_fiscais` INF\n",
    "               ON NF.numero = INF.numero\n",
    "       INNER JOIN `modified-ripsaw-343701.sucos_vendas.tabela_de_clientes` TC\n",
    "               ON NF.cpf = TC.cpf\n",
    "GROUP  BY NF.cpf,\n",
    "          ano,\n",
    "          mes\n",
    "LIMIT 20;\n",
    "\n",
    "\"\"\"\n",
    "\n",
    "query_job = bigquery_client.query(QUERY)\n",
    "for row in query_job.result():  \n",
    "    print(row)"
   ]
  },
  {
   "cell_type": "code",
   "execution_count": 59,
   "id": "2a9361c5",
   "metadata": {},
   "outputs": [
    {
     "name": "stdout",
     "output_type": "stream",
     "text": [
      "Row((8502682733, 2015, 2, 73.0), {'cpf': 0, 'ANO': 1, 'MES': 2, 'DIFERENCA': 3})\n",
      "Row((2600586709, 2015, 3, 1526.0), {'cpf': 0, 'ANO': 1, 'MES': 2, 'DIFERENCA': 3})\n",
      "Row((5648641702, 2015, 3, -2390.0), {'cpf': 0, 'ANO': 1, 'MES': 2, 'DIFERENCA': 3})\n",
      "Row((1471156710, 2015, 3, 2443.0), {'cpf': 0, 'ANO': 1, 'MES': 2, 'DIFERENCA': 3})\n",
      "Row((8719655770, 2015, 3, 3306.0), {'cpf': 0, 'ANO': 1, 'MES': 2, 'DIFERENCA': 3})\n",
      "Row((50534475787, 2015, 4, 3610.0), {'cpf': 0, 'ANO': 1, 'MES': 2, 'DIFERENCA': 3})\n",
      "Row((7771579779, 2015, 4, -1444.0), {'cpf': 0, 'ANO': 1, 'MES': 2, 'DIFERENCA': 3})\n",
      "Row((8502682733, 2015, 4, -1949.0), {'cpf': 0, 'ANO': 1, 'MES': 2, 'DIFERENCA': 3})\n",
      "Row((492472718, 2015, 5, -15418.0), {'cpf': 0, 'ANO': 1, 'MES': 2, 'DIFERENCA': 3})\n",
      "Row((5648641702, 2015, 5, -2004.0), {'cpf': 0, 'ANO': 1, 'MES': 2, 'DIFERENCA': 3})\n",
      "Row((1471156710, 2015, 5, -1885.0), {'cpf': 0, 'ANO': 1, 'MES': 2, 'DIFERENCA': 3})\n",
      "Row((8719655770, 2015, 6, 3962.0), {'cpf': 0, 'ANO': 1, 'MES': 2, 'DIFERENCA': 3})\n",
      "Row((492472718, 2015, 6, -13861.0), {'cpf': 0, 'ANO': 1, 'MES': 2, 'DIFERENCA': 3})\n",
      "Row((5648641702, 2015, 7, 1004.0), {'cpf': 0, 'ANO': 1, 'MES': 2, 'DIFERENCA': 3})\n",
      "Row((19290992743, 2015, 7, -1914.0), {'cpf': 0, 'ANO': 1, 'MES': 2, 'DIFERENCA': 3})\n",
      "Row((3623344710, 2015, 7, 532.0), {'cpf': 0, 'ANO': 1, 'MES': 2, 'DIFERENCA': 3})\n",
      "Row((9283760794, 2015, 8, 3160.0), {'cpf': 0, 'ANO': 1, 'MES': 2, 'DIFERENCA': 3})\n",
      "Row((8502682733, 2015, 8, -3096.0), {'cpf': 0, 'ANO': 1, 'MES': 2, 'DIFERENCA': 3})\n",
      "Row((19290992743, 2015, 8, -2322.0), {'cpf': 0, 'ANO': 1, 'MES': 2, 'DIFERENCA': 3})\n",
      "Row((5576228758, 2015, 8, -4057.0), {'cpf': 0, 'ANO': 1, 'MES': 2, 'DIFERENCA': 3})\n"
     ]
    }
   ],
   "source": [
    "QUERY = \"\"\"\n",
    "\n",
    "SELECT NF.cpf,\n",
    "       EXTRACT(year FROM NF.data_venda)                   AS ANO,\n",
    "       EXTRACT(month FROM NF.data_venda)                  AS MES,\n",
    "       ( MAX(TC.volume_de_compra) - SUM(INF.quantidade) ) AS DIFERENCA\n",
    "FROM   `modified-ripsaw-343701.sucos_vendas.notas_fiscais` NF\n",
    "       INNER JOIN `modified-ripsaw-343701.sucos_vendas.itens_notas_fiscais` INF\n",
    "               ON NF.numero = INF.numero\n",
    "       INNER JOIN `modified-ripsaw-343701.sucos_vendas.tabela_de_clientes` TC\n",
    "               ON NF.cpf = TC.cpf\n",
    "GROUP  BY NF.cpf,\n",
    "          ano,\n",
    "          mes\n",
    "LIMIT 20;\n",
    "\n",
    "\"\"\"\n",
    "\n",
    "query_job = bigquery_client.query(QUERY)\n",
    "for row in query_job.result():  \n",
    "    print(row)"
   ]
  },
  {
   "cell_type": "code",
   "execution_count": 60,
   "id": "6454253d",
   "metadata": {},
   "outputs": [
    {
     "name": "stdout",
     "output_type": "stream",
     "text": [
      "Row((8502682733, 2015, 2, 'VÁLIDA'), {'cpf': 0, 'ano': 1, 'mes': 2, 'STATUS': 3})\n",
      "Row((2600586709, 2015, 3, 'VÁLIDA'), {'cpf': 0, 'ano': 1, 'mes': 2, 'STATUS': 3})\n",
      "Row((5648641702, 2015, 3, 'INVÁLIDA'), {'cpf': 0, 'ano': 1, 'mes': 2, 'STATUS': 3})\n",
      "Row((1471156710, 2015, 3, 'VÁLIDA'), {'cpf': 0, 'ano': 1, 'mes': 2, 'STATUS': 3})\n",
      "Row((8719655770, 2015, 3, 'VÁLIDA'), {'cpf': 0, 'ano': 1, 'mes': 2, 'STATUS': 3})\n",
      "Row((50534475787, 2015, 4, 'VÁLIDA'), {'cpf': 0, 'ano': 1, 'mes': 2, 'STATUS': 3})\n",
      "Row((7771579779, 2015, 4, 'INVÁLIDA'), {'cpf': 0, 'ano': 1, 'mes': 2, 'STATUS': 3})\n",
      "Row((8502682733, 2015, 4, 'INVÁLIDA'), {'cpf': 0, 'ano': 1, 'mes': 2, 'STATUS': 3})\n",
      "Row((492472718, 2015, 5, 'INVÁLIDA'), {'cpf': 0, 'ano': 1, 'mes': 2, 'STATUS': 3})\n",
      "Row((5648641702, 2015, 5, 'INVÁLIDA'), {'cpf': 0, 'ano': 1, 'mes': 2, 'STATUS': 3})\n",
      "Row((1471156710, 2015, 5, 'INVÁLIDA'), {'cpf': 0, 'ano': 1, 'mes': 2, 'STATUS': 3})\n",
      "Row((8719655770, 2015, 6, 'VÁLIDA'), {'cpf': 0, 'ano': 1, 'mes': 2, 'STATUS': 3})\n",
      "Row((492472718, 2015, 6, 'INVÁLIDA'), {'cpf': 0, 'ano': 1, 'mes': 2, 'STATUS': 3})\n",
      "Row((5648641702, 2015, 7, 'VÁLIDA'), {'cpf': 0, 'ano': 1, 'mes': 2, 'STATUS': 3})\n",
      "Row((19290992743, 2015, 7, 'INVÁLIDA'), {'cpf': 0, 'ano': 1, 'mes': 2, 'STATUS': 3})\n",
      "Row((3623344710, 2015, 7, 'VÁLIDA'), {'cpf': 0, 'ano': 1, 'mes': 2, 'STATUS': 3})\n",
      "Row((9283760794, 2015, 8, 'VÁLIDA'), {'cpf': 0, 'ano': 1, 'mes': 2, 'STATUS': 3})\n",
      "Row((8502682733, 2015, 8, 'INVÁLIDA'), {'cpf': 0, 'ano': 1, 'mes': 2, 'STATUS': 3})\n",
      "Row((19290992743, 2015, 8, 'INVÁLIDA'), {'cpf': 0, 'ano': 1, 'mes': 2, 'STATUS': 3})\n",
      "Row((5576228758, 2015, 8, 'INVÁLIDA'), {'cpf': 0, 'ano': 1, 'mes': 2, 'STATUS': 3})\n"
     ]
    }
   ],
   "source": [
    "QUERY = \"\"\"\n",
    "\n",
    "SELECT X.cpf,\n",
    "       X.ano,\n",
    "       X.mes,\n",
    "       CASE\n",
    "         WHEN X.diferenca >= 0 THEN \"VÁLIDA\"\n",
    "         ELSE \"INVÁLIDA\"\n",
    "       END AS STATUS\n",
    "FROM   (SELECT NF.cpf,\n",
    "               EXTRACT(year FROM NF.data_venda)                   AS ANO,\n",
    "               EXTRACT(month FROM NF.data_venda)                  AS MES,\n",
    "               ( MAX(TC.volume_de_compra) - SUM(INF.quantidade) ) AS DIFERENCA\n",
    "        FROM   `modified-ripsaw-343701.sucos_vendas.notas_fiscais` NF\n",
    "INNER JOIN `modified-ripsaw-343701.sucos_vendas.itens_notas_fiscais` INF\n",
    "        ON NF.numero = INF.numero\n",
    "INNER JOIN `modified-ripsaw-343701.sucos_vendas.tabela_de_clientes` TC\n",
    "        ON NF.cpf = TC.cpf\n",
    "        GROUP  BY NF.cpf,\n",
    "                  ano,\n",
    "                  mes) X\n",
    "LIMIT 20;\n",
    "\n",
    "\"\"\"\n",
    "\n",
    "query_job = bigquery_client.query(QUERY)\n",
    "for row in query_job.result():  \n",
    "    print(row)"
   ]
  },
  {
   "cell_type": "code",
   "execution_count": 61,
   "id": "3657d014",
   "metadata": {},
   "outputs": [
    {
     "name": "stdout",
     "output_type": "stream",
     "text": [
      "Row((492472718, 2015, 1, 'INVÁLIDA'), {'cpf': 0, 'ano': 1, 'mes': 2, 'STATUS': 3})\n",
      "Row((492472718, 2015, 2, 'INVÁLIDA'), {'cpf': 0, 'ano': 1, 'mes': 2, 'STATUS': 3})\n",
      "Row((492472718, 2015, 3, 'INVÁLIDA'), {'cpf': 0, 'ano': 1, 'mes': 2, 'STATUS': 3})\n",
      "Row((492472718, 2015, 4, 'INVÁLIDA'), {'cpf': 0, 'ano': 1, 'mes': 2, 'STATUS': 3})\n",
      "Row((492472718, 2015, 5, 'INVÁLIDA'), {'cpf': 0, 'ano': 1, 'mes': 2, 'STATUS': 3})\n",
      "Row((492472718, 2015, 6, 'INVÁLIDA'), {'cpf': 0, 'ano': 1, 'mes': 2, 'STATUS': 3})\n",
      "Row((492472718, 2015, 7, 'INVÁLIDA'), {'cpf': 0, 'ano': 1, 'mes': 2, 'STATUS': 3})\n",
      "Row((492472718, 2015, 8, 'INVÁLIDA'), {'cpf': 0, 'ano': 1, 'mes': 2, 'STATUS': 3})\n",
      "Row((492472718, 2015, 9, 'INVÁLIDA'), {'cpf': 0, 'ano': 1, 'mes': 2, 'STATUS': 3})\n",
      "Row((492472718, 2015, 10, 'INVÁLIDA'), {'cpf': 0, 'ano': 1, 'mes': 2, 'STATUS': 3})\n",
      "Row((492472718, 2015, 11, 'INVÁLIDA'), {'cpf': 0, 'ano': 1, 'mes': 2, 'STATUS': 3})\n",
      "Row((492472718, 2015, 12, 'INVÁLIDA'), {'cpf': 0, 'ano': 1, 'mes': 2, 'STATUS': 3})\n",
      "Row((492472718, 2016, 1, 'INVÁLIDA'), {'cpf': 0, 'ano': 1, 'mes': 2, 'STATUS': 3})\n",
      "Row((492472718, 2016, 2, 'INVÁLIDA'), {'cpf': 0, 'ano': 1, 'mes': 2, 'STATUS': 3})\n",
      "Row((492472718, 2016, 3, 'INVÁLIDA'), {'cpf': 0, 'ano': 1, 'mes': 2, 'STATUS': 3})\n",
      "Row((492472718, 2016, 4, 'INVÁLIDA'), {'cpf': 0, 'ano': 1, 'mes': 2, 'STATUS': 3})\n",
      "Row((492472718, 2016, 5, 'INVÁLIDA'), {'cpf': 0, 'ano': 1, 'mes': 2, 'STATUS': 3})\n",
      "Row((492472718, 2016, 6, 'INVÁLIDA'), {'cpf': 0, 'ano': 1, 'mes': 2, 'STATUS': 3})\n",
      "Row((492472718, 2016, 7, 'INVÁLIDA'), {'cpf': 0, 'ano': 1, 'mes': 2, 'STATUS': 3})\n",
      "Row((492472718, 2016, 8, 'INVÁLIDA'), {'cpf': 0, 'ano': 1, 'mes': 2, 'STATUS': 3})\n"
     ]
    }
   ],
   "source": [
    "QUERY = \"\"\"\n",
    "\n",
    "SELECT X.cpf,\n",
    "       X.ano,\n",
    "       X.mes,\n",
    "       CASE\n",
    "         WHEN X.diferenca >= 0 THEN \"VÁLIDA\"\n",
    "         ELSE \"INVÁLIDA\"\n",
    "       END AS STATUS\n",
    "FROM   (SELECT NF.cpf,\n",
    "               EXTRACT(year FROM NF.data_venda)                   AS ANO,\n",
    "               EXTRACT(month FROM NF.data_venda)                  AS MES,\n",
    "               ( MAX(TC.volume_de_compra) - SUM(INF.quantidade) ) AS DIFERENCA\n",
    "        FROM   `modified-ripsaw-343701.sucos_vendas.notas_fiscais` NF\n",
    "INNER JOIN `modified-ripsaw-343701.sucos_vendas.itens_notas_fiscais` INF\n",
    "        ON NF.numero = INF.numero\n",
    "INNER JOIN `modified-ripsaw-343701.sucos_vendas.tabela_de_clientes` TC\n",
    "        ON NF.cpf = TC.cpf\n",
    "        GROUP  BY NF.cpf,\n",
    "                  ano,\n",
    "                  mes) X\n",
    "ORDER  BY X.cpf,\n",
    "          X.ano,\n",
    "          X.mes\n",
    "LIMIT 20;\n",
    "\n",
    "\"\"\"\n",
    "\n",
    "query_job = bigquery_client.query(QUERY)\n",
    "for row in query_job.result():  \n",
    "    print(row)"
   ]
  },
  {
   "cell_type": "code",
   "execution_count": 62,
   "id": "f90877eb",
   "metadata": {},
   "outputs": [
    {
     "name": "stdout",
     "output_type": "stream",
     "text": [
      "Row((723457, 'Festival de Sabores - 700 ml - Maracujá', 'Garrafa', '700 ml', 'Maracujá', '4.912', None, None, 2893, 723457, 10, 4.912), {'CODIGO_DO_PRODUTO': 0, 'NOME_DO_PRODUTO': 1, 'EMBALAGEM': 2, 'TAMANHO': 3, 'SABOR': 4, 'PRECO_DE_LISTA': 5, 'string_field_6': 6, 'double_field_7': 7, 'NUMERO': 8, 'CODIGO_DO_PRODUTO_1': 9, 'QUANTIDADE': 10, 'PRECO': 11})\n",
      "Row((723457, 'Festival de Sabores - 700 ml - Maracujá', 'Garrafa', '700 ml', 'Maracujá', '4.912', None, None, 4521, 723457, 10, 4.912), {'CODIGO_DO_PRODUTO': 0, 'NOME_DO_PRODUTO': 1, 'EMBALAGEM': 2, 'TAMANHO': 3, 'SABOR': 4, 'PRECO_DE_LISTA': 5, 'string_field_6': 6, 'double_field_7': 7, 'NUMERO': 8, 'CODIGO_DO_PRODUTO_1': 9, 'QUANTIDADE': 10, 'PRECO': 11})\n",
      "Row((723457, 'Festival de Sabores - 700 ml - Maracujá', 'Garrafa', '700 ml', 'Maracujá', '4.912', None, None, 5396, 723457, 10, 4.912), {'CODIGO_DO_PRODUTO': 0, 'NOME_DO_PRODUTO': 1, 'EMBALAGEM': 2, 'TAMANHO': 3, 'SABOR': 4, 'PRECO_DE_LISTA': 5, 'string_field_6': 6, 'double_field_7': 7, 'NUMERO': 8, 'CODIGO_DO_PRODUTO_1': 9, 'QUANTIDADE': 10, 'PRECO': 11})\n",
      "Row((723457, 'Festival de Sabores - 700 ml - Maracujá', 'Garrafa', '700 ml', 'Maracujá', '4.912', None, None, 6073, 723457, 10, 4.912), {'CODIGO_DO_PRODUTO': 0, 'NOME_DO_PRODUTO': 1, 'EMBALAGEM': 2, 'TAMANHO': 3, 'SABOR': 4, 'PRECO_DE_LISTA': 5, 'string_field_6': 6, 'double_field_7': 7, 'NUMERO': 8, 'CODIGO_DO_PRODUTO_1': 9, 'QUANTIDADE': 10, 'PRECO': 11})\n",
      "Row((723457, 'Festival de Sabores - 700 ml - Maracujá', 'Garrafa', '700 ml', 'Maracujá', '4.912', None, None, 6571, 723457, 10, 4.912), {'CODIGO_DO_PRODUTO': 0, 'NOME_DO_PRODUTO': 1, 'EMBALAGEM': 2, 'TAMANHO': 3, 'SABOR': 4, 'PRECO_DE_LISTA': 5, 'string_field_6': 6, 'double_field_7': 7, 'NUMERO': 8, 'CODIGO_DO_PRODUTO_1': 9, 'QUANTIDADE': 10, 'PRECO': 11})\n",
      "Row((723457, 'Festival de Sabores - 700 ml - Maracujá', 'Garrafa', '700 ml', 'Maracujá', '4.912', None, None, 6780, 723457, 10, 4.912), {'CODIGO_DO_PRODUTO': 0, 'NOME_DO_PRODUTO': 1, 'EMBALAGEM': 2, 'TAMANHO': 3, 'SABOR': 4, 'PRECO_DE_LISTA': 5, 'string_field_6': 6, 'double_field_7': 7, 'NUMERO': 8, 'CODIGO_DO_PRODUTO_1': 9, 'QUANTIDADE': 10, 'PRECO': 11})\n",
      "Row((723457, 'Festival de Sabores - 700 ml - Maracujá', 'Garrafa', '700 ml', 'Maracujá', '4.912', None, None, 7998, 723457, 10, 4.912), {'CODIGO_DO_PRODUTO': 0, 'NOME_DO_PRODUTO': 1, 'EMBALAGEM': 2, 'TAMANHO': 3, 'SABOR': 4, 'PRECO_DE_LISTA': 5, 'string_field_6': 6, 'double_field_7': 7, 'NUMERO': 8, 'CODIGO_DO_PRODUTO_1': 9, 'QUANTIDADE': 10, 'PRECO': 11})\n",
      "Row((723457, 'Festival de Sabores - 700 ml - Maracujá', 'Garrafa', '700 ml', 'Maracujá', '4.912', None, None, 8778, 723457, 10, 4.912), {'CODIGO_DO_PRODUTO': 0, 'NOME_DO_PRODUTO': 1, 'EMBALAGEM': 2, 'TAMANHO': 3, 'SABOR': 4, 'PRECO_DE_LISTA': 5, 'string_field_6': 6, 'double_field_7': 7, 'NUMERO': 8, 'CODIGO_DO_PRODUTO_1': 9, 'QUANTIDADE': 10, 'PRECO': 11})\n",
      "Row((723457, 'Festival de Sabores - 700 ml - Maracujá', 'Garrafa', '700 ml', 'Maracujá', '4.912', None, None, 8994, 723457, 10, 4.912), {'CODIGO_DO_PRODUTO': 0, 'NOME_DO_PRODUTO': 1, 'EMBALAGEM': 2, 'TAMANHO': 3, 'SABOR': 4, 'PRECO_DE_LISTA': 5, 'string_field_6': 6, 'double_field_7': 7, 'NUMERO': 8, 'CODIGO_DO_PRODUTO_1': 9, 'QUANTIDADE': 10, 'PRECO': 11})\n",
      "Row((723457, 'Festival de Sabores - 700 ml - Maracujá', 'Garrafa', '700 ml', 'Maracujá', '4.912', None, None, 9500, 723457, 10, 4.912), {'CODIGO_DO_PRODUTO': 0, 'NOME_DO_PRODUTO': 1, 'EMBALAGEM': 2, 'TAMANHO': 3, 'SABOR': 4, 'PRECO_DE_LISTA': 5, 'string_field_6': 6, 'double_field_7': 7, 'NUMERO': 8, 'CODIGO_DO_PRODUTO_1': 9, 'QUANTIDADE': 10, 'PRECO': 11})\n",
      "Row((723457, 'Festival de Sabores - 700 ml - Maracujá', 'Garrafa', '700 ml', 'Maracujá', '4.912', None, None, 9587, 723457, 10, 4.912), {'CODIGO_DO_PRODUTO': 0, 'NOME_DO_PRODUTO': 1, 'EMBALAGEM': 2, 'TAMANHO': 3, 'SABOR': 4, 'PRECO_DE_LISTA': 5, 'string_field_6': 6, 'double_field_7': 7, 'NUMERO': 8, 'CODIGO_DO_PRODUTO_1': 9, 'QUANTIDADE': 10, 'PRECO': 11})\n",
      "Row((723457, 'Festival de Sabores - 700 ml - Maracujá', 'Garrafa', '700 ml', 'Maracujá', '4.912', None, None, 12513, 723457, 10, 4.912), {'CODIGO_DO_PRODUTO': 0, 'NOME_DO_PRODUTO': 1, 'EMBALAGEM': 2, 'TAMANHO': 3, 'SABOR': 4, 'PRECO_DE_LISTA': 5, 'string_field_6': 6, 'double_field_7': 7, 'NUMERO': 8, 'CODIGO_DO_PRODUTO_1': 9, 'QUANTIDADE': 10, 'PRECO': 11})\n",
      "Row((723457, 'Festival de Sabores - 700 ml - Maracujá', 'Garrafa', '700 ml', 'Maracujá', '4.912', None, None, 12943, 723457, 10, 4.912), {'CODIGO_DO_PRODUTO': 0, 'NOME_DO_PRODUTO': 1, 'EMBALAGEM': 2, 'TAMANHO': 3, 'SABOR': 4, 'PRECO_DE_LISTA': 5, 'string_field_6': 6, 'double_field_7': 7, 'NUMERO': 8, 'CODIGO_DO_PRODUTO_1': 9, 'QUANTIDADE': 10, 'PRECO': 11})\n",
      "Row((723457, 'Festival de Sabores - 700 ml - Maracujá', 'Garrafa', '700 ml', 'Maracujá', '4.912', None, None, 15379, 723457, 10, 4.912), {'CODIGO_DO_PRODUTO': 0, 'NOME_DO_PRODUTO': 1, 'EMBALAGEM': 2, 'TAMANHO': 3, 'SABOR': 4, 'PRECO_DE_LISTA': 5, 'string_field_6': 6, 'double_field_7': 7, 'NUMERO': 8, 'CODIGO_DO_PRODUTO_1': 9, 'QUANTIDADE': 10, 'PRECO': 11})\n",
      "Row((723457, 'Festival de Sabores - 700 ml - Maracujá', 'Garrafa', '700 ml', 'Maracujá', '4.912', None, None, 15590, 723457, 10, 4.912), {'CODIGO_DO_PRODUTO': 0, 'NOME_DO_PRODUTO': 1, 'EMBALAGEM': 2, 'TAMANHO': 3, 'SABOR': 4, 'PRECO_DE_LISTA': 5, 'string_field_6': 6, 'double_field_7': 7, 'NUMERO': 8, 'CODIGO_DO_PRODUTO_1': 9, 'QUANTIDADE': 10, 'PRECO': 11})\n",
      "Row((723457, 'Festival de Sabores - 700 ml - Maracujá', 'Garrafa', '700 ml', 'Maracujá', '4.912', None, None, 15708, 723457, 10, 4.912), {'CODIGO_DO_PRODUTO': 0, 'NOME_DO_PRODUTO': 1, 'EMBALAGEM': 2, 'TAMANHO': 3, 'SABOR': 4, 'PRECO_DE_LISTA': 5, 'string_field_6': 6, 'double_field_7': 7, 'NUMERO': 8, 'CODIGO_DO_PRODUTO_1': 9, 'QUANTIDADE': 10, 'PRECO': 11})\n",
      "Row((723457, 'Festival de Sabores - 700 ml - Maracujá', 'Garrafa', '700 ml', 'Maracujá', '4.912', None, None, 15745, 723457, 10, 4.912), {'CODIGO_DO_PRODUTO': 0, 'NOME_DO_PRODUTO': 1, 'EMBALAGEM': 2, 'TAMANHO': 3, 'SABOR': 4, 'PRECO_DE_LISTA': 5, 'string_field_6': 6, 'double_field_7': 7, 'NUMERO': 8, 'CODIGO_DO_PRODUTO_1': 9, 'QUANTIDADE': 10, 'PRECO': 11})\n",
      "Row((723457, 'Festival de Sabores - 700 ml - Maracujá', 'Garrafa', '700 ml', 'Maracujá', '4.912', None, None, 16048, 723457, 10, 4.912), {'CODIGO_DO_PRODUTO': 0, 'NOME_DO_PRODUTO': 1, 'EMBALAGEM': 2, 'TAMANHO': 3, 'SABOR': 4, 'PRECO_DE_LISTA': 5, 'string_field_6': 6, 'double_field_7': 7, 'NUMERO': 8, 'CODIGO_DO_PRODUTO_1': 9, 'QUANTIDADE': 10, 'PRECO': 11})\n",
      "Row((723457, 'Festival de Sabores - 700 ml - Maracujá', 'Garrafa', '700 ml', 'Maracujá', '4.912', None, None, 16364, 723457, 10, 4.912), {'CODIGO_DO_PRODUTO': 0, 'NOME_DO_PRODUTO': 1, 'EMBALAGEM': 2, 'TAMANHO': 3, 'SABOR': 4, 'PRECO_DE_LISTA': 5, 'string_field_6': 6, 'double_field_7': 7, 'NUMERO': 8, 'CODIGO_DO_PRODUTO_1': 9, 'QUANTIDADE': 10, 'PRECO': 11})\n",
      "Row((723457, 'Festival de Sabores - 700 ml - Maracujá', 'Garrafa', '700 ml', 'Maracujá', '4.912', None, None, 16412, 723457, 10, 4.912), {'CODIGO_DO_PRODUTO': 0, 'NOME_DO_PRODUTO': 1, 'EMBALAGEM': 2, 'TAMANHO': 3, 'SABOR': 4, 'PRECO_DE_LISTA': 5, 'string_field_6': 6, 'double_field_7': 7, 'NUMERO': 8, 'CODIGO_DO_PRODUTO_1': 9, 'QUANTIDADE': 10, 'PRECO': 11})\n"
     ]
    }
   ],
   "source": [
    "QUERY = \"\"\"\n",
    "\n",
    "SELECT *\n",
    "FROM   `modified-ripsaw-343701.sucos_vendas.tabela_de_produtos` TP\n",
    "       INNER JOIN `modified-ripsaw-343701.sucos_vendas.itens_notas_fiscais` INF\n",
    "               ON TP.codigo_do_produto = INF.codigo_do_produto\n",
    "LIMIT 20;\n",
    "\n",
    "\"\"\"\n",
    "\n",
    "query_job = bigquery_client.query(QUERY)\n",
    "for row in query_job.result():  \n",
    "    print(row)"
   ]
  },
  {
   "cell_type": "code",
   "execution_count": null,
   "id": "ed49d8a6",
   "metadata": {},
   "outputs": [],
   "source": [
    "QUERY = \"\"\"\n",
    "\n",
    "SELECT TP.sabor,\n",
    "       INF.quantidade\n",
    "FROM   `modified-ripsaw-343701.sucos_vendas.tabela_de_produtos` TP\n",
    "       INNER JOIN `modified-ripsaw-343701.sucos_vendas.itens_notas_fiscais` INF\n",
    "               ON TP.codigo_do_produto = INF.codigo_do_produto; \n",
    "\n",
    "\"\"\"\n",
    "\n",
    "query_job = bigquery_client.query(QUERY)\n",
    "for row in query_job.result():  \n",
    "    print(row)"
   ]
  },
  {
   "cell_type": "code",
   "execution_count": 63,
   "id": "84c2cb5f",
   "metadata": {},
   "outputs": [
    {
     "name": "stdout",
     "output_type": "stream",
     "text": [
      "Row(('Maracujá', datetime.date(2015, 2, 7), 10), {'sabor': 0, 'data_venda': 1, 'quantidade': 2})\n",
      "Row(('Maracujá', datetime.date(2015, 3, 2), 10), {'sabor': 0, 'data_venda': 1, 'quantidade': 2})\n",
      "Row(('Maracujá', datetime.date(2015, 3, 13), 10), {'sabor': 0, 'data_venda': 1, 'quantidade': 2})\n",
      "Row(('Maracujá', datetime.date(2015, 3, 23), 10), {'sabor': 0, 'data_venda': 1, 'quantidade': 2})\n",
      "Row(('Maracujá', datetime.date(2015, 3, 31), 10), {'sabor': 0, 'data_venda': 1, 'quantidade': 2})\n",
      "Row(('Maracujá', datetime.date(2015, 4, 2), 10), {'sabor': 0, 'data_venda': 1, 'quantidade': 2})\n",
      "Row(('Maracujá', datetime.date(2015, 4, 18), 10), {'sabor': 0, 'data_venda': 1, 'quantidade': 2})\n",
      "Row(('Maracujá', datetime.date(2015, 4, 29), 10), {'sabor': 0, 'data_venda': 1, 'quantidade': 2})\n",
      "Row(('Maracujá', datetime.date(2015, 5, 2), 10), {'sabor': 0, 'data_venda': 1, 'quantidade': 2})\n",
      "Row(('Maracujá', datetime.date(2015, 5, 9), 10), {'sabor': 0, 'data_venda': 1, 'quantidade': 2})\n",
      "Row(('Maracujá', datetime.date(2015, 5, 10), 10), {'sabor': 0, 'data_venda': 1, 'quantidade': 2})\n",
      "Row(('Maracujá', datetime.date(2015, 6, 17), 10), {'sabor': 0, 'data_venda': 1, 'quantidade': 2})\n",
      "Row(('Maracujá', datetime.date(2015, 6, 23), 10), {'sabor': 0, 'data_venda': 1, 'quantidade': 2})\n",
      "Row(('Maracujá', datetime.date(2015, 7, 25), 10), {'sabor': 0, 'data_venda': 1, 'quantidade': 2})\n",
      "Row(('Maracujá', datetime.date(2015, 7, 28), 10), {'sabor': 0, 'data_venda': 1, 'quantidade': 2})\n",
      "Row(('Maracujá', datetime.date(2015, 7, 30), 10), {'sabor': 0, 'data_venda': 1, 'quantidade': 2})\n",
      "Row(('Maracujá', datetime.date(2015, 7, 30), 10), {'sabor': 0, 'data_venda': 1, 'quantidade': 2})\n",
      "Row(('Maracujá', datetime.date(2015, 8, 3), 10), {'sabor': 0, 'data_venda': 1, 'quantidade': 2})\n",
      "Row(('Maracujá', datetime.date(2015, 8, 7), 10), {'sabor': 0, 'data_venda': 1, 'quantidade': 2})\n",
      "Row(('Maracujá', datetime.date(2015, 8, 8), 10), {'sabor': 0, 'data_venda': 1, 'quantidade': 2})\n"
     ]
    }
   ],
   "source": [
    "QUERY = \"\"\"\n",
    "\n",
    "SELECT TP.sabor,\n",
    "       NF.data_venda,\n",
    "       INF.quantidade\n",
    "FROM   `modified-ripsaw-343701.sucos_vendas.tabela_de_produtos` TP\n",
    "       INNER JOIN `modified-ripsaw-343701.sucos_vendas.itens_notas_fiscais` INF\n",
    "               ON TP.codigo_do_produto = INF.codigo_do_produto\n",
    "       INNER JOIN `modified-ripsaw-343701.sucos_vendas.notas_fiscais` NF\n",
    "               ON INF.numero = NF.numero\n",
    "LIMIT 20;\n",
    "\n",
    "\"\"\"\n",
    "\n",
    "query_job = bigquery_client.query(QUERY)\n",
    "for row in query_job.result():  \n",
    "    print(row)"
   ]
  },
  {
   "cell_type": "code",
   "execution_count": 64,
   "id": "75272ce6",
   "metadata": {},
   "outputs": [
    {
     "name": "stdout",
     "output_type": "stream",
     "text": [
      "Row(('1', 2016, 728225), {'sabor': 0, 'ANO': 1, 'QUANTIDADE': 2})\n",
      "Row(('Manga', 2016, 487460), {'sabor': 0, 'ANO': 1, 'QUANTIDADE': 2})\n",
      "Row(('Laranja', 2016, 483663), {'sabor': 0, 'ANO': 1, 'QUANTIDADE': 2})\n",
      "Row(('Melância', 2016, 245886), {'sabor': 0, 'ANO': 1, 'QUANTIDADE': 2})\n",
      "Row(('Maça', 2016, 242854), {'sabor': 0, 'ANO': 1, 'QUANTIDADE': 2})\n",
      "Row(('Açai', 2016, 239726), {'sabor': 0, 'ANO': 1, 'QUANTIDADE': 2})\n",
      "Row(('Lima/Limão', 2016, 239634), {'sabor': 0, 'ANO': 1, 'QUANTIDADE': 2})\n",
      "Row(('Morango/Limão', 2016, 238118), {'sabor': 0, 'ANO': 1, 'QUANTIDADE': 2})\n",
      "Row(('Cereja/Maça', 2016, 236535), {'sabor': 0, 'ANO': 1, 'QUANTIDADE': 2})\n",
      "Row(('Maracujá', 2016, 122680), {'sabor': 0, 'ANO': 1, 'QUANTIDADE': 2})\n",
      "Row(('Uva', 2016, 120597), {'sabor': 0, 'ANO': 1, 'QUANTIDADE': 2})\n",
      "Row(('Cereja', 2016, 120478), {'sabor': 0, 'ANO': 1, 'QUANTIDADE': 2})\n",
      "Row(('Morango', 2016, 120384), {'sabor': 0, 'ANO': 1, 'QUANTIDADE': 2})\n"
     ]
    }
   ],
   "source": [
    "QUERY = \"\"\"\n",
    "\n",
    "SELECT TP.sabor,\n",
    "       EXTRACT(year FROM NF.data_venda) AS ANO,\n",
    "       SUM(INF.quantidade)              AS QUANTIDADE\n",
    "FROM   `modified-ripsaw-343701.sucos_vendas.tabela_de_produtos` TP\n",
    "       INNER JOIN `modified-ripsaw-343701.sucos_vendas.itens_notas_fiscais` INF\n",
    "               ON TP.codigo_do_produto = INF.codigo_do_produto\n",
    "       INNER JOIN `modified-ripsaw-343701.sucos_vendas.notas_fiscais` NF\n",
    "               ON INF.numero = NF.numero\n",
    "WHERE  EXTRACT(year FROM NF.data_venda) = 2016\n",
    "GROUP  BY TP.sabor,\n",
    "          ano\n",
    "ORDER  BY quantidade DESC\n",
    "LIMIT 20;\n",
    "\n",
    "\"\"\"\n",
    "\n",
    "query_job = bigquery_client.query(QUERY)\n",
    "for row in query_job.result():  \n",
    "    print(row)"
   ]
  },
  {
   "cell_type": "code",
   "execution_count": 65,
   "id": "867a10b2",
   "metadata": {},
   "outputs": [
    {
     "name": "stdout",
     "output_type": "stream",
     "text": [
      "Row((2016, 3626240), {'ANO': 0, 'QUANTIDADE': 1})\n"
     ]
    }
   ],
   "source": [
    "QUERY = \"\"\"\n",
    "\n",
    "SELECT EXTRACT(year FROM NF.data_venda) AS ANO,\n",
    "       SUM(INF.quantidade)              AS QUANTIDADE\n",
    "FROM  `modified-ripsaw-343701.sucos_vendas.itens_notas_fiscais` INF\n",
    "      INNER JOIN `modified-ripsaw-343701.sucos_vendas.notas_fiscais` NF\n",
    "              ON INF.numero = NF.numero\n",
    "WHERE  EXTRACT(year FROM NF.data_venda) = 2016\n",
    "GROUP  BY ano\n",
    "LIMIT 20;\n",
    "\n",
    "\"\"\"\n",
    "\n",
    "query_job = bigquery_client.query(QUERY)\n",
    "for row in query_job.result():  \n",
    "    print(row)"
   ]
  },
  {
   "cell_type": "code",
   "execution_count": 66,
   "id": "b94b2174",
   "metadata": {},
   "outputs": [
    {
     "name": "stdout",
     "output_type": "stream",
     "text": [
      "Row(('Maracujá', 122680, 3626240), {'sabor': 0, 'quantidade': 1, 'quantidade_total': 2})\n",
      "Row(('Laranja', 483663, 3626240), {'sabor': 0, 'quantidade': 1, 'quantidade_total': 2})\n",
      "Row(('Maça', 242854, 3626240), {'sabor': 0, 'quantidade': 1, 'quantidade_total': 2})\n",
      "Row(('Cereja/Maça', 236535, 3626240), {'sabor': 0, 'quantidade': 1, 'quantidade_total': 2})\n",
      "Row(('1', 728225, 3626240), {'sabor': 0, 'quantidade': 1, 'quantidade_total': 2})\n",
      "Row(('Morango', 120384, 3626240), {'sabor': 0, 'quantidade': 1, 'quantidade_total': 2})\n",
      "Row(('Manga', 487460, 3626240), {'sabor': 0, 'quantidade': 1, 'quantidade_total': 2})\n",
      "Row(('Lima/Limão', 239634, 3626240), {'sabor': 0, 'quantidade': 1, 'quantidade_total': 2})\n",
      "Row(('Açai', 239726, 3626240), {'sabor': 0, 'quantidade': 1, 'quantidade_total': 2})\n",
      "Row(('Morango/Limão', 238118, 3626240), {'sabor': 0, 'quantidade': 1, 'quantidade_total': 2})\n",
      "Row(('Melância', 245886, 3626240), {'sabor': 0, 'quantidade': 1, 'quantidade_total': 2})\n",
      "Row(('Uva', 120597, 3626240), {'sabor': 0, 'quantidade': 1, 'quantidade_total': 2})\n",
      "Row(('Cereja', 120478, 3626240), {'sabor': 0, 'quantidade': 1, 'quantidade_total': 2})\n"
     ]
    }
   ],
   "source": [
    "QUERY = \"\"\"\n",
    "\n",
    "WITH vendas_por_sabor AS\n",
    "(\n",
    "           SELECT     tp.sabor,\n",
    "                      EXTRACT(year FROM nf.data_venda) AS ano,\n",
    "                      SUM(inf.quantidade)              AS quantidade\n",
    "           FROM       `modified-ripsaw-343701.sucos_vendas.tabela_de_produtos` tp\n",
    "           INNER JOIN `modified-ripsaw-343701.sucos_vendas.itens_notas_fiscais` inf\n",
    "           ON         tp.codigo_do_produto = inf.codigo_do_produto\n",
    "           INNER JOIN `modified-ripsaw-343701.sucos_vendas.notas_fiscais` nf\n",
    "           ON         inf.numero = nf.numero\n",
    "           WHERE      extract(year FROM nf.data_venda) = 2016\n",
    "           GROUP BY   tp.sabor,\n",
    "                      ano\n",
    "           ORDER BY   quantidade DESC), vendas_totais AS\n",
    "(\n",
    "           SELECT     EXTRACT(year FROM nf.data_venda) AS ano,\n",
    "                      SUM(inf.quantidade)              AS quantidade\n",
    "           FROM      `modified-ripsaw-343701.sucos_vendas.itens_notas_fiscais` inf\n",
    "           INNER JOIN `modified-ripsaw-343701.sucos_vendas.notas_fiscais` nf\n",
    "           ON         inf.numero = nf.numero\n",
    "           WHERE      EXTRACT(year FROM nf.data_venda) = 2016\n",
    "           GROUP BY   ano)\n",
    "SELECT     vendas_por_sabor.sabor,\n",
    "           vendas_por_sabor.quantidade,\n",
    "           vendas_totais.quantidade AS quantidade_total\n",
    "FROM       vendas_por_sabor\n",
    "INNER JOIN vendas_totais\n",
    "ON         vendas_por_sabor.ano = vendas_totais.ano\n",
    "LIMIT 20;\n",
    "\n",
    "\"\"\"\n",
    "\n",
    "query_job = bigquery_client.query(QUERY)\n",
    "for row in query_job.result():  \n",
    "    print(row)"
   ]
  },
  {
   "cell_type": "code",
   "execution_count": 67,
   "id": "99c4582a",
   "metadata": {},
   "outputs": [
    {
     "name": "stdout",
     "output_type": "stream",
     "text": [
      "Row(('1', 728225, 20.082096055418283), {'sabor': 0, 'quantidade': 1, 'percentual_participacao': 2})\n",
      "Row(('Manga', 487460, 13.442574126367807), {'sabor': 0, 'quantidade': 1, 'percentual_participacao': 2})\n",
      "Row(('Laranja', 483663, 13.337865116484293), {'sabor': 0, 'quantidade': 1, 'percentual_participacao': 2})\n",
      "Row(('Melância', 245886, 6.780742587363219), {'sabor': 0, 'quantidade': 1, 'percentual_participacao': 2})\n",
      "Row(('Maça', 242854, 6.697129809389341), {'sabor': 0, 'quantidade': 1, 'percentual_participacao': 2})\n",
      "Row(('Açai', 239726, 6.610869661136605), {'sabor': 0, 'quantidade': 1, 'percentual_participacao': 2})\n",
      "Row(('Lima/Limão', 239634, 6.6083325979527), {'sabor': 0, 'quantidade': 1, 'percentual_participacao': 2})\n",
      "Row(('Morango/Limão', 238118, 6.56652620896576), {'sabor': 0, 'quantidade': 1, 'percentual_participacao': 2})\n",
      "Row(('Cereja/Maça', 236535, 6.522872176138369), {'sabor': 0, 'quantidade': 1, 'percentual_participacao': 2})\n",
      "Row(('Maracujá', 122680, 3.383118602188493), {'sabor': 0, 'quantidade': 1, 'percentual_participacao': 2})\n",
      "Row(('Uva', 120597, 3.325676182492058), {'sabor': 0, 'quantidade': 1, 'percentual_participacao': 2})\n",
      "Row(('Cereja', 120478, 3.3223945464172253), {'sabor': 0, 'quantidade': 1, 'percentual_participacao': 2})\n",
      "Row(('Morango', 120384, 3.3198023296858454), {'sabor': 0, 'quantidade': 1, 'percentual_participacao': 2})\n"
     ]
    }
   ],
   "source": [
    "QUERY = \"\"\"\n",
    "\n",
    "WITH vendas_por_sabor AS\n",
    "(\n",
    "           SELECT     tp.sabor,\n",
    "                      EXTRACT(year FROM nf.data_venda) AS ano,\n",
    "                      SUM(inf.quantidade)              AS quantidade\n",
    "           FROM       `modified-ripsaw-343701.sucos_vendas.tabela_de_produtos` tp\n",
    "           INNER JOIN `modified-ripsaw-343701.sucos_vendas.itens_notas_fiscais` inf\n",
    "           ON         tp.codigo_do_produto = inf.codigo_do_produto\n",
    "           INNER JOIN `modified-ripsaw-343701.sucos_vendas.notas_fiscais` nf\n",
    "           ON         inf.numero = nf.numero\n",
    "           WHERE      EXTRACT(year FROM nf.data_venda) = 2016\n",
    "           GROUP BY   tp.sabor,\n",
    "                      ano\n",
    "           ORDER BY   quantidade DESC), vendas_totais AS\n",
    "(\n",
    "           SELECT     EXTRACT(year FROM nf.data_venda) AS ano,\n",
    "                      SUM(inf.quantidade)              AS quantidade\n",
    "           FROM       `modified-ripsaw-343701.sucos_vendas.itens_notas_fiscais` inf\n",
    "           INNER JOIN `modified-ripsaw-343701.sucos_vendas.notas_fiscais` nf\n",
    "           ON         inf.numero = nf.numero\n",
    "           WHERE      EXTRACT(year FROM nf.data_venda) = 2016\n",
    "           GROUP BY   ano)\n",
    "SELECT     vendas_por_sabor.sabor,\n",
    "           vendas_por_sabor.quantidade,\n",
    "           (vendas_por_sabor.quantidade/vendas_totais.quantidade)*100 AS percentual_participacao\n",
    "FROM       vendas_por_sabor\n",
    "INNER JOIN vendas_totais\n",
    "ON         vendas_por_sabor.ano = vendas_totais.ano\n",
    "ORDER BY   vendas_por_sabor.quantidade DESC\n",
    "LIMIT 20;\n",
    "\n",
    "\"\"\"\n",
    "\n",
    "query_job = bigquery_client.query(QUERY)\n",
    "for row in query_job.result():  \n",
    "    print(row)"
   ]
  }
 ],
 "metadata": {
  "kernelspec": {
   "display_name": "Python 3 (ipykernel)",
   "language": "python",
   "name": "python3"
  },
  "language_info": {
   "codemirror_mode": {
    "name": "ipython",
    "version": 3
   },
   "file_extension": ".py",
   "mimetype": "text/x-python",
   "name": "python",
   "nbconvert_exporter": "python",
   "pygments_lexer": "ipython3",
   "version": "3.9.7"
  }
 },
 "nbformat": 4,
 "nbformat_minor": 5
}
