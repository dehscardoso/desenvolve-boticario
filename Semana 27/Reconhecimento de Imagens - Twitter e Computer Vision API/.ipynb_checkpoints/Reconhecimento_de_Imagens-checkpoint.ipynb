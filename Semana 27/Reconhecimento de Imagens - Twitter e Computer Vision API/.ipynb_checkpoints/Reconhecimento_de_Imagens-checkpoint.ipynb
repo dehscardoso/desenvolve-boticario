{
 "cells": [
  {
   "cell_type": "markdown",
   "metadata": {},
   "source": [
    "<img src = \"https://images2.imgbox.com/32/ac/wucGkuem_o.png\" width=\"300\">"
   ]
  },
  {
   "cell_type": "code",
   "execution_count": 1,
   "metadata": {
    "colab": {},
    "colab_type": "code",
    "id": "MahF9RRjbfOW"
   },
   "outputs": [],
   "source": [
    "import tweepy as tw\n",
    "import time"
   ]
  },
  {
   "cell_type": "code",
   "execution_count": 2,
   "metadata": {
    "colab": {},
    "colab_type": "code",
    "id": "ACSMqeZYbtgT"
   },
   "outputs": [],
   "source": [
    "consumer_key = '...'\n",
    "consumer_secret = '...'\n",
    "access_token = '...'\n",
    "access_token_secret = '...'"
   ]
  },
  {
   "cell_type": "code",
   "execution_count": 3,
   "metadata": {
    "colab": {},
    "colab_type": "code",
    "id": "OQiYJgrBcHev"
   },
   "outputs": [],
   "source": [
    "auth = tw.OAuthHandler(consumer_key, consumer_secret)"
   ]
  },
  {
   "cell_type": "code",
   "execution_count": 4,
   "metadata": {
    "colab": {},
    "colab_type": "code",
    "id": "vNN7diFVcauZ"
   },
   "outputs": [],
   "source": [
    "auth.set_access_token(access_token, access_token_secret)"
   ]
  },
  {
   "cell_type": "code",
   "execution_count": 5,
   "metadata": {
    "colab": {},
    "colab_type": "code",
    "id": "YiQnxs7Dco3P"
   },
   "outputs": [],
   "source": [
    "api = tw.API(auth)"
   ]
  },
  {
   "cell_type": "code",
   "execution_count": 6,
   "metadata": {
    "colab": {},
    "colab_type": "code",
    "id": "RYFpdck_cw9x"
   },
   "outputs": [],
   "source": [
    "tweet = api.update_status(\"Python e Twitter na #Alura #Desenvolve :D\")"
   ]
  },
  {
   "cell_type": "code",
   "execution_count": 7,
   "metadata": {
    "colab": {
     "base_uri": "https://localhost:8080/",
     "height": 1000
    },
    "colab_type": "code",
    "id": "ghhX8iohdCsY",
    "outputId": "27405656-abaa-4a8f-aa25-268210df3997"
   },
   "outputs": [
    {
     "data": {
      "text/plain": [
       "{'created_at': 'Sun Apr 03 01:16:27 +0000 2022',\n",
       " 'id': 1510425967650480129,\n",
       " 'id_str': '1510425967650480129',\n",
       " 'text': 'Python e Twitter na #Alura #Desenvolve :D',\n",
       " 'truncated': False,\n",
       " 'entities': {'hashtags': [{'text': 'Alura', 'indices': [20, 26]},\n",
       "   {'text': 'Desenvolve', 'indices': [27, 38]}],\n",
       "  'symbols': [],\n",
       "  'user_mentions': [],\n",
       "  'urls': []},\n",
       " 'source': '<a href=\"https://github.com/dehscardoso\" rel=\"nofollow\">gb-devenvolve</a>',\n",
       " 'in_reply_to_status_id': None,\n",
       " 'in_reply_to_status_id_str': None,\n",
       " 'in_reply_to_user_id': None,\n",
       " 'in_reply_to_user_id_str': None,\n",
       " 'in_reply_to_screen_name': None,\n",
       " 'user': {'id': 1510275503848140802,\n",
       "  'id_str': '1510275503848140802',\n",
       "  'name': 'HD',\n",
       "  'screen_name': 'HD20046800',\n",
       "  'location': '',\n",
       "  'description': '',\n",
       "  'url': None,\n",
       "  'entities': {'description': {'urls': []}},\n",
       "  'protected': False,\n",
       "  'followers_count': 0,\n",
       "  'friends_count': 5,\n",
       "  'listed_count': 0,\n",
       "  'created_at': 'Sat Apr 02 15:18:50 +0000 2022',\n",
       "  'favourites_count': 0,\n",
       "  'utc_offset': None,\n",
       "  'time_zone': None,\n",
       "  'geo_enabled': False,\n",
       "  'verified': False,\n",
       "  'statuses_count': 7,\n",
       "  'lang': None,\n",
       "  'contributors_enabled': False,\n",
       "  'is_translator': False,\n",
       "  'is_translation_enabled': False,\n",
       "  'profile_background_color': 'F5F8FA',\n",
       "  'profile_background_image_url': None,\n",
       "  'profile_background_image_url_https': None,\n",
       "  'profile_background_tile': False,\n",
       "  'profile_image_url': 'http://pbs.twimg.com/profile_images/1510275571976134663/KonPZtlc_normal.png',\n",
       "  'profile_image_url_https': 'https://pbs.twimg.com/profile_images/1510275571976134663/KonPZtlc_normal.png',\n",
       "  'profile_link_color': '1DA1F2',\n",
       "  'profile_sidebar_border_color': 'C0DEED',\n",
       "  'profile_sidebar_fill_color': 'DDEEF6',\n",
       "  'profile_text_color': '333333',\n",
       "  'profile_use_background_image': True,\n",
       "  'has_extended_profile': True,\n",
       "  'default_profile': True,\n",
       "  'default_profile_image': False,\n",
       "  'following': False,\n",
       "  'follow_request_sent': False,\n",
       "  'notifications': False,\n",
       "  'translator_type': 'none',\n",
       "  'withheld_in_countries': []},\n",
       " 'geo': None,\n",
       " 'coordinates': None,\n",
       " 'place': None,\n",
       " 'contributors': None,\n",
       " 'is_quote_status': False,\n",
       " 'retweet_count': 0,\n",
       " 'favorite_count': 0,\n",
       " 'favorited': False,\n",
       " 'retweeted': False,\n",
       " 'lang': 'et'}"
      ]
     },
     "execution_count": 7,
     "metadata": {},
     "output_type": "execute_result"
    }
   ],
   "source": [
    "tweet._json"
   ]
  },
  {
   "cell_type": "markdown",
   "metadata": {
    "colab_type": "text",
    "id": "LlFx0U6ZkWbw"
   },
   "source": [
    "# Pesquisando Tweets"
   ]
  },
  {
   "cell_type": "code",
   "execution_count": 8,
   "metadata": {
    "colab": {},
    "colab_type": "code",
    "id": "RkoGhalZkYr6"
   },
   "outputs": [],
   "source": [
    "tweets = tw.Cursor(api.search_tweets,\n",
    "         q=\"data science\",\n",
    "         lang='pt').items(10)"
   ]
  },
  {
   "cell_type": "code",
   "execution_count": 9,
   "metadata": {
    "colab": {
     "base_uri": "https://localhost:8080/",
     "height": 211
    },
    "colab_type": "code",
    "id": "xVmerYoskutQ",
    "outputId": "7a530567-9a6e-48aa-c0d8-7b68345b919c"
   },
   "outputs": [
    {
     "name": "stdout",
     "output_type": "stream",
     "text": [
      "Python e Twitter na #Alura #Desenvolve :D\n",
      "Python e Twitter na #Alura #Desenvolve :D\n",
      "Python e Twitter na #Alura #Desenvolve :D\n",
      "Python e Twitter na #Alura #Desenvolve :D\n",
      "Python e Twitter na #Alura #Desenvolve :D\n",
      "Python e Twitter na #Alura #Desenvolve :D\n",
      "Python e Twitter na #Alura #Desenvolve :D\n",
      "Python e Twitter na #Alura #Desenvolve :D\n",
      "Python e Twitter na #Alura #Desenvolve :D\n",
      "Python e Twitter na #Alura #Desenvolve :D\n"
     ]
    }
   ],
   "source": [
    "for tweeet in tweets:\n",
    "    print(tweet.text)"
   ]
  },
  {
   "cell_type": "code",
   "execution_count": 10,
   "metadata": {
    "colab": {},
    "colab_type": "code",
    "id": "H6_O_3QJk3yI"
   },
   "outputs": [],
   "source": [
    "tweets = tw.Cursor(api.search_tweets,\n",
    "         q=\"python\",\n",
    "         lang='en').items(10)"
   ]
  },
  {
   "cell_type": "code",
   "execution_count": 11,
   "metadata": {
    "colab": {
     "base_uri": "https://localhost:8080/",
     "height": 1000
    },
    "colab_type": "code",
    "id": "tfiayQCflI9w",
    "outputId": "d98cae8e-dcb8-4308-e202-4da5f69a521b"
   },
   "outputs": [
    {
     "name": "stdout",
     "output_type": "stream",
     "text": [
      "cw29556772\n",
      "\n",
      "retired, proud Hispanic Trump supporter, opinionated, excellent shot, ex-democrat, non-Jewish Zionist, #MAGA, #KAG, IFBP, No DM, 2nd, NRA\n",
      "RT @gr0upthink: John Cleese tears apart transgenderism in less than 2 minutes (Monty Python) https://t.co/heqLXER3cR\n",
      "-----\n",
      "\n",
      "\n",
      "filterfreeme2\n",
      "United States\n",
      "an eye rolling independent thinker\n",
      "RT @gr0upthink: John Cleese tears apart transgenderism in less than 2 minutes (Monty Python) https://t.co/heqLXER3cR\n",
      "-----\n",
      "\n",
      "\n",
      "invincible_91\n",
      "USA\n",
      "#MAGA, I follow back Patriots, God bless America, God save America 🇺🇸\n",
      "RT @gr0upthink: John Cleese tears apart transgenderism in less than 2 minutes (Monty Python) https://t.co/heqLXER3cR\n",
      "-----\n",
      "\n",
      "\n",
      "xaelbot\n",
      "Earth\n",
      "A bot, I like and retweet on #100DaysOfCode. Block if don't want to be retweeted.\n",
      "RT @glitchbotio: \"To be yourself in a world that is constantly trying to make you something else is the greatest accomplishment.\"- Ralph Wa…\n",
      "-----\n",
      "\n",
      "\n",
      "BotKoshur\n",
      "\n",
      "I RT #100DaysOfCode currently .\n",
      "Made with #nodejs and #twit.\n",
      "created by @__junaidshah\n",
      "\n",
      "Support me by Buying me a coffee(https://t.co/2OgKj8iqga)\n",
      "RT @glitchbotio: \"To be yourself in a world that is constantly trying to make you something else is the greatest accomplishment.\"- Ralph Wa…\n",
      "-----\n",
      "\n",
      "\n",
      "MidnightCowbey\n",
      "Beast Coast\n",
      "All I can do is be me, whoever that is\n",
      "RT @gr0upthink: John Cleese tears apart transgenderism in less than 2 minutes (Monty Python) https://t.co/heqLXER3cR\n",
      "-----\n",
      "\n",
      "\n",
      "ashley_ashbee\n",
      "St. Catharines, Ontario\n",
      "I show companies how to connect to their people. Freelance writer, inbound marketing strategist and coach.\n",
      "I'm open for work and would love to hear from you.\n",
      "RT @KorayGubur: Good news!\n",
      "\n",
      "The new lecture of the Python SEO Course that I continue to write for @TTTSEOCommunity.\n",
      "\n",
      "- Analyze the Title Ta…\n",
      "-----\n",
      "\n",
      "\n",
      "geraldmuvengei2\n",
      "\n",
      "awesome vuedev\n",
      "RT @Mobile_Morgue: @XA_WingFly75 @KIIARA  Media Lice only retweets verifieds\n",
      "#Python #IoT #IIoT #PyTorch #JavaScript #ReactJS #WordPress #…\n",
      "-----\n",
      "\n",
      "\n",
      "blacksoxredtopz\n",
      "Northwest South Lanarkshire\n",
      "Follower of The Famous Glasgow Rangers\n",
      "RT @gr0upthink: John Cleese tears apart transgenderism in less than 2 minutes (Monty Python) https://t.co/heqLXER3cR\n",
      "-----\n",
      "\n",
      "\n",
      "ptraslycomputac\n",
      "\n",
      "Capitulo de Psiquiatria Traslacional y Neurociencia  Computacional de la Asociacion Argentina de Psiquiatras AAP\n",
      "RT @TheSequenceAI: CS109A Data Science course materials @Harvard are free and open for everyone!\n",
      "\n",
      "1. Lecture notes\n",
      "2. R code, Python notebo…\n",
      "-----\n",
      "\n",
      "\n"
     ]
    }
   ],
   "source": [
    "for tweet in tweets:\n",
    "    print(tweet.user.screen_name)\n",
    "    print(tweet.user.location)\n",
    "    print(tweet.user.description)\n",
    "    print(tweet.text)\n",
    "    print('-----')\n",
    "    print('\\n')"
   ]
  },
  {
   "cell_type": "code",
   "execution_count": 12,
   "metadata": {
    "colab": {},
    "colab_type": "code",
    "id": "yYbLO2ehlWQR"
   },
   "outputs": [],
   "source": [
    "famosos = ['Snoopy', 'MrBean','cauareymond','aguiarthur','ivetesangalo','ClaudiaLeitte','neymarjr','BruMarquezine','mariruybarbosa',\n",
    "'FePaesLeme','Tatawerneck','FlaviaAleReal','julianapaes','dedesecco','SabrinaSato','ahickmann','gusttavo_lima','Anitta',\n",
    "'CarolCastroReal','gio_antonelli','maisa','cleooficial','gewbank','taisdeverdade','otaviano','bernardipaloma',\n",
    "'IngridGuimaraes','olazaroramos','GalisteuOficial','debranascimento','FioMattheis','moalfradique','Nandacostareal']"
   ]
  },
  {
   "cell_type": "code",
   "execution_count": 13,
   "metadata": {
    "colab": {
     "base_uri": "https://localhost:8080/",
     "height": 35
    },
    "colab_type": "code",
    "id": "OEhnEPIsndXw",
    "outputId": "ebb5d474-ce52-490b-869c-44c2e9464069"
   },
   "outputs": [
    {
     "data": {
      "text/plain": [
       "33"
      ]
     },
     "execution_count": 13,
     "metadata": {},
     "output_type": "execute_result"
    }
   ],
   "source": [
    "len(famosos)"
   ]
  },
  {
   "cell_type": "code",
   "execution_count": 14,
   "metadata": {
    "colab": {
     "base_uri": "https://localhost:8080/",
     "height": 1000
    },
    "colab_type": "code",
    "id": "W43AU0axnejo",
    "outputId": "f09dfab2-6a23-463b-ef69-42dac6f48219"
   },
   "outputs": [
    {
     "name": "stdout",
     "output_type": "stream",
     "text": [
      "Autor:  Snoopy\n",
      "Imagens postadas:\n",
      "http://pbs.twimg.com/media/FPWShuFWYAEZJfo.png\n",
      "http://pbs.twimg.com/media/FPWShuFWYAEZJfo.png\n",
      "http://pbs.twimg.com/media/FPYb4LOVUAoewpS.jpg\n",
      "http://pbs.twimg.com/media/FPWShuFWYAEZJfo.png\n",
      "http://pbs.twimg.com/media/FPXwH2BXsAE7D_T.jpg\n",
      "-----\n",
      "\n",
      "\n",
      "Autor:  MrBean\n",
      "Imagens postadas:\n",
      "http://pbs.twimg.com/amplify_video_thumb/1507303979713282055/img/-_CeZrtEJie4rlQE.jpg\n",
      "http://pbs.twimg.com/media/FPYH9qXXEAMr80z.jpg\n",
      "http://pbs.twimg.com/media/FPYMuuAXIAA_y0S.jpg\n",
      "http://pbs.twimg.com/media/FPS7GYYVkAADG3B.jpg\n",
      "http://pbs.twimg.com/media/FPS7GYYVkAADG3B.jpg\n",
      "http://pbs.twimg.com/media/FPS7GYYVkAADG3B.jpg\n",
      "http://pbs.twimg.com/media/FPS7GYYVkAADG3B.jpg\n",
      "http://pbs.twimg.com/media/FPS7GYYVkAADG3B.jpg\n",
      "http://pbs.twimg.com/media/FPX1vf8XIAwmRER.jpg\n",
      "-----\n",
      "\n",
      "\n",
      "Autor:  cauareymond\n",
      "Imagens postadas:\n",
      "http://pbs.twimg.com/media/FPXs4baWYAA9vNm.jpg\n",
      "http://pbs.twimg.com/media/FPXs4baWYAA9vNm.jpg\n",
      "http://pbs.twimg.com/media/FPXs4baWYAA9vNm.jpg\n",
      "http://pbs.twimg.com/media/FPTwUr2WQAId1cR.jpg\n",
      "http://pbs.twimg.com/media/FPMHB3sXIAgx7rV.jpg\n",
      "http://pbs.twimg.com/media/FPR-we2WYAklZEo.jpg\n",
      "-----\n",
      "\n",
      "\n",
      "Autor:  aguiarthur\n",
      "Imagens postadas:\n",
      "http://pbs.twimg.com/media/FPYD1itXEAQ8TQL.jpg\n",
      "http://pbs.twimg.com/media/FPYU0rBXEAQRgdV.jpg\n",
      "http://pbs.twimg.com/media/FPYD1itXEAQ8TQL.jpg\n",
      "http://pbs.twimg.com/media/FPYUdssXIAcLFBL.jpg\n",
      "http://pbs.twimg.com/media/FPYUdssXIAcLFBL.jpg\n",
      "-----\n",
      "\n",
      "\n",
      "Autor:  ivetesangalo\n",
      "Imagens postadas:\n",
      "http://pbs.twimg.com/ext_tw_video_thumb/1510276473776742403/pu/img/uQZZGA5HTH4OH_dr.jpg\n",
      "http://pbs.twimg.com/ext_tw_video_thumb/1510419675527761926/pu/img/V7cE4eSdUhs8d6Tf.jpg\n",
      "http://pbs.twimg.com/ext_tw_video_thumb/1510418901615714305/pu/img/vGFUDQT7nvAUY2Yd.jpg\n",
      "-----\n",
      "\n",
      "\n",
      "Autor:  ClaudiaLeitte\n",
      "Imagens postadas:\n",
      "-----\n",
      "\n",
      "\n",
      "Autor:  neymarjr\n",
      "Imagens postadas:\n",
      "http://pbs.twimg.com/ext_tw_video_thumb/1508194704403447816/pu/img/mUJJl1YQkrKWePwz.jpg\n",
      "http://pbs.twimg.com/media/CG2pfzxWoAAg3et.jpg\n",
      "http://pbs.twimg.com/media/B5IpCXvIYAA2Kf8.jpg\n",
      "http://pbs.twimg.com/media/B5IpCXvIYAA2Kf8.jpg\n",
      "http://pbs.twimg.com/media/B5IpCXvIYAA2Kf8.jpg\n",
      "http://pbs.twimg.com/media/C4nwTQwWMAEZAvF.jpg\n",
      "http://pbs.twimg.com/tweet_video_thumb/FPYYhb7WYAsDg0o.jpg\n",
      "-----\n",
      "\n",
      "\n",
      "Autor:  BruMarquezine\n",
      "Imagens postadas:\n",
      "http://pbs.twimg.com/media/FPWI39QWUAAW0jZ.jpg\n",
      "http://pbs.twimg.com/media/FPXdN2WXoAMfRZ3.jpg\n",
      "http://pbs.twimg.com/media/C4nwTQwWMAEZAvF.jpg\n",
      "http://pbs.twimg.com/media/FPYTXZqX0AAriF6.jpg\n",
      "http://pbs.twimg.com/media/FPXdN2WXoAMfRZ3.jpg\n",
      "http://pbs.twimg.com/ext_tw_video_thumb/1479228584602570753/pu/img/ex5Qr1YMVKEmKhtd.jpg\n",
      "-----\n",
      "\n",
      "\n",
      "Autor:  mariruybarbosa\n",
      "Imagens postadas:\n",
      "http://pbs.twimg.com/media/FPYX_k-WUAEi-Ci.jpg\n",
      "http://pbs.twimg.com/ext_tw_video_thumb/1510355651528171527/pu/img/CN_TUD3ar5HSw4l3.jpg\n",
      "http://pbs.twimg.com/media/FPXatnuXEAoO_nn.jpg\n",
      "-----\n",
      "\n",
      "\n",
      "Autor:  FePaesLeme\n",
      "Imagens postadas:\n",
      "http://pbs.twimg.com/media/FPX5DYSWUAYGwys.jpg\n",
      "-----\n",
      "\n",
      "\n",
      "Autor:  Tatawerneck\n",
      "Imagens postadas:\n",
      "http://pbs.twimg.com/media/FPYNeEZXsAgXYHB.jpg\n",
      "http://pbs.twimg.com/media/FPYNeEZXsAgXYHB.jpg\n",
      "http://pbs.twimg.com/ext_tw_video_thumb/1510361943177113603/pu/img/Lz-DeB_B9nMyztAj.jpg\n",
      "http://pbs.twimg.com/ext_tw_video_thumb/1510361943177113603/pu/img/Lz-DeB_B9nMyztAj.jpg\n",
      "http://pbs.twimg.com/media/FPYNeEZXsAgXYHB.jpg\n",
      "http://pbs.twimg.com/ext_tw_video_thumb/1510361943177113603/pu/img/Lz-DeB_B9nMyztAj.jpg\n",
      "http://pbs.twimg.com/media/FPXSz6DXwAk1PbG.jpg\n",
      "http://pbs.twimg.com/ext_tw_video_thumb/1510361943177113603/pu/img/Lz-DeB_B9nMyztAj.jpg\n",
      "http://pbs.twimg.com/ext_tw_video_thumb/1510361943177113603/pu/img/Lz-DeB_B9nMyztAj.jpg\n",
      "-----\n",
      "\n",
      "\n",
      "Autor:  FlaviaAleReal\n",
      "Imagens postadas:\n",
      "http://pbs.twimg.com/media/FPV3fUoXsAMR99h.jpg\n",
      "http://pbs.twimg.com/media/FPV3fUoXsAMR99h.jpg\n",
      "http://pbs.twimg.com/media/FPV3fUoXsAMR99h.jpg\n",
      "http://pbs.twimg.com/media/FPV3fUoXsAMR99h.jpg\n",
      "http://pbs.twimg.com/media/FPTAd9GXoAAJ0kx.jpg\n",
      "http://pbs.twimg.com/media/FPM5zZ1XwAI1qTg.jpg\n",
      "http://pbs.twimg.com/ext_tw_video_thumb/1047090163875241984/pu/img/cgDW-2Ml9twWqQtM.jpg\n",
      "http://pbs.twimg.com/media/FPM5zZ1XwAI1qTg.jpg\n",
      "http://pbs.twimg.com/media/FPM5zZ1XwAI1qTg.jpg\n",
      "-----\n",
      "\n",
      "\n",
      "Autor:  julianapaes\n",
      "Imagens postadas:\n",
      "http://pbs.twimg.com/media/FPYcQRRXIAknAZZ.jpg\n",
      "http://pbs.twimg.com/media/FPYaEt7XMAACaMS.jpg\n",
      "-----\n",
      "\n",
      "\n",
      "Autor:  dedesecco\n",
      "Imagens postadas:\n",
      "http://pbs.twimg.com/media/FPWs0AzX0AApvet.jpg\n",
      "http://pbs.twimg.com/media/FPW_BQgXEAgdtUG.jpg\n",
      "http://pbs.twimg.com/media/FPWs0AzX0AApvet.jpg\n",
      "http://pbs.twimg.com/media/FPWs0AzX0AApvet.jpg\n",
      "http://pbs.twimg.com/media/FPWs0AzX0AApvet.jpg\n",
      "http://pbs.twimg.com/media/FPWs0AzX0AApvet.jpg\n",
      "http://pbs.twimg.com/media/FPWs0AzX0AApvet.jpg\n",
      "http://pbs.twimg.com/media/FPWstXSX0AMj7Bm.jpg\n",
      "http://pbs.twimg.com/media/FPWajkKacAAYYof.jpg\n",
      "-----\n",
      "\n",
      "\n",
      "Autor:  SabrinaSato\n",
      "Imagens postadas:\n",
      "http://pbs.twimg.com/media/FPRj8rUXIAo0J0-.jpg\n",
      "http://pbs.twimg.com/media/FPXcO5PXwAkgAqC.jpg\n",
      "http://pbs.twimg.com/media/FPRj8rUXIAo0J0-.jpg\n",
      "http://pbs.twimg.com/media/FPXFt4FXIAMNVbW.jpg\n",
      "http://pbs.twimg.com/media/FPWWEiBXEA0sPpC.jpg\n",
      "http://pbs.twimg.com/media/FPRj8rUXIAo0J0-.jpg\n",
      "http://pbs.twimg.com/media/FPRj8rUXIAo0J0-.jpg\n",
      "-----\n",
      "\n",
      "\n",
      "Autor:  ahickmann\n",
      "Imagens postadas:\n",
      "http://pbs.twimg.com/ext_tw_video_thumb/1509993592839884806/pu/img/zmFc8oC88KgqWaJ4.jpg\n",
      "http://pbs.twimg.com/ext_tw_video_thumb/1509993592839884806/pu/img/zmFc8oC88KgqWaJ4.jpg\n",
      "http://pbs.twimg.com/ext_tw_video_thumb/1509993592839884806/pu/img/zmFc8oC88KgqWaJ4.jpg\n",
      "http://pbs.twimg.com/ext_tw_video_thumb/1509993592839884806/pu/img/zmFc8oC88KgqWaJ4.jpg\n",
      "-----\n",
      "\n",
      "\n",
      "Autor:  gusttavo_lima\n",
      "Imagens postadas:\n",
      "http://pbs.twimg.com/ext_tw_video_thumb/1510226867424538638/pu/img/-IEmcLcnNbFplho7.jpg\n",
      "http://pbs.twimg.com/ext_tw_video_thumb/1510226867424538638/pu/img/-IEmcLcnNbFplho7.jpg\n",
      "http://pbs.twimg.com/ext_tw_video_thumb/1506815845112197125/pu/img/5CoxmRFljhUt5lVY.jpg\n",
      "http://pbs.twimg.com/ext_tw_video_thumb/1510417124975681542/pu/img/daBsfAk6gdJBqNED.jpg\n",
      "http://pbs.twimg.com/ext_tw_video_thumb/1510415857565982725/pu/img/LCM10pMDHV276D6u.jpg\n",
      "-----\n",
      "\n",
      "\n",
      "Autor:  Anitta\n",
      "Imagens postadas:\n",
      "http://pbs.twimg.com/ext_tw_video_thumb/1510297479216078850/pu/img/cSCxEgGQXKF2YG89.jpg\n",
      "http://pbs.twimg.com/media/FPX35xbXEAQSzpp.jpg\n",
      "http://pbs.twimg.com/ext_tw_video_thumb/1510297479216078850/pu/img/cSCxEgGQXKF2YG89.jpg\n",
      "http://pbs.twimg.com/ext_tw_video_thumb/1510031236059836426/pu/img/-r4-_2Lov3oZLaga.jpg\n",
      "-----\n",
      "\n",
      "\n",
      "Autor:  CarolCastroReal\n",
      "Imagens postadas:\n",
      "-----\n",
      "\n",
      "\n",
      "Autor:  gio_antonelli\n",
      "Imagens postadas:\n",
      "http://pbs.twimg.com/ext_tw_video_thumb/1510012919223881735/pu/img/O1iqxwbPIf9BUe7b.jpg\n",
      "http://pbs.twimg.com/media/FPTXKwVWYBkJKco.jpg\n",
      "http://pbs.twimg.com/media/FPTXKwVWYBkJKco.jpg\n",
      "http://pbs.twimg.com/media/FPTXKwVWYBkJKco.jpg\n",
      "http://pbs.twimg.com/media/FPTXKwVWYBkJKco.jpg\n",
      "http://pbs.twimg.com/ext_tw_video_thumb/1510012919223881735/pu/img/O1iqxwbPIf9BUe7b.jpg\n",
      "http://pbs.twimg.com/media/FPTXKwVWYBkJKco.jpg\n",
      "http://pbs.twimg.com/media/FPTXKwVWYBkJKco.jpg\n",
      "http://pbs.twimg.com/media/FPTXKwVWYBkJKco.jpg\n",
      "http://pbs.twimg.com/ext_tw_video_thumb/1495585052851376128/pu/img/Ys3FSpbzQijwR8UP.jpg\n",
      "-----\n",
      "\n",
      "\n",
      "Autor:  maisa\n",
      "Imagens postadas:\n",
      "http://pbs.twimg.com/ext_tw_video_thumb/1510425976563449863/pu/img/Hv6j1UsoIzKNHEkS.jpg\n",
      "http://pbs.twimg.com/media/FPYcEZSXsAQN6ek.jpg\n",
      "-----\n",
      "\n",
      "\n",
      "Autor:  cleooficial\n",
      "Imagens postadas:\n",
      "-----\n",
      "\n",
      "\n",
      "Autor:  gewbank\n",
      "Imagens postadas:\n",
      "-----\n",
      "\n",
      "\n",
      "Autor:  taisdeverdade\n",
      "Imagens postadas:\n",
      "http://pbs.twimg.com/media/FPXF_eMXEAYpEcq.jpg\n",
      "-----\n",
      "\n",
      "\n",
      "Autor:  otaviano\n",
      "Imagens postadas:\n",
      "http://pbs.twimg.com/ext_tw_video_thumb/1509701292788174850/pu/img/l-hYudCbJc5LcplC.jpg\n",
      "http://pbs.twimg.com/ext_tw_video_thumb/1510028295798202372/pu/img/dH1_KHJdFGB7DJlS.jpg\n",
      "http://pbs.twimg.com/media/FPV3fUoXsAMR99h.jpg\n",
      "http://pbs.twimg.com/media/FPV3fUoXsAMR99h.jpg\n",
      "http://pbs.twimg.com/ext_tw_video_thumb/1510298126153834498/pu/img/epq8h-dstE9BaUTi.jpg\n",
      "http://pbs.twimg.com/media/FPS_6dUXwAYBLbZ.jpg\n",
      "-----\n",
      "\n",
      "\n",
      "Autor:  bernardipaloma\n",
      "Imagens postadas:\n",
      "http://pbs.twimg.com/media/FPLZe75XoAwje-3.jpg\n",
      "-----\n",
      "\n",
      "\n",
      "Autor:  IngridGuimaraes\n",
      "Imagens postadas:\n",
      "-----\n",
      "\n",
      "\n",
      "Autor:  olazaroramos\n",
      "Imagens postadas:\n",
      "http://pbs.twimg.com/tweet_video_thumb/FPXUiWOX0AYQN2E.jpg\n",
      "-----\n",
      "\n",
      "\n",
      "Autor:  GalisteuOficial\n",
      "Imagens postadas:\n",
      "http://pbs.twimg.com/media/FPW4_l0X0AcAWEl.jpg\n",
      "http://pbs.twimg.com/media/FPW4_l0X0AcAWEl.jpg\n",
      "http://pbs.twimg.com/media/FPW4_l0X0AcAWEl.jpg\n",
      "http://pbs.twimg.com/media/FPW4_l0X0AcAWEl.jpg\n",
      "http://pbs.twimg.com/media/FPW4_l0X0AcAWEl.jpg\n",
      "http://pbs.twimg.com/media/FPW4_l0X0AcAWEl.jpg\n",
      "http://pbs.twimg.com/media/FPW4_l0X0AcAWEl.jpg\n",
      "http://pbs.twimg.com/media/FPW4_l0X0AcAWEl.jpg\n",
      "http://pbs.twimg.com/media/FPW4_l0X0AcAWEl.jpg\n",
      "http://pbs.twimg.com/media/FPW4_l0X0AcAWEl.jpg\n"
     ]
    },
    {
     "name": "stdout",
     "output_type": "stream",
     "text": [
      "http://pbs.twimg.com/media/FPW4_l0X0AcAWEl.jpg\n",
      "http://pbs.twimg.com/media/FPW4_l0X0AcAWEl.jpg\n",
      "http://pbs.twimg.com/media/FPW4_l0X0AcAWEl.jpg\n",
      "http://pbs.twimg.com/media/FPW4_l0X0AcAWEl.jpg\n",
      "http://pbs.twimg.com/media/FPW4_l0X0AcAWEl.jpg\n",
      "-----\n",
      "\n",
      "\n",
      "Autor:  debranascimento\n",
      "Imagens postadas:\n",
      "-----\n",
      "\n",
      "\n",
      "Autor:  FioMattheis\n",
      "Imagens postadas:\n",
      "-----\n",
      "\n",
      "\n",
      "Autor:  moalfradique\n",
      "Imagens postadas:\n",
      "-----\n",
      "\n",
      "\n",
      "Autor:  Nandacostareal\n",
      "Imagens postadas:\n",
      "http://pbs.twimg.com/ext_tw_video_thumb/1510390051829649413/pu/img/SAhg4Bq11bgvaQIQ.jpg\n",
      "http://pbs.twimg.com/media/ExzgTPPWEAApTgc.jpg\n",
      "-----\n",
      "\n",
      "\n"
     ]
    }
   ],
   "source": [
    "for famoso in famosos:\n",
    "    tweets = tw.Cursor(api.search_tweets,\n",
    "         q=famoso).items(20)\n",
    "    print('Autor: ', famoso)\n",
    "    print('Imagens postadas:')\n",
    "  \n",
    "    for tweet in tweets:\n",
    "        if 'media' in tweet.entities:\n",
    "            print(tweet.entities['media'][0]['media_url'])\n",
    "      \n",
    "    print('-----')\n",
    "    print('\\n')\n",
    "    "
   ]
  },
  {
   "cell_type": "markdown",
   "metadata": {
    "colab_type": "text",
    "id": "pOEXry3qp-0u"
   },
   "source": [
    "# Streaming"
   ]
  },
  {
   "cell_type": "code",
   "execution_count": 15,
   "metadata": {
    "colab": {},
    "colab_type": "code",
    "id": "OViM-_VjqZI7"
   },
   "outputs": [],
   "source": [
    "class MinhaStreamListener(tw.Stream):\n",
    "  \n",
    "  def on_status(self, status):\n",
    "    print(status.user.screen_name)\n",
    "    print(status.text)\n",
    "    print('-----')\n",
    "    print('\\n')"
   ]
  },
  {
   "cell_type": "code",
   "execution_count": 16,
   "metadata": {
    "colab": {},
    "colab_type": "code",
    "id": "Wzy3q7cYosaY"
   },
   "outputs": [],
   "source": [
    "myStream = MinhaStreamListener(consumer_key, consumer_secret, access_token, access_token_secret)"
   ]
  },
  {
   "cell_type": "code",
   "execution_count": null,
   "metadata": {},
   "outputs": [],
   "source": [
    "myStream.filter(track=famosos)\n",
    "time.sleep(120)\n",
    "myStream.disconnect()"
   ]
  },
  {
   "cell_type": "code",
   "execution_count": null,
   "metadata": {},
   "outputs": [],
   "source": [
    "#pip install --upgrade azure-cognitiveservices-vision-computervision"
   ]
  },
  {
   "cell_type": "code",
   "execution_count": 18,
   "metadata": {
    "colab": {},
    "colab_type": "code",
    "id": "6_lBbfFC0SMv"
   },
   "outputs": [],
   "source": [
    "from azure.cognitiveservices.vision.computervision import ComputerVisionClient\n",
    "from msrest.authentication import CognitiveServicesCredentials"
   ]
  },
  {
   "cell_type": "code",
   "execution_count": 19,
   "metadata": {
    "colab": {},
    "colab_type": "code",
    "id": "x9PdEqG50jOx"
   },
   "outputs": [],
   "source": [
    "credenciais = CognitiveServicesCredentials(\"...\")"
   ]
  },
  {
   "cell_type": "code",
   "execution_count": 20,
   "metadata": {
    "colab": {},
    "colab_type": "code",
    "id": "I-_f0bKd04P3"
   },
   "outputs": [],
   "source": [
    "client = ComputerVisionClient(\"https://gb-desenvolve.cognitiveservices.azure.com\", credenciais)"
   ]
  },
  {
   "cell_type": "code",
   "execution_count": 21,
   "metadata": {
    "colab": {
     "base_uri": "https://localhost:8080/",
     "height": 35
    },
    "colab_type": "code",
    "id": "kedVhVS91BzS",
    "outputId": "3011b90f-41cb-4c58-9051-6ff0ceb35f76"
   },
   "outputs": [
    {
     "data": {
      "text/plain": [
       "'3.2'"
      ]
     },
     "execution_count": 21,
     "metadata": {},
     "output_type": "execute_result"
    }
   ],
   "source": [
    "client.api_version"
   ]
  },
  {
   "cell_type": "markdown",
   "metadata": {
    "colab_type": "text",
    "id": "GEwJp_Sq3xE8"
   },
   "source": [
    "![](https://pbs.twimg.com/media/EziD1CKXMAEKxMg.png)"
   ]
  },
  {
   "cell_type": "code",
   "execution_count": 22,
   "metadata": {
    "colab": {},
    "colab_type": "code",
    "id": "AUpNeqA6IniC"
   },
   "outputs": [],
   "source": [
    "from azure.cognitiveservices.vision.computervision.models import VisualFeatureTypes\n",
    "\n",
    "url = \"https://pbs.twimg.com/media/EziD1CKXMAEKxMg.png\"\n",
    "\n",
    "analize_de_imagem = client.analyze_image(url, visual_features = [VisualFeatureTypes.tags])"
   ]
  },
  {
   "cell_type": "code",
   "execution_count": 23,
   "metadata": {
    "colab": {
     "base_uri": "https://localhost:8080/",
     "height": 217
    },
    "colab_type": "code",
    "id": "GvQjNSViKjOS",
    "outputId": "cc0e864d-e793-470a-bf75-d3ea9943e3d1"
   },
   "outputs": [
    {
     "name": "stdout",
     "output_type": "stream",
     "text": [
      "{'additional_properties': {}, 'name': 'person', 'confidence': 0.9989100694656372, 'hint': None}\n",
      "{'additional_properties': {}, 'name': 'human face', 'confidence': 0.993006706237793, 'hint': None}\n",
      "{'additional_properties': {}, 'name': 'man', 'confidence': 0.9584975242614746, 'hint': None}\n",
      "{'additional_properties': {}, 'name': 'collar', 'confidence': 0.9505500793457031, 'hint': None}\n",
      "{'additional_properties': {}, 'name': 'clothing', 'confidence': 0.9480472803115845, 'hint': None}\n",
      "{'additional_properties': {}, 'name': 'water', 'confidence': 0.9446836709976196, 'hint': None}\n",
      "{'additional_properties': {}, 'name': 'shirt', 'confidence': 0.9135366678237915, 'hint': None}\n",
      "{'additional_properties': {}, 'name': 'outdoor', 'confidence': 0.9093713760375977, 'hint': None}\n",
      "{'additional_properties': {}, 'name': 'blazer', 'confidence': 0.9037646055221558, 'hint': None}\n",
      "{'additional_properties': {}, 'name': 'dress shirt', 'confidence': 0.9017813205718994, 'hint': None}\n",
      "{'additional_properties': {}, 'name': 'gentleman', 'confidence': 0.8847908973693848, 'hint': None}\n",
      "{'additional_properties': {}, 'name': 'outerwear', 'confidence': 0.8616227507591248, 'hint': None}\n",
      "{'additional_properties': {}, 'name': 'formal wear', 'confidence': 0.8599656820297241, 'hint': None}\n",
      "{'additional_properties': {}, 'name': 'tie', 'confidence': 0.8501845002174377, 'hint': None}\n",
      "{'additional_properties': {}, 'name': 'wearing', 'confidence': 0.8162187933921814, 'hint': None}\n",
      "{'additional_properties': {}, 'name': 'suit', 'confidence': 0.7097751498222351, 'hint': None}\n",
      "{'additional_properties': {}, 'name': 'jacket', 'confidence': 0.5785177946090698, 'hint': None}\n",
      "{'additional_properties': {}, 'name': 'beach', 'confidence': 0.4863071143627167, 'hint': None}\n"
     ]
    }
   ],
   "source": [
    "for tag in analize_de_imagem.tags:\n",
    "    print(tag)"
   ]
  },
  {
   "cell_type": "code",
   "execution_count": 24,
   "metadata": {
    "colab": {},
    "colab_type": "code",
    "id": "IPJV3KOwKsRP"
   },
   "outputs": [],
   "source": [
    "analise_celebridades = client.analyze_image_by_domain(\"celebrities\", url, \"en\")"
   ]
  },
  {
   "cell_type": "code",
   "execution_count": 25,
   "metadata": {
    "colab": {
     "base_uri": "https://localhost:8080/",
     "height": 90
    },
    "colab_type": "code",
    "id": "YCCYVXdWNCc3",
    "outputId": "be7b3a86-8f7c-480a-f9fa-dc4c553be452"
   },
   "outputs": [
    {
     "name": "stdout",
     "output_type": "stream",
     "text": [
      "Rowan Atkinson\n",
      "0.999981164932251\n"
     ]
    }
   ],
   "source": [
    "for celebridade in analise_celebridades.result[\"celebrities\"]:\n",
    "    print(celebridade['name'])\n",
    "    print(celebridade['confidence'])"
   ]
  },
  {
   "cell_type": "code",
   "execution_count": 26,
   "metadata": {
    "colab": {
     "base_uri": "https://localhost:8080/",
     "height": 126
    },
    "colab_type": "code",
    "id": "FfrrRBPgNeCf",
    "outputId": "4c3ec531-67d9-4aaf-f464-a200f98d2b3b"
   },
   "outputs": [
    {
     "data": {
      "text/plain": [
       "[{'name': 'Rowan Atkinson',\n",
       "  'confidence': 0.999981164932251,\n",
       "  'faceRectangle': {'left': 527, 'top': 167, 'width': 185, 'height': 185}}]"
      ]
     },
     "execution_count": 26,
     "metadata": {},
     "output_type": "execute_result"
    }
   ],
   "source": [
    "analise_celebridades.result[\"celebrities\"]"
   ]
  },
  {
   "cell_type": "code",
   "execution_count": 27,
   "metadata": {
    "colab": {},
    "colab_type": "code",
    "id": "WBNqCp5JZvaX"
   },
   "outputs": [],
   "source": [
    "descricao = client.describe_image(url, 3, \"en\")"
   ]
  },
  {
   "cell_type": "code",
   "execution_count": 28,
   "metadata": {
    "colab": {
     "base_uri": "https://localhost:8080/",
     "height": 126
    },
    "colab_type": "code",
    "id": "SoL8gl93aC0g",
    "outputId": "982b9c55-07ba-4116-fd13-89458e42c4b0"
   },
   "outputs": [
    {
     "name": "stdout",
     "output_type": "stream",
     "text": [
      "Rowan Atkinson in a suit and tie\n",
      "0.457358181476593\n"
     ]
    }
   ],
   "source": [
    "for caption in descricao.captions:\n",
    "    print(caption.text)\n",
    "    print(caption.confidence)"
   ]
  },
  {
   "cell_type": "code",
   "execution_count": 29,
   "metadata": {
    "colab": {},
    "colab_type": "code",
    "id": "OXJFzccrcirs"
   },
   "outputs": [
    {
     "data": {
      "text/plain": [
       "'Rowan Atkinson in a suit and tie'"
      ]
     },
     "execution_count": 29,
     "metadata": {},
     "output_type": "execute_result"
    }
   ],
   "source": [
    "descricao.captions[0].text"
   ]
  },
  {
   "cell_type": "markdown",
   "metadata": {
    "colab_type": "text",
    "id": "OioQwPZPbhwE"
   },
   "source": [
    "# Streaming + Vision API"
   ]
  },
  {
   "cell_type": "code",
   "execution_count": 43,
   "metadata": {},
   "outputs": [],
   "source": [
    "import json"
   ]
  },
  {
   "cell_type": "code",
   "execution_count": 85,
   "metadata": {},
   "outputs": [],
   "source": [
    "class MinhaStreamListener(tw.Stream):\n",
    "    def on_status(self, status):\n",
    "        if('media' in status.entities):\n",
    "            print(f'Usuário: {status.user.name}')\n",
    "            print(f'Localização: {status.user.location}')    \n",
    "            print(f'Tweet: {status.text}')\n",
    "            \n",
    "            url = status.entities['media'][0]['media_url']\n",
    "            print(f'URL: {url}')\n",
    "            \n",
    "            description = client.describe_image(url, 1, 'en')\n",
    "            print(f'Caption: {description.captions[0].text}')\n",
    "            \n",
    "            analise_celebridades = client.analyze_image_by_domain('celebrities', url)\n",
    "            celebridades = [celeb['name'] for celeb in analise_celebridades.result['celebrities']]\n",
    "            print(f'Celebridades: {celebridades}')\n",
    "            \n",
    "            analize_de_imagem = client.analyze_image(url, visual_features = [VisualFeatureTypes.tags])\n",
    "            lista_tags = [tag.name for tag in analize_de_imagem.tags]\n",
    "            print(f'Tag:  {lista_tags}')\n",
    "        \n",
    "            resultados = {\n",
    "                'usuario': status.user.name,\n",
    "                'localizacao': status.user.location,\n",
    "                'texto': status.text,\n",
    "                'url': url,\n",
    "                'celebridades': celebridades,\n",
    "                'descricao': description.captions[0].text,\n",
    "                'tags': lista_tags\n",
    "            }\n",
    "        \n",
    "            with open('tweets.txt','a') as arquivo:\n",
    "                arquivo.write(json.dumps(resultados))\n",
    "                arquivo.write('\\n')\n",
    "        \n",
    "        print('\\n')\n",
    "        print(\"*\" * 100)\n",
    "        print('\\n')"
   ]
  },
  {
   "cell_type": "code",
   "execution_count": 86,
   "metadata": {
    "colab": {},
    "colab_type": "code",
    "id": "JUp74CQ4ikXv"
   },
   "outputs": [],
   "source": [
    "imagemStream = MinhaStreamListener(consumer_key, consumer_secret, access_token, access_token_secret)"
   ]
  },
  {
   "cell_type": "code",
   "execution_count": 87,
   "metadata": {},
   "outputs": [
    {
     "name": "stdout",
     "output_type": "stream",
     "text": [
      "\n",
      "\n",
      "****************************************************************************************************\n",
      "\n",
      "\n",
      "\n",
      "\n",
      "****************************************************************************************************\n",
      "\n",
      "\n",
      "\n",
      "\n",
      "****************************************************************************************************\n",
      "\n",
      "\n",
      "\n",
      "\n",
      "****************************************************************************************************\n",
      "\n",
      "\n",
      "\n",
      "\n",
      "****************************************************************************************************\n",
      "\n",
      "\n",
      "Usuário: gᶜᵉᶜ\n",
      "Localização: None\n",
      "Tweet: RT @uploadanitta: Lauren Jauregui confirmou sua presença na festa de Anitta hoje. https://t.co/iJEEAywCYT\n",
      "URL: http://pbs.twimg.com/media/FPYiBP_XEAIIe8V.jpg\n",
      "Caption: a woman in a red dress\n",
      "Celebridades: []\n",
      "Tag:  ['person', 'red', 'clothing', 'model', 'lady', 'female person', 'fashion model', 'fashion', 'cocktail dress', 'long hair', 'photo shoot', 'fashion design', 'woman', 'shoulder', 'wall', 'indoor', 'girl', 'standing', 'dress']\n",
      "\n",
      "\n",
      "****************************************************************************************************\n",
      "\n",
      "\n",
      "Usuário: Jailton_obrien\n",
      "Localização: Fortaleza, Brasil\n",
      "Tweet: RT @AnittaCrave: Lauren Jauregui is confirmed to Anitta’s birthday party tonight in Las Vegas. 🇺🇲 https://t.co/u7Bcx7mfrk\n",
      "URL: http://pbs.twimg.com/media/FPYg42gXEAAxiJF.jpg\n",
      "Caption: a woman in a red dress\n",
      "Celebridades: []\n",
      "Tag:  ['person', 'red', 'clothing', 'model', 'lady', 'female person', 'fashion model', 'fashion', 'cocktail dress', 'long hair', 'photo shoot', 'fashion design', 'woman', 'shoulder', 'wall', 'indoor', 'girl', 'standing', 'dress']\n",
      "\n",
      "\n",
      "****************************************************************************************************\n",
      "\n",
      "\n",
      "\n",
      "\n",
      "****************************************************************************************************\n",
      "\n",
      "\n",
      "\n",
      "\n",
      "****************************************************************************************************\n",
      "\n",
      "\n",
      "Usuário: ؘ\n",
      "Localização: None\n",
      "Tweet: fi eu nao me espantaria se demi aparecesse na festa da anitta  https://t.co/rXl07h0bNG\n",
      "URL: http://pbs.twimg.com/ext_tw_video_thumb/1155325016705241088/pu/img/SFlCkoXrlAEEq0Q5.jpg\n",
      "Caption: a person in a white dress\n",
      "Celebridades: []\n",
      "Tag:  ['human face', 'person', 'clothing', 'woman', 'window', 'door', 'fashion', 'girl', 'outdoor', 'indoor']\n",
      "\n",
      "\n",
      "****************************************************************************************************\n",
      "\n",
      "\n",
      "\n",
      "\n",
      "****************************************************************************************************\n",
      "\n",
      "\n",
      "\n",
      "\n",
      "****************************************************************************************************\n",
      "\n",
      "\n",
      "\n",
      "\n",
      "****************************************************************************************************\n",
      "\n",
      "\n",
      "\n",
      "\n",
      "****************************************************************************************************\n",
      "\n",
      "\n",
      "\n",
      "\n",
      "****************************************************************************************************\n",
      "\n",
      "\n",
      "\n",
      "\n",
      "****************************************************************************************************\n",
      "\n",
      "\n",
      "Usuário: levinitta\n",
      "Localização: None\n",
      "Tweet: RT @AnittaCrave: Lauren Jauregui is confirmed to Anitta’s birthday party tonight in Las Vegas. 🇺🇲 https://t.co/u7Bcx7mfrk\n",
      "URL: http://pbs.twimg.com/media/FPYg42gXEAAxiJF.jpg\n",
      "Caption: a woman in a red dress\n",
      "Celebridades: []\n",
      "Tag:  ['person', 'red', 'clothing', 'model', 'lady', 'female person', 'fashion model', 'fashion', 'cocktail dress', 'long hair', 'photo shoot', 'fashion design', 'woman', 'shoulder', 'wall', 'indoor', 'girl', 'standing', 'dress']\n",
      "\n",
      "\n",
      "****************************************************************************************************\n",
      "\n",
      "\n",
      "\n",
      "\n",
      "****************************************************************************************************\n",
      "\n",
      "\n",
      "Usuário: Ⓖⓐⓨ🌈Ⓛⓤⓣⓗⓞⓡ\n",
      "Localização: Belo Horizonte, Brasil\n",
      "Tweet: RT @Anitta: Eu te amo @inesbrasiltv https://t.co/m1ZGghDibZ\n",
      "URL: http://pbs.twimg.com/media/FPNxDnxXMAUC3Il.jpg\n",
      "Caption: Inês Brasil, Inês Brasil, Inês Brasil, Inês Brasil et al. are posing for a picture\n",
      "Celebridades: ['Inês Brasil', 'Inês Brasil', 'Inês Brasil', 'Inês Brasil']\n",
      "Tag:  ['human face', 'smile', 'person', 'wall', 'indoor', 'posing', 'woman', 'pink', 'sitting', 'group', 'girl']\n",
      "\n",
      "\n",
      "****************************************************************************************************\n",
      "\n",
      "\n",
      "Usuário: pedro b\n",
      "Localização: None\n",
      "Tweet: RT @AnittaCrave: Lauren Jauregui is confirmed to Anitta’s birthday party tonight in Las Vegas. 🇺🇲 https://t.co/u7Bcx7mfrk\n",
      "URL: http://pbs.twimg.com/media/FPYg42gXEAAxiJF.jpg\n",
      "Caption: a woman in a red dress\n",
      "Celebridades: []\n",
      "Tag:  ['person', 'red', 'clothing', 'model', 'lady', 'female person', 'fashion model', 'fashion', 'cocktail dress', 'long hair', 'photo shoot', 'fashion design', 'woman', 'shoulder', 'wall', 'indoor', 'girl', 'standing', 'dress']\n",
      "\n",
      "\n",
      "****************************************************************************************************\n",
      "\n",
      "\n",
      "\n",
      "\n",
      "****************************************************************************************************\n",
      "\n",
      "\n",
      "\n",
      "\n",
      "****************************************************************************************************\n",
      "\n",
      "\n",
      "\n",
      "\n",
      "****************************************************************************************************\n",
      "\n",
      "\n",
      "\n",
      "\n",
      "****************************************************************************************************\n",
      "\n",
      "\n",
      "\n",
      "\n",
      "****************************************************************************************************\n",
      "\n",
      "\n",
      "\n",
      "\n",
      "****************************************************************************************************\n",
      "\n",
      "\n",
      "\n",
      "\n",
      "****************************************************************************************************\n",
      "\n",
      "\n",
      "\n",
      "\n",
      "****************************************************************************************************\n",
      "\n",
      "\n",
      "\n",
      "\n",
      "****************************************************************************************************\n",
      "\n",
      "\n",
      "\n",
      "\n",
      "****************************************************************************************************\n",
      "\n",
      "\n",
      "\n",
      "\n",
      "****************************************************************************************************\n",
      "\n",
      "\n",
      "\n",
      "\n",
      "****************************************************************************************************\n",
      "\n",
      "\n",
      "\n",
      "\n",
      "****************************************************************************************************\n",
      "\n",
      "\n",
      "\n",
      "\n",
      "****************************************************************************************************\n",
      "\n",
      "\n",
      "Usuário: Yasmim🍡🍕✨🖇️🎯\n",
      "Localização: None\n",
      "Tweet: RT @Aguiarthur: AGUIAR - VERSIONS OF ME ✨ https://t.co/sLPvIhgEjk\n",
      "URL: http://pbs.twimg.com/media/FPYD1itXEAQ8TQL.jpg\n",
      "Caption: Arthur Aguiar, Arthur Aguiar, Arthur Aguiar, Arthur Aguiar et al. are posing for a picture\n",
      "Celebridades: ['Arthur Aguiar', 'Arthur Aguiar', 'Arthur Aguiar', 'Arthur Aguiar']\n",
      "Tag:  ['clothing', 'human face', 'person', 'smile', 'man', 'wall', 'woman', 'posing', 'group', 'sitting', 'people', 'indoor', 'standing']\n",
      "\n",
      "\n",
      "****************************************************************************************************\n",
      "\n",
      "\n",
      "\n",
      "\n",
      "****************************************************************************************************\n",
      "\n",
      "\n",
      "\n",
      "\n",
      "****************************************************************************************************\n",
      "\n",
      "\n",
      "Usuário: 𓂀\n",
      "Localização: 031   she/her\n",
      "Tweet: RT @judepaulla1: a regra número 5 do aniversário da anitta! kkkkkkk queria https://t.co/iFjGHMTkjN\n",
      "URL: http://pbs.twimg.com/media/FPTysGRXoA8Ro5X.jpg\n",
      "Caption: text\n",
      "Celebridades: []\n",
      "Tag:  ['text', 'screenshot', 'human face', 'footwear', 'clothing', 'person']\n",
      "\n",
      "\n",
      "****************************************************************************************************\n",
      "\n",
      "\n",
      "\n",
      "\n",
      "****************************************************************************************************\n",
      "\n",
      "\n",
      "\n",
      "\n",
      "****************************************************************************************************\n",
      "\n",
      "\n",
      "Usuário: geice\n",
      "Localização: None\n",
      "Tweet: RT @jaureguilineBR: VENCEMOS! 🇧🇷 \n",
      "\n",
      "Lauren Jauregui estará presente no aniversário da Anitta hoje em Las Vegas! https://t.co/OoNAjpiKuy\n",
      "URL: http://pbs.twimg.com/media/FPYhgl5XIAAjHWa.jpg\n",
      "Caption: Anitta et al. in clothing\n",
      "Celebridades: ['Anitta']\n",
      "Tag:  ['person', 'clothing', 'human face', 'wall', 'indoor', 'smile', 'dress', 'man', 'woman', 'girl', 'fashion', 'female person', 'fashion accessory', 'people', 'standing']\n",
      "\n",
      "\n",
      "****************************************************************************************************\n",
      "\n",
      "\n",
      "\n",
      "\n",
      "****************************************************************************************************\n",
      "\n",
      "\n",
      "\n",
      "\n",
      "****************************************************************************************************\n",
      "\n",
      "\n",
      "\n",
      "\n",
      "****************************************************************************************************\n",
      "\n",
      "\n",
      "\n",
      "\n",
      "****************************************************************************************************\n",
      "\n",
      "\n",
      "Usuário: music\n",
      "Localização: None\n",
      "Tweet: RT @AnittaChart: 🌍 Most viewed videos in the past 24 hours:\n",
      "\n",
      "#6. \"Envolver\" (@Anitta) = 3,451,946 [+5]\n",
      " https://t.co/jXgPQaCp6B\n",
      "URL: http://pbs.twimg.com/ext_tw_video_thumb/1458965142864080905/pu/img/dz2hDw9sCiM-gCT-.jpg\n"
     ]
    },
    {
     "name": "stdout",
     "output_type": "stream",
     "text": [
      "Caption: a man and woman dancing\n",
      "Celebridades: []\n",
      "Tag:  ['person', 'clothing', 'dance', 'electric blue', 'back', 'wall', 'woman', 'standing', 'art']\n",
      "\n",
      "\n",
      "****************************************************************************************************\n",
      "\n",
      "\n",
      "\n",
      "\n",
      "****************************************************************************************************\n",
      "\n",
      "\n",
      "\n",
      "\n",
      "****************************************************************************************************\n",
      "\n",
      "\n",
      "\n",
      "\n",
      "****************************************************************************************************\n",
      "\n",
      "\n",
      "\n",
      "\n",
      "****************************************************************************************************\n",
      "\n",
      "\n",
      "\n",
      "\n",
      "****************************************************************************************************\n",
      "\n",
      "\n",
      "Usuário: 𝐯𝐞𝐫𝐬𝐢𝐨𝐧𝐬 𝐨𝐟 𝐦𝐚𝐫𝐢𝐯𝐚𝐥𝐝𝐨🧪\n",
      "Localização: Brasil\n",
      "Tweet: RT @jaureguilineBR: VENCEMOS! 🇧🇷 \n",
      "\n",
      "Lauren Jauregui estará presente no aniversário da Anitta hoje em Las Vegas! https://t.co/OoNAjpiKuy\n",
      "URL: http://pbs.twimg.com/media/FPYhgl5XIAAjHWa.jpg\n",
      "Caption: Anitta et al. in clothing\n",
      "Celebridades: ['Anitta']\n",
      "Tag:  ['person', 'clothing', 'human face', 'wall', 'indoor', 'smile', 'dress', 'man', 'woman', 'girl', 'fashion', 'female person', 'fashion accessory', 'people', 'standing']\n",
      "\n",
      "\n",
      "****************************************************************************************************\n",
      "\n",
      "\n",
      "\n",
      "\n",
      "****************************************************************************************************\n",
      "\n",
      "\n",
      "\n",
      "\n",
      "****************************************************************************************************\n",
      "\n",
      "\n",
      "Usuário: Junitter 🌎 Envolver • WW\n",
      "Localização: None\n",
      "Tweet: RT @luccasanitto: de uma coisa eu tenho certeza, a anitta vai servir o aoty com o versions of me. https://t.co/ZlHm0KmCMx\n",
      "URL: http://pbs.twimg.com/media/FPYhvVkXsAs4jcm.jpg\n",
      "Caption: a collage of a person\n",
      "Celebridades: []\n",
      "Tag:  ['human face', 'clothing', 'fashion', 'girl', 'fashion design', 'dress', 'person', 'collage', 'doll', 'cartoon', 'woman']\n",
      "\n",
      "\n",
      "****************************************************************************************************\n",
      "\n",
      "\n",
      "\n",
      "\n",
      "****************************************************************************************************\n",
      "\n",
      "\n",
      "Usuário: merimi #modoturbo\n",
      "Localização: Beagay\n",
      "Tweet: RT @jbneiva_: A Normani assim com a Camila Cabello e Lauren na festa da Anitta hoje https://t.co/V0Fhza8qaZ\n",
      "URL: http://pbs.twimg.com/media/FPYHfvtXEAEBHM-.jpg\n",
      "Caption: a group of women in a gym\n",
      "Celebridades: []\n",
      "Tag:  ['person', 'sport', 'clothing', 'hula hoop', 'dance', 'human face', 'text', 'floor', 'outdoor']\n",
      "\n",
      "\n",
      "****************************************************************************************************\n",
      "\n",
      "\n",
      "\n",
      "\n",
      "****************************************************************************************************\n",
      "\n",
      "\n",
      "\n",
      "\n",
      "****************************************************************************************************\n",
      "\n",
      "\n",
      "Usuário: donuteboy\n",
      "Localização: Brisbane, Queensland\n",
      "Tweet: RT @neymarjr: Selfie Time 🏆 \n",
      "https://t.co/BMmnflFiMb https://t.co/iYtCaJeKNr\n",
      "URL: http://pbs.twimg.com/ext_tw_video_thumb/1509860821597409303/pu/img/9SZdc3cEXc-JjV-U.jpg\n",
      "Caption: a man with a beard and a mustache with a sign in front of him\n"
     ]
    }
   ],
   "source": [
    "imagemStream.filter(track=famosos, languages=['pt', 'en'], threaded=True)\n",
    "time.sleep(120)\n",
    "imagemStream.disconnect()"
   ]
  },
  {
   "cell_type": "markdown",
   "metadata": {
    "colab_type": "text",
    "id": "cDfSkrLTwIk0"
   },
   "source": [
    "# Avaliando Resultados"
   ]
  },
  {
   "cell_type": "code",
   "execution_count": 93,
   "metadata": {
    "colab": {},
    "colab_type": "code",
    "id": "SR_WMZP-wKYz"
   },
   "outputs": [],
   "source": [
    "lista_arquivo = []\n",
    "\n",
    "with open(\"tweets.txt\", 'r') as arquivo:\n",
    "    for linha in arquivo:\n",
    "        lista_arquivo.append(json.loads(linha))"
   ]
  },
  {
   "cell_type": "code",
   "execution_count": 99,
   "metadata": {
    "colab": {
     "base_uri": "https://localhost:8080/",
     "height": 254
    },
    "colab_type": "code",
    "id": "kLf53x1ywgRp",
    "outputId": "4e0b5e38-046d-4b6a-e3b2-cf8548e354c6"
   },
   "outputs": [
    {
     "data": {
      "text/plain": [
       "{'usuario': 'triássica | SDV',\n",
       " 'localizacao': '🔥 | 💧',\n",
       " 'texto': 'RT @editorarianator: ariana grande — version of me (inspired by @Anitta ‘s new album cover) 🤍 https://t.co/gguZkznXT0',\n",
       " 'url': 'http://pbs.twimg.com/media/FPV5f7oXwAYbPVT.jpg',\n",
       " 'celebridades': 'Ariana Grande, Ariana Grande, Ariana Grande, Ariana Grande, Ariana Grande, Ariana Grande',\n",
       " 'descricao': 'Ariana Grande, Ariana Grande, Ariana Grande, Ariana Grande, Ariana Grande, Ariana Grande are posing for a picture'}"
      ]
     },
     "execution_count": 99,
     "metadata": {},
     "output_type": "execute_result"
    }
   ],
   "source": [
    "lista_arquivo[29]"
   ]
  },
  {
   "cell_type": "code",
   "execution_count": 95,
   "metadata": {
    "colab": {},
    "colab_type": "code",
    "id": "wmnv9UPuwkXo"
   },
   "outputs": [],
   "source": [
    "import pandas as pd"
   ]
  },
  {
   "cell_type": "code",
   "execution_count": 96,
   "metadata": {
    "colab": {},
    "colab_type": "code",
    "id": "xmg256AKwquG"
   },
   "outputs": [],
   "source": [
    "imagens = pd.DataFrame(lista_arquivo)"
   ]
  },
  {
   "cell_type": "code",
   "execution_count": 139,
   "metadata": {
    "colab": {
     "base_uri": "https://localhost:8080/",
     "height": 388
    },
    "colab_type": "code",
    "id": "IueLTQ6nwymW",
    "outputId": "412ea014-0563-4ff5-95a1-696719b36822"
   },
   "outputs": [
    {
     "data": {
      "text/html": [
       "<div>\n",
       "<style scoped>\n",
       "    .dataframe tbody tr th:only-of-type {\n",
       "        vertical-align: middle;\n",
       "    }\n",
       "\n",
       "    .dataframe tbody tr th {\n",
       "        vertical-align: top;\n",
       "    }\n",
       "\n",
       "    .dataframe thead th {\n",
       "        text-align: right;\n",
       "    }\n",
       "</style>\n",
       "<table border=\"1\" class=\"dataframe\">\n",
       "  <thead>\n",
       "    <tr style=\"text-align: right;\">\n",
       "      <th></th>\n",
       "      <th>usuario</th>\n",
       "      <th>texto</th>\n",
       "      <th>celebridades</th>\n",
       "      <th>descricao</th>\n",
       "      <th>localizacao</th>\n",
       "      <th>url</th>\n",
       "      <th>tags</th>\n",
       "    </tr>\n",
       "  </thead>\n",
       "  <tbody>\n",
       "    <tr>\n",
       "      <th>0</th>\n",
       "      <td>cadelinha do tøp ⊬</td>\n",
       "      <td>RT @ExtensaoAnitta: 📊 \"Envolver\" de Anitta est...</td>\n",
       "      <td></td>\n",
       "      <td>a person with the hand up</td>\n",
       "      <td>NaN</td>\n",
       "      <td>NaN</td>\n",
       "      <td>NaN</td>\n",
       "    </tr>\n",
       "    <tr>\n",
       "      <th>1</th>\n",
       "      <td>todo da triz | au's 📌</td>\n",
       "      <td>RT @tracklist: O videoclipe de “Envolver”, de ...</td>\n",
       "      <td></td>\n",
       "      <td>a person wearing a grey sweater</td>\n",
       "      <td>NaN</td>\n",
       "      <td>NaN</td>\n",
       "      <td>NaN</td>\n",
       "    </tr>\n",
       "    <tr>\n",
       "      <th>2</th>\n",
       "      <td>Adriano</td>\n",
       "      <td>RT @Anitta: Versions Of Me\\n\\nThe album\\n\\nApr...</td>\n",
       "      <td>Anitta, Anitta, Anitta</td>\n",
       "      <td>Anitta, Anitta, Anitta et al. are posing for a...</td>\n",
       "      <td>NaN</td>\n",
       "      <td>NaN</td>\n",
       "      <td>NaN</td>\n",
       "    </tr>\n",
       "    <tr>\n",
       "      <th>3</th>\n",
       "      <td>endoida caralho</td>\n",
       "      <td>RT @jbneiva_: A Normani assim com a Camila Cab...</td>\n",
       "      <td></td>\n",
       "      <td>a group of women in a gym</td>\n",
       "      <td>NaN</td>\n",
       "      <td>NaN</td>\n",
       "      <td>NaN</td>\n",
       "    </tr>\n",
       "    <tr>\n",
       "      <th>4</th>\n",
       "      <td>Lindalva Ferreira</td>\n",
       "      <td>RT @Aguiarthur: Look da festa de hoje! Gostara...</td>\n",
       "      <td>Arthur Aguiar</td>\n",
       "      <td>Arthur Aguiar sitting at a table</td>\n",
       "      <td>NaN</td>\n",
       "      <td>NaN</td>\n",
       "      <td>NaN</td>\n",
       "    </tr>\n",
       "  </tbody>\n",
       "</table>\n",
       "</div>"
      ],
      "text/plain": [
       "                 usuario                                              texto  \\\n",
       "0     cadelinha do tøp ⊬  RT @ExtensaoAnitta: 📊 \"Envolver\" de Anitta est...   \n",
       "1  todo da triz | au's 📌  RT @tracklist: O videoclipe de “Envolver”, de ...   \n",
       "2                Adriano  RT @Anitta: Versions Of Me\\n\\nThe album\\n\\nApr...   \n",
       "3        endoida caralho  RT @jbneiva_: A Normani assim com a Camila Cab...   \n",
       "4      Lindalva Ferreira  RT @Aguiarthur: Look da festa de hoje! Gostara...   \n",
       "\n",
       "             celebridades                                          descricao  \\\n",
       "0                                                  a person with the hand up   \n",
       "1                                            a person wearing a grey sweater   \n",
       "2  Anitta, Anitta, Anitta  Anitta, Anitta, Anitta et al. are posing for a...   \n",
       "3                                                  a group of women in a gym   \n",
       "4           Arthur Aguiar                   Arthur Aguiar sitting at a table   \n",
       "\n",
       "  localizacao  url tags  \n",
       "0         NaN  NaN  NaN  \n",
       "1         NaN  NaN  NaN  \n",
       "2         NaN  NaN  NaN  \n",
       "3         NaN  NaN  NaN  \n",
       "4         NaN  NaN  NaN  "
      ]
     },
     "execution_count": 139,
     "metadata": {},
     "output_type": "execute_result"
    }
   ],
   "source": [
    "imagens.head()"
   ]
  },
  {
   "cell_type": "code",
   "execution_count": 132,
   "metadata": {
    "colab": {},
    "colab_type": "code",
    "id": "emwXzmKQw1EZ"
   },
   "outputs": [],
   "source": [
    "pesquisa = 'Bruna Marquezine'\n",
    "\n",
    "achados = [(pesquisa in lista) for lista in imagens.celebridades]"
   ]
  },
  {
   "cell_type": "code",
   "execution_count": 133,
   "metadata": {
    "colab": {
     "base_uri": "https://localhost:8080/",
     "height": 113
    },
    "colab_type": "code",
    "id": "TScyxCKyxUQR",
    "outputId": "dc15c1f9-9adc-4033-816d-54b95483c172"
   },
   "outputs": [
    {
     "data": {
      "text/html": [
       "<div>\n",
       "<style scoped>\n",
       "    .dataframe tbody tr th:only-of-type {\n",
       "        vertical-align: middle;\n",
       "    }\n",
       "\n",
       "    .dataframe tbody tr th {\n",
       "        vertical-align: top;\n",
       "    }\n",
       "\n",
       "    .dataframe thead th {\n",
       "        text-align: right;\n",
       "    }\n",
       "</style>\n",
       "<table border=\"1\" class=\"dataframe\">\n",
       "  <thead>\n",
       "    <tr style=\"text-align: right;\">\n",
       "      <th></th>\n",
       "      <th>usuario</th>\n",
       "      <th>texto</th>\n",
       "      <th>celebridades</th>\n",
       "      <th>descricao</th>\n",
       "      <th>localizacao</th>\n",
       "      <th>url</th>\n",
       "      <th>tags</th>\n",
       "    </tr>\n",
       "  </thead>\n",
       "  <tbody>\n",
       "    <tr>\n",
       "      <th>5</th>\n",
       "      <td>Fafá♥️🌻🌪</td>\n",
       "      <td>@BruMarquezine have the most smile in the worl...</td>\n",
       "      <td>Bruna Marquezine, Bruna Marquezine</td>\n",
       "      <td>Bruna Marquezine, Bruna Marquezine et al. are ...</td>\n",
       "      <td>NaN</td>\n",
       "      <td>NaN</td>\n",
       "      <td>NaN</td>\n",
       "    </tr>\n",
       "    <tr>\n",
       "      <th>26</th>\n",
       "      <td>Edileusa De Sousa Lima</td>\n",
       "      <td>RT @Fafa_Lira: Is a true goddess @BruMarquezin...</td>\n",
       "      <td>Bruna Marquezine</td>\n",
       "      <td>a collage of Bruna Marquezine</td>\n",
       "      <td>None</td>\n",
       "      <td>http://pbs.twimg.com/media/FPYexhPWYAAdimf.jpg</td>\n",
       "      <td>NaN</td>\n",
       "    </tr>\n",
       "    <tr>\n",
       "      <th>34</th>\n",
       "      <td>Fafá♥️🌻🌪</td>\n",
       "      <td>one of the most beautiful smiles in the world ...</td>\n",
       "      <td>Bruna Marquezine, Bruna Marquezine</td>\n",
       "      <td>Bruna Marquezine, Bruna Marquezine et al. are ...</td>\n",
       "      <td>Recife, Brasil</td>\n",
       "      <td>http://pbs.twimg.com/media/FPYfowGXMAA9Q0T.jpg</td>\n",
       "      <td>NaN</td>\n",
       "    </tr>\n",
       "  </tbody>\n",
       "</table>\n",
       "</div>"
      ],
      "text/plain": [
       "                   usuario                                              texto  \\\n",
       "5                 Fafá♥️🌻🌪  @BruMarquezine have the most smile in the worl...   \n",
       "26  Edileusa De Sousa Lima  RT @Fafa_Lira: Is a true goddess @BruMarquezin...   \n",
       "34                Fafá♥️🌻🌪  one of the most beautiful smiles in the world ...   \n",
       "\n",
       "                          celebridades  \\\n",
       "5   Bruna Marquezine, Bruna Marquezine   \n",
       "26                    Bruna Marquezine   \n",
       "34  Bruna Marquezine, Bruna Marquezine   \n",
       "\n",
       "                                            descricao     localizacao  \\\n",
       "5   Bruna Marquezine, Bruna Marquezine et al. are ...             NaN   \n",
       "26                      a collage of Bruna Marquezine            None   \n",
       "34  Bruna Marquezine, Bruna Marquezine et al. are ...  Recife, Brasil   \n",
       "\n",
       "                                               url tags  \n",
       "5                                              NaN  NaN  \n",
       "26  http://pbs.twimg.com/media/FPYexhPWYAAdimf.jpg  NaN  \n",
       "34  http://pbs.twimg.com/media/FPYfowGXMAA9Q0T.jpg  NaN  "
      ]
     },
     "execution_count": 133,
     "metadata": {},
     "output_type": "execute_result"
    }
   ],
   "source": [
    "imagens[achados]"
   ]
  },
  {
   "cell_type": "code",
   "execution_count": 140,
   "metadata": {
    "colab": {
     "base_uri": "https://localhost:8080/",
     "height": 35
    },
    "colab_type": "code",
    "id": "PVBs0bM3xqEk",
    "outputId": "2b5fff39-db3f-4bca-e5da-eb2744c08e5d"
   },
   "outputs": [
    {
     "data": {
      "text/plain": [
       "'a collage of Bruna Marquezine'"
      ]
     },
     "execution_count": 140,
     "metadata": {},
     "output_type": "execute_result"
    }
   ],
   "source": [
    "imagens[achados].descricao.iloc[1]"
   ]
  },
  {
   "cell_type": "code",
   "execution_count": 141,
   "metadata": {
    "colab": {
     "base_uri": "https://localhost:8080/",
     "height": 417
    },
    "colab_type": "code",
    "id": "iJ0T9MlIx-uQ",
    "outputId": "e7f6e09d-2ad1-414e-ed81-78c37262ac62"
   },
   "outputs": [
    {
     "data": {
      "text/plain": [
       "'Bruna Marquezine'"
      ]
     },
     "execution_count": 141,
     "metadata": {},
     "output_type": "execute_result"
    }
   ],
   "source": [
    "imagens[achados].celebridades.iloc[1]"
   ]
  },
  {
   "cell_type": "code",
   "execution_count": 142,
   "metadata": {
    "colab": {
     "base_uri": "https://localhost:8080/",
     "height": 35
    },
    "colab_type": "code",
    "id": "Q7nSa-74yPyf",
    "outputId": "e12edeed-99d7-44bf-bb63-8fb3cfdbb46d"
   },
   "outputs": [
    {
     "data": {
      "text/plain": [
       "'http://pbs.twimg.com/media/FPYexhPWYAAdimf.jpg'"
      ]
     },
     "execution_count": 142,
     "metadata": {},
     "output_type": "execute_result"
    }
   ],
   "source": [
    "imagens[achados].url.iloc[1]"
   ]
  }
 ],
 "metadata": {
  "colab": {
   "name": "Twitter API.ipynb",
   "provenance": []
  },
  "kernelspec": {
   "display_name": "Python 3 (ipykernel)",
   "language": "python",
   "name": "python3"
  },
  "language_info": {
   "codemirror_mode": {
    "name": "ipython",
    "version": 3
   },
   "file_extension": ".py",
   "mimetype": "text/x-python",
   "name": "python",
   "nbconvert_exporter": "python",
   "pygments_lexer": "ipython3",
   "version": "3.9.7"
  }
 },
 "nbformat": 4,
 "nbformat_minor": 1
}
