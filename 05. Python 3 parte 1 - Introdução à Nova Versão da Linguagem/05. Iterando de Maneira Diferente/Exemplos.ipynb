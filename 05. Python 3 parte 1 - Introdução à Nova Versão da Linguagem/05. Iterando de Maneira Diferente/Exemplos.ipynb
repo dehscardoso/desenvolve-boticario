{
 "cells": [
  {
   "cell_type": "markdown",
   "id": "5a624641",
   "metadata": {},
   "source": [
    "## Iterando de Maneira Diferente"
   ]
  },
  {
   "cell_type": "code",
   "execution_count": 1,
   "id": "47eab414",
   "metadata": {},
   "outputs": [
    {
     "name": "stdout",
     "output_type": "stream",
     "text": [
      "Tentativa 1 de 3\n",
      "Digite o seu número: 47\n",
      "Você digitou:  47\n",
      "Você errou! O seu chute foi maior que o número secreto.\n",
      "Tentativa 2 de 3\n",
      "Digite o seu número: 45\n",
      "Você digitou:  45\n",
      "Você errou! O seu chute foi maior que o número secreto.\n",
      "Tentativa 3 de 3\n",
      "Digite o seu número: 42\n",
      "Você digitou:  42\n",
      "Você acertou!\n",
      "Fim do jogo\n"
     ]
    }
   ],
   "source": [
    "numero_secreto = 42\n",
    "total_de_tentativas = 3\n",
    "\n",
    "for rodada in range(1, total_de_tentativas + 1):\n",
    "    print(\"Tentativa {} de {}\".format(rodada, total_de_tentativas))\n",
    "    chute_str = input(\"Digite o seu número: \")\n",
    "    print(\"Você digitou: \", chute_str)\n",
    "    chute = int(chute_str)\n",
    "\n",
    "    acertou = numero_secreto == chute\n",
    "    maior = chute > numero_secreto\n",
    "    menor = chute < numero_secreto\n",
    "\n",
    "    if (acertou):\n",
    "        print(\"Você acertou!\")\n",
    "    else:\n",
    "        if (maior):\n",
    "            print(\"Você errou! O seu chute foi maior que o número secreto.\")\n",
    "        elif (menor):\n",
    "            print(\"Você errou! O seu chute foi menor que o número secreto.\")\n",
    "\n",
    "print(\"Fim do jogo\")"
   ]
  },
  {
   "cell_type": "code",
   "execution_count": 2,
   "id": "6caae1dd",
   "metadata": {},
   "outputs": [
    {
     "name": "stdout",
     "output_type": "stream",
     "text": [
      "1\n",
      "4\n",
      "7\n",
      "10\n"
     ]
    }
   ],
   "source": [
    "contador = 1\n",
    "while(contador <= 10):\n",
    "    print(contador)\n",
    "    contador = contador + 3"
   ]
  },
  {
   "cell_type": "code",
   "execution_count": 3,
   "id": "5bdf1b8e",
   "metadata": {},
   "outputs": [
    {
     "name": "stdout",
     "output_type": "stream",
     "text": [
      "1\n",
      "4\n",
      "7\n",
      "10\n"
     ]
    }
   ],
   "source": [
    "for contador in range(1,11,3):\n",
    "    print(contador)"
   ]
  },
  {
   "cell_type": "code",
   "execution_count": 4,
   "id": "bb90eea3",
   "metadata": {},
   "outputs": [
    {
     "name": "stdout",
     "output_type": "stream",
     "text": [
      "Tentativa 1 de 3\n",
      "Digite o seu número: 500\n",
      "Você digitou:  500\n",
      "Você deve digitar um número entre 1 e 100!\n",
      "Tentativa 2 de 3\n",
      "Digite o seu número: 50\n",
      "Você digitou:  50\n",
      "Você errou! O seu chute foi maior que o número secreto.\n",
      "Tentativa 3 de 3\n",
      "Digite o seu número: 42\n",
      "Você digitou:  42\n",
      "Você acertou!\n",
      "Fim do jogo\n"
     ]
    }
   ],
   "source": [
    "numero_secreto = 42\n",
    "total_de_tentativas = 3\n",
    "\n",
    "for rodada in range(1, total_de_tentativas + 1):\n",
    "    print(\"Tentativa {} de {}\".format(rodada, total_de_tentativas))\n",
    "    chute_str = input(\"Digite o seu número: \")\n",
    "    print(\"Você digitou: \", chute_str)\n",
    "    chute = int(chute_str)\n",
    "    \n",
    "    if (chute < 1 or chute > 100):\n",
    "        print(\"Você deve digitar um número entre 1 e 100!\")\n",
    "        continue\n",
    "        \n",
    "    acertou = numero_secreto == chute\n",
    "    maior = chute > numero_secreto\n",
    "    menor = chute < numero_secreto\n",
    "    \n",
    "    if (acertou):\n",
    "        print(\"Você acertou!\")\n",
    "        break\n",
    "        \n",
    "    else:\n",
    "        if (maior):\n",
    "            print(\"Você errou! O seu chute foi maior que o número secreto.\")\n",
    "        elif (menor):\n",
    "            print(\"Você errou! O seu chute foi menor que o número secreto.\")\n",
    "\n",
    "print(\"Fim do jogo\")"
   ]
  },
  {
   "cell_type": "code",
   "execution_count": 5,
   "id": "8d924c64",
   "metadata": {},
   "outputs": [
    {
     "name": "stdout",
     "output_type": "stream",
     "text": [
      "1\n",
      "2\n",
      "3\n",
      "4\n"
     ]
    }
   ],
   "source": [
    "i = 1\n",
    "while(i <= 7):\n",
    "    print(i)\n",
    "    i = i + 1\n",
    "    if(i == 5):\n",
    "        break"
   ]
  },
  {
   "cell_type": "code",
   "execution_count": 6,
   "id": "284fcc0b",
   "metadata": {},
   "outputs": [
    {
     "name": "stdout",
     "output_type": "stream",
     "text": [
      "1\n",
      "2\n",
      "3\n",
      "4\n",
      "6\n",
      "7\n"
     ]
    }
   ],
   "source": [
    "for i in range(1,8):\n",
    "    if(i == 5):\n",
    "        continue\n",
    "    print(i)"
   ]
  },
  {
   "cell_type": "code",
   "execution_count": 8,
   "id": "60c2aa21",
   "metadata": {},
   "outputs": [
    {
     "data": {
      "text/plain": [
       "'R$  1000.1'"
      ]
     },
     "execution_count": 8,
     "metadata": {},
     "output_type": "execute_result"
    }
   ],
   "source": [
    "\"R$ {:7.1f}\".format(1000.12)"
   ]
  },
  {
   "cell_type": "code",
   "execution_count": 9,
   "id": "0a2f1bf1",
   "metadata": {},
   "outputs": [
    {
     "data": {
      "text/plain": [
       "'R$ 0004.11'"
      ]
     },
     "execution_count": 9,
     "metadata": {},
     "output_type": "execute_result"
    }
   ],
   "source": [
    "\"R$ {:07.2f}\".format(4.11)"
   ]
  }
 ],
 "metadata": {
  "kernelspec": {
   "display_name": "Python 3",
   "language": "python",
   "name": "python3"
  },
  "language_info": {
   "codemirror_mode": {
    "name": "ipython",
    "version": 3
   },
   "file_extension": ".py",
   "mimetype": "text/x-python",
   "name": "python",
   "nbconvert_exporter": "python",
   "pygments_lexer": "ipython3",
   "version": "3.8.8"
  }
 },
 "nbformat": 4,
 "nbformat_minor": 5
}
