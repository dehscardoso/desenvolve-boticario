{
 "cells": [
  {
   "cell_type": "markdown",
   "id": "c06a84e5",
   "metadata": {},
   "source": [
    "## A sequência do Jogo"
   ]
  },
  {
   "cell_type": "code",
   "execution_count": 11,
   "id": "e2d9628a",
   "metadata": {},
   "outputs": [
    {
     "name": "stdout",
     "output_type": "stream",
     "text": [
      "Tentativa 1 de 3\n",
      "Digite o seu número: 50\n",
      "Você errou! O seu chute foi maior que o número secreto.\n",
      "Tentativa 2 de 3\n",
      "Digite o seu número: 36\n",
      "Você errou! O seu chute foi menor que o número secreto.\n",
      "Tentativa 3 de 3\n",
      "Digite o seu número: 42\n",
      "Você acertou!\n",
      "Fim do jogo\n"
     ]
    }
   ],
   "source": [
    "numero_secreto = 42\n",
    "total_de_tentativas = 3\n",
    "rodada = 1\n",
    "\n",
    "while (rodada <= total_de_tentativas):\n",
    "    print(\"Tentativa\", rodada, \"de\", total_de_tentativas)\n",
    "    chute_str = input(\"Digite o seu número: \")\n",
    "\n",
    "    chute = int(chute_str)\n",
    "\n",
    "    acertou = numero_secreto == chute\n",
    "    maior = chute > numero_secreto\n",
    "    menor = chute < numero_secreto\n",
    "\n",
    "    if (acertou):\n",
    "        print(\"Você acertou!\")\n",
    "    else:\n",
    "        if (maior):\n",
    "            print(\"Você errou! O seu chute foi maior que o número secreto.\")\n",
    "        elif (menor):\n",
    "            print(\"Você errou! O seu chute foi menor que o número secreto.\")\n",
    "\n",
    "    rodada = rodada + 1\n",
    "\n",
    "print(\"Fim do jogo\")"
   ]
  },
  {
   "cell_type": "code",
   "execution_count": 12,
   "id": "0da53cdf",
   "metadata": {},
   "outputs": [
    {
     "name": "stdout",
     "output_type": "stream",
     "text": [
      "1\n",
      "3\n",
      "7\n",
      "9\n"
     ]
    }
   ],
   "source": [
    "contador = 1\n",
    "while(contador <= 10):\n",
    "    print(contador)\n",
    "    contador = contador + 2\n",
    "    if(contador == 5):\n",
    "        contador = contador + 2"
   ]
  },
  {
   "cell_type": "code",
   "execution_count": 13,
   "id": "d39ef014",
   "metadata": {},
   "outputs": [
    {
     "name": "stdout",
     "output_type": "stream",
     "text": [
      "*********************************\n",
      "Bem vindo ao jogo de Adivinhação!\n",
      "*********************************\n",
      "Tentativa 1 de 3\n",
      "Digite o seu número: 50\n",
      "Você digitou  50\n",
      "O seu chute foi maior do que o número secreto!\n",
      "Tentativa 2 de 3\n",
      "Digite o seu número: 36\n",
      "Você digitou  36\n",
      "O seu chute foi menor do que o número secreto!\n",
      "Tentativa 3 de 3\n",
      "Digite o seu número: 42\n",
      "Você digitou  42\n",
      "Parabéns! Você acertou!\n",
      "Fim do jogo\n"
     ]
    }
   ],
   "source": [
    "print(\"*********************************\")\n",
    "print(\"Bem vindo ao jogo de Adivinhação!\")\n",
    "print(\"*********************************\")\n",
    "numero_secreto = 42\n",
    "total_de_tentativas = 3\n",
    "rodada = 1\n",
    "\n",
    "while (rodada <= total_de_tentativas):\n",
    "    print(\"Tentativa {} de {}\".format(rodada, total_de_tentativas))\n",
    "\n",
    "    chute_str = input(\"Digite o seu número: \")\n",
    "    print(\"Você digitou \" , chute_str)\n",
    "    chute = int(chute_str)\n",
    "\n",
    "    acertou = chute == numero_secreto\n",
    "    maior = chute > numero_secreto\n",
    "    menor = chute < numero_secreto\n",
    "\n",
    "    if(acertou):\n",
    "        print(\"Parabéns! Você acertou!\")\n",
    "    else:\n",
    "        if(maior):\n",
    "            print(\"O seu chute foi maior do que o número secreto!\")\n",
    "        elif(menor):\n",
    "            print(\"O seu chute foi menor do que o número secreto!\")\n",
    "\n",
    "    rodada = rodada + 1\n",
    "\n",
    "print(\"Fim do jogo\")"
   ]
  }
 ],
 "metadata": {
  "kernelspec": {
   "display_name": "Python 3",
   "language": "python",
   "name": "python3"
  },
  "language_info": {
   "codemirror_mode": {
    "name": "ipython",
    "version": 3
   },
   "file_extension": ".py",
   "mimetype": "text/x-python",
   "name": "python",
   "nbconvert_exporter": "python",
   "pygments_lexer": "ipython3",
   "version": "3.8.8"
  }
 },
 "nbformat": 4,
 "nbformat_minor": 5
}
