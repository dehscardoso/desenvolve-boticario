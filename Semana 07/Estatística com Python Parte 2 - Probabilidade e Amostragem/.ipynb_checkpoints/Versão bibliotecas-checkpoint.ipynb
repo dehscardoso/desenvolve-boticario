{
 "cells": [
  {
   "cell_type": "code",
   "execution_count": 1,
   "metadata": {
    "colab": {
     "base_uri": "https://localhost:8080/",
     "height": 85
    },
    "colab_type": "code",
    "id": "kffSOYcgir5Q",
    "outputId": "50032805-bedc-4165-d643-22a32105367e"
   },
   "outputs": [
    {
     "name": "stdout",
     "output_type": "stream",
     "text": [
      "Versão do pandas -> 1.2.4\n",
      "Versão do numpy -> 1.20.1\n",
      "Versão do scipy -> 1.6.2\n",
      "Versão do matplotlib -> 3.3.4\n"
     ]
    }
   ],
   "source": [
    "import pandas, numpy, scipy, matplotlib\n",
    "\n",
    "print('Versão do pandas -> %s' % pandas.__version__)\n",
    "print('Versão do numpy -> %s' % numpy.__version__)\n",
    "print('Versão do scipy -> %s' % scipy.__version__)\n",
    "print('Versão do matplotlib -> %s' % matplotlib.__version__)"
   ]
  }
 ],
 "metadata": {
  "colab": {
   "name": "Untitled6.ipynb",
   "provenance": [],
   "version": "0.3.2"
  },
  "kernelspec": {
   "display_name": "Python 3",
   "language": "python",
   "name": "python3"
  },
  "language_info": {
   "codemirror_mode": {
    "name": "ipython",
    "version": 3
   },
   "file_extension": ".py",
   "mimetype": "text/x-python",
   "name": "python",
   "nbconvert_exporter": "python",
   "pygments_lexer": "ipython3",
   "version": "3.8.8"
  }
 },
 "nbformat": 4,
 "nbformat_minor": 1
}
