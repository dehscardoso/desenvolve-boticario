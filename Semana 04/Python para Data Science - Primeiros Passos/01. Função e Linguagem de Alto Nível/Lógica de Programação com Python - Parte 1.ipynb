{
 "cells": [
  {
   "cell_type": "markdown",
   "id": "ce948dd6",
   "metadata": {},
   "source": [
    "## Lógica de Programação com Python"
   ]
  },
  {
   "cell_type": "code",
   "execution_count": 1,
   "id": "f8efbadc",
   "metadata": {},
   "outputs": [
    {
     "data": {
      "text/plain": [
       "38"
      ]
     },
     "execution_count": 1,
     "metadata": {},
     "output_type": "execute_result"
    }
   ],
   "source": [
    "23 + 15"
   ]
  },
  {
   "cell_type": "code",
   "execution_count": 2,
   "id": "fa73bbe3",
   "metadata": {},
   "outputs": [
    {
     "data": {
      "text/plain": [
       "'Deborah'"
      ]
     },
     "execution_count": 2,
     "metadata": {},
     "output_type": "execute_result"
    }
   ],
   "source": [
    "'Deborah'"
   ]
  },
  {
   "cell_type": "code",
   "execution_count": 3,
   "id": "1be7ca86",
   "metadata": {},
   "outputs": [],
   "source": [
    "nome = 'Deborah'"
   ]
  },
  {
   "cell_type": "code",
   "execution_count": 4,
   "id": "04177863",
   "metadata": {},
   "outputs": [],
   "source": [
    "idade = 29"
   ]
  },
  {
   "cell_type": "code",
   "execution_count": 5,
   "id": "05246a75",
   "metadata": {},
   "outputs": [
    {
     "data": {
      "text/plain": [
       "'Deborah'"
      ]
     },
     "execution_count": 5,
     "metadata": {},
     "output_type": "execute_result"
    }
   ],
   "source": [
    "nome"
   ]
  },
  {
   "cell_type": "code",
   "execution_count": 6,
   "id": "6dab3cc0",
   "metadata": {},
   "outputs": [
    {
     "data": {
      "text/plain": [
       "29"
      ]
     },
     "execution_count": 6,
     "metadata": {},
     "output_type": "execute_result"
    }
   ],
   "source": [
    "idade"
   ]
  },
  {
   "cell_type": "code",
   "execution_count": 7,
   "id": "5af606af",
   "metadata": {},
   "outputs": [
    {
     "name": "stdout",
     "output_type": "stream",
     "text": [
      "O nome é Deborah e sua idade é 29 anos\n"
     ]
    }
   ],
   "source": [
    "print(f'O nome é {nome} e sua idade é {idade} anos')"
   ]
  },
  {
   "cell_type": "code",
   "execution_count": 13,
   "id": "5e5d37a3",
   "metadata": {},
   "outputs": [],
   "source": [
    "def saudacao():\n",
    "    nome = input('Qual o seu nome? ')\n",
    "    print(f'Olá, {nome}')"
   ]
  },
  {
   "cell_type": "code",
   "execution_count": 14,
   "id": "71f92ff8",
   "metadata": {},
   "outputs": [
    {
     "name": "stdout",
     "output_type": "stream",
     "text": [
      "Qual o seu nome? Deborah\n",
      "Olá, Deborah\n"
     ]
    }
   ],
   "source": [
    "saudacao()"
   ]
  },
  {
   "cell_type": "code",
   "execution_count": 12,
   "id": "94faeb0b",
   "metadata": {},
   "outputs": [
    {
     "name": "stdout",
     "output_type": "stream",
     "text": [
      "Hello, World!\n"
     ]
    }
   ],
   "source": [
    "print(\"Hello, World!\")"
   ]
  },
  {
   "cell_type": "code",
   "execution_count": 15,
   "id": "e7a9b30a",
   "metadata": {},
   "outputs": [
    {
     "name": "stdout",
     "output_type": "stream",
     "text": [
      "Qual seu primeiro nome? Deborah\n",
      "Qual seu sobrenome? Soares\n",
      "Deborah Soares\n"
     ]
    }
   ],
   "source": [
    "def nome_completo():\n",
    "    primeiro_nome = input('Qual seu primeiro nome? ')\n",
    "    sobrenome = input('Qual seu sobrenome? ')\n",
    "    nome_inteiro = primeiro_nome + ' ' + sobrenome\n",
    "    print(nome_inteiro)\n",
    "\n",
    "nome_completo()"
   ]
  }
 ],
 "metadata": {
  "kernelspec": {
   "display_name": "Python 3",
   "language": "python",
   "name": "python3"
  },
  "language_info": {
   "codemirror_mode": {
    "name": "ipython",
    "version": 3
   },
   "file_extension": ".py",
   "mimetype": "text/x-python",
   "name": "python",
   "nbconvert_exporter": "python",
   "pygments_lexer": "ipython3",
   "version": "3.8.8"
  }
 },
 "nbformat": 4,
 "nbformat_minor": 5
}
