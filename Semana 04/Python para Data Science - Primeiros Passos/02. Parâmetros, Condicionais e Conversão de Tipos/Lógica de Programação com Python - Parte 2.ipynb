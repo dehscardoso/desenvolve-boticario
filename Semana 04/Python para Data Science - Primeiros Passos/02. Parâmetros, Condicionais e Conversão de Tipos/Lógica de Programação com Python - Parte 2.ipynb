{
 "cells": [
  {
   "cell_type": "markdown",
   "id": "7234c430",
   "metadata": {},
   "source": [
    "<img src = \"https://images2.imgbox.com/32/ac/wucGkuem_o.png\" width=\"300\">"
   ]
  },
  {
   "cell_type": "markdown",
   "id": "14a55e26",
   "metadata": {},
   "source": [
    "## Parâmetros, Condicionais e Conversão de Tipos"
   ]
  },
  {
   "cell_type": "markdown",
   "id": "0bb20486",
   "metadata": {},
   "source": [
    "### Parâmetros"
   ]
  },
  {
   "cell_type": "code",
   "execution_count": 6,
   "id": "fdf1b8a9",
   "metadata": {},
   "outputs": [],
   "source": [
    "nome = 'Joana'"
   ]
  },
  {
   "cell_type": "code",
   "execution_count": 7,
   "id": "58887404",
   "metadata": {},
   "outputs": [],
   "source": [
    "def saudacao_com_parametros(nome_da_pessoa):\n",
    "    print(f'Olá, {nome_da_pessoa}')"
   ]
  },
  {
   "cell_type": "code",
   "execution_count": 8,
   "id": "878e87eb",
   "metadata": {},
   "outputs": [
    {
     "name": "stdout",
     "output_type": "stream",
     "text": [
      "Olá, Joana\n"
     ]
    }
   ],
   "source": [
    "saudacao_com_parametros(nome)"
   ]
  },
  {
   "cell_type": "markdown",
   "id": "dbd89b4d",
   "metadata": {},
   "source": [
    "### Condicionais"
   ]
  },
  {
   "cell_type": "code",
   "execution_count": 16,
   "id": "1b780c65",
   "metadata": {},
   "outputs": [
    {
     "name": "stdout",
     "output_type": "stream",
     "text": [
      "Tem permissão para dirigir.\n"
     ]
    }
   ],
   "source": [
    "idade = 20\n",
    "\n",
    "def verica_se_pode_dirigir(idade):\n",
    "    if idade >= 18:\n",
    "        print('Tem permissão para dirigir.')\n",
    "    else:\n",
    "        print('Não tem permissão para dirigir.')\n",
    "\n",
    "verica_se_pode_dirigir(idade)"
   ]
  },
  {
   "cell_type": "code",
   "execution_count": 20,
   "id": "b7d2228f",
   "metadata": {},
   "outputs": [
    {
     "name": "stdout",
     "output_type": "stream",
     "text": [
      "Qual sua idade? 29\n",
      "Tem permissão para dirigir.\n"
     ]
    }
   ],
   "source": [
    "def verifica_se_pode_dirigir_sem_parametro():\n",
    "    idade = int(input('Qual sua idade? '))\n",
    "    if idade >= 18:\n",
    "        print('Tem permissão para dirigir.')\n",
    "    else:\n",
    "        print('Não tem permissão para dirigir.')\n",
    "        \n",
    "verifica_se_pode_dirigir_sem_parametro()"
   ]
  },
  {
   "cell_type": "code",
   "execution_count": 21,
   "id": "25dbdcdf",
   "metadata": {},
   "outputs": [
    {
     "name": "stdout",
     "output_type": "stream",
     "text": [
      "Velocidade = 5.0 m/s\n"
     ]
    }
   ],
   "source": [
    "def velocidade(distancia, tempo):\n",
    "    v = distancia / tempo\n",
    "    print(f'Velocidade = {v} m/s')\n",
    "\n",
    "velocidade(100, 20)"
   ]
  },
  {
   "cell_type": "code",
   "execution_count": 23,
   "id": "168527d0",
   "metadata": {},
   "outputs": [
    {
     "name": "stdout",
     "output_type": "stream",
     "text": [
      "Qual sua idade? 29\n",
      "Pode tirar habilitação\n"
     ]
    }
   ],
   "source": [
    "def habilitacao():\n",
    "    idade = int(input('Qual sua idade? '))\n",
    "    if idade >= 18:\n",
    "        print('Pode tirar habilitação')\n",
    "    else:\n",
    "        tempo = 18 - idade\n",
    "        print(f'Calma... espere {tempo} ano(s) para tirar habilitação')\n",
    "\n",
    "habilitacao()"
   ]
  }
 ],
 "metadata": {
  "kernelspec": {
   "display_name": "Python 3",
   "language": "python",
   "name": "python3"
  },
  "language_info": {
   "codemirror_mode": {
    "name": "ipython",
    "version": 3
   },
   "file_extension": ".py",
   "mimetype": "text/x-python",
   "name": "python",
   "nbconvert_exporter": "python",
   "pygments_lexer": "ipython3",
   "version": "3.8.8"
  }
 },
 "nbformat": 4,
 "nbformat_minor": 5
}
