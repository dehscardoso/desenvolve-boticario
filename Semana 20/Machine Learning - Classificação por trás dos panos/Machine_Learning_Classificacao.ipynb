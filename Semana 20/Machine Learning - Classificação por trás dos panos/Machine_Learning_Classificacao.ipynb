{
 "cells": [
  {
   "cell_type": "markdown",
   "id": "bfce03a6",
   "metadata": {},
   "source": [
    "<img src = \"https://images2.imgbox.com/32/ac/wucGkuem_o.png\" width=\"300\">"
   ]
  },
  {
   "cell_type": "markdown",
   "id": "7b74f73b",
   "metadata": {},
   "source": [
    "### Classificação"
   ]
  },
  {
   "cell_type": "code",
   "execution_count": 1,
   "id": "30502c5c",
   "metadata": {},
   "outputs": [],
   "source": [
    "porco1 = [1, 1, 0]\n",
    "porco2 = [1, 1, 0]\n",
    "porco3 = [1, 1, 0]\n",
    "cachorro4 = [1, 1, 1]\n",
    "cachorro5 = [0, 1, 1]\n",
    "cachorro6 = [0, 1, 1]\n",
    "\n",
    "dados = [porco1, porco2, porco3, cachorro4, cachorro5, cachorro6]\n",
    "\n",
    "marcacoes = [1, 1, 1, -1, -1, -1]"
   ]
  },
  {
   "cell_type": "code",
   "execution_count": 2,
   "id": "9c8fe293",
   "metadata": {},
   "outputs": [
    {
     "name": "stdout",
     "output_type": "stream",
     "text": [
      "[-1  1 -1]\n",
      "66.66666666666667\n"
     ]
    }
   ],
   "source": [
    "from sklearn.naive_bayes import MultinomialNB\n",
    "\n",
    "modelo = MultinomialNB()\n",
    "modelo.fit(dados, marcacoes)\n",
    "\n",
    "misterioso1 = [1, 1, 1]\n",
    "misterioso2 = [1, 0, 0]\n",
    "misterioso3 = [1, 0, 1]\n",
    "\n",
    "teste = [misterioso1, misterioso2, misterioso3]\n",
    "\n",
    "marcacoes_teste = [-1, 1, 1]\n",
    "resultado = modelo.predict(teste)\n",
    "diferencas = resultado - marcacoes_teste\n",
    "acertos = [d for d in diferencas if d == 0]\n",
    "\n",
    "total_de_acertos = len(acertos)\n",
    "total_de_elementos = len(teste)\n",
    "\n",
    "taxa_de_acerto = 100.0 * total_de_acertos / total_de_elementos\n",
    "\n",
    "print(resultado)\n",
    "print(taxa_de_acerto)"
   ]
  },
  {
   "cell_type": "markdown",
   "id": "695b4415",
   "metadata": {},
   "source": [
    "### Classificação de Acessos"
   ]
  },
  {
   "cell_type": "code",
   "execution_count": 3,
   "id": "e1ada0d6",
   "metadata": {},
   "outputs": [],
   "source": [
    "import pandas as pd\n",
    "\n",
    "df = pd.read_csv('datasets/acesso.csv')"
   ]
  },
  {
   "cell_type": "code",
   "execution_count": 6,
   "id": "5b09ba91",
   "metadata": {},
   "outputs": [
    {
     "data": {
      "text/html": [
       "<div>\n",
       "<style scoped>\n",
       "    .dataframe tbody tr th:only-of-type {\n",
       "        vertical-align: middle;\n",
       "    }\n",
       "\n",
       "    .dataframe tbody tr th {\n",
       "        vertical-align: top;\n",
       "    }\n",
       "\n",
       "    .dataframe thead th {\n",
       "        text-align: right;\n",
       "    }\n",
       "</style>\n",
       "<table border=\"1\" class=\"dataframe\">\n",
       "  <thead>\n",
       "    <tr style=\"text-align: right;\">\n",
       "      <th></th>\n",
       "      <th>home</th>\n",
       "      <th>como_funciona</th>\n",
       "      <th>contato</th>\n",
       "      <th>comprou</th>\n",
       "    </tr>\n",
       "  </thead>\n",
       "  <tbody>\n",
       "    <tr>\n",
       "      <th>0</th>\n",
       "      <td>1</td>\n",
       "      <td>1</td>\n",
       "      <td>0</td>\n",
       "      <td>0</td>\n",
       "    </tr>\n",
       "    <tr>\n",
       "      <th>1</th>\n",
       "      <td>1</td>\n",
       "      <td>1</td>\n",
       "      <td>0</td>\n",
       "      <td>0</td>\n",
       "    </tr>\n",
       "    <tr>\n",
       "      <th>2</th>\n",
       "      <td>1</td>\n",
       "      <td>1</td>\n",
       "      <td>0</td>\n",
       "      <td>0</td>\n",
       "    </tr>\n",
       "    <tr>\n",
       "      <th>3</th>\n",
       "      <td>1</td>\n",
       "      <td>1</td>\n",
       "      <td>0</td>\n",
       "      <td>0</td>\n",
       "    </tr>\n",
       "    <tr>\n",
       "      <th>4</th>\n",
       "      <td>1</td>\n",
       "      <td>1</td>\n",
       "      <td>0</td>\n",
       "      <td>0</td>\n",
       "    </tr>\n",
       "  </tbody>\n",
       "</table>\n",
       "</div>"
      ],
      "text/plain": [
       "   home  como_funciona  contato  comprou\n",
       "0     1              1        0        0\n",
       "1     1              1        0        0\n",
       "2     1              1        0        0\n",
       "3     1              1        0        0\n",
       "4     1              1        0        0"
      ]
     },
     "execution_count": 6,
     "metadata": {},
     "output_type": "execute_result"
    }
   ],
   "source": [
    "df.head()"
   ]
  },
  {
   "cell_type": "code",
   "execution_count": 4,
   "id": "0add5aaa",
   "metadata": {},
   "outputs": [
    {
     "name": "stdout",
     "output_type": "stream",
     "text": [
      "88.88888888888889\n",
      "9\n"
     ]
    }
   ],
   "source": [
    "X = df[['home','como_funciona','contato']]\n",
    "Y = df['comprou']\n",
    "\n",
    "treino_dados = X[:90]\n",
    "treino_marcacoes = Y[:90]\n",
    "\n",
    "teste_dados = X[-9:]\n",
    "teste_marcacoes = Y[-9:]\n",
    "\n",
    "modelo = MultinomialNB()\n",
    "modelo.fit(treino_dados, treino_marcacoes)\n",
    "\n",
    "resultado = modelo.predict(teste_dados)\n",
    "diferencas = resultado - teste_marcacoes\n",
    "\n",
    "acertos = [d for d in diferencas if d == 0]\n",
    "total_de_acertos = len(acertos)\n",
    "total_de_elementos = len(teste_dados)\n",
    "\n",
    "taxa_de_acerto = 100.0 * total_de_acertos / total_de_elementos\n",
    "\n",
    "print(taxa_de_acerto)\n",
    "print(total_de_elementos)"
   ]
  },
  {
   "cell_type": "markdown",
   "id": "c07bf945",
   "metadata": {},
   "source": [
    "### Classificação de Buscas"
   ]
  },
  {
   "cell_type": "code",
   "execution_count": 5,
   "id": "f8d6dd13",
   "metadata": {},
   "outputs": [],
   "source": [
    "df_busca = pd.read_csv('datasets/busca.csv')"
   ]
  },
  {
   "cell_type": "code",
   "execution_count": 7,
   "id": "db7c3959",
   "metadata": {},
   "outputs": [
    {
     "data": {
      "text/html": [
       "<div>\n",
       "<style scoped>\n",
       "    .dataframe tbody tr th:only-of-type {\n",
       "        vertical-align: middle;\n",
       "    }\n",
       "\n",
       "    .dataframe tbody tr th {\n",
       "        vertical-align: top;\n",
       "    }\n",
       "\n",
       "    .dataframe thead th {\n",
       "        text-align: right;\n",
       "    }\n",
       "</style>\n",
       "<table border=\"1\" class=\"dataframe\">\n",
       "  <thead>\n",
       "    <tr style=\"text-align: right;\">\n",
       "      <th></th>\n",
       "      <th>home</th>\n",
       "      <th>busca</th>\n",
       "      <th>logado</th>\n",
       "      <th>comprou</th>\n",
       "    </tr>\n",
       "  </thead>\n",
       "  <tbody>\n",
       "    <tr>\n",
       "      <th>0</th>\n",
       "      <td>0</td>\n",
       "      <td>algoritmos</td>\n",
       "      <td>1</td>\n",
       "      <td>sim</td>\n",
       "    </tr>\n",
       "    <tr>\n",
       "      <th>1</th>\n",
       "      <td>0</td>\n",
       "      <td>java</td>\n",
       "      <td>0</td>\n",
       "      <td>sim</td>\n",
       "    </tr>\n",
       "    <tr>\n",
       "      <th>2</th>\n",
       "      <td>1</td>\n",
       "      <td>algoritmos</td>\n",
       "      <td>0</td>\n",
       "      <td>sim</td>\n",
       "    </tr>\n",
       "    <tr>\n",
       "      <th>3</th>\n",
       "      <td>1</td>\n",
       "      <td>ruby</td>\n",
       "      <td>1</td>\n",
       "      <td>nao</td>\n",
       "    </tr>\n",
       "    <tr>\n",
       "      <th>4</th>\n",
       "      <td>1</td>\n",
       "      <td>ruby</td>\n",
       "      <td>0</td>\n",
       "      <td>sim</td>\n",
       "    </tr>\n",
       "  </tbody>\n",
       "</table>\n",
       "</div>"
      ],
      "text/plain": [
       "   home       busca  logado comprou\n",
       "0     0  algoritmos       1     sim\n",
       "1     0        java       0     sim\n",
       "2     1  algoritmos       0     sim\n",
       "3     1        ruby       1     nao\n",
       "4     1        ruby       0     sim"
      ]
     },
     "execution_count": 7,
     "metadata": {},
     "output_type": "execute_result"
    }
   ],
   "source": [
    "df_busca.head()"
   ]
  },
  {
   "cell_type": "code",
   "execution_count": 31,
   "id": "25f704c5",
   "metadata": {},
   "outputs": [],
   "source": [
    "df_busca['comprou'] = df_busca['comprou'].map({'sim': 1, 'nao': 0})"
   ]
  },
  {
   "cell_type": "code",
   "execution_count": 32,
   "id": "e75a116f",
   "metadata": {},
   "outputs": [
    {
     "name": "stdout",
     "output_type": "stream",
     "text": [
      "82.0\n",
      "100\n"
     ]
    }
   ],
   "source": [
    "X_df = df_busca[['home', 'busca', 'logado']]\n",
    "Y_df = df_busca['comprou']\n",
    "\n",
    "Xdummies_df = pd.get_dummies(X_df).astype(int)\n",
    "Ydummies_df = Y_df\n",
    "\n",
    "X = Xdummies_df.values\n",
    "Y = Ydummies_df.values\n",
    "\n",
    "porcentagem_treino = 0.9\n",
    "\n",
    "tamanho_de_treino = int(porcentagem_treino * len(Y))\n",
    "tamanho_de_teste = len(Y) - tamanho_de_treino\n",
    "\n",
    "treino_dados = X[:tamanho_de_treino]\n",
    "treino_marcacoes = Y[:tamanho_de_treino]\n",
    "\n",
    "teste_dados = X[-tamanho_de_teste:]\n",
    "teste_marcacoes = Y[-tamanho_de_teste:]\n",
    "\n",
    "modelo = MultinomialNB()\n",
    "modelo.fit(treino_dados, treino_marcacoes)\n",
    "\n",
    "resultado = modelo.predict(teste_dados)\n",
    "\n",
    "diferencas = resultado - teste_marcacoes\n",
    "\n",
    "acertos = [d for d in diferencas if d == 0]\n",
    "total_de_acertos = len(acertos)\n",
    "total_de_elementos = len(teste_dados)\n",
    "\n",
    "taxa_de_acerto = 100.0 * total_de_acertos / total_de_elementos\n",
    "\n",
    "print(taxa_de_acerto)\n",
    "print(total_de_elementos)"
   ]
  },
  {
   "cell_type": "markdown",
   "id": "8456f93e",
   "metadata": {},
   "source": [
    "### Implementando algoritmo base"
   ]
  },
  {
   "cell_type": "code",
   "execution_count": 34,
   "id": "af535fba",
   "metadata": {},
   "outputs": [
    {
     "name": "stdout",
     "output_type": "stream",
     "text": [
      "Taxa de acerto base: 83.200000\n",
      "Taxa de acerto do algoritmo: 82.000000\n"
     ]
    }
   ],
   "source": [
    "X_df = df_busca[['home', 'busca', 'logado']]\n",
    "Y_df = df_busca['comprou']\n",
    "\n",
    "Xdummies_df = pd.get_dummies(X_df).astype(int)\n",
    "Ydummies_df = Y_df\n",
    "\n",
    "X = Xdummies_df.values\n",
    "Y = Ydummies_df.values\n",
    "\n",
    "# a eficácia do algoritmo que chuta tudo 0 ou 1\n",
    "acerto_de_um = sum(Y)\n",
    "acerto_de_zero = len(Y) - acerto_de_um\n",
    "taxa_de_acerto_base = 100.0 * max(acerto_de_um, acerto_de_zero) / len(Y)\n",
    "print(\"Taxa de acerto base: %f\" % taxa_de_acerto_base)\n",
    "print(\"Taxa de acerto do algoritmo: %f\" % taxa_de_acerto)"
   ]
  },
  {
   "cell_type": "markdown",
   "id": "cec6326b",
   "metadata": {},
   "source": [
    "### Lidando com valores sim e não"
   ]
  },
  {
   "cell_type": "code",
   "execution_count": 38,
   "id": "20ddef68",
   "metadata": {},
   "outputs": [
    {
     "name": "stdout",
     "output_type": "stream",
     "text": [
      "Taxa de acerto base: 83.200000\n",
      "Taxa de acerto do algoritmo: 82.000000\n",
      "100\n"
     ]
    }
   ],
   "source": [
    "from collections import Counter\n",
    "\n",
    "df_busca2 = pd.read_csv('datasets/busca.csv')\n",
    "X_df2 = df_busca2[['home', 'busca', 'logado']]\n",
    "Y_df2 = df_busca2['comprou']\n",
    "\n",
    "Xdummies_df2 = pd.get_dummies(X_df2)\n",
    "Ydummies_df2 = Y_df2\n",
    "\n",
    "X2 = Xdummies_df2.values\n",
    "Y2 = Ydummies_df2.values\n",
    "\n",
    "acerto_base = max(Counter(Y2).values())\n",
    "taxa_de_acerto_base = 100.0 * acerto_base / len(Y2)\n",
    "print(\"Taxa de acerto base: %f\" % taxa_de_acerto_base)\n",
    "\n",
    "porcentagem_treino = 0.9\n",
    "\n",
    "tamanho_de_treino = int(porcentagem_treino * len(Y2))\n",
    "tamanho_de_teste = len(Y2) - tamanho_de_treino\n",
    "\n",
    "treino_dados = X2[:tamanho_de_treino]\n",
    "treino_marcacoes = Y2[:tamanho_de_treino]\n",
    "\n",
    "teste_dados = X2[-tamanho_de_teste:]\n",
    "teste_marcacoes = Y2[-tamanho_de_teste:]\n",
    "\n",
    "from sklearn.naive_bayes import MultinomialNB\n",
    "modelo = MultinomialNB()\n",
    "modelo.fit(treino_dados, treino_marcacoes)\n",
    "\n",
    "resultado = modelo.predict(teste_dados)\n",
    "\n",
    "acertos = resultado == teste_marcacoes\n",
    "\n",
    "total_de_acertos = sum(acertos)\n",
    "total_de_elementos = len(teste_dados)\n",
    "\n",
    "taxa_de_acerto = 100.0 * total_de_acertos / total_de_elementos\n",
    "\n",
    "print(\"Taxa de acerto do algoritmo: %f\" % taxa_de_acerto)\n",
    "print(total_de_elementos)"
   ]
  },
  {
   "cell_type": "markdown",
   "id": "d76e7dd9",
   "metadata": {},
   "source": [
    "### Utilizando os mesmos dados"
   ]
  },
  {
   "cell_type": "code",
   "execution_count": 48,
   "id": "5b3686d2",
   "metadata": {},
   "outputs": [
    {
     "name": "stdout",
     "output_type": "stream",
     "text": [
      "Taxa de acerto do algoritmo: 82.000000\n",
      "100\n",
      "Taxa de acerto base: 82.000000\n"
     ]
    }
   ],
   "source": [
    "df = pd.read_csv('datasets/busca.csv')   \n",
    "\n",
    "Y_df = df['comprou']        \n",
    "X_df = df[['home', 'busca', 'logado']]\n",
    "\n",
    "Ydummies_df = Y_df\n",
    "Xdummies_df = pd.get_dummies(X_df)\n",
    "\n",
    "X = Xdummies_df.values\n",
    "Y = Ydummies_df.values\n",
    "\n",
    "porcentagem_de_treino = 0.9\n",
    "\n",
    "tamanho_de_treino = int(porcentagem_treino * len(Y2))\n",
    "tamanho_de_teste = len(Y2) - tamanho_de_treino\n",
    "\n",
    "treino_dados = X2[:tamanho_de_treino]\n",
    "treino_marcacoes = Y2[:tamanho_de_treino]\n",
    "\n",
    "modelo = MultinomialNB()\n",
    "modelo.fit(treino_dados, treino_marcacoes)\n",
    "\n",
    "resultado = modelo.predict(teste_dados)\n",
    "acertos = (resultado == teste_marcacoes)\n",
    "\n",
    "total_de_acertos = sum(acertos)\n",
    "total_de_elementos = len(teste_dados)\n",
    "taxa_de_acerto = 100.0 * total_de_acertos / total_de_elementos\n",
    "\n",
    "print(\"Taxa de acerto do algoritmo: %f\" %taxa_de_acerto)\n",
    "print(total_de_elementos)\n",
    "\n",
    "# a eficacia do algoritmo que chuta tudo 0 e 1\n",
    "acerto_base = max(Counter(teste_marcacoes).values())\n",
    "taxa_de_acerto_base = 100.0 * acerto_base / len(teste_marcacoes)\n",
    "print(\"Taxa de acerto base: %f\" %taxa_de_acerto_base)"
   ]
  }
 ],
 "metadata": {
  "kernelspec": {
   "display_name": "Python 3",
   "language": "python",
   "name": "python3"
  },
  "language_info": {
   "codemirror_mode": {
    "name": "ipython",
    "version": 3
   },
   "file_extension": ".py",
   "mimetype": "text/x-python",
   "name": "python",
   "nbconvert_exporter": "python",
   "pygments_lexer": "ipython3",
   "version": "3.8.8"
  }
 },
 "nbformat": 4,
 "nbformat_minor": 5
}
