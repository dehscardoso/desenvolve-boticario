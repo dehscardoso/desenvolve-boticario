{
 "cells": [
  {
   "cell_type": "markdown",
   "id": "60053788",
   "metadata": {},
   "source": [
    "# <font color='black' style='font-size: 25px;'>Carregando o Modelo Estimado</font>\n",
    "<hr style='border: 2px solid black;'>"
   ]
  },
  {
   "cell_type": "code",
   "execution_count": 7,
   "id": "d2f774fb",
   "metadata": {},
   "outputs": [],
   "source": [
    "import pickle"
   ]
  },
  {
   "cell_type": "code",
   "execution_count": 8,
   "id": "5ecde1e0",
   "metadata": {},
   "outputs": [],
   "source": [
    "modelo = open('modelos/modelo_consumo_cerveja','rb')\n",
    "lm_new = pickle.load(modelo)\n",
    "modelo.close()"
   ]
  },
  {
   "cell_type": "code",
   "execution_count": 9,
   "id": "f0bcddd4",
   "metadata": {},
   "outputs": [
    {
     "name": "stdout",
     "output_type": "stream",
     "text": [
      "26094.90 litros\n"
     ]
    }
   ],
   "source": [
    "temp_max = 30.5\n",
    "chuva = 12.2\n",
    "fds = 0\n",
    "entrada = [[temp_max, chuva, fds]]\n",
    "print('{0:.2f} litros'.format(lm_new.predict(entrada)[0]))"
   ]
  },
  {
   "cell_type": "code",
   "execution_count": 10,
   "id": "21701bea",
   "metadata": {},
   "outputs": [
    {
     "name": "stdout",
     "output_type": "stream",
     "text": [
      "38000.98 litros\n"
     ]
    }
   ],
   "source": [
    "temp_max = 40\n",
    "chuva = 12.2\n",
    "fds = 1\n",
    "entrada = [[temp_max, chuva, fds]]\n",
    "print('{0:.2f} litros'.format(lm_new.predict(entrada)[0]))"
   ]
  }
 ],
 "metadata": {
  "kernelspec": {
   "display_name": "Python 3",
   "language": "python",
   "name": "python3"
  },
  "language_info": {
   "codemirror_mode": {
    "name": "ipython",
    "version": 3
   },
   "file_extension": ".py",
   "mimetype": "text/x-python",
   "name": "python",
   "nbconvert_exporter": "python",
   "pygments_lexer": "ipython3",
   "version": "3.8.8"
  }
 },
 "nbformat": 4,
 "nbformat_minor": 5
}
