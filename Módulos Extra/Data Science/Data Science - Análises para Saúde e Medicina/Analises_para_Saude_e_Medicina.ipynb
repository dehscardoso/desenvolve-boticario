{
 "cells": [
  {
   "cell_type": "markdown",
   "metadata": {},
   "source": [
    "<img src = \"https://images2.imgbox.com/32/ac/wucGkuem_o.png\" width=\"300\">"
   ]
  },
  {
   "cell_type": "code",
   "execution_count": 84,
   "metadata": {
    "colab": {
     "base_uri": "https://localhost:8080/",
     "height": 215
    },
    "colab_type": "code",
    "id": "qatscdizf92Y",
    "outputId": "a6902dfa-7aae-434c-ce80-d5cfe89c5d71"
   },
   "outputs": [
    {
     "data": {
      "text/html": [
       "<div>\n",
       "<style scoped>\n",
       "    .dataframe tbody tr th:only-of-type {\n",
       "        vertical-align: middle;\n",
       "    }\n",
       "\n",
       "    .dataframe tbody tr th {\n",
       "        vertical-align: top;\n",
       "    }\n",
       "\n",
       "    .dataframe thead th {\n",
       "        text-align: right;\n",
       "    }\n",
       "</style>\n",
       "<table border=\"1\" class=\"dataframe\">\n",
       "  <thead>\n",
       "    <tr style=\"text-align: right;\">\n",
       "      <th></th>\n",
       "      <th>Province/State</th>\n",
       "      <th>Country/Region</th>\n",
       "      <th>Lat</th>\n",
       "      <th>Long</th>\n",
       "      <th>1/22/20</th>\n",
       "      <th>1/23/20</th>\n",
       "      <th>1/24/20</th>\n",
       "      <th>1/25/20</th>\n",
       "      <th>1/26/20</th>\n",
       "      <th>1/27/20</th>\n",
       "      <th>...</th>\n",
       "      <th>7/11/22</th>\n",
       "      <th>7/12/22</th>\n",
       "      <th>7/13/22</th>\n",
       "      <th>7/14/22</th>\n",
       "      <th>7/15/22</th>\n",
       "      <th>7/16/22</th>\n",
       "      <th>7/17/22</th>\n",
       "      <th>7/18/22</th>\n",
       "      <th>7/19/22</th>\n",
       "      <th>7/20/22</th>\n",
       "    </tr>\n",
       "  </thead>\n",
       "  <tbody>\n",
       "    <tr>\n",
       "      <th>0</th>\n",
       "      <td>NaN</td>\n",
       "      <td>Afghanistan</td>\n",
       "      <td>33.93911</td>\n",
       "      <td>67.709953</td>\n",
       "      <td>0</td>\n",
       "      <td>0</td>\n",
       "      <td>0</td>\n",
       "      <td>0</td>\n",
       "      <td>0</td>\n",
       "      <td>0</td>\n",
       "      <td>...</td>\n",
       "      <td>183268</td>\n",
       "      <td>183272</td>\n",
       "      <td>183285</td>\n",
       "      <td>183358</td>\n",
       "      <td>183407</td>\n",
       "      <td>183445</td>\n",
       "      <td>183572</td>\n",
       "      <td>183687</td>\n",
       "      <td>183908</td>\n",
       "      <td>184038</td>\n",
       "    </tr>\n",
       "    <tr>\n",
       "      <th>1</th>\n",
       "      <td>NaN</td>\n",
       "      <td>Albania</td>\n",
       "      <td>41.15330</td>\n",
       "      <td>20.168300</td>\n",
       "      <td>0</td>\n",
       "      <td>0</td>\n",
       "      <td>0</td>\n",
       "      <td>0</td>\n",
       "      <td>0</td>\n",
       "      <td>0</td>\n",
       "      <td>...</td>\n",
       "      <td>288176</td>\n",
       "      <td>289391</td>\n",
       "      <td>290954</td>\n",
       "      <td>290954</td>\n",
       "      <td>293917</td>\n",
       "      <td>293917</td>\n",
       "      <td>293917</td>\n",
       "      <td>293917</td>\n",
       "      <td>293917</td>\n",
       "      <td>293917</td>\n",
       "    </tr>\n",
       "    <tr>\n",
       "      <th>2</th>\n",
       "      <td>NaN</td>\n",
       "      <td>Algeria</td>\n",
       "      <td>28.03390</td>\n",
       "      <td>1.659600</td>\n",
       "      <td>0</td>\n",
       "      <td>0</td>\n",
       "      <td>0</td>\n",
       "      <td>0</td>\n",
       "      <td>0</td>\n",
       "      <td>0</td>\n",
       "      <td>...</td>\n",
       "      <td>266274</td>\n",
       "      <td>266303</td>\n",
       "      <td>266328</td>\n",
       "      <td>266356</td>\n",
       "      <td>266392</td>\n",
       "      <td>266424</td>\n",
       "      <td>266445</td>\n",
       "      <td>266487</td>\n",
       "      <td>266542</td>\n",
       "      <td>266591</td>\n",
       "    </tr>\n",
       "    <tr>\n",
       "      <th>3</th>\n",
       "      <td>NaN</td>\n",
       "      <td>Andorra</td>\n",
       "      <td>42.50630</td>\n",
       "      <td>1.521800</td>\n",
       "      <td>0</td>\n",
       "      <td>0</td>\n",
       "      <td>0</td>\n",
       "      <td>0</td>\n",
       "      <td>0</td>\n",
       "      <td>0</td>\n",
       "      <td>...</td>\n",
       "      <td>44671</td>\n",
       "      <td>44671</td>\n",
       "      <td>44671</td>\n",
       "      <td>44671</td>\n",
       "      <td>44671</td>\n",
       "      <td>44671</td>\n",
       "      <td>44671</td>\n",
       "      <td>45061</td>\n",
       "      <td>45061</td>\n",
       "      <td>45061</td>\n",
       "    </tr>\n",
       "    <tr>\n",
       "      <th>4</th>\n",
       "      <td>NaN</td>\n",
       "      <td>Angola</td>\n",
       "      <td>-11.20270</td>\n",
       "      <td>17.873900</td>\n",
       "      <td>0</td>\n",
       "      <td>0</td>\n",
       "      <td>0</td>\n",
       "      <td>0</td>\n",
       "      <td>0</td>\n",
       "      <td>0</td>\n",
       "      <td>...</td>\n",
       "      <td>101320</td>\n",
       "      <td>101320</td>\n",
       "      <td>101320</td>\n",
       "      <td>101600</td>\n",
       "      <td>101901</td>\n",
       "      <td>101901</td>\n",
       "      <td>101901</td>\n",
       "      <td>102209</td>\n",
       "      <td>102209</td>\n",
       "      <td>102209</td>\n",
       "    </tr>\n",
       "  </tbody>\n",
       "</table>\n",
       "<p>5 rows × 915 columns</p>\n",
       "</div>"
      ],
      "text/plain": [
       "  Province/State Country/Region       Lat       Long  1/22/20  1/23/20  \\\n",
       "0            NaN    Afghanistan  33.93911  67.709953        0        0   \n",
       "1            NaN        Albania  41.15330  20.168300        0        0   \n",
       "2            NaN        Algeria  28.03390   1.659600        0        0   \n",
       "3            NaN        Andorra  42.50630   1.521800        0        0   \n",
       "4            NaN         Angola -11.20270  17.873900        0        0   \n",
       "\n",
       "   1/24/20  1/25/20  1/26/20  1/27/20  ...  7/11/22  7/12/22  7/13/22  \\\n",
       "0        0        0        0        0  ...   183268   183272   183285   \n",
       "1        0        0        0        0  ...   288176   289391   290954   \n",
       "2        0        0        0        0  ...   266274   266303   266328   \n",
       "3        0        0        0        0  ...    44671    44671    44671   \n",
       "4        0        0        0        0  ...   101320   101320   101320   \n",
       "\n",
       "   7/14/22  7/15/22  7/16/22  7/17/22  7/18/22  7/19/22  7/20/22  \n",
       "0   183358   183407   183445   183572   183687   183908   184038  \n",
       "1   290954   293917   293917   293917   293917   293917   293917  \n",
       "2   266356   266392   266424   266445   266487   266542   266591  \n",
       "3    44671    44671    44671    44671    45061    45061    45061  \n",
       "4   101600   101901   101901   101901   102209   102209   102209  \n",
       "\n",
       "[5 rows x 915 columns]"
      ]
     },
     "execution_count": 84,
     "metadata": {},
     "output_type": "execute_result"
    }
   ],
   "source": [
    "import pandas as pd\n",
    "\n",
    "confirmed = pd.read_csv(\"https://raw.githubusercontent.com/CSSEGISandData/COVID-19/master/csse_covid_19_data/csse_covid_19_time_series/time_series_covid19_confirmed_global.csv\")\n",
    "confirmed.head()"
   ]
  },
  {
   "cell_type": "code",
   "execution_count": 85,
   "metadata": {
    "colab": {
     "base_uri": "https://localhost:8080/",
     "height": 34
    },
    "colab_type": "code",
    "id": "58v7MDJPgUfw",
    "outputId": "607e1847-e609-4597-8a54-954dbcaeaca6"
   },
   "outputs": [
    {
     "data": {
      "text/plain": [
       "(285, 915)"
      ]
     },
     "execution_count": 85,
     "metadata": {},
     "output_type": "execute_result"
    }
   ],
   "source": [
    "confirmed.shape"
   ]
  },
  {
   "cell_type": "code",
   "execution_count": 86,
   "metadata": {
    "colab": {
     "base_uri": "https://localhost:8080/",
     "height": 218
    },
    "colab_type": "code",
    "id": "8s_FXY1jhG8V",
    "outputId": "250da406-6fcf-4e21-87f6-01fdb8c1afe3"
   },
   "outputs": [
    {
     "data": {
      "text/plain": [
       "0      5\n",
       "1      0\n",
       "2      3\n",
       "3      1\n",
       "4      0\n",
       "      ..\n",
       "280    0\n",
       "281    0\n",
       "282    0\n",
       "283    0\n",
       "284    0\n",
       "Name: 3/2/20, Length: 285, dtype: int64"
      ]
     },
     "execution_count": 86,
     "metadata": {},
     "output_type": "execute_result"
    }
   ],
   "source": [
    "last_date = \"3/2/20\"\n",
    "\n",
    "confirmed[last_date]"
   ]
  },
  {
   "cell_type": "code",
   "execution_count": 87,
   "metadata": {
    "colab": {
     "base_uri": "https://localhost:8080/",
     "height": 218
    },
    "colab_type": "code",
    "id": "MpYCo-ArgxUi",
    "outputId": "c8cb43c1-9b30-4c13-89ed-3737cc601959"
   },
   "outputs": [
    {
     "data": {
      "text/plain": [
       "0               Afghanistan\n",
       "1                   Albania\n",
       "2                   Algeria\n",
       "3                   Andorra\n",
       "4                    Angola\n",
       "               ...         \n",
       "280      West Bank and Gaza\n",
       "281    Winter Olympics 2022\n",
       "282                   Yemen\n",
       "283                  Zambia\n",
       "284                Zimbabwe\n",
       "Name: Country/Region, Length: 285, dtype: object"
      ]
     },
     "execution_count": 87,
     "metadata": {},
     "output_type": "execute_result"
    }
   ],
   "source": [
    "confirmed[\"Country/Region\"]"
   ]
  },
  {
   "cell_type": "code",
   "execution_count": 89,
   "metadata": {
    "colab": {
     "base_uri": "https://localhost:8080/",
     "height": 269
    },
    "colab_type": "code",
    "id": "d75ezwHnhC-d",
    "outputId": "5fbf19ad-ef69-42bb-ae76-3b26f259a606"
   },
   "outputs": [
    {
     "data": {
      "text/plain": [
       "array(['Afghanistan', 'Albania', 'Algeria', 'Andorra', 'Angola',\n",
       "       'Antarctica', 'Antigua and Barbuda', 'Argentina', 'Armenia',\n",
       "       'Australia', 'Austria', 'Azerbaijan', 'Bahamas', 'Bahrain',\n",
       "       'Bangladesh', 'Barbados', 'Belarus', 'Belgium', 'Belize', 'Benin',\n",
       "       'Bhutan', 'Bolivia', 'Bosnia and Herzegovina', 'Botswana',\n",
       "       'Brazil', 'Brunei', 'Bulgaria', 'Burkina Faso', 'Burma', 'Burundi',\n",
       "       'Cabo Verde', 'Cambodia', 'Cameroon', 'Canada',\n",
       "       'Central African Republic', 'Chad', 'Chile', 'China', 'Colombia',\n",
       "       'Comoros', 'Congo (Brazzaville)', 'Congo (Kinshasa)', 'Costa Rica',\n",
       "       \"Cote d'Ivoire\", 'Croatia', 'Cuba', 'Cyprus', 'Czechia', 'Denmark',\n",
       "       'Diamond Princess', 'Djibouti', 'Dominica', 'Dominican Republic',\n",
       "       'Ecuador', 'Egypt', 'El Salvador', 'Equatorial Guinea', 'Eritrea',\n",
       "       'Estonia', 'Eswatini', 'Ethiopia', 'Fiji', 'Finland', 'France',\n",
       "       'Gabon', 'Gambia', 'Georgia', 'Germany', 'Ghana', 'Greece',\n",
       "       'Grenada', 'Guatemala', 'Guinea', 'Guinea-Bissau', 'Guyana',\n",
       "       'Haiti', 'Holy See', 'Honduras', 'Hungary', 'Iceland', 'India',\n",
       "       'Indonesia', 'Iran', 'Iraq', 'Ireland', 'Israel', 'Italy',\n",
       "       'Jamaica', 'Japan', 'Jordan', 'Kazakhstan', 'Kenya', 'Kiribati',\n",
       "       'Korea, North', 'Korea, South', 'Kosovo', 'Kuwait', 'Kyrgyzstan',\n",
       "       'Laos', 'Latvia', 'Lebanon', 'Lesotho', 'Liberia', 'Libya',\n",
       "       'Liechtenstein', 'Lithuania', 'Luxembourg', 'MS Zaandam',\n",
       "       'Madagascar', 'Malawi', 'Malaysia', 'Maldives', 'Mali', 'Malta',\n",
       "       'Marshall Islands', 'Mauritania', 'Mauritius', 'Mexico',\n",
       "       'Micronesia', 'Moldova', 'Monaco', 'Mongolia', 'Montenegro',\n",
       "       'Morocco', 'Mozambique', 'Namibia', 'Nepal', 'Netherlands',\n",
       "       'New Zealand', 'Nicaragua', 'Niger', 'Nigeria', 'North Macedonia',\n",
       "       'Norway', 'Oman', 'Pakistan', 'Palau', 'Panama',\n",
       "       'Papua New Guinea', 'Paraguay', 'Peru', 'Philippines', 'Poland',\n",
       "       'Portugal', 'Qatar', 'Romania', 'Russia', 'Rwanda',\n",
       "       'Saint Kitts and Nevis', 'Saint Lucia',\n",
       "       'Saint Vincent and the Grenadines', 'Samoa', 'San Marino',\n",
       "       'Sao Tome and Principe', 'Saudi Arabia', 'Senegal', 'Serbia',\n",
       "       'Seychelles', 'Sierra Leone', 'Singapore', 'Slovakia', 'Slovenia',\n",
       "       'Solomon Islands', 'Somalia', 'South Africa', 'South Sudan',\n",
       "       'Spain', 'Sri Lanka', 'Sudan', 'Summer Olympics 2020', 'Suriname',\n",
       "       'Sweden', 'Switzerland', 'Syria', 'Taiwan*', 'Tajikistan',\n",
       "       'Tanzania', 'Thailand', 'Timor-Leste', 'Togo', 'Tonga',\n",
       "       'Trinidad and Tobago', 'Tunisia', 'Turkey', 'US', 'Uganda',\n",
       "       'Ukraine', 'United Arab Emirates', 'United Kingdom', 'Uruguay',\n",
       "       'Uzbekistan', 'Vanuatu', 'Venezuela', 'Vietnam',\n",
       "       'West Bank and Gaza', 'Winter Olympics 2022', 'Yemen', 'Zambia',\n",
       "       'Zimbabwe'], dtype=object)"
      ]
     },
     "execution_count": 89,
     "metadata": {},
     "output_type": "execute_result"
    }
   ],
   "source": [
    "confirmed[\"Country/Region\"].unique()"
   ]
  },
  {
   "cell_type": "code",
   "execution_count": 92,
   "metadata": {
    "colab": {
     "base_uri": "https://localhost:8080/",
     "height": 386
    },
    "colab_type": "code",
    "id": "YkFdUtqQhbZV",
    "outputId": "422eb40c-f9a2-471f-e36a-e355f9324cc0"
   },
   "outputs": [
    {
     "data": {
      "text/plain": [
       "array([nan, 'Australian Capital Territory', 'New South Wales',\n",
       "       'Northern Territory', 'Queensland', 'South Australia', 'Tasmania',\n",
       "       'Victoria', 'Western Australia', 'Alberta', 'British Columbia',\n",
       "       'Diamond Princess', 'Grand Princess', 'Manitoba', 'New Brunswick',\n",
       "       'Newfoundland and Labrador', 'Northwest Territories',\n",
       "       'Nova Scotia', 'Nunavut', 'Ontario', 'Prince Edward Island',\n",
       "       'Quebec', 'Repatriated Travellers', 'Saskatchewan', 'Yukon',\n",
       "       'Anhui', 'Beijing', 'Chongqing', 'Fujian', 'Gansu', 'Guangdong',\n",
       "       'Guangxi', 'Guizhou', 'Hainan', 'Hebei', 'Heilongjiang', 'Henan',\n",
       "       'Hong Kong', 'Hubei', 'Hunan', 'Inner Mongolia', 'Jiangsu',\n",
       "       'Jiangxi', 'Jilin', 'Liaoning', 'Macau', 'Ningxia', 'Qinghai',\n",
       "       'Shaanxi', 'Shandong', 'Shanghai', 'Shanxi', 'Sichuan', 'Tianjin',\n",
       "       'Tibet', 'Unknown', 'Xinjiang', 'Yunnan', 'Zhejiang',\n",
       "       'Faroe Islands', 'Greenland', 'French Guiana', 'French Polynesia',\n",
       "       'Guadeloupe', 'Martinique', 'Mayotte', 'New Caledonia', 'Reunion',\n",
       "       'Saint Barthelemy', 'Saint Pierre and Miquelon', 'St Martin',\n",
       "       'Wallis and Futuna', 'Aruba', 'Bonaire, Sint Eustatius and Saba',\n",
       "       'Curacao', 'Sint Maarten', 'Cook Islands', 'Anguilla', 'Bermuda',\n",
       "       'British Virgin Islands', 'Cayman Islands', 'Channel Islands',\n",
       "       'Falkland Islands (Malvinas)', 'Gibraltar', 'Guernsey',\n",
       "       'Isle of Man', 'Jersey', 'Montserrat',\n",
       "       'Saint Helena, Ascension and Tristan da Cunha',\n",
       "       'Turks and Caicos Islands'], dtype=object)"
      ]
     },
     "execution_count": 92,
     "metadata": {},
     "output_type": "execute_result"
    }
   ],
   "source": [
    "confirmed[\"Province/State\"].unique()"
   ]
  },
  {
   "cell_type": "code",
   "execution_count": 93,
   "metadata": {
    "colab": {
     "base_uri": "https://localhost:8080/",
     "height": 659
    },
    "colab_type": "code",
    "id": "4vy3KqidhfUL",
    "outputId": "37be8089-08ee-4a15-c8fb-c2d62643f800"
   },
   "outputs": [
    {
     "data": {
      "text/html": [
       "<div>\n",
       "<style scoped>\n",
       "    .dataframe tbody tr th:only-of-type {\n",
       "        vertical-align: middle;\n",
       "    }\n",
       "\n",
       "    .dataframe tbody tr th {\n",
       "        vertical-align: top;\n",
       "    }\n",
       "\n",
       "    .dataframe thead th {\n",
       "        text-align: right;\n",
       "    }\n",
       "</style>\n",
       "<table border=\"1\" class=\"dataframe\">\n",
       "  <thead>\n",
       "    <tr style=\"text-align: right;\">\n",
       "      <th></th>\n",
       "      <th>Province/State</th>\n",
       "      <th>Country/Region</th>\n",
       "      <th>Lat</th>\n",
       "      <th>Long</th>\n",
       "      <th>1/22/20</th>\n",
       "      <th>1/23/20</th>\n",
       "      <th>1/24/20</th>\n",
       "      <th>1/25/20</th>\n",
       "      <th>1/26/20</th>\n",
       "      <th>1/27/20</th>\n",
       "      <th>...</th>\n",
       "      <th>7/11/22</th>\n",
       "      <th>7/12/22</th>\n",
       "      <th>7/13/22</th>\n",
       "      <th>7/14/22</th>\n",
       "      <th>7/15/22</th>\n",
       "      <th>7/16/22</th>\n",
       "      <th>7/17/22</th>\n",
       "      <th>7/18/22</th>\n",
       "      <th>7/19/22</th>\n",
       "      <th>7/20/22</th>\n",
       "    </tr>\n",
       "  </thead>\n",
       "  <tbody>\n",
       "    <tr>\n",
       "      <th>168</th>\n",
       "      <td>NaN</td>\n",
       "      <td>Lebanon</td>\n",
       "      <td>33.854700</td>\n",
       "      <td>35.862300</td>\n",
       "      <td>0</td>\n",
       "      <td>0</td>\n",
       "      <td>0</td>\n",
       "      <td>0</td>\n",
       "      <td>0</td>\n",
       "      <td>0</td>\n",
       "      <td>...</td>\n",
       "      <td>1125720</td>\n",
       "      <td>1126411</td>\n",
       "      <td>1126411</td>\n",
       "      <td>1129660</td>\n",
       "      <td>1135565</td>\n",
       "      <td>1138458</td>\n",
       "      <td>1140794</td>\n",
       "      <td>1142644</td>\n",
       "      <td>1144149</td>\n",
       "      <td>1147581</td>\n",
       "    </tr>\n",
       "    <tr>\n",
       "      <th>205</th>\n",
       "      <td>NaN</td>\n",
       "      <td>North Macedonia</td>\n",
       "      <td>41.608600</td>\n",
       "      <td>21.745300</td>\n",
       "      <td>0</td>\n",
       "      <td>0</td>\n",
       "      <td>0</td>\n",
       "      <td>0</td>\n",
       "      <td>0</td>\n",
       "      <td>0</td>\n",
       "      <td>...</td>\n",
       "      <td>316219</td>\n",
       "      <td>316729</td>\n",
       "      <td>317140</td>\n",
       "      <td>317634</td>\n",
       "      <td>318138</td>\n",
       "      <td>318138</td>\n",
       "      <td>318138</td>\n",
       "      <td>319037</td>\n",
       "      <td>319806</td>\n",
       "      <td>320598</td>\n",
       "    </tr>\n",
       "    <tr>\n",
       "      <th>5</th>\n",
       "      <td>NaN</td>\n",
       "      <td>Antarctica</td>\n",
       "      <td>-71.949900</td>\n",
       "      <td>23.347000</td>\n",
       "      <td>0</td>\n",
       "      <td>0</td>\n",
       "      <td>0</td>\n",
       "      <td>0</td>\n",
       "      <td>0</td>\n",
       "      <td>0</td>\n",
       "      <td>...</td>\n",
       "      <td>11</td>\n",
       "      <td>11</td>\n",
       "      <td>11</td>\n",
       "      <td>11</td>\n",
       "      <td>11</td>\n",
       "      <td>11</td>\n",
       "      <td>11</td>\n",
       "      <td>11</td>\n",
       "      <td>11</td>\n",
       "      <td>11</td>\n",
       "    </tr>\n",
       "    <tr>\n",
       "      <th>210</th>\n",
       "      <td>NaN</td>\n",
       "      <td>Panama</td>\n",
       "      <td>8.538000</td>\n",
       "      <td>-80.782100</td>\n",
       "      <td>0</td>\n",
       "      <td>0</td>\n",
       "      <td>0</td>\n",
       "      <td>0</td>\n",
       "      <td>0</td>\n",
       "      <td>0</td>\n",
       "      <td>...</td>\n",
       "      <td>932710</td>\n",
       "      <td>938791</td>\n",
       "      <td>938791</td>\n",
       "      <td>938791</td>\n",
       "      <td>938791</td>\n",
       "      <td>938791</td>\n",
       "      <td>938791</td>\n",
       "      <td>942083</td>\n",
       "      <td>942083</td>\n",
       "      <td>942083</td>\n",
       "    </tr>\n",
       "    <tr>\n",
       "      <th>177</th>\n",
       "      <td>NaN</td>\n",
       "      <td>Malawi</td>\n",
       "      <td>-13.254300</td>\n",
       "      <td>34.301500</td>\n",
       "      <td>0</td>\n",
       "      <td>0</td>\n",
       "      <td>0</td>\n",
       "      <td>0</td>\n",
       "      <td>0</td>\n",
       "      <td>0</td>\n",
       "      <td>...</td>\n",
       "      <td>86750</td>\n",
       "      <td>86799</td>\n",
       "      <td>86823</td>\n",
       "      <td>86823</td>\n",
       "      <td>86900</td>\n",
       "      <td>86900</td>\n",
       "      <td>86931</td>\n",
       "      <td>86968</td>\n",
       "      <td>86968</td>\n",
       "      <td>87105</td>\n",
       "    </tr>\n",
       "    <tr>\n",
       "      <th>78</th>\n",
       "      <td>Liaoning</td>\n",
       "      <td>China</td>\n",
       "      <td>41.295600</td>\n",
       "      <td>122.608500</td>\n",
       "      <td>2</td>\n",
       "      <td>3</td>\n",
       "      <td>4</td>\n",
       "      <td>17</td>\n",
       "      <td>21</td>\n",
       "      <td>27</td>\n",
       "      <td>...</td>\n",
       "      <td>1723</td>\n",
       "      <td>1723</td>\n",
       "      <td>1723</td>\n",
       "      <td>1725</td>\n",
       "      <td>1726</td>\n",
       "      <td>1728</td>\n",
       "      <td>1730</td>\n",
       "      <td>1730</td>\n",
       "      <td>1731</td>\n",
       "      <td>1731</td>\n",
       "    </tr>\n",
       "    <tr>\n",
       "      <th>81</th>\n",
       "      <td>Qinghai</td>\n",
       "      <td>China</td>\n",
       "      <td>35.745200</td>\n",
       "      <td>95.995600</td>\n",
       "      <td>0</td>\n",
       "      <td>0</td>\n",
       "      <td>0</td>\n",
       "      <td>1</td>\n",
       "      <td>1</td>\n",
       "      <td>6</td>\n",
       "      <td>...</td>\n",
       "      <td>148</td>\n",
       "      <td>148</td>\n",
       "      <td>148</td>\n",
       "      <td>148</td>\n",
       "      <td>148</td>\n",
       "      <td>148</td>\n",
       "      <td>148</td>\n",
       "      <td>148</td>\n",
       "      <td>148</td>\n",
       "      <td>148</td>\n",
       "    </tr>\n",
       "    <tr>\n",
       "      <th>126</th>\n",
       "      <td>Reunion</td>\n",
       "      <td>France</td>\n",
       "      <td>-21.115100</td>\n",
       "      <td>55.536400</td>\n",
       "      <td>0</td>\n",
       "      <td>0</td>\n",
       "      <td>0</td>\n",
       "      <td>0</td>\n",
       "      <td>0</td>\n",
       "      <td>0</td>\n",
       "      <td>...</td>\n",
       "      <td>425638</td>\n",
       "      <td>425638</td>\n",
       "      <td>425638</td>\n",
       "      <td>425638</td>\n",
       "      <td>425638</td>\n",
       "      <td>425638</td>\n",
       "      <td>425638</td>\n",
       "      <td>429237</td>\n",
       "      <td>429237</td>\n",
       "      <td>429237</td>\n",
       "    </tr>\n",
       "    <tr>\n",
       "      <th>257</th>\n",
       "      <td>NaN</td>\n",
       "      <td>US</td>\n",
       "      <td>40.000000</td>\n",
       "      <td>-100.000000</td>\n",
       "      <td>1</td>\n",
       "      <td>1</td>\n",
       "      <td>2</td>\n",
       "      <td>2</td>\n",
       "      <td>5</td>\n",
       "      <td>5</td>\n",
       "      <td>...</td>\n",
       "      <td>88805899</td>\n",
       "      <td>88953093</td>\n",
       "      <td>89156425</td>\n",
       "      <td>89300864</td>\n",
       "      <td>89459449</td>\n",
       "      <td>89529073</td>\n",
       "      <td>89547884</td>\n",
       "      <td>89677127</td>\n",
       "      <td>89830640</td>\n",
       "      <td>90046834</td>\n",
       "    </tr>\n",
       "    <tr>\n",
       "      <th>175</th>\n",
       "      <td>NaN</td>\n",
       "      <td>MS Zaandam</td>\n",
       "      <td>0.000000</td>\n",
       "      <td>0.000000</td>\n",
       "      <td>0</td>\n",
       "      <td>0</td>\n",
       "      <td>0</td>\n",
       "      <td>0</td>\n",
       "      <td>0</td>\n",
       "      <td>0</td>\n",
       "      <td>...</td>\n",
       "      <td>9</td>\n",
       "      <td>9</td>\n",
       "      <td>9</td>\n",
       "      <td>9</td>\n",
       "      <td>9</td>\n",
       "      <td>9</td>\n",
       "      <td>9</td>\n",
       "      <td>9</td>\n",
       "      <td>9</td>\n",
       "      <td>9</td>\n",
       "    </tr>\n",
       "    <tr>\n",
       "      <th>123</th>\n",
       "      <td>Martinique</td>\n",
       "      <td>France</td>\n",
       "      <td>14.641500</td>\n",
       "      <td>-61.024200</td>\n",
       "      <td>0</td>\n",
       "      <td>0</td>\n",
       "      <td>0</td>\n",
       "      <td>0</td>\n",
       "      <td>0</td>\n",
       "      <td>0</td>\n",
       "      <td>...</td>\n",
       "      <td>201211</td>\n",
       "      <td>205261</td>\n",
       "      <td>205261</td>\n",
       "      <td>205261</td>\n",
       "      <td>205261</td>\n",
       "      <td>205261</td>\n",
       "      <td>205261</td>\n",
       "      <td>205261</td>\n",
       "      <td>208003</td>\n",
       "      <td>208003</td>\n",
       "    </tr>\n",
       "    <tr>\n",
       "      <th>240</th>\n",
       "      <td>NaN</td>\n",
       "      <td>Sri Lanka</td>\n",
       "      <td>7.873054</td>\n",
       "      <td>80.771797</td>\n",
       "      <td>0</td>\n",
       "      <td>0</td>\n",
       "      <td>0</td>\n",
       "      <td>0</td>\n",
       "      <td>0</td>\n",
       "      <td>1</td>\n",
       "      <td>...</td>\n",
       "      <td>664292</td>\n",
       "      <td>664315</td>\n",
       "      <td>664345</td>\n",
       "      <td>664364</td>\n",
       "      <td>664389</td>\n",
       "      <td>664414</td>\n",
       "      <td>664448</td>\n",
       "      <td>664510</td>\n",
       "      <td>664572</td>\n",
       "      <td>664647</td>\n",
       "    </tr>\n",
       "    <tr>\n",
       "      <th>43</th>\n",
       "      <td>Grand Princess</td>\n",
       "      <td>Canada</td>\n",
       "      <td>0.000000</td>\n",
       "      <td>0.000000</td>\n",
       "      <td>0</td>\n",
       "      <td>0</td>\n",
       "      <td>0</td>\n",
       "      <td>0</td>\n",
       "      <td>0</td>\n",
       "      <td>0</td>\n",
       "      <td>...</td>\n",
       "      <td>13</td>\n",
       "      <td>13</td>\n",
       "      <td>13</td>\n",
       "      <td>13</td>\n",
       "      <td>13</td>\n",
       "      <td>13</td>\n",
       "      <td>13</td>\n",
       "      <td>13</td>\n",
       "      <td>13</td>\n",
       "      <td>13</td>\n",
       "    </tr>\n",
       "    <tr>\n",
       "      <th>153</th>\n",
       "      <td>NaN</td>\n",
       "      <td>Israel</td>\n",
       "      <td>31.046051</td>\n",
       "      <td>34.851612</td>\n",
       "      <td>0</td>\n",
       "      <td>0</td>\n",
       "      <td>0</td>\n",
       "      <td>0</td>\n",
       "      <td>0</td>\n",
       "      <td>0</td>\n",
       "      <td>...</td>\n",
       "      <td>4462295</td>\n",
       "      <td>4472115</td>\n",
       "      <td>4482086</td>\n",
       "      <td>4489387</td>\n",
       "      <td>4498027</td>\n",
       "      <td>4498027</td>\n",
       "      <td>4508457</td>\n",
       "      <td>4518507</td>\n",
       "      <td>4525442</td>\n",
       "      <td>4531681</td>\n",
       "    </tr>\n",
       "    <tr>\n",
       "      <th>29</th>\n",
       "      <td>NaN</td>\n",
       "      <td>Bosnia and Herzegovina</td>\n",
       "      <td>43.915900</td>\n",
       "      <td>17.679100</td>\n",
       "      <td>0</td>\n",
       "      <td>0</td>\n",
       "      <td>0</td>\n",
       "      <td>0</td>\n",
       "      <td>0</td>\n",
       "      <td>0</td>\n",
       "      <td>...</td>\n",
       "      <td>379817</td>\n",
       "      <td>379982</td>\n",
       "      <td>380211</td>\n",
       "      <td>380498</td>\n",
       "      <td>380749</td>\n",
       "      <td>380749</td>\n",
       "      <td>380749</td>\n",
       "      <td>381150</td>\n",
       "      <td>381543</td>\n",
       "      <td>381982</td>\n",
       "    </tr>\n",
       "    <tr>\n",
       "      <th>272</th>\n",
       "      <td>Saint Helena, Ascension and Tristan da Cunha</td>\n",
       "      <td>United Kingdom</td>\n",
       "      <td>-7.946700</td>\n",
       "      <td>-14.355900</td>\n",
       "      <td>0</td>\n",
       "      <td>0</td>\n",
       "      <td>0</td>\n",
       "      <td>0</td>\n",
       "      <td>0</td>\n",
       "      <td>0</td>\n",
       "      <td>...</td>\n",
       "      <td>4</td>\n",
       "      <td>4</td>\n",
       "      <td>4</td>\n",
       "      <td>4</td>\n",
       "      <td>4</td>\n",
       "      <td>4</td>\n",
       "      <td>4</td>\n",
       "      <td>4</td>\n",
       "      <td>4</td>\n",
       "      <td>4</td>\n",
       "    </tr>\n",
       "    <tr>\n",
       "      <th>171</th>\n",
       "      <td>NaN</td>\n",
       "      <td>Libya</td>\n",
       "      <td>26.335100</td>\n",
       "      <td>17.228331</td>\n",
       "      <td>0</td>\n",
       "      <td>0</td>\n",
       "      <td>0</td>\n",
       "      <td>0</td>\n",
       "      <td>0</td>\n",
       "      <td>0</td>\n",
       "      <td>...</td>\n",
       "      <td>502189</td>\n",
       "      <td>502289</td>\n",
       "      <td>502289</td>\n",
       "      <td>502289</td>\n",
       "      <td>502289</td>\n",
       "      <td>502289</td>\n",
       "      <td>502289</td>\n",
       "      <td>502642</td>\n",
       "      <td>502642</td>\n",
       "      <td>502642</td>\n",
       "    </tr>\n",
       "    <tr>\n",
       "      <th>14</th>\n",
       "      <td>Tasmania</td>\n",
       "      <td>Australia</td>\n",
       "      <td>-42.882100</td>\n",
       "      <td>147.327200</td>\n",
       "      <td>0</td>\n",
       "      <td>0</td>\n",
       "      <td>0</td>\n",
       "      <td>0</td>\n",
       "      <td>0</td>\n",
       "      <td>0</td>\n",
       "      <td>...</td>\n",
       "      <td>205205</td>\n",
       "      <td>206988</td>\n",
       "      <td>208804</td>\n",
       "      <td>210533</td>\n",
       "      <td>212181</td>\n",
       "      <td>213593</td>\n",
       "      <td>213593</td>\n",
       "      <td>216683</td>\n",
       "      <td>218236</td>\n",
       "      <td>219909</td>\n",
       "    </tr>\n",
       "    <tr>\n",
       "      <th>83</th>\n",
       "      <td>Shandong</td>\n",
       "      <td>China</td>\n",
       "      <td>36.342700</td>\n",
       "      <td>118.149800</td>\n",
       "      <td>2</td>\n",
       "      <td>6</td>\n",
       "      <td>15</td>\n",
       "      <td>27</td>\n",
       "      <td>46</td>\n",
       "      <td>75</td>\n",
       "      <td>...</td>\n",
       "      <td>2801</td>\n",
       "      <td>2807</td>\n",
       "      <td>2807</td>\n",
       "      <td>2809</td>\n",
       "      <td>2809</td>\n",
       "      <td>2811</td>\n",
       "      <td>2813</td>\n",
       "      <td>2813</td>\n",
       "      <td>2814</td>\n",
       "      <td>2815</td>\n",
       "    </tr>\n",
       "    <tr>\n",
       "      <th>170</th>\n",
       "      <td>NaN</td>\n",
       "      <td>Liberia</td>\n",
       "      <td>6.428055</td>\n",
       "      <td>-9.429499</td>\n",
       "      <td>0</td>\n",
       "      <td>0</td>\n",
       "      <td>0</td>\n",
       "      <td>0</td>\n",
       "      <td>0</td>\n",
       "      <td>0</td>\n",
       "      <td>...</td>\n",
       "      <td>7502</td>\n",
       "      <td>7502</td>\n",
       "      <td>7502</td>\n",
       "      <td>7504</td>\n",
       "      <td>7504</td>\n",
       "      <td>7504</td>\n",
       "      <td>7504</td>\n",
       "      <td>7504</td>\n",
       "      <td>7505</td>\n",
       "      <td>7505</td>\n",
       "    </tr>\n",
       "  </tbody>\n",
       "</table>\n",
       "<p>20 rows × 915 columns</p>\n",
       "</div>"
      ],
      "text/plain": [
       "                                   Province/State          Country/Region  \\\n",
       "168                                           NaN                 Lebanon   \n",
       "205                                           NaN         North Macedonia   \n",
       "5                                             NaN              Antarctica   \n",
       "210                                           NaN                  Panama   \n",
       "177                                           NaN                  Malawi   \n",
       "78                                       Liaoning                   China   \n",
       "81                                        Qinghai                   China   \n",
       "126                                       Reunion                  France   \n",
       "257                                           NaN                      US   \n",
       "175                                           NaN              MS Zaandam   \n",
       "123                                    Martinique                  France   \n",
       "240                                           NaN               Sri Lanka   \n",
       "43                                 Grand Princess                  Canada   \n",
       "153                                           NaN                  Israel   \n",
       "29                                            NaN  Bosnia and Herzegovina   \n",
       "272  Saint Helena, Ascension and Tristan da Cunha          United Kingdom   \n",
       "171                                           NaN                   Libya   \n",
       "14                                       Tasmania               Australia   \n",
       "83                                       Shandong                   China   \n",
       "170                                           NaN                 Liberia   \n",
       "\n",
       "           Lat        Long  1/22/20  1/23/20  1/24/20  1/25/20  1/26/20  \\\n",
       "168  33.854700   35.862300        0        0        0        0        0   \n",
       "205  41.608600   21.745300        0        0        0        0        0   \n",
       "5   -71.949900   23.347000        0        0        0        0        0   \n",
       "210   8.538000  -80.782100        0        0        0        0        0   \n",
       "177 -13.254300   34.301500        0        0        0        0        0   \n",
       "78   41.295600  122.608500        2        3        4       17       21   \n",
       "81   35.745200   95.995600        0        0        0        1        1   \n",
       "126 -21.115100   55.536400        0        0        0        0        0   \n",
       "257  40.000000 -100.000000        1        1        2        2        5   \n",
       "175   0.000000    0.000000        0        0        0        0        0   \n",
       "123  14.641500  -61.024200        0        0        0        0        0   \n",
       "240   7.873054   80.771797        0        0        0        0        0   \n",
       "43    0.000000    0.000000        0        0        0        0        0   \n",
       "153  31.046051   34.851612        0        0        0        0        0   \n",
       "29   43.915900   17.679100        0        0        0        0        0   \n",
       "272  -7.946700  -14.355900        0        0        0        0        0   \n",
       "171  26.335100   17.228331        0        0        0        0        0   \n",
       "14  -42.882100  147.327200        0        0        0        0        0   \n",
       "83   36.342700  118.149800        2        6       15       27       46   \n",
       "170   6.428055   -9.429499        0        0        0        0        0   \n",
       "\n",
       "     1/27/20  ...   7/11/22   7/12/22   7/13/22   7/14/22   7/15/22   7/16/22  \\\n",
       "168        0  ...   1125720   1126411   1126411   1129660   1135565   1138458   \n",
       "205        0  ...    316219    316729    317140    317634    318138    318138   \n",
       "5          0  ...        11        11        11        11        11        11   \n",
       "210        0  ...    932710    938791    938791    938791    938791    938791   \n",
       "177        0  ...     86750     86799     86823     86823     86900     86900   \n",
       "78        27  ...      1723      1723      1723      1725      1726      1728   \n",
       "81         6  ...       148       148       148       148       148       148   \n",
       "126        0  ...    425638    425638    425638    425638    425638    425638   \n",
       "257        5  ...  88805899  88953093  89156425  89300864  89459449  89529073   \n",
       "175        0  ...         9         9         9         9         9         9   \n",
       "123        0  ...    201211    205261    205261    205261    205261    205261   \n",
       "240        1  ...    664292    664315    664345    664364    664389    664414   \n",
       "43         0  ...        13        13        13        13        13        13   \n",
       "153        0  ...   4462295   4472115   4482086   4489387   4498027   4498027   \n",
       "29         0  ...    379817    379982    380211    380498    380749    380749   \n",
       "272        0  ...         4         4         4         4         4         4   \n",
       "171        0  ...    502189    502289    502289    502289    502289    502289   \n",
       "14         0  ...    205205    206988    208804    210533    212181    213593   \n",
       "83        75  ...      2801      2807      2807      2809      2809      2811   \n",
       "170        0  ...      7502      7502      7502      7504      7504      7504   \n",
       "\n",
       "      7/17/22   7/18/22   7/19/22   7/20/22  \n",
       "168   1140794   1142644   1144149   1147581  \n",
       "205    318138    319037    319806    320598  \n",
       "5          11        11        11        11  \n",
       "210    938791    942083    942083    942083  \n",
       "177     86931     86968     86968     87105  \n",
       "78       1730      1730      1731      1731  \n",
       "81        148       148       148       148  \n",
       "126    425638    429237    429237    429237  \n",
       "257  89547884  89677127  89830640  90046834  \n",
       "175         9         9         9         9  \n",
       "123    205261    205261    208003    208003  \n",
       "240    664448    664510    664572    664647  \n",
       "43         13        13        13        13  \n",
       "153   4508457   4518507   4525442   4531681  \n",
       "29     380749    381150    381543    381982  \n",
       "272         4         4         4         4  \n",
       "171    502289    502642    502642    502642  \n",
       "14     213593    216683    218236    219909  \n",
       "83       2813      2813      2814      2815  \n",
       "170      7504      7504      7505      7505  \n",
       "\n",
       "[20 rows x 915 columns]"
      ]
     },
     "execution_count": 93,
     "metadata": {},
     "output_type": "execute_result"
    }
   ],
   "source": [
    "confirmed.sample(20)"
   ]
  },
  {
   "cell_type": "code",
   "execution_count": 94,
   "metadata": {
    "colab": {
     "base_uri": "https://localhost:8080/",
     "height": 790
    },
    "colab_type": "code",
    "id": "xMxLzhXXhlGX",
    "outputId": "10854c1d-d05e-4020-e0f8-94dbbaec9d3c"
   },
   "outputs": [
    {
     "data": {
      "text/plain": [
       "Province/State        NaN\n",
       "Country/Region    Albania\n",
       "Lat               41.1533\n",
       "Long              20.1683\n",
       "1/22/20                 0\n",
       "                   ...   \n",
       "7/16/22            293917\n",
       "7/17/22            293917\n",
       "7/18/22            293917\n",
       "7/19/22            293917\n",
       "7/20/22            293917\n",
       "Name: 1, Length: 915, dtype: object"
      ]
     },
     "execution_count": 94,
     "metadata": {},
     "output_type": "execute_result"
    }
   ],
   "source": [
    "confirmed.iloc[1]"
   ]
  },
  {
   "cell_type": "code",
   "execution_count": 95,
   "metadata": {
    "colab": {
     "base_uri": "https://localhost:8080/",
     "height": 773
    },
    "colab_type": "code",
    "id": "o3Kga3RKh500",
    "outputId": "b9fba51a-1206-4624-a0d2-7edbdd5e1b8b"
   },
   "outputs": [
    {
     "data": {
      "text/plain": [
       "Country/Region    Australia\n",
       "Lat                -35.4735\n",
       "Long               149.0124\n",
       "1/22/20                   0\n",
       "1/23/20                   0\n",
       "                    ...    \n",
       "7/16/22              178225\n",
       "7/17/22              179112\n",
       "7/18/22              180333\n",
       "7/19/22              181294\n",
       "7/20/22              182701\n",
       "Name: Australian Capital Territory, Length: 914, dtype: object"
      ]
     },
     "execution_count": 95,
     "metadata": {},
     "output_type": "execute_result"
    }
   ],
   "source": [
    "confirmed.set_index(\"Province/State\").loc[\"Australian Capital Territory\"]"
   ]
  },
  {
   "cell_type": "code",
   "execution_count": 96,
   "metadata": {
    "colab": {
     "base_uri": "https://localhost:8080/",
     "height": 773
    },
    "colab_type": "code",
    "id": "2SyYtm1AiBYk",
    "outputId": "ab4aa17a-5707-4880-d80a-1d099774cded"
   },
   "outputs": [
    {
     "data": {
      "text/plain": [
       "Country/Region    Albania\n",
       "Lat               41.1533\n",
       "Long              20.1683\n",
       "1/22/20                 0\n",
       "1/23/20                 0\n",
       "                   ...   \n",
       "7/16/22            293917\n",
       "7/17/22            293917\n",
       "7/18/22            293917\n",
       "7/19/22            293917\n",
       "7/20/22            293917\n",
       "Name: nan, Length: 914, dtype: object"
      ]
     },
     "execution_count": 96,
     "metadata": {},
     "output_type": "execute_result"
    }
   ],
   "source": [
    "confirmed.set_index(\"Province/State\").iloc[1]"
   ]
  },
  {
   "cell_type": "code",
   "execution_count": 97,
   "metadata": {
    "colab": {
     "base_uri": "https://localhost:8080/",
     "height": 218
    },
    "colab_type": "code",
    "id": "_sytBg9EiM9U",
    "outputId": "7d3cd2a4-44d2-45f3-c69d-33f605f2f967"
   },
   "outputs": [
    {
     "data": {
      "text/plain": [
       "China             34\n",
       "Canada            16\n",
       "United Kingdom    14\n",
       "France            12\n",
       "Australia          8\n",
       "                  ..\n",
       "Guinea             1\n",
       "Guinea-Bissau      1\n",
       "Guyana             1\n",
       "Haiti              1\n",
       "Zimbabwe           1\n",
       "Name: Country/Region, Length: 199, dtype: int64"
      ]
     },
     "execution_count": 97,
     "metadata": {},
     "output_type": "execute_result"
    }
   ],
   "source": [
    "confirmed[\"Country/Region\"].value_counts()"
   ]
  },
  {
   "cell_type": "code",
   "execution_count": 98,
   "metadata": {
    "colab": {
     "base_uri": "https://localhost:8080/",
     "height": 245
    },
    "colab_type": "code",
    "id": "EisiJz75iatq",
    "outputId": "bb24e93b-589d-4085-cfe5-009394a9b42f"
   },
   "outputs": [
    {
     "data": {
      "text/html": [
       "<div>\n",
       "<style scoped>\n",
       "    .dataframe tbody tr th:only-of-type {\n",
       "        vertical-align: middle;\n",
       "    }\n",
       "\n",
       "    .dataframe tbody tr th {\n",
       "        vertical-align: top;\n",
       "    }\n",
       "\n",
       "    .dataframe thead th {\n",
       "        text-align: right;\n",
       "    }\n",
       "</style>\n",
       "<table border=\"1\" class=\"dataframe\">\n",
       "  <thead>\n",
       "    <tr style=\"text-align: right;\">\n",
       "      <th></th>\n",
       "      <th>Lat</th>\n",
       "      <th>Long</th>\n",
       "      <th>1/22/20</th>\n",
       "      <th>1/23/20</th>\n",
       "      <th>1/24/20</th>\n",
       "      <th>1/25/20</th>\n",
       "      <th>1/26/20</th>\n",
       "      <th>1/27/20</th>\n",
       "      <th>1/28/20</th>\n",
       "      <th>1/29/20</th>\n",
       "      <th>...</th>\n",
       "      <th>7/11/22</th>\n",
       "      <th>7/12/22</th>\n",
       "      <th>7/13/22</th>\n",
       "      <th>7/14/22</th>\n",
       "      <th>7/15/22</th>\n",
       "      <th>7/16/22</th>\n",
       "      <th>7/17/22</th>\n",
       "      <th>7/18/22</th>\n",
       "      <th>7/19/22</th>\n",
       "      <th>7/20/22</th>\n",
       "    </tr>\n",
       "    <tr>\n",
       "      <th>Country/Region</th>\n",
       "      <th></th>\n",
       "      <th></th>\n",
       "      <th></th>\n",
       "      <th></th>\n",
       "      <th></th>\n",
       "      <th></th>\n",
       "      <th></th>\n",
       "      <th></th>\n",
       "      <th></th>\n",
       "      <th></th>\n",
       "      <th></th>\n",
       "      <th></th>\n",
       "      <th></th>\n",
       "      <th></th>\n",
       "      <th></th>\n",
       "      <th></th>\n",
       "      <th></th>\n",
       "      <th></th>\n",
       "      <th></th>\n",
       "      <th></th>\n",
       "      <th></th>\n",
       "    </tr>\n",
       "  </thead>\n",
       "  <tbody>\n",
       "    <tr>\n",
       "      <th>Afghanistan</th>\n",
       "      <td>33.93911</td>\n",
       "      <td>67.709953</td>\n",
       "      <td>0</td>\n",
       "      <td>0</td>\n",
       "      <td>0</td>\n",
       "      <td>0</td>\n",
       "      <td>0</td>\n",
       "      <td>0</td>\n",
       "      <td>0</td>\n",
       "      <td>0</td>\n",
       "      <td>...</td>\n",
       "      <td>183268</td>\n",
       "      <td>183272</td>\n",
       "      <td>183285</td>\n",
       "      <td>183358</td>\n",
       "      <td>183407</td>\n",
       "      <td>183445</td>\n",
       "      <td>183572</td>\n",
       "      <td>183687</td>\n",
       "      <td>183908</td>\n",
       "      <td>184038</td>\n",
       "    </tr>\n",
       "    <tr>\n",
       "      <th>Albania</th>\n",
       "      <td>41.15330</td>\n",
       "      <td>20.168300</td>\n",
       "      <td>0</td>\n",
       "      <td>0</td>\n",
       "      <td>0</td>\n",
       "      <td>0</td>\n",
       "      <td>0</td>\n",
       "      <td>0</td>\n",
       "      <td>0</td>\n",
       "      <td>0</td>\n",
       "      <td>...</td>\n",
       "      <td>288176</td>\n",
       "      <td>289391</td>\n",
       "      <td>290954</td>\n",
       "      <td>290954</td>\n",
       "      <td>293917</td>\n",
       "      <td>293917</td>\n",
       "      <td>293917</td>\n",
       "      <td>293917</td>\n",
       "      <td>293917</td>\n",
       "      <td>293917</td>\n",
       "    </tr>\n",
       "    <tr>\n",
       "      <th>Algeria</th>\n",
       "      <td>28.03390</td>\n",
       "      <td>1.659600</td>\n",
       "      <td>0</td>\n",
       "      <td>0</td>\n",
       "      <td>0</td>\n",
       "      <td>0</td>\n",
       "      <td>0</td>\n",
       "      <td>0</td>\n",
       "      <td>0</td>\n",
       "      <td>0</td>\n",
       "      <td>...</td>\n",
       "      <td>266274</td>\n",
       "      <td>266303</td>\n",
       "      <td>266328</td>\n",
       "      <td>266356</td>\n",
       "      <td>266392</td>\n",
       "      <td>266424</td>\n",
       "      <td>266445</td>\n",
       "      <td>266487</td>\n",
       "      <td>266542</td>\n",
       "      <td>266591</td>\n",
       "    </tr>\n",
       "    <tr>\n",
       "      <th>Andorra</th>\n",
       "      <td>42.50630</td>\n",
       "      <td>1.521800</td>\n",
       "      <td>0</td>\n",
       "      <td>0</td>\n",
       "      <td>0</td>\n",
       "      <td>0</td>\n",
       "      <td>0</td>\n",
       "      <td>0</td>\n",
       "      <td>0</td>\n",
       "      <td>0</td>\n",
       "      <td>...</td>\n",
       "      <td>44671</td>\n",
       "      <td>44671</td>\n",
       "      <td>44671</td>\n",
       "      <td>44671</td>\n",
       "      <td>44671</td>\n",
       "      <td>44671</td>\n",
       "      <td>44671</td>\n",
       "      <td>45061</td>\n",
       "      <td>45061</td>\n",
       "      <td>45061</td>\n",
       "    </tr>\n",
       "    <tr>\n",
       "      <th>Angola</th>\n",
       "      <td>-11.20270</td>\n",
       "      <td>17.873900</td>\n",
       "      <td>0</td>\n",
       "      <td>0</td>\n",
       "      <td>0</td>\n",
       "      <td>0</td>\n",
       "      <td>0</td>\n",
       "      <td>0</td>\n",
       "      <td>0</td>\n",
       "      <td>0</td>\n",
       "      <td>...</td>\n",
       "      <td>101320</td>\n",
       "      <td>101320</td>\n",
       "      <td>101320</td>\n",
       "      <td>101600</td>\n",
       "      <td>101901</td>\n",
       "      <td>101901</td>\n",
       "      <td>101901</td>\n",
       "      <td>102209</td>\n",
       "      <td>102209</td>\n",
       "      <td>102209</td>\n",
       "    </tr>\n",
       "  </tbody>\n",
       "</table>\n",
       "<p>5 rows × 913 columns</p>\n",
       "</div>"
      ],
      "text/plain": [
       "                     Lat       Long  1/22/20  1/23/20  1/24/20  1/25/20  \\\n",
       "Country/Region                                                            \n",
       "Afghanistan     33.93911  67.709953        0        0        0        0   \n",
       "Albania         41.15330  20.168300        0        0        0        0   \n",
       "Algeria         28.03390   1.659600        0        0        0        0   \n",
       "Andorra         42.50630   1.521800        0        0        0        0   \n",
       "Angola         -11.20270  17.873900        0        0        0        0   \n",
       "\n",
       "                1/26/20  1/27/20  1/28/20  1/29/20  ...  7/11/22  7/12/22  \\\n",
       "Country/Region                                      ...                     \n",
       "Afghanistan           0        0        0        0  ...   183268   183272   \n",
       "Albania               0        0        0        0  ...   288176   289391   \n",
       "Algeria               0        0        0        0  ...   266274   266303   \n",
       "Andorra               0        0        0        0  ...    44671    44671   \n",
       "Angola                0        0        0        0  ...   101320   101320   \n",
       "\n",
       "                7/13/22  7/14/22  7/15/22  7/16/22  7/17/22  7/18/22  7/19/22  \\\n",
       "Country/Region                                                                  \n",
       "Afghanistan      183285   183358   183407   183445   183572   183687   183908   \n",
       "Albania          290954   290954   293917   293917   293917   293917   293917   \n",
       "Algeria          266328   266356   266392   266424   266445   266487   266542   \n",
       "Andorra           44671    44671    44671    44671    44671    45061    45061   \n",
       "Angola           101320   101600   101901   101901   101901   102209   102209   \n",
       "\n",
       "                7/20/22  \n",
       "Country/Region           \n",
       "Afghanistan      184038  \n",
       "Albania          293917  \n",
       "Algeria          266591  \n",
       "Andorra           45061  \n",
       "Angola           102209  \n",
       "\n",
       "[5 rows x 913 columns]"
      ]
     },
     "execution_count": 98,
     "metadata": {},
     "output_type": "execute_result"
    }
   ],
   "source": [
    "confirmed_by_country = confirmed.groupby(\"Country/Region\").sum()\n",
    "confirmed_by_country.head()"
   ]
  },
  {
   "cell_type": "code",
   "execution_count": 99,
   "metadata": {
    "colab": {
     "base_uri": "https://localhost:8080/",
     "height": 393
    },
    "colab_type": "code",
    "id": "gEK8hkqzi7BS",
    "outputId": "20c6dc49-47c0-4864-a755-1f9c58e65f9b"
   },
   "outputs": [
    {
     "data": {
      "text/html": [
       "<div>\n",
       "<style scoped>\n",
       "    .dataframe tbody tr th:only-of-type {\n",
       "        vertical-align: middle;\n",
       "    }\n",
       "\n",
       "    .dataframe tbody tr th {\n",
       "        vertical-align: top;\n",
       "    }\n",
       "\n",
       "    .dataframe thead th {\n",
       "        text-align: right;\n",
       "    }\n",
       "</style>\n",
       "<table border=\"1\" class=\"dataframe\">\n",
       "  <thead>\n",
       "    <tr style=\"text-align: right;\">\n",
       "      <th></th>\n",
       "      <th>Lat</th>\n",
       "      <th>Long</th>\n",
       "      <th>1/22/20</th>\n",
       "      <th>1/23/20</th>\n",
       "      <th>1/24/20</th>\n",
       "      <th>1/25/20</th>\n",
       "      <th>1/26/20</th>\n",
       "      <th>1/27/20</th>\n",
       "      <th>1/28/20</th>\n",
       "      <th>1/29/20</th>\n",
       "      <th>...</th>\n",
       "      <th>7/11/22</th>\n",
       "      <th>7/12/22</th>\n",
       "      <th>7/13/22</th>\n",
       "      <th>7/14/22</th>\n",
       "      <th>7/15/22</th>\n",
       "      <th>7/16/22</th>\n",
       "      <th>7/17/22</th>\n",
       "      <th>7/18/22</th>\n",
       "      <th>7/19/22</th>\n",
       "      <th>7/20/22</th>\n",
       "    </tr>\n",
       "    <tr>\n",
       "      <th>Country/Region</th>\n",
       "      <th></th>\n",
       "      <th></th>\n",
       "      <th></th>\n",
       "      <th></th>\n",
       "      <th></th>\n",
       "      <th></th>\n",
       "      <th></th>\n",
       "      <th></th>\n",
       "      <th></th>\n",
       "      <th></th>\n",
       "      <th></th>\n",
       "      <th></th>\n",
       "      <th></th>\n",
       "      <th></th>\n",
       "      <th></th>\n",
       "      <th></th>\n",
       "      <th></th>\n",
       "      <th></th>\n",
       "      <th></th>\n",
       "      <th></th>\n",
       "      <th></th>\n",
       "    </tr>\n",
       "  </thead>\n",
       "  <tbody>\n",
       "    <tr>\n",
       "      <th>Brazil</th>\n",
       "      <td>-14.235000</td>\n",
       "      <td>-51.925300</td>\n",
       "      <td>0</td>\n",
       "      <td>0</td>\n",
       "      <td>0</td>\n",
       "      <td>0</td>\n",
       "      <td>0</td>\n",
       "      <td>0</td>\n",
       "      <td>0</td>\n",
       "      <td>0</td>\n",
       "      <td>...</td>\n",
       "      <td>32940507</td>\n",
       "      <td>33004555</td>\n",
       "      <td>33076779</td>\n",
       "      <td>33142158</td>\n",
       "      <td>33250117</td>\n",
       "      <td>33290266</td>\n",
       "      <td>33301118</td>\n",
       "      <td>33339815</td>\n",
       "      <td>33397814</td>\n",
       "      <td>33454294</td>\n",
       "    </tr>\n",
       "    <tr>\n",
       "      <th>Norway</th>\n",
       "      <td>60.472000</td>\n",
       "      <td>8.468900</td>\n",
       "      <td>0</td>\n",
       "      <td>0</td>\n",
       "      <td>0</td>\n",
       "      <td>0</td>\n",
       "      <td>0</td>\n",
       "      <td>0</td>\n",
       "      <td>0</td>\n",
       "      <td>0</td>\n",
       "      <td>...</td>\n",
       "      <td>1451104</td>\n",
       "      <td>1451515</td>\n",
       "      <td>1451854</td>\n",
       "      <td>1452176</td>\n",
       "      <td>1452521</td>\n",
       "      <td>1452668</td>\n",
       "      <td>1452755</td>\n",
       "      <td>1453071</td>\n",
       "      <td>1453430</td>\n",
       "      <td>1453714</td>\n",
       "    </tr>\n",
       "    <tr>\n",
       "      <th>Haiti</th>\n",
       "      <td>18.971200</td>\n",
       "      <td>-72.285200</td>\n",
       "      <td>0</td>\n",
       "      <td>0</td>\n",
       "      <td>0</td>\n",
       "      <td>0</td>\n",
       "      <td>0</td>\n",
       "      <td>0</td>\n",
       "      <td>0</td>\n",
       "      <td>0</td>\n",
       "      <td>...</td>\n",
       "      <td>31908</td>\n",
       "      <td>31980</td>\n",
       "      <td>31980</td>\n",
       "      <td>32070</td>\n",
       "      <td>32070</td>\n",
       "      <td>32103</td>\n",
       "      <td>32103</td>\n",
       "      <td>32103</td>\n",
       "      <td>32103</td>\n",
       "      <td>32131</td>\n",
       "    </tr>\n",
       "    <tr>\n",
       "      <th>Central African Republic</th>\n",
       "      <td>6.611100</td>\n",
       "      <td>20.939400</td>\n",
       "      <td>0</td>\n",
       "      <td>0</td>\n",
       "      <td>0</td>\n",
       "      <td>0</td>\n",
       "      <td>0</td>\n",
       "      <td>0</td>\n",
       "      <td>0</td>\n",
       "      <td>0</td>\n",
       "      <td>...</td>\n",
       "      <td>14675</td>\n",
       "      <td>14712</td>\n",
       "      <td>14712</td>\n",
       "      <td>14712</td>\n",
       "      <td>14712</td>\n",
       "      <td>14712</td>\n",
       "      <td>14712</td>\n",
       "      <td>14712</td>\n",
       "      <td>14712</td>\n",
       "      <td>14712</td>\n",
       "    </tr>\n",
       "    <tr>\n",
       "      <th>Albania</th>\n",
       "      <td>41.153300</td>\n",
       "      <td>20.168300</td>\n",
       "      <td>0</td>\n",
       "      <td>0</td>\n",
       "      <td>0</td>\n",
       "      <td>0</td>\n",
       "      <td>0</td>\n",
       "      <td>0</td>\n",
       "      <td>0</td>\n",
       "      <td>0</td>\n",
       "      <td>...</td>\n",
       "      <td>288176</td>\n",
       "      <td>289391</td>\n",
       "      <td>290954</td>\n",
       "      <td>290954</td>\n",
       "      <td>293917</td>\n",
       "      <td>293917</td>\n",
       "      <td>293917</td>\n",
       "      <td>293917</td>\n",
       "      <td>293917</td>\n",
       "      <td>293917</td>\n",
       "    </tr>\n",
       "    <tr>\n",
       "      <th>Summer Olympics 2020</th>\n",
       "      <td>35.649100</td>\n",
       "      <td>139.773700</td>\n",
       "      <td>0</td>\n",
       "      <td>0</td>\n",
       "      <td>0</td>\n",
       "      <td>0</td>\n",
       "      <td>0</td>\n",
       "      <td>0</td>\n",
       "      <td>0</td>\n",
       "      <td>0</td>\n",
       "      <td>...</td>\n",
       "      <td>865</td>\n",
       "      <td>865</td>\n",
       "      <td>865</td>\n",
       "      <td>865</td>\n",
       "      <td>865</td>\n",
       "      <td>865</td>\n",
       "      <td>865</td>\n",
       "      <td>865</td>\n",
       "      <td>865</td>\n",
       "      <td>865</td>\n",
       "    </tr>\n",
       "    <tr>\n",
       "      <th>Laos</th>\n",
       "      <td>19.856270</td>\n",
       "      <td>102.495496</td>\n",
       "      <td>0</td>\n",
       "      <td>0</td>\n",
       "      <td>0</td>\n",
       "      <td>0</td>\n",
       "      <td>0</td>\n",
       "      <td>0</td>\n",
       "      <td>0</td>\n",
       "      <td>0</td>\n",
       "      <td>...</td>\n",
       "      <td>210375</td>\n",
       "      <td>210386</td>\n",
       "      <td>210401</td>\n",
       "      <td>210433</td>\n",
       "      <td>210462</td>\n",
       "      <td>210510</td>\n",
       "      <td>210528</td>\n",
       "      <td>210546</td>\n",
       "      <td>210592</td>\n",
       "      <td>210638</td>\n",
       "    </tr>\n",
       "    <tr>\n",
       "      <th>Malawi</th>\n",
       "      <td>-13.254300</td>\n",
       "      <td>34.301500</td>\n",
       "      <td>0</td>\n",
       "      <td>0</td>\n",
       "      <td>0</td>\n",
       "      <td>0</td>\n",
       "      <td>0</td>\n",
       "      <td>0</td>\n",
       "      <td>0</td>\n",
       "      <td>0</td>\n",
       "      <td>...</td>\n",
       "      <td>86750</td>\n",
       "      <td>86799</td>\n",
       "      <td>86823</td>\n",
       "      <td>86823</td>\n",
       "      <td>86900</td>\n",
       "      <td>86900</td>\n",
       "      <td>86931</td>\n",
       "      <td>86968</td>\n",
       "      <td>86968</td>\n",
       "      <td>87105</td>\n",
       "    </tr>\n",
       "    <tr>\n",
       "      <th>Iraq</th>\n",
       "      <td>33.223191</td>\n",
       "      <td>43.679291</td>\n",
       "      <td>0</td>\n",
       "      <td>0</td>\n",
       "      <td>0</td>\n",
       "      <td>0</td>\n",
       "      <td>0</td>\n",
       "      <td>0</td>\n",
       "      <td>0</td>\n",
       "      <td>0</td>\n",
       "      <td>...</td>\n",
       "      <td>2388414</td>\n",
       "      <td>2390684</td>\n",
       "      <td>2393726</td>\n",
       "      <td>2396707</td>\n",
       "      <td>2399795</td>\n",
       "      <td>2402311</td>\n",
       "      <td>2405186</td>\n",
       "      <td>2409641</td>\n",
       "      <td>2413472</td>\n",
       "      <td>2417719</td>\n",
       "    </tr>\n",
       "    <tr>\n",
       "      <th>Congo (Kinshasa)</th>\n",
       "      <td>-4.038300</td>\n",
       "      <td>21.758700</td>\n",
       "      <td>0</td>\n",
       "      <td>0</td>\n",
       "      <td>0</td>\n",
       "      <td>0</td>\n",
       "      <td>0</td>\n",
       "      <td>0</td>\n",
       "      <td>0</td>\n",
       "      <td>0</td>\n",
       "      <td>...</td>\n",
       "      <td>91737</td>\n",
       "      <td>91737</td>\n",
       "      <td>91737</td>\n",
       "      <td>91737</td>\n",
       "      <td>91737</td>\n",
       "      <td>91737</td>\n",
       "      <td>91737</td>\n",
       "      <td>91737</td>\n",
       "      <td>91928</td>\n",
       "      <td>91928</td>\n",
       "    </tr>\n",
       "  </tbody>\n",
       "</table>\n",
       "<p>10 rows × 913 columns</p>\n",
       "</div>"
      ],
      "text/plain": [
       "                                Lat        Long  1/22/20  1/23/20  1/24/20  \\\n",
       "Country/Region                                                               \n",
       "Brazil                   -14.235000  -51.925300        0        0        0   \n",
       "Norway                    60.472000    8.468900        0        0        0   \n",
       "Haiti                     18.971200  -72.285200        0        0        0   \n",
       "Central African Republic   6.611100   20.939400        0        0        0   \n",
       "Albania                   41.153300   20.168300        0        0        0   \n",
       "Summer Olympics 2020      35.649100  139.773700        0        0        0   \n",
       "Laos                      19.856270  102.495496        0        0        0   \n",
       "Malawi                   -13.254300   34.301500        0        0        0   \n",
       "Iraq                      33.223191   43.679291        0        0        0   \n",
       "Congo (Kinshasa)          -4.038300   21.758700        0        0        0   \n",
       "\n",
       "                          1/25/20  1/26/20  1/27/20  1/28/20  1/29/20  ...  \\\n",
       "Country/Region                                                         ...   \n",
       "Brazil                          0        0        0        0        0  ...   \n",
       "Norway                          0        0        0        0        0  ...   \n",
       "Haiti                           0        0        0        0        0  ...   \n",
       "Central African Republic        0        0        0        0        0  ...   \n",
       "Albania                         0        0        0        0        0  ...   \n",
       "Summer Olympics 2020            0        0        0        0        0  ...   \n",
       "Laos                            0        0        0        0        0  ...   \n",
       "Malawi                          0        0        0        0        0  ...   \n",
       "Iraq                            0        0        0        0        0  ...   \n",
       "Congo (Kinshasa)                0        0        0        0        0  ...   \n",
       "\n",
       "                           7/11/22   7/12/22   7/13/22   7/14/22   7/15/22  \\\n",
       "Country/Region                                                               \n",
       "Brazil                    32940507  33004555  33076779  33142158  33250117   \n",
       "Norway                     1451104   1451515   1451854   1452176   1452521   \n",
       "Haiti                        31908     31980     31980     32070     32070   \n",
       "Central African Republic     14675     14712     14712     14712     14712   \n",
       "Albania                     288176    289391    290954    290954    293917   \n",
       "Summer Olympics 2020           865       865       865       865       865   \n",
       "Laos                        210375    210386    210401    210433    210462   \n",
       "Malawi                       86750     86799     86823     86823     86900   \n",
       "Iraq                       2388414   2390684   2393726   2396707   2399795   \n",
       "Congo (Kinshasa)             91737     91737     91737     91737     91737   \n",
       "\n",
       "                           7/16/22   7/17/22   7/18/22   7/19/22   7/20/22  \n",
       "Country/Region                                                              \n",
       "Brazil                    33290266  33301118  33339815  33397814  33454294  \n",
       "Norway                     1452668   1452755   1453071   1453430   1453714  \n",
       "Haiti                        32103     32103     32103     32103     32131  \n",
       "Central African Republic     14712     14712     14712     14712     14712  \n",
       "Albania                     293917    293917    293917    293917    293917  \n",
       "Summer Olympics 2020           865       865       865       865       865  \n",
       "Laos                        210510    210528    210546    210592    210638  \n",
       "Malawi                       86900     86931     86968     86968     87105  \n",
       "Iraq                       2402311   2405186   2409641   2413472   2417719  \n",
       "Congo (Kinshasa)             91737     91737     91737     91928     91928  \n",
       "\n",
       "[10 rows x 913 columns]"
      ]
     },
     "execution_count": 99,
     "metadata": {},
     "output_type": "execute_result"
    }
   ],
   "source": [
    "confirmed_by_country.sample(10)"
   ]
  },
  {
   "cell_type": "code",
   "execution_count": 100,
   "metadata": {
    "colab": {
     "base_uri": "https://localhost:8080/",
     "height": 722
    },
    "colab_type": "code",
    "id": "ZWSAWTEWjImg",
    "outputId": "aab10ed5-4dcc-4f5e-b9d5-fe3ba68c9ce6"
   },
   "outputs": [
    {
     "data": {
      "text/plain": [
       "1/22/20          0.0\n",
       "1/23/20          0.0\n",
       "1/24/20          0.0\n",
       "1/25/20          0.0\n",
       "1/26/20          4.0\n",
       "             ...    \n",
       "7/16/22    8773487.0\n",
       "7/17/22    8811274.0\n",
       "7/18/22    8863247.0\n",
       "7/19/22    8912149.0\n",
       "7/20/22    8967138.0\n",
       "Name: Australia, Length: 911, dtype: float64"
      ]
     },
     "execution_count": 100,
     "metadata": {},
     "output_type": "execute_result"
    }
   ],
   "source": [
    "confirmed_by_country.loc[\"Australia\"][2:]"
   ]
  },
  {
   "cell_type": "code",
   "execution_count": 101,
   "metadata": {
    "colab": {
     "base_uri": "https://localhost:8080/",
     "height": 336
    },
    "colab_type": "code",
    "id": "beiHbO2wjRaR",
    "outputId": "9f022255-dddb-4474-dc3d-5a02cfe7b7f8"
   },
   "outputs": [
    {
     "data": {
      "image/png": "[encoded data removed]",
      "text/plain": [
       "<Figure size 144x360 with 1 Axes>"
      ]
     },
     "metadata": {
      "needs_background": "light"
     },
     "output_type": "display_data"
    }
   ],
   "source": [
    "import matplotlib.pyplot as plt\n",
    "\n",
    "# gráfico extremamente apertado\n",
    "# estamos sendo longe do adequado ao passar uma mensagem errada\n",
    "\n",
    "plt.figure(figsize=(2,5))\n",
    "confirmed_by_country.loc[\"Australia\"][2:].plot()\n",
    "plt.title(\"Casos confirmados na 'Australia'\")\n",
    "plt.show()"
   ]
  },
  {
   "cell_type": "markdown",
   "metadata": {
    "colab_type": "text",
    "id": "54Y3cU0iIKCL"
   },
   "source": [
    "Nos últimos 20 dias desses dados, DOBROU os casos confirmados\n"
   ]
  },
  {
   "cell_type": "code",
   "execution_count": 102,
   "metadata": {
    "colab": {
     "base_uri": "https://localhost:8080/",
     "height": 336
    },
    "colab_type": "code",
    "id": "kYsx3ckgjdRo",
    "outputId": "37181c1d-a36c-45c5-8b33-9b9280cc386d"
   },
   "outputs": [
    {
     "data": {
      "image/png": "[encoded data removed]",
      "text/plain": [
       "<Figure size 720x360 with 1 Axes>"
      ]
     },
     "metadata": {
      "needs_background": "light"
     },
     "output_type": "display_data"
    }
   ],
   "source": [
    "# por isso em data visualization é FUNDAMENTAL\n",
    "# estarmos atentos aos DOIS EIXOS\n",
    "# esse aqui esta tentando comparar o crescimento do momento inicial ao momento atual\n",
    "\n",
    "plt.figure(figsize=(10,5))\n",
    "confirmed_by_country.loc[\"Australia\"][2:].plot()\n",
    "plt.title(\"Casos confirmados na 'Australia'\")\n",
    "plt.show()"
   ]
  },
  {
   "cell_type": "code",
   "execution_count": 103,
   "metadata": {
    "colab": {
     "base_uri": "https://localhost:8080/",
     "height": 336
    },
    "colab_type": "code",
    "id": "oUNQcGBsmdto",
    "outputId": "37327d29-b2a9-4412-ce73-d6c88412c6b3"
   },
   "outputs": [
    {
     "data": {
      "image/png": "[encoded data removed]",
      "text/plain": [
       "<Figure size 720x360 with 1 Axes>"
      ]
     },
     "metadata": {
      "needs_background": "light"
     },
     "output_type": "display_data"
    }
   ],
   "source": [
    "# exemplo ruim de manusear o eixo y\n",
    "# aqui a mensagem ficou novamente diferente\n",
    "\n",
    "# esse está tentando comparar o momento inicial com 1.386bi (população da china em 2017)\n",
    "# aqui a mensagem é novamente completamente diferente\n",
    "# e pode ser uma mensagem ruim, até mesmo errada. Poderia ser uma doença grave,\n",
    "# mas ao usarmos o eixo y com a população geral, fingimos que ela nao é grave\n",
    "# sendo que na realidade ESSE gráfico não POSSUI INFORMAÇÃO NENHUMA sobre a gravidade\n",
    "# da doença\n",
    "\n",
    "# Por quê? Só tem casos confirmados. Não fala letalidade? Não fala incidência?\n",
    "# Quais são as províncias infectadas? São de toda a Australia? E estou comparando com a\n",
    "# população de toda a Australia. errado.\n",
    "\n",
    "plt.figure(figsize=(10,5))\n",
    "confirmed_by_country.loc[\"Australia\"][2:].plot()\n",
    "plt.title(\"Gráfico errado. Passa uma mensagem errada com comparações injustas.\")\n",
    "plt.ylim(0, 1386000000)\n",
    "plt.show()"
   ]
  },
  {
   "cell_type": "code",
   "execution_count": 104,
   "metadata": {
    "colab": {
     "base_uri": "https://localhost:8080/",
     "height": 353
    },
    "colab_type": "code",
    "id": "enyofh-Gm_fb",
    "outputId": "399780b9-8058-48c3-edd8-ee015e2bf980"
   },
   "outputs": [
    {
     "data": {
      "image/png": "[encoded data removed]",
      "text/plain": [
       "<Figure size 720x360 with 1 Axes>"
      ]
     },
     "metadata": {
      "needs_background": "light"
     },
     "output_type": "display_data"
    }
   ],
   "source": [
    "plt.figure(figsize=(10,5))\n",
    "plt.title(\"Casos novos na 'Australia'\")\n",
    "new_cases_mainland_china = confirmed_by_country.loc[\"Australia\"][2:].diff().dropna()\n",
    "new_cases_mainland_china.plot();"
   ]
  },
  {
   "cell_type": "code",
   "execution_count": 105,
   "metadata": {
    "colab": {
     "base_uri": "https://localhost:8080/",
     "height": 367
    },
    "colab_type": "code",
    "id": "Z51g5cR7pETn",
    "outputId": "46830e09-2ed4-4d0b-cd39-509da967a566"
   },
   "outputs": [
    {
     "data": {
      "image/png": "[encoded data removed]",
      "text/plain": [
       "<Figure size 720x360 with 1 Axes>"
      ]
     },
     "metadata": {
      "needs_background": "light"
     },
     "output_type": "display_data"
    }
   ],
   "source": [
    "plt.figure(figsize=(10,5))\n",
    "\n",
    "confirmed_by_country[last_date].plot()\n",
    "plt.title(\"Confirmados por país\");"
   ]
  },
  {
   "cell_type": "code",
   "execution_count": 106,
   "metadata": {
    "colab": {
     "base_uri": "https://localhost:8080/",
     "height": 319
    },
    "colab_type": "code",
    "id": "xhMANfODq0pF",
    "outputId": "29037561-c759-4222-d710-c2943a747a23"
   },
   "outputs": [
    {
     "data": {
      "image/png": "[encoded data removed]",
      "text/plain": [
       "<Figure size 720x360 with 1 Axes>"
      ]
     },
     "metadata": {},
     "output_type": "display_data"
    }
   ],
   "source": [
    "plt.figure(figsize=(10,5))\n",
    "\n",
    "# 99.99% das vezes não devemos usar grafico de pizza e torta\n",
    "\n",
    "# 1. muitas categorias, inviável\n",
    "# 2. poucas categorias, a comparação é de área\n",
    "\n",
    "\n",
    "confirmed_by_country[last_date].plot(kind='pie')\n",
    "plt.title(\"Confirmados por país\")\n",
    "plt.show()"
   ]
  },
  {
   "cell_type": "code",
   "execution_count": 107,
   "metadata": {
    "colab": {
     "base_uri": "https://localhost:8080/",
     "height": 447
    },
    "colab_type": "code",
    "id": "4KEqaX9nr5lU",
    "outputId": "5805bdb7-5570-460c-8f13-e2dcdf88e80b"
   },
   "outputs": [
    {
     "data": {
      "image/png": "[encoded data removed]",
      "text/plain": [
       "<Figure size 1800x360 with 1 Axes>"
      ]
     },
     "metadata": {
      "needs_background": "light"
     },
     "output_type": "display_data"
    }
   ],
   "source": [
    "plt.figure(figsize=(25,5))\n",
    "\n",
    "confirmed_by_country[last_date].plot(kind='bar')\n",
    "plt.title(\"Confirmados por país\")\n",
    "plt.show()"
   ]
  },
  {
   "cell_type": "code",
   "execution_count": 108,
   "metadata": {
    "colab": {
     "base_uri": "https://localhost:8080/",
     "height": 447
    },
    "colab_type": "code",
    "id": "fKlZ1QgJsobU",
    "outputId": "ca23821a-bf6b-4007-cb36-a66f750a5e93"
   },
   "outputs": [
    {
     "data": {
      "image/png": "[encoded data removed]",
      "text/plain": [
       "<Figure size 1800x360 with 1 Axes>"
      ]
     },
     "metadata": {
      "needs_background": "light"
     },
     "output_type": "display_data"
    }
   ],
   "source": [
    "plt.figure(figsize=(25,5))\n",
    "\n",
    "confirmed_by_country[last_date].sort_values(ascending=False).plot(kind='bar')\n",
    "plt.title(\"Confirmados por país\")\n",
    "plt.show()"
   ]
  },
  {
   "cell_type": "code",
   "execution_count": 35,
   "metadata": {
    "colab": {
     "base_uri": "https://localhost:8080/",
     "height": 417
    },
    "colab_type": "code",
    "id": "tNUnL83is0HI",
    "outputId": "0931b2f9-c9a0-4e0e-9373-f0499e1dc621"
   },
   "outputs": [
    {
     "data": {
      "image/png": "[encoded data removed]",
      "text/plain": [
       "<Figure size 720x360 with 1 Axes>"
      ]
     },
     "metadata": {
      "needs_background": "light"
     },
     "output_type": "display_data"
    }
   ],
   "source": [
    "plt.figure(figsize=(10,5))\n",
    "\n",
    "confirmed_by_country[last_date].sort_values(ascending=False)[:10].plot(kind='bar')\n",
    "plt.title(\"Confirmados por país\")\n",
    "plt.show()"
   ]
  },
  {
   "cell_type": "code",
   "execution_count": 109,
   "metadata": {
    "colab": {
     "base_uri": "https://localhost:8080/",
     "height": 401
    },
    "colab_type": "code",
    "id": "Dgh4czZCtFT3",
    "outputId": "3aee3f0d-2bb5-4d9b-d3b7-4010a505e03a"
   },
   "outputs": [
    {
     "data": {
      "image/png": "[encoded data removed]",
      "text/plain": [
       "<Figure size 720x360 with 1 Axes>"
      ]
     },
     "metadata": {
      "needs_background": "light"
     },
     "output_type": "display_data"
    }
   ],
   "source": [
    "plt.figure(figsize=(10,5))\n",
    "\n",
    "confirmed_by_country[last_date].sort_values(ascending=False)[1:10].plot(kind='bar')\n",
    "plt.title(\"Confirmados por país\")\n",
    "plt.show()\n",
    "\n",
    "# Lembrando que existe um vício aqui, pois paises que não testaram indivíduos\n",
    "# podem sim ter casos ocorrendo, mas não confirmados ainda."
   ]
  },
  {
   "cell_type": "code",
   "execution_count": 110,
   "metadata": {
    "colab": {
     "base_uri": "https://localhost:8080/",
     "height": 394
    },
    "colab_type": "code",
    "id": "FEK-ZH3atS4P",
    "outputId": "4a4d1700-c395-4fd5-acfa-68519994623a"
   },
   "outputs": [
    {
     "data": {
      "text/html": [
       "<div>\n",
       "<style scoped>\n",
       "    .dataframe tbody tr th:only-of-type {\n",
       "        vertical-align: middle;\n",
       "    }\n",
       "\n",
       "    .dataframe tbody tr th {\n",
       "        vertical-align: top;\n",
       "    }\n",
       "\n",
       "    .dataframe thead th {\n",
       "        text-align: right;\n",
       "    }\n",
       "</style>\n",
       "<table border=\"1\" class=\"dataframe\">\n",
       "  <thead>\n",
       "    <tr style=\"text-align: right;\">\n",
       "      <th></th>\n",
       "      <th>Province/State</th>\n",
       "      <th>Country/Region</th>\n",
       "      <th>Lat</th>\n",
       "      <th>Long</th>\n",
       "      <th>1/22/20</th>\n",
       "      <th>1/23/20</th>\n",
       "      <th>1/24/20</th>\n",
       "      <th>1/25/20</th>\n",
       "      <th>1/26/20</th>\n",
       "      <th>1/27/20</th>\n",
       "      <th>...</th>\n",
       "      <th>7/11/22</th>\n",
       "      <th>7/12/22</th>\n",
       "      <th>7/13/22</th>\n",
       "      <th>7/14/22</th>\n",
       "      <th>7/15/22</th>\n",
       "      <th>7/16/22</th>\n",
       "      <th>7/17/22</th>\n",
       "      <th>7/18/22</th>\n",
       "      <th>7/19/22</th>\n",
       "      <th>7/20/22</th>\n",
       "    </tr>\n",
       "  </thead>\n",
       "  <tbody>\n",
       "    <tr>\n",
       "      <th>0</th>\n",
       "      <td>NaN</td>\n",
       "      <td>Afghanistan</td>\n",
       "      <td>33.93911</td>\n",
       "      <td>67.709953</td>\n",
       "      <td>0</td>\n",
       "      <td>0</td>\n",
       "      <td>0</td>\n",
       "      <td>0</td>\n",
       "      <td>0</td>\n",
       "      <td>0</td>\n",
       "      <td>...</td>\n",
       "      <td>7728</td>\n",
       "      <td>7728</td>\n",
       "      <td>7728</td>\n",
       "      <td>7728</td>\n",
       "      <td>7729</td>\n",
       "      <td>7730</td>\n",
       "      <td>7731</td>\n",
       "      <td>7733</td>\n",
       "      <td>7736</td>\n",
       "      <td>7737</td>\n",
       "    </tr>\n",
       "    <tr>\n",
       "      <th>1</th>\n",
       "      <td>NaN</td>\n",
       "      <td>Albania</td>\n",
       "      <td>41.15330</td>\n",
       "      <td>20.168300</td>\n",
       "      <td>0</td>\n",
       "      <td>0</td>\n",
       "      <td>0</td>\n",
       "      <td>0</td>\n",
       "      <td>0</td>\n",
       "      <td>0</td>\n",
       "      <td>...</td>\n",
       "      <td>3514</td>\n",
       "      <td>3516</td>\n",
       "      <td>3517</td>\n",
       "      <td>3517</td>\n",
       "      <td>3517</td>\n",
       "      <td>3517</td>\n",
       "      <td>3517</td>\n",
       "      <td>3517</td>\n",
       "      <td>3517</td>\n",
       "      <td>3517</td>\n",
       "    </tr>\n",
       "    <tr>\n",
       "      <th>2</th>\n",
       "      <td>NaN</td>\n",
       "      <td>Algeria</td>\n",
       "      <td>28.03390</td>\n",
       "      <td>1.659600</td>\n",
       "      <td>0</td>\n",
       "      <td>0</td>\n",
       "      <td>0</td>\n",
       "      <td>0</td>\n",
       "      <td>0</td>\n",
       "      <td>0</td>\n",
       "      <td>...</td>\n",
       "      <td>6875</td>\n",
       "      <td>6875</td>\n",
       "      <td>6875</td>\n",
       "      <td>6875</td>\n",
       "      <td>6875</td>\n",
       "      <td>6875</td>\n",
       "      <td>6875</td>\n",
       "      <td>6875</td>\n",
       "      <td>6875</td>\n",
       "      <td>6875</td>\n",
       "    </tr>\n",
       "    <tr>\n",
       "      <th>3</th>\n",
       "      <td>NaN</td>\n",
       "      <td>Andorra</td>\n",
       "      <td>42.50630</td>\n",
       "      <td>1.521800</td>\n",
       "      <td>0</td>\n",
       "      <td>0</td>\n",
       "      <td>0</td>\n",
       "      <td>0</td>\n",
       "      <td>0</td>\n",
       "      <td>0</td>\n",
       "      <td>...</td>\n",
       "      <td>153</td>\n",
       "      <td>153</td>\n",
       "      <td>153</td>\n",
       "      <td>153</td>\n",
       "      <td>153</td>\n",
       "      <td>153</td>\n",
       "      <td>153</td>\n",
       "      <td>153</td>\n",
       "      <td>153</td>\n",
       "      <td>153</td>\n",
       "    </tr>\n",
       "    <tr>\n",
       "      <th>4</th>\n",
       "      <td>NaN</td>\n",
       "      <td>Angola</td>\n",
       "      <td>-11.20270</td>\n",
       "      <td>17.873900</td>\n",
       "      <td>0</td>\n",
       "      <td>0</td>\n",
       "      <td>0</td>\n",
       "      <td>0</td>\n",
       "      <td>0</td>\n",
       "      <td>0</td>\n",
       "      <td>...</td>\n",
       "      <td>1900</td>\n",
       "      <td>1900</td>\n",
       "      <td>1900</td>\n",
       "      <td>1900</td>\n",
       "      <td>1909</td>\n",
       "      <td>1909</td>\n",
       "      <td>1909</td>\n",
       "      <td>1912</td>\n",
       "      <td>1912</td>\n",
       "      <td>1912</td>\n",
       "    </tr>\n",
       "  </tbody>\n",
       "</table>\n",
       "<p>5 rows × 915 columns</p>\n",
       "</div>"
      ],
      "text/plain": [
       "  Province/State Country/Region       Lat       Long  1/22/20  1/23/20  \\\n",
       "0            NaN    Afghanistan  33.93911  67.709953        0        0   \n",
       "1            NaN        Albania  41.15330  20.168300        0        0   \n",
       "2            NaN        Algeria  28.03390   1.659600        0        0   \n",
       "3            NaN        Andorra  42.50630   1.521800        0        0   \n",
       "4            NaN         Angola -11.20270  17.873900        0        0   \n",
       "\n",
       "   1/24/20  1/25/20  1/26/20  1/27/20  ...  7/11/22  7/12/22  7/13/22  \\\n",
       "0        0        0        0        0  ...     7728     7728     7728   \n",
       "1        0        0        0        0  ...     3514     3516     3517   \n",
       "2        0        0        0        0  ...     6875     6875     6875   \n",
       "3        0        0        0        0  ...      153      153      153   \n",
       "4        0        0        0        0  ...     1900     1900     1900   \n",
       "\n",
       "   7/14/22  7/15/22  7/16/22  7/17/22  7/18/22  7/19/22  7/20/22  \n",
       "0     7728     7729     7730     7731     7733     7736     7737  \n",
       "1     3517     3517     3517     3517     3517     3517     3517  \n",
       "2     6875     6875     6875     6875     6875     6875     6875  \n",
       "3      153      153      153      153      153      153      153  \n",
       "4     1900     1909     1909     1909     1912     1912     1912  \n",
       "\n",
       "[5 rows x 915 columns]"
      ]
     },
     "metadata": {},
     "output_type": "display_data"
    },
    {
     "data": {
      "text/html": [
       "<div>\n",
       "<style scoped>\n",
       "    .dataframe tbody tr th:only-of-type {\n",
       "        vertical-align: middle;\n",
       "    }\n",
       "\n",
       "    .dataframe tbody tr th {\n",
       "        vertical-align: top;\n",
       "    }\n",
       "\n",
       "    .dataframe thead th {\n",
       "        text-align: right;\n",
       "    }\n",
       "</style>\n",
       "<table border=\"1\" class=\"dataframe\">\n",
       "  <thead>\n",
       "    <tr style=\"text-align: right;\">\n",
       "      <th></th>\n",
       "      <th>Province/State</th>\n",
       "      <th>Country/Region</th>\n",
       "      <th>Lat</th>\n",
       "      <th>Long</th>\n",
       "      <th>1/22/20</th>\n",
       "      <th>1/23/20</th>\n",
       "      <th>1/24/20</th>\n",
       "      <th>1/25/20</th>\n",
       "      <th>1/26/20</th>\n",
       "      <th>1/27/20</th>\n",
       "      <th>...</th>\n",
       "      <th>7/11/22</th>\n",
       "      <th>7/12/22</th>\n",
       "      <th>7/13/22</th>\n",
       "      <th>7/14/22</th>\n",
       "      <th>7/15/22</th>\n",
       "      <th>7/16/22</th>\n",
       "      <th>7/17/22</th>\n",
       "      <th>7/18/22</th>\n",
       "      <th>7/19/22</th>\n",
       "      <th>7/20/22</th>\n",
       "    </tr>\n",
       "  </thead>\n",
       "  <tbody>\n",
       "    <tr>\n",
       "      <th>0</th>\n",
       "      <td>NaN</td>\n",
       "      <td>Afghanistan</td>\n",
       "      <td>33.93911</td>\n",
       "      <td>67.709953</td>\n",
       "      <td>0</td>\n",
       "      <td>0</td>\n",
       "      <td>0</td>\n",
       "      <td>0</td>\n",
       "      <td>0</td>\n",
       "      <td>0</td>\n",
       "      <td>...</td>\n",
       "      <td>0</td>\n",
       "      <td>0</td>\n",
       "      <td>0</td>\n",
       "      <td>0</td>\n",
       "      <td>0</td>\n",
       "      <td>0</td>\n",
       "      <td>0</td>\n",
       "      <td>0</td>\n",
       "      <td>0</td>\n",
       "      <td>0</td>\n",
       "    </tr>\n",
       "    <tr>\n",
       "      <th>1</th>\n",
       "      <td>NaN</td>\n",
       "      <td>Albania</td>\n",
       "      <td>41.15330</td>\n",
       "      <td>20.168300</td>\n",
       "      <td>0</td>\n",
       "      <td>0</td>\n",
       "      <td>0</td>\n",
       "      <td>0</td>\n",
       "      <td>0</td>\n",
       "      <td>0</td>\n",
       "      <td>...</td>\n",
       "      <td>0</td>\n",
       "      <td>0</td>\n",
       "      <td>0</td>\n",
       "      <td>0</td>\n",
       "      <td>0</td>\n",
       "      <td>0</td>\n",
       "      <td>0</td>\n",
       "      <td>0</td>\n",
       "      <td>0</td>\n",
       "      <td>0</td>\n",
       "    </tr>\n",
       "    <tr>\n",
       "      <th>2</th>\n",
       "      <td>NaN</td>\n",
       "      <td>Algeria</td>\n",
       "      <td>28.03390</td>\n",
       "      <td>1.659600</td>\n",
       "      <td>0</td>\n",
       "      <td>0</td>\n",
       "      <td>0</td>\n",
       "      <td>0</td>\n",
       "      <td>0</td>\n",
       "      <td>0</td>\n",
       "      <td>...</td>\n",
       "      <td>0</td>\n",
       "      <td>0</td>\n",
       "      <td>0</td>\n",
       "      <td>0</td>\n",
       "      <td>0</td>\n",
       "      <td>0</td>\n",
       "      <td>0</td>\n",
       "      <td>0</td>\n",
       "      <td>0</td>\n",
       "      <td>0</td>\n",
       "    </tr>\n",
       "    <tr>\n",
       "      <th>3</th>\n",
       "      <td>NaN</td>\n",
       "      <td>Andorra</td>\n",
       "      <td>42.50630</td>\n",
       "      <td>1.521800</td>\n",
       "      <td>0</td>\n",
       "      <td>0</td>\n",
       "      <td>0</td>\n",
       "      <td>0</td>\n",
       "      <td>0</td>\n",
       "      <td>0</td>\n",
       "      <td>...</td>\n",
       "      <td>0</td>\n",
       "      <td>0</td>\n",
       "      <td>0</td>\n",
       "      <td>0</td>\n",
       "      <td>0</td>\n",
       "      <td>0</td>\n",
       "      <td>0</td>\n",
       "      <td>0</td>\n",
       "      <td>0</td>\n",
       "      <td>0</td>\n",
       "    </tr>\n",
       "    <tr>\n",
       "      <th>4</th>\n",
       "      <td>NaN</td>\n",
       "      <td>Angola</td>\n",
       "      <td>-11.20270</td>\n",
       "      <td>17.873900</td>\n",
       "      <td>0</td>\n",
       "      <td>0</td>\n",
       "      <td>0</td>\n",
       "      <td>0</td>\n",
       "      <td>0</td>\n",
       "      <td>0</td>\n",
       "      <td>...</td>\n",
       "      <td>0</td>\n",
       "      <td>0</td>\n",
       "      <td>0</td>\n",
       "      <td>0</td>\n",
       "      <td>0</td>\n",
       "      <td>0</td>\n",
       "      <td>0</td>\n",
       "      <td>0</td>\n",
       "      <td>0</td>\n",
       "      <td>0</td>\n",
       "    </tr>\n",
       "  </tbody>\n",
       "</table>\n",
       "<p>5 rows × 915 columns</p>\n",
       "</div>"
      ],
      "text/plain": [
       "  Province/State Country/Region       Lat       Long  1/22/20  1/23/20  \\\n",
       "0            NaN    Afghanistan  33.93911  67.709953        0        0   \n",
       "1            NaN        Albania  41.15330  20.168300        0        0   \n",
       "2            NaN        Algeria  28.03390   1.659600        0        0   \n",
       "3            NaN        Andorra  42.50630   1.521800        0        0   \n",
       "4            NaN         Angola -11.20270  17.873900        0        0   \n",
       "\n",
       "   1/24/20  1/25/20  1/26/20  1/27/20  ...  7/11/22  7/12/22  7/13/22  \\\n",
       "0        0        0        0        0  ...        0        0        0   \n",
       "1        0        0        0        0  ...        0        0        0   \n",
       "2        0        0        0        0  ...        0        0        0   \n",
       "3        0        0        0        0  ...        0        0        0   \n",
       "4        0        0        0        0  ...        0        0        0   \n",
       "\n",
       "   7/14/22  7/15/22  7/16/22  7/17/22  7/18/22  7/19/22  7/20/22  \n",
       "0        0        0        0        0        0        0        0  \n",
       "1        0        0        0        0        0        0        0  \n",
       "2        0        0        0        0        0        0        0  \n",
       "3        0        0        0        0        0        0        0  \n",
       "4        0        0        0        0        0        0        0  \n",
       "\n",
       "[5 rows x 915 columns]"
      ]
     },
     "metadata": {},
     "output_type": "display_data"
    }
   ],
   "source": [
    "deaths = pd.read_csv(\"https://raw.githubusercontent.com/CSSEGISandData/COVID-19/master/csse_covid_19_data/csse_covid_19_time_series/time_series_covid19_deaths_global.csv\")\n",
    "recovered = pd.read_csv(\"https://raw.githubusercontent.com/CSSEGISandData/COVID-19/master/csse_covid_19_data/csse_covid_19_time_series/time_series_covid19_recovered_global.csv\")\n",
    "\n",
    "display(deaths.head())\n",
    "display(recovered.head())"
   ]
  },
  {
   "cell_type": "code",
   "execution_count": 111,
   "metadata": {
    "colab": {
     "base_uri": "https://localhost:8080/",
     "height": 370
    },
    "colab_type": "code",
    "id": "M0kwTOtOMiuO",
    "outputId": "bd6c181d-b91b-4b09-8dac-efebbb5c12b4"
   },
   "outputs": [
    {
     "data": {
      "text/plain": [
       "Country/Region\n",
       "Afghanistan    184038\n",
       "Albania        293917\n",
       "Algeria        266591\n",
       "Andorra         45061\n",
       "Angola         102209\n",
       "Name: 7/20/22, dtype: int64"
      ]
     },
     "metadata": {},
     "output_type": "display_data"
    },
    {
     "data": {
      "text/plain": [
       "Country/Region\n",
       "Afghanistan    7737\n",
       "Albania        3517\n",
       "Algeria        6875\n",
       "Andorra         153\n",
       "Angola         1912\n",
       "Name: 7/20/22, dtype: int64"
      ]
     },
     "metadata": {},
     "output_type": "display_data"
    },
    {
     "data": {
      "text/plain": [
       "Country/Region\n",
       "Afghanistan    0\n",
       "Albania        0\n",
       "Algeria        0\n",
       "Andorra        0\n",
       "Angola         0\n",
       "Name: 7/20/22, dtype: int64"
      ]
     },
     "metadata": {},
     "output_type": "display_data"
    }
   ],
   "source": [
    "def latest_by_country(data):\n",
    "    return data.groupby(\"Country/Region\").sum().iloc[:,-1]\n",
    "\n",
    "display(latest_by_country(confirmed).head())\n",
    "display(latest_by_country(deaths).head())\n",
    "display(latest_by_country(recovered).head())"
   ]
  },
  {
   "cell_type": "code",
   "execution_count": 112,
   "metadata": {
    "colab": {
     "base_uri": "https://localhost:8080/",
     "height": 225
    },
    "colab_type": "code",
    "id": "32ROBiGkNGGg",
    "outputId": "210ca26e-7d68-4b61-ecab-e570e6653b7f"
   },
   "outputs": [
    {
     "data": {
      "text/html": [
       "<div>\n",
       "<style scoped>\n",
       "    .dataframe tbody tr th:only-of-type {\n",
       "        vertical-align: middle;\n",
       "    }\n",
       "\n",
       "    .dataframe tbody tr th {\n",
       "        vertical-align: top;\n",
       "    }\n",
       "\n",
       "    .dataframe thead th {\n",
       "        text-align: right;\n",
       "    }\n",
       "</style>\n",
       "<table border=\"1\" class=\"dataframe\">\n",
       "  <thead>\n",
       "    <tr style=\"text-align: right;\">\n",
       "      <th></th>\n",
       "      <th>confirmed</th>\n",
       "      <th>deaths</th>\n",
       "      <th>recovered</th>\n",
       "    </tr>\n",
       "    <tr>\n",
       "      <th>Country/Region</th>\n",
       "      <th></th>\n",
       "      <th></th>\n",
       "      <th></th>\n",
       "    </tr>\n",
       "  </thead>\n",
       "  <tbody>\n",
       "    <tr>\n",
       "      <th>Afghanistan</th>\n",
       "      <td>184038</td>\n",
       "      <td>7737</td>\n",
       "      <td>0</td>\n",
       "    </tr>\n",
       "    <tr>\n",
       "      <th>Albania</th>\n",
       "      <td>293917</td>\n",
       "      <td>3517</td>\n",
       "      <td>0</td>\n",
       "    </tr>\n",
       "    <tr>\n",
       "      <th>Algeria</th>\n",
       "      <td>266591</td>\n",
       "      <td>6875</td>\n",
       "      <td>0</td>\n",
       "    </tr>\n",
       "    <tr>\n",
       "      <th>Andorra</th>\n",
       "      <td>45061</td>\n",
       "      <td>153</td>\n",
       "      <td>0</td>\n",
       "    </tr>\n",
       "    <tr>\n",
       "      <th>Angola</th>\n",
       "      <td>102209</td>\n",
       "      <td>1912</td>\n",
       "      <td>0</td>\n",
       "    </tr>\n",
       "  </tbody>\n",
       "</table>\n",
       "</div>"
      ],
      "text/plain": [
       "                confirmed  deaths  recovered\n",
       "Country/Region                              \n",
       "Afghanistan        184038    7737          0\n",
       "Albania            293917    3517          0\n",
       "Algeria            266591    6875          0\n",
       "Andorra             45061     153          0\n",
       "Angola             102209    1912          0"
      ]
     },
     "execution_count": 112,
     "metadata": {},
     "output_type": "execute_result"
    }
   ],
   "source": [
    "informations = [latest_by_country(confirmed), latest_by_country(deaths), latest_by_country(recovered)]\n",
    "combined = pd.concat(informations, axis=1)\n",
    "combined.columns = [\"confirmed\", \"deaths\", \"recovered\"]\n",
    "combined.head()"
   ]
  },
  {
   "cell_type": "code",
   "execution_count": 113,
   "metadata": {
    "colab": {},
    "colab_type": "code",
    "id": "tKIRHu-zOEnq"
   },
   "outputs": [],
   "source": [
    "# taxa de letalidade é expressa em %\n",
    "# o número de casos letais dentro dos casos que foram letais e não letais\n",
    "\n",
    "# imagine que existe uma doença e que em janeiro de 2020 afetou 100 pessoas\n",
    "# 5 pessoas morreram (por exemplo). letalidade foi de 5%.\n",
    "# não digo que ela É de 5% para sempre pq a doença continuou existindo\n",
    "\n",
    "# conclusão é MUITO difícil de falar de letalidade tentando ser preciso\n",
    "# durante uma epidemia\n",
    "\n",
    "# no começo é comum que somente casos graves sejam reportados"
   ]
  },
  {
   "cell_type": "code",
   "execution_count": 114,
   "metadata": {
    "colab": {
     "base_uri": "https://localhost:8080/",
     "height": 50
    },
    "colab_type": "code",
    "id": "BqPEKZzpP8Dq",
    "outputId": "3600fa18-97a7-45f7-eb22-2f229c197398"
   },
   "outputs": [
    {
     "name": "stdout",
     "output_type": "stream",
     "text": [
      "1.1257664983639575\n",
      "100.0\n"
     ]
    }
   ],
   "source": [
    "sum_up = combined.sum()\n",
    "letality_rate_1 = sum_up[\"deaths\"] / sum_up[\"confirmed\"]\n",
    "letality_rate_2 = sum_up[\"deaths\"] / (sum_up[\"deaths\"] + sum_up[\"recovered\"])\n",
    "print(letality_rate_1 * 100)\n",
    "print(letality_rate_2 * 100)"
   ]
  },
  {
   "cell_type": "code",
   "execution_count": 116,
   "metadata": {
    "colab": {
     "base_uri": "https://localhost:8080/",
     "height": 50
    },
    "colab_type": "code",
    "id": "fhBgxicja-I2",
    "outputId": "662b504c-b5ca-4eb7-93fe-cd8e5f633a7e"
   },
   "outputs": [
    {
     "name": "stdout",
     "output_type": "stream",
     "text": [
      "0.16166714280138425\n",
      "100.0\n"
     ]
    }
   ],
   "source": [
    "def latest_by_country_at(data, date):\n",
    "    return data.groupby(\"Country/Region\").sum()[date]\n",
    "\n",
    "\n",
    "informations = [latest_by_country_at(confirmed, '2/20/22'), latest_by_country_at(deaths, '2/20/22'), latest_by_country_at(recovered, '2/20/22')]\n",
    "combined_2_20_20 = pd.concat(informations, axis=1)\n",
    "combined_2_20_20.columns = [\"confirmed\", \"deaths\", \"recovered\"]\n",
    "\n",
    "sum_up = combined_2_20_20.loc[\"Australia\"]\n",
    "letality_rate_1 = sum_up[\"deaths\"] / sum_up[\"confirmed\"]\n",
    "letality_rate_2 = sum_up[\"deaths\"] / (sum_up[\"deaths\"] + sum_up[\"recovered\"])\n",
    "print(letality_rate_1 * 100)\n",
    "print(letality_rate_2 * 100)"
   ]
  },
  {
   "cell_type": "code",
   "execution_count": 63,
   "metadata": {
    "colab": {
     "base_uri": "https://localhost:8080/",
     "height": 84
    },
    "colab_type": "code",
    "id": "btr4elbUUdAM",
    "outputId": "4074ca01-a468-4205-e496-1aa5fda6d355"
   },
   "outputs": [
    {
     "data": {
      "text/plain": [
       "confirmed    3\n",
       "deaths       0\n",
       "recovered    3\n",
       "Name: India, dtype: int64"
      ]
     },
     "metadata": {},
     "output_type": "display_data"
    }
   ],
   "source": [
    "display(sum_up)"
   ]
  },
  {
   "cell_type": "code",
   "execution_count": 117,
   "metadata": {
    "colab": {
     "base_uri": "https://localhost:8080/",
     "height": 101
    },
    "colab_type": "code",
    "id": "Tjiw5LOHu3zl",
    "outputId": "72d313df-0021-4665-8903-96d79cf666b8"
   },
   "outputs": [
    {
     "name": "stdout",
     "output_type": "stream",
     "text": [
      "0.17532252729077077\n"
     ]
    },
    {
     "data": {
      "text/plain": [
       "confirmed    2811390\n",
       "deaths          4929\n",
       "recovered          0\n",
       "Name: Australia, dtype: int64"
      ]
     },
     "metadata": {},
     "output_type": "display_data"
    }
   ],
   "source": [
    "informations = [latest_by_country_at(confirmed, '2/8/22'), latest_by_country_at(deaths, '2/20/22'), latest_by_country_at(recovered, '2/20/22')]\n",
    "combined_12 = pd.concat(informations, axis=1)\n",
    "combined_12.columns = [\"confirmed\", \"deaths\", \"recovered\"]\n",
    "\n",
    "sum_up = combined_12.loc[\"Australia\"]\n",
    "letality_rate_3 = sum_up[\"deaths\"] / sum_up[\"confirmed\"]\n",
    "print(letality_rate_3 * 100)\n",
    "display(sum_up)"
   ]
  },
  {
   "cell_type": "code",
   "execution_count": 118,
   "metadata": {
    "colab": {
     "base_uri": "https://localhost:8080/",
     "height": 225
    },
    "colab_type": "code",
    "id": "8dGaO49zQIsz",
    "outputId": "41aefe8c-3f2c-49c0-caac-59405fe51694"
   },
   "outputs": [
    {
     "data": {
      "text/html": [
       "<div>\n",
       "<style scoped>\n",
       "    .dataframe tbody tr th:only-of-type {\n",
       "        vertical-align: middle;\n",
       "    }\n",
       "\n",
       "    .dataframe tbody tr th {\n",
       "        vertical-align: top;\n",
       "    }\n",
       "\n",
       "    .dataframe thead th {\n",
       "        text-align: right;\n",
       "    }\n",
       "</style>\n",
       "<table border=\"1\" class=\"dataframe\">\n",
       "  <thead>\n",
       "    <tr style=\"text-align: right;\">\n",
       "      <th></th>\n",
       "      <th>confirmed</th>\n",
       "      <th>deaths</th>\n",
       "      <th>recovered</th>\n",
       "      <th>letality_rate_1</th>\n",
       "      <th>letality_rate_2</th>\n",
       "    </tr>\n",
       "    <tr>\n",
       "      <th>Country/Region</th>\n",
       "      <th></th>\n",
       "      <th></th>\n",
       "      <th></th>\n",
       "      <th></th>\n",
       "      <th></th>\n",
       "    </tr>\n",
       "  </thead>\n",
       "  <tbody>\n",
       "    <tr>\n",
       "      <th>Afghanistan</th>\n",
       "      <td>184038</td>\n",
       "      <td>7737</td>\n",
       "      <td>0</td>\n",
       "      <td>4.204023</td>\n",
       "      <td>100.0</td>\n",
       "    </tr>\n",
       "    <tr>\n",
       "      <th>Albania</th>\n",
       "      <td>293917</td>\n",
       "      <td>3517</td>\n",
       "      <td>0</td>\n",
       "      <td>1.196596</td>\n",
       "      <td>100.0</td>\n",
       "    </tr>\n",
       "    <tr>\n",
       "      <th>Algeria</th>\n",
       "      <td>266591</td>\n",
       "      <td>6875</td>\n",
       "      <td>0</td>\n",
       "      <td>2.578857</td>\n",
       "      <td>100.0</td>\n",
       "    </tr>\n",
       "    <tr>\n",
       "      <th>Andorra</th>\n",
       "      <td>45061</td>\n",
       "      <td>153</td>\n",
       "      <td>0</td>\n",
       "      <td>0.339540</td>\n",
       "      <td>100.0</td>\n",
       "    </tr>\n",
       "    <tr>\n",
       "      <th>Angola</th>\n",
       "      <td>102209</td>\n",
       "      <td>1912</td>\n",
       "      <td>0</td>\n",
       "      <td>1.870677</td>\n",
       "      <td>100.0</td>\n",
       "    </tr>\n",
       "  </tbody>\n",
       "</table>\n",
       "</div>"
      ],
      "text/plain": [
       "                confirmed  deaths  recovered  letality_rate_1  letality_rate_2\n",
       "Country/Region                                                                \n",
       "Afghanistan        184038    7737          0         4.204023            100.0\n",
       "Albania            293917    3517          0         1.196596            100.0\n",
       "Algeria            266591    6875          0         2.578857            100.0\n",
       "Andorra             45061     153          0         0.339540            100.0\n",
       "Angola             102209    1912          0         1.870677            100.0"
      ]
     },
     "execution_count": 118,
     "metadata": {},
     "output_type": "execute_result"
    }
   ],
   "source": [
    "letality_rate_1 = combined[\"deaths\"] / combined[\"confirmed\"] * 100\n",
    "letality_rate_2 = combined[\"deaths\"] / (combined[\"recovered\"] + combined[\"deaths\"]) * 100\n",
    "combined[\"letality_rate_1\"] = letality_rate_1\n",
    "combined[\"letality_rate_2\"] = letality_rate_2\n",
    "combined.head()"
   ]
  },
  {
   "cell_type": "code",
   "execution_count": 119,
   "metadata": {
    "colab": {
     "base_uri": "https://localhost:8080/",
     "height": 373
    },
    "colab_type": "code",
    "id": "sVvk4OBBT8U0",
    "outputId": "c6dc1412-20d6-4124-bac3-e6610159b41c"
   },
   "outputs": [
    {
     "data": {
      "text/html": [
       "<div>\n",
       "<style scoped>\n",
       "    .dataframe tbody tr th:only-of-type {\n",
       "        vertical-align: middle;\n",
       "    }\n",
       "\n",
       "    .dataframe tbody tr th {\n",
       "        vertical-align: top;\n",
       "    }\n",
       "\n",
       "    .dataframe thead th {\n",
       "        text-align: right;\n",
       "    }\n",
       "</style>\n",
       "<table border=\"1\" class=\"dataframe\">\n",
       "  <thead>\n",
       "    <tr style=\"text-align: right;\">\n",
       "      <th></th>\n",
       "      <th>confirmed</th>\n",
       "      <th>deaths</th>\n",
       "      <th>recovered</th>\n",
       "      <th>letality_rate_1</th>\n",
       "      <th>letality_rate_2</th>\n",
       "    </tr>\n",
       "    <tr>\n",
       "      <th>Country/Region</th>\n",
       "      <th></th>\n",
       "      <th></th>\n",
       "      <th></th>\n",
       "      <th></th>\n",
       "      <th></th>\n",
       "    </tr>\n",
       "  </thead>\n",
       "  <tbody>\n",
       "    <tr>\n",
       "      <th>Korea, North</th>\n",
       "      <td>1</td>\n",
       "      <td>6</td>\n",
       "      <td>0</td>\n",
       "      <td>600.000000</td>\n",
       "      <td>100.0</td>\n",
       "    </tr>\n",
       "    <tr>\n",
       "      <th>MS Zaandam</th>\n",
       "      <td>9</td>\n",
       "      <td>2</td>\n",
       "      <td>0</td>\n",
       "      <td>22.222222</td>\n",
       "      <td>100.0</td>\n",
       "    </tr>\n",
       "    <tr>\n",
       "      <th>Yemen</th>\n",
       "      <td>11849</td>\n",
       "      <td>2149</td>\n",
       "      <td>0</td>\n",
       "      <td>18.136552</td>\n",
       "      <td>100.0</td>\n",
       "    </tr>\n",
       "    <tr>\n",
       "      <th>Sudan</th>\n",
       "      <td>62914</td>\n",
       "      <td>4955</td>\n",
       "      <td>0</td>\n",
       "      <td>7.875830</td>\n",
       "      <td>100.0</td>\n",
       "    </tr>\n",
       "    <tr>\n",
       "      <th>Peru</th>\n",
       "      <td>3787887</td>\n",
       "      <td>213894</td>\n",
       "      <td>0</td>\n",
       "      <td>5.646789</td>\n",
       "      <td>100.0</td>\n",
       "    </tr>\n",
       "    <tr>\n",
       "      <th>Syria</th>\n",
       "      <td>56027</td>\n",
       "      <td>3150</td>\n",
       "      <td>0</td>\n",
       "      <td>5.622289</td>\n",
       "      <td>100.0</td>\n",
       "    </tr>\n",
       "    <tr>\n",
       "      <th>Somalia</th>\n",
       "      <td>26912</td>\n",
       "      <td>1361</td>\n",
       "      <td>0</td>\n",
       "      <td>5.057224</td>\n",
       "      <td>100.0</td>\n",
       "    </tr>\n",
       "    <tr>\n",
       "      <th>Mexico</th>\n",
       "      <td>6523019</td>\n",
       "      <td>326764</td>\n",
       "      <td>0</td>\n",
       "      <td>5.009398</td>\n",
       "      <td>100.0</td>\n",
       "    </tr>\n",
       "    <tr>\n",
       "      <th>Egypt</th>\n",
       "      <td>515645</td>\n",
       "      <td>24750</td>\n",
       "      <td>0</td>\n",
       "      <td>4.799814</td>\n",
       "      <td>100.0</td>\n",
       "    </tr>\n",
       "    <tr>\n",
       "      <th>Afghanistan</th>\n",
       "      <td>184038</td>\n",
       "      <td>7737</td>\n",
       "      <td>0</td>\n",
       "      <td>4.204023</td>\n",
       "      <td>100.0</td>\n",
       "    </tr>\n",
       "  </tbody>\n",
       "</table>\n",
       "</div>"
      ],
      "text/plain": [
       "                confirmed  deaths  recovered  letality_rate_1  letality_rate_2\n",
       "Country/Region                                                                \n",
       "Korea, North            1       6          0       600.000000            100.0\n",
       "MS Zaandam              9       2          0        22.222222            100.0\n",
       "Yemen               11849    2149          0        18.136552            100.0\n",
       "Sudan               62914    4955          0         7.875830            100.0\n",
       "Peru              3787887  213894          0         5.646789            100.0\n",
       "Syria               56027    3150          0         5.622289            100.0\n",
       "Somalia             26912    1361          0         5.057224            100.0\n",
       "Mexico            6523019  326764          0         5.009398            100.0\n",
       "Egypt              515645   24750          0         4.799814            100.0\n",
       "Afghanistan        184038    7737          0         4.204023            100.0"
      ]
     },
     "execution_count": 119,
     "metadata": {},
     "output_type": "execute_result"
    }
   ],
   "source": [
    "combined.sort_values(\"letality_rate_1\", ascending=False).head(10)"
   ]
  },
  {
   "cell_type": "code",
   "execution_count": 120,
   "metadata": {
    "colab": {
     "base_uri": "https://localhost:8080/",
     "height": 296
    },
    "colab_type": "code",
    "id": "g9Xq-twUV946",
    "outputId": "eaa22279-9301-48c4-ddfd-e8738a6e24c2"
   },
   "outputs": [
    {
     "data": {
      "image/png": "[encoded data removed]",
      "text/plain": [
       "<Figure size 432x288 with 1 Axes>"
      ]
     },
     "metadata": {
      "needs_background": "light"
     },
     "output_type": "display_data"
    }
   ],
   "source": [
    "# visualização ruim\n",
    "\n",
    "combined[[\"confirmed\", \"letality_rate_1\"]].plot();"
   ]
  },
  {
   "cell_type": "code",
   "execution_count": 121,
   "metadata": {
    "colab": {},
    "colab_type": "code",
    "id": "X3ijDX-wWt69"
   },
   "outputs": [],
   "source": [
    "# combined[[\"confirmed\", \"letality_rate_1\"]].plot(kind='scatter')"
   ]
  },
  {
   "cell_type": "code",
   "execution_count": 122,
   "metadata": {
    "colab": {
     "base_uri": "https://localhost:8080/",
     "height": 300
    },
    "colab_type": "code",
    "id": "ZctRDUktW-Xu",
    "outputId": "76053af2-3705-4c3e-ab23-c754b6558cb5"
   },
   "outputs": [
    {
     "data": {
      "image/png": "[encoded data removed]",
      "text/plain": [
       "<Figure size 432x288 with 1 Axes>"
      ]
     },
     "metadata": {
      "needs_background": "light"
     },
     "output_type": "display_data"
    }
   ],
   "source": [
    "import seaborn as sns\n",
    "\n",
    "sns.scatterplot(data = combined, x=\"confirmed\", y=\"letality_rate_1\");"
   ]
  },
  {
   "cell_type": "code",
   "execution_count": 123,
   "metadata": {
    "colab": {
     "base_uri": "https://localhost:8080/",
     "height": 296
    },
    "colab_type": "code",
    "id": "hj75tt1YXH0x",
    "outputId": "2eaefab8-8d6a-4fd9-9ee9-ed17a8816c79"
   },
   "outputs": [
    {
     "data": {
      "image/png": "[encoded data removed]",
      "text/plain": [
       "<Figure size 432x288 with 1 Axes>"
      ]
     },
     "metadata": {
      "needs_background": "light"
     },
     "output_type": "display_data"
    }
   ],
   "source": [
    "sns.scatterplot(data = combined.query(\"confirmed > 40 and confirmed < 50000\"), x=\"confirmed\", y=\"letality_rate_1\");"
   ]
  },
  {
   "cell_type": "code",
   "execution_count": 124,
   "metadata": {
    "colab": {
     "base_uri": "https://localhost:8080/",
     "height": 296
    },
    "colab_type": "code",
    "id": "urYCHsI5XY-h",
    "outputId": "0abb1467-ff20-46e3-de9a-ccde73d30307"
   },
   "outputs": [
    {
     "data": {
      "image/png": "[encoded data removed]",
      "text/plain": [
       "<Figure size 432x288 with 1 Axes>"
      ]
     },
     "metadata": {
      "needs_background": "light"
     },
     "output_type": "display_data"
    }
   ],
   "source": [
    "sns.scatterplot(data = combined.query(\"confirmed > 40\"), x=\"confirmed\", y=\"letality_rate_1\");"
   ]
  },
  {
   "cell_type": "code",
   "execution_count": 127,
   "metadata": {
    "colab": {
     "base_uri": "https://localhost:8080/",
     "height": 296
    },
    "colab_type": "code",
    "id": "FFDZa1D8Xtw1",
    "outputId": "facc5718-af68-4977-9870-bce9136c00d5"
   },
   "outputs": [
    {
     "data": {
      "image/png": "[encoded data removed]",
      "text/plain": [
       "<Figure size 432x288 with 1 Axes>"
      ]
     },
     "metadata": {
      "needs_background": "light"
     },
     "output_type": "display_data"
    }
   ],
   "source": [
    "sns.scatterplot(data = combined.query(\"recovered > 1\"), x=\"confirmed\", y=\"letality_rate_2\");"
   ]
  },
  {
   "cell_type": "code",
   "execution_count": 128,
   "metadata": {
    "colab": {
     "base_uri": "https://localhost:8080/",
     "height": 297
    },
    "colab_type": "code",
    "id": "IVTRP8pIX8sZ",
    "outputId": "ce855a0e-4a96-4938-e42d-25e1907830ff"
   },
   "outputs": [
    {
     "data": {
      "image/png": "[encoded data removed]",
      "text/plain": [
       "<Figure size 432x288 with 1 Axes>"
      ]
     },
     "metadata": {
      "needs_background": "light"
     },
     "output_type": "display_data"
    }
   ],
   "source": [
    "sns.histplot(combined.query(\"confirmed > 40\")[\"letality_rate_1\"], kde=False);"
   ]
  },
  {
   "cell_type": "code",
   "execution_count": 129,
   "metadata": {
    "colab": {
     "base_uri": "https://localhost:8080/",
     "height": 297
    },
    "colab_type": "code",
    "id": "a13ayKgsYYFd",
    "outputId": "889b21d6-4496-45a0-8161-0da914dd4597"
   },
   "outputs": [
    {
     "data": {
      "image/png": "[encoded data removed]",
      "text/plain": [
       "<Figure size 432x288 with 1 Axes>"
      ]
     },
     "metadata": {
      "needs_background": "light"
     },
     "output_type": "display_data"
    }
   ],
   "source": [
    "# gráfico não faz sentido \n",
    "\n",
    "sns.histplot(combined.query(\"recovered > 1\")[\"letality_rate_2\"], kde=False);"
   ]
  },
  {
   "cell_type": "code",
   "execution_count": 130,
   "metadata": {
    "colab": {
     "base_uri": "https://localhost:8080/",
     "height": 373
    },
    "colab_type": "code",
    "id": "Z6Zt0jnAY7QX",
    "outputId": "81d5ce19-0745-486b-d6bd-d30d4b3a17c3"
   },
   "outputs": [
    {
     "data": {
      "text/html": [
       "<div>\n",
       "<style scoped>\n",
       "    .dataframe tbody tr th:only-of-type {\n",
       "        vertical-align: middle;\n",
       "    }\n",
       "\n",
       "    .dataframe tbody tr th {\n",
       "        vertical-align: top;\n",
       "    }\n",
       "\n",
       "    .dataframe thead th {\n",
       "        text-align: right;\n",
       "    }\n",
       "</style>\n",
       "<table border=\"1\" class=\"dataframe\">\n",
       "  <thead>\n",
       "    <tr style=\"text-align: right;\">\n",
       "      <th></th>\n",
       "      <th>confirmed</th>\n",
       "      <th>deaths</th>\n",
       "      <th>recovered</th>\n",
       "      <th>letality_rate_1</th>\n",
       "      <th>letality_rate_2</th>\n",
       "    </tr>\n",
       "    <tr>\n",
       "      <th>Country/Region</th>\n",
       "      <th></th>\n",
       "      <th></th>\n",
       "      <th></th>\n",
       "      <th></th>\n",
       "      <th></th>\n",
       "    </tr>\n",
       "  </thead>\n",
       "  <tbody>\n",
       "    <tr>\n",
       "      <th>Yemen</th>\n",
       "      <td>11849</td>\n",
       "      <td>2149</td>\n",
       "      <td>0</td>\n",
       "      <td>18.136552</td>\n",
       "      <td>100.0</td>\n",
       "    </tr>\n",
       "    <tr>\n",
       "      <th>Sudan</th>\n",
       "      <td>62914</td>\n",
       "      <td>4955</td>\n",
       "      <td>0</td>\n",
       "      <td>7.875830</td>\n",
       "      <td>100.0</td>\n",
       "    </tr>\n",
       "    <tr>\n",
       "      <th>Peru</th>\n",
       "      <td>3787887</td>\n",
       "      <td>213894</td>\n",
       "      <td>0</td>\n",
       "      <td>5.646789</td>\n",
       "      <td>100.0</td>\n",
       "    </tr>\n",
       "    <tr>\n",
       "      <th>Syria</th>\n",
       "      <td>56027</td>\n",
       "      <td>3150</td>\n",
       "      <td>0</td>\n",
       "      <td>5.622289</td>\n",
       "      <td>100.0</td>\n",
       "    </tr>\n",
       "    <tr>\n",
       "      <th>Somalia</th>\n",
       "      <td>26912</td>\n",
       "      <td>1361</td>\n",
       "      <td>0</td>\n",
       "      <td>5.057224</td>\n",
       "      <td>100.0</td>\n",
       "    </tr>\n",
       "    <tr>\n",
       "      <th>Mexico</th>\n",
       "      <td>6523019</td>\n",
       "      <td>326764</td>\n",
       "      <td>0</td>\n",
       "      <td>5.009398</td>\n",
       "      <td>100.0</td>\n",
       "    </tr>\n",
       "    <tr>\n",
       "      <th>Egypt</th>\n",
       "      <td>515645</td>\n",
       "      <td>24750</td>\n",
       "      <td>0</td>\n",
       "      <td>4.799814</td>\n",
       "      <td>100.0</td>\n",
       "    </tr>\n",
       "    <tr>\n",
       "      <th>Afghanistan</th>\n",
       "      <td>184038</td>\n",
       "      <td>7737</td>\n",
       "      <td>0</td>\n",
       "      <td>4.204023</td>\n",
       "      <td>100.0</td>\n",
       "    </tr>\n",
       "    <tr>\n",
       "      <th>Bosnia and Herzegovina</th>\n",
       "      <td>381982</td>\n",
       "      <td>15825</td>\n",
       "      <td>0</td>\n",
       "      <td>4.142865</td>\n",
       "      <td>100.0</td>\n",
       "    </tr>\n",
       "    <tr>\n",
       "      <th>Liberia</th>\n",
       "      <td>7505</td>\n",
       "      <td>294</td>\n",
       "      <td>0</td>\n",
       "      <td>3.917388</td>\n",
       "      <td>100.0</td>\n",
       "    </tr>\n",
       "  </tbody>\n",
       "</table>\n",
       "</div>"
      ],
      "text/plain": [
       "                        confirmed  deaths  recovered  letality_rate_1  \\\n",
       "Country/Region                                                          \n",
       "Yemen                       11849    2149          0        18.136552   \n",
       "Sudan                       62914    4955          0         7.875830   \n",
       "Peru                      3787887  213894          0         5.646789   \n",
       "Syria                       56027    3150          0         5.622289   \n",
       "Somalia                     26912    1361          0         5.057224   \n",
       "Mexico                    6523019  326764          0         5.009398   \n",
       "Egypt                      515645   24750          0         4.799814   \n",
       "Afghanistan                184038    7737          0         4.204023   \n",
       "Bosnia and Herzegovina     381982   15825          0         4.142865   \n",
       "Liberia                      7505     294          0         3.917388   \n",
       "\n",
       "                        letality_rate_2  \n",
       "Country/Region                           \n",
       "Yemen                             100.0  \n",
       "Sudan                             100.0  \n",
       "Peru                              100.0  \n",
       "Syria                             100.0  \n",
       "Somalia                           100.0  \n",
       "Mexico                            100.0  \n",
       "Egypt                             100.0  \n",
       "Afghanistan                       100.0  \n",
       "Bosnia and Herzegovina            100.0  \n",
       "Liberia                           100.0  "
      ]
     },
     "execution_count": 130,
     "metadata": {},
     "output_type": "execute_result"
    }
   ],
   "source": [
    "combined.sort_values(\"letality_rate_1\", ascending=False).query(\"confirmed > 40\").head(10)"
   ]
  },
  {
   "cell_type": "code",
   "execution_count": 131,
   "metadata": {
    "colab": {
     "base_uri": "https://localhost:8080/",
     "height": 195
    },
    "colab_type": "code",
    "id": "rVLYH54AZPb0",
    "outputId": "0a8c34f5-f9b8-475e-d178-d38e75a6d289"
   },
   "outputs": [
    {
     "data": {
      "text/html": [
       "<div>\n",
       "<style scoped>\n",
       "    .dataframe tbody tr th:only-of-type {\n",
       "        vertical-align: middle;\n",
       "    }\n",
       "\n",
       "    .dataframe tbody tr th {\n",
       "        vertical-align: top;\n",
       "    }\n",
       "\n",
       "    .dataframe thead th {\n",
       "        text-align: right;\n",
       "    }\n",
       "</style>\n",
       "<table border=\"1\" class=\"dataframe\">\n",
       "  <thead>\n",
       "    <tr style=\"text-align: right;\">\n",
       "      <th></th>\n",
       "      <th>confirmed</th>\n",
       "      <th>deaths</th>\n",
       "      <th>recovered</th>\n",
       "      <th>letality_rate_1</th>\n",
       "      <th>letality_rate_2</th>\n",
       "    </tr>\n",
       "    <tr>\n",
       "      <th>Country/Region</th>\n",
       "      <th></th>\n",
       "      <th></th>\n",
       "      <th></th>\n",
       "      <th></th>\n",
       "      <th></th>\n",
       "    </tr>\n",
       "  </thead>\n",
       "  <tbody>\n",
       "  </tbody>\n",
       "</table>\n",
       "</div>"
      ],
      "text/plain": [
       "Empty DataFrame\n",
       "Columns: [confirmed, deaths, recovered, letality_rate_1, letality_rate_2]\n",
       "Index: []"
      ]
     },
     "execution_count": 131,
     "metadata": {},
     "output_type": "execute_result"
    }
   ],
   "source": [
    "combined.sort_values(\"letality_rate_2\", ascending=False).query(\"recovered > 4\").head(10)"
   ]
  },
  {
   "cell_type": "markdown",
   "metadata": {
    "colab": {},
    "colab_type": "code",
    "id": "HBWNb3SeZxtZ"
   },
   "source": [
    "---"
   ]
  }
 ],
 "metadata": {
  "colab": {
   "collapsed_sections": [],
   "name": "Curso Data Science e Saúde",
   "provenance": []
  },
  "hide_input": false,
  "kernelspec": {
   "display_name": "Python 3 (ipykernel)",
   "language": "python",
   "name": "python3"
  },
  "language_info": {
   "codemirror_mode": {
    "name": "ipython",
    "version": 3
   },
   "file_extension": ".py",
   "mimetype": "text/x-python",
   "name": "python",
   "nbconvert_exporter": "python",
   "pygments_lexer": "ipython3",
   "version": "3.9.7"
  }
 },
 "nbformat": 4,
 "nbformat_minor": 1
}
