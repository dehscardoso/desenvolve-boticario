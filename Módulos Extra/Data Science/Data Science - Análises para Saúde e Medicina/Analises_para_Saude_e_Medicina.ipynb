{
 "cells": [
  {
   "cell_type": "markdown",
   "metadata": {},
   "source": [
    "<img src = \"https://images2.imgbox.com/32/ac/wucGkuem_o.png\" width=\"300\">"
   ]
  },
  {
   "cell_type": "code",
   "execution_count": 8,
   "metadata": {
    "colab": {
     "base_uri": "https://localhost:8080/",
     "height": 215
    },
    "colab_type": "code",
    "id": "qatscdizf92Y",
    "outputId": "a6902dfa-7aae-434c-ce80-d5cfe89c5d71"
   },
   "outputs": [
    {
     "data": {
      "text/html": [
       "<div>\n",
       "<style scoped>\n",
       "    .dataframe tbody tr th:only-of-type {\n",
       "        vertical-align: middle;\n",
       "    }\n",
       "\n",
       "    .dataframe tbody tr th {\n",
       "        vertical-align: top;\n",
       "    }\n",
       "\n",
       "    .dataframe thead th {\n",
       "        text-align: right;\n",
       "    }\n",
       "</style>\n",
       "<table border=\"1\" class=\"dataframe\">\n",
       "  <thead>\n",
       "    <tr style=\"text-align: right;\">\n",
       "      <th></th>\n",
       "      <th>Province/State</th>\n",
       "      <th>Country/Region</th>\n",
       "      <th>Lat</th>\n",
       "      <th>Long</th>\n",
       "      <th>1/22/20</th>\n",
       "      <th>1/23/20</th>\n",
       "      <th>1/24/20</th>\n",
       "      <th>1/25/20</th>\n",
       "      <th>1/26/20</th>\n",
       "      <th>1/27/20</th>\n",
       "      <th>...</th>\n",
       "      <th>7/11/22</th>\n",
       "      <th>7/12/22</th>\n",
       "      <th>7/13/22</th>\n",
       "      <th>7/14/22</th>\n",
       "      <th>7/15/22</th>\n",
       "      <th>7/16/22</th>\n",
       "      <th>7/17/22</th>\n",
       "      <th>7/18/22</th>\n",
       "      <th>7/19/22</th>\n",
       "      <th>7/20/22</th>\n",
       "    </tr>\n",
       "  </thead>\n",
       "  <tbody>\n",
       "    <tr>\n",
       "      <th>0</th>\n",
       "      <td>NaN</td>\n",
       "      <td>Afghanistan</td>\n",
       "      <td>33.93911</td>\n",
       "      <td>67.709953</td>\n",
       "      <td>0</td>\n",
       "      <td>0</td>\n",
       "      <td>0</td>\n",
       "      <td>0</td>\n",
       "      <td>0</td>\n",
       "      <td>0</td>\n",
       "      <td>...</td>\n",
       "      <td>183268</td>\n",
       "      <td>183272</td>\n",
       "      <td>183285</td>\n",
       "      <td>183358</td>\n",
       "      <td>183407</td>\n",
       "      <td>183445</td>\n",
       "      <td>183572</td>\n",
       "      <td>183687</td>\n",
       "      <td>183908</td>\n",
       "      <td>184038</td>\n",
       "    </tr>\n",
       "    <tr>\n",
       "      <th>1</th>\n",
       "      <td>NaN</td>\n",
       "      <td>Albania</td>\n",
       "      <td>41.15330</td>\n",
       "      <td>20.168300</td>\n",
       "      <td>0</td>\n",
       "      <td>0</td>\n",
       "      <td>0</td>\n",
       "      <td>0</td>\n",
       "      <td>0</td>\n",
       "      <td>0</td>\n",
       "      <td>...</td>\n",
       "      <td>288176</td>\n",
       "      <td>289391</td>\n",
       "      <td>290954</td>\n",
       "      <td>290954</td>\n",
       "      <td>293917</td>\n",
       "      <td>293917</td>\n",
       "      <td>293917</td>\n",
       "      <td>293917</td>\n",
       "      <td>293917</td>\n",
       "      <td>293917</td>\n",
       "    </tr>\n",
       "    <tr>\n",
       "      <th>2</th>\n",
       "      <td>NaN</td>\n",
       "      <td>Algeria</td>\n",
       "      <td>28.03390</td>\n",
       "      <td>1.659600</td>\n",
       "      <td>0</td>\n",
       "      <td>0</td>\n",
       "      <td>0</td>\n",
       "      <td>0</td>\n",
       "      <td>0</td>\n",
       "      <td>0</td>\n",
       "      <td>...</td>\n",
       "      <td>266274</td>\n",
       "      <td>266303</td>\n",
       "      <td>266328</td>\n",
       "      <td>266356</td>\n",
       "      <td>266392</td>\n",
       "      <td>266424</td>\n",
       "      <td>266445</td>\n",
       "      <td>266487</td>\n",
       "      <td>266542</td>\n",
       "      <td>266591</td>\n",
       "    </tr>\n",
       "    <tr>\n",
       "      <th>3</th>\n",
       "      <td>NaN</td>\n",
       "      <td>Andorra</td>\n",
       "      <td>42.50630</td>\n",
       "      <td>1.521800</td>\n",
       "      <td>0</td>\n",
       "      <td>0</td>\n",
       "      <td>0</td>\n",
       "      <td>0</td>\n",
       "      <td>0</td>\n",
       "      <td>0</td>\n",
       "      <td>...</td>\n",
       "      <td>44671</td>\n",
       "      <td>44671</td>\n",
       "      <td>44671</td>\n",
       "      <td>44671</td>\n",
       "      <td>44671</td>\n",
       "      <td>44671</td>\n",
       "      <td>44671</td>\n",
       "      <td>45061</td>\n",
       "      <td>45061</td>\n",
       "      <td>45061</td>\n",
       "    </tr>\n",
       "    <tr>\n",
       "      <th>4</th>\n",
       "      <td>NaN</td>\n",
       "      <td>Angola</td>\n",
       "      <td>-11.20270</td>\n",
       "      <td>17.873900</td>\n",
       "      <td>0</td>\n",
       "      <td>0</td>\n",
       "      <td>0</td>\n",
       "      <td>0</td>\n",
       "      <td>0</td>\n",
       "      <td>0</td>\n",
       "      <td>...</td>\n",
       "      <td>101320</td>\n",
       "      <td>101320</td>\n",
       "      <td>101320</td>\n",
       "      <td>101600</td>\n",
       "      <td>101901</td>\n",
       "      <td>101901</td>\n",
       "      <td>101901</td>\n",
       "      <td>102209</td>\n",
       "      <td>102209</td>\n",
       "      <td>102209</td>\n",
       "    </tr>\n",
       "  </tbody>\n",
       "</table>\n",
       "<p>5 rows × 915 columns</p>\n",
       "</div>"
      ],
      "text/plain": [
       "  Province/State Country/Region       Lat       Long  1/22/20  1/23/20  \\\n",
       "0            NaN    Afghanistan  33.93911  67.709953        0        0   \n",
       "1            NaN        Albania  41.15330  20.168300        0        0   \n",
       "2            NaN        Algeria  28.03390   1.659600        0        0   \n",
       "3            NaN        Andorra  42.50630   1.521800        0        0   \n",
       "4            NaN         Angola -11.20270  17.873900        0        0   \n",
       "\n",
       "   1/24/20  1/25/20  1/26/20  1/27/20  ...  7/11/22  7/12/22  7/13/22  \\\n",
       "0        0        0        0        0  ...   183268   183272   183285   \n",
       "1        0        0        0        0  ...   288176   289391   290954   \n",
       "2        0        0        0        0  ...   266274   266303   266328   \n",
       "3        0        0        0        0  ...    44671    44671    44671   \n",
       "4        0        0        0        0  ...   101320   101320   101320   \n",
       "\n",
       "   7/14/22  7/15/22  7/16/22  7/17/22  7/18/22  7/19/22  7/20/22  \n",
       "0   183358   183407   183445   183572   183687   183908   184038  \n",
       "1   290954   293917   293917   293917   293917   293917   293917  \n",
       "2   266356   266392   266424   266445   266487   266542   266591  \n",
       "3    44671    44671    44671    44671    45061    45061    45061  \n",
       "4   101600   101901   101901   101901   102209   102209   102209  \n",
       "\n",
       "[5 rows x 915 columns]"
      ]
     },
     "execution_count": 8,
     "metadata": {},
     "output_type": "execute_result"
    }
   ],
   "source": [
    "import pandas as pd\n",
    "\n",
    "confirmed = pd.read_csv(\"https://raw.githubusercontent.com/CSSEGISandData/COVID-19/master/csse_covid_19_data/csse_covid_19_time_series/time_series_covid19_confirmed_global.csv\")\n",
    "confirmed.head()"
   ]
  },
  {
   "cell_type": "code",
   "execution_count": 9,
   "metadata": {
    "colab": {
     "base_uri": "https://localhost:8080/",
     "height": 34
    },
    "colab_type": "code",
    "id": "58v7MDJPgUfw",
    "outputId": "607e1847-e609-4597-8a54-954dbcaeaca6"
   },
   "outputs": [
    {
     "data": {
      "text/plain": [
       "(285, 915)"
      ]
     },
     "execution_count": 9,
     "metadata": {},
     "output_type": "execute_result"
    }
   ],
   "source": [
    "confirmed.shape"
   ]
  },
  {
   "cell_type": "code",
   "execution_count": 10,
   "metadata": {
    "colab": {
     "base_uri": "https://localhost:8080/",
     "height": 218
    },
    "colab_type": "code",
    "id": "8s_FXY1jhG8V",
    "outputId": "250da406-6fcf-4e21-87f6-01fdb8c1afe3"
   },
   "outputs": [
    {
     "data": {
      "text/plain": [
       "0      5\n",
       "1      0\n",
       "2      3\n",
       "3      1\n",
       "4      0\n",
       "      ..\n",
       "280    0\n",
       "281    0\n",
       "282    0\n",
       "283    0\n",
       "284    0\n",
       "Name: 3/2/20, Length: 285, dtype: int64"
      ]
     },
     "execution_count": 10,
     "metadata": {},
     "output_type": "execute_result"
    }
   ],
   "source": [
    "last_date = \"3/2/20\"\n",
    "\n",
    "confirmed[last_date]"
   ]
  },
  {
   "cell_type": "code",
   "execution_count": 11,
   "metadata": {
    "colab": {
     "base_uri": "https://localhost:8080/",
     "height": 218
    },
    "colab_type": "code",
    "id": "MpYCo-ArgxUi",
    "outputId": "c8cb43c1-9b30-4c13-89ed-3737cc601959"
   },
   "outputs": [
    {
     "data": {
      "text/plain": [
       "0               Afghanistan\n",
       "1                   Albania\n",
       "2                   Algeria\n",
       "3                   Andorra\n",
       "4                    Angola\n",
       "               ...         \n",
       "280      West Bank and Gaza\n",
       "281    Winter Olympics 2022\n",
       "282                   Yemen\n",
       "283                  Zambia\n",
       "284                Zimbabwe\n",
       "Name: Country/Region, Length: 285, dtype: object"
      ]
     },
     "execution_count": 11,
     "metadata": {},
     "output_type": "execute_result"
    }
   ],
   "source": [
    "confirmed[\"Country/Region\"]"
   ]
  },
  {
   "cell_type": "code",
   "execution_count": 12,
   "metadata": {
    "colab": {
     "base_uri": "https://localhost:8080/",
     "height": 269
    },
    "colab_type": "code",
    "id": "d75ezwHnhC-d",
    "outputId": "5fbf19ad-ef69-42bb-ae76-3b26f259a606"
   },
   "outputs": [
    {
     "data": {
      "text/plain": [
       "array(['Afghanistan', 'Albania', 'Algeria', 'Andorra', 'Angola',\n",
       "       'Antarctica', 'Antigua and Barbuda', 'Argentina', 'Armenia',\n",
       "       'Australia', 'Austria', 'Azerbaijan', 'Bahamas', 'Bahrain',\n",
       "       'Bangladesh', 'Barbados', 'Belarus', 'Belgium', 'Belize', 'Benin',\n",
       "       'Bhutan', 'Bolivia', 'Bosnia and Herzegovina', 'Botswana',\n",
       "       'Brazil', 'Brunei', 'Bulgaria', 'Burkina Faso', 'Burma', 'Burundi',\n",
       "       'Cabo Verde', 'Cambodia', 'Cameroon', 'Canada',\n",
       "       'Central African Republic', 'Chad', 'Chile', 'China', 'Colombia',\n",
       "       'Comoros', 'Congo (Brazzaville)', 'Congo (Kinshasa)', 'Costa Rica',\n",
       "       \"Cote d'Ivoire\", 'Croatia', 'Cuba', 'Cyprus', 'Czechia', 'Denmark',\n",
       "       'Diamond Princess', 'Djibouti', 'Dominica', 'Dominican Republic',\n",
       "       'Ecuador', 'Egypt', 'El Salvador', 'Equatorial Guinea', 'Eritrea',\n",
       "       'Estonia', 'Eswatini', 'Ethiopia', 'Fiji', 'Finland', 'France',\n",
       "       'Gabon', 'Gambia', 'Georgia', 'Germany', 'Ghana', 'Greece',\n",
       "       'Grenada', 'Guatemala', 'Guinea', 'Guinea-Bissau', 'Guyana',\n",
       "       'Haiti', 'Holy See', 'Honduras', 'Hungary', 'Iceland', 'India',\n",
       "       'Indonesia', 'Iran', 'Iraq', 'Ireland', 'Israel', 'Italy',\n",
       "       'Jamaica', 'Japan', 'Jordan', 'Kazakhstan', 'Kenya', 'Kiribati',\n",
       "       'Korea, North', 'Korea, South', 'Kosovo', 'Kuwait', 'Kyrgyzstan',\n",
       "       'Laos', 'Latvia', 'Lebanon', 'Lesotho', 'Liberia', 'Libya',\n",
       "       'Liechtenstein', 'Lithuania', 'Luxembourg', 'MS Zaandam',\n",
       "       'Madagascar', 'Malawi', 'Malaysia', 'Maldives', 'Mali', 'Malta',\n",
       "       'Marshall Islands', 'Mauritania', 'Mauritius', 'Mexico',\n",
       "       'Micronesia', 'Moldova', 'Monaco', 'Mongolia', 'Montenegro',\n",
       "       'Morocco', 'Mozambique', 'Namibia', 'Nepal', 'Netherlands',\n",
       "       'New Zealand', 'Nicaragua', 'Niger', 'Nigeria', 'North Macedonia',\n",
       "       'Norway', 'Oman', 'Pakistan', 'Palau', 'Panama',\n",
       "       'Papua New Guinea', 'Paraguay', 'Peru', 'Philippines', 'Poland',\n",
       "       'Portugal', 'Qatar', 'Romania', 'Russia', 'Rwanda',\n",
       "       'Saint Kitts and Nevis', 'Saint Lucia',\n",
       "       'Saint Vincent and the Grenadines', 'Samoa', 'San Marino',\n",
       "       'Sao Tome and Principe', 'Saudi Arabia', 'Senegal', 'Serbia',\n",
       "       'Seychelles', 'Sierra Leone', 'Singapore', 'Slovakia', 'Slovenia',\n",
       "       'Solomon Islands', 'Somalia', 'South Africa', 'South Sudan',\n",
       "       'Spain', 'Sri Lanka', 'Sudan', 'Summer Olympics 2020', 'Suriname',\n",
       "       'Sweden', 'Switzerland', 'Syria', 'Taiwan*', 'Tajikistan',\n",
       "       'Tanzania', 'Thailand', 'Timor-Leste', 'Togo', 'Tonga',\n",
       "       'Trinidad and Tobago', 'Tunisia', 'Turkey', 'US', 'Uganda',\n",
       "       'Ukraine', 'United Arab Emirates', 'United Kingdom', 'Uruguay',\n",
       "       'Uzbekistan', 'Vanuatu', 'Venezuela', 'Vietnam',\n",
       "       'West Bank and Gaza', 'Winter Olympics 2022', 'Yemen', 'Zambia',\n",
       "       'Zimbabwe'], dtype=object)"
      ]
     },
     "execution_count": 12,
     "metadata": {},
     "output_type": "execute_result"
    }
   ],
   "source": [
    "confirmed[\"Country/Region\"].unique()"
   ]
  },
  {
   "cell_type": "code",
   "execution_count": 13,
   "metadata": {
    "colab": {
     "base_uri": "https://localhost:8080/",
     "height": 386
    },
    "colab_type": "code",
    "id": "YkFdUtqQhbZV",
    "outputId": "422eb40c-f9a2-471f-e36a-e355f9324cc0"
   },
   "outputs": [
    {
     "data": {
      "text/plain": [
       "array([nan, 'Australian Capital Territory', 'New South Wales',\n",
       "       'Northern Territory', 'Queensland', 'South Australia', 'Tasmania',\n",
       "       'Victoria', 'Western Australia', 'Alberta', 'British Columbia',\n",
       "       'Diamond Princess', 'Grand Princess', 'Manitoba', 'New Brunswick',\n",
       "       'Newfoundland and Labrador', 'Northwest Territories',\n",
       "       'Nova Scotia', 'Nunavut', 'Ontario', 'Prince Edward Island',\n",
       "       'Quebec', 'Repatriated Travellers', 'Saskatchewan', 'Yukon',\n",
       "       'Anhui', 'Beijing', 'Chongqing', 'Fujian', 'Gansu', 'Guangdong',\n",
       "       'Guangxi', 'Guizhou', 'Hainan', 'Hebei', 'Heilongjiang', 'Henan',\n",
       "       'Hong Kong', 'Hubei', 'Hunan', 'Inner Mongolia', 'Jiangsu',\n",
       "       'Jiangxi', 'Jilin', 'Liaoning', 'Macau', 'Ningxia', 'Qinghai',\n",
       "       'Shaanxi', 'Shandong', 'Shanghai', 'Shanxi', 'Sichuan', 'Tianjin',\n",
       "       'Tibet', 'Unknown', 'Xinjiang', 'Yunnan', 'Zhejiang',\n",
       "       'Faroe Islands', 'Greenland', 'French Guiana', 'French Polynesia',\n",
       "       'Guadeloupe', 'Martinique', 'Mayotte', 'New Caledonia', 'Reunion',\n",
       "       'Saint Barthelemy', 'Saint Pierre and Miquelon', 'St Martin',\n",
       "       'Wallis and Futuna', 'Aruba', 'Bonaire, Sint Eustatius and Saba',\n",
       "       'Curacao', 'Sint Maarten', 'Cook Islands', 'Anguilla', 'Bermuda',\n",
       "       'British Virgin Islands', 'Cayman Islands', 'Channel Islands',\n",
       "       'Falkland Islands (Malvinas)', 'Gibraltar', 'Guernsey',\n",
       "       'Isle of Man', 'Jersey', 'Montserrat',\n",
       "       'Saint Helena, Ascension and Tristan da Cunha',\n",
       "       'Turks and Caicos Islands'], dtype=object)"
      ]
     },
     "execution_count": 13,
     "metadata": {},
     "output_type": "execute_result"
    }
   ],
   "source": [
    "confirmed[\"Province/State\"].unique()"
   ]
  },
  {
   "cell_type": "code",
   "execution_count": 14,
   "metadata": {
    "colab": {
     "base_uri": "https://localhost:8080/",
     "height": 659
    },
    "colab_type": "code",
    "id": "4vy3KqidhfUL",
    "outputId": "37be8089-08ee-4a15-c8fb-c2d62643f800"
   },
   "outputs": [
    {
     "data": {
      "text/html": [
       "<div>\n",
       "<style scoped>\n",
       "    .dataframe tbody tr th:only-of-type {\n",
       "        vertical-align: middle;\n",
       "    }\n",
       "\n",
       "    .dataframe tbody tr th {\n",
       "        vertical-align: top;\n",
       "    }\n",
       "\n",
       "    .dataframe thead th {\n",
       "        text-align: right;\n",
       "    }\n",
       "</style>\n",
       "<table border=\"1\" class=\"dataframe\">\n",
       "  <thead>\n",
       "    <tr style=\"text-align: right;\">\n",
       "      <th></th>\n",
       "      <th>Province/State</th>\n",
       "      <th>Country/Region</th>\n",
       "      <th>Lat</th>\n",
       "      <th>Long</th>\n",
       "      <th>1/22/20</th>\n",
       "      <th>1/23/20</th>\n",
       "      <th>1/24/20</th>\n",
       "      <th>1/25/20</th>\n",
       "      <th>1/26/20</th>\n",
       "      <th>1/27/20</th>\n",
       "      <th>...</th>\n",
       "      <th>7/11/22</th>\n",
       "      <th>7/12/22</th>\n",
       "      <th>7/13/22</th>\n",
       "      <th>7/14/22</th>\n",
       "      <th>7/15/22</th>\n",
       "      <th>7/16/22</th>\n",
       "      <th>7/17/22</th>\n",
       "      <th>7/18/22</th>\n",
       "      <th>7/19/22</th>\n",
       "      <th>7/20/22</th>\n",
       "    </tr>\n",
       "  </thead>\n",
       "  <tbody>\n",
       "    <tr>\n",
       "      <th>89</th>\n",
       "      <td>Unknown</td>\n",
       "      <td>China</td>\n",
       "      <td>NaN</td>\n",
       "      <td>NaN</td>\n",
       "      <td>0</td>\n",
       "      <td>0</td>\n",
       "      <td>0</td>\n",
       "      <td>0</td>\n",
       "      <td>0</td>\n",
       "      <td>0</td>\n",
       "      <td>...</td>\n",
       "      <td>666249</td>\n",
       "      <td>666554</td>\n",
       "      <td>666784</td>\n",
       "      <td>667013</td>\n",
       "      <td>667417</td>\n",
       "      <td>667810</td>\n",
       "      <td>668321</td>\n",
       "      <td>668698</td>\n",
       "      <td>669175</td>\n",
       "      <td>670004</td>\n",
       "    </tr>\n",
       "    <tr>\n",
       "      <th>158</th>\n",
       "      <td>NaN</td>\n",
       "      <td>Kazakhstan</td>\n",
       "      <td>48.019600</td>\n",
       "      <td>66.923700</td>\n",
       "      <td>0</td>\n",
       "      <td>0</td>\n",
       "      <td>0</td>\n",
       "      <td>0</td>\n",
       "      <td>0</td>\n",
       "      <td>0</td>\n",
       "      <td>...</td>\n",
       "      <td>1399173</td>\n",
       "      <td>1399656</td>\n",
       "      <td>1400476</td>\n",
       "      <td>1401600</td>\n",
       "      <td>1402871</td>\n",
       "      <td>1404346</td>\n",
       "      <td>1407386</td>\n",
       "      <td>1407386</td>\n",
       "      <td>1411836</td>\n",
       "      <td>1410812</td>\n",
       "    </tr>\n",
       "    <tr>\n",
       "      <th>25</th>\n",
       "      <td>NaN</td>\n",
       "      <td>Belize</td>\n",
       "      <td>17.189900</td>\n",
       "      <td>-88.497600</td>\n",
       "      <td>0</td>\n",
       "      <td>0</td>\n",
       "      <td>0</td>\n",
       "      <td>0</td>\n",
       "      <td>0</td>\n",
       "      <td>0</td>\n",
       "      <td>...</td>\n",
       "      <td>64948</td>\n",
       "      <td>65508</td>\n",
       "      <td>65508</td>\n",
       "      <td>65840</td>\n",
       "      <td>65994</td>\n",
       "      <td>65994</td>\n",
       "      <td>65994</td>\n",
       "      <td>66179</td>\n",
       "      <td>66317</td>\n",
       "      <td>66438</td>\n",
       "    </tr>\n",
       "    <tr>\n",
       "      <th>127</th>\n",
       "      <td>Saint Barthelemy</td>\n",
       "      <td>France</td>\n",
       "      <td>17.900000</td>\n",
       "      <td>-62.833300</td>\n",
       "      <td>0</td>\n",
       "      <td>0</td>\n",
       "      <td>0</td>\n",
       "      <td>0</td>\n",
       "      <td>0</td>\n",
       "      <td>0</td>\n",
       "      <td>...</td>\n",
       "      <td>4740</td>\n",
       "      <td>4845</td>\n",
       "      <td>4845</td>\n",
       "      <td>4845</td>\n",
       "      <td>4845</td>\n",
       "      <td>4845</td>\n",
       "      <td>4845</td>\n",
       "      <td>4845</td>\n",
       "      <td>4954</td>\n",
       "      <td>4954</td>\n",
       "    </tr>\n",
       "    <tr>\n",
       "      <th>55</th>\n",
       "      <td>Yukon</td>\n",
       "      <td>Canada</td>\n",
       "      <td>64.282300</td>\n",
       "      <td>-135.000000</td>\n",
       "      <td>0</td>\n",
       "      <td>0</td>\n",
       "      <td>0</td>\n",
       "      <td>0</td>\n",
       "      <td>0</td>\n",
       "      <td>0</td>\n",
       "      <td>...</td>\n",
       "      <td>4521</td>\n",
       "      <td>4522</td>\n",
       "      <td>4535</td>\n",
       "      <td>4547</td>\n",
       "      <td>4558</td>\n",
       "      <td>4558</td>\n",
       "      <td>4558</td>\n",
       "      <td>4583</td>\n",
       "      <td>4587</td>\n",
       "      <td>4595</td>\n",
       "    </tr>\n",
       "    <tr>\n",
       "      <th>75</th>\n",
       "      <td>Jiangsu</td>\n",
       "      <td>China</td>\n",
       "      <td>32.971100</td>\n",
       "      <td>119.455000</td>\n",
       "      <td>1</td>\n",
       "      <td>5</td>\n",
       "      <td>9</td>\n",
       "      <td>18</td>\n",
       "      <td>33</td>\n",
       "      <td>47</td>\n",
       "      <td>...</td>\n",
       "      <td>2299</td>\n",
       "      <td>2305</td>\n",
       "      <td>2308</td>\n",
       "      <td>2308</td>\n",
       "      <td>2311</td>\n",
       "      <td>2313</td>\n",
       "      <td>2314</td>\n",
       "      <td>2314</td>\n",
       "      <td>2315</td>\n",
       "      <td>2316</td>\n",
       "    </tr>\n",
       "    <tr>\n",
       "      <th>1</th>\n",
       "      <td>NaN</td>\n",
       "      <td>Albania</td>\n",
       "      <td>41.153300</td>\n",
       "      <td>20.168300</td>\n",
       "      <td>0</td>\n",
       "      <td>0</td>\n",
       "      <td>0</td>\n",
       "      <td>0</td>\n",
       "      <td>0</td>\n",
       "      <td>0</td>\n",
       "      <td>...</td>\n",
       "      <td>288176</td>\n",
       "      <td>289391</td>\n",
       "      <td>290954</td>\n",
       "      <td>290954</td>\n",
       "      <td>293917</td>\n",
       "      <td>293917</td>\n",
       "      <td>293917</td>\n",
       "      <td>293917</td>\n",
       "      <td>293917</td>\n",
       "      <td>293917</td>\n",
       "    </tr>\n",
       "    <tr>\n",
       "      <th>223</th>\n",
       "      <td>NaN</td>\n",
       "      <td>Saint Vincent and the Grenadines</td>\n",
       "      <td>12.984300</td>\n",
       "      <td>-61.287200</td>\n",
       "      <td>0</td>\n",
       "      <td>0</td>\n",
       "      <td>0</td>\n",
       "      <td>0</td>\n",
       "      <td>0</td>\n",
       "      <td>0</td>\n",
       "      <td>...</td>\n",
       "      <td>9083</td>\n",
       "      <td>9127</td>\n",
       "      <td>9162</td>\n",
       "      <td>9183</td>\n",
       "      <td>9183</td>\n",
       "      <td>9183</td>\n",
       "      <td>9183</td>\n",
       "      <td>9183</td>\n",
       "      <td>9240</td>\n",
       "      <td>9240</td>\n",
       "    </tr>\n",
       "    <tr>\n",
       "      <th>150</th>\n",
       "      <td>NaN</td>\n",
       "      <td>Iran</td>\n",
       "      <td>32.427908</td>\n",
       "      <td>53.688046</td>\n",
       "      <td>0</td>\n",
       "      <td>0</td>\n",
       "      <td>0</td>\n",
       "      <td>0</td>\n",
       "      <td>0</td>\n",
       "      <td>0</td>\n",
       "      <td>...</td>\n",
       "      <td>7251429</td>\n",
       "      <td>7255017</td>\n",
       "      <td>7260017</td>\n",
       "      <td>7265251</td>\n",
       "      <td>7270023</td>\n",
       "      <td>7272727</td>\n",
       "      <td>7278478</td>\n",
       "      <td>7284165</td>\n",
       "      <td>7289542</td>\n",
       "      <td>7296635</td>\n",
       "    </tr>\n",
       "    <tr>\n",
       "      <th>88</th>\n",
       "      <td>Tibet</td>\n",
       "      <td>China</td>\n",
       "      <td>31.692700</td>\n",
       "      <td>88.092400</td>\n",
       "      <td>0</td>\n",
       "      <td>0</td>\n",
       "      <td>0</td>\n",
       "      <td>0</td>\n",
       "      <td>0</td>\n",
       "      <td>0</td>\n",
       "      <td>...</td>\n",
       "      <td>1</td>\n",
       "      <td>1</td>\n",
       "      <td>1</td>\n",
       "      <td>1</td>\n",
       "      <td>1</td>\n",
       "      <td>1</td>\n",
       "      <td>1</td>\n",
       "      <td>1</td>\n",
       "      <td>1</td>\n",
       "      <td>1</td>\n",
       "    </tr>\n",
       "    <tr>\n",
       "      <th>112</th>\n",
       "      <td>NaN</td>\n",
       "      <td>El Salvador</td>\n",
       "      <td>13.794200</td>\n",
       "      <td>-88.896500</td>\n",
       "      <td>0</td>\n",
       "      <td>0</td>\n",
       "      <td>0</td>\n",
       "      <td>0</td>\n",
       "      <td>0</td>\n",
       "      <td>0</td>\n",
       "      <td>...</td>\n",
       "      <td>180970</td>\n",
       "      <td>180970</td>\n",
       "      <td>180970</td>\n",
       "      <td>180970</td>\n",
       "      <td>180970</td>\n",
       "      <td>180970</td>\n",
       "      <td>180970</td>\n",
       "      <td>180970</td>\n",
       "      <td>180970</td>\n",
       "      <td>180970</td>\n",
       "    </tr>\n",
       "    <tr>\n",
       "      <th>251</th>\n",
       "      <td>NaN</td>\n",
       "      <td>Timor-Leste</td>\n",
       "      <td>-8.874217</td>\n",
       "      <td>125.727539</td>\n",
       "      <td>0</td>\n",
       "      <td>0</td>\n",
       "      <td>0</td>\n",
       "      <td>0</td>\n",
       "      <td>0</td>\n",
       "      <td>0</td>\n",
       "      <td>...</td>\n",
       "      <td>22972</td>\n",
       "      <td>22972</td>\n",
       "      <td>22974</td>\n",
       "      <td>22975</td>\n",
       "      <td>22976</td>\n",
       "      <td>22976</td>\n",
       "      <td>22976</td>\n",
       "      <td>22978</td>\n",
       "      <td>22980</td>\n",
       "      <td>22984</td>\n",
       "    </tr>\n",
       "    <tr>\n",
       "      <th>167</th>\n",
       "      <td>NaN</td>\n",
       "      <td>Latvia</td>\n",
       "      <td>56.879600</td>\n",
       "      <td>24.603200</td>\n",
       "      <td>0</td>\n",
       "      <td>0</td>\n",
       "      <td>0</td>\n",
       "      <td>0</td>\n",
       "      <td>0</td>\n",
       "      <td>0</td>\n",
       "      <td>...</td>\n",
       "      <td>841132</td>\n",
       "      <td>842127</td>\n",
       "      <td>843035</td>\n",
       "      <td>844142</td>\n",
       "      <td>844980</td>\n",
       "      <td>844980</td>\n",
       "      <td>844980</td>\n",
       "      <td>846530</td>\n",
       "      <td>847709</td>\n",
       "      <td>849802</td>\n",
       "    </tr>\n",
       "    <tr>\n",
       "      <th>283</th>\n",
       "      <td>NaN</td>\n",
       "      <td>Zambia</td>\n",
       "      <td>-13.133897</td>\n",
       "      <td>27.849332</td>\n",
       "      <td>0</td>\n",
       "      <td>0</td>\n",
       "      <td>0</td>\n",
       "      <td>0</td>\n",
       "      <td>0</td>\n",
       "      <td>0</td>\n",
       "      <td>...</td>\n",
       "      <td>327102</td>\n",
       "      <td>327102</td>\n",
       "      <td>327102</td>\n",
       "      <td>327102</td>\n",
       "      <td>327994</td>\n",
       "      <td>327994</td>\n",
       "      <td>327994</td>\n",
       "      <td>327994</td>\n",
       "      <td>328550</td>\n",
       "      <td>328550</td>\n",
       "    </tr>\n",
       "    <tr>\n",
       "      <th>188</th>\n",
       "      <td>NaN</td>\n",
       "      <td>Monaco</td>\n",
       "      <td>43.733300</td>\n",
       "      <td>7.416700</td>\n",
       "      <td>0</td>\n",
       "      <td>0</td>\n",
       "      <td>0</td>\n",
       "      <td>0</td>\n",
       "      <td>0</td>\n",
       "      <td>0</td>\n",
       "      <td>...</td>\n",
       "      <td>13480</td>\n",
       "      <td>13576</td>\n",
       "      <td>13645</td>\n",
       "      <td>13696</td>\n",
       "      <td>13739</td>\n",
       "      <td>13739</td>\n",
       "      <td>13739</td>\n",
       "      <td>13779</td>\n",
       "      <td>13845</td>\n",
       "      <td>13887</td>\n",
       "    </tr>\n",
       "    <tr>\n",
       "      <th>130</th>\n",
       "      <td>Wallis and Futuna</td>\n",
       "      <td>France</td>\n",
       "      <td>-14.293800</td>\n",
       "      <td>-178.116500</td>\n",
       "      <td>0</td>\n",
       "      <td>0</td>\n",
       "      <td>0</td>\n",
       "      <td>0</td>\n",
       "      <td>0</td>\n",
       "      <td>0</td>\n",
       "      <td>...</td>\n",
       "      <td>456</td>\n",
       "      <td>456</td>\n",
       "      <td>456</td>\n",
       "      <td>456</td>\n",
       "      <td>456</td>\n",
       "      <td>456</td>\n",
       "      <td>456</td>\n",
       "      <td>456</td>\n",
       "      <td>533</td>\n",
       "      <td>533</td>\n",
       "    </tr>\n",
       "    <tr>\n",
       "      <th>272</th>\n",
       "      <td>Saint Helena, Ascension and Tristan da Cunha</td>\n",
       "      <td>United Kingdom</td>\n",
       "      <td>-7.946700</td>\n",
       "      <td>-14.355900</td>\n",
       "      <td>0</td>\n",
       "      <td>0</td>\n",
       "      <td>0</td>\n",
       "      <td>0</td>\n",
       "      <td>0</td>\n",
       "      <td>0</td>\n",
       "      <td>...</td>\n",
       "      <td>4</td>\n",
       "      <td>4</td>\n",
       "      <td>4</td>\n",
       "      <td>4</td>\n",
       "      <td>4</td>\n",
       "      <td>4</td>\n",
       "      <td>4</td>\n",
       "      <td>4</td>\n",
       "      <td>4</td>\n",
       "      <td>4</td>\n",
       "    </tr>\n",
       "    <tr>\n",
       "      <th>139</th>\n",
       "      <td>NaN</td>\n",
       "      <td>Guatemala</td>\n",
       "      <td>15.783500</td>\n",
       "      <td>-90.230800</td>\n",
       "      <td>0</td>\n",
       "      <td>0</td>\n",
       "      <td>0</td>\n",
       "      <td>0</td>\n",
       "      <td>0</td>\n",
       "      <td>0</td>\n",
       "      <td>...</td>\n",
       "      <td>948749</td>\n",
       "      <td>955370</td>\n",
       "      <td>963117</td>\n",
       "      <td>970621</td>\n",
       "      <td>977539</td>\n",
       "      <td>982808</td>\n",
       "      <td>984477</td>\n",
       "      <td>985245</td>\n",
       "      <td>991257</td>\n",
       "      <td>997980</td>\n",
       "    </tr>\n",
       "    <tr>\n",
       "      <th>133</th>\n",
       "      <td>NaN</td>\n",
       "      <td>Gambia</td>\n",
       "      <td>13.443200</td>\n",
       "      <td>-15.310100</td>\n",
       "      <td>0</td>\n",
       "      <td>0</td>\n",
       "      <td>0</td>\n",
       "      <td>0</td>\n",
       "      <td>0</td>\n",
       "      <td>0</td>\n",
       "      <td>...</td>\n",
       "      <td>12009</td>\n",
       "      <td>12009</td>\n",
       "      <td>12009</td>\n",
       "      <td>12009</td>\n",
       "      <td>12009</td>\n",
       "      <td>12009</td>\n",
       "      <td>12009</td>\n",
       "      <td>12009</td>\n",
       "      <td>12028</td>\n",
       "      <td>12028</td>\n",
       "    </tr>\n",
       "    <tr>\n",
       "      <th>74</th>\n",
       "      <td>Inner Mongolia</td>\n",
       "      <td>China</td>\n",
       "      <td>44.093500</td>\n",
       "      <td>113.944800</td>\n",
       "      <td>0</td>\n",
       "      <td>0</td>\n",
       "      <td>1</td>\n",
       "      <td>7</td>\n",
       "      <td>7</td>\n",
       "      <td>11</td>\n",
       "      <td>...</td>\n",
       "      <td>2138</td>\n",
       "      <td>2144</td>\n",
       "      <td>2145</td>\n",
       "      <td>2149</td>\n",
       "      <td>2152</td>\n",
       "      <td>2152</td>\n",
       "      <td>2155</td>\n",
       "      <td>2157</td>\n",
       "      <td>2157</td>\n",
       "      <td>2163</td>\n",
       "    </tr>\n",
       "  </tbody>\n",
       "</table>\n",
       "<p>20 rows × 915 columns</p>\n",
       "</div>"
      ],
      "text/plain": [
       "                                   Province/State  \\\n",
       "89                                        Unknown   \n",
       "158                                           NaN   \n",
       "25                                            NaN   \n",
       "127                              Saint Barthelemy   \n",
       "55                                          Yukon   \n",
       "75                                        Jiangsu   \n",
       "1                                             NaN   \n",
       "223                                           NaN   \n",
       "150                                           NaN   \n",
       "88                                          Tibet   \n",
       "112                                           NaN   \n",
       "251                                           NaN   \n",
       "167                                           NaN   \n",
       "283                                           NaN   \n",
       "188                                           NaN   \n",
       "130                             Wallis and Futuna   \n",
       "272  Saint Helena, Ascension and Tristan da Cunha   \n",
       "139                                           NaN   \n",
       "133                                           NaN   \n",
       "74                                 Inner Mongolia   \n",
       "\n",
       "                       Country/Region        Lat        Long  1/22/20  \\\n",
       "89                              China        NaN         NaN        0   \n",
       "158                        Kazakhstan  48.019600   66.923700        0   \n",
       "25                             Belize  17.189900  -88.497600        0   \n",
       "127                            France  17.900000  -62.833300        0   \n",
       "55                             Canada  64.282300 -135.000000        0   \n",
       "75                              China  32.971100  119.455000        1   \n",
       "1                             Albania  41.153300   20.168300        0   \n",
       "223  Saint Vincent and the Grenadines  12.984300  -61.287200        0   \n",
       "150                              Iran  32.427908   53.688046        0   \n",
       "88                              China  31.692700   88.092400        0   \n",
       "112                       El Salvador  13.794200  -88.896500        0   \n",
       "251                       Timor-Leste  -8.874217  125.727539        0   \n",
       "167                            Latvia  56.879600   24.603200        0   \n",
       "283                            Zambia -13.133897   27.849332        0   \n",
       "188                            Monaco  43.733300    7.416700        0   \n",
       "130                            France -14.293800 -178.116500        0   \n",
       "272                    United Kingdom  -7.946700  -14.355900        0   \n",
       "139                         Guatemala  15.783500  -90.230800        0   \n",
       "133                            Gambia  13.443200  -15.310100        0   \n",
       "74                              China  44.093500  113.944800        0   \n",
       "\n",
       "     1/23/20  1/24/20  1/25/20  1/26/20  1/27/20  ...  7/11/22  7/12/22  \\\n",
       "89         0        0        0        0        0  ...   666249   666554   \n",
       "158        0        0        0        0        0  ...  1399173  1399656   \n",
       "25         0        0        0        0        0  ...    64948    65508   \n",
       "127        0        0        0        0        0  ...     4740     4845   \n",
       "55         0        0        0        0        0  ...     4521     4522   \n",
       "75         5        9       18       33       47  ...     2299     2305   \n",
       "1          0        0        0        0        0  ...   288176   289391   \n",
       "223        0        0        0        0        0  ...     9083     9127   \n",
       "150        0        0        0        0        0  ...  7251429  7255017   \n",
       "88         0        0        0        0        0  ...        1        1   \n",
       "112        0        0        0        0        0  ...   180970   180970   \n",
       "251        0        0        0        0        0  ...    22972    22972   \n",
       "167        0        0        0        0        0  ...   841132   842127   \n",
       "283        0        0        0        0        0  ...   327102   327102   \n",
       "188        0        0        0        0        0  ...    13480    13576   \n",
       "130        0        0        0        0        0  ...      456      456   \n",
       "272        0        0        0        0        0  ...        4        4   \n",
       "139        0        0        0        0        0  ...   948749   955370   \n",
       "133        0        0        0        0        0  ...    12009    12009   \n",
       "74         0        1        7        7       11  ...     2138     2144   \n",
       "\n",
       "     7/13/22  7/14/22  7/15/22  7/16/22  7/17/22  7/18/22  7/19/22  7/20/22  \n",
       "89    666784   667013   667417   667810   668321   668698   669175   670004  \n",
       "158  1400476  1401600  1402871  1404346  1407386  1407386  1411836  1410812  \n",
       "25     65508    65840    65994    65994    65994    66179    66317    66438  \n",
       "127     4845     4845     4845     4845     4845     4845     4954     4954  \n",
       "55      4535     4547     4558     4558     4558     4583     4587     4595  \n",
       "75      2308     2308     2311     2313     2314     2314     2315     2316  \n",
       "1     290954   290954   293917   293917   293917   293917   293917   293917  \n",
       "223     9162     9183     9183     9183     9183     9183     9240     9240  \n",
       "150  7260017  7265251  7270023  7272727  7278478  7284165  7289542  7296635  \n",
       "88         1        1        1        1        1        1        1        1  \n",
       "112   180970   180970   180970   180970   180970   180970   180970   180970  \n",
       "251    22974    22975    22976    22976    22976    22978    22980    22984  \n",
       "167   843035   844142   844980   844980   844980   846530   847709   849802  \n",
       "283   327102   327102   327994   327994   327994   327994   328550   328550  \n",
       "188    13645    13696    13739    13739    13739    13779    13845    13887  \n",
       "130      456      456      456      456      456      456      533      533  \n",
       "272        4        4        4        4        4        4        4        4  \n",
       "139   963117   970621   977539   982808   984477   985245   991257   997980  \n",
       "133    12009    12009    12009    12009    12009    12009    12028    12028  \n",
       "74      2145     2149     2152     2152     2155     2157     2157     2163  \n",
       "\n",
       "[20 rows x 915 columns]"
      ]
     },
     "execution_count": 14,
     "metadata": {},
     "output_type": "execute_result"
    }
   ],
   "source": [
    "confirmed.sample(20)"
   ]
  },
  {
   "cell_type": "code",
   "execution_count": 15,
   "metadata": {
    "colab": {
     "base_uri": "https://localhost:8080/",
     "height": 790
    },
    "colab_type": "code",
    "id": "xMxLzhXXhlGX",
    "outputId": "10854c1d-d05e-4020-e0f8-94dbbaec9d3c"
   },
   "outputs": [
    {
     "data": {
      "text/plain": [
       "Province/State        NaN\n",
       "Country/Region    Albania\n",
       "Lat               41.1533\n",
       "Long              20.1683\n",
       "1/22/20                 0\n",
       "                   ...   \n",
       "7/16/22            293917\n",
       "7/17/22            293917\n",
       "7/18/22            293917\n",
       "7/19/22            293917\n",
       "7/20/22            293917\n",
       "Name: 1, Length: 915, dtype: object"
      ]
     },
     "execution_count": 15,
     "metadata": {},
     "output_type": "execute_result"
    }
   ],
   "source": [
    "confirmed.iloc[1]"
   ]
  },
  {
   "cell_type": "code",
   "execution_count": 16,
   "metadata": {
    "colab": {
     "base_uri": "https://localhost:8080/",
     "height": 773
    },
    "colab_type": "code",
    "id": "o3Kga3RKh500",
    "outputId": "b9fba51a-1206-4624-a0d2-7edbdd5e1b8b"
   },
   "outputs": [
    {
     "data": {
      "text/plain": [
       "Country/Region       China\n",
       "Lat                31.8257\n",
       "Long              117.2264\n",
       "1/22/20                  1\n",
       "1/23/20                  9\n",
       "                    ...   \n",
       "7/16/22               1467\n",
       "7/17/22               1470\n",
       "7/18/22               1476\n",
       "7/19/22               1480\n",
       "7/20/22               1487\n",
       "Name: Anhui, Length: 914, dtype: object"
      ]
     },
     "execution_count": 16,
     "metadata": {},
     "output_type": "execute_result"
    }
   ],
   "source": [
    "confirmed.set_index(\"Province/State\").loc[\"Anhui\"]"
   ]
  },
  {
   "cell_type": "code",
   "execution_count": 17,
   "metadata": {
    "colab": {
     "base_uri": "https://localhost:8080/",
     "height": 773
    },
    "colab_type": "code",
    "id": "2SyYtm1AiBYk",
    "outputId": "ab4aa17a-5707-4880-d80a-1d099774cded"
   },
   "outputs": [
    {
     "data": {
      "text/plain": [
       "Country/Region    Albania\n",
       "Lat               41.1533\n",
       "Long              20.1683\n",
       "1/22/20                 0\n",
       "1/23/20                 0\n",
       "                   ...   \n",
       "7/16/22            293917\n",
       "7/17/22            293917\n",
       "7/18/22            293917\n",
       "7/19/22            293917\n",
       "7/20/22            293917\n",
       "Name: nan, Length: 914, dtype: object"
      ]
     },
     "execution_count": 17,
     "metadata": {},
     "output_type": "execute_result"
    }
   ],
   "source": [
    "confirmed.set_index(\"Province/State\").iloc[1]"
   ]
  },
  {
   "cell_type": "code",
   "execution_count": 19,
   "metadata": {
    "colab": {
     "base_uri": "https://localhost:8080/",
     "height": 218
    },
    "colab_type": "code",
    "id": "_sytBg9EiM9U",
    "outputId": "7d3cd2a4-44d2-45f3-c69d-33f605f2f967"
   },
   "outputs": [
    {
     "data": {
      "text/plain": [
       "China             34\n",
       "Canada            16\n",
       "United Kingdom    14\n",
       "France            12\n",
       "Australia          8\n",
       "                  ..\n",
       "Guinea             1\n",
       "Guinea-Bissau      1\n",
       "Guyana             1\n",
       "Haiti              1\n",
       "Zimbabwe           1\n",
       "Name: Country/Region, Length: 199, dtype: int64"
      ]
     },
     "execution_count": 19,
     "metadata": {},
     "output_type": "execute_result"
    }
   ],
   "source": [
    "confirmed[\"Country/Region\"].value_counts()"
   ]
  },
  {
   "cell_type": "code",
   "execution_count": 20,
   "metadata": {
    "colab": {
     "base_uri": "https://localhost:8080/",
     "height": 245
    },
    "colab_type": "code",
    "id": "EisiJz75iatq",
    "outputId": "bb24e93b-589d-4085-cfe5-009394a9b42f"
   },
   "outputs": [
    {
     "data": {
      "text/html": [
       "<div>\n",
       "<style scoped>\n",
       "    .dataframe tbody tr th:only-of-type {\n",
       "        vertical-align: middle;\n",
       "    }\n",
       "\n",
       "    .dataframe tbody tr th {\n",
       "        vertical-align: top;\n",
       "    }\n",
       "\n",
       "    .dataframe thead th {\n",
       "        text-align: right;\n",
       "    }\n",
       "</style>\n",
       "<table border=\"1\" class=\"dataframe\">\n",
       "  <thead>\n",
       "    <tr style=\"text-align: right;\">\n",
       "      <th></th>\n",
       "      <th>Lat</th>\n",
       "      <th>Long</th>\n",
       "      <th>1/22/20</th>\n",
       "      <th>1/23/20</th>\n",
       "      <th>1/24/20</th>\n",
       "      <th>1/25/20</th>\n",
       "      <th>1/26/20</th>\n",
       "      <th>1/27/20</th>\n",
       "      <th>1/28/20</th>\n",
       "      <th>1/29/20</th>\n",
       "      <th>...</th>\n",
       "      <th>7/11/22</th>\n",
       "      <th>7/12/22</th>\n",
       "      <th>7/13/22</th>\n",
       "      <th>7/14/22</th>\n",
       "      <th>7/15/22</th>\n",
       "      <th>7/16/22</th>\n",
       "      <th>7/17/22</th>\n",
       "      <th>7/18/22</th>\n",
       "      <th>7/19/22</th>\n",
       "      <th>7/20/22</th>\n",
       "    </tr>\n",
       "    <tr>\n",
       "      <th>Country/Region</th>\n",
       "      <th></th>\n",
       "      <th></th>\n",
       "      <th></th>\n",
       "      <th></th>\n",
       "      <th></th>\n",
       "      <th></th>\n",
       "      <th></th>\n",
       "      <th></th>\n",
       "      <th></th>\n",
       "      <th></th>\n",
       "      <th></th>\n",
       "      <th></th>\n",
       "      <th></th>\n",
       "      <th></th>\n",
       "      <th></th>\n",
       "      <th></th>\n",
       "      <th></th>\n",
       "      <th></th>\n",
       "      <th></th>\n",
       "      <th></th>\n",
       "      <th></th>\n",
       "    </tr>\n",
       "  </thead>\n",
       "  <tbody>\n",
       "    <tr>\n",
       "      <th>Afghanistan</th>\n",
       "      <td>33.93911</td>\n",
       "      <td>67.709953</td>\n",
       "      <td>0</td>\n",
       "      <td>0</td>\n",
       "      <td>0</td>\n",
       "      <td>0</td>\n",
       "      <td>0</td>\n",
       "      <td>0</td>\n",
       "      <td>0</td>\n",
       "      <td>0</td>\n",
       "      <td>...</td>\n",
       "      <td>183268</td>\n",
       "      <td>183272</td>\n",
       "      <td>183285</td>\n",
       "      <td>183358</td>\n",
       "      <td>183407</td>\n",
       "      <td>183445</td>\n",
       "      <td>183572</td>\n",
       "      <td>183687</td>\n",
       "      <td>183908</td>\n",
       "      <td>184038</td>\n",
       "    </tr>\n",
       "    <tr>\n",
       "      <th>Albania</th>\n",
       "      <td>41.15330</td>\n",
       "      <td>20.168300</td>\n",
       "      <td>0</td>\n",
       "      <td>0</td>\n",
       "      <td>0</td>\n",
       "      <td>0</td>\n",
       "      <td>0</td>\n",
       "      <td>0</td>\n",
       "      <td>0</td>\n",
       "      <td>0</td>\n",
       "      <td>...</td>\n",
       "      <td>288176</td>\n",
       "      <td>289391</td>\n",
       "      <td>290954</td>\n",
       "      <td>290954</td>\n",
       "      <td>293917</td>\n",
       "      <td>293917</td>\n",
       "      <td>293917</td>\n",
       "      <td>293917</td>\n",
       "      <td>293917</td>\n",
       "      <td>293917</td>\n",
       "    </tr>\n",
       "    <tr>\n",
       "      <th>Algeria</th>\n",
       "      <td>28.03390</td>\n",
       "      <td>1.659600</td>\n",
       "      <td>0</td>\n",
       "      <td>0</td>\n",
       "      <td>0</td>\n",
       "      <td>0</td>\n",
       "      <td>0</td>\n",
       "      <td>0</td>\n",
       "      <td>0</td>\n",
       "      <td>0</td>\n",
       "      <td>...</td>\n",
       "      <td>266274</td>\n",
       "      <td>266303</td>\n",
       "      <td>266328</td>\n",
       "      <td>266356</td>\n",
       "      <td>266392</td>\n",
       "      <td>266424</td>\n",
       "      <td>266445</td>\n",
       "      <td>266487</td>\n",
       "      <td>266542</td>\n",
       "      <td>266591</td>\n",
       "    </tr>\n",
       "    <tr>\n",
       "      <th>Andorra</th>\n",
       "      <td>42.50630</td>\n",
       "      <td>1.521800</td>\n",
       "      <td>0</td>\n",
       "      <td>0</td>\n",
       "      <td>0</td>\n",
       "      <td>0</td>\n",
       "      <td>0</td>\n",
       "      <td>0</td>\n",
       "      <td>0</td>\n",
       "      <td>0</td>\n",
       "      <td>...</td>\n",
       "      <td>44671</td>\n",
       "      <td>44671</td>\n",
       "      <td>44671</td>\n",
       "      <td>44671</td>\n",
       "      <td>44671</td>\n",
       "      <td>44671</td>\n",
       "      <td>44671</td>\n",
       "      <td>45061</td>\n",
       "      <td>45061</td>\n",
       "      <td>45061</td>\n",
       "    </tr>\n",
       "    <tr>\n",
       "      <th>Angola</th>\n",
       "      <td>-11.20270</td>\n",
       "      <td>17.873900</td>\n",
       "      <td>0</td>\n",
       "      <td>0</td>\n",
       "      <td>0</td>\n",
       "      <td>0</td>\n",
       "      <td>0</td>\n",
       "      <td>0</td>\n",
       "      <td>0</td>\n",
       "      <td>0</td>\n",
       "      <td>...</td>\n",
       "      <td>101320</td>\n",
       "      <td>101320</td>\n",
       "      <td>101320</td>\n",
       "      <td>101600</td>\n",
       "      <td>101901</td>\n",
       "      <td>101901</td>\n",
       "      <td>101901</td>\n",
       "      <td>102209</td>\n",
       "      <td>102209</td>\n",
       "      <td>102209</td>\n",
       "    </tr>\n",
       "  </tbody>\n",
       "</table>\n",
       "<p>5 rows × 913 columns</p>\n",
       "</div>"
      ],
      "text/plain": [
       "                     Lat       Long  1/22/20  1/23/20  1/24/20  1/25/20  \\\n",
       "Country/Region                                                            \n",
       "Afghanistan     33.93911  67.709953        0        0        0        0   \n",
       "Albania         41.15330  20.168300        0        0        0        0   \n",
       "Algeria         28.03390   1.659600        0        0        0        0   \n",
       "Andorra         42.50630   1.521800        0        0        0        0   \n",
       "Angola         -11.20270  17.873900        0        0        0        0   \n",
       "\n",
       "                1/26/20  1/27/20  1/28/20  1/29/20  ...  7/11/22  7/12/22  \\\n",
       "Country/Region                                      ...                     \n",
       "Afghanistan           0        0        0        0  ...   183268   183272   \n",
       "Albania               0        0        0        0  ...   288176   289391   \n",
       "Algeria               0        0        0        0  ...   266274   266303   \n",
       "Andorra               0        0        0        0  ...    44671    44671   \n",
       "Angola                0        0        0        0  ...   101320   101320   \n",
       "\n",
       "                7/13/22  7/14/22  7/15/22  7/16/22  7/17/22  7/18/22  7/19/22  \\\n",
       "Country/Region                                                                  \n",
       "Afghanistan      183285   183358   183407   183445   183572   183687   183908   \n",
       "Albania          290954   290954   293917   293917   293917   293917   293917   \n",
       "Algeria          266328   266356   266392   266424   266445   266487   266542   \n",
       "Andorra           44671    44671    44671    44671    44671    45061    45061   \n",
       "Angola           101320   101600   101901   101901   101901   102209   102209   \n",
       "\n",
       "                7/20/22  \n",
       "Country/Region           \n",
       "Afghanistan      184038  \n",
       "Albania          293917  \n",
       "Algeria          266591  \n",
       "Andorra           45061  \n",
       "Angola           102209  \n",
       "\n",
       "[5 rows x 913 columns]"
      ]
     },
     "execution_count": 20,
     "metadata": {},
     "output_type": "execute_result"
    }
   ],
   "source": [
    "confirmed_by_country = confirmed.groupby(\"Country/Region\").sum()\n",
    "confirmed_by_country.head()"
   ]
  },
  {
   "cell_type": "code",
   "execution_count": 21,
   "metadata": {
    "colab": {
     "base_uri": "https://localhost:8080/",
     "height": 393
    },
    "colab_type": "code",
    "id": "gEK8hkqzi7BS",
    "outputId": "20c6dc49-47c0-4864-a755-1f9c58e65f9b"
   },
   "outputs": [
    {
     "data": {
      "text/html": [
       "<div>\n",
       "<style scoped>\n",
       "    .dataframe tbody tr th:only-of-type {\n",
       "        vertical-align: middle;\n",
       "    }\n",
       "\n",
       "    .dataframe tbody tr th {\n",
       "        vertical-align: top;\n",
       "    }\n",
       "\n",
       "    .dataframe thead th {\n",
       "        text-align: right;\n",
       "    }\n",
       "</style>\n",
       "<table border=\"1\" class=\"dataframe\">\n",
       "  <thead>\n",
       "    <tr style=\"text-align: right;\">\n",
       "      <th></th>\n",
       "      <th>Lat</th>\n",
       "      <th>Long</th>\n",
       "      <th>1/22/20</th>\n",
       "      <th>1/23/20</th>\n",
       "      <th>1/24/20</th>\n",
       "      <th>1/25/20</th>\n",
       "      <th>1/26/20</th>\n",
       "      <th>1/27/20</th>\n",
       "      <th>1/28/20</th>\n",
       "      <th>1/29/20</th>\n",
       "      <th>...</th>\n",
       "      <th>7/11/22</th>\n",
       "      <th>7/12/22</th>\n",
       "      <th>7/13/22</th>\n",
       "      <th>7/14/22</th>\n",
       "      <th>7/15/22</th>\n",
       "      <th>7/16/22</th>\n",
       "      <th>7/17/22</th>\n",
       "      <th>7/18/22</th>\n",
       "      <th>7/19/22</th>\n",
       "      <th>7/20/22</th>\n",
       "    </tr>\n",
       "    <tr>\n",
       "      <th>Country/Region</th>\n",
       "      <th></th>\n",
       "      <th></th>\n",
       "      <th></th>\n",
       "      <th></th>\n",
       "      <th></th>\n",
       "      <th></th>\n",
       "      <th></th>\n",
       "      <th></th>\n",
       "      <th></th>\n",
       "      <th></th>\n",
       "      <th></th>\n",
       "      <th></th>\n",
       "      <th></th>\n",
       "      <th></th>\n",
       "      <th></th>\n",
       "      <th></th>\n",
       "      <th></th>\n",
       "      <th></th>\n",
       "      <th></th>\n",
       "      <th></th>\n",
       "      <th></th>\n",
       "    </tr>\n",
       "  </thead>\n",
       "  <tbody>\n",
       "    <tr>\n",
       "      <th>Tanzania</th>\n",
       "      <td>-6.369028</td>\n",
       "      <td>34.888822</td>\n",
       "      <td>0</td>\n",
       "      <td>0</td>\n",
       "      <td>0</td>\n",
       "      <td>0</td>\n",
       "      <td>0</td>\n",
       "      <td>0</td>\n",
       "      <td>0</td>\n",
       "      <td>0</td>\n",
       "      <td>...</td>\n",
       "      <td>36174</td>\n",
       "      <td>36174</td>\n",
       "      <td>36174</td>\n",
       "      <td>37510</td>\n",
       "      <td>37510</td>\n",
       "      <td>37510</td>\n",
       "      <td>37510</td>\n",
       "      <td>37510</td>\n",
       "      <td>37510</td>\n",
       "      <td>37510</td>\n",
       "    </tr>\n",
       "    <tr>\n",
       "      <th>Philippines</th>\n",
       "      <td>12.879721</td>\n",
       "      <td>121.774017</td>\n",
       "      <td>0</td>\n",
       "      <td>0</td>\n",
       "      <td>0</td>\n",
       "      <td>0</td>\n",
       "      <td>0</td>\n",
       "      <td>0</td>\n",
       "      <td>0</td>\n",
       "      <td>0</td>\n",
       "      <td>...</td>\n",
       "      <td>3720054</td>\n",
       "      <td>3721413</td>\n",
       "      <td>3723014</td>\n",
       "      <td>3725382</td>\n",
       "      <td>3727970</td>\n",
       "      <td>3730545</td>\n",
       "      <td>3733101</td>\n",
       "      <td>3735383</td>\n",
       "      <td>3737222</td>\n",
       "      <td>3739160</td>\n",
       "    </tr>\n",
       "    <tr>\n",
       "      <th>Botswana</th>\n",
       "      <td>-22.328500</td>\n",
       "      <td>24.684900</td>\n",
       "      <td>0</td>\n",
       "      <td>0</td>\n",
       "      <td>0</td>\n",
       "      <td>0</td>\n",
       "      <td>0</td>\n",
       "      <td>0</td>\n",
       "      <td>0</td>\n",
       "      <td>0</td>\n",
       "      <td>...</td>\n",
       "      <td>324154</td>\n",
       "      <td>324154</td>\n",
       "      <td>324154</td>\n",
       "      <td>324841</td>\n",
       "      <td>324841</td>\n",
       "      <td>324841</td>\n",
       "      <td>324841</td>\n",
       "      <td>324841</td>\n",
       "      <td>324841</td>\n",
       "      <td>324841</td>\n",
       "    </tr>\n",
       "    <tr>\n",
       "      <th>Kyrgyzstan</th>\n",
       "      <td>41.204380</td>\n",
       "      <td>74.766098</td>\n",
       "      <td>0</td>\n",
       "      <td>0</td>\n",
       "      <td>0</td>\n",
       "      <td>0</td>\n",
       "      <td>0</td>\n",
       "      <td>0</td>\n",
       "      <td>0</td>\n",
       "      <td>0</td>\n",
       "      <td>...</td>\n",
       "      <td>201215</td>\n",
       "      <td>201243</td>\n",
       "      <td>201282</td>\n",
       "      <td>201329</td>\n",
       "      <td>201414</td>\n",
       "      <td>201414</td>\n",
       "      <td>201414</td>\n",
       "      <td>201704</td>\n",
       "      <td>201704</td>\n",
       "      <td>201704</td>\n",
       "    </tr>\n",
       "    <tr>\n",
       "      <th>Sao Tome and Principe</th>\n",
       "      <td>0.186400</td>\n",
       "      <td>6.613100</td>\n",
       "      <td>0</td>\n",
       "      <td>0</td>\n",
       "      <td>0</td>\n",
       "      <td>0</td>\n",
       "      <td>0</td>\n",
       "      <td>0</td>\n",
       "      <td>0</td>\n",
       "      <td>0</td>\n",
       "      <td>...</td>\n",
       "      <td>6064</td>\n",
       "      <td>6079</td>\n",
       "      <td>6079</td>\n",
       "      <td>6079</td>\n",
       "      <td>6079</td>\n",
       "      <td>6079</td>\n",
       "      <td>6079</td>\n",
       "      <td>6087</td>\n",
       "      <td>6087</td>\n",
       "      <td>6087</td>\n",
       "    </tr>\n",
       "    <tr>\n",
       "      <th>Seychelles</th>\n",
       "      <td>-4.679600</td>\n",
       "      <td>55.492000</td>\n",
       "      <td>0</td>\n",
       "      <td>0</td>\n",
       "      <td>0</td>\n",
       "      <td>0</td>\n",
       "      <td>0</td>\n",
       "      <td>0</td>\n",
       "      <td>0</td>\n",
       "      <td>0</td>\n",
       "      <td>...</td>\n",
       "      <td>45000</td>\n",
       "      <td>45076</td>\n",
       "      <td>45076</td>\n",
       "      <td>45185</td>\n",
       "      <td>45185</td>\n",
       "      <td>45185</td>\n",
       "      <td>45185</td>\n",
       "      <td>45233</td>\n",
       "      <td>45269</td>\n",
       "      <td>45269</td>\n",
       "    </tr>\n",
       "    <tr>\n",
       "      <th>Singapore</th>\n",
       "      <td>1.283300</td>\n",
       "      <td>103.833300</td>\n",
       "      <td>0</td>\n",
       "      <td>1</td>\n",
       "      <td>3</td>\n",
       "      <td>3</td>\n",
       "      <td>4</td>\n",
       "      <td>5</td>\n",
       "      <td>7</td>\n",
       "      <td>7</td>\n",
       "      <td>...</td>\n",
       "      <td>1534799</td>\n",
       "      <td>1540778</td>\n",
       "      <td>1557648</td>\n",
       "      <td>1569420</td>\n",
       "      <td>1579946</td>\n",
       "      <td>1589099</td>\n",
       "      <td>1596046</td>\n",
       "      <td>1602273</td>\n",
       "      <td>1616067</td>\n",
       "      <td>1626360</td>\n",
       "    </tr>\n",
       "    <tr>\n",
       "      <th>Finland</th>\n",
       "      <td>61.924110</td>\n",
       "      <td>25.748151</td>\n",
       "      <td>0</td>\n",
       "      <td>0</td>\n",
       "      <td>0</td>\n",
       "      <td>0</td>\n",
       "      <td>0</td>\n",
       "      <td>0</td>\n",
       "      <td>0</td>\n",
       "      <td>1</td>\n",
       "      <td>...</td>\n",
       "      <td>1158485</td>\n",
       "      <td>1158485</td>\n",
       "      <td>1158485</td>\n",
       "      <td>1171034</td>\n",
       "      <td>1171034</td>\n",
       "      <td>1171034</td>\n",
       "      <td>1171034</td>\n",
       "      <td>1171034</td>\n",
       "      <td>1171034</td>\n",
       "      <td>1171034</td>\n",
       "    </tr>\n",
       "    <tr>\n",
       "      <th>Yemen</th>\n",
       "      <td>15.552727</td>\n",
       "      <td>48.516388</td>\n",
       "      <td>0</td>\n",
       "      <td>0</td>\n",
       "      <td>0</td>\n",
       "      <td>0</td>\n",
       "      <td>0</td>\n",
       "      <td>0</td>\n",
       "      <td>0</td>\n",
       "      <td>0</td>\n",
       "      <td>...</td>\n",
       "      <td>11832</td>\n",
       "      <td>11832</td>\n",
       "      <td>11832</td>\n",
       "      <td>11832</td>\n",
       "      <td>11832</td>\n",
       "      <td>11848</td>\n",
       "      <td>11848</td>\n",
       "      <td>11848</td>\n",
       "      <td>11849</td>\n",
       "      <td>11849</td>\n",
       "    </tr>\n",
       "    <tr>\n",
       "      <th>India</th>\n",
       "      <td>20.593684</td>\n",
       "      <td>78.962880</td>\n",
       "      <td>0</td>\n",
       "      <td>0</td>\n",
       "      <td>0</td>\n",
       "      <td>0</td>\n",
       "      <td>0</td>\n",
       "      <td>0</td>\n",
       "      <td>0</td>\n",
       "      <td>0</td>\n",
       "      <td>...</td>\n",
       "      <td>43652944</td>\n",
       "      <td>43669850</td>\n",
       "      <td>43689989</td>\n",
       "      <td>43710027</td>\n",
       "      <td>43730071</td>\n",
       "      <td>43750599</td>\n",
       "      <td>43767534</td>\n",
       "      <td>43783062</td>\n",
       "      <td>43801678</td>\n",
       "      <td>43824728</td>\n",
       "    </tr>\n",
       "  </tbody>\n",
       "</table>\n",
       "<p>10 rows × 913 columns</p>\n",
       "</div>"
      ],
      "text/plain": [
       "                             Lat        Long  1/22/20  1/23/20  1/24/20  \\\n",
       "Country/Region                                                            \n",
       "Tanzania               -6.369028   34.888822        0        0        0   \n",
       "Philippines            12.879721  121.774017        0        0        0   \n",
       "Botswana              -22.328500   24.684900        0        0        0   \n",
       "Kyrgyzstan             41.204380   74.766098        0        0        0   \n",
       "Sao Tome and Principe   0.186400    6.613100        0        0        0   \n",
       "Seychelles             -4.679600   55.492000        0        0        0   \n",
       "Singapore               1.283300  103.833300        0        1        3   \n",
       "Finland                61.924110   25.748151        0        0        0   \n",
       "Yemen                  15.552727   48.516388        0        0        0   \n",
       "India                  20.593684   78.962880        0        0        0   \n",
       "\n",
       "                       1/25/20  1/26/20  1/27/20  1/28/20  1/29/20  ...  \\\n",
       "Country/Region                                                      ...   \n",
       "Tanzania                     0        0        0        0        0  ...   \n",
       "Philippines                  0        0        0        0        0  ...   \n",
       "Botswana                     0        0        0        0        0  ...   \n",
       "Kyrgyzstan                   0        0        0        0        0  ...   \n",
       "Sao Tome and Principe        0        0        0        0        0  ...   \n",
       "Seychelles                   0        0        0        0        0  ...   \n",
       "Singapore                    3        4        5        7        7  ...   \n",
       "Finland                      0        0        0        0        1  ...   \n",
       "Yemen                        0        0        0        0        0  ...   \n",
       "India                        0        0        0        0        0  ...   \n",
       "\n",
       "                        7/11/22   7/12/22   7/13/22   7/14/22   7/15/22  \\\n",
       "Country/Region                                                            \n",
       "Tanzania                  36174     36174     36174     37510     37510   \n",
       "Philippines             3720054   3721413   3723014   3725382   3727970   \n",
       "Botswana                 324154    324154    324154    324841    324841   \n",
       "Kyrgyzstan               201215    201243    201282    201329    201414   \n",
       "Sao Tome and Principe      6064      6079      6079      6079      6079   \n",
       "Seychelles                45000     45076     45076     45185     45185   \n",
       "Singapore               1534799   1540778   1557648   1569420   1579946   \n",
       "Finland                 1158485   1158485   1158485   1171034   1171034   \n",
       "Yemen                     11832     11832     11832     11832     11832   \n",
       "India                  43652944  43669850  43689989  43710027  43730071   \n",
       "\n",
       "                        7/16/22   7/17/22   7/18/22   7/19/22   7/20/22  \n",
       "Country/Region                                                           \n",
       "Tanzania                  37510     37510     37510     37510     37510  \n",
       "Philippines             3730545   3733101   3735383   3737222   3739160  \n",
       "Botswana                 324841    324841    324841    324841    324841  \n",
       "Kyrgyzstan               201414    201414    201704    201704    201704  \n",
       "Sao Tome and Principe      6079      6079      6087      6087      6087  \n",
       "Seychelles                45185     45185     45233     45269     45269  \n",
       "Singapore               1589099   1596046   1602273   1616067   1626360  \n",
       "Finland                 1171034   1171034   1171034   1171034   1171034  \n",
       "Yemen                     11848     11848     11848     11849     11849  \n",
       "India                  43750599  43767534  43783062  43801678  43824728  \n",
       "\n",
       "[10 rows x 913 columns]"
      ]
     },
     "execution_count": 21,
     "metadata": {},
     "output_type": "execute_result"
    }
   ],
   "source": [
    "confirmed_by_country.sample(10)"
   ]
  },
  {
   "cell_type": "code",
   "execution_count": 23,
   "metadata": {
    "colab": {
     "base_uri": "https://localhost:8080/",
     "height": 722
    },
    "colab_type": "code",
    "id": "ZWSAWTEWjImg",
    "outputId": "aab10ed5-4dcc-4f5e-b9d5-fe3ba68c9ce6"
   },
   "outputs": [
    {
     "data": {
      "text/plain": [
       "1/22/20           0.0\n",
       "1/23/20           0.0\n",
       "1/24/20           0.0\n",
       "1/25/20           0.0\n",
       "1/26/20           0.0\n",
       "              ...    \n",
       "7/16/22    43750599.0\n",
       "7/17/22    43767534.0\n",
       "7/18/22    43783062.0\n",
       "7/19/22    43801678.0\n",
       "7/20/22    43824728.0\n",
       "Name: India, Length: 911, dtype: float64"
      ]
     },
     "execution_count": 23,
     "metadata": {},
     "output_type": "execute_result"
    }
   ],
   "source": [
    "confirmed_by_country.loc[\"India\"][2:]"
   ]
  },
  {
   "cell_type": "code",
   "execution_count": 25,
   "metadata": {
    "colab": {
     "base_uri": "https://localhost:8080/",
     "height": 336
    },
    "colab_type": "code",
    "id": "beiHbO2wjRaR",
    "outputId": "9f022255-dddb-4474-dc3d-5a02cfe7b7f8"
   },
   "outputs": [
    {
     "data": {
      "image/png": "[encoded data removed]",
      "text/plain": [
       "<Figure size 144x360 with 1 Axes>"
      ]
     },
     "metadata": {
      "needs_background": "light"
     },
     "output_type": "display_data"
    }
   ],
   "source": [
    "import matplotlib.pyplot as plt\n",
    "\n",
    "# gráfico extremamente apertado\n",
    "# estamos sendo longe do adequado ao passar uma mensagem errada\n",
    "\n",
    "plt.figure(figsize=(2,5))\n",
    "confirmed_by_country.loc[\"India\"][2:].plot()\n",
    "plt.title(\"Casos confirmados na 'India'\")\n",
    "plt.show()"
   ]
  },
  {
   "cell_type": "markdown",
   "metadata": {
    "colab_type": "text",
    "id": "54Y3cU0iIKCL"
   },
   "source": [
    "Nos últimos 20 dias desses dados, DOBROU os casos confirmados\n"
   ]
  },
  {
   "cell_type": "code",
   "execution_count": 26,
   "metadata": {
    "colab": {
     "base_uri": "https://localhost:8080/",
     "height": 336
    },
    "colab_type": "code",
    "id": "kYsx3ckgjdRo",
    "outputId": "37181c1d-a36c-45c5-8b33-9b9280cc386d"
   },
   "outputs": [
    {
     "data": {
      "image/png": "[encoded data removed]",
      "text/plain": [
       "<Figure size 720x360 with 1 Axes>"
      ]
     },
     "metadata": {
      "needs_background": "light"
     },
     "output_type": "display_data"
    }
   ],
   "source": [
    "# por isso em data visualization é FUNDAMENTAL\n",
    "# estarmos atentos aos DOIS EIXOS\n",
    "# esse aqui esta tentando comparar o crescimento do momento inicial ao momento atual\n",
    "\n",
    "plt.figure(figsize=(10,5))\n",
    "confirmed_by_country.loc[\"India\"][2:].plot()\n",
    "plt.title(\"Casos confirmados na 'India'\")\n",
    "plt.show()"
   ]
  },
  {
   "cell_type": "code",
   "execution_count": 27,
   "metadata": {
    "colab": {
     "base_uri": "https://localhost:8080/",
     "height": 336
    },
    "colab_type": "code",
    "id": "oUNQcGBsmdto",
    "outputId": "37327d29-b2a9-4412-ce73-d6c88412c6b3"
   },
   "outputs": [
    {
     "data": {
      "image/png": "[encoded data removed]",
      "text/plain": [
       "<Figure size 720x360 with 1 Axes>"
      ]
     },
     "metadata": {
      "needs_background": "light"
     },
     "output_type": "display_data"
    }
   ],
   "source": [
    "# exemplo ruim de manusear o eixo y\n",
    "# aqui a mensagem ficou novamente diferente\n",
    "\n",
    "# esse está tentando comparar o momento inicial com 1.386bi (população da china em 2017)\n",
    "# aqui a mensagem é novamente completamente diferente\n",
    "# e pode ser uma mensagem ruim, até mesmo errada. Poderia ser uma doença grave,\n",
    "# mas ao usarmos o eixo y com a população geral, fingimos que ela nao é grave\n",
    "# sendo que na realidade ESSE gráfico não POSSUI INFORMAÇÃO NENHUMA sobre a gravidade\n",
    "# da doença\n",
    "\n",
    "# Por quê? Só tem casos confirmados. Não fala letalidade? Não fala incidência?\n",
    "# Quais são as províncias infectadas? São de toda a China? E estou comparando com a\n",
    "# população de toda a China. errado.\n",
    "\n",
    "plt.figure(figsize=(10,5))\n",
    "confirmed_by_country.loc[\"India\"][2:].plot()\n",
    "plt.title(\"Gráfico errado. Passa uma mensagem errada com comparações injustas.\")\n",
    "plt.ylim(0, 1386000000)\n",
    "plt.show()"
   ]
  },
  {
   "cell_type": "code",
   "execution_count": 31,
   "metadata": {
    "colab": {
     "base_uri": "https://localhost:8080/",
     "height": 353
    },
    "colab_type": "code",
    "id": "enyofh-Gm_fb",
    "outputId": "399780b9-8058-48c3-edd8-ee015e2bf980"
   },
   "outputs": [
    {
     "data": {
      "image/png": "[encoded data removed]",
      "text/plain": [
       "<Figure size 720x360 with 1 Axes>"
      ]
     },
     "metadata": {
      "needs_background": "light"
     },
     "output_type": "display_data"
    }
   ],
   "source": [
    "plt.figure(figsize=(10,5))\n",
    "plt.title(\"Casos novos na 'India'\")\n",
    "new_cases_mainland_china = confirmed_by_country.loc[\"India\"][2:].diff().dropna()\n",
    "new_cases_mainland_china.plot();"
   ]
  },
  {
   "cell_type": "code",
   "execution_count": 30,
   "metadata": {
    "colab": {
     "base_uri": "https://localhost:8080/",
     "height": 367
    },
    "colab_type": "code",
    "id": "Z51g5cR7pETn",
    "outputId": "46830e09-2ed4-4d0b-cd39-509da967a566"
   },
   "outputs": [
    {
     "data": {
      "image/png": "[encoded data removed]",
      "text/plain": [
       "<Figure size 720x360 with 1 Axes>"
      ]
     },
     "metadata": {
      "needs_background": "light"
     },
     "output_type": "display_data"
    }
   ],
   "source": [
    "plt.figure(figsize=(10,5))\n",
    "\n",
    "confirmed_by_country[last_date].plot()\n",
    "plt.title(\"Confirmados por país\");"
   ]
  },
  {
   "cell_type": "code",
   "execution_count": 32,
   "metadata": {
    "colab": {
     "base_uri": "https://localhost:8080/",
     "height": 319
    },
    "colab_type": "code",
    "id": "xhMANfODq0pF",
    "outputId": "29037561-c759-4222-d710-c2943a747a23"
   },
   "outputs": [
    {
     "data": {
      "image/png": "[encoded data removed]",
      "text/plain": [
       "<Figure size 720x360 with 1 Axes>"
      ]
     },
     "metadata": {},
     "output_type": "display_data"
    }
   ],
   "source": [
    "plt.figure(figsize=(10,5))\n",
    "\n",
    "# 99.99% das vezes não devemos usar grafico de pizza e torta\n",
    "\n",
    "# 1. muitas categorias, inviável\n",
    "# 2. poucas categorias, a comparação é de área\n",
    "\n",
    "\n",
    "confirmed_by_country[last_date].plot(kind='pie')\n",
    "plt.title(\"Confirmados por país\")\n",
    "plt.show()"
   ]
  },
  {
   "cell_type": "code",
   "execution_count": 56,
   "metadata": {
    "colab": {
     "base_uri": "https://localhost:8080/",
     "height": 447
    },
    "colab_type": "code",
    "id": "4KEqaX9nr5lU",
    "outputId": "5805bdb7-5570-460c-8f13-e2dcdf88e80b"
   },
   "outputs": [
    {
     "data": {
      "image/png": "[encoded data removed]",
      "text/plain": [
       "<Figure size 1800x360 with 1 Axes>"
      ]
     },
     "metadata": {
      "needs_background": "light"
     },
     "output_type": "display_data"
    }
   ],
   "source": [
    "plt.figure(figsize=(25,5))\n",
    "\n",
    "confirmed_by_country[last_date].plot(kind='bar')\n",
    "plt.title(\"Confirmados por país\")\n",
    "plt.show()"
   ]
  },
  {
   "cell_type": "code",
   "execution_count": 55,
   "metadata": {
    "colab": {
     "base_uri": "https://localhost:8080/",
     "height": 447
    },
    "colab_type": "code",
    "id": "fKlZ1QgJsobU",
    "outputId": "ca23821a-bf6b-4007-cb36-a66f750a5e93"
   },
   "outputs": [
    {
     "data": {
      "image/png": "[encoded data removed]",
      "text/plain": [
       "<Figure size 1800x360 with 1 Axes>"
      ]
     },
     "metadata": {
      "needs_background": "light"
     },
     "output_type": "display_data"
    }
   ],
   "source": [
    "plt.figure(figsize=(25,5))\n",
    "\n",
    "confirmed_by_country[last_date].sort_values(ascending=False).plot(kind='bar')\n",
    "plt.title(\"Confirmados por país\")\n",
    "plt.show()"
   ]
  },
  {
   "cell_type": "code",
   "execution_count": 35,
   "metadata": {
    "colab": {
     "base_uri": "https://localhost:8080/",
     "height": 417
    },
    "colab_type": "code",
    "id": "tNUnL83is0HI",
    "outputId": "0931b2f9-c9a0-4e0e-9373-f0499e1dc621"
   },
   "outputs": [
    {
     "data": {
      "image/png": "[encoded data removed]",
      "text/plain": [
       "<Figure size 720x360 with 1 Axes>"
      ]
     },
     "metadata": {
      "needs_background": "light"
     },
     "output_type": "display_data"
    }
   ],
   "source": [
    "plt.figure(figsize=(10,5))\n",
    "\n",
    "confirmed_by_country[last_date].sort_values(ascending=False)[:10].plot(kind='bar')\n",
    "plt.title(\"Confirmados por país\")\n",
    "plt.show()"
   ]
  },
  {
   "cell_type": "code",
   "execution_count": 36,
   "metadata": {
    "colab": {
     "base_uri": "https://localhost:8080/",
     "height": 401
    },
    "colab_type": "code",
    "id": "Dgh4czZCtFT3",
    "outputId": "3aee3f0d-2bb5-4d9b-d3b7-4010a505e03a"
   },
   "outputs": [
    {
     "data": {
      "image/png": "[encoded data removed]",
      "text/plain": [
       "<Figure size 720x360 with 1 Axes>"
      ]
     },
     "metadata": {
      "needs_background": "light"
     },
     "output_type": "display_data"
    }
   ],
   "source": [
    "plt.figure(figsize=(10,5))\n",
    "\n",
    "confirmed_by_country[last_date].sort_values(ascending=False)[1:10].plot(kind='bar')\n",
    "plt.title(\"Confirmados por país\")\n",
    "plt.show()\n",
    "\n",
    "# Lembrando que existe um vício aqui, pois paises que não testaram indivíduos\n",
    "# podem sim ter casos ocorrendo, mas não confirmados ainda."
   ]
  },
  {
   "cell_type": "code",
   "execution_count": 57,
   "metadata": {
    "colab": {
     "base_uri": "https://localhost:8080/",
     "height": 394
    },
    "colab_type": "code",
    "id": "FEK-ZH3atS4P",
    "outputId": "4a4d1700-c395-4fd5-acfa-68519994623a"
   },
   "outputs": [
    {
     "data": {
      "text/html": [
       "<div>\n",
       "<style scoped>\n",
       "    .dataframe tbody tr th:only-of-type {\n",
       "        vertical-align: middle;\n",
       "    }\n",
       "\n",
       "    .dataframe tbody tr th {\n",
       "        vertical-align: top;\n",
       "    }\n",
       "\n",
       "    .dataframe thead th {\n",
       "        text-align: right;\n",
       "    }\n",
       "</style>\n",
       "<table border=\"1\" class=\"dataframe\">\n",
       "  <thead>\n",
       "    <tr style=\"text-align: right;\">\n",
       "      <th></th>\n",
       "      <th>Province/State</th>\n",
       "      <th>Country/Region</th>\n",
       "      <th>Lat</th>\n",
       "      <th>Long</th>\n",
       "      <th>1/22/20</th>\n",
       "      <th>1/23/20</th>\n",
       "      <th>1/24/20</th>\n",
       "      <th>1/25/20</th>\n",
       "      <th>1/26/20</th>\n",
       "      <th>1/27/20</th>\n",
       "      <th>...</th>\n",
       "      <th>7/11/22</th>\n",
       "      <th>7/12/22</th>\n",
       "      <th>7/13/22</th>\n",
       "      <th>7/14/22</th>\n",
       "      <th>7/15/22</th>\n",
       "      <th>7/16/22</th>\n",
       "      <th>7/17/22</th>\n",
       "      <th>7/18/22</th>\n",
       "      <th>7/19/22</th>\n",
       "      <th>7/20/22</th>\n",
       "    </tr>\n",
       "  </thead>\n",
       "  <tbody>\n",
       "    <tr>\n",
       "      <th>0</th>\n",
       "      <td>NaN</td>\n",
       "      <td>Afghanistan</td>\n",
       "      <td>33.93911</td>\n",
       "      <td>67.709953</td>\n",
       "      <td>0</td>\n",
       "      <td>0</td>\n",
       "      <td>0</td>\n",
       "      <td>0</td>\n",
       "      <td>0</td>\n",
       "      <td>0</td>\n",
       "      <td>...</td>\n",
       "      <td>7728</td>\n",
       "      <td>7728</td>\n",
       "      <td>7728</td>\n",
       "      <td>7728</td>\n",
       "      <td>7729</td>\n",
       "      <td>7730</td>\n",
       "      <td>7731</td>\n",
       "      <td>7733</td>\n",
       "      <td>7736</td>\n",
       "      <td>7737</td>\n",
       "    </tr>\n",
       "    <tr>\n",
       "      <th>1</th>\n",
       "      <td>NaN</td>\n",
       "      <td>Albania</td>\n",
       "      <td>41.15330</td>\n",
       "      <td>20.168300</td>\n",
       "      <td>0</td>\n",
       "      <td>0</td>\n",
       "      <td>0</td>\n",
       "      <td>0</td>\n",
       "      <td>0</td>\n",
       "      <td>0</td>\n",
       "      <td>...</td>\n",
       "      <td>3514</td>\n",
       "      <td>3516</td>\n",
       "      <td>3517</td>\n",
       "      <td>3517</td>\n",
       "      <td>3517</td>\n",
       "      <td>3517</td>\n",
       "      <td>3517</td>\n",
       "      <td>3517</td>\n",
       "      <td>3517</td>\n",
       "      <td>3517</td>\n",
       "    </tr>\n",
       "    <tr>\n",
       "      <th>2</th>\n",
       "      <td>NaN</td>\n",
       "      <td>Algeria</td>\n",
       "      <td>28.03390</td>\n",
       "      <td>1.659600</td>\n",
       "      <td>0</td>\n",
       "      <td>0</td>\n",
       "      <td>0</td>\n",
       "      <td>0</td>\n",
       "      <td>0</td>\n",
       "      <td>0</td>\n",
       "      <td>...</td>\n",
       "      <td>6875</td>\n",
       "      <td>6875</td>\n",
       "      <td>6875</td>\n",
       "      <td>6875</td>\n",
       "      <td>6875</td>\n",
       "      <td>6875</td>\n",
       "      <td>6875</td>\n",
       "      <td>6875</td>\n",
       "      <td>6875</td>\n",
       "      <td>6875</td>\n",
       "    </tr>\n",
       "    <tr>\n",
       "      <th>3</th>\n",
       "      <td>NaN</td>\n",
       "      <td>Andorra</td>\n",
       "      <td>42.50630</td>\n",
       "      <td>1.521800</td>\n",
       "      <td>0</td>\n",
       "      <td>0</td>\n",
       "      <td>0</td>\n",
       "      <td>0</td>\n",
       "      <td>0</td>\n",
       "      <td>0</td>\n",
       "      <td>...</td>\n",
       "      <td>153</td>\n",
       "      <td>153</td>\n",
       "      <td>153</td>\n",
       "      <td>153</td>\n",
       "      <td>153</td>\n",
       "      <td>153</td>\n",
       "      <td>153</td>\n",
       "      <td>153</td>\n",
       "      <td>153</td>\n",
       "      <td>153</td>\n",
       "    </tr>\n",
       "    <tr>\n",
       "      <th>4</th>\n",
       "      <td>NaN</td>\n",
       "      <td>Angola</td>\n",
       "      <td>-11.20270</td>\n",
       "      <td>17.873900</td>\n",
       "      <td>0</td>\n",
       "      <td>0</td>\n",
       "      <td>0</td>\n",
       "      <td>0</td>\n",
       "      <td>0</td>\n",
       "      <td>0</td>\n",
       "      <td>...</td>\n",
       "      <td>1900</td>\n",
       "      <td>1900</td>\n",
       "      <td>1900</td>\n",
       "      <td>1900</td>\n",
       "      <td>1909</td>\n",
       "      <td>1909</td>\n",
       "      <td>1909</td>\n",
       "      <td>1912</td>\n",
       "      <td>1912</td>\n",
       "      <td>1912</td>\n",
       "    </tr>\n",
       "  </tbody>\n",
       "</table>\n",
       "<p>5 rows × 915 columns</p>\n",
       "</div>"
      ],
      "text/plain": [
       "  Province/State Country/Region       Lat       Long  1/22/20  1/23/20  \\\n",
       "0            NaN    Afghanistan  33.93911  67.709953        0        0   \n",
       "1            NaN        Albania  41.15330  20.168300        0        0   \n",
       "2            NaN        Algeria  28.03390   1.659600        0        0   \n",
       "3            NaN        Andorra  42.50630   1.521800        0        0   \n",
       "4            NaN         Angola -11.20270  17.873900        0        0   \n",
       "\n",
       "   1/24/20  1/25/20  1/26/20  1/27/20  ...  7/11/22  7/12/22  7/13/22  \\\n",
       "0        0        0        0        0  ...     7728     7728     7728   \n",
       "1        0        0        0        0  ...     3514     3516     3517   \n",
       "2        0        0        0        0  ...     6875     6875     6875   \n",
       "3        0        0        0        0  ...      153      153      153   \n",
       "4        0        0        0        0  ...     1900     1900     1900   \n",
       "\n",
       "   7/14/22  7/15/22  7/16/22  7/17/22  7/18/22  7/19/22  7/20/22  \n",
       "0     7728     7729     7730     7731     7733     7736     7737  \n",
       "1     3517     3517     3517     3517     3517     3517     3517  \n",
       "2     6875     6875     6875     6875     6875     6875     6875  \n",
       "3      153      153      153      153      153      153      153  \n",
       "4     1900     1909     1909     1909     1912     1912     1912  \n",
       "\n",
       "[5 rows x 915 columns]"
      ]
     },
     "metadata": {},
     "output_type": "display_data"
    },
    {
     "data": {
      "text/html": [
       "<div>\n",
       "<style scoped>\n",
       "    .dataframe tbody tr th:only-of-type {\n",
       "        vertical-align: middle;\n",
       "    }\n",
       "\n",
       "    .dataframe tbody tr th {\n",
       "        vertical-align: top;\n",
       "    }\n",
       "\n",
       "    .dataframe thead th {\n",
       "        text-align: right;\n",
       "    }\n",
       "</style>\n",
       "<table border=\"1\" class=\"dataframe\">\n",
       "  <thead>\n",
       "    <tr style=\"text-align: right;\">\n",
       "      <th></th>\n",
       "      <th>Province/State</th>\n",
       "      <th>Country/Region</th>\n",
       "      <th>Lat</th>\n",
       "      <th>Long</th>\n",
       "      <th>1/22/20</th>\n",
       "      <th>1/23/20</th>\n",
       "      <th>1/24/20</th>\n",
       "      <th>1/25/20</th>\n",
       "      <th>1/26/20</th>\n",
       "      <th>1/27/20</th>\n",
       "      <th>...</th>\n",
       "      <th>7/11/22</th>\n",
       "      <th>7/12/22</th>\n",
       "      <th>7/13/22</th>\n",
       "      <th>7/14/22</th>\n",
       "      <th>7/15/22</th>\n",
       "      <th>7/16/22</th>\n",
       "      <th>7/17/22</th>\n",
       "      <th>7/18/22</th>\n",
       "      <th>7/19/22</th>\n",
       "      <th>7/20/22</th>\n",
       "    </tr>\n",
       "  </thead>\n",
       "  <tbody>\n",
       "    <tr>\n",
       "      <th>0</th>\n",
       "      <td>NaN</td>\n",
       "      <td>Afghanistan</td>\n",
       "      <td>33.93911</td>\n",
       "      <td>67.709953</td>\n",
       "      <td>0</td>\n",
       "      <td>0</td>\n",
       "      <td>0</td>\n",
       "      <td>0</td>\n",
       "      <td>0</td>\n",
       "      <td>0</td>\n",
       "      <td>...</td>\n",
       "      <td>0</td>\n",
       "      <td>0</td>\n",
       "      <td>0</td>\n",
       "      <td>0</td>\n",
       "      <td>0</td>\n",
       "      <td>0</td>\n",
       "      <td>0</td>\n",
       "      <td>0</td>\n",
       "      <td>0</td>\n",
       "      <td>0</td>\n",
       "    </tr>\n",
       "    <tr>\n",
       "      <th>1</th>\n",
       "      <td>NaN</td>\n",
       "      <td>Albania</td>\n",
       "      <td>41.15330</td>\n",
       "      <td>20.168300</td>\n",
       "      <td>0</td>\n",
       "      <td>0</td>\n",
       "      <td>0</td>\n",
       "      <td>0</td>\n",
       "      <td>0</td>\n",
       "      <td>0</td>\n",
       "      <td>...</td>\n",
       "      <td>0</td>\n",
       "      <td>0</td>\n",
       "      <td>0</td>\n",
       "      <td>0</td>\n",
       "      <td>0</td>\n",
       "      <td>0</td>\n",
       "      <td>0</td>\n",
       "      <td>0</td>\n",
       "      <td>0</td>\n",
       "      <td>0</td>\n",
       "    </tr>\n",
       "    <tr>\n",
       "      <th>2</th>\n",
       "      <td>NaN</td>\n",
       "      <td>Algeria</td>\n",
       "      <td>28.03390</td>\n",
       "      <td>1.659600</td>\n",
       "      <td>0</td>\n",
       "      <td>0</td>\n",
       "      <td>0</td>\n",
       "      <td>0</td>\n",
       "      <td>0</td>\n",
       "      <td>0</td>\n",
       "      <td>...</td>\n",
       "      <td>0</td>\n",
       "      <td>0</td>\n",
       "      <td>0</td>\n",
       "      <td>0</td>\n",
       "      <td>0</td>\n",
       "      <td>0</td>\n",
       "      <td>0</td>\n",
       "      <td>0</td>\n",
       "      <td>0</td>\n",
       "      <td>0</td>\n",
       "    </tr>\n",
       "    <tr>\n",
       "      <th>3</th>\n",
       "      <td>NaN</td>\n",
       "      <td>Andorra</td>\n",
       "      <td>42.50630</td>\n",
       "      <td>1.521800</td>\n",
       "      <td>0</td>\n",
       "      <td>0</td>\n",
       "      <td>0</td>\n",
       "      <td>0</td>\n",
       "      <td>0</td>\n",
       "      <td>0</td>\n",
       "      <td>...</td>\n",
       "      <td>0</td>\n",
       "      <td>0</td>\n",
       "      <td>0</td>\n",
       "      <td>0</td>\n",
       "      <td>0</td>\n",
       "      <td>0</td>\n",
       "      <td>0</td>\n",
       "      <td>0</td>\n",
       "      <td>0</td>\n",
       "      <td>0</td>\n",
       "    </tr>\n",
       "    <tr>\n",
       "      <th>4</th>\n",
       "      <td>NaN</td>\n",
       "      <td>Angola</td>\n",
       "      <td>-11.20270</td>\n",
       "      <td>17.873900</td>\n",
       "      <td>0</td>\n",
       "      <td>0</td>\n",
       "      <td>0</td>\n",
       "      <td>0</td>\n",
       "      <td>0</td>\n",
       "      <td>0</td>\n",
       "      <td>...</td>\n",
       "      <td>0</td>\n",
       "      <td>0</td>\n",
       "      <td>0</td>\n",
       "      <td>0</td>\n",
       "      <td>0</td>\n",
       "      <td>0</td>\n",
       "      <td>0</td>\n",
       "      <td>0</td>\n",
       "      <td>0</td>\n",
       "      <td>0</td>\n",
       "    </tr>\n",
       "  </tbody>\n",
       "</table>\n",
       "<p>5 rows × 915 columns</p>\n",
       "</div>"
      ],
      "text/plain": [
       "  Province/State Country/Region       Lat       Long  1/22/20  1/23/20  \\\n",
       "0            NaN    Afghanistan  33.93911  67.709953        0        0   \n",
       "1            NaN        Albania  41.15330  20.168300        0        0   \n",
       "2            NaN        Algeria  28.03390   1.659600        0        0   \n",
       "3            NaN        Andorra  42.50630   1.521800        0        0   \n",
       "4            NaN         Angola -11.20270  17.873900        0        0   \n",
       "\n",
       "   1/24/20  1/25/20  1/26/20  1/27/20  ...  7/11/22  7/12/22  7/13/22  \\\n",
       "0        0        0        0        0  ...        0        0        0   \n",
       "1        0        0        0        0  ...        0        0        0   \n",
       "2        0        0        0        0  ...        0        0        0   \n",
       "3        0        0        0        0  ...        0        0        0   \n",
       "4        0        0        0        0  ...        0        0        0   \n",
       "\n",
       "   7/14/22  7/15/22  7/16/22  7/17/22  7/18/22  7/19/22  7/20/22  \n",
       "0        0        0        0        0        0        0        0  \n",
       "1        0        0        0        0        0        0        0  \n",
       "2        0        0        0        0        0        0        0  \n",
       "3        0        0        0        0        0        0        0  \n",
       "4        0        0        0        0        0        0        0  \n",
       "\n",
       "[5 rows x 915 columns]"
      ]
     },
     "metadata": {},
     "output_type": "display_data"
    }
   ],
   "source": [
    "deaths = pd.read_csv(\"https://raw.githubusercontent.com/CSSEGISandData/COVID-19/master/csse_covid_19_data/csse_covid_19_time_series/time_series_covid19_deaths_global.csv\")\n",
    "recovered = pd.read_csv(\"https://raw.githubusercontent.com/CSSEGISandData/COVID-19/master/csse_covid_19_data/csse_covid_19_time_series/time_series_covid19_recovered_global.csv\")\n",
    "\n",
    "display(deaths.head())\n",
    "display(recovered.head())"
   ]
  },
  {
   "cell_type": "code",
   "execution_count": 40,
   "metadata": {
    "colab": {
     "base_uri": "https://localhost:8080/",
     "height": 370
    },
    "colab_type": "code",
    "id": "M0kwTOtOMiuO",
    "outputId": "bd6c181d-b91b-4b09-8dac-efebbb5c12b4"
   },
   "outputs": [
    {
     "data": {
      "text/plain": [
       "Country/Region\n",
       "Afghanistan    184038\n",
       "Albania        293917\n",
       "Algeria        266591\n",
       "Andorra         45061\n",
       "Angola         102209\n",
       "Name: 7/20/22, dtype: int64"
      ]
     },
     "metadata": {},
     "output_type": "display_data"
    },
    {
     "data": {
      "text/plain": [
       "Country/Region\n",
       "Afghanistan    7737\n",
       "Albania        3517\n",
       "Algeria        6875\n",
       "Andorra         153\n",
       "Angola         1912\n",
       "Name: 7/20/22, dtype: int64"
      ]
     },
     "metadata": {},
     "output_type": "display_data"
    },
    {
     "data": {
      "text/plain": [
       "Country/Region\n",
       "Afghanistan    0\n",
       "Albania        0\n",
       "Algeria        0\n",
       "Andorra        0\n",
       "Angola         0\n",
       "Name: 7/20/22, dtype: int64"
      ]
     },
     "metadata": {},
     "output_type": "display_data"
    }
   ],
   "source": [
    "def latest_by_country(data):\n",
    "    return data.groupby(\"Country/Region\").sum().iloc[:,-1]\n",
    "\n",
    "display(latest_by_country(confirmed).head())\n",
    "display(latest_by_country(deaths).head())\n",
    "display(latest_by_country(recovered).head())"
   ]
  },
  {
   "cell_type": "code",
   "execution_count": 58,
   "metadata": {
    "colab": {
     "base_uri": "https://localhost:8080/",
     "height": 225
    },
    "colab_type": "code",
    "id": "32ROBiGkNGGg",
    "outputId": "210ca26e-7d68-4b61-ecab-e570e6653b7f"
   },
   "outputs": [
    {
     "data": {
      "text/html": [
       "<div>\n",
       "<style scoped>\n",
       "    .dataframe tbody tr th:only-of-type {\n",
       "        vertical-align: middle;\n",
       "    }\n",
       "\n",
       "    .dataframe tbody tr th {\n",
       "        vertical-align: top;\n",
       "    }\n",
       "\n",
       "    .dataframe thead th {\n",
       "        text-align: right;\n",
       "    }\n",
       "</style>\n",
       "<table border=\"1\" class=\"dataframe\">\n",
       "  <thead>\n",
       "    <tr style=\"text-align: right;\">\n",
       "      <th></th>\n",
       "      <th>confirmed</th>\n",
       "      <th>deaths</th>\n",
       "      <th>recovered</th>\n",
       "    </tr>\n",
       "    <tr>\n",
       "      <th>Country/Region</th>\n",
       "      <th></th>\n",
       "      <th></th>\n",
       "      <th></th>\n",
       "    </tr>\n",
       "  </thead>\n",
       "  <tbody>\n",
       "    <tr>\n",
       "      <th>Afghanistan</th>\n",
       "      <td>184038</td>\n",
       "      <td>7737</td>\n",
       "      <td>0</td>\n",
       "    </tr>\n",
       "    <tr>\n",
       "      <th>Albania</th>\n",
       "      <td>293917</td>\n",
       "      <td>3517</td>\n",
       "      <td>0</td>\n",
       "    </tr>\n",
       "    <tr>\n",
       "      <th>Algeria</th>\n",
       "      <td>266591</td>\n",
       "      <td>6875</td>\n",
       "      <td>0</td>\n",
       "    </tr>\n",
       "    <tr>\n",
       "      <th>Andorra</th>\n",
       "      <td>45061</td>\n",
       "      <td>153</td>\n",
       "      <td>0</td>\n",
       "    </tr>\n",
       "    <tr>\n",
       "      <th>Angola</th>\n",
       "      <td>102209</td>\n",
       "      <td>1912</td>\n",
       "      <td>0</td>\n",
       "    </tr>\n",
       "  </tbody>\n",
       "</table>\n",
       "</div>"
      ],
      "text/plain": [
       "                confirmed  deaths  recovered\n",
       "Country/Region                              \n",
       "Afghanistan        184038    7737          0\n",
       "Albania            293917    3517          0\n",
       "Algeria            266591    6875          0\n",
       "Andorra             45061     153          0\n",
       "Angola             102209    1912          0"
      ]
     },
     "execution_count": 58,
     "metadata": {},
     "output_type": "execute_result"
    }
   ],
   "source": [
    "informations = [latest_by_country(confirmed), latest_by_country(deaths), latest_by_country(recovered)]\n",
    "combined = pd.concat(informations, axis=1)\n",
    "combined.columns = [\"confirmed\", \"deaths\", \"recovered\"]\n",
    "combined.head()"
   ]
  },
  {
   "cell_type": "code",
   "execution_count": 59,
   "metadata": {
    "colab": {},
    "colab_type": "code",
    "id": "tKIRHu-zOEnq"
   },
   "outputs": [],
   "source": [
    "# taxa de letalidade é expressa em %\n",
    "# o número de casos letais dentro dos casos que foram letais e não letais\n",
    "\n",
    "# imagine que existe uma doença e que em janeiro de 2020 afetou 100 pessoas\n",
    "# 5 pessoas morreram (por exemplo). letalidade foi de 5%.\n",
    "# não digo que ela É de 5% para sempre pq a doença continuou existindo\n",
    "\n",
    "# conclusão é MUITO difícil de falar de letalidade tentando ser preciso\n",
    "# durante uma epidemia\n",
    "\n",
    "# no começo é comum que somente casos graves sejam reportados"
   ]
  },
  {
   "cell_type": "code",
   "execution_count": 60,
   "metadata": {
    "colab": {
     "base_uri": "https://localhost:8080/",
     "height": 50
    },
    "colab_type": "code",
    "id": "BqPEKZzpP8Dq",
    "outputId": "3600fa18-97a7-45f7-eb22-2f229c197398"
   },
   "outputs": [
    {
     "name": "stdout",
     "output_type": "stream",
     "text": [
      "1.1257903770816264\n",
      "100.0\n"
     ]
    }
   ],
   "source": [
    "sum_up = combined.sum()\n",
    "letality_rate_1 = sum_up[\"deaths\"] / sum_up[\"confirmed\"]\n",
    "letality_rate_2 = sum_up[\"deaths\"] / (sum_up[\"deaths\"] + sum_up[\"recovered\"])\n",
    "print(letality_rate_1 * 100)\n",
    "print(letality_rate_2 * 100)"
   ]
  },
  {
   "cell_type": "code",
   "execution_count": 62,
   "metadata": {
    "colab": {
     "base_uri": "https://localhost:8080/",
     "height": 50
    },
    "colab_type": "code",
    "id": "fhBgxicja-I2",
    "outputId": "662b504c-b5ca-4eb7-93fe-cd8e5f633a7e"
   },
   "outputs": [
    {
     "name": "stdout",
     "output_type": "stream",
     "text": [
      "0.0\n",
      "0.0\n"
     ]
    }
   ],
   "source": [
    "def latest_by_country_at(data, date):\n",
    "    return data.groupby(\"Country/Region\").sum()[date]\n",
    "\n",
    "\n",
    "informations = [latest_by_country_at(confirmed, '2/20/20'), latest_by_country_at(deaths, '2/20/20'), latest_by_country_at(recovered, '2/20/20')]\n",
    "combined_2_20_20 = pd.concat(informations, axis=1)\n",
    "combined_2_20_20.columns = [\"confirmed\", \"deaths\", \"recovered\"]\n",
    "\n",
    "sum_up = combined_2_20_20.loc[\"India\"]\n",
    "letality_rate_1 = sum_up[\"deaths\"] / sum_up[\"confirmed\"]\n",
    "letality_rate_2 = sum_up[\"deaths\"] / (sum_up[\"deaths\"] + sum_up[\"recovered\"])\n",
    "print(letality_rate_1 * 100)\n",
    "print(letality_rate_2 * 100)"
   ]
  },
  {
   "cell_type": "code",
   "execution_count": 63,
   "metadata": {
    "colab": {
     "base_uri": "https://localhost:8080/",
     "height": 84
    },
    "colab_type": "code",
    "id": "btr4elbUUdAM",
    "outputId": "4074ca01-a468-4205-e496-1aa5fda6d355"
   },
   "outputs": [
    {
     "data": {
      "text/plain": [
       "confirmed    3\n",
       "deaths       0\n",
       "recovered    3\n",
       "Name: India, dtype: int64"
      ]
     },
     "metadata": {},
     "output_type": "display_data"
    }
   ],
   "source": [
    "display(sum_up)"
   ]
  },
  {
   "cell_type": "code",
   "execution_count": 64,
   "metadata": {
    "colab": {
     "base_uri": "https://localhost:8080/",
     "height": 101
    },
    "colab_type": "code",
    "id": "Tjiw5LOHu3zl",
    "outputId": "72d313df-0021-4665-8903-96d79cf666b8"
   },
   "outputs": [
    {
     "name": "stdout",
     "output_type": "stream",
     "text": [
      "0.0\n"
     ]
    },
    {
     "data": {
      "text/plain": [
       "confirmed    3\n",
       "deaths       0\n",
       "recovered    3\n",
       "Name: India, dtype: int64"
      ]
     },
     "metadata": {},
     "output_type": "display_data"
    }
   ],
   "source": [
    "informations = [latest_by_country_at(confirmed, '2/8/20'), latest_by_country_at(deaths, '2/20/20'), latest_by_country_at(recovered, '2/20/20')]\n",
    "combined_12 = pd.concat(informations, axis=1)\n",
    "combined_12.columns = [\"confirmed\", \"deaths\", \"recovered\"]\n",
    "\n",
    "sum_up = combined_12.loc[\"India\"]\n",
    "letality_rate_3 = sum_up[\"deaths\"] / sum_up[\"confirmed\"]\n",
    "print(letality_rate_3 * 100)\n",
    "display(sum_up)"
   ]
  },
  {
   "cell_type": "code",
   "execution_count": 65,
   "metadata": {
    "colab": {
     "base_uri": "https://localhost:8080/",
     "height": 225
    },
    "colab_type": "code",
    "id": "8dGaO49zQIsz",
    "outputId": "41aefe8c-3f2c-49c0-caac-59405fe51694"
   },
   "outputs": [
    {
     "data": {
      "text/html": [
       "<div>\n",
       "<style scoped>\n",
       "    .dataframe tbody tr th:only-of-type {\n",
       "        vertical-align: middle;\n",
       "    }\n",
       "\n",
       "    .dataframe tbody tr th {\n",
       "        vertical-align: top;\n",
       "    }\n",
       "\n",
       "    .dataframe thead th {\n",
       "        text-align: right;\n",
       "    }\n",
       "</style>\n",
       "<table border=\"1\" class=\"dataframe\">\n",
       "  <thead>\n",
       "    <tr style=\"text-align: right;\">\n",
       "      <th></th>\n",
       "      <th>confirmed</th>\n",
       "      <th>deaths</th>\n",
       "      <th>recovered</th>\n",
       "      <th>letality_rate_1</th>\n",
       "      <th>letality_rate_2</th>\n",
       "    </tr>\n",
       "    <tr>\n",
       "      <th>Country/Region</th>\n",
       "      <th></th>\n",
       "      <th></th>\n",
       "      <th></th>\n",
       "      <th></th>\n",
       "      <th></th>\n",
       "    </tr>\n",
       "  </thead>\n",
       "  <tbody>\n",
       "    <tr>\n",
       "      <th>Afghanistan</th>\n",
       "      <td>184038</td>\n",
       "      <td>7737</td>\n",
       "      <td>0</td>\n",
       "      <td>4.204023</td>\n",
       "      <td>100.0</td>\n",
       "    </tr>\n",
       "    <tr>\n",
       "      <th>Albania</th>\n",
       "      <td>293917</td>\n",
       "      <td>3517</td>\n",
       "      <td>0</td>\n",
       "      <td>1.196596</td>\n",
       "      <td>100.0</td>\n",
       "    </tr>\n",
       "    <tr>\n",
       "      <th>Algeria</th>\n",
       "      <td>266591</td>\n",
       "      <td>6875</td>\n",
       "      <td>0</td>\n",
       "      <td>2.578857</td>\n",
       "      <td>100.0</td>\n",
       "    </tr>\n",
       "    <tr>\n",
       "      <th>Andorra</th>\n",
       "      <td>45061</td>\n",
       "      <td>153</td>\n",
       "      <td>0</td>\n",
       "      <td>0.339540</td>\n",
       "      <td>100.0</td>\n",
       "    </tr>\n",
       "    <tr>\n",
       "      <th>Angola</th>\n",
       "      <td>102209</td>\n",
       "      <td>1912</td>\n",
       "      <td>0</td>\n",
       "      <td>1.870677</td>\n",
       "      <td>100.0</td>\n",
       "    </tr>\n",
       "  </tbody>\n",
       "</table>\n",
       "</div>"
      ],
      "text/plain": [
       "                confirmed  deaths  recovered  letality_rate_1  letality_rate_2\n",
       "Country/Region                                                                \n",
       "Afghanistan        184038    7737          0         4.204023            100.0\n",
       "Albania            293917    3517          0         1.196596            100.0\n",
       "Algeria            266591    6875          0         2.578857            100.0\n",
       "Andorra             45061     153          0         0.339540            100.0\n",
       "Angola             102209    1912          0         1.870677            100.0"
      ]
     },
     "execution_count": 65,
     "metadata": {},
     "output_type": "execute_result"
    }
   ],
   "source": [
    "letality_rate_1 = combined[\"deaths\"] / combined[\"confirmed\"] * 100\n",
    "letality_rate_2 = combined[\"deaths\"] / (combined[\"recovered\"] + combined[\"deaths\"]) * 100\n",
    "combined[\"letality_rate_1\"] = letality_rate_1\n",
    "combined[\"letality_rate_2\"] = letality_rate_2\n",
    "combined.head()"
   ]
  },
  {
   "cell_type": "code",
   "execution_count": 66,
   "metadata": {
    "colab": {
     "base_uri": "https://localhost:8080/",
     "height": 373
    },
    "colab_type": "code",
    "id": "sVvk4OBBT8U0",
    "outputId": "c6dc1412-20d6-4124-bac3-e6610159b41c"
   },
   "outputs": [
    {
     "data": {
      "text/html": [
       "<div>\n",
       "<style scoped>\n",
       "    .dataframe tbody tr th:only-of-type {\n",
       "        vertical-align: middle;\n",
       "    }\n",
       "\n",
       "    .dataframe tbody tr th {\n",
       "        vertical-align: top;\n",
       "    }\n",
       "\n",
       "    .dataframe thead th {\n",
       "        text-align: right;\n",
       "    }\n",
       "</style>\n",
       "<table border=\"1\" class=\"dataframe\">\n",
       "  <thead>\n",
       "    <tr style=\"text-align: right;\">\n",
       "      <th></th>\n",
       "      <th>confirmed</th>\n",
       "      <th>deaths</th>\n",
       "      <th>recovered</th>\n",
       "      <th>letality_rate_1</th>\n",
       "      <th>letality_rate_2</th>\n",
       "    </tr>\n",
       "    <tr>\n",
       "      <th>Country/Region</th>\n",
       "      <th></th>\n",
       "      <th></th>\n",
       "      <th></th>\n",
       "      <th></th>\n",
       "      <th></th>\n",
       "    </tr>\n",
       "  </thead>\n",
       "  <tbody>\n",
       "    <tr>\n",
       "      <th>Korea, North</th>\n",
       "      <td>1</td>\n",
       "      <td>6</td>\n",
       "      <td>0</td>\n",
       "      <td>600.000000</td>\n",
       "      <td>100.0</td>\n",
       "    </tr>\n",
       "    <tr>\n",
       "      <th>MS Zaandam</th>\n",
       "      <td>9</td>\n",
       "      <td>2</td>\n",
       "      <td>0</td>\n",
       "      <td>22.222222</td>\n",
       "      <td>100.0</td>\n",
       "    </tr>\n",
       "    <tr>\n",
       "      <th>Yemen</th>\n",
       "      <td>11849</td>\n",
       "      <td>2149</td>\n",
       "      <td>0</td>\n",
       "      <td>18.136552</td>\n",
       "      <td>100.0</td>\n",
       "    </tr>\n",
       "    <tr>\n",
       "      <th>Sudan</th>\n",
       "      <td>62914</td>\n",
       "      <td>4955</td>\n",
       "      <td>0</td>\n",
       "      <td>7.875830</td>\n",
       "      <td>100.0</td>\n",
       "    </tr>\n",
       "    <tr>\n",
       "      <th>Peru</th>\n",
       "      <td>3773733</td>\n",
       "      <td>213870</td>\n",
       "      <td>0</td>\n",
       "      <td>5.667333</td>\n",
       "      <td>100.0</td>\n",
       "    </tr>\n",
       "    <tr>\n",
       "      <th>Syria</th>\n",
       "      <td>56027</td>\n",
       "      <td>3150</td>\n",
       "      <td>0</td>\n",
       "      <td>5.622289</td>\n",
       "      <td>100.0</td>\n",
       "    </tr>\n",
       "    <tr>\n",
       "      <th>Somalia</th>\n",
       "      <td>26912</td>\n",
       "      <td>1361</td>\n",
       "      <td>0</td>\n",
       "      <td>5.057224</td>\n",
       "      <td>100.0</td>\n",
       "    </tr>\n",
       "    <tr>\n",
       "      <th>Mexico</th>\n",
       "      <td>6523019</td>\n",
       "      <td>326764</td>\n",
       "      <td>0</td>\n",
       "      <td>5.009398</td>\n",
       "      <td>100.0</td>\n",
       "    </tr>\n",
       "    <tr>\n",
       "      <th>Egypt</th>\n",
       "      <td>515645</td>\n",
       "      <td>24750</td>\n",
       "      <td>0</td>\n",
       "      <td>4.799814</td>\n",
       "      <td>100.0</td>\n",
       "    </tr>\n",
       "    <tr>\n",
       "      <th>Afghanistan</th>\n",
       "      <td>184038</td>\n",
       "      <td>7737</td>\n",
       "      <td>0</td>\n",
       "      <td>4.204023</td>\n",
       "      <td>100.0</td>\n",
       "    </tr>\n",
       "  </tbody>\n",
       "</table>\n",
       "</div>"
      ],
      "text/plain": [
       "                confirmed  deaths  recovered  letality_rate_1  letality_rate_2\n",
       "Country/Region                                                                \n",
       "Korea, North            1       6          0       600.000000            100.0\n",
       "MS Zaandam              9       2          0        22.222222            100.0\n",
       "Yemen               11849    2149          0        18.136552            100.0\n",
       "Sudan               62914    4955          0         7.875830            100.0\n",
       "Peru              3773733  213870          0         5.667333            100.0\n",
       "Syria               56027    3150          0         5.622289            100.0\n",
       "Somalia             26912    1361          0         5.057224            100.0\n",
       "Mexico            6523019  326764          0         5.009398            100.0\n",
       "Egypt              515645   24750          0         4.799814            100.0\n",
       "Afghanistan        184038    7737          0         4.204023            100.0"
      ]
     },
     "execution_count": 66,
     "metadata": {},
     "output_type": "execute_result"
    }
   ],
   "source": [
    "combined.sort_values(\"letality_rate_1\", ascending=False).head(10)"
   ]
  },
  {
   "cell_type": "code",
   "execution_count": 67,
   "metadata": {
    "colab": {
     "base_uri": "https://localhost:8080/",
     "height": 296
    },
    "colab_type": "code",
    "id": "g9Xq-twUV946",
    "outputId": "eaa22279-9301-48c4-ddfd-e8738a6e24c2"
   },
   "outputs": [
    {
     "data": {
      "image/png": "[encoded data removed]",
      "text/plain": [
       "<Figure size 432x288 with 1 Axes>"
      ]
     },
     "metadata": {
      "needs_background": "light"
     },
     "output_type": "display_data"
    }
   ],
   "source": [
    "# visualização ruim\n",
    "\n",
    "combined[[\"confirmed\", \"letality_rate_1\"]].plot();"
   ]
  },
  {
   "cell_type": "code",
   "execution_count": 68,
   "metadata": {
    "colab": {},
    "colab_type": "code",
    "id": "X3ijDX-wWt69"
   },
   "outputs": [],
   "source": [
    "# combined[[\"confirmed\", \"letality_rate_1\"]].plot(kind='scatter')"
   ]
  },
  {
   "cell_type": "code",
   "execution_count": 70,
   "metadata": {
    "colab": {
     "base_uri": "https://localhost:8080/",
     "height": 300
    },
    "colab_type": "code",
    "id": "ZctRDUktW-Xu",
    "outputId": "76053af2-3705-4c3e-ab23-c754b6558cb5"
   },
   "outputs": [
    {
     "data": {
      "image/png": "[encoded data removed]",
      "text/plain": [
       "<Figure size 432x288 with 1 Axes>"
      ]
     },
     "metadata": {
      "needs_background": "light"
     },
     "output_type": "display_data"
    }
   ],
   "source": [
    "import seaborn as sns\n",
    "\n",
    "sns.scatterplot(data = combined, x=\"confirmed\", y=\"letality_rate_1\");"
   ]
  },
  {
   "cell_type": "code",
   "execution_count": 71,
   "metadata": {
    "colab": {
     "base_uri": "https://localhost:8080/",
     "height": 296
    },
    "colab_type": "code",
    "id": "hj75tt1YXH0x",
    "outputId": "2eaefab8-8d6a-4fd9-9ee9-ed17a8816c79"
   },
   "outputs": [
    {
     "data": {
      "image/png": "[encoded data removed]",
      "text/plain": [
       "<Figure size 432x288 with 1 Axes>"
      ]
     },
     "metadata": {
      "needs_background": "light"
     },
     "output_type": "display_data"
    }
   ],
   "source": [
    "sns.scatterplot(data = combined.query(\"confirmed > 40 and confirmed < 50000\"), x=\"confirmed\", y=\"letality_rate_1\");"
   ]
  },
  {
   "cell_type": "code",
   "execution_count": 72,
   "metadata": {
    "colab": {
     "base_uri": "https://localhost:8080/",
     "height": 296
    },
    "colab_type": "code",
    "id": "urYCHsI5XY-h",
    "outputId": "0abb1467-ff20-46e3-de9a-ccde73d30307"
   },
   "outputs": [
    {
     "data": {
      "image/png": "[encoded data removed]",
      "text/plain": [
       "<Figure size 432x288 with 1 Axes>"
      ]
     },
     "metadata": {
      "needs_background": "light"
     },
     "output_type": "display_data"
    }
   ],
   "source": [
    "sns.scatterplot(data = combined.query(\"confirmed > 40\"), x=\"confirmed\", y=\"letality_rate_1\");"
   ]
  },
  {
   "cell_type": "code",
   "execution_count": 75,
   "metadata": {
    "colab": {
     "base_uri": "https://localhost:8080/",
     "height": 296
    },
    "colab_type": "code",
    "id": "FFDZa1D8Xtw1",
    "outputId": "facc5718-af68-4977-9870-bce9136c00d5"
   },
   "outputs": [
    {
     "data": {
      "image/png": "[encoded data removed]",
      "text/plain": [
       "<Figure size 432x288 with 1 Axes>"
      ]
     },
     "metadata": {
      "needs_background": "light"
     },
     "output_type": "display_data"
    }
   ],
   "source": [
    "sns.scatterplot(data = combined.query(\"recovered > 2\"), x=\"confirmed\", y=\"letality_rate_2\");"
   ]
  },
  {
   "cell_type": "code",
   "execution_count": 77,
   "metadata": {
    "colab": {
     "base_uri": "https://localhost:8080/",
     "height": 297
    },
    "colab_type": "code",
    "id": "IVTRP8pIX8sZ",
    "outputId": "ce855a0e-4a96-4938-e42d-25e1907830ff"
   },
   "outputs": [
    {
     "data": {
      "image/png": "[encoded data removed]",
      "text/plain": [
       "<Figure size 432x288 with 1 Axes>"
      ]
     },
     "metadata": {
      "needs_background": "light"
     },
     "output_type": "display_data"
    }
   ],
   "source": [
    "sns.histplot(combined.query(\"confirmed > 40\")[\"letality_rate_1\"], kde=False);"
   ]
  },
  {
   "cell_type": "code",
   "execution_count": 83,
   "metadata": {
    "colab": {
     "base_uri": "https://localhost:8080/",
     "height": 297
    },
    "colab_type": "code",
    "id": "a13ayKgsYYFd",
    "outputId": "889b21d6-4496-45a0-8161-0da914dd4597"
   },
   "outputs": [
    {
     "data": {
      "image/png": "[encoded data removed]",
      "text/plain": [
       "<Figure size 432x288 with 1 Axes>"
      ]
     },
     "metadata": {
      "needs_background": "light"
     },
     "output_type": "display_data"
    }
   ],
   "source": [
    "# gráfico não faz sentido \n",
    "\n",
    "sns.histplot(combined.query(\"recovered > 1\")[\"letality_rate_2\"], kde=False);"
   ]
  },
  {
   "cell_type": "code",
   "execution_count": 80,
   "metadata": {
    "colab": {
     "base_uri": "https://localhost:8080/",
     "height": 373
    },
    "colab_type": "code",
    "id": "Z6Zt0jnAY7QX",
    "outputId": "81d5ce19-0745-486b-d6bd-d30d4b3a17c3"
   },
   "outputs": [
    {
     "data": {
      "text/html": [
       "<div>\n",
       "<style scoped>\n",
       "    .dataframe tbody tr th:only-of-type {\n",
       "        vertical-align: middle;\n",
       "    }\n",
       "\n",
       "    .dataframe tbody tr th {\n",
       "        vertical-align: top;\n",
       "    }\n",
       "\n",
       "    .dataframe thead th {\n",
       "        text-align: right;\n",
       "    }\n",
       "</style>\n",
       "<table border=\"1\" class=\"dataframe\">\n",
       "  <thead>\n",
       "    <tr style=\"text-align: right;\">\n",
       "      <th></th>\n",
       "      <th>confirmed</th>\n",
       "      <th>deaths</th>\n",
       "      <th>recovered</th>\n",
       "      <th>letality_rate_1</th>\n",
       "      <th>letality_rate_2</th>\n",
       "    </tr>\n",
       "    <tr>\n",
       "      <th>Country/Region</th>\n",
       "      <th></th>\n",
       "      <th></th>\n",
       "      <th></th>\n",
       "      <th></th>\n",
       "      <th></th>\n",
       "    </tr>\n",
       "  </thead>\n",
       "  <tbody>\n",
       "    <tr>\n",
       "      <th>Yemen</th>\n",
       "      <td>11849</td>\n",
       "      <td>2149</td>\n",
       "      <td>0</td>\n",
       "      <td>18.136552</td>\n",
       "      <td>100.0</td>\n",
       "    </tr>\n",
       "    <tr>\n",
       "      <th>Sudan</th>\n",
       "      <td>62914</td>\n",
       "      <td>4955</td>\n",
       "      <td>0</td>\n",
       "      <td>7.875830</td>\n",
       "      <td>100.0</td>\n",
       "    </tr>\n",
       "    <tr>\n",
       "      <th>Peru</th>\n",
       "      <td>3773733</td>\n",
       "      <td>213870</td>\n",
       "      <td>0</td>\n",
       "      <td>5.667333</td>\n",
       "      <td>100.0</td>\n",
       "    </tr>\n",
       "    <tr>\n",
       "      <th>Syria</th>\n",
       "      <td>56027</td>\n",
       "      <td>3150</td>\n",
       "      <td>0</td>\n",
       "      <td>5.622289</td>\n",
       "      <td>100.0</td>\n",
       "    </tr>\n",
       "    <tr>\n",
       "      <th>Somalia</th>\n",
       "      <td>26912</td>\n",
       "      <td>1361</td>\n",
       "      <td>0</td>\n",
       "      <td>5.057224</td>\n",
       "      <td>100.0</td>\n",
       "    </tr>\n",
       "    <tr>\n",
       "      <th>Mexico</th>\n",
       "      <td>6523019</td>\n",
       "      <td>326764</td>\n",
       "      <td>0</td>\n",
       "      <td>5.009398</td>\n",
       "      <td>100.0</td>\n",
       "    </tr>\n",
       "    <tr>\n",
       "      <th>Egypt</th>\n",
       "      <td>515645</td>\n",
       "      <td>24750</td>\n",
       "      <td>0</td>\n",
       "      <td>4.799814</td>\n",
       "      <td>100.0</td>\n",
       "    </tr>\n",
       "    <tr>\n",
       "      <th>Afghanistan</th>\n",
       "      <td>184038</td>\n",
       "      <td>7737</td>\n",
       "      <td>0</td>\n",
       "      <td>4.204023</td>\n",
       "      <td>100.0</td>\n",
       "    </tr>\n",
       "    <tr>\n",
       "      <th>Bosnia and Herzegovina</th>\n",
       "      <td>381982</td>\n",
       "      <td>15825</td>\n",
       "      <td>0</td>\n",
       "      <td>4.142865</td>\n",
       "      <td>100.0</td>\n",
       "    </tr>\n",
       "    <tr>\n",
       "      <th>Liberia</th>\n",
       "      <td>7505</td>\n",
       "      <td>294</td>\n",
       "      <td>0</td>\n",
       "      <td>3.917388</td>\n",
       "      <td>100.0</td>\n",
       "    </tr>\n",
       "  </tbody>\n",
       "</table>\n",
       "</div>"
      ],
      "text/plain": [
       "                        confirmed  deaths  recovered  letality_rate_1  \\\n",
       "Country/Region                                                          \n",
       "Yemen                       11849    2149          0        18.136552   \n",
       "Sudan                       62914    4955          0         7.875830   \n",
       "Peru                      3773733  213870          0         5.667333   \n",
       "Syria                       56027    3150          0         5.622289   \n",
       "Somalia                     26912    1361          0         5.057224   \n",
       "Mexico                    6523019  326764          0         5.009398   \n",
       "Egypt                      515645   24750          0         4.799814   \n",
       "Afghanistan                184038    7737          0         4.204023   \n",
       "Bosnia and Herzegovina     381982   15825          0         4.142865   \n",
       "Liberia                      7505     294          0         3.917388   \n",
       "\n",
       "                        letality_rate_2  \n",
       "Country/Region                           \n",
       "Yemen                             100.0  \n",
       "Sudan                             100.0  \n",
       "Peru                              100.0  \n",
       "Syria                             100.0  \n",
       "Somalia                           100.0  \n",
       "Mexico                            100.0  \n",
       "Egypt                             100.0  \n",
       "Afghanistan                       100.0  \n",
       "Bosnia and Herzegovina            100.0  \n",
       "Liberia                           100.0  "
      ]
     },
     "execution_count": 80,
     "metadata": {},
     "output_type": "execute_result"
    }
   ],
   "source": [
    "combined.sort_values(\"letality_rate_1\", ascending=False).query(\"confirmed > 40\").head(10)"
   ]
  },
  {
   "cell_type": "code",
   "execution_count": 82,
   "metadata": {
    "colab": {
     "base_uri": "https://localhost:8080/",
     "height": 195
    },
    "colab_type": "code",
    "id": "rVLYH54AZPb0",
    "outputId": "0a8c34f5-f9b8-475e-d178-d38e75a6d289"
   },
   "outputs": [
    {
     "data": {
      "text/html": [
       "<div>\n",
       "<style scoped>\n",
       "    .dataframe tbody tr th:only-of-type {\n",
       "        vertical-align: middle;\n",
       "    }\n",
       "\n",
       "    .dataframe tbody tr th {\n",
       "        vertical-align: top;\n",
       "    }\n",
       "\n",
       "    .dataframe thead th {\n",
       "        text-align: right;\n",
       "    }\n",
       "</style>\n",
       "<table border=\"1\" class=\"dataframe\">\n",
       "  <thead>\n",
       "    <tr style=\"text-align: right;\">\n",
       "      <th></th>\n",
       "      <th>confirmed</th>\n",
       "      <th>deaths</th>\n",
       "      <th>recovered</th>\n",
       "      <th>letality_rate_1</th>\n",
       "      <th>letality_rate_2</th>\n",
       "    </tr>\n",
       "    <tr>\n",
       "      <th>Country/Region</th>\n",
       "      <th></th>\n",
       "      <th></th>\n",
       "      <th></th>\n",
       "      <th></th>\n",
       "      <th></th>\n",
       "    </tr>\n",
       "  </thead>\n",
       "  <tbody>\n",
       "  </tbody>\n",
       "</table>\n",
       "</div>"
      ],
      "text/plain": [
       "Empty DataFrame\n",
       "Columns: [confirmed, deaths, recovered, letality_rate_1, letality_rate_2]\n",
       "Index: []"
      ]
     },
     "execution_count": 82,
     "metadata": {},
     "output_type": "execute_result"
    }
   ],
   "source": [
    "combined.sort_values(\"letality_rate_2\", ascending=False).query(\"recovered > 4\").head(10)"
   ]
  },
  {
   "cell_type": "markdown",
   "metadata": {
    "colab": {},
    "colab_type": "code",
    "id": "HBWNb3SeZxtZ"
   },
   "source": [
    "---"
   ]
  }
 ],
 "metadata": {
  "colab": {
   "collapsed_sections": [],
   "name": "Curso Data Science e Saúde",
   "provenance": []
  },
  "hide_input": false,
  "kernelspec": {
   "display_name": "Python 3 (ipykernel)",
   "language": "python",
   "name": "python3"
  },
  "language_info": {
   "codemirror_mode": {
    "name": "ipython",
    "version": 3
   },
   "file_extension": ".py",
   "mimetype": "text/x-python",
   "name": "python",
   "nbconvert_exporter": "python",
   "pygments_lexer": "ipython3",
   "version": "3.9.7"
  }
 },
 "nbformat": 4,
 "nbformat_minor": 1
}
