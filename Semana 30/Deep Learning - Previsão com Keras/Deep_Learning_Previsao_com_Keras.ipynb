{
 "cells": [
  {
   "cell_type": "markdown",
   "metadata": {},
   "source": [
    "<img src = \"https://images2.imgbox.com/32/ac/wucGkuem_o.png\" width=\"300\">"
   ]
  },
  {
   "cell_type": "markdown",
   "metadata": {
    "colab_type": "text",
    "id": "nX0NwuaM5P2F"
   },
   "source": [
    "## Carregando os dados"
   ]
  },
  {
   "cell_type": "code",
   "execution_count": 1,
   "metadata": {
    "colab": {},
    "colab_type": "code",
    "id": "wUrtVmuQNHcU"
   },
   "outputs": [],
   "source": [
    "import pandas as pd"
   ]
  },
  {
   "cell_type": "code",
   "execution_count": 2,
   "metadata": {
    "colab": {},
    "colab_type": "code",
    "id": "y7BfD16WNmeU"
   },
   "outputs": [],
   "source": [
    "passageiros = pd.read_csv('data/Passageiros.csv')"
   ]
  },
  {
   "cell_type": "code",
   "execution_count": 3,
   "metadata": {
    "colab": {
     "base_uri": "https://localhost:8080/",
     "height": 204
    },
    "colab_type": "code",
    "id": "knNG-o5zPzCF",
    "outputId": "12636b6f-502f-43af-9252-167b5d919786"
   },
   "outputs": [
    {
     "data": {
      "text/html": [
       "<div>\n",
       "<style scoped>\n",
       "    .dataframe tbody tr th:only-of-type {\n",
       "        vertical-align: middle;\n",
       "    }\n",
       "\n",
       "    .dataframe tbody tr th {\n",
       "        vertical-align: top;\n",
       "    }\n",
       "\n",
       "    .dataframe thead th {\n",
       "        text-align: right;\n",
       "    }\n",
       "</style>\n",
       "<table border=\"1\" class=\"dataframe\">\n",
       "  <thead>\n",
       "    <tr style=\"text-align: right;\">\n",
       "      <th></th>\n",
       "      <th>tempo</th>\n",
       "      <th>passageiros</th>\n",
       "    </tr>\n",
       "  </thead>\n",
       "  <tbody>\n",
       "    <tr>\n",
       "      <th>0</th>\n",
       "      <td>1949.000000</td>\n",
       "      <td>112</td>\n",
       "    </tr>\n",
       "    <tr>\n",
       "      <th>1</th>\n",
       "      <td>1949.083333</td>\n",
       "      <td>118</td>\n",
       "    </tr>\n",
       "    <tr>\n",
       "      <th>2</th>\n",
       "      <td>1949.166667</td>\n",
       "      <td>132</td>\n",
       "    </tr>\n",
       "    <tr>\n",
       "      <th>3</th>\n",
       "      <td>1949.250000</td>\n",
       "      <td>129</td>\n",
       "    </tr>\n",
       "    <tr>\n",
       "      <th>4</th>\n",
       "      <td>1949.333333</td>\n",
       "      <td>121</td>\n",
       "    </tr>\n",
       "  </tbody>\n",
       "</table>\n",
       "</div>"
      ],
      "text/plain": [
       "         tempo  passageiros\n",
       "0  1949.000000          112\n",
       "1  1949.083333          118\n",
       "2  1949.166667          132\n",
       "3  1949.250000          129\n",
       "4  1949.333333          121"
      ]
     },
     "execution_count": 3,
     "metadata": {},
     "output_type": "execute_result"
    }
   ],
   "source": [
    "passageiros.head()"
   ]
  },
  {
   "cell_type": "code",
   "execution_count": 4,
   "metadata": {
    "colab": {
     "base_uri": "https://localhost:8080/",
     "height": 71
    },
    "colab_type": "code",
    "id": "ArMpN38yOgNB",
    "outputId": "fd1b3ac9-ac7e-4a9c-f3e6-d538bd5284fe"
   },
   "outputs": [],
   "source": [
    "import seaborn as sns"
   ]
  },
  {
   "cell_type": "code",
   "execution_count": 5,
   "metadata": {
    "colab": {},
    "colab_type": "code",
    "id": "ASPLTeX-OxMB"
   },
   "outputs": [],
   "source": [
    "import matplotlib as mpl\n",
    "mpl.rcParams['figure.figsize'] = (8, 5)\n",
    "mpl.rcParams['font.size'] = 12"
   ]
  },
  {
   "cell_type": "code",
   "execution_count": 6,
   "metadata": {
    "colab": {
     "base_uri": "https://localhost:8080/",
     "height": 425
    },
    "colab_type": "code",
    "id": "jnva3srEPLZh",
    "outputId": "523c13eb-e727-4b30-9540-48a548252651"
   },
   "outputs": [
    {
     "data": {
      "image/png": "[encoded data removed]",
      "text/plain": [
       "<Figure size 576x360 with 1 Axes>"
      ]
     },
     "metadata": {
      "needs_background": "light"
     },
     "output_type": "display_data"
    }
   ],
   "source": [
    "sns.lineplot(x='tempo',y='passageiros', data=passageiros,label='dado_completo'); "
   ]
  },
  {
   "cell_type": "markdown",
   "metadata": {
    "colab_type": "text",
    "id": "2jDTVwgN5lah"
   },
   "source": [
    "## Escalando os dados"
   ]
  },
  {
   "cell_type": "code",
   "execution_count": 7,
   "metadata": {
    "colab": {},
    "colab_type": "code",
    "id": "mE58ekKUBYQD"
   },
   "outputs": [],
   "source": [
    "from sklearn.preprocessing import StandardScaler"
   ]
  },
  {
   "cell_type": "code",
   "execution_count": 8,
   "metadata": {
    "colab": {},
    "colab_type": "code",
    "id": "FW7yinO3uBQd"
   },
   "outputs": [],
   "source": [
    "sc = StandardScaler()"
   ]
  },
  {
   "cell_type": "code",
   "execution_count": 9,
   "metadata": {
    "colab": {
     "base_uri": "https://localhost:8080/",
     "height": 34
    },
    "colab_type": "code",
    "id": "dYOqNVU5uMSm",
    "outputId": "670d6636-91ce-4b77-ad5b-2fed8cd9f406"
   },
   "outputs": [
    {
     "data": {
      "text/plain": [
       "StandardScaler()"
      ]
     },
     "execution_count": 9,
     "metadata": {},
     "output_type": "execute_result"
    }
   ],
   "source": [
    "sc.fit(passageiros)"
   ]
  },
  {
   "cell_type": "code",
   "execution_count": 10,
   "metadata": {
    "colab": {},
    "colab_type": "code",
    "id": "P5FKYauEuWXL"
   },
   "outputs": [],
   "source": [
    "dado_escalado = sc.transform(passageiros)"
   ]
  },
  {
   "cell_type": "code",
   "execution_count": 11,
   "metadata": {
    "colab": {},
    "colab_type": "code",
    "id": "DwWHuswQ8zDl"
   },
   "outputs": [],
   "source": [
    "x=dado_escalado[:,0] #Features - Características - Tempo\n",
    "y=dado_escalado[:,1] #Alvo - Número de passageiros"
   ]
  },
  {
   "cell_type": "code",
   "execution_count": 12,
   "metadata": {
    "colab": {},
    "colab_type": "code",
    "id": "VK1utw3yKsGQ"
   },
   "outputs": [],
   "source": [
    "import matplotlib.pyplot as plt"
   ]
  },
  {
   "cell_type": "code",
   "execution_count": 13,
   "metadata": {
    "colab": {
     "base_uri": "https://localhost:8080/",
     "height": 428
    },
    "colab_type": "code",
    "id": "MN5fJ3sBw02d",
    "outputId": "1b7287f0-2d8c-4935-aa8a-30711772c439"
   },
   "outputs": [
    {
     "data": {
      "image/png": "[encoded data removed]",
      "text/plain": [
       "<Figure size 576x360 with 1 Axes>"
      ]
     },
     "metadata": {
      "needs_background": "light"
     },
     "output_type": "display_data"
    }
   ],
   "source": [
    "sns.lineplot(x=x,y=y,label='dado_escalado') \n",
    "plt.ylabel('Passageiros')\n",
    "plt.xlabel('Data');"
   ]
  },
  {
   "cell_type": "markdown",
   "metadata": {
    "colab_type": "text",
    "id": "k7ouYZsv5W2F"
   },
   "source": [
    "## Dividindo em treino e teste"
   ]
  },
  {
   "cell_type": "code",
   "execution_count": 14,
   "metadata": {
    "colab": {},
    "colab_type": "code",
    "id": "dQ1FcF5EQxmG"
   },
   "outputs": [],
   "source": [
    "tamanho_treino = int(len(passageiros)*0.9) #Pegando 90% dos dados para treino\n",
    "tamanho_teste = len(passageiros)-tamanho_treino #O resto vamos reservar para teste"
   ]
  },
  {
   "cell_type": "code",
   "execution_count": 15,
   "metadata": {
    "colab": {},
    "colab_type": "code",
    "id": "p2YWXWLp-DlG"
   },
   "outputs": [],
   "source": [
    "xtreino = x[0:tamanho_treino]\n",
    "ytreino = y[0:tamanho_treino]"
   ]
  },
  {
   "cell_type": "code",
   "execution_count": 16,
   "metadata": {
    "colab": {},
    "colab_type": "code",
    "id": "ns6CQGRQETTm"
   },
   "outputs": [],
   "source": [
    "xteste = x[tamanho_treino:len(passageiros)]\n",
    "yteste = y[tamanho_treino:len(passageiros)]"
   ]
  },
  {
   "cell_type": "code",
   "execution_count": 17,
   "metadata": {
    "colab": {
     "base_uri": "https://localhost:8080/",
     "height": 404
    },
    "colab_type": "code",
    "id": "zSiCvx0XRLyY",
    "outputId": "36971f38-1f9a-483f-a061-8732c4a3d798"
   },
   "outputs": [
    {
     "data": {
      "image/png": "[encoded data removed]",
      "text/plain": [
       "<Figure size 576x360 with 1 Axes>"
      ]
     },
     "metadata": {
      "needs_background": "light"
     },
     "output_type": "display_data"
    }
   ],
   "source": [
    "sns.lineplot(x=xtreino,y=ytreino,label='treino') \n",
    "sns.lineplot(x=xteste,y=yteste,label='teste');"
   ]
  },
  {
   "cell_type": "markdown",
   "metadata": {
    "colab_type": "text",
    "id": "LseIFdma5rKN"
   },
   "source": [
    "## Regressão Linear"
   ]
  },
  {
   "cell_type": "code",
   "execution_count": 18,
   "metadata": {
    "colab": {},
    "colab_type": "code",
    "id": "d2rKq_X5F_u9"
   },
   "outputs": [],
   "source": [
    "from tensorflow.keras.models import Sequential\n",
    "from tensorflow.keras.layers import Dense"
   ]
  },
  {
   "cell_type": "code",
   "execution_count": 19,
   "metadata": {
    "colab": {},
    "colab_type": "code",
    "id": "ru641Txbw-YR"
   },
   "outputs": [],
   "source": [
    "regressor = Sequential()"
   ]
  },
  {
   "cell_type": "code",
   "execution_count": 20,
   "metadata": {
    "colab": {},
    "colab_type": "code",
    "id": "hQ4BqFity0x-"
   },
   "outputs": [],
   "source": [
    "regressor.add(Dense(1, input_dim=1, kernel_initializer='Ones', \n",
    "                    activation='linear',use_bias=False))"
   ]
  },
  {
   "cell_type": "code",
   "execution_count": 21,
   "metadata": {
    "colab": {},
    "colab_type": "code",
    "id": "vSeadYSHzzeQ"
   },
   "outputs": [],
   "source": [
    "regressor.compile(loss='mean_squared_error',optimizer='adam')"
   ]
  },
  {
   "cell_type": "code",
   "execution_count": 22,
   "metadata": {
    "colab": {
     "base_uri": "https://localhost:8080/",
     "height": 187
    },
    "colab_type": "code",
    "id": "NVX6hgkz7XRn",
    "outputId": "0b3d5353-05eb-4bbb-8362-9e6b9e743fa0"
   },
   "outputs": [
    {
     "name": "stdout",
     "output_type": "stream",
     "text": [
      "Model: \"sequential\"\n",
      "_________________________________________________________________\n",
      "Layer (type)                 Output Shape              Param #   \n",
      "=================================================================\n",
      "dense (Dense)                (None, 1)                 1         \n",
      "=================================================================\n",
      "Total params: 1\n",
      "Trainable params: 1\n",
      "Non-trainable params: 0\n",
      "_________________________________________________________________\n"
     ]
    }
   ],
   "source": [
    "regressor.summary()"
   ]
  },
  {
   "cell_type": "code",
   "execution_count": 23,
   "metadata": {
    "colab": {
     "base_uri": "https://localhost:8080/",
     "height": 51
    },
    "colab_type": "code",
    "id": "ku2t83Kfz8yC",
    "outputId": "6e2f97dc-fe0d-4e9d-9eeb-b852718c1e0a"
   },
   "outputs": [
    {
     "name": "stdout",
     "output_type": "stream",
     "text": [
      "5/5 [==============================] - 0s 750us/step - loss: 0.1284\n"
     ]
    },
    {
     "data": {
      "text/plain": [
       "<keras.callbacks.History at 0x23b6f7fbdc0>"
      ]
     },
     "execution_count": 23,
     "metadata": {},
     "output_type": "execute_result"
    }
   ],
   "source": [
    "regressor.fit(xtreino,ytreino)"
   ]
  },
  {
   "cell_type": "code",
   "execution_count": 24,
   "metadata": {
    "colab": {},
    "colab_type": "code",
    "id": "4W6W4BCqxyGk"
   },
   "outputs": [],
   "source": [
    "y_predict= regressor.predict(xtreino) #Prevendo os dados de treino (o ajuste)"
   ]
  },
  {
   "cell_type": "code",
   "execution_count": 25,
   "metadata": {
    "colab": {
     "base_uri": "https://localhost:8080/",
     "height": 401
    },
    "colab_type": "code",
    "id": "qZa_pwq8yOSp",
    "outputId": "2fbeeffa-159e-4761-f2b2-a9eb7f6e052a"
   },
   "outputs": [
    {
     "data": {
      "image/png": "[encoded data removed]",
      "text/plain": [
       "<Figure size 576x360 with 1 Axes>"
      ]
     },
     "metadata": {
      "needs_background": "light"
     },
     "output_type": "display_data"
    }
   ],
   "source": [
    "sns.lineplot(x=xtreino,y=ytreino,label='treino')\n",
    "sns.lineplot(x=xtreino,y=y_predict[:,0],label='ajuste_treino');"
   ]
  },
  {
   "cell_type": "code",
   "execution_count": 26,
   "metadata": {
    "colab": {},
    "colab_type": "code",
    "id": "Vvl_QbRFNkrz"
   },
   "outputs": [],
   "source": [
    "d = {'tempo': xtreino, 'passageiros': y_predict[:,0]}\n",
    "resultados = pd.DataFrame(data=d)"
   ]
  },
  {
   "cell_type": "code",
   "execution_count": 27,
   "metadata": {
    "colab": {
     "base_uri": "https://localhost:8080/",
     "height": 419
    },
    "colab_type": "code",
    "id": "K6DF9WFJNopI",
    "outputId": "e560e09c-509e-43a9-d8e4-9c57b466a7c0"
   },
   "outputs": [
    {
     "data": {
      "text/html": [
       "<div>\n",
       "<style scoped>\n",
       "    .dataframe tbody tr th:only-of-type {\n",
       "        vertical-align: middle;\n",
       "    }\n",
       "\n",
       "    .dataframe tbody tr th {\n",
       "        vertical-align: top;\n",
       "    }\n",
       "\n",
       "    .dataframe thead th {\n",
       "        text-align: right;\n",
       "    }\n",
       "</style>\n",
       "<table border=\"1\" class=\"dataframe\">\n",
       "  <thead>\n",
       "    <tr style=\"text-align: right;\">\n",
       "      <th></th>\n",
       "      <th>tempo</th>\n",
       "      <th>passageiros</th>\n",
       "    </tr>\n",
       "  </thead>\n",
       "  <tbody>\n",
       "    <tr>\n",
       "      <th>0</th>\n",
       "      <td>-1.720064</td>\n",
       "      <td>-1.711892</td>\n",
       "    </tr>\n",
       "    <tr>\n",
       "      <th>1</th>\n",
       "      <td>-1.696007</td>\n",
       "      <td>-1.687950</td>\n",
       "    </tr>\n",
       "    <tr>\n",
       "      <th>2</th>\n",
       "      <td>-1.671950</td>\n",
       "      <td>-1.664007</td>\n",
       "    </tr>\n",
       "    <tr>\n",
       "      <th>3</th>\n",
       "      <td>-1.647894</td>\n",
       "      <td>-1.640065</td>\n",
       "    </tr>\n",
       "    <tr>\n",
       "      <th>4</th>\n",
       "      <td>-1.623837</td>\n",
       "      <td>-1.616122</td>\n",
       "    </tr>\n",
       "    <tr>\n",
       "      <th>...</th>\n",
       "      <td>...</td>\n",
       "      <td>...</td>\n",
       "    </tr>\n",
       "    <tr>\n",
       "      <th>124</th>\n",
       "      <td>1.262984</td>\n",
       "      <td>1.256984</td>\n",
       "    </tr>\n",
       "    <tr>\n",
       "      <th>125</th>\n",
       "      <td>1.287041</td>\n",
       "      <td>1.280926</td>\n",
       "    </tr>\n",
       "    <tr>\n",
       "      <th>126</th>\n",
       "      <td>1.311098</td>\n",
       "      <td>1.304869</td>\n",
       "    </tr>\n",
       "    <tr>\n",
       "      <th>127</th>\n",
       "      <td>1.335155</td>\n",
       "      <td>1.328811</td>\n",
       "    </tr>\n",
       "    <tr>\n",
       "      <th>128</th>\n",
       "      <td>1.359212</td>\n",
       "      <td>1.352754</td>\n",
       "    </tr>\n",
       "  </tbody>\n",
       "</table>\n",
       "<p>129 rows × 2 columns</p>\n",
       "</div>"
      ],
      "text/plain": [
       "        tempo  passageiros\n",
       "0   -1.720064    -1.711892\n",
       "1   -1.696007    -1.687950\n",
       "2   -1.671950    -1.664007\n",
       "3   -1.647894    -1.640065\n",
       "4   -1.623837    -1.616122\n",
       "..        ...          ...\n",
       "124  1.262984     1.256984\n",
       "125  1.287041     1.280926\n",
       "126  1.311098     1.304869\n",
       "127  1.335155     1.328811\n",
       "128  1.359212     1.352754\n",
       "\n",
       "[129 rows x 2 columns]"
      ]
     },
     "execution_count": 27,
     "metadata": {},
     "output_type": "execute_result"
    }
   ],
   "source": [
    "resultados"
   ]
  },
  {
   "cell_type": "code",
   "execution_count": 28,
   "metadata": {
    "colab": {},
    "colab_type": "code",
    "id": "BOhyer-uDUm4"
   },
   "outputs": [],
   "source": [
    "resultado_transf = sc.inverse_transform(resultados)"
   ]
  },
  {
   "cell_type": "code",
   "execution_count": 29,
   "metadata": {
    "colab": {},
    "colab_type": "code",
    "id": "OUK-_yNlWreP"
   },
   "outputs": [],
   "source": [
    "resultado_transf = pd.DataFrame(resultado_transf)\n",
    "resultado_transf.columns = ['tempo','passageiros']"
   ]
  },
  {
   "cell_type": "code",
   "execution_count": 30,
   "metadata": {
    "colab": {
     "base_uri": "https://localhost:8080/",
     "height": 425
    },
    "colab_type": "code",
    "id": "qu26HEWCMpOw",
    "outputId": "6525ddda-2f9d-49bd-825d-63817575fae2"
   },
   "outputs": [
    {
     "data": {
      "image/png": "[encoded data removed]",
      "text/plain": [
       "<Figure size 576x360 with 1 Axes>"
      ]
     },
     "metadata": {
      "needs_background": "light"
     },
     "output_type": "display_data"
    }
   ],
   "source": [
    "sns.lineplot(x=\"tempo\",y=\"passageiros\",data=passageiros)\n",
    "sns.lineplot(x=\"tempo\",y=\"passageiros\",data=resultado_transf);"
   ]
  },
  {
   "cell_type": "code",
   "execution_count": 31,
   "metadata": {
    "colab": {},
    "colab_type": "code",
    "id": "TI0e2Z6vYa-T"
   },
   "outputs": [],
   "source": [
    "y_predict_teste= regressor.predict(xteste) #Prevendo os dados de teste(o futuro)"
   ]
  },
  {
   "cell_type": "code",
   "execution_count": 32,
   "metadata": {
    "colab": {},
    "colab_type": "code",
    "id": "2oUXkBfE_Ikz"
   },
   "outputs": [],
   "source": [
    "d = {'tempo': xteste, 'passageiros': y_predict_teste[:,0]}\n",
    "resultados_teste = pd.DataFrame(data=d)"
   ]
  },
  {
   "cell_type": "code",
   "execution_count": 33,
   "metadata": {
    "colab": {},
    "colab_type": "code",
    "id": "GyJw6huHFDHy"
   },
   "outputs": [],
   "source": [
    "resultado_transf_teste = sc.inverse_transform(resultados_teste)"
   ]
  },
  {
   "cell_type": "code",
   "execution_count": 34,
   "metadata": {
    "colab": {},
    "colab_type": "code",
    "id": "AJjWMD83KLhd"
   },
   "outputs": [],
   "source": [
    "resultado_transf_teste = pd.DataFrame(resultado_transf_teste)\n",
    "resultado_transf_teste.columns = ['tempo','passageiros']"
   ]
  },
  {
   "cell_type": "code",
   "execution_count": 35,
   "metadata": {
    "colab": {
     "base_uri": "https://localhost:8080/",
     "height": 425
    },
    "colab_type": "code",
    "id": "eT2Uj989FTtQ",
    "outputId": "6e9f0b12-4a54-4114-903e-ad6fe3baa636"
   },
   "outputs": [
    {
     "data": {
      "image/png": "[encoded data removed]",
      "text/plain": [
       "<Figure size 576x360 with 1 Axes>"
      ]
     },
     "metadata": {
      "needs_background": "light"
     },
     "output_type": "display_data"
    }
   ],
   "source": [
    "sns.lineplot(x=\"tempo\",y=\"passageiros\",data=passageiros,label='dado_completo')\n",
    "sns.lineplot(x=\"tempo\",y=\"passageiros\",data=resultado_transf,label='ajuste_treino')\n",
    "sns.lineplot(x=\"tempo\",y=\"passageiros\",data=resultado_transf_teste,label='previsão');"
   ]
  },
  {
   "cell_type": "markdown",
   "metadata": {
    "colab_type": "text",
    "id": "zybqc1BmZKtA"
   },
   "source": [
    "## Regressão não-linear"
   ]
  },
  {
   "cell_type": "code",
   "execution_count": 36,
   "metadata": {
    "colab": {},
    "colab_type": "code",
    "id": "RtPQd_PrSKKz"
   },
   "outputs": [],
   "source": [
    "regressor2 = Sequential()"
   ]
  },
  {
   "cell_type": "code",
   "execution_count": 37,
   "metadata": {
    "colab": {},
    "colab_type": "code",
    "id": "enmt_zu8drcO"
   },
   "outputs": [],
   "source": [
    "regressor2.add(Dense(8, input_dim=1, kernel_initializer='random_uniform', \n",
    "                     activation='sigmoid',use_bias=False)) \n",
    "regressor2.add(Dense(8, kernel_initializer='random_uniform', \n",
    "                     activation='sigmoid',use_bias=False))\n",
    "regressor2.add(Dense(1, kernel_initializer='random_uniform', \n",
    "                     activation='linear',use_bias=False))"
   ]
  },
  {
   "cell_type": "code",
   "execution_count": 38,
   "metadata": {
    "colab": {
     "base_uri": "https://localhost:8080/",
     "height": 255
    },
    "colab_type": "code",
    "id": "ShpxsVmHPCFo",
    "outputId": "c02aa9db-7b96-42e0-9417-57c4fe62d0cd"
   },
   "outputs": [
    {
     "name": "stdout",
     "output_type": "stream",
     "text": [
      "Model: \"sequential_1\"\n",
      "_________________________________________________________________\n",
      "Layer (type)                 Output Shape              Param #   \n",
      "=================================================================\n",
      "dense_1 (Dense)              (None, 8)                 8         \n",
      "_________________________________________________________________\n",
      "dense_2 (Dense)              (None, 8)                 64        \n",
      "_________________________________________________________________\n",
      "dense_3 (Dense)              (None, 1)                 8         \n",
      "=================================================================\n",
      "Total params: 80\n",
      "Trainable params: 80\n",
      "Non-trainable params: 0\n",
      "_________________________________________________________________\n"
     ]
    }
   ],
   "source": [
    "regressor2.compile(loss='mean_squared_error',optimizer='adam')\n",
    "regressor2.summary()"
   ]
  },
  {
   "cell_type": "code",
   "execution_count": 39,
   "metadata": {
    "colab": {
     "base_uri": "https://localhost:8080/",
     "height": 1000
    },
    "colab_type": "code",
    "id": "ksn7mnHrl7KE",
    "outputId": "c109a9f5-dc9e-468c-bc76-3fea8160d792"
   },
   "outputs": [
    {
     "name": "stdout",
     "output_type": "stream",
     "text": [
      "Epoch 1/500\n",
      "5/5 [==============================] - 0s 500us/step - loss: 0.8231\n",
      "Epoch 2/500\n",
      "5/5 [==============================] - 0s 500us/step - loss: 0.8152\n",
      "Epoch 3/500\n",
      "5/5 [==============================] - 0s 750us/step - loss: 0.8098\n",
      "Epoch 4/500\n",
      "5/5 [==============================] - 0s 500us/step - loss: 0.8045\n",
      "Epoch 5/500\n",
      "5/5 [==============================] - 0s 250us/step - loss: 0.8006\n",
      "Epoch 6/500\n",
      "5/5 [==============================] - 0s 500us/step - loss: 0.7986\n",
      "Epoch 7/500\n",
      "5/5 [==============================] - 0s 500us/step - loss: 0.7968\n",
      "Epoch 8/500\n",
      "5/5 [==============================] - 0s 500us/step - loss: 0.7957\n",
      "Epoch 9/500\n",
      "5/5 [==============================] - 0s 500us/step - loss: 0.7943\n",
      "Epoch 10/500\n",
      "5/5 [==============================] - 0s 500us/step - loss: 0.7929\n",
      "Epoch 11/500\n",
      "5/5 [==============================] - 0s 501us/step - loss: 0.7917\n",
      "Epoch 12/500\n",
      "5/5 [==============================] - 0s 500us/step - loss: 0.7910\n",
      "Epoch 13/500\n",
      "5/5 [==============================] - 0s 500us/step - loss: 0.7894\n",
      "Epoch 14/500\n",
      "5/5 [==============================] - 0s 751us/step - loss: 0.7883\n",
      "Epoch 15/500\n",
      "5/5 [==============================] - 0s 500us/step - loss: 0.7883\n",
      "Epoch 16/500\n",
      "5/5 [==============================] - 0s 501us/step - loss: 0.7880\n",
      "Epoch 17/500\n",
      "5/5 [==============================] - 0s 500us/step - loss: 0.7875\n",
      "Epoch 18/500\n",
      "5/5 [==============================] - 0s 500us/step - loss: 0.7874\n",
      "Epoch 19/500\n",
      "5/5 [==============================] - 0s 500us/step - loss: 0.7873\n",
      "Epoch 20/500\n",
      "5/5 [==============================] - 0s 500us/step - loss: 0.7868\n",
      "Epoch 21/500\n",
      "5/5 [==============================] - 0s 500us/step - loss: 0.7853\n",
      "Epoch 22/500\n",
      "5/5 [==============================] - 0s 500us/step - loss: 0.7842\n",
      "Epoch 23/500\n",
      "5/5 [==============================] - 0s 500us/step - loss: 0.7834\n",
      "Epoch 24/500\n",
      "5/5 [==============================] - 0s 500us/step - loss: 0.7823\n",
      "Epoch 25/500\n",
      "5/5 [==============================] - 0s 500us/step - loss: 0.7817\n",
      "Epoch 26/500\n",
      "5/5 [==============================] - 0s 500us/step - loss: 0.7804\n",
      "Epoch 27/500\n",
      "5/5 [==============================] - 0s 500us/step - loss: 0.7801\n",
      "Epoch 28/500\n",
      "5/5 [==============================] - 0s 500us/step - loss: 0.7791\n",
      "Epoch 29/500\n",
      "5/5 [==============================] - 0s 500us/step - loss: 0.7787\n",
      "Epoch 30/500\n",
      "5/5 [==============================] - 0s 250us/step - loss: 0.7786\n",
      "Epoch 31/500\n",
      "5/5 [==============================] - 0s 500us/step - loss: 0.7786\n",
      "Epoch 32/500\n",
      "5/5 [==============================] - 0s 500us/step - loss: 0.7784\n",
      "Epoch 33/500\n",
      "5/5 [==============================] - 0s 500us/step - loss: 0.7786\n",
      "Epoch 34/500\n",
      "5/5 [==============================] - 0s 750us/step - loss: 0.7784\n",
      "Epoch 35/500\n",
      "5/5 [==============================] - 0s 250us/step - loss: 0.7779\n",
      "Epoch 36/500\n",
      "5/5 [==============================] - 0s 500us/step - loss: 0.7781\n",
      "Epoch 37/500\n",
      "5/5 [==============================] - 0s 500us/step - loss: 0.7782\n",
      "Epoch 38/500\n",
      "5/5 [==============================] - 0s 500us/step - loss: 0.7781\n",
      "Epoch 39/500\n",
      "5/5 [==============================] - 0s 750us/step - loss: 0.7784\n",
      "Epoch 40/500\n",
      "5/5 [==============================] - 0s 500us/step - loss: 0.7788\n",
      "Epoch 41/500\n",
      "5/5 [==============================] - 0s 500us/step - loss: 0.7792\n",
      "Epoch 42/500\n",
      "5/5 [==============================] - 0s 501us/step - loss: 0.7791\n",
      "Epoch 43/500\n",
      "5/5 [==============================] - 0s 250us/step - loss: 0.7786\n",
      "Epoch 44/500\n",
      "5/5 [==============================] - 0s 250us/step - loss: 0.7790\n",
      "Epoch 45/500\n",
      "5/5 [==============================] - 0s 500us/step - loss: 0.7791\n",
      "Epoch 46/500\n",
      "5/5 [==============================] - 0s 500us/step - loss: 0.7785\n",
      "Epoch 47/500\n",
      "5/5 [==============================] - 0s 500us/step - loss: 0.7782\n",
      "Epoch 48/500\n",
      "5/5 [==============================] - 0s 500us/step - loss: 0.7782\n",
      "Epoch 49/500\n",
      "5/5 [==============================] - 0s 500us/step - loss: 0.7780\n",
      "Epoch 50/500\n",
      "5/5 [==============================] - 0s 500us/step - loss: 0.7776\n",
      "Epoch 51/500\n",
      "5/5 [==============================] - 0s 500us/step - loss: 0.7768\n",
      "Epoch 52/500\n",
      "5/5 [==============================] - 0s 500us/step - loss: 0.7760\n",
      "Epoch 53/500\n",
      "5/5 [==============================] - 0s 500us/step - loss: 0.7754\n",
      "Epoch 54/500\n",
      "5/5 [==============================] - 0s 500us/step - loss: 0.7748\n",
      "Epoch 55/500\n",
      "5/5 [==============================] - 0s 500us/step - loss: 0.7743\n",
      "Epoch 56/500\n",
      "5/5 [==============================] - 0s 500us/step - loss: 0.7738\n",
      "Epoch 57/500\n",
      "5/5 [==============================] - 0s 500us/step - loss: 0.7737\n",
      "Epoch 58/500\n",
      "5/5 [==============================] - 0s 500us/step - loss: 0.7733\n",
      "Epoch 59/500\n",
      "5/5 [==============================] - 0s 500us/step - loss: 0.7729\n",
      "Epoch 60/500\n",
      "5/5 [==============================] - 0s 501us/step - loss: 0.7730\n",
      "Epoch 61/500\n",
      "5/5 [==============================] - 0s 500us/step - loss: 0.7724\n",
      "Epoch 62/500\n",
      "5/5 [==============================] - 0s 500us/step - loss: 0.7721\n",
      "Epoch 63/500\n",
      "5/5 [==============================] - 0s 500us/step - loss: 0.7717\n",
      "Epoch 64/500\n",
      "5/5 [==============================] - 0s 500us/step - loss: 0.7713\n",
      "Epoch 65/500\n",
      "5/5 [==============================] - 0s 500us/step - loss: 0.7711\n",
      "Epoch 66/500\n",
      "5/5 [==============================] - 0s 500us/step - loss: 0.7709\n",
      "Epoch 67/500\n",
      "5/5 [==============================] - 0s 750us/step - loss: 0.7706\n",
      "Epoch 68/500\n",
      "5/5 [==============================] - 0s 500us/step - loss: 0.7703\n",
      "Epoch 69/500\n",
      "5/5 [==============================] - 0s 500us/step - loss: 0.7701\n",
      "Epoch 70/500\n",
      "5/5 [==============================] - 0s 250us/step - loss: 0.7700\n",
      "Epoch 71/500\n",
      "5/5 [==============================] - 0s 500us/step - loss: 0.7694\n",
      "Epoch 72/500\n",
      "5/5 [==============================] - 0s 500us/step - loss: 0.7691\n",
      "Epoch 73/500\n",
      "5/5 [==============================] - 0s 250us/step - loss: 0.7686\n",
      "Epoch 74/500\n",
      "5/5 [==============================] - 0s 500us/step - loss: 0.7687\n",
      "Epoch 75/500\n",
      "5/5 [==============================] - 0s 250us/step - loss: 0.7679\n",
      "Epoch 76/500\n",
      "5/5 [==============================] - 0s 750us/step - loss: 0.7676\n",
      "Epoch 77/500\n",
      "5/5 [==============================] - 0s 500us/step - loss: 0.7669\n",
      "Epoch 78/500\n",
      "5/5 [==============================] - 0s 250us/step - loss: 0.7669\n",
      "Epoch 79/500\n",
      "5/5 [==============================] - 0s 500us/step - loss: 0.7665\n",
      "Epoch 80/500\n",
      "5/5 [==============================] - 0s 500us/step - loss: 0.7656\n",
      "Epoch 81/500\n",
      "5/5 [==============================] - 0s 500us/step - loss: 0.7654\n",
      "Epoch 82/500\n",
      "5/5 [==============================] - 0s 500us/step - loss: 0.7645\n",
      "Epoch 83/500\n",
      "5/5 [==============================] - 0s 500us/step - loss: 0.7645\n",
      "Epoch 84/500\n",
      "5/5 [==============================] - 0s 500us/step - loss: 0.7644\n",
      "Epoch 85/500\n",
      "5/5 [==============================] - 0s 500us/step - loss: 0.7639\n",
      "Epoch 86/500\n",
      "5/5 [==============================] - 0s 500us/step - loss: 0.7634\n",
      "Epoch 87/500\n",
      "5/5 [==============================] - 0s 500us/step - loss: 0.7629\n",
      "Epoch 88/500\n",
      "5/5 [==============================] - 0s 500us/step - loss: 0.7627\n",
      "Epoch 89/500\n",
      "5/5 [==============================] - 0s 500us/step - loss: 0.7622\n",
      "Epoch 90/500\n",
      "5/5 [==============================] - 0s 500us/step - loss: 0.7617\n",
      "Epoch 91/500\n",
      "5/5 [==============================] - 0s 500us/step - loss: 0.7613\n",
      "Epoch 92/500\n",
      "5/5 [==============================] - 0s 500us/step - loss: 0.7612\n",
      "Epoch 93/500\n",
      "5/5 [==============================] - 0s 500us/step - loss: 0.7610\n",
      "Epoch 94/500\n",
      "5/5 [==============================] - 0s 500us/step - loss: 0.7607\n",
      "Epoch 95/500\n",
      "5/5 [==============================] - 0s 500us/step - loss: 0.7605\n",
      "Epoch 96/500\n",
      "5/5 [==============================] - 0s 250us/step - loss: 0.7600\n",
      "Epoch 97/500\n",
      "5/5 [==============================] - 0s 500us/step - loss: 0.7592\n",
      "Epoch 98/500\n",
      "5/5 [==============================] - 0s 500us/step - loss: 0.7577\n",
      "Epoch 99/500\n",
      "5/5 [==============================] - 0s 500us/step - loss: 0.7561\n",
      "Epoch 100/500\n",
      "5/5 [==============================] - 0s 501us/step - loss: 0.7557\n",
      "Epoch 101/500\n",
      "5/5 [==============================] - 0s 500us/step - loss: 0.7552\n",
      "Epoch 102/500\n",
      "5/5 [==============================] - 0s 750us/step - loss: 0.7546\n",
      "Epoch 103/500\n",
      "5/5 [==============================] - 0s 500us/step - loss: 0.7539\n",
      "Epoch 104/500\n",
      "5/5 [==============================] - 0s 500us/step - loss: 0.7534\n",
      "Epoch 105/500\n",
      "5/5 [==============================] - 0s 500us/step - loss: 0.7526\n",
      "Epoch 106/500\n",
      "5/5 [==============================] - 0s 500us/step - loss: 0.7519\n",
      "Epoch 107/500\n",
      "5/5 [==============================] - 0s 500us/step - loss: 0.7515\n",
      "Epoch 108/500\n",
      "5/5 [==============================] - 0s 250us/step - loss: 0.7506\n",
      "Epoch 109/500\n",
      "5/5 [==============================] - 0s 500us/step - loss: 0.7497\n",
      "Epoch 110/500\n",
      "5/5 [==============================] - 0s 500us/step - loss: 0.7491\n",
      "Epoch 111/500\n",
      "5/5 [==============================] - 0s 500us/step - loss: 0.7485\n",
      "Epoch 112/500\n",
      "5/5 [==============================] - 0s 500us/step - loss: 0.7478\n",
      "Epoch 113/500\n",
      "5/5 [==============================] - 0s 750us/step - loss: 0.7474\n",
      "Epoch 114/500\n",
      "5/5 [==============================] - 0s 500us/step - loss: 0.7465\n",
      "Epoch 115/500\n",
      "5/5 [==============================] - 0s 500us/step - loss: 0.7457\n",
      "Epoch 116/500\n",
      "5/5 [==============================] - 0s 500us/step - loss: 0.7450\n",
      "Epoch 117/500\n",
      "5/5 [==============================] - 0s 500us/step - loss: 0.7443\n",
      "Epoch 118/500\n",
      "5/5 [==============================] - 0s 500us/step - loss: 0.7439\n",
      "Epoch 119/500\n",
      "5/5 [==============================] - 0s 500us/step - loss: 0.7428\n",
      "Epoch 120/500\n",
      "5/5 [==============================] - 0s 250us/step - loss: 0.7417\n",
      "Epoch 121/500\n",
      "5/5 [==============================] - 0s 500us/step - loss: 0.7403\n",
      "Epoch 122/500\n",
      "5/5 [==============================] - 0s 500us/step - loss: 0.7393\n",
      "Epoch 123/500\n",
      "5/5 [==============================] - 0s 500us/step - loss: 0.7379\n",
      "Epoch 124/500\n",
      "5/5 [==============================] - 0s 500us/step - loss: 0.7369\n",
      "Epoch 125/500\n",
      "5/5 [==============================] - 0s 500us/step - loss: 0.7358\n",
      "Epoch 126/500\n",
      "5/5 [==============================] - 0s 250us/step - loss: 0.7350\n",
      "Epoch 127/500\n",
      "5/5 [==============================] - 0s 501us/step - loss: 0.7341\n",
      "Epoch 128/500\n",
      "5/5 [==============================] - 0s 500us/step - loss: 0.7332\n",
      "Epoch 129/500\n",
      "5/5 [==============================] - 0s 750us/step - loss: 0.7321\n",
      "Epoch 130/500\n",
      "5/5 [==============================] - 0s 500us/step - loss: 0.7313\n",
      "Epoch 131/500\n",
      "5/5 [==============================] - 0s 250us/step - loss: 0.7302\n",
      "Epoch 132/500\n",
      "5/5 [==============================] - 0s 250us/step - loss: 0.7292\n",
      "Epoch 133/500\n",
      "5/5 [==============================] - 0s 500us/step - loss: 0.7283\n",
      "Epoch 134/500\n",
      "5/5 [==============================] - 0s 750us/step - loss: 0.7269\n",
      "Epoch 135/500\n",
      "5/5 [==============================] - 0s 500us/step - loss: 0.7256\n",
      "Epoch 136/500\n",
      "5/5 [==============================] - 0s 750us/step - loss: 0.7247\n",
      "Epoch 137/500\n",
      "5/5 [==============================] - 0s 500us/step - loss: 0.7236\n",
      "Epoch 138/500\n",
      "5/5 [==============================] - 0s 500us/step - loss: 0.7223\n",
      "Epoch 139/500\n",
      "5/5 [==============================] - 0s 500us/step - loss: 0.7219\n",
      "Epoch 140/500\n",
      "5/5 [==============================] - 0s 500us/step - loss: 0.7205\n",
      "Epoch 141/500\n",
      "5/5 [==============================] - 0s 500us/step - loss: 0.7196\n",
      "Epoch 142/500\n",
      "5/5 [==============================] - 0s 500us/step - loss: 0.7188\n",
      "Epoch 143/500\n",
      "5/5 [==============================] - 0s 500us/step - loss: 0.7179\n",
      "Epoch 144/500\n",
      "5/5 [==============================] - 0s 500us/step - loss: 0.7163\n",
      "Epoch 145/500\n",
      "5/5 [==============================] - 0s 500us/step - loss: 0.7148\n",
      "Epoch 146/500\n",
      "5/5 [==============================] - 0s 500us/step - loss: 0.7132\n",
      "Epoch 147/500\n",
      "5/5 [==============================] - 0s 500us/step - loss: 0.7105\n",
      "Epoch 148/500\n",
      "5/5 [==============================] - 0s 500us/step - loss: 0.7091\n",
      "Epoch 149/500\n",
      "5/5 [==============================] - 0s 500us/step - loss: 0.7076\n",
      "Epoch 150/500\n",
      "5/5 [==============================] - 0s 500us/step - loss: 0.7063\n",
      "Epoch 151/500\n",
      "5/5 [==============================] - 0s 500us/step - loss: 0.7048\n",
      "Epoch 152/500\n",
      "5/5 [==============================] - 0s 500us/step - loss: 0.7038\n",
      "Epoch 153/500\n",
      "5/5 [==============================] - 0s 501us/step - loss: 0.7026\n",
      "Epoch 154/500\n",
      "5/5 [==============================] - 0s 500us/step - loss: 0.7015\n",
      "Epoch 155/500\n",
      "5/5 [==============================] - 0s 500us/step - loss: 0.7003\n",
      "Epoch 156/500\n",
      "5/5 [==============================] - 0s 501us/step - loss: 0.6992\n",
      "Epoch 157/500\n",
      "5/5 [==============================] - 0s 500us/step - loss: 0.6982\n",
      "Epoch 158/500\n",
      "5/5 [==============================] - 0s 500us/step - loss: 0.6966\n",
      "Epoch 159/500\n",
      "5/5 [==============================] - 0s 500us/step - loss: 0.6952\n",
      "Epoch 160/500\n",
      "5/5 [==============================] - 0s 500us/step - loss: 0.6938\n",
      "Epoch 161/500\n",
      "5/5 [==============================] - 0s 500us/step - loss: 0.6923\n",
      "Epoch 162/500\n",
      "5/5 [==============================] - 0s 500us/step - loss: 0.6910\n",
      "Epoch 163/500\n",
      "5/5 [==============================] - 0s 500us/step - loss: 0.6895\n",
      "Epoch 164/500\n",
      "5/5 [==============================] - 0s 500us/step - loss: 0.6884\n",
      "Epoch 165/500\n",
      "5/5 [==============================] - 0s 500us/step - loss: 0.6868\n",
      "Epoch 166/500\n",
      "5/5 [==============================] - 0s 500us/step - loss: 0.6856\n",
      "Epoch 167/500\n",
      "5/5 [==============================] - 0s 500us/step - loss: 0.6845\n",
      "Epoch 168/500\n",
      "5/5 [==============================] - 0s 500us/step - loss: 0.6833\n",
      "Epoch 169/500\n",
      "5/5 [==============================] - 0s 500us/step - loss: 0.6827\n",
      "Epoch 170/500\n",
      "5/5 [==============================] - 0s 500us/step - loss: 0.6810\n",
      "Epoch 171/500\n",
      "5/5 [==============================] - 0s 500us/step - loss: 0.6795\n",
      "Epoch 172/500\n",
      "5/5 [==============================] - 0s 500us/step - loss: 0.6780\n",
      "Epoch 173/500\n",
      "5/5 [==============================] - 0s 500us/step - loss: 0.6767\n",
      "Epoch 174/500\n",
      "5/5 [==============================] - 0s 500us/step - loss: 0.6755\n",
      "Epoch 175/500\n",
      "5/5 [==============================] - 0s 500us/step - loss: 0.6739\n",
      "Epoch 176/500\n",
      "5/5 [==============================] - 0s 500us/step - loss: 0.6725\n",
      "Epoch 177/500\n",
      "5/5 [==============================] - 0s 750us/step - loss: 0.6713\n",
      "Epoch 178/500\n",
      "5/5 [==============================] - 0s 500us/step - loss: 0.6701\n",
      "Epoch 179/500\n",
      "5/5 [==============================] - 0s 500us/step - loss: 0.6691\n",
      "Epoch 180/500\n",
      "5/5 [==============================] - 0s 500us/step - loss: 0.6678\n",
      "Epoch 181/500\n",
      "5/5 [==============================] - 0s 500us/step - loss: 0.6662\n",
      "Epoch 182/500\n",
      "5/5 [==============================] - 0s 500us/step - loss: 0.6648\n",
      "Epoch 183/500\n",
      "5/5 [==============================] - 0s 500us/step - loss: 0.6634\n",
      "Epoch 184/500\n",
      "5/5 [==============================] - 0s 500us/step - loss: 0.6616\n",
      "Epoch 185/500\n",
      "5/5 [==============================] - 0s 500us/step - loss: 0.6593\n",
      "Epoch 186/500\n",
      "5/5 [==============================] - 0s 500us/step - loss: 0.6588\n",
      "Epoch 187/500\n",
      "5/5 [==============================] - 0s 500us/step - loss: 0.6564\n",
      "Epoch 188/500\n",
      "5/5 [==============================] - 0s 500us/step - loss: 0.6549\n",
      "Epoch 189/500\n",
      "5/5 [==============================] - 0s 500us/step - loss: 0.6532\n",
      "Epoch 190/500\n",
      "5/5 [==============================] - 0s 500us/step - loss: 0.6518\n",
      "Epoch 191/500\n",
      "5/5 [==============================] - 0s 500us/step - loss: 0.6505\n",
      "Epoch 192/500\n",
      "5/5 [==============================] - 0s 500us/step - loss: 0.6489\n",
      "Epoch 193/500\n",
      "5/5 [==============================] - 0s 500us/step - loss: 0.6475\n",
      "Epoch 194/500\n",
      "5/5 [==============================] - 0s 250us/step - loss: 0.6461\n",
      "Epoch 195/500\n",
      "5/5 [==============================] - 0s 500us/step - loss: 0.6447\n",
      "Epoch 196/500\n",
      "5/5 [==============================] - 0s 250us/step - loss: 0.6436\n",
      "Epoch 197/500\n",
      "5/5 [==============================] - 0s 250us/step - loss: 0.6420\n",
      "Epoch 198/500\n",
      "5/5 [==============================] - 0s 501us/step - loss: 0.6403\n",
      "Epoch 199/500\n",
      "5/5 [==============================] - 0s 500us/step - loss: 0.6380\n",
      "Epoch 200/500\n",
      "5/5 [==============================] - 0s 500us/step - loss: 0.6360\n",
      "Epoch 201/500\n",
      "5/5 [==============================] - 0s 500us/step - loss: 0.6340\n",
      "Epoch 202/500\n"
     ]
    },
    {
     "name": "stdout",
     "output_type": "stream",
     "text": [
      "5/5 [==============================] - 0s 500us/step - loss: 0.6324\n",
      "Epoch 203/500\n",
      "5/5 [==============================] - 0s 500us/step - loss: 0.6304\n",
      "Epoch 204/500\n",
      "5/5 [==============================] - 0s 500us/step - loss: 0.6289\n",
      "Epoch 205/500\n",
      "5/5 [==============================] - 0s 500us/step - loss: 0.6274\n",
      "Epoch 206/500\n",
      "5/5 [==============================] - 0s 500us/step - loss: 0.6258\n",
      "Epoch 207/500\n",
      "5/5 [==============================] - 0s 500us/step - loss: 0.6242\n",
      "Epoch 208/500\n",
      "5/5 [==============================] - 0s 500us/step - loss: 0.6228\n",
      "Epoch 209/500\n",
      "5/5 [==============================] - 0s 500us/step - loss: 0.6212\n",
      "Epoch 210/500\n",
      "5/5 [==============================] - 0s 500us/step - loss: 0.6199\n",
      "Epoch 211/500\n",
      "5/5 [==============================] - 0s 500us/step - loss: 0.6182\n",
      "Epoch 212/500\n",
      "5/5 [==============================] - 0s 500us/step - loss: 0.6169\n",
      "Epoch 213/500\n",
      "5/5 [==============================] - 0s 500us/step - loss: 0.6146\n",
      "Epoch 214/500\n",
      "5/5 [==============================] - 0s 500us/step - loss: 0.6122\n",
      "Epoch 215/500\n",
      "5/5 [==============================] - 0s 250us/step - loss: 0.6101\n",
      "Epoch 216/500\n",
      "5/5 [==============================] - 0s 500us/step - loss: 0.6082\n",
      "Epoch 217/500\n",
      "5/5 [==============================] - 0s 250us/step - loss: 0.6069\n",
      "Epoch 218/500\n",
      "5/5 [==============================] - 0s 500us/step - loss: 0.6052\n",
      "Epoch 219/500\n",
      "5/5 [==============================] - 0s 250us/step - loss: 0.6038\n",
      "Epoch 220/500\n",
      "5/5 [==============================] - 0s 500us/step - loss: 0.6022\n",
      "Epoch 221/500\n",
      "5/5 [==============================] - 0s 500us/step - loss: 0.6007\n",
      "Epoch 222/500\n",
      "5/5 [==============================] - 0s 250us/step - loss: 0.5990\n",
      "Epoch 223/500\n",
      "5/5 [==============================] - 0s 500us/step - loss: 0.5976\n",
      "Epoch 224/500\n",
      "5/5 [==============================] - 0s 500us/step - loss: 0.5962\n",
      "Epoch 225/500\n",
      "5/5 [==============================] - 0s 500us/step - loss: 0.5951\n",
      "Epoch 226/500\n",
      "5/5 [==============================] - 0s 250us/step - loss: 0.5929\n",
      "Epoch 227/500\n",
      "5/5 [==============================] - 0s 750us/step - loss: 0.5909\n",
      "Epoch 228/500\n",
      "5/5 [==============================] - 0s 500us/step - loss: 0.5888\n",
      "Epoch 229/500\n",
      "5/5 [==============================] - 0s 500us/step - loss: 0.5859\n",
      "Epoch 230/500\n",
      "5/5 [==============================] - 0s 250us/step - loss: 0.5846\n",
      "Epoch 231/500\n",
      "5/5 [==============================] - 0s 500us/step - loss: 0.5835\n",
      "Epoch 232/500\n",
      "5/5 [==============================] - 0s 500us/step - loss: 0.5835\n",
      "Epoch 233/500\n",
      "5/5 [==============================] - 0s 500us/step - loss: 0.5837\n",
      "Epoch 234/500\n",
      "5/5 [==============================] - 0s 501us/step - loss: 0.5834\n",
      "Epoch 235/500\n",
      "5/5 [==============================] - 0s 500us/step - loss: 0.5818\n",
      "Epoch 236/500\n",
      "5/5 [==============================] - 0s 501us/step - loss: 0.5796\n",
      "Epoch 237/500\n",
      "5/5 [==============================] - 0s 500us/step - loss: 0.5775\n",
      "Epoch 238/500\n",
      "5/5 [==============================] - 0s 501us/step - loss: 0.5763\n",
      "Epoch 239/500\n",
      "5/5 [==============================] - 0s 750us/step - loss: 0.5753\n",
      "Epoch 240/500\n",
      "5/5 [==============================] - 0s 501us/step - loss: 0.5727\n",
      "Epoch 241/500\n",
      "5/5 [==============================] - 0s 500us/step - loss: 0.5691\n",
      "Epoch 242/500\n",
      "5/5 [==============================] - 0s 500us/step - loss: 0.5663\n",
      "Epoch 243/500\n",
      "5/5 [==============================] - 0s 501us/step - loss: 0.5634\n",
      "Epoch 244/500\n",
      "5/5 [==============================] - 0s 500us/step - loss: 0.5614\n",
      "Epoch 245/500\n",
      "5/5 [==============================] - 0s 500us/step - loss: 0.5601\n",
      "Epoch 246/500\n",
      "5/5 [==============================] - 0s 750us/step - loss: 0.5581\n",
      "Epoch 247/500\n",
      "5/5 [==============================] - 0s 500us/step - loss: 0.5553\n",
      "Epoch 248/500\n",
      "5/5 [==============================] - 0s 500us/step - loss: 0.5520\n",
      "Epoch 249/500\n",
      "5/5 [==============================] - 0s 500us/step - loss: 0.5493\n",
      "Epoch 250/500\n",
      "5/5 [==============================] - 0s 500us/step - loss: 0.5470\n",
      "Epoch 251/500\n",
      "5/5 [==============================] - 0s 500us/step - loss: 0.5456\n",
      "Epoch 252/500\n",
      "5/5 [==============================] - 0s 500us/step - loss: 0.5434\n",
      "Epoch 253/500\n",
      "5/5 [==============================] - 0s 500us/step - loss: 0.5419\n",
      "Epoch 254/500\n",
      "5/5 [==============================] - 0s 500us/step - loss: 0.5406\n",
      "Epoch 255/500\n",
      "5/5 [==============================] - 0s 500us/step - loss: 0.5391\n",
      "Epoch 256/500\n",
      "5/5 [==============================] - 0s 500us/step - loss: 0.5375\n",
      "Epoch 257/500\n",
      "5/5 [==============================] - 0s 501us/step - loss: 0.5360\n",
      "Epoch 258/500\n",
      "5/5 [==============================] - 0s 500us/step - loss: 0.5342\n",
      "Epoch 259/500\n",
      "5/5 [==============================] - 0s 500us/step - loss: 0.5329\n",
      "Epoch 260/500\n",
      "5/5 [==============================] - 0s 500us/step - loss: 0.5312\n",
      "Epoch 261/500\n",
      "5/5 [==============================] - 0s 500us/step - loss: 0.5294\n",
      "Epoch 262/500\n",
      "5/5 [==============================] - 0s 500us/step - loss: 0.5279\n",
      "Epoch 263/500\n",
      "5/5 [==============================] - 0s 750us/step - loss: 0.5269\n",
      "Epoch 264/500\n",
      "5/5 [==============================] - 0s 500us/step - loss: 0.5255\n",
      "Epoch 265/500\n",
      "5/5 [==============================] - 0s 500us/step - loss: 0.5239\n",
      "Epoch 266/500\n",
      "5/5 [==============================] - 0s 500us/step - loss: 0.5218\n",
      "Epoch 267/500\n",
      "5/5 [==============================] - 0s 250us/step - loss: 0.5194\n",
      "Epoch 268/500\n",
      "5/5 [==============================] - 0s 500us/step - loss: 0.5173\n",
      "Epoch 269/500\n",
      "5/5 [==============================] - 0s 500us/step - loss: 0.5158\n",
      "Epoch 270/500\n",
      "5/5 [==============================] - 0s 500us/step - loss: 0.5139\n",
      "Epoch 271/500\n",
      "5/5 [==============================] - 0s 500us/step - loss: 0.5120\n",
      "Epoch 272/500\n",
      "5/5 [==============================] - 0s 250us/step - loss: 0.5100\n",
      "Epoch 273/500\n",
      "5/5 [==============================] - 0s 750us/step - loss: 0.5080\n",
      "Epoch 274/500\n",
      "5/5 [==============================] - 0s 500us/step - loss: 0.5059\n",
      "Epoch 275/500\n",
      "5/5 [==============================] - 0s 501us/step - loss: 0.5042\n",
      "Epoch 276/500\n",
      "5/5 [==============================] - 0s 500us/step - loss: 0.5015\n",
      "Epoch 277/500\n",
      "5/5 [==============================] - 0s 500us/step - loss: 0.4994\n",
      "Epoch 278/500\n",
      "5/5 [==============================] - 0s 500us/step - loss: 0.4978\n",
      "Epoch 279/500\n",
      "5/5 [==============================] - 0s 250us/step - loss: 0.4969\n",
      "Epoch 280/500\n",
      "5/5 [==============================] - 0s 250us/step - loss: 0.4955\n",
      "Epoch 281/500\n",
      "5/5 [==============================] - 0s 750us/step - loss: 0.4936\n",
      "Epoch 282/500\n",
      "5/5 [==============================] - 0s 500us/step - loss: 0.4916\n",
      "Epoch 283/500\n",
      "5/5 [==============================] - 0s 501us/step - loss: 0.4898\n",
      "Epoch 284/500\n",
      "5/5 [==============================] - 0s 500us/step - loss: 0.4876\n",
      "Epoch 285/500\n",
      "5/5 [==============================] - 0s 500us/step - loss: 0.4858\n",
      "Epoch 286/500\n",
      "5/5 [==============================] - 0s 501us/step - loss: 0.4830\n",
      "Epoch 287/500\n",
      "5/5 [==============================] - 0s 500us/step - loss: 0.4811\n",
      "Epoch 288/500\n",
      "5/5 [==============================] - 0s 250us/step - loss: 0.4794\n",
      "Epoch 289/500\n",
      "5/5 [==============================] - 0s 751us/step - loss: 0.4778\n",
      "Epoch 290/500\n",
      "5/5 [==============================] - 0s 500us/step - loss: 0.4763\n",
      "Epoch 291/500\n",
      "5/5 [==============================] - 0s 500us/step - loss: 0.4747\n",
      "Epoch 292/500\n",
      "5/5 [==============================] - 0s 500us/step - loss: 0.4730\n",
      "Epoch 293/500\n",
      "5/5 [==============================] - 0s 500us/step - loss: 0.4714\n",
      "Epoch 294/500\n",
      "5/5 [==============================] - 0s 500us/step - loss: 0.4698\n",
      "Epoch 295/500\n",
      "5/5 [==============================] - 0s 500us/step - loss: 0.4684\n",
      "Epoch 296/500\n",
      "5/5 [==============================] - 0s 500us/step - loss: 0.4668\n",
      "Epoch 297/500\n",
      "5/5 [==============================] - 0s 250us/step - loss: 0.4660\n",
      "Epoch 298/500\n",
      "5/5 [==============================] - 0s 500us/step - loss: 0.4638\n",
      "Epoch 299/500\n",
      "5/5 [==============================] - 0s 500us/step - loss: 0.4623\n",
      "Epoch 300/500\n",
      "5/5 [==============================] - 0s 500us/step - loss: 0.4606\n",
      "Epoch 301/500\n",
      "5/5 [==============================] - 0s 500us/step - loss: 0.4590\n",
      "Epoch 302/500\n"
     ]
    },
    {
     "name": "stdout",
     "output_type": "stream",
     "text": [
      "5/5 [==============================] - 0s 500us/step - loss: 0.4570\n",
      "Epoch 303/500\n",
      "5/5 [==============================] - 0s 500us/step - loss: 0.4555\n",
      "Epoch 304/500\n",
      "5/5 [==============================] - 0s 500us/step - loss: 0.4539\n",
      "Epoch 305/500\n",
      "5/5 [==============================] - 0s 750us/step - loss: 0.4523\n",
      "Epoch 306/500\n",
      "5/5 [==============================] - 0s 500us/step - loss: 0.4509\n",
      "Epoch 307/500\n",
      "5/5 [==============================] - 0s 500us/step - loss: 0.4493\n",
      "Epoch 308/500\n",
      "5/5 [==============================] - 0s 500us/step - loss: 0.4481\n",
      "Epoch 309/500\n",
      "5/5 [==============================] - 0s 500us/step - loss: 0.4464\n",
      "Epoch 310/500\n",
      "5/5 [==============================] - 0s 501us/step - loss: 0.4444\n",
      "Epoch 311/500\n",
      "5/5 [==============================] - 0s 250us/step - loss: 0.4431\n",
      "Epoch 312/500\n",
      "5/5 [==============================] - 0s 750us/step - loss: 0.4410\n",
      "Epoch 313/500\n",
      "5/5 [==============================] - 0s 500us/step - loss: 0.4393\n",
      "Epoch 314/500\n",
      "5/5 [==============================] - 0s 250us/step - loss: 0.4379\n",
      "Epoch 315/500\n",
      "5/5 [==============================] - 0s 500us/step - loss: 0.4364\n",
      "Epoch 316/500\n",
      "5/5 [==============================] - 0s 500us/step - loss: 0.4348\n",
      "Epoch 317/500\n",
      "5/5 [==============================] - 0s 500us/step - loss: 0.4333\n",
      "Epoch 318/500\n",
      "5/5 [==============================] - 0s 500us/step - loss: 0.4317\n",
      "Epoch 319/500\n",
      "5/5 [==============================] - 0s 500us/step - loss: 0.4304\n",
      "Epoch 320/500\n",
      "5/5 [==============================] - 0s 500us/step - loss: 0.4288\n",
      "Epoch 321/500\n",
      "5/5 [==============================] - 0s 500us/step - loss: 0.4275\n",
      "Epoch 322/500\n",
      "5/5 [==============================] - 0s 500us/step - loss: 0.4258\n",
      "Epoch 323/500\n",
      "5/5 [==============================] - 0s 500us/step - loss: 0.4244\n",
      "Epoch 324/500\n",
      "5/5 [==============================] - 0s 500us/step - loss: 0.4225\n",
      "Epoch 325/500\n",
      "5/5 [==============================] - 0s 500us/step - loss: 0.4210\n",
      "Epoch 326/500\n",
      "5/5 [==============================] - 0s 500us/step - loss: 0.4193\n",
      "Epoch 327/500\n",
      "5/5 [==============================] - 0s 500us/step - loss: 0.4178\n",
      "Epoch 328/500\n",
      "5/5 [==============================] - 0s 500us/step - loss: 0.4164\n",
      "Epoch 329/500\n",
      "5/5 [==============================] - 0s 500us/step - loss: 0.4149\n",
      "Epoch 330/500\n",
      "5/5 [==============================] - 0s 501us/step - loss: 0.4135\n",
      "Epoch 331/500\n",
      "5/5 [==============================] - 0s 500us/step - loss: 0.4123\n",
      "Epoch 332/500\n",
      "5/5 [==============================] - 0s 500us/step - loss: 0.4109\n",
      "Epoch 333/500\n",
      "5/5 [==============================] - 0s 500us/step - loss: 0.4095\n",
      "Epoch 334/500\n",
      "5/5 [==============================] - 0s 500us/step - loss: 0.4080\n",
      "Epoch 335/500\n",
      "5/5 [==============================] - 0s 500us/step - loss: 0.4065\n",
      "Epoch 336/500\n",
      "5/5 [==============================] - 0s 500us/step - loss: 0.4048\n",
      "Epoch 337/500\n",
      "5/5 [==============================] - 0s 500us/step - loss: 0.4034\n",
      "Epoch 338/500\n",
      "5/5 [==============================] - 0s 500us/step - loss: 0.4019\n",
      "Epoch 339/500\n",
      "5/5 [==============================] - 0s 500us/step - loss: 0.4005\n",
      "Epoch 340/500\n",
      "5/5 [==============================] - 0s 500us/step - loss: 0.3989\n",
      "Epoch 341/500\n",
      "5/5 [==============================] - 0s 500us/step - loss: 0.3977\n",
      "Epoch 342/500\n",
      "5/5 [==============================] - 0s 500us/step - loss: 0.3962\n",
      "Epoch 343/500\n",
      "5/5 [==============================] - 0s 501us/step - loss: 0.3945\n",
      "Epoch 344/500\n",
      "5/5 [==============================] - 0s 500us/step - loss: 0.3931\n",
      "Epoch 345/500\n",
      "5/5 [==============================] - 0s 500us/step - loss: 0.3922\n",
      "Epoch 346/500\n",
      "5/5 [==============================] - 0s 500us/step - loss: 0.3908\n",
      "Epoch 347/500\n",
      "5/5 [==============================] - 0s 500us/step - loss: 0.3901\n",
      "Epoch 348/500\n",
      "5/5 [==============================] - 0s 500us/step - loss: 0.3891\n",
      "Epoch 349/500\n",
      "5/5 [==============================] - 0s 500us/step - loss: 0.3878\n",
      "Epoch 350/500\n",
      "5/5 [==============================] - 0s 501us/step - loss: 0.3857\n",
      "Epoch 351/500\n",
      "5/5 [==============================] - 0s 250us/step - loss: 0.3844\n",
      "Epoch 352/500\n",
      "5/5 [==============================] - 0s 500us/step - loss: 0.3831\n",
      "Epoch 353/500\n",
      "5/5 [==============================] - 0s 500us/step - loss: 0.3818\n",
      "Epoch 354/500\n",
      "5/5 [==============================] - 0s 500us/step - loss: 0.3806\n",
      "Epoch 355/500\n",
      "5/5 [==============================] - 0s 500us/step - loss: 0.3794\n",
      "Epoch 356/500\n",
      "5/5 [==============================] - 0s 500us/step - loss: 0.3782\n",
      "Epoch 357/500\n",
      "5/5 [==============================] - 0s 500us/step - loss: 0.3762\n",
      "Epoch 358/500\n",
      "5/5 [==============================] - 0s 500us/step - loss: 0.3743\n",
      "Epoch 359/500\n",
      "5/5 [==============================] - 0s 500us/step - loss: 0.3734\n",
      "Epoch 360/500\n",
      "5/5 [==============================] - 0s 500us/step - loss: 0.3720\n",
      "Epoch 361/500\n",
      "5/5 [==============================] - 0s 500us/step - loss: 0.3708\n",
      "Epoch 362/500\n",
      "5/5 [==============================] - 0s 500us/step - loss: 0.3700\n",
      "Epoch 363/500\n",
      "5/5 [==============================] - 0s 500us/step - loss: 0.3690\n",
      "Epoch 364/500\n",
      "5/5 [==============================] - 0s 500us/step - loss: 0.3677\n",
      "Epoch 365/500\n",
      "5/5 [==============================] - 0s 500us/step - loss: 0.3670\n",
      "Epoch 366/500\n",
      "5/5 [==============================] - 0s 250us/step - loss: 0.3655\n",
      "Epoch 367/500\n",
      "5/5 [==============================] - 0s 500us/step - loss: 0.3641\n",
      "Epoch 368/500\n",
      "5/5 [==============================] - 0s 501us/step - loss: 0.3626\n",
      "Epoch 369/500\n",
      "5/5 [==============================] - 0s 500us/step - loss: 0.3610\n",
      "Epoch 370/500\n",
      "5/5 [==============================] - 0s 500us/step - loss: 0.3591\n",
      "Epoch 371/500\n",
      "5/5 [==============================] - 0s 500us/step - loss: 0.3570\n",
      "Epoch 372/500\n",
      "5/5 [==============================] - 0s 500us/step - loss: 0.3553\n",
      "Epoch 373/500\n",
      "5/5 [==============================] - 0s 500us/step - loss: 0.3536\n",
      "Epoch 374/500\n",
      "5/5 [==============================] - 0s 250us/step - loss: 0.3523\n",
      "Epoch 375/500\n",
      "5/5 [==============================] - 0s 500us/step - loss: 0.3512\n",
      "Epoch 376/500\n",
      "5/5 [==============================] - 0s 500us/step - loss: 0.3501\n",
      "Epoch 377/500\n",
      "5/5 [==============================] - 0s 500us/step - loss: 0.3491\n",
      "Epoch 378/500\n",
      "5/5 [==============================] - 0s 250us/step - loss: 0.3475\n",
      "Epoch 379/500\n",
      "5/5 [==============================] - 0s 501us/step - loss: 0.3455\n",
      "Epoch 380/500\n",
      "5/5 [==============================] - 0s 250us/step - loss: 0.3449\n",
      "Epoch 381/500\n",
      "5/5 [==============================] - 0s 500us/step - loss: 0.3436\n",
      "Epoch 382/500\n",
      "5/5 [==============================] - 0s 500us/step - loss: 0.3424\n",
      "Epoch 383/500\n",
      "5/5 [==============================] - 0s 500us/step - loss: 0.3414\n",
      "Epoch 384/500\n",
      "5/5 [==============================] - 0s 500us/step - loss: 0.3405\n",
      "Epoch 385/500\n",
      "5/5 [==============================] - 0s 500us/step - loss: 0.3394\n",
      "Epoch 386/500\n",
      "5/5 [==============================] - 0s 750us/step - loss: 0.3384\n",
      "Epoch 387/500\n",
      "5/5 [==============================] - 0s 501us/step - loss: 0.3374\n",
      "Epoch 388/500\n",
      "5/5 [==============================] - 0s 500us/step - loss: 0.3360\n",
      "Epoch 389/500\n",
      "5/5 [==============================] - 0s 500us/step - loss: 0.3348\n",
      "Epoch 390/500\n",
      "5/5 [==============================] - 0s 500us/step - loss: 0.3334\n",
      "Epoch 391/500\n",
      "5/5 [==============================] - 0s 750us/step - loss: 0.3320\n",
      "Epoch 392/500\n",
      "5/5 [==============================] - 0s 500us/step - loss: 0.3310\n",
      "Epoch 393/500\n",
      "5/5 [==============================] - 0s 500us/step - loss: 0.3300\n",
      "Epoch 394/500\n",
      "5/5 [==============================] - 0s 500us/step - loss: 0.3290\n",
      "Epoch 395/500\n",
      "5/5 [==============================] - 0s 500us/step - loss: 0.3281\n",
      "Epoch 396/500\n",
      "5/5 [==============================] - 0s 500us/step - loss: 0.3269\n",
      "Epoch 397/500\n",
      "5/5 [==============================] - 0s 500us/step - loss: 0.3263\n",
      "Epoch 398/500\n",
      "5/5 [==============================] - 0s 500us/step - loss: 0.3252\n",
      "Epoch 399/500\n",
      "5/5 [==============================] - 0s 500us/step - loss: 0.3242\n",
      "Epoch 400/500\n",
      "5/5 [==============================] - 0s 500us/step - loss: 0.3236\n",
      "Epoch 401/500\n",
      "5/5 [==============================] - 0s 500us/step - loss: 0.3225\n",
      "Epoch 402/500\n"
     ]
    },
    {
     "name": "stdout",
     "output_type": "stream",
     "text": [
      "5/5 [==============================] - 0s 500us/step - loss: 0.3210\n",
      "Epoch 403/500\n",
      "5/5 [==============================] - 0s 500us/step - loss: 0.3192\n",
      "Epoch 404/500\n",
      "5/5 [==============================] - 0s 500us/step - loss: 0.3177\n",
      "Epoch 405/500\n",
      "5/5 [==============================] - 0s 500us/step - loss: 0.3167\n",
      "Epoch 406/500\n",
      "5/5 [==============================] - 0s 500us/step - loss: 0.3158\n",
      "Epoch 407/500\n",
      "5/5 [==============================] - 0s 500us/step - loss: 0.3148\n",
      "Epoch 408/500\n",
      "5/5 [==============================] - 0s 250us/step - loss: 0.3137\n",
      "Epoch 409/500\n",
      "5/5 [==============================] - 0s 500us/step - loss: 0.3127\n",
      "Epoch 410/500\n",
      "5/5 [==============================] - 0s 500us/step - loss: 0.3116\n",
      "Epoch 411/500\n",
      "5/5 [==============================] - 0s 500us/step - loss: 0.3109\n",
      "Epoch 412/500\n",
      "5/5 [==============================] - 0s 500us/step - loss: 0.3101\n",
      "Epoch 413/500\n",
      "5/5 [==============================] - 0s 500us/step - loss: 0.3092\n",
      "Epoch 414/500\n",
      "5/5 [==============================] - 0s 500us/step - loss: 0.3084\n",
      "Epoch 415/500\n",
      "5/5 [==============================] - 0s 500us/step - loss: 0.3076\n",
      "Epoch 416/500\n",
      "5/5 [==============================] - 0s 500us/step - loss: 0.3058\n",
      "Epoch 417/500\n",
      "5/5 [==============================] - 0s 500us/step - loss: 0.3042\n",
      "Epoch 418/500\n",
      "5/5 [==============================] - 0s 500us/step - loss: 0.3026\n",
      "Epoch 419/500\n",
      "5/5 [==============================] - 0s 500us/step - loss: 0.3014\n",
      "Epoch 420/500\n",
      "5/5 [==============================] - 0s 500us/step - loss: 0.3002\n",
      "Epoch 421/500\n",
      "5/5 [==============================] - 0s 500us/step - loss: 0.2993\n",
      "Epoch 422/500\n",
      "5/5 [==============================] - 0s 500us/step - loss: 0.2983\n",
      "Epoch 423/500\n",
      "5/5 [==============================] - 0s 500us/step - loss: 0.2976\n",
      "Epoch 424/500\n",
      "5/5 [==============================] - 0s 500us/step - loss: 0.2967\n",
      "Epoch 425/500\n",
      "5/5 [==============================] - 0s 500us/step - loss: 0.2958\n",
      "Epoch 426/500\n",
      "5/5 [==============================] - 0s 500us/step - loss: 0.2948\n",
      "Epoch 427/500\n",
      "5/5 [==============================] - 0s 500us/step - loss: 0.2936\n",
      "Epoch 428/500\n",
      "5/5 [==============================] - 0s 500us/step - loss: 0.2926\n",
      "Epoch 429/500\n",
      "5/5 [==============================] - 0s 500us/step - loss: 0.2918\n",
      "Epoch 430/500\n",
      "5/5 [==============================] - 0s 501us/step - loss: 0.2910\n",
      "Epoch 431/500\n",
      "5/5 [==============================] - 0s 500us/step - loss: 0.2901\n",
      "Epoch 432/500\n",
      "5/5 [==============================] - 0s 500us/step - loss: 0.2893\n",
      "Epoch 433/500\n",
      "5/5 [==============================] - 0s 500us/step - loss: 0.2884\n",
      "Epoch 434/500\n",
      "5/5 [==============================] - 0s 250us/step - loss: 0.2876\n",
      "Epoch 435/500\n",
      "5/5 [==============================] - 0s 500us/step - loss: 0.2868\n",
      "Epoch 436/500\n",
      "5/5 [==============================] - 0s 750us/step - loss: 0.2858\n",
      "Epoch 437/500\n",
      "5/5 [==============================] - 0s 500us/step - loss: 0.2848\n",
      "Epoch 438/500\n",
      "5/5 [==============================] - 0s 500us/step - loss: 0.2839\n",
      "Epoch 439/500\n",
      "5/5 [==============================] - 0s 500us/step - loss: 0.2829\n",
      "Epoch 440/500\n",
      "5/5 [==============================] - 0s 500us/step - loss: 0.2820\n",
      "Epoch 441/500\n",
      "5/5 [==============================] - 0s 500us/step - loss: 0.2812\n",
      "Epoch 442/500\n",
      "5/5 [==============================] - 0s 500us/step - loss: 0.2804\n",
      "Epoch 443/500\n",
      "5/5 [==============================] - 0s 500us/step - loss: 0.2796\n",
      "Epoch 444/500\n",
      "5/5 [==============================] - 0s 500us/step - loss: 0.2789\n",
      "Epoch 445/500\n",
      "5/5 [==============================] - 0s 500us/step - loss: 0.2782\n",
      "Epoch 446/500\n",
      "5/5 [==============================] - 0s 250us/step - loss: 0.2771\n",
      "Epoch 447/500\n",
      "5/5 [==============================] - 0s 500us/step - loss: 0.2756\n",
      "Epoch 448/500\n",
      "5/5 [==============================] - 0s 500us/step - loss: 0.2745\n",
      "Epoch 449/500\n",
      "5/5 [==============================] - 0s 500us/step - loss: 0.2734\n",
      "Epoch 450/500\n",
      "5/5 [==============================] - 0s 250us/step - loss: 0.2727\n",
      "Epoch 451/500\n",
      "5/5 [==============================] - 0s 500us/step - loss: 0.2719\n",
      "Epoch 452/500\n",
      "5/5 [==============================] - 0s 500us/step - loss: 0.2713\n",
      "Epoch 453/500\n",
      "5/5 [==============================] - 0s 500us/step - loss: 0.2707\n",
      "Epoch 454/500\n",
      "5/5 [==============================] - 0s 501us/step - loss: 0.2697\n",
      "Epoch 455/500\n",
      "5/5 [==============================] - 0s 250us/step - loss: 0.2689\n",
      "Epoch 456/500\n",
      "5/5 [==============================] - 0s 500us/step - loss: 0.2680\n",
      "Epoch 457/500\n",
      "5/5 [==============================] - 0s 501us/step - loss: 0.2672\n",
      "Epoch 458/500\n",
      "5/5 [==============================] - 0s 501us/step - loss: 0.2663\n",
      "Epoch 459/500\n",
      "5/5 [==============================] - 0s 500us/step - loss: 0.2654\n",
      "Epoch 460/500\n",
      "5/5 [==============================] - 0s 250us/step - loss: 0.2646\n",
      "Epoch 461/500\n",
      "5/5 [==============================] - 0s 500us/step - loss: 0.2639\n",
      "Epoch 462/500\n",
      "5/5 [==============================] - 0s 500us/step - loss: 0.2628\n",
      "Epoch 463/500\n",
      "5/5 [==============================] - 0s 500us/step - loss: 0.2620\n",
      "Epoch 464/500\n",
      "5/5 [==============================] - 0s 500us/step - loss: 0.2612\n",
      "Epoch 465/500\n",
      "5/5 [==============================] - 0s 500us/step - loss: 0.2604\n",
      "Epoch 466/500\n",
      "5/5 [==============================] - 0s 500us/step - loss: 0.2598\n",
      "Epoch 467/500\n",
      "5/5 [==============================] - 0s 500us/step - loss: 0.2591\n",
      "Epoch 468/500\n",
      "5/5 [==============================] - 0s 750us/step - loss: 0.2586\n",
      "Epoch 469/500\n",
      "5/5 [==============================] - 0s 500us/step - loss: 0.2577\n",
      "Epoch 470/500\n",
      "5/5 [==============================] - 0s 501us/step - loss: 0.2569\n",
      "Epoch 471/500\n",
      "5/5 [==============================] - 0s 250us/step - loss: 0.2559\n",
      "Epoch 472/500\n",
      "5/5 [==============================] - 0s 250us/step - loss: 0.2551\n",
      "Epoch 473/500\n",
      "5/5 [==============================] - 0s 751us/step - loss: 0.2542\n",
      "Epoch 474/500\n",
      "5/5 [==============================] - 0s 500us/step - loss: 0.2534\n",
      "Epoch 475/500\n",
      "5/5 [==============================] - 0s 500us/step - loss: 0.2526\n",
      "Epoch 476/500\n",
      "5/5 [==============================] - 0s 500us/step - loss: 0.2518\n",
      "Epoch 477/500\n",
      "5/5 [==============================] - 0s 500us/step - loss: 0.2510\n",
      "Epoch 478/500\n",
      "5/5 [==============================] - 0s 500us/step - loss: 0.2502\n",
      "Epoch 479/500\n",
      "5/5 [==============================] - 0s 500us/step - loss: 0.2495\n",
      "Epoch 480/500\n",
      "5/5 [==============================] - 0s 500us/step - loss: 0.2488\n",
      "Epoch 481/500\n",
      "5/5 [==============================] - 0s 501us/step - loss: 0.2482\n",
      "Epoch 482/500\n",
      "5/5 [==============================] - 0s 500us/step - loss: 0.2473\n",
      "Epoch 483/500\n",
      "5/5 [==============================] - 0s 500us/step - loss: 0.2467\n",
      "Epoch 484/500\n",
      "5/5 [==============================] - 0s 500us/step - loss: 0.2465\n",
      "Epoch 485/500\n",
      "5/5 [==============================] - 0s 500us/step - loss: 0.2457\n",
      "Epoch 486/500\n",
      "5/5 [==============================] - 0s 501us/step - loss: 0.2451\n",
      "Epoch 487/500\n",
      "5/5 [==============================] - 0s 750us/step - loss: 0.2445\n",
      "Epoch 488/500\n",
      "5/5 [==============================] - 0s 500us/step - loss: 0.2439\n",
      "Epoch 489/500\n",
      "5/5 [==============================] - 0s 501us/step - loss: 0.2432\n",
      "Epoch 490/500\n",
      "5/5 [==============================] - 0s 500us/step - loss: 0.2423\n",
      "Epoch 491/500\n",
      "5/5 [==============================] - 0s 500us/step - loss: 0.2414\n",
      "Epoch 492/500\n",
      "5/5 [==============================] - 0s 500us/step - loss: 0.2402\n",
      "Epoch 493/500\n",
      "5/5 [==============================] - 0s 250us/step - loss: 0.2393\n",
      "Epoch 494/500\n",
      "5/5 [==============================] - 0s 500us/step - loss: 0.2386\n",
      "Epoch 495/500\n",
      "5/5 [==============================] - 0s 500us/step - loss: 0.2378\n",
      "Epoch 496/500\n",
      "5/5 [==============================] - 0s 500us/step - loss: 0.2372\n",
      "Epoch 497/500\n",
      "5/5 [==============================] - 0s 250us/step - loss: 0.2368\n",
      "Epoch 498/500\n",
      "5/5 [==============================] - 0s 500us/step - loss: 0.2366\n",
      "Epoch 499/500\n",
      "5/5 [==============================] - 0s 500us/step - loss: 0.2362\n",
      "Epoch 500/500\n",
      "5/5 [==============================] - 0s 500us/step - loss: 0.2357\n"
     ]
    },
    {
     "data": {
      "text/plain": [
       "<keras.callbacks.History at 0x23b6fee2ac0>"
      ]
     },
     "execution_count": 39,
     "metadata": {},
     "output_type": "execute_result"
    }
   ],
   "source": [
    "regressor2.fit(xtreino,ytreino,epochs =500)"
   ]
  },
  {
   "cell_type": "code",
   "execution_count": 40,
   "metadata": {
    "colab": {},
    "colab_type": "code",
    "id": "CAUKfJYujjGx"
   },
   "outputs": [],
   "source": [
    "y_predict= regressor2.predict(xtreino) #Prevendo os dados de treino (o ajuste)"
   ]
  },
  {
   "cell_type": "code",
   "execution_count": 41,
   "metadata": {
    "colab": {},
    "colab_type": "code",
    "id": "3hHowCayIsjn"
   },
   "outputs": [],
   "source": [
    "y_predict_teste= regressor2.predict(xteste) #Prevendo os dados de teste(o futuro)"
   ]
  },
  {
   "cell_type": "code",
   "execution_count": 42,
   "metadata": {
    "colab": {
     "base_uri": "https://localhost:8080/",
     "height": 404
    },
    "colab_type": "code",
    "id": "2b5XGpV7f8c0",
    "outputId": "0e75d065-5b30-49db-83a8-6c29493d6e0a"
   },
   "outputs": [
    {
     "data": {
      "image/png": "[encoded data removed]",
      "text/plain": [
       "<Figure size 576x360 with 1 Axes>"
      ]
     },
     "metadata": {
      "needs_background": "light"
     },
     "output_type": "display_data"
    }
   ],
   "source": [
    "sns.lineplot(x=xtreino,y=ytreino,label='treino')\n",
    "sns.lineplot(x=xteste,y=yteste,label='teste')\n",
    "sns.lineplot(x=xtreino,y=y_predict[:,0],label='ajuste_treino')\n",
    "sns.lineplot(x=xteste,y=y_predict_teste[:,0],label='previsão');"
   ]
  },
  {
   "cell_type": "markdown",
   "metadata": {
    "colab_type": "text",
    "id": "BePFa969Z7-A"
   },
   "source": [
    "## Alterando a forma como passamos os dados\n",
    "\n",
    "Agora x e y vão valores diferentes. X vai conter o número de passageiros em um tempo anterior e y vai conter o número de passageiros em t+1, por exemplo. "
   ]
  },
  {
   "cell_type": "code",
   "execution_count": 43,
   "metadata": {
    "colab": {},
    "colab_type": "code",
    "id": "5lB0YhQOllRj"
   },
   "outputs": [],
   "source": [
    "vetor = pd.DataFrame(ytreino)[0]"
   ]
  },
  {
   "cell_type": "code",
   "execution_count": 44,
   "metadata": {
    "colab": {},
    "colab_type": "code",
    "id": "h-8ORPL81e6Y"
   },
   "outputs": [],
   "source": [
    "import numpy as np"
   ]
  },
  {
   "cell_type": "code",
   "execution_count": 116,
   "metadata": {
    "colab": {},
    "colab_type": "code",
    "id": "iYg7EIvXZ7Dr"
   },
   "outputs": [],
   "source": [
    "def separa_dados(vetor,n_passos):\n",
    "    \n",
    "    \"\"\"Entrada: vetor: número de passageiros\n",
    "               n_passos: número de passos no regressor\n",
    "     Saída:\n",
    "              X_novo: Array 2D \n",
    "              y_novo: Array 1D - Nosso alvo\n",
    "    \"\"\"\n",
    "    \n",
    "    X_novo, y_novo = [], []\n",
    "    for i in range(n_passos,vetor.shape[0]):\n",
    "        X_novo.append(list(vetor.loc[i-n_passos:i-1]))\n",
    "        y_novo.append(vetor.loc[i])\n",
    "    X_novo, y_novo = np.array(X_novo), np.array(y_novo) \n",
    "    return X_novo, y_novo"
   ]
  },
  {
   "cell_type": "code",
   "execution_count": 46,
   "metadata": {
    "colab": {},
    "colab_type": "code",
    "id": "ZBDThuBZjzPR"
   },
   "outputs": [],
   "source": [
    "xtreino_novo, ytreino_novo = separa_dados(vetor,1)"
   ]
  },
  {
   "cell_type": "code",
   "execution_count": 47,
   "metadata": {
    "colab": {
     "base_uri": "https://localhost:8080/",
     "height": 102
    },
    "colab_type": "code",
    "id": "Xv-Sdrq67wzU",
    "outputId": "10f122a1-3143-4206-9add-c9dc63f910a3"
   },
   "outputs": [
    {
     "data": {
      "text/plain": [
       "array([[-1.40777884],\n",
       "       [-1.35759023],\n",
       "       [-1.24048348],\n",
       "       [-1.26557778],\n",
       "       [-1.33249593]])"
      ]
     },
     "execution_count": 47,
     "metadata": {},
     "output_type": "execute_result"
    }
   ],
   "source": [
    "xtreino_novo[0:5] #X"
   ]
  },
  {
   "cell_type": "code",
   "execution_count": 48,
   "metadata": {
    "colab": {
     "base_uri": "https://localhost:8080/",
     "height": 34
    },
    "colab_type": "code",
    "id": "VhQODPn18e3q",
    "outputId": "e31b556c-aba0-412d-9b30-2b37963e3908"
   },
   "outputs": [
    {
     "data": {
      "text/plain": [
       "array([-1.35759023, -1.24048348, -1.26557778, -1.33249593, -1.21538918])"
      ]
     },
     "execution_count": 48,
     "metadata": {},
     "output_type": "execute_result"
    }
   ],
   "source": [
    "ytreino_novo[0:5] #y"
   ]
  },
  {
   "cell_type": "markdown",
   "metadata": {
    "colab_type": "text",
    "id": "oGvXVDsLAV8h"
   },
   "source": [
    "## Agora vamos separar o teste"
   ]
  },
  {
   "cell_type": "code",
   "execution_count": 49,
   "metadata": {
    "colab": {},
    "colab_type": "code",
    "id": "ImOSkCxQ83-s"
   },
   "outputs": [],
   "source": [
    "vetor2 = pd.DataFrame(yteste)[0]"
   ]
  },
  {
   "cell_type": "code",
   "execution_count": 50,
   "metadata": {
    "colab": {},
    "colab_type": "code",
    "id": "6cWeuNfyBysl"
   },
   "outputs": [],
   "source": [
    "xteste_novo, yteste_novo = separa_dados(vetor2,1)"
   ]
  },
  {
   "cell_type": "markdown",
   "metadata": {
    "colab_type": "text",
    "id": "6VO3qXXZKqbz"
   },
   "source": [
    "## Voltando para as redes neurais"
   ]
  },
  {
   "cell_type": "code",
   "execution_count": 51,
   "metadata": {
    "colab": {},
    "colab_type": "code",
    "id": "JAac1H8tKBjN"
   },
   "outputs": [],
   "source": [
    "regressor3 = Sequential()"
   ]
  },
  {
   "cell_type": "code",
   "execution_count": 52,
   "metadata": {
    "colab": {
     "base_uri": "https://localhost:8080/",
     "height": 255
    },
    "colab_type": "code",
    "id": "P9wmv_9UM3Td",
    "outputId": "dc8ce290-0bf4-4d9f-c0ea-5d65b3e71151"
   },
   "outputs": [
    {
     "name": "stdout",
     "output_type": "stream",
     "text": [
      "Model: \"sequential_2\"\n",
      "_________________________________________________________________\n",
      "Layer (type)                 Output Shape              Param #   \n",
      "=================================================================\n",
      "dense_4 (Dense)              (None, 8)                 8         \n",
      "_________________________________________________________________\n",
      "dense_5 (Dense)              (None, 64)                512       \n",
      "_________________________________________________________________\n",
      "dense_6 (Dense)              (None, 1)                 64        \n",
      "=================================================================\n",
      "Total params: 584\n",
      "Trainable params: 584\n",
      "Non-trainable params: 0\n",
      "_________________________________________________________________\n"
     ]
    }
   ],
   "source": [
    "regressor3.add(Dense(8, input_dim=1, kernel_initializer='ones', activation='linear',use_bias=False))\n",
    "regressor3.add(Dense(64, kernel_initializer='random_uniform', activation='sigmoid',use_bias=False))\n",
    "regressor3.add(Dense(1, kernel_initializer='random_uniform', activation='linear',use_bias=False))\n",
    "regressor3.compile(loss='mean_squared_error',optimizer='adam')\n",
    "regressor3.summary()"
   ]
  },
  {
   "cell_type": "code",
   "execution_count": 53,
   "metadata": {
    "colab": {
     "base_uri": "https://localhost:8080/",
     "height": 1000
    },
    "colab_type": "code",
    "id": "UNbo6HL2OAdY",
    "outputId": "447989b3-8372-4ccd-d9d2-a4baeecda083"
   },
   "outputs": [
    {
     "name": "stdout",
     "output_type": "stream",
     "text": [
      "Epoch 1/100\n",
      "4/4 [==============================] - 0s 667us/step - loss: 0.7580\n",
      "Epoch 2/100\n",
      "4/4 [==============================] - 0s 667us/step - loss: 0.7382\n",
      "Epoch 3/100\n",
      "4/4 [==============================] - 0s 667us/step - loss: 0.7166\n",
      "Epoch 4/100\n",
      "4/4 [==============================] - 0s 667us/step - loss: 0.6961\n",
      "Epoch 5/100\n",
      "4/4 [==============================] - 0s 667us/step - loss: 0.6739\n",
      "Epoch 6/100\n",
      "4/4 [==============================] - 0s 667us/step - loss: 0.6518\n",
      "Epoch 7/100\n",
      "4/4 [==============================] - 0s 667us/step - loss: 0.6263\n",
      "Epoch 8/100\n",
      "4/4 [==============================] - 0s 667us/step - loss: 0.5979\n",
      "Epoch 9/100\n",
      "4/4 [==============================] - 0s 333us/step - loss: 0.5680\n",
      "Epoch 10/100\n",
      "4/4 [==============================] - 0s 667us/step - loss: 0.5356\n",
      "Epoch 11/100\n",
      "4/4 [==============================] - 0s 333us/step - loss: 0.4986\n",
      "Epoch 12/100\n",
      "4/4 [==============================] - 0s 333us/step - loss: 0.4591\n",
      "Epoch 13/100\n",
      "4/4 [==============================] - 0s 667us/step - loss: 0.4203\n",
      "Epoch 14/100\n",
      "4/4 [==============================] - 0s 667us/step - loss: 0.3789\n",
      "Epoch 15/100\n",
      "4/4 [==============================] - 0s 667us/step - loss: 0.3390\n",
      "Epoch 16/100\n",
      "4/4 [==============================] - 0s 333us/step - loss: 0.2975\n",
      "Epoch 17/100\n",
      "4/4 [==============================] - 0s 334us/step - loss: 0.2569\n",
      "Epoch 18/100\n",
      "4/4 [==============================] - 0s 667us/step - loss: 0.2209\n",
      "Epoch 19/100\n",
      "4/4 [==============================] - 0s 667us/step - loss: 0.1901\n",
      "Epoch 20/100\n",
      "4/4 [==============================] - 0s 667us/step - loss: 0.1589\n",
      "Epoch 21/100\n",
      "4/4 [==============================] - 0s 667us/step - loss: 0.1342\n",
      "Epoch 22/100\n",
      "4/4 [==============================] - 0s 334us/step - loss: 0.1126\n",
      "Epoch 23/100\n",
      "4/4 [==============================] - 0s 333us/step - loss: 0.0977\n",
      "Epoch 24/100\n",
      "4/4 [==============================] - 0s 333us/step - loss: 0.0844\n",
      "Epoch 25/100\n",
      "4/4 [==============================] - 0s 667us/step - loss: 0.0753\n",
      "Epoch 26/100\n",
      "4/4 [==============================] - 0s 334us/step - loss: 0.0707\n",
      "Epoch 27/100\n",
      "4/4 [==============================] - 0s 667us/step - loss: 0.0665\n",
      "Epoch 28/100\n",
      "4/4 [==============================] - 0s 667us/step - loss: 0.0647\n",
      "Epoch 29/100\n",
      "4/4 [==============================] - 0s 667us/step - loss: 0.0630\n",
      "Epoch 30/100\n",
      "4/4 [==============================] - 0s 333us/step - loss: 0.0626\n",
      "Epoch 31/100\n",
      "4/4 [==============================] - 0s 667us/step - loss: 0.0626\n",
      "Epoch 32/100\n",
      "4/4 [==============================] - 0s 667us/step - loss: 0.0627\n",
      "Epoch 33/100\n",
      "4/4 [==============================] - 0s 334us/step - loss: 0.0629\n",
      "Epoch 34/100\n",
      "4/4 [==============================] - 0s 333us/step - loss: 0.0628\n",
      "Epoch 35/100\n",
      "4/4 [==============================] - 0s 333us/step - loss: 0.0628\n",
      "Epoch 36/100\n",
      "4/4 [==============================] - 0s 667us/step - loss: 0.0628\n",
      "Epoch 37/100\n",
      "4/4 [==============================] - 0s 667us/step - loss: 0.0627\n",
      "Epoch 38/100\n",
      "4/4 [==============================] - 0s 667us/step - loss: 0.0628\n",
      "Epoch 39/100\n",
      "4/4 [==============================] - 0s 667us/step - loss: 0.0627\n",
      "Epoch 40/100\n",
      "4/4 [==============================] - 0s 333us/step - loss: 0.0627\n",
      "Epoch 41/100\n",
      "4/4 [==============================] - 0s 334us/step - loss: 0.0627\n",
      "Epoch 42/100\n",
      "4/4 [==============================] - 0s 667us/step - loss: 0.0627\n",
      "Epoch 43/100\n",
      "4/4 [==============================] - 0s 667us/step - loss: 0.0626\n",
      "Epoch 44/100\n",
      "4/4 [==============================] - 0s 333us/step - loss: 0.0627\n",
      "Epoch 45/100\n",
      "4/4 [==============================] - 0s 667us/step - loss: 0.0626\n",
      "Epoch 46/100\n",
      "4/4 [==============================] - 0s 667us/step - loss: 0.0627\n",
      "Epoch 47/100\n",
      "4/4 [==============================] - 0s 667us/step - loss: 0.0627\n",
      "Epoch 48/100\n",
      "4/4 [==============================] - 0s 667us/step - loss: 0.0627\n",
      "Epoch 49/100\n",
      "4/4 [==============================] - 0s 667us/step - loss: 0.0627\n",
      "Epoch 50/100\n",
      "4/4 [==============================] - 0s 333us/step - loss: 0.0626\n",
      "Epoch 51/100\n",
      "4/4 [==============================] - 0s 667us/step - loss: 0.0626\n",
      "Epoch 52/100\n",
      "4/4 [==============================] - 0s 667us/step - loss: 0.0626\n",
      "Epoch 53/100\n",
      "4/4 [==============================] - 0s 667us/step - loss: 0.0627\n",
      "Epoch 54/100\n",
      "4/4 [==============================] - 0s 333us/step - loss: 0.0627\n",
      "Epoch 55/100\n",
      "4/4 [==============================] - 0s 667us/step - loss: 0.0626\n",
      "Epoch 56/100\n",
      "4/4 [==============================] - 0s 666us/step - loss: 0.0627\n",
      "Epoch 57/100\n",
      "4/4 [==============================] - 0s 667us/step - loss: 0.0627\n",
      "Epoch 58/100\n",
      "4/4 [==============================] - 0s 667us/step - loss: 0.0626\n",
      "Epoch 59/100\n",
      "4/4 [==============================] - 0s 333us/step - loss: 0.0626\n",
      "Epoch 60/100\n",
      "4/4 [==============================] - 0s 667us/step - loss: 0.0626\n",
      "Epoch 61/100\n",
      "4/4 [==============================] - 0s 667us/step - loss: 0.0630\n",
      "Epoch 62/100\n",
      "4/4 [==============================] - 0s 333us/step - loss: 0.0627\n",
      "Epoch 63/100\n",
      "4/4 [==============================] - 0s 667us/step - loss: 0.0627\n",
      "Epoch 64/100\n",
      "4/4 [==============================] - 0s 667us/step - loss: 0.0627\n",
      "Epoch 65/100\n",
      "4/4 [==============================] - 0s 333us/step - loss: 0.0627\n",
      "Epoch 66/100\n",
      "4/4 [==============================] - 0s 667us/step - loss: 0.0626\n",
      "Epoch 67/100\n",
      "4/4 [==============================] - 0s 667us/step - loss: 0.0627\n",
      "Epoch 68/100\n",
      "4/4 [==============================] - 0s 333us/step - loss: 0.0626\n",
      "Epoch 69/100\n",
      "4/4 [==============================] - 0s 334us/step - loss: 0.0626\n",
      "Epoch 70/100\n",
      "4/4 [==============================] - 0s 667us/step - loss: 0.0627\n",
      "Epoch 71/100\n",
      "4/4 [==============================] - 0s 333us/step - loss: 0.0630\n",
      "Epoch 72/100\n",
      "4/4 [==============================] - 0s 333us/step - loss: 0.0627\n",
      "Epoch 73/100\n",
      "4/4 [==============================] - 0s 334us/step - loss: 0.0627\n",
      "Epoch 74/100\n",
      "4/4 [==============================] - 0s 667us/step - loss: 0.0626\n",
      "Epoch 75/100\n",
      "4/4 [==============================] - 0s 334us/step - loss: 0.0628\n",
      "Epoch 76/100\n",
      "4/4 [==============================] - 0s 667us/step - loss: 0.0628\n",
      "Epoch 77/100\n",
      "4/4 [==============================] - 0s 667us/step - loss: 0.0626\n",
      "Epoch 78/100\n",
      "4/4 [==============================] - 0s 334us/step - loss: 0.0626\n",
      "Epoch 79/100\n",
      "4/4 [==============================] - 0s 333us/step - loss: 0.0629\n",
      "Epoch 80/100\n",
      "4/4 [==============================] - 0s 667us/step - loss: 0.0630\n",
      "Epoch 81/100\n",
      "4/4 [==============================] - 0s 333us/step - loss: 0.0630\n",
      "Epoch 82/100\n",
      "4/4 [==============================] - 0s 667us/step - loss: 0.0627\n",
      "Epoch 83/100\n",
      "4/4 [==============================] - 0s 667us/step - loss: 0.0628\n",
      "Epoch 84/100\n",
      "4/4 [==============================] - 0s 667us/step - loss: 0.0628\n",
      "Epoch 85/100\n",
      "4/4 [==============================] - 0s 334us/step - loss: 0.0626\n",
      "Epoch 86/100\n",
      "4/4 [==============================] - 0s 333us/step - loss: 0.0626\n",
      "Epoch 87/100\n",
      "4/4 [==============================] - 0s 333us/step - loss: 0.0627\n",
      "Epoch 88/100\n",
      "4/4 [==============================] - 0s 667us/step - loss: 0.0626\n",
      "Epoch 89/100\n",
      "4/4 [==============================] - 0s 667us/step - loss: 0.0626\n",
      "Epoch 90/100\n",
      "4/4 [==============================] - 0s 333us/step - loss: 0.0626\n",
      "Epoch 91/100\n",
      "4/4 [==============================] - 0s 667us/step - loss: 0.0626\n",
      "Epoch 92/100\n",
      "4/4 [==============================] - 0s 667us/step - loss: 0.0627\n",
      "Epoch 93/100\n",
      "4/4 [==============================] - 0s 667us/step - loss: 0.0626\n",
      "Epoch 94/100\n",
      "4/4 [==============================] - 0s 667us/step - loss: 0.0626\n",
      "Epoch 95/100\n",
      "4/4 [==============================] - 0s 333us/step - loss: 0.0628\n",
      "Epoch 96/100\n",
      "4/4 [==============================] - 0s 333us/step - loss: 0.0627\n",
      "Epoch 97/100\n",
      "4/4 [==============================] - 0s 667us/step - loss: 0.0630\n",
      "Epoch 98/100\n",
      "4/4 [==============================] - 0s 667us/step - loss: 0.0626\n",
      "Epoch 99/100\n",
      "4/4 [==============================] - 0s 667us/step - loss: 0.0639\n",
      "Epoch 100/100\n",
      "4/4 [==============================] - 0s 334us/step - loss: 0.0628\n"
     ]
    },
    {
     "data": {
      "text/plain": [
       "<keras.callbacks.History at 0x23b71272b20>"
      ]
     },
     "execution_count": 53,
     "metadata": {},
     "output_type": "execute_result"
    }
   ],
   "source": [
    "regressor3.fit(xtreino_novo,ytreino_novo,epochs =100)"
   ]
  },
  {
   "cell_type": "code",
   "execution_count": 54,
   "metadata": {
    "colab": {},
    "colab_type": "code",
    "id": "iHPf2EeaQYgy"
   },
   "outputs": [],
   "source": [
    "y_predict_novo = regressor3.predict(xtreino_novo)"
   ]
  },
  {
   "cell_type": "code",
   "execution_count": 55,
   "metadata": {
    "colab": {
     "base_uri": "https://localhost:8080/",
     "height": 425
    },
    "colab_type": "code",
    "id": "8ULGBpxtUvh7",
    "outputId": "7edda670-379a-4c03-c39c-eee60190aacc"
   },
   "outputs": [
    {
     "data": {
      "image/png": "[encoded data removed]",
      "text/plain": [
       "<Figure size 576x360 with 1 Axes>"
      ]
     },
     "metadata": {
      "needs_background": "light"
     },
     "output_type": "display_data"
    }
   ],
   "source": [
    "sns.lineplot(x='tempo',y=ytreino_novo,data=passageiros[1:129],label='treino')\n",
    "sns.lineplot(x='tempo',y=pd.DataFrame(y_predict_novo)[0],data=passageiros[1:129],label='ajuste_treino');"
   ]
  },
  {
   "cell_type": "code",
   "execution_count": 56,
   "metadata": {
    "colab": {},
    "colab_type": "code",
    "id": "j_cSUf31U3Ag"
   },
   "outputs": [],
   "source": [
    "y_predict_teste_novo = regressor3.predict(xteste_novo)"
   ]
  },
  {
   "cell_type": "code",
   "execution_count": 57,
   "metadata": {
    "colab": {},
    "colab_type": "code",
    "id": "3qnFMQz5RHuE"
   },
   "outputs": [],
   "source": [
    "resultado = pd.DataFrame(y_predict_teste_novo)[0]"
   ]
  },
  {
   "cell_type": "code",
   "execution_count": 58,
   "metadata": {
    "colab": {
     "base_uri": "https://localhost:8080/",
     "height": 428
    },
    "colab_type": "code",
    "id": "PB7gGmIwKh-z",
    "outputId": "934ad81a-1c17-48d3-ef09-691104b69277"
   },
   "outputs": [
    {
     "data": {
      "image/png": "[encoded data removed]",
      "text/plain": [
       "<Figure size 576x360 with 1 Axes>"
      ]
     },
     "metadata": {
      "needs_background": "light"
     },
     "output_type": "display_data"
    }
   ],
   "source": [
    "sns.lineplot(x='tempo',y=ytreino_novo,data=passageiros[1:129],label='treino')\n",
    "sns.lineplot(x='tempo',y=pd.DataFrame(y_predict_novo)[0],data=passageiros[1:129],label='ajuste_treino')\n",
    "\n",
    "sns.lineplot(x='tempo',y=yteste_novo,data=passageiros[130:144],label='teste')\n",
    "sns.lineplot(x='tempo',y=resultado.values,data=passageiros[130:144],label='previsão');"
   ]
  },
  {
   "cell_type": "markdown",
   "metadata": {
    "colab_type": "text",
    "id": "PAJ2mH-jnym6"
   },
   "source": [
    "## Janelas"
   ]
  },
  {
   "cell_type": "code",
   "execution_count": 59,
   "metadata": {
    "colab": {},
    "colab_type": "code",
    "id": "4faZAXgwoHZ9"
   },
   "outputs": [],
   "source": [
    "xtreino_novo, ytreino_novo = separa_dados(vetor,4)"
   ]
  },
  {
   "cell_type": "code",
   "execution_count": 60,
   "metadata": {
    "colab": {
     "base_uri": "https://localhost:8080/",
     "height": 102
    },
    "colab_type": "code",
    "id": "x7GOldfmoHaO",
    "outputId": "27327f4e-bf04-495c-c5d6-b1d70b452a25"
   },
   "outputs": [
    {
     "data": {
      "text/plain": [
       "array([[-1.40777884, -1.35759023, -1.24048348, -1.26557778],\n",
       "       [-1.35759023, -1.24048348, -1.26557778, -1.33249593],\n",
       "       [-1.24048348, -1.26557778, -1.33249593, -1.21538918],\n",
       "       [-1.26557778, -1.33249593, -1.21538918, -1.10664719],\n",
       "       [-1.33249593, -1.21538918, -1.10664719, -1.10664719]])"
      ]
     },
     "execution_count": 60,
     "metadata": {},
     "output_type": "execute_result"
    }
   ],
   "source": [
    "xtreino_novo[0:5] #X"
   ]
  },
  {
   "cell_type": "code",
   "execution_count": 61,
   "metadata": {
    "colab": {
     "base_uri": "https://localhost:8080/",
     "height": 34
    },
    "colab_type": "code",
    "id": "5GAqSrqsoHaT",
    "outputId": "d255b2a4-852d-4adf-bf0d-71da2ea3fa5d"
   },
   "outputs": [
    {
     "data": {
      "text/plain": [
       "array([-1.33249593, -1.21538918, -1.10664719, -1.10664719, -1.20702441])"
      ]
     },
     "execution_count": 61,
     "metadata": {},
     "output_type": "execute_result"
    }
   ],
   "source": [
    "ytreino_novo[0:5] #y"
   ]
  },
  {
   "cell_type": "code",
   "execution_count": 62,
   "metadata": {
    "colab": {},
    "colab_type": "code",
    "id": "2-Ct1ZlPn-qn"
   },
   "outputs": [],
   "source": [
    "xteste_novo, yteste_novo = separa_dados(vetor2,4)"
   ]
  },
  {
   "cell_type": "code",
   "execution_count": 63,
   "metadata": {
    "colab": {},
    "colab_type": "code",
    "id": "p1xhKZhPt0Uf"
   },
   "outputs": [],
   "source": [
    "regressor4 = Sequential()"
   ]
  },
  {
   "cell_type": "code",
   "execution_count": 64,
   "metadata": {
    "colab": {
     "base_uri": "https://localhost:8080/",
     "height": 255
    },
    "colab_type": "code",
    "id": "Uua1dEGqt0Uw",
    "outputId": "51dfbecb-3504-4326-c59e-a1ae1507ab5d"
   },
   "outputs": [
    {
     "name": "stdout",
     "output_type": "stream",
     "text": [
      "Model: \"sequential_3\"\n",
      "_________________________________________________________________\n",
      "Layer (type)                 Output Shape              Param #   \n",
      "=================================================================\n",
      "dense_7 (Dense)              (None, 8)                 32        \n",
      "_________________________________________________________________\n",
      "dense_8 (Dense)              (None, 64)                512       \n",
      "_________________________________________________________________\n",
      "dense_9 (Dense)              (None, 1)                 64        \n",
      "=================================================================\n",
      "Total params: 608\n",
      "Trainable params: 608\n",
      "Non-trainable params: 0\n",
      "_________________________________________________________________\n"
     ]
    }
   ],
   "source": [
    "regressor4.add(Dense(8, input_dim=4, kernel_initializer='random_uniform', activation='linear',use_bias=False)) #relu\n",
    "regressor4.add(Dense(64, kernel_initializer='random_uniform', activation='sigmoid',use_bias=False)) #relu\n",
    "regressor4.add(Dense(1, kernel_initializer='random_uniform', activation='linear',use_bias=False))\n",
    "regressor4.compile(loss='mean_squared_error',optimizer='adam')\n",
    "regressor4.summary()"
   ]
  },
  {
   "cell_type": "code",
   "execution_count": 65,
   "metadata": {
    "colab": {
     "base_uri": "https://localhost:8080/",
     "height": 1000
    },
    "colab_type": "code",
    "id": "JpDXr9jMt0U3",
    "outputId": "4054ce32-fed6-450c-b1ef-419a3edb9869"
   },
   "outputs": [
    {
     "name": "stdout",
     "output_type": "stream",
     "text": [
      "Epoch 1/300\n",
      "4/4 [==============================] - 0s 333us/step - loss: 0.7791\n",
      "Epoch 2/300\n",
      "4/4 [==============================] - 0s 667us/step - loss: 0.7665\n",
      "Epoch 3/300\n",
      "4/4 [==============================] - 0s 667us/step - loss: 0.7577\n",
      "Epoch 4/300\n",
      "4/4 [==============================] - 0s 666us/step - loss: 0.7548\n",
      "Epoch 5/300\n",
      "4/4 [==============================] - 0s 667us/step - loss: 0.7537\n",
      "Epoch 6/300\n",
      "4/4 [==============================] - 0s 667us/step - loss: 0.7484\n",
      "Epoch 7/300\n",
      "4/4 [==============================] - 0s 667us/step - loss: 0.7435\n",
      "Epoch 8/300\n",
      "4/4 [==============================] - 0s 667us/step - loss: 0.7376\n",
      "Epoch 9/300\n",
      "4/4 [==============================] - 0s 334us/step - loss: 0.7305\n",
      "Epoch 10/300\n",
      "4/4 [==============================] - 0s 333us/step - loss: 0.7224\n",
      "Epoch 11/300\n",
      "4/4 [==============================] - 0s 667us/step - loss: 0.7130\n",
      "Epoch 12/300\n",
      "4/4 [==============================] - 0s 667us/step - loss: 0.7031\n",
      "Epoch 13/300\n",
      "4/4 [==============================] - 0s 667us/step - loss: 0.6898\n",
      "Epoch 14/300\n",
      "4/4 [==============================] - 0s 666us/step - loss: 0.6758\n",
      "Epoch 15/300\n",
      "4/4 [==============================] - 0s 667us/step - loss: 0.6587\n",
      "Epoch 16/300\n",
      "4/4 [==============================] - 0s 667us/step - loss: 0.6397\n",
      "Epoch 17/300\n",
      "4/4 [==============================] - 0s 667us/step - loss: 0.6190\n",
      "Epoch 18/300\n",
      "4/4 [==============================] - 0s 333us/step - loss: 0.5950\n",
      "Epoch 19/300\n",
      "4/4 [==============================] - 0s 667us/step - loss: 0.5671\n",
      "Epoch 20/300\n",
      "4/4 [==============================] - 0s 667us/step - loss: 0.5369\n",
      "Epoch 21/300\n",
      "4/4 [==============================] - 0s 667us/step - loss: 0.5042\n",
      "Epoch 22/300\n",
      "4/4 [==============================] - 0s 334us/step - loss: 0.4694\n",
      "Epoch 23/300\n",
      "4/4 [==============================] - 0s 329us/step - loss: 0.4317\n",
      "Epoch 24/300\n",
      "4/4 [==============================] - 0s 1ms/step - loss: 0.3922\n",
      "Epoch 25/300\n",
      "4/4 [==============================] - 0s 334us/step - loss: 0.3533\n",
      "Epoch 26/300\n",
      "4/4 [==============================] - 0s 333us/step - loss: 0.3147\n",
      "Epoch 27/300\n",
      "4/4 [==============================] - 0s 667us/step - loss: 0.2789\n",
      "Epoch 28/300\n",
      "4/4 [==============================] - 0s 667us/step - loss: 0.2436\n",
      "Epoch 29/300\n",
      "4/4 [==============================] - 0s 667us/step - loss: 0.2162\n",
      "Epoch 30/300\n",
      "4/4 [==============================] - 0s 667us/step - loss: 0.1912\n",
      "Epoch 31/300\n",
      "4/4 [==============================] - 0s 333us/step - loss: 0.1727\n",
      "Epoch 32/300\n",
      "4/4 [==============================] - 0s 667us/step - loss: 0.1597\n",
      "Epoch 33/300\n",
      "4/4 [==============================] - 0s 667us/step - loss: 0.1493\n",
      "Epoch 34/300\n",
      "4/4 [==============================] - 0s 667us/step - loss: 0.1454\n",
      "Epoch 35/300\n",
      "4/4 [==============================] - 0s 667us/step - loss: 0.1406\n",
      "Epoch 36/300\n",
      "4/4 [==============================] - 0s 667us/step - loss: 0.1394\n",
      "Epoch 37/300\n",
      "4/4 [==============================] - 0s 667us/step - loss: 0.1388\n",
      "Epoch 38/300\n",
      "4/4 [==============================] - 0s 667us/step - loss: 0.1381\n",
      "Epoch 39/300\n",
      "4/4 [==============================] - 0s 667us/step - loss: 0.1377\n",
      "Epoch 40/300\n",
      "4/4 [==============================] - 0s 667us/step - loss: 0.1372\n",
      "Epoch 41/300\n",
      "4/4 [==============================] - 0s 667us/step - loss: 0.1368\n",
      "Epoch 42/300\n",
      "4/4 [==============================] - 0s 333us/step - loss: 0.1364\n",
      "Epoch 43/300\n",
      "4/4 [==============================] - 0s 667us/step - loss: 0.1356\n",
      "Epoch 44/300\n",
      "4/4 [==============================] - 0s 667us/step - loss: 0.1347\n",
      "Epoch 45/300\n",
      "4/4 [==============================] - 0s 334us/step - loss: 0.1341\n",
      "Epoch 46/300\n",
      "4/4 [==============================] - 0s 667us/step - loss: 0.1343\n",
      "Epoch 47/300\n",
      "4/4 [==============================] - 0s 333us/step - loss: 0.1329\n",
      "Epoch 48/300\n",
      "4/4 [==============================] - 0s 334us/step - loss: 0.1323\n",
      "Epoch 49/300\n",
      "4/4 [==============================] - 0s 334us/step - loss: 0.1316\n",
      "Epoch 50/300\n",
      "4/4 [==============================] - 0s 667us/step - loss: 0.1318\n",
      "Epoch 51/300\n",
      "4/4 [==============================] - 0s 667us/step - loss: 0.1306\n",
      "Epoch 52/300\n",
      "4/4 [==============================] - 0s 667us/step - loss: 0.1299\n",
      "Epoch 53/300\n",
      "4/4 [==============================] - 0s 667us/step - loss: 0.1293\n",
      "Epoch 54/300\n",
      "4/4 [==============================] - 0s 667us/step - loss: 0.1290\n",
      "Epoch 55/300\n",
      "4/4 [==============================] - 0s 667us/step - loss: 0.1284\n",
      "Epoch 56/300\n",
      "4/4 [==============================] - 0s 667us/step - loss: 0.1277\n",
      "Epoch 57/300\n",
      "4/4 [==============================] - 0s 667us/step - loss: 0.1270\n",
      "Epoch 58/300\n",
      "4/4 [==============================] - 0s 333us/step - loss: 0.1265\n",
      "Epoch 59/300\n",
      "4/4 [==============================] - 0s 667us/step - loss: 0.1258\n",
      "Epoch 60/300\n",
      "4/4 [==============================] - 0s 667us/step - loss: 0.1250\n",
      "Epoch 61/300\n",
      "4/4 [==============================] - 0s 334us/step - loss: 0.1245\n",
      "Epoch 62/300\n",
      "4/4 [==============================] - 0s 667us/step - loss: 0.1238\n",
      "Epoch 63/300\n",
      "4/4 [==============================] - 0s 666us/step - loss: 0.1232\n",
      "Epoch 64/300\n",
      "4/4 [==============================] - 0s 667us/step - loss: 0.1226\n",
      "Epoch 65/300\n",
      "4/4 [==============================] - 0s 667us/step - loss: 0.1220\n",
      "Epoch 66/300\n",
      "4/4 [==============================] - 0s 667us/step - loss: 0.1214\n",
      "Epoch 67/300\n",
      "4/4 [==============================] - 0s 667us/step - loss: 0.1207\n",
      "Epoch 68/300\n",
      "4/4 [==============================] - 0s 667us/step - loss: 0.1202\n",
      "Epoch 69/300\n",
      "4/4 [==============================] - 0s 667us/step - loss: 0.1196\n",
      "Epoch 70/300\n",
      "4/4 [==============================] - 0s 667us/step - loss: 0.1189\n",
      "Epoch 71/300\n",
      "4/4 [==============================] - 0s 667us/step - loss: 0.1183\n",
      "Epoch 72/300\n",
      "4/4 [==============================] - 0s 667us/step - loss: 0.1175\n",
      "Epoch 73/300\n",
      "4/4 [==============================] - 0s 333us/step - loss: 0.1170\n",
      "Epoch 74/300\n",
      "4/4 [==============================] - 0s 333us/step - loss: 0.1164\n",
      "Epoch 75/300\n",
      "4/4 [==============================] - 0s 334us/step - loss: 0.1156\n",
      "Epoch 76/300\n",
      "4/4 [==============================] - 0s 667us/step - loss: 0.1150\n",
      "Epoch 77/300\n",
      "4/4 [==============================] - 0s 667us/step - loss: 0.1143\n",
      "Epoch 78/300\n",
      "4/4 [==============================] - 0s 667us/step - loss: 0.1139\n",
      "Epoch 79/300\n",
      "4/4 [==============================] - 0s 667us/step - loss: 0.1134\n",
      "Epoch 80/300\n",
      "4/4 [==============================] - 0s 667us/step - loss: 0.1126\n",
      "Epoch 81/300\n",
      "4/4 [==============================] - 0s 667us/step - loss: 0.1117\n",
      "Epoch 82/300\n",
      "4/4 [==============================] - 0s 667us/step - loss: 0.1112\n",
      "Epoch 83/300\n",
      "4/4 [==============================] - 0s 667us/step - loss: 0.1105\n",
      "Epoch 84/300\n",
      "4/4 [==============================] - 0s 667us/step - loss: 0.1101\n",
      "Epoch 85/300\n",
      "4/4 [==============================] - 0s 667us/step - loss: 0.1094\n",
      "Epoch 86/300\n",
      "4/4 [==============================] - 0s 667us/step - loss: 0.1087\n",
      "Epoch 87/300\n",
      "4/4 [==============================] - 0s 667us/step - loss: 0.1079\n",
      "Epoch 88/300\n",
      "4/4 [==============================] - 0s 667us/step - loss: 0.1075\n",
      "Epoch 89/300\n",
      "4/4 [==============================] - 0s 667us/step - loss: 0.1067\n",
      "Epoch 90/300\n",
      "4/4 [==============================] - 0s 333us/step - loss: 0.1062\n",
      "Epoch 91/300\n",
      "4/4 [==============================] - 0s 333us/step - loss: 0.1054\n",
      "Epoch 92/300\n",
      "4/4 [==============================] - 0s 667us/step - loss: 0.1056\n",
      "Epoch 93/300\n",
      "4/4 [==============================] - 0s 667us/step - loss: 0.1041\n",
      "Epoch 94/300\n",
      "4/4 [==============================] - 0s 667us/step - loss: 0.1035\n",
      "Epoch 95/300\n",
      "4/4 [==============================] - 0s 334us/step - loss: 0.1029\n",
      "Epoch 96/300\n",
      "4/4 [==============================] - 0s 333us/step - loss: 0.1023\n",
      "Epoch 97/300\n",
      "4/4 [==============================] - 0s 333us/step - loss: 0.1016\n",
      "Epoch 98/300\n",
      "4/4 [==============================] - 0s 667us/step - loss: 0.1010\n",
      "Epoch 99/300\n",
      "4/4 [==============================] - 0s 334us/step - loss: 0.1010\n",
      "Epoch 100/300\n",
      "4/4 [==============================] - 0s 334us/step - loss: 0.0999\n",
      "Epoch 101/300\n",
      "4/4 [==============================] - 0s 667us/step - loss: 0.0995\n",
      "Epoch 102/300\n",
      "4/4 [==============================] - 0s 667us/step - loss: 0.0985\n",
      "Epoch 103/300\n",
      "4/4 [==============================] - 0s 667us/step - loss: 0.0979\n",
      "Epoch 104/300\n",
      "4/4 [==============================] - 0s 667us/step - loss: 0.0972\n",
      "Epoch 105/300\n",
      "4/4 [==============================] - 0s 333us/step - loss: 0.0966\n",
      "Epoch 106/300\n",
      "4/4 [==============================] - 0s 667us/step - loss: 0.0961\n",
      "Epoch 107/300\n",
      "4/4 [==============================] - 0s 667us/step - loss: 0.0955\n",
      "Epoch 108/300\n",
      "4/4 [==============================] - 0s 667us/step - loss: 0.0951\n",
      "Epoch 109/300\n",
      "4/4 [==============================] - 0s 333us/step - loss: 0.0941\n",
      "Epoch 110/300\n",
      "4/4 [==============================] - 0s 667us/step - loss: 0.0937\n",
      "Epoch 111/300\n",
      "4/4 [==============================] - 0s 334us/step - loss: 0.0931\n",
      "Epoch 112/300\n",
      "4/4 [==============================] - 0s 667us/step - loss: 0.0924\n",
      "Epoch 113/300\n",
      "4/4 [==============================] - 0s 667us/step - loss: 0.0918\n",
      "Epoch 114/300\n",
      "4/4 [==============================] - 0s 333us/step - loss: 0.0916\n",
      "Epoch 115/300\n",
      "4/4 [==============================] - 0s 667us/step - loss: 0.0906\n",
      "Epoch 116/300\n",
      "4/4 [==============================] - 0s 667us/step - loss: 0.0902\n",
      "Epoch 117/300\n",
      "4/4 [==============================] - 0s 667us/step - loss: 0.0895\n",
      "Epoch 118/300\n",
      "4/4 [==============================] - 0s 334us/step - loss: 0.0890\n",
      "Epoch 119/300\n",
      "4/4 [==============================] - 0s 333us/step - loss: 0.0885\n",
      "Epoch 120/300\n",
      "4/4 [==============================] - 0s 667us/step - loss: 0.0881\n",
      "Epoch 121/300\n",
      "4/4 [==============================] - 0s 667us/step - loss: 0.0872\n",
      "Epoch 122/300\n",
      "4/4 [==============================] - 0s 667us/step - loss: 0.0870\n",
      "Epoch 123/300\n",
      "4/4 [==============================] - 0s 667us/step - loss: 0.0864\n",
      "Epoch 124/300\n",
      "4/4 [==============================] - 0s 667us/step - loss: 0.0857\n",
      "Epoch 125/300\n",
      "4/4 [==============================] - 0s 667us/step - loss: 0.0852\n",
      "Epoch 126/300\n",
      "4/4 [==============================] - 0s 667us/step - loss: 0.0846\n",
      "Epoch 127/300\n",
      "4/4 [==============================] - 0s 667us/step - loss: 0.0842\n",
      "Epoch 128/300\n",
      "4/4 [==============================] - 0s 667us/step - loss: 0.0836\n",
      "Epoch 129/300\n",
      "4/4 [==============================] - 0s 667us/step - loss: 0.0833\n",
      "Epoch 130/300\n",
      "4/4 [==============================] - 0s 667us/step - loss: 0.0828\n",
      "Epoch 131/300\n",
      "4/4 [==============================] - 0s 333us/step - loss: 0.0823\n",
      "Epoch 132/300\n",
      "4/4 [==============================] - 0s 667us/step - loss: 0.0817\n",
      "Epoch 133/300\n",
      "4/4 [==============================] - 0s 667us/step - loss: 0.0815\n",
      "Epoch 134/300\n",
      "4/4 [==============================] - 0s 667us/step - loss: 0.0809\n",
      "Epoch 135/300\n",
      "4/4 [==============================] - 0s 333us/step - loss: 0.0806\n",
      "Epoch 136/300\n",
      "4/4 [==============================] - 0s 666us/step - loss: 0.0801\n",
      "Epoch 137/300\n",
      "4/4 [==============================] - 0s 667us/step - loss: 0.0798\n",
      "Epoch 138/300\n",
      "4/4 [==============================] - 0s 667us/step - loss: 0.0793\n",
      "Epoch 139/300\n",
      "4/4 [==============================] - 0s 667us/step - loss: 0.0790\n",
      "Epoch 140/300\n",
      "4/4 [==============================] - 0s 334us/step - loss: 0.0785\n",
      "Epoch 141/300\n",
      "4/4 [==============================] - 0s 667us/step - loss: 0.0780\n",
      "Epoch 142/300\n",
      "4/4 [==============================] - 0s 667us/step - loss: 0.0778\n",
      "Epoch 143/300\n",
      "4/4 [==============================] - 0s 667us/step - loss: 0.0774\n",
      "Epoch 144/300\n",
      "4/4 [==============================] - 0s 667us/step - loss: 0.0771\n",
      "Epoch 145/300\n",
      "4/4 [==============================] - 0s 667us/step - loss: 0.0768\n",
      "Epoch 146/300\n",
      "4/4 [==============================] - 0s 667us/step - loss: 0.0764\n",
      "Epoch 147/300\n",
      "4/4 [==============================] - 0s 667us/step - loss: 0.0761\n",
      "Epoch 148/300\n",
      "4/4 [==============================] - 0s 667us/step - loss: 0.0756\n",
      "Epoch 149/300\n",
      "4/4 [==============================] - 0s 667us/step - loss: 0.0754\n",
      "Epoch 150/300\n",
      "4/4 [==============================] - 0s 667us/step - loss: 0.0756\n",
      "Epoch 151/300\n",
      "4/4 [==============================] - 0s 667us/step - loss: 0.0748\n",
      "Epoch 152/300\n",
      "4/4 [==============================] - 0s 667us/step - loss: 0.0748\n",
      "Epoch 153/300\n",
      "4/4 [==============================] - 0s 667us/step - loss: 0.0742\n",
      "Epoch 154/300\n",
      "4/4 [==============================] - 0s 333us/step - loss: 0.0740\n",
      "Epoch 155/300\n",
      "4/4 [==============================] - 0s 333us/step - loss: 0.0739\n",
      "Epoch 156/300\n",
      "4/4 [==============================] - 0s 667us/step - loss: 0.0735\n",
      "Epoch 157/300\n",
      "4/4 [==============================] - 0s 667us/step - loss: 0.0732\n",
      "Epoch 158/300\n",
      "4/4 [==============================] - 0s 667us/step - loss: 0.0731\n",
      "Epoch 159/300\n",
      "4/4 [==============================] - 0s 667us/step - loss: 0.0728\n",
      "Epoch 160/300\n",
      "4/4 [==============================] - 0s 667us/step - loss: 0.0725\n",
      "Epoch 161/300\n",
      "4/4 [==============================] - 0s 667us/step - loss: 0.0723\n",
      "Epoch 162/300\n",
      "4/4 [==============================] - 0s 667us/step - loss: 0.0722\n",
      "Epoch 163/300\n",
      "4/4 [==============================] - 0s 667us/step - loss: 0.0718\n",
      "Epoch 164/300\n",
      "4/4 [==============================] - 0s 667us/step - loss: 0.0716\n",
      "Epoch 165/300\n",
      "4/4 [==============================] - 0s 334us/step - loss: 0.0713\n",
      "Epoch 166/300\n",
      "4/4 [==============================] - 0s 334us/step - loss: 0.0711\n",
      "Epoch 167/300\n",
      "4/4 [==============================] - 0s 667us/step - loss: 0.0710\n",
      "Epoch 168/300\n",
      "4/4 [==============================] - 0s 333us/step - loss: 0.0710\n",
      "Epoch 169/300\n",
      "4/4 [==============================] - 0s 667us/step - loss: 0.0705\n",
      "Epoch 170/300\n",
      "4/4 [==============================] - 0s 667us/step - loss: 0.0704\n",
      "Epoch 171/300\n",
      "4/4 [==============================] - 0s 667us/step - loss: 0.0704\n",
      "Epoch 172/300\n",
      "4/4 [==============================] - 0s 334us/step - loss: 0.0701\n",
      "Epoch 173/300\n",
      "4/4 [==============================] - 0s 333us/step - loss: 0.0699\n",
      "Epoch 174/300\n",
      "4/4 [==============================] - 0s 334us/step - loss: 0.0700\n",
      "Epoch 175/300\n",
      "4/4 [==============================] - 0s 333us/step - loss: 0.0697\n",
      "Epoch 176/300\n",
      "4/4 [==============================] - 0s 333us/step - loss: 0.0695\n",
      "Epoch 177/300\n",
      "4/4 [==============================] - 0s 667us/step - loss: 0.0693\n",
      "Epoch 178/300\n",
      "4/4 [==============================] - 0s 667us/step - loss: 0.0691\n",
      "Epoch 179/300\n",
      "4/4 [==============================] - 0s 667us/step - loss: 0.0689\n",
      "Epoch 180/300\n",
      "4/4 [==============================] - 0s 667us/step - loss: 0.0691\n",
      "Epoch 181/300\n",
      "4/4 [==============================] - 0s 667us/step - loss: 0.0686\n",
      "Epoch 182/300\n",
      "4/4 [==============================] - 0s 333us/step - loss: 0.0690\n",
      "Epoch 183/300\n",
      "4/4 [==============================] - 0s 333us/step - loss: 0.0685\n",
      "Epoch 184/300\n",
      "4/4 [==============================] - 0s 333us/step - loss: 0.0681\n",
      "Epoch 185/300\n",
      "4/4 [==============================] - 0s 667us/step - loss: 0.0679\n",
      "Epoch 186/300\n",
      "4/4 [==============================] - 0s 667us/step - loss: 0.0679\n",
      "Epoch 187/300\n",
      "4/4 [==============================] - 0s 667us/step - loss: 0.0676\n",
      "Epoch 188/300\n",
      "4/4 [==============================] - 0s 333us/step - loss: 0.0674\n",
      "Epoch 189/300\n",
      "4/4 [==============================] - 0s 667us/step - loss: 0.0674\n",
      "Epoch 190/300\n",
      "4/4 [==============================] - 0s 334us/step - loss: 0.0672\n",
      "Epoch 191/300\n",
      "4/4 [==============================] - 0s 667us/step - loss: 0.0672\n",
      "Epoch 192/300\n",
      "4/4 [==============================] - 0s 667us/step - loss: 0.0669\n",
      "Epoch 193/300\n",
      "4/4 [==============================] - 0s 333us/step - loss: 0.0668\n",
      "Epoch 194/300\n",
      "4/4 [==============================] - 0s 334us/step - loss: 0.0670\n",
      "Epoch 195/300\n",
      "4/4 [==============================] - 0s 667us/step - loss: 0.0665\n",
      "Epoch 196/300\n",
      "4/4 [==============================] - 0s 667us/step - loss: 0.0665\n",
      "Epoch 197/300\n",
      "4/4 [==============================] - 0s 667us/step - loss: 0.0662\n",
      "Epoch 198/300\n",
      "4/4 [==============================] - 0s 667us/step - loss: 0.0661\n",
      "Epoch 199/300\n",
      "4/4 [==============================] - 0s 333us/step - loss: 0.0662\n",
      "Epoch 200/300\n",
      "4/4 [==============================] - 0s 667us/step - loss: 0.0659\n",
      "Epoch 201/300\n",
      "4/4 [==============================] - 0s 667us/step - loss: 0.0657\n",
      "Epoch 202/300\n"
     ]
    },
    {
     "name": "stdout",
     "output_type": "stream",
     "text": [
      "4/4 [==============================] - 0s 666us/step - loss: 0.0656\n",
      "Epoch 203/300\n",
      "4/4 [==============================] - 0s 667us/step - loss: 0.0655\n",
      "Epoch 204/300\n",
      "4/4 [==============================] - 0s 667us/step - loss: 0.0656\n",
      "Epoch 205/300\n",
      "4/4 [==============================] - 0s 667us/step - loss: 0.0654\n",
      "Epoch 206/300\n",
      "4/4 [==============================] - 0s 667us/step - loss: 0.0653\n",
      "Epoch 207/300\n",
      "4/4 [==============================] - 0s 667us/step - loss: 0.0650\n",
      "Epoch 208/300\n",
      "4/4 [==============================] - 0s 667us/step - loss: 0.0650\n",
      "Epoch 209/300\n",
      "4/4 [==============================] - 0s 667us/step - loss: 0.0648\n",
      "Epoch 210/300\n",
      "4/4 [==============================] - 0s 667us/step - loss: 0.0646\n",
      "Epoch 211/300\n",
      "4/4 [==============================] - 0s 667us/step - loss: 0.0648\n",
      "Epoch 212/300\n",
      "4/4 [==============================] - 0s 667us/step - loss: 0.0644\n",
      "Epoch 213/300\n",
      "4/4 [==============================] - 0s 667us/step - loss: 0.0646\n",
      "Epoch 214/300\n",
      "4/4 [==============================] - 0s 666us/step - loss: 0.0648\n",
      "Epoch 215/300\n",
      "4/4 [==============================] - 0s 333us/step - loss: 0.0643\n",
      "Epoch 216/300\n",
      "4/4 [==============================] - 0s 333us/step - loss: 0.0646\n",
      "Epoch 217/300\n",
      "4/4 [==============================] - 0s 667us/step - loss: 0.0643\n",
      "Epoch 218/300\n",
      "4/4 [==============================] - 0s 667us/step - loss: 0.0639\n",
      "Epoch 219/300\n",
      "4/4 [==============================] - 0s 667us/step - loss: 0.0638\n",
      "Epoch 220/300\n",
      "4/4 [==============================] - 0s 667us/step - loss: 0.0637\n",
      "Epoch 221/300\n",
      "4/4 [==============================] - 0s 667us/step - loss: 0.0635\n",
      "Epoch 222/300\n",
      "4/4 [==============================] - 0s 333us/step - loss: 0.0638\n",
      "Epoch 223/300\n",
      "4/4 [==============================] - 0s 334us/step - loss: 0.0633\n",
      "Epoch 224/300\n",
      "4/4 [==============================] - 0s 667us/step - loss: 0.0634\n",
      "Epoch 225/300\n",
      "4/4 [==============================] - 0s 667us/step - loss: 0.0632\n",
      "Epoch 226/300\n",
      "4/4 [==============================] - 0s 667us/step - loss: 0.0635\n",
      "Epoch 227/300\n",
      "4/4 [==============================] - 0s 667us/step - loss: 0.0630\n",
      "Epoch 228/300\n",
      "4/4 [==============================] - 0s 333us/step - loss: 0.0637\n",
      "Epoch 229/300\n",
      "4/4 [==============================] - 0s 667us/step - loss: 0.0630\n",
      "Epoch 230/300\n",
      "4/4 [==============================] - 0s 667us/step - loss: 0.0631\n",
      "Epoch 231/300\n",
      "4/4 [==============================] - 0s 667us/step - loss: 0.0627\n",
      "Epoch 232/300\n",
      "4/4 [==============================] - 0s 667us/step - loss: 0.0629\n",
      "Epoch 233/300\n",
      "4/4 [==============================] - 0s 667us/step - loss: 0.0625\n",
      "Epoch 234/300\n",
      "4/4 [==============================] - 0s 667us/step - loss: 0.0623\n",
      "Epoch 235/300\n",
      "4/4 [==============================] - 0s 667us/step - loss: 0.0623\n",
      "Epoch 236/300\n",
      "4/4 [==============================] - 0s 333us/step - loss: 0.0622\n",
      "Epoch 237/300\n",
      "4/4 [==============================] - 0s 333us/step - loss: 0.0622\n",
      "Epoch 238/300\n",
      "4/4 [==============================] - 0s 667us/step - loss: 0.0619\n",
      "Epoch 239/300\n",
      "4/4 [==============================] - 0s 334us/step - loss: 0.0620\n",
      "Epoch 240/300\n",
      "4/4 [==============================] - 0s 334us/step - loss: 0.0619\n",
      "Epoch 241/300\n",
      "4/4 [==============================] - 0s 667us/step - loss: 0.0617\n",
      "Epoch 242/300\n",
      "4/4 [==============================] - 0s 667us/step - loss: 0.0617\n",
      "Epoch 243/300\n",
      "4/4 [==============================] - 0s 333us/step - loss: 0.0617\n",
      "Epoch 244/300\n",
      "4/4 [==============================] - 0s 667us/step - loss: 0.0615\n",
      "Epoch 245/300\n",
      "4/4 [==============================] - 0s 333us/step - loss: 0.0619\n",
      "Epoch 246/300\n",
      "4/4 [==============================] - 0s 667us/step - loss: 0.0614\n",
      "Epoch 247/300\n",
      "4/4 [==============================] - 0s 667us/step - loss: 0.0612\n",
      "Epoch 248/300\n",
      "4/4 [==============================] - 0s 667us/step - loss: 0.0614\n",
      "Epoch 249/300\n",
      "4/4 [==============================] - 0s 667us/step - loss: 0.0613\n",
      "Epoch 250/300\n",
      "4/4 [==============================] - 0s 667us/step - loss: 0.0610\n",
      "Epoch 251/300\n",
      "4/4 [==============================] - 0s 334us/step - loss: 0.0610\n",
      "Epoch 252/300\n",
      "4/4 [==============================] - 0s 333us/step - loss: 0.0609\n",
      "Epoch 253/300\n",
      "4/4 [==============================] - 0s 667us/step - loss: 0.0612\n",
      "Epoch 254/300\n",
      "4/4 [==============================] - 0s 667us/step - loss: 0.0608\n",
      "Epoch 255/300\n",
      "4/4 [==============================] - 0s 667us/step - loss: 0.0608\n",
      "Epoch 256/300\n",
      "4/4 [==============================] - 0s 667us/step - loss: 0.0606\n",
      "Epoch 257/300\n",
      "4/4 [==============================] - 0s 667us/step - loss: 0.0606\n",
      "Epoch 258/300\n",
      "4/4 [==============================] - 0s 667us/step - loss: 0.0605\n",
      "Epoch 259/300\n",
      "4/4 [==============================] - 0s 667us/step - loss: 0.0605\n",
      "Epoch 260/300\n",
      "4/4 [==============================] - 0s 667us/step - loss: 0.0604\n",
      "Epoch 261/300\n",
      "4/4 [==============================] - 0s 667us/step - loss: 0.0603\n",
      "Epoch 262/300\n",
      "4/4 [==============================] - 0s 667us/step - loss: 0.0602\n",
      "Epoch 263/300\n",
      "4/4 [==============================] - 0s 667us/step - loss: 0.0602\n",
      "Epoch 264/300\n",
      "4/4 [==============================] - 0s 333us/step - loss: 0.0602\n",
      "Epoch 265/300\n",
      "4/4 [==============================] - 0s 667us/step - loss: 0.0601\n",
      "Epoch 266/300\n",
      "4/4 [==============================] - 0s 667us/step - loss: 0.0603\n",
      "Epoch 267/300\n",
      "4/4 [==============================] - 0s 667us/step - loss: 0.0601\n",
      "Epoch 268/300\n",
      "4/4 [==============================] - 0s 667us/step - loss: 0.0602\n",
      "Epoch 269/300\n",
      "4/4 [==============================] - 0s 334us/step - loss: 0.0599\n",
      "Epoch 270/300\n",
      "4/4 [==============================] - 0s 667us/step - loss: 0.0599\n",
      "Epoch 271/300\n",
      "4/4 [==============================] - 0s 667us/step - loss: 0.0598\n",
      "Epoch 272/300\n",
      "4/4 [==============================] - 0s 667us/step - loss: 0.0599\n",
      "Epoch 273/300\n",
      "4/4 [==============================] - 0s 667us/step - loss: 0.0600\n",
      "Epoch 274/300\n",
      "4/4 [==============================] - 0s 667us/step - loss: 0.0598\n",
      "Epoch 275/300\n",
      "4/4 [==============================] - 0s 667us/step - loss: 0.0597\n",
      "Epoch 276/300\n",
      "4/4 [==============================] - 0s 667us/step - loss: 0.0596\n",
      "Epoch 277/300\n",
      "4/4 [==============================] - 0s 667us/step - loss: 0.0596\n",
      "Epoch 278/300\n",
      "4/4 [==============================] - 0s 334us/step - loss: 0.0599\n",
      "Epoch 279/300\n",
      "4/4 [==============================] - 0s 667us/step - loss: 0.0595\n",
      "Epoch 280/300\n",
      "4/4 [==============================] - 0s 667us/step - loss: 0.0595\n",
      "Epoch 281/300\n",
      "4/4 [==============================] - 0s 667us/step - loss: 0.0593\n",
      "Epoch 282/300\n",
      "4/4 [==============================] - 0s 666us/step - loss: 0.0594\n",
      "Epoch 283/300\n",
      "4/4 [==============================] - 0s 667us/step - loss: 0.0592\n",
      "Epoch 284/300\n",
      "4/4 [==============================] - 0s 667us/step - loss: 0.0593\n",
      "Epoch 285/300\n",
      "4/4 [==============================] - 0s 667us/step - loss: 0.0592\n",
      "Epoch 286/300\n",
      "4/4 [==============================] - 0s 334us/step - loss: 0.0591\n",
      "Epoch 287/300\n",
      "4/4 [==============================] - 0s 667us/step - loss: 0.0591\n",
      "Epoch 288/300\n",
      "4/4 [==============================] - 0s 333us/step - loss: 0.0591\n",
      "Epoch 289/300\n",
      "4/4 [==============================] - 0s 667us/step - loss: 0.0590\n",
      "Epoch 290/300\n",
      "4/4 [==============================] - 0s 667us/step - loss: 0.0590\n",
      "Epoch 291/300\n",
      "4/4 [==============================] - 0s 333us/step - loss: 0.0594\n",
      "Epoch 292/300\n",
      "4/4 [==============================] - 0s 667us/step - loss: 0.0589\n",
      "Epoch 293/300\n",
      "4/4 [==============================] - 0s 667us/step - loss: 0.0590\n",
      "Epoch 294/300\n",
      "4/4 [==============================] - 0s 667us/step - loss: 0.0588\n",
      "Epoch 295/300\n",
      "4/4 [==============================] - 0s 667us/step - loss: 0.0588\n",
      "Epoch 296/300\n",
      "4/4 [==============================] - 0s 667us/step - loss: 0.0592\n",
      "Epoch 297/300\n",
      "4/4 [==============================] - 0s 667us/step - loss: 0.0589\n",
      "Epoch 298/300\n",
      "4/4 [==============================] - 0s 333us/step - loss: 0.0589\n",
      "Epoch 299/300\n",
      "4/4 [==============================] - 0s 667us/step - loss: 0.0588\n",
      "Epoch 300/300\n",
      "4/4 [==============================] - 0s 667us/step - loss: 0.0590\n"
     ]
    },
    {
     "data": {
      "text/plain": [
       "<keras.callbacks.History at 0x23b7182e820>"
      ]
     },
     "execution_count": 65,
     "metadata": {},
     "output_type": "execute_result"
    }
   ],
   "source": [
    "regressor4.fit(xtreino_novo,ytreino_novo,epochs =300)"
   ]
  },
  {
   "cell_type": "code",
   "execution_count": 66,
   "metadata": {
    "colab": {},
    "colab_type": "code",
    "id": "DrpwZVUo4hj7"
   },
   "outputs": [],
   "source": [
    "y_predict_teste_novo = regressor4.predict(xteste_novo)"
   ]
  },
  {
   "cell_type": "code",
   "execution_count": 67,
   "metadata": {
    "colab": {},
    "colab_type": "code",
    "id": "FCf5PTAV4hkE"
   },
   "outputs": [],
   "source": [
    "resultado = pd.DataFrame(y_predict_teste_novo)[0]"
   ]
  },
  {
   "cell_type": "code",
   "execution_count": 68,
   "metadata": {
    "colab": {
     "base_uri": "https://localhost:8080/",
     "height": 428
    },
    "colab_type": "code",
    "id": "UFW2I2cWn-y6",
    "outputId": "0ae45219-44ad-4313-826e-4d9631d17b75"
   },
   "outputs": [
    {
     "data": {
      "image/png": "[encoded data removed]",
      "text/plain": [
       "<Figure size 576x360 with 1 Axes>"
      ]
     },
     "metadata": {
      "needs_background": "light"
     },
     "output_type": "display_data"
    }
   ],
   "source": [
    "sns.lineplot(x='tempo',y=ytreino_novo,data=passageiros[4:129],label='treino')\n",
    "sns.lineplot(x='tempo',y=pd.DataFrame(y_predict_novo)[0],data=passageiros[4:129],label='ajuste_treino')\n",
    "\n",
    "sns.lineplot(x='tempo',y=yteste_novo,data=passageiros[133:144],label='teste')\n",
    "sns.lineplot(x='tempo',y=resultado.values,data=passageiros[133:144],label='previsão');"
   ]
  },
  {
   "cell_type": "markdown",
   "metadata": {
    "colab_type": "text",
    "id": "rxHs3wtaP6Ji"
   },
   "source": [
    "## LSTMs"
   ]
  },
  {
   "cell_type": "code",
   "execution_count": 69,
   "metadata": {
    "colab": {},
    "colab_type": "code",
    "id": "Gq1kiIo_fNRp"
   },
   "outputs": [],
   "source": [
    "#Nova base de dados"
   ]
  },
  {
   "cell_type": "code",
   "execution_count": 70,
   "metadata": {
    "colab": {},
    "colab_type": "code",
    "id": "BcF0eVV3kbcc"
   },
   "outputs": [],
   "source": [
    "bike = pd.read_csv('data/bicicletas.csv')"
   ]
  },
  {
   "cell_type": "code",
   "execution_count": 71,
   "metadata": {
    "colab": {
     "base_uri": "https://localhost:8080/",
     "height": 289
    },
    "colab_type": "code",
    "id": "CVW-_7-NYhs8",
    "outputId": "5c43b125-1ef5-4d12-ea4e-b5b5a1e2ec45"
   },
   "outputs": [
    {
     "data": {
      "text/html": [
       "<div>\n",
       "<style scoped>\n",
       "    .dataframe tbody tr th:only-of-type {\n",
       "        vertical-align: middle;\n",
       "    }\n",
       "\n",
       "    .dataframe tbody tr th {\n",
       "        vertical-align: top;\n",
       "    }\n",
       "\n",
       "    .dataframe thead th {\n",
       "        text-align: right;\n",
       "    }\n",
       "</style>\n",
       "<table border=\"1\" class=\"dataframe\">\n",
       "  <thead>\n",
       "    <tr style=\"text-align: right;\">\n",
       "      <th></th>\n",
       "      <th>datas</th>\n",
       "      <th>contagem</th>\n",
       "      <th>temperatura</th>\n",
       "      <th>sensacao</th>\n",
       "      <th>umidade</th>\n",
       "      <th>vel_vento</th>\n",
       "      <th>clima</th>\n",
       "      <th>feriado</th>\n",
       "      <th>final_ds</th>\n",
       "      <th>estacao</th>\n",
       "    </tr>\n",
       "  </thead>\n",
       "  <tbody>\n",
       "    <tr>\n",
       "      <th>0</th>\n",
       "      <td>2015-01-04 00:00:00</td>\n",
       "      <td>182</td>\n",
       "      <td>3.0</td>\n",
       "      <td>2.0</td>\n",
       "      <td>93.0</td>\n",
       "      <td>6.0</td>\n",
       "      <td>3.0</td>\n",
       "      <td>0.0</td>\n",
       "      <td>1.0</td>\n",
       "      <td>3.0</td>\n",
       "    </tr>\n",
       "    <tr>\n",
       "      <th>1</th>\n",
       "      <td>2015-01-04 01:00:00</td>\n",
       "      <td>138</td>\n",
       "      <td>3.0</td>\n",
       "      <td>2.5</td>\n",
       "      <td>93.0</td>\n",
       "      <td>5.0</td>\n",
       "      <td>1.0</td>\n",
       "      <td>0.0</td>\n",
       "      <td>1.0</td>\n",
       "      <td>3.0</td>\n",
       "    </tr>\n",
       "    <tr>\n",
       "      <th>2</th>\n",
       "      <td>2015-01-04 02:00:00</td>\n",
       "      <td>134</td>\n",
       "      <td>2.5</td>\n",
       "      <td>2.5</td>\n",
       "      <td>96.5</td>\n",
       "      <td>0.0</td>\n",
       "      <td>1.0</td>\n",
       "      <td>0.0</td>\n",
       "      <td>1.0</td>\n",
       "      <td>3.0</td>\n",
       "    </tr>\n",
       "    <tr>\n",
       "      <th>3</th>\n",
       "      <td>2015-01-04 03:00:00</td>\n",
       "      <td>72</td>\n",
       "      <td>2.0</td>\n",
       "      <td>2.0</td>\n",
       "      <td>100.0</td>\n",
       "      <td>0.0</td>\n",
       "      <td>1.0</td>\n",
       "      <td>0.0</td>\n",
       "      <td>1.0</td>\n",
       "      <td>3.0</td>\n",
       "    </tr>\n",
       "    <tr>\n",
       "      <th>4</th>\n",
       "      <td>2015-01-04 04:00:00</td>\n",
       "      <td>47</td>\n",
       "      <td>2.0</td>\n",
       "      <td>0.0</td>\n",
       "      <td>93.0</td>\n",
       "      <td>6.5</td>\n",
       "      <td>1.0</td>\n",
       "      <td>0.0</td>\n",
       "      <td>1.0</td>\n",
       "      <td>3.0</td>\n",
       "    </tr>\n",
       "  </tbody>\n",
       "</table>\n",
       "</div>"
      ],
      "text/plain": [
       "                 datas  contagem  temperatura  sensacao  umidade  vel_vento  \\\n",
       "0  2015-01-04 00:00:00       182          3.0       2.0     93.0        6.0   \n",
       "1  2015-01-04 01:00:00       138          3.0       2.5     93.0        5.0   \n",
       "2  2015-01-04 02:00:00       134          2.5       2.5     96.5        0.0   \n",
       "3  2015-01-04 03:00:00        72          2.0       2.0    100.0        0.0   \n",
       "4  2015-01-04 04:00:00        47          2.0       0.0     93.0        6.5   \n",
       "\n",
       "   clima  feriado  final_ds  estacao  \n",
       "0    3.0      0.0       1.0      3.0  \n",
       "1    1.0      0.0       1.0      3.0  \n",
       "2    1.0      0.0       1.0      3.0  \n",
       "3    1.0      0.0       1.0      3.0  \n",
       "4    1.0      0.0       1.0      3.0  "
      ]
     },
     "execution_count": 71,
     "metadata": {},
     "output_type": "execute_result"
    }
   ],
   "source": [
    "bike.head()"
   ]
  },
  {
   "cell_type": "code",
   "execution_count": 72,
   "metadata": {
    "colab": {},
    "colab_type": "code",
    "id": "G4pd--F_Y5_w"
   },
   "outputs": [],
   "source": [
    "bike['datas'] = pd.to_datetime(bike['datas'])"
   ]
  },
  {
   "cell_type": "code",
   "execution_count": 73,
   "metadata": {
    "colab": {
     "base_uri": "https://localhost:8080/",
     "height": 516
    },
    "colab_type": "code",
    "id": "cFQxAwFuYjow",
    "outputId": "41b84823-b5bf-4801-bd50-baadfb9d28d8"
   },
   "outputs": [
    {
     "data": {
      "image/png": "[encoded data removed]",
      "text/plain": [
       "<Figure size 576x360 with 1 Axes>"
      ]
     },
     "metadata": {
      "needs_background": "light"
     },
     "output_type": "display_data"
    }
   ],
   "source": [
    "sns.lineplot(x='datas',y='contagem', data=bike)\n",
    "plt.xticks(rotation=70);"
   ]
  },
  {
   "cell_type": "markdown",
   "metadata": {
    "colab_type": "text",
    "id": "BLM_4ur_h45P"
   },
   "source": [
    "## Escalando os dados"
   ]
  },
  {
   "cell_type": "code",
   "execution_count": 74,
   "metadata": {
    "colab": {},
    "colab_type": "code",
    "id": "2OTTkW-LhVpn"
   },
   "outputs": [],
   "source": [
    "sc2 = StandardScaler()"
   ]
  },
  {
   "cell_type": "code",
   "execution_count": 75,
   "metadata": {
    "colab": {
     "base_uri": "https://localhost:8080/",
     "height": 34
    },
    "colab_type": "code",
    "id": "VveMTsySZYjC",
    "outputId": "72dac185-cdf9-4211-b729-c6a1c9c630fa"
   },
   "outputs": [
    {
     "data": {
      "text/plain": [
       "StandardScaler()"
      ]
     },
     "execution_count": 75,
     "metadata": {},
     "output_type": "execute_result"
    }
   ],
   "source": [
    "sc2.fit(bike['contagem'].values.reshape(-1,1))"
   ]
  },
  {
   "cell_type": "code",
   "execution_count": 76,
   "metadata": {
    "colab": {},
    "colab_type": "code",
    "id": "WyZDpk-Fan98"
   },
   "outputs": [],
   "source": [
    "y = sc2.transform(bike['contagem'].values.reshape(-1,1))"
   ]
  },
  {
   "cell_type": "markdown",
   "metadata": {
    "colab_type": "text",
    "id": "_36H7GQnh1Yr"
   },
   "source": [
    "## Dividindo em treino e teste"
   ]
  },
  {
   "cell_type": "code",
   "execution_count": 77,
   "metadata": {
    "colab": {},
    "colab_type": "code",
    "id": "LVPVFj1abVaE"
   },
   "outputs": [],
   "source": [
    "tamanho_treino = int(len(bike)*0.9) #Pegando 90% dos dados para treino\n",
    "tamanho_teste = len(bike)-tamanho_treino #O resto vamos reservar para teste"
   ]
  },
  {
   "cell_type": "code",
   "execution_count": 78,
   "metadata": {
    "colab": {},
    "colab_type": "code",
    "id": "PY-30S2RbVaW"
   },
   "outputs": [],
   "source": [
    "ytreino = y[0:tamanho_treino]\n",
    "yteste = y[tamanho_treino:len(bike)]"
   ]
  },
  {
   "cell_type": "code",
   "execution_count": 79,
   "metadata": {
    "colab": {
     "base_uri": "https://localhost:8080/",
     "height": 516
    },
    "colab_type": "code",
    "id": "ddYXrIAOdNsw",
    "outputId": "212c765b-150e-40bd-a903-56bcd40e2d73"
   },
   "outputs": [
    {
     "data": {
      "image/png": "[encoded data removed]",
      "text/plain": [
       "<Figure size 576x360 with 1 Axes>"
      ]
     },
     "metadata": {
      "needs_background": "light"
     },
     "output_type": "display_data"
    }
   ],
   "source": [
    "sns.lineplot(x='datas',y=ytreino[:,0],data=bike[0:tamanho_treino],label='treino') \n",
    "sns.lineplot(x='datas',y=yteste[:,0], data=bike[tamanho_treino:len(bike)],label='teste')\n",
    "plt.xticks(rotation=70); "
   ]
  },
  {
   "cell_type": "code",
   "execution_count": 80,
   "metadata": {
    "colab": {},
    "colab_type": "code",
    "id": "7l-lNwGy8zxf"
   },
   "outputs": [],
   "source": [
    "vetor = pd.DataFrame(ytreino)[0]"
   ]
  },
  {
   "cell_type": "code",
   "execution_count": 81,
   "metadata": {
    "colab": {},
    "colab_type": "code",
    "id": "XZGRtIZth69m"
   },
   "outputs": [],
   "source": [
    "xtreino_novo, ytreino_novo = separa_dados(vetor,10)"
   ]
  },
  {
   "cell_type": "code",
   "execution_count": 82,
   "metadata": {
    "colab": {
     "base_uri": "https://localhost:8080/",
     "height": 187
    },
    "colab_type": "code",
    "id": "f-hwzViInuui",
    "outputId": "35486b4e-1a63-4eb8-b9ff-a039861740ce"
   },
   "outputs": [
    {
     "data": {
      "text/plain": [
       "array([[-0.88574518, -0.9262953 , -0.92998167, -0.98712048, -1.01016032,\n",
       "        -1.01108192, -1.00647395, -0.9843557 , -0.93274645, -0.77607553],\n",
       "       [-0.9262953 , -0.92998167, -0.98712048, -1.01016032, -1.01108192,\n",
       "        -1.00647395, -0.9843557 , -0.93274645, -0.77607553, -0.56687377],\n",
       "       [-0.92998167, -0.98712048, -1.01016032, -1.01108192, -1.00647395,\n",
       "        -0.9843557 , -0.93274645, -0.77607553, -0.56687377, -0.38347663],\n",
       "       [-0.98712048, -1.01016032, -1.01108192, -1.00647395, -0.9843557 ,\n",
       "        -0.93274645, -0.77607553, -0.56687377, -0.38347663, -0.25906149],\n",
       "       [-1.01016032, -1.01108192, -1.00647395, -0.9843557 , -0.93274645,\n",
       "        -0.77607553, -0.56687377, -0.38347663, -0.25906149, -0.20929543]])"
      ]
     },
     "execution_count": 82,
     "metadata": {},
     "output_type": "execute_result"
    }
   ],
   "source": [
    "xtreino_novo[0:5]"
   ]
  },
  {
   "cell_type": "code",
   "execution_count": 83,
   "metadata": {
    "colab": {
     "base_uri": "https://localhost:8080/",
     "height": 34
    },
    "colab_type": "code",
    "id": "QHX7a-Eqrf0r",
    "outputId": "56c64b20-41a9-48f5-b3d6-674dbccdebf6"
   },
   "outputs": [
    {
     "data": {
      "text/plain": [
       "array([-0.56687377, -0.38347663, -0.25906149, -0.20929543, -0.09593941])"
      ]
     },
     "execution_count": 83,
     "metadata": {},
     "output_type": "execute_result"
    }
   ],
   "source": [
    "ytreino_novo[0:5]"
   ]
  },
  {
   "cell_type": "code",
   "execution_count": 84,
   "metadata": {
    "colab": {},
    "colab_type": "code",
    "id": "VPfMo6x6K8rC"
   },
   "outputs": [],
   "source": [
    "vetor2 = pd.DataFrame(yteste)[0]"
   ]
  },
  {
   "cell_type": "code",
   "execution_count": 85,
   "metadata": {
    "colab": {},
    "colab_type": "code",
    "id": "cXxuRBmPKe9f"
   },
   "outputs": [],
   "source": [
    "xteste_novo, yteste_novo = separa_dados(vetor2,10)"
   ]
  },
  {
   "cell_type": "markdown",
   "metadata": {
    "colab_type": "text",
    "id": "1mSPJ9aq380E"
   },
   "source": [
    "## O que a LSTM espera\n",
    "\n",
    "A entrada de redes recorrentes deve possuir a seguinte forma para a entrada (número de amostras, número de passos no tempo, e número de atributos por passo no tempo)."
   ]
  },
  {
   "cell_type": "code",
   "execution_count": 86,
   "metadata": {
    "colab": {},
    "colab_type": "code",
    "id": "Tmgm1XUE4BM5"
   },
   "outputs": [],
   "source": [
    "xtreino_novo = xtreino_novo.reshape((xtreino_novo.shape[0],xtreino_novo.shape[1],1))"
   ]
  },
  {
   "cell_type": "code",
   "execution_count": 87,
   "metadata": {
    "colab": {
     "base_uri": "https://localhost:8080/",
     "height": 34
    },
    "colab_type": "code",
    "id": "UE0SWGiHBLJT",
    "outputId": "fe2d37f8-095c-4835-a71e-5adea97a9e82"
   },
   "outputs": [
    {
     "data": {
      "text/plain": [
       "(15662, 10, 1)"
      ]
     },
     "execution_count": 87,
     "metadata": {},
     "output_type": "execute_result"
    }
   ],
   "source": [
    "xtreino_novo.shape"
   ]
  },
  {
   "cell_type": "code",
   "execution_count": 88,
   "metadata": {
    "colab": {},
    "colab_type": "code",
    "id": "6Eb_qaNcBU8k"
   },
   "outputs": [],
   "source": [
    "xteste_novo = xteste_novo.reshape((xteste_novo.shape[0],xteste_novo.shape[1],1))"
   ]
  },
  {
   "cell_type": "markdown",
   "metadata": {
    "colab_type": "text",
    "id": "KRmM3Dn33ykb"
   },
   "source": [
    "## Usando a LSTM"
   ]
  },
  {
   "cell_type": "code",
   "execution_count": 89,
   "metadata": {
    "colab": {},
    "colab_type": "code",
    "id": "smKQQ1eu3vyJ"
   },
   "outputs": [],
   "source": [
    "from tensorflow.keras.layers import LSTM"
   ]
  },
  {
   "cell_type": "code",
   "execution_count": 90,
   "metadata": {
    "colab": {},
    "colab_type": "code",
    "id": "YONwaC5yFCtS"
   },
   "outputs": [],
   "source": [
    "recorrente = Sequential()"
   ]
  },
  {
   "cell_type": "code",
   "execution_count": 91,
   "metadata": {
    "colab": {},
    "colab_type": "code",
    "id": "J3O6pZuIFCtd"
   },
   "outputs": [],
   "source": [
    "recorrente.add(LSTM(128, input_shape=(xtreino_novo.shape[1],xtreino_novo.shape[2])\n",
    "                    ))\n",
    "recorrente.add(Dense(units=1))"
   ]
  },
  {
   "cell_type": "code",
   "execution_count": 92,
   "metadata": {
    "colab": {
     "base_uri": "https://localhost:8080/",
     "height": 221
    },
    "colab_type": "code",
    "id": "M1fnn4MOFXN1",
    "outputId": "bf8855d3-ff2b-42dd-d1e4-3707e3dcd3a6"
   },
   "outputs": [
    {
     "name": "stdout",
     "output_type": "stream",
     "text": [
      "Model: \"sequential_4\"\n",
      "_________________________________________________________________\n",
      "Layer (type)                 Output Shape              Param #   \n",
      "=================================================================\n",
      "lstm (LSTM)                  (None, 128)               66560     \n",
      "_________________________________________________________________\n",
      "dense_10 (Dense)             (None, 1)                 129       \n",
      "=================================================================\n",
      "Total params: 66,689\n",
      "Trainable params: 66,689\n",
      "Non-trainable params: 0\n",
      "_________________________________________________________________\n"
     ]
    }
   ],
   "source": [
    "recorrente.compile(loss='mean_squared_error',optimizer='RMSProp')\n",
    "recorrente.summary()"
   ]
  },
  {
   "cell_type": "code",
   "execution_count": 93,
   "metadata": {
    "colab": {
     "base_uri": "https://localhost:8080/",
     "height": 1000
    },
    "colab_type": "code",
    "id": "BalOnGoMHEp1",
    "outputId": "3cc1e55c-a56d-4bbf-e781-d9e6af5d58e9"
   },
   "outputs": [
    {
     "name": "stdout",
     "output_type": "stream",
     "text": [
      "Epoch 1/100\n",
      "490/490 [==============================] - 4s 6ms/step - loss: 0.2770 - val_loss: 0.0747\n",
      "Epoch 2/100\n",
      "490/490 [==============================] - 2s 5ms/step - loss: 0.0797 - val_loss: 0.0424\n",
      "Epoch 3/100\n",
      "490/490 [==============================] - 2s 5ms/step - loss: 0.0561 - val_loss: 0.0410\n",
      "Epoch 4/100\n",
      "490/490 [==============================] - 2s 5ms/step - loss: 0.0474 - val_loss: 0.0358\n",
      "Epoch 5/100\n",
      "490/490 [==============================] - 2s 5ms/step - loss: 0.0430 - val_loss: 0.0410\n",
      "Epoch 6/100\n",
      "490/490 [==============================] - 2s 5ms/step - loss: 0.0402 - val_loss: 0.0280\n",
      "Epoch 7/100\n",
      "490/490 [==============================] - 2s 5ms/step - loss: 0.0378 - val_loss: 0.0236\n",
      "Epoch 8/100\n",
      "490/490 [==============================] - 2s 5ms/step - loss: 0.0357 - val_loss: 0.0245\n",
      "Epoch 9/100\n",
      "490/490 [==============================] - 2s 5ms/step - loss: 0.0347 - val_loss: 0.0221\n",
      "Epoch 10/100\n",
      "490/490 [==============================] - 2s 5ms/step - loss: 0.0334 - val_loss: 0.0217\n",
      "Epoch 11/100\n",
      "490/490 [==============================] - 2s 5ms/step - loss: 0.0322 - val_loss: 0.0279\n",
      "Epoch 12/100\n",
      "490/490 [==============================] - 2s 5ms/step - loss: 0.0311 - val_loss: 0.0203\n",
      "Epoch 13/100\n",
      "490/490 [==============================] - 2s 5ms/step - loss: 0.0305 - val_loss: 0.0299\n",
      "Epoch 14/100\n",
      "490/490 [==============================] - 2s 5ms/step - loss: 0.0300 - val_loss: 0.0193\n",
      "Epoch 15/100\n",
      "490/490 [==============================] - 2s 5ms/step - loss: 0.0292 - val_loss: 0.0222\n",
      "Epoch 16/100\n",
      "490/490 [==============================] - 2s 5ms/step - loss: 0.0285 - val_loss: 0.0197\n",
      "Epoch 17/100\n",
      "490/490 [==============================] - 2s 5ms/step - loss: 0.0280 - val_loss: 0.0254\n",
      "Epoch 18/100\n",
      "490/490 [==============================] - 2s 5ms/step - loss: 0.0276 - val_loss: 0.0164\n",
      "Epoch 19/100\n",
      "490/490 [==============================] - 2s 5ms/step - loss: 0.0271 - val_loss: 0.0171\n",
      "Epoch 20/100\n",
      "490/490 [==============================] - 2s 5ms/step - loss: 0.0272 - val_loss: 0.0193\n",
      "Epoch 21/100\n",
      "490/490 [==============================] - 2s 5ms/step - loss: 0.0265 - val_loss: 0.0165\n",
      "Epoch 22/100\n",
      "490/490 [==============================] - 2s 5ms/step - loss: 0.0261 - val_loss: 0.0173\n",
      "Epoch 23/100\n",
      "490/490 [==============================] - 2s 5ms/step - loss: 0.0256 - val_loss: 0.0164\n",
      "Epoch 24/100\n",
      "490/490 [==============================] - 2s 5ms/step - loss: 0.0254 - val_loss: 0.0183\n",
      "Epoch 25/100\n",
      "490/490 [==============================] - 2s 5ms/step - loss: 0.0253 - val_loss: 0.0160\n",
      "Epoch 26/100\n",
      "490/490 [==============================] - 2s 5ms/step - loss: 0.0247 - val_loss: 0.0166\n",
      "Epoch 27/100\n",
      "490/490 [==============================] - 2s 5ms/step - loss: 0.0246 - val_loss: 0.0191\n",
      "Epoch 28/100\n",
      "490/490 [==============================] - 2s 5ms/step - loss: 0.0248 - val_loss: 0.0167\n",
      "Epoch 29/100\n",
      "490/490 [==============================] - 2s 5ms/step - loss: 0.0241 - val_loss: 0.0163\n",
      "Epoch 30/100\n",
      "490/490 [==============================] - 2s 5ms/step - loss: 0.0243 - val_loss: 0.0154\n",
      "Epoch 31/100\n",
      "490/490 [==============================] - 2s 5ms/step - loss: 0.0240 - val_loss: 0.0177\n",
      "Epoch 32/100\n",
      "490/490 [==============================] - 2s 5ms/step - loss: 0.0238 - val_loss: 0.0157\n",
      "Epoch 33/100\n",
      "490/490 [==============================] - 2s 5ms/step - loss: 0.0236 - val_loss: 0.0184\n",
      "Epoch 34/100\n",
      "490/490 [==============================] - 2s 5ms/step - loss: 0.0232 - val_loss: 0.0172\n",
      "Epoch 35/100\n",
      "490/490 [==============================] - 2s 5ms/step - loss: 0.0232 - val_loss: 0.0161\n",
      "Epoch 36/100\n",
      "490/490 [==============================] - 2s 5ms/step - loss: 0.0230 - val_loss: 0.0161\n",
      "Epoch 37/100\n",
      "490/490 [==============================] - 2s 5ms/step - loss: 0.0229 - val_loss: 0.0187\n",
      "Epoch 38/100\n",
      "490/490 [==============================] - 2s 5ms/step - loss: 0.0227 - val_loss: 0.0169\n",
      "Epoch 39/100\n",
      "490/490 [==============================] - 2s 5ms/step - loss: 0.0224 - val_loss: 0.0192\n",
      "Epoch 40/100\n",
      "490/490 [==============================] - 2s 5ms/step - loss: 0.0219 - val_loss: 0.0285\n",
      "Epoch 41/100\n",
      "490/490 [==============================] - 2s 5ms/step - loss: 0.0223 - val_loss: 0.0146\n",
      "Epoch 42/100\n",
      "490/490 [==============================] - 2s 5ms/step - loss: 0.0219 - val_loss: 0.0152\n",
      "Epoch 43/100\n",
      "490/490 [==============================] - 2s 5ms/step - loss: 0.0218 - val_loss: 0.0156\n",
      "Epoch 44/100\n",
      "490/490 [==============================] - 2s 5ms/step - loss: 0.0217 - val_loss: 0.0161\n",
      "Epoch 45/100\n",
      "490/490 [==============================] - 2s 5ms/step - loss: 0.0217 - val_loss: 0.0160\n",
      "Epoch 46/100\n",
      "490/490 [==============================] - 2s 5ms/step - loss: 0.0214 - val_loss: 0.0153\n",
      "Epoch 47/100\n",
      "490/490 [==============================] - 2s 5ms/step - loss: 0.0213 - val_loss: 0.0170\n",
      "Epoch 48/100\n",
      "490/490 [==============================] - 2s 5ms/step - loss: 0.0214 - val_loss: 0.0175\n",
      "Epoch 49/100\n",
      "490/490 [==============================] - 2s 5ms/step - loss: 0.0212 - val_loss: 0.0157\n",
      "Epoch 50/100\n",
      "490/490 [==============================] - 2s 5ms/step - loss: 0.0211 - val_loss: 0.0171\n",
      "Epoch 51/100\n",
      "490/490 [==============================] - 2s 5ms/step - loss: 0.0208 - val_loss: 0.0160\n",
      "Epoch 52/100\n",
      "490/490 [==============================] - 2s 5ms/step - loss: 0.0209 - val_loss: 0.0147\n",
      "Epoch 53/100\n",
      "490/490 [==============================] - 2s 5ms/step - loss: 0.0206 - val_loss: 0.0180\n",
      "Epoch 54/100\n",
      "490/490 [==============================] - 2s 5ms/step - loss: 0.0205 - val_loss: 0.0151\n",
      "Epoch 55/100\n",
      "490/490 [==============================] - 2s 5ms/step - loss: 0.0204 - val_loss: 0.0148\n",
      "Epoch 56/100\n",
      "490/490 [==============================] - 2s 5ms/step - loss: 0.0203 - val_loss: 0.0160\n",
      "Epoch 57/100\n",
      "490/490 [==============================] - 2s 5ms/step - loss: 0.0200 - val_loss: 0.0164\n",
      "Epoch 58/100\n",
      "490/490 [==============================] - 2s 5ms/step - loss: 0.0203 - val_loss: 0.0179\n",
      "Epoch 59/100\n",
      "490/490 [==============================] - 2s 5ms/step - loss: 0.0198 - val_loss: 0.0166\n",
      "Epoch 60/100\n",
      "490/490 [==============================] - 2s 5ms/step - loss: 0.0199 - val_loss: 0.0174\n",
      "Epoch 61/100\n",
      "490/490 [==============================] - 2s 5ms/step - loss: 0.0199 - val_loss: 0.0194\n",
      "Epoch 62/100\n",
      "490/490 [==============================] - 2s 5ms/step - loss: 0.0197 - val_loss: 0.0175\n",
      "Epoch 63/100\n",
      "490/490 [==============================] - 2s 5ms/step - loss: 0.0196 - val_loss: 0.0161\n",
      "Epoch 64/100\n",
      "490/490 [==============================] - 2s 5ms/step - loss: 0.0195 - val_loss: 0.0164\n",
      "Epoch 65/100\n",
      "490/490 [==============================] - 2s 5ms/step - loss: 0.0193 - val_loss: 0.0158\n",
      "Epoch 66/100\n",
      "490/490 [==============================] - 2s 5ms/step - loss: 0.0194 - val_loss: 0.0161\n",
      "Epoch 67/100\n",
      "490/490 [==============================] - 2s 5ms/step - loss: 0.0192 - val_loss: 0.0161\n",
      "Epoch 68/100\n",
      "490/490 [==============================] - 2s 5ms/step - loss: 0.0189 - val_loss: 0.0153\n",
      "Epoch 69/100\n",
      "490/490 [==============================] - 2s 5ms/step - loss: 0.0188 - val_loss: 0.0166\n",
      "Epoch 70/100\n",
      "490/490 [==============================] - 2s 5ms/step - loss: 0.0188 - val_loss: 0.0154\n",
      "Epoch 71/100\n",
      "490/490 [==============================] - 2s 5ms/step - loss: 0.0186 - val_loss: 0.0158\n",
      "Epoch 72/100\n",
      "490/490 [==============================] - 2s 5ms/step - loss: 0.0187 - val_loss: 0.0165\n",
      "Epoch 73/100\n",
      "490/490 [==============================] - 2s 5ms/step - loss: 0.0184 - val_loss: 0.0165\n",
      "Epoch 74/100\n",
      "490/490 [==============================] - 2s 5ms/step - loss: 0.0183 - val_loss: 0.0166\n",
      "Epoch 75/100\n",
      "490/490 [==============================] - 2s 5ms/step - loss: 0.0185 - val_loss: 0.0172\n",
      "Epoch 76/100\n",
      "490/490 [==============================] - 2s 5ms/step - loss: 0.0184 - val_loss: 0.0157\n",
      "Epoch 77/100\n",
      "490/490 [==============================] - 2s 5ms/step - loss: 0.0182 - val_loss: 0.0153\n",
      "Epoch 78/100\n",
      "490/490 [==============================] - 2s 5ms/step - loss: 0.0179 - val_loss: 0.0158\n",
      "Epoch 79/100\n",
      "490/490 [==============================] - 2s 5ms/step - loss: 0.0183 - val_loss: 0.0159\n",
      "Epoch 80/100\n",
      "490/490 [==============================] - 2s 5ms/step - loss: 0.0177 - val_loss: 0.0170\n",
      "Epoch 81/100\n",
      "490/490 [==============================] - 2s 5ms/step - loss: 0.0177 - val_loss: 0.0158\n",
      "Epoch 82/100\n",
      "490/490 [==============================] - 2s 5ms/step - loss: 0.0177 - val_loss: 0.0154\n",
      "Epoch 83/100\n",
      "490/490 [==============================] - 2s 5ms/step - loss: 0.0177 - val_loss: 0.0167\n",
      "Epoch 84/100\n",
      "490/490 [==============================] - 2s 5ms/step - loss: 0.0175 - val_loss: 0.0149\n",
      "Epoch 85/100\n",
      "490/490 [==============================] - 2s 5ms/step - loss: 0.0175 - val_loss: 0.0161\n",
      "Epoch 86/100\n",
      "490/490 [==============================] - 2s 5ms/step - loss: 0.0170 - val_loss: 0.0155\n",
      "Epoch 87/100\n",
      "490/490 [==============================] - 2s 5ms/step - loss: 0.0172 - val_loss: 0.0171\n",
      "Epoch 88/100\n",
      "490/490 [==============================] - 2s 5ms/step - loss: 0.0171 - val_loss: 0.0156\n",
      "Epoch 89/100\n",
      "490/490 [==============================] - 2s 5ms/step - loss: 0.0170 - val_loss: 0.0160\n",
      "Epoch 90/100\n",
      "490/490 [==============================] - 2s 5ms/step - loss: 0.0172 - val_loss: 0.0150\n",
      "Epoch 91/100\n",
      "490/490 [==============================] - 2s 5ms/step - loss: 0.0169 - val_loss: 0.0161\n",
      "Epoch 92/100\n",
      "490/490 [==============================] - 2s 5ms/step - loss: 0.0168 - val_loss: 0.0151\n",
      "Epoch 93/100\n",
      "490/490 [==============================] - 2s 5ms/step - loss: 0.0168 - val_loss: 0.0161\n",
      "Epoch 94/100\n",
      "490/490 [==============================] - 2s 5ms/step - loss: 0.0169 - val_loss: 0.0149\n",
      "Epoch 95/100\n",
      "490/490 [==============================] - 2s 5ms/step - loss: 0.0167 - val_loss: 0.0163\n",
      "Epoch 96/100\n",
      "490/490 [==============================] - 2s 5ms/step - loss: 0.0167 - val_loss: 0.0162\n",
      "Epoch 97/100\n",
      "490/490 [==============================] - 2s 5ms/step - loss: 0.0165 - val_loss: 0.0160\n",
      "Epoch 98/100\n",
      "490/490 [==============================] - 2s 5ms/step - loss: 0.0165 - val_loss: 0.0153\n",
      "Epoch 99/100\n",
      "490/490 [==============================] - 2s 5ms/step - loss: 0.0163 - val_loss: 0.0159\n",
      "Epoch 100/100\n",
      "490/490 [==============================] - 2s 5ms/step - loss: 0.0164 - val_loss: 0.0144\n"
     ]
    }
   ],
   "source": [
    "resultado = recorrente.fit(xtreino_novo,ytreino_novo,validation_data=(xteste_novo,yteste_novo),epochs=100)"
   ]
  },
  {
   "cell_type": "code",
   "execution_count": 94,
   "metadata": {
    "colab": {},
    "colab_type": "code",
    "id": "hUcyuKCSZ2Mw"
   },
   "outputs": [
    {
     "name": "stdout",
     "output_type": "stream",
     "text": [
      "WARNING:tensorflow:5 out of the last 13 calls to <function Model.make_predict_function.<locals>.predict_function at 0x0000023B71215EE0> triggered tf.function retracing. Tracing is expensive and the excessive number of tracings could be due to (1) creating @tf.function repeatedly in a loop, (2) passing tensors with different shapes, (3) passing Python objects instead of tensors. For (1), please define your @tf.function outside of the loop. For (2), @tf.function has experimental_relax_shapes=True option that relaxes argument shapes that can avoid unnecessary retracing. For (3), please refer to https://www.tensorflow.org/guide/function#controlling_retracing and https://www.tensorflow.org/api_docs/python/tf/function for  more details.\n"
     ]
    }
   ],
   "source": [
    "y_ajustado = recorrente.predict(xtreino_novo)"
   ]
  },
  {
   "cell_type": "code",
   "execution_count": 95,
   "metadata": {
    "colab": {
     "base_uri": "https://localhost:8080/",
     "height": 515
    },
    "colab_type": "code",
    "id": "4kL1G4HPaGjc",
    "outputId": "db60c1f7-0928-4818-a4c3-a05526e4c24c"
   },
   "outputs": [
    {
     "data": {
      "image/png": "[encoded data removed]",
      "text/plain": [
       "<Figure size 576x360 with 1 Axes>"
      ]
     },
     "metadata": {
      "needs_background": "light"
     },
     "output_type": "display_data"
    }
   ],
   "source": [
    "sns.lineplot(x='datas',y=ytreino[:,0],data=bike[0:tamanho_treino],label='treino')\n",
    "sns.lineplot(x='datas',y=y_ajustado[:,0],data=bike[0:15662],label='ajuste_treino')\n",
    "plt.xticks(rotation=70); "
   ]
  },
  {
   "cell_type": "code",
   "execution_count": 96,
   "metadata": {
    "colab": {},
    "colab_type": "code",
    "id": "lnQZ_AnjbGv_"
   },
   "outputs": [],
   "source": [
    "y_predito = recorrente.predict(xteste_novo)"
   ]
  },
  {
   "cell_type": "code",
   "execution_count": 97,
   "metadata": {
    "colab": {
     "base_uri": "https://localhost:8080/",
     "height": 550
    },
    "colab_type": "code",
    "id": "8zEVoaF2bOdb",
    "outputId": "b2ec752e-3d7f-48a0-94cb-51839a1abd5a"
   },
   "outputs": [
    {
     "data": {
      "image/png": "[encoded data removed]",
      "text/plain": [
       "<Figure size 576x360 with 1 Axes>"
      ]
     },
     "metadata": {
      "needs_background": "light"
     },
     "output_type": "display_data"
    }
   ],
   "source": [
    "sns.lineplot(x='datas',y=yteste[:,0], data=bike[tamanho_treino:len(bike)],label='teste')\n",
    "sns.lineplot(x='datas',y=y_predito[:,0], data=bike[tamanho_treino+10:len(bike)],marker='.',label='previsão')\n",
    "plt.xticks(rotation=70); "
   ]
  },
  {
   "cell_type": "markdown",
   "metadata": {
    "colab_type": "text",
    "id": "W0VyIRpxtfYV"
   },
   "source": [
    "# Avaliando os resultados"
   ]
  },
  {
   "cell_type": "code",
   "execution_count": 98,
   "metadata": {
    "colab": {},
    "colab_type": "code",
    "id": "lk8VkwXA-2kB"
   },
   "outputs": [],
   "source": [
    "from tensorflow.keras.layers import GRU"
   ]
  },
  {
   "cell_type": "code",
   "execution_count": 99,
   "metadata": {
    "colab": {},
    "colab_type": "code",
    "id": "-FMeV_AwCZv_"
   },
   "outputs": [],
   "source": [
    "recorrente_g = Sequential()"
   ]
  },
  {
   "cell_type": "code",
   "execution_count": 100,
   "metadata": {
    "colab": {},
    "colab_type": "code",
    "id": "8tC3XOq-CZwP"
   },
   "outputs": [],
   "source": [
    "recorrente_g.add(GRU(128, input_shape=(xtreino_novo.shape[1],xtreino_novo.shape[2])\n",
    "                    ))\n",
    "recorrente_g.add(Dense(units=1))"
   ]
  },
  {
   "cell_type": "code",
   "execution_count": 101,
   "metadata": {
    "colab": {
     "base_uri": "https://localhost:8080/",
     "height": 221
    },
    "colab_type": "code",
    "id": "xKkg5Gi5CZwU",
    "outputId": "902693cf-0dfd-4114-87aa-f666032878b0"
   },
   "outputs": [
    {
     "name": "stdout",
     "output_type": "stream",
     "text": [
      "Model: \"sequential_5\"\n",
      "_________________________________________________________________\n",
      "Layer (type)                 Output Shape              Param #   \n",
      "=================================================================\n",
      "gru (GRU)                    (None, 128)               50304     \n",
      "_________________________________________________________________\n",
      "dense_11 (Dense)             (None, 1)                 129       \n",
      "=================================================================\n",
      "Total params: 50,433\n",
      "Trainable params: 50,433\n",
      "Non-trainable params: 0\n",
      "_________________________________________________________________\n"
     ]
    }
   ],
   "source": [
    "recorrente_g.compile(loss='mean_squared_error',optimizer='RMSProp')\n",
    "recorrente_g.summary()"
   ]
  },
  {
   "cell_type": "code",
   "execution_count": 102,
   "metadata": {
    "colab": {
     "base_uri": "https://localhost:8080/",
     "height": 1000
    },
    "colab_type": "code",
    "id": "F0fTOT8KCZwY",
    "outputId": "85310072-5b93-464a-951d-84dbf35705a3"
   },
   "outputs": [
    {
     "name": "stdout",
     "output_type": "stream",
     "text": [
      "Epoch 1/100\n",
      "490/490 [==============================] - 4s 6ms/step - loss: 0.2023 - val_loss: 0.0634\n",
      "Epoch 2/100\n",
      "490/490 [==============================] - 3s 5ms/step - loss: 0.0655 - val_loss: 0.0376\n",
      "Epoch 3/100\n",
      "490/490 [==============================] - 3s 5ms/step - loss: 0.0495 - val_loss: 0.0264\n",
      "Epoch 4/100\n",
      "490/490 [==============================] - 2s 5ms/step - loss: 0.0417 - val_loss: 0.0306\n",
      "Epoch 5/100\n",
      "490/490 [==============================] - 3s 5ms/step - loss: 0.0379 - val_loss: 0.0203\n",
      "Epoch 6/100\n",
      "490/490 [==============================] - 2s 5ms/step - loss: 0.0355 - val_loss: 0.0305\n",
      "Epoch 7/100\n",
      "490/490 [==============================] - 2s 5ms/step - loss: 0.0339 - val_loss: 0.0194\n",
      "Epoch 8/100\n",
      "490/490 [==============================] - 3s 5ms/step - loss: 0.0331 - val_loss: 0.0258\n",
      "Epoch 9/100\n",
      "490/490 [==============================] - 3s 5ms/step - loss: 0.0319 - val_loss: 0.0179\n",
      "Epoch 10/100\n",
      "490/490 [==============================] - 3s 5ms/step - loss: 0.0310 - val_loss: 0.0216\n",
      "Epoch 11/100\n",
      "490/490 [==============================] - 3s 5ms/step - loss: 0.0304 - val_loss: 0.0240\n",
      "Epoch 12/100\n",
      "490/490 [==============================] - 2s 5ms/step - loss: 0.0301 - val_loss: 0.0224\n",
      "Epoch 13/100\n",
      "490/490 [==============================] - 3s 5ms/step - loss: 0.0291 - val_loss: 0.0238\n",
      "Epoch 14/100\n",
      "490/490 [==============================] - 3s 5ms/step - loss: 0.0290 - val_loss: 0.0210\n",
      "Epoch 15/100\n",
      "490/490 [==============================] - 3s 5ms/step - loss: 0.0282 - val_loss: 0.0187\n",
      "Epoch 16/100\n",
      "490/490 [==============================] - 3s 5ms/step - loss: 0.0282 - val_loss: 0.0168\n",
      "Epoch 17/100\n",
      "490/490 [==============================] - 3s 5ms/step - loss: 0.0276 - val_loss: 0.0175\n",
      "Epoch 18/100\n",
      "490/490 [==============================] - 3s 6ms/step - loss: 0.0272 - val_loss: 0.0172\n",
      "Epoch 19/100\n",
      "490/490 [==============================] - 3s 6ms/step - loss: 0.0270 - val_loss: 0.0171\n",
      "Epoch 20/100\n",
      "490/490 [==============================] - 3s 6ms/step - loss: 0.0267 - val_loss: 0.0176\n",
      "Epoch 21/100\n",
      "490/490 [==============================] - 2s 5ms/step - loss: 0.0262 - val_loss: 0.0189\n",
      "Epoch 22/100\n",
      "490/490 [==============================] - 2s 5ms/step - loss: 0.0259 - val_loss: 0.0170\n",
      "Epoch 23/100\n",
      "490/490 [==============================] - 2s 5ms/step - loss: 0.0256 - val_loss: 0.0159\n",
      "Epoch 24/100\n",
      "490/490 [==============================] - 3s 5ms/step - loss: 0.0254 - val_loss: 0.0215\n",
      "Epoch 25/100\n",
      "490/490 [==============================] - 3s 5ms/step - loss: 0.0250 - val_loss: 0.0171\n",
      "Epoch 26/100\n",
      "490/490 [==============================] - 2s 5ms/step - loss: 0.0248 - val_loss: 0.0157\n",
      "Epoch 27/100\n",
      "490/490 [==============================] - 2s 5ms/step - loss: 0.0246 - val_loss: 0.0157\n",
      "Epoch 28/100\n",
      "490/490 [==============================] - 2s 5ms/step - loss: 0.0242 - val_loss: 0.0192\n",
      "Epoch 29/100\n",
      "490/490 [==============================] - 2s 5ms/step - loss: 0.0243 - val_loss: 0.0158\n",
      "Epoch 30/100\n",
      "490/490 [==============================] - 2s 5ms/step - loss: 0.0239 - val_loss: 0.0176\n",
      "Epoch 31/100\n",
      "490/490 [==============================] - 2s 5ms/step - loss: 0.0236 - val_loss: 0.0184\n",
      "Epoch 32/100\n",
      "490/490 [==============================] - 2s 5ms/step - loss: 0.0234 - val_loss: 0.0166\n",
      "Epoch 33/100\n",
      "490/490 [==============================] - 2s 5ms/step - loss: 0.0232 - val_loss: 0.0161\n",
      "Epoch 34/100\n",
      "490/490 [==============================] - 2s 5ms/step - loss: 0.0230 - val_loss: 0.0165\n",
      "Epoch 35/100\n",
      "490/490 [==============================] - 2s 5ms/step - loss: 0.0229 - val_loss: 0.0168\n",
      "Epoch 36/100\n",
      "490/490 [==============================] - 2s 5ms/step - loss: 0.0227 - val_loss: 0.0162\n",
      "Epoch 37/100\n",
      "490/490 [==============================] - 2s 5ms/step - loss: 0.0226 - val_loss: 0.0155\n",
      "Epoch 38/100\n",
      "490/490 [==============================] - 3s 5ms/step - loss: 0.0221 - val_loss: 0.0167\n",
      "Epoch 39/100\n",
      "490/490 [==============================] - 3s 5ms/step - loss: 0.0221 - val_loss: 0.0170\n",
      "Epoch 40/100\n",
      "490/490 [==============================] - 2s 5ms/step - loss: 0.0220 - val_loss: 0.0174\n",
      "Epoch 41/100\n",
      "490/490 [==============================] - 2s 5ms/step - loss: 0.0223 - val_loss: 0.0156\n",
      "Epoch 42/100\n",
      "490/490 [==============================] - 2s 5ms/step - loss: 0.0215 - val_loss: 0.0182\n",
      "Epoch 43/100\n",
      "490/490 [==============================] - 2s 5ms/step - loss: 0.0215 - val_loss: 0.0184\n",
      "Epoch 44/100\n",
      "490/490 [==============================] - 2s 5ms/step - loss: 0.0212 - val_loss: 0.0158\n",
      "Epoch 45/100\n",
      "490/490 [==============================] - 2s 5ms/step - loss: 0.0213 - val_loss: 0.0159\n",
      "Epoch 46/100\n",
      "490/490 [==============================] - 3s 5ms/step - loss: 0.0208 - val_loss: 0.0159\n",
      "Epoch 47/100\n",
      "490/490 [==============================] - 2s 5ms/step - loss: 0.0208 - val_loss: 0.0170\n",
      "Epoch 48/100\n",
      "490/490 [==============================] - 3s 5ms/step - loss: 0.0203 - val_loss: 0.0149\n",
      "Epoch 49/100\n",
      "490/490 [==============================] - 3s 5ms/step - loss: 0.0203 - val_loss: 0.0146\n",
      "Epoch 50/100\n",
      "490/490 [==============================] - 3s 5ms/step - loss: 0.0205 - val_loss: 0.0155\n",
      "Epoch 51/100\n",
      "490/490 [==============================] - 3s 5ms/step - loss: 0.0201 - val_loss: 0.0167\n",
      "Epoch 52/100\n",
      "490/490 [==============================] - 2s 5ms/step - loss: 0.0201 - val_loss: 0.0184\n",
      "Epoch 53/100\n",
      "490/490 [==============================] - 3s 5ms/step - loss: 0.0198 - val_loss: 0.0162\n",
      "Epoch 54/100\n",
      "490/490 [==============================] - 3s 5ms/step - loss: 0.0198 - val_loss: 0.0161\n",
      "Epoch 55/100\n",
      "490/490 [==============================] - 3s 5ms/step - loss: 0.0195 - val_loss: 0.0166\n",
      "Epoch 56/100\n",
      "490/490 [==============================] - 3s 5ms/step - loss: 0.0195 - val_loss: 0.0155\n",
      "Epoch 57/100\n",
      "490/490 [==============================] - 3s 5ms/step - loss: 0.0193 - val_loss: 0.0162\n",
      "Epoch 58/100\n",
      "490/490 [==============================] - 2s 5ms/step - loss: 0.0193 - val_loss: 0.0151\n",
      "Epoch 59/100\n",
      "490/490 [==============================] - 2s 5ms/step - loss: 0.0191 - val_loss: 0.0174\n",
      "Epoch 60/100\n",
      "490/490 [==============================] - 3s 5ms/step - loss: 0.0190 - val_loss: 0.0154\n",
      "Epoch 61/100\n",
      "490/490 [==============================] - 3s 5ms/step - loss: 0.0188 - val_loss: 0.0160\n",
      "Epoch 62/100\n",
      "490/490 [==============================] - 3s 5ms/step - loss: 0.0186 - val_loss: 0.0159\n",
      "Epoch 63/100\n",
      "490/490 [==============================] - 3s 5ms/step - loss: 0.0186 - val_loss: 0.0167\n",
      "Epoch 64/100\n",
      "490/490 [==============================] - 3s 5ms/step - loss: 0.0186 - val_loss: 0.0162\n",
      "Epoch 65/100\n",
      "490/490 [==============================] - 2s 5ms/step - loss: 0.0183 - val_loss: 0.0161\n",
      "Epoch 66/100\n",
      "490/490 [==============================] - 3s 5ms/step - loss: 0.0183 - val_loss: 0.0156\n",
      "Epoch 67/100\n",
      "490/490 [==============================] - 3s 5ms/step - loss: 0.0180 - val_loss: 0.0152\n",
      "Epoch 68/100\n",
      "490/490 [==============================] - 3s 5ms/step - loss: 0.0180 - val_loss: 0.0161\n",
      "Epoch 69/100\n",
      "490/490 [==============================] - 3s 5ms/step - loss: 0.0181 - val_loss: 0.0163\n",
      "Epoch 70/100\n",
      "490/490 [==============================] - 3s 5ms/step - loss: 0.0180 - val_loss: 0.0155\n",
      "Epoch 71/100\n",
      "490/490 [==============================] - 3s 5ms/step - loss: 0.0176 - val_loss: 0.0161\n",
      "Epoch 72/100\n",
      "490/490 [==============================] - 3s 5ms/step - loss: 0.0178 - val_loss: 0.0139\n",
      "Epoch 73/100\n",
      "490/490 [==============================] - 3s 5ms/step - loss: 0.0177 - val_loss: 0.0160\n",
      "Epoch 74/100\n",
      "490/490 [==============================] - 3s 5ms/step - loss: 0.0175 - val_loss: 0.0153\n",
      "Epoch 75/100\n",
      "490/490 [==============================] - 3s 5ms/step - loss: 0.0173 - val_loss: 0.0151\n",
      "Epoch 76/100\n",
      "490/490 [==============================] - 3s 5ms/step - loss: 0.0169 - val_loss: 0.0147\n",
      "Epoch 77/100\n",
      "490/490 [==============================] - 3s 5ms/step - loss: 0.0173 - val_loss: 0.0154\n",
      "Epoch 78/100\n",
      "490/490 [==============================] - 3s 5ms/step - loss: 0.0171 - val_loss: 0.0171\n",
      "Epoch 79/100\n",
      "490/490 [==============================] - 3s 5ms/step - loss: 0.0169 - val_loss: 0.0167\n",
      "Epoch 80/100\n",
      "490/490 [==============================] - 2s 5ms/step - loss: 0.0168 - val_loss: 0.0191\n",
      "Epoch 81/100\n",
      "490/490 [==============================] - 3s 5ms/step - loss: 0.0169 - val_loss: 0.0177\n",
      "Epoch 82/100\n",
      "490/490 [==============================] - 3s 5ms/step - loss: 0.0168 - val_loss: 0.0164\n",
      "Epoch 83/100\n",
      "490/490 [==============================] - 2s 5ms/step - loss: 0.0165 - val_loss: 0.0165\n",
      "Epoch 84/100\n",
      "490/490 [==============================] - 2s 5ms/step - loss: 0.0165 - val_loss: 0.0156\n",
      "Epoch 85/100\n",
      "490/490 [==============================] - 2s 5ms/step - loss: 0.0164 - val_loss: 0.0155\n",
      "Epoch 86/100\n",
      "490/490 [==============================] - 2s 5ms/step - loss: 0.0163 - val_loss: 0.0162\n",
      "Epoch 87/100\n",
      "490/490 [==============================] - 2s 5ms/step - loss: 0.0161 - val_loss: 0.0139\n",
      "Epoch 88/100\n",
      "490/490 [==============================] - 2s 5ms/step - loss: 0.0162 - val_loss: 0.0151\n",
      "Epoch 89/100\n",
      "490/490 [==============================] - 3s 5ms/step - loss: 0.0158 - val_loss: 0.0157\n",
      "Epoch 90/100\n",
      "490/490 [==============================] - 3s 5ms/step - loss: 0.0160 - val_loss: 0.0153\n",
      "Epoch 91/100\n",
      "490/490 [==============================] - 3s 5ms/step - loss: 0.0157 - val_loss: 0.0169\n",
      "Epoch 92/100\n",
      "490/490 [==============================] - 2s 5ms/step - loss: 0.0158 - val_loss: 0.0164\n",
      "Epoch 93/100\n",
      "490/490 [==============================] - 3s 5ms/step - loss: 0.0157 - val_loss: 0.0158\n",
      "Epoch 94/100\n",
      "490/490 [==============================] - 3s 5ms/step - loss: 0.0153 - val_loss: 0.0168\n",
      "Epoch 95/100\n",
      "490/490 [==============================] - 3s 5ms/step - loss: 0.0155 - val_loss: 0.0178\n",
      "Epoch 96/100\n",
      "490/490 [==============================] - 3s 5ms/step - loss: 0.0153 - val_loss: 0.0165\n",
      "Epoch 97/100\n",
      "490/490 [==============================] - 3s 5ms/step - loss: 0.0152 - val_loss: 0.0141\n",
      "Epoch 98/100\n",
      "490/490 [==============================] - 3s 5ms/step - loss: 0.0151 - val_loss: 0.0200\n",
      "Epoch 99/100\n",
      "490/490 [==============================] - 3s 5ms/step - loss: 0.0151 - val_loss: 0.0170\n",
      "Epoch 100/100\n",
      "490/490 [==============================] - 3s 5ms/step - loss: 0.0151 - val_loss: 0.0157\n"
     ]
    }
   ],
   "source": [
    "resultado2 = recorrente_g.fit(xtreino_novo,ytreino_novo,\n",
    "                              validation_data=(xteste_novo,yteste_novo),epochs=100)"
   ]
  },
  {
   "cell_type": "code",
   "execution_count": 103,
   "metadata": {
    "colab": {},
    "colab_type": "code",
    "id": "Hj4MPS_ICmdp"
   },
   "outputs": [],
   "source": [
    "y_predito2 = recorrente_g.predict(xteste_novo)"
   ]
  },
  {
   "cell_type": "code",
   "execution_count": 104,
   "metadata": {
    "colab": {
     "base_uri": "https://localhost:8080/",
     "height": 550
    },
    "colab_type": "code",
    "id": "NfuykA8AD5er",
    "outputId": "61b722e8-247f-46c1-9933-ff9d3ddc8cc6"
   },
   "outputs": [
    {
     "data": {
      "image/png": "[encoded data removed]",
      "text/plain": [
       "<Figure size 576x360 with 1 Axes>"
      ]
     },
     "metadata": {
      "needs_background": "light"
     },
     "output_type": "display_data"
    }
   ],
   "source": [
    "sns.lineplot(x='datas',y=yteste[:,0], data=bike[tamanho_treino:len(bike)])\n",
    "sns.lineplot(x='datas',y=y_predito2[:,0], data=bike[tamanho_treino+10:len(bike)],marker='.')\n",
    "plt.legend(['conhecido','estimado'])\n",
    "plt.xticks(rotation=70); "
   ]
  },
  {
   "cell_type": "code",
   "execution_count": 105,
   "metadata": {
    "colab": {
     "base_uri": "https://localhost:8080/",
     "height": 34
    },
    "colab_type": "code",
    "id": "uGKWW5qqJJxi",
    "outputId": "c3f81d51-21e6-4c88-e136-8c97572f4489"
   },
   "outputs": [
    {
     "name": "stdout",
     "output_type": "stream",
     "text": [
      "dict_keys(['loss', 'val_loss'])\n"
     ]
    }
   ],
   "source": [
    "print(resultado2.history.keys())"
   ]
  },
  {
   "cell_type": "code",
   "execution_count": 106,
   "metadata": {
    "colab": {
     "base_uri": "https://localhost:8080/",
     "height": 401
    },
    "colab_type": "code",
    "id": "AyKk6cGsT0s7",
    "outputId": "0735502a-7b42-4851-d26e-c48cf55e93c2"
   },
   "outputs": [
    {
     "data": {
      "image/png": "[encoded data removed]",
      "text/plain": [
       "<Figure size 576x360 with 1 Axes>"
      ]
     },
     "metadata": {
      "needs_background": "light"
     },
     "output_type": "display_data"
    }
   ],
   "source": [
    "plt.plot(resultado.history['loss'])\n",
    "plt.plot(resultado.history['val_loss'])\n",
    "plt.legend(['treino','teste']);"
   ]
  },
  {
   "cell_type": "code",
   "execution_count": 107,
   "metadata": {
    "colab": {
     "base_uri": "https://localhost:8080/",
     "height": 401
    },
    "colab_type": "code",
    "id": "M42XqxI6JTtX",
    "outputId": "25f9cdb6-cc5c-4bd0-ad04-c207ff929ae5"
   },
   "outputs": [
    {
     "data": {
      "image/png": "[encoded data removed]",
      "text/plain": [
       "<Figure size 576x360 with 1 Axes>"
      ]
     },
     "metadata": {
      "needs_background": "light"
     },
     "output_type": "display_data"
    }
   ],
   "source": [
    "plt.plot(resultado2.history['loss'])\n",
    "plt.plot(resultado2.history['val_loss'])\n",
    "plt.legend(['treino','teste']);"
   ]
  }
 ],
 "metadata": {
  "colab": {
   "name": "Temporaiskeras5.ipynb",
   "provenance": []
  },
  "kernelspec": {
   "display_name": "Python 3 (ipykernel)",
   "language": "python",
   "name": "python3"
  },
  "language_info": {
   "codemirror_mode": {
    "name": "ipython",
    "version": 3
   },
   "file_extension": ".py",
   "mimetype": "text/x-python",
   "name": "python",
   "nbconvert_exporter": "python",
   "pygments_lexer": "ipython3",
   "version": "3.9.7"
  }
 },
 "nbformat": 4,
 "nbformat_minor": 1
}
