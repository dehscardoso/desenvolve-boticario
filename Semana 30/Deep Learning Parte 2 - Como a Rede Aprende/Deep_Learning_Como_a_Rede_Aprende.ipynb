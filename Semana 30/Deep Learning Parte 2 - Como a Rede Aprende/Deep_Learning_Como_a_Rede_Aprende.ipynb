{
 "cells": [
  {
   "cell_type": "markdown",
   "id": "0403602c",
   "metadata": {},
   "source": [
    "<img src = \"https://images2.imgbox.com/32/ac/wucGkuem_o.png\" width=\"300\">"
   ]
  },
  {
   "cell_type": "code",
   "execution_count": 2,
   "id": "809ada3b",
   "metadata": {},
   "outputs": [],
   "source": [
    "import tensorflow\n",
    "from tensorflow import keras\n",
    "import matplotlib.pyplot as plt\n",
    "import numpy as np\n",
    "from tensorflow.keras.models import load_model"
   ]
  },
  {
   "cell_type": "code",
   "execution_count": 3,
   "id": "4ee40c29",
   "metadata": {},
   "outputs": [],
   "source": [
    "# carregando dataset\n",
    "dataset = keras.datasets.fashion_mnist\n",
    "((imagens_treino, identificacoes_treino), (imagens_teste, identificacoes_teste)) = dataset.load_data()"
   ]
  },
  {
   "cell_type": "code",
   "execution_count": 4,
   "id": "b6e97b87",
   "metadata": {},
   "outputs": [
    {
     "data": {
      "text/plain": [
       "60000"
      ]
     },
     "execution_count": 4,
     "metadata": {},
     "output_type": "execute_result"
    }
   ],
   "source": [
    "len(imagens_treino)"
   ]
  },
  {
   "cell_type": "code",
   "execution_count": 5,
   "id": "c8576e24",
   "metadata": {},
   "outputs": [
    {
     "data": {
      "text/plain": [
       "(60000, 28, 28)"
      ]
     },
     "execution_count": 5,
     "metadata": {},
     "output_type": "execute_result"
    }
   ],
   "source": [
    "imagens_treino.shape"
   ]
  },
  {
   "cell_type": "code",
   "execution_count": 6,
   "id": "0904d2fb",
   "metadata": {},
   "outputs": [
    {
     "data": {
      "text/plain": [
       "(10000, 28, 28)"
      ]
     },
     "execution_count": 6,
     "metadata": {},
     "output_type": "execute_result"
    }
   ],
   "source": [
    "imagens_teste.shape"
   ]
  },
  {
   "cell_type": "code",
   "execution_count": 7,
   "id": "48f72d9c",
   "metadata": {},
   "outputs": [
    {
     "data": {
      "text/plain": [
       "10000"
      ]
     },
     "execution_count": 7,
     "metadata": {},
     "output_type": "execute_result"
    }
   ],
   "source": [
    "len(identificacoes_teste)"
   ]
  },
  {
   "cell_type": "code",
   "execution_count": 8,
   "id": "2ff83f73",
   "metadata": {},
   "outputs": [
    {
     "data": {
      "text/plain": [
       "0"
      ]
     },
     "execution_count": 8,
     "metadata": {},
     "output_type": "execute_result"
    }
   ],
   "source": [
    "identificacoes_treino.min()"
   ]
  },
  {
   "cell_type": "code",
   "execution_count": 9,
   "id": "c6b0fce7",
   "metadata": {},
   "outputs": [
    {
     "data": {
      "text/plain": [
       "9"
      ]
     },
     "execution_count": 9,
     "metadata": {},
     "output_type": "execute_result"
    }
   ],
   "source": [
    "identificacoes_treino.max()"
   ]
  },
  {
   "cell_type": "code",
   "execution_count": 11,
   "id": "8e30d774",
   "metadata": {},
   "outputs": [
    {
     "data": {
      "image/png": "[encoded data removed]",
      "text/plain": [
       "<Figure size 432x288 with 2 Axes>"
      ]
     },
     "metadata": {
      "needs_background": "light"
     },
     "output_type": "display_data"
    }
   ],
   "source": [
    "# Exibição dos dados\n",
    "total_de_classificacoes = 10\n",
    "nomes_de_classificacoes = ['Camiseta', 'Calça', 'Pullover', \n",
    "                           'Vestido', 'Casaco', 'Sandália', 'Camisa',\n",
    "                           'Tênis', 'Bolsa', 'Bota']\n",
    "\n",
    "plt.imshow(imagens_treino[0])\n",
    "plt.colorbar();"
   ]
  },
  {
   "cell_type": "code",
   "execution_count": 12,
   "id": "a9c86233",
   "metadata": {},
   "outputs": [],
   "source": [
    "imagens_treino = imagens_treino/float(255)"
   ]
  },
  {
   "cell_type": "code",
   "execution_count": 13,
   "id": "6784e79b",
   "metadata": {},
   "outputs": [
    {
     "name": "stdout",
     "output_type": "stream",
     "text": [
      "Epoch 1/5\n",
      "100/100 [==============================] - 1s 5ms/step - loss: 0.6569 - accuracy: 0.7699 - val_loss: 0.4626 - val_accuracy: 0.8354\n"
     ]
    }
   ],
   "source": [
    "modelo = keras.Sequential([ \n",
    "    keras.layers.Flatten(input_shape=(28, 28)),\n",
    "    keras.layers.Dense(256, activation=tensorflow.nn.relu),\n",
    "    keras.layers.Dropout(0.2),\n",
    "    keras.layers.Dense(10, activation=tensorflow.nn.softmax)\n",
    "])\n",
    "\n",
    "adam = keras.optimizers.Adam(learning_rate=0.002)\n",
    "\n",
    "'''lr\n",
    "learning rate\n",
    "taxa de aprendizado'''\n",
    "\n",
    "parando_cedo = [keras.callbacks.EarlyStopping(monitor='val_loss'),\n",
    "                keras.callbacks.ModelCheckpoint(filepath='melhor_modelo.hdf5',\n",
    "                                               monitor='val_loss', save_best_only=True)]\n",
    "\n",
    "modelo.compile(optimizer=adam, \n",
    "               loss='sparse_categorical_crossentropy',\n",
    "               metrics=['accuracy'])\n",
    "\n",
    "historico = modelo.fit(imagens_treino, identificacoes_treino, \n",
    "                       batch_size = 480,\n",
    "                       epochs=5, validation_split=0.2,\n",
    "                       callbacks=parando_cedo)"
   ]
  },
  {
   "cell_type": "code",
   "execution_count": 14,
   "id": "2d899347",
   "metadata": {},
   "outputs": [
    {
     "name": "stdout",
     "output_type": "stream",
     "text": [
      "Model: \"sequential\"\n",
      "_________________________________________________________________\n",
      "Layer (type)                 Output Shape              Param #   \n",
      "=================================================================\n",
      "flatten (Flatten)            (None, 784)               0         \n",
      "_________________________________________________________________\n",
      "dense (Dense)                (None, 256)               200960    \n",
      "_________________________________________________________________\n",
      "dropout (Dropout)            (None, 256)               0         \n",
      "_________________________________________________________________\n",
      "dense_1 (Dense)              (None, 10)                2570      \n",
      "=================================================================\n",
      "Total params: 203,530\n",
      "Trainable params: 203,530\n",
      "Non-trainable params: 0\n",
      "_________________________________________________________________\n"
     ]
    }
   ],
   "source": [
    "sumario_do_modelo = modelo.summary()"
   ]
  },
  {
   "cell_type": "code",
   "execution_count": 15,
   "id": "ef0ebb2d",
   "metadata": {},
   "outputs": [
    {
     "data": {
      "text/plain": [
       "array([[-2.9790580e-02, -7.5657837e-02, -5.8343772e-02, ...,\n",
       "         4.9405307e-02, -5.7409525e-02,  5.0464444e-02],\n",
       "       [ 1.0525139e-02,  7.9991370e-03,  1.4992780e-03, ...,\n",
       "         6.5171972e-02, -5.4729581e-02, -7.5398199e-02],\n",
       "       [ 1.1593014e-02,  6.8373241e-02,  1.2796021e-02, ...,\n",
       "         5.1461473e-02,  4.4375349e-02, -3.4969773e-02],\n",
       "       ...,\n",
       "       [-8.2398448e-03,  2.0655464e-02,  8.3438426e-02, ...,\n",
       "        -2.2080190e-02,  5.3588603e-02,  4.4716679e-02],\n",
       "       [-8.0248816e-03,  1.4323387e-02, -5.5185910e-02, ...,\n",
       "        -2.8722607e-02, -2.2485992e-02,  4.7622029e-02],\n",
       "       [ 4.7365170e-02,  2.2911511e-02, -3.4283962e-02, ...,\n",
       "         5.0738454e-05,  4.2020846e-02, -1.8073119e-02]], dtype=float32)"
      ]
     },
     "execution_count": 15,
     "metadata": {},
     "output_type": "execute_result"
    }
   ],
   "source": [
    "pesos_camada_dense = modelo.layers[1].get_weights()[0]\n",
    "pesos_camada_dense"
   ]
  },
  {
   "cell_type": "code",
   "execution_count": 16,
   "id": "b673c7f6",
   "metadata": {},
   "outputs": [
    {
     "data": {
      "text/plain": [
       "array([ 0.06416335, -0.01610654, -0.03501835, -0.01893858,  0.04135119,\n",
       "       -0.01350276,  0.03898063,  0.047708  ,  0.08702587, -0.01403723,\n",
       "        0.02366922,  0.00493381,  0.03454557, -0.001444  ,  0.03792029,\n",
       "        0.0273016 , -0.02313286, -0.06145897, -0.01919759,  0.02605674,\n",
       "        0.09097332,  0.0505171 ,  0.0575676 ,  0.07725724, -0.03086505,\n",
       "        0.0405045 , -0.01733686,  0.04177024,  0.00357837,  0.09823033,\n",
       "        0.04233816, -0.01555441, -0.00885513, -0.02458254, -0.04256171,\n",
       "        0.0315193 , -0.02011053,  0.0218281 ,  0.08052058, -0.06188458,\n",
       "        0.00240385,  0.01854132, -0.04669316,  0.04440199, -0.00299828,\n",
       "        0.00272014,  0.0034669 ,  0.0838898 ,  0.02530468,  0.05691617,\n",
       "       -0.01562861,  0.07816184, -0.02054034, -0.06211427, -0.01621678,\n",
       "       -0.01104521,  0.05524433, -0.03681359, -0.00255965, -0.01354183,\n",
       "        0.04183254, -0.01472669,  0.03061852, -0.03815803,  0.05775579,\n",
       "       -0.0050317 , -0.00589742,  0.03764512, -0.00214326,  0.06832686,\n",
       "       -0.03856605, -0.00407702,  0.01068356,  0.03964939,  0.02291175,\n",
       "       -0.0123998 ,  0.04064004,  0.09070549, -0.01377211,  0.09497296,\n",
       "       -0.04583915,  0.07422816,  0.06347659, -0.02016592, -0.00219342,\n",
       "       -0.01794791,  0.01907128,  0.05948475,  0.02468797,  0.04702314,\n",
       "        0.03756128, -0.01158086, -0.0422849 , -0.00153486, -0.01928789,\n",
       "        0.02378689,  0.06017708, -0.02581271,  0.0284224 ,  0.05405154,\n",
       "        0.02835733,  0.09211853,  0.01089119, -0.02607621,  0.00756823,\n",
       "       -0.00637676,  0.0513799 ,  0.04589254, -0.05226561,  0.08075169,\n",
       "       -0.01877839, -0.01672082,  0.07069547, -0.01790179, -0.00077391,\n",
       "        0.06711674, -0.00230844, -0.03541644,  0.0005695 , -0.01194822,\n",
       "       -0.01436822,  0.07153386,  0.06063122, -0.02796947, -0.01037315,\n",
       "        0.01390619, -0.05021343, -0.01967254, -0.03575494, -0.0024294 ,\n",
       "        0.0640725 ,  0.06388301,  0.01670881, -0.00863813, -0.01812007,\n",
       "       -0.0124205 ,  0.05162644,  0.07528671,  0.04624141,  0.03046245,\n",
       "        0.02360741,  0.01793775,  0.02830924,  0.02681354,  0.01982669,\n",
       "        0.04791477, -0.00898091, -0.02223834, -0.00165344, -0.01153755,\n",
       "       -0.00479217,  0.05719239,  0.03014788,  0.0478611 , -0.04168866,\n",
       "        0.0223543 ,  0.04991324,  0.02657681,  0.04986393, -0.0604913 ,\n",
       "        0.09424184,  0.06003365,  0.02113817,  0.08463238, -0.01759164,\n",
       "        0.05447784, -0.05621083, -0.01113295,  0.01155963,  0.03894377,\n",
       "        0.04708042, -0.03846287, -0.07635694,  0.05793073, -0.02318341,\n",
       "        0.06217132, -0.04956279,  0.01864817,  0.04473863, -0.03511724,\n",
       "       -0.0636131 , -0.01455037, -0.0009491 ,  0.06903443,  0.00799542,\n",
       "        0.00500804,  0.01918279,  0.05210979, -0.00998862,  0.03472486,\n",
       "       -0.00050688,  0.11306613, -0.04532083, -0.00148844,  0.04054601,\n",
       "        0.02247569,  0.03148492, -0.02366385, -0.00750557,  0.02519959,\n",
       "        0.09647711, -0.00605256, -0.0151939 , -0.063681  ,  0.00932486,\n",
       "       -0.03978087, -0.00651936,  0.01110941, -0.03528334,  0.01890848,\n",
       "       -0.00996387,  0.01695461,  0.03887   ,  0.03374772,  0.04951524,\n",
       "        0.00086325, -0.04259785,  0.04782014,  0.01275916,  0.10553478,\n",
       "       -0.0442743 ,  0.04393699, -0.02627461, -0.01772735,  0.05000775,\n",
       "        0.09702501, -0.01391788, -0.023074  ,  0.00561605, -0.01042606,\n",
       "        0.06012943,  0.09317703,  0.04613961, -0.0193106 ,  0.00896952,\n",
       "        0.01582544, -0.03661692,  0.00157089, -0.04816258,  0.04824629,\n",
       "        0.01753908,  0.05316533, -0.01857333,  0.00902098, -0.02496433,\n",
       "       -0.02275804, -0.01380929,  0.06088205,  0.06050986,  0.04445803,\n",
       "        0.01906567,  0.02807605, -0.01740239, -0.01547712,  0.03538202,\n",
       "       -0.02623582], dtype=float32)"
      ]
     },
     "execution_count": 16,
     "metadata": {},
     "output_type": "execute_result"
    }
   ],
   "source": [
    "vieses_camada_dense = modelo.layers[1].get_weights()[1]\n",
    "vieses_camada_dense"
   ]
  },
  {
   "cell_type": "code",
   "execution_count": 17,
   "id": "9f97c22f",
   "metadata": {},
   "outputs": [
    {
     "data": {
      "text/plain": [
       "[array([[0.49731117, 0.18564045, 0.04865349, ..., 0.27191305, 0.9605693 ,\n",
       "         0.08529501],\n",
       "        [0.6322949 , 0.09136567, 0.9237363 , ..., 0.6548874 , 0.7622084 ,\n",
       "         0.28315938],\n",
       "        [0.25677815, 0.17543188, 0.29402646, ..., 0.13204423, 0.85150045,\n",
       "         0.3628674 ],\n",
       "        ...,\n",
       "        [0.29127222, 0.32986423, 0.33148238, ..., 0.40266505, 0.2791677 ,\n",
       "         0.48698866],\n",
       "        [0.20561484, 0.7462483 , 0.08147697, ..., 0.4005971 , 0.9478515 ,\n",
       "         0.10400402],\n",
       "        [0.32532695, 0.7655084 , 0.5161454 , ..., 0.13709998, 0.11379006,\n",
       "         0.6617391 ]], dtype=float32),\n",
       " array([ 0.06416335, -0.01610654, -0.03501835, -0.01893858,  0.04135119,\n",
       "        -0.01350276,  0.03898063,  0.047708  ,  0.08702587, -0.01403723,\n",
       "         0.02366922,  0.00493381,  0.03454557, -0.001444  ,  0.03792029,\n",
       "         0.0273016 , -0.02313286, -0.06145897, -0.01919759,  0.02605674,\n",
       "         0.09097332,  0.0505171 ,  0.0575676 ,  0.07725724, -0.03086505,\n",
       "         0.0405045 , -0.01733686,  0.04177024,  0.00357837,  0.09823033,\n",
       "         0.04233816, -0.01555441, -0.00885513, -0.02458254, -0.04256171,\n",
       "         0.0315193 , -0.02011053,  0.0218281 ,  0.08052058, -0.06188458,\n",
       "         0.00240385,  0.01854132, -0.04669316,  0.04440199, -0.00299828,\n",
       "         0.00272014,  0.0034669 ,  0.0838898 ,  0.02530468,  0.05691617,\n",
       "        -0.01562861,  0.07816184, -0.02054034, -0.06211427, -0.01621678,\n",
       "        -0.01104521,  0.05524433, -0.03681359, -0.00255965, -0.01354183,\n",
       "         0.04183254, -0.01472669,  0.03061852, -0.03815803,  0.05775579,\n",
       "        -0.0050317 , -0.00589742,  0.03764512, -0.00214326,  0.06832686,\n",
       "        -0.03856605, -0.00407702,  0.01068356,  0.03964939,  0.02291175,\n",
       "        -0.0123998 ,  0.04064004,  0.09070549, -0.01377211,  0.09497296,\n",
       "        -0.04583915,  0.07422816,  0.06347659, -0.02016592, -0.00219342,\n",
       "        -0.01794791,  0.01907128,  0.05948475,  0.02468797,  0.04702314,\n",
       "         0.03756128, -0.01158086, -0.0422849 , -0.00153486, -0.01928789,\n",
       "         0.02378689,  0.06017708, -0.02581271,  0.0284224 ,  0.05405154,\n",
       "         0.02835733,  0.09211853,  0.01089119, -0.02607621,  0.00756823,\n",
       "        -0.00637676,  0.0513799 ,  0.04589254, -0.05226561,  0.08075169,\n",
       "        -0.01877839, -0.01672082,  0.07069547, -0.01790179, -0.00077391,\n",
       "         0.06711674, -0.00230844, -0.03541644,  0.0005695 , -0.01194822,\n",
       "        -0.01436822,  0.07153386,  0.06063122, -0.02796947, -0.01037315,\n",
       "         0.01390619, -0.05021343, -0.01967254, -0.03575494, -0.0024294 ,\n",
       "         0.0640725 ,  0.06388301,  0.01670881, -0.00863813, -0.01812007,\n",
       "        -0.0124205 ,  0.05162644,  0.07528671,  0.04624141,  0.03046245,\n",
       "         0.02360741,  0.01793775,  0.02830924,  0.02681354,  0.01982669,\n",
       "         0.04791477, -0.00898091, -0.02223834, -0.00165344, -0.01153755,\n",
       "        -0.00479217,  0.05719239,  0.03014788,  0.0478611 , -0.04168866,\n",
       "         0.0223543 ,  0.04991324,  0.02657681,  0.04986393, -0.0604913 ,\n",
       "         0.09424184,  0.06003365,  0.02113817,  0.08463238, -0.01759164,\n",
       "         0.05447784, -0.05621083, -0.01113295,  0.01155963,  0.03894377,\n",
       "         0.04708042, -0.03846287, -0.07635694,  0.05793073, -0.02318341,\n",
       "         0.06217132, -0.04956279,  0.01864817,  0.04473863, -0.03511724,\n",
       "        -0.0636131 , -0.01455037, -0.0009491 ,  0.06903443,  0.00799542,\n",
       "         0.00500804,  0.01918279,  0.05210979, -0.00998862,  0.03472486,\n",
       "        -0.00050688,  0.11306613, -0.04532083, -0.00148844,  0.04054601,\n",
       "         0.02247569,  0.03148492, -0.02366385, -0.00750557,  0.02519959,\n",
       "         0.09647711, -0.00605256, -0.0151939 , -0.063681  ,  0.00932486,\n",
       "        -0.03978087, -0.00651936,  0.01110941, -0.03528334,  0.01890848,\n",
       "        -0.00996387,  0.01695461,  0.03887   ,  0.03374772,  0.04951524,\n",
       "         0.00086325, -0.04259785,  0.04782014,  0.01275916,  0.10553478,\n",
       "        -0.0442743 ,  0.04393699, -0.02627461, -0.01772735,  0.05000775,\n",
       "         0.09702501, -0.01391788, -0.023074  ,  0.00561605, -0.01042606,\n",
       "         0.06012943,  0.09317703,  0.04613961, -0.0193106 ,  0.00896952,\n",
       "         0.01582544, -0.03661692,  0.00157089, -0.04816258,  0.04824629,\n",
       "         0.01753908,  0.05316533, -0.01857333,  0.00902098, -0.02496433,\n",
       "        -0.02275804, -0.01380929,  0.06088205,  0.06050986,  0.04445803,\n",
       "         0.01906567,  0.02807605, -0.01740239, -0.01547712,  0.03538202,\n",
       "        -0.02623582], dtype=float32)]"
      ]
     },
     "execution_count": 17,
     "metadata": {},
     "output_type": "execute_result"
    }
   ],
   "source": [
    "pesos_camada_dense.shape\n",
    "pesos_camada_dense_zerados = np.zeros((784, 256))\n",
    "\n",
    "pesos_camada_dense_aleatorios = np.random.rand(784, 256)\n",
    "\n",
    "'''\n",
    "modelo.layers[1].set_weights(\n",
    "    [pesos_camada_dense_zerados, vieses_camada_dense]\n",
    ")\n",
    "'''\n",
    "\n",
    "modelo.layers[1].set_weights(\n",
    "    [pesos_camada_dense_aleatorios, vieses_camada_dense]\n",
    ")\n",
    "\n",
    "modelo.layers[1].get_weights()"
   ]
  },
  {
   "cell_type": "code",
   "execution_count": 18,
   "id": "e59f456e",
   "metadata": {},
   "outputs": [
    {
     "name": "stdout",
     "output_type": "stream",
     "text": [
      "Epoch 1/5\n",
      "1500/1500 [==============================] - 5s 3ms/step - loss: 51.0507 - accuracy: 0.4155 - val_loss: 7.1339 - val_accuracy: 0.7327\n",
      "Epoch 2/5\n",
      "1500/1500 [==============================] - 6s 4ms/step - loss: 12.1505 - accuracy: 0.6184 - val_loss: 4.7612 - val_accuracy: 0.7280\n",
      "Epoch 3/5\n",
      "1500/1500 [==============================] - 5s 4ms/step - loss: 5.3185 - accuracy: 0.6603 - val_loss: 2.6894 - val_accuracy: 0.7107\n",
      "Epoch 4/5\n",
      "1500/1500 [==============================] - 5s 3ms/step - loss: 2.8039 - accuracy: 0.6909 - val_loss: 1.7549 - val_accuracy: 0.7082\n",
      "Epoch 5/5\n",
      "1500/1500 [==============================] - 5s 3ms/step - loss: 1.4780 - accuracy: 0.7379 - val_loss: 0.8489 - val_accuracy: 0.8019\n"
     ]
    }
   ],
   "source": [
    "modelo.compile(optimizer='adam', \n",
    "               loss='sparse_categorical_crossentropy',\n",
    "               metrics=['accuracy'])\n",
    "\n",
    "historico = modelo.fit(imagens_treino, identificacoes_treino, epochs=5, validation_split=0.2)"
   ]
  },
  {
   "cell_type": "code",
   "execution_count": 19,
   "id": "c07e7edd",
   "metadata": {},
   "outputs": [
    {
     "data": {
      "image/png": "[encoded data removed]",
      "text/plain": [
       "<Figure size 432x288 with 1 Axes>"
      ]
     },
     "metadata": {
      "needs_background": "light"
     },
     "output_type": "display_data"
    }
   ],
   "source": [
    "plt.plot(historico.history['accuracy'])\n",
    "plt.plot(historico.history['val_accuracy'])\n",
    "plt.title('Acurácia por épocas')\n",
    "plt.xlabel('épocas')\n",
    "plt.ylabel('acurácia')\n",
    "plt.legend(['treino', 'validação']);"
   ]
  },
  {
   "cell_type": "code",
   "execution_count": 20,
   "id": "2111b59d",
   "metadata": {},
   "outputs": [
    {
     "data": {
      "image/png": "[encoded data removed]",
      "text/plain": [
       "<Figure size 432x288 with 1 Axes>"
      ]
     },
     "metadata": {
      "needs_background": "light"
     },
     "output_type": "display_data"
    }
   ],
   "source": [
    "plt.plot(historico.history['accuracy'])\n",
    "plt.plot(historico.history['val_accuracy'])\n",
    "plt.title('Acurácia por épocas')\n",
    "plt.xlabel('épocas')\n",
    "plt.ylabel('acurácia')\n",
    "plt.legend(['treino', 'validação']);"
   ]
  },
  {
   "cell_type": "code",
   "execution_count": 21,
   "id": "e450d56f",
   "metadata": {},
   "outputs": [
    {
     "data": {
      "text/plain": [
       "{'name': 'sequential',\n",
       " 'layers': [{'class_name': 'InputLayer',\n",
       "   'config': {'batch_input_shape': (None, 28, 28),\n",
       "    'dtype': 'float32',\n",
       "    'sparse': False,\n",
       "    'ragged': False,\n",
       "    'name': 'flatten_input'}},\n",
       "  {'class_name': 'Flatten',\n",
       "   'config': {'name': 'flatten',\n",
       "    'trainable': True,\n",
       "    'batch_input_shape': (None, 28, 28),\n",
       "    'dtype': 'float32',\n",
       "    'data_format': 'channels_last'}},\n",
       "  {'class_name': 'Dense',\n",
       "   'config': {'name': 'dense',\n",
       "    'trainable': True,\n",
       "    'dtype': 'float32',\n",
       "    'units': 256,\n",
       "    'activation': 'relu',\n",
       "    'use_bias': True,\n",
       "    'kernel_initializer': {'class_name': 'GlorotUniform',\n",
       "     'config': {'seed': None}},\n",
       "    'bias_initializer': {'class_name': 'Zeros', 'config': {}},\n",
       "    'kernel_regularizer': None,\n",
       "    'bias_regularizer': None,\n",
       "    'activity_regularizer': None,\n",
       "    'kernel_constraint': None,\n",
       "    'bias_constraint': None}},\n",
       "  {'class_name': 'Dropout',\n",
       "   'config': {'name': 'dropout',\n",
       "    'trainable': True,\n",
       "    'dtype': 'float32',\n",
       "    'rate': 0.2,\n",
       "    'noise_shape': None,\n",
       "    'seed': None}},\n",
       "  {'class_name': 'Dense',\n",
       "   'config': {'name': 'dense_1',\n",
       "    'trainable': True,\n",
       "    'dtype': 'float32',\n",
       "    'units': 10,\n",
       "    'activation': 'softmax',\n",
       "    'use_bias': True,\n",
       "    'kernel_initializer': {'class_name': 'GlorotUniform',\n",
       "     'config': {'seed': None}},\n",
       "    'bias_initializer': {'class_name': 'Zeros', 'config': {}},\n",
       "    'kernel_regularizer': None,\n",
       "    'bias_regularizer': None,\n",
       "    'activity_regularizer': None,\n",
       "    'kernel_constraint': None,\n",
       "    'bias_constraint': None}}]}"
      ]
     },
     "execution_count": 21,
     "metadata": {},
     "output_type": "execute_result"
    }
   ],
   "source": [
    "modelo.get_config()"
   ]
  },
  {
   "cell_type": "code",
   "execution_count": 22,
   "id": "37590881",
   "metadata": {},
   "outputs": [
    {
     "data": {
      "image/png": "[encoded data removed]",
      "text/plain": [
       "<Figure size 432x288 with 1 Axes>"
      ]
     },
     "metadata": {
      "needs_background": "light"
     },
     "output_type": "display_data"
    }
   ],
   "source": [
    "plt.plot(historico.history['loss'])\n",
    "plt.plot(historico.history['val_loss'])\n",
    "plt.title('Perda por épocas')\n",
    "plt.xlabel('épocas')\n",
    "plt.ylabel('perda')\n",
    "plt.legend(['treino', 'validação']);"
   ]
  },
  {
   "cell_type": "code",
   "execution_count": 23,
   "id": "c968273e",
   "metadata": {},
   "outputs": [
    {
     "data": {
      "text/plain": [
       "(256,)"
      ]
     },
     "execution_count": 23,
     "metadata": {},
     "output_type": "execute_result"
    }
   ],
   "source": [
    "vieses_camada_dense = modelo.layers[1].get_weights()[1]\n",
    "vieses_camada_dense.shape"
   ]
  },
  {
   "cell_type": "code",
   "execution_count": 24,
   "id": "e06d85a9",
   "metadata": {},
   "outputs": [],
   "source": [
    "vieses_camada_dense_zerados = np.zeros((256,))\n",
    "modelo.layers[1].set_weights(\n",
    "    [pesos_camada_dense_aleatorios, vieses_camada_dense_zerados]\n",
    ")"
   ]
  },
  {
   "cell_type": "code",
   "execution_count": 25,
   "id": "b15efc87",
   "metadata": {},
   "outputs": [],
   "source": [
    "# salvando e carregando modelo\n",
    "modelo.save('modelo.h5')\n",
    "modelo_salvo = load_model('modelo.h5')"
   ]
  },
  {
   "cell_type": "code",
   "execution_count": 26,
   "id": "3f92329a",
   "metadata": {},
   "outputs": [
    {
     "data": {
      "image/png": "[encoded data removed]",
      "text/plain": [
       "<Figure size 432x288 with 1 Axes>"
      ]
     },
     "metadata": {
      "needs_background": "light"
     },
     "output_type": "display_data"
    }
   ],
   "source": [
    "plt.plot(historico.history['accuracy'])\n",
    "plt.plot(historico.history['val_accuracy'])\n",
    "plt.title('Acurácia por épocas')\n",
    "plt.xlabel('épocas')\n",
    "plt.ylabel('acurácia')\n",
    "plt.legend(['treino', 'validação']);"
   ]
  },
  {
   "cell_type": "code",
   "execution_count": 27,
   "id": "5dc65558",
   "metadata": {},
   "outputs": [
    {
     "data": {
      "image/png": "[encoded data removed]",
      "text/plain": [
       "<Figure size 432x288 with 1 Axes>"
      ]
     },
     "metadata": {
      "needs_background": "light"
     },
     "output_type": "display_data"
    }
   ],
   "source": [
    "plt.plot(historico.history['loss'])\n",
    "plt.plot(historico.history['val_loss'])\n",
    "plt.title('Perda por épocas')\n",
    "plt.xlabel('épocas')\n",
    "plt.ylabel('perda')\n",
    "plt.legend(['treino', 'validação']);"
   ]
  },
  {
   "cell_type": "code",
   "execution_count": 28,
   "id": "34657936",
   "metadata": {},
   "outputs": [
    {
     "name": "stdout",
     "output_type": "stream",
     "text": [
      "resultado teste: 8\n",
      "número da imagem de teste: 2\n",
      "resultado teste modelo salvo: 8\n",
      "número da imagem de teste: 2\n"
     ]
    }
   ],
   "source": [
    "# testando o modelo e o modelo salvo\n",
    "testes = modelo.predict(imagens_teste)\n",
    "print('resultado teste:', np.argmax(testes[1]))\n",
    "print('número da imagem de teste:', identificacoes_teste[1])\n",
    "\n",
    "testes_modelo_salvo = modelo_salvo.predict(imagens_teste)\n",
    "print('resultado teste modelo salvo:', np.argmax(testes_modelo_salvo[1]))\n",
    "print('número da imagem de teste:', identificacoes_teste[1])"
   ]
  },
  {
   "cell_type": "code",
   "execution_count": 29,
   "id": "4cee3634",
   "metadata": {},
   "outputs": [
    {
     "name": "stdout",
     "output_type": "stream",
     "text": [
      "313/313 [==============================] - 1s 3ms/step - loss: 22363.1855 - accuracy: 0.1000\n",
      "Perda do teste: 22363.185546875\n",
      "Acurácia do teste: 0.10000000149011612\n"
     ]
    }
   ],
   "source": [
    "# avaliando modelo\n",
    "perda_teste, acuracia_teste = modelo.evaluate(imagens_teste, identificacoes_teste)\n",
    "print('Perda do teste:', perda_teste)\n",
    "print('Acurácia do teste:', acuracia_teste)"
   ]
  }
 ],
 "metadata": {
  "kernelspec": {
   "display_name": "Python 3 (ipykernel)",
   "language": "python",
   "name": "python3"
  },
  "language_info": {
   "codemirror_mode": {
    "name": "ipython",
    "version": 3
   },
   "file_extension": ".py",
   "mimetype": "text/x-python",
   "name": "python",
   "nbconvert_exporter": "python",
   "pygments_lexer": "ipython3",
   "version": "3.9.7"
  }
 },
 "nbformat": 4,
 "nbformat_minor": 5
}
