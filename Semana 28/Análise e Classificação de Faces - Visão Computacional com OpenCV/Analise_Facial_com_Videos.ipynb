{
 "cells": [
  {
   "cell_type": "markdown",
   "id": "540a9cd9",
   "metadata": {},
   "source": [
    "<img src = \"https://images2.imgbox.com/32/ac/wucGkuem_o.png\" width=\"300\">"
   ]
  },
  {
   "cell_type": "code",
   "execution_count": 40,
   "id": "966b57a4",
   "metadata": {},
   "outputs": [],
   "source": [
    "import cv2\n",
    "import numpy as np\n",
    "import dlib\n",
    "import matplotlib.pyplot as plt\n",
    "\n",
    "from scipy.spatial import distance as dist\n",
    "\n",
    "from io import BytesIO\n",
    "from IPython.display import clear_output, Image, display\n",
    "from PIL import Image as Img"
   ]
  },
  {
   "cell_type": "code",
   "execution_count": 30,
   "id": "0ae99aee",
   "metadata": {},
   "outputs": [],
   "source": [
    "FACE = list(range(17, 68))\n",
    "FACE_COMPLETA = list(range(0, 68))\n",
    "LABIO = list(range(48, 61))\n",
    "SOMBRANCELHA_DIRETA = list(range(17, 22))\n",
    "SOMBRANCELHA_ESQUERDA = list(range(22, 27))\n",
    "OLHO_DIREITO = list(range(36,42))\n",
    "OLHO_ESQUERDO = list(range(42,48))\n",
    "NARIZ = list(range(27,35))\n",
    "MANDIBULA = list(range(0,17))"
   ]
  },
  {
   "cell_type": "code",
   "execution_count": 31,
   "id": "4e0c0644",
   "metadata": {},
   "outputs": [],
   "source": [
    "classificador_dlib_68_path = \"classificadores/shape_predictor_68_face_landmarks.dat\"\n",
    "classificador_dlib = dlib.shape_predictor(classificador_dlib_68_path)\n",
    "detector_face = dlib.get_frontal_face_detector()"
   ]
  },
  {
   "cell_type": "code",
   "execution_count": 32,
   "id": "40f3e4ce",
   "metadata": {},
   "outputs": [],
   "source": [
    "def padronizar_imagem(frame):\n",
    "    frame = cv2.cvtColor(frame, cv2.COLOR_BGR2RGB)\n",
    "    frame = cv2.resize(frame, (500, 400))\n",
    "    return frame"
   ]
  },
  {
   "cell_type": "code",
   "execution_count": 33,
   "id": "9924d259",
   "metadata": {},
   "outputs": [],
   "source": [
    "def exibir_video(frame):\n",
    "    img = Img.fromarray(frame, \"RGB\")\n",
    "    buffer = BytesIO()\n",
    "    img.save(buffer, format=\"JPEG\")\n",
    "    display(Image(data=buffer.getvalue()))\n",
    "    clear_output(wait=True)"
   ]
  },
  {
   "cell_type": "code",
   "execution_count": 34,
   "id": "1735f1aa",
   "metadata": {},
   "outputs": [],
   "source": [
    "def anotar_marcos_casca_convexa_boca(imagem, marcos):\n",
    "    retangulos = detector_face(imagem, 1)\n",
    "    \n",
    "    if len(retangulos) == 0:\n",
    "        return None\n",
    "    \n",
    "    for idx, ret in enumerate(retangulos):\n",
    "        marco = marcos[idx]\n",
    "        \n",
    "        pontos = cv2.convexHull(marco[LABIO])\n",
    "        cv2.drawContours(imagem, [pontos], 0, (0,255,0), 2)\n",
    "    \n",
    "    return imagem"
   ]
  },
  {
   "cell_type": "code",
   "execution_count": 49,
   "id": "5a2f1d4b",
   "metadata": {},
   "outputs": [],
   "source": [
    "def anotar_marcos_casca_convexa(imagem, marcos):\n",
    "    retangulos = detector_face(imagem, 1)\n",
    "    \n",
    "    if len(retangulos) == 0:\n",
    "        return None\n",
    "    \n",
    "    for idx, ret in enumerate(retangulos):\n",
    "        marco = marcos[idx]\n",
    "        \n",
    "        pontos = cv2.convexHull(marco[OLHO_ESQUERDO])\n",
    "        cv2.drawContours(imagem, [pontos], 0, (0,255,0), 2)\n",
    "        \n",
    "        pontos = cv2.convexHull(marco[OLHO_DIREITO])\n",
    "        cv2.drawContours(imagem, [pontos], 0, (0,255,0), 2)\n",
    "    \n",
    "    return imagem"
   ]
  },
  {
   "cell_type": "code",
   "execution_count": 35,
   "id": "6c07c83b",
   "metadata": {},
   "outputs": [
    {
     "name": "stdout",
     "output_type": "stream",
     "text": [
      "Interrompido\n"
     ]
    }
   ],
   "source": [
    "video = cv2.VideoCapture(\"videos/expressoes.mov\")\n",
    "\n",
    "try:\n",
    "    while(True):\n",
    "        captura_ok, frame = video.read()\n",
    "        if captura_ok:\n",
    "            frame = padronizar_imagem(frame)\n",
    "            exibir_video(frame)\n",
    "except KeyboardInterrupt:\n",
    "    video.release()\n",
    "    print(\"Interrompido\")"
   ]
  },
  {
   "cell_type": "code",
   "execution_count": 41,
   "id": "834fa1d1",
   "metadata": {},
   "outputs": [],
   "source": [
    "def aspecto_razao_boca(pontos_boca):\n",
    "    a = dist.euclidean(pontos_boca[3], pontos_boca[9])\n",
    "    b = dist.euclidean(pontos_boca[2], pontos_boca[10])\n",
    "    c = dist.euclidean(pontos_boca[4], pontos_boca[8])\n",
    "    d = dist.euclidean(pontos_boca[0], pontos_boca[6])\n",
    "    \n",
    "    aspecto_razao = (a + b + c)/(3.0*d)\n",
    "    \n",
    "    return aspecto_razao"
   ]
  },
  {
   "cell_type": "code",
   "execution_count": 45,
   "id": "1c57246a",
   "metadata": {},
   "outputs": [],
   "source": [
    "def aspecto_razao_olhos(pontos_olhos):\n",
    "    \n",
    "    a = dist.euclidean(pontos_olhos[1], pontos_olhos[5])\n",
    "    b = dist.euclidean(pontos_olhos[2], pontos_olhos[4])\n",
    "    c = dist.euclidean(pontos_olhos[0], pontos_olhos[3])\n",
    "    \n",
    "    aspecto_razao = (a + b)/(2.0 * c)\n",
    "    \n",
    "    return aspecto_razao"
   ]
  },
  {
   "cell_type": "code",
   "execution_count": 42,
   "id": "095f2e00",
   "metadata": {},
   "outputs": [
    {
     "name": "stdout",
     "output_type": "stream",
     "text": [
      "Interrompido\n"
     ]
    }
   ],
   "source": [
    "try:\n",
    "    ar_max = 0\n",
    "    video = cv2.VideoCapture(\"videos/bocejo.mov\")\n",
    "    while(True):\n",
    "        captura_ok, frame = video.read()\n",
    "        if captura_ok:\n",
    "            frame = padronizar_imagem(frame)\n",
    "            marcos_faciais = pontos_marcos_faciais(frame)\n",
    "            \n",
    "            if marcos_faciais is not None:\n",
    "                ar_boca = aspecto_razao_boca(marcos_faciais[0][LABIO])\n",
    "                ar_boca = round(ar_boca, 3)\n",
    "                \n",
    "                if ar_boca > ar_max:\n",
    "                    ar_max = ar_boca\n",
    "                \n",
    "                info = \"boca \" + str(ar_boca) + \" maximo \" + str(ar_max)\n",
    "                \n",
    "                frame = anotar_marcos_casca_convexa_boca(frame, marcos_faciais)\n",
    "                cv2.putText(frame, info, (20, 50), cv2.FONT_HERSHEY_SIMPLEX, 0.5, (255,255,0), 2)\n",
    "            \n",
    "            exibir_video(frame)\n",
    "            \n",
    "except KeyboardInterrupt:\n",
    "    video.release()\n",
    "    print(\"Interrompido\")"
   ]
  },
  {
   "cell_type": "code",
   "execution_count": 47,
   "id": "3278267d",
   "metadata": {},
   "outputs": [],
   "source": [
    "def pontos_marcos_faciais(imagem):\n",
    "    retangulos = detector_face(imagem, 1)\n",
    "\n",
    "    if len(retangulos) == 0:\n",
    "        return None\n",
    "\n",
    "    marcos = []\n",
    "\n",
    "    for retangulo in retangulos:\n",
    "        marcos.append(np.matrix([[p.x, p.y] for p in classificador_dlib(imagem, retangulo).parts()]))\n",
    "\n",
    "    return marcos"
   ]
  },
  {
   "cell_type": "code",
   "execution_count": 50,
   "id": "e03a8ad8",
   "metadata": {},
   "outputs": [
    {
     "name": "stdout",
     "output_type": "stream",
     "text": [
      "Interrompido\n"
     ]
    }
   ],
   "source": [
    "try:\n",
    "    min_olho_esq = 1\n",
    "    min_olho_dir = 1\n",
    "    \n",
    "    video = cv2.VideoCapture(\"videos/olhos-fechados.mov\")\n",
    "    \n",
    "    while(True):\n",
    "        captura_ok, frame = video.read()\n",
    "        frame = padronizar_imagem(frame)\n",
    "        \n",
    "        marcos_faciais = pontos_marcos_faciais(frame)\n",
    "        \n",
    "        if marcos_faciais is not None:\n",
    "            ar_olho_esq = aspecto_razao_olhos(marcos_faciais[0][OLHO_ESQUERDO])\n",
    "            ar_olho_dir = aspecto_razao_olhos(marcos_faciais[0][OLHO_DIREITO])\n",
    "            \n",
    "            ar_olho_esq = round(ar_olho_esq, 3)\n",
    "            ar_olho_dir = round(ar_olho_dir, 3)\n",
    "            \n",
    "            if ar_olho_esq < min_olho_esq:\n",
    "                min_olho_esq = ar_olho_esq\n",
    "                \n",
    "            if ar_olho_dir < min_olho_dir:\n",
    "                min_olho_dir = ar_olho_dir\n",
    "            \n",
    "            info_oe = \"olho esquerdo \" + str(ar_olho_esq) + \" minimo \" + str(min_olho_esq)\n",
    "            info_od = \"olho direito \" + str(ar_olho_dir) + \" minimo \" + str(min_olho_dir)\n",
    "            \n",
    "            frame = anotar_marcos_casca_convexa(frame, marcos_faciais)\n",
    "            \n",
    "            cv2.putText(frame, info_oe, (20, 50), cv2.FONT_HERSHEY_SIMPLEX, 0.5, (255,255,0), 2)\n",
    "            cv2.putText(frame, info_od, (20, 80), cv2.FONT_HERSHEY_SIMPLEX, 0.5, (255,255,0), 2)\n",
    "            \n",
    "        exibir_video(frame)\n",
    "        \n",
    "except KeyboardInterrupt:\n",
    "    video.release()\n",
    "    print(\"Interrompido\")"
   ]
  }
 ],
 "metadata": {
  "kernelspec": {
   "display_name": "Python 3 (ipykernel)",
   "language": "python",
   "name": "python3"
  },
  "language_info": {
   "codemirror_mode": {
    "name": "ipython",
    "version": 3
   },
   "file_extension": ".py",
   "mimetype": "text/x-python",
   "name": "python",
   "nbconvert_exporter": "python",
   "pygments_lexer": "ipython3",
   "version": "3.9.7"
  }
 },
 "nbformat": 4,
 "nbformat_minor": 5
}
