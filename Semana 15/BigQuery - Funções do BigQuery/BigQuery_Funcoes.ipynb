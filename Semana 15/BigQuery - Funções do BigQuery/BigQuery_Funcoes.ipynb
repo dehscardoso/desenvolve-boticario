{
 "cells": [
  {
   "cell_type": "markdown",
   "id": "6cf3b2de",
   "metadata": {},
   "source": [
    "<img src = \"https://images2.imgbox.com/32/ac/wucGkuem_o.png\" width=\"300\">"
   ]
  },
  {
   "cell_type": "code",
   "execution_count": 1,
   "id": "2bb6f88e",
   "metadata": {},
   "outputs": [
    {
     "name": "stdout",
     "output_type": "stream",
     "text": [
      "Note: you may need to restart the kernel to use updated packages.\n"
     ]
    }
   ],
   "source": [
    "%pip install -q google-cloud-bigquery"
   ]
  },
  {
   "cell_type": "code",
   "execution_count": 2,
   "id": "fa012fd1",
   "metadata": {},
   "outputs": [],
   "source": [
    "import os\n",
    "\n",
    "os.environ['GOOGLE_APPLICATION_CREDENTIALS'] = 'modified-ripsaw-343701.json'"
   ]
  },
  {
   "cell_type": "code",
   "execution_count": 3,
   "id": "185cdeff",
   "metadata": {},
   "outputs": [],
   "source": [
    "from google.cloud import bigquery"
   ]
  },
  {
   "cell_type": "code",
   "execution_count": 4,
   "id": "562e3c8d",
   "metadata": {},
   "outputs": [],
   "source": [
    "bigquery_client = bigquery.Client(project='modified-ripsaw-343701')"
   ]
  },
  {
   "cell_type": "code",
   "execution_count": 5,
   "id": "3b4924bd",
   "metadata": {},
   "outputs": [
    {
     "name": "stdout",
     "output_type": "stream",
     "text": [
      "Row(('Sat', 1451, 1018, 0.7015851137146796, 0.7), {'Day': 0, 'numrides': 1, 'oneways': 2, 'frac_oneway': 3, 'frac_noeway_round': 4})\n",
      "Row(('Sun', 2376, 936, 0.3939393939393939, 0.39), {'Day': 0, 'numrides': 1, 'oneways': 2, 'frac_oneway': 3, 'frac_noeway_round': 4})\n"
     ]
    }
   ],
   "source": [
    "QUERY = \"\"\"\n",
    "\n",
    "WITH example AS\n",
    "(SELECT 'Sat' AS Day, 1451 AS numrides, 1018 AS oneways\n",
    "UNION ALL SELECT 'Sun', 2376, 936)\n",
    "SELECT *, (oneways/numrides) as frac_oneway, \n",
    "ROUND(oneways/numrides, 2) AS frac_noeway_round FROM example; \n",
    "\n",
    "\"\"\"\n",
    "\n",
    "query_job = bigquery_client.query(QUERY)\n",
    "for row in query_job.result():  \n",
    "    print(row)"
   ]
  },
  {
   "cell_type": "code",
   "execution_count": 6,
   "id": "a5707a1f",
   "metadata": {},
   "outputs": [
    {
     "name": "stdout",
     "output_type": "stream",
     "text": [
      "Row(('Sat', 1451, 1018, 0.7), {'Day': 0, 'numrides': 1, 'oneways': 2, 'frac_noaway_round': 3})\n",
      "Row(('Sun', 2376, 936, 0.39), {'Day': 0, 'numrides': 1, 'oneways': 2, 'frac_noaway_round': 3})\n",
      "Row(('Wed', 0, 0, nan), {'Day': 0, 'numrides': 1, 'oneways': 2, 'frac_noaway_round': 3})\n"
     ]
    }
   ],
   "source": [
    "QUERY = \"\"\"\n",
    "\n",
    "WITH example AS\n",
    "(SELECT 'Sat' AS Day, 1451 AS numrides, 1018 AS oneways\n",
    "UNION ALL SELECT 'Sun', 2376, 936\n",
    "UNION ALL SELECT 'Wed', 0, 0)\n",
    "SELECT *, ROUND(IEEE_Divide(oneways, numrides), 2) AS frac_noaway_round FROM example;\n",
    "\n",
    "\"\"\"\n",
    "\n",
    "query_job = bigquery_client.query(QUERY)\n",
    "for row in query_job.result():  \n",
    "    print(row)"
   ]
  },
  {
   "cell_type": "code",
   "execution_count": 7,
   "id": "16c01ace",
   "metadata": {},
   "outputs": [
    {
     "name": "stdout",
     "output_type": "stream",
     "text": [
      "Row((None, 2.095903274289385), {'f0_': 0, 'f1_': 1})\n"
     ]
    }
   ],
   "source": [
    "# A função SAFE retorna valor NULL caso haja um erro.\n",
    "\n",
    "QUERY = \"\"\"\n",
    "\n",
    "SELECT SAFE.LOG (10, -3), SAFE.LOG (10, 3);\n",
    "\n",
    "\"\"\"\n",
    "\n",
    "query_job = bigquery_client.query(QUERY)\n",
    "for row in query_job.result():  \n",
    "    print(row)"
   ]
  },
  {
   "cell_type": "code",
   "execution_count": 8,
   "id": "2fdd6fe8",
   "metadata": {},
   "outputs": [
    {
     "name": "stdout",
     "output_type": "stream",
     "text": [
      "Row(('Sat', 1451.0, 1018), {'Day': 0, 'numrides': 1, 'oneways': 2})\n",
      "Row(('Wed', -inf, 0), {'Day': 0, 'numrides': 1, 'oneways': 2})\n"
     ]
    }
   ],
   "source": [
    "QUERY = \"\"\"\n",
    "\n",
    "WITH example AS\n",
    "(SELECT 'Sat' AS Day, 1451 AS numrides, 1018 AS oneways\n",
    "UNION ALL SELECT 'Sun', 2376, 936\n",
    "UNION ALL SELECT 'Mon', NULL, NULL\n",
    "UNION ALL SELECT 'Tue', IEEE_Divide(3 ,0) , 0\n",
    "UNION ALL SELECT 'Wed', IEEE_Divide(-3 ,0) , 0\n",
    ")\n",
    "SELECT * FROM example \n",
    "WHERE numrides < 2000;\n",
    "\n",
    "\"\"\"\n",
    "\n",
    "query_job = bigquery_client.query(QUERY)\n",
    "for row in query_job.result():  \n",
    "    print(row)"
   ]
  },
  {
   "cell_type": "code",
   "execution_count": 9,
   "id": "9de40a78",
   "metadata": {},
   "outputs": [
    {
     "name": "stdout",
     "output_type": "stream",
     "text": [
      "Row((21.549999999999997, 7.183333333333334), {'TOTAL_PAYMENT': 0, 'AVG_PAYMENT': 1})\n"
     ]
    }
   ],
   "source": [
    "# Para melhorar a precisão usamos o comando NUMERIC que converte um FLOAT em um NUMERIC\n",
    "\n",
    "QUERY = \"\"\"\n",
    "\n",
    "WITH example AS \n",
    "(SELECT 1.23 AS PAYMENT\n",
    "UNION ALL SELECT 7.89\n",
    "UNION ALL SELECT 12.43)\n",
    "SELECT SUM(PAYMENT) AS TOTAL_PAYMENT, AVG(PAYMENT) AS AVG_PAYMENT\n",
    "FROM example;\n",
    "\n",
    "\"\"\"\n",
    "\n",
    "query_job = bigquery_client.query(QUERY)\n",
    "for row in query_job.result():  \n",
    "    print(row)"
   ]
  },
  {
   "cell_type": "code",
   "execution_count": 10,
   "id": "1482b503",
   "metadata": {},
   "outputs": [
    {
     "name": "stdout",
     "output_type": "stream",
     "text": [
      "Row((-1.0,), {'f0_': 0})\n"
     ]
    }
   ],
   "source": [
    "# SIGN - retorna um numero 1 ou 0. 1 se for positivo e 0 se for negativo\n",
    "\n",
    "QUERY = \"\"\"\n",
    "\n",
    "SELECT SIGN (-3.45);\n",
    "\n",
    "\"\"\"\n",
    "\n",
    "query_job = bigquery_client.query(QUERY)\n",
    "for row in query_job.result():  \n",
    "    print(row)"
   ]
  },
  {
   "cell_type": "code",
   "execution_count": 11,
   "id": "7f4db60b",
   "metadata": {},
   "outputs": [
    {
     "name": "stdout",
     "output_type": "stream",
     "text": [
      "Row((False, nan), {'f0_': 0, 'f1_': 1})\n"
     ]
    }
   ],
   "source": [
    "# IS_INF checa se o numero é infinito ou não\n",
    "\n",
    "QUERY = \"\"\"\n",
    "\n",
    "SELECT IS_INF(IEEE_DIVIDE(0,0)), IEEE_DIVIDE(0,0);\n",
    "\n",
    "\"\"\"\n",
    "\n",
    "query_job = bigquery_client.query(QUERY)\n",
    "for row in query_job.result():  \n",
    "    print(row)"
   ]
  },
  {
   "cell_type": "code",
   "execution_count": 12,
   "id": "4748af9b",
   "metadata": {},
   "outputs": [
    {
     "name": "stdout",
     "output_type": "stream",
     "text": [
      "Row((False, inf), {'f0_': 0, 'f1_': 1})\n"
     ]
    }
   ],
   "source": [
    "# IS_NAN checa se o numero é NAN ou não\n",
    "\n",
    "QUERY = \"\"\"\n",
    "\n",
    "SELECT IS_NAN(IEEE_DIVIDE(3,0)), IEEE_DIVIDE(3,0);\n",
    "\n",
    "\"\"\"\n",
    "\n",
    "query_job = bigquery_client.query(QUERY)\n",
    "for row in query_job.result():  \n",
    "    print(row)"
   ]
  },
  {
   "cell_type": "code",
   "execution_count": 13,
   "id": "e3c6878b",
   "metadata": {},
   "outputs": [
    {
     "name": "stdout",
     "output_type": "stream",
     "text": [
      "Row((0.3950765775453075,), {'f0_': 0})\n"
     ]
    }
   ],
   "source": [
    "# RAND - Gera um número randomico. entre 0 e 1 (exceto o 1)\n",
    "\n",
    "QUERY = \"\"\"\n",
    "\n",
    "SELECT RAND();\n",
    "\n",
    "\"\"\"\n",
    "\n",
    "query_job = bigquery_client.query(QUERY)\n",
    "for row in query_job.result():  \n",
    "    print(row)"
   ]
  },
  {
   "cell_type": "code",
   "execution_count": 14,
   "id": "634a6c73",
   "metadata": {},
   "outputs": [
    {
     "name": "stdout",
     "output_type": "stream",
     "text": [
      "Row((12.0,), {'f0_': 0})\n"
     ]
    }
   ],
   "source": [
    "# Raiz Quadrada\n",
    "\n",
    "QUERY = \"\"\"\n",
    "\n",
    "SELECT SQRT(144);\n",
    "\n",
    "\"\"\"\n",
    "\n",
    "query_job = bigquery_client.query(QUERY)\n",
    "for row in query_job.result():  \n",
    "    print(row)"
   ]
  },
  {
   "cell_type": "code",
   "execution_count": 18,
   "id": "b8e55af4",
   "metadata": {},
   "outputs": [
    {
     "name": "stdout",
     "output_type": "stream",
     "text": [
      "Row((16.0,), {'f0_': 0})\n"
     ]
    }
   ],
   "source": [
    "#  Elevado a potência\n",
    "\n",
    "QUERY = \"\"\"\n",
    "\n",
    "SELECT POWER (2, 4);\n",
    "\n",
    "\"\"\"\n",
    "\n",
    "query_job = bigquery_client.query(QUERY)\n",
    "for row in query_job.result():  \n",
    "    print(row)"
   ]
  },
  {
   "cell_type": "code",
   "execution_count": 19,
   "id": "d8c3708d",
   "metadata": {},
   "outputs": [
    {
     "name": "stdout",
     "output_type": "stream",
     "text": [
      "Row((0.6989700043360189,), {'f0_': 0})\n"
     ]
    }
   ],
   "source": [
    "QUERY = \"\"\"\n",
    "\n",
    "SELECT LOG10(5);\n",
    "\n",
    "\"\"\"\n",
    "\n",
    "query_job = bigquery_client.query(QUERY)\n",
    "for row in query_job.result():  \n",
    "    print(row)"
   ]
  },
  {
   "cell_type": "code",
   "execution_count": 20,
   "id": "ccd6ccc6",
   "metadata": {},
   "outputs": [
    {
     "name": "stdout",
     "output_type": "stream",
     "text": [
      "Row((8,), {'f0_': 0})\n"
     ]
    }
   ],
   "source": [
    "# Retorna o maior numero dentro de um array\n",
    "\n",
    "QUERY = \"\"\"\n",
    "\n",
    "SELECT GREATEST (1,2,3,3,4,4,5,4,5,6,7,6,5,8,2,3,4);\n",
    "\n",
    "\"\"\"\n",
    "\n",
    "query_job = bigquery_client.query(QUERY)\n",
    "for row in query_job.result():  \n",
    "    print(row)"
   ]
  },
  {
   "cell_type": "code",
   "execution_count": 21,
   "id": "2ff54a79",
   "metadata": {},
   "outputs": [
    {
     "name": "stdout",
     "output_type": "stream",
     "text": [
      "Row((1,), {'f0_': 0})\n"
     ]
    }
   ],
   "source": [
    "# Retorna o maior numero dentro de um array\n",
    "\n",
    "QUERY = \"\"\"\n",
    "\n",
    "SELECT LEAST (1,2,3,3,4,4,5,4,5,6,7,6,5,8,2,3,4);\n",
    "\n",
    "\"\"\"\n",
    "\n",
    "query_job = bigquery_client.query(QUERY)\n",
    "for row in query_job.result():  \n",
    "    print(row)"
   ]
  },
  {
   "cell_type": "code",
   "execution_count": 22,
   "id": "c4de3213",
   "metadata": {},
   "outputs": [
    {
     "name": "stdout",
     "output_type": "stream",
     "text": [
      "Row((None,), {'f0_': 0})\n"
     ]
    }
   ],
   "source": [
    "# EXPRESSÕES MATEMATICAS - SAFE_ADD, SAFE_SUBSTRACT, SAFE_DIVIDE, SAVE_NEGATIVE\n",
    "\n",
    "QUERY = \"\"\"\n",
    "\n",
    "SELECT ((4+5)/3)*10;\n",
    "SELECT SAFE_MULTIPLY (300000000000, 400000000000);\n",
    "\n",
    "\"\"\"\n",
    "\n",
    "query_job = bigquery_client.query(QUERY)\n",
    "for row in query_job.result():  \n",
    "    print(row)"
   ]
  },
  {
   "cell_type": "code",
   "execution_count": 23,
   "id": "c50ad19f",
   "metadata": {},
   "outputs": [
    {
     "name": "stdout",
     "output_type": "stream",
     "text": [
      "Row((1,), {'f0_': 0})\n"
     ]
    }
   ],
   "source": [
    "# MOD\n",
    "\n",
    "QUERY = \"\"\"\n",
    "\n",
    "SELECT MOD (10,3);\n",
    "\n",
    "\"\"\"\n",
    "\n",
    "query_job = bigquery_client.query(QUERY)\n",
    "for row in query_job.result():  \n",
    "    print(row)"
   ]
  },
  {
   "cell_type": "code",
   "execution_count": 24,
   "id": "468c1f72",
   "metadata": {},
   "outputs": [
    {
     "name": "stdout",
     "output_type": "stream",
     "text": [
      "Row((3.4, 3.4), {'f0_': 0, 'f1_': 1})\n"
     ]
    }
   ],
   "source": [
    "QUERY = \"\"\"\n",
    "\n",
    "SELECT ROUND(3.42, 1), TRUNC(3.42, 1);\n",
    "\n",
    "\"\"\"\n",
    "\n",
    "query_job = bigquery_client.query(QUERY)\n",
    "for row in query_job.result():  \n",
    "    print(row)"
   ]
  },
  {
   "cell_type": "code",
   "execution_count": 25,
   "id": "b418643b",
   "metadata": {},
   "outputs": [
    {
     "name": "stdout",
     "output_type": "stream",
     "text": [
      "Row((4.0, 3.0), {'f0_': 0, 'f1_': 1})\n"
     ]
    }
   ],
   "source": [
    "QUERY = \"\"\"\n",
    "\n",
    "SELECT CEIL(3.48), FLOOR(3.48);\n",
    "\n",
    "\"\"\"\n",
    "\n",
    "query_job = bigquery_client.query(QUERY)\n",
    "for row in query_job.result():  \n",
    "    print(row)"
   ]
  },
  {
   "cell_type": "code",
   "execution_count": 26,
   "id": "f375af67",
   "metadata": {},
   "outputs": [
    {
     "name": "stdout",
     "output_type": "stream",
     "text": [
      "Row((1, 5), {'f0_': 0, 'f1_': 1})\n",
      "Row((2, 3), {'f0_': 0, 'f1_': 1})\n",
      "Row((3, 5), {'f0_': 0, 'f1_': 1})\n"
     ]
    }
   ],
   "source": [
    "# QUANTOS ALUNOS EU TENHO ENTRE 10 E 13, ENTRE 13 E 15 E ENTRE 15 E 18?\n",
    "\n",
    "QUERY = \"\"\"\n",
    "\n",
    "WITH Students AS\n",
    "(SELECT 'A1' AS ALUNO, 11 AS AGE\n",
    "UNION ALL SELECT 'A2' , 12\n",
    "UNION ALL SELECT 'A3' , 11\n",
    "UNION ALL SELECT 'A4' , 14\n",
    "UNION ALL SELECT 'A5' , 17\n",
    "UNION ALL SELECT 'A6' , 17\n",
    "UNION ALL SELECT 'A7' , 18\n",
    "UNION ALL SELECT 'A8' , 16\n",
    "UNION ALL SELECT 'A9' , 11\n",
    "UNION ALL SELECT 'A10' , 12\n",
    "UNION ALL SELECT 'A11' , 13\n",
    "UNION ALL SELECT 'A12' , 13\n",
    "UNION ALL SELECT 'A13' , 16)\n",
    "SELECT RANGE_BUCKET( AGE, [9, 13, 15, 19]), COUNT(*) FROM Students\n",
    "GROUP BY 1;\n",
    "\n",
    "\"\"\"\n",
    "\n",
    "query_job = bigquery_client.query(QUERY)\n",
    "for row in query_job.result():  \n",
    "    print(row)"
   ]
  },
  {
   "cell_type": "code",
   "execution_count": 27,
   "id": "d011a01d",
   "metadata": {},
   "outputs": [
    {
     "name": "stdout",
     "output_type": "stream",
     "text": [
      "Row(('male', 371), {'gender': 0, 'tripduration': 1})\n",
      "Row(('male', 1330), {'gender': 0, 'tripduration': 1})\n",
      "Row(('male', 830), {'gender': 0, 'tripduration': 1})\n",
      "Row(('male', 555), {'gender': 0, 'tripduration': 1})\n",
      "Row(('male', 328), {'gender': 0, 'tripduration': 1})\n",
      "Row(('male', 226), {'gender': 0, 'tripduration': 1})\n",
      "Row(('male', 106), {'gender': 0, 'tripduration': 1})\n",
      "Row(('male', 1987), {'gender': 0, 'tripduration': 1})\n",
      "Row(('female', 309), {'gender': 0, 'tripduration': 1})\n",
      "Row(('female', 114), {'gender': 0, 'tripduration': 1})\n",
      "Row(('male', 1009), {'gender': 0, 'tripduration': 1})\n",
      "Row(('male', 326), {'gender': 0, 'tripduration': 1})\n",
      "Row(('male', 273), {'gender': 0, 'tripduration': 1})\n",
      "Row(('male', 772), {'gender': 0, 'tripduration': 1})\n",
      "Row(('male', 721), {'gender': 0, 'tripduration': 1})\n",
      "Row(('male', 271), {'gender': 0, 'tripduration': 1})\n",
      "Row(('male', 889), {'gender': 0, 'tripduration': 1})\n",
      "Row(('male', 924), {'gender': 0, 'tripduration': 1})\n",
      "Row(('male', 675), {'gender': 0, 'tripduration': 1})\n",
      "Row(('male', 637), {'gender': 0, 'tripduration': 1})\n",
      "Row(('male', 355), {'gender': 0, 'tripduration': 1})\n",
      "Row(('male', 441), {'gender': 0, 'tripduration': 1})\n",
      "Row(('male', 211), {'gender': 0, 'tripduration': 1})\n",
      "Row(('male', 1029), {'gender': 0, 'tripduration': 1})\n",
      "Row(('male', 530), {'gender': 0, 'tripduration': 1})\n",
      "Row(('male', 243), {'gender': 0, 'tripduration': 1})\n",
      "Row(('male', 492), {'gender': 0, 'tripduration': 1})\n",
      "Row(('male', 335), {'gender': 0, 'tripduration': 1})\n",
      "Row(('male', 1165), {'gender': 0, 'tripduration': 1})\n",
      "Row(('male', 684), {'gender': 0, 'tripduration': 1})\n",
      "Row(('male', 209), {'gender': 0, 'tripduration': 1})\n",
      "Row(('male', 206), {'gender': 0, 'tripduration': 1})\n",
      "Row(('male', 261), {'gender': 0, 'tripduration': 1})\n",
      "Row(('male', 239), {'gender': 0, 'tripduration': 1})\n",
      "Row(('male', 2536), {'gender': 0, 'tripduration': 1})\n",
      "Row(('male', 436), {'gender': 0, 'tripduration': 1})\n",
      "Row(('male', 1344), {'gender': 0, 'tripduration': 1})\n",
      "Row(('male', 493), {'gender': 0, 'tripduration': 1})\n",
      "Row(('female', 304), {'gender': 0, 'tripduration': 1})\n",
      "Row(('male', 875), {'gender': 0, 'tripduration': 1})\n",
      "Row(('male', 499), {'gender': 0, 'tripduration': 1})\n",
      "Row(('male', 288), {'gender': 0, 'tripduration': 1})\n",
      "Row(('female', 476), {'gender': 0, 'tripduration': 1})\n",
      "Row(('male', 825), {'gender': 0, 'tripduration': 1})\n",
      "Row(('male', 376), {'gender': 0, 'tripduration': 1})\n",
      "Row(('male', 141), {'gender': 0, 'tripduration': 1})\n",
      "Row(('male', 1136), {'gender': 0, 'tripduration': 1})\n",
      "Row(('male', 794), {'gender': 0, 'tripduration': 1})\n",
      "Row(('male', 2395), {'gender': 0, 'tripduration': 1})\n",
      "Row(('male', 922), {'gender': 0, 'tripduration': 1})\n",
      "Row(('male', 1195), {'gender': 0, 'tripduration': 1})\n",
      "Row(('male', 134), {'gender': 0, 'tripduration': 1})\n",
      "Row(('male', 384), {'gender': 0, 'tripduration': 1})\n",
      "Row(('male', 376), {'gender': 0, 'tripduration': 1})\n",
      "Row(('male', 538), {'gender': 0, 'tripduration': 1})\n",
      "Row(('male', 256), {'gender': 0, 'tripduration': 1})\n",
      "Row(('male', 528), {'gender': 0, 'tripduration': 1})\n",
      "Row(('male', 296), {'gender': 0, 'tripduration': 1})\n",
      "Row(('male', 920), {'gender': 0, 'tripduration': 1})\n",
      "Row(('male', 453), {'gender': 0, 'tripduration': 1})\n",
      "Row(('male', 330), {'gender': 0, 'tripduration': 1})\n",
      "Row(('male', 935), {'gender': 0, 'tripduration': 1})\n",
      "Row(('male', 644), {'gender': 0, 'tripduration': 1})\n",
      "Row(('male', 972), {'gender': 0, 'tripduration': 1})\n",
      "Row(('male', 104), {'gender': 0, 'tripduration': 1})\n",
      "Row(('female', 406), {'gender': 0, 'tripduration': 1})\n",
      "Row(('male', 808), {'gender': 0, 'tripduration': 1})\n",
      "Row(('male', 680), {'gender': 0, 'tripduration': 1})\n",
      "Row(('male', 321), {'gender': 0, 'tripduration': 1})\n",
      "Row(('male', 548), {'gender': 0, 'tripduration': 1})\n",
      "Row(('female', 365), {'gender': 0, 'tripduration': 1})\n",
      "Row(('male', 98), {'gender': 0, 'tripduration': 1})\n",
      "Row(('male', 290), {'gender': 0, 'tripduration': 1})\n",
      "Row(('male', 1952), {'gender': 0, 'tripduration': 1})\n",
      "Row(('male', 2625), {'gender': 0, 'tripduration': 1})\n",
      "Row(('male', 521), {'gender': 0, 'tripduration': 1})\n",
      "Row(('male', 282), {'gender': 0, 'tripduration': 1})\n",
      "Row(('male', 391), {'gender': 0, 'tripduration': 1})\n",
      "Row(('male', 460), {'gender': 0, 'tripduration': 1})\n",
      "Row(('male', 525), {'gender': 0, 'tripduration': 1})\n",
      "Row(('male', 279), {'gender': 0, 'tripduration': 1})\n",
      "Row(('male', 277), {'gender': 0, 'tripduration': 1})\n",
      "Row(('male', 1301), {'gender': 0, 'tripduration': 1})\n",
      "Row(('female', 421), {'gender': 0, 'tripduration': 1})\n",
      "Row(('male', 347), {'gender': 0, 'tripduration': 1})\n",
      "Row(('male', 500), {'gender': 0, 'tripduration': 1})\n",
      "Row(('male', 245), {'gender': 0, 'tripduration': 1})\n",
      "Row(('male', 215), {'gender': 0, 'tripduration': 1})\n",
      "Row(('male', 904), {'gender': 0, 'tripduration': 1})\n",
      "Row(('male', 324), {'gender': 0, 'tripduration': 1})\n",
      "Row(('male', 299), {'gender': 0, 'tripduration': 1})\n",
      "Row(('male', 448), {'gender': 0, 'tripduration': 1})\n",
      "Row(('female', 400), {'gender': 0, 'tripduration': 1})\n",
      "Row(('male', 927), {'gender': 0, 'tripduration': 1})\n",
      "Row(('male', 738), {'gender': 0, 'tripduration': 1})\n",
      "Row(('male', 1227), {'gender': 0, 'tripduration': 1})\n",
      "Row(('male', 385), {'gender': 0, 'tripduration': 1})\n",
      "Row(('female', 230), {'gender': 0, 'tripduration': 1})\n",
      "Row(('male', 648), {'gender': 0, 'tripduration': 1})\n",
      "Row(('male', 1278), {'gender': 0, 'tripduration': 1})\n"
     ]
    }
   ],
   "source": [
    "QUERY = \"\"\"\n",
    "\n",
    "SELECT\n",
    "  gender, tripduration\n",
    "FROM\n",
    "  `bigquery-public-data`.new_york_citibike.citibike_trips\n",
    "  WHERE (tripduration < 600 AND gender = 'female') OR gender = 'male'\n",
    "  LIMIT 100;\n",
    "\n",
    "\"\"\"\n",
    "\n",
    "query_job = bigquery_client.query(QUERY)\n",
    "for row in query_job.result():  \n",
    "    print(row)"
   ]
  },
  {
   "cell_type": "code",
   "execution_count": 28,
   "id": "603f4b72",
   "metadata": {},
   "outputs": [
    {
     "name": "stdout",
     "output_type": "stream",
     "text": [
      "Row((True, 'a', 1), {'is_valid': 0, 'letter': 1, 'position': 2})\n",
      "Row((False, 'b', 2), {'is_valid': 0, 'letter': 1, 'position': 2})\n",
      "Row((False, 'c', 3), {'is_valid': 0, 'letter': 1, 'position': 2})\n"
     ]
    }
   ],
   "source": [
    "QUERY = \"\"\"\n",
    "\n",
    "WITH example AS (\n",
    "  SELECT true AS is_valid, 'a' as letter, 1 as position\n",
    "  UNION ALL SELECT false , 'b', 2\n",
    "  UNION ALL SELECT false , 'c', 3\n",
    ")\n",
    "SELECT * FROM example;\n",
    "\n",
    "\"\"\"\n",
    "\n",
    "query_job = bigquery_client.query(QUERY)\n",
    "for row in query_job.result():  \n",
    "    print(row)"
   ]
  },
  {
   "cell_type": "code",
   "execution_count": 29,
   "id": "888a88b4",
   "metadata": {},
   "outputs": [
    {
     "name": "stdout",
     "output_type": "stream",
     "text": [
      "Row((True, 'a', 1), {'is_valid': 0, 'letter': 1, 'position': 2})\n"
     ]
    }
   ],
   "source": [
    "QUERY = \"\"\"\n",
    "\n",
    "WITH example AS (\n",
    "  SELECT true AS is_valid, 'a' as letter, 1 as position\n",
    "  UNION ALL SELECT false , 'b', 2\n",
    "  UNION ALL SELECT false , 'c', 3\n",
    ")\n",
    "SELECT * FROM example WHERE is_valid != false AND position > 0;\n",
    "\n",
    "\"\"\"\n",
    "\n",
    "query_job = bigquery_client.query(QUERY)\n",
    "for row in query_job.result():  \n",
    "    print(row)"
   ]
  },
  {
   "cell_type": "code",
   "execution_count": 30,
   "id": "31b1976d",
   "metadata": {},
   "outputs": [
    {
     "name": "stdout",
     "output_type": "stream",
     "text": [
      "Row((True, 'a', 1), {'is_valid': 0, 'letter': 1, 'position': 2})\n"
     ]
    }
   ],
   "source": [
    "QUERY = \"\"\"\n",
    "\n",
    "WITH example AS (\n",
    "  SELECT true AS is_valid, 'a' as letter, 1 as position\n",
    "  UNION ALL SELECT false , 'b', 2\n",
    "  UNION ALL SELECT false , 'c', 3)\n",
    "SELECT * FROM example WHERE is_valid AND position > 0;\n",
    "\n",
    "\"\"\"\n",
    "\n",
    "query_job = bigquery_client.query(QUERY)\n",
    "for row in query_job.result():  \n",
    "    print(row)"
   ]
  },
  {
   "cell_type": "code",
   "execution_count": 31,
   "id": "6a0463f8",
   "metadata": {},
   "outputs": [
    {
     "name": "stdout",
     "output_type": "stream",
     "text": [
      "Row(('female', 238), {'gender': 0, 'tripduration': 1})\n",
      "Row(('female', 389), {'gender': 0, 'tripduration': 1})\n",
      "Row(('female', 397), {'gender': 0, 'tripduration': 1})\n",
      "Row(('female', 385), {'gender': 0, 'tripduration': 1})\n",
      "Row(('female', 499), {'gender': 0, 'tripduration': 1})\n",
      "Row(('female', 277), {'gender': 0, 'tripduration': 1})\n",
      "Row(('female', 549), {'gender': 0, 'tripduration': 1})\n",
      "Row(('female', 588), {'gender': 0, 'tripduration': 1})\n",
      "Row(('female', 309), {'gender': 0, 'tripduration': 1})\n",
      "Row(('female', 213), {'gender': 0, 'tripduration': 1})\n",
      "Row(('female', 350), {'gender': 0, 'tripduration': 1})\n",
      "Row(('female', 486), {'gender': 0, 'tripduration': 1})\n",
      "Row(('female', 262), {'gender': 0, 'tripduration': 1})\n",
      "Row(('female', 498), {'gender': 0, 'tripduration': 1})\n",
      "Row(('female', 400), {'gender': 0, 'tripduration': 1})\n",
      "Row(('female', 476), {'gender': 0, 'tripduration': 1})\n",
      "Row(('female', 410), {'gender': 0, 'tripduration': 1})\n",
      "Row(('female', 574), {'gender': 0, 'tripduration': 1})\n",
      "Row(('female', 106), {'gender': 0, 'tripduration': 1})\n",
      "Row(('female', 538), {'gender': 0, 'tripduration': 1})\n",
      "Row(('female', 291), {'gender': 0, 'tripduration': 1})\n",
      "Row(('female', 151), {'gender': 0, 'tripduration': 1})\n",
      "Row(('female', 529), {'gender': 0, 'tripduration': 1})\n",
      "Row(('female', 232), {'gender': 0, 'tripduration': 1})\n",
      "Row(('female', 356), {'gender': 0, 'tripduration': 1})\n",
      "Row(('female', 568), {'gender': 0, 'tripduration': 1})\n",
      "Row(('female', 140), {'gender': 0, 'tripduration': 1})\n",
      "Row(('female', 296), {'gender': 0, 'tripduration': 1})\n",
      "Row(('female', 280), {'gender': 0, 'tripduration': 1})\n",
      "Row(('female', 193), {'gender': 0, 'tripduration': 1})\n",
      "Row(('female', 62), {'gender': 0, 'tripduration': 1})\n",
      "Row(('female', 456), {'gender': 0, 'tripduration': 1})\n",
      "Row(('female', 288), {'gender': 0, 'tripduration': 1})\n",
      "Row(('female', 381), {'gender': 0, 'tripduration': 1})\n",
      "Row(('female', 159), {'gender': 0, 'tripduration': 1})\n",
      "Row(('female', 290), {'gender': 0, 'tripduration': 1})\n",
      "Row(('female', 363), {'gender': 0, 'tripduration': 1})\n",
      "Row(('female', 259), {'gender': 0, 'tripduration': 1})\n",
      "Row(('female', 141), {'gender': 0, 'tripduration': 1})\n",
      "Row(('female', 290), {'gender': 0, 'tripduration': 1})\n",
      "Row(('female', 194), {'gender': 0, 'tripduration': 1})\n",
      "Row(('female', 414), {'gender': 0, 'tripduration': 1})\n",
      "Row(('female', 335), {'gender': 0, 'tripduration': 1})\n",
      "Row(('female', 457), {'gender': 0, 'tripduration': 1})\n",
      "Row(('female', 491), {'gender': 0, 'tripduration': 1})\n",
      "Row(('female', 468), {'gender': 0, 'tripduration': 1})\n",
      "Row(('female', 210), {'gender': 0, 'tripduration': 1})\n",
      "Row(('female', 341), {'gender': 0, 'tripduration': 1})\n",
      "Row(('female', 401), {'gender': 0, 'tripduration': 1})\n",
      "Row(('female', 161), {'gender': 0, 'tripduration': 1})\n",
      "Row(('female', 159), {'gender': 0, 'tripduration': 1})\n",
      "Row(('female', 193), {'gender': 0, 'tripduration': 1})\n",
      "Row(('female', 95), {'gender': 0, 'tripduration': 1})\n",
      "Row(('female', 228), {'gender': 0, 'tripduration': 1})\n",
      "Row(('female', 314), {'gender': 0, 'tripduration': 1})\n",
      "Row(('female', 371), {'gender': 0, 'tripduration': 1})\n",
      "Row(('female', 97), {'gender': 0, 'tripduration': 1})\n",
      "Row(('female', 303), {'gender': 0, 'tripduration': 1})\n",
      "Row(('female', 544), {'gender': 0, 'tripduration': 1})\n",
      "Row(('female', 599), {'gender': 0, 'tripduration': 1})\n",
      "Row(('female', 595), {'gender': 0, 'tripduration': 1})\n",
      "Row(('female', 301), {'gender': 0, 'tripduration': 1})\n",
      "Row(('female', 511), {'gender': 0, 'tripduration': 1})\n",
      "Row(('female', 231), {'gender': 0, 'tripduration': 1})\n",
      "Row(('female', 407), {'gender': 0, 'tripduration': 1})\n",
      "Row(('female', 472), {'gender': 0, 'tripduration': 1})\n",
      "Row(('female', 270), {'gender': 0, 'tripduration': 1})\n",
      "Row(('female', 594), {'gender': 0, 'tripduration': 1})\n",
      "Row(('female', 365), {'gender': 0, 'tripduration': 1})\n",
      "Row(('female', 238), {'gender': 0, 'tripduration': 1})\n",
      "Row(('female', 581), {'gender': 0, 'tripduration': 1})\n",
      "Row(('female', 406), {'gender': 0, 'tripduration': 1})\n",
      "Row(('female', 490), {'gender': 0, 'tripduration': 1})\n",
      "Row(('female', 191), {'gender': 0, 'tripduration': 1})\n",
      "Row(('female', 275), {'gender': 0, 'tripduration': 1})\n",
      "Row(('female', 171), {'gender': 0, 'tripduration': 1})\n",
      "Row(('female', 402), {'gender': 0, 'tripduration': 1})\n",
      "Row(('female', 480), {'gender': 0, 'tripduration': 1})\n",
      "Row(('female', 540), {'gender': 0, 'tripduration': 1})\n",
      "Row(('female', 421), {'gender': 0, 'tripduration': 1})\n",
      "Row(('female', 203), {'gender': 0, 'tripduration': 1})\n",
      "Row(('female', 183), {'gender': 0, 'tripduration': 1})\n",
      "Row(('female', 406), {'gender': 0, 'tripduration': 1})\n",
      "Row(('female', 210), {'gender': 0, 'tripduration': 1})\n",
      "Row(('female', 485), {'gender': 0, 'tripduration': 1})\n",
      "Row(('female', 160), {'gender': 0, 'tripduration': 1})\n",
      "Row(('female', 573), {'gender': 0, 'tripduration': 1})\n",
      "Row(('female', 400), {'gender': 0, 'tripduration': 1})\n",
      "Row(('female', 349), {'gender': 0, 'tripduration': 1})\n",
      "Row(('female', 460), {'gender': 0, 'tripduration': 1})\n",
      "Row(('female', 248), {'gender': 0, 'tripduration': 1})\n",
      "Row(('female', 345), {'gender': 0, 'tripduration': 1})\n",
      "Row(('female', 310), {'gender': 0, 'tripduration': 1})\n",
      "Row(('female', 413), {'gender': 0, 'tripduration': 1})\n",
      "Row(('female', 378), {'gender': 0, 'tripduration': 1})\n",
      "Row(('female', 292), {'gender': 0, 'tripduration': 1})\n",
      "Row(('female', 445), {'gender': 0, 'tripduration': 1})\n",
      "Row(('female', 350), {'gender': 0, 'tripduration': 1})\n",
      "Row(('female', 83), {'gender': 0, 'tripduration': 1})\n",
      "Row(('female', 510), {'gender': 0, 'tripduration': 1})\n"
     ]
    }
   ],
   "source": [
    "QUERY = \"\"\"\n",
    "\n",
    "SELECT\n",
    "  gender, tripduration\n",
    "FROM\n",
    "  `bigquery-public-data`.new_york_citibike.citibike_trips\n",
    "  WHERE (tripduration < 600 AND gender = 'female') \n",
    "  LIMIT 100;\n",
    "\n",
    "\"\"\"\n",
    "\n",
    "query_job = bigquery_client.query(QUERY)\n",
    "for row in query_job.result():  \n",
    "    print(row)"
   ]
  },
  {
   "cell_type": "code",
   "execution_count": 32,
   "id": "aee6a375",
   "metadata": {},
   "outputs": [
    {
     "name": "stdout",
     "output_type": "stream",
     "text": [
      "Row(('female', 238), {'gender': 0, 'tripduration': 1})\n",
      "Row(('female', 389), {'gender': 0, 'tripduration': 1})\n",
      "Row(('female', 397), {'gender': 0, 'tripduration': 1})\n",
      "Row(('female', 385), {'gender': 0, 'tripduration': 1})\n",
      "Row(('female', 499), {'gender': 0, 'tripduration': 1})\n",
      "Row(('female', 277), {'gender': 0, 'tripduration': 1})\n",
      "Row(('female', 549), {'gender': 0, 'tripduration': 1})\n",
      "Row(('female', 588), {'gender': 0, 'tripduration': 1})\n",
      "Row(('female', 309), {'gender': 0, 'tripduration': 1})\n",
      "Row(('female', 213), {'gender': 0, 'tripduration': 1})\n",
      "Row(('female', 350), {'gender': 0, 'tripduration': 1})\n",
      "Row(('female', 486), {'gender': 0, 'tripduration': 1})\n",
      "Row(('female', 262), {'gender': 0, 'tripduration': 1})\n",
      "Row(('female', 498), {'gender': 0, 'tripduration': 1})\n",
      "Row(('female', 400), {'gender': 0, 'tripduration': 1})\n",
      "Row(('female', 476), {'gender': 0, 'tripduration': 1})\n",
      "Row(('female', 410), {'gender': 0, 'tripduration': 1})\n",
      "Row(('female', 574), {'gender': 0, 'tripduration': 1})\n",
      "Row(('female', 106), {'gender': 0, 'tripduration': 1})\n",
      "Row(('female', 538), {'gender': 0, 'tripduration': 1})\n",
      "Row(('female', 291), {'gender': 0, 'tripduration': 1})\n",
      "Row(('female', 151), {'gender': 0, 'tripduration': 1})\n",
      "Row(('female', 529), {'gender': 0, 'tripduration': 1})\n",
      "Row(('female', 232), {'gender': 0, 'tripduration': 1})\n",
      "Row(('female', 356), {'gender': 0, 'tripduration': 1})\n",
      "Row(('female', 568), {'gender': 0, 'tripduration': 1})\n",
      "Row(('female', 140), {'gender': 0, 'tripduration': 1})\n",
      "Row(('female', 296), {'gender': 0, 'tripduration': 1})\n",
      "Row(('female', 280), {'gender': 0, 'tripduration': 1})\n",
      "Row(('female', 193), {'gender': 0, 'tripduration': 1})\n",
      "Row(('female', 62), {'gender': 0, 'tripduration': 1})\n",
      "Row(('female', 456), {'gender': 0, 'tripduration': 1})\n",
      "Row(('female', 288), {'gender': 0, 'tripduration': 1})\n",
      "Row(('female', 381), {'gender': 0, 'tripduration': 1})\n",
      "Row(('female', 159), {'gender': 0, 'tripduration': 1})\n",
      "Row(('female', 290), {'gender': 0, 'tripduration': 1})\n",
      "Row(('female', 363), {'gender': 0, 'tripduration': 1})\n",
      "Row(('female', 259), {'gender': 0, 'tripduration': 1})\n",
      "Row(('female', 141), {'gender': 0, 'tripduration': 1})\n",
      "Row(('female', 290), {'gender': 0, 'tripduration': 1})\n",
      "Row(('female', 194), {'gender': 0, 'tripduration': 1})\n",
      "Row(('female', 414), {'gender': 0, 'tripduration': 1})\n",
      "Row(('female', 335), {'gender': 0, 'tripduration': 1})\n",
      "Row(('female', 457), {'gender': 0, 'tripduration': 1})\n",
      "Row(('female', 491), {'gender': 0, 'tripduration': 1})\n",
      "Row(('female', 468), {'gender': 0, 'tripduration': 1})\n",
      "Row(('female', 210), {'gender': 0, 'tripduration': 1})\n",
      "Row(('female', 341), {'gender': 0, 'tripduration': 1})\n",
      "Row(('female', 401), {'gender': 0, 'tripduration': 1})\n",
      "Row(('female', 161), {'gender': 0, 'tripduration': 1})\n",
      "Row(('female', 159), {'gender': 0, 'tripduration': 1})\n",
      "Row(('female', 193), {'gender': 0, 'tripduration': 1})\n",
      "Row(('female', 95), {'gender': 0, 'tripduration': 1})\n",
      "Row(('female', 228), {'gender': 0, 'tripduration': 1})\n",
      "Row(('female', 314), {'gender': 0, 'tripduration': 1})\n",
      "Row(('female', 371), {'gender': 0, 'tripduration': 1})\n",
      "Row(('female', 97), {'gender': 0, 'tripduration': 1})\n",
      "Row(('female', 303), {'gender': 0, 'tripduration': 1})\n",
      "Row(('female', 544), {'gender': 0, 'tripduration': 1})\n",
      "Row(('female', 599), {'gender': 0, 'tripduration': 1})\n",
      "Row(('female', 595), {'gender': 0, 'tripduration': 1})\n",
      "Row(('female', 301), {'gender': 0, 'tripduration': 1})\n",
      "Row(('female', 511), {'gender': 0, 'tripduration': 1})\n",
      "Row(('female', 231), {'gender': 0, 'tripduration': 1})\n",
      "Row(('female', 407), {'gender': 0, 'tripduration': 1})\n",
      "Row(('female', 472), {'gender': 0, 'tripduration': 1})\n",
      "Row(('female', 270), {'gender': 0, 'tripduration': 1})\n",
      "Row(('female', 594), {'gender': 0, 'tripduration': 1})\n",
      "Row(('female', 365), {'gender': 0, 'tripduration': 1})\n",
      "Row(('female', 238), {'gender': 0, 'tripduration': 1})\n",
      "Row(('female', 581), {'gender': 0, 'tripduration': 1})\n",
      "Row(('female', 406), {'gender': 0, 'tripduration': 1})\n",
      "Row(('female', 490), {'gender': 0, 'tripduration': 1})\n",
      "Row(('female', 191), {'gender': 0, 'tripduration': 1})\n",
      "Row(('female', 275), {'gender': 0, 'tripduration': 1})\n",
      "Row(('female', 171), {'gender': 0, 'tripduration': 1})\n",
      "Row(('female', 402), {'gender': 0, 'tripduration': 1})\n",
      "Row(('female', 480), {'gender': 0, 'tripduration': 1})\n",
      "Row(('female', 540), {'gender': 0, 'tripduration': 1})\n",
      "Row(('female', 421), {'gender': 0, 'tripduration': 1})\n",
      "Row(('female', 203), {'gender': 0, 'tripduration': 1})\n",
      "Row(('female', 183), {'gender': 0, 'tripduration': 1})\n",
      "Row(('female', 406), {'gender': 0, 'tripduration': 1})\n",
      "Row(('female', 210), {'gender': 0, 'tripduration': 1})\n",
      "Row(('female', 485), {'gender': 0, 'tripduration': 1})\n",
      "Row(('female', 160), {'gender': 0, 'tripduration': 1})\n",
      "Row(('female', 573), {'gender': 0, 'tripduration': 1})\n",
      "Row(('female', 400), {'gender': 0, 'tripduration': 1})\n",
      "Row(('female', 349), {'gender': 0, 'tripduration': 1})\n",
      "Row(('female', 460), {'gender': 0, 'tripduration': 1})\n",
      "Row(('female', 248), {'gender': 0, 'tripduration': 1})\n",
      "Row(('female', 345), {'gender': 0, 'tripduration': 1})\n",
      "Row(('female', 310), {'gender': 0, 'tripduration': 1})\n",
      "Row(('female', 413), {'gender': 0, 'tripduration': 1})\n",
      "Row(('female', 378), {'gender': 0, 'tripduration': 1})\n",
      "Row(('female', 292), {'gender': 0, 'tripduration': 1})\n",
      "Row(('female', 445), {'gender': 0, 'tripduration': 1})\n",
      "Row(('female', 350), {'gender': 0, 'tripduration': 1})\n",
      "Row(('female', 83), {'gender': 0, 'tripduration': 1})\n",
      "Row(('female', 510), {'gender': 0, 'tripduration': 1})\n"
     ]
    }
   ],
   "source": [
    "QUERY = \"\"\"\n",
    "\n",
    "SELECT\n",
    "  gender, tripduration\n",
    "FROM\n",
    "  `bigquery-public-data`.new_york_citibike.citibike_trips\n",
    "  WHERE (tripduration < 600 AND gender = 'female') = true\n",
    "  LIMIT 100;\n",
    "\n",
    "\"\"\"\n",
    "\n",
    "query_job = bigquery_client.query(QUERY)\n",
    "for row in query_job.result():  \n",
    "    print(row)"
   ]
  },
  {
   "cell_type": "code",
   "execution_count": 33,
   "id": "d0e091c1",
   "metadata": {},
   "outputs": [
    {
     "name": "stdout",
     "output_type": "stream",
     "text": [
      "Row((30.0, 0.15, 0.1), {'costPrice': 0, 'margin': 1, 'taxRate': 2})\n",
      "Row((None, 0.21, 0.15), {'costPrice': 0, 'margin': 1, 'taxRate': 2})\n",
      "Row((30.0, None, 0.09), {'costPrice': 0, 'margin': 1, 'taxRate': 2})\n",
      "Row((30.0, 0.3, None), {'costPrice': 0, 'margin': 1, 'taxRate': 2})\n",
      "Row((30.0, None, None), {'costPrice': 0, 'margin': 1, 'taxRate': 2})\n"
     ]
    }
   ],
   "source": [
    "QUERY = \"\"\"\n",
    "\n",
    "WITH catalog AS (\n",
    "  SELECT 30.0 AS costPrice, 0.15 as margin, 0.1 as taxRate\n",
    "  UNION ALL SELECT NULL, 0.21, 0.15\n",
    "  UNION ALL SELECT 30.0, NULL, 0.09\n",
    "  UNION ALL SELECT 30.0, 0.30, NULL\n",
    "  UNION ALL SELECT 30.0, NULL, NULL\n",
    ")\n",
    "SELECT * FROM catalog;\n",
    "\n",
    "\"\"\"\n",
    "\n",
    "query_job = bigquery_client.query(QUERY)\n",
    "for row in query_job.result():  \n",
    "    print(row)"
   ]
  },
  {
   "cell_type": "code",
   "execution_count": 34,
   "id": "c148936a",
   "metadata": {},
   "outputs": [
    {
     "name": "stdout",
     "output_type": "stream",
     "text": [
      "Row((0.45,), {'FORMULA': 0})\n",
      "Row((0.94,), {'FORMULA': 0})\n",
      "Row((0.27,), {'FORMULA': 0})\n",
      "Row((1.35,), {'FORMULA': 0})\n",
      "Row((0.45,), {'FORMULA': 0})\n"
     ]
    }
   ],
   "source": [
    "QUERY = \"\"\"\n",
    "\n",
    "WITH catalog AS (\n",
    "  SELECT 30.0 AS costPrice, 0.15 as margin, 0.1 as taxRate\n",
    "  UNION ALL SELECT NULL, 0.21, 0.15\n",
    "  UNION ALL SELECT 30.0, NULL, 0.09\n",
    "  UNION ALL SELECT 30.0, 0.30, NULL\n",
    "  UNION ALL SELECT 30.0, NULL, NULL\n",
    ")\n",
    "SELECT ROUND (\n",
    "  IF (costPrice IS NULL, 30.0, costPrice) * \n",
    "  IF (margin IS NULL, 0.10, margin) * \n",
    "  IF (taxrate IS NULL, 0.15, taxrate) , 2\n",
    ") as FORMULA FROM catalog;\n",
    "\n",
    "\"\"\"\n",
    "\n",
    "query_job = bigquery_client.query(QUERY)\n",
    "for row in query_job.result():  \n",
    "    print(row)"
   ]
  },
  {
   "cell_type": "code",
   "execution_count": 35,
   "id": "6b2afe62",
   "metadata": {},
   "outputs": [
    {
     "name": "stdout",
     "output_type": "stream",
     "text": [
      "Row(('A',), {'f0_': 0})\n"
     ]
    }
   ],
   "source": [
    "QUERY = \"\"\"\n",
    "\n",
    "SELECT COALESCE ('A', 'B', 'C');\n",
    "\n",
    "\"\"\"\n",
    "\n",
    "query_job = bigquery_client.query(QUERY)\n",
    "for row in query_job.result():  \n",
    "    print(row)"
   ]
  },
  {
   "cell_type": "code",
   "execution_count": 36,
   "id": "e5993278",
   "metadata": {},
   "outputs": [
    {
     "name": "stdout",
     "output_type": "stream",
     "text": [
      "Row(('B',), {'f0_': 0})\n"
     ]
    }
   ],
   "source": [
    "QUERY = \"\"\"\n",
    "\n",
    "SELECT COALESCE (NULL, 'B', 'C');\n",
    "\n",
    "\"\"\"\n",
    "\n",
    "query_job = bigquery_client.query(QUERY)\n",
    "for row in query_job.result():  \n",
    "    print(row)"
   ]
  },
  {
   "cell_type": "code",
   "execution_count": 37,
   "id": "80ad01f7",
   "metadata": {},
   "outputs": [
    {
     "name": "stdout",
     "output_type": "stream",
     "text": [
      "Row((0.45, 0.45), {'FORMULA1': 0, 'FORMULA2': 1})\n",
      "Row((0.945, 0.945), {'FORMULA1': 0, 'FORMULA2': 1})\n",
      "Row((0.27, 0.27), {'FORMULA1': 0, 'FORMULA2': 1})\n",
      "Row((1.3499999999999999, 1.3499999999999999), {'FORMULA1': 0, 'FORMULA2': 1})\n",
      "Row((0.30000000000000004, 0.30000000000000004), {'FORMULA1': 0, 'FORMULA2': 1})\n"
     ]
    }
   ],
   "source": [
    "QUERY = \"\"\"\n",
    "\n",
    "WITH catalog AS (\n",
    "  SELECT 30.0 AS costPrice, 0.15 as margin, 0.1 as taxRate\n",
    "  UNION ALL SELECT NULL, 0.21, 0.15\n",
    "  UNION ALL SELECT 30.0, NULL, 0.09\n",
    "  UNION ALL SELECT 30.0, 0.30, NULL\n",
    "  UNION ALL SELECT 30.0, NULL, 0.10\n",
    ")\n",
    "SELECT \n",
    "  IF (costPrice IS NULL, 30.0, costPrice) * \n",
    "  IF (margin IS NULL, 0.10, margin) * \n",
    "  IF (taxrate IS NULL, 0.15, taxrate) \n",
    "  as FORMULA1 ,\n",
    "  COALESCE (\n",
    "    costPrice * margin * taxrate, \n",
    "    30.0 * margin * taxrate, \n",
    "    costprice * 0.10 * taxrate, \n",
    "    costPrice * margin * 0.15\n",
    "  ) as FORMULA2 FROM catalog;\n",
    "\n",
    "\"\"\"\n",
    "\n",
    "query_job = bigquery_client.query(QUERY)\n",
    "for row in query_job.result():  \n",
    "    print(row)"
   ]
  },
  {
   "cell_type": "code",
   "execution_count": 38,
   "id": "095e91da",
   "metadata": {},
   "outputs": [
    {
     "name": "stdout",
     "output_type": "stream",
     "text": [
      "Row((180,), {'TOTAL': 0})\n"
     ]
    }
   ],
   "source": [
    "QUERY = \"\"\"\n",
    "\n",
    "WITH example AS (\n",
    "    SELECT 'Jonh' AS employee, 'Doente' as Hours_work\n",
    "    UNION ALL SELECT 'Jean', '100'\n",
    "    UNION ALL SELECT 'Peter', 'De férias'\n",
    "    UNION ALL SELECT 'Mary', '80'\n",
    ")\n",
    "SELECT SUM (SAFE_CAST(Hours_work AS INT64)) AS TOTAL FROM example;\n",
    "\n",
    "\"\"\"\n",
    "\n",
    "query_job = bigquery_client.query(QUERY)\n",
    "for row in query_job.result():  \n",
    "    print(row)"
   ]
  },
  {
   "cell_type": "code",
   "execution_count": 39,
   "id": "b327f325",
   "metadata": {},
   "outputs": [
    {
     "name": "stdout",
     "output_type": "stream",
     "text": [
      "Row((90, 2, 'green'), {'A': 0, 'B': 1, 'Color': 2})\n",
      "Row((50, 8, 'blue'), {'A': 0, 'B': 1, 'Color': 2})\n",
      "Row((60, 6, 'green'), {'A': 0, 'B': 1, 'Color': 2})\n",
      "Row((50, 10, 'blue'), {'A': 0, 'B': 1, 'Color': 2})\n"
     ]
    }
   ],
   "source": [
    "QUERY = \"\"\"\n",
    "\n",
    "WITH Numbers AS (\n",
    "    SELECT 90 as A, 2 as B\n",
    "    UNION ALL SELECT 50, 8\n",
    "    UNION ALL SELECT 60, 6\n",
    "    UNION ALL SELECT 50, 10\n",
    ")\n",
    "SELECT A, B, \n",
    "    CASE \n",
    "        WHEN (A = 90 AND B > 10) THEN 'red'\n",
    "        WHEN A = 50 THEN 'blue'\n",
    "        ELSE 'green' END AS Color\n",
    "    FROM Numbers;\n",
    "\n",
    "\"\"\"\n",
    "\n",
    "query_job = bigquery_client.query(QUERY)\n",
    "for row in query_job.result():  \n",
    "    print(row)"
   ]
  },
  {
   "cell_type": "code",
   "execution_count": 40,
   "id": "2354545a",
   "metadata": {},
   "outputs": [
    {
     "name": "stdout",
     "output_type": "stream",
     "text": [
      "Row(('A1', 1, '1'), {'ALUNO': 0, 'f0_': 1, 'f1_': 2})\n",
      "Row(('A2', 1, '1'), {'ALUNO': 0, 'f0_': 1, 'f1_': 2})\n",
      "Row(('A3', 1, '1'), {'ALUNO': 0, 'f0_': 1, 'f1_': 2})\n",
      "Row(('A4', 2, '2'), {'ALUNO': 0, 'f0_': 1, 'f1_': 2})\n",
      "Row(('A5', 3, '3'), {'ALUNO': 0, 'f0_': 1, 'f1_': 2})\n",
      "Row(('A6', 3, '3'), {'ALUNO': 0, 'f0_': 1, 'f1_': 2})\n",
      "Row(('A7', 4, '4'), {'ALUNO': 0, 'f0_': 1, 'f1_': 2})\n",
      "Row(('A8', 3, '3'), {'ALUNO': 0, 'f0_': 1, 'f1_': 2})\n",
      "Row(('A9', 1, '1'), {'ALUNO': 0, 'f0_': 1, 'f1_': 2})\n",
      "Row(('A10', 1, '1'), {'ALUNO': 0, 'f0_': 1, 'f1_': 2})\n",
      "Row(('A11', 2, '2'), {'ALUNO': 0, 'f0_': 1, 'f1_': 2})\n",
      "Row(('A12', 2, '2'), {'ALUNO': 0, 'f0_': 1, 'f1_': 2})\n",
      "Row(('A13', 3, '3'), {'ALUNO': 0, 'f0_': 1, 'f1_': 2})\n"
     ]
    }
   ],
   "source": [
    "QUERY = \"\"\"\n",
    "\n",
    "WITH Students AS\n",
    "(SELECT 'A1' AS ALUNO, 11 AS AGE\n",
    "UNION ALL SELECT 'A2' , 12\n",
    "UNION ALL SELECT 'A3' , 11\n",
    "UNION ALL SELECT 'A4' , 14\n",
    "UNION ALL SELECT 'A5' , 17\n",
    "UNION ALL SELECT 'A6' , 17\n",
    "UNION ALL SELECT 'A7' , 18\n",
    "UNION ALL SELECT 'A8' , 16\n",
    "UNION ALL SELECT 'A9' , 11\n",
    "UNION ALL SELECT 'A10' , 12\n",
    "UNION ALL SELECT 'A11' , 13\n",
    "UNION ALL SELECT 'A12' , 13\n",
    "UNION ALL SELECT 'A13' , 16)\n",
    "SELECT ALUNO, RANGE_BUCKET( AGE, [9, 13, 15, 18]),\n",
    "CASE \n",
    "  WHEN AGE >= 9 AND AGE < 13 THEN '1'\n",
    "  WHEN AGE >= 13 AND AGE < 15 THEN '2'\n",
    "  WHEN AGE >= 15 AND AGE < 18 THEN '3'\n",
    "  ELSE '4' END \n",
    "FROM Students;\n",
    "\n",
    "\"\"\"\n",
    "\n",
    "query_job = bigquery_client.query(QUERY)\n",
    "for row in query_job.result():  \n",
    "    print(row)"
   ]
  },
  {
   "cell_type": "code",
   "execution_count": 41,
   "id": "cd0d5086",
   "metadata": {},
   "outputs": [
    {
     "name": "stdout",
     "output_type": "stream",
     "text": [
      "Row(('foo',), {'f0_': 0})\n",
      "Row(('bar',), {'f0_': 0})\n",
      "Row(('baz',), {'f0_': 0})\n"
     ]
    }
   ],
   "source": [
    "QUERY = \"\"\"\n",
    "\n",
    "WITH items AS\n",
    " (SELECT 'FOO' AS ITEM\n",
    " UNION ALL SELECT 'BAR'\n",
    " UNION ALL SELECT 'BAZ')\n",
    " SELECT LOWER(ITEM) FROM items;\n",
    "\n",
    "\"\"\"\n",
    "\n",
    "query_job = bigquery_client.query(QUERY)\n",
    "for row in query_job.result():  \n",
    "    print(row)"
   ]
  },
  {
   "cell_type": "code",
   "execution_count": 42,
   "id": "1c5b7c9d",
   "metadata": {},
   "outputs": [
    {
     "name": "stdout",
     "output_type": "stream",
     "text": [
      "Row(('FOO',), {'f0_': 0})\n",
      "Row(('BAR',), {'f0_': 0})\n",
      "Row(('BAZ',), {'f0_': 0})\n"
     ]
    }
   ],
   "source": [
    "QUERY = \"\"\"\n",
    "\n",
    "WITH items AS\n",
    " (SELECT 'foo' AS ITEM\n",
    " UNION ALL SELECT 'bar'\n",
    " UNION ALL SELECT 'baz')\n",
    " SELECT UPPER(ITEM) FROM items;\n",
    "\n",
    "\"\"\"\n",
    "\n",
    "query_job = bigquery_client.query(QUERY)\n",
    "for row in query_job.result():  \n",
    "    print(row)"
   ]
  },
  {
   "cell_type": "code",
   "execution_count": 43,
   "id": "fb0b9bac",
   "metadata": {},
   "outputs": [
    {
     "name": "stdout",
     "output_type": "stream",
     "text": [
      "Row(('Alo Mundo-todo mundo!', 'Alo Mundo-Todo Mundo!'), {'FRASES': 0, 'f0_': 1})\n",
      "Row(('o cachorro TORNADO é alegre+manso', 'O Cachorro Tornado É Alegre+Manso'), {'FRASES': 0, 'f0_': 1})\n",
      "Row(('maça&laranja&pera', 'Maça&Laranja&Pera'), {'FRASES': 0, 'f0_': 1})\n",
      "Row(('tata ta tavendo a tatia', 'Tata Ta Tavendo A Tatia'), {'FRASES': 0, 'f0_': 1})\n"
     ]
    }
   ],
   "source": [
    "QUERY = \"\"\"\n",
    "\n",
    "WITH examples AS\n",
    " (SELECT \"Alo Mundo-todo mundo!\" AS FRASES\n",
    " UNION ALL SELECT \"o cachorro TORNADO é alegre+manso\"\n",
    " UNION ALL SELECT \"maça&laranja&pera\"\n",
    " UNION ALL SELECT \"tata ta tavendo a tatia\")\n",
    " SELECT FRASES, INITCAP(FRASES) FROM examples;\n",
    "\n",
    "\"\"\"\n",
    "\n",
    "query_job = bigquery_client.query(QUERY)\n",
    "for row in query_job.result():  \n",
    "    print(row)"
   ]
  },
  {
   "cell_type": "code",
   "execution_count": 44,
   "id": "9452792b",
   "metadata": {},
   "outputs": [
    {
     "name": "stdout",
     "output_type": "stream",
     "text": [
      "Row(('Alo Mundo-todo mundo!', 'Alo Mundo-Todo Mundo!', 'Alo Mundo-todo Mundo!'), {'FRASES': 0, 'f0_': 1, 'f1_': 2})\n",
      "Row(('o cachorro TORNADO é alegre+manso', 'O Cachorro Tornado É Alegre+Manso', 'O cachorro tornado é alegre+Manso'), {'FRASES': 0, 'f0_': 1, 'f1_': 2})\n",
      "Row(('maça&laranja&pera', 'Maça&Laranja&Pera', 'Maça&Laranja&Pera'), {'FRASES': 0, 'f0_': 1, 'f1_': 2})\n",
      "Row(('tata ta tavendo a tatia', 'Tata Ta Tavendo A Tatia', 'tAtA tA tAvendo a tAtIa'), {'FRASES': 0, 'f0_': 1, 'f1_': 2})\n"
     ]
    }
   ],
   "source": [
    "QUERY = \"\"\"\n",
    "\n",
    "WITH examples AS\n",
    " (SELECT \"Alo Mundo-todo mundo!\" AS FRASES, \" \" AS DELIMITER\n",
    " UNION ALL SELECT \"o cachorro TORNADO é alegre+manso\", \"+\"\n",
    " UNION ALL SELECT \"maça&laranja&pera\", \"&\"\n",
    " UNION ALL SELECT \"tata ta tavendo a tatia\", \"t\")\n",
    " SELECT FRASES, INITCAP(FRASES), INITCAP(FRASES, DELIMITER) FROM examples;\n",
    "\n",
    "\"\"\"\n",
    "\n",
    "query_job = bigquery_client.query(QUERY)\n",
    "for row in query_job.result():  \n",
    "    print(row)"
   ]
  },
  {
   "cell_type": "code",
   "execution_count": 45,
   "id": "cb3e5807",
   "metadata": {},
   "outputs": [
    {
     "name": "stdout",
     "output_type": "stream",
     "text": [
      "Row(('     MAÇA     ', 'MAÇA     ', '     MAÇA', 'MAÇA'), {'ITEM': 0, 'f0_': 1, 'f1_': 2, 'f2_': 3})\n",
      "Row(('     BANANA     ', 'BANANA     ', '     BANANA', 'BANANA'), {'ITEM': 0, 'f0_': 1, 'f1_': 2, 'f2_': 3})\n",
      "Row(('     LARANJA     ', 'LARANJA     ', '     LARANJA', 'LARANJA'), {'ITEM': 0, 'f0_': 1, 'f1_': 2, 'f2_': 3})\n"
     ]
    }
   ],
   "source": [
    "QUERY = \"\"\"\n",
    "\n",
    "WITH items AS\n",
    " (SELECT \"     MAÇA     \" AS ITEM\n",
    " UNION ALL SELECT \"     BANANA     \"\n",
    " UNION ALL SELECT \"     LARANJA     \")\n",
    " SELECT ITEM, LTRIM(ITEM), RTRIM(ITEM), TRIM(ITEM) FROM items;\n",
    "\n",
    "\"\"\"\n",
    "\n",
    "query_job = bigquery_client.query(QUERY)\n",
    "for row in query_job.result():  \n",
    "    print(row)"
   ]
  },
  {
   "cell_type": "code",
   "execution_count": 46,
   "id": "26d850a0",
   "metadata": {},
   "outputs": [
    {
     "name": "stdout",
     "output_type": "stream",
     "text": [
      "Row(('MAÇA', 'MA', 'ÇA'), {'f0_': 0, 'f1_': 1, 'f2_': 2})\n",
      "Row(('BANANA', 'BA', 'NA'), {'f0_': 0, 'f1_': 1, 'f2_': 2})\n",
      "Row(('LARANJA', 'LA', 'JA'), {'f0_': 0, 'f1_': 1, 'f2_': 2})\n"
     ]
    }
   ],
   "source": [
    "QUERY = \"\"\"\n",
    "\n",
    "WITH items AS\n",
    " (SELECT \"     MAÇA     \" AS ITEM\n",
    " UNION ALL SELECT \"     BANANA     \"\n",
    " UNION ALL SELECT \"     LARANJA     \")\n",
    " SELECT TRIM(ITEM), LEFT(TRIM(ITEM), 2), RIGHT(TRIM(ITEM),2) FROM items;\n",
    "\n",
    "\"\"\"\n",
    "\n",
    "query_job = bigquery_client.query(QUERY)\n",
    "for row in query_job.result():  \n",
    "    print(row)"
   ]
  },
  {
   "cell_type": "code",
   "execution_count": 47,
   "id": "78f19d62",
   "metadata": {},
   "outputs": [
    {
     "name": "stdout",
     "output_type": "stream",
     "text": [
      "Row(('DR Carlos Junior',), {'f0_': 0})\n",
      "Row(('SR Marcos Almeida',), {'f0_': 0})\n",
      "Row(('DR Mario Costa',), {'f0_': 0})\n",
      "Row(('MS Maria Rosa',), {'f0_': 0})\n"
     ]
    }
   ],
   "source": [
    "QUERY = \"\"\"\n",
    "\n",
    "WITH examples AS\n",
    "(SELECT \"DR\" AS Titulo, \"Carlos\" as NOME, \"Junior\" as SOBRENOME\n",
    "UNION ALL SELECT \"SR\", \"Marcos\", \"Almeida\"\n",
    "UNION ALL SELECT \"DR\" , \"Mario\", \"Costa\"\n",
    "UNION ALL SELECT \"MS\" , \"Maria\", \"Rosa\")\n",
    "SELECT CONCAT (Titulo, \" \", Nome, \" \", Sobrenome) FROM examples;\n",
    "\n",
    "\"\"\"\n",
    "\n",
    "query_job = bigquery_client.query(QUERY)\n",
    "for row in query_job.result():  \n",
    "    print(row)"
   ]
  },
  {
   "cell_type": "code",
   "execution_count": 48,
   "id": "353197bf",
   "metadata": {},
   "outputs": [
    {
     "name": "stdout",
     "output_type": "stream",
     "text": [
      "Row(('DR Carlos Junior', 16), {'f0_': 0, 'f1_': 1})\n",
      "Row(('SR Marcos Almeida', 17), {'f0_': 0, 'f1_': 1})\n",
      "Row(('DR Mario Costa', 14), {'f0_': 0, 'f1_': 1})\n",
      "Row(('MS Maria Rosa', 13), {'f0_': 0, 'f1_': 1})\n"
     ]
    }
   ],
   "source": [
    "QUERY = \"\"\"\n",
    "\n",
    "WITH examples AS\n",
    "(SELECT \"DR\" AS Titulo, \"Carlos\" as NOME, \"Junior\" as SOBRENOME\n",
    "UNION ALL SELECT \"SR\", \"Marcos\", \"Almeida\"\n",
    "UNION ALL SELECT \"DR\" , \"Mario\", \"Costa\"\n",
    "UNION ALL SELECT \"MS\" , \"Maria\", \"Rosa\")\n",
    "SELECT CONCAT (Titulo, \" \", Nome, \" \", Sobrenome), \n",
    "CHAR_LENGTH(CONCAT (Titulo, \" \", Nome, \" \", Sobrenome)) FROM examples;\n",
    "\n",
    "\"\"\"\n",
    "\n",
    "query_job = bigquery_client.query(QUERY)\n",
    "for row in query_job.result():  \n",
    "    print(row)"
   ]
  },
  {
   "cell_type": "code",
   "execution_count": 49,
   "id": "6644d393",
   "metadata": {},
   "outputs": [
    {
     "name": "stdout",
     "output_type": "stream",
     "text": [
      "Row(('DR Carlos Junior', 16, True, False), {'f0_': 0, 'f1_': 1, 'f2_': 2, 'f3_': 3})\n",
      "Row(('SR Marcos Almeida', 17, False, False), {'f0_': 0, 'f1_': 1, 'f2_': 2, 'f3_': 3})\n",
      "Row(('DR Mario Costa', 14, True, False), {'f0_': 0, 'f1_': 1, 'f2_': 2, 'f3_': 3})\n",
      "Row(('MS Maria Rosa', 13, False, False), {'f0_': 0, 'f1_': 1, 'f2_': 2, 'f3_': 3})\n"
     ]
    }
   ],
   "source": [
    "QUERY = \"\"\"\n",
    "\n",
    "WITH examples AS\n",
    "(SELECT \"DR\" AS Titulo, \"Carlos\" as NOME, \"Junior\" as SOBRENOME\n",
    "UNION ALL SELECT \"SR\", \"Marcos\", \"Almeida\"\n",
    "UNION ALL SELECT \"DR\" , \"Mario\", \"Costa\"\n",
    "UNION ALL SELECT \"MS\" , \"Maria\", \"Rosa\")\n",
    "SELECT CONCAT (Titulo, \" \", Nome, \" \", Sobrenome), \n",
    "CHAR_LENGTH(CONCAT (Titulo, \" \", Nome, \" \", Sobrenome)),\n",
    "STARTS_WITH(CONCAT (Titulo, \" \", Nome, \" \", Sobrenome), \"DR\"), \n",
    "ENDS_WITH(CONCAT (Titulo, \" \", Nome, \" \", Sobrenome), \"Dr\") FROM examples;\n",
    "\n",
    "\"\"\"\n",
    "\n",
    "query_job = bigquery_client.query(QUERY)\n",
    "for row in query_job.result():  \n",
    "    print(row)"
   ]
  },
  {
   "cell_type": "code",
   "execution_count": 50,
   "id": "6a2e6493",
   "metadata": {},
   "outputs": [
    {
     "name": "stdout",
     "output_type": "stream",
     "text": [
      "Row(('banana', 'an', 1, 1, 2), {'source_value': 0, 'search_value': 1, 'position': 2, 'occcurrence': 3, 'f0_': 4})\n",
      "Row(('banana', 'an', 3, 1, 4), {'source_value': 0, 'search_value': 1, 'position': 2, 'occcurrence': 3, 'f0_': 4})\n",
      "Row(('banana', 'xx', 1, 2, 0), {'source_value': 0, 'search_value': 1, 'position': 2, 'occcurrence': 3, 'f0_': 4})\n"
     ]
    }
   ],
   "source": [
    "QUERY = \"\"\"\n",
    "\n",
    "WITH example AS\n",
    "(SELECT 'banana' AS source_value, 'an' AS search_value, 1 as position, 1 as occcurrence\n",
    "UNION ALL SELECT 'banana' AS source_value, 'an' AS search_value, 3 as position, 1 as occcurrence\n",
    "UNION ALL SELECT 'banana' AS source_value, 'xx' AS search_value, 1 as position, 2 as occcurrence)\n",
    "SELECT *, INSTR(source_value, search_value, position, occcurrence) FROM example;\n",
    "\n",
    "\"\"\"\n",
    "\n",
    "query_job = bigquery_client.query(QUERY)\n",
    "for row in query_job.result():  \n",
    "    print(row)"
   ]
  },
  {
   "cell_type": "code",
   "execution_count": 51,
   "id": "3797bb88",
   "metadata": {},
   "outputs": [
    {
     "name": "stdout",
     "output_type": "stream",
     "text": [
      "Row(('banana', 'nan'), {'source_value': 0, 'f0_': 1})\n",
      "Row(('melancia', 'lan'), {'source_value': 0, 'f0_': 1})\n",
      "Row(('tangerina', 'nge'), {'source_value': 0, 'f0_': 1})\n"
     ]
    }
   ],
   "source": [
    "QUERY = \"\"\"\n",
    "\n",
    "WITH example AS\n",
    "(SELECT 'banana' AS source_value,\n",
    "UNION ALL SELECT 'melancia'\n",
    "UNION ALL SELECT 'tangerina')\n",
    "SELECT source_value, SUBSTR(source_value,3,3) FROM example;\n",
    "\n",
    "\"\"\"\n",
    "\n",
    "query_job = bigquery_client.query(QUERY)\n",
    "for row in query_job.result():  \n",
    "    print(row)"
   ]
  },
  {
   "cell_type": "code",
   "execution_count": 52,
   "id": "e1926af8",
   "metadata": {},
   "outputs": [
    {
     "name": "stdout",
     "output_type": "stream",
     "text": [
      "Row(('banana', 'nana'), {'source_value': 0, 'f0_': 1})\n",
      "Row(('melancia', 'lancia'), {'source_value': 0, 'f0_': 1})\n",
      "Row(('tangerina', 'ngerina'), {'source_value': 0, 'f0_': 1})\n"
     ]
    }
   ],
   "source": [
    "QUERY = \"\"\"\n",
    "\n",
    "WITH example AS\n",
    "(SELECT 'banana' AS source_value,\n",
    "UNION ALL SELECT 'melancia'\n",
    "UNION ALL SELECT 'tangerina')\n",
    "SELECT source_value, SUBSTR(source_value,3) FROM example;\n",
    "\n",
    "\"\"\"\n",
    "\n",
    "query_job = bigquery_client.query(QUERY)\n",
    "for row in query_job.result():  \n",
    "    print(row)"
   ]
  },
  {
   "cell_type": "code",
   "execution_count": 53,
   "id": "47cbc5c3",
   "metadata": {},
   "outputs": [
    {
     "name": "stdout",
     "output_type": "stream",
     "text": [
      "Row(('foo@example.com', 4), {'source_value': 0, 'f0_': 1})\n",
      "Row(('victor@gmail.com', 7), {'source_value': 0, 'f0_': 1})\n",
      "Row(('quexample@brazil.com', 10), {'source_value': 0, 'f0_': 1})\n"
     ]
    }
   ],
   "source": [
    "QUERY = \"\"\"\n",
    "\n",
    "WITH example AS\n",
    "(SELECT 'foo@example.com' AS source_value,\n",
    "UNION ALL SELECT 'victor@gmail.com'\n",
    "UNION ALL SELECT 'quexample@brazil.com')\n",
    "SELECT source_value, STRPOS(source_value, \"@\") FROM example;\n",
    "\n",
    "\"\"\"\n",
    "\n",
    "query_job = bigquery_client.query(QUERY)\n",
    "for row in query_job.result():  \n",
    "    print(row)"
   ]
  },
  {
   "cell_type": "code",
   "execution_count": 54,
   "id": "4c9c35f1",
   "metadata": {},
   "outputs": [
    {
     "name": "stdout",
     "output_type": "stream",
     "text": [
      "Row(('foo@example.com', 'foo'), {'source_value': 0, 'f0_': 1})\n",
      "Row(('victor@gmail.com', 'victor'), {'source_value': 0, 'f0_': 1})\n",
      "Row(('quexample@brazil.com', 'quexample'), {'source_value': 0, 'f0_': 1})\n"
     ]
    }
   ],
   "source": [
    "QUERY = \"\"\"\n",
    "\n",
    "WITH example AS\n",
    "(SELECT 'foo@example.com' AS source_value,\n",
    "UNION ALL SELECT 'victor@gmail.com'\n",
    "UNION ALL SELECT 'quexample@brazil.com')\n",
    "SELECT source_value, SUBSTR(source_value,1, STRPOS(source_value, \"@\") - 1) FROM example;\n",
    "\n",
    "\"\"\"\n",
    "\n",
    "query_job = bigquery_client.query(QUERY)\n",
    "for row in query_job.result():  \n",
    "    print(row)"
   ]
  },
  {
   "cell_type": "code",
   "execution_count": 55,
   "id": "c786d5be",
   "metadata": {},
   "outputs": [
    {
     "name": "stdout",
     "output_type": "stream",
     "text": [
      "Row(('foo@example.com', 'moc.elpmaxe@oof'), {'source_value': 0, 'f0_': 1})\n",
      "Row(('victor@gmail.com', 'moc.liamg@rotciv'), {'source_value': 0, 'f0_': 1})\n",
      "Row(('quexample@brazil.com', 'moc.lizarb@elpmaxeuq'), {'source_value': 0, 'f0_': 1})\n"
     ]
    }
   ],
   "source": [
    "QUERY = \"\"\"\n",
    "\n",
    "WITH example AS\n",
    "(SELECT 'foo@example.com' AS source_value,\n",
    "UNION ALL SELECT 'victor@gmail.com'\n",
    "UNION ALL SELECT 'quexample@brazil.com')\n",
    "SELECT source_value, REVERSE(source_value) FROM example;\n",
    "\n",
    "\"\"\"\n",
    "\n",
    "query_job = bigquery_client.query(QUERY)\n",
    "for row in query_job.result():  \n",
    "    print(row)"
   ]
  },
  {
   "cell_type": "code",
   "execution_count": 56,
   "id": "61349056",
   "metadata": {},
   "outputs": [
    {
     "name": "stdout",
     "output_type": "stream",
     "text": [
      "Row(('foo@example.com', 'fooXXXXXXexample.com'), {'source_value': 0, 'f0_': 1})\n",
      "Row(('victor@gmail.com', 'victorXXXXXXgmail.com'), {'source_value': 0, 'f0_': 1})\n",
      "Row(('quexample@brazil.com', 'quexampleXXXXXXbrazil.com'), {'source_value': 0, 'f0_': 1})\n"
     ]
    }
   ],
   "source": [
    "QUERY = \"\"\"\n",
    "\n",
    "WITH example AS\n",
    "(SELECT 'foo@example.com' AS source_value,\n",
    "UNION ALL SELECT 'victor@gmail.com'\n",
    "UNION ALL SELECT 'quexample@brazil.com')\n",
    "SELECT source_value, REPLACE(source_value, \"@\",\"XXXXXX\") FROM example;\n",
    "\n",
    "\"\"\"\n",
    "\n",
    "query_job = bigquery_client.query(QUERY)\n",
    "for row in query_job.result():  \n",
    "    print(row)"
   ]
  },
  {
   "cell_type": "code",
   "execution_count": 57,
   "id": "1299abfb",
   "metadata": {},
   "outputs": [
    {
     "name": "stdout",
     "output_type": "stream",
     "text": [
      "Row(('foo@example.com', ['foo', 'example.com']), {'source_value': 0, 'f0_': 1})\n",
      "Row(('victor@gmail.com', ['victor', 'gmail.com']), {'source_value': 0, 'f0_': 1})\n",
      "Row(('quexample@brazil.com', ['quexample', 'brazil.com']), {'source_value': 0, 'f0_': 1})\n"
     ]
    }
   ],
   "source": [
    "QUERY = \"\"\"\n",
    "\n",
    "WITH example AS\n",
    "(SELECT 'foo@example.com' AS source_value,\n",
    "UNION ALL SELECT 'victor@gmail.com'\n",
    "UNION ALL SELECT 'quexample@brazil.com')\n",
    "SELECT source_value, SPLIT(source_value, \"@\") FROM example;\n",
    "\n",
    "\"\"\"\n",
    "\n",
    "query_job = bigquery_client.query(QUERY)\n",
    "for row in query_job.result():  \n",
    "    print(row)"
   ]
  },
  {
   "cell_type": "code",
   "execution_count": 58,
   "id": "c3ce1244",
   "metadata": {},
   "outputs": [
    {
     "name": "stdout",
     "output_type": "stream",
     "text": [
      "Row(('22222-22', False, None, None, [], '22222-22'), {'FIELD': 0, 'TEM_CEP': 1, 'CEP': 2, 'CEP2': 3, 'CEP3': 4, 'CEP2_1': 5})\n",
      "Row(('     22222-222  ', True, '22222-222', None, ['22222-222'], '     XXXXX-XXX  '), {'FIELD': 0, 'TEM_CEP': 1, 'CEP': 2, 'CEP2': 3, 'CEP3': 4, 'CEP2_1': 5})\n",
      "Row(('Meu CEP é 222222-22', False, None, None, [], 'Meu CEP é 222222-22'), {'FIELD': 0, 'TEM_CEP': 1, 'CEP': 2, 'CEP2': 3, 'CEP3': 4, 'CEP2_1': 5})\n",
      "Row(('Do CEP 22222-222 ATÉ O 22333-222', True, '22222-222', '22333-222', ['22222-222', '22333-222'], 'Do CEP XXXXX-XXX ATÉ O XXXXX-XXX'), {'FIELD': 0, 'TEM_CEP': 1, 'CEP': 2, 'CEP2': 3, 'CEP3': 4, 'CEP2_1': 5})\n"
     ]
    }
   ],
   "source": [
    "QUERY = \"\"\"\n",
    "\n",
    "SELECT FIELD,\n",
    "REGEXP_CONTAINS(FIELD, r'[0-9]{5}-[0-9]{3}') AS TEM_CEP,\n",
    "REGEXP_EXTRACT(FIELD, r'[0-9]{5}-[0-9]{3}', 1, 1) AS CEP,\n",
    "REGEXP_EXTRACT(FIELD, r'[0-9]{5}-[0-9]{3}', 1, 2) AS CEP2,\n",
    "REGEXP_EXTRACT_ALL(FIELD, r'[0-9]{5}-[0-9]{3}') AS CEP3,\n",
    "REGEXP_REPLACE(FIELD, r'[0-9]{5}-[0-9]{3}', 'XXXXX-XXX') AS CEP2,\n",
    "FROM\n",
    "(SELECT * from UNNEST\n",
    "([\"22222-22\",\"     22222-222  \",\"Meu CEP é 222222-22\", \"Do CEP 22222-222 ATÉ O 22333-222\"]) AS FIELD);\n",
    "\n",
    "\"\"\"\n",
    "\n",
    "query_job = bigquery_client.query(QUERY)\n",
    "for row in query_job.result():  \n",
    "    print(row)"
   ]
  },
  {
   "cell_type": "code",
   "execution_count": 59,
   "id": "75d11642",
   "metadata": {},
   "outputs": [
    {
     "name": "stdout",
     "output_type": "stream",
     "text": [
      "Row((datetime.datetime(2022, 3, 11, 15, 27, 41, 97948), datetime.datetime(2022, 3, 11, 15, 27, 41, 97948, tzinfo=datetime.timezone.utc), datetime.date(2022, 3, 11), datetime.time(15, 27, 41, 97948)), {'f0_': 0, 'f1_': 1, 'f2_': 2, 'f3_': 3})\n"
     ]
    }
   ],
   "source": [
    "QUERY = \"\"\"\n",
    "\n",
    "SELECT CURRENT_DATETIME,\n",
    "CURRENT_TIMESTAMP,\n",
    "CURRENT_DATE,\n",
    "CURRENT_TIME;\n",
    "\n",
    "\"\"\"\n",
    "\n",
    "query_job = bigquery_client.query(QUERY)\n",
    "for row in query_job.result():  \n",
    "    print(row)"
   ]
  },
  {
   "cell_type": "code",
   "execution_count": 60,
   "id": "ce6e68d2",
   "metadata": {},
   "outputs": [
    {
     "name": "stdout",
     "output_type": "stream",
     "text": [
      "Row((datetime.datetime(2022, 3, 11, 12, 27, 46, 883916), datetime.datetime(2022, 3, 11, 15, 27, 46, 883916), datetime.datetime(2022, 3, 11, 15, 27, 46, 883916, tzinfo=datetime.timezone.utc), datetime.date(2022, 3, 11), datetime.time(15, 27, 46, 883916)), {'f0_': 0, 'f1_': 1, 'f2_': 2, 'f3_': 3, 'f4_': 4})\n"
     ]
    }
   ],
   "source": [
    "QUERY = \"\"\"\n",
    "\n",
    "SELECT CURRENT_DATETIME('America/Sao_Paulo'),\n",
    "CURRENT_DATETIME('Europe/London'),\n",
    "CURRENT_TIMESTAMP,\n",
    "CURRENT_DATE,\n",
    "CURRENT_TIME;\n",
    "\n",
    "\"\"\"\n",
    "\n",
    "query_job = bigquery_client.query(QUERY)\n",
    "for row in query_job.result():  \n",
    "    print(row)"
   ]
  },
  {
   "cell_type": "code",
   "execution_count": 61,
   "id": "e6fb57e0",
   "metadata": {},
   "outputs": [
    {
     "name": "stdout",
     "output_type": "stream",
     "text": [
      "Row((datetime.datetime(2020, 7, 1, 10, 0, tzinfo=datetime.timezone.utc), datetime.datetime(2020, 7, 1, 10, 0), datetime.date(2020, 7, 1), datetime.time(10, 0)), {'f0_': 0, 'f1_': 1, 'f2_': 2, 'f3_': 3})\n"
     ]
    }
   ],
   "source": [
    "QUERY = \"\"\"\n",
    "\n",
    "SELECT TIMESTAMP('2020-07-01 10:00:00'),\n",
    "DATETIME (2020, 7, 1, 10, 0 , 0),\n",
    "DATE(2020, 7, 1),\n",
    "TIME(10,0,0);\n",
    "\n",
    "\"\"\"\n",
    "\n",
    "query_job = bigquery_client.query(QUERY)\n",
    "for row in query_job.result():  \n",
    "    print(row)"
   ]
  },
  {
   "cell_type": "code",
   "execution_count": 62,
   "id": "09e3a8b1",
   "metadata": {},
   "outputs": [
    {
     "name": "stdout",
     "output_type": "stream",
     "text": [
      "Row((datetime.date(2020, 7, 1), datetime.datetime(2020, 7, 1, 10, 0), datetime.time(10, 0)), {'f0_': 0, 'f1_': 1, 'f2_': 2})\n"
     ]
    }
   ],
   "source": [
    "QUERY = \"\"\"\n",
    "\n",
    "SELECT DATE(TIMESTAMP('2020-07-01 10:00:00')),\n",
    "DATETIME(TIMESTAMP('2020-07-01 10:00:00')),\n",
    "TIME(TIMESTAMP('2020-07-01 10:00:00'));\n",
    "\n",
    "\"\"\"\n",
    "\n",
    "query_job = bigquery_client.query(QUERY)\n",
    "for row in query_job.result():  \n",
    "    print(row)"
   ]
  },
  {
   "cell_type": "code",
   "execution_count": 63,
   "id": "d86c3dd9",
   "metadata": {},
   "outputs": [
    {
     "name": "stdout",
     "output_type": "stream",
     "text": [
      "Row((datetime.date(2008, 12, 30), datetime.date(2012, 12, 25), datetime.datetime(2022, 3, 11, 16, 14, 26, 962880, tzinfo=datetime.timezone.utc)), {'CINCO_DIAS_DEPOIS': 0, 'QUATRO_ANOS_DEPOIS': 1, 'QUARENTA_CINCO_MINUTOS_DEPOIS': 2})\n"
     ]
    }
   ],
   "source": [
    "QUERY = \"\"\"\n",
    "\n",
    "SELECT \n",
    "  DATE_ADD (DATE(2008, 12, 25), INTERVAL 5 DAY) AS CINCO_DIAS_DEPOIS,\n",
    "  DATE_ADD (DATE(2008, 12, 25), INTERVAL 4 YEAR) AS QUATRO_ANOS_DEPOIS,\n",
    "  TIMESTAMP_ADD (CURRENT_TIMESTAMP, INTERVAL 45 MINUTE) AS QUARENTA_CINCO_MINUTOS_DEPOIS;\n",
    "\n",
    "\"\"\"\n",
    "\n",
    "query_job = bigquery_client.query(QUERY)\n",
    "for row in query_job.result():  \n",
    "    print(row)"
   ]
  },
  {
   "cell_type": "code",
   "execution_count": 64,
   "id": "fe76f246",
   "metadata": {},
   "outputs": [
    {
     "name": "stdout",
     "output_type": "stream",
     "text": [
      "Row((datetime.date(2008, 12, 20), datetime.date(2004, 12, 25), datetime.datetime(2022, 3, 11, 14, 44, 28, 471148, tzinfo=datetime.timezone.utc)), {'CINCO_DIAS_ANTES': 0, 'QUATRO_ANOS_ANTES': 1, 'QUARENTA_CINCO_MINUTOS_ANTES': 2})\n"
     ]
    }
   ],
   "source": [
    "QUERY = \"\"\"\n",
    "\n",
    "SELECT \n",
    "  DATE_SUB (DATE(2008, 12, 25), INTERVAL 5 DAY) AS CINCO_DIAS_ANTES,\n",
    "  DATE_SUB (DATE(2008, 12, 25), INTERVAL 4 YEAR) AS QUATRO_ANOS_ANTES,\n",
    "  TIMESTAMP_SUB (CURRENT_TIMESTAMP, INTERVAL 45 MINUTE) AS QUARENTA_CINCO_MINUTOS_ANTES;\n",
    "\n",
    "\"\"\"\n",
    "\n",
    "query_job = bigquery_client.query(QUERY)\n",
    "for row in query_job.result():  \n",
    "    print(row)"
   ]
  },
  {
   "cell_type": "code",
   "execution_count": 65,
   "id": "ef824c67",
   "metadata": {},
   "outputs": [
    {
     "name": "stdout",
     "output_type": "stream",
     "text": [
      "Row((831, 890249), {'f0_': 0, 'f1_': 1})\n"
     ]
    }
   ],
   "source": [
    "QUERY = \"\"\"\n",
    "\n",
    "SELECT \n",
    "  DATE_DIFF (DATE(2010,12,25), DATE(2008, 9, 15), DAY),\n",
    "  DATETIME_DIFF (CURRENT_DATETIME, DATETIME(TIMESTAMP('2020-07-01 10:00:00')), MINUTE);\n",
    "\n",
    "\"\"\"\n",
    "\n",
    "query_job = bigquery_client.query(QUERY)\n",
    "for row in query_job.result():  \n",
    "    print(row)"
   ]
  },
  {
   "cell_type": "code",
   "execution_count": 66,
   "id": "4d5d3350",
   "metadata": {},
   "outputs": [
    {
     "name": "stdout",
     "output_type": "stream",
     "text": [
      "Row((datetime.date(2015, 12, 23), 12, 23, 2015, 4), {'DATA': 0, 'MES': 1, 'DIA': 2, 'ANO': 3, 'SEMANA': 4})\n",
      "Row((datetime.date(2015, 12, 24), 12, 24, 2015, 5), {'DATA': 0, 'MES': 1, 'DIA': 2, 'ANO': 3, 'SEMANA': 4})\n",
      "Row((datetime.date(2015, 12, 25), 12, 25, 2015, 6), {'DATA': 0, 'MES': 1, 'DIA': 2, 'ANO': 3, 'SEMANA': 4})\n",
      "Row((datetime.date(2015, 12, 26), 12, 26, 2015, 7), {'DATA': 0, 'MES': 1, 'DIA': 2, 'ANO': 3, 'SEMANA': 4})\n",
      "Row((datetime.date(2015, 12, 27), 12, 27, 2015, 1), {'DATA': 0, 'MES': 1, 'DIA': 2, 'ANO': 3, 'SEMANA': 4})\n",
      "Row((datetime.date(2015, 12, 28), 12, 28, 2015, 2), {'DATA': 0, 'MES': 1, 'DIA': 2, 'ANO': 3, 'SEMANA': 4})\n",
      "Row((datetime.date(2015, 12, 29), 12, 29, 2015, 3), {'DATA': 0, 'MES': 1, 'DIA': 2, 'ANO': 3, 'SEMANA': 4})\n",
      "Row((datetime.date(2015, 12, 30), 12, 30, 2015, 4), {'DATA': 0, 'MES': 1, 'DIA': 2, 'ANO': 3, 'SEMANA': 4})\n",
      "Row((datetime.date(2015, 12, 31), 12, 31, 2015, 5), {'DATA': 0, 'MES': 1, 'DIA': 2, 'ANO': 3, 'SEMANA': 4})\n",
      "Row((datetime.date(2016, 1, 1), 1, 1, 2016, 6), {'DATA': 0, 'MES': 1, 'DIA': 2, 'ANO': 3, 'SEMANA': 4})\n",
      "Row((datetime.date(2016, 1, 2), 1, 2, 2016, 7), {'DATA': 0, 'MES': 1, 'DIA': 2, 'ANO': 3, 'SEMANA': 4})\n",
      "Row((datetime.date(2016, 1, 3), 1, 3, 2016, 1), {'DATA': 0, 'MES': 1, 'DIA': 2, 'ANO': 3, 'SEMANA': 4})\n",
      "Row((datetime.date(2016, 1, 4), 1, 4, 2016, 2), {'DATA': 0, 'MES': 1, 'DIA': 2, 'ANO': 3, 'SEMANA': 4})\n",
      "Row((datetime.date(2016, 1, 5), 1, 5, 2016, 3), {'DATA': 0, 'MES': 1, 'DIA': 2, 'ANO': 3, 'SEMANA': 4})\n",
      "Row((datetime.date(2016, 1, 6), 1, 6, 2016, 4), {'DATA': 0, 'MES': 1, 'DIA': 2, 'ANO': 3, 'SEMANA': 4})\n",
      "Row((datetime.date(2016, 1, 7), 1, 7, 2016, 5), {'DATA': 0, 'MES': 1, 'DIA': 2, 'ANO': 3, 'SEMANA': 4})\n",
      "Row((datetime.date(2016, 1, 8), 1, 8, 2016, 6), {'DATA': 0, 'MES': 1, 'DIA': 2, 'ANO': 3, 'SEMANA': 4})\n",
      "Row((datetime.date(2016, 1, 9), 1, 9, 2016, 7), {'DATA': 0, 'MES': 1, 'DIA': 2, 'ANO': 3, 'SEMANA': 4})\n"
     ]
    }
   ],
   "source": [
    "QUERY = \"\"\"\n",
    "\n",
    "SELECT DATA,\n",
    "  EXTRACT(MONTH FROM DATA) AS MES,\n",
    "  EXTRACT(DAY FROM DATA) AS DIA,\n",
    "  EXTRACT(YEAR FROM DATA) AS ANO,\n",
    "  EXTRACT(DAYOFWEEK FROM DATA) AS SEMANA\n",
    "FROM UNNEST (GENERATE_DATE_ARRAY('2015-12-23', '2016-01-09')) AS DATA\n",
    "ORDER BY DATA;\n",
    "\n",
    "\"\"\"\n",
    "\n",
    "query_job = bigquery_client.query(QUERY)\n",
    "for row in query_job.result():  \n",
    "    print(row)"
   ]
  },
  {
   "cell_type": "code",
   "execution_count": 72,
   "id": "d33435c9",
   "metadata": {},
   "outputs": [
    {
     "name": "stdout",
     "output_type": "stream",
     "text": [
      "Row((datetime.datetime(2022, 6, 9, 15, 30, 20, 604311), datetime.date(2022, 6, 30), datetime.date(2022, 12, 31)), {'f0_': 0, 'f1_': 1, 'f2_': 2})\n"
     ]
    }
   ],
   "source": [
    "QUERY = \"\"\"\n",
    "\n",
    "SELECT \n",
    "  DATETIME_ADD(CURRENT_DATETIME, INTERVAL 90 DAY), \n",
    "  LAST_DAY(DATETIME_ADD(CURRENT_DATETIME, INTERVAL 90 DAY), MONTH),\n",
    "  LAST_DAY(DATETIME_ADD(CURRENT_DATETIME, INTERVAL 90 DAY), YEAR);\n",
    "\n",
    "\"\"\"\n",
    "\n",
    "query_job = bigquery_client.query(QUERY)\n",
    "for row in query_job.result():  \n",
    "    print(row)"
   ]
  },
  {
   "cell_type": "code",
   "execution_count": 68,
   "id": "f89f34f4",
   "metadata": {},
   "outputs": [
    {
     "name": "stdout",
     "output_type": "stream",
     "text": [
      "Row((datetime.datetime(2022, 3, 11, 15, 29, 50, 132086), 'Friday, Dia 11 de March de 2022'), {'f0_': 0, 'f1_': 1})\n"
     ]
    }
   ],
   "source": [
    "QUERY = \"\"\"\n",
    "\n",
    "SELECT CURRENT_DATETIME, FORMAT_DATETIME('%A, Dia %d de %B de %Y', CURRENT_DATETIME);\n",
    "\n",
    "\"\"\"\n",
    "\n",
    "query_job = bigquery_client.query(QUERY)\n",
    "for row in query_job.result():  \n",
    "    print(row)"
   ]
  },
  {
   "cell_type": "code",
   "execution_count": 69,
   "id": "c01b0db1",
   "metadata": {},
   "outputs": [
    {
     "name": "stdout",
     "output_type": "stream",
     "text": [
      "Row((1501510253,), {'visitStartTime': 0})\n",
      "Row((1501510671,), {'visitStartTime': 0})\n",
      "Row((1501521633,), {'visitStartTime': 0})\n",
      "Row((1501504214,), {'visitStartTime': 0})\n",
      "Row((1501488776,), {'visitStartTime': 0})\n",
      "Row((1501486021,), {'visitStartTime': 0})\n",
      "Row((1501542605,), {'visitStartTime': 0})\n",
      "Row((1501495774,), {'visitStartTime': 0})\n",
      "Row((1501517209,), {'visitStartTime': 0})\n",
      "Row((1501512811,), {'visitStartTime': 0})\n"
     ]
    }
   ],
   "source": [
    "QUERY = \"\"\"\n",
    "\n",
    "SELECT\n",
    "  visitStartTime FROM\n",
    " `bigquery-public-data.google_analytics_sample.ga_sessions_20170731`\n",
    "LIMIT 10;\n",
    "\n",
    "\"\"\"\n",
    "\n",
    "query_job = bigquery_client.query(QUERY)\n",
    "for row in query_job.result():  \n",
    "    print(row)"
   ]
  },
  {
   "cell_type": "code",
   "execution_count": 70,
   "id": "18b672be",
   "metadata": {},
   "outputs": [
    {
     "name": "stdout",
     "output_type": "stream",
     "text": [
      "Row((1501510253, datetime.datetime(2017, 7, 31, 14, 10, 53, tzinfo=datetime.timezone.utc)), {'visitStartTime': 0, 'f0_': 1})\n",
      "Row((1501510671, datetime.datetime(2017, 7, 31, 14, 17, 51, tzinfo=datetime.timezone.utc)), {'visitStartTime': 0, 'f0_': 1})\n",
      "Row((1501521633, datetime.datetime(2017, 7, 31, 17, 20, 33, tzinfo=datetime.timezone.utc)), {'visitStartTime': 0, 'f0_': 1})\n",
      "Row((1501504214, datetime.datetime(2017, 7, 31, 12, 30, 14, tzinfo=datetime.timezone.utc)), {'visitStartTime': 0, 'f0_': 1})\n",
      "Row((1501488776, datetime.datetime(2017, 7, 31, 8, 12, 56, tzinfo=datetime.timezone.utc)), {'visitStartTime': 0, 'f0_': 1})\n",
      "Row((1501486021, datetime.datetime(2017, 7, 31, 7, 27, 1, tzinfo=datetime.timezone.utc)), {'visitStartTime': 0, 'f0_': 1})\n",
      "Row((1501542605, datetime.datetime(2017, 7, 31, 23, 10, 5, tzinfo=datetime.timezone.utc)), {'visitStartTime': 0, 'f0_': 1})\n",
      "Row((1501495774, datetime.datetime(2017, 7, 31, 10, 9, 34, tzinfo=datetime.timezone.utc)), {'visitStartTime': 0, 'f0_': 1})\n",
      "Row((1501517209, datetime.datetime(2017, 7, 31, 16, 6, 49, tzinfo=datetime.timezone.utc)), {'visitStartTime': 0, 'f0_': 1})\n",
      "Row((1501512811, datetime.datetime(2017, 7, 31, 14, 53, 31, tzinfo=datetime.timezone.utc)), {'visitStartTime': 0, 'f0_': 1})\n"
     ]
    }
   ],
   "source": [
    "QUERY = \"\"\"\n",
    "\n",
    "SELECT\n",
    "  visitStartTime, TIMESTAMP_SECONDS(visitStartTime) FROM\n",
    " `bigquery-public-data.google_analytics_sample.ga_sessions_20170731`\n",
    "LIMIT 10;\n",
    "\n",
    "\"\"\"\n",
    "\n",
    "query_job = bigquery_client.query(QUERY)\n",
    "for row in query_job.result():  \n",
    "    print(row)"
   ]
  },
  {
   "cell_type": "code",
   "execution_count": 71,
   "id": "79f8fbba",
   "metadata": {},
   "outputs": [
    {
     "name": "stdout",
     "output_type": "stream",
     "text": [
      "Row((datetime.datetime(2022, 3, 11, 15, 29, 55, 516207, tzinfo=datetime.timezone.utc), 1647012595), {'f0_': 0, 'f1_': 1})\n"
     ]
    }
   ],
   "source": [
    "QUERY = \"\"\"\n",
    "\n",
    "SELECT CURRENT_TIMESTAMP, UNIX_SECONDS(CURRENT_TIMESTAMP);\n",
    "\n",
    "\"\"\"\n",
    "\n",
    "query_job = bigquery_client.query(QUERY)\n",
    "for row in query_job.result():  \n",
    "    print(row)"
   ]
  },
  {
   "cell_type": "code",
   "execution_count": 73,
   "id": "80399ab4",
   "metadata": {},
   "outputs": [
    {
     "name": "stdout",
     "output_type": "stream",
     "text": [
      "Row(('POINT(-74.0784059464931 40.7246050998869)', 18), {'Station': 0, 'num_bikes_available': 1})\n",
      "Row(('POINT(-74.0428841114044 40.72165072488)', 18), {'Station': 0, 'num_bikes_available': 1})\n",
      "Row(('POINT(-73.98302136 40.6853761)', 18), {'Station': 0, 'num_bikes_available': 1})\n",
      "Row(('POINT(-74.00722156 40.70862144)', 19), {'Station': 0, 'num_bikes_available': 1})\n",
      "Row(('POINT(-73.97129668 40.69573398)', 19), {'Station': 0, 'num_bikes_available': 1})\n",
      "Row(('POINT(-73.92535 40.70538)', 16), {'Station': 0, 'num_bikes_available': 1})\n",
      "Row(('POINT(-73.9342 40.77485)', 19), {'Station': 0, 'num_bikes_available': 1})\n",
      "Row(('POINT(-73.928747 40.830179)', 19), {'Station': 0, 'num_bikes_available': 1})\n",
      "Row(('POINT(-73.900277 40.839586)', 19), {'Station': 0, 'num_bikes_available': 1})\n",
      "Row(('POINT(-73.902534 40.762507)', 17), {'Station': 0, 'num_bikes_available': 1})\n",
      "Row(('POINT(-73.9230939745903 40.8589044753841)', 18), {'Station': 0, 'num_bikes_available': 1})\n",
      "Row(('POINT(-74.027472 40.638799)', 19), {'Station': 0, 'num_bikes_available': 1})\n",
      "Row(('POINT(-74.020005 40.635679)', 20), {'Station': 0, 'num_bikes_available': 1})\n",
      "Row(('POINT(-73.922661 40.862562)', 18), {'Station': 0, 'num_bikes_available': 1})\n",
      "Row(('POINT(-73.9333 40.702831)', 20), {'Station': 0, 'num_bikes_available': 1})\n",
      "Row(('POINT(-73.900063 40.775415)', 21), {'Station': 0, 'num_bikes_available': 1})\n",
      "Row(('POINT(-73.977739 40.650739)', 21), {'Station': 0, 'num_bikes_available': 1})\n",
      "Row(('POINT(-73.922648 40.866141)', 22), {'Station': 0, 'num_bikes_available': 1})\n",
      "Row(('POINT(-73.99379025 40.72743423)', 22), {'Station': 0, 'num_bikes_available': 1})\n",
      "Row(('POINT(-74.011295735836 40.7277140777778)', 18), {'Station': 0, 'num_bikes_available': 1})\n",
      "Row(('POINT(-73.92153 40.705614)', 22), {'Station': 0, 'num_bikes_available': 1})\n",
      "Row(('POINT(-73.93581 40.707174)', 22), {'Station': 0, 'num_bikes_available': 1})\n",
      "Row(('POINT(-73.914688 40.822215)', 23), {'Station': 0, 'num_bikes_available': 1})\n",
      "Row(('POINT(-73.921417593956 40.861281970751)', 23), {'Station': 0, 'num_bikes_available': 1})\n",
      "Row(('POINT(-73.975988 40.651745)', 22), {'Station': 0, 'num_bikes_available': 1})\n",
      "Row(('POINT(-74.0147262811661 40.6758329439129)', 23), {'Station': 0, 'num_bikes_available': 1})\n",
      "Row(('POINT(-73.919911 40.704876)', 24), {'Station': 0, 'num_bikes_available': 1})\n",
      "Row(('POINT(-74.0271502733231 40.7499849090714)', 24), {'Station': 0, 'num_bikes_available': 1})\n",
      "Row(('POINT(-74.0170168876648 40.6781838797765)', 24), {'Station': 0, 'num_bikes_available': 1})\n",
      "Row(('POINT(-73.9826591312885 40.7233468321802)', 24), {'Station': 0, 'num_bikes_available': 1})\n",
      "Row(('POINT(-73.9073014632277 40.8361791367748)', 25), {'Station': 0, 'num_bikes_available': 1})\n",
      "Row(('POINT(-73.9437303 40.7016657)', 25), {'Station': 0, 'num_bikes_available': 1})\n",
      "Row(('POINT(-73.923711 40.707165)', 27), {'Station': 0, 'num_bikes_available': 1})\n",
      "Row(('POINT(-73.917946 40.840484)', 30), {'Station': 0, 'num_bikes_available': 1})\n",
      "Row(('POINT(-74.00422 40.654144)', 30), {'Station': 0, 'num_bikes_available': 1})\n",
      "Row(('POINT(-73.98990025 40.71427487)', 30), {'Station': 0, 'num_bikes_available': 1})\n",
      "Row(('POINT(-73.9912551 40.76019252)', 23), {'Station': 0, 'num_bikes_available': 1})\n",
      "Row(('POINT(-74.00697 40.73498)', 29), {'Station': 0, 'num_bikes_available': 1})\n",
      "Row(('POINT(-74.026081 40.646475)', 31), {'Station': 0, 'num_bikes_available': 1})\n",
      "Row(('POINT(-73.9559308 40.8038654)', 31), {'Station': 0, 'num_bikes_available': 1})\n",
      "Row(('POINT(-73.9912777394056 40.6854240099702)', 32), {'Station': 0, 'num_bikes_available': 1})\n",
      "Row(('POINT(-73.990993 40.72769)', 32), {'Station': 0, 'num_bikes_available': 1})\n",
      "Row(('POINT(-73.925591 40.861382)', 33), {'Station': 0, 'num_bikes_available': 1})\n",
      "Row(('POINT(-73.99147535 40.72229346)', 34), {'Station': 0, 'num_bikes_available': 1})\n",
      "Row(('POINT(-74.002950346 40.749717753)', 29), {'Station': 0, 'num_bikes_available': 1})\n",
      "Row(('POINT(-73.99440329 40.6849894)', 34), {'Station': 0, 'num_bikes_available': 1})\n",
      "Row(('POINT(-73.9999786 40.69165183)', 35), {'Station': 0, 'num_bikes_available': 1})\n",
      "Row(('POINT(-73.948800265789 40.7176619708399)', 38), {'Station': 0, 'num_bikes_available': 1})\n",
      "Row(('POINT(-74.01234218 40.70122128)', 35), {'Station': 0, 'num_bikes_available': 1})\n",
      "Row(('POINT(-74.000271 40.735238)', 35), {'Station': 0, 'num_bikes_available': 1})\n",
      "Row(('POINT(-73.954692 40.805159)', 36), {'Station': 0, 'num_bikes_available': 1})\n",
      "Row(('POINT(-73.985649 40.673746)', 37), {'Station': 0, 'num_bikes_available': 1})\n",
      "Row(('POINT(-73.99565293 40.72456089)', 36), {'Station': 0, 'num_bikes_available': 1})\n",
      "Row(('POINT(-74.00247214 40.71939226)', 38), {'Station': 0, 'num_bikes_available': 1})\n",
      "Row(('POINT(-73.99931783 40.73935542)', 36), {'Station': 0, 'num_bikes_available': 1})\n",
      "Row(('POINT(-73.97513 40.75863)', 26), {'Station': 0, 'num_bikes_available': 1})\n",
      "Row(('POINT(-73.940636 40.7031724)', 42), {'Station': 0, 'num_bikes_available': 1})\n",
      "Row(('POINT(-73.999304920435 40.7251173442239)', 40), {'Station': 0, 'num_bikes_available': 1})\n",
      "Row(('POINT(-73.9488539099693 40.7191557169604)', 43), {'Station': 0, 'num_bikes_available': 1})\n",
      "Row(('POINT(-73.9951018989086 40.7261560498041)', 40), {'Station': 0, 'num_bikes_available': 1})\n",
      "Row(('POINT(-73.98014437 40.75500254)', 37), {'Station': 0, 'num_bikes_available': 1})\n",
      "Row(('POINT(-74.0016585588455 40.7249467235942)', 40), {'Station': 0, 'num_bikes_available': 1})\n",
      "Row(('POINT(-73.98564945 40.72779126)', 22), {'Station': 0, 'num_bikes_available': 1})\n",
      "Row(('POINT(-73.9830426871777 40.6896218879033)', 45), {'Station': 0, 'num_bikes_available': 1})\n",
      "Row(('POINT(-74.005141 40.745686)', 47), {'Station': 0, 'num_bikes_available': 1})\n",
      "Row(('POINT(-74.000472 40.726378)', 48), {'Station': 0, 'num_bikes_available': 1})\n",
      "Row(('POINT(-73.98409214 40.74025878)', 48), {'Station': 0, 'num_bikes_available': 1})\n",
      "Row(('POINT(-74.00297088 40.72710258)', 53), {'Station': 0, 'num_bikes_available': 1})\n",
      "Row(('POINT(-73.99906065 40.73047747)', 56), {'Station': 0, 'num_bikes_available': 1})\n",
      "Row(('POINT(-73.99069656 40.72502876)', 51), {'Station': 0, 'num_bikes_available': 1})\n",
      "Row(('POINT(-74.00197139 40.7454973)', 55), {'Station': 0, 'num_bikes_available': 1})\n",
      "Row(('POINT(-73.95818491 40.76500525)', 11), {'Station': 0, 'num_bikes_available': 1})\n",
      "Row(('POINT(-74.0389144420624 40.7183551982321)', 13), {'Station': 0, 'num_bikes_available': 1})\n",
      "Row(('POINT(-73.911034 40.800425)', 13), {'Station': 0, 'num_bikes_available': 1})\n",
      "Row(('POINT(-73.9538746 40.6630619)', 16), {'Station': 0, 'num_bikes_available': 1})\n",
      "Row(('POINT(-73.91945 40.70636)', 15), {'Station': 0, 'num_bikes_available': 1})\n",
      "Row(('POINT(-74.0836394 40.7182113)', 17), {'Station': 0, 'num_bikes_available': 1})\n",
      "Row(('POINT(-74.066921 40.737711)', 17), {'Station': 0, 'num_bikes_available': 1})\n",
      "Row(('POINT(-73.9946848154068 40.7505853470215)', 15), {'Station': 0, 'num_bikes_available': 1})\n",
      "Row(('POINT(-73.94976519 40.70538077)', 18), {'Station': 0, 'num_bikes_available': 1})\n",
      "Row(('POINT(-73.92965 40.817755)', 17), {'Station': 0, 'num_bikes_available': 1})\n",
      "Row(('POINT(-73.921411 40.820036)', 18), {'Station': 0, 'num_bikes_available': 1})\n",
      "Row(('POINT(-73.929327 40.826677)', 18), {'Station': 0, 'num_bikes_available': 1})\n",
      "Row(('POINT(-73.927311 40.825737)', 17), {'Station': 0, 'num_bikes_available': 1})\n",
      "Row(('POINT(-73.917256 40.844075)', 18), {'Station': 0, 'num_bikes_available': 1})\n",
      "Row(('POINT(-74.001141 40.657743)', 18), {'Station': 0, 'num_bikes_available': 1})\n",
      "Row(('POINT(-74.001131 40.654098)', 18), {'Station': 0, 'num_bikes_available': 1})\n",
      "Row(('POINT(-74.0016256 40.68763155)', 18), {'Station': 0, 'num_bikes_available': 1})\n",
      "Row(('POINT(-73.92976 40.70539)', 18), {'Station': 0, 'num_bikes_available': 1})\n",
      "Row(('POINT(-73.95161 40.73124)', 17), {'Station': 0, 'num_bikes_available': 1})\n",
      "Row(('POINT(-73.9351 40.704508)', 20), {'Station': 0, 'num_bikes_available': 1})\n",
      "Row(('POINT(-73.9179 40.70108)', 20), {'Station': 0, 'num_bikes_available': 1})\n",
      "Row(('POINT(-73.914737 40.817166)', 20), {'Station': 0, 'num_bikes_available': 1})\n",
      "Row(('POINT(-73.919228 40.840536)', 20), {'Station': 0, 'num_bikes_available': 1})\n",
      "Row(('POINT(-73.92243 40.83406)', 19), {'Station': 0, 'num_bikes_available': 1})\n",
      "Row(('POINT(-73.91227 40.68858)', 21), {'Station': 0, 'num_bikes_available': 1})\n",
      "Row(('POINT(-74.0119555592537 40.6736355134151)', 22), {'Station': 0, 'num_bikes_available': 1})\n",
      "Row(('POINT(-73.93734 40.71019)', 22), {'Station': 0, 'num_bikes_available': 1})\n",
      "Row(('POINT(-74.011405 40.651173)', 22), {'Station': 0, 'num_bikes_available': 1})\n",
      "Row(('POINT(-73.89615 40.85556)', 21), {'Station': 0, 'num_bikes_available': 1})\n",
      "Row(('POINT(-73.99293911 40.71406667)', 23), {'Station': 0, 'num_bikes_available': 1})\n",
      "Row(('POINT(-73.93323 40.71429)', 23), {'Station': 0, 'num_bikes_available': 1})\n",
      "Row(('POINT(-73.998633 40.660079)', 23), {'Station': 0, 'num_bikes_available': 1})\n",
      "Row(('POINT(-73.9904394 40.668603)', 23), {'Station': 0, 'num_bikes_available': 1})\n",
      "Row(('POINT(-73.92157 40.70907)', 23), {'Station': 0, 'num_bikes_available': 1})\n",
      "Row(('POINT(-74.042817056179 40.7145840353589)', 25), {'Station': 0, 'num_bikes_available': 1})\n",
      "Row(('POINT(-73.927311 40.810893)', 25), {'Station': 0, 'num_bikes_available': 1})\n",
      "Row(('POINT(-74.001328 40.671409)', 25), {'Station': 0, 'num_bikes_available': 1})\n",
      "Row(('POINT(-74.00016545 40.71117416)', 26), {'Station': 0, 'num_bikes_available': 1})\n",
      "Row(('POINT(-73.95866 40.73564)', 23), {'Station': 0, 'num_bikes_available': 1})\n",
      "Row(('POINT(-73.9907902479172 40.681990442707)', 25), {'Station': 0, 'num_bikes_available': 1})\n",
      "Row(('POINT(-73.951475 40.804372)', 26), {'Station': 0, 'num_bikes_available': 1})\n",
      "Row(('POINT(-73.92095 40.7027)', 25), {'Station': 0, 'num_bikes_available': 1})\n",
      "Row(('POINT(-73.928939 40.822217)', 26), {'Station': 0, 'num_bikes_available': 1})\n",
      "Row(('POINT(-73.99839279 40.7500727)', 26), {'Station': 0, 'num_bikes_available': 1})\n",
      "Row(('POINT(-73.928947 40.820089)', 28), {'Station': 0, 'num_bikes_available': 1})\n",
      "Row(('POINT(-73.979239 40.642809)', 28), {'Station': 0, 'num_bikes_available': 1})\n",
      "Row(('POINT(-73.93921 40.70099)', 28), {'Station': 0, 'num_bikes_available': 1})\n",
      "Row(('POINT(-73.97058 40.648481)', 29), {'Station': 0, 'num_bikes_available': 1})\n",
      "Row(('POINT(-73.972432 40.648055)', 28), {'Station': 0, 'num_bikes_available': 1})\n",
      "Row(('POINT(-73.972573 40.652563)', 29), {'Station': 0, 'num_bikes_available': 1})\n",
      "Row(('POINT(-73.9490782 40.8025566)', 28), {'Station': 0, 'num_bikes_available': 1})\n",
      "Row(('POINT(-73.9552013576031 40.7181696945421)', 28), {'Station': 0, 'num_bikes_available': 1})\n",
      "Row(('POINT(-74.015665 40.677236)', 31), {'Station': 0, 'num_bikes_available': 1})\n",
      "Row(('POINT(-73.989111 40.722055)', 31), {'Station': 0, 'num_bikes_available': 1})\n",
      "Row(('POINT(-73.99810231 40.72917025)', 32), {'Station': 0, 'num_bikes_available': 1})\n",
      "Row(('POINT(-74.01677685 40.70569254)', 34), {'Station': 0, 'num_bikes_available': 1})\n",
      "Row(('POINT(-73.99682619 40.71117444)', 33), {'Station': 0, 'num_bikes_available': 1})\n",
      "Row(('POINT(-73.98901629 40.6843549)', 34), {'Station': 0, 'num_bikes_available': 1})\n",
      "Row(('POINT(-73.95416 40.78385)', 32), {'Station': 0, 'num_bikes_available': 1})\n",
      "Row(('POINT(-73.9916110038757 40.7099180692153)', 33), {'Station': 0, 'num_bikes_available': 1})\n",
      "Row(('POINT(-73.981095 40.714211)', 30), {'Station': 0, 'num_bikes_available': 1})\n",
      "Row(('POINT(-74.000939 40.735918)', 34), {'Station': 0, 'num_bikes_available': 1})\n",
      "Row(('POINT(-73.9536 40.757284)', 38), {'Station': 0, 'num_bikes_available': 1})\n",
      "Row(('POINT(-74.00293877 40.73401143)', 39), {'Station': 0, 'num_bikes_available': 1})\n",
      "Row(('POINT(-74.00925 40.71703)', 42), {'Station': 0, 'num_bikes_available': 1})\n",
      "Row(('POINT(-73.9966213703155 40.7270636334831)', 41), {'Station': 0, 'num_bikes_available': 1})\n",
      "Row(('POINT(-74.013942 40.701907)', 45), {'Station': 0, 'num_bikes_available': 1})\n",
      "Row(('POINT(-73.9911603927612 40.6884890563924)', 46), {'Station': 0, 'num_bikes_available': 1})\n",
      "Row(('POINT(-74.00910627 40.71473993)', 48), {'Station': 0, 'num_bikes_available': 1})\n",
      "Row(('POINT(-73.996732 40.714193)', 46), {'Station': 0, 'num_bikes_available': 1})\n",
      "Row(('POINT(-73.98713956 40.7284186)', 47), {'Station': 0, 'num_bikes_available': 1})\n",
      "Row(('POINT(-73.955736 40.724055)', 53), {'Station': 0, 'num_bikes_available': 1})\n",
      "Row(('POINT(-73.9919254 40.72110063)', 60), {'Station': 0, 'num_bikes_available': 1})\n",
      "Row(('POINT(-73.9886 40.68917)', 64), {'Station': 0, 'num_bikes_available': 1})\n",
      "Row(('POINT(-74.01713445 40.70834698)', 70), {'Station': 0, 'num_bikes_available': 1})\n",
      "Row(('POINT(-74.00451887 40.74691959)', 73), {'Station': 0, 'num_bikes_available': 1})\n",
      "Row(('POINT(-73.94708417 40.69957608)', 17), {'Station': 0, 'num_bikes_available': 1})\n",
      "Row(('POINT(-73.912411 40.819823)', 17), {'Station': 0, 'num_bikes_available': 1})\n",
      "Row(('POINT(-73.900216 40.843079)', 17), {'Station': 0, 'num_bikes_available': 1})\n",
      "Row(('POINT(-73.885272 40.832649)', 17), {'Station': 0, 'num_bikes_available': 1})\n",
      "Row(('POINT(-73.926907 40.822351)', 17), {'Station': 0, 'num_bikes_available': 1})\n",
      "Row(('POINT(-73.896293 40.76817)', 15), {'Station': 0, 'num_bikes_available': 1})\n",
      "Row(('POINT(-74.015606 40.650176)', 17), {'Station': 0, 'num_bikes_available': 1})\n",
      "Row(('POINT(-74.008906 40.652512)', 17), {'Station': 0, 'num_bikes_available': 1})\n",
      "Row(('POINT(-74.013587 40.652502)', 17), {'Station': 0, 'num_bikes_available': 1})\n",
      "Row(('POINT(-73.911503 40.871094)', 17), {'Station': 0, 'num_bikes_available': 1})\n",
      "Row(('POINT(-73.911359 40.84741)', 17), {'Station': 0, 'num_bikes_available': 1})\n",
      "Row(('POINT(-73.92006 40.862638)', 16), {'Station': 0, 'num_bikes_available': 1})\n",
      "Row(('POINT(-73.948852 40.74252)', 19), {'Station': 0, 'num_bikes_available': 1})\n",
      "Row(('POINT(-73.929153 40.812304)', 16), {'Station': 0, 'num_bikes_available': 1})\n",
      "Row(('POINT(-73.931015 40.829797)', 18), {'Station': 0, 'num_bikes_available': 1})\n",
      "Row(('POINT(-73.925101 40.83263)', 19), {'Station': 0, 'num_bikes_available': 1})\n",
      "Row(('POINT(-73.995549 40.666168)', 19), {'Station': 0, 'num_bikes_available': 1})\n",
      "Row(('POINT(-73.926994 40.863124)', 18), {'Station': 0, 'num_bikes_available': 1})\n",
      "Row(('POINT(-73.8818756582 40.8704956)', 18), {'Station': 0, 'num_bikes_available': 1})\n",
      "Row(('POINT(-74.03805095 40.7211236)', 20), {'Station': 0, 'num_bikes_available': 1})\n",
      "Row(('POINT(-74.046304543 40.72152515)', 17), {'Station': 0, 'num_bikes_available': 1})\n",
      "Row(('POINT(-74.013821 40.638196)', 20), {'Station': 0, 'num_bikes_available': 1})\n",
      "Row(('POINT(-73.97355569 40.69580705)', 21), {'Station': 0, 'num_bikes_available': 1})\n",
      "Row(('POINT(-73.99785768 40.6746957)', 19), {'Station': 0, 'num_bikes_available': 1})\n",
      "Row(('POINT(-73.951947 40.824686)', 21), {'Station': 0, 'num_bikes_available': 1})\n",
      "Row(('POINT(-74.003101 40.655278)', 21), {'Station': 0, 'num_bikes_available': 1})\n",
      "Row(('POINT(-74.0053626894951 40.7278970140902)', 23), {'Station': 0, 'num_bikes_available': 1})\n",
      "Row(('POINT(-73.95484712 40.72079821)', 25), {'Station': 0, 'num_bikes_available': 1})\n",
      "Row(('POINT(-73.99318208 40.6829151)', 22), {'Station': 0, 'num_bikes_available': 1})\n",
      "Row(('POINT(-73.923769 40.702013)', 25), {'Station': 0, 'num_bikes_available': 1})\n",
      "Row(('POINT(-73.92818 40.82441)', 25), {'Station': 0, 'num_bikes_available': 1})\n",
      "Row(('POINT(-73.9441232 40.7954121)', 27), {'Station': 0, 'num_bikes_available': 1})\n",
      "Row(('POINT(-73.972212 40.651566)', 26), {'Station': 0, 'num_bikes_available': 1})\n",
      "Row(('POINT(-73.933871 40.706237)', 26), {'Station': 0, 'num_bikes_available': 1})\n",
      "Row(('POINT(-74.0277805924416 40.7369822181872)', 28), {'Station': 0, 'num_bikes_available': 1})\n",
      "Row(('POINT(-73.97877 40.69178)', 29), {'Station': 0, 'num_bikes_available': 1})\n",
      "Row(('POINT(-73.88145 40.86814)', 30), {'Station': 0, 'num_bikes_available': 1})\n",
      "Row(('POINT(-74.00666661 40.71911552)', 31), {'Station': 0, 'num_bikes_available': 1})\n",
      "Row(('POINT(-73.9756733179092 40.6809447234773)', 28), {'Station': 0, 'num_bikes_available': 1})\n",
      "Row(('POINT(-73.9949 40.72054)', 28), {'Station': 0, 'num_bikes_available': 1})\n",
      "Row(('POINT(-73.9766496419907 40.6870023129262)', 32), {'Station': 0, 'num_bikes_available': 1})\n",
      "Row(('POINT(-73.99383605 40.70277159)', 36), {'Station': 0, 'num_bikes_available': 1})\n",
      "Row(('POINT(-74.011169 40.679043)', 36), {'Station': 0, 'num_bikes_available': 1})\n",
      "Row(('POINT(-73.918598 40.864632)', 37), {'Station': 0, 'num_bikes_available': 1})\n",
      "Row(('POINT(-73.98783413 40.72467721)', 38), {'Station': 0, 'num_bikes_available': 1})\n",
      "Row(('POINT(-74.0135595202446 40.7080658238065)', 39), {'Station': 0, 'num_bikes_available': 1})\n",
      "Row(('POINT(-73.98997825 40.72019576)', 35), {'Station': 0, 'num_bikes_available': 1})\n",
      "Row(('POINT(-73.98978041 40.7262807)', 38), {'Station': 0, 'num_bikes_available': 1})\n",
      "Row(('POINT(-74.002751 40.708485)', 41), {'Station': 0, 'num_bikes_available': 1})\n",
      "Row(('POINT(-73.978776 40.690065)', 44), {'Station': 0, 'num_bikes_available': 1})\n",
      "Row(('POINT(-73.97803415 40.69608941)', 50), {'Station': 0, 'num_bikes_available': 1})\n",
      "Row(('POINT(-73.9616507291794 40.7203677529846)', 48), {'Station': 0, 'num_bikes_available': 1})\n",
      "Row(('POINT(-73.97632328 40.68382604)', 56), {'Station': 0, 'num_bikes_available': 1})\n",
      "Row(('POINT(-73.98775226 40.6750705)', 77), {'Station': 0, 'num_bikes_available': 1})\n",
      "Row(('POINT(-74.0666109323502 40.7143583687043)', 11), {'Station': 0, 'num_bikes_available': 1})\n",
      "Row(('POINT(-74.0351110696793 40.7422579775645)', 15), {'Station': 0, 'num_bikes_available': 1})\n",
      "Row(('POINT(-73.941764831543 40.7437524099784)', 14), {'Station': 0, 'num_bikes_available': 1})\n",
      "Row(('POINT(-73.92997 40.702997)', 16), {'Station': 0, 'num_bikes_available': 1})\n",
      "Row(('POINT(-73.959089 40.820003)', 16), {'Station': 0, 'num_bikes_available': 1})\n",
      "Row(('POINT(-73.916071 40.819609)', 15), {'Station': 0, 'num_bikes_available': 1})\n",
      "Row(('POINT(-73.998194 40.656986)', 16), {'Station': 0, 'num_bikes_available': 1})\n",
      "Row(('POINT(-73.995068 40.659555)', 16), {'Station': 0, 'num_bikes_available': 1})\n",
      "Row(('POINT(-74.0867006778717 40.7065754506345)', 15), {'Station': 0, 'num_bikes_available': 1})\n",
      "Row(('POINT(-74.022141 40.637033)', 16), {'Station': 0, 'num_bikes_available': 1})\n",
      "Row(('POINT(-73.920827 40.863211)', 16), {'Station': 0, 'num_bikes_available': 1})\n",
      "Row(('POINT(-73.90549 40.83999)', 17), {'Station': 0, 'num_bikes_available': 1})\n",
      "Row(('POINT(-73.914311 40.845505)', 17), {'Station': 0, 'num_bikes_available': 1})\n",
      "Row(('POINT(-73.9482128620148 40.7163803197356)', 18), {'Station': 0, 'num_bikes_available': 1})\n",
      "Row(('POINT(-73.917775 40.703545)', 19), {'Station': 0, 'num_bikes_available': 1})\n",
      "Row(('POINT(-74.0400409698486 40.7431399396563)', 19), {'Station': 0, 'num_bikes_available': 1})\n",
      "Row(('POINT(-74.0379770100117 40.7464126483772)', 19), {'Station': 0, 'num_bikes_available': 1})\n",
      "Row(('POINT(-74.03097 40.73736)', 19), {'Station': 0, 'num_bikes_available': 1})\n",
      "Row(('POINT(-73.98208968 40.6704836)', 18), {'Station': 0, 'num_bikes_available': 1})\n",
      "Row(('POINT(-73.92836 40.704425)', 20), {'Station': 0, 'num_bikes_available': 1})\n",
      "Row(('POINT(-73.924963 40.814469)', 20), {'Station': 0, 'num_bikes_available': 1})\n",
      "Row(('POINT(-73.896849 40.772899)', 19), {'Station': 0, 'num_bikes_available': 1})\n",
      "Row(('POINT(-73.9898300170898 40.6726029815013)', 21), {'Station': 0, 'num_bikes_available': 1})\n",
      "Row(('POINT(-73.998623 40.662611)', 21), {'Station': 0, 'num_bikes_available': 1})\n",
      "Row(('POINT(-73.99333264 40.6685455)', 22), {'Station': 0, 'num_bikes_available': 1})\n",
      "Row(('POINT(-73.99480012 40.72317958)', 21), {'Station': 0, 'num_bikes_available': 1})\n",
      "Row(('POINT(-73.99404649 40.72903917)', 18), {'Station': 0, 'num_bikes_available': 1})\n",
      "Row(('POINT(-73.98541675 40.6704922)', 22), {'Station': 0, 'num_bikes_available': 1})\n",
      "Row(('POINT(-73.9485678 40.7552433)', 23), {'Station': 0, 'num_bikes_available': 1})\n",
      "Row(('POINT(-73.925294 40.818154)', 23), {'Station': 0, 'num_bikes_available': 1})\n",
      "Row(('POINT(-73.9479119 40.7519071)', 25), {'Station': 0, 'num_bikes_available': 1})\n",
      "Row(('POINT(-74.0052741765976 40.7400570856729)', 19), {'Station': 0, 'num_bikes_available': 1})\n",
      "Row(('POINT(-74.00731853 40.70706456)', 26), {'Station': 0, 'num_bikes_available': 1})\n",
      "Row(('POINT(-73.910765 40.850121)', 26), {'Station': 0, 'num_bikes_available': 1})\n",
      "Row(('POINT(-73.95234386 40.71413311)', 27), {'Station': 0, 'num_bikes_available': 1})\n",
      "Row(('POINT(-73.965248 40.651847)', 27), {'Station': 0, 'num_bikes_available': 1})\n",
      "Row(('POINT(-74.006664 40.655716)', 27), {'Station': 0, 'num_bikes_available': 1})\n",
      "Row(('POINT(-74.00859207 40.7361967)', 26), {'Station': 0, 'num_bikes_available': 1})\n",
      "Row(('POINT(-73.944846 40.7989445)', 28), {'Station': 0, 'num_bikes_available': 1})\n",
      "Row(('POINT(-73.949373 40.8078316)', 27), {'Station': 0, 'num_bikes_available': 1})\n",
      "Row(('POINT(-73.991479 40.719383)', 27), {'Station': 0, 'num_bikes_available': 1})\n",
      "Row(('POINT(-73.997249007225 40.722103786686)', 20), {'Station': 0, 'num_bikes_available': 1})\n",
      "Row(('POINT(-73.99852205 40.73226398)', 25), {'Station': 0, 'num_bikes_available': 1})\n",
      "Row(('POINT(-74.00552427 40.71146364)', 29), {'Station': 0, 'num_bikes_available': 1})\n",
      "Row(('POINT(-74.010065 40.721319)', 32), {'Station': 0, 'num_bikes_available': 1})\n",
      "Row(('POINT(-73.922962 40.81734)', 30), {'Station': 0, 'num_bikes_available': 1})\n",
      "Row(('POINT(-73.982578 40.70224)', 34), {'Station': 0, 'num_bikes_available': 1})\n",
      "Row(('POINT(-73.927111 40.827883)', 34), {'Station': 0, 'num_bikes_available': 1})\n",
      "Row(('POINT(-73.95242 40.71924)', 34), {'Station': 0, 'num_bikes_available': 1})\n",
      "Row(('POINT(-74.00348559 40.6830456)', 36), {'Station': 0, 'num_bikes_available': 1})\n",
      "Row(('POINT(-73.9779075980186 40.6850680730818)', 32), {'Station': 0, 'num_bikes_available': 1})\n",
      "Row(('POINT(-74.0052238852195 40.7197920901383)', 35), {'Station': 0, 'num_bikes_available': 1})\n",
      "Row(('POINT(-73.9996878057718 40.7284005945083)', 38), {'Station': 0, 'num_bikes_available': 1})\n",
      "Row(('POINT(-73.98848395 40.74901271)', 44), {'Station': 0, 'num_bikes_available': 1})\n",
      "Row(('POINT(-73.9916 40.749156)', 48), {'Station': 0, 'num_bikes_available': 1})\n",
      "Row(('POINT(-74.0083158016205 40.7419815999402)', 45), {'Station': 0, 'num_bikes_available': 1})\n",
      "Row(('POINT(-73.990752696991 40.7295149622495)', 55), {'Station': 0, 'num_bikes_available': 1})\n",
      "Row(('POINT(-73.9900262 40.75640548)', 59), {'Station': 0, 'num_bikes_available': 1})\n",
      "Row(('POINT(-73.98178024 40.71926081)', 11), {'Station': 0, 'num_bikes_available': 1})\n",
      "Row(('POINT(-73.94844 40.72084)', 13), {'Station': 0, 'num_bikes_available': 1})\n",
      "Row(('POINT(-73.927034 40.838706)', 14), {'Station': 0, 'num_bikes_available': 1})\n",
      "Row(('POINT(-74.0384115278721 40.747907209689)', 14), {'Station': 0, 'num_bikes_available': 1})\n",
      "Row(('POINT(-74.00494695 40.6725058)', 15), {'Station': 0, 'num_bikes_available': 1})\n",
      "Row(('POINT(-73.917579 40.82057)', 15), {'Station': 0, 'num_bikes_available': 1})\n",
      "Row(('POINT(-73.923391 40.830262)', 15), {'Station': 0, 'num_bikes_available': 1})\n",
      "Row(('POINT(-73.88955 40.834124)', 15), {'Station': 0, 'num_bikes_available': 1})\n",
      "Row(('POINT(-73.889914 40.770888)', 14), {'Station': 0, 'num_bikes_available': 1})\n",
      "Row(('POINT(-73.905838 40.838379)', 16), {'Station': 0, 'num_bikes_available': 1})\n",
      "Row(('POINT(-73.886312 40.830025)', 14), {'Station': 0, 'num_bikes_available': 1})\n",
      "Row(('POINT(-73.9167572557926 40.8676583895191)', 16), {'Station': 0, 'num_bikes_available': 1})\n",
      "Row(('POINT(-73.88412 40.86813)', 16), {'Station': 0, 'num_bikes_available': 1})\n",
      "Row(('POINT(-74.0100698 40.6753274)', 17), {'Station': 0, 'num_bikes_available': 1})\n",
      "Row(('POINT(-73.9153175 40.776165)', 16), {'Station': 0, 'num_bikes_available': 1})\n",
      "Row(('POINT(-73.93936 40.705517)', 16), {'Station': 0, 'num_bikes_available': 1})\n",
      "Row(('POINT(-73.913863 40.800933)', 16), {'Station': 0, 'num_bikes_available': 1})\n",
      "Row(('POINT(-73.926226 40.831444)', 17), {'Station': 0, 'num_bikes_available': 1})\n",
      "Row(('POINT(-74.0557013 40.7112423)', 17), {'Station': 0, 'num_bikes_available': 1})\n",
      "Row(('POINT(-74.020105 40.649292)', 18), {'Station': 0, 'num_bikes_available': 1})\n",
      "Row(('POINT(-73.99917254 40.6847514)', 19), {'Station': 0, 'num_bikes_available': 1})\n",
      "Row(('POINT(-74.0094613 40.6777748)', 19), {'Station': 0, 'num_bikes_available': 1})\n",
      "Row(('POINT(-73.93372 40.710681)', 18), {'Station': 0, 'num_bikes_available': 1})\n",
      "Row(('POINT(-73.916792 40.822267)', 19), {'Station': 0, 'num_bikes_available': 1})\n",
      "Row(('POINT(-73.94594845 40.75052534)', 23), {'Station': 0, 'num_bikes_available': 1})\n",
      "Row(('POINT(-73.887931 40.836733)', 23), {'Station': 0, 'num_bikes_available': 1})\n",
      "Row(('POINT(-74.00670227 40.70355377)', 24), {'Station': 0, 'num_bikes_available': 1})\n",
      "Row(('POINT(-73.902382 40.777112)', 24), {'Station': 0, 'num_bikes_available': 1})\n",
      "Row(('POINT(-73.919685 40.86788)', 25), {'Station': 0, 'num_bikes_available': 1})\n",
      "Row(('POINT(-74.005226 40.751396)', 26), {'Station': 0, 'num_bikes_available': 1})\n",
      "Row(('POINT(-74.009627 40.656326)', 27), {'Station': 0, 'num_bikes_available': 1})\n",
      "Row(('POINT(-73.90506 40.68906)', 28), {'Station': 0, 'num_bikes_available': 1})\n",
      "Row(('POINT(-73.95779 40.72906)', 28), {'Station': 0, 'num_bikes_available': 1})\n",
      "Row(('POINT(-73.9828670024872 40.7313930336415)', 28), {'Station': 0, 'num_bikes_available': 1})\n",
      "Row(('POINT(-73.95826 40.73266)', 29), {'Station': 0, 'num_bikes_available': 1})\n",
      "Row(('POINT(-74.01275056 40.6773429)', 31), {'Station': 0, 'num_bikes_available': 1})\n",
      "Row(('POINT(-74.00887308 40.70717936)', 32), {'Station': 0, 'num_bikes_available': 1})\n",
      "Row(('POINT(-74.0050703287125 40.739448201304)', 32), {'Station': 0, 'num_bikes_available': 1})\n",
      "Row(('POINT(-73.94839 40.72984)', 33), {'Station': 0, 'num_bikes_available': 1})\n",
      "Row(('POINT(-73.9865979552269 40.7297080564499)', 34), {'Station': 0, 'num_bikes_available': 1})\n",
      "Row(('POINT(-73.98805 40.74964)', 59), {'Station': 0, 'num_bikes_available': 1})\n",
      "Row(('POINT(-74.00004031 40.74345335)', 72), {'Station': 0, 'num_bikes_available': 1})\n",
      "Row(('POINT(-74.0499678254128 40.7216301426384)', 12), {'Station': 0, 'num_bikes_available': 1})\n",
      "Row(('POINT(-73.94051 40.71773)', 12), {'Station': 0, 'num_bikes_available': 1})\n",
      "Row(('POINT(-73.93077 40.78294)', 12), {'Station': 0, 'num_bikes_available': 1})\n",
      "Row(('POINT(-73.98303529 40.74444921)', 14), {'Station': 0, 'num_bikes_available': 1})\n",
      "Row(('POINT(-73.952029 40.7160751)', 13), {'Station': 0, 'num_bikes_available': 1})\n",
      "Row(('POINT(-73.9569115 40.6627059)', 13), {'Station': 0, 'num_bikes_available': 1})\n",
      "Row(('POINT(-73.993612 40.671907)', 14), {'Station': 0, 'num_bikes_available': 1})\n",
      "Row(('POINT(-73.886445 40.839335)', 12), {'Station': 0, 'num_bikes_available': 1})\n",
      "Row(('POINT(-73.893531 40.768442)', 13), {'Station': 0, 'num_bikes_available': 1})\n",
      "Row(('POINT(-73.976291 40.653368)', 14), {'Station': 0, 'num_bikes_available': 1})\n",
      "Row(('POINT(-73.906646 40.873265)', 14), {'Station': 0, 'num_bikes_available': 1})\n",
      "Row(('POINT(-73.984844 40.713126)', 14), {'Station': 0, 'num_bikes_available': 1})\n",
      "Row(('POINT(-73.95204 40.73396)', 15), {'Station': 0, 'num_bikes_available': 1})\n",
      "Row(('POINT(-73.918316 40.83649)', 15), {'Station': 0, 'num_bikes_available': 1})\n",
      "Row(('POINT(-74.0416637063026 40.737551272458)', 15), {'Station': 0, 'num_bikes_available': 1})\n",
      "Row(('POINT(-74.00647134 40.6769993)', 16), {'Station': 0, 'num_bikes_available': 1})\n",
      "Row(('POINT(-73.9311847 40.7974772)', 13), {'Station': 0, 'num_bikes_available': 1})\n",
      "Row(('POINT(-73.908863 40.834015)', 16), {'Station': 0, 'num_bikes_available': 1})\n",
      "Row(('POINT(-73.94186 40.85168)', 14), {'Station': 0, 'num_bikes_available': 1})\n",
      "Row(('POINT(-73.905708 40.779399)', 14), {'Station': 0, 'num_bikes_available': 1})\n",
      "Row(('POINT(-73.967829 40.649681)', 16), {'Station': 0, 'num_bikes_available': 1})\n",
      "Row(('POINT(-73.977433 40.643817)', 16), {'Station': 0, 'num_bikes_available': 1})\n",
      "Row(('POINT(-74.043845 40.7177325)', 15), {'Station': 0, 'num_bikes_available': 1})\n",
      "Row(('POINT(-73.94407279 40.70510918)', 18), {'Station': 0, 'num_bikes_available': 1})\n",
      "Row(('POINT(-73.97673 40.649037)', 18), {'Station': 0, 'num_bikes_available': 1})\n",
      "Row(('POINT(-73.93504 40.79747)', 18), {'Station': 0, 'num_bikes_available': 1})\n",
      "Row(('POINT(-73.9383 40.7923272)', 18), {'Station': 0, 'num_bikes_available': 1})\n",
      "Row(('POINT(-73.91839 40.814673)', 19), {'Station': 0, 'num_bikes_available': 1})\n",
      "Row(('POINT(-74.0090009 40.71870987)', 21), {'Station': 0, 'num_bikes_available': 1})\n",
      "Row(('POINT(-73.98776323 40.71269042)', 20), {'Station': 0, 'num_bikes_available': 1})\n",
      "Row(('POINT(-73.9379 40.8029263)', 22), {'Station': 0, 'num_bikes_available': 1})\n",
      "Row(('POINT(-73.9596082 40.6765198)', 19), {'Station': 0, 'num_bikes_available': 1})\n",
      "Row(('POINT(-74.023087 40.646377)', 22), {'Station': 0, 'num_bikes_available': 1})\n",
      "Row(('POINT(-74.024714 40.638246)', 22), {'Station': 0, 'num_bikes_available': 1})\n",
      "Row(('POINT(-73.939336 40.813619)', 23), {'Station': 0, 'num_bikes_available': 1})\n",
      "Row(('POINT(-73.9751583337784 40.7250655101547)', 25), {'Station': 0, 'num_bikes_available': 1})\n",
      "Row(('POINT(-74.018846 40.64744)', 25), {'Station': 0, 'num_bikes_available': 1})\n",
      "Row(('POINT(-73.96024116 40.71534825)', 24), {'Station': 0, 'num_bikes_available': 1})\n",
      "Row(('POINT(-73.917338 40.816827)', 26), {'Station': 0, 'num_bikes_available': 1})\n",
      "Row(('POINT(-73.99203074 40.6902375)', 23), {'Station': 0, 'num_bikes_available': 1})\n",
      "Row(('POINT(-73.99994661 40.73781509)', 27), {'Station': 0, 'num_bikes_available': 1})\n",
      "Row(('POINT(-74.0106278657913 40.6553997744783)', 28), {'Station': 0, 'num_bikes_available': 1})\n",
      "Row(('POINT(-74.021506 40.644512)', 29), {'Station': 0, 'num_bikes_available': 1})\n",
      "Row(('POINT(-74.02324 40.639978)', 30), {'Station': 0, 'num_bikes_available': 1})\n",
      "Row(('POINT(-73.9995126 40.6893952)', 27), {'Station': 0, 'num_bikes_available': 1})\n",
      "Row(('POINT(-73.99098507 40.7575699)', 33), {'Station': 0, 'num_bikes_available': 1})\n",
      "Row(('POINT(-73.99400398 40.71076228)', 40), {'Station': 0, 'num_bikes_available': 1})\n",
      "Row(('POINT(-74.013247 40.709267)', 40), {'Station': 0, 'num_bikes_available': 1})\n",
      "Row(('POINT(-73.947526216507 40.7248125644002)', 46), {'Station': 0, 'num_bikes_available': 1})\n",
      "Row(('POINT(-73.98068914 40.69839895)', 53), {'Station': 0, 'num_bikes_available': 1})\n",
      "Row(('POINT(-73.99238967 40.73726186)', 55), {'Station': 0, 'num_bikes_available': 1})\n",
      "Row(('POINT(-73.99949601 40.72362738)', 62), {'Station': 0, 'num_bikes_available': 1})\n",
      "Row(('POINT(-73.92587 40.70869)', 11), {'Station': 0, 'num_bikes_available': 1})\n",
      "Row(('POINT(-73.909513 40.801657)', 11), {'Station': 0, 'num_bikes_available': 1})\n",
      "Row(('POINT(-73.94485918 40.7169811)', 12), {'Station': 0, 'num_bikes_available': 1})\n",
      "Row(('POINT(-74.0354826 40.7242941)', 11), {'Station': 0, 'num_bikes_available': 1})\n",
      "Row(('POINT(-74.0710607171059 40.7275514673001)', 12), {'Station': 0, 'num_bikes_available': 1})\n",
      "Row(('POINT(-74.0789 40.71113)', 12), {'Station': 0, 'num_bikes_available': 1})\n",
      "Row(('POINT(-73.96563307 40.68650065)', 13), {'Station': 0, 'num_bikes_available': 1})\n",
      "Row(('POINT(-73.934903 40.6814598)', 11), {'Station': 0, 'num_bikes_available': 1})\n",
      "Row(('POINT(-74.00785041 40.6794327)', 13), {'Station': 0, 'num_bikes_available': 1})\n",
      "Row(('POINT(-73.934077 40.805631)', 12), {'Station': 0, 'num_bikes_available': 1})\n",
      "Row(('POINT(-73.904867 40.843264)', 13), {'Station': 0, 'num_bikes_available': 1})\n",
      "Row(('POINT(-73.892317 40.841092)', 13), {'Station': 0, 'num_bikes_available': 1})\n",
      "Row(('POINT(-73.92936 40.867357)', 13), {'Station': 0, 'num_bikes_available': 1})\n",
      "Row(('POINT(-73.92793 40.71401)', 14), {'Station': 0, 'num_bikes_available': 1})\n",
      "Row(('POINT(-73.93973 40.81014)', 14), {'Station': 0, 'num_bikes_available': 1})\n",
      "Row(('POINT(-74.02564 40.640493)', 15), {'Station': 0, 'num_bikes_available': 1})\n",
      "Row(('POINT(-73.984275 40.683426)', 16), {'Station': 0, 'num_bikes_available': 1})\n",
      "Row(('POINT(-73.980963 40.646037)', 15), {'Station': 0, 'num_bikes_available': 1})\n",
      "Row(('POINT(-73.96986848 40.69794)', 16), {'Station': 0, 'num_bikes_available': 1})\n",
      "Row(('POINT(-73.941606 40.795508)', 17), {'Station': 0, 'num_bikes_available': 1})\n",
      "Row(('POINT(-73.9207631349564 40.8698986619404)', 17), {'Station': 0, 'num_bikes_available': 1})\n",
      "Row(('POINT(-73.94782145 40.7961535)', 18), {'Station': 0, 'num_bikes_available': 1})\n",
      "Row(('POINT(-73.896447 40.816343)', 18), {'Station': 0, 'num_bikes_available': 1})\n",
      "Row(('POINT(-73.93561 40.743)', 20), {'Station': 0, 'num_bikes_available': 1})\n",
      "Row(('POINT(-73.945993 40.791976)', 20), {'Station': 0, 'num_bikes_available': 1})\n",
      "Row(('POINT(-74.0036755800247 40.7435337324616)', 17), {'Station': 0, 'num_bikes_available': 1})\n",
      "Row(('POINT(-73.9794525504112 40.6610633719006)', 19), {'Station': 0, 'num_bikes_available': 1})\n",
      "Row(('POINT(-73.992466 40.666197)', 23), {'Station': 0, 'num_bikes_available': 1})\n",
      "Row(('POINT(-73.9523 40.7987859)', 24), {'Station': 0, 'num_bikes_available': 1})\n",
      "Row(('POINT(-73.9518776 40.8114323)', 26), {'Station': 0, 'num_bikes_available': 1})\n",
      "Row(('POINT(-73.99144871 40.74395411)', 27), {'Station': 0, 'num_bikes_available': 1})\n",
      "Row(('POINT(-74.00314 40.72323)', 27), {'Station': 0, 'num_bikes_available': 1})\n",
      "Row(('POINT(-74.0080341696739 40.7046966789497)', 30), {'Station': 0, 'num_bikes_available': 1})\n",
      "Row(('POINT(-74.01658354 40.7153379)', 32), {'Station': 0, 'num_bikes_available': 1})\n",
      "Row(('POINT(-73.981687 40.783786)', 27), {'Station': 0, 'num_bikes_available': 1})\n",
      "Row(('POINT(-74.00562789 40.71450451)', 33), {'Station': 0, 'num_bikes_available': 1})\n",
      "Row(('POINT(-73.9858362078667 40.7230774906867)', 39), {'Station': 0, 'num_bikes_available': 1})\n",
      "Row(('POINT(-74.0086269378662 40.7198879979813)', 39), {'Station': 0, 'num_bikes_available': 1})\n",
      "Row(('POINT(-74.00176802 40.75066386)', 37), {'Station': 0, 'num_bikes_available': 1})\n",
      "Row(('POINT(-74.0055973827839 40.7064107552361)', 47), {'Station': 0, 'num_bikes_available': 1})\n",
      "Row(('POINT(-74.0091059 40.71625008)', 47), {'Station': 0, 'num_bikes_available': 1})\n",
      "Row(('POINT(-73.981013 40.689888)', 66), {'Station': 0, 'num_bikes_available': 1})\n",
      "Row(('POINT(-73.9879739284515 40.7353670556054)', 72), {'Station': 0, 'num_bikes_available': 1})\n",
      "Row(('POINT(-74.0345008671284 40.7443978330956)', 11), {'Station': 0, 'num_bikes_available': 1})\n",
      "Row(('POINT(-74.042521 40.740802)', 11), {'Station': 0, 'num_bikes_available': 1})\n",
      "Row(('POINT(-73.91186 40.814046)', 12), {'Station': 0, 'num_bikes_available': 1})\n",
      "Row(('POINT(-73.979342 40.648005)', 12), {'Station': 0, 'num_bikes_available': 1})\n",
      "Row(('POINT(-73.931537 40.868846)', 12), {'Station': 0, 'num_bikes_available': 1})\n",
      "Row(('POINT(-74.0316 40.75409)', 12), {'Station': 0, 'num_bikes_available': 1})\n",
      "Row(('POINT(-73.918214 40.853157)', 12), {'Station': 0, 'num_bikes_available': 1})\n",
      "Row(('POINT(-73.92851 40.70686)', 13), {'Station': 0, 'num_bikes_available': 1})\n",
      "Row(('POINT(-73.973663 40.647718)', 13), {'Station': 0, 'num_bikes_available': 1})\n",
      "Row(('POINT(-73.98895053 40.666287)', 14), {'Station': 0, 'num_bikes_available': 1})\n",
      "Row(('POINT(-73.901614 40.757525)', 13), {'Station': 0, 'num_bikes_available': 1})\n",
      "Row(('POINT(-73.926363 40.867505)', 11), {'Station': 0, 'num_bikes_available': 1})\n",
      "Row(('POINT(-73.928489 40.86012)', 13), {'Station': 0, 'num_bikes_available': 1})\n",
      "Row(('POINT(-73.9151975512505 40.8693246564009)', 14), {'Station': 0, 'num_bikes_available': 1})\n",
      "Row(('POINT(-73.901883 40.847798)', 14), {'Station': 0, 'num_bikes_available': 1})\n",
      "Row(('POINT(-73.9477729797363 40.747370756468)', 14), {'Station': 0, 'num_bikes_available': 1})\n",
      "Row(('POINT(-73.94977234 40.74708586)', 16), {'Station': 0, 'num_bikes_available': 1})\n",
      "Row(('POINT(-73.923044 40.699304)', 15), {'Station': 0, 'num_bikes_available': 1})\n",
      "Row(('POINT(-73.9739 40.7921)', 15), {'Station': 0, 'num_bikes_available': 1})\n",
      "Row(('POINT(-73.936085 40.806414)', 17), {'Station': 0, 'num_bikes_available': 1})\n",
      "Row(('POINT(-74.01020234 40.71291224)', 16), {'Station': 0, 'num_bikes_available': 1})\n",
      "Row(('POINT(-74.0524783 40.7376037)', 19), {'Station': 0, 'num_bikes_available': 1})\n",
      "Row(('POINT(-73.93956237 40.7892529)', 19), {'Station': 0, 'num_bikes_available': 1})\n",
      "Row(('POINT(-73.94733276 40.74524768)', 19), {'Station': 0, 'num_bikes_available': 1})\n",
      "Row(('POINT(-73.99011 40.732647)', 18), {'Station': 0, 'num_bikes_available': 1})\n",
      "Row(('POINT(-73.948222 40.816234)', 15), {'Station': 0, 'num_bikes_available': 1})\n",
      "Row(('POINT(-73.9602512866668 40.6640798367816)', 18), {'Station': 0, 'num_bikes_available': 1})\n",
      "Row(('POINT(-74.002356 40.652657)', 23), {'Station': 0, 'num_bikes_available': 1})\n",
      "Row(('POINT(-73.953149 40.809725)', 21), {'Station': 0, 'num_bikes_available': 1})\n",
      "Row(('POINT(-74.014847 40.711444)', 23), {'Station': 0, 'num_bikes_available': 1})\n",
      "Row(('POINT(-73.9867260307074 40.7114713944693)', 24), {'Station': 0, 'num_bikes_available': 1})\n",
      "Row(('POINT(-73.9432635 40.74718234)', 27), {'Station': 0, 'num_bikes_available': 1})\n",
      "Row(('POINT(-74.00965965 40.72405549)', 27), {'Station': 0, 'num_bikes_available': 1})\n",
      "Row(('POINT(-73.89105 40.861748)', 27), {'Station': 0, 'num_bikes_available': 1})\n",
      "Row(('POINT(-73.955613 40.799484)', 25), {'Station': 0, 'num_bikes_available': 1})\n",
      "Row(('POINT(-73.95212324 40.72311651)', 31), {'Station': 0, 'num_bikes_available': 1})\n",
      "Row(('POINT(-74.0074735879898 40.742753828659)', 29), {'Station': 0, 'num_bikes_available': 1})\n",
      "Row(('POINT(-74.008769094944 40.7319113232317)', 32), {'Station': 0, 'num_bikes_available': 1})\n",
      "Row(('POINT(-73.9373554 40.7671863)', 30), {'Station': 0, 'num_bikes_available': 1})\n",
      "Row(('POINT(-73.9870295 40.71559509)', 35), {'Station': 0, 'num_bikes_available': 1})\n",
      "Row(('POINT(-73.9847123622894 40.7013344806699)', 47), {'Station': 0, 'num_bikes_available': 1})\n",
      "Row(('POINT(-74.0043228 40.7103231)', 47), {'Station': 0, 'num_bikes_available': 1})\n",
      "Row(('POINT(-74.00495 40.70838)', 57), {'Station': 0, 'num_bikes_available': 1})\n",
      "Row(('POINT(-74.00324957 40.6763744)', 11), {'Station': 0, 'num_bikes_available': 1})\n",
      "Row(('POINT(-73.90663 40.69467)', 11), {'Station': 0, 'num_bikes_available': 1})\n",
      "Row(('POINT(-73.94546 40.72158)', 11), {'Station': 0, 'num_bikes_available': 1})\n",
      "Row(('POINT(-73.936371 40.830702)', 11), {'Station': 0, 'num_bikes_available': 1})\n",
      "Row(('POINT(-73.925961 40.839142)', 11), {'Station': 0, 'num_bikes_available': 1})\n",
      "Row(('POINT(-73.935877 40.697481)', 11), {'Station': 0, 'num_bikes_available': 1})\n",
      "Row(('POINT(-73.915368 40.814383)', 12), {'Station': 0, 'num_bikes_available': 1})\n",
      "Row(('POINT(-73.98854 40.659053)', 11), {'Station': 0, 'num_bikes_available': 1})\n",
      "Row(('POINT(-74.0087952464819 40.6726724341095)', 12), {'Station': 0, 'num_bikes_available': 1})\n",
      "Row(('POINT(-74.00242364 40.6859296)', 13), {'Station': 0, 'num_bikes_available': 1})\n",
      "Row(('POINT(-73.899558 40.778089)', 13), {'Station': 0, 'num_bikes_available': 1})\n",
      "Row(('POINT(-73.9183719456196 40.8730545893709)', 13), {'Station': 0, 'num_bikes_available': 1})\n",
      "Row(('POINT(-74.0676221251488 40.7253399253558)', 12), {'Station': 0, 'num_bikes_available': 1})\n",
      "Row(('POINT(-74.0496379137039 40.7165397809919)', 14), {'Station': 0, 'num_bikes_available': 1})\n",
      "Row(('POINT(-73.9532423 40.802535)', 14), {'Station': 0, 'num_bikes_available': 1})\n",
      "Row(('POINT(-73.936521 40.819783)', 14), {'Station': 0, 'num_bikes_available': 1})\n",
      "Row(('POINT(-73.941342 40.698617)', 15), {'Station': 0, 'num_bikes_available': 1})\n",
      "Row(('POINT(-73.9354504 40.7692475)', 13), {'Station': 0, 'num_bikes_available': 1})\n",
      "Row(('POINT(-73.9022 40.69969)', 15), {'Station': 0, 'num_bikes_available': 1})\n",
      "Row(('POINT(-74.007168 40.651354)', 15), {'Station': 0, 'num_bikes_available': 1})\n",
      "Row(('POINT(-73.92791 40.865364)', 14), {'Station': 0, 'num_bikes_available': 1})\n",
      "Row(('POINT(-73.99193043 40.71173107)', 19), {'Station': 0, 'num_bikes_available': 1})\n",
      "Row(('POINT(-73.98620772 40.6849668)', 17), {'Station': 0, 'num_bikes_available': 1})\n",
      "Row(('POINT(-73.9690214395523 40.6776753426911)', 18), {'Station': 0, 'num_bikes_available': 1})\n",
      "Row(('POINT(-73.918877 40.698568)', 20), {'Station': 0, 'num_bikes_available': 1})\n",
      "Row(('POINT(-73.92112 40.833909)', 22), {'Station': 0, 'num_bikes_available': 1})\n",
      "Row(('POINT(-73.97668709 40.72228087)', 21), {'Station': 0, 'num_bikes_available': 1})\n",
      "Row(('POINT(-74.01167797 40.70365182)', 23), {'Station': 0, 'num_bikes_available': 1})\n",
      "Row(('POINT(-73.9876547455788 40.6790979972168)', 27), {'Station': 0, 'num_bikes_available': 1})\n",
      "Row(('POINT(-73.8985 40.84224)', 25), {'Station': 0, 'num_bikes_available': 1})\n",
      "Row(('POINT(-74.0093551576138 40.7133418427591)', 28), {'Station': 0, 'num_bikes_available': 1})\n",
      "Row(('POINT(-74.0075572 40.6747055)', 29), {'Station': 0, 'num_bikes_available': 1})\n",
      "Row(('POINT(-73.960405 40.818299)', 27), {'Station': 0, 'num_bikes_available': 1})\n",
      "Row(('POINT(-73.976831 40.727243)', 33), {'Station': 0, 'num_bikes_available': 1})\n",
      "Row(('POINT(-73.990409 40.703212)', 36), {'Station': 0, 'num_bikes_available': 1})\n",
      "Row(('POINT(-73.99364123 40.6777287)', 45), {'Station': 0, 'num_bikes_available': 1})\n",
      "Row(('POINT(-74.005549 40.717571)', 45), {'Station': 0, 'num_bikes_available': 1})\n",
      "Row(('POINT(-73.96751037 40.69610226)', 46), {'Station': 0, 'num_bikes_available': 1})\n",
      "Row(('POINT(-73.9886981248856 40.7007630832615)', 50), {'Station': 0, 'num_bikes_available': 1})\n",
      "Row(('POINT(-73.9127 40.698)', 11), {'Station': 0, 'num_bikes_available': 1})\n",
      "Row(('POINT(-73.984276 40.644367)', 12), {'Station': 0, 'num_bikes_available': 1})\n",
      "Row(('POINT(-73.92389 40.79346)', 11), {'Station': 0, 'num_bikes_available': 1})\n",
      "Row(('POINT(-73.99612349 40.69089272)', 14), {'Station': 0, 'num_bikes_available': 1})\n",
      "Row(('POINT(-73.932173 40.857994)', 14), {'Station': 0, 'num_bikes_available': 1})\n",
      "Row(('POINT(-73.93616 40.74133)', 14), {'Station': 0, 'num_bikes_available': 1})\n",
      "Row(('POINT(-73.94644578 40.70583339)', 15), {'Station': 0, 'num_bikes_available': 1})\n",
      "Row(('POINT(-73.93637 40.716657)', 15), {'Station': 0, 'num_bikes_available': 1})\n",
      "Row(('POINT(-73.941957950592 40.790586067792)', 15), {'Station': 0, 'num_bikes_available': 1})\n",
      "Row(('POINT(-73.99667444 40.76341379)', 12), {'Station': 0, 'num_bikes_available': 1})\n",
      "Row(('POINT(-73.937413 40.82281)', 15), {'Station': 0, 'num_bikes_available': 1})\n",
      "Row(('POINT(-73.9498436450958 40.7239567849954)', 16), {'Station': 0, 'num_bikes_available': 1})\n",
      "Row(('POINT(-73.9865 40.677027)', 18), {'Station': 0, 'num_bikes_available': 1})\n",
      "Row(('POINT(-73.900318 40.754176)', 15), {'Station': 0, 'num_bikes_available': 1})\n",
      "Row(('POINT(-73.97178913 40.69308257)', 18), {'Station': 0, 'num_bikes_available': 1})\n",
      "Row(('POINT(-73.95850939 40.71745169)', 15), {'Station': 0, 'num_bikes_available': 1})\n",
      "Row(('POINT(-73.937261 40.796879)', 22), {'Station': 0, 'num_bikes_available': 1})\n",
      "Row(('POINT(-73.9906775951385 40.7173184038558)', 21), {'Station': 0, 'num_bikes_available': 1})\n",
      "Row(('POINT(-74.009447 40.711066)', 24), {'Station': 0, 'num_bikes_available': 1})\n",
      "Row(('POINT(-73.9477649331093 40.8094953477795)', 23), {'Station': 0, 'num_bikes_available': 1})\n",
      "Row(('POINT(-73.987167 40.695065)', 24), {'Station': 0, 'num_bikes_available': 1})\n",
      "Row(('POINT(-73.98432695 40.6802133)', 25), {'Station': 0, 'num_bikes_available': 1})\n",
      "Row(('POINT(-73.986274 40.720747)', 24), {'Station': 0, 'num_bikes_available': 1})\n",
      "Row(('POINT(-73.9787162840366 40.7197863545282)', 25), {'Station': 0, 'num_bikes_available': 1})\n",
      "Row(('POINT(-73.97995466 40.72299208)', 28), {'Station': 0, 'num_bikes_available': 1})\n",
      "Row(('POINT(-74.0253531932831 40.6851255951541)', 19), {'Station': 0, 'num_bikes_available': 1})\n",
      "Row(('POINT(-73.9862 40.700119)', 34), {'Station': 0, 'num_bikes_available': 1})\n",
      "Row(('POINT(-73.916894 40.783956)', 11), {'Station': 0, 'num_bikes_available': 1})\n",
      "Row(('POINT(-73.901942 40.866899)', 11), {'Station': 0, 'num_bikes_available': 1})\n",
      "Row(('POINT(-74.047726625 40.71848892)', 11), {'Station': 0, 'num_bikes_available': 1})\n",
      "Row(('POINT(-73.927987 40.816576)', 13), {'Station': 0, 'num_bikes_available': 1})\n",
      "Row(('POINT(-73.918889 40.805089)', 12), {'Station': 0, 'num_bikes_available': 1})\n",
      "Row(('POINT(-73.981073 40.642031)', 13), {'Station': 0, 'num_bikes_available': 1})\n",
      "Row(('POINT(-73.91966 40.68822)', 14), {'Station': 0, 'num_bikes_available': 1})\n",
      "Row(('POINT(-73.91906 40.79558)', 13), {'Station': 0, 'num_bikes_available': 1})\n",
      "Row(('POINT(-73.95852515 40.7190095)', 15), {'Station': 0, 'num_bikes_available': 1})\n",
      "Row(('POINT(-73.95394 40.73026)', 17), {'Station': 0, 'num_bikes_available': 1})\n",
      "Row(('POINT(-74.009271 40.646351)', 17), {'Station': 0, 'num_bikes_available': 1})\n",
      "Row(('POINT(-73.9798897504807 40.6817781092876)', 16), {'Station': 0, 'num_bikes_available': 1})\n",
      "Row(('POINT(-73.98016555 40.71739973)', 18), {'Station': 0, 'num_bikes_available': 1})\n",
      "Row(('POINT(-74.0148657560349 40.6923166071919)', 13), {'Station': 0, 'num_bikes_available': 1})\n",
      "Row(('POINT(-73.9398167 40.8013066)', 18), {'Station': 0, 'num_bikes_available': 1})\n",
      "Row(('POINT(-73.99253 40.702709)', 19), {'Station': 0, 'num_bikes_available': 1})\n",
      "Row(('POINT(-73.98261428 40.77163851)', 17), {'Station': 0, 'num_bikes_available': 1})\n",
      "Row(('POINT(-73.98266566 40.77492513)', 18), {'Station': 0, 'num_bikes_available': 1})\n",
      "Row(('POINT(-73.99383324 40.686371)', 19), {'Station': 0, 'num_bikes_available': 1})\n",
      "Row(('POINT(-73.936322 40.805726)', 21), {'Station': 0, 'num_bikes_available': 1})\n",
      "Row(('POINT(-73.9796772 40.68683208)', 25), {'Station': 0, 'num_bikes_available': 1})\n",
      "Row(('POINT(-73.9477213 40.7639089)', 22), {'Station': 0, 'num_bikes_available': 1})\n",
      "Row(('POINT(-74.0065509080887 40.7096008936354)', 32), {'Station': 0, 'num_bikes_available': 1})\n",
      "Row(('POINT(-74.008119 40.739323)', 37), {'Station': 0, 'num_bikes_available': 1})\n",
      "Row(('POINT(-73.9958167076111 40.7327588704509)', 46), {'Station': 0, 'num_bikes_available': 1})\n",
      "Row(('POINT(-73.919549 40.816402)', 12), {'Station': 0, 'num_bikes_available': 1})\n",
      "Row(('POINT(-73.90678 40.87069)', 12), {'Station': 0, 'num_bikes_available': 1})\n",
      "Row(('POINT(-73.9175833761692 40.8630893781327)', 13), {'Station': 0, 'num_bikes_available': 1})\n",
      "Row(('POINT(-73.91219 40.86156)', 12), {'Station': 0, 'num_bikes_available': 1})\n",
      "Row(('POINT(-73.99037292 40.6786115)', 11), {'Station': 0, 'num_bikes_available': 1})\n",
      "Row(('POINT(-74.006584 40.659176)', 16), {'Station': 0, 'num_bikes_available': 1})\n",
      "Row(('POINT(-73.95299117 40.72708584)', 16), {'Station': 0, 'num_bikes_available': 1})\n",
      "Row(('POINT(-73.99061728 40.76669671)', 16), {'Station': 0, 'num_bikes_available': 1})\n",
      "Row(('POINT(-73.97574813 40.72368361)', 19), {'Station': 0, 'num_bikes_available': 1})\n",
      "Row(('POINT(-73.98352355 40.6728155)', 15), {'Station': 0, 'num_bikes_available': 1})\n",
      "Row(('POINT(-74.03281 40.71687)', 17), {'Station': 0, 'num_bikes_available': 1})\n",
      "Row(('POINT(-73.98751968 40.73827428)', 18), {'Station': 0, 'num_bikes_available': 1})\n",
      "Row(('POINT(-73.95032283 40.70029511)', 17), {'Station': 0, 'num_bikes_available': 1})\n",
      "Row(('POINT(-73.9521 40.74966)', 22), {'Station': 0, 'num_bikes_available': 1})\n",
      "Row(('POINT(-73.9452087 40.808442)', 20), {'Station': 0, 'num_bikes_available': 1})\n",
      "Row(('POINT(-73.9396861 40.8045555)', 23), {'Station': 0, 'num_bikes_available': 1})\n",
      "Row(('POINT(-73.99884222 40.76030096)', 23), {'Station': 0, 'num_bikes_available': 1})\n",
      "Row(('POINT(-74.00926027 40.7047177)', 33), {'Station': 0, 'num_bikes_available': 1})\n",
      "Row(('POINT(-73.99177 40.75461)', 31), {'Station': 0, 'num_bikes_available': 1})\n",
      "Row(('POINT(-73.98154004 40.6792788)', 39), {'Station': 0, 'num_bikes_available': 1})\n",
      "Row(('POINT(-74.0021163 40.75594159)', 43), {'Station': 0, 'num_bikes_available': 1})\n",
      "Row(('POINT(-74.01322069 40.71754834)', 67), {'Station': 0, 'num_bikes_available': 1})\n",
      "Row(('POINT(-73.9422959089279 40.8169597103246)', 11), {'Station': 0, 'num_bikes_available': 1})\n",
      "Row(('POINT(-73.9423 40.797911)', 12), {'Station': 0, 'num_bikes_available': 1})\n",
      "Row(('POINT(-73.92404 40.80046)', 12), {'Station': 0, 'num_bikes_available': 1})\n",
      "Row(('POINT(-73.929737 40.752443)', 13), {'Station': 0, 'num_bikes_available': 1})\n",
      "Row(('POINT(-73.9592193067074 40.7224818863822)', 12), {'Station': 0, 'num_bikes_available': 1})\n",
      "Row(('POINT(-73.98282002 40.6772744)', 16), {'Station': 0, 'num_bikes_available': 1})\n",
      "Row(('POINT(-73.9752320945263 40.6751468387098)', 13), {'Station': 0, 'num_bikes_available': 1})\n",
      "Row(('POINT(-73.9181157946587 40.7654756924495)', 15), {'Station': 0, 'num_bikes_available': 1})\n",
      "Row(('POINT(-73.95068615 40.77565541)', 17), {'Station': 0, 'num_bikes_available': 1})\n",
      "Row(('POINT(-73.9389152 40.799139)', 18), {'Station': 0, 'num_bikes_available': 1})\n",
      "Row(('POINT(-73.9534573 40.7449067)', 19), {'Station': 0, 'num_bikes_available': 1})\n",
      "Row(('POINT(-73.919379 40.823732)', 19), {'Station': 0, 'num_bikes_available': 1})\n",
      "Row(('POINT(-74.0243527293205 40.752960630465)', 20), {'Station': 0, 'num_bikes_available': 1})\n",
      "Row(('POINT(-73.973217 40.65482)', 23), {'Station': 0, 'num_bikes_available': 1})\n",
      "Row(('POINT(-74.002353 40.752694)', 23), {'Station': 0, 'num_bikes_available': 1})\n",
      "Row(('POINT(-74.0046073 40.71273266)', 21), {'Station': 0, 'num_bikes_available': 1})\n",
      "Row(('POINT(-73.956461 40.813358)', 26), {'Station': 0, 'num_bikes_available': 1})\n",
      "Row(('POINT(-74.0087020397186 40.6570886666848)', 31), {'Station': 0, 'num_bikes_available': 1})\n",
      "Row(('POINT(-73.99726235 40.74238787)', 29), {'Station': 0, 'num_bikes_available': 1})\n",
      "Row(('POINT(-73.973736 40.697787)', 32), {'Station': 0, 'num_bikes_available': 1})\n",
      "Row(('POINT(-73.99063168 40.6867443)', 35), {'Station': 0, 'num_bikes_available': 1})\n",
      "Row(('POINT(-74.00566443 40.72243797)', 35), {'Station': 0, 'num_bikes_available': 1})\n",
      "Row(('POINT(-73.98683077 40.7451677)', 39), {'Station': 0, 'num_bikes_available': 1})\n",
      "Row(('POINT(-73.963198 40.716887)', 39), {'Station': 0, 'num_bikes_available': 1})\n",
      "Row(('POINT(-74.002381414175 40.7217000523561)', 46), {'Station': 0, 'num_bikes_available': 1})\n",
      "Row(('POINT(-73.99266288 40.71893904)', 51), {'Station': 0, 'num_bikes_available': 1})\n",
      "Row(('POINT(-74.00771779 40.72185379)', 78), {'Station': 0, 'num_bikes_available': 1})\n",
      "Row(('POINT(-73.98700053 40.6686273)', 11), {'Station': 0, 'num_bikes_available': 1})\n",
      "Row(('POINT(-73.986842 40.702461)', 11), {'Station': 0, 'num_bikes_available': 1})\n",
      "Row(('POINT(-73.95739 40.71469)', 12), {'Station': 0, 'num_bikes_available': 1})\n",
      "Row(('POINT(-73.92302 40.69676)', 11), {'Station': 0, 'num_bikes_available': 1})\n",
      "Row(('POINT(-73.911517 40.755389)', 12), {'Station': 0, 'num_bikes_available': 1})\n",
      "Row(('POINT(-73.991007 40.663493)', 12), {'Station': 0, 'num_bikes_available': 1})\n",
      "Row(('POINT(-74.00618026 40.73652889)', 13), {'Station': 0, 'num_bikes_available': 1})\n",
      "Row(('POINT(-73.9504154 40.72179134)', 12), {'Station': 0, 'num_bikes_available': 1})\n",
      "Row(('POINT(-73.97839676 40.6703837)', 12), {'Station': 0, 'num_bikes_available': 1})\n",
      "Row(('POINT(-73.926241 40.697842)', 14), {'Station': 0, 'num_bikes_available': 1})\n",
      "Row(('POINT(-74.00674436 40.73172428)', 18), {'Station': 0, 'num_bikes_available': 1})\n",
      "Row(('POINT(-73.9631145 40.6716493)', 16), {'Station': 0, 'num_bikes_available': 1})\n",
      "Row(('POINT(-74.0469637513161 40.7352083804536)', 19), {'Station': 0, 'num_bikes_available': 1})\n",
      "Row(('POINT(-73.98473765 40.73624527)', 22), {'Station': 0, 'num_bikes_available': 1})\n",
      "Row(('POINT(-73.9170074 40.7711528)', 22), {'Station': 0, 'num_bikes_available': 1})\n",
      "Row(('POINT(-73.9900968968868 40.7133215120819)', 26), {'Station': 0, 'num_bikes_available': 1})\n",
      "Row(('POINT(-73.98426726 40.72953837)', 23), {'Station': 0, 'num_bikes_available': 1})\n",
      "Row(('POINT(-73.99851193 40.71307916)', 34), {'Station': 0, 'num_bikes_available': 1})\n",
      "Row(('POINT(-74.00149746 40.74177603)', 35), {'Station': 0, 'num_bikes_available': 1})\n",
      "Row(('POINT(-73.99415556 40.74173969)', 33), {'Station': 0, 'num_bikes_available': 1})\n",
      "Row(('POINT(-73.9886498451233 40.723355979608)', 36), {'Station': 0, 'num_bikes_available': 1})\n",
      "Row(('POINT(-73.992085 40.734814)', 45), {'Station': 0, 'num_bikes_available': 1})\n",
      "Row(('POINT(-73.9349 40.8006721)', 11), {'Station': 0, 'num_bikes_available': 1})\n",
      "Row(('POINT(-73.9430681 40.8107922)', 11), {'Station': 0, 'num_bikes_available': 1})\n",
      "Row(('POINT(-73.890745 40.768728)', 11), {'Station': 0, 'num_bikes_available': 1})\n",
      "Row(('POINT(-74.016562 40.633385)', 11), {'Station': 0, 'num_bikes_available': 1})\n",
      "Row(('POINT(-74.044247311 40.727595966)', 12), {'Station': 0, 'num_bikes_available': 1})\n",
      "Row(('POINT(-74.0324530005455 40.7481612106515)', 12), {'Station': 0, 'num_bikes_available': 1})\n",
      "Row(('POINT(-73.896752 40.821967)', 13), {'Station': 0, 'num_bikes_available': 1})\n",
      "Row(('POINT(-73.914318 40.87139)', 13), {'Station': 0, 'num_bikes_available': 1})\n",
      "Row(('POINT(-73.9785526692867 40.6789700704757)', 13), {'Station': 0, 'num_bikes_available': 1})\n",
      "Row(('POINT(-73.915026 40.751555)', 15), {'Station': 0, 'num_bikes_available': 1})\n",
      "Row(('POINT(-73.9707809686661 40.7051480769839)', 16), {'Station': 0, 'num_bikes_available': 1})\n",
      "Row(('POINT(-73.9960889518261 40.7541451926352)', 16), {'Station': 0, 'num_bikes_available': 1})\n",
      "Row(('POINT(-73.97768752 40.72521311)', 19), {'Station': 0, 'num_bikes_available': 1})\n",
      "Row(('POINT(-73.9790126681328 40.7241294409009)', 24), {'Station': 0, 'num_bikes_available': 1})\n",
      "Row(('POINT(-73.9790689945221 40.7667405590595)', 21), {'Station': 0, 'num_bikes_available': 1})\n",
      "Row(('POINT(-73.963014 40.663657)', 25), {'Station': 0, 'num_bikes_available': 1})\n",
      "Row(('POINT(-74.0055893361568 40.7375299330107)', 31), {'Station': 0, 'num_bikes_available': 1})\n",
      "Row(('POINT(-74.0132188796997 40.7059451327088)', 32), {'Station': 0, 'num_bikes_available': 1})\n",
      "Row(('POINT(-73.9580136537552 40.694546087246)', 11), {'Station': 0, 'num_bikes_available': 1})\n",
      "Row(('POINT(-73.94446054 40.77518615)', 11), {'Station': 0, 'num_bikes_available': 1})\n",
      "Row(('POINT(-73.9814832 40.6751622)', 11), {'Station': 0, 'num_bikes_available': 1})\n",
      "Row(('POINT(-73.9680438 40.6794388)', 11), {'Station': 0, 'num_bikes_available': 1})\n",
      "Row(('POINT(-73.957539 40.745038)', 11), {'Station': 0, 'num_bikes_available': 1})\n",
      "Row(('POINT(-73.941878 40.81296)', 12), {'Station': 0, 'num_bikes_available': 1})\n",
      "Row(('POINT(-73.89246 40.86389)', 12), {'Station': 0, 'num_bikes_available': 1})\n",
      "Row(('POINT(-73.9111903309822 40.7730150829138)', 12), {'Station': 0, 'num_bikes_available': 1})\n",
      "Row(('POINT(-73.942954 40.80295)', 13), {'Station': 0, 'num_bikes_available': 1})\n",
      "Row(('POINT(-73.91125 40.83094)', 14), {'Station': 0, 'num_bikes_available': 1})\n",
      "Row(('POINT(-73.950503 40.7849032)', 15), {'Station': 0, 'num_bikes_available': 1})\n",
      "Row(('POINT(-74.0112233161926 40.7148515052625)', 16), {'Station': 0, 'num_bikes_available': 1})\n",
      "Row(('POINT(-73.95407149 40.77801203)', 21), {'Station': 0, 'num_bikes_available': 1})\n",
      "Row(('POINT(-74.00214988 40.73038599)', 21), {'Station': 0, 'num_bikes_available': 1})\n",
      "Row(('POINT(-73.98940236 40.70255088)', 42), {'Station': 0, 'num_bikes_available': 1})\n",
      "Row(('POINT(-73.99074142 40.73454567)', 62), {'Station': 0, 'num_bikes_available': 1})\n",
      "Row(('POINT(-73.996637 40.747968)', 16), {'Station': 0, 'num_bikes_available': 1})\n",
      "Row(('POINT(-73.97948148 40.71219906)', 16), {'Station': 0, 'num_bikes_available': 1})\n",
      "Row(('POINT(-73.97793172 40.72082834)', 19), {'Station': 0, 'num_bikes_available': 1})\n",
      "Row(('POINT(-73.960876 40.710451)', 22), {'Station': 0, 'num_bikes_available': 1})\n",
      "Row(('POINT(-74.0076532959938 40.7258399679237)', 25), {'Station': 0, 'num_bikes_available': 1})\n",
      "Row(('POINT(-73.9846909046173 40.7029693415527)', 28), {'Station': 0, 'num_bikes_available': 1})\n",
      "Row(('POINT(-74.00473 40.72431)', 28), {'Station': 0, 'num_bikes_available': 1})\n",
      "Row(('POINT(-73.996429592371 40.7380461424828)', 28), {'Station': 0, 'num_bikes_available': 1})\n",
      "Row(('POINT(-74.0026376103 40.7390169121)', 31), {'Station': 0, 'num_bikes_available': 1})\n",
      "Row(('POINT(-74.008591 40.728846)', 34), {'Station': 0, 'num_bikes_available': 1})\n",
      "Row(('POINT(-73.9853024482727 40.7315393746407)', 35), {'Station': 0, 'num_bikes_available': 1})\n",
      "Row(('POINT(-74.007867872715 40.7033668669587)', 46), {'Station': 0, 'num_bikes_available': 1})\n",
      "Row(('POINT(-73.99190759 40.71605866)', 58), {'Station': 0, 'num_bikes_available': 1})\n",
      "Row(('POINT(-74.00234482 40.71494807)', 62), {'Station': 0, 'num_bikes_available': 1})\n",
      "Row(('POINT(-73.94860294 40.7859201)', 13), {'Station': 0, 'num_bikes_available': 1})\n",
      "Row(('POINT(-74.034234 40.7192517)', 13), {'Station': 0, 'num_bikes_available': 1})\n",
      "Row(('POINT(-73.9236611 40.7557327)', 14), {'Station': 0, 'num_bikes_available': 1})\n",
      "Row(('POINT(-73.9728891849518 40.7901794809508)', 13), {'Station': 0, 'num_bikes_available': 1})\n",
      "Row(('POINT(-73.9551508 40.81)', 18), {'Station': 0, 'num_bikes_available': 1})\n",
      "Row(('POINT(-73.991581 40.7003)', 19), {'Station': 0, 'num_bikes_available': 1})\n",
      "Row(('POINT(-73.9744012802839 40.6999974843885)', 22), {'Station': 0, 'num_bikes_available': 1})\n",
      "Row(('POINT(-73.99475825 40.680611)', 24), {'Station': 0, 'num_bikes_available': 1})\n",
      "Row(('POINT(-73.99974372 40.71602118)', 25), {'Station': 0, 'num_bikes_available': 1})\n",
      "Row(('POINT(-73.96094022 40.7612274)', 26), {'Station': 0, 'num_bikes_available': 1})\n",
      "Row(('POINT(-73.9957214 40.73049393)', 43), {'Station': 0, 'num_bikes_available': 1})\n",
      "Row(('POINT(-73.993934 40.751551)', 41), {'Station': 0, 'num_bikes_available': 1})\n",
      "Row(('POINT(-73.9949034154415 40.7314372408523)', 58), {'Station': 0, 'num_bikes_available': 1})\n",
      "Row(('POINT(-73.94552579 40.7862586)', 12), {'Station': 0, 'num_bikes_available': 1})\n",
      "Row(('POINT(-73.9347774 40.7668)', 12), {'Station': 0, 'num_bikes_available': 1})\n",
      "Row(('POINT(-73.9937996864319 40.7589848139963)', 12), {'Station': 0, 'num_bikes_available': 1})\n",
      "Row(('POINT(-73.99005 40.77237)', 17), {'Station': 0, 'num_bikes_available': 1})\n",
      "Row(('POINT(-73.98855723 40.7462009)', 18), {'Station': 0, 'num_bikes_available': 1})\n",
      "Row(('POINT(-73.95284 40.73555)', 20), {'Station': 0, 'num_bikes_available': 1})\n",
      "Row(('POINT(-73.9891869574785 40.7751595343424)', 22), {'Station': 0, 'num_bikes_available': 1})\n",
      "Row(('POINT(-74.0106 40.72231)', 25), {'Station': 0, 'num_bikes_available': 1})\n",
      "Row(('POINT(-73.9954519271851 40.6882551659801)', 26), {'Station': 0, 'num_bikes_available': 1})\n",
      "Row(('POINT(-73.95411749 40.74232744)', 26), {'Station': 0, 'num_bikes_available': 1})\n",
      "Row(('POINT(-73.981759250164 40.7285474502394)', 27), {'Station': 0, 'num_bikes_available': 1})\n",
      "Row(('POINT(-74.0036380290985 40.7321389628738)', 41), {'Station': 0, 'num_bikes_available': 1})\n",
      "Row(('POINT(-73.98329859 40.71850211)', 41), {'Station': 0, 'num_bikes_available': 1})\n",
      "Row(('POINT(-73.99009296 40.73704984)', 44), {'Station': 0, 'num_bikes_available': 1})\n",
      "Row(('POINT(-73.93889 40.72226)', 11), {'Station': 0, 'num_bikes_available': 1})\n",
      "Row(('POINT(-73.98876585 40.6705135)', 12), {'Station': 0, 'num_bikes_available': 1})\n",
      "Row(('POINT(-73.923511 40.69047)', 11), {'Station': 0, 'num_bikes_available': 1})\n",
      "Row(('POINT(-73.95095259 40.70877084)', 11), {'Station': 0, 'num_bikes_available': 1})\n",
      "Row(('POINT(-73.99869893 40.6763947)', 14), {'Station': 0, 'num_bikes_available': 1})\n",
      "Row(('POINT(-73.9117187261581 40.6998714088299)', 17), {'Station': 0, 'num_bikes_available': 1})\n",
      "Row(('POINT(-73.9559590816498 40.78141070019)', 17), {'Station': 0, 'num_bikes_available': 1})\n",
      "Row(('POINT(-73.98658032 40.75513557)', 16), {'Station': 0, 'num_bikes_available': 1})\n",
      "Row(('POINT(-74.0431174635887 40.7195861164717)', 20), {'Station': 0, 'num_bikes_available': 1})\n",
      "Row(('POINT(-73.957481 40.7857851)', 18), {'Station': 0, 'num_bikes_available': 1})\n",
      "Row(('POINT(-73.99337909 40.69239502)', 30), {'Station': 0, 'num_bikes_available': 1})\n",
      "Row(('POINT(-73.993915 40.746647)', 26), {'Station': 0, 'num_bikes_available': 1})\n",
      "Row(('POINT(-73.9910262823105 40.7302066052995)', 68), {'Station': 0, 'num_bikes_available': 1})\n",
      "Row(('POINT(-73.9500739 40.8011939)', 11), {'Station': 0, 'num_bikes_available': 1})\n",
      "Row(('POINT(-73.98971773 40.69991755)', 18), {'Station': 0, 'num_bikes_available': 1})\n",
      "Row(('POINT(-73.95249933 40.7922553)', 17), {'Station': 0, 'num_bikes_available': 1})\n",
      "Row(('POINT(-73.981909 40.693534)', 27), {'Station': 0, 'num_bikes_available': 1})\n",
      "Row(('POINT(-73.962658 40.759125)', 26), {'Station': 0, 'num_bikes_available': 1})\n",
      "Row(('POINT(-73.9612390102593 40.7317347858835)', 34), {'Station': 0, 'num_bikes_available': 1})\n",
      "Row(('POINT(-73.98759104 40.6864442)', 56), {'Station': 0, 'num_bikes_available': 1})\n",
      "Row(('POINT(-73.9798977971077 40.6825642575969)', 12), {'Station': 0, 'num_bikes_available': 1})\n",
      "Row(('POINT(-74.017651 40.641269)', 14), {'Station': 0, 'num_bikes_available': 1})\n",
      "Row(('POINT(-73.957145 40.801694)', 15), {'Station': 0, 'num_bikes_available': 1})\n",
      "Row(('POINT(-73.967641 40.755293)', 19), {'Station': 0, 'num_bikes_available': 1})\n",
      "Row(('POINT(-74.0093548223581 40.7085889424058)', 23), {'Station': 0, 'num_bikes_available': 1})\n",
      "Row(('POINT(-74.01361706 40.70463334)', 25), {'Station': 0, 'num_bikes_available': 1})\n",
      "Row(('POINT(-74.00711384 40.73291553)', 27), {'Station': 0, 'num_bikes_available': 1})\n",
      "Row(('POINT(-73.98268129 40.76344058)', 33), {'Station': 0, 'num_bikes_available': 1})\n",
      "Row(('POINT(-73.9952078461647 40.7496526847285)', 36), {'Station': 0, 'num_bikes_available': 1})\n",
      "Row(('POINT(-73.99529885 40.74487634)', 50), {'Station': 0, 'num_bikes_available': 1})\n",
      "Row(('POINT(-73.898589 40.861669)', 11), {'Station': 0, 'num_bikes_available': 1})\n",
      "Row(('POINT(-73.9586520195007 40.7537022541911)', 12), {'Station': 0, 'num_bikes_available': 1})\n",
      "Row(('POINT(-73.97846879 40.6765304)', 18), {'Station': 0, 'num_bikes_available': 1})\n",
      "Row(('POINT(-74.0167558512167 40.6870657987591)', 11), {'Station': 0, 'num_bikes_available': 1})\n",
      "Row(('POINT(-74.0085149556398 40.7334239943708)', 22), {'Station': 0, 'num_bikes_available': 1})\n",
      "Row(('POINT(-73.99456405 40.73971301)', 17), {'Station': 0, 'num_bikes_available': 1})\n",
      "Row(('POINT(-73.9756813647 40.7332086265224)', 29), {'Station': 0, 'num_bikes_available': 1})\n",
      "Row(('POINT(-73.9891862869263 40.7428687731211)', 25), {'Station': 0, 'num_bikes_available': 1})\n",
      "Row(('POINT(-73.9584079384804 40.7687620293096)', 31), {'Station': 0, 'num_bikes_available': 1})\n",
      "Row(('POINT(-73.99301222 40.76269882)', 12), {'Station': 0, 'num_bikes_available': 1})\n",
      "Row(('POINT(-73.9488134 40.778301)', 13), {'Station': 0, 'num_bikes_available': 1})\n",
      "Row(('POINT(-73.9974018931389 40.754691750226)', 16), {'Station': 0, 'num_bikes_available': 1})\n",
      "Row(('POINT(-73.93540375 40.74469738)', 20), {'Station': 0, 'num_bikes_available': 1})\n",
      "Row(('POINT(-73.989494740963 40.6924182925785)', 23), {'Station': 0, 'num_bikes_available': 1})\n",
      "Row(('POINT(-73.988408446312 40.7273786932322)', 23), {'Station': 0, 'num_bikes_available': 1})\n",
      "Row(('POINT(-73.98889957 40.73223272)', 24), {'Station': 0, 'num_bikes_available': 1})\n",
      "Row(('POINT(-74.0104722976685 40.7122195800905)', 23), {'Station': 0, 'num_bikes_available': 1})\n",
      "Row(('POINT(-73.983293 40.741459)', 32), {'Station': 0, 'num_bikes_available': 1})\n",
      "Row(('POINT(-73.99915362 40.74475148)', 41), {'Station': 0, 'num_bikes_available': 1})\n",
      "Row(('POINT(-73.986923 40.734232)', 51), {'Station': 0, 'num_bikes_available': 1})\n",
      "Row(('POINT(-73.925921 40.761584)', 11), {'Station': 0, 'num_bikes_available': 1})\n",
      "Row(('POINT(-73.98631746 40.69236178)', 14), {'Station': 0, 'num_bikes_available': 1})\n",
      "Row(('POINT(-73.97667321 40.78524672)', 11), {'Station': 0, 'num_bikes_available': 1})\n",
      "Row(('POINT(-73.9816063642502 40.7406931773304)', 14), {'Station': 0, 'num_bikes_available': 1})\n",
      "Row(('POINT(-73.9618840813637 40.7955895410534)', 13), {'Station': 0, 'num_bikes_available': 1})\n",
      "Row(('POINT(-74.013012 40.7149787)', 17), {'Station': 0, 'num_bikes_available': 1})\n",
      "Row(('POINT(-73.964179 40.756265)', 16), {'Station': 0, 'num_bikes_available': 1})\n",
      "Row(('POINT(-73.9931613206863 40.7177981773783)', 37), {'Station': 0, 'num_bikes_available': 1})\n",
      "Row(('POINT(-73.98849 40.73127)', 55), {'Station': 0, 'num_bikes_available': 1})\n",
      "Row(('POINT(-73.989539 40.752149)', 11), {'Station': 0, 'num_bikes_available': 1})\n",
      "Row(('POINT(-73.9865510165691 40.7617122791067)', 25), {'Station': 0, 'num_bikes_available': 1})\n",
      "Row(('POINT(-74.00681753 40.74334935)', 32), {'Station': 0, 'num_bikes_available': 1})\n",
      "Row(('POINT(-74.00366443 40.74317449)', 34), {'Station': 0, 'num_bikes_available': 1})\n",
      "Row(('POINT(-73.98185424 40.72453734)', 42), {'Station': 0, 'num_bikes_available': 1})\n",
      "Row(('POINT(-73.9845165610313 40.6884174275408)', 13), {'Station': 0, 'num_bikes_available': 1})\n",
      "Row(('POINT(-73.98288594 40.77748046)', 16), {'Station': 0, 'num_bikes_available': 1})\n",
      "Row(('POINT(-73.97634151 40.76590936)', 17), {'Station': 0, 'num_bikes_available': 1})\n",
      "Row(('POINT(-73.96526895 40.76312584)', 22), {'Station': 0, 'num_bikes_available': 1})\n",
      "Row(('POINT(-73.98192338 40.7652654)', 45), {'Station': 0, 'num_bikes_available': 1})\n",
      "Row(('POINT(-73.916142 40.7729)', 17), {'Station': 0, 'num_bikes_available': 1})\n",
      "Row(('POINT(-74.00277668 40.76087502)', 19), {'Station': 0, 'num_bikes_available': 1})\n",
      "Row(('POINT(-73.98085795 40.7208736)', 27), {'Station': 0, 'num_bikes_available': 1})\n",
      "Row(('POINT(-73.98368779 40.72217444)', 29), {'Station': 0, 'num_bikes_available': 1})\n",
      "Row(('POINT(-73.98362464 40.69474881)', 13), {'Station': 0, 'num_bikes_available': 1})\n",
      "Row(('POINT(-73.9772920311316 40.7494985460252)', 13), {'Station': 0, 'num_bikes_available': 1})\n",
      "Row(('POINT(-73.982631 40.756951)', 11), {'Station': 0, 'num_bikes_available': 1})\n",
      "Row(('POINT(-73.9795041829348 40.7274642069239)', 16), {'Station': 0, 'num_bikes_available': 1})\n",
      "Row(('POINT(-73.9762057363987 40.7757937668367)', 23), {'Station': 0, 'num_bikes_available': 1})\n",
      "Row(('POINT(-73.9841705560684 40.715118719965)', 27), {'Station': 0, 'num_bikes_available': 1})\n",
      "Row(('POINT(-73.9535166 40.77140426)', 23), {'Station': 0, 'num_bikes_available': 1})\n",
      "Row(('POINT(-73.969106 40.673134)', 29), {'Station': 0, 'num_bikes_available': 1})\n",
      "Row(('POINT(-73.98517977 40.72066442)', 48), {'Station': 0, 'num_bikes_available': 1})\n",
      "Row(('POINT(-73.97422494 40.72580614)', 12), {'Station': 0, 'num_bikes_available': 1})\n",
      "Row(('POINT(-73.99800419 40.73532427)', 17), {'Station': 0, 'num_bikes_available': 1})\n",
      "Row(('POINT(-73.971878855 40.7546011026)', 25), {'Station': 0, 'num_bikes_available': 1})\n",
      "Row(('POINT(-73.9919435977936 40.7647342000652)', 23), {'Station': 0, 'num_bikes_available': 1})\n",
      "Row(('POINT(-73.96223558 40.69363137)', 33), {'Station': 0, 'num_bikes_available': 1})\n",
      "Row(('POINT(-73.99344559 40.69760127)', 13), {'Station': 0, 'num_bikes_available': 1})\n",
      "Row(('POINT(-73.973984 40.730563)', 11), {'Station': 0, 'num_bikes_available': 1})\n",
      "Row(('POINT(-73.9821535348892 40.7431155537649)', 18), {'Station': 0, 'num_bikes_available': 1})\n",
      "Row(('POINT(-73.98336183 40.76228826)', 18), {'Station': 0, 'num_bikes_available': 1})\n",
      "Row(('POINT(-73.98384 40.698477)', 23), {'Station': 0, 'num_bikes_available': 1})\n",
      "Row(('POINT(-73.9805442094803 40.7338121919663)', 18), {'Station': 0, 'num_bikes_available': 1})\n",
      "Row(('POINT(-73.95451 40.74731)', 11), {'Station': 0, 'num_bikes_available': 1})\n",
      "Row(('POINT(-73.9747 40.78839)', 11), {'Station': 0, 'num_bikes_available': 1})\n",
      "Row(('POINT(-73.98255 40.758397)', 15), {'Station': 0, 'num_bikes_available': 1})\n",
      "Row(('POINT(-73.9842844 40.69221589)', 16), {'Station': 0, 'num_bikes_available': 1})\n",
      "Row(('POINT(-73.9550858 40.73232194)', 12), {'Station': 0, 'num_bikes_available': 1})\n",
      "Row(('POINT(-73.98165557 40.73221853)', 21), {'Station': 0, 'num_bikes_available': 1})\n",
      "Row(('POINT(-73.98194829 40.7457121)', 18), {'Station': 0, 'num_bikes_available': 1})\n",
      "Row(('POINT(-73.9816324043 40.752062307)', 27), {'Station': 0, 'num_bikes_available': 1})\n",
      "Row(('POINT(-73.99372222 40.75645824)', 12), {'Station': 0, 'num_bikes_available': 1})\n",
      "Row(('POINT(-73.9819684624672 40.7700301025504)', 17), {'Station': 0, 'num_bikes_available': 1})\n",
      "Row(('POINT(-73.9895859360695 40.73988840859)', 15), {'Station': 0, 'num_bikes_available': 1})\n",
      "Row(('POINT(-73.992573 40.768333)', 22), {'Station': 0, 'num_bikes_available': 1})\n",
      "Row(('POINT(-73.94989233 40.7728384)', 12), {'Station': 0, 'num_bikes_available': 1})\n",
      "Row(('POINT(-73.9786517 40.7829391)', 14), {'Station': 0, 'num_bikes_available': 1})\n",
      "Row(('POINT(-73.9923272 40.6942715)', 13), {'Station': 0, 'num_bikes_available': 1})\n",
      "Row(('POINT(-73.94434 40.72557)', 15), {'Station': 0, 'num_bikes_available': 1})\n",
      "Row(('POINT(-73.9809304475784 40.7796680900731)', 20), {'Station': 0, 'num_bikes_available': 1})\n",
      "Row(('POINT(-73.96784384 40.75206862)', 13), {'Station': 0, 'num_bikes_available': 1})\n",
      "Row(('POINT(-73.9843006432056 40.7247900774634)', 13), {'Station': 0, 'num_bikes_available': 1})\n",
      "Row(('POINT(-73.96536851 40.69196035)', 12), {'Station': 0, 'num_bikes_available': 1})\n",
      "Row(('POINT(-73.97371465 40.7643971)', 27), {'Station': 0, 'num_bikes_available': 1})\n",
      "Row(('POINT(-73.98802084 40.7172274)', 21), {'Station': 0, 'num_bikes_available': 1})\n",
      "Row(('POINT(-73.99723551 40.74734825)', 27), {'Station': 0, 'num_bikes_available': 1})\n",
      "Row(('POINT(-73.99392888 40.76727216)', 13), {'Station': 0, 'num_bikes_available': 1})\n",
      "Row(('POINT(-73.98753523 40.75172632)', 14), {'Station': 0, 'num_bikes_available': 1})\n",
      "Row(('POINT(-73.98859651 40.75929124)', 24), {'Station': 0, 'num_bikes_available': 1})\n",
      "Row(('POINT(-73.971518 40.766368)', 11), {'Station': 0, 'num_bikes_available': 1})\n",
      "Row(('POINT(-73.9861688017845 40.726330859717)', 24), {'Station': 0, 'num_bikes_available': 1})\n",
      "Row(('POINT(-73.96759673 40.75934501)', 12), {'Station': 0, 'num_bikes_available': 1})\n",
      "Row(('POINT(-73.98205027 40.73587678)', 14), {'Station': 0, 'num_bikes_available': 1})\n",
      "Row(('POINT(-73.98770570755 40.7522709383741)', 13), {'Station': 0, 'num_bikes_available': 1})\n",
      "Row(('POINT(-73.9711457439 40.8013434)', 15), {'Station': 0, 'num_bikes_available': 1})\n",
      "Row(('POINT(-73.9848679304123 40.7601773953778)', 28), {'Station': 0, 'num_bikes_available': 1})\n",
      "Row(('POINT(-73.9605909006 40.7981856)', 14), {'Station': 0, 'num_bikes_available': 1})\n",
      "Row(('POINT(-74.00483091 40.73535398)', 32), {'Station': 0, 'num_bikes_available': 1})\n",
      "Row(('POINT(-73.97121214 40.744219)', 29), {'Station': 0, 'num_bikes_available': 1})\n",
      "Row(('POINT(-73.9806796610355 40.7296672939298)', 13), {'Station': 0, 'num_bikes_available': 1})\n",
      "Row(('POINT(-73.97898475 40.7770575)', 16), {'Station': 0, 'num_bikes_available': 1})\n",
      "Row(('POINT(-73.97032517 40.75323098)', 25), {'Station': 0, 'num_bikes_available': 1})\n",
      "Row(('POINT(-73.97973776 40.73912601)', 28), {'Station': 0, 'num_bikes_available': 1})\n",
      "Row(('POINT(-73.978326 40.750756)', 28), {'Station': 0, 'num_bikes_available': 1})\n",
      "Row(('POINT(-73.9558732509613 40.7443632870669)', 24), {'Station': 0, 'num_bikes_available': 1})\n",
      "Row(('POINT(-73.98128127 40.78720869)', 18), {'Station': 0, 'num_bikes_available': 1})\n",
      "Row(('POINT(-73.98765428 40.75097711)', 16), {'Station': 0, 'num_bikes_available': 1})\n",
      "Row(('POINT(-73.95482273 40.7689738)', 20), {'Station': 0, 'num_bikes_available': 1})\n",
      "Row(('POINT(-73.9496304094791 40.7811527642792)', 16), {'Station': 0, 'num_bikes_available': 1})\n",
      "Row(('POINT(-73.99461843 40.76009437)', 18), {'Station': 0, 'num_bikes_available': 1})\n",
      "Row(('POINT(-73.9489196240902 40.7824541752799)', 13), {'Station': 0, 'num_bikes_available': 1})\n",
      "Row(('POINT(-73.98142006 40.72740794)', 44), {'Station': 0, 'num_bikes_available': 1})\n",
      "Row(('POINT(-73.9888858795166 40.777507027548)', 15), {'Station': 0, 'num_bikes_available': 1})\n",
      "Row(('POINT(-73.988038 40.770513)', 14), {'Station': 0, 'num_bikes_available': 1})\n",
      "Row(('POINT(-73.9744978398085 40.7432268143217)', 13), {'Station': 0, 'num_bikes_available': 1})\n"
     ]
    }
   ],
   "source": [
    "QUERY = \"\"\"\n",
    "\n",
    "SELECT ST_GEOGPOINT(longitude, latitude) AS Station, num_bikes_available\n",
    "FROM \n",
    "`bigquery-public-data.new_york.citibike_stations`\n",
    "WHERE num_bikes_available > 10;\n",
    "\n",
    "\"\"\"\n",
    "\n",
    "query_job = bigquery_client.query(QUERY)\n",
    "for row in query_job.result():  \n",
    "    print(row)"
   ]
  },
  {
   "cell_type": "code",
   "execution_count": 74,
   "id": "8baf069a",
   "metadata": {},
   "outputs": [
    {
     "name": "stdout",
     "output_type": "stream",
     "text": [
      "Row(('LINESTRING(-22.9349 -43.173, -22.9365 -43.1771)',), {'Linha': 0})\n"
     ]
    }
   ],
   "source": [
    "QUERY = \"\"\"\n",
    "\n",
    "SELECT ST_MAKELINE(ARRAY_AGG(Ponto)) as Linha FROM \n",
    "(SELECT ST_GEOGPOINT(-22.9349, -43.1730) AS Ponto\n",
    "UNION ALL SELECT ST_GEOGPOINT(-22.9365, -43.1771));\n",
    "\n",
    "\"\"\"\n",
    "\n",
    "query_job = bigquery_client.query(QUERY)\n",
    "for row in query_job.result():  \n",
    "    print(row)"
   ]
  },
  {
   "cell_type": "code",
   "execution_count": 75,
   "id": "31fa4e2b",
   "metadata": {},
   "outputs": [
    {
     "name": "stdout",
     "output_type": "stream",
     "text": [
      "Row((474.0027455712839,), {'Distancia': 0})\n"
     ]
    }
   ],
   "source": [
    "QUERY = \"\"\"\n",
    "\n",
    "SELECT ST_DISTANCE (ST_GEOGPOINT(-22.9349, -43.1730),\n",
    "                    ST_GEOGPOINT(-22.9365, -43.1771))\n",
    "AS Distancia;\n",
    "\n",
    "\"\"\"\n",
    "\n",
    "query_job = bigquery_client.query(QUERY)\n",
    "for row in query_job.result():  \n",
    "    print(row)"
   ]
  },
  {
   "cell_type": "code",
   "execution_count": 76,
   "id": "75d92ac7",
   "metadata": {},
   "outputs": [
    {
     "name": "stdout",
     "output_type": "stream",
     "text": [
      "Row(('POLYGON((-22.9375 -43.1781, -22.9365 -43.1771, -22.9349 -43.173, -22.9375 -43.1781))',), {'Poligono': 0})\n"
     ]
    }
   ],
   "source": [
    "QUERY = \"\"\"\n",
    "\n",
    "SELECT ST_MAKEPOLYGON(ST_MAKELINE(ARRAY_AGG(Ponto))) as Poligono FROM \n",
    "(SELECT ST_GEOGPOINT(-22.9349, -43.1730) AS Ponto\n",
    "UNION ALL SELECT ST_GEOGPOINT(-22.9365, -43.1771)\n",
    "UNION ALL SELECT ST_GEOGPOINT(-22.9375, -43.1781));\n",
    "\n",
    "\"\"\"\n",
    "\n",
    "query_job = bigquery_client.query(QUERY)\n",
    "for row in query_job.result():  \n",
    "    print(row)"
   ]
  },
  {
   "cell_type": "code",
   "execution_count": 77,
   "id": "821a2b0a",
   "metadata": {},
   "outputs": [
    {
     "name": "stdout",
     "output_type": "stream",
     "text": [
      "Row((11269.888564023773,), {'Area': 0})\n"
     ]
    }
   ],
   "source": [
    "QUERY = \"\"\"\n",
    "\n",
    "SELECT ST_AREA(ST_MAKEPOLYGON(ST_MAKELINE(ARRAY_AGG(Ponto)))) as Area FROM \n",
    "(SELECT ST_GEOGPOINT(-22.9349, -43.1730) AS Ponto\n",
    "UNION ALL SELECT ST_GEOGPOINT(-22.9365, -43.1771)\n",
    "UNION ALL SELECT ST_GEOGPOINT(-22.9375, -43.1781));\n",
    "\n",
    "\"\"\"\n",
    "\n",
    "query_job = bigquery_client.query(QUERY)\n",
    "for row in query_job.result():  \n",
    "    print(row)"
   ]
  },
  {
   "cell_type": "code",
   "execution_count": 82,
   "id": "c2a17a51",
   "metadata": {},
   "outputs": [
    {
     "name": "stdout",
     "output_type": "stream",
     "text": [
      "Row(('Érica Carvalho', 32, 27, 'IDADE NÃO BATE'), {'NOME': 0, 'IDADE_ATUAL': 1, 'IDADE': 2, 'RESULTADO': 3})\n",
      "Row(('Petra Oliveira', 27, 22, 'IDADE NÃO BATE'), {'NOME': 0, 'IDADE_ATUAL': 1, 'IDADE': 2, 'RESULTADO': 3})\n",
      "Row(('Gabriel Araujo', 37, 32, 'IDADE NÃO BATE'), {'NOME': 0, 'IDADE_ATUAL': 1, 'IDADE': 2, 'RESULTADO': 3})\n",
      "Row(('Marcelo Mattos', 30, 25, 'IDADE NÃO BATE'), {'NOME': 0, 'IDADE_ATUAL': 1, 'IDADE': 2, 'RESULTADO': 3})\n",
      "Row(('Valdeci da Silva', 27, 22, 'IDADE NÃO BATE'), {'NOME': 0, 'IDADE_ATUAL': 1, 'IDADE': 2, 'RESULTADO': 3})\n",
      "Row(('Carlos Eduardo', 39, 34, 'IDADE NÃO BATE'), {'NOME': 0, 'IDADE_ATUAL': 1, 'IDADE': 2, 'RESULTADO': 3})\n",
      "Row(('Fernando Cavalcante', 22, 18, 'IDADE NÃO BATE'), {'NOME': 0, 'IDADE_ATUAL': 1, 'IDADE': 2, 'RESULTADO': 3})\n",
      "Row(('César Teixeira', 22, 18, 'IDADE NÃO BATE'), {'NOME': 0, 'IDADE_ATUAL': 1, 'IDADE': 2, 'RESULTADO': 3})\n",
      "Row(('Marcos Nougeuira', 27, 23, 'IDADE NÃO BATE'), {'NOME': 0, 'IDADE_ATUAL': 1, 'IDADE': 2, 'RESULTADO': 3})\n",
      "Row(('Eduardo Jorge', 28, 23, 'IDADE NÃO BATE'), {'NOME': 0, 'IDADE_ATUAL': 1, 'IDADE': 2, 'RESULTADO': 3})\n",
      "Row(('Abel Silva ', 27, 22, 'IDADE NÃO BATE'), {'NOME': 0, 'IDADE_ATUAL': 1, 'IDADE': 2, 'RESULTADO': 3})\n",
      "Row(('Paulo César Mattos', 31, 26, 'IDADE NÃO BATE'), {'NOME': 0, 'IDADE_ATUAL': 1, 'IDADE': 2, 'RESULTADO': 3})\n",
      "Row(('Edson Meilelles', 27, 22, 'IDADE NÃO BATE'), {'NOME': 0, 'IDADE_ATUAL': 1, 'IDADE': 2, 'RESULTADO': 3})\n",
      "Row(('Walber Lontra', 33, 28, 'IDADE NÃO BATE'), {'NOME': 0, 'IDADE_ATUAL': 1, 'IDADE': 2, 'RESULTADO': 3})\n",
      "Row(('Fábio Carvalho', 30, 16, 'IDADE NÃO BATE'), {'NOME': 0, 'IDADE_ATUAL': 1, 'IDADE': 2, 'RESULTADO': 3})\n"
     ]
    }
   ],
   "source": [
    "QUERY = \"\"\"\n",
    "\n",
    "WITH TAB_IDADE AS (\n",
    "SELECT NOME, DATE_DIFF(CURRENT_DATE, DATA_DE_NASCIMENTO, YEAR) AS IDADE_ATUAL, IDADE \n",
    "FROM `modified-ripsaw-343701.sucos_vendas.tabela_de_clientes`)\n",
    "\n",
    "SELECT NOME, IDADE_ATUAL, IDADE,\n",
    "CASE WHEN (IDADE_ATUAL - IDADE) <> 0 THEN 'IDADE NÃO BATE'\n",
    "ELSE 'IDADE BATE COM A BASE DE DADOS' END AS RESULTADO FROM TAB_IDADE\n",
    "LIMIT 20;\n",
    "\n",
    "\"\"\"\n",
    "\n",
    "query_job = bigquery_client.query(QUERY)\n",
    "for row in query_job.result():  \n",
    "    print(row)"
   ]
  },
  {
   "cell_type": "code",
   "execution_count": 81,
   "id": "c39af947",
   "metadata": {},
   "outputs": [
    {
     "name": "stdout",
     "output_type": "stream",
     "text": [
      "Row((50534475787, 'Abel Silva ', 'Rua Humaitá Humaitá Rio de Janeiro RJ 22000212'), {'CPF': 0, 'NOME': 1, 'ENDERECO_COMPLETO': 2})\n",
      "Row((8719655770, 'Carlos Eduardo', 'Av. Gen. Guedes da Fontoura Jardins São Paulo SP 81192002'), {'CPF': 0, 'NOME': 1, 'ENDERECO_COMPLETO': 2})\n",
      "Row((2600586709, 'César Teixeira', 'Rua Conde de Bonfim Tijuca Rio de Janeiro RJ 22020001'), {'CPF': 0, 'NOME': 1, 'ENDERECO_COMPLETO': 2})\n",
      "Row((9283760794, 'Edson Meilelles', 'R. Pinto de Azevedo Cidade Nova Rio de Janeiro RJ 22002002'), {'CPF': 0, 'NOME': 1, 'ENDERECO_COMPLETO': 2})\n",
      "Row((492472718, 'Eduardo Jorge', 'R. Volta Grande Tijuca Rio de Janeiro RJ 22012002'), {'CPF': 0, 'NOME': 1, 'ENDERECO_COMPLETO': 2})\n",
      "Row((19290992743, 'Fernando Cavalcante', 'R. Dois de Fevereiro Água Santa Rio de Janeiro RJ 22000000'), {'CPF': 0, 'NOME': 1, 'ENDERECO_COMPLETO': 2})\n",
      "Row((95939180787, 'Fábio Carvalho', 'R. dos Jacarandás da Península Barra da Tijuca Rio de Janeiro RJ 22002020'), {'CPF': 0, 'NOME': 1, 'ENDERECO_COMPLETO': 2})\n",
      "Row((5840119709, 'Gabriel Araujo', 'R. Manuel de Oliveira Santo Amaro São Paulo SP 80010221'), {'CPF': 0, 'NOME': 1, 'ENDERECO_COMPLETO': 2})\n",
      "Row((7771579779, 'Marcelo Mattos', 'R. Eduardo Luís Lopes Brás São Paulo SP 88202912'), {'CPF': 0, 'NOME': 1, 'ENDERECO_COMPLETO': 2})\n",
      "Row((3623344710, 'Marcos Nougeuira', 'Av. Pastor Martin Luther King Junior Inhauma Rio de Janeiro RJ 22002012'), {'CPF': 0, 'NOME': 1, 'ENDERECO_COMPLETO': 2})\n",
      "Row((5648641702, 'Paulo César Mattos', 'Rua Hélio Beltrão Tijuca Rio de Janeiro RJ 21002020'), {'CPF': 0, 'NOME': 1, 'ENDERECO_COMPLETO': 2})\n",
      "Row((5576228758, 'Petra Oliveira', 'R. Benício de Abreu Lapa São Paulo SP 88192029'), {'CPF': 0, 'NOME': 1, 'ENDERECO_COMPLETO': 2})\n",
      "Row((8502682733, 'Valdeci da Silva', 'R. Srg. Édison de Oliveira Jardins São Paulo SP 82122020'), {'CPF': 0, 'NOME': 1, 'ENDERECO_COMPLETO': 2})\n",
      "Row((94387575700, 'Walber Lontra', 'R. Cel. Almeida Piedade Rio de Janeiro RJ 22000201'), {'CPF': 0, 'NOME': 1, 'ENDERECO_COMPLETO': 2})\n",
      "Row((1471156710, 'Érica Carvalho', 'R. Iriquitia Jardins São Paulo SP 80012212'), {'CPF': 0, 'NOME': 1, 'ENDERECO_COMPLETO': 2})\n"
     ]
    }
   ],
   "source": [
    "QUERY = \"\"\"\n",
    "\n",
    "SELECT CPF, NOME, CONCAT(ENDERECO_1, ' ', BAIRRO, ' ', CIDADE, ' ', ESTADO, ' ', CEP) AS ENDERECO_COMPLETO \n",
    "FROM `modified-ripsaw-343701.sucos_vendas.tabela_de_clientes`\n",
    "ORDER BY NOME \n",
    "LIMIT 20;\n",
    "\n",
    "\"\"\"\n",
    "\n",
    "query_job = bigquery_client.query(QUERY)\n",
    "for row in query_job.result():  \n",
    "    print(row)"
   ]
  }
 ],
 "metadata": {
  "kernelspec": {
   "display_name": "Python 3 (ipykernel)",
   "language": "python",
   "name": "python3"
  },
  "language_info": {
   "codemirror_mode": {
    "name": "ipython",
    "version": 3
   },
   "file_extension": ".py",
   "mimetype": "text/x-python",
   "name": "python",
   "nbconvert_exporter": "python",
   "pygments_lexer": "ipython3",
   "version": "3.9.7"
  }
 },
 "nbformat": 4,
 "nbformat_minor": 5
}
