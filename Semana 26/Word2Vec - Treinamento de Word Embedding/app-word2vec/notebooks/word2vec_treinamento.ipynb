{
 "cells": [
  {
   "cell_type": "markdown",
   "metadata": {},
   "source": [
    "<img src = \"https://images2.imgbox.com/32/ac/wucGkuem_o.png\" width=\"300\">"
   ]
  },
  {
   "cell_type": "code",
   "execution_count": 1,
   "metadata": {
    "colab": {},
    "colab_type": "code",
    "id": "kDGQFwJTlJ1S"
   },
   "outputs": [],
   "source": [
    "import pandas as pd\n",
    "import spacy"
   ]
  },
  {
   "cell_type": "code",
   "execution_count": 2,
   "metadata": {
    "colab": {
     "base_uri": "https://localhost:8080/",
     "height": 289
    },
    "colab_type": "code",
    "executionInfo": {
     "elapsed": 4997,
     "status": "ok",
     "timestamp": 1590777245694,
     "user": {
      "displayName": "alura cursos",
      "photoUrl": "",
      "userId": "17957571670599323429"
     },
     "user_tz": 180
    },
    "id": "uCoG4JfZlN_X",
    "outputId": "578b7eea-16bd-40de-b2a5-d3776f7320f4"
   },
   "outputs": [
    {
     "data": {
      "text/html": [
       "<div>\n",
       "<style scoped>\n",
       "    .dataframe tbody tr th:only-of-type {\n",
       "        vertical-align: middle;\n",
       "    }\n",
       "\n",
       "    .dataframe tbody tr th {\n",
       "        vertical-align: top;\n",
       "    }\n",
       "\n",
       "    .dataframe thead th {\n",
       "        text-align: right;\n",
       "    }\n",
       "</style>\n",
       "<table border=\"1\" class=\"dataframe\">\n",
       "  <thead>\n",
       "    <tr style=\"text-align: right;\">\n",
       "      <th></th>\n",
       "      <th>title</th>\n",
       "      <th>text</th>\n",
       "      <th>date</th>\n",
       "      <th>category</th>\n",
       "      <th>subcategory</th>\n",
       "      <th>link</th>\n",
       "    </tr>\n",
       "  </thead>\n",
       "  <tbody>\n",
       "    <tr>\n",
       "      <th>41361</th>\n",
       "      <td>Ali foi um dos grandes frasistas do esporte; l...</td>\n",
       "      <td>Muhammad Ali não apenas foi um dos maiores ast...</td>\n",
       "      <td>2016-04-06</td>\n",
       "      <td>esporte</td>\n",
       "      <td>NaN</td>\n",
       "      <td>http://www1.folha.uol.com.br/esporte/2016/06/1...</td>\n",
       "    </tr>\n",
       "    <tr>\n",
       "      <th>51328</th>\n",
       "      <td>Vazio deixado pelo fechamento da rede 2001 não...</td>\n",
       "      <td>O tempo corre rápido: há uns anos, ninguém pod...</td>\n",
       "      <td>2015-12-22</td>\n",
       "      <td>ilustrada</td>\n",
       "      <td>NaN</td>\n",
       "      <td>http://www1.folha.uol.com.br/ilustrada/2015/12...</td>\n",
       "    </tr>\n",
       "    <tr>\n",
       "      <th>72784</th>\n",
       "      <td>Hollande confirma desmonte de campo de refugia...</td>\n",
       "      <td>François Hollande, presidente da França, refor...</td>\n",
       "      <td>2016-09-26</td>\n",
       "      <td>mundo</td>\n",
       "      <td>NaN</td>\n",
       "      <td>http://www1.folha.uol.com.br/mundo/2016/09/181...</td>\n",
       "    </tr>\n",
       "    <tr>\n",
       "      <th>13144</th>\n",
       "      <td>Comércio paulista cresce, mas sinal de vida ai...</td>\n",
       "      <td>Depois da grande queimada, aparecem raros brot...</td>\n",
       "      <td>2016-02-09</td>\n",
       "      <td>colunas</td>\n",
       "      <td>viniciustorres</td>\n",
       "      <td>http://www1.folha.uol.com.br/colunas/viniciust...</td>\n",
       "    </tr>\n",
       "    <tr>\n",
       "      <th>79434</th>\n",
       "      <td>Homem esfaqueia policial em aeroporto de Michi...</td>\n",
       "      <td>O Aeroporto Internacional Bishop, em Flint, no...</td>\n",
       "      <td>2017-06-21</td>\n",
       "      <td>mundo</td>\n",
       "      <td>NaN</td>\n",
       "      <td>http://www1.folha.uol.com.br/mundo/2017/06/189...</td>\n",
       "    </tr>\n",
       "  </tbody>\n",
       "</table>\n",
       "</div>"
      ],
      "text/plain": [
       "                                                   title  \\\n",
       "41361  Ali foi um dos grandes frasistas do esporte; l...   \n",
       "51328  Vazio deixado pelo fechamento da rede 2001 não...   \n",
       "72784  Hollande confirma desmonte de campo de refugia...   \n",
       "13144  Comércio paulista cresce, mas sinal de vida ai...   \n",
       "79434  Homem esfaqueia policial em aeroporto de Michi...   \n",
       "\n",
       "                                                    text        date  \\\n",
       "41361  Muhammad Ali não apenas foi um dos maiores ast...  2016-04-06   \n",
       "51328  O tempo corre rápido: há uns anos, ninguém pod...  2015-12-22   \n",
       "72784  François Hollande, presidente da França, refor...  2016-09-26   \n",
       "13144  Depois da grande queimada, aparecem raros brot...  2016-02-09   \n",
       "79434  O Aeroporto Internacional Bishop, em Flint, no...  2017-06-21   \n",
       "\n",
       "        category     subcategory  \\\n",
       "41361    esporte             NaN   \n",
       "51328  ilustrada             NaN   \n",
       "72784      mundo             NaN   \n",
       "13144    colunas  viniciustorres   \n",
       "79434      mundo             NaN   \n",
       "\n",
       "                                                    link  \n",
       "41361  http://www1.folha.uol.com.br/esporte/2016/06/1...  \n",
       "51328  http://www1.folha.uol.com.br/ilustrada/2015/12...  \n",
       "72784  http://www1.folha.uol.com.br/mundo/2016/09/181...  \n",
       "13144  http://www1.folha.uol.com.br/colunas/viniciust...  \n",
       "79434  http://www1.folha.uol.com.br/mundo/2017/06/189...  "
      ]
     },
     "execution_count": 2,
     "metadata": {},
     "output_type": "execute_result"
    }
   ],
   "source": [
    "dados_treino = pd.read_csv(\"treino.csv\")\n",
    "dados_treino.sample(5)"
   ]
  },
  {
   "cell_type": "code",
   "execution_count": 0,
   "metadata": {
    "colab": {
     "base_uri": "https://localhost:8080/",
     "height": 581
    },
    "colab_type": "code",
    "executionInfo": {
     "elapsed": 13581,
     "status": "ok",
     "timestamp": 1590777053211,
     "user": {
      "displayName": "alura cursos",
      "photoUrl": "",
      "userId": "17957571670599323429"
     },
     "user_tz": 180
    },
    "id": "0wkJA2A9l3Ap",
    "outputId": "35dcca62-352f-4fae-cd4b-4b853f296394"
   },
   "outputs": [
    {
     "name": "stdout",
     "output_type": "stream",
     "text": [
      "Collecting pt_core_news_sm==2.2.5\n",
      "\u001b[?25l  Downloading https://github.com/explosion/spacy-models/releases/download/pt_core_news_sm-2.2.5/pt_core_news_sm-2.2.5.tar.gz (21.2MB)\n",
      "\u001b[K     |████████████████████████████████| 21.2MB 89.9MB/s \n",
      "\u001b[?25hRequirement already satisfied: spacy>=2.2.2 in /usr/local/lib/python3.6/dist-packages (from pt_core_news_sm==2.2.5) (2.2.4)\n",
      "Requirement already satisfied: cymem<2.1.0,>=2.0.2 in /usr/local/lib/python3.6/dist-packages (from spacy>=2.2.2->pt_core_news_sm==2.2.5) (2.0.3)\n",
      "Requirement already satisfied: preshed<3.1.0,>=3.0.2 in /usr/local/lib/python3.6/dist-packages (from spacy>=2.2.2->pt_core_news_sm==2.2.5) (3.0.2)\n",
      "Requirement already satisfied: murmurhash<1.1.0,>=0.28.0 in /usr/local/lib/python3.6/dist-packages (from spacy>=2.2.2->pt_core_news_sm==2.2.5) (1.0.2)\n",
      "Requirement already satisfied: catalogue<1.1.0,>=0.0.7 in /usr/local/lib/python3.6/dist-packages (from spacy>=2.2.2->pt_core_news_sm==2.2.5) (1.0.0)\n",
      "Requirement already satisfied: srsly<1.1.0,>=1.0.2 in /usr/local/lib/python3.6/dist-packages (from spacy>=2.2.2->pt_core_news_sm==2.2.5) (1.0.2)\n",
      "Requirement already satisfied: plac<1.2.0,>=0.9.6 in /usr/local/lib/python3.6/dist-packages (from spacy>=2.2.2->pt_core_news_sm==2.2.5) (1.1.3)\n",
      "Requirement already satisfied: thinc==7.4.0 in /usr/local/lib/python3.6/dist-packages (from spacy>=2.2.2->pt_core_news_sm==2.2.5) (7.4.0)\n",
      "Requirement already satisfied: setuptools in /usr/local/lib/python3.6/dist-packages (from spacy>=2.2.2->pt_core_news_sm==2.2.5) (46.4.0)\n",
      "Requirement already satisfied: requests<3.0.0,>=2.13.0 in /usr/local/lib/python3.6/dist-packages (from spacy>=2.2.2->pt_core_news_sm==2.2.5) (2.23.0)\n",
      "Requirement already satisfied: blis<0.5.0,>=0.4.0 in /usr/local/lib/python3.6/dist-packages (from spacy>=2.2.2->pt_core_news_sm==2.2.5) (0.4.1)\n",
      "Requirement already satisfied: tqdm<5.0.0,>=4.38.0 in /usr/local/lib/python3.6/dist-packages (from spacy>=2.2.2->pt_core_news_sm==2.2.5) (4.41.1)\n",
      "Requirement already satisfied: numpy>=1.15.0 in /usr/local/lib/python3.6/dist-packages (from spacy>=2.2.2->pt_core_news_sm==2.2.5) (1.18.4)\n",
      "Requirement already satisfied: wasabi<1.1.0,>=0.4.0 in /usr/local/lib/python3.6/dist-packages (from spacy>=2.2.2->pt_core_news_sm==2.2.5) (0.6.0)\n",
      "Requirement already satisfied: importlib-metadata>=0.20; python_version < \"3.8\" in /usr/local/lib/python3.6/dist-packages (from catalogue<1.1.0,>=0.0.7->spacy>=2.2.2->pt_core_news_sm==2.2.5) (1.6.0)\n",
      "Requirement already satisfied: urllib3!=1.25.0,!=1.25.1,<1.26,>=1.21.1 in /usr/local/lib/python3.6/dist-packages (from requests<3.0.0,>=2.13.0->spacy>=2.2.2->pt_core_news_sm==2.2.5) (1.24.3)\n",
      "Requirement already satisfied: certifi>=2017.4.17 in /usr/local/lib/python3.6/dist-packages (from requests<3.0.0,>=2.13.0->spacy>=2.2.2->pt_core_news_sm==2.2.5) (2020.4.5.1)\n",
      "Requirement already satisfied: idna<3,>=2.5 in /usr/local/lib/python3.6/dist-packages (from requests<3.0.0,>=2.13.0->spacy>=2.2.2->pt_core_news_sm==2.2.5) (2.9)\n",
      "Requirement already satisfied: chardet<4,>=3.0.2 in /usr/local/lib/python3.6/dist-packages (from requests<3.0.0,>=2.13.0->spacy>=2.2.2->pt_core_news_sm==2.2.5) (3.0.4)\n",
      "Requirement already satisfied: zipp>=0.5 in /usr/local/lib/python3.6/dist-packages (from importlib-metadata>=0.20; python_version < \"3.8\"->catalogue<1.1.0,>=0.0.7->spacy>=2.2.2->pt_core_news_sm==2.2.5) (3.1.0)\n",
      "Building wheels for collected packages: pt-core-news-sm\n",
      "  Building wheel for pt-core-news-sm (setup.py) ... \u001b[?25l\u001b[?25hdone\n",
      "  Created wheel for pt-core-news-sm: filename=pt_core_news_sm-2.2.5-cp36-none-any.whl size=21186282 sha256=e6686ba775d01478f4e0e215883920b63ad81fd819ef08daf6ceeaba8f527e86\n",
      "  Stored in directory: /tmp/pip-ephem-wheel-cache-tsi63j7g/wheels/ea/94/74/ec9be8418e9231b471be5dc7e1b45dd670019a376a6b5bc1c0\n",
      "Successfully built pt-core-news-sm\n",
      "Installing collected packages: pt-core-news-sm\n",
      "Successfully installed pt-core-news-sm-2.2.5\n",
      "\u001b[38;5;2m✔ Download and installation successful\u001b[0m\n",
      "You can now load the model via spacy.load('pt_core_news_sm')\n"
     ]
    }
   ],
   "source": [
    "#Rodas apenas uma vez\n",
    "!python -m spacy download pt_core_news_sm"
   ]
  },
  {
   "cell_type": "code",
   "execution_count": 3,
   "metadata": {
    "colab": {},
    "colab_type": "code",
    "id": "4YO1i6fKnHQ1"
   },
   "outputs": [],
   "source": [
    "nlp = spacy.load(\"pt_core_news_sm\")"
   ]
  },
  {
   "cell_type": "code",
   "execution_count": 4,
   "metadata": {
    "colab": {},
    "colab_type": "code",
    "id": "YPwe50jqmRJk"
   },
   "outputs": [],
   "source": [
    "texto = \"Rio de Janeiro é uma cidade maravilhosa\"\n",
    "doc = nlp(texto)"
   ]
  },
  {
   "cell_type": "code",
   "execution_count": 5,
   "metadata": {
    "colab": {
     "base_uri": "https://localhost:8080/",
     "height": 34
    },
    "colab_type": "code",
    "executionInfo": {
     "elapsed": 577,
     "status": "ok",
     "timestamp": 1590777251368,
     "user": {
      "displayName": "alura cursos",
      "photoUrl": "",
      "userId": "17957571670599323429"
     },
     "user_tz": 180
    },
    "id": "10H49z91o9wl",
    "outputId": "32d63ce8-9a7b-4dad-b212-1bd704103d17"
   },
   "outputs": [
    {
     "data": {
      "text/plain": [
       "Rio de Janeiro é uma cidade maravilhosa"
      ]
     },
     "execution_count": 5,
     "metadata": {},
     "output_type": "execute_result"
    }
   ],
   "source": [
    "doc"
   ]
  },
  {
   "cell_type": "code",
   "execution_count": 6,
   "metadata": {
    "colab": {
     "base_uri": "https://localhost:8080/",
     "height": 34
    },
    "colab_type": "code",
    "executionInfo": {
     "elapsed": 1708,
     "status": "ok",
     "timestamp": 1590777254172,
     "user": {
      "displayName": "alura cursos",
      "photoUrl": "",
      "userId": "17957571670599323429"
     },
     "user_tz": 180
    },
    "id": "Cfd0v1-Ws4-2",
    "outputId": "6cef1286-225f-4d7c-d86c-9269f8389235"
   },
   "outputs": [
    {
     "data": {
      "text/plain": [
       "spacy.tokens.token.Token"
      ]
     },
     "execution_count": 6,
     "metadata": {},
     "output_type": "execute_result"
    }
   ],
   "source": [
    "type(doc[2])"
   ]
  },
  {
   "cell_type": "code",
   "execution_count": 7,
   "metadata": {
    "colab": {},
    "colab_type": "code",
    "id": "fkVyn-QZieV1"
   },
   "outputs": [],
   "source": [
    "textos_para_tratamento = (titulos.lower() for titulos in dados_treino[\"title\"])"
   ]
  },
  {
   "cell_type": "code",
   "execution_count": 8,
   "metadata": {
    "colab": {},
    "colab_type": "code",
    "id": "YtSkNlcaiW2w"
   },
   "outputs": [
    {
     "data": {
      "text/plain": [
       "'Rio Janeiro cidade maravilhosa'"
      ]
     },
     "execution_count": 8,
     "metadata": {},
     "output_type": "execute_result"
    }
   ],
   "source": [
    "def trata_textos(doc):\n",
    "    tokens_validos = []\n",
    "    for token in doc:\n",
    "        e_valido = not token.is_stop and token.is_alpha\n",
    "        if e_valido:\n",
    "            tokens_validos.append(token.text)\n",
    "\n",
    "    if len(tokens_validos) > 2:\n",
    "        return  \" \".join(tokens_validos)\n",
    "\n",
    "texto = \"Rio de Janeiro 1231231 ***** @#$ é uma cidade maravilhosa!\"\n",
    "doc = nlp(texto)\n",
    "trata_textos(doc)"
   ]
  },
  {
   "cell_type": "code",
   "execution_count": 9,
   "metadata": {
    "colab": {
     "base_uri": "https://localhost:8080/",
     "height": 34
    },
    "colab_type": "code",
    "executionInfo": {
     "elapsed": 533,
     "status": "ok",
     "timestamp": 1590777256087,
     "user": {
      "displayName": "alura cursos",
      "photoUrl": "",
      "userId": "17957571670599323429"
     },
     "user_tz": 180
    },
    "id": "VUgzPI_7lWAO",
    "outputId": "e84fa86a-0311-4442-baa2-975c73710a12"
   },
   "outputs": [
    {
     "data": {
      "text/plain": [
       "'Rio Janeiro cidade maravilhosa'"
      ]
     },
     "execution_count": 9,
     "metadata": {},
     "output_type": "execute_result"
    }
   ],
   "source": [
    "texto = \"Rio de Janeiro 1231231 ***** @#$ é uma cidade maravilhosa!\"\n",
    "doc = nlp(texto)\n",
    "trata_textos(doc)"
   ]
  },
  {
   "cell_type": "code",
   "execution_count": 10,
   "metadata": {
    "colab": {
     "base_uri": "https://localhost:8080/",
     "height": 34
    },
    "colab_type": "code",
    "executionInfo": {
     "elapsed": 204326,
     "status": "ok",
     "timestamp": 1590777461401,
     "user": {
      "displayName": "alura cursos",
      "photoUrl": "",
      "userId": "17957571670599323429"
     },
     "user_tz": 180
    },
    "id": "mF7le_-ziJSI",
    "outputId": "10c8c20d-0ad2-439c-af8b-b94d694ecc90"
   },
   "outputs": [],
   "source": [
    "textos_tratados = [trata_textos(doc) for doc in nlp.pipe(textos_para_tratamento,\n",
    "                                                        batch_size = 1000,\n",
    "                                                        n_process = 3)]"
   ]
  },
  {
   "cell_type": "code",
   "execution_count": 11,
   "metadata": {
    "colab": {
     "base_uri": "https://localhost:8080/",
     "height": 204
    },
    "colab_type": "code",
    "executionInfo": {
     "elapsed": 202647,
     "status": "ok",
     "timestamp": 1590777461404,
     "user": {
      "displayName": "alura cursos",
      "photoUrl": "",
      "userId": "17957571670599323429"
     },
     "user_tz": 180
    },
    "id": "XWnZ5g_tsp3v",
    "outputId": "cec379bd-6715-414b-d185-459dca02227b"
   },
   "outputs": [
    {
     "data": {
      "text/html": [
       "<div>\n",
       "<style scoped>\n",
       "    .dataframe tbody tr th:only-of-type {\n",
       "        vertical-align: middle;\n",
       "    }\n",
       "\n",
       "    .dataframe tbody tr th {\n",
       "        vertical-align: top;\n",
       "    }\n",
       "\n",
       "    .dataframe thead th {\n",
       "        text-align: right;\n",
       "    }\n",
       "</style>\n",
       "<table border=\"1\" class=\"dataframe\">\n",
       "  <thead>\n",
       "    <tr style=\"text-align: right;\">\n",
       "      <th></th>\n",
       "      <th>titulo</th>\n",
       "    </tr>\n",
       "  </thead>\n",
       "  <tbody>\n",
       "    <tr>\n",
       "      <th>0</th>\n",
       "      <td>polêmica marine le pen abomina negacionistas h...</td>\n",
       "    </tr>\n",
       "    <tr>\n",
       "      <th>1</th>\n",
       "      <td>macron le pen turno frança revés siglas tradic...</td>\n",
       "    </tr>\n",
       "    <tr>\n",
       "      <th>2</th>\n",
       "      <td>apesar larga vitória legislativas macron terá ...</td>\n",
       "    </tr>\n",
       "    <tr>\n",
       "      <th>3</th>\n",
       "      <td>governo antecipa balanço alckmin anuncia queda...</td>\n",
       "    </tr>\n",
       "    <tr>\n",
       "      <th>4</th>\n",
       "      <td>queda maio atividade econômica sobe junho bc</td>\n",
       "    </tr>\n",
       "  </tbody>\n",
       "</table>\n",
       "</div>"
      ],
      "text/plain": [
       "                                              titulo\n",
       "0  polêmica marine le pen abomina negacionistas h...\n",
       "1  macron le pen turno frança revés siglas tradic...\n",
       "2  apesar larga vitória legislativas macron terá ...\n",
       "3  governo antecipa balanço alckmin anuncia queda...\n",
       "4       queda maio atividade econômica sobe junho bc"
      ]
     },
     "execution_count": 11,
     "metadata": {},
     "output_type": "execute_result"
    }
   ],
   "source": [
    "titulos_tratados = pd.DataFrame({\"titulo\": textos_tratados})\n",
    "titulos_tratados.head()"
   ]
  },
  {
   "cell_type": "code",
   "execution_count": 13,
   "metadata": {
    "colab": {},
    "colab_type": "code",
    "id": "2ig6PjO_l5ED"
   },
   "outputs": [],
   "source": [
    "from gensim.models import Word2Vec\n",
    "\n",
    "w2v_modelo = Word2Vec(sg = 0,\n",
    "                      window = 2,\n",
    "                      vector_size = 300,\n",
    "                      min_count = 5,\n",
    "                      alpha = 0.03,\n",
    "                      min_alpha = 0.007)"
   ]
  },
  {
   "cell_type": "code",
   "execution_count": 14,
   "metadata": {
    "colab": {
     "base_uri": "https://localhost:8080/",
     "height": 34
    },
    "colab_type": "code",
    "executionInfo": {
     "elapsed": 197699,
     "status": "ok",
     "timestamp": 1590777461408,
     "user": {
      "displayName": "alura cursos",
      "photoUrl": "",
      "userId": "17957571670599323429"
     },
     "user_tz": 180
    },
    "id": "Cf_nt4YfrT8U",
    "outputId": "cc07e543-1485-4d51-ec7e-bcbdd24c515a"
   },
   "outputs": [
    {
     "data": {
      "text/plain": [
       "<gensim.models.word2vec.Word2Vec at 0x14419a93e50>"
      ]
     },
     "execution_count": 14,
     "metadata": {},
     "output_type": "execute_result"
    }
   ],
   "source": [
    "w2v_modelo"
   ]
  },
  {
   "cell_type": "code",
   "execution_count": 15,
   "metadata": {
    "colab": {
     "base_uri": "https://localhost:8080/",
     "height": 50
    },
    "colab_type": "code",
    "executionInfo": {
     "elapsed": 207493,
     "status": "ok",
     "timestamp": 1590671930696,
     "user": {
      "displayName": "alura cursos",
      "photoUrl": "",
      "userId": "17957571670599323429"
     },
     "user_tz": 180
    },
    "id": "y07x7J0Y1ubP",
    "outputId": "1bde9a2a-ca0b-4794-b540-77a9e9fe53af"
   },
   "outputs": [
    {
     "name": "stdout",
     "output_type": "stream",
     "text": [
      "90000\n",
      "84466\n"
     ]
    }
   ],
   "source": [
    "print(len(titulos_tratados))\n",
    "titulos_tratados = titulos_tratados.dropna().drop_duplicates()\n",
    "print(len(titulos_tratados))"
   ]
  },
  {
   "cell_type": "code",
   "execution_count": 16,
   "metadata": {
    "colab": {},
    "colab_type": "code",
    "id": "BtwjbDVH1OWt"
   },
   "outputs": [],
   "source": [
    "lista_lista_tokens = [titulo.split(\" \") for titulo in titulos_tratados.titulo]"
   ]
  },
  {
   "cell_type": "code",
   "execution_count": 18,
   "metadata": {
    "colab": {
     "base_uri": "https://localhost:8080/",
     "height": 487
    },
    "colab_type": "code",
    "executionInfo": {
     "elapsed": 205712,
     "status": "ok",
     "timestamp": 1590671934411,
     "user": {
      "displayName": "alura cursos",
      "photoUrl": "",
      "userId": "17957571670599323429"
     },
     "user_tz": 180
    },
    "id": "TGTR359Q25oP",
    "outputId": "ada7b6e9-90d9-449a-88c9-472fb69e19b4"
   },
   "outputs": [
    {
     "name": "stderr",
     "output_type": "stream",
     "text": [
      "2022-03-26 20:21:21,020 : - Word2Vec lifecycle event {'params': 'Word2Vec(vocab=0, vector_size=300, alpha=0.03)', 'datetime': '2022-03-26T20:21:21.020898', 'gensim': '4.1.2', 'python': '3.9.7 (default, Sep 16 2021, 16:59:28) [MSC v.1916 64 bit (AMD64)]', 'platform': 'Windows-10-10.0.19042-SP0', 'event': 'created'}\n",
      "2022-03-26 20:21:21,020 : - collecting all words and their counts\n",
      "2022-03-26 20:21:21,021 : - PROGRESS: at sentence #0, processed 0 words, keeping 0 word types\n",
      "2022-03-26 20:21:21,028 : - PROGRESS: at sentence #5000, processed 31930 words, keeping 10193 word types\n",
      "2022-03-26 20:21:21,035 : - PROGRESS: at sentence #10000, processed 63848 words, keeping 14989 word types\n",
      "2022-03-26 20:21:21,042 : - PROGRESS: at sentence #15000, processed 95753 words, keeping 18279 word types\n",
      "2022-03-26 20:21:21,049 : - PROGRESS: at sentence #20000, processed 127689 words, keeping 21033 word types\n",
      "2022-03-26 20:21:21,056 : - PROGRESS: at sentence #25000, processed 159589 words, keeping 23491 word types\n",
      "2022-03-26 20:21:21,065 : - PROGRESS: at sentence #30000, processed 191554 words, keeping 25494 word types\n",
      "2022-03-26 20:21:21,073 : - PROGRESS: at sentence #35000, processed 223412 words, keeping 27330 word types\n",
      "2022-03-26 20:21:21,081 : - PROGRESS: at sentence #40000, processed 255282 words, keeping 29053 word types\n",
      "2022-03-26 20:21:21,089 : - PROGRESS: at sentence #45000, processed 287297 words, keeping 30606 word types\n",
      "2022-03-26 20:21:21,097 : - PROGRESS: at sentence #50000, processed 319258 words, keeping 31964 word types\n",
      "2022-03-26 20:21:21,105 : - PROGRESS: at sentence #55000, processed 351437 words, keeping 33270 word types\n",
      "2022-03-26 20:21:21,113 : - PROGRESS: at sentence #60000, processed 383579 words, keeping 34520 word types\n",
      "2022-03-26 20:21:21,122 : - PROGRESS: at sentence #65000, processed 415565 words, keeping 35643 word types\n",
      "2022-03-26 20:21:21,129 : - PROGRESS: at sentence #70000, processed 447646 words, keeping 36719 word types\n",
      "2022-03-26 20:21:21,137 : - PROGRESS: at sentence #75000, processed 479568 words, keeping 37802 word types\n",
      "2022-03-26 20:21:21,146 : - PROGRESS: at sentence #80000, processed 511645 words, keeping 38814 word types\n",
      "2022-03-26 20:21:21,153 : - collected 39693 word types from a corpus of 540242 raw words and 84466 sentences\n",
      "2022-03-26 20:21:21,154 : - Creating a fresh vocabulary\n",
      "2022-03-26 20:21:21,198 : - Word2Vec lifecycle event {'msg': 'effective_min_count=5 retains 12924 unique words (32.559897211095155%% of original 39693, drops 26769)', 'datetime': '2022-03-26T20:21:21.198063', 'gensim': '4.1.2', 'python': '3.9.7 (default, Sep 16 2021, 16:59:28) [MSC v.1916 64 bit (AMD64)]', 'platform': 'Windows-10-10.0.19042-SP0', 'event': 'prepare_vocab'}\n",
      "2022-03-26 20:21:21,199 : - Word2Vec lifecycle event {'msg': 'effective_min_count=5 leaves 495223 word corpus (91.66688261927062%% of original 540242, drops 45019)', 'datetime': '2022-03-26T20:21:21.199064', 'gensim': '4.1.2', 'python': '3.9.7 (default, Sep 16 2021, 16:59:28) [MSC v.1916 64 bit (AMD64)]', 'platform': 'Windows-10-10.0.19042-SP0', 'event': 'prepare_vocab'}\n",
      "2022-03-26 20:21:21,257 : - deleting the raw counts dictionary of 39693 items\n",
      "2022-03-26 20:21:21,258 : - sample=0.001 downsamples 8 most-common words\n",
      "2022-03-26 20:21:21,259 : - Word2Vec lifecycle event {'msg': 'downsampling leaves estimated 486147.7552334345 word corpus (98.2%% of prior 495223)', 'datetime': '2022-03-26T20:21:21.259077', 'gensim': '4.1.2', 'python': '3.9.7 (default, Sep 16 2021, 16:59:28) [MSC v.1916 64 bit (AMD64)]', 'platform': 'Windows-10-10.0.19042-SP0', 'event': 'prepare_vocab'}\n",
      "2022-03-26 20:21:21,356 : - estimated required memory for 12924 words and 300 dimensions: 37479600 bytes\n",
      "2022-03-26 20:21:21,357 : - resetting layer weights\n",
      "2022-03-26 20:21:21,372 : - Word2Vec lifecycle event {'update': False, 'trim_rule': 'None', 'datetime': '2022-03-26T20:21:21.372102', 'gensim': '4.1.2', 'python': '3.9.7 (default, Sep 16 2021, 16:59:28) [MSC v.1916 64 bit (AMD64)]', 'platform': 'Windows-10-10.0.19042-SP0', 'event': 'build_vocab'}\n"
     ]
    }
   ],
   "source": [
    "import logging\n",
    "\n",
    "logging.basicConfig(format=\"%(asctime)s : - %(message)s\", level = logging.INFO)\n",
    "\n",
    "w2v_modelo = Word2Vec(sg = 0,\n",
    "                      window = 2,\n",
    "                      vector_size = 300,\n",
    "                      min_count = 5,\n",
    "                      alpha = 0.03,\n",
    "                      min_alpha = 0.007)\n",
    "\n",
    "w2v_modelo.build_vocab(lista_lista_tokens, progress_per=5000)"
   ]
  },
  {
   "cell_type": "code",
   "execution_count": 19,
   "metadata": {
    "colab": {
     "base_uri": "https://localhost:8080/",
     "height": 1000
    },
    "colab_type": "code",
    "executionInfo": {
     "elapsed": 1023,
     "status": "ok",
     "timestamp": 1590674260587,
     "user": {
      "displayName": "alura cursos",
      "photoUrl": "",
      "userId": "17957571670599323429"
     },
     "user_tz": 180
    },
    "id": "o6Vto_OUkj2j",
    "outputId": "c40e415a-eff0-4ed8-9549-c76cac349dfd"
   },
   "outputs": [
    {
     "data": {
      "text/plain": [
       "['__class__',\n",
       " '__delattr__',\n",
       " '__dict__',\n",
       " '__dir__',\n",
       " '__doc__',\n",
       " '__eq__',\n",
       " '__format__',\n",
       " '__ge__',\n",
       " '__getattribute__',\n",
       " '__gt__',\n",
       " '__hash__',\n",
       " '__init__',\n",
       " '__init_subclass__',\n",
       " '__le__',\n",
       " '__lt__',\n",
       " '__module__',\n",
       " '__ne__',\n",
       " '__new__',\n",
       " '__reduce__',\n",
       " '__reduce_ex__',\n",
       " '__repr__',\n",
       " '__setattr__',\n",
       " '__sizeof__',\n",
       " '__str__',\n",
       " '__subclasshook__',\n",
       " '__weakref__',\n",
       " '_adapt_by_suffix',\n",
       " '_check_corpus_sanity',\n",
       " '_check_training_sanity',\n",
       " '_clear_post_train',\n",
       " '_do_train_epoch',\n",
       " '_do_train_job',\n",
       " '_get_next_alpha',\n",
       " '_get_thread_working_mem',\n",
       " '_job_producer',\n",
       " '_load_specials',\n",
       " '_log_epoch_end',\n",
       " '_log_epoch_progress',\n",
       " '_log_progress',\n",
       " '_log_train_end',\n",
       " '_raw_word_count',\n",
       " '_save_specials',\n",
       " '_scan_vocab',\n",
       " '_smart_save',\n",
       " '_train_epoch',\n",
       " '_train_epoch_corpusfile',\n",
       " '_worker_loop',\n",
       " '_worker_loop_corpusfile',\n",
       " 'add_lifecycle_event',\n",
       " 'add_null_word',\n",
       " 'alpha',\n",
       " 'batch_words',\n",
       " 'build_vocab',\n",
       " 'build_vocab_from_freq',\n",
       " 'cbow_mean',\n",
       " 'comment',\n",
       " 'compute_loss',\n",
       " 'corpus_count',\n",
       " 'corpus_total_words',\n",
       " 'create_binary_tree',\n",
       " 'cum_table',\n",
       " 'effective_min_count',\n",
       " 'epochs',\n",
       " 'estimate_memory',\n",
       " 'get_latest_training_loss',\n",
       " 'hashfxn',\n",
       " 'hs',\n",
       " 'init_sims',\n",
       " 'init_weights',\n",
       " 'layer1_size',\n",
       " 'lifecycle_events',\n",
       " 'load',\n",
       " 'make_cum_table',\n",
       " 'max_final_vocab',\n",
       " 'max_vocab_size',\n",
       " 'min_alpha',\n",
       " 'min_alpha_yet_reached',\n",
       " 'min_count',\n",
       " 'negative',\n",
       " 'ns_exponent',\n",
       " 'null_word',\n",
       " 'predict_output_word',\n",
       " 'prepare_vocab',\n",
       " 'prepare_weights',\n",
       " 'random',\n",
       " 'raw_vocab',\n",
       " 'reset_from',\n",
       " 'running_training_loss',\n",
       " 'sample',\n",
       " 'save',\n",
       " 'scan_vocab',\n",
       " 'score',\n",
       " 'seed',\n",
       " 'seeded_vector',\n",
       " 'sg',\n",
       " 'shrink_windows',\n",
       " 'sorted_vocab',\n",
       " 'syn1neg',\n",
       " 'total_train_time',\n",
       " 'train',\n",
       " 'train_count',\n",
       " 'update_weights',\n",
       " 'vector_size',\n",
       " 'window',\n",
       " 'workers',\n",
       " 'wv']"
      ]
     },
     "execution_count": 19,
     "metadata": {},
     "output_type": "execute_result"
    }
   ],
   "source": [
    "dir(w2v_modelo)"
   ]
  },
  {
   "cell_type": "code",
   "execution_count": 20,
   "metadata": {
    "colab": {
     "base_uri": "https://localhost:8080/",
     "height": 34
    },
    "colab_type": "code",
    "executionInfo": {
     "elapsed": 2056,
     "status": "ok",
     "timestamp": 1590674352725,
     "user": {
      "displayName": "alura cursos",
      "photoUrl": "",
      "userId": "17957571670599323429"
     },
     "user_tz": 180
    },
    "id": "UQV7LrLFlCQz",
    "outputId": "87c310b1-0828-4e1b-d6eb-e44febdf5548"
   },
   "outputs": [
    {
     "data": {
      "text/plain": [
       "84466"
      ]
     },
     "execution_count": 20,
     "metadata": {},
     "output_type": "execute_result"
    }
   ],
   "source": [
    "w2v_modelo.corpus_count"
   ]
  },
  {
   "cell_type": "code",
   "execution_count": 21,
   "metadata": {
    "colab": {
     "base_uri": "https://localhost:8080/",
     "height": 1000
    },
    "colab_type": "code",
    "executionInfo": {
     "elapsed": 45452,
     "status": "ok",
     "timestamp": 1590674484723,
     "user": {
      "displayName": "alura cursos",
      "photoUrl": "",
      "userId": "17957571670599323429"
     },
     "user_tz": 180
    },
    "id": "GkZDUKtMkv3e",
    "outputId": "70223207-9308-4c46-c705-f9c2ef3d6453"
   },
   "outputs": [
    {
     "name": "stderr",
     "output_type": "stream",
     "text": [
      "2022-03-26 20:21:27,659 : - Word2Vec lifecycle event {'msg': 'training model with 3 workers on 12924 vocabulary and 300 features, using sg=0 hs=0 sample=0.001 negative=5 window=2 shrink_windows=True', 'datetime': '2022-03-26T20:21:27.659247', 'gensim': '4.1.2', 'python': '3.9.7 (default, Sep 16 2021, 16:59:28) [MSC v.1916 64 bit (AMD64)]', 'platform': 'Windows-10-10.0.19042-SP0', 'event': 'train'}\n",
      "2022-03-26 20:21:28,026 : - worker thread finished; awaiting finish of 2 more threads\n",
      "2022-03-26 20:21:28,033 : - worker thread finished; awaiting finish of 1 more threads\n",
      "2022-03-26 20:21:28,042 : - worker thread finished; awaiting finish of 0 more threads\n",
      "2022-03-26 20:21:28,042 : - EPOCH - 1 : training on 540242 raw words (486037 effective words) took 0.4s, 1297520 effective words/s\n",
      "2022-03-26 20:21:28,402 : - worker thread finished; awaiting finish of 2 more threads\n",
      "2022-03-26 20:21:28,405 : - worker thread finished; awaiting finish of 1 more threads\n",
      "2022-03-26 20:21:28,408 : - worker thread finished; awaiting finish of 0 more threads\n",
      "2022-03-26 20:21:28,409 : - EPOCH - 2 : training on 540242 raw words (486138 effective words) took 0.4s, 1354825 effective words/s\n",
      "2022-03-26 20:21:28,769 : - worker thread finished; awaiting finish of 2 more threads\n",
      "2022-03-26 20:21:28,774 : - worker thread finished; awaiting finish of 1 more threads\n",
      "2022-03-26 20:21:28,783 : - worker thread finished; awaiting finish of 0 more threads\n",
      "2022-03-26 20:21:28,783 : - EPOCH - 3 : training on 540242 raw words (486133 effective words) took 0.4s, 1331122 effective words/s\n",
      "2022-03-26 20:21:29,146 : - worker thread finished; awaiting finish of 2 more threads\n",
      "2022-03-26 20:21:29,151 : - worker thread finished; awaiting finish of 1 more threads\n",
      "2022-03-26 20:21:29,158 : - worker thread finished; awaiting finish of 0 more threads\n",
      "2022-03-26 20:21:29,158 : - EPOCH - 4 : training on 540242 raw words (486109 effective words) took 0.4s, 1324682 effective words/s\n",
      "2022-03-26 20:21:29,520 : - worker thread finished; awaiting finish of 2 more threads\n",
      "2022-03-26 20:21:29,521 : - worker thread finished; awaiting finish of 1 more threads\n",
      "2022-03-26 20:21:29,531 : - worker thread finished; awaiting finish of 0 more threads\n",
      "2022-03-26 20:21:29,531 : - EPOCH - 5 : training on 540242 raw words (486197 effective words) took 0.4s, 1333023 effective words/s\n",
      "2022-03-26 20:21:29,893 : - worker thread finished; awaiting finish of 2 more threads\n",
      "2022-03-26 20:21:29,896 : - worker thread finished; awaiting finish of 1 more threads\n",
      "2022-03-26 20:21:29,899 : - worker thread finished; awaiting finish of 0 more threads\n",
      "2022-03-26 20:21:29,899 : - EPOCH - 6 : training on 540242 raw words (486062 effective words) took 0.4s, 1349904 effective words/s\n",
      "2022-03-26 20:21:30,261 : - worker thread finished; awaiting finish of 2 more threads\n",
      "2022-03-26 20:21:30,265 : - worker thread finished; awaiting finish of 1 more threads\n",
      "2022-03-26 20:21:30,271 : - worker thread finished; awaiting finish of 0 more threads\n",
      "2022-03-26 20:21:30,271 : - EPOCH - 7 : training on 540242 raw words (486183 effective words) took 0.4s, 1336262 effective words/s\n",
      "2022-03-26 20:21:30,637 : - worker thread finished; awaiting finish of 2 more threads\n",
      "2022-03-26 20:21:30,640 : - worker thread finished; awaiting finish of 1 more threads\n",
      "2022-03-26 20:21:30,643 : - worker thread finished; awaiting finish of 0 more threads\n",
      "2022-03-26 20:21:30,643 : - EPOCH - 8 : training on 540242 raw words (486261 effective words) took 0.4s, 1342077 effective words/s\n",
      "2022-03-26 20:21:31,000 : - worker thread finished; awaiting finish of 2 more threads\n",
      "2022-03-26 20:21:31,006 : - worker thread finished; awaiting finish of 1 more threads\n",
      "2022-03-26 20:21:31,013 : - worker thread finished; awaiting finish of 0 more threads\n",
      "2022-03-26 20:21:31,014 : - EPOCH - 9 : training on 540242 raw words (486116 effective words) took 0.4s, 1338821 effective words/s\n",
      "2022-03-26 20:21:31,370 : - worker thread finished; awaiting finish of 2 more threads\n",
      "2022-03-26 20:21:31,380 : - worker thread finished; awaiting finish of 1 more threads\n",
      "2022-03-26 20:21:31,384 : - worker thread finished; awaiting finish of 0 more threads\n",
      "2022-03-26 20:21:31,384 : - EPOCH - 10 : training on 540242 raw words (486034 effective words) took 0.4s, 1343467 effective words/s\n",
      "2022-03-26 20:21:31,739 : - worker thread finished; awaiting finish of 2 more threads\n",
      "2022-03-26 20:21:31,744 : - worker thread finished; awaiting finish of 1 more threads\n",
      "2022-03-26 20:21:31,753 : - worker thread finished; awaiting finish of 0 more threads\n",
      "2022-03-26 20:21:31,753 : - EPOCH - 11 : training on 540242 raw words (486262 effective words) took 0.4s, 1346149 effective words/s\n",
      "2022-03-26 20:21:32,107 : - worker thread finished; awaiting finish of 2 more threads\n",
      "2022-03-26 20:21:32,117 : - worker thread finished; awaiting finish of 1 more threads\n",
      "2022-03-26 20:21:32,120 : - worker thread finished; awaiting finish of 0 more threads\n",
      "2022-03-26 20:21:32,120 : - EPOCH - 12 : training on 540242 raw words (486189 effective words) took 0.4s, 1352264 effective words/s\n",
      "2022-03-26 20:21:32,476 : - worker thread finished; awaiting finish of 2 more threads\n",
      "2022-03-26 20:21:32,479 : - worker thread finished; awaiting finish of 1 more threads\n",
      "2022-03-26 20:21:32,487 : - worker thread finished; awaiting finish of 0 more threads\n",
      "2022-03-26 20:21:32,487 : - EPOCH - 13 : training on 540242 raw words (486205 effective words) took 0.4s, 1354543 effective words/s\n",
      "2022-03-26 20:21:32,842 : - worker thread finished; awaiting finish of 2 more threads\n",
      "2022-03-26 20:21:32,847 : - worker thread finished; awaiting finish of 1 more threads\n",
      "2022-03-26 20:21:32,856 : - worker thread finished; awaiting finish of 0 more threads\n",
      "2022-03-26 20:21:32,857 : - EPOCH - 14 : training on 540242 raw words (486092 effective words) took 0.4s, 1344050 effective words/s\n",
      "2022-03-26 20:21:33,211 : - worker thread finished; awaiting finish of 2 more threads\n",
      "2022-03-26 20:21:33,216 : - worker thread finished; awaiting finish of 1 more threads\n",
      "2022-03-26 20:21:33,223 : - worker thread finished; awaiting finish of 0 more threads\n",
      "2022-03-26 20:21:33,224 : - EPOCH - 15 : training on 540242 raw words (486119 effective words) took 0.4s, 1353841 effective words/s\n",
      "2022-03-26 20:21:33,578 : - worker thread finished; awaiting finish of 2 more threads\n",
      "2022-03-26 20:21:33,583 : - worker thread finished; awaiting finish of 1 more threads\n",
      "2022-03-26 20:21:33,591 : - worker thread finished; awaiting finish of 0 more threads\n",
      "2022-03-26 20:21:33,591 : - EPOCH - 16 : training on 540242 raw words (486055 effective words) took 0.4s, 1353157 effective words/s\n",
      "2022-03-26 20:21:33,946 : - worker thread finished; awaiting finish of 2 more threads\n",
      "2022-03-26 20:21:33,950 : - worker thread finished; awaiting finish of 1 more threads\n",
      "2022-03-26 20:21:33,960 : - worker thread finished; awaiting finish of 0 more threads\n",
      "2022-03-26 20:21:33,960 : - EPOCH - 17 : training on 540242 raw words (486062 effective words) took 0.4s, 1345076 effective words/s\n",
      "2022-03-26 20:21:34,313 : - worker thread finished; awaiting finish of 2 more threads\n",
      "2022-03-26 20:21:34,317 : - worker thread finished; awaiting finish of 1 more threads\n",
      "2022-03-26 20:21:34,325 : - worker thread finished; awaiting finish of 0 more threads\n",
      "2022-03-26 20:21:34,325 : - EPOCH - 18 : training on 540242 raw words (486152 effective words) took 0.4s, 1365915 effective words/s\n",
      "2022-03-26 20:21:34,676 : - worker thread finished; awaiting finish of 2 more threads\n",
      "2022-03-26 20:21:34,680 : - worker thread finished; awaiting finish of 1 more threads\n",
      "2022-03-26 20:21:34,687 : - worker thread finished; awaiting finish of 0 more threads\n",
      "2022-03-26 20:21:34,687 : - EPOCH - 19 : training on 540242 raw words (486222 effective words) took 0.4s, 1375954 effective words/s\n",
      "2022-03-26 20:21:35,038 : - worker thread finished; awaiting finish of 2 more threads\n",
      "2022-03-26 20:21:35,041 : - worker thread finished; awaiting finish of 1 more threads\n",
      "2022-03-26 20:21:35,049 : - worker thread finished; awaiting finish of 0 more threads\n",
      "2022-03-26 20:21:35,050 : - EPOCH - 20 : training on 540242 raw words (486022 effective words) took 0.4s, 1371438 effective words/s\n",
      "2022-03-26 20:21:35,396 : - worker thread finished; awaiting finish of 2 more threads\n"
     ]
    },
    {
     "name": "stderr",
     "output_type": "stream",
     "text": [
      "2022-03-26 20:21:35,404 : - worker thread finished; awaiting finish of 1 more threads\n",
      "2022-03-26 20:21:35,411 : - worker thread finished; awaiting finish of 0 more threads\n",
      "2022-03-26 20:21:35,412 : - EPOCH - 21 : training on 540242 raw words (486079 effective words) took 0.4s, 1371593 effective words/s\n",
      "2022-03-26 20:21:35,763 : - worker thread finished; awaiting finish of 2 more threads\n",
      "2022-03-26 20:21:35,766 : - worker thread finished; awaiting finish of 1 more threads\n",
      "2022-03-26 20:21:35,772 : - worker thread finished; awaiting finish of 0 more threads\n",
      "2022-03-26 20:21:35,773 : - EPOCH - 22 : training on 540242 raw words (486067 effective words) took 0.4s, 1377225 effective words/s\n",
      "2022-03-26 20:21:36,119 : - worker thread finished; awaiting finish of 2 more threads\n",
      "2022-03-26 20:21:36,123 : - worker thread finished; awaiting finish of 1 more threads\n",
      "2022-03-26 20:21:36,133 : - worker thread finished; awaiting finish of 0 more threads\n",
      "2022-03-26 20:21:36,133 : - EPOCH - 23 : training on 540242 raw words (486175 effective words) took 0.4s, 1379459 effective words/s\n",
      "2022-03-26 20:21:36,481 : - worker thread finished; awaiting finish of 2 more threads\n",
      "2022-03-26 20:21:36,485 : - worker thread finished; awaiting finish of 1 more threads\n",
      "2022-03-26 20:21:36,492 : - worker thread finished; awaiting finish of 0 more threads\n",
      "2022-03-26 20:21:36,493 : - EPOCH - 24 : training on 540242 raw words (486123 effective words) took 0.4s, 1383400 effective words/s\n",
      "2022-03-26 20:21:36,842 : - worker thread finished; awaiting finish of 2 more threads\n",
      "2022-03-26 20:21:36,845 : - worker thread finished; awaiting finish of 1 more threads\n",
      "2022-03-26 20:21:36,853 : - worker thread finished; awaiting finish of 0 more threads\n",
      "2022-03-26 20:21:36,854 : - EPOCH - 25 : training on 540242 raw words (486169 effective words) took 0.4s, 1378782 effective words/s\n",
      "2022-03-26 20:21:37,198 : - worker thread finished; awaiting finish of 2 more threads\n",
      "2022-03-26 20:21:37,205 : - worker thread finished; awaiting finish of 1 more threads\n",
      "2022-03-26 20:21:37,208 : - worker thread finished; awaiting finish of 0 more threads\n",
      "2022-03-26 20:21:37,209 : - EPOCH - 26 : training on 540242 raw words (485991 effective words) took 0.3s, 1399915 effective words/s\n",
      "2022-03-26 20:21:37,557 : - worker thread finished; awaiting finish of 2 more threads\n",
      "2022-03-26 20:21:37,559 : - worker thread finished; awaiting finish of 1 more threads\n",
      "2022-03-26 20:21:37,566 : - worker thread finished; awaiting finish of 0 more threads\n",
      "2022-03-26 20:21:37,567 : - EPOCH - 27 : training on 540242 raw words (486108 effective words) took 0.4s, 1388609 effective words/s\n",
      "2022-03-26 20:21:37,916 : - worker thread finished; awaiting finish of 2 more threads\n",
      "2022-03-26 20:21:37,922 : - worker thread finished; awaiting finish of 1 more threads\n",
      "2022-03-26 20:21:37,928 : - worker thread finished; awaiting finish of 0 more threads\n",
      "2022-03-26 20:21:37,928 : - EPOCH - 28 : training on 540242 raw words (486040 effective words) took 0.4s, 1374331 effective words/s\n",
      "2022-03-26 20:21:38,279 : - worker thread finished; awaiting finish of 2 more threads\n",
      "2022-03-26 20:21:38,282 : - worker thread finished; awaiting finish of 1 more threads\n",
      "2022-03-26 20:21:38,288 : - worker thread finished; awaiting finish of 0 more threads\n",
      "2022-03-26 20:21:38,288 : - EPOCH - 29 : training on 540242 raw words (486128 effective words) took 0.4s, 1380853 effective words/s\n",
      "2022-03-26 20:21:38,637 : - worker thread finished; awaiting finish of 2 more threads\n",
      "2022-03-26 20:21:38,642 : - worker thread finished; awaiting finish of 1 more threads\n",
      "2022-03-26 20:21:38,652 : - worker thread finished; awaiting finish of 0 more threads\n",
      "2022-03-26 20:21:38,652 : - EPOCH - 30 : training on 540242 raw words (486164 effective words) took 0.4s, 1375226 effective words/s\n",
      "2022-03-26 20:21:38,653 : - Word2Vec lifecycle event {'msg': 'training on 16207260 raw words (14583694 effective words) took 11.0s, 1326671 effective words/s', 'datetime': '2022-03-26T20:21:38.653237', 'gensim': '4.1.2', 'python': '3.9.7 (default, Sep 16 2021, 16:59:28) [MSC v.1916 64 bit (AMD64)]', 'platform': 'Windows-10-10.0.19042-SP0', 'event': 'train'}\n"
     ]
    },
    {
     "data": {
      "text/plain": [
       "(14583694, 16207260)"
      ]
     },
     "execution_count": 21,
     "metadata": {},
     "output_type": "execute_result"
    }
   ],
   "source": [
    "w2v_modelo.train(lista_lista_tokens, \n",
    "                 total_examples=w2v_modelo.corpus_count,\n",
    "                 epochs = 30)"
   ]
  },
  {
   "cell_type": "code",
   "execution_count": 22,
   "metadata": {
    "colab": {
     "base_uri": "https://localhost:8080/",
     "height": 255
    },
    "colab_type": "code",
    "executionInfo": {
     "elapsed": 1242,
     "status": "ok",
     "timestamp": 1590674636091,
     "user": {
      "displayName": "alura cursos",
      "photoUrl": "",
      "userId": "17957571670599323429"
     },
     "user_tz": 180
    },
    "id": "hpHn6jjjlbu_",
    "outputId": "e74a55d5-f5fe-4ad8-c61d-b212183d987c"
   },
   "outputs": [
    {
     "data": {
      "text/plain": [
       "[('apple', 0.5782870650291443),\n",
       " ('facebook', 0.5041478872299194),\n",
       " ('waze', 0.49046817421913147),\n",
       " ('amazon', 0.478201687335968),\n",
       " ('airbnb', 0.46798449754714966),\n",
       " ('yahoo', 0.4502212405204773),\n",
       " ('uber', 0.4500688910484314),\n",
       " ('tesla', 0.446879506111145),\n",
       " ('software', 0.4447990357875824),\n",
       " ('volkswagen', 0.4419955909252167)]"
      ]
     },
     "execution_count": 22,
     "metadata": {},
     "output_type": "execute_result"
    }
   ],
   "source": [
    "w2v_modelo.wv.most_similar(\"google\")"
   ]
  },
  {
   "cell_type": "code",
   "execution_count": 23,
   "metadata": {
    "colab": {
     "base_uri": "https://localhost:8080/",
     "height": 238
    },
    "colab_type": "code",
    "executionInfo": {
     "elapsed": 577,
     "status": "ok",
     "timestamp": 1590674717712,
     "user": {
      "displayName": "alura cursos",
      "photoUrl": "",
      "userId": "17957571670599323429"
     },
     "user_tz": 180
    },
    "id": "Mp4MMuJcmLer",
    "outputId": "6a4d376f-8a13-4ca6-dc14-10a1b87074cf"
   },
   "outputs": [
    {
     "data": {
      "text/plain": [
       "[('unilever', 0.5780666470527649),\n",
       " ('amazon', 0.5668013095855713),\n",
       " ('sky', 0.513708770275116),\n",
       " ('viajante', 0.5103511214256287),\n",
       " ('sony', 0.507834792137146),\n",
       " ('tesla', 0.5046946406364441),\n",
       " ('linkedin', 0.49667441844940186),\n",
       " ('lego', 0.4914659857749939),\n",
       " ('walmart', 0.4873628318309784),\n",
       " ('buffett', 0.48505157232284546)]"
      ]
     },
     "execution_count": 23,
     "metadata": {},
     "output_type": "execute_result"
    }
   ],
   "source": [
    "w2v_modelo.wv.most_similar(\"microsoft\")"
   ]
  },
  {
   "cell_type": "code",
   "execution_count": 24,
   "metadata": {
    "colab": {
     "base_uri": "https://localhost:8080/",
     "height": 238
    },
    "colab_type": "code",
    "executionInfo": {
     "elapsed": 1478,
     "status": "ok",
     "timestamp": 1590674809336,
     "user": {
      "displayName": "alura cursos",
      "photoUrl": "",
      "userId": "17957571670599323429"
     },
     "user_tz": 180
    },
    "id": "Gb8pApHjmfkf",
    "outputId": "3345cb83-fa96-4729-8ce4-3ba6f1c24f47"
   },
   "outputs": [
    {
     "data": {
      "text/plain": [
       "[('barça', 0.5862477421760559),\n",
       " ('bayern', 0.5695069432258606),\n",
       " ('chelsea', 0.5559929609298706),\n",
       " ('madrid', 0.5494162440299988),\n",
       " ('lazio', 0.5354681015014648),\n",
       " ('united', 0.5348320603370667),\n",
       " ('juventus', 0.5225729942321777),\n",
       " ('munique', 0.5139992237091064),\n",
       " ('psg', 0.5087335109710693),\n",
       " ('leicester', 0.503046989440918)]"
      ]
     },
     "execution_count": 24,
     "metadata": {},
     "output_type": "execute_result"
    }
   ],
   "source": [
    "w2v_modelo.wv.most_similar(\"barcelona\")"
   ]
  },
  {
   "cell_type": "code",
   "execution_count": 25,
   "metadata": {
    "colab": {
     "base_uri": "https://localhost:8080/",
     "height": 238
    },
    "colab_type": "code",
    "executionInfo": {
     "elapsed": 832,
     "status": "ok",
     "timestamp": 1590674832876,
     "user": {
      "displayName": "alura cursos",
      "photoUrl": "",
      "userId": "17957571670599323429"
     },
     "user_tz": 180
    },
    "id": "tbiumQBim1ur",
    "outputId": "e6ff57e6-fede-4fd6-acb8-b42fcdf159cd"
   },
   "outputs": [
    {
     "data": {
      "text/plain": [
       "[('suárez', 0.589506983757019),\n",
       " ('chuteiras', 0.5402089357376099),\n",
       " ('cristiano', 0.5383704900741577),\n",
       " ('cavani', 0.5088627934455872),\n",
       " ('barça', 0.5043180584907532),\n",
       " ('neymar', 0.489362895488739),\n",
       " ('ronaldo', 0.48808449506759644),\n",
       " ('barcelona', 0.4845430850982666),\n",
       " ('benzema', 0.48074859380722046),\n",
       " ('tevez', 0.4804903268814087)]"
      ]
     },
     "execution_count": 25,
     "metadata": {},
     "output_type": "execute_result"
    }
   ],
   "source": [
    "w2v_modelo.wv.most_similar(\"messi\")"
   ]
  },
  {
   "cell_type": "code",
   "execution_count": 26,
   "metadata": {
    "colab": {
     "base_uri": "https://localhost:8080/",
     "height": 238
    },
    "colab_type": "code",
    "executionInfo": {
     "elapsed": 1527,
     "status": "ok",
     "timestamp": 1590674864616,
     "user": {
      "displayName": "alura cursos",
      "photoUrl": "",
      "userId": "17957571670599323429"
     },
     "user_tz": 180
    },
    "id": "adwP-TKvm7pE",
    "outputId": "2c9f8580-a97c-4285-dc95-1a64bdaf1a04"
   },
   "outputs": [
    {
     "data": {
      "text/plain": [
       "[('volks', 0.6728121042251587),\n",
       " ('chrysler', 0.6474500298500061),\n",
       " ('embraer', 0.6380140781402588),\n",
       " ('braskem', 0.6307033896446228),\n",
       " ('csn', 0.6247340440750122),\n",
       " ('honda', 0.6204495429992676),\n",
       " ('tesla', 0.5832485556602478),\n",
       " ('fiat', 0.5808078646659851),\n",
       " ('metalúrgicos', 0.5762304067611694),\n",
       " ('toyota', 0.5755845308303833)]"
      ]
     },
     "execution_count": 26,
     "metadata": {},
     "output_type": "execute_result"
    }
   ],
   "source": [
    "w2v_modelo.wv.most_similar(\"gm\")"
   ]
  },
  {
   "cell_type": "code",
   "execution_count": 29,
   "metadata": {
    "colab": {
     "base_uri": "https://localhost:8080/",
     "height": 1000
    },
    "colab_type": "code",
    "executionInfo": {
     "elapsed": 106729,
     "status": "ok",
     "timestamp": 1590677643829,
     "user": {
      "displayName": "alura cursos",
      "photoUrl": "",
      "userId": "17957571670599323429"
     },
     "user_tz": 180
    },
    "id": "lAQ--B5Xu1Vu",
    "outputId": "fe41f513-656e-47b1-b5fc-cc99c7dbe4d7"
   },
   "outputs": [
    {
     "name": "stderr",
     "output_type": "stream",
     "text": [
      "2022-03-26 20:22:47,220 : - Word2Vec lifecycle event {'params': 'Word2Vec(vocab=0, vector_size=300, alpha=0.03)', 'datetime': '2022-03-26T20:22:47.219338', 'gensim': '4.1.2', 'python': '3.9.7 (default, Sep 16 2021, 16:59:28) [MSC v.1916 64 bit (AMD64)]', 'platform': 'Windows-10-10.0.19042-SP0', 'event': 'created'}\n",
      "2022-03-26 20:22:47,223 : - collecting all words and their counts\n",
      "2022-03-26 20:22:47,223 : - PROGRESS: at sentence #0, processed 0 words, keeping 0 word types\n",
      "2022-03-26 20:22:47,229 : - PROGRESS: at sentence #5000, processed 31930 words, keeping 10193 word types\n",
      "2022-03-26 20:22:47,236 : - PROGRESS: at sentence #10000, processed 63848 words, keeping 14989 word types\n",
      "2022-03-26 20:22:47,242 : - PROGRESS: at sentence #15000, processed 95753 words, keeping 18279 word types\n",
      "2022-03-26 20:22:47,250 : - PROGRESS: at sentence #20000, processed 127689 words, keeping 21033 word types\n",
      "2022-03-26 20:22:47,257 : - PROGRESS: at sentence #25000, processed 159589 words, keeping 23491 word types\n",
      "2022-03-26 20:22:47,264 : - PROGRESS: at sentence #30000, processed 191554 words, keeping 25494 word types\n",
      "2022-03-26 20:22:47,270 : - PROGRESS: at sentence #35000, processed 223412 words, keeping 27330 word types\n",
      "2022-03-26 20:22:47,278 : - PROGRESS: at sentence #40000, processed 255282 words, keeping 29053 word types\n",
      "2022-03-26 20:22:47,285 : - PROGRESS: at sentence #45000, processed 287297 words, keeping 30606 word types\n",
      "2022-03-26 20:22:47,292 : - PROGRESS: at sentence #50000, processed 319258 words, keeping 31964 word types\n",
      "2022-03-26 20:22:47,300 : - PROGRESS: at sentence #55000, processed 351437 words, keeping 33270 word types\n",
      "2022-03-26 20:22:47,308 : - PROGRESS: at sentence #60000, processed 383579 words, keeping 34520 word types\n",
      "2022-03-26 20:22:47,314 : - PROGRESS: at sentence #65000, processed 415565 words, keeping 35643 word types\n",
      "2022-03-26 20:22:47,321 : - PROGRESS: at sentence #70000, processed 447646 words, keeping 36719 word types\n",
      "2022-03-26 20:22:47,329 : - PROGRESS: at sentence #75000, processed 479568 words, keeping 37802 word types\n",
      "2022-03-26 20:22:47,337 : - PROGRESS: at sentence #80000, processed 511645 words, keeping 38814 word types\n",
      "2022-03-26 20:22:47,344 : - collected 39693 word types from a corpus of 540242 raw words and 84466 sentences\n",
      "2022-03-26 20:22:47,345 : - Creating a fresh vocabulary\n",
      "2022-03-26 20:22:47,389 : - Word2Vec lifecycle event {'msg': 'effective_min_count=5 retains 12924 unique words (32.559897211095155%% of original 39693, drops 26769)', 'datetime': '2022-03-26T20:22:47.389359', 'gensim': '4.1.2', 'python': '3.9.7 (default, Sep 16 2021, 16:59:28) [MSC v.1916 64 bit (AMD64)]', 'platform': 'Windows-10-10.0.19042-SP0', 'event': 'prepare_vocab'}\n",
      "2022-03-26 20:22:47,390 : - Word2Vec lifecycle event {'msg': 'effective_min_count=5 leaves 495223 word corpus (91.66688261927062%% of original 540242, drops 45019)', 'datetime': '2022-03-26T20:22:47.390359', 'gensim': '4.1.2', 'python': '3.9.7 (default, Sep 16 2021, 16:59:28) [MSC v.1916 64 bit (AMD64)]', 'platform': 'Windows-10-10.0.19042-SP0', 'event': 'prepare_vocab'}\n",
      "2022-03-26 20:22:47,448 : - deleting the raw counts dictionary of 39693 items\n",
      "2022-03-26 20:22:47,449 : - sample=0.001 downsamples 8 most-common words\n",
      "2022-03-26 20:22:47,450 : - Word2Vec lifecycle event {'msg': 'downsampling leaves estimated 486147.7552334345 word corpus (98.2%% of prior 495223)', 'datetime': '2022-03-26T20:22:47.450386', 'gensim': '4.1.2', 'python': '3.9.7 (default, Sep 16 2021, 16:59:28) [MSC v.1916 64 bit (AMD64)]', 'platform': 'Windows-10-10.0.19042-SP0', 'event': 'prepare_vocab'}\n",
      "2022-03-26 20:22:47,547 : - estimated required memory for 12924 words and 300 dimensions: 37479600 bytes\n",
      "2022-03-26 20:22:47,547 : - resetting layer weights\n",
      "2022-03-26 20:22:47,561 : - Word2Vec lifecycle event {'update': False, 'trim_rule': 'None', 'datetime': '2022-03-26T20:22:47.561429', 'gensim': '4.1.2', 'python': '3.9.7 (default, Sep 16 2021, 16:59:28) [MSC v.1916 64 bit (AMD64)]', 'platform': 'Windows-10-10.0.19042-SP0', 'event': 'build_vocab'}\n",
      "2022-03-26 20:22:47,562 : - Word2Vec lifecycle event {'msg': 'training model with 3 workers on 12924 vocabulary and 300 features, using sg=1 hs=0 sample=0.001 negative=5 window=5 shrink_windows=True', 'datetime': '2022-03-26T20:22:47.562430', 'gensim': '4.1.2', 'python': '3.9.7 (default, Sep 16 2021, 16:59:28) [MSC v.1916 64 bit (AMD64)]', 'platform': 'Windows-10-10.0.19042-SP0', 'event': 'train'}\n",
      "2022-03-26 20:22:48,416 : - worker thread finished; awaiting finish of 2 more threads\n",
      "2022-03-26 20:22:48,422 : - worker thread finished; awaiting finish of 1 more threads\n",
      "2022-03-26 20:22:48,429 : - worker thread finished; awaiting finish of 0 more threads\n",
      "2022-03-26 20:22:48,429 : - EPOCH - 1 : training on 540242 raw words (486139 effective words) took 0.9s, 565771 effective words/s\n",
      "2022-03-26 20:22:49,278 : - worker thread finished; awaiting finish of 2 more threads\n",
      "2022-03-26 20:22:49,290 : - worker thread finished; awaiting finish of 1 more threads\n",
      "2022-03-26 20:22:49,295 : - worker thread finished; awaiting finish of 0 more threads\n",
      "2022-03-26 20:22:49,296 : - EPOCH - 2 : training on 540242 raw words (486116 effective words) took 0.9s, 566300 effective words/s\n",
      "2022-03-26 20:22:50,148 : - worker thread finished; awaiting finish of 2 more threads\n",
      "2022-03-26 20:22:50,154 : - worker thread finished; awaiting finish of 1 more threads\n",
      "2022-03-26 20:22:50,163 : - worker thread finished; awaiting finish of 0 more threads\n",
      "2022-03-26 20:22:50,163 : - EPOCH - 3 : training on 540242 raw words (486059 effective words) took 0.9s, 565709 effective words/s\n",
      "2022-03-26 20:22:51,011 : - worker thread finished; awaiting finish of 2 more threads\n",
      "2022-03-26 20:22:51,016 : - worker thread finished; awaiting finish of 1 more threads\n",
      "2022-03-26 20:22:51,030 : - worker thread finished; awaiting finish of 0 more threads\n",
      "2022-03-26 20:22:51,030 : - EPOCH - 4 : training on 540242 raw words (486135 effective words) took 0.9s, 566416 effective words/s\n",
      "2022-03-26 20:22:51,884 : - worker thread finished; awaiting finish of 2 more threads\n",
      "2022-03-26 20:22:51,887 : - worker thread finished; awaiting finish of 1 more threads\n",
      "2022-03-26 20:22:51,894 : - worker thread finished; awaiting finish of 0 more threads\n",
      "2022-03-26 20:22:51,894 : - EPOCH - 5 : training on 540242 raw words (486185 effective words) took 0.9s, 567962 effective words/s\n",
      "2022-03-26 20:22:52,753 : - worker thread finished; awaiting finish of 2 more threads\n",
      "2022-03-26 20:22:52,756 : - worker thread finished; awaiting finish of 1 more threads\n",
      "2022-03-26 20:22:52,765 : - worker thread finished; awaiting finish of 0 more threads\n",
      "2022-03-26 20:22:52,766 : - EPOCH - 6 : training on 540242 raw words (486289 effective words) took 0.9s, 563223 effective words/s\n",
      "2022-03-26 20:22:53,616 : - worker thread finished; awaiting finish of 2 more threads\n",
      "2022-03-26 20:22:53,623 : - worker thread finished; awaiting finish of 1 more threads\n",
      "2022-03-26 20:22:53,633 : - worker thread finished; awaiting finish of 0 more threads\n",
      "2022-03-26 20:22:53,634 : - EPOCH - 7 : training on 540242 raw words (486110 effective words) took 0.9s, 565658 effective words/s\n",
      "2022-03-26 20:22:54,491 : - worker thread finished; awaiting finish of 2 more threads\n",
      "2022-03-26 20:22:54,511 : - worker thread finished; awaiting finish of 1 more threads\n",
      "2022-03-26 20:22:54,526 : - worker thread finished; awaiting finish of 0 more threads\n",
      "2022-03-26 20:22:54,527 : - EPOCH - 8 : training on 540242 raw words (486103 effective words) took 0.9s, 548903 effective words/s\n",
      "2022-03-26 20:22:55,387 : - worker thread finished; awaiting finish of 2 more threads\n",
      "2022-03-26 20:22:55,394 : - worker thread finished; awaiting finish of 1 more threads\n",
      "2022-03-26 20:22:55,403 : - worker thread finished; awaiting finish of 0 more threads\n",
      "2022-03-26 20:22:55,403 : - EPOCH - 9 : training on 540242 raw words (486196 effective words) took 0.9s, 559969 effective words/s\n",
      "2022-03-26 20:22:56,249 : - worker thread finished; awaiting finish of 2 more threads\n",
      "2022-03-26 20:22:56,252 : - worker thread finished; awaiting finish of 1 more threads\n",
      "2022-03-26 20:22:56,265 : - worker thread finished; awaiting finish of 0 more threads\n"
     ]
    },
    {
     "name": "stderr",
     "output_type": "stream",
     "text": [
      "2022-03-26 20:22:56,265 : - EPOCH - 10 : training on 540242 raw words (486170 effective words) took 0.9s, 569511 effective words/s\n",
      "2022-03-26 20:22:57,112 : - worker thread finished; awaiting finish of 2 more threads\n",
      "2022-03-26 20:22:57,113 : - worker thread finished; awaiting finish of 1 more threads\n",
      "2022-03-26 20:22:57,119 : - worker thread finished; awaiting finish of 0 more threads\n",
      "2022-03-26 20:22:57,119 : - EPOCH - 11 : training on 540242 raw words (486098 effective words) took 0.8s, 575214 effective words/s\n",
      "2022-03-26 20:22:57,961 : - worker thread finished; awaiting finish of 2 more threads\n",
      "2022-03-26 20:22:57,965 : - worker thread finished; awaiting finish of 1 more threads\n",
      "2022-03-26 20:22:57,976 : - worker thread finished; awaiting finish of 0 more threads\n",
      "2022-03-26 20:22:57,976 : - EPOCH - 12 : training on 540242 raw words (486157 effective words) took 0.8s, 572627 effective words/s\n",
      "2022-03-26 20:22:58,818 : - worker thread finished; awaiting finish of 2 more threads\n",
      "2022-03-26 20:22:58,821 : - worker thread finished; awaiting finish of 1 more threads\n",
      "2022-03-26 20:22:58,833 : - worker thread finished; awaiting finish of 0 more threads\n",
      "2022-03-26 20:22:58,834 : - EPOCH - 13 : training on 540242 raw words (486085 effective words) took 0.8s, 572356 effective words/s\n",
      "2022-03-26 20:22:59,677 : - worker thread finished; awaiting finish of 2 more threads\n",
      "2022-03-26 20:22:59,686 : - worker thread finished; awaiting finish of 1 more threads\n",
      "2022-03-26 20:22:59,687 : - worker thread finished; awaiting finish of 0 more threads\n",
      "2022-03-26 20:22:59,687 : - EPOCH - 14 : training on 540242 raw words (486151 effective words) took 0.8s, 575103 effective words/s\n",
      "2022-03-26 20:23:00,518 : - worker thread finished; awaiting finish of 2 more threads\n",
      "2022-03-26 20:23:00,523 : - worker thread finished; awaiting finish of 1 more threads\n",
      "2022-03-26 20:23:00,535 : - worker thread finished; awaiting finish of 0 more threads\n",
      "2022-03-26 20:23:00,536 : - EPOCH - 15 : training on 540242 raw words (486059 effective words) took 0.8s, 578914 effective words/s\n",
      "2022-03-26 20:23:01,373 : - worker thread finished; awaiting finish of 2 more threads\n",
      "2022-03-26 20:23:01,373 : - worker thread finished; awaiting finish of 1 more threads\n",
      "2022-03-26 20:23:01,380 : - worker thread finished; awaiting finish of 0 more threads\n",
      "2022-03-26 20:23:01,380 : - EPOCH - 16 : training on 540242 raw words (486054 effective words) took 0.8s, 582454 effective words/s\n",
      "2022-03-26 20:23:02,216 : - worker thread finished; awaiting finish of 2 more threads\n",
      "2022-03-26 20:23:02,221 : - worker thread finished; awaiting finish of 1 more threads\n",
      "2022-03-26 20:23:02,234 : - worker thread finished; awaiting finish of 0 more threads\n",
      "2022-03-26 20:23:02,234 : - EPOCH - 17 : training on 540242 raw words (486168 effective words) took 0.8s, 574593 effective words/s\n",
      "2022-03-26 20:23:03,062 : - worker thread finished; awaiting finish of 2 more threads\n",
      "2022-03-26 20:23:03,066 : - worker thread finished; awaiting finish of 1 more threads\n",
      "2022-03-26 20:23:03,068 : - worker thread finished; awaiting finish of 0 more threads\n",
      "2022-03-26 20:23:03,068 : - EPOCH - 18 : training on 540242 raw words (486126 effective words) took 0.8s, 588402 effective words/s\n",
      "2022-03-26 20:23:03,892 : - worker thread finished; awaiting finish of 2 more threads\n",
      "2022-03-26 20:23:03,895 : - worker thread finished; awaiting finish of 1 more threads\n",
      "2022-03-26 20:23:03,907 : - worker thread finished; awaiting finish of 0 more threads\n",
      "2022-03-26 20:23:03,907 : - EPOCH - 19 : training on 540242 raw words (486184 effective words) took 0.8s, 585509 effective words/s\n",
      "2022-03-26 20:23:04,730 : - worker thread finished; awaiting finish of 2 more threads\n",
      "2022-03-26 20:23:04,733 : - worker thread finished; awaiting finish of 1 more threads\n",
      "2022-03-26 20:23:04,737 : - worker thread finished; awaiting finish of 0 more threads\n",
      "2022-03-26 20:23:04,737 : - EPOCH - 20 : training on 540242 raw words (486181 effective words) took 0.8s, 591798 effective words/s\n",
      "2022-03-26 20:23:05,547 : - worker thread finished; awaiting finish of 2 more threads\n",
      "2022-03-26 20:23:05,551 : - worker thread finished; awaiting finish of 1 more threads\n",
      "2022-03-26 20:23:05,566 : - worker thread finished; awaiting finish of 0 more threads\n",
      "2022-03-26 20:23:05,567 : - EPOCH - 21 : training on 540242 raw words (486231 effective words) took 0.8s, 591890 effective words/s\n",
      "2022-03-26 20:23:06,383 : - worker thread finished; awaiting finish of 2 more threads\n",
      "2022-03-26 20:23:06,392 : - worker thread finished; awaiting finish of 1 more threads\n",
      "2022-03-26 20:23:06,394 : - worker thread finished; awaiting finish of 0 more threads\n",
      "2022-03-26 20:23:06,394 : - EPOCH - 22 : training on 540242 raw words (486035 effective words) took 0.8s, 593160 effective words/s\n",
      "2022-03-26 20:23:07,211 : - worker thread finished; awaiting finish of 2 more threads\n",
      "2022-03-26 20:23:07,216 : - worker thread finished; awaiting finish of 1 more threads\n",
      "2022-03-26 20:23:07,220 : - worker thread finished; awaiting finish of 0 more threads\n",
      "2022-03-26 20:23:07,221 : - EPOCH - 23 : training on 540242 raw words (486215 effective words) took 0.8s, 593878 effective words/s\n",
      "2022-03-26 20:23:08,044 : - worker thread finished; awaiting finish of 2 more threads\n",
      "2022-03-26 20:23:08,050 : - worker thread finished; awaiting finish of 1 more threads\n",
      "2022-03-26 20:23:08,061 : - worker thread finished; awaiting finish of 0 more threads\n",
      "2022-03-26 20:23:08,061 : - EPOCH - 24 : training on 540242 raw words (486136 effective words) took 0.8s, 584231 effective words/s\n",
      "2022-03-26 20:23:08,868 : - worker thread finished; awaiting finish of 2 more threads\n",
      "2022-03-26 20:23:08,877 : - worker thread finished; awaiting finish of 1 more threads\n",
      "2022-03-26 20:23:08,879 : - worker thread finished; awaiting finish of 0 more threads\n",
      "2022-03-26 20:23:08,880 : - EPOCH - 25 : training on 540242 raw words (486178 effective words) took 0.8s, 600091 effective words/s\n",
      "2022-03-26 20:23:09,682 : - worker thread finished; awaiting finish of 2 more threads\n",
      "2022-03-26 20:23:09,695 : - worker thread finished; awaiting finish of 1 more threads\n",
      "2022-03-26 20:23:09,697 : - worker thread finished; awaiting finish of 0 more threads\n",
      "2022-03-26 20:23:09,697 : - EPOCH - 26 : training on 540242 raw words (486013 effective words) took 0.8s, 600804 effective words/s\n",
      "2022-03-26 20:23:10,490 : - worker thread finished; awaiting finish of 2 more threads\n",
      "2022-03-26 20:23:10,494 : - worker thread finished; awaiting finish of 1 more threads\n",
      "2022-03-26 20:23:10,503 : - worker thread finished; awaiting finish of 0 more threads\n",
      "2022-03-26 20:23:10,503 : - EPOCH - 27 : training on 540242 raw words (486152 effective words) took 0.8s, 609173 effective words/s\n",
      "2022-03-26 20:23:11,313 : - worker thread finished; awaiting finish of 2 more threads\n",
      "2022-03-26 20:23:11,314 : - worker thread finished; awaiting finish of 1 more threads\n",
      "2022-03-26 20:23:11,320 : - worker thread finished; awaiting finish of 0 more threads\n",
      "2022-03-26 20:23:11,320 : - EPOCH - 28 : training on 540242 raw words (486219 effective words) took 0.8s, 600697 effective words/s\n",
      "2022-03-26 20:23:12,116 : - worker thread finished; awaiting finish of 2 more threads\n",
      "2022-03-26 20:23:12,119 : - worker thread finished; awaiting finish of 1 more threads\n",
      "2022-03-26 20:23:12,133 : - worker thread finished; awaiting finish of 0 more threads\n",
      "2022-03-26 20:23:12,133 : - EPOCH - 29 : training on 540242 raw words (486168 effective words) took 0.8s, 604960 effective words/s\n",
      "2022-03-26 20:23:12,933 : - worker thread finished; awaiting finish of 2 more threads\n",
      "2022-03-26 20:23:12,936 : - worker thread finished; awaiting finish of 1 more threads\n",
      "2022-03-26 20:23:12,952 : - worker thread finished; awaiting finish of 0 more threads\n",
      "2022-03-26 20:23:12,952 : - EPOCH - 30 : training on 540242 raw words (486330 effective words) took 0.8s, 598730 effective words/s\n",
      "2022-03-26 20:23:12,953 : - Word2Vec lifecycle event {'msg': 'training on 16207260 raw words (14584442 effective words) took 25.4s, 574395 effective words/s', 'datetime': '2022-03-26T20:23:12.953813', 'gensim': '4.1.2', 'python': '3.9.7 (default, Sep 16 2021, 16:59:28) [MSC v.1916 64 bit (AMD64)]', 'platform': 'Windows-10-10.0.19042-SP0', 'event': 'train'}\n"
     ]
    },
    {
     "data": {
      "text/plain": [
       "(14584442, 16207260)"
      ]
     },
     "execution_count": 29,
     "metadata": {},
     "output_type": "execute_result"
    }
   ],
   "source": [
    "#Treinamento do modelo Skip-Gram\n",
    "w2v_modelo_sg = Word2Vec(sg = 1,\n",
    "                      window = 5,\n",
    "                      vector_size = 300,\n",
    "                      min_count = 5,\n",
    "                      alpha = 0.03,\n",
    "                      min_alpha = 0.007)\n",
    "\n",
    "w2v_modelo_sg.build_vocab(lista_lista_tokens, progress_per=5000)\n",
    "\n",
    "w2v_modelo_sg.train(lista_lista_tokens, \n",
    "                 total_examples=w2v_modelo_sg.corpus_count,\n",
    "                 epochs = 30)"
   ]
  },
  {
   "cell_type": "code",
   "execution_count": 30,
   "metadata": {
    "colab": {
     "base_uri": "https://localhost:8080/",
     "height": 255
    },
    "colab_type": "code",
    "executionInfo": {
     "elapsed": 2020,
     "status": "ok",
     "timestamp": 1590677838156,
     "user": {
      "displayName": "alura cursos",
      "photoUrl": "",
      "userId": "17957571670599323429"
     },
     "user_tz": 180
    },
    "id": "m26eXZjOxQBo",
    "outputId": "1b1da834-4968-4a77-9086-5c36741585bf"
   },
   "outputs": [
    {
     "data": {
      "text/plain": [
       "[('reguladores', 0.4387425482273102),\n",
       " ('android', 0.4097253978252411),\n",
       " ('waze', 0.38893333077430725),\n",
       " ('buffett', 0.3842429518699646),\n",
       " ('apple', 0.38127344846725464),\n",
       " ('anunciantes', 0.36959028244018555),\n",
       " ('volkswagen', 0.3694041073322296),\n",
       " ('yahoo', 0.3648589849472046),\n",
       " ('toshiba', 0.3571029305458069),\n",
       " ('walmart', 0.35219624638557434)]"
      ]
     },
     "execution_count": 30,
     "metadata": {},
     "output_type": "execute_result"
    }
   ],
   "source": [
    "w2v_modelo_sg.wv.most_similar(\"google\")"
   ]
  },
  {
   "cell_type": "code",
   "execution_count": 31,
   "metadata": {
    "colab": {
     "base_uri": "https://localhost:8080/",
     "height": 238
    },
    "colab_type": "code",
    "executionInfo": {
     "elapsed": 1817,
     "status": "ok",
     "timestamp": 1590677881283,
     "user": {
      "displayName": "alura cursos",
      "photoUrl": "",
      "userId": "17957571670599323429"
     },
     "user_tz": 180
    },
    "id": "mp37nGkryZDl",
    "outputId": "fa5287c2-8d71-4919-f83c-5148e9ff6478"
   },
   "outputs": [
    {
     "data": {
      "text/plain": [
       "[('apple', 0.5782870650291443),\n",
       " ('facebook', 0.5041478872299194),\n",
       " ('waze', 0.49046817421913147),\n",
       " ('amazon', 0.478201687335968),\n",
       " ('airbnb', 0.46798449754714966),\n",
       " ('yahoo', 0.4502212405204773),\n",
       " ('uber', 0.4500688910484314),\n",
       " ('tesla', 0.446879506111145),\n",
       " ('software', 0.4447990357875824),\n",
       " ('volkswagen', 0.4419955909252167)]"
      ]
     },
     "execution_count": 31,
     "metadata": {},
     "output_type": "execute_result"
    }
   ],
   "source": [
    "w2v_modelo.wv.most_similar(\"google\")"
   ]
  },
  {
   "cell_type": "code",
   "execution_count": 32,
   "metadata": {
    "colab": {
     "base_uri": "https://localhost:8080/",
     "height": 238
    },
    "colab_type": "code",
    "executionInfo": {
     "elapsed": 2021,
     "status": "ok",
     "timestamp": 1590677983269,
     "user": {
      "displayName": "alura cursos",
      "photoUrl": "",
      "userId": "17957571670599323429"
     },
     "user_tz": 180
    },
    "id": "v7ObTWU2yjor",
    "outputId": "b4a55323-6856-4218-ff6f-d5c9c30034a6"
   },
   "outputs": [
    {
     "data": {
      "text/plain": [
       "[('metalúrgicos', 0.5567712783813477),\n",
       " ('motors', 0.507946252822876),\n",
       " ('audi', 0.47469547390937805),\n",
       " ('honda', 0.4586760997772217),\n",
       " ('bmw', 0.45789316296577454),\n",
       " ('autoguiados', 0.4520058333873749),\n",
       " ('montadora', 0.44724422693252563),\n",
       " ('airbags', 0.44605767726898193),\n",
       " ('taubaté', 0.4457864761352539),\n",
       " ('coletivas', 0.4446195662021637)]"
      ]
     },
     "execution_count": 32,
     "metadata": {},
     "output_type": "execute_result"
    }
   ],
   "source": [
    "w2v_modelo_sg.wv.most_similar(\"gm\")"
   ]
  },
  {
   "cell_type": "code",
   "execution_count": 33,
   "metadata": {
    "colab": {
     "base_uri": "https://localhost:8080/",
     "height": 238
    },
    "colab_type": "code",
    "executionInfo": {
     "elapsed": 1581,
     "status": "ok",
     "timestamp": 1590678000703,
     "user": {
      "displayName": "alura cursos",
      "photoUrl": "",
      "userId": "17957571670599323429"
     },
     "user_tz": 180
    },
    "id": "Hthy8bAyy8eu",
    "outputId": "b72571f8-8e5a-41ac-d628-11e0ba6ff68a"
   },
   "outputs": [
    {
     "data": {
      "text/plain": [
       "[('volks', 0.6728121042251587),\n",
       " ('chrysler', 0.6474500298500061),\n",
       " ('embraer', 0.6380140781402588),\n",
       " ('braskem', 0.6307033896446228),\n",
       " ('csn', 0.6247340440750122),\n",
       " ('honda', 0.6204495429992676),\n",
       " ('tesla', 0.5832485556602478),\n",
       " ('fiat', 0.5808078646659851),\n",
       " ('metalúrgicos', 0.5762304067611694),\n",
       " ('toyota', 0.5755845308303833)]"
      ]
     },
     "execution_count": 33,
     "metadata": {},
     "output_type": "execute_result"
    }
   ],
   "source": [
    "w2v_modelo.wv.most_similar(\"gm\")"
   ]
  },
  {
   "cell_type": "code",
   "execution_count": 34,
   "metadata": {
    "colab": {
     "base_uri": "https://localhost:8080/",
     "height": 104
    },
    "colab_type": "code",
    "executionInfo": {
     "elapsed": 7014,
     "status": "ok",
     "timestamp": 1590678399508,
     "user": {
      "displayName": "alura cursos",
      "photoUrl": "",
      "userId": "17957571670599323429"
     },
     "user_tz": 180
    },
    "id": "PVuShjpFzA2g",
    "outputId": "56c20748-dfc6-4ac6-a515-8c792282264c"
   },
   "outputs": [
    {
     "name": "stderr",
     "output_type": "stream",
     "text": [
      "2022-03-26 20:23:13,031 : - storing 12924x300 projection weights into models/modelo_cbow.txt\n",
      "2022-03-26 20:23:14,918 : - storing 12924x300 projection weights into models/modelo_skipgram.txt\n"
     ]
    }
   ],
   "source": [
    "w2v_modelo.wv.save_word2vec_format(\"models/modelo_cbow.txt\", binary=False)\n",
    "w2v_modelo_sg.wv.save_word2vec_format(\"models/modelo_skipgram.txt\", binary=False)"
   ]
  }
 ],
 "metadata": {
  "colab": {
   "authorship_tag": "ABX9TyPrINvl/iKavdDxjbaGhmav",
   "mount_file_id": "1VV422Qh066Jh6JK8OxcLX2_WkjrqHrTP",
   "name": "word2vec_treinamento.ipynb",
   "provenance": [
    {
     "file_id": "1VV422Qh066Jh6JK8OxcLX2_WkjrqHrTP",
     "timestamp": 1590777531597
    },
    {
     "file_id": "1PxcP3okgorp0x7NZmIsZ9xL-l2OlLTnn",
     "timestamp": 1590414698585
    }
   ]
  },
  "kernelspec": {
   "display_name": "Python 3 (ipykernel)",
   "language": "python",
   "name": "python3"
  },
  "language_info": {
   "codemirror_mode": {
    "name": "ipython",
    "version": 3
   },
   "file_extension": ".py",
   "mimetype": "text/x-python",
   "name": "python",
   "nbconvert_exporter": "python",
   "pygments_lexer": "ipython3",
   "version": "3.9.7"
  }
 },
 "nbformat": 4,
 "nbformat_minor": 1
}
