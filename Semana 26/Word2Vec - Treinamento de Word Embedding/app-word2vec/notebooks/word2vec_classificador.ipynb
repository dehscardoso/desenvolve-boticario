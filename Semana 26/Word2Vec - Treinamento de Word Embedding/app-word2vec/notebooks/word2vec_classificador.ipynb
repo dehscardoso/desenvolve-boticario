{
 "cells": [
  {
   "cell_type": "markdown",
   "metadata": {},
   "source": [
    "<img src = \"https://images2.imgbox.com/32/ac/wucGkuem_o.png\" width=\"300\">"
   ]
  },
  {
   "cell_type": "code",
   "execution_count": null,
   "metadata": {
    "colab": {},
    "colab_type": "code",
    "id": "gqN1EnCTP3ty"
   },
   "outputs": [],
   "source": [
    "#!python -m spacy download pt_core_news_sm"
   ]
  },
  {
   "cell_type": "code",
   "execution_count": 6,
   "metadata": {
    "colab": {
     "base_uri": "https://localhost:8080/",
     "height": 70
    },
    "colab_type": "code",
    "executionInfo": {
     "elapsed": 19239,
     "status": "ok",
     "timestamp": 1591729224235,
     "user": {
      "displayName": "alura cursos",
      "photoUrl": "",
      "userId": "17957571670599323429"
     },
     "user_tz": 180
    },
    "id": "LG9sHzsKbG9z",
    "outputId": "5b61da56-8c27-4f0c-a028-7011fc63b757"
   },
   "outputs": [],
   "source": [
    "import spacy\n",
    "import numpy as np\n",
    "import pandas as pd\n",
    "from gensim.models import KeyedVectors\n",
    "\n",
    "w2v_modelo_cbow = KeyedVectors.load_word2vec_format(\"models/modelo_cbow.txt\")\n",
    "w2v_modelo_sg = KeyedVectors.load_word2vec_format(\"models/modelo_skipgram.txt\")\n",
    "artigo_treino = pd.read_csv(\"treino.csv\")\n",
    "artigo_teste = pd.read_csv(\"teste.csv\")"
   ]
  },
  {
   "cell_type": "code",
   "execution_count": 7,
   "metadata": {
    "colab": {
     "base_uri": "https://localhost:8080/",
     "height": 34
    },
    "colab_type": "code",
    "executionInfo": {
     "elapsed": 4734,
     "status": "ok",
     "timestamp": 1591728837454,
     "user": {
      "displayName": "alura cursos",
      "photoUrl": "",
      "userId": "17957571670599323429"
     },
     "user_tz": 180
    },
    "id": "VlYUnRRGP-9H",
    "outputId": "987a3500-66d6-4839-da55-20f5cbe276ad"
   },
   "outputs": [
    {
     "name": "stdout",
     "output_type": "stream",
     "text": [
      "['rio', 'janeiro', 'cidade', 'maravilhosa']\n"
     ]
    }
   ],
   "source": [
    "nlp = spacy.load(\"pt_core_news_sm\")\n",
    "\n",
    "def tokenizador(texto):\n",
    "    doc = nlp(texto)\n",
    "    tokens_validos = []\n",
    "    \n",
    "    for token in doc:\n",
    "        e_valido = not token.is_stop and token.is_alpha\n",
    "        if e_valido:\n",
    "            tokens_validos.append(token.text.lower())\n",
    "\n",
    "    \n",
    "    return  tokens_validos\n",
    "\n",
    "texto = \"Rio de Janeiro 1231231 ***** @#$ é uma cidade maravilhosa!\"\n",
    "tokens_exemplo = tokenizador(texto)\n",
    "print(tokens_exemplo)"
   ]
  },
  {
   "cell_type": "code",
   "execution_count": 8,
   "metadata": {
    "colab": {},
    "colab_type": "code",
    "id": "pIthnWOVaISp"
   },
   "outputs": [],
   "source": [
    "def combinacao_de_vetores_por_soma(palavras, modelo):\n",
    "    \n",
    "    vetor_resultante = np.zeros((1,300))\n",
    "    \n",
    "    for pn in palavras:\n",
    "        try:\n",
    "            vetor_resultante += modelo.get_vector(pn)\n",
    "\n",
    "        except KeyError:\n",
    "            pass\n",
    "    \n",
    "    return vetor_resultante\n",
    "\n",
    "vetor_texto = combinacao_de_vetores_por_soma(tokens_exemplo, w2v_modelo_cbow)"
   ]
  },
  {
   "cell_type": "code",
   "execution_count": 9,
   "metadata": {
    "colab": {
     "base_uri": "https://localhost:8080/",
     "height": 34
    },
    "colab_type": "code",
    "executionInfo": {
     "elapsed": 3388,
     "status": "ok",
     "timestamp": 1591728837458,
     "user": {
      "displayName": "alura cursos",
      "photoUrl": "",
      "userId": "17957571670599323429"
     },
     "user_tz": 180
    },
    "id": "cnUZvZWkb_CE",
    "outputId": "dcbfcdc9-948b-4ab2-c9f8-ac81f05b72dc"
   },
   "outputs": [
    {
     "data": {
      "text/plain": [
       "(1, 300)"
      ]
     },
     "execution_count": 9,
     "metadata": {},
     "output_type": "execute_result"
    }
   ],
   "source": [
    "vetor_texto.shape"
   ]
  },
  {
   "cell_type": "code",
   "execution_count": 10,
   "metadata": {
    "colab": {
     "base_uri": "https://localhost:8080/",
     "height": 50
    },
    "colab_type": "code",
    "executionInfo": {
     "elapsed": 1224871,
     "status": "ok",
     "timestamp": 1591730551247,
     "user": {
      "displayName": "alura cursos",
      "photoUrl": "",
      "userId": "17957571670599323429"
     },
     "user_tz": 180
    },
    "id": "dsQv7uJbbdtu",
    "outputId": "bddf7a4c-13fc-46d1-dcda-6fa0d6f9524b"
   },
   "outputs": [
    {
     "name": "stdout",
     "output_type": "stream",
     "text": [
      "(90000, 300)\n",
      "(20513, 300)\n"
     ]
    }
   ],
   "source": [
    "def matriz_vetores(textos, modelo):\n",
    "    x = len(textos)\n",
    "    y = 300\n",
    "    matriz = np.zeros((x,y))\n",
    "\n",
    "    for i in range(x):\n",
    "        palavras = tokenizador(textos.iloc[i])\n",
    "        matriz[i] = combinacao_de_vetores_por_soma(palavras, modelo)\n",
    "\n",
    "    return matriz\n",
    "\n",
    "matriz_vetores_treino = matriz_vetores(artigo_treino.title, w2v_modelo_cbow)\n",
    "matriz_vetores_teste = matriz_vetores(artigo_teste.title, w2v_modelo_cbow)\n",
    "print(matriz_vetores_treino.shape)\n",
    "print(matriz_vetores_teste.shape) "
   ]
  },
  {
   "cell_type": "code",
   "execution_count": 11,
   "metadata": {
    "colab": {
     "base_uri": "https://localhost:8080/",
     "height": 235
    },
    "colab_type": "code",
    "executionInfo": {
     "elapsed": 140007,
     "status": "ok",
     "timestamp": 1591731325310,
     "user": {
      "displayName": "alura cursos",
      "photoUrl": "",
      "userId": "17957571670599323429"
     },
     "user_tz": 180
    },
    "id": "GSTzNvAxdghQ",
    "outputId": "4763350d-5ff1-4caa-c67a-e048f4d9e918"
   },
   "outputs": [
    {
     "name": "stdout",
     "output_type": "stream",
     "text": [
      "              precision    recall  f1-score   support\n",
      "\n",
      "     colunas       0.80      0.71      0.75      6103\n",
      "   cotidiano       0.64      0.80      0.71      1698\n",
      "     esporte       0.93      0.86      0.89      4663\n",
      "   ilustrada       0.13      0.83      0.22       131\n",
      "     mercado       0.84      0.78      0.81      5867\n",
      "       mundo       0.74      0.83      0.79      2051\n",
      "\n",
      "    accuracy                           0.79     20513\n",
      "   macro avg       0.68      0.80      0.70     20513\n",
      "weighted avg       0.82      0.79      0.80     20513\n",
      "\n"
     ]
    }
   ],
   "source": [
    "from sklearn.linear_model import LogisticRegression\n",
    "from sklearn.metrics import classification_report\n",
    "\n",
    "LR_cbow = LogisticRegression(max_iter = 800)\n",
    "LR_cbow.fit(matriz_vetores_treino, artigo_treino.category)\n",
    "categorias_previsao = LR_cbow.predict(matriz_vetores_teste)\n",
    "resultado = classification_report(artigo_teste.category, categorias_previsao)\n",
    "print(resultado)"
   ]
  },
  {
   "cell_type": "code",
   "execution_count": 12,
   "metadata": {
    "colab": {
     "base_uri": "https://localhost:8080/",
     "height": 50
    },
    "colab_type": "code",
    "executionInfo": {
     "elapsed": 1204799,
     "status": "ok",
     "timestamp": 1591733112158,
     "user": {
      "displayName": "alura cursos",
      "photoUrl": "",
      "userId": "17957571670599323429"
     },
     "user_tz": 180
    },
    "id": "RdTMER3ckH-k",
    "outputId": "3b48e6fe-7688-432e-ca0c-9dd5a79cd9df"
   },
   "outputs": [
    {
     "name": "stdout",
     "output_type": "stream",
     "text": [
      "(90000, 300)\n",
      "(20513, 300)\n"
     ]
    }
   ],
   "source": [
    "matriz_vetores_treino_sg = matriz_vetores(artigo_treino.title, w2v_modelo_sg)\n",
    "matriz_vetores_teste_sg = matriz_vetores(artigo_teste.title, w2v_modelo_sg)\n",
    "print(matriz_vetores_treino_sg.shape)\n",
    "print(matriz_vetores_teste_sg.shape) "
   ]
  },
  {
   "cell_type": "code",
   "execution_count": 13,
   "metadata": {
    "colab": {
     "base_uri": "https://localhost:8080/",
     "height": 235
    },
    "colab_type": "code",
    "executionInfo": {
     "elapsed": 46298,
     "status": "ok",
     "timestamp": 1591733400463,
     "user": {
      "displayName": "alura cursos",
      "photoUrl": "",
      "userId": "17957571670599323429"
     },
     "user_tz": 180
    },
    "id": "f0o7aYHenWqS",
    "outputId": "498ec581-5719-43c1-a443-16bfe0e6adad"
   },
   "outputs": [
    {
     "name": "stdout",
     "output_type": "stream",
     "text": [
      "              precision    recall  f1-score   support\n",
      "\n",
      "     colunas       0.81      0.71      0.76      6103\n",
      "   cotidiano       0.64      0.81      0.71      1698\n",
      "     esporte       0.93      0.87      0.90      4663\n",
      "   ilustrada       0.14      0.87      0.24       131\n",
      "     mercado       0.84      0.79      0.82      5867\n",
      "       mundo       0.75      0.85      0.79      2051\n",
      "\n",
      "    accuracy                           0.79     20513\n",
      "   macro avg       0.69      0.82      0.71     20513\n",
      "weighted avg       0.82      0.79      0.80     20513\n",
      "\n"
     ]
    }
   ],
   "source": [
    "LR_sg = LogisticRegression(max_iter = 800)\n",
    "LR_sg.fit(matriz_vetores_treino_sg, artigo_treino.category)\n",
    "categorias_previsao_sg = LR_sg.predict(matriz_vetores_teste_sg)\n",
    "resultado_sg = classification_report(artigo_teste.category, categorias_previsao_sg)\n",
    "print(resultado_sg)"
   ]
  },
  {
   "cell_type": "code",
   "execution_count": 14,
   "metadata": {
    "colab": {},
    "colab_type": "code",
    "id": "at0nbMtQs35T"
   },
   "outputs": [],
   "source": [
    "import pickle\n",
    "\n",
    "with open(\"models/rl_cbow.pkl\", \"wb\") as f:\n",
    "    pickle.dump(LR_cbow, f)"
   ]
  },
  {
   "cell_type": "code",
   "execution_count": 15,
   "metadata": {
    "colab": {},
    "colab_type": "code",
    "id": "rRwdo0tXt-Po"
   },
   "outputs": [],
   "source": [
    "with open(\"models/rl_sg.pkl\", \"wb\") as f:\n",
    "    pickle.dump(LR_sg, f)"
   ]
  }
 ],
 "metadata": {
  "colab": {
   "authorship_tag": "ABX9TyNdnW1CAl9HZkx9ATzagd3u",
   "mount_file_id": "1R0y-Jqi4daRKqdiddOdD37o_r0FNfhn5",
   "name": "word2vec_classificador.ipynb",
   "provenance": []
  },
  "kernelspec": {
   "display_name": "Python 3 (ipykernel)",
   "language": "python",
   "name": "python3"
  },
  "language_info": {
   "codemirror_mode": {
    "name": "ipython",
    "version": 3
   },
   "file_extension": ".py",
   "mimetype": "text/x-python",
   "name": "python",
   "nbconvert_exporter": "python",
   "pygments_lexer": "ipython3",
   "version": "3.9.7"
  }
 },
 "nbformat": 4,
 "nbformat_minor": 1
}
